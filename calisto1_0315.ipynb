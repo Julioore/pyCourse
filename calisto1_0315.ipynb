{
  "nbformat": 4,
  "nbformat_minor": 0,
  "metadata": {
    "colab": {
      "name": "calisto1_0315.ipynb",
      "provenance": [],
      "authorship_tag": "ABX9TyP6vvIJd9gZX00IYKSIaoMs",
      "include_colab_link": true
    },
    "kernelspec": {
      "name": "python3",
      "display_name": "Python 3"
    },
    "language_info": {
      "name": "python"
    }
  },
  "cells": [
    {
      "cell_type": "markdown",
      "metadata": {
        "id": "view-in-github",
        "colab_type": "text"
      },
      "source": [
        "<a href=\"https://colab.research.google.com/github/financieras/pyCourse/blob/main/calisto1_0315.ipynb\" target=\"_parent\"><img src=\"https://colab.research.google.com/assets/colab-badge.svg\" alt=\"Open In Colab\"/></a>"
      ]
    },
    {
      "cell_type": "markdown",
      "source": [
        "# Operadores ternarios\n",
        "Son otra forma de codificar los condicionales ```if```...```else```"
      ],
      "metadata": {
        "id": "UDvp1-iBuciD"
      }
    },
    {
      "cell_type": "code",
      "execution_count": 11,
      "metadata": {
        "colab": {
          "base_uri": "https://localhost:8080/"
        },
        "id": "T6b-dAtXtsi-",
        "outputId": "4fa6c79a-9259-4950-c83c-b03ab72b7d12"
      },
      "outputs": [
        {
          "output_type": "stream",
          "name": "stdout",
          "text": [
            "es impar\n"
          ]
        }
      ],
      "source": [
        "# Un condicional típico\n",
        "\n",
        "x = 5\n",
        "\n",
        "if x%2:\n",
        "    print(\"es impar\")\n",
        "else:\n",
        "    print(\"es par\")"
      ]
    },
    {
      "cell_type": "code",
      "source": [
        "# Usando un operador ternario\n",
        "\n",
        "x = 5\n",
        "\n",
        "print('es impar') if x%2 else print('es par')"
      ],
      "metadata": {
        "colab": {
          "base_uri": "https://localhost:8080/"
        },
        "id": "y8SIQGBSvELN",
        "outputId": "0ea57e98-b9cd-4763-e4ff-aeff950bc5d9"
      },
      "execution_count": 12,
      "outputs": [
        {
          "output_type": "stream",
          "name": "stdout",
          "text": [
            "es impar\n"
          ]
        }
      ]
    },
    {
      "cell_type": "markdown",
      "source": [
        "## Sintaxis\n",
        "resultado_si_True ```if``` condición ```else``` resultado_si_False\n",
        "\n",
        "Se puede analizar una condición en una sola línea de código."
      ],
      "metadata": {
        "id": "imwHRa2Gvzve"
      }
    },
    {
      "cell_type": "markdown",
      "source": [
        "### Ejemplo sin print"
      ],
      "metadata": {
        "id": "45vDPQXZxBU5"
      }
    },
    {
      "cell_type": "code",
      "source": [
        "encendido = True\n",
        "estado = \"el led luce\" if encendido else \"el led está apagado\"\n",
        "estado"
      ],
      "metadata": {
        "colab": {
          "base_uri": "https://localhost:8080/",
          "height": 35
        },
        "id": "iUD1j653xEtA",
        "outputId": "e0efcfaa-c40f-4494-9931-24d91c1f1203"
      },
      "execution_count": 17,
      "outputs": [
        {
          "output_type": "execute_result",
          "data": {
            "text/plain": [
              "'el led luce'"
            ],
            "application/vnd.google.colaboratory.intrinsic+json": {
              "type": "string"
            }
          },
          "metadata": {},
          "execution_count": 17
        }
      ]
    },
    {
      "cell_type": "markdown",
      "source": [
        "## Asignación a una variable"
      ],
      "metadata": {
        "id": "9ZBbah6G1J1V"
      }
    },
    {
      "cell_type": "code",
      "source": [
        "edad = 20\n",
        "\n",
        "mayor = 'Si' if edad >= 18 else 'No'\n",
        "\n",
        "print(f\"{mayor} es mayor de edad\")"
      ],
      "metadata": {
        "colab": {
          "base_uri": "https://localhost:8080/"
        },
        "id": "bDtoPmxX1OEj",
        "outputId": "804d37e3-ea3d-4596-d7c6-25fdcf770db2"
      },
      "execution_count": 21,
      "outputs": [
        {
          "output_type": "stream",
          "name": "stdout",
          "text": [
            "Si es mayor de edad\n"
          ]
        }
      ]
    },
    {
      "cell_type": "markdown",
      "source": [
        "## Con una función\n",
        "La asignación de valor puede usarse en una función o un método."
      ],
      "metadata": {
        "id": "Fk92ElTR1-1T"
      }
    },
    {
      "cell_type": "code",
      "source": [
        "# este es el código sin aplicar el operador ternario\n",
        "\n",
        "def mayor(edad):\n",
        "    if edad >= 18:\n",
        "        return 'Si'\n",
        "    return 'No'\n",
        "\n",
        "edad = 16\n",
        "\n",
        "print(f\"{mayor(edad)} es mayor de edad\")"
      ],
      "metadata": {
        "colab": {
          "base_uri": "https://localhost:8080/"
        },
        "id": "Ha-08Hsj2OCk",
        "outputId": "ea4956df-dd5a-4e32-faae-cfdee8b46d5d"
      },
      "execution_count": 24,
      "outputs": [
        {
          "output_type": "stream",
          "name": "stdout",
          "text": [
            "No es mayor de edad\n"
          ]
        }
      ]
    },
    {
      "cell_type": "code",
      "source": [
        "# este es el código con el operador ternario\n",
        "\n",
        "def mayor(edad):\n",
        "    return 'Si' if edad >= 18 else 'No'\n",
        "\n",
        "edad = 16\n",
        "\n",
        "print(f\"{mayor(edad)} es mayor de edad\")"
      ],
      "metadata": {
        "colab": {
          "base_uri": "https://localhost:8080/"
        },
        "id": "oljlUHiC29W6",
        "outputId": "da425da6-a60a-4d09-d416-e3ae253cd432"
      },
      "execution_count": 31,
      "outputs": [
        {
          "output_type": "stream",
          "name": "stdout",
          "text": [
            "No es mayor de edad\n"
          ]
        }
      ]
    },
    {
      "cell_type": "markdown",
      "source": [
        "La función ahora tiene un único ```return``` que devuelve el resultado de anlizar el operador ternario."
      ],
      "metadata": {
        "id": "IxN07YiA4JQX"
      }
    }
  ]
}