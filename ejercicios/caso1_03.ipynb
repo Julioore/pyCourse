{
  "nbformat": 4,
  "nbformat_minor": 0,
  "metadata": {
    "colab": {
      "name": "caso1.03.ipynb",
      "provenance": [],
      "authorship_tag": "ABX9TyObp5xARMo+x7nNgCV+xKoW",
      "include_colab_link": true
    },
    "kernelspec": {
      "name": "python3",
      "display_name": "Python 3"
    },
    "language_info": {
      "name": "python"
    }
  },
  "cells": [
    {
      "cell_type": "markdown",
      "metadata": {
        "id": "view-in-github",
        "colab_type": "text"
      },
      "source": [
        "<a href=\"https://colab.research.google.com/github/financieras/pyCourse/blob/main/ejercicios/caso1_03.ipynb\" target=\"_parent\"><img src=\"https://colab.research.google.com/assets/colab-badge.svg\" alt=\"Open In Colab\"/></a>"
      ]
    },
    {
      "cell_type": "code",
      "execution_count": null,
      "metadata": {
        "id": "Mwo-ouacOlaO"
      },
      "outputs": [],
      "source": [
        ""
      ]
    },
    {
      "cell_type": "markdown",
      "source": [
        "# Reto 1\n",
        "\n",
        "Pedir al usuario dos números y decir cuál es el mayor, el menor o si son iguales.\n"
      ],
      "metadata": {
        "id": "wRAQYCocP6gN"
      }
    },
    {
      "cell_type": "code",
      "source": [
        "a = float(input(\"Indique el primer número: \"))\n",
        "b = float(input(\"Indique el segundo número: \"))\n",
        "if a > b:\n",
        "    print(f\"El mayor es {a} y el menor es {b}.\")\n",
        "elif b > a:\n",
        "    print(f\"El mayor es {b} y el menor es {a}.\")\n",
        "else:\n",
        "    print(\"Son iguales.\")"
      ],
      "metadata": {
        "id": "qRvTnxTKP6GL"
      },
      "execution_count": null,
      "outputs": []
    },
    {
      "cell_type": "markdown",
      "source": [
        "# Reto 2\n",
        "\n",
        "Pedir un número e imprimir su doble. Seguir pidiendo números hasta que se introduzca un cero.\n"
      ],
      "metadata": {
        "id": "UYavo0-nQHTe"
      }
    },
    {
      "cell_type": "code",
      "source": [
        "while True:\n",
        "    n = float(input(\"Indique el número que desea doblar: \"))\n",
        "    if n == 0:\n",
        "        print(\"Fin del programa.\")\n",
        "        break\n",
        "    print(f\"El doble de {n} es {2*n}.\")"
      ],
      "metadata": {
        "id": "ULsYLlYKQN53"
      },
      "execution_count": null,
      "outputs": []
    },
    {
      "cell_type": "markdown",
      "source": [
        "# Reto 3\n",
        "\n",
        "Pedir un número e imprimir su doble. Seguir pidiendo números hasta que se introduzca un cero o no sea numérico.\n"
      ],
      "metadata": {
        "id": "ocLUD_3LQS95"
      }
    },
    {
      "cell_type": "code",
      "source": [
        "while True:\n",
        "    str = input(\"Indique el número que desea doblar: \")\n",
        "    try:\n",
        "        n = float(str)\n",
        "        if n == 0:\n",
        "            print(\"Se ha introducido un cero.\\nFin del programa.\")\n",
        "            break\n",
        "        else:\n",
        "            print(f\"El doble de {n} es {2*n}.\")\n",
        "    except:\n",
        "        print(\"Se ha introducido un carácter no válido. \\nFin del programa.\")\n",
        "        break"
      ],
      "metadata": {
        "id": "F3jmD1buQYDR"
      },
      "execution_count": null,
      "outputs": []
    }
  ]
}