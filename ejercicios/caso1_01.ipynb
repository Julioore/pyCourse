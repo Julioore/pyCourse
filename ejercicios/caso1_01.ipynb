{
  "nbformat": 4,
  "nbformat_minor": 0,
  "metadata": {
    "colab": {
      "name": "caso1.01.ipynb",
      "provenance": [],
      "authorship_tag": "ABX9TyOvao0Ya6EzDPluJJm3Onaq",
      "include_colab_link": true
    },
    "kernelspec": {
      "name": "python3",
      "display_name": "Python 3"
    },
    "language_info": {
      "name": "python"
    }
  },
  "cells": [
    {
      "cell_type": "markdown",
      "metadata": {
        "id": "view-in-github",
        "colab_type": "text"
      },
      "source": [
        "<a href=\"https://colab.research.google.com/github/financieras/pyCourse/blob/main/ejercicios/caso1_01.ipynb\" target=\"_parent\"><img src=\"https://colab.research.google.com/assets/colab-badge.svg\" alt=\"Open In Colab\"/></a>"
      ]
    },
    {
      "cell_type": "code",
      "execution_count": null,
      "metadata": {
        "id": "SPN8y42GN4g0"
      },
      "outputs": [],
      "source": [
        ""
      ]
    },
    {
      "cell_type": "markdown",
      "metadata": {
        "id": "da1a5cab"
      },
      "source": [
        "# Reto 1\n",
        "Imprimir los números entre -5 y 5."
      ]
    },
    {
      "cell_type": "code",
      "execution_count": null,
      "metadata": {
        "id": "5eadc27f"
      },
      "outputs": [],
      "source": [
        "for i in range(-5,6):\n",
        "    print(i)"
      ]
    },
    {
      "cell_type": "markdown",
      "metadata": {
        "id": "db647a0b"
      },
      "source": [
        "# Reto 2\n",
        "Elevar 5 al cubo."
      ]
    },
    {
      "cell_type": "markdown",
      "metadata": {
        "id": "c37ba486"
      },
      "source": [
        "## Método 1"
      ]
    },
    {
      "cell_type": "code",
      "execution_count": null,
      "metadata": {
        "id": "1b7c4c0a"
      },
      "outputs": [],
      "source": [
        "print(5**3)"
      ]
    },
    {
      "cell_type": "markdown",
      "metadata": {
        "id": "9d22b0ca"
      },
      "source": [
        "## Método 2"
      ]
    },
    {
      "cell_type": "code",
      "execution_count": null,
      "metadata": {
        "id": "46de504e"
      },
      "outputs": [],
      "source": [
        "from math import pow\n",
        "print(pow(5,3))"
      ]
    },
    {
      "cell_type": "markdown",
      "metadata": {
        "id": "72f4beff"
      },
      "source": [
        "# Reto 3\n",
        "Usando funciones generar los dobles de los números entre 5 y 10."
      ]
    },
    {
      "cell_type": "code",
      "execution_count": null,
      "metadata": {
        "id": "1a74e3fd"
      },
      "outputs": [],
      "source": [
        "def doble(n):\n",
        "    return 2*n\n",
        "\n",
        "for i in range(5,11):\n",
        "    print(doble(i))        # invocamos la función con el argumento que toca"
      ]
    }
  ]
}