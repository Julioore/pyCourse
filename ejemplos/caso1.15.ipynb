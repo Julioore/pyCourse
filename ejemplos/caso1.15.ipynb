{
 "cells": [
  {
   "cell_type": "markdown",
   "id": "b1ce0729",
   "metadata": {},
   "source": [
    "# Reto 1\n",
    "Genere 10 números aleatorios y diga si cada uno de ellos es par o impar."
   ]
  },
  {
   "cell_type": "code",
   "execution_count": null,
   "id": "a817210d",
   "metadata": {},
   "outputs": [],
   "source": [
    "from random import randint\n",
    "for i in range(10):\n",
    "    n = randint(-30,30)\n",
    "    if n%2:                               # no se iguala a nada pq si es 0 equivale a False y si es 1 es True\n",
    "        print(f\"El número {n} es impar.\")\n",
    "    else:\n",
    "        print(f\"El número {n} es par.\")"
   ]
  },
  {
   "cell_type": "markdown",
   "id": "28f8fd7d",
   "metadata": {},
   "source": [
    "# Reto 2\n",
    "Generar una lista de números enteros aleatorios. Descomponer la lista anterior en dos dos listas, una que contenga los números múltiplos de 3 y otra con el reso."
   ]
  },
  {
   "cell_type": "code",
   "execution_count": null,
   "id": "8085d113",
   "metadata": {},
   "outputs": [],
   "source": [
    "import random\n",
    "\n",
    "lista = list(range(10,41))                    # creamos una lista con los números correlativos entre 10 y 40\n",
    "lista_original = random.choices(lista, k=15)  # elegimos aleatoriamente 15 números de la lista con posible repetición\n",
    "print(\"Lista original:         \", lista_original)\n",
    "lista_original.sort()\n",
    "print(\"Lista original ordenada:\", lista_original)\n",
    "lista_multiplos_de_3 = []\n",
    "lista_resto = []\n",
    "\n",
    "for i in lista_original:\n",
    "    if i%3:\n",
    "        lista_resto.append(i)\n",
    "    else:\n",
    "        lista_multiplos_de_3.append(i)\n",
    "\n",
    "print(\"Lista con los múltiplos de tres:\",lista_multiplos_de_3)\n",
    "print(\"Lista con el resto de valores:  \",lista_resto)"
   ]
  },
  {
   "cell_type": "markdown",
   "id": "7e25de5d",
   "metadata": {},
   "source": [
    "# Reto 3\n",
    "Dada una lista de números enteros, eliminar repetidos y ordenar la lista."
   ]
  },
  {
   "cell_type": "code",
   "execution_count": null,
   "id": "beb9fb3b",
   "metadata": {},
   "outputs": [],
   "source": [
    "lista = [30, 23, 19, 38, 20, 18, 23, 15, 40, 38, 16, 35, 27, 40, 28]\n",
    "lista.sort()\n",
    "print(\"Lista con posibles repetidos:\", lista)\n",
    "# los conjuntos (set) no admiten repetidos por lo que es una forma de eliminarlos\n",
    "lista=list(set(lista))                        # convertimos la lista en un set (conjunto) y luego otra vez en lista\n",
    "lista.sort()                                  # es necesario volver a ordenar pq en los set el orden no importa\n",
    "print(\"Lista limpia sin repetidos:  \", lista)"
   ]
  },
  {
   "cell_type": "markdown",
   "id": "d59a8949",
   "metadata": {},
   "source": [
    "# Reto 4\n",
    "Dada una lista con los números del 1 al 100 sumar sus valores."
   ]
  },
  {
   "cell_type": "code",
   "execution_count": null,
   "id": "badb1e07",
   "metadata": {},
   "outputs": [],
   "source": [
    "lista = list(range(1,101))\n",
    "sum(lista)"
   ]
  }
 ],
 "metadata": {
  "kernelspec": {
   "display_name": "Python 3",
   "language": "python",
   "name": "python3"
  },
  "language_info": {
   "codemirror_mode": {
    "name": "ipython",
    "version": 3
   },
   "file_extension": ".py",
   "mimetype": "text/x-python",
   "name": "python",
   "nbconvert_exporter": "python",
   "pygments_lexer": "ipython3",
   "version": "3.8.8"
  }
 },
 "nbformat": 4,
 "nbformat_minor": 5
}
