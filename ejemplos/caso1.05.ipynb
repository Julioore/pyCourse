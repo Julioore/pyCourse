{
  "cells": [
    {
      "cell_type": "markdown",
      "metadata": {
        "id": "view-in-github",
        "colab_type": "text"
      },
      "source": [
        "<a href=\"https://colab.research.google.com/github/financieras/pyCourse/blob/main/ejemplos/caso1.05.ipynb\" target=\"_parent\"><img src=\"https://colab.research.google.com/assets/colab-badge.svg\" alt=\"Open In Colab\"/></a>"
      ]
    },
    {
      "cell_type": "markdown",
      "id": "6f307ab2",
      "metadata": {
        "id": "6f307ab2"
      },
      "source": [
        "# Reto 1\n",
        "Pedir al usuario un número entero, si no es entero seguir pidiendo valores."
      ]
    },
    {
      "cell_type": "code",
      "execution_count": null,
      "id": "63036147",
      "metadata": {
        "id": "63036147"
      },
      "outputs": [],
      "source": [
        "while True:\n",
        "    valor = input(\"Ingrese un número entero: \")\n",
        "    try:\n",
        "        valor = int(valor)\n",
        "        print(valor)\n",
        "        break\n",
        "    except ValueError:\n",
        "        print(\"Debe ingresar un número entero.\")"
      ]
    },
    {
      "cell_type": "markdown",
      "id": "86965716",
      "metadata": {
        "id": "86965716"
      },
      "source": [
        "# Reto 2\n",
        "Dividir dos números. Si el denominador es cero avisar y pedir otro."
      ]
    },
    {
      "cell_type": "markdown",
      "id": "41917afa",
      "metadata": {
        "id": "41917afa"
      },
      "source": [
        "## Método 1"
      ]
    },
    {
      "cell_type": "code",
      "execution_count": null,
      "id": "f84654ae",
      "metadata": {
        "id": "f84654ae"
      },
      "outputs": [],
      "source": [
        "while True:\n",
        "    a = 12        # numerador\n",
        "    try:\n",
        "        b = float(input(\"Ingrese el denominador:\"))\n",
        "        print(a/b)\n",
        "        break\n",
        "    except ZeroDivisionError:\n",
        "        print(\"El denominador no puede ser cero. Pruebe otra vez.\")"
      ]
    },
    {
      "cell_type": "markdown",
      "id": "947cc177",
      "metadata": {
        "id": "947cc177"
      },
      "source": [
        "## Método 2"
      ]
    },
    {
      "cell_type": "code",
      "execution_count": null,
      "id": "2851b871",
      "metadata": {
        "id": "2851b871"
      },
      "outputs": [],
      "source": [
        "valido = False           # inicializamos el booleano 'valido' para que sea False y la primera vez se entre al bucle\n",
        "\n",
        "while not valido:        # la primera vez es seguro que entramos al bucle\n",
        "    a = 12\n",
        "    try:\n",
        "        b = float(input(\"Ingrese el denominador:\"))\n",
        "        print(a/b)\n",
        "        valido = True    # cambiamos el valor del booleano para evitar entrar nuevamente al bucle. Con esto salimos\n",
        "    except ZeroDivisionError:\n",
        "        print(\"El denominador no puede ser cero. Pruebe otra vez.\")\n",
        "    except ValueError:   # así evitamos que el denominador sea un str\n",
        "        print(\"El denominador debe ser un número valido. Pruebe otra vez.\")"
      ]
    }
  ],
  "metadata": {
    "kernelspec": {
      "display_name": "Python 3",
      "language": "python",
      "name": "python3"
    },
    "language_info": {
      "codemirror_mode": {
        "name": "ipython",
        "version": 3
      },
      "file_extension": ".py",
      "mimetype": "text/x-python",
      "name": "python",
      "nbconvert_exporter": "python",
      "pygments_lexer": "ipython3",
      "version": "3.8.8"
    },
    "colab": {
      "name": "caso1.05.ipynb",
      "provenance": [],
      "include_colab_link": true
    }
  },
  "nbformat": 4,
  "nbformat_minor": 5
}