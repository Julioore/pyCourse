{
 "cells": [
  {
   "cell_type": "markdown",
   "id": "978de251",
   "metadata": {},
   "source": [
    "# Reto 1\n",
    "Generar 30 listas de longitud 10, que contengan números enteros aleatorios entre 1 y 9."
   ]
  },
  {
   "cell_type": "code",
   "execution_count": null,
   "id": "1bc5fac3",
   "metadata": {},
   "outputs": [],
   "source": [
    "import random\n",
    "random.seed()\n",
    "\n",
    "for i in range(30):\n",
    "    print([random.randint(1,9) for _ in range(10)])"
   ]
  },
  {
   "cell_type": "markdown",
   "id": "5080a340",
   "metadata": {},
   "source": [
    "# Reto 2\n",
    "Generar continuamente listas con números aleatorios hasta obtener 30 de ellas que cumplan que la suma de todos sus elementos es cero."
   ]
  },
  {
   "cell_type": "code",
   "execution_count": null,
   "id": "f76be9ea",
   "metadata": {},
   "outputs": [],
   "source": [
    "import random\n",
    "random.seed()\n",
    "\n",
    "contador = 0\n",
    "while contador<=30:\n",
    "    lista = [random.randint(-9,9) for _ in range(10)]\n",
    "    if sum(lista)==0:\n",
    "        print(lista, \"Suma=\", sum(lista))\n",
    "        contador += 1"
   ]
  },
  {
   "cell_type": "markdown",
   "id": "a5ebf023",
   "metadata": {},
   "source": [
    "# Reto 3\n",
    "Calcular cuanto tiempo se tarda en generar 30 listas de 10 elementos cada una. Los elementos son números aleatorios enteros entre 1 y 9. Se debe cumplir que la media de los elementos de la lista sea inferior a 2, en caso contrario se desecha la lista.\n",
    "\n",
    "Nota: si tarda mucho en lugar de poner una media de 2, ponerla de 3."
   ]
  },
  {
   "cell_type": "markdown",
   "id": "823ebfcd",
   "metadata": {},
   "source": [
    "## Solución\n",
    "[¿Cuánto tiempo tarda un proceso en Python?](https://altocodigo.blogspot.com/2018/03/cuanto-tiempo-tarda-un-proceso-en-python.html)"
   ]
  },
  {
   "cell_type": "code",
   "execution_count": null,
   "id": "029f6e00",
   "metadata": {},
   "outputs": [],
   "source": [
    "import random\n",
    "random.seed()\n",
    "\n",
    "#al inicio ponemos las dos siguientes líneas\n",
    "from datetime import datetime\n",
    "fecha1=datetime.now()\n",
    "\n",
    "for i in range(30):\n",
    "    while True:\n",
    "        lista = [random.randint(1,9) for _ in range(10)]\n",
    "        if sum(lista)/10<2:\n",
    "            print(lista)\n",
    "            break\n",
    "\n",
    "#al final ponemos las tres siguientes líneas\n",
    "fecha2=datetime.now()\n",
    "diferencia=fecha2-fecha1\n",
    "print(diferencia.seconds, \"segundos\")"
   ]
  }
 ],
 "metadata": {
  "kernelspec": {
   "display_name": "Python 3",
   "language": "python",
   "name": "python3"
  },
  "language_info": {
   "codemirror_mode": {
    "name": "ipython",
    "version": 3
   },
   "file_extension": ".py",
   "mimetype": "text/x-python",
   "name": "python",
   "nbconvert_exporter": "python",
   "pygments_lexer": "ipython3",
   "version": "3.8.8"
  }
 },
 "nbformat": 4,
 "nbformat_minor": 5
}
