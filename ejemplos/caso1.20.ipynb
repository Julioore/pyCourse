{
  "cells": [
    {
      "cell_type": "markdown",
      "metadata": {
        "id": "view-in-github",
        "colab_type": "text"
      },
      "source": [
        "<a href=\"https://colab.research.google.com/github/financieras/pyCourse/blob/main/ejemplos/caso1.20.ipynb\" target=\"_parent\"><img src=\"https://colab.research.google.com/assets/colab-badge.svg\" alt=\"Open In Colab\"/></a>"
      ]
    },
    {
      "cell_type": "markdown",
      "id": "978de251",
      "metadata": {
        "id": "978de251"
      },
      "source": [
        "# Reto 1\n",
        "Generar 30 listas de longitud 10, que contengan números enteros aleatorios entre 1 y 9."
      ]
    },
    {
      "cell_type": "code",
      "execution_count": null,
      "id": "1bc5fac3",
      "metadata": {
        "id": "1bc5fac3"
      },
      "outputs": [],
      "source": [
        "import random\n",
        "random.seed()\n",
        "\n",
        "for i in range(30):\n",
        "    print([random.randint(1,9) for _ in range(10)])"
      ]
    },
    {
      "cell_type": "markdown",
      "id": "5080a340",
      "metadata": {
        "id": "5080a340"
      },
      "source": [
        "# Reto 2\n",
        "Generar continuamente listas con números aleatorios hasta obtener 30 de ellas que cumplan que la suma de todos sus elementos es cero."
      ]
    },
    {
      "cell_type": "code",
      "execution_count": null,
      "id": "f76be9ea",
      "metadata": {
        "id": "f76be9ea"
      },
      "outputs": [],
      "source": [
        "import random\n",
        "random.seed()\n",
        "\n",
        "contador = 0\n",
        "while contador<=30:\n",
        "    lista = [random.randint(-9,9) for _ in range(10)]\n",
        "    if sum(lista)==0:\n",
        "        print(lista, \"Suma=\", sum(lista))\n",
        "        contador += 1"
      ]
    },
    {
      "cell_type": "markdown",
      "id": "a5ebf023",
      "metadata": {
        "id": "a5ebf023"
      },
      "source": [
        "# Reto 3\n",
        "Calcular cuánto tiempo se tarda en generar 30 listas de 10 elementos cada una. Los elementos son números aleatorios enteros entre 1 y 9. Se debe cumplir que la media de los elementos de la lista sea inferior a 2, en caso contrario se desecha la lista.\n",
        "\n",
        "Nota: si tarda mucho en lugar de poner una media de 2, póngala de 3."
      ]
    },
    {
      "cell_type": "markdown",
      "id": "823ebfcd",
      "metadata": {
        "id": "823ebfcd"
      },
      "source": [
        "## Solución\n",
        "[¿Cuánto tiempo tarda un proceso en Python?](https://altocodigo.blogspot.com/2018/03/cuanto-tiempo-tarda-un-proceso-en-python.html)"
      ]
    },
    {
      "cell_type": "code",
      "execution_count": null,
      "id": "029f6e00",
      "metadata": {
        "id": "029f6e00"
      },
      "outputs": [],
      "source": [
        "import random\n",
        "random.seed()\n",
        "\n",
        "# al inicio ponemos las dos siguientes líneas\n",
        "from datetime import datetime\n",
        "fecha1=datetime.now()\n",
        "\n",
        "for i in range(30):\n",
        "    while True:\n",
        "        lista = [random.randint(1,9) for _ in range(10)]\n",
        "        if sum(lista)/10<2:\n",
        "            print(lista)\n",
        "            break\n",
        "\n",
        "# al final ponemos las tres siguientes líneas\n",
        "fecha2=datetime.now()\n",
        "diferencia=fecha2-fecha1\n",
        "print(diferencia.seconds, \"segundos\")"
      ]
    }
  ],
  "metadata": {
    "kernelspec": {
      "display_name": "Python 3",
      "language": "python",
      "name": "python3"
    },
    "language_info": {
      "codemirror_mode": {
        "name": "ipython",
        "version": 3
      },
      "file_extension": ".py",
      "mimetype": "text/x-python",
      "name": "python",
      "nbconvert_exporter": "python",
      "pygments_lexer": "ipython3",
      "version": "3.8.8"
    },
    "colab": {
      "name": "caso1.20.ipynb",
      "provenance": [],
      "include_colab_link": true
    }
  },
  "nbformat": 4,
  "nbformat_minor": 5
}