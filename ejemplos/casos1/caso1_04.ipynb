{
  "cells": [
    {
      "cell_type": "markdown",
      "metadata": {
        "id": "view-in-github",
        "colab_type": "text"
      },
      "source": [
        "<a href=\"https://colab.research.google.com/github/financieras/pyCourse/blob/main/ejemplos/caso1.04.ipynb\" target=\"_parent\"><img src=\"https://colab.research.google.com/assets/colab-badge.svg\" alt=\"Open In Colab\"/></a>"
      ]
    },
    {
      "cell_type": "markdown",
      "id": "9bed1a24",
      "metadata": {
        "id": "9bed1a24"
      },
      "source": [
        "# Reto 1\n",
        "Acumular.\n",
        "\n",
        "Generar una lista con los números del 10 al 20 y sumar los múltiplos de 3."
      ]
    },
    {
      "cell_type": "code",
      "execution_count": null,
      "id": "4076e537",
      "metadata": {
        "id": "4076e537"
      },
      "outputs": [],
      "source": [
        "total = 0                         # inicializamos la variable que servirá de acumulador\n",
        "mirango = range(10,21)\n",
        "print(mirango)\n",
        "print(type(mirango))\n",
        "print(list(mirango))\n",
        "print(type(list(mirango)))\n",
        "\n",
        "for i in mirango:\n",
        "    if i%3 == 0:\n",
        "        total += i                # acumulamos los valores que cumplen el criterio\n",
        "                                  # equivale a:   total = total + i\n",
        "        \n",
        "print(\"La suma de los múltiplos de 3 es:\", total)"
      ]
    },
    {
      "cell_type": "markdown",
      "id": "57a87490",
      "metadata": {
        "id": "57a87490"
      },
      "source": [
        "# Reto 2\n",
        "Media.\n",
        "\n",
        "Generar una lista con los números del 10 al 20 y calcular la media de los múltiplos de 3."
      ]
    },
    {
      "cell_type": "markdown",
      "id": "28d638df",
      "metadata": {
        "id": "28d638df"
      },
      "source": [
        "## Método 1"
      ]
    },
    {
      "cell_type": "code",
      "execution_count": null,
      "id": "5363354a",
      "metadata": {
        "id": "5363354a"
      },
      "outputs": [],
      "source": [
        "total = 0\n",
        "contador = 0                      # inicializamos el contador\n",
        "\n",
        "for i in range(10,21):\n",
        "    if i%3==0:\n",
        "        contador += 1             # esto es un contador que se incrementa de 1 en 1\n",
        "        total += i                # acumulamos los valores que cumplen el criterio\n",
        "        \n",
        "print(\"La media de los múltiplos de 3 es:\", total/contador)"
      ]
    },
    {
      "cell_type": "markdown",
      "id": "4f92907d",
      "metadata": {
        "id": "4f92907d"
      },
      "source": [
        "## Método 2"
      ]
    },
    {
      "cell_type": "code",
      "execution_count": null,
      "id": "b11afb55",
      "metadata": {
        "id": "b11afb55"
      },
      "outputs": [],
      "source": [
        "total = 0\n",
        "for i in range(12,21,3):\n",
        "    total += i\n",
        "        \n",
        "print(\"La media de los múltiplos de 3 es:\", total/len(range(12,21,3)))"
      ]
    },
    {
      "cell_type": "markdown",
      "id": "d51b2d01",
      "metadata": {
        "id": "d51b2d01"
      },
      "source": [
        "# Reto 3\n",
        "¿Cuántos superan cierto umbral?\n",
        "\n",
        "Generar 10 números aleatorios entre 1 y 10 y decir cuantos son mayores o iguales a 6."
      ]
    },
    {
      "cell_type": "code",
      "execution_count": null,
      "id": "88ace71a",
      "metadata": {
        "id": "88ace71a"
      },
      "outputs": [],
      "source": [
        "from random import randint      # de la librería random importamos la función randint\n",
        "\n",
        "contador = 0\n",
        "for i in range(10):\n",
        "    n = randint(1,10)\n",
        "    print(n)\n",
        "    if n >= 6:\n",
        "        contador += 1\n",
        "        \n",
        "print(f\"Los mayores o iguales a 6 son {contador}.\")"
      ]
    },
    {
      "cell_type": "markdown",
      "source": [
        "# Reto 4\n",
        "* Pedir al usuario números enteros y seguir pidiendo hasta que introduzca un cero.\n",
        "* Ir imprimiendo los dobles de los numeros introducidos."
      ],
      "metadata": {
        "id": "a8OaFeB4V9-x"
      },
      "id": "a8OaFeB4V9-x"
    },
    {
      "cell_type": "markdown",
      "source": [
        "## Método 1\n",
        "Duplicando el `input`."
      ],
      "metadata": {
        "id": "XmE2HBTTXgOI"
      },
      "id": "XmE2HBTTXgOI"
    },
    {
      "cell_type": "code",
      "source": [
        "n = int(input(\"Indique un número entero: \"))\n",
        "while n != 0:\n",
        "    print(f\"El doble de {n} es {2*n}.\")\n",
        "    n = int(input(\"Indique un número entero: \"))\n",
        "\n",
        "print(\"Fin del programa, ya que se introdujo un cero.\")"
      ],
      "metadata": {
        "id": "sinRbcIMWOIi"
      },
      "id": "sinRbcIMWOIi",
      "execution_count": null,
      "outputs": []
    },
    {
      "cell_type": "markdown",
      "source": [
        "## Método 2"
      ],
      "metadata": {
        "id": "9J8WtUFHXw2y"
      },
      "id": "9J8WtUFHXw2y"
    },
    {
      "cell_type": "code",
      "source": [
        "while True:\n",
        "    n = int(input(\"Indique un número entero: \"))\n",
        "    if n == 0:\n",
        "        break\n",
        "    else:\n",
        "        print(f\"El doble de {n} es {2*n}.\")\n",
        "    \n",
        "print(\"Fin del programa, ya que se introdujo un cero.\")"
      ],
      "metadata": {
        "id": "QGAc0JVfY0t9"
      },
      "id": "QGAc0JVfY0t9",
      "execution_count": null,
      "outputs": []
    },
    {
      "cell_type": "markdown",
      "source": [
        "## Método 3\n",
        "Si usar `else`."
      ],
      "metadata": {
        "id": "fuhrS4pzZiaS"
      },
      "id": "fuhrS4pzZiaS"
    },
    {
      "cell_type": "code",
      "source": [
        "while True:\n",
        "    n = int(input(\"Indique un número entero: \"))\n",
        "    if n == 0:\n",
        "        break\n",
        "    print(f\"El doble de {n} es {2*n}.\")\n",
        "    \n",
        "print(\"Fin del programa, ya que se introdujo un cero.\")"
      ],
      "metadata": {
        "id": "xwca07L1Zpxl"
      },
      "id": "xwca07L1Zpxl",
      "execution_count": null,
      "outputs": []
    }
  ],
  "metadata": {
    "kernelspec": {
      "display_name": "Python 3",
      "language": "python",
      "name": "python3"
    },
    "language_info": {
      "codemirror_mode": {
        "name": "ipython",
        "version": 3
      },
      "file_extension": ".py",
      "mimetype": "text/x-python",
      "name": "python",
      "nbconvert_exporter": "python",
      "pygments_lexer": "ipython3",
      "version": "3.8.8"
    },
    "colab": {
      "name": "caso1.04.ipynb",
      "provenance": [],
      "include_colab_link": true
    }
  },
  "nbformat": 4,
  "nbformat_minor": 5
}