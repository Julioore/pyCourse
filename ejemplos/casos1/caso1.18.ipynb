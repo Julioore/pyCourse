{
  "cells": [
    {
      "cell_type": "markdown",
      "metadata": {
        "id": "view-in-github",
        "colab_type": "text"
      },
      "source": [
        "<a href=\"https://colab.research.google.com/github/financieras/pyCourse/blob/main/ejemplos/caso1.18.ipynb\" target=\"_parent\"><img src=\"https://colab.research.google.com/assets/colab-badge.svg\" alt=\"Open In Colab\"/></a>"
      ]
    },
    {
      "cell_type": "markdown",
      "id": "ac8249f4",
      "metadata": {
        "id": "ac8249f4"
      },
      "source": [
        "# Reto 1\n",
        "Generar una lista de 10 números aleatorios entre -99 y +99."
      ]
    },
    {
      "cell_type": "markdown",
      "id": "103f9b76",
      "metadata": {
        "id": "103f9b76"
      },
      "source": [
        "## Método 1"
      ]
    },
    {
      "cell_type": "code",
      "execution_count": null,
      "id": "ab951e16",
      "metadata": {
        "id": "ab951e16"
      },
      "outputs": [],
      "source": [
        "import random\n",
        "lista = []\n",
        "for i in range(10):\n",
        "    lista.append(random.randint(-99,99))\n",
        "\n",
        "print(lista)"
      ]
    },
    {
      "cell_type": "markdown",
      "id": "6535696e",
      "metadata": {
        "id": "6535696e"
      },
      "source": [
        "## Método 2\n",
        "Usando listas comprimidas (list comprehension).  \n",
        "En el ```for``` la variable en lugar de ser i, j o cualquier otra variable hemos usado el guion bajo (\\_) que se puede hacer, y es una variable más como cualquier otra. Se suele emplear en un ```for``` cuando se quiere indicar que luego esa variable no se usará para nada más, es simplemente una variable auxiliar necesaria para el ```for```."
      ]
    },
    {
      "cell_type": "code",
      "execution_count": null,
      "id": "7e49585b",
      "metadata": {
        "id": "7e49585b"
      },
      "outputs": [],
      "source": [
        "from random import randint\n",
        "\n",
        "[randint(-99,99) for _ in range(10)]           # un método muy rápido para generar listas de aleatorios"
      ]
    },
    {
      "cell_type": "markdown",
      "id": "b60a168e",
      "metadata": {
        "id": "b60a168e"
      },
      "source": [
        "## Método 3\n",
        "```random.sample``` genera números aleatorios **sin repetición**."
      ]
    },
    {
      "cell_type": "code",
      "execution_count": null,
      "id": "f1e21d5b",
      "metadata": {
        "id": "f1e21d5b"
      },
      "outputs": [],
      "source": [
        "import random\n",
        "\n",
        "lista = random.sample(range(-99, 99), 10)      # otro método muy rápido para generar listas de aleatorios\n",
        "lista.sort()\n",
        "print(lista)"
      ]
    },
    {
      "cell_type": "markdown",
      "id": "f317184c",
      "metadata": {
        "id": "f317184c"
      },
      "source": [
        "# Reto 2\n",
        "Generar 15 listas de números aleatorios de longitud variable. La longitud de la lista varía entre 2 y 10 elementos."
      ]
    },
    {
      "cell_type": "code",
      "execution_count": null,
      "id": "1d698c49",
      "metadata": {
        "id": "1d698c49"
      },
      "outputs": [],
      "source": [
        "import random\n",
        "random.seed()\n",
        "for i in range(15):\n",
        "    lista = []\n",
        "    for j in range(random.randint(2,10)):\n",
        "        lista.append(random.randint(-9,9))\n",
        "    print(lista)"
      ]
    },
    {
      "cell_type": "markdown",
      "id": "ac3c2467",
      "metadata": {
        "id": "ac3c2467"
      },
      "source": [
        "# Reto 3\n",
        "Generar listas de números aleatorios de longitud variable. La longitud de la lista varía entre 2 y 10 elementos. Se seguirán generando listas hasta que se obtenga una donde la suma de sus elementos es cero."
      ]
    },
    {
      "cell_type": "code",
      "execution_count": null,
      "id": "0e0bf846",
      "metadata": {
        "id": "0e0bf846"
      },
      "outputs": [],
      "source": [
        "import random\n",
        "random.seed()\n",
        "while True:\n",
        "    lista = []\n",
        "    for j in range(random.randint(2,10)):\n",
        "        lista.append(random.randint(-9,9))\n",
        "    print(lista)\n",
        "    if sum(lista)==0:\n",
        "        print(\"La suma de los elementos de la última lista es cero.\")\n",
        "        print(\"Fin del programa.\")\n",
        "        break"
      ]
    },
    {
      "cell_type": "markdown",
      "id": "5f63be60",
      "metadata": {
        "id": "5f63be60"
      },
      "source": [
        "# Reto 4\n",
        "Dada una lista de 6 números enteros obtener el resultado de sumar todas las posibles parejas."
      ]
    },
    {
      "cell_type": "code",
      "execution_count": null,
      "id": "e31f55c3",
      "metadata": {
        "id": "e31f55c3"
      },
      "outputs": [],
      "source": [
        "lista = [10,20,30,40,50,60]\n",
        "n = len(lista)\n",
        "for i in range(n):\n",
        "    print(\"_\"*30)\n",
        "    for j in range(i+1,n):            # j empieza en i+1\n",
        "        n1 = lista[i]\n",
        "        n2 = lista[j]\n",
        "        print(f\"Suma: {n1} + {n2} = {n1+n2}. i={i} j={j}\")"
      ]
    },
    {
      "cell_type": "markdown",
      "id": "d88a7271",
      "metadata": {
        "id": "d88a7271"
      },
      "source": [
        "# Reto 5\n",
        "Generar listas de 10 números aleatorios enteros entre -9 y +9. La lista generada se mostrará en pantalla únicamente si la suma de todos sus elementos es igual a cero, en caso contrario la lista se desecha y no se muestra en pantalla. Mostrar en pantalla 30 listas que cumplan este criterio."
      ]
    },
    {
      "cell_type": "code",
      "execution_count": null,
      "id": "be0be60d",
      "metadata": {
        "id": "be0be60d"
      },
      "outputs": [],
      "source": [
        "from random import randint, seed\n",
        "seed()\n",
        "\n",
        "def generaLista():\n",
        "    return [randint(-9,9) for _ in range(10)]\n",
        "\n",
        "def main():\n",
        "    contador = 0\n",
        "    generadas = 0\n",
        "    while contador <= 30:\n",
        "        lista = generaLista()\n",
        "        generadas += 1\n",
        "        if not sum(lista):\n",
        "            print(f\"{lista} Suma: {sum(lista)}\")\n",
        "            contador += 1\n",
        "    print(\"Se muestran 30 listas en pantalla, habíendose generado\",generadas)\n",
        "\n",
        "main()    "
      ]
    }
  ],
  "metadata": {
    "kernelspec": {
      "display_name": "Python 3",
      "language": "python",
      "name": "python3"
    },
    "language_info": {
      "codemirror_mode": {
        "name": "ipython",
        "version": 3
      },
      "file_extension": ".py",
      "mimetype": "text/x-python",
      "name": "python",
      "nbconvert_exporter": "python",
      "pygments_lexer": "ipython3",
      "version": "3.8.8"
    },
    "colab": {
      "name": "caso1.18.ipynb",
      "provenance": [],
      "include_colab_link": true
    }
  },
  "nbformat": 4,
  "nbformat_minor": 5
}