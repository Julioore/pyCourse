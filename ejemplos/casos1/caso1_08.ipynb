{
  "cells": [
    {
      "cell_type": "markdown",
      "metadata": {
        "id": "view-in-github",
        "colab_type": "text"
      },
      "source": [
        "<a href=\"https://colab.research.google.com/github/financieras/pyCourse/blob/main/ejemplos/casos1/caso1_08.ipynb\" target=\"_parent\"><img src=\"https://colab.research.google.com/assets/colab-badge.svg\" alt=\"Open In Colab\"/></a>"
      ]
    },
    {
      "cell_type": "markdown",
      "id": "680a34ef",
      "metadata": {
        "id": "680a34ef"
      },
      "source": [
        "# Reto 1\n",
        "* Muestre las tablas de sumar entre 5 y 8, solo para valores impares del segundo sumando.\n",
        "* Usando bucles for anidados ([Python Nested Loops](https://www.w3schools.com/python/gloss_python_for_nested.asp))"
      ]
    },
    {
      "cell_type": "code",
      "execution_count": null,
      "id": "6d713a1b",
      "metadata": {
        "id": "6d713a1b"
      },
      "outputs": [],
      "source": [
        "for i in range(5,9):\n",
        "    print(\"=\"*10)\n",
        "    for j in range(1,11,2):\n",
        "        print(f\"{i}+{j}={i+j}\")"
      ]
    },
    {
      "cell_type": "markdown",
      "source": [
        "# Reto 2\n",
        "* Crear una matriz rectangular de unos\n",
        "* La matriz tendrá n filas y 3n columnas\n",
        "* n = 5"
      ],
      "metadata": {
        "id": "mW2zlwIYVo01"
      },
      "id": "mW2zlwIYVo01"
    },
    {
      "cell_type": "markdown",
      "source": [
        "## Método 1 (no recomendado)\n",
        "* Este método logra el objetivo, pero no es recomendado ya que tiene un gran inconveniente.\n",
        "* Cuando se modifica un elemento de una fila (o columna) se modifica en todas las demás"
      ],
      "metadata": {
        "id": "wVpJWNxGtPxn"
      },
      "id": "wVpJWNxGtPxn"
    },
    {
      "cell_type": "code",
      "source": [
        "n = 5     # filas\n",
        "m = 3*n   # columnas\n",
        "matriz = [[1]*m]*n\n",
        "matriz"
      ],
      "metadata": {
        "id": "RuNYRDy0WC9v"
      },
      "id": "RuNYRDy0WC9v",
      "execution_count": null,
      "outputs": []
    },
    {
      "cell_type": "code",
      "source": [
        "# veamos el inconveniente\n",
        "# modificaremos el cuarto uno de la primera fila\n",
        "matriz[0][3] = 8  # en lugar de un 1 ponemos un 8\n",
        "matriz            # el resultado no es el deseado\n",
        "# en todas las filas aparece un 8 ya que son copias unas de otras"
      ],
      "metadata": {
        "id": "aPpBIsO2tn5q"
      },
      "id": "aPpBIsO2tn5q",
      "execution_count": null,
      "outputs": []
    },
    {
      "cell_type": "markdown",
      "source": [
        "## Método 2\n",
        "Creando bucles `for` anidados."
      ],
      "metadata": {
        "id": "n-9_KU2yuTk-"
      },
      "id": "n-9_KU2yuTk-"
    },
    {
      "cell_type": "code",
      "source": [
        "n = 5\n",
        "matriz = []\n",
        "for i in range(n):\n",
        "    matriz.append([])\n",
        "    for j in range(3*n):\n",
        "        matriz[i].append(1)\n",
        "matriz"
      ],
      "metadata": {
        "id": "ndcLC4rfudSQ"
      },
      "id": "ndcLC4rfudSQ",
      "execution_count": null,
      "outputs": []
    },
    {
      "cell_type": "code",
      "source": [
        "# veamos que ahora no se produce el inconveniente\n",
        "# modificaremos el cuarto uno de la primera fila\n",
        "matriz[0][3] = 8\n",
        "matriz            # el resultado será es el deseado\n",
        "# únicamente aparece un 8 en la primera fila"
      ],
      "metadata": {
        "id": "XH_zzqJAwaXg"
      },
      "id": "XH_zzqJAwaXg",
      "execution_count": null,
      "outputs": []
    },
    {
      "cell_type": "markdown",
      "source": [
        "## Método 3 ([list comprehension](https://www.w3schools.com/python/python_lists_comprehension.asp))\n",
        "Podemos comprimir en una sola línea de código los dos bucles `for` anidados anteriores."
      ],
      "metadata": {
        "id": "pJASSb8dx1sz"
      },
      "id": "pJASSb8dx1sz"
    },
    {
      "cell_type": "code",
      "source": [
        "n = 5\n",
        "matriz = [[j+1 for j in range(3*n)] for i in range(n)]\n",
        "matriz"
      ],
      "metadata": {
        "id": "Ma9nHoORyiAj"
      },
      "id": "Ma9nHoORyiAj",
      "execution_count": null,
      "outputs": []
    },
    {
      "cell_type": "markdown",
      "source": [
        "# Reto 3\n",
        "Mostrar una matriz sin comas y sin corchetes."
      ],
      "metadata": {
        "id": "H4ARgNcuzSG2"
      },
      "id": "H4ARgNcuzSG2"
    },
    {
      "cell_type": "markdown",
      "source": [
        "## Método 1\n",
        "Usando la librería `numpy`"
      ],
      "metadata": {
        "id": "T2KR2z15QvLh"
      },
      "id": "T2KR2z15QvLh"
    },
    {
      "cell_type": "code",
      "source": [
        "import numpy as np\n",
        "\n",
        "n = 5\n",
        "matriz = [[1 for j in range(3*n)] for i in range(n)]\n",
        "matrix = np.array(matriz)     # convertimos la matriz en un ndarray con la librería numpy\n",
        "\n",
        "print(str(matrix).replace(' [', '').replace('[', '').replace(']', ''))"
      ],
      "metadata": {
        "id": "FQ9zz7KhzaVw"
      },
      "id": "FQ9zz7KhzaVw",
      "execution_count": null,
      "outputs": []
    },
    {
      "cell_type": "markdown",
      "source": [
        "## Método 2\n",
        "Sin usar ninguna librería."
      ],
      "metadata": {
        "id": "yFXTpovLQmoG"
      },
      "id": "yFXTpovLQmoG"
    },
    {
      "cell_type": "code",
      "source": [
        "n = 5\n",
        "matriz = [[1 for j in range(3*n)] for i in range(n)]\n",
        "\n",
        "for i in range(n):\n",
        "    print(*matriz[i])   # el asterisco despliega la lista sin corchetes ni comas"
      ],
      "metadata": {
        "id": "Arrc_T2TQ3E8"
      },
      "id": "Arrc_T2TQ3E8",
      "execution_count": null,
      "outputs": []
    },
    {
      "cell_type": "markdown",
      "source": [
        "# Reto 4\n",
        "* Crear una matriz rectangular de n filas y 3n columnas\n",
        "* Usar una función a la que pasamos el parámetro n"
      ],
      "metadata": {
        "id": "9coKCPepR25T"
      },
      "id": "9coKCPepR25T"
    },
    {
      "cell_type": "markdown",
      "source": [
        "## Método 1\n",
        "Si usar list comprehension."
      ],
      "metadata": {
        "id": "Y72E4t-mWMzW"
      },
      "id": "Y72E4t-mWMzW"
    },
    {
      "cell_type": "code",
      "source": [
        "def rectangulo(n):\n",
        "    matriz = []\n",
        "    for i in range(n):\n",
        "        matriz.append([])\n",
        "        for j in range(3*n):\n",
        "            matriz[i].append('*')\n",
        "    return matriz\n",
        "\n",
        "n = 5\n",
        "matrix = rectangulo(n)\n",
        "\n",
        "for i in range(n):\n",
        "    print(*matrix[i])"
      ],
      "metadata": {
        "id": "IVpPFw6tSG54"
      },
      "id": "IVpPFw6tSG54",
      "execution_count": null,
      "outputs": []
    },
    {
      "cell_type": "markdown",
      "source": [
        "## Método 2\n",
        "Usando list comprehension."
      ],
      "metadata": {
        "id": "F2NGL2WiWYmp"
      },
      "id": "F2NGL2WiWYmp"
    },
    {
      "cell_type": "code",
      "source": [
        "def rectangulo(n):\n",
        "    return [['*' for j in range(3*n)] for i in range(n)]\n",
        "matriz\n",
        "\n",
        "n = 5\n",
        "matrix = rectangulo(n)\n",
        "\n",
        "for i in range(n):\n",
        "    print(*matrix[i])"
      ],
      "metadata": {
        "id": "E0Y1HtrzVfrN"
      },
      "execution_count": null,
      "outputs": [],
      "id": "E0Y1HtrzVfrN"
    },
    {
      "cell_type": "markdown",
      "source": [
        "# Reto 5\n",
        "Cree una matriz con estructura.\n",
        "\n",
        "Para n=4 la matriz tiene la siguiene forma.\n",
        "\n",
        "$$\\begin{equation}\n",
        "\\begin{matrix}\n",
        "1 & 2 & 3 & 4 \\\\\n",
        "2 & 3 & 4 & 1 \\\\\n",
        "3 & 4 & 1 & 2 \\\\\n",
        "4 & 1 & 2 & 3\n",
        "\\end{matrix}\n",
        "\\end{equation}$$\n",
        "\n",
        "* Crear una función a la que pasemos como agumento el n y nos devuelva la matriz con esa estructura.\n",
        "* $1 \\leq n \\leq 9$"
      ],
      "metadata": {
        "id": "OJSFee4JGCTn"
      },
      "id": "OJSFee4JGCTn"
    },
    {
      "cell_type": "code",
      "source": [
        "def figura(n):\n",
        "    m = [[(i+j)%n+1 for i in range(n)] for j in range(n)]\n",
        "    return m\n",
        "\n",
        "n = 9\n",
        "matriz = figura(n)\n",
        "\n",
        "for i in range(n):\n",
        "    print(*matriz[i])   # el asterisco despliega la lista sin corchetes ni comas"
      ],
      "metadata": {
        "colab": {
          "base_uri": "https://localhost:8080/"
        },
        "id": "IRPilgnuGNre",
        "outputId": "a442aad6-0d99-44f6-9758-8ee13dee225d"
      },
      "id": "IRPilgnuGNre",
      "execution_count": 6,
      "outputs": [
        {
          "output_type": "stream",
          "name": "stdout",
          "text": [
            "1 2 3 4 5 6 7 8 9\n",
            "2 3 4 5 6 7 8 9 1\n",
            "3 4 5 6 7 8 9 1 2\n",
            "4 5 6 7 8 9 1 2 3\n",
            "5 6 7 8 9 1 2 3 4\n",
            "6 7 8 9 1 2 3 4 5\n",
            "7 8 9 1 2 3 4 5 6\n",
            "8 9 1 2 3 4 5 6 7\n",
            "9 1 2 3 4 5 6 7 8\n"
          ]
        }
      ]
    }
  ],
  "metadata": {
    "kernelspec": {
      "display_name": "Python 3",
      "language": "python",
      "name": "python3"
    },
    "language_info": {
      "codemirror_mode": {
        "name": "ipython",
        "version": 3
      },
      "file_extension": ".py",
      "mimetype": "text/x-python",
      "name": "python",
      "nbconvert_exporter": "python",
      "pygments_lexer": "ipython3",
      "version": "3.8.8"
    },
    "colab": {
      "name": "caso1.08.ipynb",
      "provenance": [],
      "include_colab_link": true
    }
  },
  "nbformat": 4,
  "nbformat_minor": 5
}