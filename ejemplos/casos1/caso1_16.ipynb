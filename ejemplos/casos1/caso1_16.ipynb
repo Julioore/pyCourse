{
  "cells": [
    {
      "cell_type": "markdown",
      "metadata": {
        "id": "view-in-github",
        "colab_type": "text"
      },
      "source": [
        "<a href=\"https://colab.research.google.com/github/financieras/pyCourse/blob/main/ejemplos/caso1.16.ipynb\" target=\"_parent\"><img src=\"https://colab.research.google.com/assets/colab-badge.svg\" alt=\"Open In Colab\"/></a>"
      ]
    },
    {
      "cell_type": "markdown",
      "id": "ac8249f4",
      "metadata": {
        "id": "ac8249f4"
      },
      "source": [
        "# Reto 1\n",
        "Dado un número binario convertirlo en decimal."
      ]
    },
    {
      "cell_type": "code",
      "execution_count": null,
      "id": "7e49585b",
      "metadata": {
        "id": "7e49585b"
      },
      "outputs": [],
      "source": [
        "mibinario = \"101011\"       # 43 en decimal\n",
        "print(int(mibinario,2))"
      ]
    },
    {
      "cell_type": "markdown",
      "id": "f317184c",
      "metadata": {
        "id": "f317184c"
      },
      "source": [
        "# Reto 2\n",
        "Crear un string de 20 caracteres que se forme con caracteres individuales obtenidos aleatoriamente. Los caracteres se mostrarán poniendo un signo más entre ellos."
      ]
    },
    {
      "cell_type": "code",
      "execution_count": null,
      "id": "54bf3832",
      "metadata": {
        "id": "54bf3832"
      },
      "outputs": [],
      "source": [
        "import random\n",
        "frase = \"\"\n",
        "for i in range(20):\n",
        "    frase += chr(random.randint(50,140)) + ' + '\n",
        "\n",
        "print(frase)"
      ]
    },
    {
      "cell_type": "markdown",
      "id": "4185ba0b",
      "metadata": {
        "id": "4185ba0b"
      },
      "source": [
        "# Reto 3\n",
        "Crear un string que se forme con los números de 1 al 10 unidos por un signo más. El string no debe terminar en signo más."
      ]
    },
    {
      "cell_type": "code",
      "execution_count": null,
      "id": "9f37c539",
      "metadata": {
        "id": "9f37c539"
      },
      "outputs": [],
      "source": [
        "frase = \"\"\n",
        "for i in range(1,11):\n",
        "    frase += str(i) + \"+\"\n",
        "\n",
        "print(\"Expresión antes de eliminar el último signo más:\")\n",
        "print(frase)\n",
        "print()\n",
        "frase = frase[:-1]\n",
        "print(\"Expresión limpia:\")\n",
        "print(frase)\n",
        "print()\n",
        "print(\"Evaluando la Expresión:\")\n",
        "print(frase,\"=\", eval(frase))"
      ]
    }
  ],
  "metadata": {
    "kernelspec": {
      "display_name": "Python 3",
      "language": "python",
      "name": "python3"
    },
    "language_info": {
      "codemirror_mode": {
        "name": "ipython",
        "version": 3
      },
      "file_extension": ".py",
      "mimetype": "text/x-python",
      "name": "python",
      "nbconvert_exporter": "python",
      "pygments_lexer": "ipython3",
      "version": "3.8.8"
    },
    "colab": {
      "name": "caso1.16.ipynb",
      "provenance": [],
      "include_colab_link": true
    }
  },
  "nbformat": 4,
  "nbformat_minor": 5
}