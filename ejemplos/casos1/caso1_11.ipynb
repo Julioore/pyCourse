{
  "cells": [
    {
      "cell_type": "markdown",
      "metadata": {
        "id": "view-in-github",
        "colab_type": "text"
      },
      "source": [
        "<a href=\"https://colab.research.google.com/github/financieras/pyCourse/blob/main/ejemplos/casos1/caso1_11.ipynb\" target=\"_parent\"><img src=\"https://colab.research.google.com/assets/colab-badge.svg\" alt=\"Open In Colab\"/></a>"
      ]
    },
    {
      "cell_type": "markdown",
      "id": "193fc765",
      "metadata": {
        "id": "193fc765"
      },
      "source": [
        "# Reto 1\n",
        "Imprimir la fecha y hora del sistema."
      ]
    },
    {
      "cell_type": "code",
      "execution_count": null,
      "id": "916ba8db",
      "metadata": {
        "id": "916ba8db"
      },
      "outputs": [],
      "source": [
        "import time\n",
        "print (time.strftime(\"%d/%m/%y\"))\n",
        "print(time.strftime(\"%H:%M:%S\"))        #Formato de 24 horas"
      ]
    },
    {
      "cell_type": "code",
      "execution_count": null,
      "id": "c1ef8f19",
      "metadata": {
        "id": "c1ef8f19"
      },
      "outputs": [],
      "source": [
        "year = int(time.strftime(\"%Y\"))\n",
        "year"
      ]
    },
    {
      "cell_type": "markdown",
      "id": "87212f36",
      "metadata": {
        "id": "87212f36"
      },
      "source": [
        "# Reto 2\n",
        "Calcular cuantos días se llevan dos hermanos que nacieron en las siguientes fechas:\n",
        "- 29-02-2000\n",
        "- 29-02-2004\n",
        "\n",
        "* Ámbos nacieron un 29 de febrero de año bisiesto."
      ]
    },
    {
      "cell_type": "markdown",
      "source": [
        "### Método 1\n",
        "Usando `datetime.striptime()`"
      ],
      "metadata": {
        "id": "M7dCGd91GO_H"
      },
      "id": "M7dCGd91GO_H"
    },
    {
      "cell_type": "code",
      "execution_count": null,
      "id": "94acfeb1",
      "metadata": {
        "id": "94acfeb1",
        "outputId": "c819e00d-79fd-42d6-a84a-3486cec8edc7",
        "colab": {
          "base_uri": "https://localhost:8080/"
        }
      },
      "outputs": [
        {
          "output_type": "execute_result",
          "data": {
            "text/plain": [
              "1461"
            ]
          },
          "metadata": {},
          "execution_count": 3
        }
      ],
      "source": [
        "from datetime import datetime\n",
        "\n",
        "def dias_entre(d1, d2):\n",
        "    d1 = datetime.strptime(d1, \"%d-%m-%Y\")\n",
        "    d2 = datetime.strptime(d2, \"%d-%m-%Y\")\n",
        "    return abs((d2 - d1).days)\n",
        "\n",
        "d1 = \"29-2-2000\"     # ponemos febrero como  2\n",
        "d2 = \"29-02-2004\"    # ponemos febrero como 02\n",
        "\n",
        "dias_entre(d1,d2)"
      ]
    },
    {
      "cell_type": "markdown",
      "source": [
        "### Método 2\n",
        "Usando `date`"
      ],
      "metadata": {
        "id": "P5pA9f2sGgVo"
      },
      "id": "P5pA9f2sGgVo"
    },
    {
      "cell_type": "code",
      "source": [
        "from datetime import date\n",
        " \n",
        "def dias_entre(d1, d2):\n",
        "    return (d2-d1).days\n",
        "     \n",
        "d1 = date(2000, 2, 29)\n",
        "d2 = date(2004, 2, 29)\n",
        "\n",
        "print(dias_entre(d1, d2), \"días\")"
      ],
      "metadata": {
        "id": "FX079V7cGt5k",
        "outputId": "74ca4347-0ce5-4353-f770-91071aa5b25f",
        "colab": {
          "base_uri": "https://localhost:8080/"
        }
      },
      "id": "FX079V7cGt5k",
      "execution_count": null,
      "outputs": [
        {
          "output_type": "stream",
          "name": "stdout",
          "text": [
            "1461 días\n"
          ]
        }
      ]
    },
    {
      "cell_type": "markdown",
      "id": "70591c59",
      "metadata": {
        "id": "70591c59"
      },
      "source": [
        "# Reto 3\n",
        "Calcular cuantos años tenía un hermano cuando nació el otro, siendo sus fechas de nacimiento las siguientes:\n",
        "- 14-01-2004\n",
        "- 7-12-1999"
      ]
    },
    {
      "cell_type": "code",
      "execution_count": null,
      "id": "e58458f6",
      "metadata": {
        "id": "e58458f6"
      },
      "outputs": [],
      "source": [
        "from datetime import date\n",
        "\n",
        "d1 = date(1999,12,7)        # \"7-12-1999\"\n",
        "d2 = date(2004,1,14)        #  \"14-01-2004\"\n",
        "\n",
        "def calcula_edad(d1):\n",
        "    edad = d2.year - d1.year - ((d2.month, d2.day) < (d1.month, d1.day))\n",
        "    return edad\n",
        "     \n",
        "print(\"El hermano mayor tenía\", calcula_edad(d1), \"años.\")"
      ]
    },
    {
      "cell_type": "markdown",
      "id": "3e7b9114",
      "metadata": {
        "id": "3e7b9114"
      },
      "source": [
        "# Reto 4\n",
        "¿Qué día es hoy?\n",
        "Especifique:\n",
        "- año\n",
        "- mes\n",
        "- día"
      ]
    },
    {
      "cell_type": "code",
      "execution_count": 1,
      "id": "f105ffa8",
      "metadata": {
        "id": "f105ffa8",
        "outputId": "31fa1fd8-2479-4e1c-e9a5-42ab3d75ab27",
        "colab": {
          "base_uri": "https://localhost:8080/"
        }
      },
      "outputs": [
        {
          "output_type": "stream",
          "name": "stdout",
          "text": [
            "Hoy es 2022-07-03.\n",
            "Hoy es el día 3, del mes 7, del año 2022.\n"
          ]
        }
      ],
      "source": [
        "from datetime import date\n",
        "hoy = date.today()\n",
        "print(f\"Hoy es {hoy}.\")\n",
        "print(f\"Hoy es el día {hoy.day}, del mes {hoy.month}, del año {hoy.year}.\")"
      ]
    },
    {
      "cell_type": "markdown",
      "source": [
        "# Reto 5\n",
        "Indique la fechas de hoy, la de ayer y la de mañana."
      ],
      "metadata": {
        "id": "Q2VBuL6EknN9"
      },
      "id": "Q2VBuL6EknN9"
    },
    {
      "cell_type": "code",
      "source": [
        "from datetime import date, timedelta\n",
        "\n",
        "hoy = date(2004,2,29)\n",
        "#hoy = date.today()   # descomentar esta línea para calcular la fecha de hoy\n",
        "print(\"Hoy   :\", hoy)\n",
        "\n",
        "ayer = hoy + timedelta(-1)\n",
        "print(\"Ayer  :\", ayer)\n",
        "\n",
        "manana = hoy + timedelta(1)\n",
        "print(\"Mañana:\", manana)"
      ],
      "metadata": {
        "id": "UYaxcOgtkw8S",
        "outputId": "7d7340c3-1c7f-49c1-b096-2aa0b73660f9",
        "colab": {
          "base_uri": "https://localhost:8080/"
        }
      },
      "id": "UYaxcOgtkw8S",
      "execution_count": 2,
      "outputs": [
        {
          "output_type": "stream",
          "name": "stdout",
          "text": [
            "Hoy   : 2004-02-29\n",
            "Ayer  : 2004-02-28\n",
            "Mañana: 2004-03-01\n"
          ]
        }
      ]
    },
    {
      "cell_type": "markdown",
      "source": [
        "# Reto 6\n",
        "Calcular los días que faltan para mi próximo cumpleaños."
      ],
      "metadata": {
        "id": "LPFMvFnNrLLY"
      },
      "id": "LPFMvFnNrLLY"
    },
    {
      "cell_type": "markdown",
      "source": [
        "## Método 1\n",
        "Esta solución no es perfecta ya que:\n",
        "* si has nacido un día 29 de febrero de un año bisiesto y actualmente no estamos en año bisiesto, se producirá un error\n",
        "* el motivo del error es que una de las fechas a considerar es el 29 de febrero del año actual y esa fecha no existe, al no tratarse este año de un año bisiesto\n",
        "* también funciona si naciste un 29 de febrero y hoy es estamos en año bisiento y en un día no posterior al 29 de febrero"
      ],
      "metadata": {
        "id": "uHDXx1exrVrO"
      },
      "id": "uHDXx1exrVrO"
    },
    {
      "cell_type": "code",
      "source": [
        "from datetime import date\n",
        " \n",
        "def dias_entre(d1, d2):        # calcula los días que hay entre dos fechas\n",
        "    return abs((d2-d1).days)   # abs para evitar valores negativos, ya que no se exige que d2 sea mayor que d1\n",
        "\n",
        "def dias_hasta_proximo_cumple(nacimiento):   # él único parámetro es la fecha de nacimiento\n",
        "    hoy = date(2024, 1, 29)                  # con esta línea forzamos a que el día actual sea uno concreto de nuestra elección\n",
        "    #hoy = date.today()                      # descomentar esta línea para trabajar con el día actual\n",
        "    cumple = date(hoy.year, nacimiento.month, nacimiento.day)   # fecha de nuestro cumpleaños este año\n",
        "    if cumple < hoy:                         # puedesn darse dos casos, que el cumpleaños este año ya haya sido\n",
        "        proximo = date(cumple.year+1, cumple.month, cumple.day)   # próximo cumpleaños, el del año siguiente\n",
        "        return dias_entre(hoy, proximo)      # si el cumpleaños ya ha sido, calculamos los días hasta el próximo\n",
        "    else:\n",
        "        return dias_entre(hoy, cumple)       # o que aún no haya sido nuestro cumpleaños este año\n",
        "\n",
        "# main\n",
        "nacimiento = date(2000, 2, 29)               # fecha de nacimiento\n",
        "print(dias_hasta_proximo_cumple(nacimiento), \"días\")"
      ],
      "metadata": {
        "id": "Csq5TZm6sJaB",
        "outputId": "b7a0ae69-b646-448f-ca48-01346b8b2c92",
        "colab": {
          "base_uri": "https://localhost:8080/"
        }
      },
      "id": "Csq5TZm6sJaB",
      "execution_count": 13,
      "outputs": [
        {
          "output_type": "stream",
          "name": "stdout",
          "text": [
            "31 días\n"
          ]
        }
      ]
    },
    {
      "cell_type": "markdown",
      "source": [
        "## Método 2\n",
        "* Realizamos un tratamiento de excepciones usando un Try ... Except\n",
        "* Si se ha nacido un 29 de Febrero de un año bisiesto el método 1 anterior daba dos casos de error:\n",
        " - al calcular la variable `cumple` en el caso de que el año presente no se bisiesto\n",
        " - al calcular la variable `proximo` en el caso de que el próximo año no sea bisiesto  \n",
        "\n",
        "* Estos errores se solucionan considerando que los nacidos un 29 de Febrero celebran sus cumpleaños los 28 de Febrero de los años no bisiestos.\n",
        "* Por este motivo, y bajo esas condiciones la varible cumple se modifica para que se celebre el cumple el 28 de Febrero, en esos casos."
      ],
      "metadata": {
        "id": "plVKJf5Ev8Pp"
      },
      "id": "plVKJf5Ev8Pp"
    },
    {
      "cell_type": "code",
      "source": [
        "from datetime import date\n",
        "\n",
        "def dias_hasta_proximo_cumple(nacimiento):\n",
        "    hoy = date(2025, 3, 29)\n",
        "    #hoy = date.today()\n",
        "    try:\n",
        "        cumple = date(hoy.year, nacimiento.month, nacimiento.day)\n",
        "    except ValueError:\n",
        "        if nacimiento.month == 2 and nacimiento.day == 29:\n",
        "            cumple = date(hoy.year, 2, 28)   # Los nacidos un 29 Feb, cumplen los años el 28 de Feb en los años no bisiestos\n",
        "    if cumple < hoy:\n",
        "        proximo = date(cumple.year+1, cumple.month, cumple.day)\n",
        "        return (proximo-hoy).days\n",
        "    return (cumple-hoy).days\n",
        "\n",
        "nacimiento = date(2000, 2, 29)\n",
        "print(dias_hasta_proximo_cumple(nacimiento), \"días\")"
      ],
      "metadata": {
        "id": "YF3X-LG3wDbg",
        "outputId": "d8de45cb-5aba-441b-b90e-66b95240ca72",
        "colab": {
          "base_uri": "https://localhost:8080/"
        }
      },
      "id": "YF3X-LG3wDbg",
      "execution_count": 32,
      "outputs": [
        {
          "output_type": "stream",
          "name": "stdout",
          "text": [
            "336 días\n"
          ]
        }
      ]
    }
  ],
  "metadata": {
    "kernelspec": {
      "display_name": "Python 3",
      "language": "python",
      "name": "python3"
    },
    "language_info": {
      "codemirror_mode": {
        "name": "ipython",
        "version": 3
      },
      "file_extension": ".py",
      "mimetype": "text/x-python",
      "name": "python",
      "nbconvert_exporter": "python",
      "pygments_lexer": "ipython3",
      "version": "3.8.8"
    },
    "colab": {
      "name": "caso1.11.ipynb",
      "provenance": [],
      "include_colab_link": true
    }
  },
  "nbformat": 4,
  "nbformat_minor": 5
}