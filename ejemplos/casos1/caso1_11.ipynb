{
  "cells": [
    {
      "cell_type": "markdown",
      "metadata": {
        "id": "view-in-github",
        "colab_type": "text"
      },
      "source": [
        "<a href=\"https://colab.research.google.com/github/financieras/pyCourse/blob/main/ejemplos/casos1/caso1_11.ipynb\" target=\"_parent\"><img src=\"https://colab.research.google.com/assets/colab-badge.svg\" alt=\"Open In Colab\"/></a>"
      ]
    },
    {
      "cell_type": "markdown",
      "id": "193fc765",
      "metadata": {
        "id": "193fc765"
      },
      "source": [
        "# Reto 1\n",
        "Imprimir la fecha y hora del sistema."
      ]
    },
    {
      "cell_type": "code",
      "execution_count": null,
      "id": "916ba8db",
      "metadata": {
        "id": "916ba8db"
      },
      "outputs": [],
      "source": [
        "import time\n",
        "print (time.strftime(\"%d/%m/%y\"))\n",
        "print(time.strftime(\"%H:%M:%S\"))        #Formato de 24 horas"
      ]
    },
    {
      "cell_type": "code",
      "execution_count": null,
      "id": "c1ef8f19",
      "metadata": {
        "id": "c1ef8f19"
      },
      "outputs": [],
      "source": [
        "year = int(time.strftime(\"%Y\"))\n",
        "year"
      ]
    },
    {
      "cell_type": "markdown",
      "id": "87212f36",
      "metadata": {
        "id": "87212f36"
      },
      "source": [
        "# Reto 2\n",
        "Calcular cuantos días se llevan dos hermanos que nacieron en las siguientes fechas:\n",
        "- 29-02-2000\n",
        "- 29-02-2004\n",
        "\n",
        "* Ámbos nacieron un 29 de febrero de año bisiesto."
      ]
    },
    {
      "cell_type": "markdown",
      "source": [
        "### Método 1\n",
        "Usando `datetime.striptime()`"
      ],
      "metadata": {
        "id": "M7dCGd91GO_H"
      },
      "id": "M7dCGd91GO_H"
    },
    {
      "cell_type": "code",
      "execution_count": 3,
      "id": "94acfeb1",
      "metadata": {
        "id": "94acfeb1",
        "outputId": "c819e00d-79fd-42d6-a84a-3486cec8edc7",
        "colab": {
          "base_uri": "https://localhost:8080/"
        }
      },
      "outputs": [
        {
          "output_type": "execute_result",
          "data": {
            "text/plain": [
              "1461"
            ]
          },
          "metadata": {},
          "execution_count": 3
        }
      ],
      "source": [
        "d1 = \"29-2-2000\"     # ponemos febrero como  2\n",
        "d2 = \"29-02-2004\"    # ponemos febrero como 02\n",
        "\n",
        "from datetime import datetime\n",
        "\n",
        "def dias_entre(d1, d2):\n",
        "    d1 = datetime.strptime(d1, \"%d-%m-%Y\")\n",
        "    d2 = datetime.strptime(d2, \"%d-%m-%Y\")\n",
        "    return abs((d2 - d1).days)\n",
        "\n",
        "dias_entre(d1,d2)"
      ]
    },
    {
      "cell_type": "markdown",
      "source": [
        "### Método 2\n",
        "Usando `date`"
      ],
      "metadata": {
        "id": "P5pA9f2sGgVo"
      },
      "id": "P5pA9f2sGgVo"
    },
    {
      "cell_type": "code",
      "source": [
        "from datetime import date\n",
        " \n",
        "def dias_entre(d1, d2):\n",
        "    return (d2-d1).days\n",
        "     \n",
        "# main\n",
        "d1 = date(2000, 2, 29)\n",
        "d2 = date(2004, 2, 29)\n",
        "print(dias_entre(d1, d2), \"días\")"
      ],
      "metadata": {
        "id": "FX079V7cGt5k",
        "outputId": "74ca4347-0ce5-4353-f770-91071aa5b25f",
        "colab": {
          "base_uri": "https://localhost:8080/"
        }
      },
      "id": "FX079V7cGt5k",
      "execution_count": 4,
      "outputs": [
        {
          "output_type": "stream",
          "name": "stdout",
          "text": [
            "1461 días\n"
          ]
        }
      ]
    },
    {
      "cell_type": "markdown",
      "id": "70591c59",
      "metadata": {
        "id": "70591c59"
      },
      "source": [
        "# Reto 3\n",
        "Calcular cuantos años tenía un hermano cuando nació el otro, siendo sus fechas de nacimiento las siguientes:\n",
        "- 14-01-2004\n",
        "- 7-12-1999"
      ]
    },
    {
      "cell_type": "code",
      "execution_count": null,
      "id": "e58458f6",
      "metadata": {
        "id": "e58458f6"
      },
      "outputs": [],
      "source": [
        "from datetime import date\n",
        "\n",
        "d1 = date(1999,12,7)        # \"7-12-1999\"\n",
        "d2 = date(2004,1,14)        #  \"14-01-2004\"\n",
        "\n",
        "def calcula_edad(d1):\n",
        "    edad = d2.year - d1.year - ((d2.month, d2.day) < (d1.month, d1.day))\n",
        "    return edad\n",
        "     \n",
        "print(\"El hermano mayor tenía\", calcula_edad(d1), \"años.\")"
      ]
    },
    {
      "cell_type": "markdown",
      "id": "3e7b9114",
      "metadata": {
        "id": "3e7b9114"
      },
      "source": [
        "# Reto 4\n",
        "¿Qué día es hoy?\n",
        "Especifique:\n",
        "- año\n",
        "- mes\n",
        "- día"
      ]
    },
    {
      "cell_type": "code",
      "execution_count": null,
      "id": "f105ffa8",
      "metadata": {
        "id": "f105ffa8"
      },
      "outputs": [],
      "source": [
        "from datetime import date\n",
        "hoy = date.today()\n",
        "print(f\"Hoy es {hoy}.\")\n",
        "print(f\"Hoy es el día {hoy.day}, del mes {hoy.month}, del año {hoy.year}.\")"
      ]
    }
  ],
  "metadata": {
    "kernelspec": {
      "display_name": "Python 3",
      "language": "python",
      "name": "python3"
    },
    "language_info": {
      "codemirror_mode": {
        "name": "ipython",
        "version": 3
      },
      "file_extension": ".py",
      "mimetype": "text/x-python",
      "name": "python",
      "nbconvert_exporter": "python",
      "pygments_lexer": "ipython3",
      "version": "3.8.8"
    },
    "colab": {
      "name": "caso1.11.ipynb",
      "provenance": [],
      "include_colab_link": true
    }
  },
  "nbformat": 4,
  "nbformat_minor": 5
}