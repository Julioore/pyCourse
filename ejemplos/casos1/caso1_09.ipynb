{
  "cells": [
    {
      "cell_type": "markdown",
      "metadata": {
        "id": "view-in-github",
        "colab_type": "text"
      },
      "source": [
        "<a href=\"https://colab.research.google.com/github/financieras/pyCourse/blob/main/ejemplos/caso1.09.ipynb\" target=\"_parent\"><img src=\"https://colab.research.google.com/assets/colab-badge.svg\" alt=\"Open In Colab\"/></a>"
      ]
    },
    {
      "cell_type": "markdown",
      "id": "680a34ef",
      "metadata": {
        "id": "680a34ef"
      },
      "source": [
        "# Reto 1\n",
        "Crear una lista con todos los caracteres que contiene una frase dada."
      ]
    },
    {
      "cell_type": "code",
      "execution_count": 1,
      "id": "6d713a1b",
      "metadata": {
        "id": "6d713a1b",
        "outputId": "ce501336-5804-4fa2-dcc3-76eefdbe2832",
        "colab": {
          "base_uri": "https://localhost:8080/"
        }
      },
      "outputs": [
        {
          "output_type": "stream",
          "name": "stdout",
          "text": [
            "[' ', '%', '(', ')', ',', '.', '0', '1', '2', '3', '4', '8', 'A', 'E', 'K', 'L', 'P', 'Q', 'R', 'S', 'U', 'a', 'b', 'c', 'd', 'e', 'f', 'g', 'h', 'i', 'j', 'l', 'm', 'n', 'o', 'p', 'q', 'r', 's', 't', 'u', 'v', 'y', 'á', 'í', 'ó']\n"
          ]
        }
      ],
      "source": [
        "frase = \"Un estudio de Kaggle de 2018 reveló que Python, SQL y R son los lenguajes de programación más populares. El de más aceptación, con diferencia, fue Python (el 83% de los encuestados lo usaban). Además, 3 de cada 4 profesionales de datos recomendaron que los aspirantes a científicos de datos aprendan Python primero.\"\n",
        "\n",
        "l = []                # inicializamos una lista vacía\n",
        "for c in frase:       # recorremos todos los caracteres de la frase\n",
        "    if c not in l:    # si el carácter no está en la lista\n",
        "        l.append(c)   # añadimos el carácter a la lista\n",
        "\n",
        "print(sorted(l))      # imprimimos la lista ordenada"
      ]
    },
    {
      "cell_type": "markdown",
      "id": "57ef77b0",
      "metadata": {
        "id": "57ef77b0"
      },
      "source": [
        "# Reto 2\n",
        "Dado un número entero largo contar cuantas veces aparece cada dígito."
      ]
    },
    {
      "cell_type": "code",
      "execution_count": 2,
      "id": "abff7dfa",
      "metadata": {
        "id": "abff7dfa",
        "outputId": "0a2c999f-6df5-4f5b-8609-2a6981d42fb8",
        "colab": {
          "base_uri": "https://localhost:8080/"
        }
      },
      "outputs": [
        {
          "output_type": "stream",
          "name": "stdout",
          "text": [
            "0 → 8\n",
            "1 → 8\n",
            "2 → 12\n",
            "3 → 11\n",
            "4 → 10\n",
            "5 → 8\n",
            "6 → 9\n",
            "7 → 8\n",
            "8 → 12\n",
            "9 → 14\n"
          ]
        }
      ],
      "source": [
        "# Los primeros 100 decimales de pi\n",
        "numero = \"1415926535897932384626433832795028841971693993751058209749445923078164062862089986280348253421170679\"\n",
        "\n",
        "for i in range(10):\n",
        "    print(i, '→', numero.count(str(i)))\n",
        "\n"
      ]
    },
    {
      "cell_type": "markdown",
      "source": [
        "# Reto 3\n",
        "Contar cuántas veces aparece la palabra *father* en la novela Frankenstein.\n",
        "\n",
        "* El libro pertenece al proyecto [Gutenberg](https://www.gutenberg.org)\n",
        "* Está en:\n",
        " - https://github.com/financieras/pyCourse/blob/main/ejemplos/frankenstein.txt"
      ],
      "metadata": {
        "id": "QGhVZ1K0eW7n"
      },
      "id": "QGhVZ1K0eW7n"
    },
    {
      "cell_type": "code",
      "source": [
        "# así efectuamos el clonado de nuestro repositorio que está en GitHub\n",
        "!git clone https://github.com/financieras/pyCourse.git"
      ],
      "metadata": {
        "id": "G8IEIsSOhFpE",
        "outputId": "fcc59cbb-404e-4cdf-ee13-bd762806c101",
        "colab": {
          "base_uri": "https://localhost:8080/"
        }
      },
      "id": "G8IEIsSOhFpE",
      "execution_count": 4,
      "outputs": [
        {
          "output_type": "stream",
          "name": "stdout",
          "text": [
            "Cloning into 'pyCourse'...\n",
            "remote: Enumerating objects: 2407, done.\u001b[K\n",
            "remote: Counting objects: 100% (710/710), done.\u001b[K\n",
            "remote: Compressing objects: 100% (246/246), done.\u001b[K\n",
            "remote: Total 2407 (delta 505), reused 643 (delta 461), pack-reused 1697\u001b[K\n",
            "Receiving objects: 100% (2407/2407), 3.11 MiB | 15.25 MiB/s, done.\n",
            "Resolving deltas: 100% (1713/1713), done.\n"
          ]
        }
      ]
    },
    {
      "cell_type": "code",
      "source": [
        "# nos vamos hasta el directorio ejemplos\n",
        "%cd pyCourse/ejemplos"
      ],
      "metadata": {
        "id": "pI_AvBQehKDL",
        "outputId": "15ea5430-8840-482f-c505-1dff766b2ed9",
        "colab": {
          "base_uri": "https://localhost:8080/"
        }
      },
      "id": "pI_AvBQehKDL",
      "execution_count": 5,
      "outputs": [
        {
          "output_type": "stream",
          "name": "stdout",
          "text": [
            "/content/pyCourse/ejemplos\n"
          ]
        }
      ]
    },
    {
      "cell_type": "code",
      "source": [
        "palabra = 'father'\n",
        "f = open(\"frankenstein.txt\")  # abrimos el archivo y lo asignamos a la variable f (file)\n",
        "libro = f.read()              # leemos el fichero\n",
        "n = libro.count(palabra)      # contamos la palabra, es case sensitive\n",
        "f.close()                     # cerramos el fichero\n",
        "print(f\"En la novela la palabra {palabra} aparece {n} veces.\")"
      ],
      "metadata": {
        "id": "cTVyQ_Iufnxk",
        "outputId": "6dd54867-b387-4391-bbd4-2bbb2bb3b972",
        "colab": {
          "base_uri": "https://localhost:8080/"
        }
      },
      "id": "cTVyQ_Iufnxk",
      "execution_count": 7,
      "outputs": [
        {
          "output_type": "stream",
          "name": "stdout",
          "text": [
            "En la novela la palabra father aparece 134 veces.\n"
          ]
        }
      ]
    }
  ],
  "metadata": {
    "kernelspec": {
      "display_name": "Python 3",
      "language": "python",
      "name": "python3"
    },
    "language_info": {
      "codemirror_mode": {
        "name": "ipython",
        "version": 3
      },
      "file_extension": ".py",
      "mimetype": "text/x-python",
      "name": "python",
      "nbconvert_exporter": "python",
      "pygments_lexer": "ipython3",
      "version": "3.8.8"
    },
    "colab": {
      "name": "caso1.09.ipynb",
      "provenance": [],
      "include_colab_link": true
    }
  },
  "nbformat": 4,
  "nbformat_minor": 5
}