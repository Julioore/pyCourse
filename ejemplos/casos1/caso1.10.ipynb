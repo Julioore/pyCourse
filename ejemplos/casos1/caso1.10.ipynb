{
  "cells": [
    {
      "cell_type": "markdown",
      "metadata": {
        "id": "view-in-github",
        "colab_type": "text"
      },
      "source": [
        "<a href=\"https://colab.research.google.com/github/financieras/pyCourse/blob/main/ejemplos/caso1.10.ipynb\" target=\"_parent\"><img src=\"https://colab.research.google.com/assets/colab-badge.svg\" alt=\"Open In Colab\"/></a>"
      ]
    },
    {
      "cell_type": "markdown",
      "id": "a419beff",
      "metadata": {
        "id": "a419beff"
      },
      "source": [
        "# Reto 1\n",
        "* Crear un array de 19 números aleatorios **sin repetición**, entre 10 y 99 (ambos incluidos)\n",
        "* En el array todos los números deben ser pares, menos uno que ha de ser impar\n",
        "* Ir generando listas y desechandolas hasta conseguir una que cumpla el criterio anterior\n",
        "* Imprimir la lista que cumpla el criterio\n",
        "* Imprimir el número de listas que ha sido necesario generar hasta llegar a la lista objetivo"
      ]
    },
    {
      "cell_type": "code",
      "source": [
        "import random\n",
        "\n",
        "nlistas = 0        # número de listas creadas\n",
        "n = 19             # número de elementos de la lista\n",
        "hayimpar = False   # booleano para detectar un impar, inicialmente no hay impar\n",
        "\n",
        "while True:\n",
        "    l = random.sample(range(10,100), n)  # aleatorios sin repetición\n",
        "    nlistas += 1\n",
        "    npares = 0   # cuenta cuántos pares existen\n",
        "    for i in l:\n",
        "        if i%2 == 0:\n",
        "            npares += 1\n",
        "        else:\n",
        "            hayimpar = True\n",
        "    if npares == n-1 and hayimpar:\n",
        "        break\n",
        "\n",
        "print(f\"Hemos conseguido la lista objetivo en el intento {nlistas}.\")\n",
        "print(*l)"
      ],
      "metadata": {
        "id": "N64DVqd2ROTw",
        "outputId": "aaa244e8-d3c6-4c89-c549-e3c9f61270b8",
        "colab": {
          "base_uri": "https://localhost:8080/"
        }
      },
      "id": "N64DVqd2ROTw",
      "execution_count": 97,
      "outputs": [
        {
          "output_type": "stream",
          "name": "stdout",
          "text": [
            "Hemos conseguido la lista objetivo en el intento 303008.\n",
            "82 92 62 84 11 88 36 32 96 26 44 66 64 56 86 50 68 70 18\n"
          ]
        }
      ]
    },
    {
      "cell_type": "markdown",
      "source": [
        "# Reto 2\n",
        "* Generar una lista de 19 números aleatorios **con posible repetición**, entre 10 y 99 (ambos incluidos)\n",
        "* En el array todos los números deben ser pares menos uno que ha de ser impar\n",
        "* Imprimir la lista que cumpla el criterio"
      ],
      "metadata": {
        "id": "RuJ1VV21YQrU"
      },
      "id": "RuJ1VV21YQrU"
    },
    {
      "cell_type": "markdown",
      "source": [
        "## Método 1"
      ],
      "metadata": {
        "id": "CcxxCn4OqS6G"
      },
      "id": "CcxxCn4OqS6G"
    },
    {
      "cell_type": "code",
      "source": [
        "from random import randrange\n",
        "\n",
        "l = [randrange(10,100,2) for i in range(18)] + [randrange(11,100,2)]\n",
        "l.sort()\n",
        "print(*l)"
      ],
      "metadata": {
        "colab": {
          "base_uri": "https://localhost:8080/"
        },
        "id": "FVPW0GsOhXue",
        "outputId": "50a6f470-306e-4a83-d22f-e5df263cd67f"
      },
      "id": "FVPW0GsOhXue",
      "execution_count": 74,
      "outputs": [
        {
          "output_type": "stream",
          "name": "stdout",
          "text": [
            "18 20 24 24 30 38 42 44 48 60 70 74 76 78 80 80 94 95 98\n"
          ]
        }
      ]
    },
    {
      "cell_type": "markdown",
      "source": [
        "## Método 2\n",
        "Marcando la posición del número impar dentro de la lista."
      ],
      "metadata": {
        "id": "FvP7-Ib5qW2k"
      },
      "id": "FvP7-Ib5qW2k"
    },
    {
      "cell_type": "code",
      "source": [
        "from random import randrange\n",
        "\n",
        "l = [randrange(10,100,2) for i in range(18)] + [randrange(11,100,2)]\n",
        "l.sort()\n",
        "print(*l)\n",
        "\n",
        "for i,v in enumerate(l):        # i,v son el index y el valor\n",
        "    if v%2:\n",
        "        print(\"   \"*i + \"**\")   # marca la posición del número impar\n"
      ],
      "metadata": {
        "id": "mTR6wqiZoZz-",
        "outputId": "2c239978-bac9-40dc-9881-f611676a5324",
        "colab": {
          "base_uri": "https://localhost:8080/"
        }
      },
      "id": "mTR6wqiZoZz-",
      "execution_count": 107,
      "outputs": [
        {
          "output_type": "stream",
          "name": "stdout",
          "text": [
            "16 26 28 28 34 40 40 42 44 60 62 65 78 84 84 86 96 98 98\n",
            "                                 **\n"
          ]
        }
      ]
    }
  ],
  "metadata": {
    "kernelspec": {
      "display_name": "Python 3",
      "language": "python",
      "name": "python3"
    },
    "language_info": {
      "codemirror_mode": {
        "name": "ipython",
        "version": 3
      },
      "file_extension": ".py",
      "mimetype": "text/x-python",
      "name": "python",
      "nbconvert_exporter": "python",
      "pygments_lexer": "ipython3",
      "version": "3.8.8"
    },
    "colab": {
      "name": "caso1.10.ipynb",
      "provenance": [],
      "include_colab_link": true
    }
  },
  "nbformat": 4,
  "nbformat_minor": 5
}