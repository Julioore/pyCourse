{
  "nbformat": 4,
  "nbformat_minor": 0,
  "metadata": {
    "colab": {
      "name": "Resumen1A.ipynb",
      "provenance": [],
      "authorship_tag": "ABX9TyOpTUrkfmxKm6UXdSRCNCKO",
      "include_colab_link": true
    },
    "kernelspec": {
      "name": "python3",
      "display_name": "Python 3"
    },
    "language_info": {
      "name": "python"
    }
  },
  "cells": [
    {
      "cell_type": "markdown",
      "metadata": {
        "id": "view-in-github",
        "colab_type": "text"
      },
      "source": [
        "<a href=\"https://colab.research.google.com/github/financieras/pyCourse/blob/main/ejemplos/Resumen1A.ipynb\" target=\"_parent\"><img src=\"https://colab.research.google.com/assets/colab-badge.svg\" alt=\"Open In Colab\"/></a>"
      ]
    },
    {
      "cell_type": "markdown",
      "metadata": {
        "id": "8808b9ed"
      },
      "source": [
        "# Hola Mundo"
      ]
    },
    {
      "cell_type": "code",
      "execution_count": null,
      "metadata": {
        "id": "f7cab031"
      },
      "outputs": [],
      "source": [
        "\"Hola Mundo\""
      ]
    },
    {
      "cell_type": "code",
      "execution_count": null,
      "metadata": {
        "id": "92c02a71"
      },
      "outputs": [],
      "source": [
        "print('Hola mundo')"
      ]
    },
    {
      "cell_type": "markdown",
      "metadata": {
        "id": "2b69823c"
      },
      "source": [
        "## Comentarios del programador"
      ]
    },
    {
      "cell_type": "code",
      "execution_count": null,
      "metadata": {
        "id": "8b8da79b"
      },
      "outputs": [],
      "source": [
        "# esto es un comentario del programador"
      ]
    },
    {
      "cell_type": "markdown",
      "metadata": {
        "id": "2119675e"
      },
      "source": [
        "## Operaciones básicas"
      ]
    },
    {
      "cell_type": "code",
      "execution_count": null,
      "metadata": {
        "id": "c99b9d46"
      },
      "outputs": [],
      "source": [
        "# suma\n",
        "5 + 7"
      ]
    },
    {
      "cell_type": "code",
      "execution_count": null,
      "metadata": {
        "id": "3370862b"
      },
      "outputs": [],
      "source": [
        "5 - 7  # resta"
      ]
    },
    {
      "cell_type": "markdown",
      "metadata": {
        "id": "88313b50"
      },
      "source": [
        "## Variables\n",
        "Podemos trabajar con variables:\n",
        "- declararlas\n",
        "- asignar un valor\n",
        "- operar con ellas"
      ]
    },
    {
      "cell_type": "code",
      "execution_count": null,
      "metadata": {
        "id": "c16fd02d"
      },
      "outputs": [],
      "source": [
        "x = 4"
      ]
    },
    {
      "cell_type": "code",
      "execution_count": null,
      "metadata": {
        "id": "29d5f50a"
      },
      "outputs": [],
      "source": [
        "x"
      ]
    },
    {
      "cell_type": "code",
      "execution_count": null,
      "metadata": {
        "id": "d47b585b"
      },
      "outputs": [],
      "source": [
        "y = 5\n",
        "y"
      ]
    },
    {
      "cell_type": "code",
      "execution_count": null,
      "metadata": {
        "id": "e3fa14cc"
      },
      "outputs": [],
      "source": [
        "z = x + y\n",
        "print(z)"
      ]
    },
    {
      "cell_type": "markdown",
      "metadata": {
        "id": "79405b76"
      },
      "source": [
        "# Operaciones aritméticas"
      ]
    },
    {
      "cell_type": "markdown",
      "metadata": {
        "id": "a738d7e1"
      },
      "source": [
        "\\+   &nbsp;&nbsp;&nbsp;&nbsp;&nbsp; Suma, también concatena  \n",
        "\\-   &nbsp;&nbsp;&nbsp;&nbsp;&nbsp;&nbsp; Resta  \n",
        "\\*   &nbsp;&nbsp;&nbsp;&nbsp;&nbsp;&nbsp; Producto  \n",
        "**   &nbsp;&nbsp;&nbsp;&nbsp;&nbsp; Potencias, elevar, también con una librería matemática  \n",
        "/    &nbsp;&nbsp;&nbsp;&nbsp;&nbsp;&nbsp; Dividir. Siempre da como resultado un número de coma flotante  \n",
        "//   &nbsp;&nbsp;&nbsp;&nbsp;&nbsp; División entera  \n",
        "%    &nbsp;&nbsp;&nbsp;&nbsp; Resto, Residuo, Módulo"
      ]
    },
    {
      "cell_type": "code",
      "execution_count": null,
      "metadata": {
        "id": "6e6b247c"
      },
      "outputs": [],
      "source": [
        "2+3"
      ]
    },
    {
      "cell_type": "code",
      "execution_count": null,
      "metadata": {
        "id": "96600a19"
      },
      "outputs": [],
      "source": [
        "5--3"
      ]
    },
    {
      "cell_type": "code",
      "execution_count": null,
      "metadata": {
        "id": "5e06902f"
      },
      "outputs": [],
      "source": [
        "5*4"
      ]
    },
    {
      "cell_type": "code",
      "execution_count": null,
      "metadata": {
        "id": "8a8dc05e"
      },
      "outputs": [],
      "source": [
        "101/17       # float"
      ]
    },
    {
      "cell_type": "markdown",
      "metadata": {
        "id": "12e7e382"
      },
      "source": [
        "Podemos incluir comentarios del programador."
      ]
    },
    {
      "cell_type": "code",
      "execution_count": null,
      "metadata": {
        "id": "98c7ec67"
      },
      "outputs": [],
      "source": [
        "# al dividir siempre se obtiene un número con coma flotante (float)\n",
        "12/3"
      ]
    },
    {
      "cell_type": "code",
      "execution_count": null,
      "metadata": {
        "id": "b6ba9f2e"
      },
      "outputs": [],
      "source": [
        "17//5   # división entera"
      ]
    },
    {
      "cell_type": "code",
      "execution_count": null,
      "metadata": {
        "id": "1f633827"
      },
      "outputs": [],
      "source": [
        "17%5    # resto, residuo, módulo"
      ]
    },
    {
      "cell_type": "code",
      "execution_count": null,
      "metadata": {
        "id": "c5f9f890"
      },
      "outputs": [],
      "source": [
        "2**3    # potencias"
      ]
    },
    {
      "cell_type": "code",
      "execution_count": null,
      "metadata": {
        "id": "c4afe73b"
      },
      "outputs": [],
      "source": [
        "9**.5   # raíz cuadrada"
      ]
    },
    {
      "cell_type": "markdown",
      "metadata": {
        "id": "101ae317"
      },
      "source": [
        "## Prelación de operaciones\n",
        "Los paréntesis tienen prioridad."
      ]
    },
    {
      "cell_type": "code",
      "execution_count": null,
      "metadata": {
        "id": "aff3117a"
      },
      "outputs": [],
      "source": [
        "1+((10+5*3)*2)/10"
      ]
    },
    {
      "cell_type": "markdown",
      "metadata": {
        "id": "e98a92a5"
      },
      "source": [
        "# Cadenas (Strings)"
      ]
    },
    {
      "cell_type": "code",
      "execution_count": null,
      "metadata": {
        "id": "4ee2203b"
      },
      "outputs": [],
      "source": [
        "\"hola\"            # directamente en el intérprete de Python"
      ]
    },
    {
      "cell_type": "code",
      "execution_count": null,
      "metadata": {
        "id": "e23a6dd7"
      },
      "outputs": [],
      "source": [
        "print(\"Hola\")     # usando la función print"
      ]
    },
    {
      "cell_type": "markdown",
      "metadata": {
        "id": "6081021a"
      },
      "source": [
        "## Repetir expresiones"
      ]
    },
    {
      "cell_type": "code",
      "execution_count": null,
      "metadata": {
        "id": "31f0bcb0"
      },
      "outputs": [],
      "source": [
        "\"hi\" * 3          # repetir expresiones"
      ]
    },
    {
      "cell_type": "code",
      "execution_count": null,
      "metadata": {
        "id": "3e6f7b72"
      },
      "outputs": [],
      "source": [
        "print(\"Bienvenidos\")\n",
        "print(\"=\"*30)\n",
        "print(\"Fin del progama\")"
      ]
    },
    {
      "cell_type": "markdown",
      "metadata": {
        "id": "58c650b0"
      },
      "source": [
        "## Concatenar expresiones"
      ]
    },
    {
      "cell_type": "code",
      "execution_count": null,
      "metadata": {
        "id": "e379b647"
      },
      "outputs": [],
      "source": [
        "\"hola\" + \"mundo\"  # concatenar"
      ]
    },
    {
      "cell_type": "code",
      "execution_count": null,
      "metadata": {
        "id": "1eb00665"
      },
      "outputs": [],
      "source": [
        "print(\"hola\" + \" \" + \"mundo\")"
      ]
    },
    {
      "cell_type": "markdown",
      "metadata": {
        "id": "5f9bfa3b"
      },
      "source": [
        "## Asignando variables"
      ]
    },
    {
      "cell_type": "code",
      "execution_count": null,
      "metadata": {
        "id": "81059451"
      },
      "outputs": [],
      "source": [
        "string1 = \"hola\"\n",
        "string2 =  \"mundo\"\n",
        "string3 = string1 + string2  # concatenando\n",
        "print(string3)               # si olvidamos cerrar el paréntesis se producirá un Error de sintaxis"
      ]
    },
    {
      "cell_type": "markdown",
      "metadata": {
        "id": "01950c38"
      },
      "source": [
        "Un enlace a un post que muestra múltiples formas de decir 'Hola mundo' en Python.\n",
        "\n",
        "[Hola mundo en Python](https://altocodigo.blogspot.com/2018/06/1-hola-mundo-en-python.html)"
      ]
    },
    {
      "cell_type": "markdown",
      "metadata": {
        "id": "11020dc7"
      },
      "source": [
        "## Error al concatenar con un número"
      ]
    },
    {
      "cell_type": "code",
      "execution_count": null,
      "metadata": {
        "id": "5f4a6df6"
      },
      "outputs": [],
      "source": [
        "#\"Vuelo \" + 505               # TypeError: can only concatenate str (not \"int\") to str"
      ]
    },
    {
      "cell_type": "code",
      "execution_count": null,
      "metadata": {
        "id": "86e3504e"
      },
      "outputs": [],
      "source": [
        "\"Vuelo \" + str(505)           # la función str() convierte un número en cadena"
      ]
    },
    {
      "cell_type": "markdown",
      "source": [
        "### Mi nombre y mi edad\n",
        "A la edad la tenemos que añadir la función `str()` que convierte un número en cadena (string)."
      ],
      "metadata": {
        "id": "A4n4DBvZK02x"
      }
    },
    {
      "cell_type": "code",
      "source": [
        "nombre = \"Alex\"\n",
        "edad = 30\n",
        "print(\"Me llamo \" + nombre + \" y tengo \" + str(edad) + \" años.\")"
      ],
      "metadata": {
        "id": "MfL3KJ6mLOjz"
      },
      "execution_count": null,
      "outputs": []
    },
    {
      "cell_type": "markdown",
      "source": [
        "#### Otra forma de escribirlo más moderna, con formato"
      ],
      "metadata": {
        "id": "OTx36JOWLlrt"
      }
    },
    {
      "cell_type": "code",
      "source": [
        "print(f\"Me llamo {nombre} y tengo {edad} años.\")"
      ],
      "metadata": {
        "id": "djkwBfKBLr0F"
      },
      "execution_count": null,
      "outputs": []
    },
    {
      "cell_type": "markdown",
      "metadata": {
        "id": "d2d77353"
      },
      "source": [
        "## Comparando\n",
        "* = &nbsp;&nbsp;&nbsp;&nbsp;se usa para asignar un valor a una variable\n",
        "* == &nbsp;&nbsp;se usa para comparar dos valores o variables, formándose una expresión lógica"
      ]
    },
    {
      "cell_type": "code",
      "execution_count": null,
      "metadata": {
        "id": "1d3a196b"
      },
      "outputs": [],
      "source": [
        "2 + 8 == 10          #True"
      ]
    },
    {
      "cell_type": "code",
      "execution_count": null,
      "metadata": {
        "id": "1b908195"
      },
      "outputs": [],
      "source": [
        "123 == '123'         #False"
      ]
    },
    {
      "cell_type": "code",
      "execution_count": null,
      "metadata": {
        "id": "bce9b6a9"
      },
      "outputs": [],
      "source": [
        "'Hola' == \"Hola\"     #True"
      ]
    },
    {
      "cell_type": "code",
      "execution_count": null,
      "metadata": {
        "id": "e25dd0e9"
      },
      "outputs": [],
      "source": [
        "\"A\" + \"B\" == \"AB\"    #True"
      ]
    },
    {
      "cell_type": "markdown",
      "metadata": {
        "id": "789833ee"
      },
      "source": [
        "# Formateando Cadenas (Strings)\n",
        "\n",
        "\n",
        "## Sistema antiguo con ```%s```"
      ]
    },
    {
      "cell_type": "code",
      "execution_count": null,
      "metadata": {
        "id": "c0387e81"
      },
      "outputs": [],
      "source": [
        "print(\"La capital de %s es %s\"%(\"Lituania\", \"Vilna\"))"
      ]
    },
    {
      "cell_type": "markdown",
      "metadata": {
        "id": "40007ba8"
      },
      "source": [
        "## Usando ```format```"
      ]
    },
    {
      "cell_type": "code",
      "execution_count": null,
      "metadata": {
        "id": "c31fb145"
      },
      "outputs": [],
      "source": [
        "edad = 10\n",
        "print('Cuando tenía {} años media {} cm.'.format(edad, 140))"
      ]
    },
    {
      "cell_type": "code",
      "execution_count": null,
      "metadata": {
        "id": "85018905"
      },
      "outputs": [],
      "source": [
        "print(\"La suma de {} más {} es igual a {}\".format(2, 3, 2+3))"
      ]
    },
    {
      "cell_type": "code",
      "execution_count": null,
      "metadata": {
        "id": "35918965"
      },
      "outputs": [],
      "source": [
        "texto = \"El producto de {} y {} es {}\"\n",
        "print(texto.format(5, 4, 20))"
      ]
    },
    {
      "cell_type": "code",
      "execution_count": null,
      "metadata": {
        "id": "b23ef7f3"
      },
      "outputs": [],
      "source": [
        "nombre = \"Luis\"\n",
        "apellido = \"Olmo\"\n",
        "print(\"Me llamo {} {}\".format(nombre, apellido))"
      ]
    },
    {
      "cell_type": "code",
      "execution_count": null,
      "metadata": {
        "id": "ef7f6b0a"
      },
      "outputs": [],
      "source": [
        "nombre = \"Ana\"\n",
        "apellido = \"Vega\"\n",
        "texto = \"Me llamo {0} {1} pero llámame simplemente {0}\"\n",
        "print(texto.format(nombre, apellido))                           # el primero es el de índice 0"
      ]
    },
    {
      "cell_type": "code",
      "execution_count": null,
      "metadata": {
        "id": "a11eb886"
      },
      "outputs": [],
      "source": [
        "texto = \"El {b} y la {a}\"\n",
        "print(texto.format(a = \"Luna\", b = \"Sol\"))"
      ]
    },
    {
      "cell_type": "code",
      "execution_count": null,
      "metadata": {
        "id": "040ebe18"
      },
      "outputs": [],
      "source": [
        "nombre = \"Juan\"\n",
        "edad = 24\n",
        "print(\"Nuestro amigo {} cumple {} años\".format(nombre,edad))"
      ]
    },
    {
      "cell_type": "code",
      "execution_count": null,
      "metadata": {
        "id": "b9ab5b87"
      },
      "outputs": [],
      "source": [
        "print(\"Para conseguir tu objetivo necesitas tres cosas: {m}, {m} y {m}.\".format(m='motivación'))"
      ]
    },
    {
      "cell_type": "markdown",
      "metadata": {
        "id": "395c2c29"
      },
      "source": [
        "## El sistema ```f```"
      ]
    },
    {
      "cell_type": "code",
      "execution_count": null,
      "metadata": {
        "id": "49c26ddc"
      },
      "outputs": [],
      "source": [
        "nombre = \"Juan\"\n",
        "edad = 24\n",
        "print(f\"Nuestro amigo {nombre} cumple {edad} años\")"
      ]
    },
    {
      "cell_type": "code",
      "execution_count": null,
      "metadata": {
        "id": "8bce4ed7"
      },
      "outputs": [],
      "source": [
        "x = 4\n",
        "y = 6\n",
        "z = x + y\n",
        "print(f\"La suma de {x} más {y} es igual a {z}\")"
      ]
    },
    {
      "cell_type": "markdown",
      "metadata": {
        "id": "f7755624"
      },
      "source": [
        "Podemos realizar operaciones en las llaves, dentro de las comillas."
      ]
    },
    {
      "cell_type": "code",
      "execution_count": null,
      "metadata": {
        "id": "b27687d8"
      },
      "outputs": [],
      "source": [
        "print(f'El área es {2*4}')"
      ]
    },
    {
      "cell_type": "markdown",
      "metadata": {
        "id": "4c95b292"
      },
      "source": [
        "### Invocando funciones\n",
        "Incluso podemos invocar funciones dentro de las comillas."
      ]
    },
    {
      "cell_type": "code",
      "execution_count": null,
      "metadata": {
        "id": "7c177f26"
      },
      "outputs": [],
      "source": [
        "def doblar(n):\n",
        "  return 2*n\n",
        "\n",
        "print(f\"El doble de 9 es {doblar(9)}\")"
      ]
    },
    {
      "cell_type": "markdown",
      "metadata": {
        "id": "38653a89"
      },
      "source": [
        "# Nombres de variables"
      ]
    },
    {
      "cell_type": "markdown",
      "metadata": {
        "id": "c3f43f13"
      },
      "source": [
        "Una variable es un espacio en memoria capaz de contener un dato.  \n",
        "Las variables en Python son **case-sensitive**, se diferencia entre mayúsculas y minúsculas.\n",
        "\n",
        "Dos estilos:\n",
        "- [camelCase](https://www.google.com/search?q=camelCase)\n",
        "- [snake_case](https://www.google.com/search?q=snake_case)"
      ]
    },
    {
      "cell_type": "code",
      "execution_count": null,
      "metadata": {
        "id": "3450565f"
      },
      "outputs": [],
      "source": [
        "mi_nombre = \"Felipe\"  # se recomienda empezar con minúscula\n",
        "_ciudad = \"Buenos Aires\"\n",
        "edad4 = 23"
      ]
    },
    {
      "cell_type": "code",
      "execution_count": null,
      "metadata": {
        "id": "db39c43b"
      },
      "outputs": [],
      "source": [
        "#mi-nombre = \"Ana\"    # error, no acepta guion ni otros símbolos"
      ]
    },
    {
      "cell_type": "code",
      "execution_count": null,
      "metadata": {
        "id": "431ba35c"
      },
      "outputs": [],
      "source": [
        "#mi nombre = \"Ana\"    # error, no puede contener espacios"
      ]
    },
    {
      "cell_type": "code",
      "execution_count": null,
      "metadata": {
        "id": "1c0a6d5b"
      },
      "outputs": [],
      "source": [
        "#4edad = 15           # error, no puede empezar por número"
      ]
    },
    {
      "cell_type": "code",
      "execution_count": null,
      "metadata": {
        "id": "b8231eab"
      },
      "outputs": [],
      "source": [
        "#$edad = 30           # error, no puede empezar por símbolo"
      ]
    },
    {
      "cell_type": "code",
      "execution_count": null,
      "metadata": {
        "id": "9e70faff"
      },
      "outputs": [],
      "source": [
        "nombreApellidos = \"Juan Ruiz\"    # lower camel style\n",
        "NombreApellidos = \"Pablo Díez\"   # upper camel style\n",
        "nombre_del_padre = \"Juan\"        # sanke case\n",
        "nombreApellidos"
      ]
    },
    {
      "cell_type": "code",
      "execution_count": null,
      "metadata": {
        "id": "560ce564"
      },
      "outputs": [],
      "source": [
        "nombreApellidos == NombreApellidos   # False, case sensitive"
      ]
    },
    {
      "cell_type": "markdown",
      "metadata": {
        "id": "65a29922"
      },
      "source": [
        "# Palabras reservadas  \n",
        "Existen ciertos nombres reservamos que no se pueden usar como nombres de variables."
      ]
    },
    {
      "cell_type": "markdown",
      "metadata": {
        "id": "7f2a5458"
      },
      "source": [
        "- and\n",
        "- as\n",
        "- assert\n",
        "- break\n",
        "- class\n",
        "- continue\n",
        "- def\n",
        "- del\n",
        "- elif\n",
        "- else\n",
        "- except\n",
        "- exec\n",
        "- finally\n",
        "- for\n",
        "- from\n",
        "- global\n",
        "- if\n",
        "- import\n",
        "- in\n",
        "- is\n",
        "- lambda\n",
        "- not\n",
        "- or\n",
        "- pass\n",
        "- print\n",
        "- raise\n",
        "- return\n",
        "- try\n",
        "- while\n",
        "- with\n",
        "- yield"
      ]
    },
    {
      "cell_type": "code",
      "execution_count": null,
      "metadata": {
        "id": "4341e10b"
      },
      "outputs": [],
      "source": [
        "# Ejemplo que da error\n",
        "#import = 15"
      ]
    },
    {
      "cell_type": "code",
      "execution_count": null,
      "metadata": {
        "id": "9cfcb06b"
      },
      "outputs": [],
      "source": [
        "# import es una palabra reservada del lenguaje \n",
        "# (Python Keywords)\n",
        "# Mejor myimport\n",
        "myimport = 15\n",
        "myimport"
      ]
    },
    {
      "cell_type": "markdown",
      "metadata": {
        "id": "f8434e2b"
      },
      "source": [
        "# Escribiendo líneas de código"
      ]
    },
    {
      "cell_type": "code",
      "execution_count": null,
      "metadata": {
        "id": "e907aa45"
      },
      "outputs": [],
      "source": [
        "print(\"Hola\")      # imprimir en una línea"
      ]
    },
    {
      "cell_type": "markdown",
      "metadata": {
        "id": "1c107459"
      },
      "source": [
        "## Imprimir en varias líneas  \n"
      ]
    },
    {
      "cell_type": "code",
      "execution_count": null,
      "metadata": {
        "id": "cc0643a3"
      },
      "outputs": [],
      "source": [
        "print(\"\"\"Esto es\n",
        "una impresión\n",
        "de un párrafo\n",
        "en varias líneas\"\"\")"
      ]
    },
    {
      "cell_type": "code",
      "execution_count": null,
      "metadata": {
        "id": "58f26846"
      },
      "outputs": [],
      "source": [
        "print('''Elija la opción deseada:\n",
        "   1 Escribir\n",
        "   2 Editar\n",
        "   3 Grabar\n",
        "   4 Borrar''')"
      ]
    },
    {
      "cell_type": "markdown",
      "metadata": {
        "id": "0b44c481"
      },
      "source": [
        "### ```\\n``` significa new line"
      ]
    },
    {
      "cell_type": "code",
      "execution_count": null,
      "metadata": {
        "id": "29352df9"
      },
      "outputs": [],
      "source": [
        "print(\"Seleccione su destino \\nPlaya \\nMontaña\")         # con \\n hacemos un cambio de línea"
      ]
    },
    {
      "cell_type": "markdown",
      "metadata": {
        "id": "8af16443"
      },
      "source": [
        "### ```\\t``` significa tabulador"
      ]
    },
    {
      "cell_type": "code",
      "execution_count": null,
      "metadata": {
        "id": "28441c30"
      },
      "outputs": [],
      "source": [
        "print(\"Seleccione su destino \\n\\tPlaya \\n\\tMontaña\")     # con \\t introducimos un tabulador"
      ]
    },
    {
      "cell_type": "markdown",
      "metadata": {
        "id": "c84b6e09"
      },
      "source": [
        "### ```r``` significa raw\n",
        "Permite escribir el contenido de una cadena en bruto (en crudo)."
      ]
    },
    {
      "cell_type": "code",
      "execution_count": null,
      "metadata": {
        "id": "21c1f3f0"
      },
      "outputs": [],
      "source": [
        "print(r\"Seleccione su destino \\n\\tPlaya \\n\\tMontaña\")    # r Imprime en bruto (raw)"
      ]
    },
    {
      "cell_type": "markdown",
      "source": [
        "#### Usando caracteres de escape\n",
        "Las secuencias de escape permiten incluir caracteres especiales en las cadenas. Lo conseguiremos añadiendo una barra invertida `\\` antes del carácter que deseemos escapar."
      ],
      "metadata": {
        "id": "6oVdySV5UYKC"
      }
    },
    {
      "cell_type": "markdown",
      "source": [
        "##### sin raw, sin caracter de escape"
      ],
      "metadata": {
        "id": "Y0awSshaWpxc"
      }
    },
    {
      "cell_type": "code",
      "source": [
        "print(\"Si usamos \\n creamos una nueva línea, quivale a un 'retorno de carro'.\")   # no ha funcionado, no se ve el  \\n"
      ],
      "metadata": {
        "id": "or1dCPTFUh_7"
      },
      "execution_count": null,
      "outputs": []
    },
    {
      "cell_type": "markdown",
      "source": [
        "##### con raw"
      ],
      "metadata": {
        "id": "genEx6ivWyaY"
      }
    },
    {
      "cell_type": "code",
      "source": [
        "print(r\"Si usamos \\n creamos una nueva línea, quivale a un 'retorno de carro'.\")  # ahora si ha funcionado, si se ve el  \\n"
      ],
      "metadata": {
        "id": "TSdJRLIcVZ2_"
      },
      "execution_count": null,
      "outputs": []
    },
    {
      "cell_type": "markdown",
      "source": [
        "##### con caracter de escape"
      ],
      "metadata": {
        "id": "i_VaPhmJXBlt"
      }
    },
    {
      "cell_type": "code",
      "source": [
        "print(\"Si usamos \\\\n creamos una nueva línea, quivale a un 'retorno de carro'.\")  # también funciona con un caracter de escape \\\\n"
      ],
      "metadata": {
        "id": "Bnn4jOvEVloA"
      },
      "execution_count": null,
      "outputs": []
    },
    {
      "cell_type": "markdown",
      "metadata": {
        "id": "0aef9439"
      },
      "source": [
        "## Una única línea de código en varias líneas de texto"
      ]
    },
    {
      "cell_type": "markdown",
      "metadata": {
        "id": "619db544"
      },
      "source": [
        "Veamos un ejemplo que luego vamos a transformar."
      ]
    },
    {
      "cell_type": "code",
      "execution_count": null,
      "metadata": {
        "id": "69c75219"
      },
      "outputs": [],
      "source": [
        "x = 1\n",
        "y = 2\n",
        "z = 3\n",
        "if x==1 and y==2 and z==3:\n",
        "    print(\"Los valores son correctos.\")"
      ]
    },
    {
      "cell_type": "markdown",
      "metadata": {
        "id": "d2e8d49f"
      },
      "source": [
        "El caso anterior se puede escribir de otra forma.\n",
        "\n",
        "* ```;``` Con el punto y coma podemos escribir varias líneas de código en una sola línea de texto.\n",
        "* ```\\``` Con la barra invertida podemos separar una línea de código en varias líneas de texto."
      ]
    },
    {
      "cell_type": "code",
      "execution_count": null,
      "metadata": {
        "id": "eda3e051"
      },
      "outputs": [],
      "source": [
        "x=1; y=2; z=3\n",
        "if x==1 and \\\n",
        "   y==2 and \\\n",
        "   z==3:\n",
        "    print(\"Los valores son correctos.\")"
      ]
    },
    {
      "cell_type": "markdown",
      "metadata": {
        "id": "a9c355ce"
      },
      "source": [
        "## Escribiendo en raw"
      ]
    },
    {
      "cell_type": "markdown",
      "metadata": {
        "id": "24d8b71d"
      },
      "source": [
        "### Ejemplo 1"
      ]
    },
    {
      "cell_type": "code",
      "execution_count": null,
      "metadata": {
        "id": "cb178046"
      },
      "outputs": [],
      "source": [
        "print(\"C:\\directorio\\nombre\")  # se imprime incorrectamente en dos líneas"
      ]
    },
    {
      "cell_type": "markdown",
      "metadata": {
        "id": "d1bb35e0"
      },
      "source": [
        "#### Solución 1"
      ]
    },
    {
      "cell_type": "code",
      "execution_count": null,
      "metadata": {
        "id": "25b9c375"
      },
      "outputs": [],
      "source": [
        "print(r\"C:\\directorio\\nombre\")  # r indica que se imprimirá en raw (en crudo)"
      ]
    },
    {
      "cell_type": "markdown",
      "metadata": {
        "id": "d121577f"
      },
      "source": [
        "#### Solución 2"
      ]
    },
    {
      "cell_type": "code",
      "execution_count": null,
      "metadata": {
        "id": "6d3b286b"
      },
      "outputs": [],
      "source": [
        "print(\"C:\\\\directorio\\\\nombre\") # utilizando caracteres de escape"
      ]
    },
    {
      "cell_type": "markdown",
      "metadata": {
        "id": "e9d700b2"
      },
      "source": [
        "### Ejemplo 2"
      ]
    },
    {
      "cell_type": "code",
      "execution_count": null,
      "metadata": {
        "id": "9f3729e5"
      },
      "outputs": [],
      "source": [
        "# imprimiendo caracteres Unicode. Se pone \\u y luego el código del carácter Unicode\n",
        "print(\"\\u0061\")         # a\n",
        "print(\"\\u265E\")         # ♞\n",
        "print(\"\\u2167\")         # Ⅷ\n",
        "print(\"\\u2211\")         # ∑\n",
        "print(\"\\u23F3\")         # ⏳"
      ]
    },
    {
      "cell_type": "code",
      "execution_count": null,
      "metadata": {
        "id": "cd162d4b"
      },
      "outputs": [],
      "source": [
        "#print(\"C:\\user\\eloisa\")    # Se produce un error ya que después de \\u Python espera encontrar un carácter Unicode"
      ]
    },
    {
      "cell_type": "markdown",
      "metadata": {
        "id": "e382a1b5"
      },
      "source": [
        "#### Solución 1: con raw"
      ]
    },
    {
      "cell_type": "code",
      "execution_count": null,
      "metadata": {
        "id": "ef9b0cc1"
      },
      "outputs": [],
      "source": [
        "print(r\"C:\\user\\eloisa\")    # solución 1 con r de raw"
      ]
    },
    {
      "cell_type": "markdown",
      "metadata": {
        "id": "add14f0a"
      },
      "source": [
        "#### Solución 2: con caracter de escape"
      ]
    },
    {
      "cell_type": "code",
      "execution_count": null,
      "metadata": {
        "id": "8ecc7e6b"
      },
      "outputs": [],
      "source": [
        "print(\"C:\\\\user\\\\eloisa\")    # solución 2 con caracteres de escape"
      ]
    },
    {
      "cell_type": "markdown",
      "metadata": {
        "id": "364fe9c3"
      },
      "source": [
        "## Variables con caracteres de impresión"
      ]
    },
    {
      "cell_type": "code",
      "execution_count": null,
      "metadata": {
        "id": "d0875f67"
      },
      "outputs": [],
      "source": [
        "frase = \"Primero \\tiremos a la playa \\nSegundo \\taprenderemos a nadar\"\n",
        "print(frase)"
      ]
    },
    {
      "cell_type": "markdown",
      "metadata": {
        "id": "14ea54a6"
      },
      "source": [
        "## Imprimiendo línea vacía\n",
        "Usando print()"
      ]
    },
    {
      "cell_type": "code",
      "execution_count": null,
      "metadata": {
        "id": "430a93e6"
      },
      "outputs": [],
      "source": [
        "print('Playa')\n",
        "print('Montaña')\n",
        "print()\n",
        "print('Elija sus vacaciones favoritas')"
      ]
    },
    {
      "cell_type": "code",
      "execution_count": null,
      "metadata": {
        "id": "b92e09e4"
      },
      "outputs": [],
      "source": [
        "print('Playa')\n",
        "print('Montaña')\n",
        "print('')\n",
        "print('Elija sus vacaciones favoritas')"
      ]
    },
    {
      "cell_type": "code",
      "execution_count": null,
      "metadata": {
        "id": "4e101455"
      },
      "outputs": [],
      "source": [
        "print('Playa')\n",
        "print('Montaña\\n')\n",
        "print('Elija sus vacaciones favoritas')"
      ]
    },
    {
      "cell_type": "markdown",
      "metadata": {
        "id": "07757f42"
      },
      "source": [
        "## La coma como separador\n",
        "En un print podemos separar con coma que es un separador que imprime un espacio.  \n",
        "Este separador se puede cambiar."
      ]
    },
    {
      "cell_type": "code",
      "execution_count": null,
      "metadata": {
        "id": "b582d57c"
      },
      "outputs": [],
      "source": [
        "m = \"Madrid\"\n",
        "p = \"París\"\n",
        "r = \"Roma\"\n",
        "print(m, p, r)             # al imprimir se separan las ciudades con un espacio"
      ]
    },
    {
      "cell_type": "code",
      "execution_count": null,
      "metadata": {
        "id": "6280dc51"
      },
      "outputs": [],
      "source": [
        "print(m, p, r, sep=\";\")    # cambiamos el separador a un punto y coma"
      ]
    },
    {
      "cell_type": "code",
      "execution_count": null,
      "metadata": {
        "id": "6eb74123"
      },
      "outputs": [],
      "source": [
        "print(m, p, r, sep=\"\\n\")   # cambiamos el separador a un retorno de carro"
      ]
    },
    {
      "cell_type": "markdown",
      "metadata": {
        "id": "6560885d"
      },
      "source": [
        "# Variables  \n",
        "* Declaración &nbsp;&nbsp;&nbsp;→&nbsp;&nbsp; en Python no declaramos el tipo de las variables\n",
        "* Inicialización &nbsp;&nbsp;→&nbsp;&nbsp; cuando se asigna un primer valor\n",
        "* Asignación &nbsp;&nbsp;&nbsp;&nbsp;→&nbsp;&nbsp; cuando se modifica el valor de la variable\n"
      ]
    },
    {
      "cell_type": "code",
      "execution_count": null,
      "metadata": {
        "id": "9e8cf04e"
      },
      "outputs": [],
      "source": [
        "x = 3\n",
        "x = 10\n",
        "print(x)   # imprime 10 que es el último valor, una nueva asignación reemplaza el valor de la vble.\n",
        "x = x+1    # ahora la variable x vale 11.  Equivale a poner   x+=1   (contador)\n",
        "x"
      ]
    },
    {
      "cell_type": "code",
      "execution_count": null,
      "metadata": {
        "id": "999677c9"
      },
      "outputs": [],
      "source": [
        "a, b, c = 10, 20, 30             # asignación a múltiples variables\n",
        "p = q = r = 1                    # las tres variables se asignan al mismo valor"
      ]
    },
    {
      "cell_type": "code",
      "execution_count": null,
      "metadata": {
        "id": "8157ad7d"
      },
      "outputs": [],
      "source": [
        "print('a=', a, 'b=', b, 'c=', c)                           # al separar con coma se deja un espacio\n",
        "print('a=' + str(a) + ', b=' + str(b) + ', c=' + str(c))   # solución 1 para evitar el espacio\n",
        "print(f'a={a}, b={b}, c={c}')                              # solución 2 para evitar el espacio"
      ]
    },
    {
      "cell_type": "markdown",
      "metadata": {
        "id": "25a6156f"
      },
      "source": [
        "# Permutar valores  \n",
        "## Utilizando una variable auxiliar\n",
        "<img src=\"https://github.com/financieras/pyCourse/blob/main/jupyter/img/rojo_amarillo_azul_.jpg?raw=1\" alt=\"Tres vasos\" width=\"250\"/>"
      ]
    },
    {
      "cell_type": "code",
      "execution_count": null,
      "metadata": {
        "id": "bcb071e5"
      },
      "outputs": [],
      "source": [
        "a = 5\n",
        "b = 10\n",
        "aux = a                          # creamos una variable auxiliar, se suele llamar aux o temp\n",
        "a = b\n",
        "b = aux\n",
        "print(f'a={a}, b={b}')"
      ]
    },
    {
      "cell_type": "markdown",
      "metadata": {
        "id": "113b1dee"
      },
      "source": [
        "## Python permite permutar en una sola línea"
      ]
    },
    {
      "cell_type": "code",
      "execution_count": null,
      "metadata": {
        "id": "ba95b435"
      },
      "outputs": [],
      "source": [
        "a, b = 5, 10\n",
        "a, b = b, a                      # otra forma maravillosa de permutar valores\n",
        "print(f'a={a}, b={b}')"
      ]
    },
    {
      "cell_type": "markdown",
      "metadata": {
        "id": "600dc401"
      },
      "source": [
        "# Constantes  \n",
        "En Python no hay que declarar las constantes.  \n",
        "Una constante es una variable que no cambiará durante la ejecución del programa.  \n",
        "Por convenio se nombran en mayúsculas, por ejemplo:"
      ]
    },
    {
      "cell_type": "code",
      "execution_count": null,
      "metadata": {
        "id": "52f642f5"
      },
      "outputs": [],
      "source": [
        "IVA = 0.21\n",
        "IVA"
      ]
    },
    {
      "cell_type": "markdown",
      "metadata": {
        "id": "5bbe8678"
      },
      "source": [
        "## Importar las constantes de un fichero\n",
        "Otra opción es incorporar todas las constantes a un fichero y luego importar el fichero.  \n",
        "Creamos el archivo *constantes.py* en la subcarpeta *mypy* (o el nombre que quieras)."
      ]
    },
    {
      "cell_type": "code",
      "execution_count": null,
      "metadata": {
        "id": "188cd167"
      },
      "outputs": [],
      "source": [
        "# este es el contenido del archivo constantes.py\n",
        "# no ejecutamos estas líneas en Colab, por eso van comentadas\n",
        "\n",
        "#LUZ = 299708  # velocidad de la luz en km/s\n",
        "#G = 9.832     # gravedad de la tierra m/s2"
      ]
    },
    {
      "cell_type": "markdown",
      "metadata": {
        "id": "a222b7f1"
      },
      "source": [
        "Luego importamos la constante LUZ con alguno de los siguientes métodos."
      ]
    },
    {
      "cell_type": "markdown",
      "metadata": {
        "id": "6573f36c"
      },
      "source": [
        "### Método 1 importando todo el módulo\n",
        "Antes de ejecutar este método podemos limpiar el kernel. "
      ]
    },
    {
      "cell_type": "markdown",
      "source": [
        "#### Método 1.A: si estamos trabajando con Jupyter Notebook\n",
        "* Usando Anaconda o usando simplemente un Jupyter Notebook, sin usar Google Colab\n",
        "* Si ejecutamos las siguientes líneas desde Colab dará error (vea el método 1.B)"
      ],
      "metadata": {
        "id": "TEhf68Bz7BWv"
      }
    },
    {
      "cell_type": "code",
      "execution_count": null,
      "metadata": {
        "id": "a55a1dce"
      },
      "outputs": [],
      "source": [
        "# dejamos comentadas estas líneas ya que en Colab darían error\n",
        "# estas líneas funcionarían correctamente trabajando con Jupyter Notebook en local\n",
        "\n",
        "#from mypy.constantes import *\n",
        "#hasta_luna = 406700 / LUZ\n",
        "#print(hasta_luna, 'segundos')"
      ]
    },
    {
      "cell_type": "markdown",
      "source": [
        "#### Método 1.B: si estamos trabajando con Google Colab\n",
        "En caso de usar Google Colab, previamente necesitamos clonar el repositorio que está en GitHub."
      ],
      "metadata": {
        "id": "p-8zfpVW7g7t"
      }
    },
    {
      "cell_type": "markdown",
      "source": [
        "A la izquierda pulsamos sobre el icono con forma de carpeta (files) y se despliega el arbol de carpetas de nuestra sesión de Colab.  \n",
        "Observe los cambios que se van a producir en la carpeta `content` donde, después del clonado, aparecerá nuestro repositorio que se llama `pyCourse`.\n",
        "\n",
        "<img src=\"https://github.com/financieras/pyCourse/blob/main/jupyter/img/files_antes.png?raw=1\" alt=\"antes\" width=\"200\"/> &nbsp; &nbsp; &nbsp; &nbsp; &nbsp; &nbsp; &nbsp; &nbsp;<img src=\"https://github.com/financieras/pyCourse/blob/main/jupyter/img/files_despues.png?raw=1\" alt=\"despues\" width=\"200\"/>"
      ],
      "metadata": {
        "id": "doBMW_ap9q-C"
      }
    },
    {
      "cell_type": "code",
      "source": [
        "# así efectuamos el clonado de nuestro repositorio que está en GitHub\n",
        "!git clone https://github.com/financieras/pyCourse.git"
      ],
      "metadata": {
        "id": "Cg-bRugd71wL"
      },
      "execution_count": null,
      "outputs": []
    },
    {
      "cell_type": "code",
      "source": [
        "# para saber en qué directorio estoy\n",
        "%pwd"
      ],
      "metadata": {
        "id": "g9b0-2jPBrrZ"
      },
      "execution_count": null,
      "outputs": []
    },
    {
      "cell_type": "code",
      "source": [
        "# nos vamos hasta el directorio jupyter\n",
        "%cd pyCourse/jupyter"
      ],
      "metadata": {
        "id": "dzDOHGrJau0s"
      },
      "execution_count": null,
      "outputs": []
    },
    {
      "cell_type": "code",
      "source": [
        "%pwd"
      ],
      "metadata": {
        "id": "12NoPKr7a2d1"
      },
      "execution_count": null,
      "outputs": []
    },
    {
      "cell_type": "code",
      "source": [
        "from mypy.constantes import LUZ\n",
        "# se pone el directorio mypy, se pone punto, se pone constantes sin el .py"
      ],
      "metadata": {
        "id": "TjqbN5peBA1r"
      },
      "execution_count": null,
      "outputs": []
    },
    {
      "cell_type": "code",
      "source": [
        "LUZ          # comprobamos si ahora ya tenemos acceso a la constante LUZ"
      ],
      "metadata": {
        "id": "SmS8q7xba-wD"
      },
      "execution_count": null,
      "outputs": []
    },
    {
      "cell_type": "markdown",
      "metadata": {
        "id": "922e8c8e"
      },
      "source": [
        "### Método 2 importando solo una constante\n",
        "Antes de ejecutar este método podemos limpiar el kernel. "
      ]
    },
    {
      "cell_type": "code",
      "execution_count": null,
      "metadata": {
        "id": "3f9df4d5"
      },
      "outputs": [],
      "source": [
        "# dejamos comentadas estas líneas ya que en Colab darían error\n",
        "# estas líneas funcionarían correctamente trabajando con Jupyter Notebook en local\n",
        "\n",
        "#from mypy.constantes import LUZ\n",
        "#hasta_luna = 406700 / LUZ\n",
        "#print(hasta_luna, 'segundos')"
      ]
    },
    {
      "cell_type": "markdown",
      "metadata": {
        "id": "583bd389"
      },
      "source": [
        "### Método 3 importando todas las constantes\n",
        "Antes de ejecutar este método podemos limpiar el kernel. "
      ]
    },
    {
      "cell_type": "code",
      "execution_count": null,
      "metadata": {
        "id": "7562442b"
      },
      "outputs": [],
      "source": [
        "# dejamos comentadas estas líneas ya que en Colab darían error\n",
        "# estas líneas funcionarían correctamente trabajando con Jupyter Notebook en local\n",
        "\n",
        "\n",
        "#import mypy.constantes\n",
        "#hasta_luna = 406700 / mypy.constantes.LUZ\n",
        "#print(hasta_luna, 'segundos')"
      ]
    },
    {
      "cell_type": "markdown",
      "metadata": {
        "id": "7c24e14e"
      },
      "source": [
        "### Método 4 importando con un alias\n",
        "Antes de ejecutar este método podemos limpiar el kernel. "
      ]
    },
    {
      "cell_type": "code",
      "execution_count": null,
      "metadata": {
        "id": "7057eaf1"
      },
      "outputs": [],
      "source": [
        "# dejamos comentadas estas líneas ya que en Colab darían error\n",
        "# estas líneas funcionarían correctamente trabajando con Jupyter Notebook en local\n",
        "\n",
        "#import mypy.constantes as cte               # podemos poner el alias que queramos\n",
        "#hasta_luna = 406700 / cte.LUZ               # distancia más lejana: apogeo 406700 Km\n",
        "#print(hasta_luna, 'segundos')"
      ]
    },
    {
      "cell_type": "markdown",
      "metadata": {
        "id": "32254ff8"
      },
      "source": [
        "## Podemos correr un archivo .py\n",
        "* Podemos correr un archivo .py dando la orden desde una celda de Jupyter notebook.  \n",
        "* Esto es una forma alternativa de proceder, si estamos trabajando desde un Jupyter notebook o un Jupyter lab.  \n",
        "* También funciona en Colab si hemos clonado previamente el repositorio y estamos en el directorio correcto.\n",
        "\n",
        "[Celdas mágicas](https://ipython.readthedocs.io/en/stable/interactive/magics.html#magic-run)"
      ]
    },
    {
      "cell_type": "code",
      "execution_count": null,
      "metadata": {
        "id": "ef8b973f"
      },
      "outputs": [],
      "source": [
        "%run ./mypy/constantes.py      # con el % interactuamos con el sistema operativo (con la terminal)\n",
        "G"
      ]
    },
    {
      "cell_type": "markdown",
      "metadata": {
        "id": "4489f00b"
      },
      "source": [
        "# Strings"
      ]
    },
    {
      "cell_type": "markdown",
      "metadata": {
        "id": "e89aa34d"
      },
      "source": [
        "## Comparar strings"
      ]
    },
    {
      "cell_type": "code",
      "execution_count": null,
      "metadata": {
        "id": "48b0180b"
      },
      "outputs": [],
      "source": [
        "cadena1 = \"Hola\"                                          # con \"\"\n",
        "cadena2 = 'Hola'                                          # con ''\n",
        "cadena1 == cadena2                                        # True"
      ]
    },
    {
      "cell_type": "markdown",
      "metadata": {
        "id": "ffef0f9c"
      },
      "source": [
        "## Comillas dentro de comillas"
      ]
    },
    {
      "cell_type": "code",
      "execution_count": null,
      "metadata": {
        "id": "7199de29"
      },
      "outputs": [],
      "source": [
        "#cadena3 = 'En los años 90's actuaban grandes bandas'     # error"
      ]
    },
    {
      "cell_type": "code",
      "execution_count": null,
      "metadata": {
        "id": "d0b07aaa"
      },
      "outputs": [],
      "source": [
        "cadena3 = \"En los años 90's actuaban grandes bandas\"     # ahora funciona bien usando comillas dobles\n",
        "print(cadena3)"
      ]
    },
    {
      "cell_type": "code",
      "execution_count": null,
      "metadata": {
        "id": "a1768d79"
      },
      "outputs": [],
      "source": [
        "print('En los años 90\\'s actuaban grandes bandas')       # también funciona bien usando un carácter de escape"
      ]
    },
    {
      "cell_type": "markdown",
      "metadata": {
        "id": "08b7ca74"
      },
      "source": [
        "## Caracteres de escape"
      ]
    },
    {
      "cell_type": "code",
      "execution_count": null,
      "metadata": {
        "id": "c9f63a92"
      },
      "outputs": [],
      "source": [
        "print('Secuencias de escape: \\\\  \\'  \\\"   ')"
      ]
    },
    {
      "cell_type": "markdown",
      "metadata": {
        "id": "18dd8b12"
      },
      "source": [
        "## Tabuladores"
      ]
    },
    {
      "cell_type": "code",
      "execution_count": null,
      "metadata": {
        "id": "ce53d6c3"
      },
      "outputs": [],
      "source": [
        "print('Mis amigos: \\nAna \\tMadrid \\nLuis \\tSevilla \\nIsabel \\tSantander') "
      ]
    },
    {
      "cell_type": "code",
      "execution_count": null,
      "metadata": {
        "id": "7fe9ea09"
      },
      "outputs": [],
      "source": [
        "# En un párrafo usando comillas triples\n",
        "\n",
        "print('''Tareas pendientes:\n",
        "\\tBuscar destino para las próximas vacaciones\n",
        "\\tBuscar una bici eléctrica''')"
      ]
    },
    {
      "cell_type": "markdown",
      "metadata": {
        "id": "9608df85"
      },
      "source": [
        "## Imprimir una variable"
      ]
    },
    {
      "cell_type": "code",
      "execution_count": null,
      "metadata": {
        "id": "598ef39f"
      },
      "outputs": [],
      "source": [
        "a = \"Hola\"\n",
        "print(a)"
      ]
    },
    {
      "cell_type": "markdown",
      "metadata": {
        "id": "d2f245f7"
      },
      "source": [
        "## Comillas triples\n",
        "Las triples comillas permiten imprimir varias líneas."
      ]
    },
    {
      "cell_type": "code",
      "execution_count": null,
      "metadata": {
        "id": "7d2e4516"
      },
      "outputs": [],
      "source": [
        "b = '''Esta es una frase que \n",
        "ocupa varias líneas y que va \n",
        "entre triples comillas que\n",
        "pueden ser simples o dobles.'''\n",
        "print(b)"
      ]
    },
    {
      "cell_type": "markdown",
      "metadata": {
        "id": "e3357909"
      },
      "source": [
        "## len()\n",
        "Proporciona la longitud de la cadena."
      ]
    },
    {
      "cell_type": "code",
      "execution_count": null,
      "metadata": {
        "id": "3e3c9ba9"
      },
      "outputs": [],
      "source": [
        "c = \"¡Hola, mundo!\"\n",
        "len(c)"
      ]
    },
    {
      "cell_type": "markdown",
      "metadata": {
        "id": "6fa1b9d6"
      },
      "source": [
        "## in\n",
        "Permite detectar si una palabra está dentro de una frase."
      ]
    },
    {
      "cell_type": "code",
      "execution_count": null,
      "metadata": {
        "id": "93ce0cc7"
      },
      "outputs": [],
      "source": [
        "frase = \"La libertad, Sancho, es uno de los más preciosos dones que a los hombres dieron los cielos\"\n",
        "\"libertad\" in frase        # True"
      ]
    },
    {
      "cell_type": "markdown",
      "metadata": {
        "id": "df420b3b"
      },
      "source": [
        "## not in"
      ]
    },
    {
      "cell_type": "code",
      "execution_count": null,
      "metadata": {
        "id": "db0bfdf1"
      },
      "outputs": [],
      "source": [
        "frase = \"Todos los seres humanos nacen libres e iguales en dignidad y derechos\"\n",
        "\"Sancho\" not in frase      # True"
      ]
    },
    {
      "cell_type": "markdown",
      "metadata": {
        "id": "04cc683b"
      },
      "source": [
        "## Orden alfabético"
      ]
    },
    {
      "cell_type": "code",
      "execution_count": null,
      "metadata": {
        "id": "4a486dc4"
      },
      "outputs": [],
      "source": [
        "\"b\" > \"a\"                  # True"
      ]
    },
    {
      "cell_type": "code",
      "execution_count": null,
      "metadata": {
        "id": "745dba35"
      },
      "outputs": [],
      "source": [
        "\"naciente\" > \"yaciente\"    # False"
      ]
    },
    {
      "cell_type": "markdown",
      "metadata": {
        "id": "17e073bf"
      },
      "source": [
        "## Concatenar"
      ]
    },
    {
      "cell_type": "code",
      "execution_count": null,
      "metadata": {
        "id": "629e9e70"
      },
      "outputs": [],
      "source": [
        "\"buena\" + \"aventura\""
      ]
    },
    {
      "cell_type": "code",
      "execution_count": null,
      "metadata": {
        "id": "aa3862cb"
      },
      "outputs": [],
      "source": [
        "'en' 'hora' 'buena'    # también podemos separar los strings con un espacio"
      ]
    },
    {
      "cell_type": "markdown",
      "metadata": {
        "id": "e7830ad5"
      },
      "source": [
        "## replace()"
      ]
    },
    {
      "cell_type": "code",
      "execution_count": null,
      "metadata": {
        "id": "9b8aaa27"
      },
      "outputs": [],
      "source": [
        "\"hola\".replace('h','m')"
      ]
    },
    {
      "cell_type": "code",
      "execution_count": null,
      "metadata": {
        "id": "d2fe0f10"
      },
      "outputs": [],
      "source": [
        "\"Voy a Roma\".replace(\"Roma\",\"Niza\")"
      ]
    },
    {
      "cell_type": "markdown",
      "metadata": {
        "id": "18593590"
      },
      "source": [
        "# Input  \n",
        "El valor introducido se toma como string."
      ]
    },
    {
      "cell_type": "code",
      "execution_count": null,
      "metadata": {
        "id": "995b0da2"
      },
      "outputs": [],
      "source": [
        "input()     # Introduciendo un número lo toma como string. Pulse ENTER después de introducir el valor"
      ]
    },
    {
      "cell_type": "code",
      "execution_count": null,
      "metadata": {
        "id": "8a528dbb"
      },
      "outputs": [],
      "source": [
        "print(\"¿Cómo se llama?\")\n",
        "nombre = input()\n",
        "print(\"Me alegro de conocerle\", nombre)"
      ]
    },
    {
      "cell_type": "code",
      "execution_count": null,
      "metadata": {
        "id": "645e10cd"
      },
      "outputs": [],
      "source": [
        "input(\"Introduzca un número: \")  # Añadiendo texto dentro del paréntesis"
      ]
    },
    {
      "cell_type": "code",
      "execution_count": null,
      "metadata": {
        "id": "11a51f57"
      },
      "outputs": [],
      "source": [
        "num = input(\"Introduzca un número: \")\n",
        "print(num)"
      ]
    },
    {
      "cell_type": "markdown",
      "metadata": {
        "id": "02b8b59d"
      },
      "source": [
        "### Convirtiendo el string en un int"
      ]
    },
    {
      "cell_type": "code",
      "execution_count": null,
      "metadata": {
        "id": "1871bb12"
      },
      "outputs": [],
      "source": [
        "num = int(input(\"Introduzca un número entero: \"))         # int convierte el string a entero\n",
        "num"
      ]
    },
    {
      "cell_type": "code",
      "execution_count": null,
      "metadata": {
        "id": "05d9bd9d"
      },
      "outputs": [],
      "source": [
        "# Sumando dos enteros\n",
        "num1 = int(input(\"Introduzca el primer número: \"))\n",
        "num2 = int(input(\"Introduzca el segundo número: \"))\n",
        "print(\"La suma es: \", num1 + num2)"
      ]
    },
    {
      "cell_type": "code",
      "execution_count": null,
      "metadata": {
        "id": "078d704f"
      },
      "outputs": [],
      "source": [
        "# Sumando dos enteros\n",
        "num1 = input(\"Introduzca el primer número: \")\n",
        "num2 = input(\"Introduzca el segundo número: \")\n",
        "print(\"La suma es: \", num1 + num2)                # observe que ahora no suma, concatena"
      ]
    },
    {
      "cell_type": "code",
      "execution_count": null,
      "metadata": {
        "id": "85c1626a"
      },
      "outputs": [],
      "source": [
        "# Multiplicando dos enteros\n",
        "num1 = int(input(\"Introduzca el primer número: \"))\n",
        "num2 = int(input(\"Introduzca el segundo número: \"))\n",
        "print(\"El producto de\", num1 , \"por\", num2, \"es igual a\", num1*num2)\n",
        "print(\"El producto de {} por {} es igual a {}\".format(num1, num2, num1*num2))\n",
        "print(f\"El producto de {num1} por {num2} es igual a {num1*num2}\")"
      ]
    },
    {
      "cell_type": "markdown",
      "metadata": {
        "id": "522f8c89"
      },
      "source": [
        "### Convirtiendo el string en un float\n",
        "El separador de decimales es el punto."
      ]
    },
    {
      "cell_type": "code",
      "execution_count": null,
      "metadata": {
        "id": "67636000"
      },
      "outputs": [],
      "source": [
        "num = float(input(\"Introduzca un número con decimales: \")) # float convierte el string a flotante\n",
        "num"
      ]
    },
    {
      "cell_type": "code",
      "execution_count": null,
      "metadata": {
        "id": "f1d3ba3e"
      },
      "outputs": [],
      "source": [
        "# Dividiendo dos flotantes\n",
        "num1 = float(input(\"Introduzca el primer número: \"))\n",
        "num2 = float(input(\"Introduzca el segundo número: \"))\n",
        "print(\"El cociente de \" + str(num1) + \" entre \" + str(num2) + \" es igual a \" + str(num1 / num2))\n",
        "print(f\"El cociente de {num1} entre {num2} es igual a {num1/num2}\")"
      ]
    },
    {
      "cell_type": "markdown",
      "metadata": {
        "id": "3a5bec00"
      },
      "source": [
        "## Variable como argumento de la función input()"
      ]
    },
    {
      "cell_type": "code",
      "execution_count": null,
      "metadata": {
        "id": "d39cda10"
      },
      "outputs": [],
      "source": [
        "nombre = input(\"Dígame su nombre: \")\n",
        "apellido = input(f\"Dígame su apellido, {nombre}: \")\n",
        "print(f\"Al final nos conocemos en persona, {nombre} {apellido}.\")"
      ]
    },
    {
      "cell_type": "markdown",
      "metadata": {
        "id": "e19af35f"
      },
      "source": [
        "## Valor por defecto en un input()\n",
        "Si ponemos un ```or``` podemos incluir un valor por defecto. \n",
        "Si el usuario pulsa ENTER cuando se le pregunta, la repuesta será el valor por defecto."
      ]
    },
    {
      "cell_type": "code",
      "execution_count": null,
      "metadata": {
        "id": "0477b04d"
      },
      "outputs": [],
      "source": [
        "hojaCalculo = input(\"Indique su Hoja de Calculo favorita: \") or \"Excel\"\n",
        "print(hojaCalculo)"
      ]
    },
    {
      "cell_type": "markdown",
      "metadata": {
        "id": "b7786f7a"
      },
      "source": [
        "# Booleanos: True, False\n"
      ]
    },
    {
      "cell_type": "code",
      "execution_count": null,
      "metadata": {
        "id": "df8694c5"
      },
      "outputs": [],
      "source": [
        "5 == 5                 # True       Operador de comparación: 'Igual a'"
      ]
    },
    {
      "cell_type": "code",
      "execution_count": null,
      "metadata": {
        "id": "2528485c"
      },
      "outputs": [],
      "source": [
        "5 >= 7                 # False      Mayor o igual que"
      ]
    },
    {
      "cell_type": "code",
      "execution_count": null,
      "metadata": {
        "id": "57fc1da5"
      },
      "outputs": [],
      "source": [
        "9 == '9'               # False"
      ]
    },
    {
      "cell_type": "code",
      "execution_count": null,
      "metadata": {
        "id": "db50c39e"
      },
      "outputs": [],
      "source": [
        "'Roma' > 'Bogotá'    # True"
      ]
    },
    {
      "cell_type": "code",
      "execution_count": null,
      "metadata": {
        "id": "232a68ba"
      },
      "outputs": [],
      "source": [
        "4 != 4                 # False    Operador de comparación: Distinto o 'no es igual a'"
      ]
    },
    {
      "cell_type": "markdown",
      "metadata": {
        "id": "64cab790"
      },
      "source": [
        "## Comparación de Booleanos"
      ]
    },
    {
      "cell_type": "code",
      "execution_count": null,
      "metadata": {
        "id": "f68c8a65"
      },
      "outputs": [],
      "source": [
        "True == True           # True"
      ]
    },
    {
      "cell_type": "code",
      "execution_count": null,
      "metadata": {
        "id": "05a3defa"
      },
      "outputs": [],
      "source": [
        "True == False          # False"
      ]
    },
    {
      "cell_type": "code",
      "execution_count": null,
      "metadata": {
        "id": "399a072f"
      },
      "outputs": [],
      "source": [
        "True != False          # True"
      ]
    },
    {
      "cell_type": "markdown",
      "metadata": {
        "id": "f53d11a1"
      },
      "source": [
        "### Verdadero es 1 y Falso es 0"
      ]
    },
    {
      "cell_type": "code",
      "execution_count": null,
      "metadata": {
        "id": "c971002f"
      },
      "outputs": [],
      "source": [
        "True == 1              # True"
      ]
    },
    {
      "cell_type": "code",
      "execution_count": null,
      "metadata": {
        "id": "1b8e0cdc"
      },
      "outputs": [],
      "source": [
        "False == 0             # True"
      ]
    },
    {
      "cell_type": "code",
      "execution_count": null,
      "metadata": {
        "id": "afb4fe60"
      },
      "outputs": [],
      "source": [
        "True *3                # 3"
      ]
    },
    {
      "cell_type": "code",
      "execution_count": null,
      "metadata": {
        "id": "bd7872b7"
      },
      "outputs": [],
      "source": [
        "2*(-True)+False+True   # -1"
      ]
    },
    {
      "cell_type": "code",
      "execution_count": null,
      "metadata": {
        "id": "e44b9664"
      },
      "outputs": [],
      "source": [
        "True > False           # True"
      ]
    },
    {
      "cell_type": "code",
      "execution_count": null,
      "metadata": {
        "id": "62e8618c"
      },
      "outputs": [],
      "source": [
        "False > True           # False"
      ]
    },
    {
      "cell_type": "code",
      "execution_count": null,
      "metadata": {
        "id": "ef4904f4"
      },
      "outputs": [],
      "source": [
        "True * False           # 0"
      ]
    },
    {
      "cell_type": "markdown",
      "metadata": {
        "id": "3a67c098"
      },
      "source": [
        "## Comparando varios simultáneamente"
      ]
    },
    {
      "cell_type": "code",
      "execution_count": null,
      "metadata": {
        "id": "95560b07"
      },
      "outputs": [],
      "source": [
        "1 < 2 < 3              # True"
      ]
    },
    {
      "cell_type": "markdown",
      "metadata": {
        "id": "2312cf05"
      },
      "source": [
        "## Operando con variables"
      ]
    },
    {
      "cell_type": "code",
      "execution_count": null,
      "metadata": {
        "id": "a3520208"
      },
      "outputs": [],
      "source": [
        "a = 5\n",
        "b = 10\n",
        "b == 2*a               # True   No confundir == (comparación) con = (asignación)"
      ]
    },
    {
      "cell_type": "markdown",
      "metadata": {
        "id": "dcb0f085"
      },
      "source": [
        "### Trabajando con strings"
      ]
    },
    {
      "cell_type": "code",
      "execution_count": null,
      "metadata": {
        "id": "6e7c3801"
      },
      "outputs": [],
      "source": [
        "x = \"Python\"\n",
        "x[-1] == 'n'           # True"
      ]
    },
    {
      "cell_type": "markdown",
      "metadata": {
        "id": "380c7963"
      },
      "source": [
        "## type()"
      ]
    },
    {
      "cell_type": "code",
      "execution_count": null,
      "metadata": {
        "id": "e7f6ece4"
      },
      "outputs": [],
      "source": [
        "type(False)"
      ]
    },
    {
      "cell_type": "code",
      "execution_count": null,
      "metadata": {
        "id": "49d448d5"
      },
      "outputs": [],
      "source": [
        "type(5)"
      ]
    },
    {
      "cell_type": "code",
      "execution_count": null,
      "metadata": {
        "id": "78106204"
      },
      "outputs": [],
      "source": [
        "type(\"Hola\")"
      ]
    },
    {
      "cell_type": "markdown",
      "metadata": {
        "id": "18bd64db"
      },
      "source": [
        "## not"
      ]
    },
    {
      "cell_type": "code",
      "execution_count": null,
      "metadata": {
        "id": "82da5b0c"
      },
      "outputs": [],
      "source": [
        "not True               # False"
      ]
    },
    {
      "cell_type": "code",
      "execution_count": null,
      "metadata": {
        "id": "c88d5fe1"
      },
      "outputs": [],
      "source": [
        "not False              # True"
      ]
    },
    {
      "cell_type": "markdown",
      "metadata": {
        "id": "b16df3de"
      },
      "source": [
        "## Distinto ```!=```"
      ]
    },
    {
      "cell_type": "code",
      "execution_count": null,
      "metadata": {
        "id": "6e1042bc"
      },
      "outputs": [],
      "source": [
        "4 != 4                 # False"
      ]
    },
    {
      "cell_type": "code",
      "execution_count": null,
      "metadata": {
        "id": "f43b201e"
      },
      "outputs": [],
      "source": [
        "4 != 5                 # True"
      ]
    },
    {
      "cell_type": "markdown",
      "metadata": {
        "id": "bbdaaf93"
      },
      "source": [
        "## Operador ```is``` y operador ```is not```\n",
        "Permiten comparar **objetos idénticos**."
      ]
    },
    {
      "cell_type": "code",
      "execution_count": null,
      "metadata": {
        "id": "ef86a604"
      },
      "outputs": [],
      "source": [
        "x = 5\n",
        "y = 5\n",
        "x is y                 # True"
      ]
    },
    {
      "cell_type": "markdown",
      "metadata": {
        "id": "cf79c500"
      },
      "source": [
        "Dos listas son idénticas cuando se trata del mismo objeto, cuando ocupan el mismo lugar en memoria."
      ]
    },
    {
      "cell_type": "code",
      "execution_count": null,
      "metadata": {
        "id": "e820b6c0"
      },
      "outputs": [],
      "source": [
        "p = [1,2,3]\n",
        "q = [1,2,3]\n",
        "p is q                 # False  ¡Sorpresa!"
      ]
    },
    {
      "cell_type": "code",
      "execution_count": null,
      "metadata": {
        "id": "d6c03c21"
      },
      "outputs": [],
      "source": [
        "p is not q             # True"
      ]
    },
    {
      "cell_type": "code",
      "execution_count": null,
      "metadata": {
        "id": "a207ec59"
      },
      "outputs": [],
      "source": [
        "p == q                 # True"
      ]
    },
    {
      "cell_type": "markdown",
      "metadata": {
        "id": "5a745ab4"
      },
      "source": [
        "### Comprobación con el método ```id()```\n",
        "El método id() devuelve un identificador del **objeto**.  \n",
        "Veamos que ambos identificadores difieren."
      ]
    },
    {
      "cell_type": "code",
      "execution_count": null,
      "metadata": {
        "id": "59833715"
      },
      "outputs": [],
      "source": [
        "id(p)                  # identificador del objeto"
      ]
    },
    {
      "cell_type": "code",
      "execution_count": null,
      "metadata": {
        "id": "f61f6ed2"
      },
      "outputs": [],
      "source": [
        "id(q)                  # un identificador distinto"
      ]
    },
    {
      "cell_type": "markdown",
      "metadata": {
        "id": "233a517f"
      },
      "source": [
        "### Idéntica lista"
      ]
    },
    {
      "cell_type": "code",
      "execution_count": null,
      "metadata": {
        "id": "8b34e1bf"
      },
      "outputs": [],
      "source": [
        "p = [1,2,3]\n",
        "q = p                  # q es una lista idéntica a p\n",
        "q"
      ]
    },
    {
      "cell_type": "code",
      "execution_count": null,
      "metadata": {
        "id": "48f91131"
      },
      "outputs": [],
      "source": [
        "q is p                 # ambas listas ocupan el mismo lugar de memoria"
      ]
    },
    {
      "cell_type": "code",
      "execution_count": null,
      "metadata": {
        "id": "bcd834b9"
      },
      "outputs": [],
      "source": [
        "id(p)                  # el identificador de la lista p"
      ]
    },
    {
      "cell_type": "code",
      "execution_count": null,
      "metadata": {
        "id": "68b2bfae"
      },
      "outputs": [],
      "source": [
        "id(q)                  # es el mismo que el identificado de la lista q"
      ]
    },
    {
      "cell_type": "markdown",
      "metadata": {
        "id": "7c0d850e"
      },
      "source": [
        "# Funciones internas\n",
        "Funciones integradas en Python.  \n",
        "[Funciones Built-in](https://docs.python.org/es/3.9/library/functions.html)"
      ]
    },
    {
      "cell_type": "markdown",
      "metadata": {
        "id": "3a6fac56"
      },
      "source": [
        "- print()\n",
        "- exit()\n",
        "- abs()\n",
        "- round()\n",
        "- chr()\n",
        "- float()\n",
        "- int()\n",
        "- str()\n",
        "- input()\n",
        "- len()\n",
        "- max()\n",
        "- min()\n",
        "- sum()\n",
        "- pow()\n",
        "- eval()"
      ]
    },
    {
      "cell_type": "markdown",
      "metadata": {
        "id": "0cc98642"
      },
      "source": [
        "## type"
      ]
    },
    {
      "cell_type": "code",
      "execution_count": null,
      "metadata": {
        "id": "8349d7c6"
      },
      "outputs": [],
      "source": [
        "type(\"Hola\")"
      ]
    },
    {
      "cell_type": "code",
      "execution_count": null,
      "metadata": {
        "id": "8245f5b9"
      },
      "outputs": [],
      "source": [
        "type(5)"
      ]
    },
    {
      "cell_type": "code",
      "execution_count": null,
      "metadata": {
        "id": "5d7f67c6"
      },
      "outputs": [],
      "source": [
        "type(10/2)"
      ]
    },
    {
      "cell_type": "code",
      "execution_count": null,
      "metadata": {
        "id": "821f6506"
      },
      "outputs": [],
      "source": [
        "type(5==5)"
      ]
    },
    {
      "cell_type": "code",
      "execution_count": null,
      "metadata": {
        "id": "4484a4ef"
      },
      "outputs": [],
      "source": [
        "type(5=='5')"
      ]
    },
    {
      "cell_type": "code",
      "execution_count": null,
      "metadata": {
        "id": "9a92e47b"
      },
      "outputs": [],
      "source": [
        "num = input(\"Indique un número:\")\n",
        "print(7==num)                     # ¿alguna vez dará True?\n",
        "type(7==num)"
      ]
    },
    {
      "cell_type": "markdown",
      "metadata": {
        "id": "62f9a62b"
      },
      "source": [
        "## len"
      ]
    },
    {
      "cell_type": "code",
      "execution_count": null,
      "metadata": {
        "id": "d50a8769"
      },
      "outputs": [],
      "source": [
        "len(\"Hola\")                       # longitud 4"
      ]
    },
    {
      "cell_type": "code",
      "execution_count": null,
      "metadata": {
        "id": "2c640cb4"
      },
      "outputs": [],
      "source": [
        "len([])"
      ]
    },
    {
      "cell_type": "code",
      "execution_count": null,
      "metadata": {
        "id": "4ea9ab08"
      },
      "outputs": [],
      "source": [
        "len([1,2,3])"
      ]
    },
    {
      "cell_type": "markdown",
      "metadata": {
        "id": "1865ff75"
      },
      "source": [
        "## eval"
      ]
    },
    {
      "cell_type": "code",
      "execution_count": null,
      "metadata": {
        "id": "cf2a0493"
      },
      "outputs": [],
      "source": [
        "x = 2\n",
        "eval(\"1+3*x\")                     # 7"
      ]
    },
    {
      "cell_type": "markdown",
      "metadata": {
        "id": "00935809"
      },
      "source": [
        "## sum"
      ]
    },
    {
      "cell_type": "code",
      "execution_count": null,
      "metadata": {
        "id": "1c5c3f42"
      },
      "outputs": [],
      "source": [
        "sum([1, 2, 3])                    # 6   suma los elementos de una lista"
      ]
    },
    {
      "cell_type": "markdown",
      "metadata": {
        "id": "16a91082"
      },
      "source": [
        "## pow"
      ]
    },
    {
      "cell_type": "code",
      "execution_count": null,
      "metadata": {
        "id": "36b726da"
      },
      "outputs": [],
      "source": [
        "pow(2,3)                          # función potencias"
      ]
    },
    {
      "cell_type": "markdown",
      "metadata": {
        "id": "6fac6b36"
      },
      "source": [
        "## abs"
      ]
    },
    {
      "cell_type": "code",
      "execution_count": null,
      "metadata": {
        "id": "e3e65f23"
      },
      "outputs": [],
      "source": [
        "abs(-3)"
      ]
    },
    {
      "cell_type": "markdown",
      "metadata": {
        "id": "fc8621d8"
      },
      "source": [
        "## round"
      ]
    },
    {
      "cell_type": "code",
      "execution_count": null,
      "metadata": {
        "id": "6eb6f90f"
      },
      "outputs": [],
      "source": [
        "round(6.9)"
      ]
    },
    {
      "cell_type": "code",
      "execution_count": null,
      "metadata": {
        "id": "fa63ebc8"
      },
      "outputs": [],
      "source": [
        "round(3.14159, 3)"
      ]
    },
    {
      "cell_type": "markdown",
      "metadata": {
        "id": "c0fe273e"
      },
      "source": [
        "## str"
      ]
    },
    {
      "cell_type": "code",
      "execution_count": null,
      "metadata": {
        "id": "dd1e34db"
      },
      "outputs": [],
      "source": [
        "edad = 5\n",
        "#print('Solo tiene ' + edad + ' años')         # TypeError: can only concatenate str (not \"int\") to str"
      ]
    },
    {
      "cell_type": "code",
      "execution_count": null,
      "metadata": {
        "id": "4b6fb85c"
      },
      "outputs": [],
      "source": [
        "print('Solo tiene ' + str(edad) + ' años')     # Solo tiene 5 años  str() convierte un número en un string\n",
        "print('Solo tiene {} años'.format(edad))       # Solo tiene 5 años\n",
        "print(f'Solo tiene {edad} años')               # Solo tiene 5 años"
      ]
    },
    {
      "cell_type": "markdown",
      "metadata": {
        "id": "db4a2295"
      },
      "source": [
        "## int"
      ]
    },
    {
      "cell_type": "code",
      "execution_count": null,
      "metadata": {
        "id": "73507a0c"
      },
      "outputs": [],
      "source": [
        "print(int(5.7))                                # 5"
      ]
    },
    {
      "cell_type": "markdown",
      "metadata": {
        "id": "fd0071bd"
      },
      "source": [
        "## float"
      ]
    },
    {
      "cell_type": "code",
      "execution_count": null,
      "metadata": {
        "id": "d6612dfa"
      },
      "outputs": [],
      "source": [
        "float(\"3.14\")"
      ]
    },
    {
      "cell_type": "markdown",
      "metadata": {
        "id": "608879ef"
      },
      "source": [
        "## chr"
      ]
    },
    {
      "cell_type": "code",
      "execution_count": null,
      "metadata": {
        "id": "12ea3b7b"
      },
      "outputs": [],
      "source": [
        "chr(65)                                    # 'A' carácter código ASCII"
      ]
    },
    {
      "cell_type": "markdown",
      "metadata": {
        "id": "43b04620"
      },
      "source": [
        "## bin\n",
        "Para pasar un número a binario."
      ]
    },
    {
      "cell_type": "code",
      "execution_count": null,
      "metadata": {
        "id": "7d799289"
      },
      "outputs": [],
      "source": [
        "bin(3)"
      ]
    },
    {
      "cell_type": "code",
      "execution_count": null,
      "metadata": {
        "id": "551121a3"
      },
      "outputs": [],
      "source": [
        "int('0b11', 2)                              # proceso inverso, convierte un binario en decimal, se indica base 2"
      ]
    },
    {
      "cell_type": "markdown",
      "metadata": {
        "id": "ddc1bf6c"
      },
      "source": [
        "There are only 10 kinds of people in the world: those who understand binary, and those who don't."
      ]
    },
    {
      "cell_type": "markdown",
      "metadata": {
        "id": "5204a6ed"
      },
      "source": [
        "## hex\n",
        "Para pasar a un número en hexadecimal (base 16)  \n",
        "* 0123456789abcdef"
      ]
    },
    {
      "cell_type": "code",
      "execution_count": null,
      "metadata": {
        "id": "41e78af8"
      },
      "outputs": [],
      "source": [
        "hex(10)"
      ]
    },
    {
      "cell_type": "code",
      "execution_count": null,
      "metadata": {
        "id": "0faf6874"
      },
      "outputs": [],
      "source": [
        "int('0xa', 16)                              # proceso inverso, convierte un hexadecimal en decimal, se indica base 16"
      ]
    },
    {
      "cell_type": "markdown",
      "metadata": {
        "id": "dbbdf7f3"
      },
      "source": [
        "## hash\n",
        "Devuelve el hash de un valor."
      ]
    },
    {
      "cell_type": "code",
      "execution_count": null,
      "metadata": {
        "id": "3776ec86"
      },
      "outputs": [],
      "source": [
        "hash(\"hola\")"
      ]
    },
    {
      "cell_type": "code",
      "execution_count": null,
      "metadata": {
        "id": "1e609ca0"
      },
      "outputs": [],
      "source": [
        "hash(2) == hash(2.0)                       # el hash de un número entero coincide con el hash de ese número pero flotante"
      ]
    },
    {
      "cell_type": "markdown",
      "metadata": {
        "id": "1d15f5b6"
      },
      "source": [
        "## help\n",
        "Tecleando topics obtenemos palabras sobre las que podemos buscar ayuda.  \n",
        "Para salir de la ayuda presione q"
      ]
    },
    {
      "cell_type": "code",
      "execution_count": null,
      "metadata": {
        "id": "53ce96da"
      },
      "outputs": [],
      "source": [
        "help()"
      ]
    },
    {
      "cell_type": "markdown",
      "metadata": {
        "id": "99859d50"
      },
      "source": [
        "## Ejercicio  \n",
        "Solicitar al usuario dos números y calcular el máximo y el mínimo."
      ]
    },
    {
      "cell_type": "code",
      "execution_count": null,
      "metadata": {
        "id": "21218577"
      },
      "outputs": [],
      "source": [
        "num1 = float(input(\"Indique un número: \"))\n",
        "num2 = float(input(\"Indique otro número: \"))\n",
        "print(f'El máximo entre {num1} y {num2} es {max(num1,num2)}')\n",
        "print(f'El mínimo entre {num1} y {num2} es {min(num1,num2)}')"
      ]
    },
    {
      "cell_type": "markdown",
      "metadata": {
        "id": "b400c40e"
      },
      "source": [
        "# String como iterable\n",
        "Los índices comienzan por **cero**."
      ]
    },
    {
      "cell_type": "markdown",
      "metadata": {
        "id": "7e2bfb40"
      },
      "source": [
        "![Buenos Aires](https://github.com/financieras/pyCourse/blob/main/jupyter/img/Buenos_Aires.png?raw=1)"
      ]
    },
    {
      "cell_type": "code",
      "execution_count": null,
      "metadata": {
        "id": "3671daf4"
      },
      "outputs": [],
      "source": [
        "ciudad = \"Buenos Aires\"\n",
        "print(ciudad[0])                 # B se comienza por el índice 0\n",
        "print(ciudad[1])                 # u\n",
        "print(ciudad[2])                 # e\n",
        "print(ciudad[3])                 # n\n",
        "print(ciudad[4])                 # o\n",
        "print(ciudad[5])                 # s\n",
        "print(ciudad[6])                 # \n",
        "print(ciudad[7])                 # A\n",
        "print(ciudad[8])                 # i\n",
        "print(ciudad[9])                 # r\n",
        "print(ciudad[10])                # e\n",
        "print(ciudad[11])                # s"
      ]
    },
    {
      "cell_type": "markdown",
      "metadata": {
        "id": "c47ea911"
      },
      "source": [
        "## Índices negativos"
      ]
    },
    {
      "cell_type": "code",
      "execution_count": null,
      "metadata": {
        "id": "19152c02"
      },
      "outputs": [],
      "source": [
        "len(ciudad)"
      ]
    },
    {
      "cell_type": "code",
      "execution_count": null,
      "metadata": {
        "id": "745534ab"
      },
      "outputs": [],
      "source": [
        "print(ciudad[-1])                # s\n",
        "print(ciudad[-2])                # e\n",
        "print(ciudad[-3])                # r\n",
        "print(ciudad[-4])                # i\n",
        "print(ciudad[-5])                # A\n",
        "print(ciudad[-6])                #  \n",
        "print(ciudad[-7])                # s\n",
        "print(ciudad[-8])                # o\n",
        "print(ciudad[-9])                # n\n",
        "print(ciudad[-10])               # e\n",
        "print(ciudad[-11])               # u\n",
        "print(ciudad[-12])               # B"
      ]
    },
    {
      "cell_type": "code",
      "execution_count": null,
      "metadata": {
        "id": "c64f4f2b"
      },
      "outputs": [],
      "source": [
        "print(ciudad[len(ciudad)-1])     # s\n",
        "print(ciudad[-len(ciudad)])      # B"
      ]
    },
    {
      "cell_type": "markdown",
      "metadata": {
        "id": "1f3baff5"
      },
      "source": [
        "## Slicing (métodos de corte)"
      ]
    },
    {
      "cell_type": "code",
      "execution_count": null,
      "metadata": {
        "id": "5a4aa67a"
      },
      "outputs": [],
      "source": [
        "print(ciudad[0:4])               # Buen\n",
        "print(ciudad[:4])                # Buen\n",
        "print(ciudad[7:10])              # Air\n",
        "print(ciudad[:])                 # Buenos Aires\n",
        "print(ciudad[2:9:2])             # eo i\n",
        "print(ciudad[-5:])               # Aires"
      ]
    },
    {
      "cell_type": "code",
      "execution_count": null,
      "metadata": {
        "scrolled": true,
        "id": "8b30a834"
      },
      "outputs": [],
      "source": [
        "#ciudad[30]                      # IndexError: string index out of range"
      ]
    },
    {
      "cell_type": "code",
      "execution_count": null,
      "metadata": {
        "id": "662735f2"
      },
      "outputs": [],
      "source": [
        "ciudad[7:30]                     # Con slicing si funciona aunque nos salgamos del índice"
      ]
    },
    {
      "cell_type": "code",
      "execution_count": null,
      "metadata": {
        "id": "98486507"
      },
      "outputs": [],
      "source": [
        "ciudad[30:]                      # aquí no hay nada. No da error, devuelve cadena vacía"
      ]
    },
    {
      "cell_type": "markdown",
      "metadata": {
        "id": "b53f8296"
      },
      "source": [
        "## Reverso de un string"
      ]
    },
    {
      "cell_type": "code",
      "execution_count": null,
      "metadata": {
        "id": "02754411"
      },
      "outputs": [],
      "source": [
        "palabra = 'sogima'\n",
        "print(palabra[::-1])             # reverso de una palabra"
      ]
    },
    {
      "cell_type": "markdown",
      "metadata": {
        "id": "6ebd9f36"
      },
      "source": [
        "## Cadena completa"
      ]
    },
    {
      "cell_type": "code",
      "execution_count": null,
      "metadata": {
        "id": "f8986d61"
      },
      "outputs": [],
      "source": [
        "ciudad[:]"
      ]
    },
    {
      "cell_type": "code",
      "execution_count": null,
      "metadata": {
        "id": "e77c08ec"
      },
      "outputs": [],
      "source": [
        "ciudad[:5] + ciudad[5:]"
      ]
    },
    {
      "cell_type": "markdown",
      "metadata": {
        "id": "2a42e01c"
      },
      "source": [
        "## Las cadenas son inmutables\n",
        "Si intentamos cambiar un carácter nos dará error."
      ]
    },
    {
      "cell_type": "code",
      "execution_count": null,
      "metadata": {
        "id": "63de3245"
      },
      "outputs": [],
      "source": [
        "#ciudad[0] = 'G'                 # TypeError: 'str' object does not support item assignment"
      ]
    },
    {
      "cell_type": "markdown",
      "metadata": {
        "id": "30d567f1"
      },
      "source": [
        "Esto no es un gran inconveniente ya que podemos conseguirlo con slicing."
      ]
    },
    {
      "cell_type": "code",
      "execution_count": null,
      "metadata": {
        "id": "b7ee4486"
      },
      "outputs": [],
      "source": [
        "ciudad=\"G\" + ciudad[1:]\n",
        "ciudad"
      ]
    },
    {
      "cell_type": "markdown",
      "metadata": {
        "id": "3753eeb6"
      },
      "source": [
        "# String: métodos\n",
        "[Métodos de las cadenas](http://pyspanishdoc.sourceforge.net/lib/string-methods.html)"
      ]
    },
    {
      "cell_type": "code",
      "execution_count": null,
      "metadata": {
        "id": "67e107f2"
      },
      "outputs": [],
      "source": [
        "frase = 'Seguir sin detenerse, ese es el secreto del éxito'\n",
        "palabra = 'secreto'\n",
        "print(palabra in frase)                       # True                  Operador de pertenencia: in\n",
        "print('Secreto' not in frase)                 # True (case sensitive) Operador de pertenencia: not in"
      ]
    },
    {
      "cell_type": "code",
      "execution_count": null,
      "metadata": {
        "id": "bfbde5da"
      },
      "outputs": [],
      "source": [
        "ciudad='londres'\n",
        "print(palabra.upper(),ciudad.capitalize(),'New York'.lower())"
      ]
    },
    {
      "cell_type": "code",
      "execution_count": null,
      "metadata": {
        "id": "646dc226"
      },
      "outputs": [],
      "source": [
        "print(\"los ángeles\".title())                  # Los Ángeles"
      ]
    },
    {
      "cell_type": "code",
      "execution_count": null,
      "metadata": {
        "id": "23aa0538"
      },
      "outputs": [],
      "source": [
        "print(ciudad.islower())                       # True\n",
        "print(ciudad.isupper())                       # False"
      ]
    },
    {
      "cell_type": "code",
      "execution_count": null,
      "metadata": {
        "id": "fd3feedc"
      },
      "outputs": [],
      "source": [
        "print(\"100\".isdigit())                        # True\n",
        "print(\"Hola Mundo\".istitle())                 # True"
      ]
    },
    {
      "cell_type": "code",
      "execution_count": null,
      "metadata": {
        "id": "c71f0f17"
      },
      "outputs": [],
      "source": [
        "print(\"Hola mundo futuro\".split())            # separa por palabras"
      ]
    },
    {
      "cell_type": "code",
      "execution_count": null,
      "metadata": {
        "id": "1dcce1f9"
      },
      "outputs": [],
      "source": [
        "print(\"Hola mundo futuro\".split()[0])         # Hola"
      ]
    },
    {
      "cell_type": "code",
      "execution_count": null,
      "metadata": {
        "id": "a42d2edd"
      },
      "outputs": [],
      "source": [
        "elementos = '3840x2160'                       # pixeles 4k UHD 16:9\n",
        "print(elementos.split('x'))                   # separando por el carácter x"
      ]
    },
    {
      "cell_type": "code",
      "execution_count": null,
      "metadata": {
        "id": "d125d86d"
      },
      "outputs": [],
      "source": [
        "print(\"   Buenos días     \".strip())          # borra los espacios sobrantes al inicio y al final"
      ]
    },
    {
      "cell_type": "code",
      "execution_count": null,
      "metadata": {
        "id": "94532c85"
      },
      "outputs": [],
      "source": [
        "print(\"Hola mundo\".replace('o','0'))          # H0la mund0. Cambia una palabra o una letra por otra"
      ]
    },
    {
      "cell_type": "code",
      "execution_count": null,
      "metadata": {
        "id": "c2d87da7"
      },
      "outputs": [],
      "source": [
        "print(\"si eres madre, serás madre para siempre\".count(\"madre\"))  # 2"
      ]
    },
    {
      "cell_type": "code",
      "execution_count": null,
      "metadata": {
        "id": "74fd80b0"
      },
      "outputs": [],
      "source": [
        "print(\"de Madrid al cielo\".find(\"Madrid\"))    # 3"
      ]
    },
    {
      "cell_type": "code",
      "execution_count": null,
      "metadata": {
        "id": "072bc290"
      },
      "outputs": [],
      "source": [
        "print(\"en Roma encontré a Romeo\".find(\"R\"))   # si hay dos R da el índice de la primera"
      ]
    },
    {
      "cell_type": "code",
      "execution_count": null,
      "metadata": {
        "id": "5353794b"
      },
      "outputs": [],
      "source": [
        "print(\"en Roma encontré a Romeo\".rfind(\"R\"))  # si hay varias R da el índice de la ultima"
      ]
    },
    {
      "cell_type": "markdown",
      "metadata": {
        "id": "2b7e7cf3"
      },
      "source": [
        "El método isalnum() devuelve True si todos los caracteres son alfanuméricos, es decir, letras del alfabeto (a-z) y números (0-9).  \n",
        "Ejemplo de caracteres que no son alfanuméricos: (espacio)! #% &? etc."
      ]
    },
    {
      "cell_type": "code",
      "execution_count": null,
      "metadata": {
        "id": "2bce62cf"
      },
      "outputs": [],
      "source": [
        "\"París2024\".isalnum()"
      ]
    },
    {
      "cell_type": "markdown",
      "metadata": {
        "id": "940b2ba7"
      },
      "source": [
        "El método isalpha() devuelve True si todos los caracteres son letras del alfabeto (a-z).  \n",
        "Ejemplo de caracteres que no son letras del alfabeto: (espacio)! #% &? 0123456789 etc."
      ]
    },
    {
      "cell_type": "code",
      "execution_count": null,
      "metadata": {
        "id": "bc1e6cc8"
      },
      "outputs": [],
      "source": [
        "\"señoríaAlfonsoX\".isalpha()                   # True  contiene ñ y tilde pero no tiene espacio"
      ]
    },
    {
      "cell_type": "markdown",
      "metadata": {
        "id": "96279767"
      },
      "source": [
        "# Listas [1]  \n",
        "Arrays   (arreglos)  \n",
        "Una lista es un conjunto iterable de datos ordenados que van entre corchetes ```[]```"
      ]
    },
    {
      "cell_type": "code",
      "execution_count": null,
      "metadata": {
        "id": "d771fdc2"
      },
      "outputs": [],
      "source": [
        "[]                             # lista vacía"
      ]
    },
    {
      "cell_type": "code",
      "execution_count": null,
      "metadata": {
        "id": "a2e97e31"
      },
      "outputs": [],
      "source": [
        "[10, 15, 12]                   # una lista de tres elementos con números enteros"
      ]
    },
    {
      "cell_type": "markdown",
      "metadata": {
        "id": "25037e95"
      },
      "source": [
        "Una lista es una estructura de datos formada por una secuencia **ordenada** de objetos.  \n",
        "En una lista el orden importa."
      ]
    },
    {
      "cell_type": "code",
      "execution_count": null,
      "metadata": {
        "id": "538f8c17"
      },
      "outputs": [],
      "source": [
        "['azul', 'rojo', 'verde', 'rosa']        # una lista con strings"
      ]
    },
    {
      "cell_type": "code",
      "execution_count": null,
      "metadata": {
        "id": "b9b7b4f2"
      },
      "outputs": [],
      "source": [
        "[4, 'lunes', 3.14, True, None]           # admite cualquier valor"
      ]
    },
    {
      "cell_type": "code",
      "execution_count": null,
      "metadata": {
        "id": "476ee3a8"
      },
      "outputs": [],
      "source": [
        "comida = ['spagueti', 'pollo', 'tarta']  # asignación a una variable\n",
        "print(comida)                            # ['spagueti', 'pollo', 'tarta']"
      ]
    },
    {
      "cell_type": "markdown",
      "metadata": {
        "id": "3bb6a430"
      },
      "source": [
        "## Podemos trabajar con índices"
      ]
    },
    {
      "cell_type": "code",
      "execution_count": null,
      "metadata": {
        "id": "10f93f6a"
      },
      "outputs": [],
      "source": [
        "comida[0]                      # 'spagueti'   se comienza por el índice 0 \n",
        "comida[1]                      # 'pollo'\n",
        "comida[2]                      # 'tarta'      ¿por qué solo se imprime 'tarta'?"
      ]
    },
    {
      "cell_type": "markdown",
      "metadata": {
        "id": "d9516f90"
      },
      "source": [
        "## Longitud de una cadena"
      ]
    },
    {
      "cell_type": "code",
      "execution_count": null,
      "metadata": {
        "id": "0c339d1c"
      },
      "outputs": [],
      "source": [
        "p = [1, 2, 3, 4]\n",
        "q = [4, 5, 6, 7]\n",
        "len(p) == len(q)               # True"
      ]
    },
    {
      "cell_type": "markdown",
      "metadata": {
        "id": "3b590cf9"
      },
      "source": [
        "## Las cadenas admiten slicing"
      ]
    },
    {
      "cell_type": "code",
      "execution_count": null,
      "metadata": {
        "id": "927e7ca2"
      },
      "outputs": [],
      "source": [
        "comida[:2]                     # ['spagueti', 'pollo']"
      ]
    },
    {
      "cell_type": "code",
      "execution_count": null,
      "metadata": {
        "id": "e3b0bffa"
      },
      "outputs": [],
      "source": [
        "p[-1] == q[0]                  # True"
      ]
    },
    {
      "cell_type": "markdown",
      "metadata": {
        "id": "31687a19"
      },
      "source": [
        "## Las listas no son inmutables\n",
        "Las listas pueden cambiar. Podemos reemplazar sus elementos.  \n",
        "Vamos a reemplazar el elemento de índice 0 que es spaguetis por otra palabra espaguetis (con e al inicio)."
      ]
    },
    {
      "cell_type": "code",
      "execution_count": null,
      "metadata": {
        "id": "f33df9e0"
      },
      "outputs": [],
      "source": [
        "comida[0] = 'espagueti'        # reemplazando un elemento, escribimos espagueti con e\n",
        "print(comida)                  # ['espagueti', 'pollo', 'tarta']"
      ]
    },
    {
      "cell_type": "markdown",
      "metadata": {
        "id": "6346f6bb"
      },
      "source": [
        "## Tipo lista"
      ]
    },
    {
      "cell_type": "code",
      "execution_count": null,
      "metadata": {
        "id": "8c7bd577"
      },
      "outputs": [],
      "source": [
        "print(type(comida))             # <class 'list'>"
      ]
    },
    {
      "cell_type": "markdown",
      "metadata": {
        "id": "de79bb98"
      },
      "source": [
        "## Listas dentro de listas"
      ]
    },
    {
      "cell_type": "code",
      "execution_count": null,
      "metadata": {
        "id": "a0c0ed7a"
      },
      "outputs": [],
      "source": [
        "lista = [comida, 23, True, 15.60]  # una lista dentro de una lista\n",
        "print(lista)"
      ]
    },
    {
      "cell_type": "markdown",
      "metadata": {
        "id": "e35e5bcf"
      },
      "source": [
        "### Matriz:  Array 2D\n",
        "Matriz de dos dimensiones."
      ]
    },
    {
      "cell_type": "code",
      "execution_count": null,
      "metadata": {
        "id": "a95b3d70"
      },
      "outputs": [],
      "source": [
        "matriz = [[11,12,13,14],\n",
        "          [21,22,23,24],\n",
        "          [31,32,33,34]]\n",
        "matriz                          # dos filas, cuatro columnas, 2×4"
      ]
    },
    {
      "cell_type": "markdown",
      "metadata": {
        "id": "a4386929"
      },
      "source": [
        "#### Listas anidadas"
      ]
    },
    {
      "cell_type": "code",
      "execution_count": null,
      "metadata": {
        "id": "df6abc0f"
      },
      "outputs": [],
      "source": [
        "a = [1, 2, 3]\n",
        "b = [4, 5, 6]\n",
        "c = [7, 8, 9]\n",
        "m = [a, b, c]\n",
        "m                               # matriz de dos dimensiones"
      ]
    },
    {
      "cell_type": "markdown",
      "metadata": {
        "id": "63f5ff88"
      },
      "source": [
        "#### Accediendo a una lista dentro de otra lista"
      ]
    },
    {
      "cell_type": "code",
      "execution_count": null,
      "metadata": {
        "id": "2fca709b"
      },
      "outputs": [],
      "source": [
        "m[0]"
      ]
    },
    {
      "cell_type": "markdown",
      "metadata": {
        "id": "6a0d1c5c"
      },
      "source": [
        "#### Accediendo a un elemento en una matriz"
      ]
    },
    {
      "cell_type": "code",
      "execution_count": null,
      "metadata": {
        "id": "c0e360d9"
      },
      "outputs": [],
      "source": [
        "m[0][0]"
      ]
    },
    {
      "cell_type": "code",
      "execution_count": null,
      "metadata": {
        "id": "e42ed77f"
      },
      "outputs": [],
      "source": [
        "m[2][2] == m[-1][-1]            # ¿9 es igual a 9?"
      ]
    },
    {
      "cell_type": "markdown",
      "metadata": {
        "id": "64c2b0a7"
      },
      "source": [
        "### Una listas que incluye dos listas"
      ]
    },
    {
      "cell_type": "code",
      "execution_count": null,
      "metadata": {
        "id": "28f54caa"
      },
      "outputs": [],
      "source": [
        "bebida = ['agua', 'vino', 'cerveza']\n",
        "menu = [comida, bebida]                       # una lista que incluye dos listas\n",
        "print(menu)\n",
        "print(menu[1][2])                             #cerveza\n",
        "print(comida[len(comida)-1] == comida[-1])    #True"
      ]
    },
    {
      "cell_type": "markdown",
      "metadata": {
        "id": "21616ea1"
      },
      "source": [
        "## Sumar dos listas es unir dos listas en una"
      ]
    },
    {
      "cell_type": "code",
      "execution_count": null,
      "metadata": {
        "id": "47b77aad"
      },
      "outputs": [],
      "source": [
        "carta = comida + bebida         # la carta del restaurante es la unión de comida y bebida\n",
        "print(carta)"
      ]
    },
    {
      "cell_type": "markdown",
      "metadata": {
        "id": "c98a4733"
      },
      "source": [
        "## Borrar un elemento de la lista"
      ]
    },
    {
      "cell_type": "code",
      "execution_count": null,
      "metadata": {
        "id": "fc800354"
      },
      "outputs": [],
      "source": [
        "del carta[-2]                   # eliminamos el vino\n",
        "print(carta)                    # ['espagueti', 'pollo', 'tarta', 'agua', 'cerveza']"
      ]
    },
    {
      "cell_type": "markdown",
      "metadata": {
        "id": "1732deb8"
      },
      "source": [
        "## Anexar un elemento a una lista\n",
        "Añadir el elemento en la última posición."
      ]
    },
    {
      "cell_type": "code",
      "execution_count": null,
      "metadata": {
        "id": "3caeb79d"
      },
      "outputs": [],
      "source": [
        "carta.append('limonada')        # añadimos al final un elemento\n",
        "print(carta)                    # ['espagueti', 'pollo', 'tarta', 'agua', 'cerveza', 'limonada']"
      ]
    },
    {
      "cell_type": "markdown",
      "metadata": {
        "id": "5623bf81"
      },
      "source": [
        "## Comprobar si un elemento está en la lista"
      ]
    },
    {
      "cell_type": "code",
      "execution_count": null,
      "metadata": {
        "id": "f908ce76"
      },
      "outputs": [],
      "source": [
        "print('tarta' in carta)         # True    Operador de pertenencia: in\n",
        "print('fruta' in carta)         # False"
      ]
    },
    {
      "cell_type": "markdown",
      "metadata": {
        "id": "8d4b62b9"
      },
      "source": [
        "## Índice de un elemento en la lista\n",
        "Ver que número de índice ocupa un elemento en la lista"
      ]
    },
    {
      "cell_type": "code",
      "execution_count": null,
      "metadata": {
        "id": "9aa114a3"
      },
      "outputs": [],
      "source": [
        "oferta = ['espagueti', 'pollo', 'tarta', 'agua', 'cerveza']\n",
        "print(oferta.index('tarta'))    # 2"
      ]
    },
    {
      "cell_type": "markdown",
      "metadata": {
        "id": "f5366bb5"
      },
      "source": [
        "### Añadimos café"
      ]
    },
    {
      "cell_type": "code",
      "execution_count": null,
      "metadata": {
        "id": "d46d0c7a"
      },
      "outputs": [],
      "source": [
        "oferta.append('café')           # ['espagueti', 'pollo', 'tarta', 'agua', 'cerveza', 'café']\n",
        "print(oferta)"
      ]
    },
    {
      "cell_type": "markdown",
      "metadata": {
        "id": "7ad67f1b"
      },
      "source": [
        "### Removemos el agua"
      ]
    },
    {
      "cell_type": "code",
      "execution_count": null,
      "metadata": {
        "id": "b27e3199"
      },
      "outputs": [],
      "source": [
        "oferta.remove('agua')           # ['espagueti', 'pollo', 'tarta', 'cerveza', 'café']\n",
        "print(oferta)"
      ]
    },
    {
      "cell_type": "markdown",
      "metadata": {
        "id": "4e4429bd"
      },
      "source": [
        "### Eliminamos el úlimo elemento con pop"
      ]
    },
    {
      "cell_type": "code",
      "execution_count": null,
      "metadata": {
        "id": "b475c773"
      },
      "outputs": [],
      "source": [
        "oferta.pop()                    # ['espagueti', 'pollo', 'tarta', 'cerveza']\n",
        "print(oferta)"
      ]
    },
    {
      "cell_type": "markdown",
      "metadata": {
        "id": "fc534d6e"
      },
      "source": [
        "### Insertamos un elemento en una posición concreta"
      ]
    },
    {
      "cell_type": "code",
      "execution_count": null,
      "metadata": {
        "id": "ccae05d3"
      },
      "outputs": [],
      "source": [
        "oferta.insert(2, 'fruta')       # ['espagueti', 'pollo', 'fruta', 'tarta', 'cerveza']\n",
        "print(oferta)"
      ]
    },
    {
      "cell_type": "code",
      "execution_count": null,
      "metadata": {
        "id": "2680056f"
      },
      "outputs": [],
      "source": [
        "oferta.insert(0, 'pan')         # ['pan', 'espagueti', 'pollo', 'fruta', 'tarta', 'cerveza']\n",
        "print(oferta)"
      ]
    },
    {
      "cell_type": "markdown",
      "metadata": {
        "id": "9eebdbf7"
      },
      "source": [
        "### Eliminar parte de una lista"
      ]
    },
    {
      "cell_type": "code",
      "execution_count": null,
      "metadata": {
        "id": "f8531cac"
      },
      "outputs": [],
      "source": [
        "oferta[:2] = []                 # usando slicing e igualando a una lista vacía\n",
        "oferta"
      ]
    },
    {
      "cell_type": "markdown",
      "metadata": {
        "id": "44f148c0"
      },
      "source": [
        "### Eliminando completamente el contenido de la lista"
      ]
    },
    {
      "cell_type": "code",
      "execution_count": null,
      "metadata": {
        "id": "b9352a34"
      },
      "outputs": [],
      "source": [
        "oferta = []                     # asignando la lista a una lista vacía\n",
        "oferta"
      ]
    },
    {
      "cell_type": "markdown",
      "metadata": {
        "id": "4ac672f3"
      },
      "source": [
        "#### Método 1 ```list=[]```"
      ]
    },
    {
      "cell_type": "code",
      "execution_count": null,
      "metadata": {
        "id": "12717abe"
      },
      "outputs": [],
      "source": [
        "list1 = [1, 2, 3]\n",
        "list2 = list1\n",
        "list1 = []\n",
        "print(\"list1\", list1)\n",
        "print(\"list2\", list2)"
      ]
    },
    {
      "cell_type": "markdown",
      "metadata": {
        "id": "a774bc45"
      },
      "source": [
        "#### Método 2 ```list.clear()```"
      ]
    },
    {
      "cell_type": "code",
      "execution_count": null,
      "metadata": {
        "id": "41e747e3"
      },
      "outputs": [],
      "source": [
        "list1 = [1, 2, 3]\n",
        "list2 = list1\n",
        "list1.clear()\n",
        "print(\"list1\", list1)\n",
        "print(\"list2\", list2)"
      ]
    },
    {
      "cell_type": "markdown",
      "metadata": {
        "id": "d0cf4bd5"
      },
      "source": [
        "#### Método 3 ```del list[:]```"
      ]
    },
    {
      "cell_type": "code",
      "execution_count": null,
      "metadata": {
        "id": "e3a3c2b8"
      },
      "outputs": [],
      "source": [
        "list1 = [1, 2, 3]\n",
        "list2 = list1\n",
        "del list1[:]\n",
        "print(\"list1\", list1)\n",
        "print(\"list2\", list2)"
      ]
    },
    {
      "cell_type": "markdown",
      "metadata": {
        "id": "0f679934"
      },
      "source": [
        "#### Método 4 ```list *= 0```"
      ]
    },
    {
      "cell_type": "code",
      "execution_count": null,
      "metadata": {
        "id": "460bd704"
      },
      "outputs": [],
      "source": [
        "list1 = [1, 2, 3]\n",
        "list2 = list1\n",
        "list1 *= 0\n",
        "print(\"list1\", list1)\n",
        "print(\"list2\", list2)"
      ]
    },
    {
      "cell_type": "markdown",
      "metadata": {
        "id": "87ac7381"
      },
      "source": [
        "# Listas [2]  Slicing Lists"
      ]
    },
    {
      "cell_type": "markdown",
      "metadata": {
        "id": "48319d7f"
      },
      "source": [
        "## Índices en una lista (**Index**)"
      ]
    },
    {
      "cell_type": "code",
      "execution_count": null,
      "metadata": {
        "id": "82846a9f"
      },
      "outputs": [],
      "source": [
        "dias = ['lun', 'mar', 'mie', 'jue', 'vie', 'sab', 'dom']\n",
        "print(dias[0])\n",
        "print(dias[1])\n",
        "print(dias[2])\n",
        "print(dias[3])\n",
        "print(dias[4])\n",
        "print(dias[5])\n",
        "print(dias[6])"
      ]
    },
    {
      "cell_type": "markdown",
      "metadata": {
        "id": "5e89bef4"
      },
      "source": [
        "### Índices negativos"
      ]
    },
    {
      "cell_type": "code",
      "execution_count": null,
      "metadata": {
        "id": "c8f62709"
      },
      "outputs": [],
      "source": [
        "print(dias[-1])\n",
        "print(dias[-2])\n",
        "print(dias[-3])\n",
        "print(dias[-4])\n",
        "print(dias[-5])\n",
        "print(dias[-6])\n",
        "print(dias[-7])"
      ]
    },
    {
      "cell_type": "markdown",
      "metadata": {
        "id": "8a4c1c70"
      },
      "source": [
        "## Slice notation  \n",
        "- lista[start:stop]  # items desde start hasta stop-1\n",
        "- lista[start:]      # items desde start hasta el final\n",
        "- lista[:stop]       # items desde el inicio hasta stop-1\n",
        "- lista[:]           # crea una copia del array completo"
      ]
    },
    {
      "cell_type": "code",
      "execution_count": null,
      "metadata": {
        "id": "5f1ec7f0"
      },
      "outputs": [],
      "source": [
        "print(dias[2:5])\n",
        "print(dias[2:])\n",
        "print(dias[:5])\n",
        "una_copia = dias[:]\n",
        "print(una_copia)"
      ]
    },
    {
      "cell_type": "markdown",
      "metadata": {
        "id": "a1dda2d6"
      },
      "source": [
        "### Valores negativos"
      ]
    },
    {
      "cell_type": "code",
      "execution_count": null,
      "metadata": {
        "id": "cd187119"
      },
      "outputs": [],
      "source": [
        "print(dias[-1])         # el último elemento del array\n",
        "print(dias[-2:])        # los dos últimos elementos del array\n",
        "print(dias[:-2])        # todos los elementos desde el inicio hasta el -2 excluido"
      ]
    },
    {
      "cell_type": "markdown",
      "metadata": {
        "id": "c6c7d69f"
      },
      "source": [
        "### lista[Star:Stop:Step]"
      ]
    },
    {
      "cell_type": "code",
      "execution_count": null,
      "metadata": {
        "id": "0b9d9f41"
      },
      "outputs": [],
      "source": [
        "print(dias[::-1])       # todos los elementos de la matriz invertidos  (reverse)\n",
        "print(dias[1::-1])      # los dos primeros elementos invertidos\n",
        "print(dias[:-3:-1])     # los dos últimos elementos invertidos\n",
        "print(dias[-3::-1])     # todo excepto los dos últimos elementos e invertidos"
      ]
    },
    {
      "cell_type": "markdown",
      "metadata": {
        "id": "ba87801a"
      },
      "source": [
        "## lista[slice(Star,Stop,Step)]  equivale a  lista[Star:Stop:Step]"
      ]
    },
    {
      "cell_type": "code",
      "execution_count": null,
      "metadata": {
        "id": "3bbc6214"
      },
      "outputs": [],
      "source": [
        "dias[slice(None, None, -1)]"
      ]
    },
    {
      "cell_type": "code",
      "execution_count": null,
      "metadata": {
        "id": "70dd5b1d"
      },
      "outputs": [],
      "source": [
        "dias[slice(1, None, 2)]"
      ]
    },
    {
      "cell_type": "markdown",
      "metadata": {
        "id": "f8b792a1"
      },
      "source": [
        "## Separar listas"
      ]
    },
    {
      "cell_type": "code",
      "execution_count": null,
      "metadata": {
        "id": "712116a4"
      },
      "outputs": [],
      "source": [
        "lista_completa = ['a', 'b', 'c', 'd', 'e', 1, 2, 3, 4]\n",
        "lista_letras = lista_completa[0:5]             # ['a', 'b', 'c', 'd', 'e'] El índice 5 no se incluye\n",
        "lista_numeros = lista_completa[5:9]            # [1, 2, 3, 4] El índice 9 no se incluye\n",
        "print(lista_letras)\n",
        "print(lista_numeros)"
      ]
    },
    {
      "cell_type": "code",
      "execution_count": null,
      "metadata": {
        "id": "a76f832e"
      },
      "outputs": [],
      "source": [
        "print(lista_completa[:5])                      # ['a', 'b', 'c', 'd', 'e']\n",
        "print(lista_completa[5:])                      # [1, 2, 3, 4]"
      ]
    },
    {
      "cell_type": "code",
      "execution_count": null,
      "metadata": {
        "id": "f276d882"
      },
      "outputs": [],
      "source": [
        "print(lista_completa[-4:])                     # [1, 2, 3, 4]\n",
        "print(lista_completa[1::2])                    # ['b', 'd', 1, 3]"
      ]
    },
    {
      "cell_type": "code",
      "execution_count": null,
      "metadata": {
        "id": "ad52146b"
      },
      "outputs": [],
      "source": [
        "print(lista_completa[6])                       # 2\n",
        "print(lista_completa[6:7])                     # [2]\n",
        "lista_completa[6] != lista_completa[6:7]       # 2!=[2] El valor 2 es distinto de la sublista [2]"
      ]
    },
    {
      "cell_type": "markdown",
      "metadata": {
        "id": "fe1e905e"
      },
      "source": [
        "## ```list(range(10))```"
      ]
    },
    {
      "cell_type": "code",
      "execution_count": null,
      "metadata": {
        "id": "46a37c35"
      },
      "outputs": [],
      "source": [
        "mi_rango=range(10)\n",
        "print(mi_rango)               # range(0, 10)\n",
        "print(type(mi_rango))         # <class 'range'>\n",
        "list(mi_rango)                # se puede convertir en una lista"
      ]
    },
    {
      "cell_type": "code",
      "execution_count": null,
      "metadata": {
        "id": "74e14846"
      },
      "outputs": [],
      "source": [
        "numeros=list(range(10))\n",
        "print(numeros)                # [0, 1, 2, 3, 4, 5, 6, 7, 8, 9]"
      ]
    },
    {
      "cell_type": "markdown",
      "metadata": {
        "id": "4f01a8e9"
      },
      "source": [
        "## Inicializar una lista con ceros"
      ]
    },
    {
      "cell_type": "code",
      "execution_count": null,
      "metadata": {
        "id": "27ca2c43"
      },
      "outputs": [],
      "source": [
        "ceros = [0]*10\n",
        "print(ceros)                  # [0, 0, 0, 0, 0, 0, 0, 0, 0, 0]\n",
        "print(len(ceros))             # 10"
      ]
    },
    {
      "cell_type": "code",
      "execution_count": null,
      "metadata": {
        "id": "95d39fef"
      },
      "outputs": [],
      "source": [
        "del ceros[2:]                 # eliminamos desde el elemento de índice 2 incluido hasta el final\n",
        "print(ceros)                  # [0, 0]"
      ]
    },
    {
      "cell_type": "markdown",
      "metadata": {
        "id": "48afea55"
      },
      "source": [
        "## Añadir al inicio"
      ]
    },
    {
      "cell_type": "code",
      "execution_count": null,
      "metadata": {
        "id": "95095980"
      },
      "outputs": [],
      "source": [
        "ls = [\"Bea\", \"Carmen\"]\n",
        "ls.insert(0, \"Ana\")\n",
        "ls"
      ]
    },
    {
      "cell_type": "markdown",
      "metadata": {
        "id": "36e5fd6b"
      },
      "source": [
        "# Listas [3] Copiar listas y matrices"
      ]
    },
    {
      "cell_type": "markdown",
      "metadata": {
        "id": "bd2c10e4"
      },
      "source": [
        "## Copiar lista\n",
        "### Igualando dos listas\n",
        "Igualando dos listas no se hace una copia de valores, se trata de la misma. Ambas ocupan el mismo lugar de memoria y tienen el mismo identificador (id)."
      ]
    },
    {
      "cell_type": "code",
      "execution_count": null,
      "metadata": {
        "id": "1b2b202b"
      },
      "outputs": [],
      "source": [
        "l1 = ['a', 'b', 'c']\n",
        "l2 = l1              # igualando dos listas se trata del mismo objeto\n",
        "print(\"l1: \", l1)\n",
        "print(\"l2: \", l2)"
      ]
    },
    {
      "cell_type": "markdown",
      "metadata": {
        "id": "ee0e5081"
      },
      "source": [
        "#### Comprobación\n",
        "Si añadimos con append un elemento a una lista también se añade a la otra puesto que se trata del mismo objeto."
      ]
    },
    {
      "cell_type": "code",
      "execution_count": null,
      "metadata": {
        "id": "060cf078"
      },
      "outputs": [],
      "source": [
        "l1.append(\"x\")\n",
        "print(\"l1: \", l1)\n",
        "print(\"l2: \", l2)"
      ]
    },
    {
      "cell_type": "code",
      "execution_count": null,
      "metadata": {
        "id": "c1ff8225"
      },
      "outputs": [],
      "source": [
        "print(id(l1))\n",
        "print(id(l2))"
      ]
    },
    {
      "cell_type": "markdown",
      "metadata": {
        "id": "7671aa9a"
      },
      "source": [
        "### Creando un nuevo objeto lista"
      ]
    },
    {
      "cell_type": "code",
      "execution_count": null,
      "metadata": {
        "id": "62fd2598"
      },
      "outputs": [],
      "source": [
        "l1 = ['a', 'b', 'c']\n",
        "l2 = l1[:]           #así se crea un nuevo objeto l2. También vale poner l2=list(l1)\n",
        "print(\"l1: \", l1)\n",
        "print(\"l2: \", l2)"
      ]
    },
    {
      "cell_type": "markdown",
      "metadata": {
        "id": "6390a857"
      },
      "source": [
        "#### Comprobación\n",
        "Al añadir un nuevo elemento con append a una lista la otra no queda afectada. Se trata de dos listas que son independientes, son dos objetos diferentes."
      ]
    },
    {
      "cell_type": "code",
      "execution_count": null,
      "metadata": {
        "id": "2c25502a"
      },
      "outputs": [],
      "source": [
        "l1.append(\"x\")\n",
        "print(\"l1: \", l1)\n",
        "print(\"l2: \", l2)"
      ]
    },
    {
      "cell_type": "markdown",
      "metadata": {
        "id": "29450c15"
      },
      "source": [
        "## Copiar una matriz  \n",
        "### Igualando dos matrices\n",
        "Igualando dos matrices no se hace una copia de valores, se trata de la misma. Ambas ocupan el mismo lugar de memoria y tienen el mismo identificador (id).  \n",
        "* Lista de listas  \n",
        "* Matrices  \n",
        "* Arrays 2D"
      ]
    },
    {
      "cell_type": "code",
      "execution_count": null,
      "metadata": {
        "id": "bb18744b"
      },
      "outputs": [],
      "source": [
        "x = [[1,2], [3,4]]       # matriz 2x2 o lista bidimensional\n",
        "y = x                    # igualando dos listas no se hace una copia de valores, se trata de la misma\n",
        "print(\"x: \", x)\n",
        "print(\"y: \", y)"
      ]
    },
    {
      "cell_type": "code",
      "execution_count": null,
      "metadata": {
        "id": "6b532c7f"
      },
      "outputs": [],
      "source": [
        "x[0][0] = 88             # modificamos un valor de una de las dos matrices\n",
        "print(\"x: \", x)\n",
        "print(\"y: \", y)"
      ]
    },
    {
      "cell_type": "code",
      "execution_count": null,
      "metadata": {
        "id": "152213c9"
      },
      "outputs": [],
      "source": [
        "print(id(x))\n",
        "print(id(y))"
      ]
    },
    {
      "cell_type": "markdown",
      "metadata": {
        "id": "4e743412"
      },
      "source": [
        "### Creando un nuevo objeto matriz\n",
        "Para copiar una lista multidimensional usamos deepcopy."
      ]
    },
    {
      "cell_type": "code",
      "execution_count": null,
      "metadata": {
        "id": "672f0ad1"
      },
      "outputs": [],
      "source": [
        "from copy import deepcopy\n",
        "x = [[1,2], [3,4]]\n",
        "y = deepcopy(x)       # usando deepcopy\n",
        "print(\"x: \", x)\n",
        "print(\"y: \", y)"
      ]
    },
    {
      "cell_type": "markdown",
      "metadata": {
        "id": "541e8974"
      },
      "source": [
        "#### Comprobación\n",
        "Al añadir un nuevo elemento con append a una matriz la otra no queda afectada. Se trata de dos matrices independientes, son dos objetos diferentes."
      ]
    },
    {
      "cell_type": "code",
      "execution_count": null,
      "metadata": {
        "id": "9e01b131"
      },
      "outputs": [],
      "source": [
        "x[0][0] = 88\n",
        "print(\"x: \", x)\n",
        "print(\"y: \", y)"
      ]
    },
    {
      "cell_type": "markdown",
      "metadata": {
        "id": "082d3266"
      },
      "source": [
        "Los objetos tienen diferente identificador."
      ]
    },
    {
      "cell_type": "code",
      "execution_count": null,
      "metadata": {
        "id": "9e0a8dab"
      },
      "outputs": [],
      "source": [
        "print(id(x))\n",
        "print(id(y))"
      ]
    },
    {
      "cell_type": "markdown",
      "metadata": {
        "id": "cf60e6fc"
      },
      "source": [
        "# Listas [4] Operaciones y funciones"
      ]
    },
    {
      "cell_type": "markdown",
      "metadata": {
        "id": "dd15b7e4"
      },
      "source": [
        "## Operaciones con listas  \n",
        "Tamaño       →  len(lista)  \n",
        "Concatenar   →  [1,2]+[3,4]  \n",
        "Repetir      →  [\"hola\"]*3  \n",
        "Iterar       →  for i in lista  \n",
        "Es parte de  →  4 in lista          # operador de pertenencia: in  \n",
        "No es parte de →  5 not in lista    # operador de pertenencia: not in"
      ]
    },
    {
      "cell_type": "markdown",
      "metadata": {
        "id": "755a1a1e"
      },
      "source": [
        "### Concatenar listas"
      ]
    },
    {
      "cell_type": "code",
      "execution_count": null,
      "metadata": {
        "id": "45201dd0"
      },
      "outputs": [],
      "source": [
        "lista = [1, 2] + [3, 4]         # uniendo dos listas\n",
        "print(lista)                  # [1, 2, 3, 4]"
      ]
    },
    {
      "cell_type": "markdown",
      "metadata": {
        "id": "8ca260ec"
      },
      "source": [
        "### len()"
      ]
    },
    {
      "cell_type": "code",
      "execution_count": null,
      "metadata": {
        "id": "c36c5655"
      },
      "outputs": [],
      "source": [
        "print(len(lista))             # 4"
      ]
    },
    {
      "cell_type": "markdown",
      "metadata": {
        "id": "c8302f82"
      },
      "source": [
        "### Repetir"
      ]
    },
    {
      "cell_type": "code",
      "execution_count": null,
      "metadata": {
        "id": "2f67923c"
      },
      "outputs": [],
      "source": [
        "saluda = [\"hola\"]*3\n",
        "print(saluda)                 # ['hola', 'hola', 'hola']"
      ]
    },
    {
      "cell_type": "markdown",
      "metadata": {
        "id": "e594de99"
      },
      "source": [
        "### Iterar"
      ]
    },
    {
      "cell_type": "code",
      "execution_count": null,
      "metadata": {
        "id": "a462a75e"
      },
      "outputs": [],
      "source": [
        "for i in lista:\n",
        "    print(i)                  # 1 2 3 4 en columna"
      ]
    },
    {
      "cell_type": "markdown",
      "metadata": {
        "id": "51a87b78"
      },
      "source": [
        "### in"
      ]
    },
    {
      "cell_type": "code",
      "execution_count": null,
      "metadata": {
        "id": "93fe0e28"
      },
      "outputs": [],
      "source": [
        "print(\"bye\" in saluda)        # False"
      ]
    },
    {
      "cell_type": "code",
      "execution_count": null,
      "metadata": {
        "id": "16697edc"
      },
      "outputs": [],
      "source": [
        "print(\"hola\" in saluda)        # True"
      ]
    },
    {
      "cell_type": "markdown",
      "metadata": {
        "id": "48bd3236"
      },
      "source": [
        "### not in"
      ]
    },
    {
      "cell_type": "code",
      "execution_count": null,
      "metadata": {
        "id": "dc0280e4"
      },
      "outputs": [],
      "source": [
        "print(\"hi\" not in saluda)      # True"
      ]
    },
    {
      "cell_type": "markdown",
      "metadata": {
        "id": "d1db79de"
      },
      "source": [
        "## Algunas funciones  \n",
        "append(elemento)  \n",
        "pop()  \n",
        "remove(elemento)\t                 # si elemento no está en la lista da  error  \n",
        "index(elemento)                      # devuelve el índice que ocupa el elemento  \n",
        "insert(indice,elemento)  \n",
        "clear()  "
      ]
    },
    {
      "cell_type": "markdown",
      "metadata": {
        "id": "3cddf00c"
      },
      "source": [
        "### append()"
      ]
    },
    {
      "cell_type": "code",
      "execution_count": null,
      "metadata": {
        "id": "6336047a"
      },
      "outputs": [],
      "source": [
        "saluda.append(\"hi\")\n",
        "print(saluda)                 # ['hola', 'hola', 'hola', 'hi']"
      ]
    },
    {
      "cell_type": "markdown",
      "metadata": {
        "id": "91059c17"
      },
      "source": [
        "### pop()"
      ]
    },
    {
      "cell_type": "code",
      "execution_count": null,
      "metadata": {
        "id": "8f213dbf"
      },
      "outputs": [],
      "source": [
        "eliminado = saluda.pop()\n",
        "print(saluda)                 # ['hola', 'hola', 'hola']\n",
        "print(eliminado)              # hi"
      ]
    },
    {
      "cell_type": "markdown",
      "metadata": {
        "id": "f56e5d28"
      },
      "source": [
        "### clear()"
      ]
    },
    {
      "cell_type": "code",
      "execution_count": null,
      "metadata": {
        "id": "8f3a3b5c"
      },
      "outputs": [],
      "source": [
        "saluda.clear()\n",
        "print(saluda)                 # []"
      ]
    },
    {
      "cell_type": "markdown",
      "metadata": {
        "id": "d81c87c2"
      },
      "source": [
        "### remove()"
      ]
    },
    {
      "cell_type": "code",
      "execution_count": null,
      "metadata": {
        "id": "73b74562"
      },
      "outputs": [],
      "source": [
        "l = [10, 20, 30, 40]          # nueva lista l\n",
        "print(l)                      # [10, 20, 30, 40]\n",
        "l.remove(20)\n",
        "print(l)                      # [10, 30, 40]"
      ]
    },
    {
      "cell_type": "markdown",
      "metadata": {
        "id": "03116007"
      },
      "source": [
        "### index()"
      ]
    },
    {
      "cell_type": "code",
      "execution_count": null,
      "metadata": {
        "id": "b48bfa3a"
      },
      "outputs": [],
      "source": [
        "print(l.index(40))            # 2    el valor 40 ocupa ahora el índice 2"
      ]
    },
    {
      "cell_type": "markdown",
      "metadata": {
        "id": "7fb92459"
      },
      "source": [
        "### insert()"
      ]
    },
    {
      "cell_type": "code",
      "execution_count": null,
      "metadata": {
        "id": "afd01c86"
      },
      "outputs": [],
      "source": [
        "l.insert(1, \"20\")             # insertamos un valor tipo string\n",
        "print(l)                      # [10, '20', 30, 40]"
      ]
    },
    {
      "cell_type": "markdown",
      "metadata": {
        "id": "7035ba7d"
      },
      "source": [
        "### No es lo mismo 30 que [30]"
      ]
    },
    {
      "cell_type": "code",
      "execution_count": null,
      "metadata": {
        "id": "7ce07de4"
      },
      "outputs": [],
      "source": [
        "print(l[2])                   # 30        valor 30\n",
        "print(l[2:3])                 # [30]      lista con un único valor\n",
        "print(l[2] == l[2:3])         # False     no es lo mismo un valor que una lista con un único valor"
      ]
    },
    {
      "cell_type": "markdown",
      "metadata": {
        "id": "f8cf534e"
      },
      "source": [
        "### Iterar"
      ]
    },
    {
      "cell_type": "code",
      "execution_count": null,
      "metadata": {
        "id": "da2d4f2c"
      },
      "outputs": [],
      "source": [
        "colores = ['amarillo', 'rojo', 'verde', 'azul', 'naranja']\n",
        "for color in colores:\n",
        "    print(color)"
      ]
    },
    {
      "cell_type": "markdown",
      "metadata": {
        "id": "ebdbcc7a"
      },
      "source": [
        "### append()"
      ]
    },
    {
      "cell_type": "code",
      "execution_count": null,
      "metadata": {
        "id": "cbd0a26b"
      },
      "outputs": [],
      "source": [
        "colores.append('magenta')\n",
        "colores"
      ]
    },
    {
      "cell_type": "markdown",
      "metadata": {
        "id": "c4a0967b"
      },
      "source": [
        "### remove()"
      ]
    },
    {
      "cell_type": "code",
      "execution_count": null,
      "metadata": {
        "id": "2ec68e73"
      },
      "outputs": [],
      "source": [
        "colores.remove('naranja')\n",
        "colores"
      ]
    },
    {
      "cell_type": "markdown",
      "metadata": {
        "id": "1e224026"
      },
      "source": [
        "### index()"
      ]
    },
    {
      "cell_type": "code",
      "execution_count": null,
      "metadata": {
        "id": "ab12fd6c"
      },
      "outputs": [],
      "source": [
        "colores.index('verde')        # 2"
      ]
    },
    {
      "cell_type": "markdown",
      "metadata": {
        "id": "8d23db47"
      },
      "source": [
        "### pop()"
      ]
    },
    {
      "cell_type": "code",
      "execution_count": null,
      "metadata": {
        "id": "1a99091c"
      },
      "outputs": [],
      "source": [
        "colores.pop()                 # elimina el último elemento de la lista\n",
        "colores"
      ]
    },
    {
      "cell_type": "markdown",
      "metadata": {
        "id": "295bdb13"
      },
      "source": [
        "### pop(elemento)"
      ]
    },
    {
      "cell_type": "code",
      "execution_count": null,
      "metadata": {
        "id": "151b5eef"
      },
      "outputs": [],
      "source": [
        "colores.pop(1)                # elimina el elemento que se indique\n",
        "colores"
      ]
    },
    {
      "cell_type": "markdown",
      "metadata": {
        "id": "cbbc8127"
      },
      "source": [
        "### clear()"
      ]
    },
    {
      "cell_type": "code",
      "execution_count": null,
      "metadata": {
        "scrolled": true,
        "id": "910b2a39"
      },
      "outputs": [],
      "source": [
        "colores.clear()\n",
        "colores"
      ]
    },
    {
      "cell_type": "markdown",
      "metadata": {
        "id": "eee2ffca"
      },
      "source": [
        "## ```sort``` y ```sorted```"
      ]
    },
    {
      "cell_type": "code",
      "execution_count": null,
      "metadata": {
        "id": "7224eb35"
      },
      "outputs": [],
      "source": [
        "l = [5, 2, 6, 1, 9, 0]\n",
        "print(\"lista inicial :\", l)\n",
        "l.sort()                             # l.sort() realmente ordena la lista pero se ha de poner antes del print\n",
        "print(\"lista con sort:\", l)"
      ]
    },
    {
      "cell_type": "code",
      "execution_count": null,
      "metadata": {
        "id": "32152eb8"
      },
      "outputs": [],
      "source": [
        "l = [5, 2, 6, 1, 9, 0]\n",
        "print(\"lista inicial:\", l)\n",
        "print(\"lista sorted :\", sorted(l))   # sorted(l) realmente no orden la lista pero permite imprimirla ordenada \n",
        "print(\"lista final  :\", l)"
      ]
    },
    {
      "cell_type": "markdown",
      "metadata": {
        "id": "0383b0d8"
      },
      "source": [
        "# Tuplas [1] \n",
        "Las tuplas son inmutables."
      ]
    },
    {
      "cell_type": "code",
      "execution_count": null,
      "metadata": {
        "id": "c346e536"
      },
      "outputs": [],
      "source": [
        "estaciones = ('Primavera', 'Verano', 'Otoño', 'Invierno')   # Para datos inmutables\n",
        "print(estaciones)\n",
        "type(estaciones)"
      ]
    },
    {
      "cell_type": "markdown",
      "metadata": {
        "id": "f21becab"
      },
      "source": [
        "Los elementos de una lista son mutables, los elementos de una tupla son inmutables.  \n",
        "La iteración sobre los elementos de una tupla es más rápida que la iteración sobre una lista.\n"
      ]
    },
    {
      "cell_type": "code",
      "execution_count": null,
      "metadata": {
        "id": "46ce60e3"
      },
      "outputs": [],
      "source": [
        "mi_tupla = (15, 'McKinsey', True, [5,7,9], ('a','b','c'), 12.35)\n",
        "mi_tupla"
      ]
    },
    {
      "cell_type": "code",
      "execution_count": null,
      "metadata": {
        "id": "297a13b6"
      },
      "outputs": [],
      "source": [
        "tupla_uno = (14,)        # tupla con un único elemento. type(tupla_uno) es de tipo tuple, no int\n",
        "tupla_uno"
      ]
    },
    {
      "cell_type": "markdown",
      "metadata": {
        "id": "ce1e9f24"
      },
      "source": [
        "## Convertir una lista en una tupla"
      ]
    },
    {
      "cell_type": "code",
      "execution_count": null,
      "metadata": {
        "id": "1a50952e"
      },
      "outputs": [],
      "source": [
        "a = [3, 5, 7, 9]         # una lista\n",
        "b = tuple(a)             # se convierte en tupla\n",
        "print(b)                 # (3, 5, 7, 9)"
      ]
    },
    {
      "cell_type": "markdown",
      "metadata": {
        "id": "cc6e901f"
      },
      "source": [
        "## Las tuplas admiten referirnos a ellas por el índice"
      ]
    },
    {
      "cell_type": "code",
      "execution_count": null,
      "metadata": {
        "id": "5a8e35e3"
      },
      "outputs": [],
      "source": [
        "print(estaciones[0])   # 'Primavera'\n",
        "print(mi_tupla[-1])    # 12.35\n",
        "print(mi_tupla[1][2])  # K\n",
        "print(mi_tupla[3][1])  # 7\n",
        "mi_tupla[3][1] = 8     # Podemos cambiar los elementos de una lista dentro de una tupla\n",
        "print(mi_tupla[3])     # [5, 8, 9]   la lista si es mutable aunque esté dentro de una tupla"
      ]
    },
    {
      "cell_type": "markdown",
      "metadata": {
        "id": "2799f212"
      },
      "source": [
        "## Métodos"
      ]
    },
    {
      "cell_type": "code",
      "execution_count": null,
      "metadata": {
        "id": "9947c058"
      },
      "outputs": [],
      "source": [
        "len(mi_tupla)          # longitud de una tupla"
      ]
    },
    {
      "cell_type": "code",
      "execution_count": null,
      "metadata": {
        "id": "c585a984"
      },
      "outputs": [],
      "source": [
        "len(mi_tupla[3])       # longitud de una lista dentro de una tupla"
      ]
    },
    {
      "cell_type": "code",
      "execution_count": null,
      "metadata": {
        "id": "6f365f1b"
      },
      "outputs": [],
      "source": [
        "del(estaciones)        # podemos borrar una tupla entera pero no sus elementos"
      ]
    },
    {
      "cell_type": "code",
      "execution_count": null,
      "metadata": {
        "id": "de1b9824"
      },
      "outputs": [],
      "source": [
        "t=(0, 2, 0, 0, 2, 0, 5)\n",
        "t.count(0)             # contamos el número de ceros que contiene una tupla"
      ]
    },
    {
      "cell_type": "code",
      "execution_count": null,
      "metadata": {
        "id": "3dcc2d16"
      },
      "outputs": [],
      "source": [
        "t.index(2)             # indica el índice donde se encuentra el primer 2"
      ]
    },
    {
      "cell_type": "code",
      "execution_count": null,
      "metadata": {
        "id": "d04bb4ea"
      },
      "outputs": [],
      "source": [
        "t.index(2, 3)           # indica el índice donde se encuentra el 2 comenzando a contar desde el índice 3"
      ]
    },
    {
      "cell_type": "markdown",
      "metadata": {
        "id": "97466f88"
      },
      "source": [
        "# Tuplas [2]"
      ]
    },
    {
      "cell_type": "markdown",
      "metadata": {
        "id": "475780b8"
      },
      "source": [
        "## Las tuplas admiten slicing"
      ]
    },
    {
      "cell_type": "code",
      "execution_count": null,
      "metadata": {
        "id": "5e4dfc22"
      },
      "outputs": [],
      "source": [
        "decadas = (10, 20, 30, 40, 50, 60)\n",
        "print(decadas[2:5])      #(30, 40, 50)  Operación de corte en tuplas (Slicing)\n",
        "print(decadas[:3])       #(10, 20, 30)\n",
        "print(decadas[:])        #(10, 20, 30, 40, 50, 60)   La tupla completa\n",
        "print(20 in decadas)     #True\n",
        "print(21 not in decadas) #True\n",
        "#decadas[2] = 35         #Error no se puede cambiar un elemento de una tupla"
      ]
    },
    {
      "cell_type": "markdown",
      "metadata": {
        "id": "26416fb9"
      },
      "source": [
        "## Conversión de tuplas en listas y viceversa"
      ]
    },
    {
      "cell_type": "markdown",
      "metadata": {
        "id": "da5821fe"
      },
      "source": [
        "Las Tuplas son inmutables, pero se pueden convertir en listas y viceversa."
      ]
    },
    {
      "cell_type": "code",
      "execution_count": null,
      "metadata": {
        "scrolled": true,
        "id": "48c6ba75"
      },
      "outputs": [],
      "source": [
        "d = list(decadas)\n",
        "d.append(75)\n",
        "d[-1] = 70\n",
        "decadas = tuple(d)\n",
        "print(decadas)\n",
        "estaciones=('Primavera', 'Verano', 'Otoño', 'Invierno')\n",
        "print(decadas + estaciones)  #se pueden unir dos tuplas"
      ]
    },
    {
      "cell_type": "markdown",
      "metadata": {
        "id": "70721166"
      },
      "source": [
        "### Ejemplo: tupla a lista a tupla\n",
        "Tomamos una tupla inmutable, la convertimos en lista, cambiamos algunos elementos, y la volvemos a convertir en tupla."
      ]
    },
    {
      "cell_type": "code",
      "execution_count": null,
      "metadata": {
        "id": "94abb395"
      },
      "outputs": [],
      "source": [
        "dias = ('Lun', 'Mar', 'Mie', 'Jue', 'Vie', 'Sab', 'Dom')    # tupla de partida\n",
        "# Observamos que hemos olvidado la tilde en Mié y Sáb\n",
        "# convertimos la tupla en lista\n",
        "lista_dias = list(dias)\n",
        "lista_dias[2] = 'Mié'\n",
        "lista_dias[5] = 'Sáb'\n",
        "dias = tuple(lista_dias)   # convertimos la lista a tupla\n",
        "dias"
      ]
    },
    {
      "cell_type": "markdown",
      "metadata": {
        "id": "79731434"
      },
      "source": [
        "# Diccionarios [1]\n",
        "* Diccionario: estructura iterable de parejas &nbsp;&nbsp; **Clave : Valor**\n",
        "* No ordenado\n",
        " - Una lista si es ordenada\n",
        " - Una tupla si es ordenada\n",
        " - Un diccionario no es ordenado\n",
        " - Un conjunto (set) no es ordenado\n",
        "* Las claves son únicas. No existen dos claves repetidas."
      ]
    },
    {
      "cell_type": "markdown",
      "metadata": {
        "id": "ae63663c"
      },
      "source": [
        "### Ejemplo\n",
        "**País: Capital**\n",
        " - 'Francia' : 'París'\n",
        " - 'Italia' : 'Roma'\n",
        " - 'Portugal' : 'Lisboa'\n",
        " - 'España' : 'Madrid'\n",
        " - 'Alemania' : 'Berlín'"
      ]
    },
    {
      "cell_type": "code",
      "execution_count": null,
      "metadata": {
        "id": "d2d3710a"
      },
      "outputs": [],
      "source": [
        "geo = {'Francia':'París',\n",
        "       'Italia':'Roma',\n",
        "       'Portugal':'Lisboa',\n",
        "       'España':'Madrid',\n",
        "       'Alemania':'Berlín'}\n",
        "geo"
      ]
    },
    {
      "cell_type": "code",
      "execution_count": null,
      "metadata": {
        "id": "cd38ba4f"
      },
      "outputs": [],
      "source": [
        "vacio = {}                      # creación de un diccionario vacío\n",
        "vacio"
      ]
    },
    {
      "cell_type": "code",
      "execution_count": null,
      "metadata": {
        "id": "e4af3dc7"
      },
      "outputs": [],
      "source": [
        "type(vacio)                     # los diccionarios son de tipo dic"
      ]
    },
    {
      "cell_type": "code",
      "execution_count": null,
      "metadata": {
        "id": "9f46ff98"
      },
      "outputs": [],
      "source": [
        "d = {'uno':'one', 'dos':'two', 'tres':'three', 'cuatro':'four'}\n",
        "d['uno']                        # one"
      ]
    },
    {
      "cell_type": "markdown",
      "metadata": {
        "id": "9a17abc4"
      },
      "source": [
        "## Los diccionarios son colecciones desordenadas  \n",
        "No se asegura que el orden sea el esperado."
      ]
    },
    {
      "cell_type": "code",
      "execution_count": null,
      "metadata": {
        "id": "c5fd244d"
      },
      "outputs": [],
      "source": [
        "d['cero'] = 'zero'              # añadiendo un nuevo elemento al diccionario  clave:valor"
      ]
    },
    {
      "cell_type": "code",
      "execution_count": null,
      "metadata": {
        "id": "895d085d"
      },
      "outputs": [],
      "source": [
        "d"
      ]
    },
    {
      "cell_type": "code",
      "execution_count": null,
      "metadata": {
        "id": "6d529f4e"
      },
      "outputs": [],
      "source": [
        "palabra = 'uno'\n",
        "print(f\"{palabra} en inglés es {d[palabra]}.\")"
      ]
    },
    {
      "cell_type": "code",
      "execution_count": null,
      "metadata": {
        "id": "a53be649"
      },
      "outputs": [],
      "source": [
        "dic_num = {'uno':1, 'dos':2, 'tres':3, 'cuatro':4}\n",
        "print(\"Hay {} tazas de café.\".format(dic_num['dos']))"
      ]
    },
    {
      "cell_type": "markdown",
      "metadata": {
        "id": "049436f7"
      },
      "source": [
        "## Los valores pueden ser tuplas, listas, ... incluso otros diccionarios"
      ]
    },
    {
      "cell_type": "code",
      "execution_count": null,
      "metadata": {
        "id": "19025a58"
      },
      "outputs": [],
      "source": [
        "elementos = {'Litio':('Li',3), 'Sodio':('Na',11), 'Potasio':('K',19)}  # nº atómico = nº de protones\n",
        "print(\"El número atómico del Litio es\", elementos['Litio'][1])"
      ]
    },
    {
      "cell_type": "markdown",
      "metadata": {
        "id": "0240a8cc"
      },
      "source": [
        "### Ejercicio\n",
        "Completar la siguiente línea de código"
      ]
    },
    {
      "cell_type": "code",
      "execution_count": null,
      "metadata": {
        "id": "f5be712e"
      },
      "outputs": [],
      "source": [
        "print(\"El símbolo del Sodio es ...\")"
      ]
    },
    {
      "cell_type": "markdown",
      "metadata": {
        "id": "9ff1a1f3"
      },
      "source": [
        "#### Solución"
      ]
    },
    {
      "cell_type": "code",
      "execution_count": null,
      "metadata": {
        "id": "a92f72bf"
      },
      "outputs": [],
      "source": [
        "e ='Sodio'\n",
        "print(f\"El símbolo del {e} es {elementos[e][0]}.\")"
      ]
    },
    {
      "cell_type": "markdown",
      "metadata": {
        "id": "e3bb7738"
      },
      "source": [
        "## Convertir un diccionario en listas"
      ]
    },
    {
      "cell_type": "code",
      "execution_count": null,
      "metadata": {
        "id": "d80e8eb9"
      },
      "outputs": [],
      "source": [
        "d = {'x':1, 'y':2, 'z':3}\n",
        "d"
      ]
    },
    {
      "cell_type": "code",
      "execution_count": null,
      "metadata": {
        "id": "b0d23b4e"
      },
      "outputs": [],
      "source": [
        "list(d)                    # ['x', 'y', 'z']"
      ]
    },
    {
      "cell_type": "code",
      "execution_count": null,
      "metadata": {
        "id": "f4017517"
      },
      "outputs": [],
      "source": [
        "d.keys()                   # dict_keys(['x', 'y', 'z'])"
      ]
    },
    {
      "cell_type": "code",
      "execution_count": null,
      "metadata": {
        "id": "ce28bccf"
      },
      "outputs": [],
      "source": [
        "list(d.keys())            # ['x', 'y', 'z']"
      ]
    },
    {
      "cell_type": "code",
      "execution_count": null,
      "metadata": {
        "id": "4b71b3d8"
      },
      "outputs": [],
      "source": [
        "d.values()                 # dict_values([1, 2, 3])"
      ]
    },
    {
      "cell_type": "code",
      "execution_count": null,
      "metadata": {
        "id": "f0e09b4d"
      },
      "outputs": [],
      "source": [
        "list(d.values())            # [1, 2, 3]"
      ]
    },
    {
      "cell_type": "code",
      "execution_count": null,
      "metadata": {
        "id": "1833ee85"
      },
      "outputs": [],
      "source": [
        "d.items()                  # dict_items([('x', 1), ('y', 2), ('z', 3)])"
      ]
    },
    {
      "cell_type": "code",
      "execution_count": null,
      "metadata": {
        "id": "ab6d8819"
      },
      "outputs": [],
      "source": [
        "list(d.items())            # [('x', 1), ('y', 2), ('z', 3)]"
      ]
    },
    {
      "cell_type": "code",
      "execution_count": null,
      "metadata": {
        "id": "0852d16f"
      },
      "outputs": [],
      "source": [
        "list(iter(d))              # ['x', 'y', 'z']"
      ]
    },
    {
      "cell_type": "markdown",
      "metadata": {
        "id": "bf18c881"
      },
      "source": [
        "# Diccionarios [2]"
      ]
    },
    {
      "cell_type": "code",
      "execution_count": null,
      "metadata": {
        "id": "4d0416b0"
      },
      "outputs": [],
      "source": [
        "historia = {\n",
        "  \"Apolo\": 11,\n",
        "  \"astronauta\": \"Neil Armstrong\",\n",
        "  \"año\": 1969\n",
        "}\n",
        "historia"
      ]
    },
    {
      "cell_type": "code",
      "execution_count": null,
      "metadata": {
        "id": "667b1403"
      },
      "outputs": [],
      "source": [
        "historia[\"Apolo\"] = 'XI'          # Cambiamos el valor de la clave Apolo\n",
        "historia"
      ]
    },
    {
      "cell_type": "code",
      "execution_count": null,
      "metadata": {
        "id": "80fc73ca"
      },
      "outputs": [],
      "source": [
        "print(\"año\" in historia)          # True"
      ]
    },
    {
      "cell_type": "code",
      "execution_count": null,
      "metadata": {
        "id": "ea8d6781"
      },
      "outputs": [],
      "source": [
        "print(len(historia))"
      ]
    },
    {
      "cell_type": "code",
      "execution_count": null,
      "metadata": {
        "id": "98fd9a06"
      },
      "outputs": [],
      "source": [
        "historia[\"módulo\"] = \"Eagle\"\n",
        "historia"
      ]
    },
    {
      "cell_type": "code",
      "execution_count": null,
      "metadata": {
        "id": "b6841671"
      },
      "outputs": [],
      "source": [
        "historia.pop(\"astronauta\")\n",
        "historia"
      ]
    },
    {
      "cell_type": "markdown",
      "metadata": {
        "id": "6b476e12"
      },
      "source": [
        "## Añadir y borrar un elemento"
      ]
    },
    {
      "cell_type": "code",
      "execution_count": null,
      "metadata": {
        "id": "167316ac"
      },
      "outputs": [],
      "source": [
        "color = {'verde': ['green','vert'],\n",
        "        'rojo': ['red','rouge'],\n",
        "        'azul': ['blue','bleu']}\n",
        "color                                       # diccionario de colores con traducción en inglés y en francés"
      ]
    },
    {
      "cell_type": "code",
      "execution_count": null,
      "metadata": {
        "id": "084f0077"
      },
      "outputs": [],
      "source": [
        "color['violeta'] = ['purple','violette']\n",
        "color"
      ]
    },
    {
      "cell_type": "code",
      "execution_count": null,
      "metadata": {
        "id": "b53dc70d"
      },
      "outputs": [],
      "source": [
        "del(color['rojo'])\n",
        "color"
      ]
    },
    {
      "cell_type": "markdown",
      "metadata": {
        "id": "2870f9df"
      },
      "source": [
        "## Operar con valores"
      ]
    },
    {
      "cell_type": "markdown",
      "metadata": {
        "id": "1907ee62"
      },
      "source": [
        "### Modificando el valor correspondiente a una clave."
      ]
    },
    {
      "cell_type": "code",
      "execution_count": null,
      "metadata": {
        "id": "2f2a7206"
      },
      "outputs": [],
      "source": [
        "edad = {'Ana':23, 'Luis':27, 'Eva':25, 'Raul':26}\n",
        "edad['Ana'] += 1                                   # es el cumpleaños de Ana\n",
        "edad"
      ]
    },
    {
      "cell_type": "markdown",
      "metadata": {
        "id": "b51c7526"
      },
      "source": [
        "### Comparando valores de varias claves"
      ]
    },
    {
      "cell_type": "code",
      "execution_count": null,
      "metadata": {
        "id": "27756e03"
      },
      "outputs": [],
      "source": [
        "edad['Ana'] < edad['Eva'] < edad['Raul']            # comparando los valores de varias claves"
      ]
    },
    {
      "cell_type": "markdown",
      "metadata": {
        "id": "cb0c38d1"
      },
      "source": [
        "## Listar clave, valor\n",
        "Usando bucles podemos listar el contenido de la clave y/o el valor de un diccionario."
      ]
    },
    {
      "cell_type": "code",
      "execution_count": null,
      "metadata": {
        "id": "71e062fa"
      },
      "outputs": [],
      "source": [
        "for k in edad:               # obtenemos solo un listado de la clave\n",
        "    print(k)"
      ]
    },
    {
      "cell_type": "code",
      "execution_count": null,
      "metadata": {
        "id": "5774173e"
      },
      "outputs": [],
      "source": [
        "for k in edad:               # conseguimos listar el valor\n",
        "    print(edad[k])"
      ]
    },
    {
      "cell_type": "code",
      "execution_count": null,
      "metadata": {
        "id": "58c41835"
      },
      "outputs": [],
      "source": [
        "for k in edad:               # listamos ambos\n",
        "    print(k, edad[k])"
      ]
    },
    {
      "cell_type": "markdown",
      "metadata": {
        "id": "0ea901a4"
      },
      "source": [
        "### Usando items"
      ]
    },
    {
      "cell_type": "code",
      "execution_count": null,
      "metadata": {
        "id": "0688d39a"
      },
      "outputs": [],
      "source": [
        "for k,v in edad.items():\n",
        "    print(k, v)"
      ]
    },
    {
      "cell_type": "markdown",
      "metadata": {
        "id": "d53062c2"
      },
      "source": [
        "# Diccionarios [3]  \n",
        "## Diccionarios anidados"
      ]
    },
    {
      "cell_type": "code",
      "execution_count": null,
      "metadata": {
        "id": "a31711ca"
      },
      "outputs": [],
      "source": [
        "amigos = {\n",
        "  \"colega1\" : {\n",
        "    \"nombre\" : \"Pedro\",\n",
        "    \"año\" : 2001\n",
        "  },\n",
        "  \"colega2\" : {\n",
        "    \"nombre\" : \"Silvia\",\n",
        "    \"año\" : 2004\n",
        "  },\n",
        "  \"colega3\" : {\n",
        "    \"nombre\" : \"Isa\",\n",
        "    \"año\" : 2003\n",
        "  }\n",
        "}\n",
        "amigos"
      ]
    },
    {
      "cell_type": "markdown",
      "metadata": {
        "id": "801be72c"
      },
      "source": [
        "## Diccionario de diccionarios  \n",
        "Podemos crear varios diccionarios y otro que los contenga."
      ]
    },
    {
      "cell_type": "code",
      "execution_count": null,
      "metadata": {
        "id": "f282b8b8"
      },
      "outputs": [],
      "source": [
        "Intel = {\"gama\":\"i3\", \"precio\":120}\n",
        "AMD = {\"gama\":\"Ryzen3\", \"precio\":90}\n",
        "micros = {\"marca1\":Intel, \"marca2\":AMD}\n",
        "micros"
      ]
    },
    {
      "cell_type": "code",
      "execution_count": null,
      "metadata": {
        "id": "89296251"
      },
      "outputs": [],
      "source": [
        "micros.keys()"
      ]
    },
    {
      "cell_type": "code",
      "execution_count": null,
      "metadata": {
        "id": "b3bb1e91"
      },
      "outputs": [],
      "source": [
        "micros.values()"
      ]
    },
    {
      "cell_type": "markdown",
      "metadata": {
        "id": "1c1b56ef"
      },
      "source": [
        "## Crear un diccionario usando listas"
      ]
    },
    {
      "cell_type": "code",
      "execution_count": null,
      "metadata": {
        "id": "023b5e53"
      },
      "outputs": [],
      "source": [
        "k = ['a', 'b', 'c']\n",
        "v = list(range(1,4))          # [1, 2, 3]\n",
        "print(dict(zip(k,v)))         # {'a': 1, 'b': 2, 'c': 3}        diccionario\n",
        "print(set(zip(k,v)))          # {('b',2),('c',3),('a',1)}       conjunto"
      ]
    },
    {
      "cell_type": "markdown",
      "metadata": {
        "id": "7c2b0027"
      },
      "source": [
        "## Ejercicio  \n",
        "Crear un diccionario partiendo de una lista de países y otra lista con sus capitales.  \n",
        "Lugo invertir clave y valor."
      ]
    },
    {
      "cell_type": "markdown",
      "metadata": {
        "id": "84655f3f"
      },
      "source": [
        "### Solución"
      ]
    },
    {
      "cell_type": "code",
      "execution_count": null,
      "metadata": {
        "id": "30df9aa1"
      },
      "outputs": [],
      "source": [
        "geo = {'Francia':'París',\n",
        "       'Italia':'Roma',\n",
        "       'Portugal':'Lisboa',\n",
        "       'España':'Madrid',\n",
        "       'Alemania':'Berlín'}\n",
        "paises = list(geo)\n",
        "paises"
      ]
    },
    {
      "cell_type": "code",
      "execution_count": null,
      "metadata": {
        "id": "7695a244"
      },
      "outputs": [],
      "source": [
        "capitales = list(geo.values())   # con list podemos convertir el objeto en una lista\n",
        "capitales"
      ]
    },
    {
      "cell_type": "code",
      "execution_count": null,
      "metadata": {
        "id": "5173edb7"
      },
      "outputs": [],
      "source": [
        "type(capitales)                  # comprobamos que se trata de una lista"
      ]
    },
    {
      "cell_type": "markdown",
      "metadata": {
        "id": "e8b4b60d"
      },
      "source": [
        "Tenemos dos listas, países y capitales, con las que podemos montar el diccionario de una forma o de otra. Esto es, siendo la clave los países o siendo la clave las capitales."
      ]
    },
    {
      "cell_type": "markdown",
      "metadata": {
        "id": "373d53c3"
      },
      "source": [
        "#### Diccionario siendo la clave los países"
      ]
    },
    {
      "cell_type": "code",
      "execution_count": null,
      "metadata": {
        "id": "ab124ba1"
      },
      "outputs": [],
      "source": [
        "geo = {}              # no es necesario, pero inicializamos el diccionario geo\n",
        "k = paises\n",
        "v = capitales\n",
        "geo = dict(zip(k,v))\n",
        "geo"
      ]
    },
    {
      "cell_type": "markdown",
      "metadata": {
        "id": "2cbdcd31"
      },
      "source": [
        "#### Diccionario siendo la clave las capitales"
      ]
    },
    {
      "cell_type": "code",
      "execution_count": null,
      "metadata": {
        "id": "d868e1a4"
      },
      "outputs": [],
      "source": [
        "geo = {}              # no es necesario, pero inicializamos el diccionario geo\n",
        "k = capitales\n",
        "v = paises\n",
        "geo = dict(zip(k,v))\n",
        "geo"
      ]
    },
    {
      "cell_type": "markdown",
      "metadata": {
        "id": "adbc3cfe"
      },
      "source": [
        "# Conjuntos [1]  \n",
        "Un SET es un conjunto no ordenado de elementos."
      ]
    },
    {
      "cell_type": "code",
      "execution_count": null,
      "metadata": {
        "id": "205a5f99"
      },
      "outputs": [],
      "source": [
        "conjunto = set()                                 # creación de un conjunto vacío\n",
        "conjunto"
      ]
    },
    {
      "cell_type": "code",
      "execution_count": null,
      "metadata": {
        "id": "2605b16d"
      },
      "outputs": [],
      "source": [
        "palos = {\"oros\", \"copas\", \"bastos\", \"espadas\"}   # un SET es un conjunto no ordenado de elementos\n",
        "print(palos)"
      ]
    },
    {
      "cell_type": "code",
      "execution_count": null,
      "metadata": {
        "id": "9c6b4455"
      },
      "outputs": [],
      "source": [
        "type(palos)"
      ]
    },
    {
      "cell_type": "code",
      "execution_count": null,
      "metadata": {
        "id": "598a0409"
      },
      "outputs": [],
      "source": [
        "print(\"copas\" in palos)   # True"
      ]
    },
    {
      "cell_type": "code",
      "execution_count": null,
      "metadata": {
        "id": "77a23e68"
      },
      "outputs": [],
      "source": [
        "palos.add(\"picas\")        # para añadir un elemento\n",
        "palos"
      ]
    },
    {
      "cell_type": "code",
      "execution_count": null,
      "metadata": {
        "id": "a6868afe"
      },
      "outputs": [],
      "source": [
        "palos.update([\"corazones\", \"tréboles\", \"rombos\"])  # para añadir varios elementos\n",
        "palos"
      ]
    },
    {
      "cell_type": "code",
      "execution_count": null,
      "metadata": {
        "id": "0b3a4b83"
      },
      "outputs": [],
      "source": [
        "print(len(palos))         # longitud del conjunto"
      ]
    },
    {
      "cell_type": "code",
      "execution_count": null,
      "metadata": {
        "id": "114bb5fc"
      },
      "outputs": [],
      "source": [
        "palos.remove(\"picas\")     # elimina un elemento, si no existe da error\n",
        "palos"
      ]
    },
    {
      "cell_type": "code",
      "execution_count": null,
      "metadata": {
        "id": "a61c7785"
      },
      "outputs": [],
      "source": [
        "palos.discard(\"rombos\")   # elimina un elemento, si no existe no da error\n",
        "palos"
      ]
    },
    {
      "cell_type": "code",
      "execution_count": null,
      "metadata": {
        "id": "2e2b9473"
      },
      "outputs": [],
      "source": [
        "carta = palos.pop()       # elimina un elemento, no se sabe cuál y va cambiando\n",
        "print(palos)\n",
        "print(carta)              # la variable asignada recoge el elemento eliminado"
      ]
    },
    {
      "cell_type": "code",
      "execution_count": null,
      "metadata": {
        "id": "262e2e02"
      },
      "outputs": [],
      "source": [
        "del(palos)                # elimina el conjunto\n",
        "#print(palos)             # da error ya que hemos eliminado el conjunto"
      ]
    },
    {
      "cell_type": "markdown",
      "metadata": {
        "id": "ed22de8c"
      },
      "source": [
        "# Conjuntos [2]"
      ]
    },
    {
      "cell_type": "code",
      "execution_count": null,
      "metadata": {
        "id": "390efa88"
      },
      "outputs": [],
      "source": [
        "conjunto1 = {\"oros\", \"copas\", \"bastos\", \"espadas\"}\n",
        "conjunto2 = {\"picas\", \"corazones\", \"tréboles\", \"rombos\"}\n",
        "conjunto = conjunto1.union(conjunto2)                    # une conjuntos sin repetidos\n",
        "print(conjunto)"
      ]
    },
    {
      "cell_type": "code",
      "execution_count": null,
      "metadata": {
        "id": "bae0248c"
      },
      "outputs": [],
      "source": [
        "set1 = {'a', 'b', 'c'}\n",
        "set2 = set(('x', 'y', 'z'))    # podemos crear un conjunto con set(). El conjunto va entre paréntesis\n",
        "set1.update(set2)              # une conjuntos sin repetidos\n",
        "print(set1)"
      ]
    },
    {
      "cell_type": "markdown",
      "metadata": {
        "id": "42767ff6"
      },
      "source": [
        "## No admite elementos repetidos"
      ]
    },
    {
      "cell_type": "code",
      "execution_count": null,
      "metadata": {
        "id": "9b5f2c83"
      },
      "outputs": [],
      "source": [
        "vacaciones = {'playa', 'montaña', 'ciudad', 'montaña', 'playa'}\n",
        "vacaciones"
      ]
    },
    {
      "cell_type": "markdown",
      "metadata": {
        "id": "77d011c0"
      },
      "source": [
        "### Ejemplo\n",
        "Crear una lista de 10 elementos con números aleatorios del 1 al 10, con posible repetición.  \n",
        "Convertir la lista en un conjunto, así eliminaremos los repetidos.  \n",
        "Convertir el conjunto en una lista.  \n",
        "De esta forma tendremos una lista sin repetición, con todos sus elementos únicos."
      ]
    },
    {
      "cell_type": "code",
      "execution_count": null,
      "metadata": {
        "id": "2dee6000"
      },
      "outputs": [],
      "source": [
        "from random import randint\n",
        "l = [randint(1,10) for s in range(10)]  # generamos una lista de diez números con posible repetición\n",
        "l"
      ]
    },
    {
      "cell_type": "code",
      "execution_count": null,
      "metadata": {
        "id": "88e23eee"
      },
      "outputs": [],
      "source": [
        "c = set(l)\n",
        "print(c)\n",
        "print(f\"El conjunto c tiene {len(c)} elementos sin repetición.\")"
      ]
    },
    {
      "cell_type": "code",
      "execution_count": null,
      "metadata": {
        "id": "ccc1a757"
      },
      "outputs": [],
      "source": [
        "unicos = list(c)       # convertimos el conjunto c en la lista únicos\n",
        "unicos"
      ]
    },
    {
      "cell_type": "code",
      "execution_count": null,
      "metadata": {
        "id": "6e56633c"
      },
      "outputs": [],
      "source": [
        "list(set(l))           # resuelto en una sola línea"
      ]
    },
    {
      "cell_type": "markdown",
      "metadata": {
        "id": "047a8543"
      },
      "source": [
        "### Elimina caracteres repetidos de un string"
      ]
    },
    {
      "cell_type": "code",
      "execution_count": null,
      "metadata": {
        "id": "894cbbd2"
      },
      "outputs": [],
      "source": [
        "set('Buenas tardes')                  # las letras e, a, s están repetidas"
      ]
    },
    {
      "cell_type": "markdown",
      "metadata": {
        "id": "40428e89"
      },
      "source": [
        "# Operadores de comparación"
      ]
    },
    {
      "cell_type": "markdown",
      "metadata": {
        "id": "5d0cfcb3"
      },
      "source": [
        "- \\>\n",
        "- \\<\n",
        "- \\>=\n",
        "- \\<=\n",
        "- \\== &nbsp;&nbsp;&nbsp; igual\n",
        "- \\!= &nbsp;&nbsp;&nbsp;&nbsp; distinto\n"
      ]
    },
    {
      "cell_type": "code",
      "execution_count": null,
      "metadata": {
        "id": "83d7bca8"
      },
      "outputs": [],
      "source": [
        "2 < 5"
      ]
    },
    {
      "cell_type": "code",
      "execution_count": null,
      "metadata": {
        "id": "a0d95a1d"
      },
      "outputs": [],
      "source": [
        "\"Ana\" > \"Jose\""
      ]
    },
    {
      "cell_type": "code",
      "execution_count": null,
      "metadata": {
        "id": "e35a23eb"
      },
      "outputs": [],
      "source": [
        "x = 3\n",
        "y = 4\n",
        "x**2 + y**2 >= 0"
      ]
    },
    {
      "cell_type": "code",
      "execution_count": null,
      "metadata": {
        "id": "9baaf80c"
      },
      "outputs": [],
      "source": [
        "2 == 8/4"
      ]
    },
    {
      "cell_type": "code",
      "execution_count": null,
      "metadata": {
        "id": "1dde0224"
      },
      "outputs": [],
      "source": [
        "\"Alex\" != \"alex\""
      ]
    },
    {
      "cell_type": "markdown",
      "metadata": {
        "id": "c27dc84e"
      },
      "source": [
        "## Comparando por rangos\n",
        "Las dos siguientes formas de comparar son completamente equivalentes."
      ]
    },
    {
      "cell_type": "code",
      "execution_count": null,
      "metadata": {
        "id": "bf630708"
      },
      "outputs": [],
      "source": [
        "x = 5\n",
        "0 < x and x < 10    # True"
      ]
    },
    {
      "cell_type": "code",
      "execution_count": null,
      "metadata": {
        "id": "547ffbe3"
      },
      "outputs": [],
      "source": [
        "0 < x < 10          # True"
      ]
    },
    {
      "cell_type": "markdown",
      "metadata": {
        "id": "3e98265b"
      },
      "source": [
        "## Condición lógica en un condicional"
      ]
    },
    {
      "cell_type": "code",
      "execution_count": null,
      "metadata": {
        "id": "e3b3f368"
      },
      "outputs": [],
      "source": [
        "a = 7\n",
        "b = 9\n",
        "\n",
        "if a == b:\n",
        "    print(\"Si son iguales\")\n",
        "\n",
        "if a != b:\n",
        "    print(\"No son iguales\")"
      ]
    }
  ]
}