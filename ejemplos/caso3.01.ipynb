{
 "cells": [
  {
   "cell_type": "markdown",
   "id": "bb683727",
   "metadata": {},
   "source": [
    "# Reto 1\n",
    "Obtener un Dataset."
   ]
  },
  {
   "cell_type": "markdown",
   "id": "70660e69",
   "metadata": {},
   "source": [
    "# Solución\n",
    "- [Datos del gobierno de España](https://datos.gob.es/en/catalogo/l01150780-fuentes)\n",
    "- [Datos abierto de la Comunidad de Madrid](https://datos.comunidad.madrid/catalogo/)\n",
    "- [conectar con la API de Twitter](https://tableaujunkie.com/post/119681578798/creating-a-twitter-web-data-connector)\n",
    "- [Dataset variados: Kaggle](https://www.kaggle.com/datasets)\n",
    "- [Dataset de las Naciones Unidas](http://data.un.org/)\n",
    "- [cambio social](https://www.vizforsocialgood.com/)\n",
    "- [Banco Mundial](https://data.worldbank.org/)\n",
    "- [Organización Mundial de la Salud](https://www.who.int/data/gho)\n",
    "- [Gobierno EEUU](https://catalog.data.gov/dataset)\n",
    "- [UK](https://data.gov.uk/)\n",
    "- [Australia](https://data.gov.au/)\n",
    "- [NASA](https://data.nasa.gov/)\n",
    "- [API NASA](https://api.nasa.gov/)\n",
    "- [Repositorio de GitHub: Awesome Public Datasets](https://github.com/awesomedata/awesome-public-datasets)\n",
    "- [Datos de empresas](https://opencorporates.com/)\n",
    "- [Politics, Sports, Science&Health, Economics, Culture](https://data.fivethirtyeight.com/)\n",
    "- [API de Instagram](https://developers.facebook.com/docs/instagram-api)\n",
    "- [Calidad del aire](https://openaq.org/#/locations?_k=zqye4m&page=1)\n",
    "- [**Buscador de Dataset**: Google Dataset Search](https://datasetsearch.research.google.com/)\n",
    "- [Buscador de Datos Públicos de Google](https://www.google.com/publicdata/directory)\n",
    "- [Google Trends: permite bajar un CSV con las búsquedas en Google](https://trends.google.com/trends)\n"
   ]
  },
  {
   "cell_type": "markdown",
   "id": "97f466dc",
   "metadata": {},
   "source": [
    "# Reto 2\n",
    "Mostrar una tabla con los 10 primeros registros del famoso Dataset con la información sobre los pasajeros del último viaje del Titanic, los que sobrevivieron o no, su edad, sexo, la clase en la que viajaban. "
   ]
  },
  {
   "cell_type": "markdown",
   "id": "f94ed6b0",
   "metadata": {},
   "source": [
    "## Solución\n",
    "Seaborn es una biblioteca para hacer gráficos estadísticos en Python. Se basa en matplotlib y se integra estrechamente con las estructuras de datos de pandas.\n",
    "[Seaborn, datasert ya preparados](https://interactivechaos.com/es/manual/tutorial-de-seaborn/datasets)"
   ]
  },
  {
   "cell_type": "code",
   "execution_count": null,
   "id": "ae71bcfe",
   "metadata": {},
   "outputs": [],
   "source": [
    "import seaborn as sns\n",
    "titanic = sns.load_dataset(\"titanic\")\n",
    "titanic.sample(10)"
   ]
  },
  {
   "cell_type": "markdown",
   "id": "52af7d1f",
   "metadata": {},
   "source": [
    "# Reto 3\n",
    "Con el dataset anterior de Titanic crear unos gráficos que mustren la informaicón relevante."
   ]
  },
  {
   "cell_type": "code",
   "execution_count": null,
   "id": "d0c5ddf5",
   "metadata": {},
   "outputs": [],
   "source": [
    "ax = sns.countplot(x=\"class\", hue=\"who\", data=titanic)\n",
    " \n",
    "g = sns.catplot(x=\"class\", hue=\"who\", col=\"survived\",\n",
    "                    data=titanic, kind=\"count\",\n",
    "                    height=4, aspect=.7);"
   ]
  },
  {
   "cell_type": "markdown",
   "id": "2fb61865",
   "metadata": {},
   "source": [
    "# Reto 4\n",
    "Mostrar una tabla con los 10 primeros registros de un dataset que mustra las propinas recibidas en un restaurante con información sobre el día en el que se produjo, si fue en el almuerzo o la cena, el número de comensales, el sexo de la persona que dejó la propina, si era fumador o no. \n",
    "\n",
    "Crear diferentes gráficos para analizar la información contenida en el dataset."
   ]
  },
  {
   "cell_type": "code",
   "execution_count": null,
   "id": "b4a20174",
   "metadata": {},
   "outputs": [],
   "source": [
    "import seaborn as sns\n",
    "tips = sns.load_dataset(\"tips\")\n",
    "tips.sample(10)"
   ]
  },
  {
   "cell_type": "code",
   "execution_count": null,
   "id": "b60ced1b",
   "metadata": {},
   "outputs": [],
   "source": [
    "sns.set_theme()  # tema por defecto, mejora el formateo y fondo de los gráficos\n",
    "sns.relplot(\n",
    "    data=tips,\n",
    "    x=\"total_bill\", y=\"tip\", col=\"time\",\n",
    "    hue=\"smoker\", style=\"smoker\", size=\"size\",\n",
    ")"
   ]
  },
  {
   "cell_type": "code",
   "execution_count": null,
   "id": "d05f6a75",
   "metadata": {},
   "outputs": [],
   "source": [
    "dots = sns.load_dataset(\"dots\")\n",
    "sns.relplot(\n",
    "    data=dots, kind=\"line\",\n",
    "    x=\"time\", y=\"firing_rate\", col=\"align\",\n",
    "    hue=\"choice\", size=\"coherence\", style=\"choice\",\n",
    "    facet_kws=dict(sharex=False),\n",
    ")"
   ]
  },
  {
   "cell_type": "code",
   "execution_count": null,
   "id": "869e6cee",
   "metadata": {},
   "outputs": [],
   "source": [
    "sns.lmplot(data=tips, x=\"total_bill\", y=\"tip\", col=\"time\", hue=\"smoker\")"
   ]
  }
 ],
 "metadata": {
  "kernelspec": {
   "display_name": "Python 3 (ipykernel)",
   "language": "python",
   "name": "python3"
  },
  "language_info": {
   "codemirror_mode": {
    "name": "ipython",
    "version": 3
   },
   "file_extension": ".py",
   "mimetype": "text/x-python",
   "name": "python",
   "nbconvert_exporter": "python",
   "pygments_lexer": "ipython3",
   "version": "3.8.11"
  }
 },
 "nbformat": 4,
 "nbformat_minor": 5
}
