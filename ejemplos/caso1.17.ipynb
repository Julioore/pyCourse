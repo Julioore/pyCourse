{
  "cells": [
    {
      "cell_type": "markdown",
      "metadata": {
        "id": "view-in-github",
        "colab_type": "text"
      },
      "source": [
        "<a href=\"https://colab.research.google.com/github/financieras/pyCourse/blob/main/ejemplos/caso1.17.ipynb\" target=\"_parent\"><img src=\"https://colab.research.google.com/assets/colab-badge.svg\" alt=\"Open In Colab\"/></a>"
      ]
    },
    {
      "cell_type": "markdown",
      "id": "ac8249f4",
      "metadata": {
        "id": "ac8249f4"
      },
      "source": [
        "# Reto 1\n",
        "Dado un número decimal convertirlo en binario."
      ]
    },
    {
      "cell_type": "code",
      "execution_count": null,
      "id": "7e49585b",
      "metadata": {
        "id": "7e49585b"
      },
      "outputs": [],
      "source": [
        "midecimal = \"43\"             # 101011 en binario\n",
        "print(int(midecimal,10))"
      ]
    },
    {
      "cell_type": "markdown",
      "id": "f317184c",
      "metadata": {
        "id": "f317184c"
      },
      "source": [
        "# Reto 2\n",
        "Crear una tabla con tres columnas:\n",
        "- columna 1: numerador, un número aleatorio entero entre 100 y 999\n",
        "- columna 2: denominador, un número aleatorio entero entre 10 y 99\n",
        "- columna 3: el resultado de dividir el numerador entre el denominador, redondeando a 4 decimales"
      ]
    },
    {
      "cell_type": "code",
      "execution_count": null,
      "id": "54bf3832",
      "metadata": {
        "id": "54bf3832"
      },
      "outputs": [],
      "source": [
        "from random import randint\n",
        "print(\" División de números aleatorios enteros\")\n",
        "print(\"_\"*40)\n",
        "print(\"   Numerador   Denominador   Resultado\")\n",
        "print(\"=\"*40)\n",
        "for i in range(10):\n",
        "    n1 = randint(100,999)\n",
        "    n2 = randint(10,99)\n",
        "    re = round(n1/n2,4)\n",
        "    print(\"{:>9}{:13}{:15.4f}\".format(n1,n2,re))"
      ]
    }
  ],
  "metadata": {
    "kernelspec": {
      "display_name": "Python 3",
      "language": "python",
      "name": "python3"
    },
    "language_info": {
      "codemirror_mode": {
        "name": "ipython",
        "version": 3
      },
      "file_extension": ".py",
      "mimetype": "text/x-python",
      "name": "python",
      "nbconvert_exporter": "python",
      "pygments_lexer": "ipython3",
      "version": "3.8.8"
    },
    "colab": {
      "name": "caso1.17.ipynb",
      "provenance": [],
      "include_colab_link": true
    }
  },
  "nbformat": 4,
  "nbformat_minor": 5
}