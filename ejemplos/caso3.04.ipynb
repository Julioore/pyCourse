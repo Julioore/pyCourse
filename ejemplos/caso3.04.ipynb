{
 "cells": [
  {
   "cell_type": "markdown",
   "id": "a0b5024e",
   "metadata": {},
   "source": [
    "# Reto 1\n",
    "Trabajar con la librería actuarial **pyliferisk**."
   ]
  },
  {
   "cell_type": "markdown",
   "id": "9ede8886",
   "metadata": {},
   "source": [
    "## Solución\n",
    "Consulte el archivo:\n",
    "* calisto3_0230.ipynb Librería actuarial pyliferisk"
   ]
  }
 ],
 "metadata": {
  "kernelspec": {
   "display_name": "Python 3",
   "language": "python",
   "name": "python3"
  },
  "language_info": {
   "codemirror_mode": {
    "name": "ipython",
    "version": 3
   },
   "file_extension": ".py",
   "mimetype": "text/x-python",
   "name": "python",
   "nbconvert_exporter": "python",
   "pygments_lexer": "ipython3",
   "version": "3.8.8"
  }
 },
 "nbformat": 4,
 "nbformat_minor": 5
}
