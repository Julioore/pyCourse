{
  "cells": [
    {
      "cell_type": "markdown",
      "metadata": {
        "id": "view-in-github",
        "colab_type": "text"
      },
      "source": [
        "<a href=\"https://colab.research.google.com/github/financieras/pyCourse/blob/main/ejemplos/caso1.03.ipynb\" target=\"_parent\"><img src=\"https://colab.research.google.com/assets/colab-badge.svg\" alt=\"Open In Colab\"/></a>"
      ]
    },
    {
      "cell_type": "markdown",
      "id": "9c29ab14",
      "metadata": {
        "id": "9c29ab14"
      },
      "source": [
        "# Reto 1\n",
        "Decir si un número es par o impar. El cero se considera par."
      ]
    },
    {
      "cell_type": "markdown",
      "id": "30d8ec86",
      "metadata": {
        "id": "30d8ec86"
      },
      "source": [
        "## Método 1"
      ]
    },
    {
      "cell_type": "code",
      "execution_count": null,
      "id": "4a8524fb",
      "metadata": {
        "id": "4a8524fb"
      },
      "outputs": [],
      "source": [
        "n = 4\n",
        "if n%2==0:\n",
        "    print(f\"El número {n} es par.\")\n",
        "else:\n",
        "    print(f\"El número {n} es impar.\")"
      ]
    },
    {
      "cell_type": "markdown",
      "id": "833cc369",
      "metadata": {
        "id": "833cc369"
      },
      "source": [
        "## Método 2"
      ]
    },
    {
      "cell_type": "code",
      "execution_count": null,
      "id": "8560e69b",
      "metadata": {
        "id": "8560e69b"
      },
      "outputs": [],
      "source": [
        "n = 4\n",
        "if not(n%2):                              # No se iguala a nada. False es cero y True es 1\n",
        "    print(f\"El número {n} es par.\")\n",
        "else:\n",
        "    print(f\"El número {n} es impar.\")"
      ]
    },
    {
      "cell_type": "markdown",
      "id": "f1303621",
      "metadata": {
        "id": "f1303621"
      },
      "source": [
        "# Reto 2\n",
        "Listar los números entre 9 y 27 en saltos de 3 en 3."
      ]
    },
    {
      "cell_type": "code",
      "execution_count": null,
      "id": "d9f20534",
      "metadata": {
        "id": "d9f20534"
      },
      "outputs": [],
      "source": [
        "print(range(9,28,3))           # genera un objeto de tipo range, pero no vemos los números"
      ]
    },
    {
      "cell_type": "code",
      "execution_count": null,
      "id": "5aaf8ac6",
      "metadata": {
        "id": "5aaf8ac6"
      },
      "outputs": [],
      "source": [
        "print(list(range(9,28,3)))     # con list convertimos el objeto range en una lista"
      ]
    },
    {
      "cell_type": "markdown",
      "id": "aa9682e6",
      "metadata": {
        "id": "aa9682e6"
      },
      "source": [
        "## Método 1"
      ]
    },
    {
      "cell_type": "code",
      "execution_count": null,
      "id": "03399ac4",
      "metadata": {
        "id": "03399ac4"
      },
      "outputs": [],
      "source": [
        "# podemos imprimir la lista\n",
        "for i in list(range(9,28,3)):\n",
        "    print(i)"
      ]
    },
    {
      "cell_type": "markdown",
      "id": "bf446f47",
      "metadata": {
        "id": "bf446f47"
      },
      "source": [
        "## Método 2"
      ]
    },
    {
      "cell_type": "code",
      "execution_count": null,
      "id": "29372cdc",
      "metadata": {
        "id": "29372cdc"
      },
      "outputs": [],
      "source": [
        "# otra forma de listar los números usando enumerate\n",
        "lista = list(range(9,28,3))\n",
        "for k,v in enumerate(lista):      # k es la clave, v es el valor\n",
        "    print(v)"
      ]
    }
  ],
  "metadata": {
    "kernelspec": {
      "display_name": "Python 3",
      "language": "python",
      "name": "python3"
    },
    "language_info": {
      "codemirror_mode": {
        "name": "ipython",
        "version": 3
      },
      "file_extension": ".py",
      "mimetype": "text/x-python",
      "name": "python",
      "nbconvert_exporter": "python",
      "pygments_lexer": "ipython3",
      "version": "3.8.8"
    },
    "colab": {
      "name": "caso1.03.ipynb",
      "provenance": [],
      "include_colab_link": true
    }
  },
  "nbformat": 4,
  "nbformat_minor": 5
}