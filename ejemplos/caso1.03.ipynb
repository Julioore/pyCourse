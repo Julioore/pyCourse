{
 "cells": [
  {
   "cell_type": "markdown",
   "id": "9c29ab14",
   "metadata": {},
   "source": [
    "# Desafío 1\n",
    "Decir si un número es par o impar. El cero se considera par."
   ]
  },
  {
   "cell_type": "markdown",
   "id": "30d8ec86",
   "metadata": {},
   "source": [
    "## Método 1"
   ]
  },
  {
   "cell_type": "code",
   "execution_count": null,
   "id": "4a8524fb",
   "metadata": {},
   "outputs": [],
   "source": [
    "n = 4\n",
    "if n%2==0:\n",
    "    print(f\"El número {n} es par.\")\n",
    "else:\n",
    "    print(f\"El número {n} es impar.\")"
   ]
  },
  {
   "cell_type": "markdown",
   "id": "833cc369",
   "metadata": {},
   "source": [
    "## Método 2"
   ]
  },
  {
   "cell_type": "code",
   "execution_count": null,
   "id": "8560e69b",
   "metadata": {},
   "outputs": [],
   "source": [
    "n = 4\n",
    "if not(n%2):                              # No se iguala a nada. False es cero y True es 1\n",
    "    print(f\"El número {n} es par.\")\n",
    "else:\n",
    "    print(f\"El número {n} es impar.\")"
   ]
  },
  {
   "cell_type": "markdown",
   "id": "f1303621",
   "metadata": {},
   "source": [
    "# Desafío 2\n",
    "Listar los números entre 9 y 27 en saltos de 3 en 3."
   ]
  },
  {
   "cell_type": "code",
   "execution_count": null,
   "id": "d9f20534",
   "metadata": {},
   "outputs": [],
   "source": [
    "print(range(9,28,3))           # genera un objeto de tipo range, pero no vemos los números"
   ]
  },
  {
   "cell_type": "code",
   "execution_count": null,
   "id": "5aaf8ac6",
   "metadata": {},
   "outputs": [],
   "source": [
    "print(list(range(9,28,3)))     # con list convertimos el objeto range en una lista"
   ]
  },
  {
   "cell_type": "markdown",
   "id": "aa9682e6",
   "metadata": {},
   "source": [
    "## Método 1"
   ]
  },
  {
   "cell_type": "code",
   "execution_count": null,
   "id": "03399ac4",
   "metadata": {},
   "outputs": [],
   "source": [
    "# podemos imprimir la lista\n",
    "for i in list(range(9,28,3)):\n",
    "    print(i)"
   ]
  },
  {
   "cell_type": "markdown",
   "id": "bf446f47",
   "metadata": {},
   "source": [
    "## Método 2"
   ]
  },
  {
   "cell_type": "code",
   "execution_count": null,
   "id": "29372cdc",
   "metadata": {},
   "outputs": [],
   "source": [
    "# otra forma de listar los números usando enumerate\n",
    "lista = list(range(9,28,3))\n",
    "for k,v in enumerate(lista):      # k es la clave, v es el valor\n",
    "    print(v)"
   ]
  }
 ],
 "metadata": {
  "kernelspec": {
   "display_name": "Python 3 (ipykernel)",
   "language": "python",
   "name": "python3"
  },
  "language_info": {
   "codemirror_mode": {
    "name": "ipython",
    "version": 3
   },
   "file_extension": ".py",
   "mimetype": "text/x-python",
   "name": "python",
   "nbconvert_exporter": "python",
   "pygments_lexer": "ipython3",
   "version": "3.8.11"
  }
 },
 "nbformat": 4,
 "nbformat_minor": 5
}
