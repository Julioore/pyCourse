{
 "cells": [
  {
   "cell_type": "markdown",
   "id": "193fc765",
   "metadata": {},
   "source": [
    "# Desafío 1\n",
    "Imprimir la fecha y hora del sistema."
   ]
  },
  {
   "cell_type": "code",
   "execution_count": null,
   "id": "916ba8db",
   "metadata": {},
   "outputs": [],
   "source": [
    "import time\n",
    "print (time.strftime(\"%d/%m/%y\"))\n",
    "print(time.strftime(\"%H:%M:%S\"))        #Formato de 24 horas"
   ]
  },
  {
   "cell_type": "code",
   "execution_count": null,
   "id": "c1ef8f19",
   "metadata": {},
   "outputs": [],
   "source": [
    "year = int(time.strftime(\"%Y\"))\n",
    "year"
   ]
  },
  {
   "cell_type": "markdown",
   "id": "87212f36",
   "metadata": {},
   "source": [
    "# Desafío 2\n",
    "Calcular cuantos días se llevan dos hermanos que nacieron en las siguientes fechas:\n",
    "- 14-01-2004\n",
    "- 7-12-1999"
   ]
  },
  {
   "cell_type": "code",
   "execution_count": null,
   "id": "94acfeb1",
   "metadata": {},
   "outputs": [],
   "source": [
    "d1 = \"7-12-1999\"\n",
    "d2 = \"14-01-2004\"\n",
    "\n",
    "from datetime import datetime\n",
    "\n",
    "def dias_entre(d1, d2):\n",
    "    d1 = datetime.strptime(d1, \"%d-%m-%Y\")\n",
    "    d2 = datetime.strptime(d2, \"%d-%m-%Y\")\n",
    "    return abs((d2 - d1).days)\n",
    "\n",
    "dias_entre(d1,d2)"
   ]
  },
  {
   "cell_type": "markdown",
   "id": "70591c59",
   "metadata": {},
   "source": [
    "# Desafío 3\n",
    "Calcular cuantos años tenía un hermano cuando nació el otro, siendo sus fechas de nacimiento las siguientes:\n",
    "- 14-01-2004\n",
    "- 7-12-1999"
   ]
  },
  {
   "cell_type": "code",
   "execution_count": null,
   "id": "e58458f6",
   "metadata": {},
   "outputs": [],
   "source": [
    "from datetime import date\n",
    "\n",
    "d1 = date(1999,12,7)        # \"7-12-1999\"\n",
    "d2 = date(2004,1,14)        #  \"14-01-2004\"\n",
    "\n",
    "def calcula_edad(d1):\n",
    "    edad = d2.year - d1.year - ((d2.month, d2.day) < (d1.month, d1.day))\n",
    "    return edad\n",
    "     \n",
    "print(\"El hermano mayor tenía\", calcula_edad(d1), \"años.\")"
   ]
  },
  {
   "cell_type": "markdown",
   "id": "3e7b9114",
   "metadata": {},
   "source": [
    "# Desafío 4\n",
    "¿Qué día es hoy?\n",
    "Especifique:\n",
    "- año\n",
    "- mes\n",
    "- día"
   ]
  },
  {
   "cell_type": "code",
   "execution_count": null,
   "id": "f105ffa8",
   "metadata": {},
   "outputs": [],
   "source": [
    "from datetime import date\n",
    "hoy = date.today()\n",
    "print(f\"Hoy es {hoy}.\")\n",
    "print(f\"Hoy es el día {hoy.day}, del mes {hoy.month}, del año {hoy.year}.\")"
   ]
  }
 ],
 "metadata": {
  "kernelspec": {
   "display_name": "Python 3",
   "language": "python",
   "name": "python3"
  },
  "language_info": {
   "codemirror_mode": {
    "name": "ipython",
    "version": 3
   },
   "file_extension": ".py",
   "mimetype": "text/x-python",
   "name": "python",
   "nbconvert_exporter": "python",
   "pygments_lexer": "ipython3",
   "version": "3.8.8"
  }
 },
 "nbformat": 4,
 "nbformat_minor": 5
}
