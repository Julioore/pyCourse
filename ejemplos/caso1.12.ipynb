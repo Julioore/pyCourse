{
  "cells": [
    {
      "cell_type": "markdown",
      "metadata": {
        "id": "view-in-github",
        "colab_type": "text"
      },
      "source": [
        "<a href=\"https://colab.research.google.com/github/financieras/pyCourse/blob/main/ejemplos/caso1.12.ipynb\" target=\"_parent\"><img src=\"https://colab.research.google.com/assets/colab-badge.svg\" alt=\"Open In Colab\"/></a>"
      ]
    },
    {
      "cell_type": "markdown",
      "id": "a37494e8",
      "metadata": {
        "id": "a37494e8"
      },
      "source": [
        "# Reto 1\n",
        "Genere un número entero aleatorio entre 100 y 200."
      ]
    },
    {
      "cell_type": "code",
      "execution_count": null,
      "id": "9cb96319",
      "metadata": {
        "id": "9cb96319"
      },
      "outputs": [],
      "source": [
        "import random\n",
        "random.seed()                       # para inicializar la semilla (permite mejorar la aleatoriedad)\n",
        "print(random.randint(100,200))"
      ]
    },
    {
      "cell_type": "markdown",
      "id": "4d5e02df",
      "metadata": {
        "id": "4d5e02df"
      },
      "source": [
        "# Reto 2\n",
        "Generar números primos."
      ]
    },
    {
      "cell_type": "markdown",
      "id": "4f867164",
      "metadata": {
        "id": "4f867164"
      },
      "source": [
        "## Solución\n",
        "Puede consultar en nuestro blog los siguientes posts.\n",
        "\n",
        "- [Números primos en Python](https://altocodigo.blogspot.com/2021/01/numeros-primos-en-python.html)\n",
        "- [Generación de números primos en Python](https://altocodigo.blogspot.com/2017/09/numeros-primos-en-python.html)\n",
        "- [Números primos en Flask](https://altocodigo.blogspot.com/2021/06/numeros-primos-en-flask.html)\n",
        "\n",
        "Del segundo link anterior tomamos uno de los métodos y lo exponemos seguidamente."
      ]
    },
    {
      "cell_type": "code",
      "execution_count": null,
      "id": "5cd9eb61",
      "metadata": {
        "id": "5cd9eb61"
      },
      "outputs": [],
      "source": [
        "lista = [2,]\n",
        "for i in range(3, 10000, 2):\n",
        " for j in range(3, int(i**.5)+1, 2):\n",
        "  if i%j == 0:\n",
        "   break\n",
        " else:         # else del for\n",
        "  lista.append(i)\n",
        "print(list(lista))"
      ]
    },
    {
      "cell_type": "markdown",
      "id": "e07bbb6f",
      "metadata": {
        "id": "e07bbb6f"
      },
      "source": [
        "# Reto 3\n",
        "Diga si el número 31 se encuentra en la siguiente lista.  \n",
        "[2, 3, 5, 7, 11, 13, 17, 19, 23, 29, 31, 37, 41, 43, 47, 53, 59, 61, 67, 71, 73, 79, 83, 89, 97]"
      ]
    },
    {
      "cell_type": "code",
      "execution_count": null,
      "id": "cdcbd62d",
      "metadata": {
        "id": "cdcbd62d"
      },
      "outputs": [],
      "source": [
        "lista = [2, 3, 5, 7, 11, 13, 17, 19, 23, 29, 31, 37, 41, 43, 47, 53, 59, 61, 67, 71, 73, 79, 83, 89, 97]\n",
        "\n",
        "31 in lista"
      ]
    }
  ],
  "metadata": {
    "kernelspec": {
      "display_name": "Python 3 (ipykernel)",
      "language": "python",
      "name": "python3"
    },
    "language_info": {
      "codemirror_mode": {
        "name": "ipython",
        "version": 3
      },
      "file_extension": ".py",
      "mimetype": "text/x-python",
      "name": "python",
      "nbconvert_exporter": "python",
      "pygments_lexer": "ipython3",
      "version": "3.8.11"
    },
    "colab": {
      "name": "caso1.12.ipynb",
      "provenance": [],
      "include_colab_link": true
    }
  },
  "nbformat": 4,
  "nbformat_minor": 5
}