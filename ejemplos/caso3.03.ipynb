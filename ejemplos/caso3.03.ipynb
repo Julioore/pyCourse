{
 "cells": [
  {
   "cell_type": "markdown",
   "id": "56b2ecd0",
   "metadata": {},
   "source": [
    "# Reto 1\n",
    "Trabajando con la librería openpyxl lea los datos de un archivo de Excel con extensión xlsx."
   ]
  },
  {
   "cell_type": "markdown",
   "id": "c7c18189",
   "metadata": {},
   "source": [
    "## Solución\n",
    "Consulte el archivo calisto3_0210.ipynb.\n",
    "\n",
    "[A Python library to read/write Excel 2010 xlsx/xlsm files](https://openpyxl.readthedocs.io/en/stable)\n",
    "\n",
    "Trabajaremos con el archivo pyCourse/jupyter/excel/hosting.xlsx\n",
    "\n",
    "![hosting.xlsx](../jupyter/img/hosting.png)\n"
   ]
  },
  {
   "cell_type": "code",
   "execution_count": null,
   "id": "6c979a17",
   "metadata": {},
   "outputs": [],
   "source": [
    "import os\n",
    "os.getcwd()      # para saber en que directorio estoy en este momento ( directorio de trabajo actual)"
   ]
  },
  {
   "cell_type": "code",
   "execution_count": null,
   "id": "51bb6f6d",
   "metadata": {},
   "outputs": [],
   "source": [
    "os.chdir(\"/home/apa/Documents/github/pyCourse/jupyter/excel\") # para cambiar el directorio de trabajo\n",
    "# estoy usando esta ruta porque estoy en un PC con Linux, en un Windows sería por ejemplo \"c:/user/apa/Documents/pyCourse/jupyter/excel\""
   ]
  },
  {
   "cell_type": "code",
   "execution_count": null,
   "id": "d5676be1",
   "metadata": {},
   "outputs": [],
   "source": [
    "os.getcwd()        # comprobamos que hemos cambiado el directorio de trabajo al deseado"
   ]
  },
  {
   "cell_type": "code",
   "execution_count": null,
   "id": "553edd19",
   "metadata": {},
   "outputs": [],
   "source": [
    "import openpyxl    # importamos la librería openpyxl\n",
    "wb = openpyxl.load_workbook('hosting.xlsx')\n",
    "type(wb)           # miramos a ver quien es la variable wb"
   ]
  },
  {
   "cell_type": "markdown",
   "id": "3b756111",
   "metadata": {},
   "source": [
    "La función ```sheetnames``` devuelve los nombres de las hojas en un libro de trabajo y puede contar los nombres para informar sobre el número total de hojas en el libro de trabajo actual."
   ]
  },
  {
   "cell_type": "code",
   "execution_count": null,
   "id": "c8dedcdb",
   "metadata": {},
   "outputs": [],
   "source": [
    "wb.sheetnames      # proporciona la lista de hojas del libro de trabajo"
   ]
  },
  {
   "cell_type": "code",
   "execution_count": null,
   "id": "eccfc09f",
   "metadata": {},
   "outputs": [],
   "source": [
    "wb.sheetnames[0]   # si son varias hojas podemos elegir la primera"
   ]
  },
  {
   "cell_type": "code",
   "execution_count": null,
   "id": "a4114112",
   "metadata": {},
   "outputs": [],
   "source": [
    "# s1 = wb.get_sheet_by_name('Sheet1')\n",
    "#s1 = wb[sheetname[0]]\n",
    "ws1name = wb.sheetnames[0]  # creamos la variable ws1name para recoger el nombre de la hoja1\n",
    "ws2name = wb.sheetnames[1]  # creamos la variable ws2name para recoger el nombre de la hoja2\n",
    "ws3name = wb.sheetnames[2]  # creamos la variable ws3name para recoger el nombre de la hoja3\n",
    "\n",
    "print(ws1name)\n",
    "print(ws2name)\n",
    "print(ws3name)\n",
    "\n",
    "ws1 = wb['Sheet1']      # creamos la variable ws1 para recoger el objeto de la hoja1\n",
    "ws2 = wb['Sheet2']      # creamos la variable ws2 para recoger el objeto de la hoja2\n",
    "ws3 = wb[ws3name]       # creamos la variable ws3 para recoger el objeto de la hoja3. FORMA ALTERNATIVA  \n",
    "\n",
    "print(ws1)\n",
    "print(ws2)\n",
    "print(ws3)"
   ]
  },
  {
   "cell_type": "code",
   "execution_count": null,
   "id": "92ee7518",
   "metadata": {},
   "outputs": [],
   "source": [
    "type(ws1)           # proporciona el tipo de objeto que corresponde a la variable ws1 que es una Worksheet"
   ]
  },
  {
   "cell_type": "code",
   "execution_count": null,
   "id": "57c2d42e",
   "metadata": {},
   "outputs": [],
   "source": [
    "ws1.title           # proporciona el nombre del Worksheet correspondiente a la variable ws1"
   ]
  },
  {
   "cell_type": "code",
   "execution_count": null,
   "id": "d75c1018",
   "metadata": {},
   "outputs": [],
   "source": [
    "wb.active           # nos indica quién es la hoja activa"
   ]
  },
  {
   "cell_type": "markdown",
   "id": "8de95f50",
   "metadata": {},
   "source": [
    "## Accediendo a los datos de las celdas"
   ]
  },
  {
   "cell_type": "code",
   "execution_count": null,
   "id": "7488e29f",
   "metadata": {},
   "outputs": [],
   "source": [
    "ws1['A2'].value"
   ]
  },
  {
   "cell_type": "markdown",
   "id": "6eba7992",
   "metadata": {},
   "source": [
    "### Otra forma de acceder al valor de una celda"
   ]
  },
  {
   "cell_type": "code",
   "execution_count": null,
   "id": "685e77aa",
   "metadata": {},
   "outputs": [],
   "source": [
    "zona3 = ws1['B4']\n",
    "zona3.value"
   ]
  },
  {
   "cell_type": "code",
   "execution_count": null,
   "id": "18d61834",
   "metadata": {},
   "outputs": [],
   "source": [
    "zona3.row"
   ]
  },
  {
   "cell_type": "code",
   "execution_count": null,
   "id": "4be6dbc2",
   "metadata": {},
   "outputs": [],
   "source": [
    "zona3.column"
   ]
  },
  {
   "cell_type": "markdown",
   "id": "0bc894fe",
   "metadata": {},
   "source": [
    "### Obteniendo el dato de una celda sabiendo su fila y columna"
   ]
  },
  {
   "cell_type": "code",
   "execution_count": null,
   "id": "3c1f7d35",
   "metadata": {},
   "outputs": [],
   "source": [
    "producto6 = ws1.cell(row=7, column=3)\n",
    "producto6.value"
   ]
  },
  {
   "cell_type": "markdown",
   "id": "9d76c959",
   "metadata": {},
   "source": [
    "## Mostrando varios datos con un loop"
   ]
  },
  {
   "cell_type": "code",
   "execution_count": null,
   "id": "714ec56d",
   "metadata": {},
   "outputs": [],
   "source": [
    "for i in range (1,9):\n",
    "    print(i, ws1.cell(row=i,column=4).value)"
   ]
  },
  {
   "cell_type": "code",
   "execution_count": null,
   "id": "9acc78e8",
   "metadata": {},
   "outputs": [],
   "source": [
    "for i in range (1,9):\n",
    "    print(ws1.cell(row=i,column=1).value, \n",
    "          ws1.cell(row=i,column=2).value, \n",
    "          ws1.cell(row=i,column=3).value,\n",
    "          ws1.cell(row=i,column=4).value)"
   ]
  }
 ],
 "metadata": {
  "kernelspec": {
   "display_name": "Python 3 (ipykernel)",
   "language": "python",
   "name": "python3"
  },
  "language_info": {
   "codemirror_mode": {
    "name": "ipython",
    "version": 3
   },
   "file_extension": ".py",
   "mimetype": "text/x-python",
   "name": "python",
   "nbconvert_exporter": "python",
   "pygments_lexer": "ipython3",
   "version": "3.8.11"
  }
 },
 "nbformat": 4,
 "nbformat_minor": 5
}
