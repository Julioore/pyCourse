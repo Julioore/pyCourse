{
  "cells": [
    {
      "cell_type": "markdown",
      "metadata": {
        "id": "view-in-github",
        "colab_type": "text"
      },
      "source": [
        "<a href=\"https://colab.research.google.com/github/financieras/pyCourse/blob/main/ejemplos/caso3.03.ipynb\" target=\"_parent\"><img src=\"https://colab.research.google.com/assets/colab-badge.svg\" alt=\"Open In Colab\"/></a>"
      ]
    },
    {
      "cell_type": "markdown",
      "id": "56b2ecd0",
      "metadata": {
        "id": "56b2ecd0"
      },
      "source": [
        "# Reto 1\n",
        "Utilice la librería *openpyxl* para **leer** los datos en un archivo de Excel con extensión xlsx."
      ]
    },
    {
      "cell_type": "markdown",
      "id": "c7c18189",
      "metadata": {
        "id": "c7c18189"
      },
      "source": [
        "## Solución\n",
        "* Consulte el archivo calisto3_0210.ipynb encontrará información y ejemplos de la librería *openpyxl*.\n",
        "* [A Python library to read/write Excel 2010 xlsx/xlsm files](https://openpyxl.readthedocs.io/en/stable)\n",
        "\n",
        "Trabajaremos con el archivo pyCourse/jupyter/excel/**hosting.xlsx**\n",
        "\n",
        "![hosting.xlsx](https://github.com/financieras/pyCourse/blob/main/jupyter/img/hosting.png?raw=1)\n"
      ]
    },
    {
      "cell_type": "code",
      "execution_count": null,
      "id": "6c979a17",
      "metadata": {
        "id": "6c979a17",
        "outputId": "5cf9a81f-1175-4b3c-e32d-6c96003cbf6f"
      },
      "outputs": [
        {
          "data": {
            "text/plain": [
              "'C:\\\\Users\\\\apa\\\\Documents\\\\github\\\\pyCourse\\\\ejemplos'"
            ]
          },
          "execution_count": 1,
          "metadata": {},
          "output_type": "execute_result"
        }
      ],
      "source": [
        "import os\n",
        "os.getcwd()      # para saber en que directorio estoy en este momento ( directorio de trabajo actual)"
      ]
    },
    {
      "cell_type": "code",
      "execution_count": null,
      "id": "51bb6f6d",
      "metadata": {
        "id": "51bb6f6d"
      },
      "outputs": [],
      "source": [
        "os.chdir(\"C:\\\\Users\\\\apa\\\\Documents\\\\github\\\\pyCourse\\\\jupyter\\\\excel\") # para cambiar el directorio de trabajo\n",
        "# estoy usando esta ruta porque estoy en un PC con Linux, en un Windows sería por ejemplo \"c:/user/apa/Documents/pyCourse/jupyter/excel\""
      ]
    },
    {
      "cell_type": "code",
      "execution_count": null,
      "id": "d5676be1",
      "metadata": {
        "id": "d5676be1",
        "outputId": "449ce70e-92fe-41ec-c80b-ea31486d1da5"
      },
      "outputs": [
        {
          "data": {
            "text/plain": [
              "'C:\\\\Users\\\\apa\\\\Documents\\\\github\\\\pyCourse\\\\jupyter\\\\excel'"
            ]
          },
          "execution_count": 4,
          "metadata": {},
          "output_type": "execute_result"
        }
      ],
      "source": [
        "os.getcwd()        # comprobamos que hemos cambiado el directorio de trabajo al deseado"
      ]
    },
    {
      "cell_type": "code",
      "execution_count": null,
      "id": "553edd19",
      "metadata": {
        "id": "553edd19",
        "outputId": "b387fd6a-c994-43a4-cc5e-dfaedf6a294e"
      },
      "outputs": [
        {
          "data": {
            "text/plain": [
              "openpyxl.workbook.workbook.Workbook"
            ]
          },
          "execution_count": 5,
          "metadata": {},
          "output_type": "execute_result"
        }
      ],
      "source": [
        "import openpyxl    # importamos la librería openpyxl\n",
        "wb = openpyxl.load_workbook('hosting.xlsx')\n",
        "type(wb)           # miramos a ver quién es la variable wb"
      ]
    },
    {
      "cell_type": "markdown",
      "id": "3b756111",
      "metadata": {
        "id": "3b756111"
      },
      "source": [
        "La función ```sheetnames``` devuelve los nombres de las hojas en un libro de trabajo y puede contar los nombres para informar sobre el número total de hojas en el libro de trabajo actual."
      ]
    },
    {
      "cell_type": "code",
      "execution_count": null,
      "id": "c8dedcdb",
      "metadata": {
        "id": "c8dedcdb",
        "outputId": "cd042989-03a9-442d-84dd-00bb90e6d202"
      },
      "outputs": [
        {
          "data": {
            "text/plain": [
              "['Sheet1', 'Sheet2', 'Sheet3']"
            ]
          },
          "execution_count": 7,
          "metadata": {},
          "output_type": "execute_result"
        }
      ],
      "source": [
        "wb.sheetnames      # proporciona la lista de hojas del libro de trabajo"
      ]
    },
    {
      "cell_type": "code",
      "execution_count": null,
      "id": "eccfc09f",
      "metadata": {
        "id": "eccfc09f",
        "outputId": "4d6b1d0f-71fa-4ea8-aae9-3d99f06beff2"
      },
      "outputs": [
        {
          "data": {
            "text/plain": [
              "'Sheet1'"
            ]
          },
          "execution_count": 8,
          "metadata": {},
          "output_type": "execute_result"
        }
      ],
      "source": [
        "wb.sheetnames[0]   # si son varias hojas podemos elegir la primera"
      ]
    },
    {
      "cell_type": "code",
      "execution_count": null,
      "id": "b1adc2bc",
      "metadata": {
        "id": "b1adc2bc",
        "outputId": "6017c7dd-6cb4-498b-975d-fb7b70bbc5f2"
      },
      "outputs": [
        {
          "data": {
            "text/plain": [
              "<Worksheet \"Sheet1\">"
            ]
          },
          "execution_count": 9,
          "metadata": {},
          "output_type": "execute_result"
        }
      ],
      "source": [
        "s1 = wb[wb.sheetnames[0]]\n",
        "s1"
      ]
    },
    {
      "cell_type": "code",
      "execution_count": null,
      "id": "a4114112",
      "metadata": {
        "id": "a4114112",
        "outputId": "8ca8a382-592f-4157-ad95-396565651cb0"
      },
      "outputs": [
        {
          "name": "stdout",
          "output_type": "stream",
          "text": [
            "Sheet1\n",
            "Sheet2\n",
            "Sheet3\n",
            "<Worksheet \"Sheet1\">\n",
            "<Worksheet \"Sheet2\">\n",
            "<Worksheet \"Sheet3\">\n"
          ]
        }
      ],
      "source": [
        "ws1name = wb.sheetnames[0]  # creamos la variable ws1name para recoger el nombre de la hoja1\n",
        "ws2name = wb.sheetnames[1]  # creamos la variable ws2name para recoger el nombre de la hoja2\n",
        "ws3name = wb.sheetnames[2]  # creamos la variable ws3name para recoger el nombre de la hoja3\n",
        "\n",
        "print(ws1name)\n",
        "print(ws2name)\n",
        "print(ws3name)\n",
        "\n",
        "ws1 = wb['Sheet1']      # creamos la variable ws1 para recoger el objeto de la hoja1\n",
        "ws2 = wb['Sheet2']      # creamos la variable ws2 para recoger el objeto de la hoja2\n",
        "ws3 = wb[ws3name]       # creamos la variable ws3 para recoger el objeto de la hoja3. FORMA ALTERNATIVA  \n",
        "\n",
        "print(ws1)\n",
        "print(ws2)\n",
        "print(ws3)"
      ]
    },
    {
      "cell_type": "code",
      "execution_count": null,
      "id": "92ee7518",
      "metadata": {
        "id": "92ee7518",
        "outputId": "d93e2338-75fc-4ab1-aad1-551a2cf41d23"
      },
      "outputs": [
        {
          "data": {
            "text/plain": [
              "openpyxl.worksheet.worksheet.Worksheet"
            ]
          },
          "execution_count": 11,
          "metadata": {},
          "output_type": "execute_result"
        }
      ],
      "source": [
        "type(ws1)           # proporciona el tipo de objeto que corresponde a la variable ws1 que es una Worksheet"
      ]
    },
    {
      "cell_type": "code",
      "execution_count": null,
      "id": "57c2d42e",
      "metadata": {
        "id": "57c2d42e",
        "outputId": "2da11dee-1ec6-4c94-bc6b-490abc4ed171"
      },
      "outputs": [
        {
          "data": {
            "text/plain": [
              "'Sheet1'"
            ]
          },
          "execution_count": 12,
          "metadata": {},
          "output_type": "execute_result"
        }
      ],
      "source": [
        "ws1.title           # proporciona el nombre del Worksheet correspondiente a la variable ws1"
      ]
    },
    {
      "cell_type": "code",
      "execution_count": null,
      "id": "d75c1018",
      "metadata": {
        "id": "d75c1018",
        "outputId": "7b0bd960-5fa3-4009-ce77-220dfab66fee"
      },
      "outputs": [
        {
          "data": {
            "text/plain": [
              "<Worksheet \"Sheet1\">"
            ]
          },
          "execution_count": 13,
          "metadata": {},
          "output_type": "execute_result"
        }
      ],
      "source": [
        "wb.active           # nos indica quién es la hoja activa"
      ]
    },
    {
      "cell_type": "markdown",
      "id": "8de95f50",
      "metadata": {
        "id": "8de95f50"
      },
      "source": [
        "## Accediendo a los datos de las celdas"
      ]
    },
    {
      "cell_type": "code",
      "execution_count": null,
      "id": "7488e29f",
      "metadata": {
        "id": "7488e29f",
        "outputId": "a08c7cf4-8d5d-436e-df00-a8c662377be1"
      },
      "outputs": [
        {
          "data": {
            "text/plain": [
              "datetime.datetime(2022, 1, 5, 0, 0)"
            ]
          },
          "execution_count": 14,
          "metadata": {},
          "output_type": "execute_result"
        }
      ],
      "source": [
        "ws1['A2'].value"
      ]
    },
    {
      "cell_type": "markdown",
      "id": "6eba7992",
      "metadata": {
        "id": "6eba7992"
      },
      "source": [
        "### Otra forma de acceder al valor de una celda"
      ]
    },
    {
      "cell_type": "code",
      "execution_count": null,
      "id": "685e77aa",
      "metadata": {
        "id": "685e77aa",
        "outputId": "ba33c833-12e0-4527-c1af-bb5953ee83a6"
      },
      "outputs": [
        {
          "data": {
            "text/plain": [
              "'Norte'"
            ]
          },
          "execution_count": 15,
          "metadata": {},
          "output_type": "execute_result"
        }
      ],
      "source": [
        "zona3 = ws1['B4']\n",
        "zona3.value"
      ]
    },
    {
      "cell_type": "code",
      "execution_count": null,
      "id": "18d61834",
      "metadata": {
        "id": "18d61834",
        "outputId": "89174029-9d25-4c80-8a08-b3b260730b94"
      },
      "outputs": [
        {
          "data": {
            "text/plain": [
              "4"
            ]
          },
          "execution_count": 16,
          "metadata": {},
          "output_type": "execute_result"
        }
      ],
      "source": [
        "zona3.row"
      ]
    },
    {
      "cell_type": "code",
      "execution_count": null,
      "id": "4be6dbc2",
      "metadata": {
        "id": "4be6dbc2",
        "outputId": "197738c7-ceee-4148-97ea-01d80e7ed310"
      },
      "outputs": [
        {
          "data": {
            "text/plain": [
              "2"
            ]
          },
          "execution_count": 17,
          "metadata": {},
          "output_type": "execute_result"
        }
      ],
      "source": [
        "zona3.column"
      ]
    },
    {
      "cell_type": "markdown",
      "id": "0bc894fe",
      "metadata": {
        "id": "0bc894fe"
      },
      "source": [
        "### Obteniendo el dato de una celda sabiendo su fila y columna"
      ]
    },
    {
      "cell_type": "code",
      "execution_count": null,
      "id": "3c1f7d35",
      "metadata": {
        "id": "3c1f7d35",
        "outputId": "916ddba0-a584-465b-ebf7-62db81891572"
      },
      "outputs": [
        {
          "data": {
            "text/plain": [
              "'SEO'"
            ]
          },
          "execution_count": 18,
          "metadata": {},
          "output_type": "execute_result"
        }
      ],
      "source": [
        "producto6 = ws1.cell(row=7, column=3)\n",
        "producto6.value"
      ]
    },
    {
      "cell_type": "markdown",
      "id": "9d76c959",
      "metadata": {
        "id": "9d76c959"
      },
      "source": [
        "## Mostrando varios datos con un loop"
      ]
    },
    {
      "cell_type": "code",
      "execution_count": null,
      "id": "714ec56d",
      "metadata": {
        "id": "714ec56d",
        "outputId": "cb14ce81-1abe-4dc4-fc5d-4d75782fc3c1"
      },
      "outputs": [
        {
          "name": "stdout",
          "output_type": "stream",
          "text": [
            "1 Facturación\n",
            "2 54249\n",
            "3 54443\n",
            "4 51795\n",
            "5 56156\n",
            "6 53777\n",
            "7 54193\n",
            "8 52279\n"
          ]
        }
      ],
      "source": [
        "for i in range (1,9):\n",
        "    print(i, ws1.cell(row=i,column=4).value)"
      ]
    },
    {
      "cell_type": "code",
      "execution_count": null,
      "id": "9acc78e8",
      "metadata": {
        "id": "9acc78e8",
        "outputId": "3cfde52f-f580-4f08-a373-1631ea80fafc"
      },
      "outputs": [
        {
          "name": "stdout",
          "output_type": "stream",
          "text": [
            "Fecha Región Producto Facturación\n",
            "2022-01-05 00:00:00 Este Hosting 54249\n",
            "2022-02-10 00:00:00 Este Hosting 54443\n",
            "2022-02-18 00:00:00 Norte Web 51795\n",
            "2022-02-19 00:00:00 Oeste Hosting 56156\n",
            "2022-02-20 00:00:00 Norte Hosting 53777\n",
            "2022-02-24 00:00:00 Sur SEO 54193\n",
            "2022-02-27 00:00:00 Oeste Web 52279\n"
          ]
        }
      ],
      "source": [
        "for i in range (1,9):\n",
        "    print(ws1.cell(row=i,column=1).value, \n",
        "          ws1.cell(row=i,column=2).value, \n",
        "          ws1.cell(row=i,column=3).value,\n",
        "          ws1.cell(row=i,column=4).value)"
      ]
    },
    {
      "cell_type": "markdown",
      "id": "14f9203d",
      "metadata": {
        "id": "14f9203d"
      },
      "source": [
        "## Importando un archivo Excel como DataFrame\n",
        "La tabla anterior no tiene una buena presentación. Sería estupendo poder importar la información de Excel directamente a un DataFrame para su posterior tratamiento y una mejor visualización de los datos."
      ]
    },
    {
      "cell_type": "code",
      "execution_count": null,
      "id": "bb0d8b83",
      "metadata": {
        "id": "bb0d8b83",
        "outputId": "e14519cb-e0d5-410e-ec1f-a8504af3a8ac"
      },
      "outputs": [
        {
          "data": {
            "text/html": [
              "<div>\n",
              "<style scoped>\n",
              "    .dataframe tbody tr th:only-of-type {\n",
              "        vertical-align: middle;\n",
              "    }\n",
              "\n",
              "    .dataframe tbody tr th {\n",
              "        vertical-align: top;\n",
              "    }\n",
              "\n",
              "    .dataframe thead th {\n",
              "        text-align: right;\n",
              "    }\n",
              "</style>\n",
              "<table border=\"1\" class=\"dataframe\">\n",
              "  <thead>\n",
              "    <tr style=\"text-align: right;\">\n",
              "      <th></th>\n",
              "      <th>Fecha</th>\n",
              "      <th>Región</th>\n",
              "      <th>Producto</th>\n",
              "      <th>Facturación</th>\n",
              "    </tr>\n",
              "  </thead>\n",
              "  <tbody>\n",
              "    <tr>\n",
              "      <th>0</th>\n",
              "      <td>2022-01-05</td>\n",
              "      <td>Este</td>\n",
              "      <td>Hosting</td>\n",
              "      <td>54249</td>\n",
              "    </tr>\n",
              "    <tr>\n",
              "      <th>1</th>\n",
              "      <td>2022-02-10</td>\n",
              "      <td>Este</td>\n",
              "      <td>Hosting</td>\n",
              "      <td>54443</td>\n",
              "    </tr>\n",
              "    <tr>\n",
              "      <th>2</th>\n",
              "      <td>2022-02-18</td>\n",
              "      <td>Norte</td>\n",
              "      <td>Web</td>\n",
              "      <td>51795</td>\n",
              "    </tr>\n",
              "    <tr>\n",
              "      <th>3</th>\n",
              "      <td>2022-02-19</td>\n",
              "      <td>Oeste</td>\n",
              "      <td>Hosting</td>\n",
              "      <td>56156</td>\n",
              "    </tr>\n",
              "    <tr>\n",
              "      <th>4</th>\n",
              "      <td>2022-02-20</td>\n",
              "      <td>Norte</td>\n",
              "      <td>Hosting</td>\n",
              "      <td>53777</td>\n",
              "    </tr>\n",
              "  </tbody>\n",
              "</table>\n",
              "</div>"
            ],
            "text/plain": [
              "       Fecha Región Producto  Facturación\n",
              "0 2022-01-05   Este  Hosting        54249\n",
              "1 2022-02-10   Este  Hosting        54443\n",
              "2 2022-02-18  Norte      Web        51795\n",
              "3 2022-02-19  Oeste  Hosting        56156\n",
              "4 2022-02-20  Norte  Hosting        53777"
            ]
          },
          "execution_count": 21,
          "metadata": {},
          "output_type": "execute_result"
        }
      ],
      "source": [
        "import pandas as pd\n",
        "df = pd.read_excel('hosting.xlsx', sheet_name='Sheet1')\n",
        "df.head()"
      ]
    },
    {
      "cell_type": "markdown",
      "id": "fa01caa5",
      "metadata": {
        "id": "fa01caa5"
      },
      "source": [
        "# Reto 2\n",
        "Utilice la librería *openpyxl* para **escribir** datos en un archivo de Excel con extensión xlsx."
      ]
    },
    {
      "cell_type": "code",
      "execution_count": null,
      "id": "3c1e1b0f",
      "metadata": {
        "id": "3c1e1b0f"
      },
      "outputs": [],
      "source": [
        "from openpyxl import Workbook\n",
        "from openpyxl.styles import Font, PatternFill\n",
        "wb = Workbook()\n",
        "sheet = wb.active\n",
        "\n",
        "datos = (\n",
        "    (10, 70),\n",
        "    (20, 75),\n",
        "    (25, 78),\n",
        "    (30, 88),\n",
        "    (50, 90),\n",
        "    (65, 99)\n",
        ")\n",
        "\n",
        "for i in datos:\n",
        "    sheet.append(i)\n",
        "\n",
        "cell = sheet.cell(row=7, column=1)\n",
        "cell.value = \"=SUM(A1:A6)\"                    # las fórmulas deben ser las de la versión inglesa de Excel\n",
        "cell.font = Font(bold=True)\n",
        "cell.fill = PatternFill(fill_type='solid',fgColor='FFFF00')\n",
        "\n",
        "sheet.cell(row=7, column=2).value = '=sum(B1:B6)'\n",
        "\n",
        "wb.save('/home/apa/Documents/github/pyCourse/jupyter/excel/sumar_rango.xlsx')"
      ]
    },
    {
      "cell_type": "markdown",
      "id": "ae93873b",
      "metadata": {
        "id": "ae93873b"
      },
      "source": [
        "# Reto 3\n",
        "Utilice la librería *openpyxl* para **escribir** datos en un archivo de Excel con varias hojas."
      ]
    },
    {
      "cell_type": "markdown",
      "id": "97185d26",
      "metadata": {
        "id": "97185d26"
      },
      "source": [
        "## Solución\n",
        "Trabajaremos con el archivo pyCourse/jupyter/excel/**series.xlsx**."
      ]
    },
    {
      "cell_type": "code",
      "execution_count": null,
      "id": "b18c2adb",
      "metadata": {
        "id": "b18c2adb"
      },
      "outputs": [],
      "source": [
        "import openpyxl\n",
        "from openpyxl import Workbook\n",
        "from random import randint\n",
        "\n",
        "wb = Workbook()\n",
        "dest_filename = '/home/apa/Documents/github/pyCourse/jupyter/excel/series.xlsx'\n",
        "\n",
        "ws1 = wb.active\n",
        "ws1.title = \"Listado\"                         # creamos una hoja llamada Listado\n",
        "\n",
        "for row in range(1, 31):\n",
        "     ws1.append(range(21))\n",
        "        \n",
        "        \n",
        "ws2 = wb.create_sheet(title=\"Geo\")           # creamos una hoja llamada Geo\n",
        "ws2['A1'] = 'Num'\n",
        "for i in range(10):\n",
        "    ws2.cell(row=1, column=i+2).value = \"Geo\"+str(i+1)\n",
        "    ws2.cell(row=2, column=i+2).value = 2**i # Geométrica de razón 2\n",
        "\n",
        "for j in range(30):\n",
        "    ws2.cell(row=j+2, column=1).value = j+1\n",
        "\n",
        "ws2['B3'] = '=B2*1.1'  # razón de la progresión geométrica 1.1\n",
        "\n",
        "#ws1['B4'].value = ws1['B3'].value\n",
        "\n",
        "for i in range(29):\n",
        "    for j in range(10):\n",
        "        # usamos la función INDIRECTO que permite trabajar con filas (R) y columnas (C)\n",
        "        ws2.cell(row=i+3, column=j+2).value = '=1.1*INDIRECT(\"R\"&'+str(i+2)+'&\"C\"&'+str(j+2)+',0)'\n",
        "        \n",
        "\n",
        "ws3 = wb.create_sheet(title=\"Aleatorios\")\n",
        "for i in range(1,21):\n",
        "     for j in range(1,16):\n",
        "         _ = ws3.cell(column=i, row=j, value=randint(1,121))\n",
        "\n",
        "wb.save(filename = dest_filename)"
      ]
    }
  ],
  "metadata": {
    "kernelspec": {
      "display_name": "Python 3 (ipykernel)",
      "language": "python",
      "name": "python3"
    },
    "language_info": {
      "codemirror_mode": {
        "name": "ipython",
        "version": 3
      },
      "file_extension": ".py",
      "mimetype": "text/x-python",
      "name": "python",
      "nbconvert_exporter": "python",
      "pygments_lexer": "ipython3",
      "version": "3.8.11"
    },
    "colab": {
      "name": "caso3.03.ipynb",
      "provenance": [],
      "include_colab_link": true
    }
  },
  "nbformat": 4,
  "nbformat_minor": 5
}