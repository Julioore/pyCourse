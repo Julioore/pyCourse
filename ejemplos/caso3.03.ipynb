{
 "cells": [
  {
   "cell_type": "code",
   "execution_count": 1,
   "id": "2471ce09",
   "metadata": {},
   "outputs": [],
   "source": [
    "# https://www.pythonexcel.com/openpyxl.php"
   ]
  },
  {
   "cell_type": "markdown",
   "id": "56b2ecd0",
   "metadata": {},
   "source": [
    "# Reto 1\n",
    "Trabajando con la librería openpyxl lea los datos de un archivo de Excel con extensión xlsx."
   ]
  },
  {
   "cell_type": "markdown",
   "id": "c7c18189",
   "metadata": {},
   "source": [
    "## Solución\n",
    "Consulte el archivo calisto3_0210.ipynb.\n",
    "\n",
    "[A Python library to read/write Excel 2010 xlsx/xlsm files](https://openpyxl.readthedocs.io/en/stable)\n",
    "\n",
    "Trabajaremos con el archivo pyCourse/jupyter/excel/hosting.xlsx\n",
    "\n",
    "![hosting.xlsx](../jupyter/img/hosting.png)\n"
   ]
  },
  {
   "cell_type": "code",
   "execution_count": 2,
   "id": "6c979a17",
   "metadata": {},
   "outputs": [
    {
     "data": {
      "text/plain": [
       "'/home/apa/Documents/github/pyCourse/ejemplos'"
      ]
     },
     "execution_count": 2,
     "metadata": {},
     "output_type": "execute_result"
    }
   ],
   "source": [
    "import os\n",
    "os.getcwd()      # para saber en que directorio estoy en este momento ( directorio de trabajo actual)"
   ]
  },
  {
   "cell_type": "code",
   "execution_count": 3,
   "id": "51bb6f6d",
   "metadata": {},
   "outputs": [],
   "source": [
    "os.chdir(\"/home/apa/Documents/github/pyCourse/jupyter/excel\") # para cambiar el directorio de trabajo\n",
    "# estoy usando esta ruta porque estoy en un PC con Linux, en un Windows sería por ejemplo \"c:/user/apa/Documents/pyCourse/jupyter/excel\""
   ]
  },
  {
   "cell_type": "code",
   "execution_count": 4,
   "id": "d5676be1",
   "metadata": {},
   "outputs": [
    {
     "data": {
      "text/plain": [
       "'/home/apa/Documents/github/pyCourse/jupyter/excel'"
      ]
     },
     "execution_count": 4,
     "metadata": {},
     "output_type": "execute_result"
    }
   ],
   "source": [
    "os.getcwd()        # comprobamos que hemos cambiado el directorio de trabajo al deseado"
   ]
  },
  {
   "cell_type": "code",
   "execution_count": 5,
   "id": "553edd19",
   "metadata": {},
   "outputs": [
    {
     "data": {
      "text/plain": [
       "openpyxl.workbook.workbook.Workbook"
      ]
     },
     "execution_count": 5,
     "metadata": {},
     "output_type": "execute_result"
    }
   ],
   "source": [
    "import openpyxl    # importamos la librería openpyxl\n",
    "wb = openpyxl.load_workbook('hosting.xlsx')\n",
    "type(wb)           # miramos a ver quien es la variable wb"
   ]
  },
  {
   "cell_type": "markdown",
   "id": "3b756111",
   "metadata": {},
   "source": [
    "La función ```sheetnames``` devuelve los nombres de las hojas en un libro de trabajo y puede contar los nombres para informar sobre el número total de hojas en el libro de trabajo actual."
   ]
  },
  {
   "cell_type": "code",
   "execution_count": 6,
   "id": "c8dedcdb",
   "metadata": {},
   "outputs": [
    {
     "data": {
      "text/plain": [
       "['Sheet1', 'Sheet2', 'Sheet3']"
      ]
     },
     "execution_count": 6,
     "metadata": {},
     "output_type": "execute_result"
    }
   ],
   "source": [
    "wb.sheetnames      # proporciona la lista de hojas del libro de trabajo"
   ]
  },
  {
   "cell_type": "code",
   "execution_count": 7,
   "id": "eccfc09f",
   "metadata": {},
   "outputs": [
    {
     "data": {
      "text/plain": [
       "'Sheet1'"
      ]
     },
     "execution_count": 7,
     "metadata": {},
     "output_type": "execute_result"
    }
   ],
   "source": [
    "wb.sheetnames[0]   # si son varias hojas podemos elegir la primera"
   ]
  },
  {
   "cell_type": "code",
   "execution_count": 8,
   "id": "a4114112",
   "metadata": {},
   "outputs": [
    {
     "name": "stdout",
     "output_type": "stream",
     "text": [
      "Sheet1\n",
      "Sheet2\n",
      "Sheet3\n",
      "<Worksheet \"Sheet1\">\n",
      "<Worksheet \"Sheet2\">\n",
      "<Worksheet \"Sheet3\">\n"
     ]
    }
   ],
   "source": [
    "# s1 = wb.get_sheet_by_name('Sheet1')\n",
    "#s1 = wb[sheetname[0]]\n",
    "ws1name = wb.sheetnames[0]  # creamos la variable ws1name para recoger el nombre de la hoja1\n",
    "ws2name = wb.sheetnames[1]  # creamos la variable ws2name para recoger el nombre de la hoja2\n",
    "ws3name = wb.sheetnames[2]  # creamos la variable ws3name para recoger el nombre de la hoja3\n",
    "\n",
    "print(ws1name)\n",
    "print(ws2name)\n",
    "print(ws3name)\n",
    "\n",
    "ws1 = wb['Sheet1']      # creamos la variable ws1 para recoger el objeto de la hoja1\n",
    "ws2 = wb['Sheet2']      # creamos la variable ws2 para recoger el objeto de la hoja2\n",
    "ws3 = wb[ws3name]       # creamos la variable ws3 para recoger el objeto de la hoja3. FORMA ALTERNATIVA  \n",
    "\n",
    "print(ws1)\n",
    "print(ws2)\n",
    "print(ws3)"
   ]
  },
  {
   "cell_type": "code",
   "execution_count": 9,
   "id": "92ee7518",
   "metadata": {},
   "outputs": [
    {
     "data": {
      "text/plain": [
       "openpyxl.worksheet.worksheet.Worksheet"
      ]
     },
     "execution_count": 9,
     "metadata": {},
     "output_type": "execute_result"
    }
   ],
   "source": [
    "type(ws1)           # proporciona el tipo de objeto que corresponde a la variable ws1 que es una Worksheet"
   ]
  },
  {
   "cell_type": "code",
   "execution_count": 10,
   "id": "57c2d42e",
   "metadata": {},
   "outputs": [
    {
     "data": {
      "text/plain": [
       "'Sheet1'"
      ]
     },
     "execution_count": 10,
     "metadata": {},
     "output_type": "execute_result"
    }
   ],
   "source": [
    "ws1.title           # proporciona el nombre del Worksheet correspondiente a la variable ws1"
   ]
  },
  {
   "cell_type": "code",
   "execution_count": 11,
   "id": "d75c1018",
   "metadata": {},
   "outputs": [
    {
     "data": {
      "text/plain": [
       "<Worksheet \"Sheet1\">"
      ]
     },
     "execution_count": 11,
     "metadata": {},
     "output_type": "execute_result"
    }
   ],
   "source": [
    "wb.active           # nos indica quién es la hoja activa"
   ]
  },
  {
   "cell_type": "markdown",
   "id": "8de95f50",
   "metadata": {},
   "source": [
    "## Accediendo a los datos de las celdas"
   ]
  },
  {
   "cell_type": "code",
   "execution_count": 12,
   "id": "7488e29f",
   "metadata": {},
   "outputs": [
    {
     "data": {
      "text/plain": [
       "datetime.datetime(2022, 1, 5, 0, 0)"
      ]
     },
     "execution_count": 12,
     "metadata": {},
     "output_type": "execute_result"
    }
   ],
   "source": [
    "ws1['A2'].value"
   ]
  },
  {
   "cell_type": "markdown",
   "id": "6eba7992",
   "metadata": {},
   "source": [
    "### Otra forma de acceder al valor de una celda"
   ]
  },
  {
   "cell_type": "code",
   "execution_count": 13,
   "id": "685e77aa",
   "metadata": {},
   "outputs": [
    {
     "data": {
      "text/plain": [
       "'Norte'"
      ]
     },
     "execution_count": 13,
     "metadata": {},
     "output_type": "execute_result"
    }
   ],
   "source": [
    "zona3 = ws1['B4']\n",
    "zona3.value"
   ]
  },
  {
   "cell_type": "code",
   "execution_count": 14,
   "id": "18d61834",
   "metadata": {},
   "outputs": [
    {
     "data": {
      "text/plain": [
       "4"
      ]
     },
     "execution_count": 14,
     "metadata": {},
     "output_type": "execute_result"
    }
   ],
   "source": [
    "zona3.row"
   ]
  },
  {
   "cell_type": "code",
   "execution_count": 15,
   "id": "4be6dbc2",
   "metadata": {},
   "outputs": [
    {
     "data": {
      "text/plain": [
       "2"
      ]
     },
     "execution_count": 15,
     "metadata": {},
     "output_type": "execute_result"
    }
   ],
   "source": [
    "zona3.column"
   ]
  },
  {
   "cell_type": "markdown",
   "id": "0bc894fe",
   "metadata": {},
   "source": [
    "### Obteniendo el dato de una celda sabiendo su fila y columna"
   ]
  },
  {
   "cell_type": "code",
   "execution_count": 16,
   "id": "3c1f7d35",
   "metadata": {},
   "outputs": [
    {
     "data": {
      "text/plain": [
       "'SEO'"
      ]
     },
     "execution_count": 16,
     "metadata": {},
     "output_type": "execute_result"
    }
   ],
   "source": [
    "producto6 = ws1.cell(row=7, column=3)\n",
    "producto6.value"
   ]
  },
  {
   "cell_type": "markdown",
   "id": "9d76c959",
   "metadata": {},
   "source": [
    "## Mostrando varios datos con un loop"
   ]
  },
  {
   "cell_type": "code",
   "execution_count": 17,
   "id": "714ec56d",
   "metadata": {},
   "outputs": [
    {
     "name": "stdout",
     "output_type": "stream",
     "text": [
      "1 Facturación\n",
      "2 54249\n",
      "3 54443\n",
      "4 51795\n",
      "5 56156\n",
      "6 53777\n",
      "7 54193\n",
      "8 52279\n"
     ]
    }
   ],
   "source": [
    "for i in range (1,9):\n",
    "    print(i, ws1.cell(row=i,column=4).value)"
   ]
  },
  {
   "cell_type": "code",
   "execution_count": 20,
   "id": "9acc78e8",
   "metadata": {},
   "outputs": [
    {
     "name": "stdout",
     "output_type": "stream",
     "text": [
      "Fecha Región Producto Facturación\n",
      "2022-01-05 00:00:00 Este Hosting 54249\n",
      "2022-02-10 00:00:00 Este Hosting 54443\n",
      "2022-02-18 00:00:00 Norte Web 51795\n",
      "2022-02-19 00:00:00 Oeste Hosting 56156\n",
      "2022-02-20 00:00:00 Norte Hosting 53777\n",
      "2022-02-24 00:00:00 Sur SEO 54193\n",
      "2022-02-27 00:00:00 Oeste Web 52279\n"
     ]
    }
   ],
   "source": [
    "for i in range (1,9):\n",
    "    print(ws1.cell(row=i,column=1).value, \n",
    "          ws1.cell(row=i,column=2).value, \n",
    "          ws1.cell(row=i,column=3).value,\n",
    "          ws1.cell(row=i,column=4).value)"
   ]
  },
  {
   "cell_type": "code",
   "execution_count": null,
   "id": "13a01f33",
   "metadata": {},
   "outputs": [],
   "source": []
  }
 ],
 "metadata": {
  "kernelspec": {
   "display_name": "Python 3",
   "language": "python",
   "name": "python3"
  },
  "language_info": {
   "codemirror_mode": {
    "name": "ipython",
    "version": 3
   },
   "file_extension": ".py",
   "mimetype": "text/x-python",
   "name": "python",
   "nbconvert_exporter": "python",
   "pygments_lexer": "ipython3",
   "version": "3.8.8"
  }
 },
 "nbformat": 4,
 "nbformat_minor": 5
}
