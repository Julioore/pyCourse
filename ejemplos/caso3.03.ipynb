{
 "cells": [
  {
   "cell_type": "markdown",
   "id": "56b2ecd0",
   "metadata": {},
   "source": [
    "# Reto 1\n",
    "Utilice la librería *openpyxl* para **leer** los datos en un archivo de Excel con extensión xlsx."
   ]
  },
  {
   "cell_type": "markdown",
   "id": "c7c18189",
   "metadata": {},
   "source": [
    "## Solución\n",
    "* Consulte el archivo calisto3_0210.ipynb encontrará información y ejemplos de la librería *openpyxl*.\n",
    "* [A Python library to read/write Excel 2010 xlsx/xlsm files](https://openpyxl.readthedocs.io/en/stable)\n",
    "\n",
    "Trabajaremos con el archivo pyCourse/jupyter/excel/**hosting.xlsx**\n",
    "\n",
    "![hosting.xlsx](../jupyter/img/hosting.png)\n"
   ]
  },
  {
   "cell_type": "code",
   "execution_count": null,
   "id": "6c979a17",
   "metadata": {},
   "outputs": [],
   "source": [
    "import os\n",
    "os.getcwd()      # para saber en que directorio estoy en este momento ( directorio de trabajo actual)"
   ]
  },
  {
   "cell_type": "code",
   "execution_count": null,
   "id": "51bb6f6d",
   "metadata": {},
   "outputs": [],
   "source": [
    "os.chdir(\"/home/apa/Documents/github/pyCourse/jupyter/excel\") # para cambiar el directorio de trabajo\n",
    "# estoy usando esta ruta porque estoy en un PC con Linux, en un Windows sería por ejemplo \"c:/user/apa/Documents/pyCourse/jupyter/excel\""
   ]
  },
  {
   "cell_type": "code",
   "execution_count": null,
   "id": "d5676be1",
   "metadata": {},
   "outputs": [],
   "source": [
    "os.getcwd()        # comprobamos que hemos cambiado el directorio de trabajo al deseado"
   ]
  },
  {
   "cell_type": "code",
   "execution_count": null,
   "id": "553edd19",
   "metadata": {},
   "outputs": [],
   "source": [
    "import openpyxl    # importamos la librería openpyxl\n",
    "wb = openpyxl.load_workbook('hosting.xlsx')\n",
    "type(wb)           # miramos a ver quien es la variable wb"
   ]
  },
  {
   "cell_type": "markdown",
   "id": "3b756111",
   "metadata": {},
   "source": [
    "La función ```sheetnames``` devuelve los nombres de las hojas en un libro de trabajo y puede contar los nombres para informar sobre el número total de hojas en el libro de trabajo actual."
   ]
  },
  {
   "cell_type": "code",
   "execution_count": null,
   "id": "c8dedcdb",
   "metadata": {},
   "outputs": [],
   "source": [
    "wb.sheetnames      # proporciona la lista de hojas del libro de trabajo"
   ]
  },
  {
   "cell_type": "code",
   "execution_count": null,
   "id": "eccfc09f",
   "metadata": {},
   "outputs": [],
   "source": [
    "wb.sheetnames[0]   # si son varias hojas podemos elegir la primera"
   ]
  },
  {
   "cell_type": "code",
   "execution_count": null,
   "id": "b1adc2bc",
   "metadata": {},
   "outputs": [],
   "source": [
    "s1 = wb[wb.sheetnames[0]]\n",
    "s1"
   ]
  },
  {
   "cell_type": "code",
   "execution_count": null,
   "id": "a4114112",
   "metadata": {},
   "outputs": [],
   "source": [
    "ws1name = wb.sheetnames[0]  # creamos la variable ws1name para recoger el nombre de la hoja1\n",
    "ws2name = wb.sheetnames[1]  # creamos la variable ws2name para recoger el nombre de la hoja2\n",
    "ws3name = wb.sheetnames[2]  # creamos la variable ws3name para recoger el nombre de la hoja3\n",
    "\n",
    "print(ws1name)\n",
    "print(ws2name)\n",
    "print(ws3name)\n",
    "\n",
    "ws1 = wb['Sheet1']      # creamos la variable ws1 para recoger el objeto de la hoja1\n",
    "ws2 = wb['Sheet2']      # creamos la variable ws2 para recoger el objeto de la hoja2\n",
    "ws3 = wb[ws3name]       # creamos la variable ws3 para recoger el objeto de la hoja3. FORMA ALTERNATIVA  \n",
    "\n",
    "print(ws1)\n",
    "print(ws2)\n",
    "print(ws3)"
   ]
  },
  {
   "cell_type": "code",
   "execution_count": null,
   "id": "92ee7518",
   "metadata": {},
   "outputs": [],
   "source": [
    "type(ws1)           # proporciona el tipo de objeto que corresponde a la variable ws1 que es una Worksheet"
   ]
  },
  {
   "cell_type": "code",
   "execution_count": null,
   "id": "57c2d42e",
   "metadata": {},
   "outputs": [],
   "source": [
    "ws1.title           # proporciona el nombre del Worksheet correspondiente a la variable ws1"
   ]
  },
  {
   "cell_type": "code",
   "execution_count": null,
   "id": "d75c1018",
   "metadata": {},
   "outputs": [],
   "source": [
    "wb.active           # nos indica quién es la hoja activa"
   ]
  },
  {
   "cell_type": "markdown",
   "id": "8de95f50",
   "metadata": {},
   "source": [
    "## Accediendo a los datos de las celdas"
   ]
  },
  {
   "cell_type": "code",
   "execution_count": null,
   "id": "7488e29f",
   "metadata": {},
   "outputs": [],
   "source": [
    "ws1['A2'].value"
   ]
  },
  {
   "cell_type": "markdown",
   "id": "6eba7992",
   "metadata": {},
   "source": [
    "### Otra forma de acceder al valor de una celda"
   ]
  },
  {
   "cell_type": "code",
   "execution_count": null,
   "id": "685e77aa",
   "metadata": {},
   "outputs": [],
   "source": [
    "zona3 = ws1['B4']\n",
    "zona3.value"
   ]
  },
  {
   "cell_type": "code",
   "execution_count": null,
   "id": "18d61834",
   "metadata": {},
   "outputs": [],
   "source": [
    "zona3.row"
   ]
  },
  {
   "cell_type": "code",
   "execution_count": null,
   "id": "4be6dbc2",
   "metadata": {},
   "outputs": [],
   "source": [
    "zona3.column"
   ]
  },
  {
   "cell_type": "markdown",
   "id": "0bc894fe",
   "metadata": {},
   "source": [
    "### Obteniendo el dato de una celda sabiendo su fila y columna"
   ]
  },
  {
   "cell_type": "code",
   "execution_count": null,
   "id": "3c1f7d35",
   "metadata": {},
   "outputs": [],
   "source": [
    "producto6 = ws1.cell(row=7, column=3)\n",
    "producto6.value"
   ]
  },
  {
   "cell_type": "markdown",
   "id": "9d76c959",
   "metadata": {},
   "source": [
    "## Mostrando varios datos con un loop"
   ]
  },
  {
   "cell_type": "code",
   "execution_count": null,
   "id": "714ec56d",
   "metadata": {},
   "outputs": [],
   "source": [
    "for i in range (1,9):\n",
    "    print(i, ws1.cell(row=i,column=4).value)"
   ]
  },
  {
   "cell_type": "code",
   "execution_count": null,
   "id": "9acc78e8",
   "metadata": {},
   "outputs": [],
   "source": [
    "for i in range (1,9):\n",
    "    print(ws1.cell(row=i,column=1).value, \n",
    "          ws1.cell(row=i,column=2).value, \n",
    "          ws1.cell(row=i,column=3).value,\n",
    "          ws1.cell(row=i,column=4).value)"
   ]
  },
  {
   "cell_type": "markdown",
   "id": "14f9203d",
   "metadata": {},
   "source": [
    "## Importando un archivo Excel como DataFrame\n",
    "La tabla anterior no tiene una buena presentación. Sería estupendo poder importar la información de Excel directamente a un DataFrame para su posterior tratamiento y una mejor visualización de los datos."
   ]
  },
  {
   "cell_type": "code",
   "execution_count": null,
   "id": "bb0d8b83",
   "metadata": {},
   "outputs": [],
   "source": [
    "import pandas as pd\n",
    "df = pd.read_excel('hosting.xlsx', sheet_name='Sheet1')\n",
    "df.head()"
   ]
  },
  {
   "cell_type": "markdown",
   "id": "fa01caa5",
   "metadata": {},
   "source": [
    "# Reto 2\n",
    "Utilice la librería *openpyxl* para **escribir** datos en un archivo de Excel con extensión xlsx."
   ]
  },
  {
   "cell_type": "code",
   "execution_count": null,
   "id": "3c1e1b0f",
   "metadata": {},
   "outputs": [],
   "source": [
    "from openpyxl import Workbook\n",
    "from openpyxl.styles import Font, PatternFill\n",
    "wb = Workbook()\n",
    "sheet = wb.active\n",
    "\n",
    "datos = (\n",
    "    (10, 70),\n",
    "    (20, 75),\n",
    "    (25, 78),\n",
    "    (30, 88),\n",
    "    (50, 90),\n",
    "    (65, 99)\n",
    ")\n",
    "\n",
    "for i in datos:\n",
    "    sheet.append(i)\n",
    "\n",
    "cell = sheet.cell(row=7, column=1)\n",
    "cell.value = \"=SUM(A1:A6)\"                    # las fórmulas deben ser las de la versión inglesa de Excel\n",
    "cell.font = Font(bold=True)\n",
    "cell.fill = PatternFill(fill_type='solid',fgColor='FFFF00')\n",
    "\n",
    "sheet.cell(row=7, column=2).value = '=sum(B1:B6)'\n",
    "\n",
    "wb.save('/home/apa/Documents/github/pyCourse/jupyter/excel/sumar_rango.xlsx')"
   ]
  },
  {
   "cell_type": "markdown",
   "id": "ae93873b",
   "metadata": {},
   "source": [
    "# Reto 3\n",
    "Utilice la librería *openpyxl* para **escribir** datos en un archivo de Excel con varias hojas."
   ]
  },
  {
   "cell_type": "markdown",
   "id": "97185d26",
   "metadata": {},
   "source": [
    "## Solución\n",
    "Trabajaremos con el archivo pyCourse/jupyter/excel/**series.xlsx**."
   ]
  },
  {
   "cell_type": "code",
   "execution_count": 7,
   "id": "b18c2adb",
   "metadata": {},
   "outputs": [],
   "source": [
    "import openpyxl\n",
    "from openpyxl import Workbook\n",
    "from random import randint\n",
    "\n",
    "wb = Workbook()\n",
    "dest_filename = '/home/apa/Documents/github/pyCourse/jupyter/excel/series.xlsx'\n",
    "\n",
    "ws1 = wb.active\n",
    "ws1.title = \"Listado\"                         # creamos una hoja llamada Listado\n",
    "\n",
    "for row in range(1, 31):\n",
    "     ws1.append(range(21))\n",
    "        \n",
    "        \n",
    "ws2 = wb.create_sheet(title=\"Geo\")           # creamos una hoja llamada Geo\n",
    "ws2['A1'] = 'Num'\n",
    "for i in range(10):\n",
    "    ws2.cell(row=1, column=i+2).value = \"Geo\"+str(i+1)\n",
    "    ws2.cell(row=2, column=i+2).value = 2**i # Geométrica de razón 2\n",
    "\n",
    "for j in range(30):\n",
    "    ws2.cell(row=j+2, column=1).value = j+1\n",
    "\n",
    "ws2['B3'] = '=B2*1.1'  # razón de la progresión geométrica 1.1\n",
    "\n",
    "#ws1['B4'].value = ws1['B3'].value\n",
    "\n",
    "for i in range(29):\n",
    "    for j in range(10):\n",
    "        # usamos la función INDIRECTO que permite trabajar con filas (R) y columnas (C)\n",
    "        ws2.cell(row=i+3, column=j+2).value = '=1.1*INDIRECT(\"R\"&'+str(i+2)+'&\"C\"&'+str(j+2)+',0)'\n",
    "        \n",
    "\n",
    "ws3 = wb.create_sheet(title=\"Aleatorios\")\n",
    "for i in range(1,21):\n",
    "     for j in range(1,16):\n",
    "         _ = ws3.cell(column=i, row=j, value=randint(1,121))\n",
    "\n",
    "wb.save(filename = dest_filename)"
   ]
  }
 ],
 "metadata": {
  "kernelspec": {
   "display_name": "Python 3",
   "language": "python",
   "name": "python3"
  },
  "language_info": {
   "codemirror_mode": {
    "name": "ipython",
    "version": 3
   },
   "file_extension": ".py",
   "mimetype": "text/x-python",
   "name": "python",
   "nbconvert_exporter": "python",
   "pygments_lexer": "ipython3",
   "version": "3.8.8"
  }
 },
 "nbformat": 4,
 "nbformat_minor": 5
}
