{
  "nbformat": 4,
  "nbformat_minor": 0,
  "metadata": {
    "colab": {
      "name": "respuesta002.ipynb",
      "provenance": [],
      "authorship_tag": "ABX9TyM0dqNIeMONjZbP3J4WgtCp",
      "include_colab_link": true
    },
    "kernelspec": {
      "name": "python3",
      "display_name": "Python 3"
    },
    "language_info": {
      "name": "python"
    }
  },
  "cells": [
    {
      "cell_type": "markdown",
      "metadata": {
        "id": "view-in-github",
        "colab_type": "text"
      },
      "source": [
        "<a href=\"https://colab.research.google.com/github/financieras/pyCourse/blob/main/ejemplos/respuesta002.ipynb\" target=\"_parent\"><img src=\"https://colab.research.google.com/assets/colab-badge.svg\" alt=\"Open In Colab\"/></a>"
      ]
    },
    {
      "cell_type": "markdown",
      "source": [
        "# ¿Cómo instanciar múltiples objetos?\n",
        "[How to create multiple class objects with a loop in python?](https://stackoverflow.com/questions/21598872/how-to-create-multiple-class-objects-with-a-loop-in-python)"
      ],
      "metadata": {
        "id": "2f2pJicFQx5s"
      }
    },
    {
      "cell_type": "markdown",
      "source": [
        "# Instanciar un objeto árbol\n",
        "* Crearemos la clase Arbol con el atributo altura.\n",
        "* Instanciamos un árbol, el árbol a1 que tiene una cierta altura obtenida de forma aleatoria."
      ],
      "metadata": {
        "id": "xG1DBAZcQ7z2"
      }
    },
    {
      "cell_type": "code",
      "execution_count": 1,
      "metadata": {
        "colab": {
          "base_uri": "https://localhost:8080/"
        },
        "id": "qa9VG8UFFpKK",
        "outputId": "21312bd9-1c6b-48e7-992c-5928e9233516"
      },
      "outputs": [
        {
          "output_type": "stream",
          "name": "stdout",
          "text": [
            "58\n",
            "altura\t→ 58\n"
          ]
        }
      ],
      "source": [
        "from random import randint\n",
        "\n",
        "class Arbol():\n",
        "    def __init__(self, altura):\n",
        "        self.altura = altura\n",
        "\n",
        "    def __str__(self):\n",
        "        return f'altura\t→ {self.altura}'\n",
        "\n",
        "a1 = Arbol(randint(10,99))   # a1 es el nombre del objeto instanciado\n",
        "\n",
        "print(a1.altura)\n",
        "print(a1)"
      ]
    },
    {
      "cell_type": "markdown",
      "source": [
        "# Instanciar 10 objetos árbol"
      ],
      "metadata": {
        "id": "EH8LrCJPRUz1"
      }
    },
    {
      "cell_type": "markdown",
      "source": [
        "### Método 1 Lista\n",
        "* Creamos una lista en a la que iremos aneñando los objetos creados.\n",
        "* Luego podemos ir recorriendo la lista y obteniendo los atributos de cada objeto.\n",
        "* No hemos nombrado los objetos pero podemos acceder a ellos por su posición index dentro de la lista.\n",
        "\n"
      ],
      "metadata": {
        "id": "VbgJrJB41CXz"
      }
    },
    {
      "cell_type": "code",
      "source": [
        "from random import randint, seed\n",
        "seed()\n",
        "\n",
        "class Arbol():\n",
        "    def __init__(self, altura):\n",
        "        self.altura = altura\n",
        "\n",
        "    def __str__(self):\n",
        "        return f'altura\t→ {self.altura}'\n",
        "\n",
        "lista = []\n",
        "\n",
        "for i in range(10):\n",
        "    rnd = randint(10,99)\n",
        "    lista.append(Arbol(rnd))\n",
        "\n",
        "for i in range(len(lista)):\n",
        "    print(lista[i])"
      ],
      "metadata": {
        "id": "1bATxCFh3-Cs",
        "outputId": "6c55c031-72e1-45eb-daf0-867129436b08",
        "colab": {
          "base_uri": "https://localhost:8080/"
        }
      },
      "execution_count": 30,
      "outputs": [
        {
          "output_type": "stream",
          "name": "stdout",
          "text": [
            "altura\t→ 42\n",
            "altura\t→ 48\n",
            "altura\t→ 19\n",
            "altura\t→ 82\n",
            "altura\t→ 25\n",
            "altura\t→ 83\n",
            "altura\t→ 62\n",
            "altura\t→ 99\n",
            "altura\t→ 63\n",
            "altura\t→ 70\n"
          ]
        }
      ]
    },
    {
      "cell_type": "markdown",
      "source": [
        "### Método 2 Diccionario\n",
        "* Usaremos un diccionario con la forma clave:valor donde:\n",
        " - La clave es el nombre del árbol, por ejemplo f'a{i}' con i variando entre 1 y 100\n",
        " - El valor es el propio objeto instanciado, cada uno con su altura aleatoria"
      ],
      "metadata": {
        "id": "i_xvyu7s1GLB"
      }
    },
    {
      "cell_type": "code",
      "source": [
        "from random import randint\n",
        "\n",
        "class Arbol():\n",
        "    def __init__(self, altura):\n",
        "        self.altura = altura\n",
        "    def __str__(self):\n",
        "        return f'altura\t→ {self.altura}'\n",
        "\n",
        "# creamos un diccionario clave:valor donde la clave es el nombre del objeto y el valor el propio objeto\n",
        "\n",
        "\n",
        "\n",
        "\n",
        "a1 = Arbol(randint(1,100))\n",
        "print(a1)\n"
      ],
      "metadata": {
        "colab": {
          "base_uri": "https://localhost:8080/"
        },
        "id": "HdHY8XXeOxJJ",
        "outputId": "9fb0387d-83c5-4a8c-dfb0-0d3c596d13c6"
      },
      "execution_count": null,
      "outputs": [
        {
          "output_type": "stream",
          "name": "stdout",
          "text": [
            "altura\t→ 76\n"
          ]
        }
      ]
    }
  ]
}