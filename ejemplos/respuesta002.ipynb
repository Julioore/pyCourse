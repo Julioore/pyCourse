{
  "nbformat": 4,
  "nbformat_minor": 0,
  "metadata": {
    "colab": {
      "name": "respuesta002.ipynb",
      "provenance": [],
      "authorship_tag": "ABX9TyNC+PL6Yp19wAdC8jeQJkLj",
      "include_colab_link": true
    },
    "kernelspec": {
      "name": "python3",
      "display_name": "Python 3"
    },
    "language_info": {
      "name": "python"
    }
  },
  "cells": [
    {
      "cell_type": "markdown",
      "metadata": {
        "id": "view-in-github",
        "colab_type": "text"
      },
      "source": [
        "<a href=\"https://colab.research.google.com/github/financieras/pyCourse/blob/main/ejemplos/respuesta002.ipynb\" target=\"_parent\"><img src=\"https://colab.research.google.com/assets/colab-badge.svg\" alt=\"Open In Colab\"/></a>"
      ]
    },
    {
      "cell_type": "markdown",
      "source": [
        "# ¿Cómo instanciar 100 objetos?"
      ],
      "metadata": {
        "id": "2f2pJicFQx5s"
      }
    },
    {
      "cell_type": "markdown",
      "source": [
        "# Instanciar un objeto árbol\n",
        "* Crearemos la clase Arbol con el atributo altura.\n",
        "* Instanciamos un árbol, el árbol a1 que tiene una cierta altura obtenida de forma aleatoria."
      ],
      "metadata": {
        "id": "xG1DBAZcQ7z2"
      }
    },
    {
      "cell_type": "code",
      "execution_count": 15,
      "metadata": {
        "colab": {
          "base_uri": "https://localhost:8080/"
        },
        "id": "qa9VG8UFFpKK",
        "outputId": "10598eb8-e310-4eb9-85d7-3619af7cc552"
      },
      "outputs": [
        {
          "output_type": "stream",
          "name": "stdout",
          "text": [
            "82\n",
            "altura\t→ 82\n"
          ]
        }
      ],
      "source": [
        "from random import randint\n",
        "\n",
        "class Arbol():\n",
        "    def __init__(self, altura):\n",
        "        self.altura = altura\n",
        "\n",
        "    def __str__(self):\n",
        "        return f'altura\t→ {self.altura}'\n",
        "\n",
        "a1 = Arbol(randint(10,99))\n",
        "\n",
        "print(a1.altura)\n",
        "print(a1)"
      ]
    },
    {
      "cell_type": "markdown",
      "source": [
        "# Instanciar 100 objetos árbol\n",
        "* Usaremos un diccionario con la forma clave:valor donde:\n",
        " - La clave es el nombre del árbol, por ejemplo f'a{i}' con i variando entre 1 y 100\n",
        " - El valor es el propio objeto instanciado, cada uno con su altura aleatoria"
      ],
      "metadata": {
        "id": "EH8LrCJPRUz1"
      }
    },
    {
      "cell_type": "code",
      "source": [
        "from random import randint\n",
        "\n",
        "class Arbol():\n",
        "    def __init__(self, altura):\n",
        "        self.altura = altura\n",
        "    def __str__(self):\n",
        "        return f'altura\t→ {self.altura}'\n",
        "\n",
        "# creamos un diccionario clave:valor donde la clave es el nombre del objeto y el valor el propio objeto\n",
        "\n",
        "\n",
        "\n",
        "\n",
        "a1 = Arbol(randint(1,100))\n",
        "print(a1)\n"
      ],
      "metadata": {
        "colab": {
          "base_uri": "https://localhost:8080/"
        },
        "id": "HdHY8XXeOxJJ",
        "outputId": "9fb0387d-83c5-4a8c-dfb0-0d3c596d13c6"
      },
      "execution_count": 12,
      "outputs": [
        {
          "output_type": "stream",
          "name": "stdout",
          "text": [
            "altura\t→ 76\n"
          ]
        }
      ]
    }
  ]
}