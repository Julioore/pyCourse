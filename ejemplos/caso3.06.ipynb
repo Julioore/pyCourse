{
 "cells": [
  {
   "cell_type": "markdown",
   "id": "93822736",
   "metadata": {},
   "source": [
    "# Reto 1\n",
    "Utilizando Flask, crear una página web sencilla con un \"Hola Mundo\" en localhost."
   ]
  },
  {
   "cell_type": "markdown",
   "id": "aca55d4b",
   "metadata": {},
   "source": [
    "## Solución\n",
    "Vamos a instalar Flask.\n",
    "* Vamos a la [página oficial del proyecto Flask](https://flask.palletsprojects.com/en/2.0.x/) "
   ]
  },
  {
   "cell_type": "code",
   "execution_count": null,
   "id": "335745a0",
   "metadata": {},
   "outputs": [],
   "source": [
    "pip install Flask"
   ]
  },
  {
   "cell_type": "markdown",
   "id": "4ddf989c",
   "metadata": {},
   "source": [
    "Note: you may need to restart the kernel to use updated packages."
   ]
  },
  {
   "cell_type": "code",
   "execution_count": null,
   "id": "f624f9ac",
   "metadata": {},
   "outputs": [],
   "source": [
    "from flask import Flask\n",
    "\n",
    "app = Flask(__name__)\n",
    "\n",
    "@app.route(\"/\")\n",
    "def hello_world():\n",
    "    return \"<p>Hello, World!</p>\"\n",
    "\n",
    "if __name__ == '__main__':\n",
    "    app.run()"
   ]
  },
  {
   "cell_type": "markdown",
   "id": "abe185da",
   "metadata": {},
   "source": [
    "# Reto 2\n",
    "Utilizando Flask, crear una página web sencilla, desplegando un \"Hola Mundo\" en:\n",
    "- [PythonAnywhere](https://www.pythonanywhere.com)\n",
    "- [Heroku](https://www.heroku.com)"
   ]
  },
  {
   "cell_type": "markdown",
   "id": "2f1b55f8",
   "metadata": {},
   "source": [
    "## Solución\n",
    "Puede consultar los siguientes posts de nuestro blog:\n",
    "- [Hola Mundo en PythonAnywhere con Flask](https://altocodigo.blogspot.com/2021/05/flask-en-pythonanywhere.html)\n",
    "- [PythonAnywhere subiendo una aplicación Flask desde GitHub](https://altocodigo.blogspot.com/2021/06/pythonanywhere-subiendo-una-aplicacion.html)\n",
    "- [Flask en PythonAnywhere con despliegue continuo usando GitHub](https://altocodigo.blogspot.com/2021/06/flask-en-pythonanywhere-con-despliegue.html)\n",
    "- [Flask en Heroku usando GitHub](https://altocodigo.blogspot.com/2021/04/curso-de-flask.html)"
   ]
  },
  {
   "cell_type": "markdown",
   "id": "31c61b8e",
   "metadata": {},
   "source": [
    "# Reto 3\n",
    "Utilizando Flask, crear una página web que genere los números primos hasta 100.000."
   ]
  },
  {
   "cell_type": "markdown",
   "id": "12f345b8",
   "metadata": {},
   "source": [
    "## Solución\n",
    "[Números primos en Flask](https://altocodigo.blogspot.com/2021/06/numeros-primos-en-flask.html)\n",
    "![primos](https://1.bp.blogspot.com/-d7mByklPM7o/YMh1bJJ5aQI/AAAAAAACmDY/0A6iVQPLDAoAbMeiMWHv7lZLGtkJ3tjjQCLcBGAsYHQ/s438/Screenshot+from+2021-06-15+10-00-51.png)"
   ]
  },
  {
   "cell_type": "markdown",
   "id": "3008e5a2",
   "metadata": {},
   "source": [
    "# Reto 4\n",
    "Generar numeros impares entre 100 y 120 con Flask."
   ]
  },
  {
   "cell_type": "markdown",
   "id": "a468e43e",
   "metadata": {},
   "source": [
    "## Solución\n",
    "[Generar numeros impares entre 100 y 120 con Flask](https://altocodigo.blogspot.com/2020/08/generar-numeros-impares-entre-100-y-120.html)"
   ]
  }
 ],
 "metadata": {
  "kernelspec": {
   "display_name": "Python 3",
   "language": "python",
   "name": "python3"
  },
  "language_info": {
   "codemirror_mode": {
    "name": "ipython",
    "version": 3
   },
   "file_extension": ".py",
   "mimetype": "text/x-python",
   "name": "python",
   "nbconvert_exporter": "python",
   "pygments_lexer": "ipython3",
   "version": "3.8.8"
  }
 },
 "nbformat": 4,
 "nbformat_minor": 5
}
