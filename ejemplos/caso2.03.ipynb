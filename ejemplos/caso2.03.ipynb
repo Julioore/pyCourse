{
 "cells": [
  {
   "cell_type": "markdown",
   "id": "a4fd176b",
   "metadata": {},
   "source": [
    "# Reto 1\n",
    "Crear la clase Hexágono con el atributo longitud del lado.  \n",
    "Incluir en el método constructor el argumento longitud del lado.  \n",
    "Crear métodos para calcular el área del hexágono, el perímetro y la altura.  "
   ]
  },
  {
   "cell_type": "code",
   "execution_count": null,
   "id": "d3e1ce33",
   "metadata": {},
   "outputs": [],
   "source": [
    "class Hexagono:\n",
    "    def __init__(self, lado):\n",
    "        self.lado = lado\n",
    "        \n",
    "    def area(self):\n",
    "        return 3*3**.5*self.lado**2/2\n",
    "    \n",
    "    def perimetro(self):\n",
    "        return 6*self.lado\n",
    "    \n",
    "    def altura(self):\n",
    "        return 3**.5*self.lado\n",
    "\n",
    "h1 = Hexagono(9)\n",
    "print(\"Área:\",h1.area())\n",
    "print(\"Perímetro:\",h1.perimetro())\n",
    "print(\"Altura = apotema * 2 =\",h1.altura())"
   ]
  },
  {
   "cell_type": "markdown",
   "id": "16814784",
   "metadata": {},
   "source": [
    "# Reto 2\n",
    "Crear la clase circulo y calcular su perímetro dado su radio."
   ]
  },
  {
   "cell_type": "code",
   "execution_count": null,
   "id": "7e505ffe",
   "metadata": {},
   "outputs": [],
   "source": [
    "import math\n",
    "class Circulo:\n",
    "    def __init__(self, radio):\n",
    "        self.radio = radio\n",
    "        \n",
    "    def perimetro(self):\n",
    "        return 2*math.pi*self.radio\n",
    "    \n",
    "c1 = Circulo(3)\n",
    "c1.perimetro()"
   ]
  },
  {
   "cell_type": "markdown",
   "id": "642b1067",
   "metadata": {},
   "source": [
    "# Reto 3\n",
    "Redondear a dos decimales el número pi."
   ]
  },
  {
   "cell_type": "code",
   "execution_count": null,
   "id": "6b4a7968",
   "metadata": {},
   "outputs": [],
   "source": [
    "import math\n",
    "round(math.pi,2)"
   ]
  }
 ],
 "metadata": {
  "kernelspec": {
   "display_name": "Python 3",
   "language": "python",
   "name": "python3"
  },
  "language_info": {
   "codemirror_mode": {
    "name": "ipython",
    "version": 3
   },
   "file_extension": ".py",
   "mimetype": "text/x-python",
   "name": "python",
   "nbconvert_exporter": "python",
   "pygments_lexer": "ipython3",
   "version": "3.8.8"
  }
 },
 "nbformat": 4,
 "nbformat_minor": 5
}
