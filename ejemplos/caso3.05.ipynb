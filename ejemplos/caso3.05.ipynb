{
 "cells": [
  {
   "cell_type": "markdown",
   "id": "17bd979d",
   "metadata": {},
   "source": [
    "## Reto 1\n",
    "* Utilizar una API del gobierno de España que proporciona información sobre los precios de los combustibles en tiempo real.\n",
    "* Crear una aplicación con la que podamos localizar el precio más barato en las gasolineras para diferentes tipos de combustible: gasolina, gasóleo,..."
   ]
  },
  {
   "cell_type": "markdown",
   "id": "81a75caa",
   "metadata": {},
   "source": [
    "## Solución\n",
    "Consulte el archivo calisto3_0200.ipynb APIs externas."
   ]
  },
  {
   "cell_type": "markdown",
   "id": "0098ad93",
   "metadata": {},
   "source": [
    "## Reto 2\n",
    "* Utilizar una API del la Comunidad de Madrid que proporciona la localización geográfica de los desfibriladores disponibles.\n",
    "* Crear una aplicación con la que podamos localizar el desfibrilador más cercano a una posición dada dentro de la Comunidad de Madrid."
   ]
  },
  {
   "cell_type": "markdown",
   "id": "22d33e2e",
   "metadata": {},
   "source": [
    "## Solución\n",
    "Consulte el archivo calisto3_0200.ipynb APIs externas."
   ]
  }
 ],
 "metadata": {
  "kernelspec": {
   "display_name": "Python 3 (ipykernel)",
   "language": "python",
   "name": "python3"
  },
  "language_info": {
   "codemirror_mode": {
    "name": "ipython",
    "version": 3
   },
   "file_extension": ".py",
   "mimetype": "text/x-python",
   "name": "python",
   "nbconvert_exporter": "python",
   "pygments_lexer": "ipython3",
   "version": "3.8.11"
  }
 },
 "nbformat": 4,
 "nbformat_minor": 5
}
