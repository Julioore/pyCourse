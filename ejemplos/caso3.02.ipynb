{
  "cells": [
    {
      "cell_type": "markdown",
      "metadata": {
        "id": "view-in-github",
        "colab_type": "text"
      },
      "source": [
        "<a href=\"https://colab.research.google.com/github/financieras/pyCourse/blob/main/ejemplos/caso3.02.ipynb\" target=\"_parent\"><img src=\"https://colab.research.google.com/assets/colab-badge.svg\" alt=\"Open In Colab\"/></a>"
      ]
    },
    {
      "cell_type": "markdown",
      "id": "5effeee6",
      "metadata": {
        "id": "5effeee6"
      },
      "source": [
        "# Reto 1\n",
        "Descarga la cotización de Tesla desde Yahoo Finanzas en formato csv."
      ]
    },
    {
      "cell_type": "markdown",
      "id": "51dba9ae",
      "metadata": {
        "id": "51dba9ae"
      },
      "source": [
        "## Solución\n",
        "El ticker de Tesla en el NASDAQ es TSLA.\n",
        "- [Yahoo Finance Tesla](https://finance.yahoo.com/quote/TSLA?p=TSLA)\n",
        "- [Datos históricos](https://finance.yahoo.com/quote/TSLA/history?p=TSLA)\n",
        "- Arriba de la tabla podemos elegir el periodo (Time Period), elegimos MAX para el máximo periodo disponible.\n",
        "- Arriba de la tabla, a la derecha, aparece 'Download' para bajar el archivo denominado: TSLA.csv\n",
        "- El archivo csv se puede abrir desde Excel, si deseamos verlo en forma de tabla."
      ]
    },
    {
      "cell_type": "markdown",
      "id": "ca16fe48",
      "metadata": {
        "id": "ca16fe48"
      },
      "source": [
        "# Reto 2\n",
        "Importar los datos csv de Tesla para su tratamiento."
      ]
    },
    {
      "cell_type": "markdown",
      "id": "a41ae475",
      "metadata": {
        "id": "a41ae475"
      },
      "source": [
        "## Solución\n",
        "Consultar el archivo calisto3_0140.ipynb donde se puede ver cómo importar la información de un archivo csv."
      ]
    },
    {
      "cell_type": "code",
      "execution_count": null,
      "id": "f6ebc748",
      "metadata": {
        "id": "f6ebc748"
      },
      "outputs": [],
      "source": [
        "import pandas as pd                 # importamos pandas\n",
        "path = '../jupyter/excel/TSLA.csv'  # establecemos la ruta del archivo\n",
        "historicoTesla = pd.read_csv(path)  # esta es al variable a la que hemos asociado el DataFrame para luego tratarla\n",
        "historicoTesla"
      ]
    },
    {
      "cell_type": "markdown",
      "id": "cefe129d",
      "metadata": {
        "id": "cefe129d"
      },
      "source": [
        "# Reto 3\n",
        "Obtener gráficos de un valor cotizado en bolsa."
      ]
    },
    {
      "cell_type": "markdown",
      "id": "110b1c1b",
      "metadata": {
        "id": "110b1c1b"
      },
      "source": [
        "## Solución\n",
        "Puede consultar estos enlaces u otros que traten este tema.\n",
        "\n",
        "- [Stock Market Analysis with Python Pandas, Plotly and GridDB](https://griddb.net/en/blog/stock-market-analysis-with-python-pandas-plotly-and-griddb/)\n",
        "- [Chart Visualization with Pandas](https://pandas.pydata.org/pandas-docs/stable/user_guide/visualization.html)\n",
        "- [Plot With Pandas](https://realpython.com/pandas-plot-python/)\n",
        "- [Visualizing Free Stock Data for Algorithmic Trading with Python and Matplotlib](https://medium.com/wealthy-bytes/visualizing-free-stock-data-for-algorithmic-trading-with-python-and-matplotlib-dca1abbd286c)\n",
        "- [Stock Price Analysis With Python](https://www.analyticsvidhya.com/blog/2021/07/stock-prices-analysis-with-python/)"
      ]
    }
  ],
  "metadata": {
    "kernelspec": {
      "display_name": "Python 3 (ipykernel)",
      "language": "python",
      "name": "python3"
    },
    "language_info": {
      "codemirror_mode": {
        "name": "ipython",
        "version": 3
      },
      "file_extension": ".py",
      "mimetype": "text/x-python",
      "name": "python",
      "nbconvert_exporter": "python",
      "pygments_lexer": "ipython3",
      "version": "3.8.11"
    },
    "colab": {
      "name": "caso3.02.ipynb",
      "provenance": [],
      "include_colab_link": true
    }
  },
  "nbformat": 4,
  "nbformat_minor": 5
}