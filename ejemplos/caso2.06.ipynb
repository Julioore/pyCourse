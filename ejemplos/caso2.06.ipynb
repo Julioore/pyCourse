{
 "cells": [
  {
   "cell_type": "markdown",
   "id": "726c021f",
   "metadata": {},
   "source": [
    "# Reto 1\n",
    "Generar una matriz de ceros de dimensión nxm (filas x columnas)."
   ]
  },
  {
   "cell_type": "markdown",
   "id": "0c0a471a",
   "metadata": {},
   "source": [
    "## Solución incorrecta\n",
    "Existe una forma incorrecta de crear una matriz de ceros. Para una matriz 3x3 es la siguiente."
   ]
  },
  {
   "cell_type": "code",
   "execution_count": null,
   "id": "f2b34c11",
   "metadata": {},
   "outputs": [],
   "source": [
    "matriz = [[0]*3]*3\n",
    "matriz                    # aparentemente funciona, pero tien un grave inconveniente"
   ]
  },
  {
   "cell_type": "markdown",
   "id": "97a68aa9",
   "metadata": {},
   "source": [
    "El inconveniente es que las tres matrices interiores son todas la misma, si una cambia todas cambian.  \n",
    "Veamos un ejemplo, cambiemos el primer número y veamos que sucede."
   ]
  },
  {
   "cell_type": "code",
   "execution_count": null,
   "id": "0d916873",
   "metadata": {},
   "outputs": [],
   "source": [
    "matriz[0][0] = 7           # vemos que no solo ha cambiado el primer elemento de la primera submatriz\n",
    "matriz                     # han cambiado todos los primeros elementos de todas las submatrices ya que son la misma\n",
    "                       "
   ]
  },
  {
   "cell_type": "markdown",
   "id": "ea1b88c2",
   "metadata": {},
   "source": [
    "## Solución correcta\n",
    "Usando una lista comprimida ([List Comprehension](https://www.w3schools.com/python/python_lists_comprehension.asp))"
   ]
  },
  {
   "cell_type": "code",
   "execution_count": null,
   "id": "f2dcb72a",
   "metadata": {},
   "outputs": [],
   "source": [
    "n = 4                                # filas\n",
    "m = 3                                # columnas\n",
    "matriz = [[0]*n for _ in range(m)]\n",
    "matriz"
   ]
  },
  {
   "cell_type": "code",
   "execution_count": null,
   "id": "523d58b4",
   "metadata": {},
   "outputs": [],
   "source": [
    "matriz[0][0] = 3           # ahora solo cambia el primer elemento de la primera submatriz\n",
    "matriz                     # ahora las submatrices son objetos distintos"
   ]
  },
  {
   "cell_type": "markdown",
   "id": "4de98b8f",
   "metadata": {},
   "source": [
    "# Reto 2\n",
    "Copiar una matriz sin que sea el mismo objeto."
   ]
  },
  {
   "cell_type": "markdown",
   "id": "b1d63b8c",
   "metadata": {},
   "source": [
    "## Solución incorrecta\n",
    "Existe una forma incorrecta de crear una copia de una matriz para que ambas sean independientes. Para una matriz 3x3 es la siguiente."
   ]
  },
  {
   "cell_type": "code",
   "execution_count": null,
   "id": "7a55062d",
   "metadata": {},
   "outputs": [],
   "source": [
    "m1 = [[1,2,3],[4,5,6],[7,8,9]]\n",
    "m2 = m1                          # igualamos la matriz copia (m2) a la matriz original (m1)\n",
    "m2                               # esta es una forma incorrecta de trabajar ya que m1 y m2 son el mismo objeto"
   ]
  },
  {
   "cell_type": "code",
   "execution_count": null,
   "id": "81bbd79b",
   "metadata": {},
   "outputs": [],
   "source": [
    "# si m1 cambia, cambiará m2, y viceversa. En realidad son el mismo objeto\n",
    "print(id(m1))        # identificador de la matriz m1\n",
    "print(id(m2))        # identificador de la matriz m2, son iguales, ocuman la misma dirección de memoria"
   ]
  },
  {
   "cell_type": "code",
   "execution_count": null,
   "id": "f41bd5a0",
   "metadata": {},
   "outputs": [],
   "source": [
    "m1[0][0] = 99        # cambiando un dato de la matriz m1\n",
    "print(m1)            # comprobamos que se ha cambiado en m1\n",
    "print(m2)            # al tratarse del mismo objeto también se produce el cambio en m2, por eso es al solución incorrecta"
   ]
  },
  {
   "cell_type": "markdown",
   "id": "5a09489d",
   "metadata": {},
   "source": [
    "## Solución correcta\n",
    "Usando la función deepcopy de la librería copy.  \n",
    "Esta función permite hacer una **copia profunda** consiguiendo que ambas matrices sean realmente objetos independientes."
   ]
  },
  {
   "cell_type": "code",
   "execution_count": null,
   "id": "45102227",
   "metadata": {},
   "outputs": [],
   "source": [
    "from copy import deepcopy\n",
    "m1 = [[1,2,3],[4,5,6],[7,8,9]]\n",
    "\n",
    "m2 = deepcopy(m1)                # la matriz m2 es independiente de la matriz m1, ya no se trata del mismo objeto\n",
    "m2[0][0] = 99                    # si cambiamos un valor de m2 no se altera m1\n",
    "\n",
    "print(\"m1 = \", m1)\n",
    "print(\"m2 = \", m2)"
   ]
  },
  {
   "cell_type": "markdown",
   "id": "5a5b33b3",
   "metadata": {},
   "source": [
    "# Reto 3\n",
    "Generar una matriz 4x6 (filas x columnas) de números enteros, aleatorios, entre 1 y 9, y transformarla en una matriz donde los unos se conviertan en ceros."
   ]
  },
  {
   "cell_type": "code",
   "execution_count": null,
   "id": "1f19519c",
   "metadata": {},
   "outputs": [],
   "source": [
    "from random import randint, seed\n",
    "seed()\n",
    "\n",
    "n = 4   # filas\n",
    "m = 6   # columnas\n",
    "\n",
    "matriz = [[0]*m for _ in range(n)]\n",
    "print(matriz)\n",
    "\n",
    "for i in range(len(matriz)):\n",
    "    for j in range(len(matriz[0])):\n",
    "        matriz[i][j] = randint(1,9)\n",
    "\n",
    "print(matriz)\n",
    "\n",
    "for i in range(len(matriz)):\n",
    "    for j in range(len(matriz[0])):\n",
    "        if matriz[i][j] == 1: matriz[i][j] = 0\n",
    "\n",
    "print(matriz)"
   ]
  },
  {
   "cell_type": "markdown",
   "id": "cfac5064",
   "metadata": {},
   "source": [
    "# Reto 4\n",
    "Buscar por internet algunas referencias sobre cómo conseguir hacer ceros en una matriz."
   ]
  },
  {
   "cell_type": "markdown",
   "id": "813f40cd",
   "metadata": {},
   "source": [
    "## Solución\n",
    "Utilizando su buscador favorito introduzca estos términos:\n",
    "\n",
    "python matrix zeroes -numpy\n",
    "\n",
    "El signo menos que antecede a numpy le indica a su buscador que no incluya este término. Numpy es una potente librería para el tratamiento de matrices, pero en este caso no nos interesa usarla.\n",
    "\n",
    "Otra búsqueda que puede resultar exitosa es la siguiente.\n",
    "\n",
    "python set matrix zeroes"
   ]
  }
 ],
 "metadata": {
  "kernelspec": {
   "display_name": "Python 3 (ipykernel)",
   "language": "python",
   "name": "python3"
  },
  "language_info": {
   "codemirror_mode": {
    "name": "ipython",
    "version": 3
   },
   "file_extension": ".py",
   "mimetype": "text/x-python",
   "name": "python",
   "nbconvert_exporter": "python",
   "pygments_lexer": "ipython3",
   "version": "3.8.11"
  }
 },
 "nbformat": 4,
 "nbformat_minor": 5
}
