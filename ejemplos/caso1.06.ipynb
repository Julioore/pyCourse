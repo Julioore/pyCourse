{
 "cells": [
  {
   "cell_type": "markdown",
   "id": "e5f8a443",
   "metadata": {},
   "source": [
    "# Reto 1\n",
    "Generar un número aleatorio entero entre 1 y 10."
   ]
  },
  {
   "cell_type": "markdown",
   "id": "1cd0dc3a",
   "metadata": {},
   "source": [
    "## Método 1"
   ]
  },
  {
   "cell_type": "code",
   "execution_count": null,
   "id": "f779e989",
   "metadata": {},
   "outputs": [],
   "source": [
    "import random                  # así importamos toda la librería random\n",
    "print(random.randint(1,10))"
   ]
  },
  {
   "cell_type": "markdown",
   "id": "4c476af1",
   "metadata": {},
   "source": [
    "## Método 2"
   ]
  },
  {
   "cell_type": "code",
   "execution_count": null,
   "id": "39586b94",
   "metadata": {},
   "outputs": [],
   "source": [
    "from random import randint    # así importamos solo la función randint de la librería random\n",
    "print(randint(1,10))"
   ]
  },
  {
   "cell_type": "markdown",
   "id": "f8f846d0",
   "metadata": {},
   "source": [
    "# Reto 2\n",
    "Calcular los divisores de un número."
   ]
  },
  {
   "cell_type": "code",
   "execution_count": null,
   "id": "58675eaf",
   "metadata": {},
   "outputs": [],
   "source": [
    "def frac(a,b):             # función que calcula la parte fraccionaria\n",
    "  return (a/b) - int(a/b)  \n",
    "\n",
    "def main():\n",
    "    n = 300                # vamos a calcular los divisores de n\n",
    "    for i in range(1,n+1):\n",
    "        if frac(n,i)<1e-9: #ponemos <1e-9 y no ==0 para evitar posibles errores de redondeo al dividir\n",
    "            print(i,end=\",\")\n",
    "\n",
    "main()"
   ]
  }
 ],
 "metadata": {
  "kernelspec": {
   "display_name": "Python 3",
   "language": "python",
   "name": "python3"
  },
  "language_info": {
   "codemirror_mode": {
    "name": "ipython",
    "version": 3
   },
   "file_extension": ".py",
   "mimetype": "text/x-python",
   "name": "python",
   "nbconvert_exporter": "python",
   "pygments_lexer": "ipython3",
   "version": "3.8.8"
  }
 },
 "nbformat": 4,
 "nbformat_minor": 5
}
