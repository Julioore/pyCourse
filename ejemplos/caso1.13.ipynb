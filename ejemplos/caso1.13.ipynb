{
 "cells": [
  {
   "cell_type": "markdown",
   "id": "a37494e8",
   "metadata": {},
   "source": [
    "# Reto 1\n",
    "Genere una lista con 19 números aleatorios enteros de dos dígitos que pudieran repetirse."
   ]
  },
  {
   "cell_type": "markdown",
   "id": "72a3c5d2",
   "metadata": {},
   "source": [
    "## Solución\n",
    "Puede interesar ver el siguiente post de nuestro blog.\n",
    "\n",
    "[Aleatorios con excepciones](https://altocodigo.blogspot.com/2018/08/aleatorios-con-excepciones.html)"
   ]
  },
  {
   "cell_type": "markdown",
   "id": "532791d2",
   "metadata": {},
   "source": [
    "## Método 1"
   ]
  },
  {
   "cell_type": "code",
   "execution_count": null,
   "id": "95a31143",
   "metadata": {},
   "outputs": [],
   "source": [
    "import random\n",
    "random.seed()                 # para inicializar la semilla de los números aleatorios\n",
    "\n",
    "lista = []                    # inicializamos la lista vacía\n",
    "\n",
    "for i in range(19):\n",
    "    lista.append(random.randint(10,99))\n",
    "\n",
    "print(lista)"
   ]
  },
  {
   "cell_type": "markdown",
   "id": "03612aa0",
   "metadata": {},
   "source": [
    "## Método 2\n",
    "Usando comprensión de la listas (List Comprehension)."
   ]
  },
  {
   "cell_type": "code",
   "execution_count": null,
   "id": "3b2c3e62",
   "metadata": {},
   "outputs": [],
   "source": [
    "from random import randint\n",
    "[randint(10,99) for _ in range(19) ]"
   ]
  },
  {
   "cell_type": "markdown",
   "id": "f3230635",
   "metadata": {},
   "source": [
    "# Reto 2\n",
    "Imprima una lista ordenada con 19 números aleatorios enteros de dos dígitos que no tenga repetidos."
   ]
  },
  {
   "cell_type": "markdown",
   "id": "2abbf964",
   "metadata": {},
   "source": [
    "## Método 1\n",
    "Usamos ```random.sample``` que nos permite elegir una muestra aleatoria entre los valores generados. En este caso los valores obtenidos serán sin repetición gracias a que este método está diseñado para elegir sin repetición de una secuencia de números."
   ]
  },
  {
   "cell_type": "code",
   "execution_count": null,
   "id": "50a8f698",
   "metadata": {},
   "outputs": [],
   "source": [
    "import random\n",
    "lista = [i for i in random.sample(range(10,99),19)]\n",
    "lista.sort()\n",
    "print(lista)"
   ]
  },
  {
   "cell_type": "markdown",
   "id": "354f5e16",
   "metadata": {},
   "source": [
    "## Método 2\n",
    "Usamos ```random.shuffle``` sobre la lista generada previamente. Este método devuelve una nueva lista mezclada, lo que permite obtener un resultado sin repetición."
   ]
  },
  {
   "cell_type": "code",
   "execution_count": null,
   "id": "1c2f2231",
   "metadata": {},
   "outputs": [],
   "source": [
    "import random\n",
    "l = [i for i in range(100,131,2) if i!=110 and i!=120]\n",
    "random.shuffle(l)                                          #desordena la lista\n",
    "print(l)\n",
    "print(sorted(l))"
   ]
  },
  {
   "cell_type": "markdown",
   "id": "b804108a",
   "metadata": {},
   "source": [
    "# Reto 3\n",
    "Dadas dos listas obtener la lista conjunta."
   ]
  },
  {
   "cell_type": "code",
   "execution_count": null,
   "id": "87f176fc",
   "metadata": {},
   "outputs": [],
   "source": [
    "l1 = [1,2,3,4,5]\n",
    "l2 = [4,5,6,7,8,9]\n",
    "l = l1 + l2               # unimos las dos listas\n",
    "print(l)"
   ]
  },
  {
   "cell_type": "markdown",
   "id": "0523440c",
   "metadata": {},
   "source": [
    "# Reto 4\n",
    "Dadas dos listas obtener la lista conjunta sin repeticiones."
   ]
  },
  {
   "cell_type": "markdown",
   "id": "e5766419",
   "metadata": {},
   "source": [
    "## Solución\n",
    "La ventaja de los conjuntos (set) es que no admiten repetidos.  \n",
    "Si una lista con repeticiones, se convierte en un conjuno y posteriormente el conjunto se convierte nuevamente en una lista, habremos conseguido eliminar las repeticiones de la lista original."
   ]
  },
  {
   "cell_type": "code",
   "execution_count": null,
   "id": "6eb8d57d",
   "metadata": {},
   "outputs": [],
   "source": [
    "l = [1,1,1,2,3,4,4,4,5,5,6,7,8,9,9,9,9]\n",
    "conjunto = set(l)         # convertimos la lista en un conjunto\n",
    "print(conjunto)           # los conjuntos no admiten repeticiones\n",
    "lista = list(conjunto)    # convertimos el conjunto en una lista\n",
    "print(lista)"
   ]
  },
  {
   "cell_type": "markdown",
   "id": "ae1faeef",
   "metadata": {},
   "source": [
    "# Reto 5\n",
    "Dadas dos listas, restarlas."
   ]
  },
  {
   "cell_type": "markdown",
   "id": "0057e6a2",
   "metadata": {},
   "source": [
    "## Método 1"
   ]
  },
  {
   "cell_type": "code",
   "execution_count": null,
   "id": "c1c9c82c",
   "metadata": {},
   "outputs": [],
   "source": [
    "l1 = [1,2,3,4,5,6]\n",
    "l2 = [2,5,7,9]\n",
    "a = set(l1)-set(l2)\n",
    "list_a = list(a)\n",
    "list_a.sort()\n",
    "print(list_a)\n",
    "b = set(l2)-set(l1)\n",
    "list_b = list(b)\n",
    "list_b.sort()\n",
    "print(list_b)"
   ]
  },
  {
   "cell_type": "markdown",
   "id": "a76c28c0",
   "metadata": {},
   "source": [
    "## Método 2"
   ]
  },
  {
   "cell_type": "code",
   "execution_count": null,
   "id": "8aa4993c",
   "metadata": {},
   "outputs": [],
   "source": [
    "l1 = [1,2,3,4,5,6]\n",
    "l2 = [2,5,7,9]\n",
    "[x for x in l1 if x not in l2]"
   ]
  },
  {
   "cell_type": "markdown",
   "id": "1b02703c",
   "metadata": {},
   "source": [
    "# Reto 6\n",
    "Dadas dos listas generar una tercera con todos los elementos que se repitan en ellas."
   ]
  },
  {
   "cell_type": "code",
   "execution_count": null,
   "id": "733d1436",
   "metadata": {},
   "outputs": [],
   "source": [
    "l1 = [1,2,2,3,4,5,6]   # tiene algún elemento repetido en la propia lista l1\n",
    "l2 = [2,5,7,9]         # no tiene nigún elemento repetido en la propia lista l2\n",
    "[x for x in l1 if x in l2]"
   ]
  }
 ],
 "metadata": {
  "kernelspec": {
   "display_name": "Python 3",
   "language": "python",
   "name": "python3"
  },
  "language_info": {
   "codemirror_mode": {
    "name": "ipython",
    "version": 3
   },
   "file_extension": ".py",
   "mimetype": "text/x-python",
   "name": "python",
   "nbconvert_exporter": "python",
   "pygments_lexer": "ipython3",
   "version": "3.8.8"
  }
 },
 "nbformat": 4,
 "nbformat_minor": 5
}
