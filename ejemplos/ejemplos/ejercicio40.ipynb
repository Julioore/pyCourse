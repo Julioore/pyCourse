{
  "nbformat": 4,
  "nbformat_minor": 0,
  "metadata": {
    "colab": {
      "provenance": [],
      "authorship_tag": "ABX9TyM/2AxrA1zpwsBAK033HnJ9",
      "include_colab_link": true
    },
    "kernelspec": {
      "name": "python3",
      "display_name": "Python 3"
    },
    "language_info": {
      "name": "python"
    }
  },
  "cells": [
    {
      "cell_type": "markdown",
      "metadata": {
        "id": "view-in-github",
        "colab_type": "text"
      },
      "source": [
        "<a href=\"https://colab.research.google.com/github/financieras/pyCourse/blob/main/ejemplos/ejemplos/ejercicio40.ipynb\" target=\"_parent\"><img src=\"https://colab.research.google.com/assets/colab-badge.svg\" alt=\"Open In Colab\"/></a>"
      ]
    },
    {
      "cell_type": "markdown",
      "source": [
        "# Ejercicio 40\n",
        "Dados dos listas de igual tamaño crear una tercera que contenga los elementos de las anteriores intercalados."
      ],
      "metadata": {
        "id": "fewnIsUMif6J"
      }
    },
    {
      "cell_type": "markdown",
      "source": [
        "## Método 1"
      ],
      "metadata": {
        "id": "JC2qdp04ki-J"
      }
    },
    {
      "cell_type": "code",
      "execution_count": 1,
      "metadata": {
        "colab": {
          "base_uri": "https://localhost:8080/"
        },
        "id": "t9zwnbmkie5J",
        "outputId": "25ed86e6-bc7b-4ba0-ee15-e1af4abb0926"
      },
      "outputs": [
        {
          "output_type": "stream",
          "name": "stdout",
          "text": [
            "[1, 2, 3, 4, 5, 6, 7, 8, 9, 0]\n"
          ]
        }
      ],
      "source": [
        "impares = [1,3,5,7,9]\n",
        "pares = [2,4,6,8,0]\n",
        "todo = []\n",
        "for i in range(len(impares)):\n",
        "    todo.append(impares[i])\n",
        "    todo.append(pares[i])\n",
        "\n",
        "print(todo)"
      ]
    },
    {
      "cell_type": "markdown",
      "source": [
        "## Método 2"
      ],
      "metadata": {
        "id": "2lGVY5PMkoGV"
      }
    },
    {
      "cell_type": "code",
      "source": [
        "impares = [1,3,5,7,9]\n",
        "pares = [2,4,6,8,0]\n",
        "todo = []\n",
        "for i in range(len(impares)):\n",
        "    todo += [impares[i]]\n",
        "    todo += [pares[i]]   # equivale a   todo += list(pares[i])\n",
        "\n",
        "print(todo)"
      ],
      "metadata": {
        "colab": {
          "base_uri": "https://localhost:8080/"
        },
        "id": "1s8rk53ajZXV",
        "outputId": "3abdbd06-b762-4262-c4e3-6f336822df09"
      },
      "execution_count": 5,
      "outputs": [
        {
          "output_type": "stream",
          "name": "stdout",
          "text": [
            "[1, 2, 3, 4, 5, 6, 7, 8, 9, 0]\n"
          ]
        }
      ]
    },
    {
      "cell_type": "markdown",
      "source": [
        "## Método 3"
      ],
      "metadata": {
        "id": "zObFFUyGkrLf"
      }
    },
    {
      "cell_type": "code",
      "source": [
        "impares = [1,3,5,7,9]\n",
        "pares = [2,4,6,8,0]\n",
        "todo = []\n",
        "\n",
        "for i in range(2*len(impares)):\n",
        "    if not(i%2):\n",
        "        todo += [impares[i//2]]\n",
        "    else:\n",
        "        todo += [pares[i//2]]\n",
        "\n",
        "print(todo)"
      ],
      "metadata": {
        "colab": {
          "base_uri": "https://localhost:8080/"
        },
        "id": "pKFcJdHpjwRo",
        "outputId": "dbe86848-40d3-44fe-dcdd-ade7646ed1e5"
      },
      "execution_count": 12,
      "outputs": [
        {
          "output_type": "stream",
          "name": "stdout",
          "text": [
            "[1, 2, 3, 4, 5, 6, 7, 8, 9, 0]\n"
          ]
        }
      ]
    }
  ]
}