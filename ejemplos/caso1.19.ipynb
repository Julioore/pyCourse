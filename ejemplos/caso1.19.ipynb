{
 "cells": [
  {
   "cell_type": "markdown",
   "id": "7892f5f8",
   "metadata": {},
   "source": [
    "# Reto 1\n",
    "Generar una lista de 19 números aleatorios enteros entre 10 y 50. \n",
    "- Determine el máximo y cuantas veces aparece.\n",
    "- Determine el segundo máximo y cuantas veces aparece."
   ]
  },
  {
   "cell_type": "code",
   "execution_count": null,
   "id": "47ccec4d",
   "metadata": {},
   "outputs": [],
   "source": [
    "from random import randint as rnd      # usamos una alias para la función randint que hemos llamado rnd\n",
    "lista = [rnd(10,50) for _ in range(19)]\n",
    "print(\"Lista   :\",lista)\n",
    "lista.sort()                           # no es necesario ordenar la lista\n",
    "print(\"Ordenada:\",lista)\n",
    "print(f\"Máximo 1º = {max(lista)}, Frecuencia: {lista.count(max(lista))}.\")\n",
    "\n",
    "primero = segundo = 0\n",
    "for i in lista:\n",
    "    if i>primero:\n",
    "        segundo = primero              # al surgir un valor mayor, segundo toma el antiguo valor de primero\n",
    "        primero = i                    # primero toma el valor del nuevo máximo\n",
    "#print(\"Primero\",primero)\n",
    "#print(\"Segundo\",segundo)\n",
    "print(f\"Máximo 2º = {segundo}, Frecuencia: {lista.count(segundo)}.\")"
   ]
  },
  {
   "cell_type": "markdown",
   "id": "a921efc6",
   "metadata": {},
   "source": [
    "# Reto 2\n",
    "Dada una lista de listas, con Pais y Capital, obtener el pais que corresponde a la capital con el nombre que tiene el mayor número de caracteres.  \n",
    "En este caso solo existe una ciudad con el máximo número de caracteres."
   ]
  },
  {
   "cell_type": "code",
   "execution_count": null,
   "id": "b96b40b0",
   "metadata": {},
   "outputs": [],
   "source": [
    "matriz = [['España','Madrid'],\n",
    "          ['Italia','Roma'],\n",
    "          ['Francia','París'],\n",
    "          ['Reino Unido','Londres'],\n",
    "          ['Alemania','Berlín'],\n",
    "          ['Paises Bajos','Ámsterdam']]\n",
    "\n",
    "n= len(matriz)                               # 6, nos da la longitud de la matriz\n",
    "longitud_max = 0\n",
    "indice_max = 0\n",
    "\n",
    "for i in range(n):\n",
    "    if len(matriz[i][1]) > longitud_max:\n",
    "        longitud_max = len(matriz[i][1])\n",
    "        indice_max = i\n",
    "\n",
    "print(f\"La ciudad más larga es {matriz[indice_max][1]} y su pais es {matriz[indice_max][0]}.\")"
   ]
  },
  {
   "cell_type": "markdown",
   "id": "c394a24f",
   "metadata": {},
   "source": [
    "# Reto 3\n",
    "Dada una lista de listas, con Pais y Capital, obtener el pais que corresponde a la capital con el nombre que tiene el mayor número de caracteres.  \n",
    "En caso de empate en la máxima longitud mostrar todos los resultados empatados."
   ]
  },
  {
   "cell_type": "code",
   "execution_count": null,
   "id": "7799ec08",
   "metadata": {},
   "outputs": [],
   "source": [
    "matriz = [['España','Madrid'],\n",
    "          ['Italia','Roma'],\n",
    "          ['Francia','París'],\n",
    "          ['Reino Unido','Londres'],\n",
    "          ['Alemania','Berlín'],\n",
    "          ['Suecia','Estocolmo'],\n",
    "          ['Paises Bajos','Ámsterdam']]\n",
    "\n",
    "n= len(matriz)                               # 7, nos da la longitud de la matriz\n",
    "longitud_max = 0\n",
    "\n",
    "for i in range(n):\n",
    "    if len(matriz[i][1]) > longitud_max:\n",
    "        longitud_max = len(matriz[i][1])\n",
    "        \n",
    "for j in range(n):\n",
    "    if len(matriz[j][1])==longitud_max:\n",
    "        print(f\"La capital de {matriz[j][0]} es {matriz[j][1]} y tiene {longitud_max} caracteres.\")"
   ]
  },
  {
   "cell_type": "markdown",
   "id": "aa49766f",
   "metadata": {},
   "source": [
    "# Reto 4\n",
    "Dada una lista de números enteros, de longitud entre 15 y 19 elementos, calcular el segundo mínimo y decir que posición o posiciones ocupa en la lista.  \n",
    "Programar el procedimiento para que los números de la lista y su longitud se generen de forma aleatoria."
   ]
  },
  {
   "cell_type": "code",
   "execution_count": null,
   "id": "6f25ca65",
   "metadata": {},
   "outputs": [],
   "source": [
    "import random\n",
    "random.seed()\n",
    "l = []                                  # inicializamos la lista\n",
    "for i in range(random.randint(15,19)):  # lista de longitud variable\n",
    "    l += [random.randint(1,9)]          # añadimos elementos a la lista \n",
    "l.sort(reverse=True)                    # no es necesario ordenar\n",
    "print(l)                                # imprimimos la lista antes de eliminar el mínimo\n",
    "m = min(l)                              # calculamos el mínimo\n",
    "\n",
    "while m in l:                           # mientras exista el mínimo en la lista\n",
    "    l.remove(m)                         # eliminamos de la lista todos los elementos que sean igual al mínimo\n",
    "print(l)                                # volvemos a imprimir la lista, ahora sin el minimo.\n",
    "# El nuevo mínimo de la lista actual, será lo que hemos llamado \"el segundo mínimo\"\n",
    "print(f\"El segundo mínimo de la lista es: {min(l)}, y aparece con frecuencia {l.count(min(l))}.\")  "
   ]
  },
  {
   "cell_type": "markdown",
   "id": "8c59cb2c",
   "metadata": {},
   "source": [
    "# Reto 5\n",
    "Generar 30 listas de longitud aleatoria variable, entre 2 y 4 elementos. Los números componentes de la lista son aleatorios enteros en el rango entre 1 y 3.\n",
    "Se ha de garantizar que en la lista existe máximo.  \n",
    "Indique cuantas listas se han tendio que generar para llegar a mostrar las 30 que cumplan las condiciones."
   ]
  },
  {
   "cell_type": "code",
   "execution_count": null,
   "id": "8a9f3929",
   "metadata": {},
   "outputs": [],
   "source": [
    "from random import choices, randint, seed\n",
    "seed()\n",
    "\n",
    "intentos = 0\n",
    "exitos = 0\n",
    "\n",
    "while exitos<=30:\n",
    "    intentos += 1\n",
    "    n = randint(2,4)                    # número de elementos de la lista\n",
    "    lista = choices([1,2,3], k=n)       # elegimos n elementos, con posible repetición de la lista [1,2,3]\n",
    "    if lista.count(lista[0]) != n:      # si no son todos los números son iguales\n",
    "        print(lista)                    # imprimimos una de las listas exitosas\n",
    "        exitos += 1                     # nos apuntamos un éxito\n",
    "print(f\"Se han generado un total de {intentos} listas para lograr las 30 que cumplen que existe máximo.\")"
   ]
  }
 ],
 "metadata": {
  "kernelspec": {
   "display_name": "Python 3",
   "language": "python",
   "name": "python3"
  },
  "language_info": {
   "codemirror_mode": {
    "name": "ipython",
    "version": 3
   },
   "file_extension": ".py",
   "mimetype": "text/x-python",
   "name": "python",
   "nbconvert_exporter": "python",
   "pygments_lexer": "ipython3",
   "version": "3.8.8"
  }
 },
 "nbformat": 4,
 "nbformat_minor": 5
}
