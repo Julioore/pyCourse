{
 "cells": [
  {
   "cell_type": "markdown",
   "id": "7d52a372",
   "metadata": {},
   "source": [
    "# Desafío 1\n",
    "Pedir al usuario dos números y decir cuál es el mayor, el menor o si son iguales."
   ]
  },
  {
   "cell_type": "code",
   "execution_count": null,
   "id": "5d2a8f34",
   "metadata": {},
   "outputs": [],
   "source": [
    "a = float(input(\"Indique el primer número: \"))\n",
    "b = float(input(\"Indique el segundo número: \"))\n",
    "if a>b:\n",
    "    print(f\"El mayor es {a} y el menor es {b}.\")\n",
    "elif b>a:\n",
    "    print(f\"El mayor es {b} y el menor es {a}.\")\n",
    "else:\n",
    "    print(\"Son iguales.\")"
   ]
  },
  {
   "cell_type": "markdown",
   "id": "35fd62ce",
   "metadata": {},
   "source": [
    "# Desafío 2\n",
    "Pedir un número e imprimir su doble. Seguir pididiendo números hasta que se introduzca un cero."
   ]
  },
  {
   "cell_type": "code",
   "execution_count": null,
   "id": "112226ae",
   "metadata": {},
   "outputs": [],
   "source": [
    "while True:\n",
    "    n = float(input(\"Indique el número que desea doblar: \"))\n",
    "    if n==0:\n",
    "        print(\"Fin del programa.\")\n",
    "        break\n",
    "    print(f\"El doble de {n} es {2*n}.\")"
   ]
  },
  {
   "cell_type": "markdown",
   "id": "b9f68c95",
   "metadata": {},
   "source": [
    "# Desafío 3\n",
    "Pedir un número e imprimir su doble. Seguir pididiendo números hasta que se introduzca un cero o no sea numérico."
   ]
  },
  {
   "cell_type": "code",
   "execution_count": null,
   "id": "2df11c08",
   "metadata": {},
   "outputs": [],
   "source": [
    "while True:\n",
    "    str = input(\"Indique el número que desea doblar: \")\n",
    "    try:\n",
    "        n = float(str)\n",
    "        if n==0:\n",
    "            print(\"Se ha introducido un cero.\\nFin del programa.\")\n",
    "            break\n",
    "        else:\n",
    "            print(f\"El doble de {n} es {2*n}.\")\n",
    "    except:\n",
    "        print(\"Se ha introducido un caracter no válido. \\nFin del programa.\")\n",
    "        break"
   ]
  }
 ],
 "metadata": {
  "kernelspec": {
   "display_name": "Python 3",
   "language": "python",
   "name": "python3"
  },
  "language_info": {
   "codemirror_mode": {
    "name": "ipython",
    "version": 3
   },
   "file_extension": ".py",
   "mimetype": "text/x-python",
   "name": "python",
   "nbconvert_exporter": "python",
   "pygments_lexer": "ipython3",
   "version": "3.8.8"
  }
 },
 "nbformat": 4,
 "nbformat_minor": 5
}
