{
 "cells": [
  {
   "cell_type": "markdown",
   "id": "a419beff",
   "metadata": {},
   "source": [
    "# Desafío 1\n",
    "Crear un menú."
   ]
  },
  {
   "cell_type": "markdown",
   "id": "56aa7793",
   "metadata": {},
   "source": [
    "## Método 1\n",
    "Solo un intento, sin ```while```."
   ]
  },
  {
   "cell_type": "code",
   "execution_count": null,
   "id": "9167ebe6",
   "metadata": {},
   "outputs": [],
   "source": [
    "menu = '''\n",
    "Calculadora\n",
    "\\t 1. Suma\n",
    "\\t 2. Resta\n",
    "\\t 3. Multiplica\n",
    "\\t 0. Fin\n",
    "'''\n",
    "print(menu)\n",
    "n = input(\"Elija la opción deseada.\")\n",
    "if n=='1':\n",
    "    print(\"Ha elegido Sumar.\")\n",
    "elif n=='2':\n",
    "    print(\"Ha elegido Restar.\")\n",
    "elif n=='3':\n",
    "    print(\"Ha elegido Multiplicar.\")\n",
    "elif n=='0':\n",
    "    print(\"Fin del programa\")\n",
    "else:\n",
    "    print(\"Opción no válida.\")"
   ]
  },
  {
   "cell_type": "markdown",
   "id": "6a6ccefb",
   "metadata": {},
   "source": [
    "## Método 2\n",
    "Hasta que se consiga una opción válida, usando ```while```."
   ]
  },
  {
   "cell_type": "code",
   "execution_count": null,
   "id": "2a7c7d2d",
   "metadata": {},
   "outputs": [],
   "source": [
    "while True:\n",
    "  n = int(input('''Elija el método deseado:\n",
    "     1 → Método 01\n",
    "     2 → Método 02\n",
    "     3 → Método 03\n",
    "     4 → Método 04\n",
    "     5 → Método 05\n",
    "     6 → Método 06\n",
    "     7 → Método 07\n",
    "     8 → Método 08\n",
    "     9 → Método 09\n",
    "    10 → Método 10\n",
    "    11 → Método 11\n",
    "    12 → Método 12\n",
    "    13 → Método 13\n",
    "    14 → Método 14\n",
    "     0 → Fin\n",
    "  '''))\n",
    "\n",
    "  if n==0:\n",
    "    print(\"FIN del programa.\")\n",
    "    break\n",
    "  elif 1<=n<=14:\n",
    "    print(f'El método {n} está ejecutándose ... ... ...')\n",
    "    print(f\"Se ha ejecutando el Método {n}\")\n",
    "    print(\"Puede pedir ahora la ejecución de otro método.\\n\")\n",
    "  else:\n",
    "    print('Este número no está admitido entre los disponibles.')\n",
    "    print('Elija un número para seleccionar el método deseado.')"
   ]
  },
  {
   "cell_type": "markdown",
   "id": "d3fcb00c",
   "metadata": {},
   "source": [
    "## Método 3\n",
    "Similar al método anterior pero ahora no da error si se introduce un string."
   ]
  },
  {
   "cell_type": "code",
   "execution_count": null,
   "id": "165b9518",
   "metadata": {},
   "outputs": [],
   "source": [
    "while True:\n",
    "    n_str = input('''Elija el método deseado:\n",
    "     1 → Método 01\n",
    "     2 → Método 02\n",
    "     3 → Método 03\n",
    "     4 → Método 04\n",
    "     5 → Método 05\n",
    "     6 → Método 06\n",
    "     7 → Método 07\n",
    "     8 → Método 08\n",
    "     9 → Método 09\n",
    "    10 → Método 10\n",
    "    11 → Método 11\n",
    "    12 → Método 12\n",
    "    13 → Método 13\n",
    "    14 → Método 14\n",
    "     0 → Fin\n",
    "  ''')\n",
    "    try:\n",
    "        n = int(n_str)\n",
    "        if n==0:\n",
    "            print(\"FIN del programa.\")\n",
    "            break\n",
    "        elif 1<=n<=14:\n",
    "            print(f'El método {n} está ejecutándose ... ... ...')\n",
    "            print(f\"Se ha ejecutando el Método {n}\")\n",
    "            print(\"Puede pedir ahora la ejecución de otro método.\\n\")\n",
    "        else:\n",
    "            print('Este número no está admitido entre los disponibles.')\n",
    "            print('Elija un número para seleccionar el método deseado.')\n",
    "    except:\n",
    "        print(\"Valor no válido. Debe introducir un número entre 0 y 14.\")\n",
    "        print(\"Por favor, inténtelo nuevamente.\")"
   ]
  },
  {
   "cell_type": "markdown",
   "id": "278acdde",
   "metadata": {},
   "source": [
    "## Método 4\n",
    "Similar al método anterior pero ahora los métodos se ejecutan llamando a una función."
   ]
  },
  {
   "cell_type": "code",
   "execution_count": null,
   "id": "d0744519",
   "metadata": {},
   "outputs": [],
   "source": [
    "def metodo(num):\n",
    "    return '''Se está ejecutando el método {0}.\n",
    "    ... ... ... ...\n",
    "    Ha finalizado la ejecución del método {0}.\\n\n",
    "    Por favor, elija otra opción para ejecutar el siguiente método.\n",
    "    '''.format(num)\n",
    "\n",
    "while True:\n",
    "    n_str = input('''Elija el método deseado:\n",
    "     1 → Método 01\n",
    "     2 → Método 02\n",
    "     3 → Método 03\n",
    "     4 → Método 04\n",
    "     5 → Método 05\n",
    "     6 → Método 06\n",
    "     7 → Método 07\n",
    "     8 → Método 08\n",
    "     9 → Método 09\n",
    "    10 → Método 10\n",
    "    11 → Método 11\n",
    "    12 → Método 12\n",
    "    13 → Método 13\n",
    "    14 → Método 14\n",
    "     0 → Fin\n",
    "  ''')\n",
    "    try:\n",
    "        n = int(n_str)\n",
    "        if n==0:\n",
    "            print(\"FIN del programa.\")\n",
    "            break\n",
    "        elif 1<=n<=14:\n",
    "            print(metodo(n))\n",
    "        else:\n",
    "            print('Este número no está admitido entre los disponibles.')\n",
    "            print('Elija un número para seleccionar el método deseado.')\n",
    "    except:\n",
    "        print(\"Valor no válido. Debe introducir un número entre 0 y 14.\")\n",
    "        print(\"Por favor, inténtelo nuevamente.\")"
   ]
  }
 ],
 "metadata": {
  "kernelspec": {
   "display_name": "Python 3",
   "language": "python",
   "name": "python3"
  },
  "language_info": {
   "codemirror_mode": {
    "name": "ipython",
    "version": 3
   },
   "file_extension": ".py",
   "mimetype": "text/x-python",
   "name": "python",
   "nbconvert_exporter": "python",
   "pygments_lexer": "ipython3",
   "version": "3.8.8"
  }
 },
 "nbformat": 4,
 "nbformat_minor": 5
}
