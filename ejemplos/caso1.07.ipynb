{
  "cells": [
    {
      "cell_type": "markdown",
      "metadata": {
        "id": "view-in-github",
        "colab_type": "text"
      },
      "source": [
        "<a href=\"https://colab.research.google.com/github/financieras/pyCourse/blob/main/ejemplos/caso1.07.ipynb\" target=\"_parent\"><img src=\"https://colab.research.google.com/assets/colab-badge.svg\" alt=\"Open In Colab\"/></a>"
      ]
    },
    {
      "cell_type": "markdown",
      "id": "56e349bb",
      "metadata": {
        "id": "56e349bb"
      },
      "source": [
        "# Reto 1\n",
        "Generar 10 números aleatorios entre 100 y 200 y calcular su media."
      ]
    },
    {
      "cell_type": "markdown",
      "source": [
        "## Método 1\n",
        "Lista de aleatorios con posible repetición."
      ],
      "metadata": {
        "id": "A_-cHU4onVH3"
      },
      "id": "A_-cHU4onVH3"
    },
    {
      "cell_type": "code",
      "execution_count": null,
      "id": "ccd39884",
      "metadata": {
        "id": "ccd39884"
      },
      "outputs": [],
      "source": [
        "from random import randint\n",
        "from statistics import mean\n",
        "\n",
        "def generaLista():\n",
        "    lista = []\n",
        "    for i in range(10):\n",
        "        lista.append(randint(100,200))\n",
        "    return lista\n",
        "\n",
        "lista = generaLista()\n",
        "print(lista)\n",
        "print(\"La media es\", mean(lista))"
      ]
    },
    {
      "cell_type": "markdown",
      "source": [
        "## Método 2\n",
        "Lista de aleatorios sin repetición."
      ],
      "metadata": {
        "id": "7he_5sOQndSA"
      },
      "id": "7he_5sOQndSA"
    },
    {
      "cell_type": "code",
      "source": [
        "from random import sample\n",
        "\n",
        "l = sample(range(100,201),10)\n",
        "print(sorted(l))\n",
        "print(f\"Media: {sum(l)/len(l)}\")"
      ],
      "metadata": {
        "id": "IbtmffQchGhu"
      },
      "id": "IbtmffQchGhu",
      "execution_count": null,
      "outputs": []
    }
  ],
  "metadata": {
    "kernelspec": {
      "display_name": "Python 3",
      "language": "python",
      "name": "python3"
    },
    "language_info": {
      "codemirror_mode": {
        "name": "ipython",
        "version": 3
      },
      "file_extension": ".py",
      "mimetype": "text/x-python",
      "name": "python",
      "nbconvert_exporter": "python",
      "pygments_lexer": "ipython3",
      "version": "3.8.8"
    },
    "colab": {
      "name": "caso1.07.ipynb",
      "provenance": [],
      "include_colab_link": true
    }
  },
  "nbformat": 4,
  "nbformat_minor": 5
}