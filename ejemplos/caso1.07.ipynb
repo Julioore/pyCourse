{
  "cells": [
    {
      "cell_type": "markdown",
      "metadata": {
        "id": "view-in-github",
        "colab_type": "text"
      },
      "source": [
        "<a href=\"https://colab.research.google.com/github/financieras/pyCourse/blob/main/ejemplos/caso1.07.ipynb\" target=\"_parent\"><img src=\"https://colab.research.google.com/assets/colab-badge.svg\" alt=\"Open In Colab\"/></a>"
      ]
    },
    {
      "cell_type": "markdown",
      "id": "56e349bb",
      "metadata": {
        "id": "56e349bb"
      },
      "source": [
        "# Reto 1\n",
        "Generar 10 números aleatorios entre 100 y 200 y calcular su media."
      ]
    },
    {
      "cell_type": "code",
      "execution_count": null,
      "id": "ccd39884",
      "metadata": {
        "id": "ccd39884"
      },
      "outputs": [],
      "source": [
        "from random import randint\n",
        "from statistics import mean\n",
        "\n",
        "def generaLista():\n",
        "    lista = []\n",
        "    for i in range(10):\n",
        "        lista.append(randint(100,200))\n",
        "    return lista\n",
        "\n",
        "lista = generaLista()\n",
        "print(lista)\n",
        "print(\"La media es\", mean(lista))"
      ]
    }
  ],
  "metadata": {
    "kernelspec": {
      "display_name": "Python 3",
      "language": "python",
      "name": "python3"
    },
    "language_info": {
      "codemirror_mode": {
        "name": "ipython",
        "version": 3
      },
      "file_extension": ".py",
      "mimetype": "text/x-python",
      "name": "python",
      "nbconvert_exporter": "python",
      "pygments_lexer": "ipython3",
      "version": "3.8.8"
    },
    "colab": {
      "name": "caso1.07.ipynb",
      "provenance": [],
      "include_colab_link": true
    }
  },
  "nbformat": 4,
  "nbformat_minor": 5
}