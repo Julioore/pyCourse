{
  "nbformat": 4,
  "nbformat_minor": 0,
  "metadata": {
    "colab": {
      "name": " caso3_09.ipynb ",
      "provenance": [],
      "authorship_tag": "ABX9TyMGCcOsYz5hbRMiS5yiLrHS",
      "include_colab_link": true
    },
    "kernelspec": {
      "name": "python3",
      "display_name": "Python 3"
    },
    "language_info": {
      "name": "python"
    }
  },
  "cells": [
    {
      "cell_type": "markdown",
      "metadata": {
        "id": "view-in-github",
        "colab_type": "text"
      },
      "source": [
        "<a href=\"https://colab.research.google.com/github/financieras/pyCourse/blob/main/ejemplos/caso3_09.ipynb\" target=\"_parent\"><img src=\"https://colab.research.google.com/assets/colab-badge.svg\" alt=\"Open In Colab\"/></a>"
      ]
    },
    {
      "cell_type": "markdown",
      "source": [
        "# Reto 1\n",
        "Estudie los archivos:\n",
        "\n",
        "* calisto3_0260.ipynb VAN y TIR\n",
        "* calisto3_0270.ipynb Préstamos\n",
        "* calisto3_0280.ipynb Bonos, ETTI, forward, arbitraje"
      ],
      "metadata": {
        "id": "HKTOPFbwEZaG"
      }
    }
  ]
}