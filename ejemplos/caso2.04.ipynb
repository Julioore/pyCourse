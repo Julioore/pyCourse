{
  "cells": [
    {
      "cell_type": "markdown",
      "metadata": {
        "id": "view-in-github",
        "colab_type": "text"
      },
      "source": [
        "<a href=\"https://colab.research.google.com/github/financieras/pyCourse/blob/main/ejemplos/caso2.04.ipynb\" target=\"_parent\"><img src=\"https://colab.research.google.com/assets/colab-badge.svg\" alt=\"Open In Colab\"/></a>"
      ]
    },
    {
      "cell_type": "markdown",
      "id": "cf52ab8b",
      "metadata": {
        "id": "cf52ab8b"
      },
      "source": [
        "# Reto 1\n",
        "* Cree una clase llamada **Punto3D** para puntos en el espacio tridimensional, con sus tres coordenadas x, y, z.\n",
        " - Implemente el método **constructor** para crear puntos fácilmente. Si no se recibe una coordenada, su valor será cero.\n",
        " - Sobrescriba el método **string** ```__str__```, para que al imprimir por pantalla un punto aparezca en formato (x,y,z).\n",
        " - Implemente el método **vector**, que toma otro punto y calcula el vector resultante entre los dos puntos.\n",
        " - Implemente el método **distancia**, que toma otro punto y calcule la distancia entre ambos puntos."
      ]
    },
    {
      "cell_type": "markdown",
      "id": "683de678",
      "metadata": {
        "id": "683de678"
      },
      "source": [
        "## Solución\n",
        "En el espacio tridimensional, dados dos puntos P y Q de coordenadas\n",
        "\n",
        "$$P=(p_1,p_2,p_3)$$\n",
        "$$Q=(q_1,q_2,q_3)$$\n",
        "\n",
        "podemos calcular el vector PQ que va entre ambos, con origen en P y final en Q, restando sus componentes de la siguiente forma:\n",
        "$$PQ = Q-P = (q_1,q_2,q_3) - (p_1,p_2,p_3) = (q_1-p_1,q_2-p_2,q_3-p_3)$$\n",
        "\n",
        "La distancia entre dos puntos es su norma y se calcula como la raiz cuadrada de la diferencia de componentes al cuadrado.\n",
        "$$|PQ| = |QP| = \\sqrt{(q_1-p_1)²+(q_2-p_2)²+(q_3-p_3)²}$$"
      ]
    },
    {
      "cell_type": "code",
      "execution_count": 1,
      "id": "e285df71",
      "metadata": {
        "id": "e285df71",
        "outputId": "2333a7f1-2961-4104-81f7-6cfb7b6c262d",
        "colab": {
          "base_uri": "https://localhost:8080/"
        }
      },
      "outputs": [
        {
          "output_type": "stream",
          "name": "stdout",
          "text": [
            "Punto p: (1,2,3)\n",
            "Punto q: (3,5,8)\n",
            "El vector entre (1,2,3) y (3,5,8) es (2,3,5)\n",
            "El vector entre (3,5,8) y (1,2,3) es (-2,-3,-5)\n",
            "La distancia entre (1,2,3) y (3,5,8) es 6.164414002968976\n",
            "La distancia entre (3,5,8) y (1,2,3) es 6.164414002968976\n"
          ]
        }
      ],
      "source": [
        "import math\n",
        "\n",
        "class Punto3D:\n",
        "    def __init__(self, x=0, y=0, z=0):\n",
        "        self.x = x\n",
        "        self.y = y\n",
        "        self.z = z\n",
        "    def __str__(self):\n",
        "        return f\"({self.x},{self.y},{self.z})\"\n",
        "    def vector(self,q):\n",
        "        return f\"El vector entre {self} y {q} es ({q.x-self.x},{q.y-self.y},{q.z-self.z})\"\n",
        "    def distancia(self,q):\n",
        "        return f\"La distancia entre {self} y {q} es {math.sqrt((q.x-self.x)**2+(q.y-self.y)**2+(q.z-self.z)**2)}\"\n",
        "\n",
        "p = Punto3D(1,2,3)\n",
        "q = Punto3D(3,5,8)\n",
        "print(\"Punto p:\",p)\n",
        "print(\"Punto q:\",q)\n",
        "print(p.vector(q))\n",
        "print(q.vector(p))\n",
        "print(p.distancia(q))\n",
        "print(q.distancia(p))                                                             "
      ]
    },
    {
      "cell_type": "markdown",
      "id": "052f12b9",
      "metadata": {
        "id": "052f12b9"
      },
      "source": [
        "## Reto 2\n",
        "Crear una función que diga en que cuadrante está un punto del plano definido por sus coordenadas cartesianas (x,y)."
      ]
    },
    {
      "cell_type": "code",
      "execution_count": 5,
      "id": "5a00731c",
      "metadata": {
        "id": "5a00731c",
        "outputId": "af21454e-22ba-4c1e-c5e2-0e138e446f75",
        "colab": {
          "base_uri": "https://localhost:8080/"
        }
      },
      "outputs": [
        {
          "output_type": "stream",
          "name": "stdout",
          "text": [
            "Punto (3,4) esta en el Primer cuadrante.\n",
            "Punto (-2,5) esta en el Segundo cuadrante.\n",
            "Punto (-1,-1) esta en el Tercer cuadrante.\n",
            "Punto (3,-6) esta en el Cuarto cuadrante.\n",
            "Punto (0,0) esta en el Origen.\n"
          ]
        }
      ],
      "source": [
        "def cuadrante(x,y):\n",
        "    if x > 0 and y > 0: return \"Primer cuadrante.\"\n",
        "    elif x < 0 and y > 0: return \"Segundo cuadrante.\"\n",
        "    elif x < 0 and y < 0: return \"Tercer cuadrante.\"\n",
        "    elif x > 0 and y < 0: return \"Cuarto cuadrante.\"\n",
        "    else: return \"Origen.\"\n",
        "\n",
        "x,y = 3,4\n",
        "print(f\"Punto ({x},{y}) esta en el {cuadrante(x,y)}\")\n",
        "\n",
        "x,y = -2,5\n",
        "print(f\"Punto ({x},{y}) esta en el {cuadrante(x,y)}\")\n",
        "\n",
        "x,y = -1,-1\n",
        "print(f\"Punto ({x},{y}) esta en el {cuadrante(x,y)}\")\n",
        "\n",
        "x,y = 3,-6\n",
        "print(f\"Punto ({x},{y}) esta en el {cuadrante(x,y)}\")\n",
        "\n",
        "x,y = 0,0\n",
        "print(f\"Punto ({x},{y}) esta en el {cuadrante(x,y)}\")"
      ]
    },
    {
      "cell_type": "markdown",
      "source": [
        "# Reto 3 Herencia\n",
        "* Crear la clase Punto\n",
        " - El punto viene expresado por sus coordenadas (x,y) en el plano cartesiano\n",
        " - Si no se reciben coordenadas el contructor les asigna el origen\n",
        "* Crear la clase Triangulo que hereda de la clase Punto\n",
        " - Un triángulo en el plano viene definido por sus tres vértices\n",
        " - Crear un método que calcule el área del triángulo\n"
      ],
      "metadata": {
        "id": "LStUJtGnVY5N"
      },
      "id": "LStUJtGnVY5N"
    },
    {
      "cell_type": "code",
      "source": [
        "class Punto():\n",
        "    def __init__(self, x=0, y=0):\n",
        "        self.x = x\n",
        "        self.y = y\n",
        "\n",
        "class Triangulo(Punto):   # la clase Triangulo hereda de la clase Punto, se pone dentro del paréntesis\n",
        "    def __init__(self, a=Punto(), b=Punto(), c=Punto()):\n",
        "        self.a = a\n",
        "        self.b = b\n",
        "        self.c = c\n",
        "    def area(self):\n",
        "        return abs(self.a.x * self.b.y +\n",
        "                   self.b.x * self.c.y +\n",
        "                   self.c.x * self.a.y -\n",
        "                   self.a.x * self.c.y -\n",
        "                   self.c.x * self.b.y -\n",
        "                   self.b.x * self.a.y) / 2.0\n",
        "\n",
        "a = Punto()\n",
        "b = Punto(10,0)\n",
        "c = Punto(5,20)\n",
        "tri = Triangulo(a,b,c)\n",
        "tri.area()"
      ],
      "metadata": {
        "id": "zd1o1vw5WONl",
        "outputId": "ae104b42-9c0c-488e-ffb0-91cceefd3f49",
        "colab": {
          "base_uri": "https://localhost:8080/"
        }
      },
      "id": "zd1o1vw5WONl",
      "execution_count": 4,
      "outputs": [
        {
          "output_type": "execute_result",
          "data": {
            "text/plain": [
              "100.0"
            ]
          },
          "metadata": {},
          "execution_count": 4
        }
      ]
    }
  ],
  "metadata": {
    "kernelspec": {
      "display_name": "Python 3",
      "language": "python",
      "name": "python3"
    },
    "language_info": {
      "codemirror_mode": {
        "name": "ipython",
        "version": 3
      },
      "file_extension": ".py",
      "mimetype": "text/x-python",
      "name": "python",
      "nbconvert_exporter": "python",
      "pygments_lexer": "ipython3",
      "version": "3.8.8"
    },
    "colab": {
      "name": "caso2.04.ipynb",
      "provenance": [],
      "include_colab_link": true
    }
  },
  "nbformat": 4,
  "nbformat_minor": 5
}