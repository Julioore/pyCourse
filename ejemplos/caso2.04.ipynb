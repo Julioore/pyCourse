{
 "cells": [
  {
   "cell_type": "markdown",
   "id": "cf52ab8b",
   "metadata": {},
   "source": [
    "# Reto 1\n",
    "* Cree una clase llamada **Punto3D** para puntos en el espacio con sus tres coordenadas x, y, z.\n",
    " - Implemente el método **constructor** para crear puntos fácilmente. Si no se recibe una coordenada, su valor será cero.\n",
    " - Sobreescribe el método **string** ```__str__```, para que al imprimir por pantalla un punto aparezca en formato (x,y,z).\n",
    " - Implemente el método **vector**, que toma otro punto y calcula el vector resultante entre los dos puntos.\n",
    " - Implemente el método **distancia**, que toma otro punto y calcule y muestra la distancia entre ambos puntos."
   ]
  },
  {
   "cell_type": "code",
   "execution_count": 17,
   "id": "e285df71",
   "metadata": {},
   "outputs": [
    {
     "name": "stdout",
     "output_type": "stream",
     "text": [
      "punto (1,2,3)\n"
     ]
    }
   ],
   "source": [
    "class Punto3D:\n",
    "    def __init__(self,x=0,y=0,z=0):\n",
    "        self.x = x\n",
    "        self.y = y\n",
    "        self.z = z\n",
    "    def __str__(self):\n",
    "        return f\"punto ({self.x},{self.y},{self.z})\"\n",
    "    def vector(self,punto):\n",
    "        pass\n",
    "    def distancia(self,punto):\n",
    "        pass\n",
    "\n",
    "p1 = Punto3D(1,2,3)\n",
    "print(p1)"
   ]
  },
  {
   "cell_type": "markdown",
   "id": "052f12b9",
   "metadata": {},
   "source": [
    "## Reto 2\n",
    "Crear una función que diga en que cuadrante está un punto del plano definido por sus coordenadas cartesianas (x,y)."
   ]
  },
  {
   "cell_type": "code",
   "execution_count": 16,
   "id": "5a00731c",
   "metadata": {},
   "outputs": [
    {
     "name": "stdout",
     "output_type": "stream",
     "text": [
      "Punto (3,4) esta en el Primer cuadrante.\n",
      "Punto (-2,5) esta en el Segundo cuadrante.\n",
      "Punto (-1,-1) esta en el Tercer cuadrante.\n",
      "Punto (3,-6) esta en el Cuarto cuadrante.\n",
      "Punto (0,0) esta en el Origen.\n"
     ]
    }
   ],
   "source": [
    "def cuadrante(x,y):\n",
    "    if x>0 and y>0: return \"Primer cuadrante.\"\n",
    "    elif x<0 and y>0: return \"Segundo cuadrante.\"\n",
    "    elif x<0 and y<0: return \"Tercer cuadrante.\"\n",
    "    elif x>0 and y<0: return \"Cuarto cuadrante.\"\n",
    "    else: return \"Origen.\"\n",
    "\n",
    "x,y = 3,4\n",
    "print(f\"Punto ({x},{y}) esta en el {cuadrante(x,y)}\")\n",
    "\n",
    "x,y = -2,5\n",
    "print(f\"Punto ({x},{y}) esta en el {cuadrante(x,y)}\")\n",
    "\n",
    "x,y = -1,-1\n",
    "print(f\"Punto ({x},{y}) esta en el {cuadrante(x,y)}\")\n",
    "\n",
    "x,y = 3,-6\n",
    "print(f\"Punto ({x},{y}) esta en el {cuadrante(x,y)}\")\n",
    "\n",
    "x,y = 0,0\n",
    "print(f\"Punto ({x},{y}) esta en el {cuadrante(x,y)}\")"
   ]
  },
  {
   "cell_type": "code",
   "execution_count": null,
   "id": "8f1c9ba3",
   "metadata": {},
   "outputs": [],
   "source": []
  }
 ],
 "metadata": {
  "kernelspec": {
   "display_name": "Python 3",
   "language": "python",
   "name": "python3"
  },
  "language_info": {
   "codemirror_mode": {
    "name": "ipython",
    "version": 3
   },
   "file_extension": ".py",
   "mimetype": "text/x-python",
   "name": "python",
   "nbconvert_exporter": "python",
   "pygments_lexer": "ipython3",
   "version": "3.8.8"
  }
 },
 "nbformat": 4,
 "nbformat_minor": 5
}
