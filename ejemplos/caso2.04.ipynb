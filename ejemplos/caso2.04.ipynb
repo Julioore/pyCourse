{
 "cells": [
  {
   "cell_type": "markdown",
   "id": "cf52ab8b",
   "metadata": {},
   "source": [
    "# Reto 1\n",
    "* Cree una clase llamada **Punto3D** para puntos en el espacio tridimensional, con sus tres coordenadas x, y, z.\n",
    " - Implemente el método **constructor** para crear puntos fácilmente. Si no se recibe una coordenada, su valor será cero.\n",
    " - Sobreescriba el método **string** ```__str__```, para que al imprimir por pantalla un punto aparezca en formato (x,y,z).\n",
    " - Implemente el método **vector**, que toma otro punto y calcula el vector resultante entre los dos puntos.\n",
    " - Implemente el método **distancia**, que toma otro punto y calcule la distancia entre ambos puntos."
   ]
  },
  {
   "cell_type": "markdown",
   "id": "683de678",
   "metadata": {},
   "source": [
    "## Solución\n",
    "En el espacio tridimensional, dados dos puntos P y Q de coordenadas\n",
    "\n",
    "$$P=(p_1,p_2,p_3)$$\n",
    "$$Q=(q_1,q_2,q_3)$$\n",
    "\n",
    "podemos calcular el vector PQ que va entre ambos, con origen en P y final en Q, restando sus componentes de la siguiente forma:\n",
    "$$PQ = Q-P = (q_1,q_2,q_3) - (p_1,p_2,p_3) = (q_1-p_1,q_2-p_2,q_3-p_3)$$\n",
    "\n",
    "La distancia entre dos puntos es su norma y se calcula como la raiz cuadrada de la diferencia de componentes al cuadrado.\n",
    "$$|PQ| = |QP| = \\sqrt{(q_1-p_1)²+(q_2-p_2)²+(q_3-p_3)²}$$"
   ]
  },
  {
   "cell_type": "code",
   "execution_count": null,
   "id": "e285df71",
   "metadata": {},
   "outputs": [],
   "source": [
    "import math\n",
    "\n",
    "class Punto3D:\n",
    "    def __init__(self,x=0,y=0,z=0):\n",
    "        self.x = x\n",
    "        self.y = y\n",
    "        self.z = z\n",
    "    def __str__(self):\n",
    "        return f\"({self.x},{self.y},{self.z})\"\n",
    "    def vector(self,q):\n",
    "        return f\"El vector entre {self} y {q} es ({q.x-self.x},{q.y-self.y},{q.z-self.z})\"\n",
    "    def distancia(self,q):\n",
    "        return f\"La distancia entre {self} y {q} es {math.sqrt((q.x-self.x)**2+(q.y-self.y)**2+(q.z-self.z)**2)}\"\n",
    "\n",
    "p = Punto3D(1,2,3)\n",
    "q = Punto3D(3,5,8)\n",
    "print(\"Punto p:\",p)\n",
    "print(\"Punto q:\",q)\n",
    "print(p.vector(q))\n",
    "print(q.vector(p))\n",
    "print(p.distancia(q))\n",
    "print(q.distancia(p))                                                             "
   ]
  },
  {
   "cell_type": "markdown",
   "id": "052f12b9",
   "metadata": {},
   "source": [
    "## Reto 2\n",
    "Crear una función que diga en que cuadrante está un punto del plano definido por sus coordenadas cartesianas (x,y)."
   ]
  },
  {
   "cell_type": "code",
   "execution_count": null,
   "id": "5a00731c",
   "metadata": {},
   "outputs": [],
   "source": [
    "def cuadrante(x,y):\n",
    "    if x>0 and y>0: return \"Primer cuadrante.\"\n",
    "    elif x<0 and y>0: return \"Segundo cuadrante.\"\n",
    "    elif x<0 and y<0: return \"Tercer cuadrante.\"\n",
    "    elif x>0 and y<0: return \"Cuarto cuadrante.\"\n",
    "    else: return \"Origen.\"\n",
    "\n",
    "x,y = 3,4\n",
    "print(f\"Punto ({x},{y}) esta en el {cuadrante(x,y)}\")\n",
    "\n",
    "x,y = -2,5\n",
    "print(f\"Punto ({x},{y}) esta en el {cuadrante(x,y)}\")\n",
    "\n",
    "x,y = -1,-1\n",
    "print(f\"Punto ({x},{y}) esta en el {cuadrante(x,y)}\")\n",
    "\n",
    "x,y = 3,-6\n",
    "print(f\"Punto ({x},{y}) esta en el {cuadrante(x,y)}\")\n",
    "\n",
    "x,y = 0,0\n",
    "print(f\"Punto ({x},{y}) esta en el {cuadrante(x,y)}\")"
   ]
  }
 ],
 "metadata": {
  "kernelspec": {
   "display_name": "Python 3",
   "language": "python",
   "name": "python3"
  },
  "language_info": {
   "codemirror_mode": {
    "name": "ipython",
    "version": 3
   },
   "file_extension": ".py",
   "mimetype": "text/x-python",
   "name": "python",
   "nbconvert_exporter": "python",
   "pygments_lexer": "ipython3",
   "version": "3.8.8"
  }
 },
 "nbformat": 4,
 "nbformat_minor": 5
}
