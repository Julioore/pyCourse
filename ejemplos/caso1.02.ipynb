{
  "nbformat": 4,
  "nbformat_minor": 0,
  "metadata": {
    "colab": {
      "name": "caso1.02.ipynb",
      "provenance": [],
      "authorship_tag": "ABX9TyNK/ckJbuhGV2qpEqijWl/u",
      "include_colab_link": true
    },
    "kernelspec": {
      "name": "python3",
      "display_name": "Python 3"
    },
    "language_info": {
      "name": "python"
    }
  },
  "cells": [
    {
      "cell_type": "markdown",
      "metadata": {
        "id": "view-in-github",
        "colab_type": "text"
      },
      "source": [
        "<a href=\"https://colab.research.google.com/github/financieras/pyCourse/blob/main/ejemplos/caso1.02.ipynb\" target=\"_parent\"><img src=\"https://colab.research.google.com/assets/colab-badge.svg\" alt=\"Open In Colab\"/></a>"
      ]
    },
    {
      "cell_type": "markdown",
      "metadata": {
        "id": "9c29ab14"
      },
      "source": [
        "# Reto 1\n",
        "* Decir si un número es par o impar.\n",
        "* El cero se considera par."
      ]
    },
    {
      "cell_type": "markdown",
      "metadata": {
        "id": "30d8ec86"
      },
      "source": [
        "## Método 1"
      ]
    },
    {
      "cell_type": "code",
      "execution_count": null,
      "metadata": {
        "id": "4a8524fb"
      },
      "outputs": [],
      "source": [
        "n = 4\n",
        "if n%2 == 0:\n",
        "    print(f\"El número {n} es par.\")\n",
        "else:\n",
        "    print(f\"El número {n} es impar.\")"
      ]
    },
    {
      "cell_type": "markdown",
      "metadata": {
        "id": "833cc369"
      },
      "source": [
        "## Método 2\n",
        "* Con este método no necesitamos igualar a nada la condición del `if`.\n",
        "* En informática:\n",
        " - Un `True` es un 1\n",
        " - Un `False` es un 0\n",
        "* El operador lógico `not` convierte un `True` en un `False` y viceversa."
      ]
    },
    {
      "cell_type": "code",
      "execution_count": null,
      "metadata": {
        "id": "8560e69b"
      },
      "outputs": [],
      "source": [
        "n = 4\n",
        "if not(n%2):                              # No se iguala a nada. False es cero y True es 1\n",
        "    print(f\"El número {n} es par.\")\n",
        "else:\n",
        "    print(f\"El número {n} es impar.\")"
      ]
    },
    {
      "cell_type": "markdown",
      "source": [
        "## Método 3\n",
        "* Similar al método anterior\n",
        "* Ahora detectamos si n es impar, ya que:\n",
        " - si n es impar, entonces n%2 da 1, que equivale a un True\n",
        " - si n es par, sería el otro caso, cuando n%2 da 0, que equivale a False"
      ],
      "metadata": {
        "id": "pMr3vj4YcOs_"
      }
    },
    {
      "cell_type": "code",
      "source": [
        "n = 7\n",
        "\n",
        "if n % 2:\n",
        "    print(f\"{n} es impar\")\n",
        "else:\n",
        "    print(f\"{n} es par\")"
      ],
      "metadata": {
        "id": "bwIN1WZ0cyf8"
      },
      "execution_count": null,
      "outputs": []
    },
    {
      "cell_type": "markdown",
      "metadata": {
        "id": "f1303621"
      },
      "source": [
        "# Reto 2\n",
        "Listar los números entre 9 y 129 en saltos de 15 en 15."
      ]
    },
    {
      "cell_type": "code",
      "execution_count": null,
      "metadata": {
        "id": "d9f20534"
      },
      "outputs": [],
      "source": [
        "print(range(9,130,15))           # genera un objeto de tipo range, pero no vemos los números"
      ]
    },
    {
      "cell_type": "code",
      "execution_count": null,
      "metadata": {
        "id": "5aaf8ac6"
      },
      "outputs": [],
      "source": [
        "print(list(range(9,130,15)))     # con list convertimos el objeto range en una lista"
      ]
    },
    {
      "cell_type": "markdown",
      "metadata": {
        "id": "aa9682e6"
      },
      "source": [
        "## Método 1"
      ]
    },
    {
      "cell_type": "code",
      "execution_count": null,
      "metadata": {
        "id": "03399ac4"
      },
      "outputs": [],
      "source": [
        "# podemos imprimir la lista\n",
        "for i in list(range(9,130,15)):  # la variable auxiliar i recorre todos los elementos de la lista\n",
        "    print(i)"
      ]
    },
    {
      "cell_type": "markdown",
      "metadata": {
        "id": "bf446f47"
      },
      "source": [
        "## Método 2"
      ]
    },
    {
      "cell_type": "code",
      "execution_count": null,
      "metadata": {
        "id": "29372cdc"
      },
      "outputs": [],
      "source": [
        "# otra forma de listar los números usando enumerate\n",
        "lista = list(range(9,130,15))\n",
        "for i,v in enumerate(lista):      # i es el index, v es el valor\n",
        "    print(f\"{i} → {v:3d}\")"
      ]
    },
    {
      "cell_type": "markdown",
      "source": [
        "# Reto 3\n",
        "* Pedir dos números\n",
        "* El primer númeo ha de ser el menor\n",
        "* El segundo número ha de ser el mayor\n",
        "* Si no se cumple que el segundo número es mayor o igual al primero:\n",
        " - avisar al usuario\n",
        " - seguir pidiendo números hasta que se cumpla la condición n2 >= n1\n",
        "* Dar la diferencia entre ambos"
      ],
      "metadata": {
        "id": "2cUo_T2hdLxH"
      }
    },
    {
      "cell_type": "code",
      "source": [
        "while True:\n",
        "    print(\"Se pedirán dos números, el segundo debe ser mayor o igual al primero.\")\n",
        "    n1 = float(input(\"Indique el primer número: \"))   # float convierte un string en un número con decimales\n",
        "    n2 = float(input(\"Indique el segundo número: \"))\n",
        "    if n2 >= n1:\n",
        "        print(f\"La diferencia entre {n2} y {n1} es {n2-n1}\")\n",
        "        print(\"Fin del programa\")\n",
        "        break\n",
        "    else:\n",
        "        print(\"El segundo número ha de ser necesariamente mayor o igual al primero.\")\n",
        "        print(\"Por favor, vuelva a intentarlo.\")\n",
        "        print(\"=\"*70)"
      ],
      "metadata": {
        "id": "Tkz81XayduRk"
      },
      "execution_count": null,
      "outputs": []
    },
    {
      "cell_type": "markdown",
      "source": [
        "# Reto 4\n",
        "Pedir al usuario un número entero y mostrarlo en pantalla."
      ],
      "metadata": {
        "id": "PEI4A6o0aJ2m"
      }
    },
    {
      "cell_type": "code",
      "source": [
        "while True:\n",
        "    try:\n",
        "        n =int(input(\"Indique un número entero: \"))   # int convierte un string en un entero\n",
        "        print(f\"El número introducido ha sido: {n}.\")\n",
        "        print(\"Fin del programa.\")\n",
        "        break\n",
        "    except:\n",
        "        print(\"El valor introducido no es un número entero.\")\n",
        "        print(\"Por favor, vuelva a intentarlo.\")\n",
        "        print(\"=\"*50)\n"
      ],
      "metadata": {
        "id": "7YfCzTI-aZHo"
      },
      "execution_count": null,
      "outputs": []
    }
  ]
}