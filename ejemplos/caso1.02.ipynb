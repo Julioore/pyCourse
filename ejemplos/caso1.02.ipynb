{
  "nbformat": 4,
  "nbformat_minor": 0,
  "metadata": {
    "colab": {
      "name": "caso1.02.ipynb",
      "provenance": [],
      "authorship_tag": "ABX9TyNneaB0u/5UV93WMPgjZexp",
      "include_colab_link": true
    },
    "kernelspec": {
      "name": "python3",
      "display_name": "Python 3"
    },
    "language_info": {
      "name": "python"
    }
  },
  "cells": [
    {
      "cell_type": "markdown",
      "metadata": {
        "id": "view-in-github",
        "colab_type": "text"
      },
      "source": [
        "<a href=\"https://colab.research.google.com/github/financieras/pyCourse/blob/main/ejemplos/caso1.02.ipynb\" target=\"_parent\"><img src=\"https://colab.research.google.com/assets/colab-badge.svg\" alt=\"Open In Colab\"/></a>"
      ]
    },
    {
      "cell_type": "code",
      "execution_count": null,
      "metadata": {
        "id": "UWSD-XwsOieN"
      },
      "outputs": [],
      "source": [
        ""
      ]
    },
    {
      "cell_type": "markdown",
      "metadata": {
        "id": "9c29ab14"
      },
      "source": [
        "# Reto 1\n",
        "* Decir si un número es par o impar.\n",
        "* El cero se considera par."
      ]
    },
    {
      "cell_type": "markdown",
      "metadata": {
        "id": "30d8ec86"
      },
      "source": [
        "## Método 1"
      ]
    },
    {
      "cell_type": "code",
      "execution_count": null,
      "metadata": {
        "id": "4a8524fb"
      },
      "outputs": [],
      "source": [
        "n = 4\n",
        "if n%2 == 0:\n",
        "    print(f\"El número {n} es par.\")\n",
        "else:\n",
        "    print(f\"El número {n} es impar.\")"
      ]
    },
    {
      "cell_type": "markdown",
      "metadata": {
        "id": "833cc369"
      },
      "source": [
        "## Método 2\n",
        "* Con este método no necesitamos igualar a nada la condición del `if`.\n",
        "* En informática:\n",
        " - Un `True` es un 1\n",
        " - Un `False` es un 0\n",
        "* El operador lógico `not` convierte un `True` en un `False` y viceversa."
      ]
    },
    {
      "cell_type": "code",
      "execution_count": null,
      "metadata": {
        "id": "8560e69b"
      },
      "outputs": [],
      "source": [
        "n = 4\n",
        "if not(n%2):                              # No se iguala a nada. False es cero y True es 1\n",
        "    print(f\"El número {n} es par.\")\n",
        "else:\n",
        "    print(f\"El número {n} es impar.\")"
      ]
    },
    {
      "cell_type": "markdown",
      "metadata": {
        "id": "f1303621"
      },
      "source": [
        "# Reto 2\n",
        "Listar los números entre 9 y 27 en saltos de 3 en 3."
      ]
    },
    {
      "cell_type": "code",
      "execution_count": null,
      "metadata": {
        "id": "d9f20534"
      },
      "outputs": [],
      "source": [
        "print(range(9,28,3))           # genera un objeto de tipo range, pero no vemos los números"
      ]
    },
    {
      "cell_type": "code",
      "execution_count": null,
      "metadata": {
        "id": "5aaf8ac6"
      },
      "outputs": [],
      "source": [
        "print(list(range(9,28,3)))     # con list convertimos el objeto range en una lista"
      ]
    },
    {
      "cell_type": "markdown",
      "metadata": {
        "id": "aa9682e6"
      },
      "source": [
        "## Método 1"
      ]
    },
    {
      "cell_type": "code",
      "execution_count": null,
      "metadata": {
        "id": "03399ac4"
      },
      "outputs": [],
      "source": [
        "# podemos imprimir la lista\n",
        "for i in list(range(9,28,3)):  # la variable auxiliar i recorre todos los elementos de la lista\n",
        "    print(i)"
      ]
    },
    {
      "cell_type": "markdown",
      "metadata": {
        "id": "bf446f47"
      },
      "source": [
        "## Método 2"
      ]
    },
    {
      "cell_type": "code",
      "execution_count": null,
      "metadata": {
        "id": "29372cdc"
      },
      "outputs": [],
      "source": [
        "# otra forma de listar los números usando enumerate\n",
        "lista = list(range(9,28,3))\n",
        "for k,v in enumerate(lista):      # k es la clave, v es el valor\n",
        "    print(v)"
      ]
    }
  ]
}