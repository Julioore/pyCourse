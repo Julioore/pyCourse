{
 "cells": [
  {
   "cell_type": "markdown",
   "id": "da1a5cab",
   "metadata": {},
   "source": [
    "# Pista 1\n",
    "Imprimir los números entre -5 y 5."
   ]
  },
  {
   "cell_type": "code",
   "execution_count": null,
   "id": "5eadc27f",
   "metadata": {},
   "outputs": [],
   "source": [
    "for i in range(-5,6):\n",
    "    print(i)"
   ]
  },
  {
   "cell_type": "markdown",
   "id": "db647a0b",
   "metadata": {},
   "source": [
    "# Pista 2\n",
    "Elevar 5 al cubo."
   ]
  },
  {
   "cell_type": "markdown",
   "id": "c37ba486",
   "metadata": {},
   "source": [
    "## Método 1"
   ]
  },
  {
   "cell_type": "code",
   "execution_count": null,
   "id": "1b7c4c0a",
   "metadata": {},
   "outputs": [],
   "source": [
    "print(5**3)"
   ]
  },
  {
   "cell_type": "markdown",
   "id": "9d22b0ca",
   "metadata": {},
   "source": [
    "## Método 2"
   ]
  },
  {
   "cell_type": "code",
   "execution_count": null,
   "id": "46de504e",
   "metadata": {},
   "outputs": [],
   "source": [
    "from math import pow\n",
    "print(pow(5,3))"
   ]
  },
  {
   "cell_type": "markdown",
   "id": "72f4beff",
   "metadata": {},
   "source": [
    "# Pista 3\n",
    "Usando funciones generar los dobles de los números entre 5 y 10."
   ]
  },
  {
   "cell_type": "code",
   "execution_count": null,
   "id": "1a74e3fd",
   "metadata": {},
   "outputs": [],
   "source": [
    "def doble(n):\n",
    "    return 2*n\n",
    "\n",
    "for i in range(5,11):\n",
    "    print(doble(i))"
   ]
  }
 ],
 "metadata": {
  "kernelspec": {
   "display_name": "Python 3",
   "language": "python",
   "name": "python3"
  },
  "language_info": {
   "codemirror_mode": {
    "name": "ipython",
    "version": 3
   },
   "file_extension": ".py",
   "mimetype": "text/x-python",
   "name": "python",
   "nbconvert_exporter": "python",
   "pygments_lexer": "ipython3",
   "version": "3.8.8"
  }
 },
 "nbformat": 4,
 "nbformat_minor": 5
}
