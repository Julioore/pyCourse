{
  "cells": [
    {
      "cell_type": "markdown",
      "metadata": {
        "id": "view-in-github",
        "colab_type": "text"
      },
      "source": [
        "<a href=\"https://colab.research.google.com/github/financieras/pyCourse/blob/main/ejemplos/casos3/caso3_07.ipynb\" target=\"_parent\"><img src=\"https://colab.research.google.com/assets/colab-badge.svg\" alt=\"Open In Colab\"/></a>"
      ]
    },
    {
      "cell_type": "markdown",
      "id": "39abf26a",
      "metadata": {
        "id": "39abf26a"
      },
      "source": [
        "# Reto 1\n",
        "* Crear un bot de Telegram que permita consultar la cotización de Tesla en el Nasdaq, y de las criptomonedas Bitcoint y Ethereum. \n",
        "* Ticker:\n",
        " - Tesla TSLA\n",
        " - Bitcoin BTC\n",
        " - Ethereum ETH"
      ]
    },
    {
      "cell_type": "markdown",
      "id": "7b15a4d0",
      "metadata": {
        "id": "7b15a4d0"
      },
      "source": [
        "## Solución\n",
        "* Primero, consulte qué es un bot de Telegram:\n",
        " - [Bots de Telegram: qué son, cómo funcionan](https://www.xataka.com/basics/bots-telegram-que-como-funcionan-recomendados-para-empezar)\n",
        " - [Cómo crear, diseñar y configurar un bot de Telegram](https://www.adslzone.net/como-se-hace/telegram/crear-bot/)\n",
        " - [Bots: An introduction for developers](https://core.telegram.org/bots)\n",
        "\n",
        "* Segundo, lea el post de nuestro blog titulado:\n",
        " - [Bot de Telegram para consultar cotizaciones de Bitcoin, Ethereum, Tesla y otros valores](https://altocodigo.blogspot.com/2021/09/bot-de-telegram-para-consultar.html)\n",
        " \n",
        "* Vídeo en inglés:\n",
        " - [How to make a Telegram bot using Python](https://youtu.be/h1QGky22b-k)\n",
        " \n",
        "* Repositorio de GitHub:\n",
        " - [TelegramCryptoBot](https://github.com/financieras/TelegramCryptoBot)"
      ]
    }
  ],
  "metadata": {
    "kernelspec": {
      "display_name": "Python 3 (ipykernel)",
      "language": "python",
      "name": "python3"
    },
    "language_info": {
      "codemirror_mode": {
        "name": "ipython",
        "version": 3
      },
      "file_extension": ".py",
      "mimetype": "text/x-python",
      "name": "python",
      "nbconvert_exporter": "python",
      "pygments_lexer": "ipython3",
      "version": "3.8.11"
    },
    "colab": {
      "name": "caso3_07.ipynb",
      "provenance": [],
      "include_colab_link": true
    }
  },
  "nbformat": 4,
  "nbformat_minor": 5
}