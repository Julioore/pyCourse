{
  "nbformat": 4,
  "nbformat_minor": 0,
  "metadata": {
    "colab": {
      "name": "caso3.08.ipynb",
      "provenance": [],
      "authorship_tag": "ABX9TyOaklEu7/4O9bsDYZqp7uIS",
      "include_colab_link": true
    },
    "kernelspec": {
      "name": "python3",
      "display_name": "Python 3"
    },
    "language_info": {
      "name": "python"
    }
  },
  "cells": [
    {
      "cell_type": "markdown",
      "metadata": {
        "id": "view-in-github",
        "colab_type": "text"
      },
      "source": [
        "<a href=\"https://colab.research.google.com/github/financieras/pyCourse/blob/main/ejemplos/caso3_08.ipynb\" target=\"_parent\"><img src=\"https://colab.research.google.com/assets/colab-badge.svg\" alt=\"Open In Colab\"/></a>"
      ]
    },
    {
      "cell_type": "markdown",
      "source": [
        "# Reto 1\n",
        "Consulte el archivo:\n",
        "\n",
        "* calisto3_0250.ipynb Estrategias de Trading"
      ],
      "metadata": {
        "id": "d-MQiOHaaswC"
      }
    },
    {
      "cell_type": "markdown",
      "source": [
        "# Reto 2\n",
        "Consulte la librería.\n",
        "\n",
        "[TA-Lib: Technical Analysis Library](https://technical-analysis-library-in-python.readthedocs.io/en/latest/)"
      ],
      "metadata": {
        "id": "x0N2Z3NeDD6Z"
      }
    },
    {
      "cell_type": "markdown",
      "source": [
        "# Reto 3\n",
        "Enlaces de interés.\n",
        "\n",
        "* [Introduction to technical Analysis in Python using TA-Lib](http://blog.adnansiddiqi.me/introduction-to-technical-analysis-in-python-using-ta-lib/)\n",
        "* [Technical Analysis Library in Python Tutorial](https://youtu.be/s3KIV-WaNuQ)"
      ],
      "metadata": {
        "id": "-hqP1kOrHK2j"
      }
    }
  ]
}