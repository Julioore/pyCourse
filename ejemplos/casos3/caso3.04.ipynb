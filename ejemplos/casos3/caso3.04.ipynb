{
  "cells": [
    {
      "cell_type": "markdown",
      "metadata": {
        "id": "view-in-github",
        "colab_type": "text"
      },
      "source": [
        "<a href=\"https://colab.research.google.com/github/financieras/pyCourse/blob/main/ejemplos/casos3/caso3.04.ipynb\" target=\"_parent\"><img src=\"https://colab.research.google.com/assets/colab-badge.svg\" alt=\"Open In Colab\"/></a>"
      ]
    },
    {
      "cell_type": "markdown",
      "id": "a0b5024e",
      "metadata": {
        "id": "a0b5024e"
      },
      "source": [
        "# Reto 1\n",
        "Trabajar con la librería actuarial **pyliferisk**."
      ]
    },
    {
      "cell_type": "markdown",
      "id": "9ede8886",
      "metadata": {
        "id": "9ede8886"
      },
      "source": [
        "## Solución\n",
        "Consulte el archivo:\n",
        "* calisto3_0230.ipynb Librería actuarial pyliferisk"
      ]
    }
  ],
  "metadata": {
    "kernelspec": {
      "display_name": "Python 3 (ipykernel)",
      "language": "python",
      "name": "python3"
    },
    "language_info": {
      "codemirror_mode": {
        "name": "ipython",
        "version": 3
      },
      "file_extension": ".py",
      "mimetype": "text/x-python",
      "name": "python",
      "nbconvert_exporter": "python",
      "pygments_lexer": "ipython3",
      "version": "3.8.11"
    },
    "colab": {
      "name": "caso3.04.ipynb",
      "provenance": [],
      "include_colab_link": true
    }
  },
  "nbformat": 4,
  "nbformat_minor": 5
}