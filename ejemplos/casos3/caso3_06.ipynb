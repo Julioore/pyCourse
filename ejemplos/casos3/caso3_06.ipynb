{
  "cells": [
    {
      "cell_type": "markdown",
      "metadata": {
        "id": "view-in-github",
        "colab_type": "text"
      },
      "source": [
        "<a href=\"https://colab.research.google.com/github/financieras/pyCourse/blob/main/ejemplos/casos3/caso3_06.ipynb\" target=\"_parent\"><img src=\"https://colab.research.google.com/assets/colab-badge.svg\" alt=\"Open In Colab\"/></a>"
      ]
    },
    {
      "cell_type": "markdown",
      "id": "93822736",
      "metadata": {
        "id": "93822736"
      },
      "source": [
        "# Reto 1\n",
        "Utilizando Flask, crear una página web sencilla con un \"Hola Mundo\" en localhost."
      ]
    },
    {
      "cell_type": "markdown",
      "id": "aca55d4b",
      "metadata": {
        "id": "aca55d4b"
      },
      "source": [
        "## Solución\n",
        "Vamos a instalar Flask.\n",
        "* Vamos a la [página oficial del proyecto Flask](https://flask.palletsprojects.com/en/2.0.x/) "
      ]
    },
    {
      "cell_type": "code",
      "execution_count": null,
      "id": "335745a0",
      "metadata": {
        "id": "335745a0"
      },
      "outputs": [],
      "source": [
        "pip install Flask"
      ]
    },
    {
      "cell_type": "markdown",
      "id": "4ddf989c",
      "metadata": {
        "id": "4ddf989c"
      },
      "source": [
        "Note: you may need to restart the kernel to use updated packages."
      ]
    },
    {
      "cell_type": "code",
      "execution_count": null,
      "id": "f624f9ac",
      "metadata": {
        "id": "f624f9ac"
      },
      "outputs": [],
      "source": [
        "from flask import Flask\n",
        "\n",
        "app = Flask(__name__)\n",
        "\n",
        "@app.route(\"/\")\n",
        "def hello_world():\n",
        "    return \"<p>Hello, World!</p>\"\n",
        "\n",
        "if __name__ == '__main__':\n",
        "    app.run()"
      ]
    },
    {
      "cell_type": "markdown",
      "id": "abe185da",
      "metadata": {
        "id": "abe185da"
      },
      "source": [
        "# Reto 2\n",
        "Utilizando Flask, crear una página web sencilla, desplegando un \"Hola Mundo\" en:\n",
        "- [PythonAnywhere](https://www.pythonanywhere.com)\n",
        "- [Heroku](https://www.heroku.com)"
      ]
    },
    {
      "cell_type": "markdown",
      "id": "2f1b55f8",
      "metadata": {
        "id": "2f1b55f8"
      },
      "source": [
        "## Solución\n",
        "Puede consultar los siguientes posts de nuestro blog:\n",
        "- [Hola Mundo en PythonAnywhere con Flask](https://altocodigo.blogspot.com/2021/05/flask-en-pythonanywhere.html)\n",
        "- [PythonAnywhere subiendo una aplicación Flask desde GitHub](https://altocodigo.blogspot.com/2021/06/pythonanywhere-subiendo-una-aplicacion.html)\n",
        "- [Flask en PythonAnywhere con despliegue continuo usando GitHub](https://altocodigo.blogspot.com/2021/06/flask-en-pythonanywhere-con-despliegue.html)\n",
        "- [Flask en Heroku usando GitHub](https://altocodigo.blogspot.com/2021/04/curso-de-flask.html)"
      ]
    },
    {
      "cell_type": "markdown",
      "id": "31c61b8e",
      "metadata": {
        "id": "31c61b8e"
      },
      "source": [
        "# Reto 3\n",
        "Utilizando Flask, crear una página web que genere los números primos hasta 100.000."
      ]
    },
    {
      "cell_type": "markdown",
      "id": "12f345b8",
      "metadata": {
        "id": "12f345b8"
      },
      "source": [
        "## Solución\n",
        "[Números primos en Flask](https://altocodigo.blogspot.com/2021/06/numeros-primos-en-flask.html)\n",
        "![primos](https://1.bp.blogspot.com/-d7mByklPM7o/YMh1bJJ5aQI/AAAAAAACmDY/0A6iVQPLDAoAbMeiMWHv7lZLGtkJ3tjjQCLcBGAsYHQ/s438/Screenshot+from+2021-06-15+10-00-51.png)"
      ]
    },
    {
      "cell_type": "markdown",
      "id": "3008e5a2",
      "metadata": {
        "id": "3008e5a2"
      },
      "source": [
        "# Reto 4\n",
        "Generar numeros impares entre 100 y 120 con Flask."
      ]
    },
    {
      "cell_type": "markdown",
      "id": "a468e43e",
      "metadata": {
        "id": "a468e43e"
      },
      "source": [
        "## Solución\n",
        "[Generar numeros impares entre 100 y 120 con Flask](https://altocodigo.blogspot.com/2020/08/generar-numeros-impares-entre-100-y-120.html)"
      ]
    },
    {
      "cell_type": "markdown",
      "id": "8747c206",
      "metadata": {
        "id": "8747c206"
      },
      "source": [
        "# Reto 5\n",
        "Programar el Python el comportamiento de una máquina de Galton ([Galton board](https://galtonboard.com))."
      ]
    },
    {
      "cell_type": "markdown",
      "id": "b6e83e8f",
      "metadata": {
        "id": "b6e83e8f"
      },
      "source": [
        "## Solución\n",
        "[Máquina de Galton en Python](https://altocodigo.blogspot.com/2021/06/maquina-de-galton-en-python.html)\n",
        "![Galton Board](https://1.bp.blogspot.com/-ZfR90iKxEa4/YMZUq7wfkJI/AAAAAAACmC8/PxMD48-e_2471uuboyOll04C3gKgj0CagCLcBGAsYHQ/s564/Screenshot+from+2021-06-13+20-40-53.png)"
      ]
    },
    {
      "cell_type": "markdown",
      "id": "22eff968",
      "metadata": {
        "id": "22eff968"
      },
      "source": [
        "# Reto 6\n",
        "Usando Flask, mostrar en página web el resultado de la programación con Python de una máquina de Galton."
      ]
    },
    {
      "cell_type": "markdown",
      "id": "2745987c",
      "metadata": {
        "id": "2745987c"
      },
      "source": [
        "## Solución\n",
        "[Proyecto Orbe](https://github.com/magnitopic/orbe)"
      ]
    }
  ],
  "metadata": {
    "kernelspec": {
      "display_name": "Python 3",
      "language": "python",
      "name": "python3"
    },
    "language_info": {
      "codemirror_mode": {
        "name": "ipython",
        "version": 3
      },
      "file_extension": ".py",
      "mimetype": "text/x-python",
      "name": "python",
      "nbconvert_exporter": "python",
      "pygments_lexer": "ipython3",
      "version": "3.8.8"
    },
    "colab": {
      "name": "caso3_06.ipynb",
      "provenance": [],
      "include_colab_link": true
    }
  },
  "nbformat": 4,
  "nbformat_minor": 5
}