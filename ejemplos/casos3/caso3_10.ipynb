{
  "nbformat": 4,
  "nbformat_minor": 0,
  "metadata": {
    "colab": {
      "name": "caso3_10.ipynb",
      "provenance": [],
      "authorship_tag": "ABX9TyNOlQlIpFkneDN/xwmAvEn0",
      "include_colab_link": true
    },
    "kernelspec": {
      "name": "python3",
      "display_name": "Python 3"
    },
    "language_info": {
      "name": "python"
    }
  },
  "cells": [
    {
      "cell_type": "markdown",
      "metadata": {
        "id": "view-in-github",
        "colab_type": "text"
      },
      "source": [
        "<a href=\"https://colab.research.google.com/github/financieras/pyCourse/blob/main/ejemplos/casos3/caso3_10.ipynb\" target=\"_parent\"><img src=\"https://colab.research.google.com/assets/colab-badge.svg\" alt=\"Open In Colab\"/></a>"
      ]
    },
    {
      "cell_type": "markdown",
      "source": [
        "# Reto 1\n",
        "Estudie el archivo:\n",
        "\n",
        "* calisto3_0290.ipynb Valoración de opciones"
      ],
      "metadata": {
        "id": "eiqXVrvrHxgb"
      }
    }
  ]
}