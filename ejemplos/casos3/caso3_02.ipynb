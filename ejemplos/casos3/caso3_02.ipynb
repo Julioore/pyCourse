{
  "nbformat": 4,
  "nbformat_minor": 0,
  "metadata": {
    "colab": {
      "name": "caso3_02.ipynb",
      "provenance": [],
      "authorship_tag": "ABX9TyMvTsKjuX85Ip+Fj27weBjf",
      "include_colab_link": true
    },
    "kernelspec": {
      "name": "python3",
      "display_name": "Python 3"
    },
    "language_info": {
      "name": "python"
    }
  },
  "cells": [
    {
      "cell_type": "markdown",
      "metadata": {
        "id": "view-in-github",
        "colab_type": "text"
      },
      "source": [
        "<a href=\"https://colab.research.google.com/github/financieras/pyCourse/blob/main/ejemplos/casos3/caso3_02.ipynb\" target=\"_parent\"><img src=\"https://colab.research.google.com/assets/colab-badge.svg\" alt=\"Open In Colab\"/></a>"
      ]
    },
    {
      "cell_type": "markdown",
      "metadata": {
        "id": "5effeee6"
      },
      "source": [
        "# Reto 1\n",
        "Descarga la cotización de Tesla desde Yahoo Finanzas en formato csv."
      ]
    },
    {
      "cell_type": "markdown",
      "metadata": {
        "id": "51dba9ae"
      },
      "source": [
        "## Solución\n",
        "El ticker de Tesla en el NASDAQ es TSLA.\n",
        "- [Yahoo Finance Tesla](https://finance.yahoo.com/quote/TSLA?p=TSLA)\n",
        "- [Datos históricos](https://finance.yahoo.com/quote/TSLA/history?p=TSLA)\n",
        "- Arriba de la tabla podemos elegir el periodo (Time Period), elegimos MAX para el máximo periodo disponible.\n",
        "- Arriba de la tabla, a la derecha, aparece 'Download' para bajar el archivo denominado: TSLA.csv\n",
        "- El archivo csv se puede abrir desde Excel, si deseamos verlo en forma de tabla."
      ]
    },
    {
      "cell_type": "markdown",
      "metadata": {
        "id": "ca16fe48"
      },
      "source": [
        "# Reto 2\n",
        "Importar los datos csv de Tesla para su tratamiento."
      ]
    },
    {
      "cell_type": "markdown",
      "metadata": {
        "id": "a41ae475"
      },
      "source": [
        "## Solución\n",
        "Consultar el archivo calisto3_0140.ipynb donde se puede ver cómo importar la información de un archivo csv."
      ]
    },
    {
      "cell_type": "code",
      "execution_count": null,
      "metadata": {
        "id": "f6ebc748"
      },
      "outputs": [],
      "source": [
        "import pandas as pd                 # importamos pandas\n",
        "path = '../jupyter/excel/TSLA.csv'  # establecemos la ruta del archivo\n",
        "historicoTesla = pd.read_csv(path)  # esta es al variable a la que hemos asociado el DataFrame para luego tratarla\n",
        "historicoTesla"
      ]
    },
    {
      "cell_type": "markdown",
      "metadata": {
        "id": "cefe129d"
      },
      "source": [
        "# Reto 3\n",
        "Obtener gráficos de un valor cotizado en bolsa."
      ]
    },
    {
      "cell_type": "markdown",
      "metadata": {
        "id": "110b1c1b"
      },
      "source": [
        "## Solución\n",
        "Puede consultar estos enlaces u otros que traten este tema.\n",
        "\n",
        "- [Stock Market Analysis with Python Pandas, Plotly and GridDB](https://griddb.net/en/blog/stock-market-analysis-with-python-pandas-plotly-and-griddb/)\n",
        "- [Chart Visualization with Pandas](https://pandas.pydata.org/pandas-docs/stable/user_guide/visualization.html)\n",
        "- [Plot With Pandas](https://realpython.com/pandas-plot-python/)\n",
        "- [Visualizing Free Stock Data for Algorithmic Trading with Python and Matplotlib](https://medium.com/wealthy-bytes/visualizing-free-stock-data-for-algorithmic-trading-with-python-and-matplotlib-dca1abbd286c)\n",
        "- [Stock Price Analysis With Python](https://www.analyticsvidhya.com/blog/2021/07/stock-prices-analysis-with-python/)"
      ]
    }
  ]
}