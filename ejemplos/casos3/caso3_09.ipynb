{
  "nbformat": 4,
  "nbformat_minor": 0,
  "metadata": {
    "colab": {
      "name": " caso3_09.ipynb ",
      "provenance": [],
      "authorship_tag": "ABX9TyNEEV/fVdiWEXAEnC/hV4t6",
      "include_colab_link": true
    },
    "kernelspec": {
      "name": "python3",
      "display_name": "Python 3"
    },
    "language_info": {
      "name": "python"
    }
  },
  "cells": [
    {
      "cell_type": "markdown",
      "metadata": {
        "id": "view-in-github",
        "colab_type": "text"
      },
      "source": [
        "<a href=\"https://colab.research.google.com/github/financieras/pyCourse/blob/main/ejemplos/caso3_09.ipynb\" target=\"_parent\"><img src=\"https://colab.research.google.com/assets/colab-badge.svg\" alt=\"Open In Colab\"/></a>"
      ]
    },
    {
      "cell_type": "markdown",
      "source": [
        "# Reto 1\n",
        "Estudie los archivos:\n",
        "\n",
        "* calisto3_0260.ipynb VAN y TIR\n",
        "* calisto3_0270.ipynb Préstamos\n",
        "* calisto3_0280.ipynb Bonos, ETTI, forward, arbitraje\n",
        "\n",
        "Vea el vídeo de este post:\n",
        "\n",
        "* [Valor Actual en Excel y en Python](https://www.excelavanzado.com/2019/04/valor-actual-en-excel-y-en-python.html)"
      ],
      "metadata": {
        "id": "HKTOPFbwEZaG"
      }
    },
    {
      "cell_type": "markdown",
      "source": [
        "# Reto 2\n",
        "Ejemplo práctico de análisis de inversiones utilizando el VAN."
      ],
      "metadata": {
        "id": "iyjEaD5nKMIR"
      }
    },
    {
      "cell_type": "markdown",
      "metadata": {
        "id": "L0KS5V87JIrr"
      },
      "source": [
        "## VAN ó NPV\n",
        "\n",
        "* VAN = Valor Actual Neto\n",
        "* NPV = Net Present Value\n",
        "* Consiste en actualizar los fluos de caja (cobros y pagos) de una inversión al momento presente\n",
        "* Lo que hacemos para calcular el VAN es traer (descontar) los flujos de caja al origen"
      ]
    },
    {
      "cell_type": "code",
      "execution_count": null,
      "metadata": {
        "id": "y_5rkhZvJIru",
        "outputId": "9e93245d-83c6-4ec7-caba-61f525c5df6e",
        "colab": {
          "base_uri": "https://localhost:8080/"
        }
      },
      "outputs": [
        {
          "output_type": "stream",
          "name": "stdout",
          "text": [
            "Looking in indexes: https://pypi.org/simple, https://us-python.pkg.dev/colab-wheels/public/simple/\n",
            "Collecting numpy-financial\n",
            "  Downloading numpy_financial-1.0.0-py3-none-any.whl (14 kB)\n",
            "Requirement already satisfied: numpy>=1.15 in /usr/local/lib/python3.7/dist-packages (from numpy-financial) (1.21.6)\n",
            "Installing collected packages: numpy-financial\n",
            "Successfully installed numpy-financial-1.0.0\n"
          ]
        }
      ],
      "source": [
        "!pip install numpy-financial    # instalamos la librería numpy-financial"
      ]
    },
    {
      "cell_type": "code",
      "execution_count": null,
      "metadata": {
        "id": "VSpA081pJIrw"
      },
      "outputs": [],
      "source": [
        "import numpy_financial as npf   # importamos la librería numpy-financial con el alias npf\n",
        "import numpy as np"
      ]
    },
    {
      "cell_type": "markdown",
      "metadata": {
        "id": "rnqo1RgbJIrx"
      },
      "source": [
        "### Ejemplo de inversión\n",
        "\n",
        "* Calcular la rentabilidad, en euros, de un proyecto de inversión en el que tenemos que desembolsar 1000 euros, y después sabemos que nos va a reportar unos flujos de caja de 200 € el primer año, 300 € el segundo, 1000 euros el tercero, 500 euros el cuarto.\n",
        "* La tasa de descuento es 5%."
      ]
    },
    {
      "cell_type": "markdown",
      "source": [
        "#### Método 1"
      ],
      "metadata": {
        "id": "-93q-jrYMLjb"
      }
    },
    {
      "cell_type": "code",
      "execution_count": null,
      "metadata": {
        "id": "i650j7nZJIrx",
        "outputId": "88acbc7f-62c2-44de-e25b-b817a9dfd368"
      },
      "outputs": [
        {
          "name": "stdout",
          "output_type": "stream",
          "text": [
            "737.7738699410224\n"
          ]
        }
      ],
      "source": [
        "cf = [-1000, 200, 300, 1000, 500]  # generamos una lista con los flujos de caja, nótese que el primero es negativo\n",
        "r = 0.05                           # tasa de descuento\n",
        "f = 1+r                            # factor\n",
        "\n",
        "VAN = 0\n",
        "for t in range(len(cf)):\n",
        "    VAN += cf[i] / f**t              # descontamos los flujos de caja\n",
        "\n",
        "print(VAN)"
      ]
    },
    {
      "cell_type": "markdown",
      "metadata": {
        "id": "naniGY9eJIry"
      },
      "source": [
        "#### Método 2\n",
        "* Este método es equivalente a la función en Excel **VAN** (Español) **NPV** (Inglés)\n",
        "* En este caso, hay una diferencia respecto a Excel, ya que el desemboloso inicial en Excel debe estar fuera de los flujos de caja, siendo necesario considerar fuera de la fórmula financiera el flujo de caja negtivo\n",
        "* Sin embargo, en Python debe estar incluído en los flujos de caja"
      ]
    },
    {
      "cell_type": "code",
      "execution_count": null,
      "metadata": {
        "id": "TmYTScFMJIrz",
        "outputId": "93522ef8-e302-46b0-f4c1-0c0d9db78cfb",
        "colab": {
          "base_uri": "https://localhost:8080/"
        }
      },
      "outputs": [
        {
          "output_type": "stream",
          "name": "stdout",
          "text": [
            "737.7738699410224\n"
          ]
        }
      ],
      "source": [
        "cf = [-1000, 200, 300, 1000, 500]   # generamos una lista con los flujos de caja, nótese que el primero es negativo\n",
        "r = 0.05                            # tasa de descuento\n",
        "f = 1+r                             # factor\n",
        "\n",
        "VAN2 = npf.npv(rate=r, values=cf)\n",
        "print(VAN2)"
      ]
    },
    {
      "cell_type": "markdown",
      "source": [
        "#### Método 3\n",
        "* Considerando los flujos de caja como un ndarray al usar la librería numpy\n",
        "* Al ser un ndarray podemos trabajar con vectores de forma más sencialla, como si estuvieramos haciendo álgebra con matrices"
      ],
      "metadata": {
        "id": "GYRP3WqINoK3"
      }
    },
    {
      "cell_type": "code",
      "execution_count": null,
      "metadata": {
        "id": "qCDLwVikJIr0",
        "outputId": "13c0b768-b46b-41ea-d48c-f32eef3d1840",
        "colab": {
          "base_uri": "https://localhost:8080/"
        }
      },
      "outputs": [
        {
          "output_type": "stream",
          "name": "stdout",
          "text": [
            "737.7738699410224\n"
          ]
        }
      ],
      "source": [
        "cf = np.array(cf)\n",
        "r = 0.05\n",
        "f = 1+r\n",
        "\n",
        "t = np.arange(0,5)   # vector tiempo, equivale a poner t=np.array([0, 1, 2, 3, 4])\n",
        "\n",
        "VA = cf / f**t\n",
        "VAN = VA.sum()       # ndarray.sum() Devuelve la suma de los elementos de un vector ndarray\n",
        "print(VAN)"
      ]
    },
    {
      "cell_type": "markdown",
      "source": [
        "#### Método 4\n",
        "Es una maravilla poder operar algebráicamente con vectores de tipo ndarray"
      ],
      "metadata": {
        "id": "-j8AQHtXQr1v"
      }
    },
    {
      "cell_type": "code",
      "execution_count": null,
      "metadata": {
        "id": "RsxkWlf4JIr1",
        "outputId": "d1be8ef8-a297-40fe-ed89-fcb659ef4d7a",
        "colab": {
          "base_uri": "https://localhost:8080/"
        }
      },
      "outputs": [
        {
          "output_type": "stream",
          "name": "stdout",
          "text": [
            "737.7738699410224\n"
          ]
        }
      ],
      "source": [
        "VAN = (cf/f**t).sum()\n",
        "print(VAN)"
      ]
    },
    {
      "cell_type": "markdown",
      "source": [
        "# Reto 3\n",
        "Ejemplo práctico de análisis de inversiones utilizando la TIR."
      ],
      "metadata": {
        "id": "65ZT75bmXIrk"
      }
    },
    {
      "cell_type": "markdown",
      "metadata": {
        "id": "klvvwdp4JIr4"
      },
      "source": [
        "## TIR ó IRR\n",
        "\n",
        "* TIR = Tasa interna de retorno\n",
        "* IRR = Internal rate of return\n",
        "* Es la tasa de interés o rentabilidad que ofrece una inversión\n",
        "* Es el porcentaje de beneficio o pérdida que tendrá una inversión en base a lo invertido\n",
        "* Es la tasa de descuento que hace que el VAN sea igual a cero"
      ]
    },
    {
      "cell_type": "code",
      "execution_count": null,
      "metadata": {
        "id": "9TWDMYIWJIr5",
        "outputId": "2f6ba9a5-102c-4ffd-a11d-8220f0a39d87"
      },
      "outputs": [
        {
          "name": "stdout",
          "output_type": "stream",
          "text": [
            "Requirement already satisfied: numpy-financial in c:\\users\\rebec\\anaconda3\\lib\\site-packages (1.0.0)\n",
            "Requirement already satisfied: numpy>=1.15 in c:\\users\\rebec\\anaconda3\\lib\\site-packages (from numpy-financial) (1.18.5)\n",
            "Note: you may need to restart the kernel to use updated packages.\n"
          ]
        }
      ],
      "source": [
        "!pip install numpy-financial"
      ]
    },
    {
      "cell_type": "code",
      "execution_count": null,
      "metadata": {
        "id": "4C95JYt8JIr5"
      },
      "outputs": [],
      "source": [
        "import numpy_financial as npf\n",
        "import matplotlib.pyplot as plt\n",
        "import numpy as np"
      ]
    },
    {
      "cell_type": "markdown",
      "metadata": {
        "id": "hc30VAkoJIr5"
      },
      "source": [
        "### Ejemplo de inversión\n",
        "* Calcular la rentabilidad, en porcentaje, de un proyecto de inversión en el que tenemos que desembolsar 1000 euros, y después sabemos que nos va a reportar unos flujos de caja de 200 € el primer año, 300 € el segundo, 1000 euros el tercero, 500 euros el cuarto.\n",
        "* La tasa de descuento es 5%."
      ]
    },
    {
      "cell_type": "markdown",
      "source": [
        "#### Método 1\n",
        "* Pedimos a Python que nos calcule el VAN por cada periodo, y a la par le pedimos que nos calcule la rentabilidad hasta ese momento.\n",
        "* La rentabilidad que buscamos se encuentra en el momento en el que nuestro VAN es 0.\n",
        "* Por ello, establecemos un bucle while que va calculando el VAN y la rentabilidad hasta llegar a ese momento.\n",
        "* Como marcadores creamos la tolerancia, que podemos disminuir para ajustar al máximo\n",
        "* cuanta menor sea nuestra tolerancia más tiempo tarda Python en darnos una respuesta\n",
        "* En este caso, nuesta rentabilidad es de un 28,11 %"
      ],
      "metadata": {
        "id": "zg6kdRykT0ko"
      }
    },
    {
      "cell_type": "code",
      "execution_count": null,
      "metadata": {
        "id": "D0S5TPknJIr5",
        "outputId": "df47b1bc-38f6-41bf-8f3b-86260347ee4c",
        "colab": {
          "base_uri": "https://localhost:8080/"
        }
      },
      "outputs": [
        {
          "output_type": "stream",
          "name": "stdout",
          "text": [
            "-0.0002973604021008214 0.2811679999993661\n"
          ]
        }
      ],
      "source": [
        "cf = [-1000, 200, 300, 1000, 500]   # lista con los flujos de caja, nótese que el primero es negativo\n",
        "r = 0.05                            # tasa de descuento de partida\n",
        "f = 1+r                             # factor\n",
        "\n",
        "paso = 0.000001\n",
        "objetivo = 0                        # recordemos que al llegar a la TIR el VAN se hace cero, ese es mi objetivo\n",
        "tolerancia = 0.001\n",
        "\n",
        "while True:\n",
        "    f = 1 + r\n",
        "    VAN = 0\n",
        "    for t in range(len(cf)):\n",
        "        VAN += cf[t]/f**t\n",
        "    diff = VAN - objetivo\n",
        "    \n",
        "    if abs(diff) > tolerancia:\n",
        "        if diff < 0:\n",
        "            r -= paso\n",
        "        elif diff > 0:\n",
        "            r += paso\n",
        "    else:\n",
        "        break\n",
        "\n",
        "print(VAN, r)"
      ]
    },
    {
      "cell_type": "markdown",
      "source": [
        "#### Método 2\n",
        "* El método 2 es equivanlente a la fórmula en Excel TIR (Español) o IRR (Inglés)\n",
        "* Los parámetros necesarios son los mismos\n",
        "* teniendo en cuenta que si un año no se produce flujo de caja hay que indicarlo mediante un 0, al igual que en Excel.\n"
      ],
      "metadata": {
        "id": "PUWNt19XVP4z"
      }
    },
    {
      "cell_type": "code",
      "execution_count": null,
      "metadata": {
        "id": "SVpiWdm_JIr8",
        "outputId": "c6905ca9-277d-4846-e0ad-f1cf866e0a54"
      },
      "outputs": [
        {
          "name": "stdout",
          "output_type": "stream",
          "text": [
            "0.28116785840687086\n"
          ]
        }
      ],
      "source": [
        "cf = [-1000, 200, 300, 1000, 500]   # lista con los flujos de caja, nótese que el primero es negativo\n",
        "\n",
        "TIR = npf.irr(cf)\n",
        "print(TIR)"
      ]
    },
    {
      "cell_type": "markdown",
      "source": [
        "#### Método 3\n",
        "Método de la bisectriz para calcular la TIR"
      ],
      "metadata": {
        "id": "DWq7NMUoWFjh"
      }
    },
    {
      "cell_type": "code",
      "execution_count": null,
      "metadata": {
        "id": "uZBT_-sbJIr8",
        "outputId": "f5eaa9ff-8706-4872-bdb1-b1e7d27ffce5"
      },
      "outputs": [
        {
          "name": "stdout",
          "output_type": "stream",
          "text": [
            "VAN(0.1) = 522.5735946998152\n",
            "NPV(0.1) = 522.5735946998152\n",
            "IRR = 0.28116785840687086\n",
            "TIR = 0.28116785840687086\n"
          ]
        }
      ],
      "source": [
        "from numpy_financial import npv\n",
        "from numpy_financial import irr\n",
        "\n",
        "def VAN(k,flujos):\n",
        "    va=0\n",
        "    for i,f in enumerate(flujos):\n",
        "        va+=f/(1+k)**i\n",
        "    return va\n",
        "\n",
        "def TIR(cf):\n",
        "    k_inicial=0\n",
        "    k_final=1 #tasa de descuento del 100%\n",
        "    a=npv(k_inicial,cf)\n",
        "    b=npv(k_final,cf)\n",
        "    if a==0:\n",
        "        return k_inicial\n",
        "    elif b==0:\n",
        "        return k_final\n",
        "    elif a*b>0:  #Si el producto es positivo es que ambos VAN tienen el mismo signo,o los 2 positivos o los 2 neg.\n",
        "        print(\"En el rango considerado no se corta el eje\") #al ser los dos VAN del mismo signo no hay corte\n",
        "        return 'NaN'\n",
        "    else:\n",
        "        while True:\n",
        "            k_medio=(k_inicial+k_final)/2\n",
        "            m=npv(k_medio,cf)              # m es el VAN para el k_medio\n",
        "            if abs(m)<1e-12:               # si el valor absoluto de m es menor que el error admitido (tolerancia)\n",
        "                break                      # paramos el bucle y luego retornamos el k_medio \n",
        "            else:\n",
        "                if a*m<0:                  # si el VAN de la izquierda y el del medio tienen distinto signo\n",
        "                    k_final=k_medio\n",
        "                elif b*m<0:                # si el VAN de la derecha y el del medio tienen el mismo signo\n",
        "                    k_inicial=k_medio\n",
        "        return k_medio\n",
        "    \n",
        "cf=[-1000, 200, 300, 1000, 500]    #Generamos una lista con los flujos de caja. Nótese que el primero es negativo.\n",
        "#cf=[1000, -200, -300, -1000, -500] #En este caso, con los signos cambiados tambien calcula bien la TIR\n",
        "#cf=[-1000, 200, 300, -1000, 500]   #En este caso, con una TIR negativa, avisa que en el rango entre 0% y 100% no hay corte\n",
        "\n",
        "k=0.1\n",
        "print(\"VAN({}) =\".format(k),VAN(k,cf))\n",
        "print(\"NPV({}) =\".format(k),npv(k,cf))\n",
        "print(\"IRR =\",irr(cf))\n",
        "print(\"TIR =\",TIR(cf))"
      ]
    },
    {
      "cell_type": "markdown",
      "metadata": {
        "id": "dJTLKIHhJIr9"
      },
      "source": [
        "### Gráfico de la TIR\n",
        "* En este gráfico podemos comprobar cómo el VAN va variando a distintos tipos de interés (línea roja).\n",
        "* Tenemos que tener en cuenta que este sería un proyecto, por tanto, a mayor tipo de interés más costosa será nuestra financiación y por tanto disminuye nuestro VAN.\n",
        "* En la línea azul nos marca cuando VAN = 0, y justo cuando se cruza con nuestra línea roja podemos decir que nos encontramos con la TIR."
      ]
    },
    {
      "cell_type": "code",
      "execution_count": null,
      "metadata": {
        "id": "SMQaQESOJIr9"
      },
      "outputs": [],
      "source": [
        "cf=[-1000, 200, 300, 1000, 500]\n",
        "r = 0.05\n",
        "\n",
        "VAN = 0\n",
        "for i in range(len(cf)):\n",
        "    VAN += cf[i]/(1+r)**(i)    #Generamos el VAN de nuestro proyecto\n",
        "\n",
        "L = list(range(0,351))         #Vamos a generar una lista de supuestos tipos de interés, va poder ver como cambia nuestro VAN\n",
        "\n",
        "rs = []\n",
        "for i in L:\n",
        "    rs.append(i/1000)\n",
        "\n",
        "vans = []                      #Calculamos el VAN para cada uno de los intereses generados en la anterior lista.\n",
        "for i in rs:\n",
        "    van = 0\n",
        "    for j in range(len(cf)):\n",
        "        van += cf[j]/(1+i)**(j)\n",
        "    vans.append(van)\n",
        "    "
      ]
    },
    {
      "cell_type": "code",
      "execution_count": null,
      "metadata": {
        "id": "UZV5q2m2JIr-",
        "outputId": "84acc7ed-5d62-43e5-f817-be8ba8e50f34"
      },
      "outputs": [
        {
          "data": {
            "image/png": "[encoded data removed]",
            "text/plain": [
              "<Figure size 864x576 with 1 Axes>"
            ]
          },
          "metadata": {
            "needs_background": "light"
          },
          "output_type": "display_data"
        }
      ],
      "source": [
        "plt.figure(figsize = (12, 8))\n",
        "plt.scatter(x = r, y = VAN, s = 300, c=\"blue\", marker = '*', label = \"VAN @ r\")\n",
        "plt.plot(rs, vans, color = \"red\", linewidth = 2, linestyle='-', label = \"VAN(r)\")\n",
        "plt.grid()\n",
        "plt.hlines(y=0, xmin = rs[0], xmax=rs[-1], linestyle=\"dashed\", color=\"blue\", label=\"VAN = 0\")\n",
        "plt.title(\"VAN & TIR\", fontsize=15)\n",
        "plt.xlabel(\"Interés\", fontsize=12)\n",
        "plt.ylabel(\"VAN\", fontsize=12)\n",
        "plt.annotate(\"TIR\", xy = (0.280, 0), xytext=(0.280, 100), arrowprops = {'color':'black'}, fontsize=15)\n",
        "plt.legend(loc=\"best\", fontsize=15)\n",
        "plt.show()\n"
      ]
    },
    {
      "cell_type": "markdown",
      "source": [
        "# Reto 4\n",
        "Ejemplo práctico de análisis de inversiones utilizando el Payback."
      ],
      "metadata": {
        "id": "zVjCQcatXSnI"
      }
    },
    {
      "cell_type": "markdown",
      "metadata": {
        "id": "j7isZcySJIr_"
      },
      "source": [
        "# Payback o Periodo Medio de Retorno.\n",
        "\n",
        "Cuando analizamos un proyecto, no solo tenemos en cuenta el VAN y su TIR, debemos valorar otros factores, como son el tiempo en el que vamos a recuperar nuestra inversión, conocido como Periodo Medio de Maduración o Payback en inglés."
      ]
    },
    {
      "cell_type": "code",
      "execution_count": null,
      "metadata": {
        "id": "WR9TswY6JIr_",
        "outputId": "472be4d7-ab0a-483e-ad63-70c49573940a"
      },
      "outputs": [
        {
          "name": "stdout",
          "output_type": "stream",
          "text": [
            "El Payback del Proyecto son 3 años\n"
          ]
        }
      ],
      "source": [
        "FC = [-2000, 200, 1500, 700, 100, 500] #Flujos de caja de un proyecto\n",
        "\n",
        "Acum_FC = 0\n",
        "\n",
        "for i in range(len(FC)):\n",
        "    Acum_FC += FC[i]\n",
        "    \n",
        "    if Acum_FC > 0:\n",
        "        print(\"El Payback del Proyecto son {} años\". format(i))\n",
        "        break\n",
        "        \n",
        "    elif Acum_FC <= 0 and i == len(FC)-1:\n",
        "        print(\"El proyecto no recupera su inversión\")"
      ]
    },
    {
      "cell_type": "markdown",
      "source": [
        "# Reto 5\n",
        "Ejemplo práctico de análisis de inversiones utilizando el Índice de rentabilidad."
      ],
      "metadata": {
        "id": "Yagck8kOXiLy"
      }
    },
    {
      "cell_type": "markdown",
      "metadata": {
        "id": "YQTMRXgdJIsA"
      },
      "source": [
        "# ÍNDICE DE RENTABILIDAD#\n",
        "\n",
        "El índice de rentabilidad nos permite realizar un ranking de distintos proyectos teniendo en cuenta el que mayor valor va a aportar a nuestra empresa."
      ]
    },
    {
      "cell_type": "code",
      "execution_count": null,
      "metadata": {
        "id": "Vz66DnsZJIsA",
        "outputId": "4b189010-8485-40f6-c96e-396b718e6bb0"
      },
      "outputs": [
        {
          "name": "stdout",
          "output_type": "stream",
          "text": [
            "[1.38061353]\n"
          ]
        }
      ],
      "source": [
        "FC = [-2000, 200, 1500, 700, 100, 500]\n",
        "r = 0.05\n",
        "II = []\n",
        "FCP = []\n",
        "\n",
        "for i in FC:\n",
        "    if i < 0:\n",
        "        II.append(i)\n",
        "    else:\n",
        "        FCP.append(i)\n",
        "        \n",
        "VA = npf.npv(r, FCP)\n",
        "\n",
        "IR = VA / II\n",
        "print(-IR)"
      ]
    }
  ]
}