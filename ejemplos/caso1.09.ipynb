{
 "cells": [
  {
   "cell_type": "markdown",
   "id": "680a34ef",
   "metadata": {},
   "source": [
    "# Reto 1\n",
    "Crear una lista con todos los caracteres que contiene una frase dada."
   ]
  },
  {
   "cell_type": "code",
   "execution_count": null,
   "id": "6d713a1b",
   "metadata": {},
   "outputs": [],
   "source": [
    "frase = \"Un estudio de Kaggle de 2018 reveló que Python, SQL y R son los lenguajes de programación más populares. El de más aceptación, con diferencia, fue Python (el 83% de los encuestados lo usaban). Además, 3 de cada 4 profesionales de datos recomendaron que los aspirantes a científicos de datos aprendan Python primero.\"\n",
    "\n",
    "l = []                # inicializamos una lista vacía\n",
    "for c in frase:       # recorremos todos los caracteres de la frase\n",
    "    if c not in l:    # si el caracter no está en la lista\n",
    "        l.append(c)   # añadimos el caracter a la lista\n",
    "\n",
    "print(sorted(l))      # imprimimos la lista ordenada"
   ]
  },
  {
   "cell_type": "markdown",
   "id": "57ef77b0",
   "metadata": {},
   "source": [
    "# Reto 2\n",
    "Dado un número entero largo contar cuantas veces aparece cada dígito."
   ]
  },
  {
   "cell_type": "code",
   "execution_count": null,
   "id": "abff7dfa",
   "metadata": {},
   "outputs": [],
   "source": [
    "# Los primeros 100 decimales de pi\n",
    "numero = \"1415926535897932384626433832795028841971693993751058209749445923078164062862089986280348253421170679\"\n",
    "\n",
    "for i in range(10):\n",
    "    print(i, '→', numero.count(str(i)))\n",
    "\n"
   ]
  }
 ],
 "metadata": {
  "kernelspec": {
   "display_name": "Python 3",
   "language": "python",
   "name": "python3"
  },
  "language_info": {
   "codemirror_mode": {
    "name": "ipython",
    "version": 3
   },
   "file_extension": ".py",
   "mimetype": "text/x-python",
   "name": "python",
   "nbconvert_exporter": "python",
   "pygments_lexer": "ipython3",
   "version": "3.8.8"
  }
 },
 "nbformat": 4,
 "nbformat_minor": 5
}
