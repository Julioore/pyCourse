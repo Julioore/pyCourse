{
  "cells": [
    {
      "cell_type": "markdown",
      "metadata": {
        "id": "view-in-github",
        "colab_type": "text"
      },
      "source": [
        "<a href=\"https://colab.research.google.com/github/financieras/pyCourse/blob/main/ejemplos/caso1.08.ipynb\" target=\"_parent\"><img src=\"https://colab.research.google.com/assets/colab-badge.svg\" alt=\"Open In Colab\"/></a>"
      ]
    },
    {
      "cell_type": "markdown",
      "id": "680a34ef",
      "metadata": {
        "id": "680a34ef"
      },
      "source": [
        "# Reto 1\n",
        "Muestre las tablas de sumar entre 5 y 8, solo para valores impares del segundo sumando."
      ]
    },
    {
      "cell_type": "code",
      "execution_count": 1,
      "id": "6d713a1b",
      "metadata": {
        "id": "6d713a1b",
        "outputId": "cf443323-8003-4216-a475-70d37af404e0",
        "colab": {
          "base_uri": "https://localhost:8080/"
        }
      },
      "outputs": [
        {
          "output_type": "stream",
          "name": "stdout",
          "text": [
            "==========\n",
            "5+1=6\n",
            "5+3=8\n",
            "5+5=10\n",
            "5+7=12\n",
            "5+9=14\n",
            "==========\n",
            "6+1=7\n",
            "6+3=9\n",
            "6+5=11\n",
            "6+7=13\n",
            "6+9=15\n",
            "==========\n",
            "7+1=8\n",
            "7+3=10\n",
            "7+5=12\n",
            "7+7=14\n",
            "7+9=16\n",
            "==========\n",
            "8+1=9\n",
            "8+3=11\n",
            "8+5=13\n",
            "8+7=15\n",
            "8+9=17\n"
          ]
        }
      ],
      "source": [
        "for i in range(5,9):\n",
        "    print(\"=\"*10)\n",
        "    for j in range(1,11,2):\n",
        "        print(f\"{i}+{j}={i+j}\")"
      ]
    },
    {
      "cell_type": "markdown",
      "source": [
        "# Reto 2\n",
        "* Crear una matriz rectangular de unos\n",
        "* La matriz tendrá n filas y 3n columnas\n",
        "* n = 5"
      ],
      "metadata": {
        "id": "mW2zlwIYVo01"
      },
      "id": "mW2zlwIYVo01"
    },
    {
      "cell_type": "markdown",
      "source": [
        "## Método 1 (no recomendado)\n",
        "* Este método logra el objetivo, pero no es recomendado ya que tiene un gran inconveniente.\n",
        "* Cuando se modifica un elemento de una fila (o columna) se modifica en todas las demás"
      ],
      "metadata": {
        "id": "wVpJWNxGtPxn"
      },
      "id": "wVpJWNxGtPxn"
    },
    {
      "cell_type": "code",
      "source": [
        "n = 5     # filas\n",
        "m = 3*n   # columnas\n",
        "matriz = [[1]*m]*n\n",
        "matriz"
      ],
      "metadata": {
        "id": "RuNYRDy0WC9v",
        "outputId": "c90d5014-1322-4b69-e768-aa0a2dea7b29",
        "colab": {
          "base_uri": "https://localhost:8080/"
        }
      },
      "id": "RuNYRDy0WC9v",
      "execution_count": 18,
      "outputs": [
        {
          "output_type": "execute_result",
          "data": {
            "text/plain": [
              "[[1, 1, 1, 1, 1, 1, 1, 1, 1, 1, 1, 1, 1, 1, 1],\n",
              " [1, 1, 1, 1, 1, 1, 1, 1, 1, 1, 1, 1, 1, 1, 1],\n",
              " [1, 1, 1, 1, 1, 1, 1, 1, 1, 1, 1, 1, 1, 1, 1],\n",
              " [1, 1, 1, 1, 1, 1, 1, 1, 1, 1, 1, 1, 1, 1, 1],\n",
              " [1, 1, 1, 1, 1, 1, 1, 1, 1, 1, 1, 1, 1, 1, 1]]"
            ]
          },
          "metadata": {},
          "execution_count": 18
        }
      ]
    },
    {
      "cell_type": "code",
      "source": [
        "# veamos el inconveniente\n",
        "# modificaremos el cuarto uno de la primera fila\n",
        "matriz[0][3] = 8\n",
        "matriz            # el resultado no es el deseado\n",
        "# en todas las filas aparece un 8 ya que son copias unas de otras"
      ],
      "metadata": {
        "id": "aPpBIsO2tn5q",
        "outputId": "93ea6f01-defa-4267-b031-e9881d01790b",
        "colab": {
          "base_uri": "https://localhost:8080/"
        }
      },
      "id": "aPpBIsO2tn5q",
      "execution_count": 19,
      "outputs": [
        {
          "output_type": "execute_result",
          "data": {
            "text/plain": [
              "[[1, 1, 1, 8, 1, 1, 1, 1, 1, 1, 1, 1, 1, 1, 1],\n",
              " [1, 1, 1, 8, 1, 1, 1, 1, 1, 1, 1, 1, 1, 1, 1],\n",
              " [1, 1, 1, 8, 1, 1, 1, 1, 1, 1, 1, 1, 1, 1, 1],\n",
              " [1, 1, 1, 8, 1, 1, 1, 1, 1, 1, 1, 1, 1, 1, 1],\n",
              " [1, 1, 1, 8, 1, 1, 1, 1, 1, 1, 1, 1, 1, 1, 1]]"
            ]
          },
          "metadata": {},
          "execution_count": 19
        }
      ]
    },
    {
      "cell_type": "markdown",
      "source": [
        "## Método 2\n",
        "Creando bucles `for` anidados."
      ],
      "metadata": {
        "id": "n-9_KU2yuTk-"
      },
      "id": "n-9_KU2yuTk-"
    },
    {
      "cell_type": "code",
      "source": [
        "n = 5\n",
        "matriz = []\n",
        "for i in range(n):\n",
        "    matriz.append([])\n",
        "    for j in range(3*n):\n",
        "        matriz[i].append(1)\n",
        "matriz"
      ],
      "metadata": {
        "id": "ndcLC4rfudSQ",
        "outputId": "07a01bc6-dfb8-4e7d-f348-99b94684a601",
        "colab": {
          "base_uri": "https://localhost:8080/"
        }
      },
      "id": "ndcLC4rfudSQ",
      "execution_count": 20,
      "outputs": [
        {
          "output_type": "execute_result",
          "data": {
            "text/plain": [
              "[[1, 1, 1, 1, 1, 1, 1, 1, 1, 1, 1, 1, 1, 1, 1],\n",
              " [1, 1, 1, 1, 1, 1, 1, 1, 1, 1, 1, 1, 1, 1, 1],\n",
              " [1, 1, 1, 1, 1, 1, 1, 1, 1, 1, 1, 1, 1, 1, 1],\n",
              " [1, 1, 1, 1, 1, 1, 1, 1, 1, 1, 1, 1, 1, 1, 1],\n",
              " [1, 1, 1, 1, 1, 1, 1, 1, 1, 1, 1, 1, 1, 1, 1]]"
            ]
          },
          "metadata": {},
          "execution_count": 20
        }
      ]
    },
    {
      "cell_type": "code",
      "source": [
        "# veamos que ahora no se produce el inconveniente\n",
        "# modificaremos el cuarto uno de la primera fila\n",
        "matriz[0][3] = 8\n",
        "matriz            # el resultado será es el deseado\n",
        "# únicamente aparece un 8 en la primera fila"
      ],
      "metadata": {
        "id": "XH_zzqJAwaXg",
        "outputId": "93a510b5-33ef-47a2-cacd-cb2f795e6f38",
        "colab": {
          "base_uri": "https://localhost:8080/"
        }
      },
      "id": "XH_zzqJAwaXg",
      "execution_count": 21,
      "outputs": [
        {
          "output_type": "execute_result",
          "data": {
            "text/plain": [
              "[[1, 1, 1, 8, 1, 1, 1, 1, 1, 1, 1, 1, 1, 1, 1],\n",
              " [1, 1, 1, 1, 1, 1, 1, 1, 1, 1, 1, 1, 1, 1, 1],\n",
              " [1, 1, 1, 1, 1, 1, 1, 1, 1, 1, 1, 1, 1, 1, 1],\n",
              " [1, 1, 1, 1, 1, 1, 1, 1, 1, 1, 1, 1, 1, 1, 1],\n",
              " [1, 1, 1, 1, 1, 1, 1, 1, 1, 1, 1, 1, 1, 1, 1]]"
            ]
          },
          "metadata": {},
          "execution_count": 21
        }
      ]
    },
    {
      "cell_type": "markdown",
      "source": [
        "## Método 3 ([list comprehension](https://www.w3schools.com/python/python_lists_comprehension.asp))\n",
        "Podemos comprimir un una sola línea de código los dos bucles `for` anidados anteriores."
      ],
      "metadata": {
        "id": "pJASSb8dx1sz"
      },
      "id": "pJASSb8dx1sz"
    },
    {
      "cell_type": "code",
      "source": [
        "n = 5\n",
        "matriz = [[j for j in range(3*n)] for i in range(n)]\n",
        "matriz"
      ],
      "metadata": {
        "id": "Ma9nHoORyiAj",
        "outputId": "75ce8907-2fc7-44ad-fefc-57bac9b8c354",
        "colab": {
          "base_uri": "https://localhost:8080/"
        }
      },
      "id": "Ma9nHoORyiAj",
      "execution_count": 26,
      "outputs": [
        {
          "output_type": "execute_result",
          "data": {
            "text/plain": [
              "[[0, 1, 2, 3, 4, 5, 6, 7, 8, 9, 10, 11, 12, 13, 14],\n",
              " [0, 1, 2, 3, 4, 5, 6, 7, 8, 9, 10, 11, 12, 13, 14],\n",
              " [0, 1, 2, 3, 4, 5, 6, 7, 8, 9, 10, 11, 12, 13, 14],\n",
              " [0, 1, 2, 3, 4, 5, 6, 7, 8, 9, 10, 11, 12, 13, 14],\n",
              " [0, 1, 2, 3, 4, 5, 6, 7, 8, 9, 10, 11, 12, 13, 14]]"
            ]
          },
          "metadata": {},
          "execution_count": 26
        }
      ]
    },
    {
      "cell_type": "markdown",
      "source": [
        "# Reto 3\n",
        "Mostrar una matriz sin comas y sin corchetes."
      ],
      "metadata": {
        "id": "H4ARgNcuzSG2"
      },
      "id": "H4ARgNcuzSG2"
    },
    {
      "cell_type": "code",
      "source": [
        "import numpy as np\n",
        "\n",
        "n = 5\n",
        "matriz = [[1 for j in range(3*n)] for i in range(n)]\n",
        "matrix = np.array(matriz)     # convertimos la matriz en un ndarray con la librería numpy\n",
        "\n",
        "print(str(matrix).replace(' [', '').replace('[', '').replace(']', ''))"
      ],
      "metadata": {
        "id": "FQ9zz7KhzaVw",
        "outputId": "26d260bf-2710-4a93-eab3-7e0f8f04cdaa",
        "colab": {
          "base_uri": "https://localhost:8080/"
        }
      },
      "id": "FQ9zz7KhzaVw",
      "execution_count": 34,
      "outputs": [
        {
          "output_type": "stream",
          "name": "stdout",
          "text": [
            "1 1 1 1 1 1 1 1 1 1 1 1 1 1 1\n",
            "1 1 1 1 1 1 1 1 1 1 1 1 1 1 1\n",
            "1 1 1 1 1 1 1 1 1 1 1 1 1 1 1\n",
            "1 1 1 1 1 1 1 1 1 1 1 1 1 1 1\n",
            "1 1 1 1 1 1 1 1 1 1 1 1 1 1 1\n"
          ]
        }
      ]
    }
  ],
  "metadata": {
    "kernelspec": {
      "display_name": "Python 3",
      "language": "python",
      "name": "python3"
    },
    "language_info": {
      "codemirror_mode": {
        "name": "ipython",
        "version": 3
      },
      "file_extension": ".py",
      "mimetype": "text/x-python",
      "name": "python",
      "nbconvert_exporter": "python",
      "pygments_lexer": "ipython3",
      "version": "3.8.8"
    },
    "colab": {
      "name": "caso1.08.ipynb",
      "provenance": [],
      "include_colab_link": true
    }
  },
  "nbformat": 4,
  "nbformat_minor": 5
}