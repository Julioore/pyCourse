{
 "cells": [
  {
   "cell_type": "markdown",
   "id": "680a34ef",
   "metadata": {},
   "source": [
    "# Desafío 1\n",
    "Muestre las tablas de sumar entre 5 y 8, solo para valores impares del segundo sumando."
   ]
  },
  {
   "cell_type": "code",
   "execution_count": null,
   "id": "6d713a1b",
   "metadata": {},
   "outputs": [],
   "source": [
    "for i in range(5,9):\n",
    "    print(\"=\"*10)\n",
    "    for j in range(1,11,2):\n",
    "        print(f\"{i}+{j}={i+j}\")"
   ]
  }
 ],
 "metadata": {
  "kernelspec": {
   "display_name": "Python 3",
   "language": "python",
   "name": "python3"
  },
  "language_info": {
   "codemirror_mode": {
    "name": "ipython",
    "version": 3
   },
   "file_extension": ".py",
   "mimetype": "text/x-python",
   "name": "python",
   "nbconvert_exporter": "python",
   "pygments_lexer": "ipython3",
   "version": "3.8.8"
  }
 },
 "nbformat": 4,
 "nbformat_minor": 5
}
