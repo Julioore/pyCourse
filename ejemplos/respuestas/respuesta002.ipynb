{
  "nbformat": 4,
  "nbformat_minor": 0,
  "metadata": {
    "colab": {
      "name": "respuesta002.ipynb",
      "provenance": [],
      "authorship_tag": "ABX9TyPYE8JHoN9a9q3beyFa5CQs",
      "include_colab_link": true
    },
    "kernelspec": {
      "name": "python3",
      "display_name": "Python 3"
    },
    "language_info": {
      "name": "python"
    }
  },
  "cells": [
    {
      "cell_type": "markdown",
      "metadata": {
        "id": "view-in-github",
        "colab_type": "text"
      },
      "source": [
        "<a href=\"https://colab.research.google.com/github/financieras/pyCourse/blob/main/ejemplos/respuesta002.ipynb\" target=\"_parent\"><img src=\"https://colab.research.google.com/assets/colab-badge.svg\" alt=\"Open In Colab\"/></a>"
      ]
    },
    {
      "cell_type": "markdown",
      "source": [
        "# ¿Cómo instanciar múltiples objetos?\n",
        "[How to create multiple class objects with a loop in python?](https://stackoverflow.com/questions/21598872/how-to-create-multiple-class-objects-with-a-loop-in-python)"
      ],
      "metadata": {
        "id": "2f2pJicFQx5s"
      }
    },
    {
      "cell_type": "markdown",
      "source": [
        "# Instanciar un objeto árbol\n",
        "* Crearemos la clase Arbol con el atributo altura.\n",
        "* Instanciamos un árbol, el árbol a1 que tiene una cierta altura obtenida de forma aleatoria."
      ],
      "metadata": {
        "id": "xG1DBAZcQ7z2"
      }
    },
    {
      "cell_type": "code",
      "execution_count": null,
      "metadata": {
        "colab": {
          "base_uri": "https://localhost:8080/"
        },
        "id": "qa9VG8UFFpKK",
        "outputId": "21312bd9-1c6b-48e7-992c-5928e9233516"
      },
      "outputs": [
        {
          "output_type": "stream",
          "name": "stdout",
          "text": [
            "58\n",
            "altura\t→ 58\n"
          ]
        }
      ],
      "source": [
        "from random import randint\n",
        "\n",
        "class Arbol():\n",
        "    def __init__(self, altura):\n",
        "        self.altura = altura\n",
        "\n",
        "    def __str__(self):\n",
        "        return f'altura\t→ {self.altura}'\n",
        "\n",
        "a1 = Arbol(randint(10,99))   # a1 es el nombre del objeto instanciado\n",
        "\n",
        "print(a1.altura)\n",
        "print(a1)"
      ]
    },
    {
      "cell_type": "markdown",
      "source": [
        "# Instanciar 10 objetos árbol"
      ],
      "metadata": {
        "id": "EH8LrCJPRUz1"
      }
    },
    {
      "cell_type": "markdown",
      "source": [
        "### Método 1 Lista\n",
        "* Creamos una lista en la que iremos añadiendo los objetos creados.\n",
        "* Luego podemos ir recorriendo la lista y obteniendo los atributos de cada objeto.\n",
        "* No hemos nombrado los objetos pero podemos acceder a ellos por su posición index dentro de la lista."
      ],
      "metadata": {
        "id": "VbgJrJB41CXz"
      }
    },
    {
      "cell_type": "code",
      "source": [
        "from random import randint, seed\n",
        "seed()\n",
        "\n",
        "class Arbol():\n",
        "    def __init__(self, altura):\n",
        "        self.altura = altura\n",
        "\n",
        "    def __str__(self):\n",
        "        return f'altura\t→ {self.altura}'\n",
        "\n",
        "lista = []\n",
        "\n",
        "for i in range(10):\n",
        "    rnd = randint(10,99)       # altura aleatoria del árbol\n",
        "    lista.append(Arbol(rnd))   # añadimos cada objeto creado al final de la lista\n",
        "\n",
        "for i in range(len(lista)):\n",
        "    print(lista[i])            # mostramos el objeto i-ésimo"
      ],
      "metadata": {
        "id": "1bATxCFh3-Cs",
        "outputId": "b3218b46-857f-46da-99ba-a5f158f2e1f2",
        "colab": {
          "base_uri": "https://localhost:8080/"
        }
      },
      "execution_count": 1,
      "outputs": [
        {
          "output_type": "stream",
          "name": "stdout",
          "text": [
            "altura\t→ 95\n",
            "altura\t→ 71\n",
            "altura\t→ 79\n",
            "altura\t→ 88\n",
            "altura\t→ 93\n",
            "altura\t→ 34\n",
            "altura\t→ 17\n",
            "altura\t→ 36\n",
            "altura\t→ 99\n",
            "altura\t→ 63\n"
          ]
        }
      ]
    },
    {
      "cell_type": "markdown",
      "source": [
        "### Método 2 Diccionario\n",
        "* Usaremos un diccionario con la forma &nbsp; ***clave:valor*** &nbsp; donde:\n",
        " - La ***clave*** es el nombre del árbol, por ejemplo `f'a{i}'` con i variando entre 1 y 10\n",
        " - El ***valor*** es el propio objeto instanciado, cada uno con su altura aleatoria"
      ],
      "metadata": {
        "id": "i_xvyu7s1GLB"
      }
    },
    {
      "cell_type": "code",
      "source": [
        "from random import randint\n",
        "\n",
        "class Arbol():\n",
        "    def __init__(self, altura):\n",
        "        self.altura = altura\n",
        "    def __str__(self):\n",
        "        return f'altura → {self.altura}'\n",
        "\n",
        "# creamos un diccionario clave:valor donde la clave es el nombre del objeto y el valor el propio objeto\n",
        "\n",
        "d = {}                                             # creamos el diccionario vacío\n",
        "\n",
        "for i in range(10):\n",
        "    d['árbol_' + str(i)] = Arbol(randint(10,99))   # creamos 10 árboles con altura aleatoria\n",
        "\n",
        "for k,v in d.items():                              # recorremos todas las k (clave) y v (valor)\n",
        "    print(f'{k}: {v}')\n",
        "\n",
        "print('\\n', \"=\"*60, '\\n')\n",
        "\n",
        "print(\"La altura del árbol 8 es:\", d['árbol_8'])   # mostramos la altura del árbol 8\n",
        "\n",
        "n = 9\n",
        "\n",
        "print(f\"El árbol número {n} tiene una altura de \\\n",
        "{d['árbol_'+str(n)].altura}.\")                     # accedemos al atributo altura del objeto que queremos"
      ],
      "metadata": {
        "colab": {
          "base_uri": "https://localhost:8080/"
        },
        "id": "HdHY8XXeOxJJ",
        "outputId": "1b55ae08-1c1f-47de-f01a-62db78dab062"
      },
      "execution_count": 31,
      "outputs": [
        {
          "output_type": "stream",
          "name": "stdout",
          "text": [
            "árbol_0: altura → 97\n",
            "árbol_1: altura → 13\n",
            "árbol_2: altura → 56\n",
            "árbol_3: altura → 82\n",
            "árbol_4: altura → 47\n",
            "árbol_5: altura → 55\n",
            "árbol_6: altura → 92\n",
            "árbol_7: altura → 58\n",
            "árbol_8: altura → 90\n",
            "árbol_9: altura → 63\n",
            "\n",
            " ============================================================ \n",
            "\n",
            "La altura del árbol 8 es: altura → 90\n",
            "El árbol número 9 tiene una altura de 63.\n"
          ]
        }
      ]
    }
  ]
}