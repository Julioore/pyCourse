{
  "nbformat": 4,
  "nbformat_minor": 0,
  "metadata": {
    "colab": {
      "name": "respuesta001.ipynb",
      "provenance": [],
      "authorship_tag": "ABX9TyMTo9H6cHhGhZWeZSK2eJ4D",
      "include_colab_link": true
    },
    "kernelspec": {
      "name": "python3",
      "display_name": "Python 3"
    },
    "language_info": {
      "name": "python"
    }
  },
  "cells": [
    {
      "cell_type": "markdown",
      "metadata": {
        "id": "view-in-github",
        "colab_type": "text"
      },
      "source": [
        "<a href=\"https://colab.research.google.com/github/financieras/pyCourse/blob/main/ejemplos/respuesta001.ipynb\" target=\"_parent\"><img src=\"https://colab.research.google.com/assets/colab-badge.svg\" alt=\"Open In Colab\"/></a>"
      ]
    },
    {
      "cell_type": "markdown",
      "source": [
        "# ¿Cómo crear un menú?\n",
        "* Un menú para que el usuario elija una opción\n",
        "* El usuario elige introduciendo un número"
      ],
      "metadata": {
        "id": "3PMstx5hjbP_"
      }
    },
    {
      "cell_type": "markdown",
      "source": [
        "## Método 1\n",
        "* Esta es una primera aproximación, funciona bien siempre que introduzcamos un número entero.\n",
        "* Si se introduce un texto dará error\n",
        "* Si introducimos un número decimal dará error"
      ],
      "metadata": {
        "id": "fzPFrRFdwGQS"
      }
    },
    {
      "cell_type": "code",
      "execution_count": 27,
      "metadata": {
        "colab": {
          "base_uri": "https://localhost:8080/"
        },
        "id": "AviSa1jTjaeJ",
        "outputId": "7617b625-4847-4086-c79e-f3b05fde07e1"
      },
      "outputs": [
        {
          "output_type": "stream",
          "name": "stdout",
          "text": [
            "\n",
            "    Elija la operación deseada:\n",
            "    1. Compra\n",
            "    2. Venta\n",
            "\n",
            "Indique 1 o 2: 1\n",
            "Usted ha elegido Compra.\n"
          ]
        }
      ],
      "source": [
        "menu = '''\n",
        "    Elija la operación deseada:\n",
        "    1. Compra\n",
        "    2. Venta\n",
        "'''\n",
        "\n",
        "while True:\n",
        "    print(menu)\n",
        "    elegido = int(input(\"Indique 1 o 2: \"))\n",
        "    if elegido in [1,2]:\n",
        "        break\n",
        "\n",
        "if elegido == 1:\n",
        "    print(f\"Usted ha elegido Compra.\")\n",
        "else:\n",
        "    print(f\"Usted ha elegido Venta.\")"
      ]
    },
    {
      "cell_type": "markdown",
      "source": [
        "## Método 2\n",
        "* Versión mejorada\n",
        "* Utiliza una función a la que al final podemos llamar (invocar)\n",
        "* Para evitar errores usamos un ```Try...Except```"
      ],
      "metadata": {
        "id": "bvdqdYEHwtGc"
      }
    },
    {
      "cell_type": "code",
      "source": [
        "def elegir_compra_venta():\n",
        "    while True:\n",
        "        print ('''Elija:\n",
        "            1. Compra\n",
        "            2. Venta''')\n",
        "        try:\n",
        "            elegido = int(input(\"Indique 1 o 2: \"))\n",
        "            if not elegido in range(1, 3):\n",
        "                print ('Entrada incorrecta. El valor introducido debe se un entero en el rango 1 - 2.')\n",
        "                continue\n",
        "            else:\n",
        "                break\n",
        "        except ValueError:\n",
        "            print ('Entrada incorrecta. Debe introducir un número 1 o un número 2.')\n",
        "            continue\n",
        "\n",
        "    return elegido\n",
        "\n",
        "\n",
        "print(f\"Usted ha elegiddo {elegir_compra_venta()}\")"
      ],
      "metadata": {
        "colab": {
          "base_uri": "https://localhost:8080/"
        },
        "id": "rhTV8So_sBmE",
        "outputId": "6c3dd3fb-11cd-47b9-ba3e-7eca51119f0d"
      },
      "execution_count": 21,
      "outputs": [
        {
          "output_type": "stream",
          "name": "stdout",
          "text": [
            "Elija:\n",
            "            1. Compra\n",
            "            2. Venta\n",
            "Indique 1 o 2: 3\n",
            "Entrada incorrecta. El valor introducido debe se un entero en el rango 1 - 2.\n",
            "Elija:\n",
            "            1. Compra\n",
            "            2. Venta\n",
            "Indique 1 o 2: 1.5\n",
            "Entrada incorrecta. Debe introducir un número 1 o un número 2.\n",
            "Elija:\n",
            "            1. Compra\n",
            "            2. Venta\n",
            "Indique 1 o 2: 4/0\n",
            "Entrada incorrecta. Debe introducir un número 1 o un número 2.\n",
            "Elija:\n",
            "            1. Compra\n",
            "            2. Venta\n",
            "Indique 1 o 2: rrrr\n",
            "Entrada incorrecta. Debe introducir un número 1 o un número 2.\n",
            "Elija:\n",
            "            1. Compra\n",
            "            2. Venta\n",
            "Indique 1 o 2: 1\n",
            "Usted ha elegiddo 1\n"
          ]
        }
      ]
    }
  ]
}