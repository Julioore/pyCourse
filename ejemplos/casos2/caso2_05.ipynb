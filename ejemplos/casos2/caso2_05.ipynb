{
  "cells": [
    {
      "cell_type": "markdown",
      "metadata": {
        "id": "view-in-github",
        "colab_type": "text"
      },
      "source": [
        "<a href=\"https://colab.research.google.com/github/financieras/pyCourse/blob/main/ejemplos/caso2.05.ipynb\" target=\"_parent\"><img src=\"https://colab.research.google.com/assets/colab-badge.svg\" alt=\"Open In Colab\"/></a>"
      ]
    },
    {
      "cell_type": "markdown",
      "id": "408239c1",
      "metadata": {
        "id": "408239c1"
      },
      "source": [
        "# Reto 1\n",
        "* Inicializar el generador de números aleatorios con ```random.seed()```\n",
        "* Crear una función que genera una matriz de dimensión 3 × 3. Los elementos de la matriz contendrán números aleatorios entre 1 y 9. La función retorna la matriz generada.  \n",
        "* Usar el condicional ```if __name__ == \"__main__\"``` "
      ]
    },
    {
      "cell_type": "code",
      "execution_count": null,
      "id": "c5a43e92",
      "metadata": {
        "id": "c5a43e92"
      },
      "outputs": [],
      "source": [
        "import random\n",
        "random.seed()\n",
        "\n",
        "def genera():\n",
        "    m = [[0]*3 for _ in range(3)]         # inicializamos la matriz m como una matriz 3x3 de ceros\n",
        "    for i in range(3):                    # recorremos las filas y columnas\n",
        "        for j in range(3):\n",
        "            m[i][j] = random.randint(1,9) # asignamos una aleatorio a cada elemento\n",
        "    return m\n",
        "\n",
        "if __name__ == \"__main__\":                # creamos un procedimiento principal aislado de la función\n",
        "    print(genera())\n"
      ]
    },
    {
      "cell_type": "markdown",
      "id": "41e3c697",
      "metadata": {
        "id": "41e3c697"
      },
      "source": [
        "# Reto 2\n",
        "Crear una matriz que calcula el área de un rectángulo usando los parámetros base y altura. Como base por defecto establecer 10 y como altura por defecto establecer 5."
      ]
    },
    {
      "cell_type": "code",
      "execution_count": null,
      "id": "081747ce",
      "metadata": {
        "id": "081747ce"
      },
      "outputs": [],
      "source": [
        "def area(base=10, altura=5):\n",
        "    return base*altura\n",
        "\n",
        "print(\"El área típica de este rectángulo es\", area())\n",
        "b = 100\n",
        "h = 30\n",
        "print(f\"Un rectángulo de base {b} y altura {h} tiene un área de {area(b,h)}.\")"
      ]
    },
    {
      "cell_type": "markdown",
      "id": "44ce0827",
      "metadata": {
        "id": "44ce0827"
      },
      "source": [
        "# Reto 3\n",
        "Crear una función que genera una lista de longitud n, por defecto n=12, con números aleatorios enteros entre 0 y 1.  \n",
        "Crear una función que, dada la lista anterior, cambie los ceros por pares y los unos por impares, entre 2 y 9."
      ]
    },
    {
      "cell_type": "code",
      "execution_count": null,
      "id": "eef77f98",
      "metadata": {
        "id": "eef77f98"
      },
      "outputs": [],
      "source": [
        "from random import randint, seed, choice\n",
        "seed()\n",
        "\n",
        "def generaLista(n=12):\n",
        "    lista = []\n",
        "    for i in range(n):\n",
        "        lista.append(randint(0,1))\n",
        "    return lista\n",
        "        \n",
        "def transforma(lista):\n",
        "    for i,v in enumerate(lista):\n",
        "        if v: lista[i] = choice(range(3,10,2))\n",
        "        else: lista[i] = choice(range(2,9,2))\n",
        "    return lista\n",
        "        \n",
        "    \n",
        "ceros_unos = generaLista(19)\n",
        "print(ceros_unos)\n",
        "print(transforma(ceros_unos))"
      ]
    }
  ],
  "metadata": {
    "kernelspec": {
      "display_name": "Python 3",
      "language": "python",
      "name": "python3"
    },
    "language_info": {
      "codemirror_mode": {
        "name": "ipython",
        "version": 3
      },
      "file_extension": ".py",
      "mimetype": "text/x-python",
      "name": "python",
      "nbconvert_exporter": "python",
      "pygments_lexer": "ipython3",
      "version": "3.8.8"
    },
    "colab": {
      "name": "caso2.05.ipynb",
      "provenance": [],
      "include_colab_link": true
    }
  },
  "nbformat": 4,
  "nbformat_minor": 5
}