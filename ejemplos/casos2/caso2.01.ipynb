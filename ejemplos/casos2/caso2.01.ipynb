{
  "cells": [
    {
      "cell_type": "markdown",
      "metadata": {
        "id": "view-in-github",
        "colab_type": "text"
      },
      "source": [
        "<a href=\"https://colab.research.google.com/github/financieras/pyCourse/blob/main/ejemplos/caso2.01.ipynb\" target=\"_parent\"><img src=\"https://colab.research.google.com/assets/colab-badge.svg\" alt=\"Open In Colab\"/></a>"
      ]
    },
    {
      "cell_type": "markdown",
      "id": "9bec4271",
      "metadata": {
        "id": "9bec4271"
      },
      "source": [
        "# Reto 1\n",
        "Cree una clase sencilla con un método constructor (```__init__```) y pocos atributos.  \n",
        "Instancie un objeto de esta clase y compruebe los atributos."
      ]
    },
    {
      "cell_type": "code",
      "execution_count": null,
      "id": "1e0fe749",
      "metadata": {
        "id": "1e0fe749"
      },
      "outputs": [],
      "source": [
        "class Pedido:   # nombre en singular y con la primera letra en mayúscula, por convenio\n",
        "\n",
        "    # método constructor, siempre se pone un self que hace referencia al propio objeto\n",
        "    def __init__(self, producto, precio):\n",
        "        self.producto = producto\n",
        "        self.precio = precio\n",
        "        \n",
        "miPatinete = Pedido(\"patinete eléctrico\", 349.99)\n",
        "\n",
        "print(f\"Me he comprado un {miPatinete.producto} por {miPatinete.precio} €.\")"
      ]
    },
    {
      "cell_type": "markdown",
      "id": "8b530bcc",
      "metadata": {
        "id": "8b530bcc"
      },
      "source": [
        "# Reto 2\n",
        "* Crear la clase Coche con los atributos:\n",
        " - marca\n",
        " - modelo\n",
        " - año\n",
        " - térmico (si o no)\n",
        " - consumo\n",
        " - autonomía (Km)\n",
        " - lista de países donde se fabrica\n",
        "* Instanciar dos objetos de tipo coche.\n",
        "* Mostrar una frase comentando las características de un objeto de este tipo."
      ]
    },
    {
      "cell_type": "markdown",
      "id": "75104273",
      "metadata": {
        "id": "75104273"
      },
      "source": [
        "# Método 1"
      ]
    },
    {
      "cell_type": "code",
      "execution_count": null,
      "id": "ff9b9e06",
      "metadata": {
        "id": "ff9b9e06"
      },
      "outputs": [],
      "source": [
        "class Coche:\n",
        "    def __init__(self, marca, modelo, year, termico, consumo, autonomia, paises):\n",
        "        self.marca = marca\n",
        "        self.modelo = modelo\n",
        "        self.year = year            # no ponemos año para evitar ñ\n",
        "        self.termico = termico      # evitamos acentos\n",
        "        self.consumo = consumo\n",
        "        self.autonomia = autonomia\n",
        "        self.paises = paises        # es una lista de países, si es uno solo se pone como lista: ['España']\n",
        "\n",
        "    def describe(self):\n",
        "        print(f\"Tengo un {self.marca} {self.modelo}, del año {self.year}.\")\n",
        "        print(f\"Consume {self.consumo}, tiene una autonomía de {self.autonomia} Km y se fabrica en {self.paises[0]}.\")\n",
        "\n",
        "miA3 = Coche(\"Audi\", \"A3\", 2020, True, 3.8, 990, ['Alemania'])\n",
        "miTesla3 = Coche(\"Tesla\", \"Model 3\", 2022, False, 16.2, 614, ['EEUU', 'China', 'Alemania'])\n",
        "\n",
        "miA3.describe()\n",
        "print()\n",
        "miTesla3.describe()"
      ]
    },
    {
      "cell_type": "markdown",
      "id": "34968cb8",
      "metadata": {
        "id": "34968cb8"
      },
      "source": [
        "# Método 2"
      ]
    },
    {
      "cell_type": "code",
      "execution_count": null,
      "id": "c60d3b0f",
      "metadata": {
        "id": "c60d3b0f"
      },
      "outputs": [],
      "source": [
        "class Coche:\n",
        "    def __init__(self, marca, modelo, year, termico, consumo, autonomia, paises):\n",
        "        self.marca = marca\n",
        "        self.modelo = modelo\n",
        "        self.year = year\n",
        "        self.termico = termico\n",
        "        self.consumo = consumo\n",
        "        self.autonomia = autonomia\n",
        "        self.paises = paises\n",
        "        \n",
        "    def esTermico(self):\n",
        "        if self.termico:\n",
        "            return \"térmico\"\n",
        "        else:\n",
        "            return \"eléctrico\"\n",
        "    def elConsumo(self):\n",
        "        if self.termico:\n",
        "            return \"litros a los 100 Km\"\n",
        "        else:\n",
        "            return \"Kw/h\"\n",
        "    def lasFabricas(self):\n",
        "        todos = \"\"\n",
        "        for pais in self.paises:\n",
        "            todos += pais + \", \"\n",
        "        return todos[:-2]\n",
        "\n",
        "    def describe(self):\n",
        "        print(f\"Mi {self.marca} {self.modelo}, del año {self.year}, es un vehículo {self.esTermico()}, \" \\\n",
        "        f\"consume {self.consumo} {self.elConsumo()}, tiene una autonomía de {self.autonomia} Km \"\\\n",
        "        f\"y se fabrica en {self.lasFabricas()}.\")\n",
        "\n",
        "miA3 = Coche(\"Audi\", \"A3\", 2020, True, 3.8, 990, ['Alemania'])\n",
        "miTesla3 = Coche(\"Tesla\", \"Model 3\", 2022, False, 16.2, 614, ['EEUU', 'China', 'Alemania'])\n",
        "\n",
        "miA3.describe()\n",
        "print()\n",
        "miTesla3.describe()"
      ]
    },
    {
      "cell_type": "markdown",
      "id": "b2cb84bf",
      "metadata": {
        "id": "b2cb84bf"
      },
      "source": [
        "# Reto 3\n",
        "Establezca y utilize el método especial ```__str__```."
      ]
    },
    {
      "cell_type": "markdown",
      "id": "4b7f5371",
      "metadata": {
        "id": "4b7f5371"
      },
      "source": [
        "# Método 1"
      ]
    },
    {
      "cell_type": "code",
      "execution_count": 1,
      "id": "33c502cd",
      "metadata": {
        "id": "33c502cd",
        "outputId": "dcc7ded6-b752-4197-ddcb-ea8d77317e2a",
        "colab": {
          "base_uri": "https://localhost:8080/"
        }
      },
      "outputs": [
        {
          "output_type": "stream",
          "name": "stdout",
          "text": [
            "Mi portátil es de la marca HP, modelo Envy.\n"
          ]
        }
      ],
      "source": [
        "class Laptop:\n",
        "    def __init__(self, marca, modelo):             # método constructor\n",
        "        self.marca = marca\n",
        "        self.modelo = modelo\n",
        "\n",
        "    def __str__(self):\n",
        "        return f\"es de la marca {self.marca}, modelo {self.modelo}.\"\n",
        "\n",
        "miPortatil = Laptop(\"HP\", \"Envy\")\n",
        "\n",
        "print(\"Mi portátil\", miPortatil)\n",
        "    "
      ]
    },
    {
      "cell_type": "markdown",
      "id": "f9a378ca",
      "metadata": {
        "id": "f9a378ca"
      },
      "source": [
        "# Método 2\n",
        "Usando dentro del método ```__str__``` algún print."
      ]
    },
    {
      "cell_type": "code",
      "execution_count": 10,
      "id": "25f6c344",
      "metadata": {
        "id": "25f6c344",
        "outputId": "ed8ea708-5b0b-45cf-e01f-661d0eb937e0",
        "colab": {
          "base_uri": "https://localhost:8080/"
        }
      },
      "outputs": [
        {
          "output_type": "stream",
          "name": "stdout",
          "text": [
            "HOLA\n",
            "Mi portátil es de la marca HP, modelo Envy\n"
          ]
        }
      ],
      "source": [
        "class Laptop:\n",
        "    def __init__(self, marca, modelo):             # método constructor\n",
        "        self.marca = marca\n",
        "        self.modelo = modelo\n",
        "\n",
        "    def __str__(self):                                                      # se imprimen dos frases\n",
        "        print(\"HOLA\")                                                       # la primera frase imprime HOLA\n",
        "        print(f\"Mi portátil es de la marca {self.marca}, modelo \", end=\"\")  # el modelo no se dice aquí\n",
        "        return self.modelo                                                  # el modelo va en el return\n",
        "\n",
        "miPortatil = Laptop(\"HP\", \"Envy\")\n",
        "\n",
        "print(miPortatil)"
      ]
    }
  ],
  "metadata": {
    "kernelspec": {
      "display_name": "Python 3",
      "language": "python",
      "name": "python3"
    },
    "language_info": {
      "codemirror_mode": {
        "name": "ipython",
        "version": 3
      },
      "file_extension": ".py",
      "mimetype": "text/x-python",
      "name": "python",
      "nbconvert_exporter": "python",
      "pygments_lexer": "ipython3",
      "version": "3.8.8"
    },
    "colab": {
      "name": "caso2.01.ipynb",
      "provenance": [],
      "include_colab_link": true
    }
  },
  "nbformat": 4,
  "nbformat_minor": 5
}