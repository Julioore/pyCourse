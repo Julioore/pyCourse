{
 "cells": [
  {
   "cell_type": "markdown",
   "id": "9bec4271",
   "metadata": {},
   "source": [
    "# Reto 1\n",
    "Cree una clase sencilla con un método constructor (```__init__```) y pocos atributos.  \n",
    "Instancie un objeto de esta clase y compruebe los atributos."
   ]
  },
  {
   "cell_type": "code",
   "execution_count": null,
   "id": "1e0fe749",
   "metadata": {},
   "outputs": [],
   "source": [
    "class Pedido:                        # nombre en singular y con la primera letra en mayúscula, por convenio\n",
    "    # método constructor, siempre se pone un self que hace referencia al propio objeto\n",
    "    def __init__(self,producto, precio):\n",
    "        self.producto = producto\n",
    "        self.precio = precio\n",
    "        \n",
    "miPatinete = Pedido(\"patinete eléctrico\",349.99)\n",
    "\n",
    "print(f\"Me he comprado un {miPatinete.producto} por {miPatinete.precio} €.\")"
   ]
  },
  {
   "cell_type": "markdown",
   "id": "8b530bcc",
   "metadata": {},
   "source": [
    "# Reto 2\n",
    "* Crear la clase Coche con los atributos:\n",
    " - marca\n",
    " - modelo\n",
    " - año\n",
    " - termico (si o no)\n",
    " - consumo\n",
    " - autonomía (Km)\n",
    " - lista de paises donde se fabrica\n",
    "* Instanciar dos objetos de tipo coche.\n",
    "* Mostrar una frase comentando las características de un objeto de este tipo."
   ]
  },
  {
   "cell_type": "markdown",
   "id": "75104273",
   "metadata": {},
   "source": [
    "# Método 1"
   ]
  },
  {
   "cell_type": "code",
   "execution_count": null,
   "id": "ff9b9e06",
   "metadata": {},
   "outputs": [],
   "source": [
    "class Coche:\n",
    "    def __init__(self,marca,modelo,year,termico,consumo,autonomia,paises):\n",
    "        self.marca = marca\n",
    "        self.modelo = modelo\n",
    "        self.year = year            # no ponemos año para evitar ñ\n",
    "        self.termico = termico      # evitamos acentos\n",
    "        self.consumo = consumo\n",
    "        self.autonomia = autonomia\n",
    "        self.paises = paises        # es una lista de paises, si es uno solo se pone como lista: ['España']\n",
    "\n",
    "    def describe(self):\n",
    "        print(f\"Tengo un {self.marca} {self.modelo}, del año {self.year}.\")\n",
    "        print(f\"Consume {self.consumo}, tiene una autonomía de {self.autonomia} Km y se fabrica en {self.paises[0]}.\")\n",
    "\n",
    "miA3 = Coche(\"Audi\",\"A3\",2020,True,3.8,990,['Alemania'])\n",
    "miTesla3 = Coche(\"Tesla\",\"Model 3\",2022,False,16.2,614,['EEUU','China'])\n",
    "\n",
    "miA3.describe()\n",
    "print()\n",
    "miTesla3.describe()"
   ]
  },
  {
   "cell_type": "markdown",
   "id": "34968cb8",
   "metadata": {},
   "source": [
    "# Método 2"
   ]
  },
  {
   "cell_type": "code",
   "execution_count": null,
   "id": "c60d3b0f",
   "metadata": {},
   "outputs": [],
   "source": [
    "class Coche:\n",
    "    def __init__(self,marca,modelo,year,termico,consumo,autonomia,paises):\n",
    "        self.marca = marca\n",
    "        self.modelo = modelo\n",
    "        self.year = year\n",
    "        self.termico = termico\n",
    "        self.consumo = consumo\n",
    "        self.autonomia = autonomia\n",
    "        self.paises = paises\n",
    "        \n",
    "    def esTermico(self):\n",
    "        if self.termico:\n",
    "            return \"térmico\"\n",
    "        else:\n",
    "            return \"eléctrico\"\n",
    "    def elConsumo(self):\n",
    "        if self.termico:\n",
    "            return \"litros a los 100 Km\"\n",
    "        else:\n",
    "            return \"Kw/h\"\n",
    "    def lasFabricas(self):\n",
    "        todos = \"\"\n",
    "        for pais in self.paises:\n",
    "            todos += pais + \", \"\n",
    "        return todos[:-2]\n",
    "\n",
    "    def describe(self):\n",
    "        print(f\"Mi {self.marca} {self.modelo}, del año {self.year}, es un vehículo {self.esTermico()}, \" \\\n",
    "        f\"consume {self.consumo} {self.elConsumo()}, tiene una autonomía de {self.autonomia} Km \"\\\n",
    "        f\"y se fabrica en {self.lasFabricas()}.\")\n",
    "\n",
    "miA3 = Coche(\"Audi\",\"A3\",2020,True,3.8,990,['Alemania'])\n",
    "miTesla3 = Coche(\"Tesla\",\"Model 3\",2022,False,16.2,614,['EEUU','China'])\n",
    "\n",
    "miA3.describe()\n",
    "print()\n",
    "miTesla3.describe()"
   ]
  },
  {
   "cell_type": "markdown",
   "id": "b2cb84bf",
   "metadata": {},
   "source": [
    "# Reto 3\n",
    "Establezca y utilize el método especial ```__str__```."
   ]
  },
  {
   "cell_type": "markdown",
   "id": "4b7f5371",
   "metadata": {},
   "source": [
    "# Método 1"
   ]
  },
  {
   "cell_type": "code",
   "execution_count": null,
   "id": "33c502cd",
   "metadata": {},
   "outputs": [],
   "source": [
    "class Laptop:\n",
    "    def __init__(self, marca, modelo):             # método constructor\n",
    "        self.marca = marca\n",
    "        self.modelo = modelo\n",
    "\n",
    "    def __str__(self):\n",
    "        return f\"es de la marca {self.marca}, modelo {self.modelo}.\"\n",
    "\n",
    "miPortatil = Laptop(\"HP\", \"Envy\")\n",
    "\n",
    "print(\"Mi portatil\", miPortatil)\n",
    "    "
   ]
  },
  {
   "cell_type": "markdown",
   "id": "f9a378ca",
   "metadata": {},
   "source": [
    "# Método 2\n",
    "Usando dentro del método ```__str__``` algún print."
   ]
  },
  {
   "cell_type": "code",
   "execution_count": null,
   "id": "25f6c344",
   "metadata": {},
   "outputs": [],
   "source": [
    "class Laptop:\n",
    "    def __init__(self, marca, modelo):             # método constructor\n",
    "        self.marca = marca\n",
    "        self.modelo = modelo\n",
    "\n",
    "    def __str__(self):\n",
    "        print(\"HOLA\")\n",
    "        print(f\"Mi portatil es de la marca {self.marca}, modelo \",end=\"\")\n",
    "        return self.modelo\n",
    "\n",
    "miPortatil = Laptop(\"HP\", \"Envy\")\n",
    "\n",
    "print(miPortatil)"
   ]
  }
 ],
 "metadata": {
  "kernelspec": {
   "display_name": "Python 3",
   "language": "python",
   "name": "python3"
  },
  "language_info": {
   "codemirror_mode": {
    "name": "ipython",
    "version": 3
   },
   "file_extension": ".py",
   "mimetype": "text/x-python",
   "name": "python",
   "nbconvert_exporter": "python",
   "pygments_lexer": "ipython3",
   "version": "3.8.8"
  }
 },
 "nbformat": 4,
 "nbformat_minor": 5
}
