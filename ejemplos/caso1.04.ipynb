{
 "cells": [
  {
   "cell_type": "markdown",
   "id": "9bed1a24",
   "metadata": {},
   "source": [
    "# Reto 1\n",
    "Acumular.\n",
    "\n",
    "Generar una lista con los números del 10 al 20 y sumar los múltiplos de 3."
   ]
  },
  {
   "cell_type": "code",
   "execution_count": null,
   "id": "4076e537",
   "metadata": {},
   "outputs": [],
   "source": [
    "total = 0                         # inicializamos la variable que servirá de acumulador\n",
    "mirango = range(10,21)\n",
    "print(list(mirango))\n",
    "\n",
    "for i in mirango:\n",
    "    if i%3==0:\n",
    "        total += i                # acumulamos los valores que cumplen el criterio\n",
    "        \n",
    "print(\"La suma de los múltiplos de 3 es:\",total)"
   ]
  },
  {
   "cell_type": "markdown",
   "id": "57a87490",
   "metadata": {},
   "source": [
    "# Reto 2\n",
    "Media.\n",
    "\n",
    "Generar una lista con los números del 10 al 20 y calcular la media de los múltiplos de 3."
   ]
  },
  {
   "cell_type": "markdown",
   "id": "28d638df",
   "metadata": {},
   "source": [
    "## Método 1"
   ]
  },
  {
   "cell_type": "code",
   "execution_count": null,
   "id": "5363354a",
   "metadata": {},
   "outputs": [],
   "source": [
    "total = 0\n",
    "contador = 0                      # inicializamos el contador\n",
    "\n",
    "for i in range(10,21):\n",
    "    if i%3==0:\n",
    "        contador += 1             # esto es un contador que se incrementa de 1 en 1\n",
    "        total += i                # acumulamos los valores que cumplen el criterio\n",
    "        \n",
    "print(\"La media de los múltiplos de 3 es:\",total/contador)"
   ]
  },
  {
   "cell_type": "markdown",
   "id": "4f92907d",
   "metadata": {},
   "source": [
    "## Método 2"
   ]
  },
  {
   "cell_type": "code",
   "execution_count": null,
   "id": "b11afb55",
   "metadata": {},
   "outputs": [],
   "source": [
    "total = 0\n",
    "for i in range(12,21,3):\n",
    "    total += i\n",
    "        \n",
    "print(\"La media de los múltiplos de 3 es:\",total/len(range(12,21,3)))"
   ]
  },
  {
   "cell_type": "markdown",
   "id": "d51b2d01",
   "metadata": {},
   "source": [
    "# Reto 3\n",
    "¿Cuántos superan cierto umbral?\n",
    "\n",
    "Generar 10 números aleatorios entre 1 y 10 y decir cuantos son mayores o iguales a 6."
   ]
  },
  {
   "cell_type": "code",
   "execution_count": null,
   "id": "88ace71a",
   "metadata": {},
   "outputs": [],
   "source": [
    "from random import randint      # de la librería random importamos la función randint\n",
    "\n",
    "contador = 0\n",
    "for i in range(10):\n",
    "    n = randint(1,10)\n",
    "    print(n)\n",
    "    if n>=6:\n",
    "        contador += 1\n",
    "        \n",
    "print(f\"Los mayores o iguales a 6 son {contador}.\")"
   ]
  }
 ],
 "metadata": {
  "kernelspec": {
   "display_name": "Python 3",
   "language": "python",
   "name": "python3"
  },
  "language_info": {
   "codemirror_mode": {
    "name": "ipython",
    "version": 3
   },
   "file_extension": ".py",
   "mimetype": "text/x-python",
   "name": "python",
   "nbconvert_exporter": "python",
   "pygments_lexer": "ipython3",
   "version": "3.8.8"
  }
 },
 "nbformat": 4,
 "nbformat_minor": 5
}
