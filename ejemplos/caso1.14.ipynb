{
 "cells": [
  {
   "cell_type": "markdown",
   "id": "c5a90d96",
   "metadata": {},
   "source": [
    "# Desafío 1\n",
    "Generar una lista con números aleatorios sin repetición."
   ]
  },
  {
   "cell_type": "code",
   "execution_count": null,
   "id": "57ba4c5c",
   "metadata": {},
   "outputs": [],
   "source": [
    "import random\n",
    "\n",
    "lista20 = list(range(1,21))       # lista con los números correlativos del 1 al 20\n",
    "print(lista20)\n",
    "\n",
    "lista = random.sample(lista20,5)  # de la lista anterior elegimos 5 aleatoriamente y sin repetición\n",
    "print(lista)"
   ]
  },
  {
   "cell_type": "markdown",
   "id": "8f214ea5",
   "metadata": {},
   "source": [
    "# Desafío 2\n",
    "Ordenar una lista con sort."
   ]
  },
  {
   "cell_type": "code",
   "execution_count": null,
   "id": "c602e35e",
   "metadata": {},
   "outputs": [],
   "source": [
    "lista = [14, 10, 16, 8, 5, 4, 13, 19, 6, 7]\n",
    "print(lista)\n",
    "lista.sort()                      # ordenamos la lista con sort\n",
    "print(lista)"
   ]
  },
  {
   "cell_type": "markdown",
   "id": "ee8a086b",
   "metadata": {},
   "source": [
    "# Desafío 3\n",
    "Ordenar una lista sin sort."
   ]
  },
  {
   "cell_type": "markdown",
   "id": "11841e67",
   "metadata": {},
   "source": [
    "## Solución\n",
    "Existen bastantes métodos de ordenación, por ejemplo el método de la burbuja o el QuickSort que se puede ver en el siguiente port de nuestro blog.\n",
    "\n",
    "[Ordenación QuickSort en Python](https://altocodigo.blogspot.com/2018/06/ordenacion-quicksort-en-python.html)\n",
    "\n",
    "Veamos ahora el método de la burbuja que consiste en ordenar por parejas cada dos elementos contiguos. Dando varias pasadas se consigue ordenar todo."
   ]
  },
  {
   "cell_type": "code",
   "execution_count": null,
   "id": "890337d7",
   "metadata": {},
   "outputs": [],
   "source": [
    "def burbuja(l):\n",
    "    for i in range(1,len(l)):\n",
    "        for j in range(0,len(l)-i):\n",
    "            if(l[j+1] < l[j]):\n",
    "                l[j],l[j+1] = l[j+1],l[j]   # intercambiamos los valores de la pareja contígua\n",
    "    return l\n",
    "\n",
    "l = [14, 10, 16, 8, 5, 4, 13, 19, 6, 7]\n",
    "print(l)\n",
    "print(burbuja(l))"
   ]
  }
 ],
 "metadata": {
  "kernelspec": {
   "display_name": "Python 3",
   "language": "python",
   "name": "python3"
  },
  "language_info": {
   "codemirror_mode": {
    "name": "ipython",
    "version": 3
   },
   "file_extension": ".py",
   "mimetype": "text/x-python",
   "name": "python",
   "nbconvert_exporter": "python",
   "pygments_lexer": "ipython3",
   "version": "3.8.8"
  }
 },
 "nbformat": 4,
 "nbformat_minor": 5
}
