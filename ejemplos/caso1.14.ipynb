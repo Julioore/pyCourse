{
  "cells": [
    {
      "cell_type": "markdown",
      "metadata": {
        "id": "view-in-github",
        "colab_type": "text"
      },
      "source": [
        "<a href=\"https://colab.research.google.com/github/financieras/pyCourse/blob/main/ejemplos/caso1.14.ipynb\" target=\"_parent\"><img src=\"https://colab.research.google.com/assets/colab-badge.svg\" alt=\"Open In Colab\"/></a>"
      ]
    },
    {
      "cell_type": "markdown",
      "id": "c5a90d96",
      "metadata": {
        "id": "c5a90d96"
      },
      "source": [
        "# Reto 1\n",
        "Generar una lista con números aleatorios sin repetición."
      ]
    },
    {
      "cell_type": "markdown",
      "id": "98e8ee45",
      "metadata": {
        "id": "98e8ee45"
      },
      "source": [
        "## Método 1"
      ]
    },
    {
      "cell_type": "code",
      "execution_count": null,
      "id": "57ba4c5c",
      "metadata": {
        "id": "57ba4c5c"
      },
      "outputs": [],
      "source": [
        "import random\n",
        "\n",
        "lista20 = list(range(1,21))        # lista con los números correlativos del 1 al 20\n",
        "print(lista20)\n",
        "\n",
        "lista = random.sample(lista20, 5)  # de la lista anterior elegimos 5 aleatoriamente y sin repetición\n",
        "print(lista)"
      ]
    },
    {
      "cell_type": "markdown",
      "id": "23fe39a7",
      "metadata": {
        "id": "23fe39a7"
      },
      "source": [
        "## Método 2\n",
        "El método random.choice elige **con repetición** de forma aleatoria, elementos de una lista (u otro iterable).  \n",
        "- Creamos un rango con los números correlativos entre 1 y 20.\n",
        "- Elegimos 7 elementos con posible repetición\n",
        "- La ventaja del conjunto es que no admite repetidos.  \n",
        "- Convertimos la  lista en un conjunto y luego en una lista, asi conseguimos eliminar repetidos.\n",
        "\n",
        "El gran inconveniente de este método es que no se sabe con certeza el número de elementos resultantes de la lista final. No sabemos si serán 7 o menos."
      ]
    },
    {
      "cell_type": "code",
      "execution_count": null,
      "id": "8a6512ee",
      "metadata": {
        "id": "8a6512ee"
      },
      "outputs": [],
      "source": [
        "import random\n",
        "\n",
        "l = random.choices(range(1,21), k = 7)      # la lista l contiene 7 elementos con posible repetición\n",
        "l = list(set(l))                            # se eliminan las repeticiones\n",
        "l.sort()                                    # ordenamos la lista\n",
        "print(l)                                    # La lista final tendrá 7 elementos o menos, no se sabe"
      ]
    },
    {
      "cell_type": "markdown",
      "id": "8f214ea5",
      "metadata": {
        "id": "8f214ea5"
      },
      "source": [
        "# Reto 2\n",
        "Ordenar una lista con sort."
      ]
    },
    {
      "cell_type": "code",
      "execution_count": null,
      "id": "c602e35e",
      "metadata": {
        "id": "c602e35e"
      },
      "outputs": [],
      "source": [
        "lista = [14, 10, 16, 8, 5, 4, 13, 19, 6, 7]\n",
        "print(lista)\n",
        "lista.sort()                      # ordenamos la lista con sort\n",
        "print(lista)"
      ]
    },
    {
      "cell_type": "markdown",
      "id": "ee8a086b",
      "metadata": {
        "id": "ee8a086b"
      },
      "source": [
        "# Reto 3\n",
        "Ordenar una lista sin sort."
      ]
    },
    {
      "cell_type": "markdown",
      "id": "11841e67",
      "metadata": {
        "id": "11841e67"
      },
      "source": [
        "## Solución\n",
        "Existen bastantes métodos de ordenación, por ejemplo el método de la burbuja o el QuickSort que se puede ver en el siguiente post de nuestro blog.\n",
        "\n",
        "[Ordenación QuickSort en Python](https://altocodigo.blogspot.com/2018/06/ordenacion-quicksort-en-python.html)\n",
        "\n",
        "Veamos ahora el método de la burbuja que consiste en ordenar por parejas cada dos elementos contiguos. Dando varias pasadas se consigue ordenar todo."
      ]
    },
    {
      "cell_type": "code",
      "execution_count": null,
      "id": "890337d7",
      "metadata": {
        "id": "890337d7"
      },
      "outputs": [],
      "source": [
        "def burbuja(l):\n",
        "    for i in range(1, len(l)):\n",
        "        for j in range(0, len(l)-i):\n",
        "            if(l[j+1] < l[j]):\n",
        "                l[j], l[j+1] = l[j+1], l[j]   # intercambiamos los valores de la pareja contigua\n",
        "    return l\n",
        "\n",
        "l = [14, 10, 16, 8, 5, 4, 13, 19, 6, 7]\n",
        "print(l)\n",
        "print(burbuja(l))"
      ]
    }
  ],
  "metadata": {
    "kernelspec": {
      "display_name": "Python 3",
      "language": "python",
      "name": "python3"
    },
    "language_info": {
      "codemirror_mode": {
        "name": "ipython",
        "version": 3
      },
      "file_extension": ".py",
      "mimetype": "text/x-python",
      "name": "python",
      "nbconvert_exporter": "python",
      "pygments_lexer": "ipython3",
      "version": "3.8.8"
    },
    "colab": {
      "name": "caso1.14.ipynb",
      "provenance": [],
      "include_colab_link": true
    }
  },
  "nbformat": 4,
  "nbformat_minor": 5
}