{
 "cells": [
  {
   "cell_type": "markdown",
   "id": "56e349bb",
   "metadata": {},
   "source": [
    "# Pista 1\n",
    "Generar 10 números aleatorios entre 100 y 200 y calcular su media."
   ]
  },
  {
   "cell_type": "code",
   "execution_count": null,
   "id": "ccd39884",
   "metadata": {},
   "outputs": [],
   "source": [
    "from random import randint\n",
    "from statistics import mean\n",
    "\n",
    "def generaLista():\n",
    "    lista = []\n",
    "    for i in range(10):\n",
    "        lista.append(randint(100,200))\n",
    "    return lista\n",
    "\n",
    "lista = generaLista()\n",
    "print(lista)\n",
    "print(\"La media es\",mean(lista))"
   ]
  }
 ],
 "metadata": {
  "kernelspec": {
   "display_name": "Python 3",
   "language": "python",
   "name": "python3"
  },
  "language_info": {
   "codemirror_mode": {
    "name": "ipython",
    "version": 3
   },
   "file_extension": ".py",
   "mimetype": "text/x-python",
   "name": "python",
   "nbconvert_exporter": "python",
   "pygments_lexer": "ipython3",
   "version": "3.8.8"
  }
 },
 "nbformat": 4,
 "nbformat_minor": 5
}
