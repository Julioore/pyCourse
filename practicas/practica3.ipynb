{
 "cells": [
  {
   "cell_type": "markdown",
   "id": "cf38abef",
   "metadata": {},
   "source": [
    "# Práctica 3\n",
    "Asignatura C1: Python  \n",
    "\n",
    "- Nombre:  \n",
    "- Apellidos:  \n",
    "- Fecha:  \n",
    "\n",
    "Resuelva aquí los ejercicios siguientes abriendo una celda después de cada uno de ellos. "
   ]
  },
  {
   "cell_type": "markdown",
   "id": "97ca35fe",
   "metadata": {},
   "source": [
    "### Ejercicio 3.1. Capitalización compuesta\n",
    "Dado un capital inicial de 100.000 € y un tipo de interés del 6% anual calcular cómo evoluciona el capital durante una serie de años hasta el plazo que nos indique el usuario. Si el usuario, cuando se le pregunte, no indica plazo y pulsa Enter, tomar como plazo por defecto 10 años. Junto a cada capital indicar también los intereses devengados cada año. Mostrar en pantalla los importes redondeados a dos decimales y conseguir que las dos columnas queden alineadas al punto decimal.  Mostrar un gráfico que ilustre la evolución del capital a lo largo del tiempo."
   ]
  },
  {
   "cell_type": "markdown",
   "id": "bcb1301a",
   "metadata": {},
   "source": [
    "### Ejercicio 3.2. Generar palabras\n",
    "Generar palabras de 6 caracteres del tipo cvcvcv, donde c representa una consonante y donde v representa una vocal. Hacer una lista de varias palabras separadas por coma, y probar la lista en una página de dominios de internet para ver si existe alguno de estos libre. Ejemplo: casato.com"
   ]
  },
  {
   "cell_type": "markdown",
   "id": "f2b49a2b",
   "metadata": {},
   "source": [
    "### Ejercicio 3.3. Gráfico histórico del IBEX\n",
    "Descargar un archivo con formato csv de la página de Yahoo Finanzas con la cotización del IBEX o de otra fuente disponible. Crear un procedimiento que lea el fichero y finalmente obtenga un gráfico del histórico del cierre del IBEX. Tomar el periodo histórico más largo posible."
   ]
  }
 ],
 "metadata": {
  "kernelspec": {
   "display_name": "Python 3",
   "language": "python",
   "name": "python3"
  },
  "language_info": {
   "codemirror_mode": {
    "name": "ipython",
    "version": 3
   },
   "file_extension": ".py",
   "mimetype": "text/x-python",
   "name": "python",
   "nbconvert_exporter": "python",
   "pygments_lexer": "ipython3",
   "version": "3.8.8"
  }
 },
 "nbformat": 4,
 "nbformat_minor": 5
}
