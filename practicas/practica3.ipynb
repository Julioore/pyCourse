{
 "cells": [
  {
   "cell_type": "markdown",
   "id": "8b40af46",
   "metadata": {},
   "source": [
    "# Práctica 3. Asignatura C1: Python\n",
    "Tercera quincena.  \n",
    "\n",
    "- Nombre:  \n",
    "- Apellidos:  \n",
    "- Fecha:  \n",
    "\n",
    "1. No olvide poner su nombre, apellidos y la fecha de envío.  \n",
    "2. Resuelva aquí los ejercicios abriendo una celda después de cada uno de los enunciados siguientes.  \n",
    "3. Es posible que para resolver estos ejercicios necesite crear archivos de extensión **.py**, si este fuera el caso, no olvide adjuntarlos al entregar la práctica.  \n",
    "4. Documente la solución de los ejercicios añadiendo suficientes **comentarios** del programador que expliquen el código.\n",
    "5. Realizar un **mínimo de 3** ejercicios."
   ]
  },
  {
   "cell_type": "markdown",
   "id": "90a31d0f",
   "metadata": {},
   "source": [
    "### Ejercicio 3.1. Trabajar con un DataSet\n",
    "* Obtener un dataset, preferiblemente con datos financieros, actuariales, económicos o estadísticos.\n",
    "* Crear un modelo de anális de los datos, utilizando las librerías principales para el análisis de datos, por ejemplo:\n",
    "    - NumPy\n",
    "    - Pandas\n",
    "    - Matplotlib"
   ]
  },
  {
   "cell_type": "markdown",
   "id": "90020a63",
   "metadata": {},
   "source": [
    "### Ejercicio 3.2. Gráfico histórico de un índice o valor bursátil\n",
    "* Descargar un archivo con formato csv de la página de Yahoo Finanzas con la cotización de un índece (IBEX, NASDAQ, ...) o valor bursatil\n",
    "* o bien, de otra fuente disponible.\n",
    "* Crear un procedimiento que lea el fichero y finalmente obtenga un gráfico del histórico del índice o valor.\n",
    "* Tomar el periodo histórico más largo posible.\n",
    "* Alternativamente, si disponemos de una API o fuente de información diferente de un csv descargado de forma manual, también se podría realizar de una forma más automatizada."
   ]
  },
  {
   "cell_type": "markdown",
   "id": "42322381",
   "metadata": {},
   "source": [
    "### Ejercicio 3.3. Trabajar con la Librería openpyxl\n",
    "* Crear una aplicación programada en Python que permita interactuar con la **hoja de cálculo** tanto para lectura, como para escritura.\n",
    "* Utilice la Librería openpyxl, u otra que considere adecuada para interactuar con hoja de cálculo"
   ]
  },
  {
   "cell_type": "markdown",
   "id": "9adbef23",
   "metadata": {},
   "source": [
    "### Ejercicio 3.4. Librería actuarial\n",
    "* Utilizando la librería actuarial **pyliferisk**, o cualquier otra que considere adecuada en este campo, cree un caso donde se muestren diferentes cálculos y procedimientos que se puedan realizar con ella.\n",
    "* Alternativamente, puede realizar su propia librería actuarial y probarla creando ejemplos prácticos. En este caso, no olvide documentar la funcionalidad de los métodos que programe, utilizando POO."
   ]
  },
  {
   "cell_type": "markdown",
   "id": "37241230",
   "metadata": {},
   "source": [
    "### Ejercicio 3.5. Trabajar con una API\n",
    "* Localizar una API con datos que puedan resultar de interés.\n",
    "* Crear una plicación programada en Python que utilize los datos de la API, preferiblemente con datos en tiempo real.\n",
    "* Mostrar la información procesada, según ciertos filtros, por nuestra aplicación, que faciliten el uso de la API."
   ]
  },
  {
   "cell_type": "markdown",
   "id": "67115e56",
   "metadata": {},
   "source": [
    "### Ejercicio 3.6. Página web con Flask\n",
    "* Crear una aplicación de pagina web programada en Python con el framework Flask.\n",
    "* Puede desplegarla en alguna plataforma gratuita como, por ejemplo, [Pythonanywhere](https://www.pythonanywhere.com) o [Heroku](https://www.heroku.com)."
   ]
  },
  {
   "cell_type": "markdown",
   "id": "7e80d728",
   "metadata": {},
   "source": [
    "### Ejercicio 3.7. Bot de Telegram que proporciona cotizaciones en tiempo real\n",
    "Crear un Bot de Telegram programado en Python que realizando **Web Scraping** nos pueda dar precios en tiempo real de valores cotizados en bolsa, o en mercados financieros internacionales.  \n",
    "Adjuntar capturas de pantalla mostrando el funcionamiento del bot en Telegram."
   ]
  }
 ],
 "metadata": {
  "kernelspec": {
   "display_name": "Python 3",
   "language": "python",
   "name": "python3"
  },
  "language_info": {
   "codemirror_mode": {
    "name": "ipython",
    "version": 3
   },
   "file_extension": ".py",
   "mimetype": "text/x-python",
   "name": "python",
   "nbconvert_exporter": "python",
   "pygments_lexer": "ipython3",
   "version": "3.8.8"
  }
 },
 "nbformat": 4,
 "nbformat_minor": 5
}
