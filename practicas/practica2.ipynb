{
 "cells": [
  {
   "cell_type": "markdown",
   "id": "848b64b1",
   "metadata": {},
   "source": [
    "# Práctica 2. Asignatura C1: Python\n",
    "Segunda quincena.  \n",
    "\n",
    "- Nombre:  \n",
    "- Apellidos:  \n",
    "- Fecha:  \n",
    "\n",
    "1. No olvide poner su nombre, apellidos y la fecha de envío.  \n",
    "2. Resuelva aquí los ejercicios abriendo una celda después de cada uno de los enunciados siguientes.  \n",
    "3. Documente la solución de los ejercicios añadiendo suficientes **comentarios** del programador que expliquen el código."
   ]
  },
  {
   "cell_type": "markdown",
   "id": "2a4b20c9",
   "metadata": {},
   "source": [
    "## Ejercicio 2.1. El objeto persona\n",
    "* Crear la clase Persona con los atributos:\n",
    " - nombre\n",
    " - edad\n",
    " - profesión\n",
    " - altura\n",
    " - ciudad y \n",
    " - otro de su elección.  \n",
    "* Crear un par de objetos Persona.  \n",
    "* Finalmente deseamos que cada persona nos cuente algo de su vida.  \n",
    "* Establezca y utilize el método especial \\_\\_str\\_\\_."
   ]
  },
  {
   "cell_type": "markdown",
   "id": "8bdb087c",
   "metadata": {},
   "source": [
    "## Ejercicio 2.2. El objeto tarjeta de crédito\n",
    "* Crear la clase Tarjeta y dotarla de una serie de atributos y métodos. \n",
    "* Crear tres o más instancias\n",
    " - ordenarlas por su límite de crédito\n",
    " - verificar si han llegado o no a su límite de crédito  \n",
    "* Algunos de los atributos creados serán de clase y otros serán atributos de instancia.\n",
    "* Procurar que los atributos sean privados."
   ]
  },
  {
   "cell_type": "markdown",
   "id": "43de316c",
   "metadata": {},
   "source": [
    "## Ejercicio 2.3. Objetos geométricos\n",
    "* Crear la clase **Rectángulo** con los atributos ancho, largo.\n",
    " - Incluir en el método **constructor** los argumentos ancho y largo.\n",
    " - Crear un método para calcular el **área** del rectángulo y otro para calcular su **perímetro**.\n",
    "* Crear la clase **Circulo**.\n",
    " - Incluir en el método **constructor** el argumento **radio**.\n",
    " - Crear un método para calcular el **área** del círculo y otro para calcular su **perímetro**.\n",
    " - Para usar **PI** utilice ```math.pi```\n",
    "* Crear dos objetos del tipo rectángulo y otros dos objetos del tipo circulo\n",
    " - proporcione valores aleatorios a sus parámetros\n",
    " - calcule sus superficies y perímetros redondeando a dos decimales"
   ]
  },
  {
   "cell_type": "markdown",
   "id": "3a83c955",
   "metadata": {},
   "source": [
    "## Ejercicio 2.4. Coordenadas cartesianas\n",
    "* Cree una clase llamada **Punto** con sus dos coordenadas X e Y.\n",
    " - Implemente el método **constructor** para crear puntos fácilmente. Si no se reciben una coordenada, su valor será cero.\n",
    " - Sobreescribe el método **string** \\_\\_str\\_\\_, para que al imprimir por pantalla un punto aparezca en formato (X,Y)\n",
    " - Implemente el método **cuadrante** que indicará a qué cuadrante pertenece el punto, o si es el origen.\n",
    " - Implemente el método **vector**, que toma otro punto y calcula el vector resultante entre los dos puntos.\n",
    " - Implemente el método **distancia**, que toma otro punto y calcule y muestra la distancia entre ambos puntos.\n",
    "* Cree una clase llamada **Rectangulo** con dos puntos (inicial y final) que formarán la diagonal del rectángulo.\n",
    " - Implemente el método **constructor** para crear ambos puntos fácilmente, si no se reciben, por defecto, se crearán dos puntos en el origen.\n",
    " - Implemente el método **base** que muestre la base.\n",
    " - Implemente el método **altura** que muestre la altura.\n",
    " - Implemente el método **area** que muestre el area.\n",
    "* Instancie los puntos A(3, 4),  B(-6,6), C(-2, -1) y D(0,0) y muéstrelos en pantalla.\n",
    "* Consulte a que cuadrante pertenecen los puntos A, C y D.\n",
    "* Muestre los vectores AB y BA.\n",
    "* Calcule la distancia entre los puntos 'A y B' y 'B y A'. \n",
    "* Determine cuál de los 3 puntos A, B o C, se encuentra más alejado del origen. \n",
    "* Cree un rectángulo utilizando los puntos A y B.\n",
    "* Muestre la base, altura y área del rectángulo."
   ]
  },
  {
   "cell_type": "markdown",
   "id": "c9031a0c",
   "metadata": {},
   "source": [
    "## Ejercicio 2.5. Importar un módulo que trabaja con matrices\n",
    "* Inicializar el generador de números aleatorios con ```random.seed()```\n",
    "* Crear dos funciones:\n",
    " - Función 1. Genera una matriz de dimensión n × m donde, por defecto, las filas son n=3 y las columnas son m=4. Los elementos de la matriz contendrán números aleatorios entre 1 y 9. La función retorna la matriz generada.\n",
    " - Función 2. Tomar la matriz anterior y sustituir los valores pares por 1 y los impares por 0. La función retorna la matriz de ceros y unos generada. \n",
    "*Al ejecutar el procedimiento principal:\n",
    " - Mostrar la matriz generada por la función 1.\n",
    " - Mostrar la matriz generada por la función 2.\n",
    "* Usar el condicional ```if __name__ == \"__main__\"``` que permite convertir el archivo .py en un **módulo** que se pueda importar desde otros archivos y así poder usar las funciones creadas como si se tratara de una librería.\n",
    "\n",
    "![matriz_01.png](../jupyter/img/matriz_01.png)"
   ]
  },
  {
   "cell_type": "markdown",
   "id": "3ceeeced",
   "metadata": {},
   "source": [
    "## Ejercicio 2.6. Hacer ceros en una matriz\n",
    "Usando programación orientada a objetos.  \n",
    "Generar y mostrar una matriz inicial de ceros y unos distribuidos aleatoriamente.\n",
    "* Los atributos son las filas (por defecto 5), columnas (por defecto 5) y probabilidad (por defecto, 0.1).\n",
    "* La probabilidad, en tanto por uno, es la probabilidad de que un elemento de la matriz inicial sea cero.\n",
    "* La matriz de salida se obtiene conviertiendo en ceros toda la fila y columna donde se encuentre un cero en la matriz inicial.\n",
    "\n",
    "**Ejemplo**  \n",
    "Matriz inicial: [[1, 1, 1, 1, 1, 1], [1, 1, 0, 1, 1, 1], [1, 1, 1, 1, 1, 1], [1, 1, 0, 1, 1, 1], [1, 0, 1, 1, 1, 1], [1, 1, 1, 1, 1, 1]]  \n",
    "Matriz final: &nbsp;&nbsp;[[1, 0, 0, 1, 1, 1], [0, 0, 0, 0, 0, 0], [1, 0, 0, 1, 1, 1], [0, 0, 0, 0, 0, 0], [0, 0, 0, 0, 0, 0], [1, 0, 0, 1, 1, 1]]\n",
    "\n",
    "<img src=\"../jupyter/img/zeroes.png\" width=\"600\">"
   ]
  },
  {
   "cell_type": "markdown",
   "id": "030b3ac8",
   "metadata": {},
   "source": [
    "## Ejercicio 2.7. POO\n",
    "Utilizando programación orientada a objetos cree un caso de su elección. Explique con detalle lo que se pretende desarrollar y añada suficientes comentarios del programador para dotar el códgio de las explicaciones necesarias."
   ]
  }
 ],
 "metadata": {
  "kernelspec": {
   "display_name": "Python 3",
   "language": "python",
   "name": "python3"
  },
  "language_info": {
   "codemirror_mode": {
    "name": "ipython",
    "version": 3
   },
   "file_extension": ".py",
   "mimetype": "text/x-python",
   "name": "python",
   "nbconvert_exporter": "python",
   "pygments_lexer": "ipython3",
   "version": "3.8.8"
  }
 },
 "nbformat": 4,
 "nbformat_minor": 5
}
