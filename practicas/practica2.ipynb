{
 "cells": [
  {
   "cell_type": "markdown",
   "metadata": {},
   "source": [
    "# Práctica 2\n",
    "Asignatura C1: Python  \n",
    "\n",
    "- Nombre:  \n",
    "- Apellidos:  \n",
    "- Fecha:  \n",
    "\n",
    "Resuelva aquí los ejercicios abriendo una celda después de cada uno de los enunciados siguientes.  \n",
    "No olvide poner su nombre, apellidos y la fecha de envío."
   ]
  },
  {
   "cell_type": "markdown",
   "metadata": {},
   "source": [
    "## Ejercicio 2.1. El objeto persona\n",
    "Crear la clase Persona con los atributos nombre, edad, profesión, altura, ciudad y otro de su elección. Crear un par de objetos Persona. Finalmente deseamos que cada persona nos cuente algo de su vida.  \n",
    "Establezca y utilize también el método especial \\_\\_str\\_\\_."
   ]
  },
  {
   "cell_type": "markdown",
   "metadata": {},
   "source": [
    "## Ejercicio 2.2. El objeto tarjeta de crédito\n",
    "Crear la clase Tarjeta y dotarla de una serie de atributos y métodos. Crear tres o más instancias y ordenarlas por su límite de crédito. Verificar si han llegado o no a su límite de crédito.  \n",
    "Algunos de los atributos creados serán de clase y otros serán atributos de instancia. Procurar que los atributos sean privados."
   ]
  },
  {
   "cell_type": "markdown",
   "metadata": {},
   "source": [
    "## Ejercicio 2.3. Objetos geométricos\n",
    "Crear la clase Rectángulo con los atributos ancho, largo. Incluir en el método constructor los argumentos ancho y largo. Crear un método para calcular el área del rectángulo y otro para calcular su perímetro. Crear la clase Circulo con el atributo radio. Incluir en el método constructor el argumento radio. Crear un método para calcular el área del círculo y otro para calcular su perímetro. Para usar PI utilice math.pi. Crear dos objetos del tipo rectángulo y otros dos objetos del tipo circulo, proporcione valores aleatorios a sus parámetros y calcule sus superficies y perímetros redondeando a dos decimales."
   ]
  },
  {
   "cell_type": "markdown",
   "metadata": {},
   "source": [
    "## Ejercicio 2.4. Importar un módulo que trabaja con matrices\n",
    "Inicializar el generador de números aleatorios.\n",
    "\n",
    "Crear dos funciones:\n",
    "* Función 1. Genera una matriz de dimensión n × m donde, por defecto, las filas son n=3 y las columnas son m=4. Los elementos de la matriz contendrán números aleatorios entre 1 y 9. La función retorna la matriz generada.\n",
    "* Función 2. Tomar la matriz anterior y sustituir los valores pares por 1 y los impares por 0. La función retorna la matriz de ceros y unos. \n",
    "\n",
    "Al ejecutar el procedimiento principal:\n",
    "* Mostrar la matriz generada por la función 1.\n",
    "* Mostrar la matriz generada por la función 2.\n",
    "\n",
    "Usar el condicional  \n",
    "if \\_\\_name\\_\\_ == \"\\_\\_main\\_\\_\":  \n",
    "que permite convertir el archivo .py en un módulo que se pueda importar desde otros archivos y poder usar las funciones creadas."
   ]
  },
  {
   "cell_type": "markdown",
   "metadata": {},
   "source": [
    "## Ejercicio 2.5. Hacer ceros en una matriz"
   ]
  },
  {
   "cell_type": "code",
   "execution_count": null,
   "metadata": {},
   "outputs": [],
   "source": []
  }
 ],
 "metadata": {
  "kernelspec": {
   "display_name": "Python 3",
   "language": "python",
   "name": "python3"
  },
  "language_info": {
   "codemirror_mode": {
    "name": "ipython",
    "version": 3
   },
   "file_extension": ".py",
   "mimetype": "text/x-python",
   "name": "python",
   "nbconvert_exporter": "python",
   "pygments_lexer": "ipython3",
   "version": "3.8.5"
  }
 },
 "nbformat": 4,
 "nbformat_minor": 5
}
