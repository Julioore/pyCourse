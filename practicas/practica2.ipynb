{
 "cells": [
  {
   "cell_type": "markdown",
   "id": "cf38abef",
   "metadata": {},
   "source": [
    "# Práctica 2\n",
    "Asignatura C1: Python  \n",
    "\n",
    "- Nombre:  \n",
    "- Apellidos:  \n",
    "- Fecha:  \n",
    "\n",
    "Resuelva aquí los ejercicios siguientes abriendo una celda después de cada uno de ellos. "
   ]
  },
  {
   "cell_type": "markdown",
   "id": "97ca35fe",
   "metadata": {},
   "source": [
    "## Ejercicio 2.1. El objeto persona\n",
    "Crear la clase Persona con los atributos nombre, edad, profesión, altura, ciudad y otro de su elección. Crear un par de objetos Persona. Finalmente deseamos preguntar a cada persona su edad y su ciudad."
   ]
  },
  {
   "cell_type": "markdown",
   "id": "bcb1301a",
   "metadata": {},
   "source": [
    "## Ejercicio 2.2. El objeto auto\n",
    "Crear la clase Car y dotarla de una serie de atributos y métodos. Crear tres o más automóviles y ordenarlos por su velocidad máxima que son capaces de alcanzar. Verificar los que están aparcados o circulando."
   ]
  },
  {
   "cell_type": "markdown",
   "id": "f2b49a2b",
   "metadata": {},
   "source": [
    "## Ejercicio 2.3. Objetos geométricos\n",
    "Crear la clase Rectángulo con los atributos ancho, largo. Incluir en el método constructor los argumentos ancho y largo. Crear un método para calcular el área del rectángulo y otro para calcular su perímetro. Crear la clase Circulo con el atributo radio. Incluir en el método constructor el argumento radio. Crear un método para calcular el área del círculo y otro para calcular su perímetro. Para usar PI utilice math.pi. Crear dos objetos del tipo rectángulo y otros dos objetos del tipo circulo, proporcione valores aleatorios a sus parámetros y calcule sus superficies y perímetros redondeando a dos decimales."
   ]
  }
 ],
 "metadata": {
  "kernelspec": {
   "display_name": "Python 3",
   "language": "python",
   "name": "python3"
  },
  "language_info": {
   "codemirror_mode": {
    "name": "ipython",
    "version": 3
   },
   "file_extension": ".py",
   "mimetype": "text/x-python",
   "name": "python",
   "nbconvert_exporter": "python",
   "pygments_lexer": "ipython3",
   "version": "3.8.8"
  }
 },
 "nbformat": 4,
 "nbformat_minor": 5
}
