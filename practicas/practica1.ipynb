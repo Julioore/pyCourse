{
  "cells": [
    {
      "cell_type": "markdown",
      "metadata": {
        "id": "view-in-github",
        "colab_type": "text"
      },
      "source": [
        "<a href=\"https://colab.research.google.com/github/financieras/pyCourse/blob/main/practicas/practica1.ipynb\" target=\"_parent\"><img src=\"https://colab.research.google.com/assets/colab-badge.svg\" alt=\"Open In Colab\"/></a>"
      ]
    },
    {
      "cell_type": "markdown",
      "id": "8d9dc823",
      "metadata": {
        "id": "8d9dc823"
      },
      "source": [
        "# Práctica 1\n",
        "* Puede resolver aquí los ejercicios abriendo una celda después de cada uno de los enunciados.  \n",
        "* Por favor, documente la solución de los ejercicios añadiendo suficientes **comentarios** del programador que expliquen el código."
      ]
    },
    {
      "cell_type": "markdown",
      "id": "cdd4667c",
      "metadata": {
        "id": "cdd4667c"
      },
      "source": [
        "## Ejercicio 1.1. Comparar varias parejas de números\n",
        "* Pedir al usuario dos números y decir cuál es:\n",
        " - el mayor\n",
        " - el menor\n",
        " - o si son iguales.\n",
        "* Seguir pidiendo números hasta que se introduzca algún valor:\n",
        " - negativo o \n",
        " - que no sea numérico"
      ]
    },
    {
      "cell_type": "markdown",
      "id": "be4f1980",
      "metadata": {
        "id": "be4f1980"
      },
      "source": [
        "## Ejercicio 1.2. Elevar al cuadrado\n",
        "Mostrar en pantalla el cuadrado de todos los números del 1 al 100, ambos incluidos."
      ]
    },
    {
      "cell_type": "markdown",
      "id": "54892e96",
      "metadata": {
        "id": "54892e96"
      },
      "source": [
        "## Ejercicio 1.3. Listar números pares\n",
        "* Pedir al usuario dos números\n",
        "* Mostrar en pantalla todos los números pares comprendidos entre ellos"
      ]
    },
    {
      "cell_type": "markdown",
      "id": "8c57fbec",
      "metadata": {
        "id": "8c57fbec"
      },
      "source": [
        "## Ejercicio 1.4. Media de una serie de números\n",
        "* Solicitar al usuario que introduzca reiteradamente números no negativos. Formar una lista con esos números.\n",
        "* Se interrumpe la petición de números cuando el usuario introduzca un número negativo. El número negativo no se incorporará a la lista de números captados.\n",
        "* Mostrar en pantalla la lista de números no negativos introducidos.\n",
        "* Mostrar en pantalla la suma y la media de los números de la lista.\n",
        "* Indicar cuántos valores de la lista son superiores a la media.\n",
        "* *Nota:* \n",
        "Los números \"no negativos\" son números positivos o cero, que pueden ser enteros o con decimales."
      ]
    },
    {
      "cell_type": "markdown",
      "id": "f2bb8aa7",
      "metadata": {
        "id": "f2bb8aa7"
      },
      "source": [
        "## Ejercicio 1.5. Calculadora\n",
        "* Pedir al usuario dos números válidos, si no son válidos seguir pidiendo valores hasta que el usuario introduzca dos números válidos.\n",
        "* Crear un menú donde el usuario pueda elegir que operación desea hacer con esos dos números: suma, resta, multiplicación, división, división entera, resto, o potencias.\n",
        "* En el menú debe haber una opción para salir del programa.\n",
        "* En el menú debe haber una opción para realizar todas las operaciones con esos dos números.\n",
        "* Utilice **control de errores** para evitar el error de división entre cero."
      ]
    },
    {
      "cell_type": "markdown",
      "id": "c0bc1641",
      "metadata": {
        "id": "c0bc1641"
      },
      "source": [
        "## Ejercicio 1.6. Divisores de un número\n",
        "* Generar un número aleatorio entre 2 y 1.000, ambos incluidos.\n",
        "* Mostrar en pantalla todos sus divisores\n",
        "* Si los divisores del número únicamente son 1 y el propio número, indicar que se trata de un número primo"
      ]
    },
    {
      "cell_type": "markdown",
      "id": "c53d7a67",
      "metadata": {
        "id": "c53d7a67"
      },
      "source": [
        "## Ejercicio 1.7. Comparar medias de aleatorios\n",
        "* Generar 12 números aleatorios entre 0 y 100 y calcular su media.\n",
        "* Generar otros 12 números aleatorios entre 0 y 100 y calcular su media.\n",
        "* Mostrar en pantalla las dos listas\n",
        "* Finalmente muestre en pantalla las medias de ambas series y diga cuál de las dos ha resultado mayor.\n",
        "* Utilice una o varias **funciones** para lograrlo."
      ]
    },
    {
      "cell_type": "markdown",
      "id": "a47f544e",
      "metadata": {
        "id": "a47f544e"
      },
      "source": [
        "## Ejercicio 1.8. Tablas de multiplicar\n",
        "* Generar y mostrar en pantalla todas las tablas de multiplicar, desde la tabla del 5 hasta la tabla del 9\n",
        "* Hacerlo solo para números pares\n",
        "* Se iniciaría en 5x2 y finalizaría en 9x10."
      ]
    },
    {
      "cell_type": "markdown",
      "id": "e199291b",
      "metadata": {
        "id": "e199291b"
      },
      "source": [
        "## Ejercicio 1.9. Frecuencia de caracteres\n",
        "* Pedir al usuario que escriba un párrafo de texto. \n",
        "* Mostrar en pantalla cuantas veces aparece cada letra del alfabeto, incluida la ñ."
      ]
    },
    {
      "cell_type": "markdown",
      "id": "a6691e00",
      "metadata": {
        "id": "a6691e00"
      },
      "source": [
        "## Ejercicio 1.10. Calculadora de IVA\n",
        "* Programar dos casos para el cálculo del IVA (Impuesto sobre el Valor Añadido).\n",
        "* El caso A calcula el precio con IVA dados el precio base y el porcentaje de IVA.\n",
        "* El caso B calcula el precio base dados el precio con IVA y el porcentaje de IVA.\n",
        "* Utilice una o varias **funciones** para lograrlo.\n",
        "* Establezca un **menú** donde el usuario pueda elegir que caso desea resolver.    \n",
        "\n",
        "**Ejemplo**\n",
        "* Caso A: \n",
        " - Datos introducidos:\n",
        "   * Precio base: 200 €\n",
        "   * Porcentaje: 10%  \n",
        " - Valor calculado:\n",
        "   * Precio con IVA: 220\n",
        "* Caso B: \n",
        " - Datos introducidos:\n",
        "   * Precio con IVA: 220 €\n",
        "   * Porcentaje: 10%  \n",
        " - Valor calculado:\n",
        "   * Precio base: 200  \n",
        "\n",
        "* Los valores anteriores 200, 220 y 10% son solo un ejemplo. El programa debe pedir al usuario los valores que quiera introducir, permitiéndole indicar el caso A o B que quiera resolver\n",
        "* Los valores monetarios resultantes deben quedar redondeados al céntimo, esto es a dos decimales \n",
        "* Utilice **funciones**"
      ]
    },
    {
      "cell_type": "markdown",
      "id": "77921deb",
      "metadata": {
        "id": "77921deb"
      },
      "source": [
        "## Ejercicio 1.11. Edad\n",
        "* Establezca un procedimiento en el que el código toma la fecha del sistema e indicando su fecha de nacimiento le diga cuántos años tiene.\n",
        "* El programa también le dice cuantos días faltan para que llegue su próximo cumpleaños."
      ]
    },
    {
      "cell_type": "markdown",
      "id": "3968e33a",
      "metadata": {
        "id": "3968e33a"
      },
      "source": [
        "## Ejercicio 1.12. Comprobar si un número es primo\n",
        "* Genere e imprima una lista con los mil primeros números primos\n",
        "* Luego genere un número aleatorio entero entre 2 y 7.919.\n",
        "* Muestre en pantalla el número aleatorio e indique si pertenece a la lista de los mil primeros números primos.\n",
        "* Si el número no pertenece a la lista imprima que el número no es primo"
      ]
    },
    {
      "cell_type": "markdown",
      "id": "d349d756",
      "metadata": {
        "id": "d349d756"
      },
      "source": [
        "## Ejercicio 1.13. Números aleatorios con y sin repetición\n",
        "* Generar dos listas de 10 elementos cada una, con números enteros, aleatorios, entre 1 y 20\n",
        "* En una de las listas los números se pueden llegar a repetir y en la otra no se admiten repeticiones.\n",
        "* Generar una tercera lista con todos los elementos que se repitan en ellas\n",
        "* En esta tercera lista no debe repetirse ningún elemento."
      ]
    },
    {
      "cell_type": "markdown",
      "id": "f114cf56",
      "metadata": {
        "id": "f114cf56"
      },
      "source": [
        "## Ejercicio 1.14. Ordenar una lista\n",
        "* Generar una lista de números aleatorios con posible repetición e imprimirla.\n",
        "* Ordenar la lista sin usar ```sort``` ni ```sorted``` e imprimirla."
      ]
    },
    {
      "cell_type": "markdown",
      "id": "be25b009",
      "metadata": {
        "id": "be25b009"
      },
      "source": [
        "## Ejercicio 1.15. Función separa\n",
        "* Genere e imprima una lista de 15 elementos, con números enteros, aleatorios, entre -20 y 20.\n",
        "* Cree una función que separe los elementos de la lista anterior en dos listas\n",
        " - por un lado, los números pares y\n",
        " - por otro, los impares\n",
        "* Las nuevas listas tendrán sus elementos ordenados y sin repetición.\n",
        "* Indique en cuál de las dos listas la suma de sus elementos es mayor."
      ]
    },
    {
      "cell_type": "markdown",
      "id": "c9e64049",
      "metadata": {
        "id": "c9e64049"
      },
      "source": [
        "## Ejercicio 1.16. Binario a decimal\n",
        "* Pedir al usuario que introduzca un número binario y convertirlo a decimal.\n",
        "* Mostrar en pantalla también el modo de llegar a ese resultado.\n",
        "* Por ejemplo, si el binario es 101011, entonces se ha de imprimir el proceso que es:\n",
        " - 1\\*2^5 + 0\\*2^4 + 1\\*2^3 + 0\\*2^2 + 1\\*2^1 + 1\\*2^0 = 43\n",
        "\n",
        "![Binario a decimal](https://github.com/financieras/pyCourse/blob/main/jupyter/img/binario_a_decimal.jpg?raw=1)"
      ]
    },
    {
      "cell_type": "markdown",
      "id": "8b2016cf",
      "metadata": {
        "id": "8b2016cf"
      },
      "source": [
        "## Ejercicio 1.17. Decimal a binario\n",
        "* Pedir al usuario que introduzca un número decimal y convertirlo a binario. \n",
        "* Mostrar en pantalla también el modo de llegar a ese resultado.\n",
        "* Como ejemplo se puede ver la siguiente imagen.\n",
        "\n",
        "![Decimal a binario](https://github.com/financieras/pyCourse/blob/main/jupyter/img/decimal_a_binario.jpg?raw=1)"
      ]
    },
    {
      "cell_type": "markdown",
      "id": "d51b4dab",
      "metadata": {
        "id": "d51b4dab"
      },
      "source": [
        "## Ejercicio 1.18. Suma de dos números para llegar al target\n",
        "* Generar un número entero aleatorio entre 2 y 20. A este número le llamaremos target. \n",
        "* Generar una lista de números enteros entre -10 y 10.\n",
        "* La lista puede tener desde un mínimo de dos elementos a un máximo de 6.\n",
        "* La lista debe contener dos números que sumados nos den el target.\n",
        "* El programa generará un target y una lista y verificará que se cumple la condición de la suma.\n",
        "* En caso de que no se cumpla seguirá generando otro target y otra lista hasta conseguirlo.\n",
        "* La solución debe ser única. **Solo puede haber un par de números que sumados den el target**. \n",
        "* Como ejemplo se puede ver la siguiente imagen donde mostramos tres listas que cumplen la condición.\n",
        "* En su caso, debe generar y mostrar treinta listas que cumplan los requisitos pedidos.\n",
        "\n",
        "![Sumar dos numeros](https://github.com/financieras/pyCourse/blob/main/jupyter/img/sumar_dos_numeros.jpg?raw=1)"
      ]
    },
    {
      "cell_type": "markdown",
      "id": "71e906cb",
      "metadata": {
        "id": "71e906cb"
      },
      "source": [
        "## Ejercicio 1.19. Segundo mínimo en listas anidadas\n",
        "* Disponemos de la siguiente lista anidada:\n",
        " - [[\"Ana\",1],[\"Raúl\",1],[\"Jose\",9],[\"David\",7],[\"Eva\",8],[\"Felipe\",4],[\"Héctor\",9],[\"Isabel\",4],[\"Susana\",5]]\n",
        "* El mínimo de esta lista es 1 que recae en Ana y Raúl.\n",
        "* El segundo mínimo de esta lista es 4 que está asociado a Felipe e Isabel.\n",
        "* Estamos buscando los nombres que están asociados al segundo mínimo.\n",
        "* Para esta lista, el procedimiento debería proporcionar como salida: Felipe, Isabel.\n",
        "* Crear un procedimiento que genere listas anidadas similares a la del ejemplo, de longitud variable, que contenga entre 2 y 9 sublistas.\n",
        "* Se debe **garantizar que existe el segundo mínimo**. El segundo mínimo no existiría si todos los valores numéricos coincidieran.\n",
        "* El programa mostrará en pantalla la lista generada y el nombre o nombres asociados con el segundo mínimo.\n",
        "* Utilice una o varias **funciones** para lograrlo.\n",
        "* Otros ejemplos:\n",
        " - [[\"Iris\",5],[\"Gala\",2],[\"Zoe\",8]] El segundo mínimo lo tiene: Iris.\n",
        " - [[\"Abel\",3],[\"Blas\",2],[\"Hugo\",8],[\"Leo\",3]] El segundo mínimo lo tienen: Abel y Leo."
      ]
    },
    {
      "cell_type": "markdown",
      "id": "42fae779",
      "metadata": {
        "id": "42fae779"
      },
      "source": [
        "## Ejercicio 1.20. Lista de impares\n",
        "* Generar números enteros aleatorios entre 10 y 99 (ambos incluidos) que se incorporen a una lista de longitud 17.\n",
        "* Generar continuamente listas de este tipo hasta lograr una donde todos sus elementos sean impares y sin repetición.\n",
        "* Imprimir la lista obtenida de forma ordenada de mayor a menor.\n",
        "* Imprimir el tiempo que se ha tardado en lograr esa lista expresado en segundos con hasta **6 decimales**.\n",
        "\n",
        "*Nota: La \"longitud 17\" es orientativa para que se obtengan un número de segundos ni muy grandes, ni una fracción muy pequeña de un segundo. Si en su ordenador y con su código se alcanzan tiempo excesivamente grandes pruebe con listas de longitud algo menor, por ejemplo con 16.*\n",
        "\n",
        "![Impares](https://github.com/financieras/pyCourse/blob/main/jupyter/img/impares.jpg?raw=1)"
      ]
    }
  ],
  "metadata": {
    "kernelspec": {
      "display_name": "Python 3 (ipykernel)",
      "language": "python",
      "name": "python3"
    },
    "language_info": {
      "codemirror_mode": {
        "name": "ipython",
        "version": 3
      },
      "file_extension": ".py",
      "mimetype": "text/x-python",
      "name": "python",
      "nbconvert_exporter": "python",
      "pygments_lexer": "ipython3",
      "version": "3.8.11"
    },
    "colab": {
      "name": "practica1.ipynb",
      "provenance": [],
      "include_colab_link": true
    }
  },
  "nbformat": 4,
  "nbformat_minor": 5
}