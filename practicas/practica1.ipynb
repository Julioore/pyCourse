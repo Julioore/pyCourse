{
 "cells": [
  {
   "cell_type": "markdown",
   "id": "f7b59122",
   "metadata": {},
   "source": [
    "# Práctica 1\n",
    "Asignatura C1: Python  \n",
    "\n",
    "- Nombre:  \n",
    "- Apellidos:  \n",
    "- Fecha:  \n",
    "\n",
    "Resuelva aquí los ejercicios siguientes abriendo una celda después de cada uno de ellos. "
   ]
  },
  {
   "cell_type": "markdown",
   "id": "c5a06fcf",
   "metadata": {},
   "source": [
    "## Ejercicio 1.1. Comparar dos números\n",
    "Pedir al usuario dos números y decir cuál es el mayor, el menor o si son iguales."
   ]
  },
  {
   "cell_type": "markdown",
   "id": "89c02ec4",
   "metadata": {},
   "source": [
    "## Ejercicio 1.2. Comparar varias parejas de números\n",
    "Pedir al usuario dos números y decir cuál es el mayor, el menor o si son iguales. Seguir pidiendo números hasta que se introduzca algún valor negativo o que no sea numérico."
   ]
  },
  {
   "cell_type": "markdown",
   "id": "068aba51",
   "metadata": {},
   "source": [
    "## Ejercicio 1.3. Elevar al cuadrado\n",
    "Mostrar en pantalla el cuadrado de todos los números del 1 al 100."
   ]
  },
  {
   "cell_type": "markdown",
   "id": "f6284a04",
   "metadata": {},
   "source": [
    "## Ejercicio 1.4. Listar números pares\n",
    "Pedir al usuario dos números y mostrar en pantalla todos los números pares comprendidos entre ellos."
   ]
  },
  {
   "cell_type": "markdown",
   "id": "e0f70f39",
   "metadata": {},
   "source": [
    "## Ejercicio 1.5. Media de una serie de números\n",
    "Solicitar al usuario que introduzca números hasta que se llegue a introducir uno negativo, lo cual interrumpirá las peticiones. Mostrar en pantalla la suma y la media de los números positivos introducidos. Indicar cuántos valores introducidos son superiores a la media."
   ]
  },
  {
   "cell_type": "markdown",
   "id": "fd4ab50c",
   "metadata": {},
   "source": [
    "## Ejercicio 1.6. Calculadora\n",
    "Pedir al usuario dos números válidos, si no son válidos seguir pidiendo valores. Efectuar con ellos la suma, resta, multiplicación, división, división entera, resto, y potencias.  Utilice control de errores para evitar el error de división entre cero."
   ]
  },
  {
   "cell_type": "markdown",
   "id": "3078f711",
   "metadata": {},
   "source": [
    "## Ejercicio 1.7. Divisores de un número\n",
    "Generar un número aleatorio entre 2 y 1.000 mostrando en pantalla todos sus divisores."
   ]
  },
  {
   "cell_type": "markdown",
   "id": "70b81ccb",
   "metadata": {},
   "source": [
    "## Ejercicio 1.8. Comparar medias de aleatorios\n",
    "Generar 12 números aleatorios entre 0 y 100 y calcular su media. Generar otros 12 números aleatorios entre 0 y 100 y calcular su media. Finalmente muestre en pantalla las medias de ambas series y diga cuál de las dos ha resultado mayor. Utilice funciones."
   ]
  },
  {
   "cell_type": "markdown",
   "id": "31369291",
   "metadata": {},
   "source": [
    "## Ejercicio 1.9. Tablas de multiplicar hasta 12×12\n",
    "Generar y mostrar en pantalla todas las tablas de multiplicar desde la tabla del 1 hasta la tabla del 12. El último valor que se multiplicará será 12 × 12 = 144."
   ]
  },
  {
   "cell_type": "markdown",
   "id": "c0b48649",
   "metadata": {},
   "source": [
    "## Ejercicio 1.10. Frecuencia de caracteres\n",
    "Pedir al usuario que escriba un párrafo de texto. Mostrar en pantalla cuantas veces aparece cada letra del alfabeto."
   ]
  },
  {
   "cell_type": "markdown",
   "id": "4b9eb0bf",
   "metadata": {},
   "source": [
    "## Ejercicio 1.11. Calculadora de IVA\n",
    "Programar dos casos para el cálculo del IVA (Impuesto sobre el Valor Añadido). El caso A calcula el precio con IVA dados el precio base y el porcentaje de IVA. El caso B calcula el precio base dados el precio con IVA y el porcentaje de IVA. Utilice funciones. Establezca un menú donde el usuario pueda elegir que caso desea resolver."
   ]
  },
  {
   "cell_type": "markdown",
   "id": "e660d0cb",
   "metadata": {},
   "source": [
    "## Ejercicio 1.12. Edad\n",
    "Establezca un procedimiento en el que el código toma la fecha del sistema e indicando su fecha de nacimiento le diga cuántos años tiene y cuantos días faltan para que llegue su próximo cumpleaños."
   ]
  },
  {
   "cell_type": "markdown",
   "id": "cec3fb13",
   "metadata": {},
   "source": [
    "## Ejercicio 1.13. Comprobar si un número es primo\n",
    "Genere e imprimir una lista con los mil primeros números primos, luego genere un número aleatorio entero entre 2 y 7.919. Muestre en pantalla el número aleatorio e indique si pertenece a la lista de los mil primeros números primos."
   ]
  },
  {
   "cell_type": "markdown",
   "id": "cce9ef8c",
   "metadata": {},
   "source": [
    "## Ejercicio 1.14. Números aleatorios con y sin repetición\n",
    "Generar dos listas de 10 elementos cada una, con números enteros, aleatorios, entre 1 y 20, donde en una de ellas se pueden llegar a repetir y en la otra no se admiten repeticiones. Generar una tercera lista con todos los elementos que se repitan en ellas, pero no debe repetirse ningún elemento en la nueva lista."
   ]
  },
  {
   "cell_type": "markdown",
   "id": "60f57f0f",
   "metadata": {},
   "source": [
    "## Ejercicio 1.15. Ordenar una lista\n",
    "Generar una lista de números aleatorios. Ordenar la lista sin usar sort."
   ]
  },
  {
   "cell_type": "markdown",
   "id": "ea9f4601",
   "metadata": {},
   "source": [
    "## Ejercicio 1.16. Función separa\n",
    "Generae e imprima una lista de 15 elementos, con números enteros, aleatorios, entre -20 y 20. Cree una función que separe los elementos de la lista anterior en dos listas, por un lado, los números pares y por otro, los impares. Las nuevas listas tendrán sus elementos ordenados y sin repetición. Indique en cuál de las dos listas la suma de sus elementos es mayor."
   ]
  },
  {
   "cell_type": "markdown",
   "id": "cea1d4f5",
   "metadata": {},
   "source": [
    "## Ejercicio 1.17. Binario a decimal\n",
    "Pedir al usuario que introduzca un número binario y convertirlo a decimal. Mostrar en pantalla también el modo de llegar a ese resultado. Por ejemplo, si el binario es 101011, entonces se ha de imprimir el proceso que es: 1\\*2^5 + 0\\*2^4 + 1\\*2^3 + 0\\*2^2 + 1\\*2^1 + 1\\*2^0 = 43\n",
    "\n",
    "![Binario a decimal](../jupyter/img/binario_a_decimal.jpg)"
   ]
  },
  {
   "cell_type": "markdown",
   "id": "8f7662eb",
   "metadata": {},
   "source": [
    "## Ejercicio 1.18. Decimal a binario\n",
    "Pedir al usuario que introduzca un número decimal y convertirlo a binario. Mostrar en pantalla también el modo de llegar a ese resultado. Como ejemplo se puede ver la siguiente imagen.\n",
    "\n",
    "![Decimal a binario](../jupyter/img/decimal_a_binario.jpg)"
   ]
  },
  {
   "cell_type": "markdown",
   "id": "1658ce83",
   "metadata": {},
   "source": [
    "## Ejercicio 1.19. Suma de dos números para llegar al target\n",
    "Generar un número entero aleatorio entre 2 y 20. A este número le llamaremos target. Generar una lista de números enteros entre -10 y 10. La lista puede tener desde un mínimo de dos elementos a un máximo de 6. La lista debe contener dos números que sumados nos den el target. El programa generará un target y una lista y verificará que se cumple la condición de la suma. En caso de que no se cumpla seguirá generando otro target y otra lista hasta conseguirlo. La solución debe ser única. **Solo puede haber un par de números que sumados den el target**. Como ejemplo se puede ver la siguiente imagen donde mostramos tres listas que cumplen la condición. En su caso, debe generar y mostrar treinta listas que cumplan los requisitos pedidos.\n",
    "\n",
    "![Sumar dos numeros](../jupyter/img/sumar_dos_numeros.jpg)"
   ]
  },
  {
   "cell_type": "markdown",
   "id": "e8c1b494",
   "metadata": {},
   "source": [
    "## Ejercicio 1.20. Segundo mínimo en listas anidadas\n",
    "Disponemos de la siguiente lista anidada [[\"Ana\",1],[\"Raul\",1],[\"Jose\",9],[\"David\",7],[\"Eva\",8],[\"Felipe\",4],[\"Héctor\",9],[\"Isabel\",4],[\"Susana\",5]]. Estamos buscando los nombres que están asociados al segundo mínimo. Para esta lista, el procedimiento debería proporcionar como salida: Felipe, Isabel. Crear un procedimiento que genere listas anidadas similares a la del ejemplo, de longitud variable y **que garanticen que existe el segundo mínimo**. El programa mostrará en pantalla la lista generada y el nombre o nombres asociados con el segundo mínimo. Utilizar funciones."
   ]
  },
  {
   "cell_type": "markdown",
   "id": "8a50a62c",
   "metadata": {},
   "source": [
    "## Ejercicio 1.21. Lista de impares\n",
    "Generar números enteros aleatorios entre 10 y 99 (ambos incluidos) que se incorporen a una lista de longitud 17. Generar continuamente listas de este tipo hasta lograr una donde todos sus elementos sean impares y sin repetición. Imprimir la lista obtenida de forma ordenada de mayor a menor. Imprimir el tiempo que se ha tardado en lograr esa lista expresado en segundos con hasta 6 decimales.\n",
    "\n",
    "![Impares](../jupyter/img/impares.jpg)"
   ]
  }
 ],
 "metadata": {
  "kernelspec": {
   "display_name": "Python 3",
   "language": "python",
   "name": "python3"
  },
  "language_info": {
   "codemirror_mode": {
    "name": "ipython",
    "version": 3
   },
   "file_extension": ".py",
   "mimetype": "text/x-python",
   "name": "python",
   "nbconvert_exporter": "python",
   "pygments_lexer": "ipython3",
   "version": "3.8.8"
  }
 },
 "nbformat": 4,
 "nbformat_minor": 5
}
