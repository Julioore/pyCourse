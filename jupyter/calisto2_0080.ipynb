{
 "cells": [
  {
   "cell_type": "markdown",
   "id": "fd3999c6",
   "metadata": {},
   "source": [
    "# Polimorfismo\n",
    "Polimorfismo = múltiples formas  \n",
    "Los objetos pueden cambiar de forma y por tanto de métodos y atributos.  \n",
    "Ejemplo: un coche puede transformarse en moto. Su comportamiento cambiaría = cambiarían sus métodos."
   ]
  },
  {
   "cell_type": "code",
   "execution_count": 5,
   "id": "819b44f7",
   "metadata": {},
   "outputs": [
    {
     "name": "stdout",
     "output_type": "stream",
     "text": [
      "Me desplazo utilizando 2 ruedas\n",
      "Me desplazo utilizando 4 ruedas\n",
      "Me desplazo utilizando 6 ruedas\n"
     ]
    }
   ],
   "source": [
    "class Coche():\n",
    "    def desplazamiento(self):\n",
    "        print(\"Me desplazo utilizando 4 ruedas\")\n",
    "\n",
    "class Moto():\n",
    "    def desplazamiento(self):\n",
    "        print(\"Me desplazo utilizando 2 ruedas\")\n",
    "        \n",
    "class Camion():\n",
    "    def desplazamiento(self):\n",
    "        print(\"Me desplazo utilizando 6 ruedas\")\n",
    "        \n",
    "miVehiculo1=Moto()\n",
    "miVehiculo1.desplazamiento()\n",
    "\n",
    "miVehiculo2=Coche()\n",
    "miVehiculo2.desplazamiento()\n",
    "\n",
    "miVehiculo3=Camion()\n",
    "miVehiculo3.desplazamiento()"
   ]
  },
  {
   "cell_type": "markdown",
   "id": "e1470fb5",
   "metadata": {},
   "source": [
    "## El polimorfismo nos ayuda\n",
    "En lugar de ir creando cada instancia por separado y luego llamar al método desplazamiento uno a uno, podemos usar el polimorfismo."
   ]
  },
  {
   "cell_type": "code",
   "execution_count": 9,
   "id": "44e90b4d",
   "metadata": {},
   "outputs": [
    {
     "name": "stdout",
     "output_type": "stream",
     "text": [
      "Me desplazo utilizando 6 ruedas\n"
     ]
    }
   ],
   "source": [
    "class Coche():\n",
    "    def desplazamiento(self):\n",
    "        print(\"Me desplazo utilizando 4 ruedas\")\n",
    "class Moto():\n",
    "    def desplazamiento(self):\n",
    "        print(\"Me desplazo utilizando 2 ruedas\")\n",
    "class Camion():\n",
    "    def desplazamiento(self):\n",
    "        print(\"Me desplazo utilizando 6 ruedas\")\n",
    "\n",
    "def desplazamientoVehiculo(vehiculo):          # creamos un método que no pertenece a ningua clase\n",
    "    vehiculo.desplazamiento()                  # al objeto vehiculo le aplicará el método desplazamiento que toque\n",
    "\n",
    "miVehiculo=Camion()                #creamos un objeto de tipo Camion\n",
    "desplazamientoVehiculo(miVehiculo) #gracias al polimorfismo sabe que el desplazamiento del camión es con 6 reuedas"
   ]
  },
  {
   "cell_type": "code",
   "execution_count": null,
   "id": "23b750d8",
   "metadata": {},
   "outputs": [],
   "source": [
    "miVehiculo=Coche()                 #ahora cambiamos el tipo de objeto \n",
    "desplazamientoVehiculo(miVehiculo) #ahora sabe que el objeto es un Coche y aplica el desplazamiento con 4 ruedas"
   ]
  },
  {
   "cell_type": "code",
   "execution_count": 10,
   "id": "9a8e8999",
   "metadata": {},
   "outputs": [
    {
     "name": "stdout",
     "output_type": "stream",
     "text": [
      "Me desplazo utilizando 2 ruedas\n"
     ]
    }
   ],
   "source": [
    "miVehiculo=Moto()                  #ahora cambiamos nuevamente el tipo de objeto \n",
    "desplazamientoVehiculo(miVehiculo) #gracias al polimorfismo sabe que una moto se desplaza con 2 ruedas"
   ]
  }
 ],
 "metadata": {
  "kernelspec": {
   "display_name": "Python 3",
   "language": "python",
   "name": "python3"
  },
  "language_info": {
   "codemirror_mode": {
    "name": "ipython",
    "version": 3
   },
   "file_extension": ".py",
   "mimetype": "text/x-python",
   "name": "python",
   "nbconvert_exporter": "python",
   "pygments_lexer": "ipython3",
   "version": "3.8.8"
  }
 },
 "nbformat": 4,
 "nbformat_minor": 5
}
