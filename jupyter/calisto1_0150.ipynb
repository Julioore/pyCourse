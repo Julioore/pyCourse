{
 "cells": [
  {
   "cell_type": "markdown",
   "id": "bffde1d9",
   "metadata": {},
   "source": [
    "# Listas [2]"
   ]
  },
  {
   "cell_type": "code",
   "execution_count": null,
   "id": "6579098a",
   "metadata": {},
   "outputs": [],
   "source": [
    "lista_completa = ['a','b','c','d','e',1,2,3,4]\n",
    "lista_letras = lista_completa[0:5]          #['a', 'b', 'c', 'd', 'e'] El índice 5 no se incluye\n",
    "lista_numeros = lista_completa[5:9]         #[1, 2, 3, 4] El índice 9 no se incluye\n",
    "print(lista_letras)\n",
    "print(lista_numeros)\n",
    "print(lista_completa[:5])                   #['a', 'b', 'c', 'd', 'e']\n",
    "print(lista_completa[5:])                   #[1, 2, 3, 4]\n",
    "print(lista_completa[-4:])                  #[1, 2, 3, 4]\n",
    "print(lista_completa[1::2])                 #['b', 'd', 1, 3]\n",
    "lista_completa[6] != lista_completa[6:7]    #2!=[2] El valor 2 es distinto de la sublista [2]"
   ]
  },
  {
   "cell_type": "code",
   "execution_count": null,
   "id": "f5e85de7",
   "metadata": {},
   "outputs": [],
   "source": [
    "mi_rango=range(10)\n",
    "print(mi_rango)               #range(0, 10)\n",
    "print(type(mi_rango))         #<class 'range'>\n",
    "list(mi_rango)                #se puede convertir en una lista"
   ]
  },
  {
   "cell_type": "code",
   "execution_count": null,
   "id": "45a0874c",
   "metadata": {},
   "outputs": [],
   "source": [
    "numeros=list(range(10))\n",
    "print(numeros)                #[0, 1, 2, 3, 4, 5, 6, 7, 8, 9]"
   ]
  },
  {
   "cell_type": "code",
   "execution_count": null,
   "id": "ae88454f",
   "metadata": {},
   "outputs": [],
   "source": [
    "ceros=[0]*10\n",
    "print(ceros)                  #[0, 0, 0, 0, 0, 0, 0, 0, 0, 0]\n",
    "print(len(ceros))             #10"
   ]
  },
  {
   "cell_type": "code",
   "execution_count": null,
   "id": "dbbebeea",
   "metadata": {},
   "outputs": [],
   "source": [
    "del ceros[2:]                 # eliminamos desde el elemento de indice 2 incluido hasta el final\n",
    "print(ceros)                  #[0, 0]"
   ]
  }
 ],
 "metadata": {
  "kernelspec": {
   "display_name": "Python 3",
   "language": "python",
   "name": "python3"
  },
  "language_info": {
   "codemirror_mode": {
    "name": "ipython",
    "version": 3
   },
   "file_extension": ".py",
   "mimetype": "text/x-python",
   "name": "python",
   "nbconvert_exporter": "python",
   "pygments_lexer": "ipython3",
   "version": "3.8.10"
  }
 },
 "nbformat": 4,
 "nbformat_minor": 5
}
