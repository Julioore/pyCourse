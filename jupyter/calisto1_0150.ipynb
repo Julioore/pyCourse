{
 "cells": [
  {
   "cell_type": "markdown",
   "id": "96279767",
   "metadata": {},
   "source": [
    "# Listas [1]  \n",
    "Arrays   (arreglos)  \n",
    "Una lista es un conjunto iterable de datos ordenados que van entre corchetes ```[]```"
   ]
  },
  {
   "cell_type": "code",
   "execution_count": null,
   "id": "d771fdc2",
   "metadata": {},
   "outputs": [],
   "source": [
    "[]                             # lista vacía"
   ]
  },
  {
   "cell_type": "code",
   "execution_count": null,
   "id": "a2e97e31",
   "metadata": {},
   "outputs": [],
   "source": [
    "[10, 15, 12]                   # una lista de tres elementos con números enteros"
   ]
  },
  {
   "cell_type": "markdown",
   "id": "25037e95",
   "metadata": {},
   "source": [
    "Una lista es una estructura de datos formada por una secuencia **ordenada** de objetos.  \n",
    "En una lista el orden importa."
   ]
  },
  {
   "cell_type": "code",
   "execution_count": null,
   "id": "538f8c17",
   "metadata": {},
   "outputs": [],
   "source": [
    "['azul', 'rojo', 'verde', 'rosa']      # una lista con strings"
   ]
  },
  {
   "cell_type": "code",
   "execution_count": null,
   "id": "b9b7b4f2",
   "metadata": {},
   "outputs": [],
   "source": [
    "[4, 'lunes', 3.14, True, None]         # admite cualquier valor"
   ]
  },
  {
   "cell_type": "code",
   "execution_count": null,
   "id": "476ee3a8",
   "metadata": {},
   "outputs": [],
   "source": [
    "comida = ['spagueti','pollo','tarta']  # asignación a una variable\n",
    "print(comida)                          # ['spagueti', 'pollo', 'tarta']"
   ]
  },
  {
   "cell_type": "markdown",
   "id": "3bb6a430",
   "metadata": {},
   "source": [
    "## Podemos trabajar con índices"
   ]
  },
  {
   "cell_type": "code",
   "execution_count": null,
   "id": "10f93f6a",
   "metadata": {},
   "outputs": [],
   "source": [
    "comida[0]                      # 'spagueti'   se comienza por el índice 0 \n",
    "comida[1]                      # 'pollo'\n",
    "comida[2]                      # 'tarta'      ¿por qué solo se imprime 'tarta'?"
   ]
  },
  {
   "cell_type": "markdown",
   "id": "d9516f90",
   "metadata": {},
   "source": [
    "## Longitud de una cadena"
   ]
  },
  {
   "cell_type": "code",
   "execution_count": null,
   "id": "0c339d1c",
   "metadata": {},
   "outputs": [],
   "source": [
    "p = [1,2,3,4]\n",
    "q = [4,5,6,7]\n",
    "len(p) == len(q)               # True"
   ]
  },
  {
   "cell_type": "markdown",
   "id": "3b590cf9",
   "metadata": {},
   "source": [
    "## Las cadenas admiten slicing"
   ]
  },
  {
   "cell_type": "code",
   "execution_count": null,
   "id": "927e7ca2",
   "metadata": {},
   "outputs": [],
   "source": [
    "comida[:2]                     # ['spagueti', 'pollo']"
   ]
  },
  {
   "cell_type": "code",
   "execution_count": null,
   "id": "e3b0bffa",
   "metadata": {},
   "outputs": [],
   "source": [
    "p[-1] == q[0]                  # True"
   ]
  },
  {
   "cell_type": "markdown",
   "id": "31687a19",
   "metadata": {},
   "source": [
    "## Las listas no son inmutables\n",
    "Las listas pueden cambiar. Podemos reemplazar sus elementos.  \n",
    "Vamos a reemplazar el elemento de índice 0 que es spaguetis por otra palabra espaguetis (con e al inicio)."
   ]
  },
  {
   "cell_type": "code",
   "execution_count": null,
   "id": "f33df9e0",
   "metadata": {},
   "outputs": [],
   "source": [
    "comida[0] = 'espagueti'        # reemplazando un elemento, escribimos espagueti con e\n",
    "print(comida)                  # ['espagueti', 'pollo', 'tarta']"
   ]
  },
  {
   "cell_type": "markdown",
   "id": "6346f6bb",
   "metadata": {},
   "source": [
    "## Tipo lista"
   ]
  },
  {
   "cell_type": "code",
   "execution_count": null,
   "id": "8c7bd577",
   "metadata": {},
   "outputs": [],
   "source": [
    "print(type(comida))             # <class 'list'>"
   ]
  },
  {
   "cell_type": "markdown",
   "id": "de79bb98",
   "metadata": {},
   "source": [
    "## Listas dentro de listas"
   ]
  },
  {
   "cell_type": "code",
   "execution_count": null,
   "id": "a0c0ed7a",
   "metadata": {},
   "outputs": [],
   "source": [
    "lista = [comida,23,True,15.60]  # una lista dentro de una lista\n",
    "print(lista)"
   ]
  },
  {
   "cell_type": "markdown",
   "id": "e35e5bcf",
   "metadata": {},
   "source": [
    "### Matriz:  Array 2D\n",
    "Matriz de dos dimensiones."
   ]
  },
  {
   "cell_type": "code",
   "execution_count": null,
   "id": "a95b3d70",
   "metadata": {},
   "outputs": [],
   "source": [
    "matriz=[[11,12,13,14],\n",
    "        [21,22,23,24],\n",
    "        [31,32,33,34]]\n",
    "matriz                          # dos filas, cuatro columnas, 2×4"
   ]
  },
  {
   "cell_type": "markdown",
   "id": "a4386929",
   "metadata": {},
   "source": [
    "#### Listas anidadas"
   ]
  },
  {
   "cell_type": "code",
   "execution_count": null,
   "id": "df6abc0f",
   "metadata": {},
   "outputs": [],
   "source": [
    "a = [1,2,3]\n",
    "b = [4,5,6]\n",
    "c = [7,8,9]\n",
    "m = [a,b,c]\n",
    "m                               # matriz de dos dimensiones"
   ]
  },
  {
   "cell_type": "markdown",
   "id": "63f5ff88",
   "metadata": {},
   "source": [
    "#### Accediendo a una lista dentro de otra lista"
   ]
  },
  {
   "cell_type": "code",
   "execution_count": null,
   "id": "2fca709b",
   "metadata": {},
   "outputs": [],
   "source": [
    "m[0]"
   ]
  },
  {
   "cell_type": "markdown",
   "id": "6a0d1c5c",
   "metadata": {},
   "source": [
    "#### Accediendo a un elemento en una matriz"
   ]
  },
  {
   "cell_type": "code",
   "execution_count": null,
   "id": "c0e360d9",
   "metadata": {},
   "outputs": [],
   "source": [
    "m[0][0]"
   ]
  },
  {
   "cell_type": "code",
   "execution_count": null,
   "id": "e42ed77f",
   "metadata": {},
   "outputs": [],
   "source": [
    "m[2][2] == m[-1][-1]            # ¿9 es igual a 9?"
   ]
  },
  {
   "cell_type": "markdown",
   "id": "64c2b0a7",
   "metadata": {},
   "source": [
    "### Una listas que incluye dos listas"
   ]
  },
  {
   "cell_type": "code",
   "execution_count": null,
   "id": "28f54caa",
   "metadata": {},
   "outputs": [],
   "source": [
    "bebida=['agua','vino','cerveza']\n",
    "menu=[comida,bebida]            # una lista que incluye dos listas\n",
    "print(menu)\n",
    "print(menu[1][2])                             #cerveza\n",
    "print(comida[len(comida)-1] == comida[-1])    #True"
   ]
  },
  {
   "cell_type": "markdown",
   "id": "21616ea1",
   "metadata": {},
   "source": [
    "## Sumar dos listas es unir dos listas en una"
   ]
  },
  {
   "cell_type": "code",
   "execution_count": null,
   "id": "47b77aad",
   "metadata": {},
   "outputs": [],
   "source": [
    "carta = comida + bebida         # la carta del restaurante es la unión de comida y bebida\n",
    "print(carta)"
   ]
  },
  {
   "cell_type": "markdown",
   "id": "c98a4733",
   "metadata": {},
   "source": [
    "## Borrar un elemento de la lista"
   ]
  },
  {
   "cell_type": "code",
   "execution_count": null,
   "id": "fc800354",
   "metadata": {},
   "outputs": [],
   "source": [
    "del carta[-2]                   # eliminamos el vino\n",
    "print(carta)                    # ['espagueti', 'pollo', 'tarta', 'agua', 'cerveza']"
   ]
  },
  {
   "cell_type": "markdown",
   "id": "1732deb8",
   "metadata": {},
   "source": [
    "## Anexar un elemento a una lista\n",
    "Añadir el elemento en la última posición."
   ]
  },
  {
   "cell_type": "code",
   "execution_count": null,
   "id": "3caeb79d",
   "metadata": {},
   "outputs": [],
   "source": [
    "carta.append('limonada')        # añadimos al final un elemento\n",
    "print(carta)                    # ['espagueti', 'pollo', 'tarta', 'agua', 'cerveza', 'limonada']"
   ]
  },
  {
   "cell_type": "markdown",
   "id": "5623bf81",
   "metadata": {},
   "source": [
    "## Comprobar si un elemento está en la lista"
   ]
  },
  {
   "cell_type": "code",
   "execution_count": null,
   "id": "f908ce76",
   "metadata": {},
   "outputs": [],
   "source": [
    "print('tarta' in carta)         # True    Operador de pertenencia: in\n",
    "print('fruta' in carta)         # False"
   ]
  },
  {
   "cell_type": "markdown",
   "id": "8d4b62b9",
   "metadata": {},
   "source": [
    "## Índice de un elemento en la lista\n",
    "Ver que número de índice ocupa un elemento en la lista"
   ]
  },
  {
   "cell_type": "code",
   "execution_count": null,
   "id": "9aa114a3",
   "metadata": {},
   "outputs": [],
   "source": [
    "oferta = ['espagueti', 'pollo', 'tarta', 'agua', 'cerveza']\n",
    "print(oferta.index('tarta'))    # 2"
   ]
  },
  {
   "cell_type": "markdown",
   "id": "f5366bb5",
   "metadata": {},
   "source": [
    "### Añadimos café"
   ]
  },
  {
   "cell_type": "code",
   "execution_count": null,
   "id": "d46d0c7a",
   "metadata": {},
   "outputs": [],
   "source": [
    "oferta.append('café')           # ['espagueti', 'pollo', 'tarta', 'agua', 'cerveza', 'café']\n",
    "print(oferta)"
   ]
  },
  {
   "cell_type": "markdown",
   "id": "7ad67f1b",
   "metadata": {},
   "source": [
    "### Removemos el agua"
   ]
  },
  {
   "cell_type": "code",
   "execution_count": null,
   "id": "b27e3199",
   "metadata": {},
   "outputs": [],
   "source": [
    "oferta.remove('agua')           # ['espagueti', 'pollo', 'tarta', 'cerveza', 'café']\n",
    "print(oferta)"
   ]
  },
  {
   "cell_type": "markdown",
   "id": "4e4429bd",
   "metadata": {},
   "source": [
    "### Eliminamos el úlimo elemento con pop"
   ]
  },
  {
   "cell_type": "code",
   "execution_count": null,
   "id": "b475c773",
   "metadata": {},
   "outputs": [],
   "source": [
    "oferta.pop()                    # ['espagueti', 'pollo', 'tarta', 'cerveza']\n",
    "print(oferta)"
   ]
  },
  {
   "cell_type": "markdown",
   "id": "fc534d6e",
   "metadata": {},
   "source": [
    "### Insertamos un elemento en una posición concreta"
   ]
  },
  {
   "cell_type": "code",
   "execution_count": null,
   "id": "ccae05d3",
   "metadata": {},
   "outputs": [],
   "source": [
    "oferta.insert(2,'fruta')        # ['espagueti', 'pollo', 'fruta', 'tarta', 'cerveza']\n",
    "print(oferta)"
   ]
  },
  {
   "cell_type": "code",
   "execution_count": null,
   "id": "2680056f",
   "metadata": {},
   "outputs": [],
   "source": [
    "oferta.insert(0,'pan')          # ['pan', 'espagueti', 'pollo', 'fruta', 'tarta', 'cerveza']\n",
    "print(oferta)"
   ]
  },
  {
   "cell_type": "markdown",
   "id": "9eebdbf7",
   "metadata": {},
   "source": [
    "### Eliminar parte de una lista"
   ]
  },
  {
   "cell_type": "code",
   "execution_count": null,
   "id": "f8531cac",
   "metadata": {},
   "outputs": [],
   "source": [
    "oferta[:2]=[]                   # usando slicing e igualando a una lista vacía\n",
    "oferta"
   ]
  },
  {
   "cell_type": "markdown",
   "id": "44f148c0",
   "metadata": {},
   "source": [
    "### Eliminando completamente el contenido de la lista"
   ]
  },
  {
   "cell_type": "code",
   "execution_count": null,
   "id": "b9352a34",
   "metadata": {},
   "outputs": [],
   "source": [
    "oferta=[]                       # asignando la lista a una lista vacía\n",
    "oferta"
   ]
  }
 ],
 "metadata": {
  "kernelspec": {
   "display_name": "Python 3",
   "language": "python",
   "name": "python3"
  },
  "language_info": {
   "codemirror_mode": {
    "name": "ipython",
    "version": 3
   },
   "file_extension": ".py",
   "mimetype": "text/x-python",
   "name": "python",
   "nbconvert_exporter": "python",
   "pygments_lexer": "ipython3",
   "version": "3.8.8"
  }
 },
 "nbformat": 4,
 "nbformat_minor": 5
}
