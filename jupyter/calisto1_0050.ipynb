{
 "cells": [
  {
   "cell_type": "markdown",
   "id": "608e6397",
   "metadata": {},
   "source": [
    "# Escribiendo líneas de código"
   ]
  },
  {
   "cell_type": "code",
   "execution_count": null,
   "id": "e2433b19",
   "metadata": {},
   "outputs": [],
   "source": [
    "print(\"Hola\")"
   ]
  },
  {
   "cell_type": "markdown",
   "id": "17b5930f",
   "metadata": {},
   "source": [
    "## Imprimir en varias líneas"
   ]
  },
  {
   "cell_type": "code",
   "execution_count": null,
   "id": "6d11b5ef",
   "metadata": {},
   "outputs": [],
   "source": [
    "print(\"\"\"Esto es\n",
    "una impresión\n",
    "de un párrfo\n",
    "en varias líneas\"\"\")"
   ]
  },
  {
   "cell_type": "code",
   "execution_count": null,
   "id": "de6aeb0c",
   "metadata": {},
   "outputs": [],
   "source": [
    "print('''Elija la opción deseada:\n",
    "   1 Escribir\n",
    "   2 Editar\n",
    "   3 Grabar\n",
    "   4 Borrar''')"
   ]
  },
  {
   "cell_type": "code",
   "execution_count": null,
   "id": "16576456",
   "metadata": {},
   "outputs": [],
   "source": [
    "print(\"Seleccione su destino \\nPlaya \\nMontaña\")"
   ]
  },
  {
   "cell_type": "code",
   "execution_count": null,
   "id": "1edf81e0",
   "metadata": {},
   "outputs": [],
   "source": [
    "print(\"Seleccione su destino \\n\\tPlaya \\n\\tMontaña\")"
   ]
  },
  {
   "cell_type": "code",
   "execution_count": null,
   "id": "5745cbc7",
   "metadata": {},
   "outputs": [],
   "source": [
    "print(r\"Seleccione su destino \\n\\tPlaya \\n\\tMontaña\")    # Imprime en bruto (raw)"
   ]
  },
  {
   "cell_type": "markdown",
   "id": "da290e02",
   "metadata": {},
   "source": [
    "## Una única línea de código en varias líneas de texto."
   ]
  },
  {
   "cell_type": "markdown",
   "id": "38c6c6ea",
   "metadata": {},
   "source": [
    "Veamos un ejemplo que luego vamos a transformar."
   ]
  },
  {
   "cell_type": "code",
   "execution_count": null,
   "id": "634cb624",
   "metadata": {},
   "outputs": [],
   "source": [
    "x=1\n",
    "y=2\n",
    "z=3\n",
    "if x==1 and y==2 and z==3:\n",
    "    print(\"Los valores son correctos.\")"
   ]
  },
  {
   "cell_type": "markdown",
   "id": "af440b3f",
   "metadata": {},
   "source": [
    "El ejemplo anterios se puede escribir de otra forma.\n",
    "\n",
    "Con ```;``` podemos escribir varias líneas de código en una sola línea de texto.\n",
    "\n",
    "Con ```\\``` la barra invertida podemos separar una línea de código en varias líneas de texto."
   ]
  },
  {
   "cell_type": "code",
   "execution_count": null,
   "id": "11e668ca",
   "metadata": {},
   "outputs": [],
   "source": [
    "x=1; y=2; z=3\n",
    "if x==1 and \\\n",
    "   y==2 and \\\n",
    "   z==3:\n",
    "    print(\"Los valores son correctos.\")"
   ]
  }
 ],
 "metadata": {
  "kernelspec": {
   "display_name": "Python 3",
   "language": "python",
   "name": "python3"
  },
  "language_info": {
   "codemirror_mode": {
    "name": "ipython",
    "version": 3
   },
   "file_extension": ".py",
   "mimetype": "text/x-python",
   "name": "python",
   "nbconvert_exporter": "python",
   "pygments_lexer": "ipython3",
   "version": "3.8.5"
  }
 },
 "nbformat": 4,
 "nbformat_minor": 5
}
