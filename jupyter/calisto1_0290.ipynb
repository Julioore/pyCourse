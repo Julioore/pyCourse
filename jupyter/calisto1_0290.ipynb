{
 "cells": [
  {
   "cell_type": "markdown",
   "id": "01dbef72",
   "metadata": {},
   "source": [
    "# Estructura condicional: ```if``` ... ```elif```"
   ]
  },
  {
   "cell_type": "code",
   "execution_count": null,
   "id": "4e5ca237",
   "metadata": {},
   "outputs": [],
   "source": [
    "a = 10\n",
    "b = 20                                   # tres condicionales if independientes\n",
    "if a == b:\n",
    "    print(\"a es igual a b\")\n",
    "if a < b:\n",
    "    print(\"a es menor que b\")\n",
    "if a > b:\n",
    "    print(\"a es mayor que b\")"
   ]
  },
  {
   "cell_type": "code",
   "execution_count": null,
   "id": "f8e8b438",
   "metadata": {},
   "outputs": [],
   "source": [
    "a = 10\n",
    "b = 20                                  #una única estructura if con varios casos\n",
    "if a == b:\n",
    "    print(\"a es igual a b\")\n",
    "elif a < b:\n",
    "    print(\"a es menor que b\")\n",
    "elif a > b:\n",
    "    print(\"a es mayor que b\")\n"
   ]
  },
  {
   "cell_type": "markdown",
   "id": "459aadfb",
   "metadata": {},
   "source": [
    "## Varios ```elif``` y finalmente un ```else```\n",
    "El usuario puede dar órdenes de compra, venta o consulta de acciones."
   ]
  },
  {
   "cell_type": "code",
   "execution_count": null,
   "id": "05d1b248",
   "metadata": {},
   "outputs": [],
   "source": [
    "orden = \"VENDER\"\n",
    "if orden == \"COMPRAR\":\n",
    "    print(\"Comprando acciones\")\n",
    "elif orden == \"VENDER\":\n",
    "    print(\"Vendiendo acciones\")\n",
    "elif orden == \"CONSULTAR\":\n",
    "    print(\"Consultando el precio de las acciones\")\n",
    "elif orden == \"SALIR\":\n",
    "    print(\"Saliendo del sistema...\")\n",
    "else:\n",
    "    print(\"Orden no reconocida\")"
   ]
  },
  {
   "cell_type": "markdown",
   "id": "5b3eadf0",
   "metadata": {},
   "source": [
    "## Intervalos  \n",
    "Asignar valores según el intervalo en el que se encuentre.  \n",
    "![tabla_con_los_intervalos](img/tablanotas.png)"
   ]
  },
  {
   "cell_type": "markdown",
   "id": "8f011757",
   "metadata": {},
   "source": [
    "### Ejemplo: calificación de un examen"
   ]
  },
  {
   "cell_type": "markdown",
   "id": "ed9565ae",
   "metadata": {},
   "source": [
    "#### Código incorrecto con varios ```if``` independientes"
   ]
  },
  {
   "cell_type": "code",
   "execution_count": null,
   "id": "e2d38129",
   "metadata": {},
   "outputs": [],
   "source": [
    "# Este código no es adecuado para el caso de las notas ya que se analiza cada if de forma independiente\n",
    "# se puede dar el caso donde con un 8 se cumplan dos condicionales.\n",
    "# Pruebe con nota = 9\n",
    "nota = 8                     #calificación de un examen\n",
    "if nota >= 9:\n",
    "    print(\"Sobresaliente\")\n",
    "if nota >= 7:\n",
    "    print(\"Notable\")\n",
    "if nota >= 5:\n",
    "    print(\"Aprobado\")\n",
    "if nota < 5:\n",
    "    print(\"Suspenso\")"
   ]
  },
  {
   "cell_type": "markdown",
   "id": "cb7d8410",
   "metadata": {},
   "source": [
    "#### Código correcto usando ```and```"
   ]
  },
  {
   "cell_type": "code",
   "execution_count": null,
   "id": "33760222",
   "metadata": {},
   "outputs": [],
   "source": [
    "nota = 8\n",
    "if nota >= 9:\n",
    "    print(\"Sobresaliente\")\n",
    "if nota >= 7 and nota < 9:\n",
    "    print(\"Notable\")\n",
    "if nota >= 5 and nota <7:\n",
    "    print(\"Aprobado\")\n",
    "if nota < 5:\n",
    "    print(\"Suspenso\")"
   ]
  },
  {
   "cell_type": "markdown",
   "id": "31ea35ff",
   "metadata": {},
   "source": [
    "#### Código correcto usando ```elif```\n",
    "Cuando se cumple una condición el flujo del programa se sale del condicional if y no sigue probando las otras condiciones."
   ]
  },
  {
   "cell_type": "code",
   "execution_count": null,
   "id": "2d809db6",
   "metadata": {},
   "outputs": [],
   "source": [
    "nota = float(input(\"Introduzca la nota: \"))\n",
    "if nota >= 9:\n",
    "    print(\"Sobresaliente\")\n",
    "elif nota >= 7:\n",
    "    print(\"Notable\")  \n",
    "elif nota >= 5:\n",
    "    print(\"Aprobado\")\n",
    "else:\n",
    "    print(\"Suspenso\")"
   ]
  },
  {
   "cell_type": "markdown",
   "id": "440947f4",
   "metadata": {},
   "source": [
    "#### Ejercicio  \n",
    "Pruebe a informar en caso de notas negativas o notas que superen el 10.  \n",
    "Modifique el código para que el 10 sea \"Matrícula de Honor\"."
   ]
  },
  {
   "cell_type": "markdown",
   "id": "26b02548",
   "metadata": {},
   "source": [
    "## ```If``` ... ```pass```"
   ]
  },
  {
   "cell_type": "code",
   "execution_count": null,
   "id": "6d25be2c",
   "metadata": {},
   "outputs": [],
   "source": [
    "if True:\n",
    "    pass"
   ]
  }
 ],
 "metadata": {
  "kernelspec": {
   "display_name": "Python 3",
   "language": "python",
   "name": "python3"
  },
  "language_info": {
   "codemirror_mode": {
    "name": "ipython",
    "version": 3
   },
   "file_extension": ".py",
   "mimetype": "text/x-python",
   "name": "python",
   "nbconvert_exporter": "python",
   "pygments_lexer": "ipython3",
   "version": "3.8.8"
  }
 },
 "nbformat": 4,
 "nbformat_minor": 5
}
