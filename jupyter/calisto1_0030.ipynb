{
 "cells": [
  {
   "cell_type": "markdown",
   "id": "e98a92a5",
   "metadata": {},
   "source": [
    "# Cadenas (Strings)"
   ]
  },
  {
   "cell_type": "code",
   "execution_count": null,
   "id": "4ee2203b",
   "metadata": {},
   "outputs": [],
   "source": [
    "\"hola\"            # directamente en el intérprete de Python"
   ]
  },
  {
   "cell_type": "code",
   "execution_count": null,
   "id": "e23a6dd7",
   "metadata": {},
   "outputs": [],
   "source": [
    "print(\"Hola\")     # usando print"
   ]
  },
  {
   "cell_type": "markdown",
   "id": "6081021a",
   "metadata": {},
   "source": [
    "## Repetir expresiones"
   ]
  },
  {
   "cell_type": "code",
   "execution_count": null,
   "id": "31f0bcb0",
   "metadata": {},
   "outputs": [],
   "source": [
    "\"hi\" * 3          # repetir expresiones"
   ]
  },
  {
   "cell_type": "markdown",
   "id": "58c650b0",
   "metadata": {},
   "source": [
    "## Concaterar expresiones"
   ]
  },
  {
   "cell_type": "code",
   "execution_count": null,
   "id": "e379b647",
   "metadata": {},
   "outputs": [],
   "source": [
    "\"hola\" +  \"mundo\" # concatenar"
   ]
  },
  {
   "cell_type": "markdown",
   "id": "5f9bfa3b",
   "metadata": {},
   "source": [
    "## Asignando variables"
   ]
  },
  {
   "cell_type": "code",
   "execution_count": null,
   "id": "81059451",
   "metadata": {},
   "outputs": [],
   "source": [
    "string1 = \"hola\"\n",
    "string2 =  \"mundo\"\n",
    "string3 = string1 + string2  # concatenando\n",
    "print(string3)               # si olvidamos cerrar el paréntesis se producirá un Error de sintaxis"
   ]
  },
  {
   "cell_type": "code",
   "execution_count": null,
   "id": "1eb00665",
   "metadata": {},
   "outputs": [],
   "source": [
    "print(\"hola\" + \" \" + \"mundo\")"
   ]
  },
  {
   "cell_type": "markdown",
   "id": "01950c38",
   "metadata": {},
   "source": [
    "Un enlace a un post que muestra múltiples formas de decir 'Hola mundo' en Python.\n",
    "\n",
    "[Hola mundo en Python](https://altocodigo.blogspot.com/2018/06/1-hola-mundo-en-python.html)"
   ]
  },
  {
   "cell_type": "markdown",
   "id": "11020dc7",
   "metadata": {},
   "source": [
    "## Error al concatenar con un número"
   ]
  },
  {
   "cell_type": "code",
   "execution_count": null,
   "id": "5f4a6df6",
   "metadata": {},
   "outputs": [],
   "source": [
    "#\"Vuelo \" + 505               # TypeError: can only concatenate str (not \"int\") to str"
   ]
  },
  {
   "cell_type": "code",
   "execution_count": null,
   "id": "86e3504e",
   "metadata": {},
   "outputs": [],
   "source": [
    "\"Vuelo \" + str(505)           # la función str() convierte un número en cadena"
   ]
  },
  {
   "cell_type": "markdown",
   "id": "d2d77353",
   "metadata": {},
   "source": [
    "## Comparando\n",
    "* = &nbsp;&nbsp;&nbsp;&nbsp;se usa para asignar un valor a una variable\n",
    "* == &nbsp;&nbsp;se usa para comparar dos valores o variables, formándose una expresión lógica"
   ]
  },
  {
   "cell_type": "code",
   "execution_count": null,
   "id": "1d3a196b",
   "metadata": {},
   "outputs": [],
   "source": [
    "2+8 == 10            #True"
   ]
  },
  {
   "cell_type": "code",
   "execution_count": null,
   "id": "1b908195",
   "metadata": {},
   "outputs": [],
   "source": [
    "123 == '123'         #False"
   ]
  },
  {
   "cell_type": "code",
   "execution_count": null,
   "id": "bce9b6a9",
   "metadata": {},
   "outputs": [],
   "source": [
    "'Hola' == \"Hola\"     #True"
   ]
  },
  {
   "cell_type": "code",
   "execution_count": null,
   "id": "e25dd0e9",
   "metadata": {},
   "outputs": [],
   "source": [
    "\"A\" + \"B\" == \"AB\"    #True"
   ]
  }
 ],
 "metadata": {
  "kernelspec": {
   "display_name": "Python 3",
   "language": "python",
   "name": "python3"
  },
  "language_info": {
   "codemirror_mode": {
    "name": "ipython",
    "version": 3
   },
   "file_extension": ".py",
   "mimetype": "text/x-python",
   "name": "python",
   "nbconvert_exporter": "python",
   "pygments_lexer": "ipython3",
   "version": "3.8.8"
  }
 },
 "nbformat": 4,
 "nbformat_minor": 5
}
