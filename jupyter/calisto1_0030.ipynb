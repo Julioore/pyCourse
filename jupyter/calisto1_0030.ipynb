{
 "cells": [
  {
   "cell_type": "markdown",
   "id": "bdd28658",
   "metadata": {},
   "source": [
    "# Formateando Cadenas (Strings)\n",
    "\n",
    "\n",
    "## Sistema antiguo con %s"
   ]
  },
  {
   "cell_type": "code",
   "execution_count": 1,
   "id": "67ba36b9",
   "metadata": {},
   "outputs": [
    {
     "name": "stdout",
     "output_type": "stream",
     "text": [
      "La capital de Lituania es Vilna\n"
     ]
    }
   ],
   "source": [
    "print(\"La capital de %s es %s\"%(\"Lituania\", \"Vilna\"))"
   ]
  },
  {
   "cell_type": "markdown",
   "id": "88758554",
   "metadata": {},
   "source": [
    "## Usando format"
   ]
  },
  {
   "cell_type": "code",
   "execution_count": 2,
   "id": "af28a407",
   "metadata": {},
   "outputs": [
    {
     "name": "stdout",
     "output_type": "stream",
     "text": [
      "Cuando tenía 10 años media 140 cm.\n"
     ]
    }
   ],
   "source": [
    "edad=10\n",
    "print('Cuando tenía {} años media {} cm.'.format(edad,140))"
   ]
  },
  {
   "cell_type": "code",
   "execution_count": 3,
   "id": "4c53332b",
   "metadata": {},
   "outputs": [
    {
     "name": "stdout",
     "output_type": "stream",
     "text": [
      "La suma de 2 más 3 es igual a 5\n"
     ]
    }
   ],
   "source": [
    "print(\"La suma de {} más {} es igual a {}\".format(2,3,2+3))"
   ]
  },
  {
   "cell_type": "code",
   "execution_count": 4,
   "id": "93535274",
   "metadata": {},
   "outputs": [
    {
     "name": "stdout",
     "output_type": "stream",
     "text": [
      "El producto de 5 y 4 es 20\n"
     ]
    }
   ],
   "source": [
    "texto=\"El producto de {} y {} es {}\"\n",
    "print(texto.format(5,4,20))"
   ]
  },
  {
   "cell_type": "code",
   "execution_count": 5,
   "id": "90edcdc7",
   "metadata": {},
   "outputs": [
    {
     "name": "stdout",
     "output_type": "stream",
     "text": [
      "Me llamo Ana Ruiz pero llamame simplemente Ana\n"
     ]
    }
   ],
   "source": [
    "nombre=\"Ana\"\n",
    "apellido=\"Ruiz\"\n",
    "texto=\"Me llamo {0} {1} pero llamame simplemente {0}\"\n",
    "print(texto.format(nombre, apellido))"
   ]
  },
  {
   "cell_type": "code",
   "execution_count": 6,
   "id": "d9b48a19",
   "metadata": {},
   "outputs": [
    {
     "name": "stdout",
     "output_type": "stream",
     "text": [
      "El Sol y la Luna\n"
     ]
    }
   ],
   "source": [
    "texto=\"El {b} y la {a}\"\n",
    "print(texto.format(a=\"Luna\",b=\"Sol\"))"
   ]
  },
  {
   "cell_type": "markdown",
   "id": "c0c00e9b",
   "metadata": {},
   "source": [
    "## El sistiema f"
   ]
  },
  {
   "cell_type": "code",
   "execution_count": 7,
   "id": "d256f023",
   "metadata": {},
   "outputs": [
    {
     "name": "stdout",
     "output_type": "stream",
     "text": [
      "La suma de 4 más 6 es igual a 10\n"
     ]
    }
   ],
   "source": [
    "x,y=4,6;z=x+y\n",
    "print(f\"La suma de {x} más {y} es igual a {z}\")"
   ]
  },
  {
   "cell_type": "markdown",
   "id": "90d71d76",
   "metadata": {},
   "source": [
    "Podemos realizar operaciones dentro de las comillas."
   ]
  },
  {
   "cell_type": "code",
   "execution_count": 8,
   "id": "676358bf",
   "metadata": {},
   "outputs": [
    {
     "name": "stdout",
     "output_type": "stream",
     "text": [
      "El área es 8\n"
     ]
    }
   ],
   "source": [
    "print(f'El área es {2*4}')"
   ]
  },
  {
   "cell_type": "code",
   "execution_count": 9,
   "id": "027e89a4",
   "metadata": {},
   "outputs": [
    {
     "ename": "SyntaxError",
     "evalue": "invalid syntax (<ipython-input-9-0b3be88129a8>, line 1)",
     "output_type": "error",
     "traceback": [
      "\u001b[0;36m  File \u001b[0;32m\"<ipython-input-9-0b3be88129a8>\"\u001b[0;36m, line \u001b[0;32m1\u001b[0m\n\u001b[0;31m    Incluso podemos invocar funciones dentro de las comillas.\u001b[0m\n\u001b[0m            ^\u001b[0m\n\u001b[0;31mSyntaxError\u001b[0m\u001b[0;31m:\u001b[0m invalid syntax\n"
     ]
    }
   ],
   "source": [
    "Incluso podemos invocar funciones dentro de las comillas."
   ]
  },
  {
   "cell_type": "code",
   "execution_count": 10,
   "id": "0d1856bd",
   "metadata": {},
   "outputs": [
    {
     "name": "stdout",
     "output_type": "stream",
     "text": [
      "El doble de 9 es 18\n"
     ]
    }
   ],
   "source": [
    "def doble(n):\n",
    "  return 2*n\n",
    "\n",
    "print(f\"El doble de 9 es {doble(9)}\")"
   ]
  }
 ],
 "metadata": {
  "kernelspec": {
   "display_name": "Python 3",
   "language": "python",
   "name": "python3"
  },
  "language_info": {
   "codemirror_mode": {
    "name": "ipython",
    "version": 3
   },
   "file_extension": ".py",
   "mimetype": "text/x-python",
   "name": "python",
   "nbconvert_exporter": "python",
   "pygments_lexer": "ipython3",
   "version": "3.8.5"
  }
 },
 "nbformat": 4,
 "nbformat_minor": 5
}
