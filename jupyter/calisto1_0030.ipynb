{
 "cells": [
  {
   "cell_type": "markdown",
   "id": "79405b76",
   "metadata": {},
   "source": [
    "# Operaciones aritméticas"
   ]
  },
  {
   "cell_type": "markdown",
   "id": "a738d7e1",
   "metadata": {},
   "source": [
    "\\+   &nbsp;&nbsp;&nbsp;&nbsp;&nbsp; Suma, también concatena  \n",
    "\\-   &nbsp;&nbsp;&nbsp;&nbsp;&nbsp;&nbsp; Resta  \n",
    "\\*   &nbsp;&nbsp;&nbsp;&nbsp;&nbsp;&nbsp; Producto  \n",
    "**   &nbsp;&nbsp;&nbsp;&nbsp;&nbsp; Potencias, elevar, también con una librería matemática  \n",
    "/    &nbsp;&nbsp;&nbsp;&nbsp;&nbsp;&nbsp; Dividir. Siempre da como resultado un número de coma flotante  \n",
    "//   &nbsp;&nbsp;&nbsp;&nbsp;&nbsp; División entera  \n",
    "%    &nbsp;&nbsp;&nbsp;&nbsp; Resto, Residuo, Módulo"
   ]
  },
  {
   "cell_type": "code",
   "execution_count": null,
   "id": "6e6b247c",
   "metadata": {},
   "outputs": [],
   "source": [
    "2+3"
   ]
  },
  {
   "cell_type": "code",
   "execution_count": null,
   "id": "96600a19",
   "metadata": {},
   "outputs": [],
   "source": [
    "5--3"
   ]
  },
  {
   "cell_type": "code",
   "execution_count": null,
   "id": "5e06902f",
   "metadata": {},
   "outputs": [],
   "source": [
    "5*4"
   ]
  },
  {
   "cell_type": "code",
   "execution_count": null,
   "id": "8a8dc05e",
   "metadata": {},
   "outputs": [],
   "source": [
    "101/17       # float"
   ]
  },
  {
   "cell_type": "markdown",
   "id": "12e7e382",
   "metadata": {},
   "source": [
    "Podemos incluir comentarios del programador."
   ]
  },
  {
   "cell_type": "code",
   "execution_count": null,
   "id": "98c7ec67",
   "metadata": {},
   "outputs": [],
   "source": [
    "# al dividir siempre se obtiene un número con coma flotante (float)\n",
    "12/3"
   ]
  },
  {
   "cell_type": "code",
   "execution_count": null,
   "id": "b6ba9f2e",
   "metadata": {},
   "outputs": [],
   "source": [
    "17//5   # división entera"
   ]
  },
  {
   "cell_type": "code",
   "execution_count": null,
   "id": "1f633827",
   "metadata": {},
   "outputs": [],
   "source": [
    "17%5    # resto, resíduo, módulo"
   ]
  },
  {
   "cell_type": "code",
   "execution_count": null,
   "id": "c5f9f890",
   "metadata": {},
   "outputs": [],
   "source": [
    "2**3    # potencias"
   ]
  },
  {
   "cell_type": "code",
   "execution_count": null,
   "id": "c4afe73b",
   "metadata": {},
   "outputs": [],
   "source": [
    "9**.5   # raiz cuadrada"
   ]
  },
  {
   "cell_type": "markdown",
   "id": "101ae317",
   "metadata": {},
   "source": [
    "## Prelación de operaciones\n",
    "Los paréntesis tienen prioridad."
   ]
  },
  {
   "cell_type": "code",
   "execution_count": null,
   "id": "aff3117a",
   "metadata": {},
   "outputs": [],
   "source": [
    "1+((10+5*3)*2)/10"
   ]
  },
  {
   "cell_type": "code",
   "execution_count": null,
   "id": "4190e198",
   "metadata": {},
   "outputs": [],
   "source": [
    "# Intenta calcular el resultado antes de ejecutar la expresión siguiente\n",
    "--1+1-1*(1+1-1)/1+1*(-1)"
   ]
  }
 ],
 "metadata": {
  "interpreter": {
   "hash": "916dbcbb3f70747c44a77c7bcd40155683ae19c65e1c03b4aa3499c5328201f1"
  },
  "kernelspec": {
   "display_name": "Python 3 (ipykernel)",
   "language": "python",
   "name": "python3"
  },
  "language_info": {
   "codemirror_mode": {
    "name": "ipython",
    "version": 3
   },
   "file_extension": ".py",
   "mimetype": "text/x-python",
   "name": "python",
   "nbconvert_exporter": "python",
   "pygments_lexer": "ipython3",
   "version": "3.8.11"
  }
 },
 "nbformat": 4,
 "nbformat_minor": 5
}
