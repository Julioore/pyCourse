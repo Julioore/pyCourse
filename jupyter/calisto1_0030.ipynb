{
 "cells": [
  {
   "cell_type": "markdown",
   "id": "bdd28658",
   "metadata": {},
   "source": [
    "# Formateando Cadenas (Strings)\n",
    "\n",
    "\n",
    "## Sistema antiguo con ```%s```"
   ]
  },
  {
   "cell_type": "code",
   "execution_count": null,
   "id": "67ba36b9",
   "metadata": {},
   "outputs": [],
   "source": [
    "print(\"La capital de %s es %s\"%(\"Lituania\", \"Vilna\"))"
   ]
  },
  {
   "cell_type": "markdown",
   "id": "88758554",
   "metadata": {},
   "source": [
    "## Usando ```format```"
   ]
  },
  {
   "cell_type": "code",
   "execution_count": null,
   "id": "af28a407",
   "metadata": {},
   "outputs": [],
   "source": [
    "edad = 10\n",
    "print('Cuando tenía {} años media {} cm.'.format(edad, 140))"
   ]
  },
  {
   "cell_type": "code",
   "execution_count": null,
   "id": "4c53332b",
   "metadata": {},
   "outputs": [],
   "source": [
    "print(\"La suma de {} más {} es igual a {}\".format(2, 3, 2+3))"
   ]
  },
  {
   "cell_type": "code",
   "execution_count": null,
   "id": "93535274",
   "metadata": {},
   "outputs": [],
   "source": [
    "texto = \"El producto de {} y {} es {}\"\n",
    "print(texto.format(5, 4, 20))"
   ]
  },
  {
   "cell_type": "code",
   "execution_count": null,
   "id": "90edcdc7",
   "metadata": {},
   "outputs": [],
   "source": [
    "nombre = \"Ana\"\n",
    "apellido = \"Ruiz\"\n",
    "texto = \"Me llamo {0} {1} pero llamame simplemente {0}\"\n",
    "print(texto.format(nombre, apellido))"
   ]
  },
  {
   "cell_type": "code",
   "execution_count": null,
   "id": "d9b48a19",
   "metadata": {},
   "outputs": [],
   "source": [
    "texto = \"El {b} y la {a}\"\n",
    "print(texto.format(a = \"Luna\", b = \"Sol\"))"
   ]
  },
  {
   "cell_type": "code",
   "execution_count": null,
   "id": "b14bbc07",
   "metadata": {},
   "outputs": [],
   "source": [
    "nombre=\"Juan\"\n",
    "edad=24\n",
    "print(\"Nuestro amigo {} cumple {} años\".format(nombre,edad))"
   ]
  },
  {
   "cell_type": "markdown",
   "id": "c0c00e9b",
   "metadata": {},
   "source": [
    "## El sistiema ```f```"
   ]
  },
  {
   "cell_type": "code",
   "execution_count": null,
   "id": "ac4e0112",
   "metadata": {},
   "outputs": [],
   "source": [
    "nombre=\"Juan\"\n",
    "edad=24\n",
    "print(f\"Nuestro amigo {nombre} cumple {edad} años\")"
   ]
  },
  {
   "cell_type": "code",
   "execution_count": null,
   "id": "d256f023",
   "metadata": {},
   "outputs": [],
   "source": [
    "x, y = 4, 6; z = x + y\n",
    "print(f\"La suma de {x} más {y} es igual a {z}\")"
   ]
  },
  {
   "cell_type": "markdown",
   "id": "90d71d76",
   "metadata": {},
   "source": [
    "Podemos realizar operaciones dentro de las comillas."
   ]
  },
  {
   "cell_type": "code",
   "execution_count": null,
   "id": "676358bf",
   "metadata": {},
   "outputs": [],
   "source": [
    "print(f'El área es {2*4}')"
   ]
  },
  {
   "cell_type": "markdown",
   "id": "78f41e0d",
   "metadata": {},
   "source": [
    "Incluso podemos invocar funciones dentro de las comillas."
   ]
  },
  {
   "cell_type": "code",
   "execution_count": null,
   "id": "0d1856bd",
   "metadata": {},
   "outputs": [],
   "source": [
    "def doblar(n):\n",
    "  return 2*n\n",
    "\n",
    "print(f\"El doble de 9 es {doblar(9)}\")"
   ]
  }
 ],
 "metadata": {
  "kernelspec": {
   "display_name": "Python 3",
   "language": "python",
   "name": "python3"
  },
  "language_info": {
   "codemirror_mode": {
    "name": "ipython",
    "version": 3
   },
   "file_extension": ".py",
   "mimetype": "text/x-python",
   "name": "python",
   "nbconvert_exporter": "python",
   "pygments_lexer": "ipython3",
   "version": "3.8.10"
  }
 },
 "nbformat": 4,
 "nbformat_minor": 5
}
