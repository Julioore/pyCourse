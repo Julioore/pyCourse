{
 "cells": [
  {
   "cell_type": "markdown",
   "id": "f41a196f",
   "metadata": {},
   "source": [
    "# Formateando Cadenas (Strings)\n",
    "\n",
    "\n",
    "## Sistema antiguo con ```%s```"
   ]
  },
  {
   "cell_type": "code",
   "execution_count": null,
   "id": "d1d96ade",
   "metadata": {},
   "outputs": [],
   "source": [
    "print(\"La capital de %s es %s\"%(\"Lituania\", \"Vilna\"))"
   ]
  },
  {
   "cell_type": "markdown",
   "id": "08e554b7",
   "metadata": {},
   "source": [
    "## Usando ```format```"
   ]
  },
  {
   "cell_type": "code",
   "execution_count": null,
   "id": "0793a9f7",
   "metadata": {},
   "outputs": [],
   "source": [
    "edad = 10\n",
    "print('Cuando tenía {} años media {} cm.'.format(edad, 140))"
   ]
  },
  {
   "cell_type": "code",
   "execution_count": null,
   "id": "abad94ac",
   "metadata": {},
   "outputs": [],
   "source": [
    "print(\"La suma de {} más {} es igual a {}\".format(2, 3, 2+3))"
   ]
  },
  {
   "cell_type": "code",
   "execution_count": null,
   "id": "e70298c4",
   "metadata": {},
   "outputs": [],
   "source": [
    "texto = \"El producto de {} y {} es {}\"\n",
    "print(texto.format(5, 4, 20))"
   ]
  },
  {
   "cell_type": "code",
   "execution_count": null,
   "id": "d40a15b8",
   "metadata": {},
   "outputs": [],
   "source": [
    "nombre = \"Luis\"\n",
    "apellido = \"Olmo\"\n",
    "print(\"Me llamo {} {}\".format(nombre, apellido))"
   ]
  },
  {
   "cell_type": "code",
   "execution_count": null,
   "id": "84005ccb",
   "metadata": {},
   "outputs": [],
   "source": [
    "nombre = \"Ana\"\n",
    "apellido = \"Ruiz\"\n",
    "texto = \"Me llamo {0} {1} pero llamame simplemente {0}\"\n",
    "print(texto.format(nombre, apellido))                           # el primero es el de índice 0"
   ]
  },
  {
   "cell_type": "code",
   "execution_count": null,
   "id": "4a0c7fca",
   "metadata": {},
   "outputs": [],
   "source": [
    "texto = \"El {b} y la {a}\"\n",
    "print(texto.format(a = \"Luna\", b = \"Sol\"))"
   ]
  },
  {
   "cell_type": "code",
   "execution_count": null,
   "id": "224981dc",
   "metadata": {},
   "outputs": [],
   "source": [
    "nombre=\"Juan\"\n",
    "edad=24\n",
    "print(\"Nuestro amigo {} cumple {} años\".format(nombre,edad))"
   ]
  },
  {
   "cell_type": "code",
   "execution_count": 2,
   "id": "433b833c",
   "metadata": {},
   "outputs": [
    {
     "name": "stdout",
     "output_type": "stream",
     "text": [
      "Para conseguir tu objetivo necesitas tres cosas: motivación, motivación y motivación.\n"
     ]
    }
   ],
   "source": [
    "print(\"Para conseguir tu objetivo necesitas tres cosas: {m}, {m} y {m}.\".format(m='motivación'))"
   ]
  },
  {
   "cell_type": "markdown",
   "id": "02473ace",
   "metadata": {},
   "source": [
    "## El sistiema ```f```"
   ]
  },
  {
   "cell_type": "code",
   "execution_count": null,
   "id": "7d7f53e3",
   "metadata": {},
   "outputs": [],
   "source": [
    "nombre=\"Juan\"\n",
    "edad=24\n",
    "print(f\"Nuestro amigo {nombre} cumple {edad} años\")"
   ]
  },
  {
   "cell_type": "code",
   "execution_count": null,
   "id": "7abe1ee5",
   "metadata": {},
   "outputs": [],
   "source": [
    "x, y = 4, 6; z = x + y\n",
    "print(f\"La suma de {x} más {y} es igual a {z}\")"
   ]
  },
  {
   "cell_type": "markdown",
   "id": "caed2574",
   "metadata": {},
   "source": [
    "Podemos realizar operaciones dentro de las comillas."
   ]
  },
  {
   "cell_type": "code",
   "execution_count": null,
   "id": "52e132b8",
   "metadata": {},
   "outputs": [],
   "source": [
    "print(f'El área es {2*4}')"
   ]
  },
  {
   "cell_type": "markdown",
   "id": "ba4a674a",
   "metadata": {},
   "source": [
    "Incluso podemos invocar funciones dentro de las comillas."
   ]
  },
  {
   "cell_type": "code",
   "execution_count": null,
   "id": "6170fb2e",
   "metadata": {},
   "outputs": [],
   "source": [
    "def doblar(n):\n",
    "  return 2*n\n",
    "\n",
    "print(f\"El doble de 9 es {doblar(9)}\")"
   ]
  },
  {
   "cell_type": "markdown",
   "id": "90abe959",
   "metadata": {},
   "source": [
    "## Maquetando texto: alineación"
   ]
  },
  {
   "cell_type": "code",
   "execution_count": 4,
   "id": "b5533d8b",
   "metadata": {},
   "outputs": [
    {
     "name": "stdout",
     "output_type": "stream",
     "text": [
      "                        Python\n"
     ]
    }
   ],
   "source": [
    "print(\"{:>30}\".format(\"Python\")) # alineación a la derecha de 30 caracteres"
   ]
  },
  {
   "cell_type": "code",
   "execution_count": 5,
   "id": "2d9fac1e",
   "metadata": {},
   "outputs": [
    {
     "name": "stdout",
     "output_type": "stream",
     "text": [
      "Python                        \n"
     ]
    }
   ],
   "source": [
    "print(\"{:30}\".format(\"Python\")) # alineación a la izquierda de 30 caracteres"
   ]
  },
  {
   "cell_type": "code",
   "execution_count": 7,
   "id": "eab78476",
   "metadata": {},
   "outputs": [
    {
     "name": "stdout",
     "output_type": "stream",
     "text": [
      "            Python            \n"
     ]
    }
   ],
   "source": [
    "print(\"{:^30}\".format(\"Python\")) # alineación al centro de 30 caracteres"
   ]
  },
  {
   "cell_type": "code",
   "execution_count": 18,
   "id": "c17da2a0",
   "metadata": {},
   "outputs": [
    {
     "name": "stdout",
     "output_type": "stream",
     "text": [
      "Pyt\n"
     ]
    }
   ],
   "source": [
    "print(\"{:.3}\".format(\"Python\")) # truncamiento a 3 caracteres"
   ]
  },
  {
   "cell_type": "code",
   "execution_count": 19,
   "id": "334615a2",
   "metadata": {},
   "outputs": [
    {
     "name": "stdout",
     "output_type": "stream",
     "text": [
      "Me gusta JavaScript y también Py\n"
     ]
    }
   ],
   "source": [
    "print(\"Me gusta {a} y también {b:.2}\".format(a=\"JavaScript\",b=\"Python\")) # dos palabras"
   ]
  },
  {
   "cell_type": "code",
   "execution_count": 17,
   "id": "e179a8b7",
   "metadata": {},
   "outputs": [
    {
     "name": "stdout",
     "output_type": "stream",
     "text": [
      "Me gusta         Java         y también Py\n"
     ]
    }
   ],
   "source": [
    "print(\"Me gusta {a:^20.4} y también {b:.2}\".format(a=\"JavaScript\",b=\"Python\")) # podemos mezclar: centrado y truncado"
   ]
  },
  {
   "cell_type": "markdown",
   "id": "b635c4dc",
   "metadata": {},
   "source": [
    "## Formateo de números enteros"
   ]
  },
  {
   "cell_type": "code",
   "execution_count": 22,
   "id": "2c8d5d1f",
   "metadata": {},
   "outputs": [
    {
     "name": "stdout",
     "output_type": "stream",
     "text": [
      "10\n",
      "100\n",
      "1000\n"
     ]
    }
   ],
   "source": [
    "print(\"{}\".format(10))       # nos gustaría alinearlos\n",
    "print(\"{}\".format(100))\n",
    "print(\"{}\".format(1000))"
   ]
  },
  {
   "cell_type": "code",
   "execution_count": 24,
   "id": "89848e9f",
   "metadata": {},
   "outputs": [
    {
     "name": "stdout",
     "output_type": "stream",
     "text": [
      "  10\n",
      " 100\n",
      "1000\n"
     ]
    }
   ],
   "source": [
    "print(\"{:4d}\".format(10))     # alineado a 4 digigos\n",
    "print(\"{:4d}\".format(100))\n",
    "print(\"{:4d}\".format(1000))"
   ]
  },
  {
   "cell_type": "markdown",
   "id": "ba344bff",
   "metadata": {},
   "source": [
    "## Formateo de números flotantes\n",
    "### Rellenados con espacios"
   ]
  },
  {
   "cell_type": "code",
   "execution_count": 31,
   "id": "bbb1b617",
   "metadata": {},
   "outputs": [
    {
     "data": {
      "text/plain": [
       "2.718281828459045"
      ]
     },
     "execution_count": 31,
     "metadata": {},
     "output_type": "execute_result"
    }
   ],
   "source": [
    "import math\n",
    "e = math.exp(1)\n",
    "e"
   ]
  },
  {
   "cell_type": "code",
   "execution_count": 43,
   "id": "529456ad",
   "metadata": {},
   "outputs": [
    {
     "name": "stdout",
     "output_type": "stream",
     "text": [
      "Número e = 2.7183\n"
     ]
    }
   ],
   "source": [
    "print(\"Número e = {:.4f}\".format(e)) # formato redondeado a 4 decimales"
   ]
  },
  {
   "cell_type": "code",
   "execution_count": 44,
   "id": "37e632b5",
   "metadata": {},
   "outputs": [
    {
     "name": "stdout",
     "output_type": "stream",
     "text": [
      "Número e = 2.72\n"
     ]
    }
   ],
   "source": [
    "print(f\"Número e = {e:.2f}\")         # con el otro sistema de formato"
   ]
  },
  {
   "cell_type": "code",
   "execution_count": 46,
   "id": "7567d69b",
   "metadata": {},
   "outputs": [
    {
     "name": "stdout",
     "output_type": "stream",
     "text": [
      "Número e = 2.718\n",
      "Número G = 667.42\n"
     ]
    }
   ],
   "source": [
    "G=667.42\n",
    "print(f\"Número e = {e:.3f}\")\n",
    "print(f\"Número G = {G:.2f}\")"
   ]
  },
  {
   "cell_type": "markdown",
   "id": "154248c0",
   "metadata": {},
   "source": [
    "Alineando al punto decimal.  \n",
    "Vemos que en total son 7 caracteres (3 enteros, el punto, 3 decimales)."
   ]
  },
  {
   "cell_type": "code",
   "execution_count": null,
   "id": "0a4c2685",
   "metadata": {},
   "outputs": [],
   "source": [
    "print(f\"Número e = {e:7.3f}\")\n",
    "print(f\"Número G = {G:7.3f}\")"
   ]
  },
  {
   "cell_type": "markdown",
   "id": "e7683ab2",
   "metadata": {},
   "source": [
    "### Rellenar con ceros"
   ]
  },
  {
   "cell_type": "code",
   "execution_count": 53,
   "id": "1bf1319d",
   "metadata": {},
   "outputs": [
    {
     "name": "stdout",
     "output_type": "stream",
     "text": [
      "Número e = 002.718\n",
      "Número G = 667.420\n"
     ]
    }
   ],
   "source": [
    "print(f\"Número e = {e:07.3f}\")\n",
    "print(f\"Número G = {G:07.3f}\")"
   ]
  },
  {
   "cell_type": "code",
   "execution_count": null,
   "id": "757b03b1",
   "metadata": {},
   "outputs": [],
   "source": []
  }
 ],
 "metadata": {
  "kernelspec": {
   "display_name": "Python 3",
   "language": "python",
   "name": "python3"
  },
  "language_info": {
   "codemirror_mode": {
    "name": "ipython",
    "version": 3
   },
   "file_extension": ".py",
   "mimetype": "text/x-python",
   "name": "python",
   "nbconvert_exporter": "python",
   "pygments_lexer": "ipython3",
   "version": "3.8.8"
  }
 },
 "nbformat": 4,
 "nbformat_minor": 5
}
