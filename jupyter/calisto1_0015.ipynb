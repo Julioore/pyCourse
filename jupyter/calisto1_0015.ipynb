{
 "cells": [
  {
   "cell_type": "markdown",
   "id": "c559b018",
   "metadata": {},
   "source": [
    "# Magic commands\n",
    "Pemiten acceder a muchos comandos de la terminal desde las celdas de Jupyter notebook."
   ]
  },
  {
   "cell_type": "code",
   "execution_count": null,
   "id": "4ed92df9",
   "metadata": {},
   "outputs": [],
   "source": [
    "# Mostrar el directorio de trabajo actual\n",
    "%pwd"
   ]
  },
  {
   "cell_type": "code",
   "execution_count": null,
   "id": "5e63308b",
   "metadata": {},
   "outputs": [],
   "source": [
    "# Listar el contenido del directorio de trabajo actual\n",
    "%ls"
   ]
  },
  {
   "cell_type": "code",
   "execution_count": null,
   "id": "8518d2a4",
   "metadata": {},
   "outputs": [],
   "source": [
    "# Cambiar el directorio de trabajo actual\n",
    "%cd excel"
   ]
  },
  {
   "cell_type": "code",
   "execution_count": null,
   "id": "9d691467",
   "metadata": {},
   "outputs": [],
   "source": [
    "# volver al directorio previo\n",
    "%cd .."
   ]
  },
  {
   "cell_type": "code",
   "execution_count": null,
   "id": "754b02bb",
   "metadata": {},
   "outputs": [],
   "source": [
    "# Listar las variables existentes en el espacio de trabajo actual\n",
    "%who"
   ]
  },
  {
   "cell_type": "code",
   "execution_count": null,
   "id": "a64ec8ae",
   "metadata": {},
   "outputs": [],
   "source": [
    "x = 5"
   ]
  },
  {
   "cell_type": "code",
   "execution_count": null,
   "id": "73a5834b",
   "metadata": {},
   "outputs": [],
   "source": [
    "# ahora ya tenemos la variable x y podemos verla en el listado\n",
    "%who"
   ]
  },
  {
   "cell_type": "code",
   "execution_count": null,
   "id": "684c4564",
   "metadata": {},
   "outputs": [],
   "source": [
    "# Listar todos los comandos disponibles\n",
    "%lsmagic"
   ]
  },
  {
   "cell_type": "markdown",
   "id": "d9cc8423",
   "metadata": {},
   "source": [
    "## Obtención de ayuda\n",
    "Ponemos un signo de interrogación y luego la palabra que buscamos."
   ]
  },
  {
   "cell_type": "code",
   "execution_count": null,
   "id": "a69eb5f2",
   "metadata": {},
   "outputs": [],
   "source": [
    "?list"
   ]
  }
 ],
 "metadata": {
  "kernelspec": {
   "display_name": "Python 3",
   "language": "python",
   "name": "python3"
  },
  "language_info": {
   "codemirror_mode": {
    "name": "ipython",
    "version": 3
   },
   "file_extension": ".py",
   "mimetype": "text/x-python",
   "name": "python",
   "nbconvert_exporter": "python",
   "pygments_lexer": "ipython3",
   "version": "3.8.8"
  }
 },
 "nbformat": 4,
 "nbformat_minor": 5
}
