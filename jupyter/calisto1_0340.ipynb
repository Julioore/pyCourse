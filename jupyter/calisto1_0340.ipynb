{
 "cells": [
  {
   "cell_type": "markdown",
   "id": "314204d8",
   "metadata": {},
   "source": [
    "# Operadores de asignación  \n",
    "\n",
    "Los operadores de asignación se utilizan para asignar valores a las variables.  \n",
    "\n",
    "![Operadores de asignación](img/operadores_asignacion.png)"
   ]
  },
  {
   "cell_type": "code",
   "execution_count": null,
   "id": "24bc1a02",
   "metadata": {},
   "outputs": [],
   "source": [
    "x = 5          # es necesario inicializar la variable\n",
    "x"
   ]
  },
  {
   "cell_type": "code",
   "execution_count": null,
   "id": "0dbc3daf",
   "metadata": {},
   "outputs": [],
   "source": [
    "# suma en asignación\n",
    "x += 5    # equivale a   x = x + 5\n",
    "x         # cada vez que ejecutemos este código el valor de x se incrementará en 5"
   ]
  },
  {
   "cell_type": "code",
   "execution_count": null,
   "id": "d7b7a2e9",
   "metadata": {},
   "outputs": [],
   "source": [
    "# resta en asignación\n",
    "x -= 5    # equivale a   x = x - 5\n",
    "x"
   ]
  },
  {
   "cell_type": "code",
   "execution_count": null,
   "id": "3eeda87d",
   "metadata": {},
   "outputs": [],
   "source": [
    "# producto en asignación\n",
    "x *= 5    # equivale a   x = x * 5\n",
    "x"
   ]
  },
  {
   "cell_type": "code",
   "execution_count": null,
   "id": "3b9e1ae0",
   "metadata": {},
   "outputs": [],
   "source": [
    "# división en asignación\n",
    "x /= 5    # equivale a   x = x / 5\n",
    "x         # el resultado siempre será un float porque es una división"
   ]
  },
  {
   "cell_type": "code",
   "execution_count": null,
   "id": "5335036f",
   "metadata": {},
   "outputs": [],
   "source": [
    "# potencias en asignación\n",
    "x **= 3    # equivale a   x = x ** 3\n",
    "x"
   ]
  },
  {
   "cell_type": "code",
   "execution_count": null,
   "id": "abef53a3",
   "metadata": {},
   "outputs": [],
   "source": [
    "x += 2\n",
    "x"
   ]
  },
  {
   "cell_type": "code",
   "execution_count": null,
   "id": "02a013ec",
   "metadata": {},
   "outputs": [],
   "source": [
    "# módulo en asignación\n",
    "x %= 5    # equivale a   x = x % 5\n",
    "x"
   ]
  },
  {
   "cell_type": "code",
   "execution_count": null,
   "id": "444ddc33",
   "metadata": {},
   "outputs": [],
   "source": [
    "x += 30\n",
    "x"
   ]
  },
  {
   "cell_type": "code",
   "execution_count": null,
   "id": "ca6a5a40",
   "metadata": {},
   "outputs": [],
   "source": [
    "# división entera en asignación\n",
    "x //= 5   # equivale a   x = x // 5\n",
    "x"
   ]
  }
 ],
 "metadata": {
  "kernelspec": {
   "display_name": "Python 3",
   "language": "python",
   "name": "python3"
  },
  "language_info": {
   "codemirror_mode": {
    "name": "ipython",
    "version": 3
   },
   "file_extension": ".py",
   "mimetype": "text/x-python",
   "name": "python",
   "nbconvert_exporter": "python",
   "pygments_lexer": "ipython3",
   "version": "3.8.8"
  }
 },
 "nbformat": 4,
 "nbformat_minor": 5
}
