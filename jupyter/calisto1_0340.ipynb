{
 "cells": [
  {
   "cell_type": "markdown",
   "id": "c733515f",
   "metadata": {},
   "source": [
    "# Bucles ```for``` anidados"
   ]
  },
  {
   "cell_type": "markdown",
   "id": "3b50923b",
   "metadata": {},
   "source": [
    "Un bucle anidado es un bucle dentro de un bucle.  \n",
    "El \"bucle interno\" se ejecutará una vez por cada iteración del \"bucle externo\"."
   ]
  },
  {
   "cell_type": "code",
   "execution_count": null,
   "id": "476a1e71",
   "metadata": {},
   "outputs": [],
   "source": [
    "for i in range(1,11):\n",
    "    for j in range(1,4):\n",
    "        print(f\"El producto de {i} por {j} es {i*j}.\")\n",
    "    print(\"=\"*30)"
   ]
  },
  {
   "cell_type": "code",
   "execution_count": null,
   "id": "5df0658f",
   "metadata": {},
   "outputs": [],
   "source": [
    "for i in ['España','Francia','Italia']:\n",
    "    for j in ['playa','montaña','rural','ciudades']:\n",
    "        print(f\"Vacaciones en {i} de tipo {j}\")"
   ]
  },
  {
   "cell_type": "code",
   "execution_count": null,
   "id": "dce0980f",
   "metadata": {},
   "outputs": [],
   "source": [
    "for i in range(1,4):\n",
    "    print(i)\n",
    "    for j in ['a','b','c']:\n",
    "        print(j)\n",
    "        #print(\"\\t\"+str(j))   #con esta alternativa introducimos tabuladores"
   ]
  },
  {
   "cell_type": "markdown",
   "id": "dcddc858",
   "metadata": {},
   "source": [
    "## Acceder a los elementos de una matriz"
   ]
  },
  {
   "cell_type": "code",
   "execution_count": null,
   "id": "b9df266f",
   "metadata": {},
   "outputs": [],
   "source": [
    "A =[\n",
    "    ['a','b','c'],\n",
    "    ['i','j','k'],\n",
    "    ['l','m','n'],\n",
    "    ['r','p','q'],\n",
    "    ['x','y','z']\n",
    "]\n",
    "\n",
    "filas = len(A)\n",
    "columnas = len(A[0])\n",
    "print(\"filas:\",filas)\n",
    "print(\"columnas:\",columnas)\n",
    "print(\"~\"*20)\n",
    "\n",
    "for i in range(filas):\n",
    "    for j in range(columnas):\n",
    "        print(f\"a{i+1}{j+1} = A[{i}][{j}] = {A[i][j]}\")\n",
    "    print(\"~\"*20)"
   ]
  },
  {
   "cell_type": "markdown",
   "id": "1288f067",
   "metadata": {},
   "source": [
    "## Generación de números primos"
   ]
  },
  {
   "cell_type": "markdown",
   "id": "267ce227",
   "metadata": {},
   "source": [
    "Puede ver la generación de números primos en Python en las siguientes entradas del blog.\n",
    "- [Generación de números primos en Python](https://altocodigo.blogspot.com/2017/09/numeros-primos-en-python.html)\n",
    "- [Números primos en Python](https://altocodigo.blogspot.com/2021/01/numeros-primos-en-python.html)"
   ]
  },
  {
   "cell_type": "code",
   "execution_count": 27,
   "id": "f510de38",
   "metadata": {
    "scrolled": true
   },
   "outputs": [
    {
     "name": "stdout",
     "output_type": "stream",
     "text": [
      "2,3,5,7,11,13,17,19,23,29,31,37,41,43,47,53,59,61,67,71,73,79,83,89,97,101,103,107,109,113,127,131,137,139,149,"
     ]
    }
   ],
   "source": [
    "print(2, end = ',')\n",
    "for i in range(3,150,2):\n",
    " for j in range(3,int(i**.5)+1,2):\n",
    "  if i%j==0: break\n",
    " else: print(i, end = ',')"
   ]
  }
 ],
 "metadata": {
  "kernelspec": {
   "display_name": "Python 3",
   "language": "python",
   "name": "python3"
  },
  "language_info": {
   "codemirror_mode": {
    "name": "ipython",
    "version": 3
   },
   "file_extension": ".py",
   "mimetype": "text/x-python",
   "name": "python",
   "nbconvert_exporter": "python",
   "pygments_lexer": "ipython3",
   "version": "3.8.8"
  }
 },
 "nbformat": 4,
 "nbformat_minor": 5
}
