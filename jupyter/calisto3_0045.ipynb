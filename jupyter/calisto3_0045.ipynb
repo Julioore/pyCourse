{
 "cells": [
  {
   "cell_type": "markdown",
   "id": "bd586d11",
   "metadata": {},
   "source": [
    "# NumPy [5] Números aleatorios"
   ]
  },
  {
   "cell_type": "code",
   "execution_count": 35,
   "id": "6be46c3b",
   "metadata": {},
   "outputs": [
    {
     "data": {
      "text/plain": [
       "8"
      ]
     },
     "execution_count": 35,
     "metadata": {},
     "output_type": "execute_result"
    }
   ],
   "source": [
    "import numpy as np\n",
    "a = np.random.randint(10)         # genera un número entero entre 0 y 9\n",
    "a"
   ]
  },
  {
   "cell_type": "markdown",
   "id": "0cbc74f4",
   "metadata": {},
   "source": [
    "### Vector aleatorio"
   ]
  },
  {
   "cell_type": "code",
   "execution_count": 38,
   "id": "32d2328c",
   "metadata": {},
   "outputs": [
    {
     "data": {
      "text/plain": [
       "array([7, 0, 6, 0, 8])"
      ]
     },
     "execution_count": 38,
     "metadata": {},
     "output_type": "execute_result"
    }
   ],
   "source": [
    "m = np.random.randint(10, size=5) # array con 5 aleatorios\n",
    "m"
   ]
  },
  {
   "cell_type": "markdown",
   "id": "d72b7a27",
   "metadata": {},
   "source": [
    "### Matriz 2D"
   ]
  },
  {
   "cell_type": "code",
   "execution_count": 39,
   "id": "91097136",
   "metadata": {},
   "outputs": [
    {
     "data": {
      "text/plain": [
       "array([[9, 6, 2, 3, 5],\n",
       "       [0, 2, 4, 0, 9],\n",
       "       [0, 2, 7, 6, 5]])"
      ]
     },
     "execution_count": 39,
     "metadata": {},
     "output_type": "execute_result"
    }
   ],
   "source": [
    "m = np.random.randint(10, size=(3,5))  # matriz 3×5\n",
    "m"
   ]
  },
  {
   "cell_type": "markdown",
   "id": "362b16a3",
   "metadata": {},
   "source": [
    "### Aleatorios con decimales: vector\n",
    "No usamos randint sino rand."
   ]
  },
  {
   "cell_type": "code",
   "execution_count": 40,
   "id": "45f026d7",
   "metadata": {},
   "outputs": [
    {
     "data": {
      "text/plain": [
       "array([0.28453272, 0.56318351, 0.91445521, 0.27891116, 0.95612719])"
      ]
     },
     "execution_count": 40,
     "metadata": {},
     "output_type": "execute_result"
    }
   ],
   "source": [
    "m = np.random.rand(5)  # vector de cinco valores uniformes cero uno\n",
    "m"
   ]
  },
  {
   "cell_type": "markdown",
   "id": "17ca0bdd",
   "metadata": {},
   "source": [
    "### Aleatorios con decimales: matriz"
   ]
  },
  {
   "cell_type": "code",
   "execution_count": 41,
   "id": "4f286345",
   "metadata": {},
   "outputs": [
    {
     "data": {
      "text/plain": [
       "array([[0.53568967, 0.81137955],\n",
       "       [0.28598961, 0.91398213],\n",
       "       [0.39620321, 0.26243456]])"
      ]
     },
     "execution_count": 41,
     "metadata": {},
     "output_type": "execute_result"
    }
   ],
   "source": [
    "m = np.random.rand(3,2)\n",
    "m"
   ]
  },
  {
   "cell_type": "markdown",
   "id": "76e644ba",
   "metadata": {},
   "source": [
    "### Elegir un elemento de un vector\n",
    "Extraer aleatoriamente un elemento de un array."
   ]
  },
  {
   "cell_type": "code",
   "execution_count": 42,
   "id": "f1750523",
   "metadata": {},
   "outputs": [
    {
     "data": {
      "text/plain": [
       "5"
      ]
     },
     "execution_count": 42,
     "metadata": {},
     "output_type": "execute_result"
    }
   ],
   "source": [
    "np.random.choice([5,9,1,4,2,7,8,3,4,6])"
   ]
  },
  {
   "cell_type": "markdown",
   "id": "627fd179",
   "metadata": {},
   "source": [
    "### Elegir elementos de un vector para formar una matriz"
   ]
  },
  {
   "cell_type": "code",
   "execution_count": 45,
   "id": "362196fc",
   "metadata": {},
   "outputs": [
    {
     "data": {
      "text/plain": [
       "array([[2, 2, 5],\n",
       "       [3, 2, 1]])"
      ]
     },
     "execution_count": 45,
     "metadata": {},
     "output_type": "execute_result"
    }
   ],
   "source": [
    "m = np.random.choice([5,9,1,4,2,7,8,3,4,6], size=(2,3))\n",
    "m"
   ]
  },
  {
   "cell_type": "markdown",
   "id": "394c6d6d",
   "metadata": {},
   "source": [
    "### Elegir elementos con cierta probabilidad\n",
    "* Disponemos de un vector de números [1,2,3,4,5]\n",
    "* Disponemos de un vector de probabilidades de que cada uno de esos números sea elegido [0.2,0.2,0.2,0.2,0.2]. Debe sumar 1.\n",
    "* Nos indican el tamaño: size=20.\n",
    "\n",
    "El resultado es un vector de 20 elementos elegidos entre los que componen el vector inicial y con la probabilidad asignada a cada uno de ellos."
   ]
  },
  {
   "cell_type": "code",
   "execution_count": 54,
   "id": "64b14022",
   "metadata": {},
   "outputs": [
    {
     "name": "stdout",
     "output_type": "stream",
     "text": [
      "[2 1 3 1 2 3 5 3 1 5 3 2 5 3 5 3 4 1 4 3]\n"
     ]
    }
   ],
   "source": [
    "m = np.random.choice([1,2,3,4,5], p=[0.2,0.2,0.2,0.2,0.2],size=20)\n",
    "print(m)"
   ]
  },
  {
   "cell_type": "markdown",
   "id": "2679d79c",
   "metadata": {},
   "source": [
    "#### Formando una matriz\n",
    "Si el tamaño indica una matriz de 3×4 tendremos que poner size=(3,4)."
   ]
  },
  {
   "cell_type": "code",
   "execution_count": 55,
   "id": "3a083dad",
   "metadata": {},
   "outputs": [
    {
     "name": "stdout",
     "output_type": "stream",
     "text": [
      "[[4 3 4 2]\n",
      " [5 5 3 3]\n",
      " [3 3 1 1]]\n"
     ]
    }
   ],
   "source": [
    "m = np.random.choice([1,2,3,4,5], p=[0.2,0.2,0.2,0.2,0.2],size=(3,4))\n",
    "print(m)"
   ]
  }
 ],
 "metadata": {
  "kernelspec": {
   "display_name": "Python 3",
   "language": "python",
   "name": "python3"
  },
  "language_info": {
   "codemirror_mode": {
    "name": "ipython",
    "version": 3
   },
   "file_extension": ".py",
   "mimetype": "text/x-python",
   "name": "python",
   "nbconvert_exporter": "python",
   "pygments_lexer": "ipython3",
   "version": "3.8.8"
  }
 },
 "nbformat": 4,
 "nbformat_minor": 5
}
