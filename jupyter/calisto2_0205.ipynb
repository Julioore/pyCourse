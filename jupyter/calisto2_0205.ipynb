{
 "cells": [
  {
   "cell_type": "markdown",
   "metadata": {},
   "source": [
    "# Ejemplo ```super()```  ```isinstance()```  ```issubclass()``` "
   ]
  },
  {
   "cell_type": "markdown",
   "metadata": {},
   "source": [
    "## Calculadora"
   ]
  },
  {
   "cell_type": "code",
   "execution_count": 6,
   "metadata": {},
   "outputs": [],
   "source": [
    "class Calculadora:                     # clase padre\n",
    "    def __init__(self,numero):\n",
    "        self.n = numero                # número de datos que intervienen en la operación\n",
    "        self.datos = [0 for i in range(numero)]\n",
    "    def ingresardato(self):\n",
    "        self.datos = [int(input('Ingresar dato '+str(i+1)+' = ')) for i in range(self.n)]\n",
    "        \n",
    "class OperacionesBasicas(Calculadora): # clase hija \n",
    "    def __init__(self):                # sobreescribimos el método constructor\n",
    "        Calculadora.__init__(self,2)   # podríamos poner la función super() y quitar el self\n",
    "    def suma(self):\n",
    "        a,b, = self.datos\n",
    "        return a+b\n",
    "    def resta(self):\n",
    "        a,b, = self.datos\n",
    "        return a-b\n",
    "    \n",
    "class Raiz(Calculadora):               # otra clase hija\n",
    "    def __init__(self):                # sobreescribimos el método constructor\n",
    "        super().__init__(1)            # aquí si trabajamos con la función super() y hemos quitado el self       \n",
    "    def cuadrada(self):\n",
    "        a, = self.datos\n",
    "        return a**.5\n",
    "    \n",
    "caso1 = OperacionesBasicas()           # instanciamos un objeto de la clase OperacionesBasicas que necesita 2 argumentos\n",
    "caso2 = Raiz()                         # instanciamos un objeto de la clase Raiza que solo usa un argumento"
   ]
  },
  {
   "cell_type": "code",
   "execution_count": null,
   "metadata": {},
   "outputs": [],
   "source": [
    "caso1.ingresardato()                   # invocamos este método que nos pedirá dos datos por ser de la clase OpBasicas"
   ]
  },
  {
   "cell_type": "code",
   "execution_count": null,
   "metadata": {},
   "outputs": [],
   "source": [
    "caso1.suma()                           # invocamos el método suma y sumamos los dos datos"
   ]
  },
  {
   "cell_type": "code",
   "execution_count": null,
   "metadata": {},
   "outputs": [],
   "source": [
    "caso1.resta()                          # invocamos el método resta"
   ]
  },
  {
   "cell_type": "code",
   "execution_count": 7,
   "metadata": {},
   "outputs": [
    {
     "name": "stdout",
     "output_type": "stream",
     "text": [
      "Ingresar dato 1 = 2\n"
     ]
    }
   ],
   "source": [
    "caso2.ingresardato()                   # invocamos este método que nos pedirá 1 dato por ser de la clase Raiz"
   ]
  },
  {
   "cell_type": "code",
   "execution_count": 8,
   "metadata": {},
   "outputs": [
    {
     "data": {
      "text/plain": [
       "1.4142135623730951"
      ]
     },
     "execution_count": 8,
     "metadata": {},
     "output_type": "execute_result"
    }
   ],
   "source": [
    "caso2.cuadrada()                       # invocamos el método cuadrada que usa 1 dato y hace la raiz cuadrada"
   ]
  },
  {
   "cell_type": "markdown",
   "metadata": {},
   "source": [
    "### ```isinstance(objeto, clase)```\n",
    "Retorna True o False según que el objeto pertenezca o no a cierta clase."
   ]
  },
  {
   "cell_type": "code",
   "execution_count": 10,
   "metadata": {},
   "outputs": [
    {
     "data": {
      "text/plain": [
       "True"
      ]
     },
     "execution_count": 10,
     "metadata": {},
     "output_type": "execute_result"
    }
   ],
   "source": [
    "isinstance(caso1, OperacionesBasicas)"
   ]
  },
  {
   "cell_type": "code",
   "execution_count": 11,
   "metadata": {},
   "outputs": [
    {
     "data": {
      "text/plain": [
       "True"
      ]
     },
     "execution_count": 11,
     "metadata": {},
     "output_type": "execute_result"
    }
   ],
   "source": [
    "isinstance(caso1, Calculadora)"
   ]
  },
  {
   "cell_type": "code",
   "execution_count": 12,
   "metadata": {},
   "outputs": [
    {
     "data": {
      "text/plain": [
       "False"
      ]
     },
     "execution_count": 12,
     "metadata": {},
     "output_type": "execute_result"
    }
   ],
   "source": [
    "isinstance(caso1, Raiz)"
   ]
  },
  {
   "cell_type": "markdown",
   "metadata": {},
   "source": [
    "### ```issubclass(Subclase, Clase)```\n",
    "Retorna True si la subclase hereda de la clase indicadas, en ese orden."
   ]
  },
  {
   "cell_type": "code",
   "execution_count": 13,
   "metadata": {},
   "outputs": [
    {
     "data": {
      "text/plain": [
       "True"
      ]
     },
     "execution_count": 13,
     "metadata": {},
     "output_type": "execute_result"
    }
   ],
   "source": [
    "issubclass(Raiz, Calculadora)              # True. Raiz si es subclase de Calculadora"
   ]
  },
  {
   "cell_type": "code",
   "execution_count": 14,
   "metadata": {},
   "outputs": [
    {
     "data": {
      "text/plain": [
       "False"
      ]
     },
     "execution_count": 14,
     "metadata": {},
     "output_type": "execute_result"
    }
   ],
   "source": [
    "issubclass(Raiz, OperacionesBasicas)       # False. Raiz no es subclase de OperacionesBasicas"
   ]
  }
 ],
 "metadata": {
  "kernelspec": {
   "display_name": "Python 3",
   "language": "python",
   "name": "python3"
  },
  "language_info": {
   "codemirror_mode": {
    "name": "ipython",
    "version": 3
   },
   "file_extension": ".py",
   "mimetype": "text/x-python",
   "name": "python",
   "nbconvert_exporter": "python",
   "pygments_lexer": "ipython3",
   "version": "3.8.5"
  }
 },
 "nbformat": 4,
 "nbformat_minor": 4
}
