{
 "cells": [
  {
   "cell_type": "markdown",
   "metadata": {},
   "source": [
    "# NumPy [1]  \n",
    "Paquete para cómputo científico: NumPy o Numeric Python.\n",
    "Permite:\n",
    "- trabajar con vectores o matrices denominadas **ndarray** (similar a una lista pero mejor) ndarray significa n-dimensional array\n",
    "- hacer cálculos matemáticos y estadísticos\n",
    "\n",
    "NumPy ya está instalado en Anaconda, pero si trabaja fuera de este entorno es posible que necesite intalarlo así:  \n",
    "pip3 install numpy    # pip3 es la versión del instalador pip para Python 3"
   ]
  },
  {
   "cell_type": "markdown",
   "metadata": {},
   "source": [
    "## Diferencia entre lista y dnarray \n",
    "* Las listas pueden estar compuestas de datos de tipos diferentes, por el contrario los ndarrays deben ser de uniformes \n",
    "* Los ndarrays son más adecuados para trabajar como en álgebra, son más flexibles"
   ]
  },
  {
   "cell_type": "code",
   "execution_count": 6,
   "metadata": {},
   "outputs": [
    {
     "name": "stdout",
     "output_type": "stream",
     "text": [
      "[2 4 6]\n",
      "[1, 3, 5]\n"
     ]
    }
   ],
   "source": [
    "import numpy as np           # importamos la librería NumPy como np\n",
    "vector = np.array([2,4,6])   # ndarray\n",
    "lista = [1,3,5]              # lista\n",
    "print(vector)                # pares\n",
    "print(lista)                 # impares"
   ]
  },
  {
   "cell_type": "code",
   "execution_count": 2,
   "metadata": {},
   "outputs": [
    {
     "name": "stdout",
     "output_type": "stream",
     "text": [
      "[1, 3, 5, 7]\n",
      "[10 12 14]\n"
     ]
    },
    {
     "data": {
      "text/plain": [
       "array([10, 12, 14])"
      ]
     },
     "execution_count": 2,
     "metadata": {},
     "output_type": "execute_result"
    }
   ],
   "source": [
    "                             # añadiendo un valor a una lista con append\n",
    "lista.append(7)\n",
    "print(lista)\n",
    "                             # añadiendo un nuevo elemento a un array --> ¡Sorpresa!\n",
    "print(vector+np.array(8))    # no añade 8 al array de los pares, lo que hace es sumarlo a todos\n",
    "vector+np.array(8)           # si no ponemos print aparece como: array([10, 12, 14])"
   ]
  },
  {
   "cell_type": "code",
   "execution_count": 3,
   "metadata": {},
   "outputs": [
    {
     "data": {
      "text/plain": [
       "array([2, 4, 6, 8])"
      ]
     },
     "execution_count": 3,
     "metadata": {},
     "output_type": "execute_result"
    }
   ],
   "source": [
    "np.append(vector,8)          # para hacer un append con un ndarray"
   ]
  },
  {
   "cell_type": "code",
   "execution_count": 4,
   "metadata": {},
   "outputs": [
    {
     "name": "stdout",
     "output_type": "stream",
     "text": [
      "[1, 2, 3, 4, 5, 6]\n",
      "[5 7 9]\n"
     ]
    }
   ],
   "source": [
    "                             # sumando listas\n",
    "a = [1,2,3]\n",
    "b = [4,5,6]\n",
    "print(a+b)                   # la suma de listas es una concatenación\n",
    "\n",
    "                             # sumando arrays\n",
    "x = np.array(a)\n",
    "y = np.array(b)\n",
    "print(x+y)                   # la suma de arrays si suma los valores como en álgebra"
   ]
  },
  {
   "cell_type": "markdown",
   "metadata": {},
   "source": [
    "## ¿Por qué un ndarray es más flexible que una lista?\n",
    "Supongamos que tenemos dos listas una con la altura de 11 personas y otra con su peso.  \n",
    "Deseamos poder calcular el IMC (Índice de Masa Corporal) ratio que es peso / altura\\*\\*2."
   ]
  },
  {
   "cell_type": "code",
   "execution_count": null,
   "metadata": {},
   "outputs": [],
   "source": [
    "altura=[1.6,1.71,1.82,1.52,1.59,1.95,1.71,1.75,1.66,1.56,1.99]\n",
    "peso=[48.8,57.4,87.2,39.5,51.5,97.4,55.2,52.2,52.7,50.6,76.1]\n",
    "type(peso)"
   ]
  },
  {
   "cell_type": "markdown",
   "metadata": {},
   "source": [
    "Veamos que al calcular el IMC con listas obtenemos un error."
   ]
  },
  {
   "cell_type": "code",
   "execution_count": null,
   "metadata": {},
   "outputs": [],
   "source": [
    "#IMC = peso / altura**2        # TypeError: unsupported operand type(s) for ** or pow(): 'list' and 'int'"
   ]
  },
  {
   "cell_type": "markdown",
   "metadata": {},
   "source": [
    "Vamos ahora a ver que los ndarray son mucho más flexibles.\n",
    "\n",
    "Primero los creamos."
   ]
  },
  {
   "cell_type": "code",
   "execution_count": null,
   "metadata": {},
   "outputs": [],
   "source": [
    "import numpy as np             # Importamos la librería NumPy\n",
    "np_peso=np.array(peso)         # creamos el array para el peso\n",
    "np_altura=np.array(altura)     # creamos el array para la altura\n",
    "print(type(np_peso))           # veamos el tipo de un ndarray\n",
    "np_altura                      # mostramos el array para la altura, así se ve un ndarray"
   ]
  },
  {
   "cell_type": "markdown",
   "metadata": {},
   "source": [
    "Finalmente calculamos el IMC de forma sencilla y elegante."
   ]
  },
  {
   "cell_type": "code",
   "execution_count": null,
   "metadata": {},
   "outputs": [],
   "source": [
    "IMC = np_peso / np_altura**2\n",
    "IMC"
   ]
  },
  {
   "cell_type": "code",
   "execution_count": null,
   "metadata": {},
   "outputs": [],
   "source": [
    "# Funciona el referirnos a los elementos del vector por el índice\n",
    "IMC[2]                  # muestra el tercer elemento del array"
   ]
  },
  {
   "cell_type": "code",
   "execution_count": null,
   "metadata": {},
   "outputs": [],
   "source": [
    "IMC > 23                 # obtenemos un vector con verdaderos y falsos"
   ]
  },
  {
   "cell_type": "code",
   "execution_count": null,
   "metadata": {},
   "outputs": [],
   "source": [
    "# muestra los elementos con sobrepeso\n",
    "IMC[IMC>23]              # muestra solo los valores de IMC que son True en el vector"
   ]
  },
  {
   "cell_type": "markdown",
   "metadata": {},
   "source": [
    "Vamos a realizar un gráfico con la nube de puntos entre peso (x) y altura (y).  \n",
    "También necesitamos importar la librería matplotlib para la representación gráfica."
   ]
  },
  {
   "cell_type": "code",
   "execution_count": null,
   "metadata": {},
   "outputs": [],
   "source": [
    "import matplotlib.pyplot as plt\n",
    "x=np_peso\n",
    "y=np_altura\n",
    "plt.scatter(x,y)                # scatter para nube de puntos y plot para lineas\n",
    "plt.xlabel(\"Peso (Kg)\")\n",
    "plt.ylabel(\"Altura (m)\")\n",
    "#plt.show()                     # muestra el gráfico\n",
    "plt.grid()                      # muestra el gráfico con rejilla"
   ]
  },
  {
   "cell_type": "markdown",
   "metadata": {},
   "source": [
    "## Creamos un ndarray"
   ]
  },
  {
   "cell_type": "code",
   "execution_count": 9,
   "metadata": {},
   "outputs": [
    {
     "data": {
      "text/plain": [
       "[2, 3, 5, 7, 11, 13, 17, 19, 23, 29]"
      ]
     },
     "execution_count": 9,
     "metadata": {},
     "output_type": "execute_result"
    }
   ],
   "source": [
    "import numpy as np\n",
    "numeros_primos=[2,3,5,7,11,13,17,19,23,29]  # esto es una lista normal\n",
    "numeros_primos"
   ]
  },
  {
   "cell_type": "markdown",
   "metadata": {},
   "source": [
    "### Caso 1  \n",
    "Creando un array en numpy a partir de una lista."
   ]
  },
  {
   "cell_type": "code",
   "execution_count": 10,
   "metadata": {},
   "outputs": [
    {
     "data": {
      "text/plain": [
       "array([ 2,  3,  5,  7, 11, 13, 17, 19, 23, 29])"
      ]
     },
     "execution_count": 10,
     "metadata": {},
     "output_type": "execute_result"
    }
   ],
   "source": [
    "array_primos=np.array(numeros_primos)\n",
    "array_primos                               # se parece a una lista normal pero es un objeto llamado ndarray"
   ]
  },
  {
   "cell_type": "markdown",
   "metadata": {},
   "source": [
    "### Caso 2  \n",
    "Inicializando un array con ceros en numpy."
   ]
  },
  {
   "cell_type": "code",
   "execution_count": 11,
   "metadata": {},
   "outputs": [
    {
     "data": {
      "text/plain": [
       "array([0., 0., 0., 0., 0., 0., 0., 0., 0., 0.])"
      ]
     },
     "execution_count": 11,
     "metadata": {},
     "output_type": "execute_result"
    }
   ],
   "source": [
    "array_zeros=np.zeros(10)\n",
    "array_zeros"
   ]
  },
  {
   "cell_type": "markdown",
   "metadata": {},
   "source": [
    "### Caso 3  \n",
    "Crear arrays con números."
   ]
  },
  {
   "cell_type": "code",
   "execution_count": 12,
   "metadata": {},
   "outputs": [
    {
     "data": {
      "text/plain": [
       "array([0, 1, 2, 3, 4, 5, 6, 7, 8, 9])"
      ]
     },
     "execution_count": 12,
     "metadata": {},
     "output_type": "execute_result"
    }
   ],
   "source": [
    "array_numeros=np.arange(10)\n",
    "array_numeros"
   ]
  },
  {
   "cell_type": "markdown",
   "metadata": {},
   "source": [
    "### Caso 4  \n",
    "Creando arrays de series de números con un cierto paso."
   ]
  },
  {
   "cell_type": "code",
   "execution_count": 13,
   "metadata": {},
   "outputs": [
    {
     "data": {
      "text/plain": [
       "array([ 0,  2,  4,  6,  8, 10, 12, 14, 16, 18])"
      ]
     },
     "execution_count": 13,
     "metadata": {},
     "output_type": "execute_result"
    }
   ],
   "source": [
    "array_pares=np.arange(0,20,2)\n",
    "array_pares"
   ]
  },
  {
   "cell_type": "markdown",
   "metadata": {},
   "source": [
    "### Caso 5  \n",
    "Haciendo un reshape para dos dimensiones"
   ]
  },
  {
   "cell_type": "code",
   "execution_count": 14,
   "metadata": {},
   "outputs": [
    {
     "data": {
      "text/plain": [
       "array([[ 0,  2,  4,  6,  8],\n",
       "       [10, 12, 14, 16, 18]])"
      ]
     },
     "execution_count": 14,
     "metadata": {},
     "output_type": "execute_result"
    }
   ],
   "source": [
    "array_pares.reshape(2,5)      # obtenemos una matriz de 2 filas y 5 columnas"
   ]
  },
  {
   "cell_type": "markdown",
   "metadata": {},
   "source": [
    "### Caso 6  \n",
    "La forma habitual de obtener una matriz de dos dimensiones.  \n",
    "Partimos de una lista de listas que vamos a llamar lista2d.  \n",
    "Tiene 3 filas y 4 columnas. Es de dimensión 3×4."
   ]
  },
  {
   "cell_type": "code",
   "execution_count": 21,
   "metadata": {},
   "outputs": [
    {
     "data": {
      "text/plain": [
       "[[11, 12, 13, 14], [21, 22, 23, 24], [31, 32, 33, 34]]"
      ]
     },
     "execution_count": 21,
     "metadata": {},
     "output_type": "execute_result"
    }
   ],
   "source": [
    "lista2d = [[11,12,13,14], [21,22,23,24], [31,32,33,34]]\n",
    "lista2d"
   ]
  },
  {
   "cell_type": "markdown",
   "metadata": {},
   "source": [
    "Convertimos la lista de listas en un ndarray."
   ]
  },
  {
   "cell_type": "code",
   "execution_count": 22,
   "metadata": {},
   "outputs": [
    {
     "data": {
      "text/plain": [
       "array([[11, 12, 13, 14],\n",
       "       [21, 22, 23, 24],\n",
       "       [31, 32, 33, 34]])"
      ]
     },
     "execution_count": 22,
     "metadata": {},
     "output_type": "execute_result"
    }
   ],
   "source": [
    "matriz2d = np.array(lista2d) # al ndarray le llamamos matriz2d\n",
    "matriz2d"
   ]
  },
  {
   "cell_type": "markdown",
   "metadata": {},
   "source": [
    "### Caso 7  \n",
    "Veamos otro caso con reshape de dimensión 3×5."
   ]
  },
  {
   "cell_type": "code",
   "execution_count": 25,
   "metadata": {},
   "outputs": [
    {
     "data": {
      "text/plain": [
       "array([[ 0,  1,  2,  3,  4],\n",
       "       [ 5,  6,  7,  8,  9],\n",
       "       [10, 11, 12, 13, 14]])"
      ]
     },
     "execution_count": 25,
     "metadata": {},
     "output_type": "execute_result"
    }
   ],
   "source": [
    "m = np.arange(15).reshape(3,5)\n",
    "m"
   ]
  },
  {
   "cell_type": "markdown",
   "metadata": {},
   "source": [
    "## Operar con arrays"
   ]
  },
  {
   "cell_type": "markdown",
   "metadata": {},
   "source": [
    "### Operaciones aritméticas"
   ]
  },
  {
   "cell_type": "code",
   "execution_count": null,
   "metadata": {},
   "outputs": [],
   "source": [
    "array_impares=array_pares+1   # suma 1 a todos los elementos y lo convierte en un array de impares\n",
    "array_impares"
   ]
  },
  {
   "cell_type": "code",
   "execution_count": null,
   "metadata": {},
   "outputs": [],
   "source": [
    "array_impares*10  # multiplicar"
   ]
  },
  {
   "cell_type": "code",
   "execution_count": null,
   "metadata": {},
   "outputs": [],
   "source": [
    "array_impares - array_pares  # restar arrays"
   ]
  },
  {
   "cell_type": "code",
   "execution_count": null,
   "metadata": {},
   "outputs": [],
   "source": [
    "#array_impares/array_pares # dividir arrays    da error ya que dividen entre cero"
   ]
  },
  {
   "cell_type": "markdown",
   "metadata": {},
   "source": [
    "### Estadística"
   ]
  },
  {
   "cell_type": "code",
   "execution_count": null,
   "metadata": {},
   "outputs": [],
   "source": [
    "array_primos.sum()        # suma"
   ]
  },
  {
   "cell_type": "code",
   "execution_count": null,
   "metadata": {},
   "outputs": [],
   "source": [
    "array_primos.mean()        # media"
   ]
  },
  {
   "cell_type": "code",
   "execution_count": null,
   "metadata": {},
   "outputs": [],
   "source": [
    "array_primos.var()        # varianza"
   ]
  },
  {
   "cell_type": "markdown",
   "metadata": {},
   "source": [
    "### Ordenación de arrays"
   ]
  },
  {
   "cell_type": "code",
   "execution_count": null,
   "metadata": {},
   "outputs": [],
   "source": [
    "# Creamos la serie de Fibonacci\n",
    "fibo=[0,1]\n",
    "for i in range (11):\n",
    "    fibo.append(fibo[-1]+fibo[-2])\n",
    "print(fibo)"
   ]
  },
  {
   "cell_type": "code",
   "execution_count": null,
   "metadata": {},
   "outputs": [],
   "source": [
    "# Convertimos la lista en un ndarray\n",
    "fibonacci=np.array(fibo)\n",
    "fibonacci"
   ]
  },
  {
   "cell_type": "markdown",
   "metadata": {},
   "source": [
    "#### Desordenamos"
   ]
  },
  {
   "cell_type": "code",
   "execution_count": null,
   "metadata": {},
   "outputs": [],
   "source": [
    "# desordenamos el array\n",
    "np.random.shuffle(fibonacci)   # permite desordenar un array\n",
    "fibonacci"
   ]
  },
  {
   "cell_type": "markdown",
   "metadata": {},
   "source": [
    "#### Ordenamos"
   ]
  },
  {
   "cell_type": "code",
   "execution_count": null,
   "metadata": {},
   "outputs": [],
   "source": [
    "# ordenar un array\n",
    "np.sort(fibonacci)          # ordena el vector pero no queda asignado al array fibonacci"
   ]
  },
  {
   "cell_type": "code",
   "execution_count": null,
   "metadata": {},
   "outputs": [],
   "source": [
    "fibonacci # comprobamos que no queda asignado el vector ordenado a la variable fibonacci"
   ]
  },
  {
   "cell_type": "code",
   "execution_count": null,
   "metadata": {},
   "outputs": [],
   "source": [
    "ordenado=np.sort(fibonacci)   # asignamos el array a la variable ordenado\n",
    "ordenado"
   ]
  },
  {
   "cell_type": "markdown",
   "metadata": {},
   "source": [
    "#### Reverso"
   ]
  },
  {
   "cell_type": "code",
   "execution_count": null,
   "metadata": {},
   "outputs": [],
   "source": [
    "inverso=ordenado[::-1]\n",
    "inverso"
   ]
  },
  {
   "cell_type": "code",
   "execution_count": null,
   "metadata": {},
   "outputs": [],
   "source": [
    "inverso.sort() # si ordenamos el array inverso quedará ordenado de menor a mayor\n",
    "inverso"
   ]
  },
  {
   "cell_type": "code",
   "execution_count": null,
   "metadata": {},
   "outputs": [],
   "source": [
    "inverso==np.array(fibo)     # una comprobación"
   ]
  }
 ],
 "metadata": {
  "kernelspec": {
   "display_name": "Python 3",
   "language": "python",
   "name": "python3"
  },
  "language_info": {
   "codemirror_mode": {
    "name": "ipython",
    "version": 3
   },
   "file_extension": ".py",
   "mimetype": "text/x-python",
   "name": "python",
   "nbconvert_exporter": "python",
   "pygments_lexer": "ipython3",
   "version": "3.8.8"
  }
 },
 "nbformat": 4,
 "nbformat_minor": 4
}
