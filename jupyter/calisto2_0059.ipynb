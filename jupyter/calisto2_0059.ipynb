{
 "cells": [
  {
   "cell_type": "markdown",
   "id": "361862aa",
   "metadata": {},
   "source": [
    "# Ejemplos sin herencia [3]"
   ]
  },
  {
   "cell_type": "markdown",
   "id": "5759fd6c",
   "metadata": {},
   "source": [
    "## Asignaturas"
   ]
  },
  {
   "cell_type": "code",
   "execution_count": 3,
   "id": "de9165ff",
   "metadata": {},
   "outputs": [],
   "source": [
    "class Carrera:\n",
    "    def __init__(self, nombre):\n",
    "        self.nombre = nombre\n",
    "        self.materias = {}         # diccionario clave:valor\n",
    "        \n",
    "    def agregarMateria(self, materia, codigo):\n",
    "        self.materias[codigo] = materia\n",
    "        \n",
    "class Materia:\n",
    "    def __init__(self, nombre, profesor):\n",
    "        self.nombre = nombre\n",
    "        self.profesor = profesor\n",
    "        \n",
    "ing = Carrera(\"Ingeniería\")\n",
    "algebra = Materia(\"Álgebra\",\"Roberto Plaza\")\n",
    "fisica = Materia(\"Física\", \"Sonia Ruiz\")\n",
    "quimica = Materia(\"Química\", \"Rosa Lopez\")"
   ]
  },
  {
   "cell_type": "code",
   "execution_count": 4,
   "id": "1036cc74",
   "metadata": {},
   "outputs": [],
   "source": [
    "ing.agregarMateria(algebra,345)"
   ]
  },
  {
   "cell_type": "code",
   "execution_count": 5,
   "id": "e53b0bb3",
   "metadata": {},
   "outputs": [
    {
     "data": {
      "text/plain": [
       "{345: <__main__.Materia at 0x7fc2540ea7f0>}"
      ]
     },
     "execution_count": 5,
     "metadata": {},
     "output_type": "execute_result"
    }
   ],
   "source": [
    "ing.materias               # se ha agregado una materia"
   ]
  }
 ],
 "metadata": {
  "kernelspec": {
   "display_name": "Python 3",
   "language": "python",
   "name": "python3"
  },
  "language_info": {
   "codemirror_mode": {
    "name": "ipython",
    "version": 3
   },
   "file_extension": ".py",
   "mimetype": "text/x-python",
   "name": "python",
   "nbconvert_exporter": "python",
   "pygments_lexer": "ipython3",
   "version": "3.8.8"
  }
 },
 "nbformat": 4,
 "nbformat_minor": 5
}
