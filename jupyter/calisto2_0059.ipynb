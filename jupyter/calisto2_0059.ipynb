{
 "cells": [
  {
   "cell_type": "markdown",
   "id": "361862aa",
   "metadata": {},
   "source": [
    "# Ejemplos sin herencia [3]"
   ]
  },
  {
   "cell_type": "markdown",
   "id": "5759fd6c",
   "metadata": {},
   "source": [
    "## Asignaturas\n",
    "Disponemos de la clase Carrera, por ejemplo ingeniería, en la que vamos a añadir en un diccionario las materias (álgebra, física, química,...) con un código identificador de esta materia.  \n",
    "Creamos el método agregarMateria para que dado el nombre de la materia y el código podamos añadir los elementos clave (que es el códgio) y valor (que es el nombre de la materia) al diccionario. Si hubiéramos usado listas se haría con append, pero al tratarse de un diccionario se hace con el nombre del diccionario (materias) así:\n",
    "\n",
    "materias[codigo] = materia\n",
    "\n",
    "por ejemplo\n",
    "\n",
    "materias[111] = \"cálculo\"\n",
    "\n",
    "Luego, tenemos la clase Materia con dos atributos en el constructor: materia y profesor.  \n",
    "\n",
    "Nos gustaría poder proteger (ocultar) el acceso a algunos atributos y métodos."
   ]
  },
  {
   "cell_type": "code",
   "execution_count": 1,
   "id": "de9165ff",
   "metadata": {},
   "outputs": [],
   "source": [
    "class Carrera:\n",
    "    def __init__(self, nombre):\n",
    "        self.nombre = nombre\n",
    "        self.materias = {}                       # diccionario clave:valor\n",
    "        \n",
    "    def agregarMateria(self, materia, codigo):\n",
    "        self.materias[codigo] = materia          # como es un diccionario se agrega así.\n",
    "        \n",
    "class Materia:\n",
    "    def __init__(self, nombre, profesor):\n",
    "        self.nombre = nombre\n",
    "        self.profesor = profesor\n",
    "        \n",
    "ing = Carrera(\"Ingeniería\")\n",
    "algebra = Materia(\"Álgebra\", \"Rosa Lopez\")\n",
    "fisica = Materia(\"Física\", \"Roberto Ruiz\")\n",
    "quimica = Materia(\"Química\", \"Sonia Arce\")"
   ]
  },
  {
   "cell_type": "code",
   "execution_count": 2,
   "id": "1036cc74",
   "metadata": {},
   "outputs": [],
   "source": [
    "ing.agregarMateria(algebra,345)"
   ]
  },
  {
   "cell_type": "code",
   "execution_count": 3,
   "id": "490f1c5f",
   "metadata": {},
   "outputs": [
    {
     "data": {
      "text/plain": [
       "{345: <__main__.Materia at 0x7f9915fc23d0>}"
      ]
     },
     "execution_count": 3,
     "metadata": {},
     "output_type": "execute_result"
    }
   ],
   "source": [
    "ing.materias                                     # vemos que se ha agregado una materia"
   ]
  },
  {
   "cell_type": "code",
   "execution_count": 4,
   "id": "cf80bd4b",
   "metadata": {},
   "outputs": [
    {
     "data": {
      "text/plain": [
       "{345: <__main__.Materia at 0x7f9915fc23d0>,\n",
       " 589: <__main__.Materia at 0x7f9915fc2460>}"
      ]
     },
     "execution_count": 4,
     "metadata": {},
     "output_type": "execute_result"
    }
   ],
   "source": [
    "ing.agregarMateria(fisica,589)\n",
    "ing.materias                                     # vemos que se han agregado dos materias"
   ]
  },
  {
   "cell_type": "markdown",
   "id": "635d8314",
   "metadata": {},
   "source": [
    "## @property\n",
    "Métodos getter y setter: usados para gestionar el ocultamiento. Los métodos Get y Set están traidos de la programación al estilo JAVA. \n",
    "\n",
    "En Python se usan más las **properties** (propiedades) esto supone que a partir de los atributos vamos a crear propiedades que son las que definen a un objeto. Vamos a enmascarar estos atributos dentro de propiedades. Podemos hacerlo con todos los atributos o con algunos concretos.\n",
    "\n",
    "Vamos a crear una **property**. Supongamos que definimos un nuevo atributo llamado *inicio* que recoge el año en el que se inició la materia. Luego lo que haremos es impedir que una materia se pueda iniciar antes del año 2019 que fué el año de creación de la titulación.\n",
    "\n",
    "Al añadir un decorador, cada vez que quereamos saber la fecha de inicio de una materia tendremos que pasar por el método inicio que nos la proporcionará. Para comprobar que esto es así, añadimos un print en el método que indique que está actuando el método inicio.\n",
    "La property se articula creando un método que se llamará igual que el atributo *inicio*."
   ]
  },
  {
   "cell_type": "code",
   "execution_count": 5,
   "id": "3a18de42",
   "metadata": {},
   "outputs": [
    {
     "name": "stdout",
     "output_type": "stream",
     "text": [
      "La titulación comenzó en 2019, por lo que la materia no puede ser de 2004.\n"
     ]
    }
   ],
   "source": [
    "class Carrera:\n",
    "    def __init__(self, nombre):\n",
    "        self.nombre = nombre\n",
    "        self.materias = {}\n",
    "    def agregarMateria(self, materia, codigo):   # nuevo atributo inicio\n",
    "        self.materias[codigo] = materia\n",
    "        \n",
    "        \n",
    "class Materia:\n",
    "    def __init__(self, nombre, profesor, fecha):\n",
    "        self.nombre = nombre\n",
    "        self.profesor = profesor\n",
    "        self.inicio = fecha                      # año de inicio de una materia\n",
    "\n",
    "    @property                                    # decorador (decorator)\n",
    "    def inicio(self):                            # este método lo único que hace es devolver el atributo\n",
    "        print(\"El método inicio es el que nos proporciona el año de inicio para esta materia.\")\n",
    "        return self._inicio                      # OJO el atributo lleva un prefijo de barra baja que indica\n",
    "                                                 # que es privado (oculto, protegido) pero esto solo es un convenio\n",
    "    @inicio.setter\n",
    "    def inicio(self, fecha):\n",
    "        if fecha<2019:\n",
    "            self._inicio=2019                    # cambiamos la fecha para que no sea anterior al año de creación\n",
    "            print(f\"La titulación comenzó en 2019, por lo que la materia no puede ser de {fecha}.\")\n",
    "        else:\n",
    "            self._inicio=fecha                   # dejamos la fecha que nos dan\n",
    "        \n",
    "ing = Carrera(\"Ingeniería\")\n",
    "algebra = Materia(\"Álgebra\", \"Rosa Lopez\", 2004)\n",
    "fisica = Materia(\"Física\", \"Roberto Ruiz\", 2019)\n",
    "quimica = Materia(\"Química\", \"Sonia Arce\", 2021)"
   ]
  },
  {
   "cell_type": "code",
   "execution_count": 6,
   "id": "4f5418c9",
   "metadata": {},
   "outputs": [
    {
     "name": "stdout",
     "output_type": "stream",
     "text": [
      "El método inicio es el que nos proporciona el año de inicio para esta materia.\n"
     ]
    },
    {
     "data": {
      "text/plain": [
       "2019"
      ]
     },
     "execution_count": 6,
     "metadata": {},
     "output_type": "execute_result"
    }
   ],
   "source": [
    "algebra.inicio                                   # no imprime directamente la fecha de inicio, primero pasa por la\n",
    "                                                 # property e imprime la frase indicada"
   ]
  },
  {
   "cell_type": "markdown",
   "id": "bcbfac5c",
   "metadata": {},
   "source": [
    "La property enmascara o envuelve al atributo dentro de una propiedad.  \n",
    "El setter es el que ha validado la fecha, comprobando si se trataba de un año anterior o no a 2019, año de creación de la titulación, para evitar que la fecha de inicio de una materia pueda llegar a introducirse por error con un año anterior al inicio de esa carrera.\n"
   ]
  },
  {
   "cell_type": "code",
   "execution_count": 7,
   "id": "848435e9",
   "metadata": {},
   "outputs": [
    {
     "name": "stdout",
     "output_type": "stream",
     "text": [
      "El método inicio es el que nos proporciona el año de inicio para esta materia.\n"
     ]
    },
    {
     "data": {
      "text/plain": [
       "2021"
      ]
     },
     "execution_count": 7,
     "metadata": {},
     "output_type": "execute_result"
    }
   ],
   "source": [
    "quimica.inicio                                   # imprime el año 2021 que es el proporcionado,\n",
    "                                                 # ya que no es anterior a 2019"
   ]
  },
  {
   "cell_type": "markdown",
   "id": "b6716a5d",
   "metadata": {},
   "source": [
    "Esta es una forma de ocultamiento de los datos. Si solicitamos el año de inicio de una materia directamente nos dirá que esa variable no existe, dando un error."
   ]
  },
  {
   "cell_type": "code",
   "execution_count": 8,
   "id": "ffc69be0",
   "metadata": {},
   "outputs": [
    {
     "data": {
      "text/plain": [
       "'Álgebra'"
      ]
     },
     "execution_count": 8,
     "metadata": {},
     "output_type": "execute_result"
    }
   ],
   "source": [
    "algebra.nombre"
   ]
  },
  {
   "cell_type": "code",
   "execution_count": 9,
   "id": "5d9f797b",
   "metadata": {},
   "outputs": [
    {
     "data": {
      "text/plain": [
       "'Rosa Lopez'"
      ]
     },
     "execution_count": 9,
     "metadata": {},
     "output_type": "execute_result"
    }
   ],
   "source": [
    "algebra.profesor"
   ]
  },
  {
   "cell_type": "code",
   "execution_count": 10,
   "id": "37683e21",
   "metadata": {},
   "outputs": [],
   "source": [
    "#algebra.fecha                                   # AttributeError: 'Materia' object has no attribute 'fecha'"
   ]
  },
  {
   "cell_type": "markdown",
   "id": "694cecd1",
   "metadata": {},
   "source": [
    "## Ocultamiento\n",
    "Nos gustaría poder proteger el acceso directo al diccionario de materias evitando crear una materia nueva sin necesidad de pasar por el método agregarMateria, que hasta ahora es privado por convenio pero se puede saltar así."
   ]
  },
  {
   "cell_type": "code",
   "execution_count": 12,
   "id": "35b1e183",
   "metadata": {},
   "outputs": [],
   "source": [
    "ing.materias[111] = \"cálculo\"                   # así conseguimos acceder directamente al diccionario sin pasar\n",
    "                                                # por el método agregarMateria"
   ]
  },
  {
   "cell_type": "code",
   "execution_count": 13,
   "id": "c00e9fd7",
   "metadata": {},
   "outputs": [
    {
     "data": {
      "text/plain": [
       "{111: 'cálculo'}"
      ]
     },
     "execution_count": 13,
     "metadata": {},
     "output_type": "execute_result"
    }
   ],
   "source": [
    "ing.materias                                    # veamos que hemos borrado el contenido anterior del diccionario\n",
    "                                                # ha quedado solo la nueva materia inclida directamente"
   ]
  },
  {
   "cell_type": "code",
   "execution_count": 14,
   "id": "b5d044c8",
   "metadata": {},
   "outputs": [],
   "source": [
    "ing.materias[999]=fisica                        # añadiendo ahora el objeto fisica"
   ]
  },
  {
   "cell_type": "code",
   "execution_count": 15,
   "id": "a9003a8e",
   "metadata": {},
   "outputs": [
    {
     "data": {
      "text/plain": [
       "2"
      ]
     },
     "execution_count": 15,
     "metadata": {},
     "output_type": "execute_result"
    }
   ],
   "source": [
    "len(ing.materias)"
   ]
  },
  {
   "cell_type": "code",
   "execution_count": 16,
   "id": "c52d65bb",
   "metadata": {},
   "outputs": [
    {
     "data": {
      "text/plain": [
       "{111: 'cálculo', 999: <__main__.Materia at 0x7f9915fc2430>}"
      ]
     },
     "execution_count": 16,
     "metadata": {},
     "output_type": "execute_result"
    }
   ],
   "source": [
    "ing.materias                                    # podemos ver que es un lio tener objetos creados por dos métodos"
   ]
  },
  {
   "cell_type": "markdown",
   "id": "219445cb",
   "metadata": {},
   "source": [
    "Lo mejor es ocultar o proteger la posibilidad de que el usuario u otros programadores puedan acceder a atributos y métodos de forma directa."
   ]
  },
  {
   "cell_type": "code",
   "execution_count": null,
   "id": "484eb81c",
   "metadata": {},
   "outputs": [],
   "source": []
  }
 ],
 "metadata": {
  "kernelspec": {
   "display_name": "Python 3",
   "language": "python",
   "name": "python3"
  },
  "language_info": {
   "codemirror_mode": {
    "name": "ipython",
    "version": 3
   },
   "file_extension": ".py",
   "mimetype": "text/x-python",
   "name": "python",
   "nbconvert_exporter": "python",
   "pygments_lexer": "ipython3",
   "version": "3.8.8"
  }
 },
 "nbformat": 4,
 "nbformat_minor": 5
}
