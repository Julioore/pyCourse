{
 "cells": [
  {
   "cell_type": "markdown",
   "metadata": {},
   "source": [
    "# Input  \n",
    "El valor introducido se toma como string."
   ]
  },
  {
   "cell_type": "code",
   "execution_count": null,
   "metadata": {},
   "outputs": [],
   "source": [
    "input(\"Introduzca un número: \")"
   ]
  },
  {
   "cell_type": "code",
   "execution_count": null,
   "metadata": {},
   "outputs": [],
   "source": [
    "num=input(\"Introduzca un número: \")\n",
    "print(num)"
   ]
  },
  {
   "cell_type": "code",
   "execution_count": null,
   "metadata": {},
   "outputs": [],
   "source": [
    "# Conviene grabar un archivo .py\n",
    "num1 = int(input(\"Introduzca el primer número: \"))\n",
    "num2 = int(input(\"Introduzca el segundo número: \"))\n",
    "print(\"La suma es: \", num1 + num2)"
   ]
  },
  {
   "cell_type": "code",
   "execution_count": null,
   "metadata": {},
   "outputs": [],
   "source": [
    "num1 = int(input(\"Introduzca el primer número: \"))         #int convierte el string a entero\n",
    "num2 = int(input(\"Introduzca el segundo número: \"))\n",
    "print(\"El producto de\", num1 , \"y de\", num2, \"es igual a\", num1*num2)\n",
    "print(\"El producto de {} y de {} es igual a {}\".format(num1, num2, num1*num2))"
   ]
  },
  {
   "cell_type": "code",
   "execution_count": null,
   "metadata": {},
   "outputs": [],
   "source": [
    "num1 = float(input(\"Introduzca el primer número: \"))       #float convierte el string a flotante\n",
    "num2 = float(input(\"Introduzca el segundo número: \"))\n",
    "print(\"El cociente de \" + str(num1) + \" y de \" + str(num2) + \" es igual a \" + str(num1 / num2))\n",
    "print(f\"El cociente de {num1} y de {num2} es igual a {num1/num2}\")"
   ]
  }
 ],
 "metadata": {
  "kernelspec": {
   "display_name": "Python 3",
   "language": "python",
   "name": "python3"
  },
  "language_info": {
   "codemirror_mode": {
    "name": "ipython",
    "version": 3
   },
   "file_extension": ".py",
   "mimetype": "text/x-python",
   "name": "python",
   "nbconvert_exporter": "python",
   "pygments_lexer": "ipython3",
   "version": "3.8.5"
  }
 },
 "nbformat": 4,
 "nbformat_minor": 5
}
