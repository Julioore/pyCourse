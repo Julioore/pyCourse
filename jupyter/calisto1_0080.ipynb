{
 "cells": [
  {
   "cell_type": "markdown",
   "id": "18593590",
   "metadata": {},
   "source": [
    "# Input  \n",
    "El valor introducido se toma como string."
   ]
  },
  {
   "cell_type": "code",
   "execution_count": null,
   "id": "995b0da2",
   "metadata": {},
   "outputs": [],
   "source": [
    "input()     # Introduciendo un número lo toma como string"
   ]
  },
  {
   "cell_type": "code",
   "execution_count": null,
   "id": "645e10cd",
   "metadata": {},
   "outputs": [],
   "source": [
    "input(\"Introduzca un número: \") # Añadiendo texto dentro del paréntesis"
   ]
  },
  {
   "cell_type": "code",
   "execution_count": null,
   "id": "11a51f57",
   "metadata": {},
   "outputs": [],
   "source": [
    "num = input(\"Introduzca un número: \")\n",
    "print(num)"
   ]
  },
  {
   "cell_type": "markdown",
   "id": "02b8b59d",
   "metadata": {},
   "source": [
    "### Convirtiendo el string en un int"
   ]
  },
  {
   "cell_type": "code",
   "execution_count": null,
   "id": "1871bb12",
   "metadata": {},
   "outputs": [],
   "source": [
    "num = int(input(\"Introduzca un número entero: \"))\n",
    "num"
   ]
  },
  {
   "cell_type": "markdown",
   "id": "522f8c89",
   "metadata": {},
   "source": [
    "### Convirtiendo el string en un float\n",
    "El separador de decimales es el punto."
   ]
  },
  {
   "cell_type": "code",
   "execution_count": null,
   "id": "67636000",
   "metadata": {},
   "outputs": [],
   "source": [
    "num = float(input(\"Introduzca un número con decimales: \"))\n",
    "num"
   ]
  },
  {
   "cell_type": "code",
   "execution_count": null,
   "id": "05d9bd9d",
   "metadata": {},
   "outputs": [],
   "source": [
    "# Conviene grabar un archivo .py\n",
    "num1 = int(input(\"Introduzca el primer número: \"))\n",
    "num2 = int(input(\"Introduzca el segundo número: \"))\n",
    "print(\"La suma es: \", num1 + num2)"
   ]
  },
  {
   "cell_type": "code",
   "execution_count": null,
   "id": "85c1626a",
   "metadata": {},
   "outputs": [],
   "source": [
    "num1 = int(input(\"Introduzca el primer número: \"))         #int convierte el string a entero\n",
    "num2 = int(input(\"Introduzca el segundo número: \"))\n",
    "print(\"El producto de\", num1 , \"y de\", num2, \"es igual a\", num1*num2)\n",
    "print(\"El producto de {} y de {} es igual a {}\".format(num1, num2, num1*num2))"
   ]
  },
  {
   "cell_type": "code",
   "execution_count": null,
   "id": "f1d3ba3e",
   "metadata": {},
   "outputs": [],
   "source": [
    "num1 = float(input(\"Introduzca el primer número: \"))       #float convierte el string a flotante\n",
    "num2 = float(input(\"Introduzca el segundo número: \"))\n",
    "print(\"El cociente de \" + str(num1) + \" y de \" + str(num2) + \" es igual a \" + str(num1 / num2))\n",
    "print(f\"El cociente de {num1} y de {num2} es igual a {num1/num2}\")"
   ]
  }
 ],
 "metadata": {
  "kernelspec": {
   "display_name": "Python 3",
   "language": "python",
   "name": "python3"
  },
  "language_info": {
   "codemirror_mode": {
    "name": "ipython",
    "version": 3
   },
   "file_extension": ".py",
   "mimetype": "text/x-python",
   "name": "python",
   "nbconvert_exporter": "python",
   "pygments_lexer": "ipython3",
   "version": "3.8.8"
  }
 },
 "nbformat": 4,
 "nbformat_minor": 5
}
