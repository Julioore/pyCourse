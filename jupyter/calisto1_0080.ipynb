{
 "cells": [
  {
   "cell_type": "markdown",
   "id": "f8434e2b",
   "metadata": {},
   "source": [
    "# Escribiendo líneas de código"
   ]
  },
  {
   "cell_type": "code",
   "execution_count": null,
   "id": "e907aa45",
   "metadata": {},
   "outputs": [],
   "source": [
    "print(\"Hola\")       # imprimir en una línea"
   ]
  },
  {
   "cell_type": "markdown",
   "id": "1c107459",
   "metadata": {},
   "source": [
    "## Imprimir en varias líneas  \n"
   ]
  },
  {
   "cell_type": "code",
   "execution_count": null,
   "id": "cc0643a3",
   "metadata": {},
   "outputs": [],
   "source": [
    "print(\"\"\"Esto es\n",
    "una impresión\n",
    "de un párrfo\n",
    "en varias líneas\"\"\")"
   ]
  },
  {
   "cell_type": "code",
   "execution_count": null,
   "id": "58f26846",
   "metadata": {},
   "outputs": [],
   "source": [
    "print('''Elija la opción deseada:\n",
    "   1 Escribir\n",
    "   2 Editar\n",
    "   3 Grabar\n",
    "   4 Borrar''')"
   ]
  },
  {
   "cell_type": "markdown",
   "id": "0b44c481",
   "metadata": {},
   "source": [
    "### ```\\n``` significa new line"
   ]
  },
  {
   "cell_type": "code",
   "execution_count": null,
   "id": "29352df9",
   "metadata": {},
   "outputs": [],
   "source": [
    "print(\"Seleccione su destino \\nPlaya \\nMontaña\")         # con \\n hacemos un cambio de línea"
   ]
  },
  {
   "cell_type": "markdown",
   "id": "8af16443",
   "metadata": {},
   "source": [
    "### ```\\t``` significa tabulador"
   ]
  },
  {
   "cell_type": "code",
   "execution_count": null,
   "id": "28441c30",
   "metadata": {},
   "outputs": [],
   "source": [
    "print(\"Seleccione su destino \\n\\tPlaya \\n\\tMontaña\")     # con \\t introducimos un tabulador"
   ]
  },
  {
   "cell_type": "markdown",
   "id": "c84b6e09",
   "metadata": {},
   "source": [
    "### ```r``` significa raw\n",
    "Permite escribir el contenido de una cadena en bruto (en crudo)."
   ]
  },
  {
   "cell_type": "code",
   "execution_count": null,
   "id": "21c1f3f0",
   "metadata": {},
   "outputs": [],
   "source": [
    "print(r\"Seleccione su destino \\n\\tPlaya \\n\\tMontaña\")    # r Imprime en bruto (raw)"
   ]
  },
  {
   "cell_type": "markdown",
   "id": "0aef9439",
   "metadata": {},
   "source": [
    "## Una única línea de código en varias líneas de texto"
   ]
  },
  {
   "cell_type": "markdown",
   "id": "619db544",
   "metadata": {},
   "source": [
    "Veamos un ejemplo que luego vamos a transformar."
   ]
  },
  {
   "cell_type": "code",
   "execution_count": null,
   "id": "69c75219",
   "metadata": {},
   "outputs": [],
   "source": [
    "x = 1\n",
    "y = 2\n",
    "z = 3\n",
    "if x==1 and y==2 and z==3:\n",
    "    print(\"Los valores son correctos.\")"
   ]
  },
  {
   "cell_type": "markdown",
   "id": "d2e8d49f",
   "metadata": {},
   "source": [
    "El caso anterior se puede escribir de otra forma.\n",
    "\n",
    "* ```;``` Con el punto y coma podemos escribir varias líneas de código en una sola línea de texto.\n",
    "* ```\\``` Con la barra invertida podemos separar una línea de código en varias líneas de texto."
   ]
  },
  {
   "cell_type": "code",
   "execution_count": null,
   "id": "eda3e051",
   "metadata": {},
   "outputs": [],
   "source": [
    "x=1; y=2; z=3\n",
    "if x==1 and \\\n",
    "   y==2 and \\\n",
    "   z==3:\n",
    "    print(\"Los valores son correctos.\")"
   ]
  },
  {
   "cell_type": "markdown",
   "id": "a9c355ce",
   "metadata": {},
   "source": [
    "## Escrbiendo en raw"
   ]
  },
  {
   "cell_type": "markdown",
   "id": "24d8b71d",
   "metadata": {},
   "source": [
    "### Ejemplo 1"
   ]
  },
  {
   "cell_type": "code",
   "execution_count": null,
   "id": "cb178046",
   "metadata": {},
   "outputs": [],
   "source": [
    "print(\"C:\\directorio\\nombre\")  # se imprime incorrectamente en dos líneas"
   ]
  },
  {
   "cell_type": "markdown",
   "id": "d1bb35e0",
   "metadata": {},
   "source": [
    "#### Solución 1"
   ]
  },
  {
   "cell_type": "code",
   "execution_count": null,
   "id": "25b9c375",
   "metadata": {},
   "outputs": [],
   "source": [
    "print(r\"C:\\directorio\\nombre\")  # r indica que se imprimirá en raw (en crudo)"
   ]
  },
  {
   "cell_type": "markdown",
   "id": "d121577f",
   "metadata": {},
   "source": [
    "#### Solución 2"
   ]
  },
  {
   "cell_type": "code",
   "execution_count": null,
   "id": "6d3b286b",
   "metadata": {},
   "outputs": [],
   "source": [
    "print(\"C:\\\\directorio\\\\nombre\") # utilizando caracteres de escape"
   ]
  },
  {
   "cell_type": "markdown",
   "id": "e9d700b2",
   "metadata": {},
   "source": [
    "### Ejemplo 2"
   ]
  },
  {
   "cell_type": "code",
   "execution_count": null,
   "id": "9f3729e5",
   "metadata": {},
   "outputs": [],
   "source": [
    "# imprimiendo caracteres Unicode. Se pone \\u y luego el codigo del caracter Unicode\n",
    "print(\"\\u0061\")         # a\n",
    "print(\"\\u265E\")         # ♞\n",
    "print(\"\\u2167\")         # Ⅷ\n",
    "print(\"\\u2211\")         # ∑\n",
    "print(\"\\u23F3\")         # ⏳"
   ]
  },
  {
   "cell_type": "code",
   "execution_count": null,
   "id": "cd162d4b",
   "metadata": {},
   "outputs": [],
   "source": [
    "#print(\"C:\\user\\eloisa\")    # Se produce un error ya que después de \\u Python espera encontrar un caracter Unicode"
   ]
  },
  {
   "cell_type": "markdown",
   "id": "e382a1b5",
   "metadata": {},
   "source": [
    "#### Solución 1"
   ]
  },
  {
   "cell_type": "code",
   "execution_count": null,
   "id": "ef9b0cc1",
   "metadata": {},
   "outputs": [],
   "source": [
    "print(r\"C:\\user\\eloisa\")    # solución 1 con r de raw"
   ]
  },
  {
   "cell_type": "markdown",
   "id": "add14f0a",
   "metadata": {},
   "source": [
    "#### Solución 2"
   ]
  },
  {
   "cell_type": "code",
   "execution_count": null,
   "id": "8ecc7e6b",
   "metadata": {},
   "outputs": [],
   "source": [
    "print(\"C:\\\\user\\\\eloisa\")    # solución 2 con caracteres de escape"
   ]
  },
  {
   "cell_type": "markdown",
   "id": "364fe9c3",
   "metadata": {},
   "source": [
    "## Variables con caracteres de impresión"
   ]
  },
  {
   "cell_type": "code",
   "execution_count": null,
   "id": "d0875f67",
   "metadata": {},
   "outputs": [],
   "source": [
    "frase = \"Primero \\tiremos a la playa \\nSegundo \\taprenderemos a nadar\"\n",
    "print(frase)"
   ]
  },
  {
   "cell_type": "markdown",
   "id": "14ea54a6",
   "metadata": {},
   "source": [
    "## Imprimiendo línea vacía\n",
    "Usando print()"
   ]
  },
  {
   "cell_type": "code",
   "execution_count": null,
   "id": "430a93e6",
   "metadata": {},
   "outputs": [],
   "source": [
    "print('Playa')\n",
    "print('Montaña')\n",
    "print()\n",
    "print('Elija sus vacaciones favoritas')"
   ]
  },
  {
   "cell_type": "code",
   "execution_count": null,
   "id": "b92e09e4",
   "metadata": {},
   "outputs": [],
   "source": [
    "print('Playa')\n",
    "print('Montaña')\n",
    "print('')\n",
    "print('Elija sus vacaciones favoritas')"
   ]
  },
  {
   "cell_type": "code",
   "execution_count": null,
   "id": "4e101455",
   "metadata": {},
   "outputs": [],
   "source": [
    "print('Playa')\n",
    "print('Montaña\\n')\n",
    "print('Elija sus vacaciones favoritas')"
   ]
  },
  {
   "cell_type": "markdown",
   "id": "07757f42",
   "metadata": {},
   "source": [
    "## La coma como separador\n",
    "En un print podemos separar con coma que es un separador que imprime un espacio.  \n",
    "Este separador se puede cambiar."
   ]
  },
  {
   "cell_type": "code",
   "execution_count": null,
   "id": "b582d57c",
   "metadata": {},
   "outputs": [],
   "source": [
    "m = \"Madrid\"\n",
    "p = \"París\"\n",
    "r = \"Roma\"\n",
    "print(m, p, r)             # al imprimir se separan las ciudades con un espacio"
   ]
  },
  {
   "cell_type": "code",
   "execution_count": null,
   "id": "6280dc51",
   "metadata": {},
   "outputs": [],
   "source": [
    "print(m, p, r, sep=\";\")    # cambiamos el separador a un punto y coma"
   ]
  },
  {
   "cell_type": "code",
   "execution_count": null,
   "id": "6eb74123",
   "metadata": {},
   "outputs": [],
   "source": [
    "print(m, p, r, sep=\"\\n\")    # cambiamos el separador a un retorno de carro"
   ]
  }
 ],
 "metadata": {
  "kernelspec": {
   "display_name": "Python 3 (ipykernel)",
   "language": "python",
   "name": "python3"
  },
  "language_info": {
   "codemirror_mode": {
    "name": "ipython",
    "version": 3
   },
   "file_extension": ".py",
   "mimetype": "text/x-python",
   "name": "python",
   "nbconvert_exporter": "python",
   "pygments_lexer": "ipython3",
   "version": "3.8.11"
  }
 },
 "nbformat": 4,
 "nbformat_minor": 5
}
