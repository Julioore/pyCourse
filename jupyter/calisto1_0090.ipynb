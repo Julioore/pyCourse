{
  "cells": [
    {
      "cell_type": "markdown",
      "metadata": {
        "id": "view-in-github",
        "colab_type": "text"
      },
      "source": [
        "<a href=\"https://colab.research.google.com/github/financieras/pyCourse/blob/main/jupyter/calisto1_0090.ipynb\" target=\"_parent\"><img src=\"https://colab.research.google.com/assets/colab-badge.svg\" alt=\"Open In Colab\"/></a>"
      ]
    },
    {
      "cell_type": "markdown",
      "id": "6560885d",
      "metadata": {
        "id": "6560885d"
      },
      "source": [
        "# Variables  \n",
        "* Declaración &nbsp;&nbsp;&nbsp;→&nbsp;&nbsp; en Python no declaramos el tipo de las variables\n",
        "* Inicialización &nbsp;&nbsp;→&nbsp;&nbsp; cuando se asigna un primer valor\n",
        "* Asignación &nbsp;&nbsp;&nbsp;&nbsp;→&nbsp;&nbsp; cuando se modifica el valor de la variable\n"
      ]
    },
    {
      "cell_type": "code",
      "execution_count": 1,
      "id": "9e8cf04e",
      "metadata": {
        "id": "9e8cf04e",
        "outputId": "614ce0f2-88ee-41c0-8b04-3ac578a1caf8",
        "colab": {
          "base_uri": "https://localhost:8080/"
        }
      },
      "outputs": [
        {
          "output_type": "stream",
          "name": "stdout",
          "text": [
            "10\n"
          ]
        },
        {
          "output_type": "execute_result",
          "data": {
            "text/plain": [
              "11"
            ]
          },
          "metadata": {},
          "execution_count": 1
        }
      ],
      "source": [
        "x = 3\n",
        "x = 10\n",
        "print(x)   # imprime 10 que es el último valor, una nueva asignación reemplaza el valor de la vble.\n",
        "x = x+1    # ahora la variable x vale 11.  Equivale a poner   x+=1   (contador)\n",
        "x"
      ]
    },
    {
      "cell_type": "code",
      "execution_count": 2,
      "id": "999677c9",
      "metadata": {
        "id": "999677c9"
      },
      "outputs": [],
      "source": [
        "a, b, c = 10, 20, 30             # asignación a múltiples variables\n",
        "p = q = r = 1                    # las tres variables se asignan al mismo valor"
      ]
    },
    {
      "cell_type": "code",
      "execution_count": 3,
      "id": "8157ad7d",
      "metadata": {
        "id": "8157ad7d",
        "outputId": "f2247eac-a341-4423-b36a-2b15b5ff8924",
        "colab": {
          "base_uri": "https://localhost:8080/"
        }
      },
      "outputs": [
        {
          "output_type": "stream",
          "name": "stdout",
          "text": [
            "a= 10 b= 20 c= 30\n",
            "a=10, b=20, c=30\n",
            "a=10, b=20, c=30\n"
          ]
        }
      ],
      "source": [
        "print('a=', a, 'b=', b, 'c=', c)                           # al separar con coma se deja un espacio\n",
        "print('a=' + str(a) + ', b=' + str(b) + ', c=' + str(c))   # solución 1 para evitar el espacio\n",
        "print(f'a={a}, b={b}, c={c}')                              # solución 2 para evitar el espacio"
      ]
    },
    {
      "cell_type": "markdown",
      "id": "25a6156f",
      "metadata": {
        "id": "25a6156f"
      },
      "source": [
        "# Permutar valores  \n",
        "## Utilizando una variable auxiliar\n",
        "<img src=\"https://github.com/financieras/pyCourse/blob/main/jupyter/img/rojo_amarillo_azul_.jpg?raw=1\" alt=\"Tres vasos\" width=\"250\"/>"
      ]
    },
    {
      "cell_type": "code",
      "execution_count": 4,
      "id": "bcb071e5",
      "metadata": {
        "id": "bcb071e5",
        "outputId": "16102f89-528d-4aeb-a239-c82eff1d222f",
        "colab": {
          "base_uri": "https://localhost:8080/"
        }
      },
      "outputs": [
        {
          "output_type": "stream",
          "name": "stdout",
          "text": [
            "a=20, b=10\n"
          ]
        }
      ],
      "source": [
        "a = 10\n",
        "b = 20\n",
        "aux = a                          # creamos una variable auxiliar, se suele llamar aux o temp\n",
        "a = b\n",
        "b = aux\n",
        "print(f'a={a}, b={b}')"
      ]
    },
    {
      "cell_type": "markdown",
      "id": "113b1dee",
      "metadata": {
        "id": "113b1dee"
      },
      "source": [
        "## Python permite permutar en una sola línea"
      ]
    },
    {
      "cell_type": "code",
      "execution_count": 5,
      "id": "ba95b435",
      "metadata": {
        "id": "ba95b435",
        "outputId": "7698f4e3-1624-4a23-ae7c-39dd78bd4bc1",
        "colab": {
          "base_uri": "https://localhost:8080/"
        }
      },
      "outputs": [
        {
          "output_type": "stream",
          "name": "stdout",
          "text": [
            "a=20, b=10\n"
          ]
        }
      ],
      "source": [
        "a, b = 10, 20\n",
        "a, b = b, a                      # otra forma maravillosa de permutar valores\n",
        "print(f'a={a}, b={b}')"
      ]
    },
    {
      "cell_type": "markdown",
      "id": "600dc401",
      "metadata": {
        "id": "600dc401"
      },
      "source": [
        "# Constantes  \n",
        "En Python no hay que declarar las constantes.  \n",
        "Una constante es una variable que no cambiará durante la ejecución del programa.  \n",
        "Por convenio se nombran en mayúsculas, por ejemplo:"
      ]
    },
    {
      "cell_type": "code",
      "execution_count": 6,
      "id": "52f642f5",
      "metadata": {
        "id": "52f642f5",
        "outputId": "e19b6dd9-3043-4549-ecf3-5d279508bc05",
        "colab": {
          "base_uri": "https://localhost:8080/"
        }
      },
      "outputs": [
        {
          "output_type": "execute_result",
          "data": {
            "text/plain": [
              "0.21"
            ]
          },
          "metadata": {},
          "execution_count": 6
        }
      ],
      "source": [
        "IVA = 0.21\n",
        "IVA"
      ]
    },
    {
      "cell_type": "markdown",
      "id": "5bbe8678",
      "metadata": {
        "id": "5bbe8678"
      },
      "source": [
        "Otra opción es incorporar todas las constantes a un fichero y luego importar el fichero.  \n",
        "Creamos el archivo *constantes.py* en la subcarpeta *mypy* (o el nombre que quieras)."
      ]
    },
    {
      "cell_type": "code",
      "execution_count": 7,
      "id": "188cd167",
      "metadata": {
        "id": "188cd167"
      },
      "outputs": [],
      "source": [
        "# este es el contenido del archivo constantes.py\n",
        "LUZ = 299708  # velocidad de la luz en km/s\n",
        "G = 9.832     # gravedad de la tierra m/s2"
      ]
    },
    {
      "cell_type": "markdown",
      "id": "a222b7f1",
      "metadata": {
        "id": "a222b7f1"
      },
      "source": [
        "Luego importamos la constante LUZ con alguno de los siguientes métodos."
      ]
    },
    {
      "cell_type": "markdown",
      "id": "6573f36c",
      "metadata": {
        "id": "6573f36c"
      },
      "source": [
        "### Método 1 importando todo el módulo\n",
        "Antes de ejecutar este método podemos limpiar el kernel. "
      ]
    },
    {
      "cell_type": "markdown",
      "source": [
        "#### Método 1.A: si estamos trabajando con Jupyter Notebook\n",
        "Usando Anaconda o usando simplemente un Jupyter Notebook, sin usar Google Colab"
      ],
      "metadata": {
        "id": "TEhf68Bz7BWv"
      },
      "id": "TEhf68Bz7BWv"
    },
    {
      "cell_type": "code",
      "execution_count": 8,
      "id": "a55a1dce",
      "metadata": {
        "id": "a55a1dce",
        "outputId": "2e85ef5f-f18c-4b10-a5a5-cf038ee2984f",
        "colab": {
          "base_uri": "https://localhost:8080/",
          "height": 341
        }
      },
      "outputs": [
        {
          "output_type": "error",
          "ename": "ModuleNotFoundError",
          "evalue": "ignored",
          "traceback": [
            "\u001b[0;31m---------------------------------------------------------------------------\u001b[0m",
            "\u001b[0;31mModuleNotFoundError\u001b[0m                       Traceback (most recent call last)",
            "\u001b[0;32m<ipython-input-8-e1a818067310>\u001b[0m in \u001b[0;36m<module>\u001b[0;34m()\u001b[0m\n\u001b[0;32m----> 1\u001b[0;31m \u001b[0;32mfrom\u001b[0m \u001b[0mmypy\u001b[0m\u001b[0;34m.\u001b[0m\u001b[0mconstantes\u001b[0m \u001b[0;32mimport\u001b[0m \u001b[0;34m*\u001b[0m\u001b[0;34m\u001b[0m\u001b[0;34m\u001b[0m\u001b[0m\n\u001b[0m\u001b[1;32m      2\u001b[0m \u001b[0mhasta_luna\u001b[0m \u001b[0;34m=\u001b[0m \u001b[0;36m406700\u001b[0m \u001b[0;34m/\u001b[0m \u001b[0mLUZ\u001b[0m\u001b[0;34m\u001b[0m\u001b[0;34m\u001b[0m\u001b[0m\n\u001b[1;32m      3\u001b[0m \u001b[0mprint\u001b[0m\u001b[0;34m(\u001b[0m\u001b[0mhasta_luna\u001b[0m\u001b[0;34m,\u001b[0m \u001b[0;34m'segundos'\u001b[0m\u001b[0;34m)\u001b[0m\u001b[0;34m\u001b[0m\u001b[0;34m\u001b[0m\u001b[0m\n",
            "\u001b[0;31mModuleNotFoundError\u001b[0m: No module named 'mypy'",
            "",
            "\u001b[0;31m---------------------------------------------------------------------------\u001b[0;32m\nNOTE: If your import is failing due to a missing package, you can\nmanually install dependencies using either !pip or !apt.\n\nTo view examples of installing some common dependencies, click the\n\"Open Examples\" button below.\n\u001b[0;31m---------------------------------------------------------------------------\u001b[0m\n"
          ],
          "errorDetails": {
            "actions": [
              {
                "action": "open_url",
                "actionText": "Open Examples",
                "url": "/notebooks/snippets/importing_libraries.ipynb"
              }
            ]
          }
        }
      ],
      "source": [
        "from mypy.constantes import *\n",
        "hasta_luna = 406700 / LUZ\n",
        "print(hasta_luna, 'segundos')"
      ]
    },
    {
      "cell_type": "markdown",
      "source": [
        "#### Método 1.B: si estamos trabajando con Google Colab\n",
        "En caso de usar Google Colab, previamente necesitamos clonar el repositorio que está en GitHub."
      ],
      "metadata": {
        "id": "p-8zfpVW7g7t"
      },
      "id": "p-8zfpVW7g7t"
    },
    {
      "cell_type": "markdown",
      "source": [
        "A la izquierda pulsamos sobre el icono con forma de carpeta (files) y se despliega el arbol de carpetas de nuestra sesión de Colab.  \n",
        "Observe los cambios que se van a producir en la carpeta `content` donde después del clonado aparecerá nuestro repositorio que se llama `pyCourse`.\n",
        "\n",
        "<img src=\"https://github.com/financieras/pyCourse/blob/main/jupyter/img/files_antes.png?raw=1\" alt=\"antes\" width=\"200\"/>  <img src=\"https://github.com/financieras/pyCourse/blob/main/jupyter/img/files_despues.png?raw=1\" alt=\"despues\" width=\"200\"/>"
      ],
      "metadata": {
        "id": "doBMW_ap9q-C"
      },
      "id": "doBMW_ap9q-C"
    },
    {
      "cell_type": "code",
      "source": [
        "!git clone https://github.com/financieras/pyCourse.git"
      ],
      "metadata": {
        "id": "Cg-bRugd71wL",
        "outputId": "0d7a2e21-94ae-44d1-aeff-bef9ebc340c9",
        "colab": {
          "base_uri": "https://localhost:8080/"
        }
      },
      "id": "Cg-bRugd71wL",
      "execution_count": 9,
      "outputs": [
        {
          "output_type": "stream",
          "name": "stdout",
          "text": [
            "fatal: destination path 'pyCourse' already exists and is not an empty directory.\n"
          ]
        }
      ]
    },
    {
      "cell_type": "code",
      "source": [
        "import sys\n",
        "sys.path.insert(1,\"/pyCourse/jupyter\")"
      ],
      "metadata": {
        "id": "zF29yxkc_U01"
      },
      "id": "zF29yxkc_U01",
      "execution_count": 10,
      "outputs": []
    },
    {
      "cell_type": "code",
      "source": [
        "%pwd"
      ],
      "metadata": {
        "id": "g9b0-2jPBrrZ",
        "outputId": "05472634-ae08-4379-f7de-9125418766fb",
        "colab": {
          "base_uri": "https://localhost:8080/",
          "height": 35
        }
      },
      "id": "g9b0-2jPBrrZ",
      "execution_count": 11,
      "outputs": [
        {
          "output_type": "execute_result",
          "data": {
            "text/plain": [
              "'/content'"
            ],
            "application/vnd.google.colaboratory.intrinsic+json": {
              "type": "string"
            }
          },
          "metadata": {},
          "execution_count": 11
        }
      ]
    },
    {
      "cell_type": "code",
      "source": [
        "%cd pyCourse/jupyter"
      ],
      "metadata": {
        "id": "dzDOHGrJau0s",
        "outputId": "18c99bfa-07f6-4901-b91a-2c8540a744d8",
        "colab": {
          "base_uri": "https://localhost:8080/"
        }
      },
      "id": "dzDOHGrJau0s",
      "execution_count": 12,
      "outputs": [
        {
          "output_type": "stream",
          "name": "stdout",
          "text": [
            "/content/pyCourse/jupyter\n"
          ]
        }
      ]
    },
    {
      "cell_type": "code",
      "source": [
        "%pwd"
      ],
      "metadata": {
        "id": "12NoPKr7a2d1",
        "outputId": "1c6bf7c5-d53a-4271-f163-97390445f7a7",
        "colab": {
          "base_uri": "https://localhost:8080/",
          "height": 35
        }
      },
      "id": "12NoPKr7a2d1",
      "execution_count": 13,
      "outputs": [
        {
          "output_type": "execute_result",
          "data": {
            "text/plain": [
              "'/content/pyCourse/jupyter'"
            ],
            "application/vnd.google.colaboratory.intrinsic+json": {
              "type": "string"
            }
          },
          "metadata": {},
          "execution_count": 13
        }
      ]
    },
    {
      "cell_type": "code",
      "source": [
        "from mypy.constantes import LUZ"
      ],
      "metadata": {
        "id": "TjqbN5peBA1r"
      },
      "id": "TjqbN5peBA1r",
      "execution_count": 14,
      "outputs": []
    },
    {
      "cell_type": "code",
      "source": [
        "LUZ"
      ],
      "metadata": {
        "id": "SmS8q7xba-wD",
        "outputId": "9125e359-4d1f-410a-d650-bf8ae6542490",
        "colab": {
          "base_uri": "https://localhost:8080/"
        }
      },
      "id": "SmS8q7xba-wD",
      "execution_count": 15,
      "outputs": [
        {
          "output_type": "execute_result",
          "data": {
            "text/plain": [
              "299708"
            ]
          },
          "metadata": {},
          "execution_count": 15
        }
      ]
    },
    {
      "cell_type": "markdown",
      "id": "922e8c8e",
      "metadata": {
        "id": "922e8c8e"
      },
      "source": [
        "### Método 2 importando solo una constante\n",
        "Antes de ejecutar este método podemos limpiar el kernel. "
      ]
    },
    {
      "cell_type": "code",
      "execution_count": null,
      "id": "3f9df4d5",
      "metadata": {
        "id": "3f9df4d5"
      },
      "outputs": [],
      "source": [
        "from mypy.constantes import LUZ\n",
        "hasta_luna = 406700 / LUZ\n",
        "print(hasta_luna, 'segundos')"
      ]
    },
    {
      "cell_type": "markdown",
      "id": "583bd389",
      "metadata": {
        "id": "583bd389"
      },
      "source": [
        "### Método 3 importando todas las constantes\n",
        "Antes de ejecutar este método podemos limpiar el kernel. "
      ]
    },
    {
      "cell_type": "code",
      "execution_count": null,
      "id": "7562442b",
      "metadata": {
        "id": "7562442b"
      },
      "outputs": [],
      "source": [
        "import mypy.constantes\n",
        "hasta_luna = 406700 / mypy.constantes.LUZ\n",
        "print(hasta_luna, 'segundos')"
      ]
    },
    {
      "cell_type": "markdown",
      "id": "7c24e14e",
      "metadata": {
        "id": "7c24e14e"
      },
      "source": [
        "### Método 4 importando con un alias\n",
        "Antes de ejecutar este método podemos limpiar el kernel. "
      ]
    },
    {
      "cell_type": "code",
      "execution_count": null,
      "id": "7057eaf1",
      "metadata": {
        "id": "7057eaf1"
      },
      "outputs": [],
      "source": [
        "import mypy.constantes as cte               # podemos poner el alias que queramos\n",
        "hasta_luna = 406700 / cte.LUZ               # distancia más lejana: apogeo 406700 Km\n",
        "print(hasta_luna, 'segundos')"
      ]
    },
    {
      "cell_type": "markdown",
      "id": "32254ff8",
      "metadata": {
        "id": "32254ff8"
      },
      "source": [
        "## Podemos correr un archivo .py\n",
        "Podemos correr un archivo .py dando la orden desde una celda de Jupyter notebook.  \n",
        "Esto es una forma alternativa de proceder, si estamos trabajando desde un Jupyter notebook o un Jupyter lab.\n",
        "\n",
        "[Celdas mágicas](https://ipython.readthedocs.io/en/stable/interactive/magics.html#magic-run)"
      ]
    },
    {
      "cell_type": "code",
      "execution_count": null,
      "id": "ef8b973f",
      "metadata": {
        "id": "ef8b973f"
      },
      "outputs": [],
      "source": [
        "%run ./mypy/constantes.py      # con el % interactuamos con el sistema operativo (con la terminal)\n",
        "LUZ"
      ]
    }
  ],
  "metadata": {
    "kernelspec": {
      "display_name": "Python 3 (ipykernel)",
      "language": "python",
      "name": "python3"
    },
    "language_info": {
      "codemirror_mode": {
        "name": "ipython",
        "version": 3
      },
      "file_extension": ".py",
      "mimetype": "text/x-python",
      "name": "python",
      "nbconvert_exporter": "python",
      "pygments_lexer": "ipython3",
      "version": "3.8.11"
    },
    "colab": {
      "name": "calisto1_0090.ipynb",
      "provenance": [],
      "include_colab_link": true
    }
  },
  "nbformat": 4,
  "nbformat_minor": 5
}