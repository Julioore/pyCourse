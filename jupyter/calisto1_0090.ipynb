{
 "cells": [
  {
   "cell_type": "markdown",
   "id": "14b3fbf1",
   "metadata": {},
   "source": [
    "# Booleanos: True, False\n"
   ]
  },
  {
   "cell_type": "code",
   "execution_count": 1,
   "id": "b45351e2",
   "metadata": {},
   "outputs": [
    {
     "data": {
      "text/plain": [
       "True"
      ]
     },
     "execution_count": 1,
     "metadata": {},
     "output_type": "execute_result"
    }
   ],
   "source": [
    "5 == 5     #True"
   ]
  },
  {
   "cell_type": "code",
   "execution_count": 2,
   "id": "db1191ad",
   "metadata": {},
   "outputs": [
    {
     "data": {
      "text/plain": [
       "False"
      ]
     },
     "execution_count": 2,
     "metadata": {},
     "output_type": "execute_result"
    }
   ],
   "source": [
    "5 >= 7     #False"
   ]
  },
  {
   "cell_type": "code",
   "execution_count": 3,
   "id": "0b1acd6e",
   "metadata": {},
   "outputs": [
    {
     "data": {
      "text/plain": [
       "False"
      ]
     },
     "execution_count": 3,
     "metadata": {},
     "output_type": "execute_result"
    }
   ],
   "source": [
    "9 == '9'   #False"
   ]
  },
  {
   "cell_type": "code",
   "execution_count": 4,
   "id": "e1493ea6",
   "metadata": {},
   "outputs": [
    {
     "data": {
      "text/plain": [
       "True"
      ]
     },
     "execution_count": 4,
     "metadata": {},
     "output_type": "execute_result"
    }
   ],
   "source": [
    "'Madrid' > 'Bogotá'    #True"
   ]
  },
  {
   "cell_type": "code",
   "execution_count": 5,
   "id": "257a5d12",
   "metadata": {},
   "outputs": [
    {
     "data": {
      "text/plain": [
       "False"
      ]
     },
     "execution_count": 5,
     "metadata": {},
     "output_type": "execute_result"
    }
   ],
   "source": [
    "4 != 4     #False    Operador Distinto o 'no es igual a'"
   ]
  },
  {
   "cell_type": "code",
   "execution_count": 6,
   "id": "15ed57f6",
   "metadata": {},
   "outputs": [
    {
     "data": {
      "text/plain": [
       "True"
      ]
     },
     "execution_count": 6,
     "metadata": {},
     "output_type": "execute_result"
    }
   ],
   "source": [
    "True == True    #True"
   ]
  },
  {
   "cell_type": "code",
   "execution_count": 7,
   "id": "c05f8fee",
   "metadata": {},
   "outputs": [
    {
     "data": {
      "text/plain": [
       "False"
      ]
     },
     "execution_count": 7,
     "metadata": {},
     "output_type": "execute_result"
    }
   ],
   "source": [
    "True == False   #False"
   ]
  },
  {
   "cell_type": "code",
   "execution_count": 8,
   "id": "51b8e032",
   "metadata": {},
   "outputs": [
    {
     "data": {
      "text/plain": [
       "True"
      ]
     },
     "execution_count": 8,
     "metadata": {},
     "output_type": "execute_result"
    }
   ],
   "source": [
    "True != False    #True"
   ]
  }
 ],
 "metadata": {
  "kernelspec": {
   "display_name": "Python 3",
   "language": "python",
   "name": "python3"
  },
  "language_info": {
   "codemirror_mode": {
    "name": "ipython",
    "version": 3
   },
   "file_extension": ".py",
   "mimetype": "text/x-python",
   "name": "python",
   "nbconvert_exporter": "python",
   "pygments_lexer": "ipython3",
   "version": "3.8.5"
  }
 },
 "nbformat": 4,
 "nbformat_minor": 5
}
