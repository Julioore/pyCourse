{
 "cells": [
  {
   "cell_type": "markdown",
   "id": "b7786f7a",
   "metadata": {},
   "source": [
    "# Booleanos: True, False\n"
   ]
  },
  {
   "cell_type": "code",
   "execution_count": null,
   "id": "df8694c5",
   "metadata": {},
   "outputs": [],
   "source": [
    "5 == 5     #True       Operador de comparación: 'Igual a'"
   ]
  },
  {
   "cell_type": "code",
   "execution_count": null,
   "id": "2528485c",
   "metadata": {},
   "outputs": [],
   "source": [
    "5 >= 7     #False"
   ]
  },
  {
   "cell_type": "code",
   "execution_count": null,
   "id": "57fc1da5",
   "metadata": {},
   "outputs": [],
   "source": [
    "9 == '9'   #False"
   ]
  },
  {
   "cell_type": "code",
   "execution_count": null,
   "id": "db50c39e",
   "metadata": {},
   "outputs": [],
   "source": [
    "'Madrid' > 'Bogotá'    #True"
   ]
  },
  {
   "cell_type": "code",
   "execution_count": null,
   "id": "232a68ba",
   "metadata": {},
   "outputs": [],
   "source": [
    "4 != 4     #False    Operador de comparación: Distinto o 'no es igual a'"
   ]
  },
  {
   "cell_type": "code",
   "execution_count": null,
   "id": "f68c8a65",
   "metadata": {},
   "outputs": [],
   "source": [
    "True == True    #True"
   ]
  },
  {
   "cell_type": "code",
   "execution_count": null,
   "id": "05a3defa",
   "metadata": {},
   "outputs": [],
   "source": [
    "True == False   #False"
   ]
  },
  {
   "cell_type": "code",
   "execution_count": null,
   "id": "399a072f",
   "metadata": {},
   "outputs": [],
   "source": [
    "True != False   #True"
   ]
  },
  {
   "cell_type": "code",
   "execution_count": null,
   "id": "95560b07",
   "metadata": {},
   "outputs": [],
   "source": [
    "1 < 2 < 3       #True"
   ]
  }
 ],
 "metadata": {
  "kernelspec": {
   "display_name": "Python 3",
   "language": "python",
   "name": "python3"
  },
  "language_info": {
   "codemirror_mode": {
    "name": "ipython",
    "version": 3
   },
   "file_extension": ".py",
   "mimetype": "text/x-python",
   "name": "python",
   "nbconvert_exporter": "python",
   "pygments_lexer": "ipython3",
   "version": "3.8.8"
  }
 },
 "nbformat": 4,
 "nbformat_minor": 5
}
