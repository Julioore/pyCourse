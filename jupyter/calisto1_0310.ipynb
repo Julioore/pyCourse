{
 "cells": [
  {
   "cell_type": "markdown",
   "id": "4e371eff",
   "metadata": {},
   "source": [
    "# Operadores de identidad: is, is not"
   ]
  },
  {
   "cell_type": "markdown",
   "id": "f818fd34",
   "metadata": {},
   "source": [
    "Vemos que a y b son números enteros del mismo valor, por lo que son tanto iguales como idénticos."
   ]
  },
  {
   "cell_type": "code",
   "execution_count": 13,
   "id": "4356c4f7",
   "metadata": {},
   "outputs": [
    {
     "data": {
      "text/plain": [
       "True"
      ]
     },
     "execution_count": 13,
     "metadata": {},
     "output_type": "execute_result"
    }
   ],
   "source": [
    "a=5                    # con números\n",
    "b=5\n",
    "a is b                 # a y b son idénticos = iguales y además del mismo tipo "
   ]
  },
  {
   "cell_type": "code",
   "execution_count": 11,
   "id": "d8ede79b",
   "metadata": {},
   "outputs": [
    {
     "data": {
      "text/plain": [
       "False"
      ]
     },
     "execution_count": 11,
     "metadata": {},
     "output_type": "execute_result"
    }
   ],
   "source": [
    "a = 5.0\n",
    "b = 5\n",
    "a is b                 # a y b ahora ya no son idénticos, ya que son iguales pero no del mismo tipo"
   ]
  },
  {
   "cell_type": "code",
   "execution_count": 14,
   "id": "d348b407",
   "metadata": {},
   "outputs": [
    {
     "data": {
      "text/plain": [
       "True"
      ]
     },
     "execution_count": 14,
     "metadata": {},
     "output_type": "execute_result"
    }
   ],
   "source": [
    "a == b"
   ]
  },
  {
   "cell_type": "markdown",
   "id": "627fc265",
   "metadata": {},
   "source": [
    "Vemos que c y d son strings iguales y por lo tanto idénticos."
   ]
  },
  {
   "cell_type": "code",
   "execution_count": 3,
   "id": "3dc804d0",
   "metadata": {},
   "outputs": [
    {
     "data": {
      "text/plain": [
       "True"
      ]
     },
     "execution_count": 3,
     "metadata": {},
     "output_type": "execute_result"
    }
   ],
   "source": [
    "c = \"azul\"             # con strings\n",
    "d = \"azul\"\n",
    "c is d"
   ]
  },
  {
   "cell_type": "code",
   "execution_count": 9,
   "id": "1aabba23",
   "metadata": {},
   "outputs": [
    {
     "data": {
      "text/plain": [
       "True"
      ]
     },
     "execution_count": 9,
     "metadata": {},
     "output_type": "execute_result"
    }
   ],
   "source": [
    "c == d"
   ]
  },
  {
   "cell_type": "code",
   "execution_count": 7,
   "id": "44c93cc7",
   "metadata": {},
   "outputs": [
    {
     "data": {
      "text/plain": [
       "True"
      ]
     },
     "execution_count": 7,
     "metadata": {},
     "output_type": "execute_result"
    }
   ],
   "source": [
    "x = \"Madrid\"\n",
    "y = \"madrid\"\n",
    "x is not y"
   ]
  },
  {
   "cell_type": "code",
   "execution_count": 8,
   "id": "98fca1a2",
   "metadata": {},
   "outputs": [
    {
     "data": {
      "text/plain": [
       "True"
      ]
     },
     "execution_count": 8,
     "metadata": {},
     "output_type": "execute_result"
    }
   ],
   "source": [
    "x != y"
   ]
  },
  {
   "cell_type": "markdown",
   "id": "cd864918",
   "metadata": {},
   "source": [
    "Con listas hemos de tener cuidado ya que iguales no significa idénticos ya que dos listas ocupan distinto lugar en la memoria del ordenador."
   ]
  },
  {
   "cell_type": "code",
   "execution_count": 15,
   "id": "387c6005",
   "metadata": {},
   "outputs": [
    {
     "data": {
      "text/plain": [
       "True"
      ]
     },
     "execution_count": 15,
     "metadata": {},
     "output_type": "execute_result"
    }
   ],
   "source": [
    "list1 = [1,2,3]        # con listas\n",
    "list2 = [1,2,3]\n",
    "list1 == list2"
   ]
  },
  {
   "cell_type": "markdown",
   "id": "bd849797",
   "metadata": {},
   "source": [
    "Con listas el intérprete las ubica por separado en la memoria, aunque son iguales."
   ]
  },
  {
   "cell_type": "code",
   "execution_count": 16,
   "id": "cbb2e51d",
   "metadata": {},
   "outputs": [
    {
     "data": {
      "text/plain": [
       "False"
      ]
     },
     "execution_count": 16,
     "metadata": {},
     "output_type": "execute_result"
    }
   ],
   "source": [
    "list1 is list2         # Las listas 1 y 2 no son idénticas ya que ocupan distinto lugar en la memoria RAM"
   ]
  },
  {
   "cell_type": "code",
   "execution_count": 18,
   "id": "8e0e080f",
   "metadata": {},
   "outputs": [
    {
     "data": {
      "text/plain": [
       "['ene', 'feb', 'mar']"
      ]
     },
     "execution_count": 18,
     "metadata": {},
     "output_type": "execute_result"
    }
   ],
   "source": [
    "meses1 = ['ene','feb','mar' ]\n",
    "meses2 = meses1              #al hacer meses2=meses1 se hace una copia idéntica que ocupa el mismo lugar de memoria\n",
    "meses2"
   ]
  },
  {
   "cell_type": "code",
   "execution_count": 19,
   "id": "d59982f6",
   "metadata": {},
   "outputs": [
    {
     "data": {
      "text/plain": [
       "['ene', 'feb', 'mar', 'abr']"
      ]
     },
     "execution_count": 19,
     "metadata": {},
     "output_type": "execute_result"
    }
   ],
   "source": [
    "meses1.append('abr')\n",
    "meses1"
   ]
  },
  {
   "cell_type": "code",
   "execution_count": 20,
   "id": "0575479c",
   "metadata": {},
   "outputs": [
    {
     "data": {
      "text/plain": [
       "True"
      ]
     },
     "execution_count": 20,
     "metadata": {},
     "output_type": "execute_result"
    }
   ],
   "source": [
    "meses2 is meses1            # SORPRESA ahora ambas listas son idénticas"
   ]
  },
  {
   "cell_type": "markdown",
   "id": "422b82d9",
   "metadata": {},
   "source": [
    "Veamos como copiar una lista sin que la copia se idéntica."
   ]
  },
  {
   "cell_type": "code",
   "execution_count": 21,
   "id": "42424ad9",
   "metadata": {},
   "outputs": [
    {
     "data": {
      "text/plain": [
       "['lun', 'mar', 'mie']"
      ]
     },
     "execution_count": 21,
     "metadata": {},
     "output_type": "execute_result"
    }
   ],
   "source": [
    "dias1 = ['lun','mar','mie']\n",
    "dias2 = dias1[:]             # ahora dias2 es una lista igual que dias1 pero independiente, distinta memoria\n",
    "dias2"
   ]
  },
  {
   "cell_type": "code",
   "execution_count": 22,
   "id": "1e74fbfb",
   "metadata": {},
   "outputs": [
    {
     "data": {
      "text/plain": [
       "False"
      ]
     },
     "execution_count": 22,
     "metadata": {},
     "output_type": "execute_result"
    }
   ],
   "source": [
    "dias2 is dias1"
   ]
  },
  {
   "cell_type": "code",
   "execution_count": 23,
   "id": "9e53cb54",
   "metadata": {},
   "outputs": [
    {
     "data": {
      "text/plain": [
       "['lun', 'mar', 'mie', 'jue']"
      ]
     },
     "execution_count": 23,
     "metadata": {},
     "output_type": "execute_result"
    }
   ],
   "source": [
    "dias1.append('jue')          # añadimos un elemento más a la lista dias1\n",
    "dias1"
   ]
  },
  {
   "cell_type": "code",
   "execution_count": 24,
   "id": "1b79eff2",
   "metadata": {},
   "outputs": [
    {
     "data": {
      "text/plain": [
       "['lun', 'mar', 'mie']"
      ]
     },
     "execution_count": 24,
     "metadata": {},
     "output_type": "execute_result"
    }
   ],
   "source": [
    "dias2                        # podemos comprobar que la lista dias2 es independiente, no se añade el jueves"
   ]
  }
 ],
 "metadata": {
  "kernelspec": {
   "display_name": "Python 3",
   "language": "python",
   "name": "python3"
  },
  "language_info": {
   "codemirror_mode": {
    "name": "ipython",
    "version": 3
   },
   "file_extension": ".py",
   "mimetype": "text/x-python",
   "name": "python",
   "nbconvert_exporter": "python",
   "pygments_lexer": "ipython3",
   "version": "3.8.5"
  }
 },
 "nbformat": 4,
 "nbformat_minor": 5
}
