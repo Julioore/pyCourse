{
 "cells": [
  {
   "cell_type": "markdown",
   "id": "bf18c881",
   "metadata": {},
   "source": [
    "# Diccionarios [2]"
   ]
  },
  {
   "cell_type": "code",
   "execution_count": 10,
   "id": "4d0416b0",
   "metadata": {},
   "outputs": [
    {
     "data": {
      "text/plain": [
       "{'Apolo': 11, 'astronauta': 'Neil Armstrong', 'año': 1969}"
      ]
     },
     "execution_count": 10,
     "metadata": {},
     "output_type": "execute_result"
    }
   ],
   "source": [
    "historia = {\n",
    "  \"Apolo\": 11,\n",
    "  \"astronauta\": \"Neil Armstrong\",\n",
    "  \"año\": 1969\n",
    "}\n",
    "historia"
   ]
  },
  {
   "cell_type": "code",
   "execution_count": 11,
   "id": "667b1403",
   "metadata": {},
   "outputs": [
    {
     "data": {
      "text/plain": [
       "{'Apolo': 'XI', 'astronauta': 'Neil Armstrong', 'año': 1969}"
      ]
     },
     "execution_count": 11,
     "metadata": {},
     "output_type": "execute_result"
    }
   ],
   "source": [
    "historia[\"Apolo\"]='XI'            # Cambiamos el valor de la clave Apolo\n",
    "historia"
   ]
  },
  {
   "cell_type": "code",
   "execution_count": 12,
   "id": "98fd9a06",
   "metadata": {},
   "outputs": [
    {
     "name": "stdout",
     "output_type": "stream",
     "text": [
      "True\n",
      "3\n"
     ]
    },
    {
     "data": {
      "text/plain": [
       "{'Apolo': 'XI', 'astronauta': 'Neil Armstrong', 'año': 1969, 'módulo': 'Eagle'}"
      ]
     },
     "execution_count": 12,
     "metadata": {},
     "output_type": "execute_result"
    }
   ],
   "source": [
    "print(\"año\" in historia)          # True\n",
    "print(len(historia))\n",
    "historia[\"módulo\"]=\"Eagle\"\n",
    "historia"
   ]
  },
  {
   "cell_type": "code",
   "execution_count": 13,
   "id": "b6841671",
   "metadata": {},
   "outputs": [
    {
     "data": {
      "text/plain": [
       "{'Apolo': 'XI', 'año': 1969, 'módulo': 'Eagle'}"
      ]
     },
     "execution_count": 13,
     "metadata": {},
     "output_type": "execute_result"
    }
   ],
   "source": [
    "historia.pop(\"astronauta\")\n",
    "historia"
   ]
  },
  {
   "cell_type": "markdown",
   "id": "6b476e12",
   "metadata": {},
   "source": [
    "## Añadir y borrar un elemento"
   ]
  },
  {
   "cell_type": "code",
   "execution_count": 2,
   "id": "167316ac",
   "metadata": {},
   "outputs": [
    {
     "data": {
      "text/plain": [
       "{'verde': ['green', 'vert'],\n",
       " 'rojo': ['red', 'rouge'],\n",
       " 'azul': ['blue', 'bleu']}"
      ]
     },
     "execution_count": 2,
     "metadata": {},
     "output_type": "execute_result"
    }
   ],
   "source": [
    "color = {'verde': ['green','vert'],\n",
    "        'rojo': ['red','rouge'],\n",
    "        'azul': ['blue','bleu']}\n",
    "color                                       # diccionario de colores con traducción en inglés y en francés"
   ]
  },
  {
   "cell_type": "code",
   "execution_count": 3,
   "id": "084f0077",
   "metadata": {},
   "outputs": [
    {
     "data": {
      "text/plain": [
       "{'verde': ['green', 'vert'],\n",
       " 'rojo': ['red', 'rouge'],\n",
       " 'azul': ['blue', 'bleu'],\n",
       " 'violeta': ['purple', 'violette']}"
      ]
     },
     "execution_count": 3,
     "metadata": {},
     "output_type": "execute_result"
    }
   ],
   "source": [
    "color['violeta'] = ['purple','violette']\n",
    "color"
   ]
  },
  {
   "cell_type": "code",
   "execution_count": 5,
   "id": "b53dc70d",
   "metadata": {},
   "outputs": [
    {
     "data": {
      "text/plain": [
       "{'verde': ['green', 'vert'],\n",
       " 'azul': ['blue', 'bleu'],\n",
       " 'violeta': ['purple', 'violette']}"
      ]
     },
     "execution_count": 5,
     "metadata": {},
     "output_type": "execute_result"
    }
   ],
   "source": [
    "del(color['rojo'])\n",
    "color"
   ]
  },
  {
   "cell_type": "markdown",
   "id": "2870f9df",
   "metadata": {},
   "source": [
    "## Operar con valores"
   ]
  },
  {
   "cell_type": "markdown",
   "id": "1907ee62",
   "metadata": {},
   "source": [
    "### Modificando el valor correspondiente a una clave."
   ]
  },
  {
   "cell_type": "code",
   "execution_count": 1,
   "id": "2f2a7206",
   "metadata": {},
   "outputs": [
    {
     "data": {
      "text/plain": [
       "{'Ana': 24, 'Luis': 27, 'Eva': 25, 'Raul': 26}"
      ]
     },
     "execution_count": 1,
     "metadata": {},
     "output_type": "execute_result"
    }
   ],
   "source": [
    "edad = {'Ana':23, 'Luis':27, 'Eva':25, 'Raul':26}\n",
    "edad['Ana'] += 1                                   # es el cumpleaños de Anaed\n",
    "edad"
   ]
  },
  {
   "cell_type": "markdown",
   "id": "b51c7526",
   "metadata": {},
   "source": [
    "### Comparando valores de varias claves"
   ]
  },
  {
   "cell_type": "code",
   "execution_count": 3,
   "id": "27756e03",
   "metadata": {},
   "outputs": [
    {
     "data": {
      "text/plain": [
       "True"
      ]
     },
     "execution_count": 3,
     "metadata": {},
     "output_type": "execute_result"
    }
   ],
   "source": [
    "edad['Ana'] < edad['Eva'] < edad['Raul']            # comparando los valores de varias claves"
   ]
  },
  {
   "cell_type": "markdown",
   "id": "cb0c38d1",
   "metadata": {},
   "source": [
    "## Listar clave, valor\n",
    "Usando bucles podemos listar el contenido de la clave y/o el valor de un diccionario."
   ]
  },
  {
   "cell_type": "code",
   "execution_count": 5,
   "id": "71e062fa",
   "metadata": {},
   "outputs": [
    {
     "name": "stdout",
     "output_type": "stream",
     "text": [
      "Ana\n",
      "Luis\n",
      "Eva\n",
      "Raul\n"
     ]
    }
   ],
   "source": [
    "for k in edad:               # obtenemos solo un listado de la clave\n",
    "    print(k)"
   ]
  },
  {
   "cell_type": "code",
   "execution_count": 6,
   "id": "5774173e",
   "metadata": {},
   "outputs": [
    {
     "name": "stdout",
     "output_type": "stream",
     "text": [
      "24\n",
      "27\n",
      "25\n",
      "26\n"
     ]
    }
   ],
   "source": [
    "for k in edad:               # conseguimos listar el valor\n",
    "    print(edad[k])"
   ]
  },
  {
   "cell_type": "code",
   "execution_count": 12,
   "id": "58c41835",
   "metadata": {},
   "outputs": [
    {
     "name": "stdout",
     "output_type": "stream",
     "text": [
      "Ana 24\n",
      "Luis 27\n",
      "Eva 25\n",
      "Raul 26\n"
     ]
    }
   ],
   "source": [
    "for k in edad:               # listamos ambos\n",
    "    print(k, edad[k])"
   ]
  },
  {
   "cell_type": "markdown",
   "id": "0ea901a4",
   "metadata": {},
   "source": [
    "### Usando items"
   ]
  },
  {
   "cell_type": "code",
   "execution_count": 11,
   "id": "0688d39a",
   "metadata": {},
   "outputs": [
    {
     "name": "stdout",
     "output_type": "stream",
     "text": [
      "Ana 24\n",
      "Luis 27\n",
      "Eva 25\n",
      "Raul 26\n"
     ]
    }
   ],
   "source": [
    "for k,v in edad.items():\n",
    "    print(k,v)"
   ]
  }
 ],
 "metadata": {
  "kernelspec": {
   "display_name": "Python 3",
   "language": "python",
   "name": "python3"
  },
  "language_info": {
   "codemirror_mode": {
    "name": "ipython",
    "version": 3
   },
   "file_extension": ".py",
   "mimetype": "text/x-python",
   "name": "python",
   "nbconvert_exporter": "python",
   "pygments_lexer": "ipython3",
   "version": "3.8.8"
  }
 },
 "nbformat": 4,
 "nbformat_minor": 5
}
