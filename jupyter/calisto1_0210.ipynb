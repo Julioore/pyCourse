{
 "cells": [
  {
   "cell_type": "markdown",
   "id": "bf18c881",
   "metadata": {},
   "source": [
    "# Diccionarios [2]"
   ]
  },
  {
   "cell_type": "code",
   "execution_count": 10,
   "id": "4d0416b0",
   "metadata": {},
   "outputs": [
    {
     "data": {
      "text/plain": [
       "{'Apolo': 11, 'astronauta': 'Neil Armstrong', 'año': 1969}"
      ]
     },
     "execution_count": 10,
     "metadata": {},
     "output_type": "execute_result"
    }
   ],
   "source": [
    "historia = {\n",
    "  \"Apolo\": 11,\n",
    "  \"astronauta\": \"Neil Armstrong\",\n",
    "  \"año\": 1969\n",
    "}\n",
    "historia"
   ]
  },
  {
   "cell_type": "code",
   "execution_count": 11,
   "id": "667b1403",
   "metadata": {},
   "outputs": [
    {
     "data": {
      "text/plain": [
       "{'Apolo': 'XI', 'astronauta': 'Neil Armstrong', 'año': 1969}"
      ]
     },
     "execution_count": 11,
     "metadata": {},
     "output_type": "execute_result"
    }
   ],
   "source": [
    "historia[\"Apolo\"]='XI'            # Cambiamos el valor de la clave Apolo\n",
    "historia"
   ]
  },
  {
   "cell_type": "code",
   "execution_count": 12,
   "id": "98fd9a06",
   "metadata": {},
   "outputs": [
    {
     "name": "stdout",
     "output_type": "stream",
     "text": [
      "True\n",
      "3\n"
     ]
    },
    {
     "data": {
      "text/plain": [
       "{'Apolo': 'XI', 'astronauta': 'Neil Armstrong', 'año': 1969, 'módulo': 'Eagle'}"
      ]
     },
     "execution_count": 12,
     "metadata": {},
     "output_type": "execute_result"
    }
   ],
   "source": [
    "print(\"año\" in historia)          # True\n",
    "print(len(historia))\n",
    "historia[\"módulo\"]=\"Eagle\"\n",
    "historia"
   ]
  },
  {
   "cell_type": "code",
   "execution_count": 13,
   "id": "b6841671",
   "metadata": {},
   "outputs": [
    {
     "data": {
      "text/plain": [
       "{'Apolo': 'XI', 'año': 1969, 'módulo': 'Eagle'}"
      ]
     },
     "execution_count": 13,
     "metadata": {},
     "output_type": "execute_result"
    }
   ],
   "source": [
    "historia.pop(\"astronauta\")\n",
    "historia"
   ]
  }
 ],
 "metadata": {
  "kernelspec": {
   "display_name": "Python 3",
   "language": "python",
   "name": "python3"
  },
  "language_info": {
   "codemirror_mode": {
    "name": "ipython",
    "version": 3
   },
   "file_extension": ".py",
   "mimetype": "text/x-python",
   "name": "python",
   "nbconvert_exporter": "python",
   "pygments_lexer": "ipython3",
   "version": "3.8.5"
  }
 },
 "nbformat": 4,
 "nbformat_minor": 5
}
