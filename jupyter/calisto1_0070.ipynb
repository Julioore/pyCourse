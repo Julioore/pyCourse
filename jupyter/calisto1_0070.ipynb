{
 "cells": [
  {
   "cell_type": "markdown",
   "id": "8a97d1c5",
   "metadata": {},
   "source": [
    "# Strings  \n",
    "  \n",
    "Las triples comillas permiten imprimir varias líneas"
   ]
  },
  {
   "cell_type": "code",
   "execution_count": null,
   "id": "69d61891",
   "metadata": {},
   "outputs": [],
   "source": [
    "cadena1 = \"Hola\"                                          #con \"\"\n",
    "cadena2 = 'Hola'                                          #con ''\n",
    "cadena1 == cadena2                                        #True"
   ]
  },
  {
   "cell_type": "code",
   "execution_count": null,
   "id": "38e37e18",
   "metadata": {},
   "outputs": [],
   "source": [
    "cadena3 = 'En los años 90's actuaban grandes bandas'     #error"
   ]
  },
  {
   "cell_type": "code",
   "execution_count": null,
   "id": "4be71b33",
   "metadata": {},
   "outputs": [],
   "source": [
    "print('En los años 90\\'s actuaban grandes bandas')"
   ]
  },
  {
   "cell_type": "code",
   "execution_count": null,
   "id": "256f5895",
   "metadata": {},
   "outputs": [],
   "source": [
    "print('Mis amigos: \\nAna \\tMadrid \\nLuis \\tSevilla \\nIsabel \\tSantander') "
   ]
  },
  {
   "cell_type": "code",
   "execution_count": null,
   "id": "17f372f0",
   "metadata": {},
   "outputs": [],
   "source": [
    "print('Secuencias de escape: \\\\  \\'  \\\"   ')"
   ]
  },
  {
   "cell_type": "code",
   "execution_count": null,
   "id": "e6dc381f",
   "metadata": {},
   "outputs": [],
   "source": [
    "print('''Tareas pendientes:\n",
    "\\tBuscar destino para las próximas vacaciones\n",
    "\\tBuscar una bici eléctrica''')"
   ]
  }
 ],
 "metadata": {
  "kernelspec": {
   "display_name": "Python 3",
   "language": "python",
   "name": "python3"
  },
  "language_info": {
   "codemirror_mode": {
    "name": "ipython",
    "version": 3
   },
   "file_extension": ".py",
   "mimetype": "text/x-python",
   "name": "python",
   "nbconvert_exporter": "python",
   "pygments_lexer": "ipython3",
   "version": "3.8.5"
  }
 },
 "nbformat": 4,
 "nbformat_minor": 5
}
