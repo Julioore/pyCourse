{
 "cells": [
  {
   "cell_type": "markdown",
   "id": "6560885d",
   "metadata": {},
   "source": [
    "# Variables  \n",
    "* Declaración &nbsp;&nbsp;&nbsp;→&nbsp;&nbsp; en Python no declaramos el tipo de las variables\n",
    "* Inicialización &nbsp;&nbsp;→&nbsp;&nbsp; cuando se asigna un primer valor\n",
    "* Asignación &nbsp;&nbsp;&nbsp;&nbsp;→&nbsp;&nbsp; cuando se modifica el valor de la variable\n"
   ]
  },
  {
   "cell_type": "code",
   "execution_count": null,
   "id": "9e8cf04e",
   "metadata": {},
   "outputs": [],
   "source": [
    "x = 3\n",
    "x = 10\n",
    "print(x)   # imprime 10 que es el último valor, una nueva asignación reemplaza el valor de la vble.\n",
    "x = x+1    # ahora la variable x vale 11.  Equivale a poner   x+=1   (contador)\n",
    "x"
   ]
  },
  {
   "cell_type": "code",
   "execution_count": null,
   "id": "8157ad7d",
   "metadata": {},
   "outputs": [],
   "source": [
    "a, b, c = 10, 20, 30             # asignación a múltiples variables\n",
    "print('a=',a,'b=',b,'c=',c)      # al separar con coma se deja un espacio\n",
    "print('a='+str(a)+', b='+str(b)+', c='+str(c))"
   ]
  },
  {
   "cell_type": "code",
   "execution_count": null,
   "id": "a852171d",
   "metadata": {},
   "outputs": [],
   "source": [
    "p = q = r = 1                    # las tres variables se asignan al mismo valor\n",
    "print('a=',a,'b=',b,'c=',c)\n",
    "print(f'a={a}, b={b}, c={c}')"
   ]
  },
  {
   "cell_type": "markdown",
   "id": "25a6156f",
   "metadata": {},
   "source": [
    "# Permutar valores  \n",
    "## Utilizando una variable auxiliar"
   ]
  },
  {
   "cell_type": "code",
   "execution_count": null,
   "id": "bcb071e5",
   "metadata": {},
   "outputs": [],
   "source": [
    "a = 10\n",
    "b = 20\n",
    "aux = a                          # creamos una variable auxiliar, se suele llamar aux o temp\n",
    "a = b\n",
    "b = aux\n",
    "print(f'a={a}, b={b}')"
   ]
  },
  {
   "cell_type": "markdown",
   "id": "113b1dee",
   "metadata": {},
   "source": [
    "## Python permite permutar en una sola línea"
   ]
  },
  {
   "cell_type": "code",
   "execution_count": null,
   "id": "ba95b435",
   "metadata": {},
   "outputs": [],
   "source": [
    "a, b = 10, 20\n",
    "a, b = b, a                      # otra forma maravillosa de permutar valores\n",
    "print(f'a={a}, b={b}')"
   ]
  },
  {
   "cell_type": "markdown",
   "id": "600dc401",
   "metadata": {},
   "source": [
    "# Constantes  \n",
    "En Python no hay que declarar las constantes.  \n",
    "Una constante es una variable que no cambiará durante la ejecución del programa.  \n",
    "Por convenio se nombran en mayúsculas, por ejemplo:"
   ]
  },
  {
   "cell_type": "code",
   "execution_count": null,
   "id": "52f642f5",
   "metadata": {},
   "outputs": [],
   "source": [
    "IVA = 0.21\n",
    "IVA"
   ]
  },
  {
   "cell_type": "markdown",
   "id": "5bbe8678",
   "metadata": {},
   "source": [
    "Otra opción es incorporar todas las constantes a un fichero y luego importar el fichero.  \n",
    "Creamos el archivo *constantes.py* en la subcarpeta *mypy* (o el nombre que quieras)"
   ]
  },
  {
   "cell_type": "code",
   "execution_count": null,
   "id": "188cd167",
   "metadata": {},
   "outputs": [],
   "source": [
    "# este es el contenido del archivo constantes.py\n",
    "LUZ = 299708  #velocidad de la luz en km/s\n",
    "G = 9.832     #gravedad de la tierra m/s2"
   ]
  },
  {
   "cell_type": "markdown",
   "id": "a222b7f1",
   "metadata": {},
   "source": [
    "Luego importamos la constante LUZ con alguno de los siguientes métodos."
   ]
  },
  {
   "cell_type": "markdown",
   "id": "6573f36c",
   "metadata": {},
   "source": [
    "### Método 1 importando todo el módulo\n",
    "Antes de ejecutar este método podemos limpiar el kernel. "
   ]
  },
  {
   "cell_type": "code",
   "execution_count": null,
   "id": "a55a1dce",
   "metadata": {},
   "outputs": [],
   "source": [
    "from mypy.constantes import *\n",
    "max_tiempo_hasta_luna = 406700 / LUZ\n",
    "print(max_tiempo_hasta_luna, 'segundos')"
   ]
  },
  {
   "cell_type": "markdown",
   "id": "922e8c8e",
   "metadata": {},
   "source": [
    "### Método 2 importando solo una constante\n",
    "Antes de ejecutar este método podemos limpiar el kernel. "
   ]
  },
  {
   "cell_type": "code",
   "execution_count": null,
   "id": "3f9df4d5",
   "metadata": {},
   "outputs": [],
   "source": [
    "from mypy.constantes import LUZ\n",
    "max_tiempo_hasta_luna = 406700 / LUZ\n",
    "print(max_tiempo_hasta_luna, 'segundos')"
   ]
  },
  {
   "cell_type": "markdown",
   "id": "583bd389",
   "metadata": {},
   "source": [
    "### Método 3 importando todas las constantes\n",
    "Antes de ejecutar este método podemos limpiar el kernel. "
   ]
  },
  {
   "cell_type": "code",
   "execution_count": null,
   "id": "7562442b",
   "metadata": {},
   "outputs": [],
   "source": [
    "import mypy.constantes\n",
    "max_tiempo_hasta_luna = 406700 / mypy.constantes.LUZ\n",
    "print(max_tiempo_hasta_luna, 'segundos')"
   ]
  },
  {
   "cell_type": "markdown",
   "id": "7c24e14e",
   "metadata": {},
   "source": [
    "### Método 4 importando con un alias\n",
    "Antes de ejecutar este método podemos limpiar el kernel. "
   ]
  },
  {
   "cell_type": "code",
   "execution_count": null,
   "id": "7057eaf1",
   "metadata": {},
   "outputs": [],
   "source": [
    "import mypy.constantes as cte                # podemos poner el alias que queramos\n",
    "max_tiempo_hasta_luna = 406700 / cte.LUZ\n",
    "print(max_tiempo_hasta_luna, 'segundos')"
   ]
  },
  {
   "cell_type": "markdown",
   "id": "32254ff8",
   "metadata": {},
   "source": [
    "## Podemos correr un archivo .py\n",
    "Podemos correr un archivo .py dando la orden desde una celda de Jupyter notebook.  \n",
    "Esto es una forma alternativa de proceder, si estamos trabajando desde un Jupyter notebook o un Jupyter lab.\n",
    "\n",
    "[Celdas mágicas](https://ipython.readthedocs.io/en/stable/interactive/magics.html#magic-run)"
   ]
  },
  {
   "cell_type": "code",
   "execution_count": null,
   "id": "bb8c1da5",
   "metadata": {},
   "outputs": [],
   "source": [
    "%run mypy/constantes.py      # con el % interactuamos con el sistema operativo (con la terminal)\n",
    "LUZ"
   ]
  }
 ],
 "metadata": {
  "kernelspec": {
   "display_name": "Python 3",
   "language": "python",
   "name": "python3"
  },
  "language_info": {
   "codemirror_mode": {
    "name": "ipython",
    "version": 3
   },
   "file_extension": ".py",
   "mimetype": "text/x-python",
   "name": "python",
   "nbconvert_exporter": "python",
   "pygments_lexer": "ipython3",
   "version": "3.8.8"
  }
 },
 "nbformat": 4,
 "nbformat_minor": 5
}
