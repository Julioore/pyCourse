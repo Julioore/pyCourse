{
 "cells": [
  {
   "cell_type": "markdown",
   "id": "4489f00b",
   "metadata": {},
   "source": [
    "# Strings  \n",
    "  \n",
    "Las triples comillas permiten imprimir varias líneas"
   ]
  },
  {
   "cell_type": "code",
   "execution_count": null,
   "id": "48b0180b",
   "metadata": {},
   "outputs": [],
   "source": [
    "cadena1 = \"Hola\"                                          #con \"\"\n",
    "cadena2 = 'Hola'                                          #con ''\n",
    "cadena1 == cadena2                                        #True"
   ]
  },
  {
   "cell_type": "code",
   "execution_count": null,
   "id": "7199de29",
   "metadata": {},
   "outputs": [],
   "source": [
    "cadena3 = 'En los años 90's actuaban grandes bandas'     #error"
   ]
  },
  {
   "cell_type": "code",
   "execution_count": null,
   "id": "a1768d79",
   "metadata": {},
   "outputs": [],
   "source": [
    "print('En los años 90\\'s actuaban grandes bandas')"
   ]
  },
  {
   "cell_type": "code",
   "execution_count": null,
   "id": "ce53d6c3",
   "metadata": {},
   "outputs": [],
   "source": [
    "print('Mis amigos: \\nAna \\tMadrid \\nLuis \\tSevilla \\nIsabel \\tSantander') "
   ]
  },
  {
   "cell_type": "code",
   "execution_count": null,
   "id": "c9f63a92",
   "metadata": {},
   "outputs": [],
   "source": [
    "print('Secuencias de escape: \\\\  \\'  \\\"   ')"
   ]
  },
  {
   "cell_type": "code",
   "execution_count": null,
   "id": "7fe9ea09",
   "metadata": {},
   "outputs": [],
   "source": [
    "print('''Tareas pendientes:\n",
    "\\tBuscar destino para las próximas vacaciones\n",
    "\\tBuscar una bici eléctrica''')"
   ]
  }
 ],
 "metadata": {
  "kernelspec": {
   "display_name": "Python 3",
   "language": "python",
   "name": "python3"
  },
  "language_info": {
   "codemirror_mode": {
    "name": "ipython",
    "version": 3
   },
   "file_extension": ".py",
   "mimetype": "text/x-python",
   "name": "python",
   "nbconvert_exporter": "python",
   "pygments_lexer": "ipython3",
   "version": "3.8.8"
  }
 },
 "nbformat": 4,
 "nbformat_minor": 5
}
