{
 "cells": [
  {
   "cell_type": "markdown",
   "id": "4f79d568",
   "metadata": {},
   "source": [
    "# Funciones. Pasar por referencia o por valor [1]"
   ]
  },
  {
   "cell_type": "markdown",
   "id": "7c981084",
   "metadata": {},
   "source": [
    "Pasar variables por referencia o por valor (variables by reference by value)  \n",
    "enviar argumentos por referencia o por copia, a las funciones  \n",
    "los parámetros que recibe una función pueden ser referencias o pueden ser copias.\n",
    "\n",
    "* En Python los argumentos se pasan por **valor**.    \n",
    "  - Esto significa que se crea una copia, dentro de la función, de los valores que enviamos, en sus propias variables.\n",
    "\n",
    "* Excepto las colecciones (listas, tuplas, diccionarios y conjuntos) que se envían por **referencia**.\n",
    "  - Esto significa que dentro de la función estaremos manejando el dato original.\n"
   ]
  },
  {
   "cell_type": "markdown",
   "id": "a466d92f",
   "metadata": {},
   "source": [
    "## Pasar argumentos por valor\n",
    "Enviar un argumento a una función por **valor**  \n",
    "\n",
    "Válido para cualquier argumento de tipo valor o primitivo:  \n",
    "- número real (integer, long, float), string, boolean, None (nulo o vacío)"
   ]
  },
  {
   "cell_type": "code",
   "execution_count": 1,
   "id": "dc743026",
   "metadata": {},
   "outputs": [
    {
     "name": "stdout",
     "output_type": "stream",
     "text": [
      "5\n"
     ]
    }
   ],
   "source": [
    "x = 5\n",
    "\n",
    "def incrementa(n): # n es una copia de x, ocupan diferente lugar en memoria, ambos valen 10\n",
    "    n += 2         # al sumar 2 a n, el valor de n pasa a ser 7 pero no se altera el valor de x\n",
    "                   # ya que n era una copia de x en diferente lugar de memoria\n",
    "incrementa(x)\n",
    "print(x)           # 5"
   ]
  },
  {
   "cell_type": "markdown",
   "id": "31afe567",
   "metadata": {},
   "source": [
    "## Pasar argumentos por referencia\n",
    "Enviar un argumento a una función por **referencia**\n",
    "\n",
    "Válido para los tipos estructurados o no primitivos"
   ]
  },
  {
   "cell_type": "code",
   "execution_count": 2,
   "id": "ac70f0ca",
   "metadata": {},
   "outputs": [
    {
     "name": "stdout",
     "output_type": "stream",
     "text": [
      "[10, 0, 0]\n"
     ]
    }
   ],
   "source": [
    "x = [0,0,0]        # la instancia x es una lista, se guarda en memoria de forma dinámica (puede crecer)\n",
    "\n",
    "def suma(y):       # y no es copia de x, simplemente hace referencia a una misma dirección de memoria,\n",
    "    y[0] += 10     # se envía como parámetro la dirección de memoria que ocupa el objeto x\n",
    "\n",
    "suma(x)\n",
    "print(x)           # [10, 0, 0]"
   ]
  },
  {
   "cell_type": "markdown",
   "id": "55224b09",
   "metadata": {},
   "source": [
    "## Conseguir pasar colecciones por valor\n",
    "Colecciones:\n",
    "- Listas\n",
    "- Tuplas\n",
    "- Diccionarios\n",
    "- Conjuntos\n",
    "\n",
    "Siempre que tengamos referencias a objetos al cambiar la referencia, todas las demás variables,  \n",
    "que apunten a este objeto, verán los cambios de forma inmediata.  \n",
    "Para que esto no suceda, primero tendríamos que crear una copia de la lista para luego ser modificada"
   ]
  },
  {
   "cell_type": "code",
   "execution_count": 4,
   "id": "f1f6e688",
   "metadata": {},
   "outputs": [
    {
     "name": "stdout",
     "output_type": "stream",
     "text": [
      "[0, 0, 0]\n"
     ]
    }
   ],
   "source": [
    "x = [0,0,0]\n",
    "\n",
    "def suma2(y):\n",
    "    y_copia=y[:]       # hacemos una copia de la lista\n",
    "    y_copia[0] += 10   # trabajamos con la copia para que la lista original no se altere\n",
    "\n",
    "suma2(x)\n",
    "print(x)               # [0, 0, 0]  comprobamos que la lista original no se ha alterado"
   ]
  },
  {
   "cell_type": "markdown",
   "id": "54293fd0",
   "metadata": {},
   "source": [
    "### Pasando directamente la copia\n",
    "Es una variante del caso anterior donde, al invocar la función, pasamos directamente la copia de la lista."
   ]
  },
  {
   "cell_type": "code",
   "execution_count": 5,
   "id": "426425b5",
   "metadata": {},
   "outputs": [
    {
     "name": "stdout",
     "output_type": "stream",
     "text": [
      "[0, 0, 0]\n"
     ]
    }
   ],
   "source": [
    "x = [0,0,0]\n",
    "\n",
    "def suma2(y):\n",
    "    y[0] += 10         # trabajamos con la copia para que la lista original no se altere\n",
    "\n",
    "suma2(x[:])            # al invocar la función la pasamos como argumento una copia de la lista\n",
    "print(x)               # [0, 0, 0]  comprobamos que la lista original no se ha alterado"
   ]
  },
  {
   "cell_type": "markdown",
   "id": "77b6bd48",
   "metadata": {},
   "source": [
    "### Si no deseamos perder el valor de la variable interna\n",
    "En este caso debemos añadir un return a la función y luego añadir un print"
   ]
  },
  {
   "cell_type": "code",
   "execution_count": 4,
   "id": "4f20f96c",
   "metadata": {},
   "outputs": [
    {
     "name": "stdout",
     "output_type": "stream",
     "text": [
      "[10, 0, 0]\n",
      "[0, 0, 0]\n"
     ]
    }
   ],
   "source": [
    "x = [0,0,0]\n",
    "\n",
    "def suma3(y):\n",
    "    y_copia=y[:]\n",
    "    y_copia[0] += 10\n",
    "    return y_copia     # añadimos un return para no perder el valor de la variable interna\n",
    "\n",
    "print(suma3(x))        # [10,0,0] al añadir un print imprimimos el valor retornado por la función\n",
    "print(x)               # [0,0,0] comprobamos que la lista original no se ha alterado"
   ]
  },
  {
   "cell_type": "markdown",
   "id": "97fc1a0b",
   "metadata": {},
   "source": [
    "## Conseguir pasar valores primitivos por referencia\n",
    "En realidad esto no es posible, pero existe un truco que da el mismo resultado.  \n",
    "Es necesario hacer dos pasos:\n",
    "- devolver el resultado modificado dentro de la función y\n",
    "- luego, fuera de la función, volverlo a asignar a la variable."
   ]
  },
  {
   "cell_type": "code",
   "execution_count": 2,
   "id": "2714dca6",
   "metadata": {},
   "outputs": [
    {
     "name": "stdout",
     "output_type": "stream",
     "text": [
      "7\n"
     ]
    }
   ],
   "source": [
    "x = 5\n",
    "\n",
    "def aumenta(n):\n",
    "    return n+2     # retornamos el valor de lav variable ya modificado\n",
    "\n",
    "x=aumenta(x)       # asignamos el resultado de la función a la variable\n",
    "print(x)           # 7"
   ]
  }
 ],
 "metadata": {
  "kernelspec": {
   "display_name": "Python 3",
   "language": "python",
   "name": "python3"
  },
  "language_info": {
   "codemirror_mode": {
    "name": "ipython",
    "version": 3
   },
   "file_extension": ".py",
   "mimetype": "text/x-python",
   "name": "python",
   "nbconvert_exporter": "python",
   "pygments_lexer": "ipython3",
   "version": "3.8.8"
  }
 },
 "nbformat": 4,
 "nbformat_minor": 5
}
