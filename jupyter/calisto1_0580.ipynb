{
 "cells": [
  {
   "cell_type": "markdown",
   "metadata": {},
   "source": [
    "# Funciones. Pasar por referencia o por valor [1]"
   ]
  },
  {
   "cell_type": "markdown",
   "metadata": {},
   "source": [
    "Pasar variables por referencia o por valor (variables by reference by value)  \n",
    "enviar valores por referencia o por copia a las funciones  \n",
    "los parámetros que recibe una función pueden ser referencias o pueden ser copias."
   ]
  },
  {
   "cell_type": "markdown",
   "metadata": {},
   "source": [
    "## Ejemplo1\n",
    "enviar un parámetro a una función por valor  \n",
    "válido para cualquier argumento de tipo valor o primitivo:  \n",
    "número real (integer, long, float), string, boolean, None (nulo o vacío)"
   ]
  },
  {
   "cell_type": "code",
   "execution_count": 1,
   "metadata": {},
   "outputs": [
    {
     "name": "stdout",
     "output_type": "stream",
     "text": [
      "5\n"
     ]
    }
   ],
   "source": [
    "x = 5\n",
    "def incrementa(n): #n es una copia de x, ocupan diferente lugar en memoria, ambos valen 10\n",
    "    n += 2         #al sumar 2 a n, el valor de n pasa a ser 7 pero no se altera el valor de x\n",
    "                   # ya que n era una copia de x en diferente lugar de memoria\n",
    "incrementa(x)\n",
    "print(x)           #5"
   ]
  },
  {
   "cell_type": "markdown",
   "metadata": {},
   "source": [
    "## Ejemplo2  \n",
    "enviar un parámetro a una función por referencia    \n",
    "válido para los tipos estructurados o no primitivos"
   ]
  },
  {
   "cell_type": "code",
   "execution_count": 2,
   "metadata": {},
   "outputs": [
    {
     "name": "stdout",
     "output_type": "stream",
     "text": [
      "[10, 0, 0]\n"
     ]
    }
   ],
   "source": [
    "x = [0,0,0] #la instancia x es una lista, se guarda en memoria de forma dinámica (puede crecer)\n",
    "def suma(y): #y no es copia de x, simplemente hace referencia a una misma dirección de memoria, se envía como parámetro la dirección de memoria que ocupa el objeto x\n",
    "    y[0] += 10\n",
    "suma(x)\n",
    "print(x)               #[10, 0, 0]"
   ]
  },
  {
   "cell_type": "markdown",
   "metadata": {},
   "source": [
    "siempre que tengamos referencias a objetos al cambiar la referencia todas las demás variables  \n",
    "que apunten a este objeto verán los cambios de forma inmediata  \n",
    "para que esto suceda 1° tendríamos que crear una copia de la lista para luego ser modificada"
   ]
  },
  {
   "cell_type": "code",
   "execution_count": 3,
   "metadata": {},
   "outputs": [
    {
     "name": "stdout",
     "output_type": "stream",
     "text": [
      "[0, 0, 0]\n"
     ]
    }
   ],
   "source": [
    "x = [0,0,0]\n",
    "def suma2(y):\n",
    "    y_copia=y[:]       #hacemos una copia de la lista\n",
    "    y_copia[0] += 10   #trabajamos con la copia para que la lista original no se altere\n",
    "suma2(x)\n",
    "print(x)               #[0, 0, 0]  comprobamos que la lista original no se ha alterado"
   ]
  },
  {
   "cell_type": "markdown",
   "metadata": {},
   "source": [
    "si no deseamos perder el valor de la variable interna debemos añadir un return a la función  \n",
    "y luego añadir un print"
   ]
  },
  {
   "cell_type": "code",
   "execution_count": 4,
   "metadata": {},
   "outputs": [
    {
     "name": "stdout",
     "output_type": "stream",
     "text": [
      "[10, 0, 0]\n",
      "[0, 0, 0]\n"
     ]
    }
   ],
   "source": [
    "x = [0,0,0]\n",
    "def suma3(y):\n",
    "    y_copia=y[:]\n",
    "    y_copia[0] += 10\n",
    "    return y_copia     #añadimos un return para no perder el valor de la variable interna\n",
    "print(suma3(x))        #[10,0,0] al añadir un print imprimimos el valor retornado por la función\n",
    "print(x)               #[0,0,0] comprobamos que la lista original no se ha alterado"
   ]
  }
 ],
 "metadata": {
  "kernelspec": {
   "display_name": "Python 3",
   "language": "python",
   "name": "python3"
  },
  "language_info": {
   "codemirror_mode": {
    "name": "ipython",
    "version": 3
   },
   "file_extension": ".py",
   "mimetype": "text/x-python",
   "name": "python",
   "nbconvert_exporter": "python",
   "pygments_lexer": "ipython3",
   "version": "3.8.5"
  }
 },
 "nbformat": 4,
 "nbformat_minor": 5
}
