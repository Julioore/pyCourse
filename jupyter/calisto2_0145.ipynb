{
 "cells": [
  {
   "cell_type": "markdown",
   "id": "04d85727",
   "metadata": {},
   "source": [
    "# Ejemplos sin herencia [4]"
   ]
  },
  {
   "cell_type": "code",
   "execution_count": null,
   "id": "83ac3c43",
   "metadata": {},
   "outputs": [],
   "source": [
    "class Cliente:                                       # una clase para los clientes\n",
    "    \n",
    "    def __init__(self, dni, nombre, apellidos):\n",
    "        self.dni = dni\n",
    "        self.nombre = nombre\n",
    "        self.apellidos = apellidos\n",
    "        \n",
    "    def __str__(self):\n",
    "        return f'{self.nombre} {self.apellidos} con DNI {self.dni}.'\n",
    "\n",
    "class Empresa:                                        # otra clase para las empresas\n",
    "    \n",
    "    def __init__(self, clientes=[]):\n",
    "        self.clientes = clientes\n",
    "        \n",
    "    def get_cliente(self, dni = None):\n",
    "        for c in self.clientes:\n",
    "            if c.dni == dni:\n",
    "                print(\"El clientes es:\",c) # si no existiera __str__ no funcionaría poner c, sería: c.nombre, c.apellidos\n",
    "                return\n",
    "        print('Cliente no encontrado.')\n",
    "        \n",
    "    def del_cliente(self, dni = None):\n",
    "        for i,c in enumerate(self.clientes):\n",
    "            if c.dni == dni:\n",
    "                del(self.clientes[i])\n",
    "                print(f'{c} → BORRADO')    # sin __str__ se tendría que poner: {c.nombre} {c.apellidos}\n",
    "                return\n",
    "        print('Cliente no encontrado.')"
   ]
  },
  {
   "cell_type": "code",
   "execution_count": null,
   "id": "9ca55b16",
   "metadata": {},
   "outputs": [],
   "source": [
    "jose = Cliente(nombre=\"Jose Luis\", apellidos=\"Ruiz\", dni=\"123A\") # creamos un cliente\n",
    "rober = Cliente(\"444B\",\"Roberto\",\"Lopez\")                        # creamos otro cliente\n",
    "empresa =Empresa(clientes=[jose,rober])                          # creamos una empresa con los clientes"
   ]
  },
  {
   "cell_type": "code",
   "execution_count": null,
   "id": "2f175f40",
   "metadata": {},
   "outputs": [],
   "source": [
    "empresa.clientes                          # listado de clientes, vemos solo los objetos con la dirección de memoria"
   ]
  },
  {
   "cell_type": "code",
   "execution_count": null,
   "id": "93f33f39",
   "metadata": {},
   "outputs": [],
   "source": [
    "empresa.get_cliente(\"123A\")                                      # consultamos un cliente por dni"
   ]
  },
  {
   "cell_type": "code",
   "execution_count": null,
   "id": "f9947367",
   "metadata": {},
   "outputs": [],
   "source": [
    "empresa.del_cliente(\"123A\")                                      # borro un cliente por dni\n",
    "empresa.clientes                                                 # muestro de nuevo todos los clientes"
   ]
  },
  {
   "cell_type": "code",
   "execution_count": null,
   "id": "e4e24f9b",
   "metadata": {},
   "outputs": [],
   "source": [
    "empresa.del_cliente(\"123Z\")                                      # borro un cliente con dni inexistente"
   ]
  }
 ],
 "metadata": {
  "kernelspec": {
   "display_name": "Python 3",
   "language": "python",
   "name": "python3"
  },
  "language_info": {
   "codemirror_mode": {
    "name": "ipython",
    "version": 3
   },
   "file_extension": ".py",
   "mimetype": "text/x-python",
   "name": "python",
   "nbconvert_exporter": "python",
   "pygments_lexer": "ipython3",
   "version": "3.8.8"
  }
 },
 "nbformat": 4,
 "nbformat_minor": 5
}
