{
 "cells": [
  {
   "cell_type": "markdown",
   "id": "1e095521",
   "metadata": {},
   "source": [
    "# Exportar los DataFrame de Pandas  \n",
    "Veamos cómo exportar los Panda DataFrame."
   ]
  },
  {
   "cell_type": "markdown",
   "id": "962388c9",
   "metadata": {},
   "source": [
    "## Exportar a Excel"
   ]
  },
  {
   "cell_type": "code",
   "execution_count": null,
   "id": "74107392",
   "metadata": {},
   "outputs": [],
   "source": [
    "import pandas as pd           # importamos la librería Pandas"
   ]
  },
  {
   "cell_type": "markdown",
   "id": "034c3546",
   "metadata": {},
   "source": [
    "## Exportar a csv"
   ]
  },
  {
   "cell_type": "code",
   "execution_count": null,
   "id": "41bbb89e",
   "metadata": {},
   "outputs": [],
   "source": [
    "import pandas as pd           # importamos la librería Pandas"
   ]
  }
 ],
 "metadata": {
  "kernelspec": {
   "display_name": "Python 3",
   "language": "python",
   "name": "python3"
  },
  "language_info": {
   "codemirror_mode": {
    "name": "ipython",
    "version": 3
   },
   "file_extension": ".py",
   "mimetype": "text/x-python",
   "name": "python",
   "nbconvert_exporter": "python",
   "pygments_lexer": "ipython3",
   "version": "3.8.8"
  }
 },
 "nbformat": 4,
 "nbformat_minor": 5
}
