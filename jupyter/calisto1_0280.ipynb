{
 "cells": [
  {
   "cell_type": "markdown",
   "id": "01dbef72",
   "metadata": {},
   "source": [
    "# Estructura condicional: ```if``` ... ```elif```"
   ]
  },
  {
   "cell_type": "code",
   "execution_count": null,
   "id": "4e5ca237",
   "metadata": {},
   "outputs": [],
   "source": [
    "a=10\n",
    "b=20                                   #tres condicionales if independientes\n",
    "if a == b:\n",
    "    print(\"a es igual a b\")\n",
    "if a<b:\n",
    "    print(\"a es menor que b\")\n",
    "if a>b:\n",
    "    print(\"a es mayor que b\")\n"
   ]
  },
  {
   "cell_type": "code",
   "execution_count": null,
   "id": "f8e8b438",
   "metadata": {},
   "outputs": [],
   "source": [
    "a=10\n",
    "b=20                                  #una única estructura if con varios casos\n",
    "if a == b:\n",
    "    print(\"a es igual a b\")\n",
    "elif a<b:\n",
    "    print(\"a es menor que b\")\n",
    "elif a>b:\n",
    "    print(\"a es mayor que b\")\n"
   ]
  },
  {
   "cell_type": "markdown",
   "id": "5b3eadf0",
   "metadata": {},
   "source": [
    "## Intervalos  \n",
    "Asignar valores según el intervalo en el que se encuentre.  \n",
    "![tabla_con_los_intervalos](img/tablanotas.png)"
   ]
  },
  {
   "cell_type": "code",
   "execution_count": 1,
   "id": "2d8d964d",
   "metadata": {},
   "outputs": [
    {
     "name": "stdout",
     "output_type": "stream",
     "text": [
      "Introduzca la nota: 7\n",
      "calificación: Notable\n"
     ]
    }
   ],
   "source": [
    "nota = float(input(\"Introduzca la nota: \"))   #calificación de un examen\n",
    "if nota<5:\n",
    "    print(\"calificación: Suspenso\")\n",
    "elif nota<7:\n",
    "    print(\"calificación: Aprobado\")\n",
    "elif nota<9:\n",
    "    print(\"calificación: Notable\")\n",
    "else:\n",
    "    print(\"calificación: Sobresaliente\")"
   ]
  },
  {
   "cell_type": "markdown",
   "id": "440947f4",
   "metadata": {},
   "source": [
    "**Ejercicio**  \n",
    "Pruebe a informar en caso de notas negativas o notas que superen el 10.  \n",
    "Modifique el código para que el 10 sea \"Matrícula de Honor\"."
   ]
  }
 ],
 "metadata": {
  "kernelspec": {
   "display_name": "Python 3",
   "language": "python",
   "name": "python3"
  },
  "language_info": {
   "codemirror_mode": {
    "name": "ipython",
    "version": 3
   },
   "file_extension": ".py",
   "mimetype": "text/x-python",
   "name": "python",
   "nbconvert_exporter": "python",
   "pygments_lexer": "ipython3",
   "version": "3.8.10"
  }
 },
 "nbformat": 4,
 "nbformat_minor": 5
}
