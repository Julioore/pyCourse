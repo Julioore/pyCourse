{
 "cells": [
  {
   "cell_type": "markdown",
   "id": "cf60e6fc",
   "metadata": {},
   "source": [
    "# Listas [4] Operaciones y funciones"
   ]
  },
  {
   "cell_type": "markdown",
   "id": "dd15b7e4",
   "metadata": {},
   "source": [
    "## Operaciones con listas  \n",
    "Tamaño       →  len(lista)  \n",
    "Concatenar   →  [1,2]+[3,4]  \n",
    "Repetir      →  [\"hola\"]*3  \n",
    "Iterar       →  for i in lista  \n",
    "Es parte de  →  4 in lista          # operador de pertenencia: in  \n",
    "No es parte de →  5 not in lista    # operador de pertenencia: not in"
   ]
  },
  {
   "cell_type": "markdown",
   "id": "755a1a1e",
   "metadata": {},
   "source": [
    "### Concatenar listas"
   ]
  },
  {
   "cell_type": "code",
   "execution_count": null,
   "id": "45201dd0",
   "metadata": {},
   "outputs": [],
   "source": [
    "lista = [1,2] + [3,4]         # uniendo dos listas\n",
    "print(lista)                  # [1, 2, 3, 4]"
   ]
  },
  {
   "cell_type": "markdown",
   "id": "8ca260ec",
   "metadata": {},
   "source": [
    "### len()"
   ]
  },
  {
   "cell_type": "code",
   "execution_count": null,
   "id": "c36c5655",
   "metadata": {},
   "outputs": [],
   "source": [
    "print(len(lista))             # 4"
   ]
  },
  {
   "cell_type": "markdown",
   "id": "c8302f82",
   "metadata": {},
   "source": [
    "### Repetir"
   ]
  },
  {
   "cell_type": "code",
   "execution_count": null,
   "id": "2f67923c",
   "metadata": {},
   "outputs": [],
   "source": [
    "saluda = [\"hola\"]*3\n",
    "print(saluda)                 # ['hola', 'hola', 'hola']"
   ]
  },
  {
   "cell_type": "markdown",
   "id": "e594de99",
   "metadata": {},
   "source": [
    "### Iterar"
   ]
  },
  {
   "cell_type": "code",
   "execution_count": null,
   "id": "a462a75e",
   "metadata": {},
   "outputs": [],
   "source": [
    "for i in lista:\n",
    "    print(i)                  # 1 2 3 4 en columna"
   ]
  },
  {
   "cell_type": "markdown",
   "id": "51a87b78",
   "metadata": {},
   "source": [
    "### in"
   ]
  },
  {
   "cell_type": "code",
   "execution_count": null,
   "id": "93fe0e28",
   "metadata": {},
   "outputs": [],
   "source": [
    "print(\"bye\" in saluda)        # False"
   ]
  },
  {
   "cell_type": "code",
   "execution_count": null,
   "id": "16697edc",
   "metadata": {},
   "outputs": [],
   "source": [
    "print(\"hola\" in saluda)        # True"
   ]
  },
  {
   "cell_type": "markdown",
   "id": "48bd3236",
   "metadata": {},
   "source": [
    "### not in"
   ]
  },
  {
   "cell_type": "code",
   "execution_count": null,
   "id": "dc0280e4",
   "metadata": {},
   "outputs": [],
   "source": [
    "print(\"hi\" not in saluda)      # True"
   ]
  },
  {
   "cell_type": "markdown",
   "id": "d1db79de",
   "metadata": {},
   "source": [
    "## Algunas funciones  \n",
    "append(elemento)  \n",
    "pop()  \n",
    "remove(elemento)\t                 # si elemento no está en la lista da  error  \n",
    "index(elemento)                      # devuelve el índice que ocupa el elemento  \n",
    "insert(indice,elemento)  \n",
    "clear()  "
   ]
  },
  {
   "cell_type": "markdown",
   "id": "3cddf00c",
   "metadata": {},
   "source": [
    "### appned()"
   ]
  },
  {
   "cell_type": "code",
   "execution_count": null,
   "id": "6336047a",
   "metadata": {},
   "outputs": [],
   "source": [
    "saluda.append(\"hi\")\n",
    "print(saluda)                 # ['hola', 'hola', 'hola', 'hi']"
   ]
  },
  {
   "cell_type": "markdown",
   "id": "91059c17",
   "metadata": {},
   "source": [
    "### pop()"
   ]
  },
  {
   "cell_type": "code",
   "execution_count": null,
   "id": "8f213dbf",
   "metadata": {},
   "outputs": [],
   "source": [
    "eliminado = saluda.pop()\n",
    "print(saluda)                 # ['hola', 'hola', 'hola']\n",
    "print(eliminado)              # hi"
   ]
  },
  {
   "cell_type": "markdown",
   "id": "f56e5d28",
   "metadata": {},
   "source": [
    "### clear()"
   ]
  },
  {
   "cell_type": "code",
   "execution_count": null,
   "id": "8f3a3b5c",
   "metadata": {},
   "outputs": [],
   "source": [
    "saluda.clear()\n",
    "print(saluda)                 # []"
   ]
  },
  {
   "cell_type": "markdown",
   "id": "d81c87c2",
   "metadata": {},
   "source": [
    "### remove()"
   ]
  },
  {
   "cell_type": "code",
   "execution_count": null,
   "id": "73b74562",
   "metadata": {},
   "outputs": [],
   "source": [
    "l = [10,20,30,40]             # nueva lista l\n",
    "print(l)                      # [10, 20, 30, 40]\n",
    "l.remove(20)\n",
    "print(l)                      # [10, 30, 40]"
   ]
  },
  {
   "cell_type": "markdown",
   "id": "03116007",
   "metadata": {},
   "source": [
    "### index()"
   ]
  },
  {
   "cell_type": "code",
   "execution_count": null,
   "id": "b48bfa3a",
   "metadata": {},
   "outputs": [],
   "source": [
    "print(l.index(40))            # 2    el valor 40 ocupa ahora el índice 2"
   ]
  },
  {
   "cell_type": "markdown",
   "id": "7fb92459",
   "metadata": {},
   "source": [
    "### insert()"
   ]
  },
  {
   "cell_type": "code",
   "execution_count": null,
   "id": "afd01c86",
   "metadata": {},
   "outputs": [],
   "source": [
    "l.insert(1,\"20\")              # insertamos un valor tipo string\n",
    "print(l)                      # [10, '20', 30, 40]"
   ]
  },
  {
   "cell_type": "markdown",
   "id": "7035ba7d",
   "metadata": {},
   "source": [
    "### No es lo mismo 30 que [30]"
   ]
  },
  {
   "cell_type": "code",
   "execution_count": null,
   "id": "7ce07de4",
   "metadata": {},
   "outputs": [],
   "source": [
    "print(l[2])                   # 30        valor 30\n",
    "print(l[2:3])                 # [30]      lista con un único valor\n",
    "print(l[2] == l[2:3])         # False     no es lo mismo un valor que una lista con un único valor"
   ]
  },
  {
   "cell_type": "markdown",
   "id": "f8cf534e",
   "metadata": {},
   "source": [
    "### Iterar"
   ]
  },
  {
   "cell_type": "code",
   "execution_count": null,
   "id": "da2d4f2c",
   "metadata": {},
   "outputs": [],
   "source": [
    "colores = ['amarillo','rojo','verde','azul','naranja']\n",
    "for i in colores:\n",
    "    print(i)"
   ]
  },
  {
   "cell_type": "markdown",
   "id": "ebdbcc7a",
   "metadata": {},
   "source": [
    "### append()"
   ]
  },
  {
   "cell_type": "code",
   "execution_count": null,
   "id": "cbd0a26b",
   "metadata": {},
   "outputs": [],
   "source": [
    "colores.append('magenta')\n",
    "colores"
   ]
  },
  {
   "cell_type": "markdown",
   "id": "c4a0967b",
   "metadata": {},
   "source": [
    "### remove()"
   ]
  },
  {
   "cell_type": "code",
   "execution_count": null,
   "id": "2ec68e73",
   "metadata": {},
   "outputs": [],
   "source": [
    "colores.remove('naranja')\n",
    "colores"
   ]
  },
  {
   "cell_type": "markdown",
   "id": "1e224026",
   "metadata": {},
   "source": [
    "### index()"
   ]
  },
  {
   "cell_type": "code",
   "execution_count": null,
   "id": "ab12fd6c",
   "metadata": {},
   "outputs": [],
   "source": [
    "colores.index('verde')"
   ]
  },
  {
   "cell_type": "markdown",
   "id": "8d23db47",
   "metadata": {},
   "source": [
    "### pop()"
   ]
  },
  {
   "cell_type": "code",
   "execution_count": null,
   "id": "1a99091c",
   "metadata": {},
   "outputs": [],
   "source": [
    "colores.pop()                 # elimina el último elemento de la lista\n",
    "colores"
   ]
  },
  {
   "cell_type": "markdown",
   "id": "295bdb13",
   "metadata": {},
   "source": [
    "### pop(elemento)"
   ]
  },
  {
   "cell_type": "code",
   "execution_count": null,
   "id": "151b5eef",
   "metadata": {},
   "outputs": [],
   "source": [
    "colores.pop(1)                # elimina el elemento que se indique\n",
    "colores"
   ]
  },
  {
   "cell_type": "markdown",
   "id": "cbbc8127",
   "metadata": {},
   "source": [
    "### clear()"
   ]
  },
  {
   "cell_type": "code",
   "execution_count": null,
   "id": "910b2a39",
   "metadata": {
    "scrolled": true
   },
   "outputs": [],
   "source": [
    "colores.clear()\n",
    "colores"
   ]
  },
  {
   "cell_type": "markdown",
   "id": "eee2ffca",
   "metadata": {},
   "source": [
    "## ```sort``` y ```sorted```"
   ]
  },
  {
   "cell_type": "code",
   "execution_count": null,
   "id": "7224eb35",
   "metadata": {},
   "outputs": [],
   "source": [
    "l = [5,2,6,1,9,0]\n",
    "print(\"lista inicial :\", l)\n",
    "l.sort()                             # l.sort() realmente ordena la lista pero se ha de poner antes del print\n",
    "print(\"lista con sort:\", l)"
   ]
  },
  {
   "cell_type": "code",
   "execution_count": null,
   "id": "32152eb8",
   "metadata": {},
   "outputs": [],
   "source": [
    "l = [5,2,6,1,9,0]\n",
    "print(\"lista inicial:\", l)\n",
    "print(\"lista sorted :\", sorted(l))   # sorted(l) realmente no orden la lista pero permite imprimirla ordenada \n",
    "print(\"lista final  :\", l)"
   ]
  }
 ],
 "metadata": {
  "kernelspec": {
   "display_name": "Python 3",
   "language": "python",
   "name": "python3"
  },
  "language_info": {
   "codemirror_mode": {
    "name": "ipython",
    "version": 3
   },
   "file_extension": ".py",
   "mimetype": "text/x-python",
   "name": "python",
   "nbconvert_exporter": "python",
   "pygments_lexer": "ipython3",
   "version": "3.8.8"
  }
 },
 "nbformat": 4,
 "nbformat_minor": 5
}
