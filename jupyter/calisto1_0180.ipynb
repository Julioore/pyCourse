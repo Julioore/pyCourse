{
 "cells": [
  {
   "cell_type": "markdown",
   "id": "0383b0d8",
   "metadata": {},
   "source": [
    "# Tuplas [1] \n",
    "Para datos inmutables."
   ]
  },
  {
   "cell_type": "code",
   "execution_count": null,
   "id": "c346e536",
   "metadata": {},
   "outputs": [],
   "source": [
    "estaciones=('Primavera','Verano','Otoño','Invierno') #Para datos inmutables\n",
    "type(estaciones)"
   ]
  },
  {
   "cell_type": "markdown",
   "id": "f21becab",
   "metadata": {},
   "source": [
    "Los elementos de una lista son mutables, los elementos de una tupla son inmutables.  \n",
    "La iteración sobre los elementos de una tupla es más rápida que la iteración sobre una lista.\n"
   ]
  },
  {
   "cell_type": "code",
   "execution_count": null,
   "id": "46ce60e3",
   "metadata": {},
   "outputs": [],
   "source": [
    "mi_tupla = (15,'McKinsey',True,[5,7,9],('a','b','c'),12.35)\n",
    "mi_tupla"
   ]
  },
  {
   "cell_type": "code",
   "execution_count": null,
   "id": "297a13b6",
   "metadata": {},
   "outputs": [],
   "source": [
    "tupla_uno=(14,)        #Tupla con un único elemento. type(tupla_uno) es de tipo tuple, no int\n",
    "tupla_uno"
   ]
  },
  {
   "cell_type": "code",
   "execution_count": null,
   "id": "1a50952e",
   "metadata": {},
   "outputs": [],
   "source": [
    "a=[3,5,7,9]            #una lista\n",
    "b=tuple(a)             #se convierte en tupla\n",
    "print(b)               #(3, 5, 7, 9)"
   ]
  },
  {
   "cell_type": "code",
   "execution_count": null,
   "id": "5a8e35e3",
   "metadata": {},
   "outputs": [],
   "source": [
    "print(estaciones[0])   #'Primavera'\n",
    "print(mi_tupla[-1])    #12.35\n",
    "print(mi_tupla[1][2])  #K\n",
    "print(mi_tupla[3][1])  #7\n",
    "mi_tupla[3][1]=8       #Podemos cambiar los elementos de una lista dentro de una tupla\n",
    "print(mi_tupla[3])     #[5, 8, 9]   la lista si es mutable aunque esté dentro de una tupla"
   ]
  },
  {
   "cell_type": "code",
   "execution_count": null,
   "id": "6f365f1b",
   "metadata": {},
   "outputs": [],
   "source": [
    "del(estaciones)        #podemos borrar una tupla pero no sus elementos"
   ]
  }
 ],
 "metadata": {
  "kernelspec": {
   "display_name": "Python 3",
   "language": "python",
   "name": "python3"
  },
  "language_info": {
   "codemirror_mode": {
    "name": "ipython",
    "version": 3
   },
   "file_extension": ".py",
   "mimetype": "text/x-python",
   "name": "python",
   "nbconvert_exporter": "python",
   "pygments_lexer": "ipython3",
   "version": "3.8.5"
  }
 },
 "nbformat": 4,
 "nbformat_minor": 5
}
