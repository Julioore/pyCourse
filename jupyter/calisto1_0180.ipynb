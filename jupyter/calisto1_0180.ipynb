{
 "cells": [
  {
   "cell_type": "markdown",
   "id": "0383b0d8",
   "metadata": {},
   "source": [
    "# Tuplas [1] \n",
    "Las tuplas son inmutables."
   ]
  },
  {
   "cell_type": "code",
   "execution_count": null,
   "id": "c346e536",
   "metadata": {},
   "outputs": [],
   "source": [
    "estaciones=('Primavera','Verano','Otoño','Invierno') # Para datos inmutables\n",
    "print(estaciones)\n",
    "type(estaciones)"
   ]
  },
  {
   "cell_type": "markdown",
   "id": "f21becab",
   "metadata": {},
   "source": [
    "Los elementos de una lista son mutables, los elementos de una tupla son inmutables.  \n",
    "La iteración sobre los elementos de una tupla es más rápida que la iteración sobre una lista.\n"
   ]
  },
  {
   "cell_type": "code",
   "execution_count": null,
   "id": "46ce60e3",
   "metadata": {},
   "outputs": [],
   "source": [
    "mi_tupla = (15,'McKinsey',True,[5,7,9],('a','b','c'),12.35)\n",
    "mi_tupla"
   ]
  },
  {
   "cell_type": "code",
   "execution_count": null,
   "id": "297a13b6",
   "metadata": {},
   "outputs": [],
   "source": [
    "tupla_uno=(14,)        # tupla con un único elemento. type(tupla_uno) es de tipo tuple, no int\n",
    "tupla_uno"
   ]
  },
  {
   "cell_type": "markdown",
   "id": "ce1e9f24",
   "metadata": {},
   "source": [
    "## Convertir una lista en una tupla"
   ]
  },
  {
   "cell_type": "code",
   "execution_count": null,
   "id": "1a50952e",
   "metadata": {},
   "outputs": [],
   "source": [
    "a=[3,5,7,9]            # una lista\n",
    "b=tuple(a)             # se convierte en tupla\n",
    "print(b)               # (3, 5, 7, 9)"
   ]
  },
  {
   "cell_type": "markdown",
   "id": "cc6e901f",
   "metadata": {},
   "source": [
    "## Las tuplas admiten referirnos a ellas por el índice"
   ]
  },
  {
   "cell_type": "code",
   "execution_count": null,
   "id": "5a8e35e3",
   "metadata": {},
   "outputs": [],
   "source": [
    "print(estaciones[0])   # 'Primavera'\n",
    "print(mi_tupla[-1])    # 12.35\n",
    "print(mi_tupla[1][2])  # K\n",
    "print(mi_tupla[3][1])  # 7\n",
    "mi_tupla[3][1]=8       # Podemos cambiar los elementos de una lista dentro de una tupla\n",
    "print(mi_tupla[3])     # [5, 8, 9]   la lista si es mutable aunque esté dentro de una tupla"
   ]
  },
  {
   "cell_type": "markdown",
   "id": "2799f212",
   "metadata": {},
   "source": [
    "## Métodos"
   ]
  },
  {
   "cell_type": "code",
   "execution_count": null,
   "id": "9947c058",
   "metadata": {},
   "outputs": [],
   "source": [
    "len(mi_tupla)          # longitud de una tupla"
   ]
  },
  {
   "cell_type": "code",
   "execution_count": null,
   "id": "c585a984",
   "metadata": {},
   "outputs": [],
   "source": [
    "len(mi_tupla[3])       # longitud de una lista dentro de una tupla"
   ]
  },
  {
   "cell_type": "code",
   "execution_count": null,
   "id": "6f365f1b",
   "metadata": {},
   "outputs": [],
   "source": [
    "del(estaciones)        # podemos borrar una tupla pero no sus elementos"
   ]
  },
  {
   "cell_type": "code",
   "execution_count": null,
   "id": "de1b9824",
   "metadata": {},
   "outputs": [],
   "source": [
    "t=(0,2,0,0,2,0,5)\n",
    "t.count(0)             # contamos el número de ceros que contiene una tupla"
   ]
  },
  {
   "cell_type": "code",
   "execution_count": null,
   "id": "3dcc2d16",
   "metadata": {},
   "outputs": [],
   "source": [
    "t.index(2)             # indica el índice donde se encuentra el primer 2"
   ]
  },
  {
   "cell_type": "code",
   "execution_count": null,
   "id": "d04bb4ea",
   "metadata": {},
   "outputs": [],
   "source": [
    "t.index(2,3)             # indica el índice donde se encuentra el 2 comenzando a contar desde el índice 3"
   ]
  },
  {
   "cell_type": "markdown",
   "id": "9df0fc18",
   "metadata": {},
   "source": [
    "### Ejercicio\n",
    "Ver si estos métodos también existen para listas."
   ]
  }
 ],
 "metadata": {
  "kernelspec": {
   "display_name": "Python 3",
   "language": "python",
   "name": "python3"
  },
  "language_info": {
   "codemirror_mode": {
    "name": "ipython",
    "version": 3
   },
   "file_extension": ".py",
   "mimetype": "text/x-python",
   "name": "python",
   "nbconvert_exporter": "python",
   "pygments_lexer": "ipython3",
   "version": "3.8.8"
  }
 },
 "nbformat": 4,
 "nbformat_minor": 5
}
