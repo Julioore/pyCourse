{
 "cells": [
  {
   "cell_type": "markdown",
   "id": "5c3ebbab",
   "metadata": {},
   "source": [
    "# Tiempo de ejecución\n",
    "Tiempo de ejecución en segundos de un script."
   ]
  },
  {
   "cell_type": "code",
   "execution_count": 10,
   "id": "92afde68",
   "metadata": {},
   "outputs": [
    {
     "name": "stdout",
     "output_type": "stream",
     "text": [
      "El tiempo de ejecución es 1.3440275192260742\n"
     ]
    }
   ],
   "source": [
    "import time\n",
    " \n",
    "inicio = time.time()\n",
    " \n",
    "# Código que deseamos medir, por ejemplo:\n",
    "x = 0\n",
    "for i in range(10_000_000):\n",
    "    x += i\n",
    " \n",
    "fin = time.time()\n",
    "tiempo_total = fin - inicio\n",
    " \n",
    "print(f'El tiempo de ejecución es {tiempo_total}')"
   ]
  }
 ],
 "metadata": {
  "kernelspec": {
   "display_name": "Python 3 (ipykernel)",
   "language": "python",
   "name": "python3"
  },
  "language_info": {
   "codemirror_mode": {
    "name": "ipython",
    "version": 3
   },
   "file_extension": ".py",
   "mimetype": "text/x-python",
   "name": "python",
   "nbconvert_exporter": "python",
   "pygments_lexer": "ipython3",
   "version": "3.8.11"
  }
 },
 "nbformat": 4,
 "nbformat_minor": 5
}
