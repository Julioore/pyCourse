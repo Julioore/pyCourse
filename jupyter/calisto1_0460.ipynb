{
 "cells": [
  {
   "cell_type": "markdown",
   "id": "c70878b0",
   "metadata": {},
   "source": [
    "# Generación de aleatorios [1]"
   ]
  },
  {
   "cell_type": "code",
   "execution_count": 2,
   "id": "d8ed61a3",
   "metadata": {},
   "outputs": [
    {
     "name": "stdout",
     "output_type": "stream",
     "text": [
      "17\n"
     ]
    }
   ],
   "source": [
    "from random import randrange\n",
    "un_aleatorio = randrange(-20,50)\n",
    "print(un_aleatorio)"
   ]
  },
  {
   "cell_type": "markdown",
   "id": "e5eefa1a",
   "metadata": {},
   "source": [
    "random.randrange(stop)  \n",
    "Genera números aleatorios enteros entre el inicio, que si no se indica es cero y el final dado por 'stop', sin incluir este último."
   ]
  },
  {
   "cell_type": "code",
   "execution_count": 4,
   "id": "f33585af",
   "metadata": {},
   "outputs": [
    {
     "data": {
      "text/plain": [
       "0"
      ]
     },
     "execution_count": 4,
     "metadata": {},
     "output_type": "execute_result"
    }
   ],
   "source": [
    "randrange(2)                    # solo genera ceros y unos"
   ]
  },
  {
   "cell_type": "markdown",
   "id": "2f440ac7",
   "metadata": {},
   "source": [
    "random.randrange(start, stop[, step])"
   ]
  },
  {
   "cell_type": "code",
   "execution_count": null,
   "id": "d645b2c7",
   "metadata": {},
   "outputs": [],
   "source": [
    "randrange(11,50,2)              # solo genera un impar"
   ]
  },
  {
   "cell_type": "code",
   "execution_count": null,
   "id": "10e223a1",
   "metadata": {},
   "outputs": [],
   "source": [
    "lista_aleatoria1 = []\n",
    "for i in range(5):\n",
    "    lista_aleatoria1.append(randrange(-20,50))\n",
    "print(lista_aleatoria1)"
   ]
  },
  {
   "cell_type": "code",
   "execution_count": null,
   "id": "c9dd9793",
   "metadata": {},
   "outputs": [],
   "source": [
    "from random import sample\n",
    "lista_aleatoria2 = []\n",
    "lista_aleatoria2 = sample(range(-20,50),5)\n",
    "print(sorted(lista_aleatoria2))                      # ordenado con sorted(lista)"
   ]
  },
  {
   "cell_type": "code",
   "execution_count": null,
   "id": "92ba6071",
   "metadata": {},
   "outputs": [],
   "source": [
    "lista_aleatoria = lista_aleatoria1 + lista_aleatoria2\n",
    "lista_aleatoria.sort()                               # ordenado con lista.sort()\n",
    "print(lista_aleatoria) "
   ]
  },
  {
   "cell_type": "markdown",
   "id": "5fe19354",
   "metadata": {},
   "source": [
    "random.randint(a, b)     genera un aleatorio entero entre a y b ambos incluidos."
   ]
  },
  {
   "cell_type": "code",
   "execution_count": null,
   "id": "f6b0667d",
   "metadata": {},
   "outputs": [],
   "source": [
    "from random import randint"
   ]
  },
  {
   "cell_type": "code",
   "execution_count": null,
   "id": "9e630228",
   "metadata": {},
   "outputs": [],
   "source": [
    "randint(1, 3)"
   ]
  }
 ],
 "metadata": {
  "kernelspec": {
   "display_name": "Python 3 (ipykernel)",
   "language": "python",
   "name": "python3"
  },
  "language_info": {
   "codemirror_mode": {
    "name": "ipython",
    "version": 3
   },
   "file_extension": ".py",
   "mimetype": "text/x-python",
   "name": "python",
   "nbconvert_exporter": "python",
   "pygments_lexer": "ipython3",
   "version": "3.8.11"
  }
 },
 "nbformat": 4,
 "nbformat_minor": 5
}
