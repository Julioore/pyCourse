{
 "cells": [
  {
   "cell_type": "markdown",
   "id": "1fc0a993",
   "metadata": {},
   "source": [
    "# Diccionarios por compresión"
   ]
  },
  {
   "cell_type": "markdown",
   "id": "4b39a69d",
   "metadata": {},
   "source": [
    "La comprensión de un diccionario permite transformar un diccionario en otro diccionario."
   ]
  },
  {
   "cell_type": "markdown",
   "id": "1d9d9757",
   "metadata": {},
   "source": [
    "## Reverso de un diccionario\n",
    "Convertimos un diccionario del tipo clave:valor (k:v) en su inverso (v:k)"
   ]
  },
  {
   "cell_type": "code",
   "execution_count": 3,
   "id": "3cb14ee5",
   "metadata": {},
   "outputs": [
    {
     "data": {
      "text/plain": [
       "{1: 'uno', 2: 'dos', 3: 'tres', 4: 'cuatro'}"
      ]
     },
     "execution_count": 3,
     "metadata": {},
     "output_type": "execute_result"
    }
   ],
   "source": [
    "num = {'uno':1,'dos':2,'tres':3,'cuatro':4}\n",
    "txt = {v:k for k,v in num.items()}\n",
    "txt"
   ]
  },
  {
   "cell_type": "code",
   "execution_count": 4,
   "id": "f86988b3",
   "metadata": {},
   "outputs": [
    {
     "data": {
      "text/plain": [
       "'uno'"
      ]
     },
     "execution_count": 4,
     "metadata": {},
     "output_type": "execute_result"
    }
   ],
   "source": [
    "txt[1]      # podemos consultar un elemento del diccionario por su clave y devuelve el valor"
   ]
  },
  {
   "cell_type": "markdown",
   "id": "c40898cd",
   "metadata": {},
   "source": [
    "## Transformando diccionarios"
   ]
  },
  {
   "cell_type": "code",
   "execution_count": 1,
   "id": "e7de568f",
   "metadata": {},
   "outputs": [
    {
     "name": "stdout",
     "output_type": "stream",
     "text": [
      "{'1': 2, '2': 4, '3': 6, '4': 8}\n"
     ]
    }
   ],
   "source": [
    "dic = {1:1,2:2,3:3,4:4}\n",
    "doble = {str(k):2*v for k,v in dic.items()}\n",
    "print(doble)"
   ]
  },
  {
   "cell_type": "code",
   "execution_count": null,
   "id": "53cbf8bf",
   "metadata": {},
   "outputs": [],
   "source": [
    "cuadrado_impares = {}\n",
    "for i in range(10):\n",
    "    if i%2 != 0:\n",
    "        cuadrado_impares[i] = i**2\n",
    "print(cuadrado_impares)"
   ]
  },
  {
   "cell_type": "code",
   "execution_count": null,
   "id": "9b089beb",
   "metadata": {},
   "outputs": [],
   "source": [
    "{i:i**2 for i in range(10) if i%2==0}"
   ]
  },
  {
   "cell_type": "code",
   "execution_count": null,
   "id": "0cc68a6b",
   "metadata": {},
   "outputs": [],
   "source": [
    "cadena = 'Lo importante es no dejar de hacerse preguntas'\n",
    "frase=cadena.split()\n",
    "print(frase)"
   ]
  },
  {
   "cell_type": "markdown",
   "id": "3e50f1ce",
   "metadata": {},
   "source": [
    "Crear un diccionario con la longitud de cada palabra."
   ]
  },
  {
   "cell_type": "code",
   "execution_count": null,
   "id": "93479b82",
   "metadata": {},
   "outputs": [],
   "source": [
    "{palabra:len(palabra) for palabra in frase}"
   ]
  },
  {
   "cell_type": "markdown",
   "id": "7bc7c1d3",
   "metadata": {},
   "source": [
    "Crear un diccionario con la letra inicial de cada palabra."
   ]
  },
  {
   "cell_type": "code",
   "execution_count": null,
   "id": "b2c57caf",
   "metadata": {},
   "outputs": [],
   "source": [
    "{palabra:palabra[0].upper() for palabra in frase}"
   ]
  },
  {
   "cell_type": "markdown",
   "id": "5f206fe2",
   "metadata": {},
   "source": [
    "Elevar al cuadrado los números impares entre 5 y 12 incluidos ambos."
   ]
  },
  {
   "cell_type": "code",
   "execution_count": null,
   "id": "b2d81828",
   "metadata": {},
   "outputs": [],
   "source": [
    "{n:pow(n,2) for n in range(12) if n>=5 if n%2==1}"
   ]
  }
 ],
 "metadata": {
  "kernelspec": {
   "display_name": "Python 3",
   "language": "python",
   "name": "python3"
  },
  "language_info": {
   "codemirror_mode": {
    "name": "ipython",
    "version": 3
   },
   "file_extension": ".py",
   "mimetype": "text/x-python",
   "name": "python",
   "nbconvert_exporter": "python",
   "pygments_lexer": "ipython3",
   "version": "3.8.8"
  }
 },
 "nbformat": 4,
 "nbformat_minor": 5
}
