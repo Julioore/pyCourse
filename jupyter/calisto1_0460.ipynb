{
 "cells": [
  {
   "cell_type": "markdown",
   "id": "960960db",
   "metadata": {},
   "source": [
    "# Contar si"
   ]
  },
  {
   "cell_type": "markdown",
   "id": "5c3ca853",
   "metadata": {},
   "source": [
    "Dada un lista contar los elementos que cumplen un par de condiciones."
   ]
  },
  {
   "cell_type": "code",
   "execution_count": 1,
   "id": "6552fa16",
   "metadata": {},
   "outputs": [
    {
     "name": "stdout",
     "output_type": "stream",
     "text": [
      "[91, 35, 45, 92, 97, 67, 49, 94, 61, 80, 65, 20, 85, 28, 44]\n",
      "¿Cuántos son menores de 50 e impares? 3\n"
     ]
    }
   ],
   "source": [
    "import random\n",
    "randomlist = random.sample(range(10, 100), 15)    #lista de 15 enteros aleatorios entre 10 y 99\n",
    "print(randomlist)\n",
    "n = sum(1 for i in randomlist if i<50 and i%2==1)   #lo que se suma es un generator object\n",
    "print('¿Cuántos son menores de 50 e impares?',n)"
   ]
  },
  {
   "cell_type": "code",
   "execution_count": null,
   "id": "b6dbdcbb",
   "metadata": {},
   "outputs": [],
   "source": []
  }
 ],
 "metadata": {
  "kernelspec": {
   "display_name": "Python 3",
   "language": "python",
   "name": "python3"
  },
  "language_info": {
   "codemirror_mode": {
    "name": "ipython",
    "version": 3
   },
   "file_extension": ".py",
   "mimetype": "text/x-python",
   "name": "python",
   "nbconvert_exporter": "python",
   "pygments_lexer": "ipython3",
   "version": "3.8.10"
  }
 },
 "nbformat": 4,
 "nbformat_minor": 5
}
