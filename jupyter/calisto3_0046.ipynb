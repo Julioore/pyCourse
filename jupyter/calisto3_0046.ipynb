{
 "cells": [
  {
   "cell_type": "markdown",
   "id": "dcc3965b",
   "metadata": {},
   "source": [
    "# NumPy [6] Ejes\n",
    "Para matrices 2D:\n",
    "* asxis 0 para las columnas\n",
    "* axis 1 para las filas\n",
    "\n",
    "Para matrices en una dimensión se trabaja con un vector fila:\n",
    "* En este caso el eje siempre será axis 0"
   ]
  },
  {
   "cell_type": "markdown",
   "id": "50573a39",
   "metadata": {},
   "source": [
    "## Trabajando con matrices 2D"
   ]
  },
  {
   "cell_type": "markdown",
   "id": "343b8eca",
   "metadata": {},
   "source": [
    "### Suma en un eje"
   ]
  },
  {
   "cell_type": "code",
   "execution_count": 3,
   "id": "ce88184e",
   "metadata": {},
   "outputs": [
    {
     "name": "stdout",
     "output_type": "stream",
     "text": [
      "[[1 2 3]\n",
      " [4 5 6]]\n"
     ]
    }
   ],
   "source": [
    "import numpy as np\n",
    "m = np.array([[1,2,3],[4,5,6]])\n",
    "print(m)"
   ]
  },
  {
   "cell_type": "code",
   "execution_count": 4,
   "id": "81b6729d",
   "metadata": {},
   "outputs": [
    {
     "name": "stdout",
     "output_type": "stream",
     "text": [
      "[5 7 9]\n"
     ]
    }
   ],
   "source": [
    "print(np.sum(m, axis=0))    # sumando columnas"
   ]
  },
  {
   "cell_type": "code",
   "execution_count": 6,
   "id": "1ba3bc6f",
   "metadata": {},
   "outputs": [
    {
     "name": "stdout",
     "output_type": "stream",
     "text": [
      "[ 6 15]\n"
     ]
    }
   ],
   "source": [
    "print(np.sum(m, axis=1))    # sumando filas"
   ]
  },
  {
   "cell_type": "markdown",
   "id": "79f72f70",
   "metadata": {},
   "source": [
    "### Concatenar por ejes\n",
    "Antes de concatenar preparamos las matrices m1 y m2."
   ]
  },
  {
   "cell_type": "code",
   "execution_count": 12,
   "id": "f29106d1",
   "metadata": {},
   "outputs": [
    {
     "name": "stdout",
     "output_type": "stream",
     "text": [
      "[[1 2 3]\n",
      " [4 5 6]]\n",
      "\n",
      "[[10 20 30]\n",
      " [40 50 60]]\n"
     ]
    }
   ],
   "source": [
    "m1 = np.array([[1,2,3],[4,5,6]])\n",
    "m2 = np.array([[10,20,30],[40,50,60]])\n",
    "print(m1)                               # mostramos m1\n",
    "print('')\n",
    "print(m2)                               # mostramos m2"
   ]
  },
  {
   "cell_type": "markdown",
   "id": "57cefda0",
   "metadata": {},
   "source": [
    "#### Concatenamos por columnas"
   ]
  },
  {
   "cell_type": "code",
   "execution_count": 13,
   "id": "3d025e55",
   "metadata": {},
   "outputs": [
    {
     "name": "stdout",
     "output_type": "stream",
     "text": [
      "[[ 1  2  3]\n",
      " [ 4  5  6]\n",
      " [10 20 30]\n",
      " [40 50 60]]\n"
     ]
    }
   ],
   "source": [
    "print(np.concatenate([m1,m2], axis=0))   # concatenamos por columnas"
   ]
  },
  {
   "cell_type": "markdown",
   "id": "61f4642b",
   "metadata": {},
   "source": [
    "#### Concatenamos por filas"
   ]
  },
  {
   "cell_type": "code",
   "execution_count": 14,
   "id": "a376fd30",
   "metadata": {},
   "outputs": [
    {
     "name": "stdout",
     "output_type": "stream",
     "text": [
      "[[ 1  2  3 10 20 30]\n",
      " [ 4  5  6 40 50 60]]\n"
     ]
    }
   ],
   "source": [
    "print(np.concatenate([m1,m2], axis=1))   # concatenamos por filas"
   ]
  },
  {
   "cell_type": "markdown",
   "id": "5940f6ea",
   "metadata": {},
   "source": [
    "## Trabajando con un vector\n",
    "Trabajando con una matriz de una dimención o vector fila. El único eje que existe es el axis 0."
   ]
  },
  {
   "cell_type": "markdown",
   "id": "0363877e",
   "metadata": {},
   "source": [
    "### Concatenar vectores\n",
    "Los vectores siempre son de tipo fila.  \n",
    "Se trata de concatenar dos vectores fila."
   ]
  },
  {
   "cell_type": "code",
   "execution_count": 16,
   "id": "946c108c",
   "metadata": {},
   "outputs": [
    {
     "name": "stdout",
     "output_type": "stream",
     "text": [
      "[1 2 3 4 5 6]\n"
     ]
    }
   ],
   "source": [
    "m1 = np.array([1,2,3])\n",
    "m2 = np.array([4,5,6])\n",
    "print(np.concatenate([m1,m2]))         # sin poner lo del eje"
   ]
  },
  {
   "cell_type": "code",
   "execution_count": 17,
   "id": "15914d4e",
   "metadata": {},
   "outputs": [
    {
     "name": "stdout",
     "output_type": "stream",
     "text": [
      "[1 2 3 4 5 6]\n"
     ]
    }
   ],
   "source": [
    "print(np.concatenate([m1,m2], axis=0)) # con el axis 0"
   ]
  },
  {
   "cell_type": "code",
   "execution_count": 19,
   "id": "3e87969a",
   "metadata": {},
   "outputs": [],
   "source": [
    "#print(np.concatenate([m1,m2], axis=1)) # ERROR: con el axis 1"
   ]
  }
 ],
 "metadata": {
  "kernelspec": {
   "display_name": "Python 3",
   "language": "python",
   "name": "python3"
  },
  "language_info": {
   "codemirror_mode": {
    "name": "ipython",
    "version": 3
   },
   "file_extension": ".py",
   "mimetype": "text/x-python",
   "name": "python",
   "nbconvert_exporter": "python",
   "pygments_lexer": "ipython3",
   "version": "3.8.8"
  }
 },
 "nbformat": 4,
 "nbformat_minor": 5
}
