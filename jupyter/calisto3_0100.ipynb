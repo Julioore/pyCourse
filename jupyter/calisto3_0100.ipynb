{
 "cells": [
  {
   "cell_type": "markdown",
   "id": "e00a18d8",
   "metadata": {},
   "source": [
    "# Módulos\n",
    "Son archivos con extensión:\n",
    "- .py los habituales archivos de Python\n",
    "- .pyc archivos de Python compilado\n",
    "- archivos escritos en C para CPython\n",
    "\n",
    "Utilidad:\n",
    "* Orgaizar código (modularización)\n",
    "    - Es preferible manejar módulos pequeños que un programa gigante\n",
    "    - Si el programa es muy complejo lo mejor es dividirlo en módulos con diferentes funcionalidades y que se comuniquen entre si\n",
    "* Reutilizar código (reutilización)\n",
    "\n",
    "Los módulos se crean al crear un archivo -py"
   ]
  },
  {
   "cell_type": "markdown",
   "id": "dfe636af",
   "metadata": {},
   "source": [
    "Para guardar los archivos de los módulos usaremos la carpeta mypy.  \n",
    "Vamos a crear el archivo funciones_matematicas.py donde crearemos funciones sencillas de suma, resta, multiplicación que luego importaremos y podremos utilizar.\n",
    "\n",
    "El archivo funciones_matematicas.py contendrá el siguiente códgio."
   ]
  },
  {
   "cell_type": "code",
   "execution_count": null,
   "id": "bec7f343",
   "metadata": {},
   "outputs": [],
   "source": [
    "def sumar(n1,n2):\n",
    "    print(f\"El resultado de la suma es {n1+n2}\")\n",
    "def restar(n1,n2):\n",
    "    print(f\"El resultado de la resta es {n1-n2}\")\n",
    "def multiplicar(n1,n2):\n",
    "    print(f\"El resultado del producto es {n1*n2}\")\n",
    "    "
   ]
  },
  {
   "cell_type": "markdown",
   "id": "b459036d",
   "metadata": {},
   "source": [
    "El archivo funciones_matematicas.py lo hemos creado con Visual Studio Code, o con tu editor de código favorito, en la carpeta mypy que está en la ruta:  \n",
    "* pyCourse/jupyter/mypy/funciones_matematicas.py\n",
    "\n",
    "Veamos varios métodos de importación para trabajar con esas funciones matemáticas desde otro fichero .py o desde el block de notas de Jupyter Notebook."
   ]
  },
  {
   "cell_type": "markdown",
   "id": "64011ed3",
   "metadata": {},
   "source": [
    "### Método 1"
   ]
  },
  {
   "cell_type": "code",
   "execution_count": null,
   "id": "34b3322b",
   "metadata": {},
   "outputs": [],
   "source": [
    "import mypy.funciones_matematicas\n",
    "mypy.funciones_matematicas.sumar(7,5)"
   ]
  },
  {
   "cell_type": "markdown",
   "id": "f1252796",
   "metadata": {},
   "source": [
    "### Método 2"
   ]
  },
  {
   "cell_type": "code",
   "execution_count": null,
   "id": "ba43f9f1",
   "metadata": {},
   "outputs": [],
   "source": [
    "import mypy.funciones_matematicas as mat\n",
    "mat.sumar(7,5)"
   ]
  },
  {
   "cell_type": "markdown",
   "id": "d649cad5",
   "metadata": {},
   "source": [
    "### Método 3"
   ]
  },
  {
   "cell_type": "code",
   "execution_count": null,
   "id": "a9d53444",
   "metadata": {},
   "outputs": [],
   "source": [
    "from mypy.funciones_matematicas import *\n",
    "multiplicar(7,5)"
   ]
  },
  {
   "cell_type": "markdown",
   "id": "4ae16f52",
   "metadata": {},
   "source": [
    "### Método 4\n",
    "Usa menos memoria puesto que importa solo la función que se necesita."
   ]
  },
  {
   "cell_type": "code",
   "execution_count": null,
   "id": "634b09f8",
   "metadata": {},
   "outputs": [],
   "source": [
    "from mypy.funciones_matematicas import restar\n",
    "restar(7,5)"
   ]
  },
  {
   "cell_type": "markdown",
   "id": "5ecc4abe",
   "metadata": {},
   "source": [
    "## Módulos que reutilizan clases y objetos\n",
    "Vamos a crear el archivo modulo_vehiculos.py que está en la carpeta mypy con el siguiente código.  \n",
    "Se trata de reutilizar las clases que tengamos sobre el uso de vehiculos."
   ]
  },
  {
   "cell_type": "code",
   "execution_count": null,
   "id": "1f05334d",
   "metadata": {},
   "outputs": [],
   "source": [
    "from mypy.modulo_vehiculos import *     # importamos todas las clases con sus propiedades y métodos\n",
    "miCoche=Vehiculo(\"Ford\",\"Focus\")        # creamos una instancia de vehículo con su marca y modelo\n",
    "miCoche.arrancar()                      # arrancamos el coche, llamamos al método arrancar\n",
    "miCoche.estado()                        # preguntamos por su estado, llamamos al método estado que nos informa"
   ]
  }
 ],
 "metadata": {
  "kernelspec": {
   "display_name": "Python 3",
   "language": "python",
   "name": "python3"
  },
  "language_info": {
   "codemirror_mode": {
    "name": "ipython",
    "version": 3
   },
   "file_extension": ".py",
   "mimetype": "text/x-python",
   "name": "python",
   "nbconvert_exporter": "python",
   "pygments_lexer": "ipython3",
   "version": "3.8.8"
  }
 },
 "nbformat": 4,
 "nbformat_minor": 5
}
