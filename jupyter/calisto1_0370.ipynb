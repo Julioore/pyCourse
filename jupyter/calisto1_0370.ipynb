{
 "cells": [
  {
   "cell_type": "markdown",
   "metadata": {},
   "source": [
    "# Bucle ```while```    [2]"
   ]
  },
  {
   "cell_type": "markdown",
   "metadata": {},
   "source": [
    "## Introduciendo la intrucción ```break```"
   ]
  },
  {
   "cell_type": "markdown",
   "metadata": {},
   "source": [
    "### Primero hacemos un bucle while secillo"
   ]
  },
  {
   "cell_type": "code",
   "execution_count": null,
   "metadata": {},
   "outputs": [],
   "source": [
    "contador = 5\n",
    "\n",
    "while contador > 0:\n",
    "    print(contador)\n",
    "    contador -= 1"
   ]
  },
  {
   "cell_type": "markdown",
   "metadata": {},
   "source": [
    "### Segundo, introducimos un ```else```"
   ]
  },
  {
   "cell_type": "code",
   "execution_count": null,
   "metadata": {},
   "outputs": [],
   "source": [
    "contador = 5\n",
    "\n",
    "while contador > 0:\n",
    "    print(contador)\n",
    "    contador -= 1\n",
    "else:\n",
    "    print(\"¡Lanzamiento!\")"
   ]
  },
  {
   "cell_type": "markdown",
   "metadata": {},
   "source": [
    "### Tercero, con un condicional introducimos un ```break```"
   ]
  },
  {
   "cell_type": "code",
   "execution_count": null,
   "metadata": {},
   "outputs": [],
   "source": [
    "contador = 5\n",
    "\n",
    "while contador > 0:\n",
    "    print(contador)\n",
    "    contador -= 1\n",
    "    if contador == 2:           # si al llegar la cuenta a tras a 2 introducimos un break se interrumpe todo\n",
    "        break\n",
    "else:                           # incluso queda interrumpido el else, que nunca se ejecutará\n",
    "    print(\"¡Lanzamiento!\")"
   ]
  },
  {
   "cell_type": "markdown",
   "metadata": {},
   "source": [
    "## Otro ```while``` sencillo"
   ]
  },
  {
   "cell_type": "code",
   "execution_count": null,
   "metadata": {},
   "outputs": [],
   "source": [
    "a = 0\n",
    "while a < 100:\n",
    "    print(\"El valor de a es menor de 100, por ahora vale: \", a)\n",
    "    a += 10"
   ]
  },
  {
   "cell_type": "markdown",
   "metadata": {},
   "source": [
    "## Comprobando contraseña reiteradamente hasta que sea correcta"
   ]
  },
  {
   "cell_type": "code",
   "execution_count": null,
   "metadata": {},
   "outputs": [],
   "source": [
    "password = \"\"        #inicializamos la variable\n",
    "while password != \"París2024\":\n",
    "    password = str(input(\"Introduzca la contraseña: \"))\n",
    "print(\"Contraseña correcta. Puede acceder.\")"
   ]
  },
  {
   "cell_type": "markdown",
   "metadata": {},
   "source": [
    "## Comprobando reiteradamente con un ```while True:```"
   ]
  },
  {
   "cell_type": "code",
   "execution_count": null,
   "metadata": {},
   "outputs": [],
   "source": [
    "while True:\n",
    "    password = str(input(\"Introduzca la contraseña: \"))\n",
    "    if password == \"Los Ángeles 2028\": break\n",
    "print(\"Contraseña correcta. \\nPuede acceder.\")   #Con \\n hacemos un retorno de carro (new line)"
   ]
  },
  {
   "cell_type": "markdown",
   "metadata": {},
   "source": [
    "## Las listas vacías dan ```False```"
   ]
  },
  {
   "cell_type": "code",
   "execution_count": null,
   "metadata": {},
   "outputs": [],
   "source": [
    "milista = ['cero', 'uno', 'dos', 'tres']\n",
    "while milista:           #cuando la lista está vacía da False\n",
    "    print(milista.pop(-1))"
   ]
  },
  {
   "cell_type": "markdown",
   "metadata": {},
   "source": [
    "## No existe Switch en Python\n",
    "En Python no existe la estructura Select Case o Switch-Case, pero podemos construir su equivalente."
   ]
  },
  {
   "cell_type": "code",
   "execution_count": null,
   "metadata": {},
   "outputs": [],
   "source": [
    "aeropuerto = \"MAD\"               #Equivale a Select Case de otros lenguajes, o Switch-Case\n",
    "while True:\n",
    "    if aeropuerto == \"MAD\": print(\"El destino es el aeropuerto de Madrid\"); break \n",
    "    if aeropuerto == \"BNC\": print(\"El destino es el aeropuerto de Barcelona\"); break\n",
    "    if aeropuerto == \"TFN\": print(\"El destino es el aeropuerto de Tenerife Norte\"); break\n",
    "    break"
   ]
  },
  {
   "cell_type": "markdown",
   "metadata": {},
   "source": [
    "## Seguir pidiendo datos hasta que se introduzca uno válido\n",
    "Podemos crear un menú donde el seguirá introduciendo valores con un ```input``` hasta que se introduzca uno admitido dentro de las opciones del menú."
   ]
  },
  {
   "cell_type": "code",
   "execution_count": null,
   "metadata": {},
   "outputs": [],
   "source": [
    "print(\"Bienvenido al menú que le permite elegir aeropuerto de destino.\")\n",
    "while True:\n",
    "    print('''Indique su destino:\n",
    "        \\t1\\tDestino Madrid\n",
    "        \\t2\\tDestino Barcelona\n",
    "        \\t3\\tDestino Tenerife Norte''')\n",
    "    opcion = input(\"Indique la opción elegida.\")\n",
    "    if opcion == '1':\n",
    "        print(\"Emitiendo tarjeta de embarque destino MAD.\")\n",
    "        break\n",
    "    elif opcion == '2':\n",
    "        print(\"Emitiendo tarjeta de embarque destino BNC.\")\n",
    "        break\n",
    "    elif opcion == '3':\n",
    "        print(\"Emitiendo tarjeta de embarque destino TFN.\")\n",
    "        break\n",
    "    else:\n",
    "        print(\"Debe elegir la opción 1,2 o 3.\")\n",
    "        print(\"Vuelva a intentarlo.\\n\")\n",
    "print(\"Buen vuelo.\")"
   ]
  },
  {
   "cell_type": "markdown",
   "metadata": {},
   "source": [
    "En el código anterior se sale del bucle cuando se elige una de las opciones permitidas.  \n",
    "En el siguiente código se sale del bucle cuando se elige una opción concreta de salida, pero con el resto se repite el bucle."
   ]
  },
  {
   "cell_type": "code",
   "execution_count": null,
   "metadata": {},
   "outputs": [],
   "source": [
    "print(\"CALCULADORA\")\n",
    "x = float(input('Indique el primer número:'))\n",
    "y = float(input('Indique el segundo número:'))\n",
    "while True:\n",
    "    print(f'''\\nOperar con los números {x} y {y}. Elija la operación a realizar:\n",
    "    1 Suma\n",
    "    2 Producto\n",
    "    3 División\n",
    "    4 Salir''')\n",
    "    n = input()\n",
    "    if n=='1':\n",
    "        print(f\"La suma de {x} e {y} es {x+y}.\")\n",
    "    elif n=='2':\n",
    "        print(f\"El producto de {x} e {y} es {x*y}.\")\n",
    "    elif n=='3':\n",
    "        print(f\"Al dividir {x} entre {y} obtenemos {x/y}.\")\n",
    "    elif n=='4':\n",
    "        print(\"Saliendo de la calculadora... Hasta pronto.\")\n",
    "        break\n",
    "    else:\n",
    "        print(\"Opción desconocida, vuelva a intentarlo.\")"
   ]
  },
  {
   "cell_type": "markdown",
   "metadata": {},
   "source": [
    "### Ejercicio  \n",
    "Cree otra versión del código anterior de calculadora donde exista una opción adicional del menú que permita solicitar al usuario nuevos números x e y."
   ]
  },
  {
   "cell_type": "markdown",
   "metadata": {},
   "source": [
    "#### Solución"
   ]
  },
  {
   "cell_type": "code",
   "execution_count": null,
   "metadata": {},
   "outputs": [],
   "source": [
    "calcular = True                                                        # variable de control\n",
    "while calcular:                                                        # la primera vez se entra seguro pq es True\n",
    "    x = float(input('Indique el primer número:'))\n",
    "    y = float(input('Indique el segundo número:'))\n",
    "    while True:                                                        # hemos metido bucle dentro de bucle, están anidados\n",
    "        print(f'''\\nOperar con los números {x} y {y}. Elija la operación a realizar:\n",
    "        1 Suma\n",
    "        2 Producto\n",
    "        3 División\n",
    "        4 Elegir otros números\n",
    "        5 Salir''')\n",
    "        n = input()\n",
    "        if n=='1':\n",
    "            print(f\"La suma de {x} e {y} es {x+y}.\")\n",
    "        elif n=='2':\n",
    "            print(f\"El producto de {x} e {y} es {x*y}.\")\n",
    "        elif n=='3':\n",
    "            print(f\"Al dividir {x} entre {y} obtenemos {x/y}.\")\n",
    "        elif n=='4':\n",
    "            break                                                       # el break nos saca del bucle interno\n",
    "        elif n=='5':\n",
    "            print(\"Saliendo de la calculadora... Hasta pronto.\")\n",
    "            calcular = False                                            # esto permitira salir del bucle externo\n",
    "            break                                                       # el break nos saca del bucle interno\n",
    "        else:\n",
    "            print(\"Opción desconocida, vuelva a intentarlo.\")"
   ]
  },
  {
   "cell_type": "markdown",
   "metadata": {},
   "source": [
    "### Ejercicio \n",
    "Pedir números por teclado hasta que se introduzca uno impar."
   ]
  },
  {
   "cell_type": "markdown",
   "metadata": {},
   "source": [
    "#### Solución 1"
   ]
  },
  {
   "cell_type": "code",
   "execution_count": null,
   "metadata": {},
   "outputs": [],
   "source": [
    "while True:\n",
    "    n = int(input('Indique un numero impar: '))\n",
    "    if n%2 != 0: break"
   ]
  },
  {
   "cell_type": "markdown",
   "metadata": {},
   "source": [
    "#### Solución 2"
   ]
  },
  {
   "cell_type": "code",
   "execution_count": null,
   "metadata": {},
   "outputs": [],
   "source": [
    "n = 2\n",
    "while n%2 == 0:\n",
    "    n = int(input('Indique un numero impar: '))"
   ]
  }
 ],
 "metadata": {
  "kernelspec": {
   "display_name": "Python 3",
   "language": "python",
   "name": "python3"
  },
  "language_info": {
   "codemirror_mode": {
    "name": "ipython",
    "version": 3
   },
   "file_extension": ".py",
   "mimetype": "text/x-python",
   "name": "python",
   "nbconvert_exporter": "python",
   "pygments_lexer": "ipython3",
   "version": "3.8.5"
  }
 },
 "nbformat": 4,
 "nbformat_minor": 5
}
