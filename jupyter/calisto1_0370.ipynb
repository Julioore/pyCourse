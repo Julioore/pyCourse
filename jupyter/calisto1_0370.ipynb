{
 "cells": [
  {
   "cell_type": "markdown",
   "id": "970c9a05",
   "metadata": {},
   "source": [
    "# Listas con estructuras [1]"
   ]
  },
  {
   "cell_type": "code",
   "execution_count": null,
   "id": "c0391c0f",
   "metadata": {},
   "outputs": [],
   "source": [
    "lista=['leche','queso','fruta','jamón']\n",
    "for elemento in lista:\n",
    "    print(elemento)"
   ]
  },
  {
   "cell_type": "code",
   "execution_count": null,
   "id": "0bda6dac",
   "metadata": {},
   "outputs": [],
   "source": [
    "for i in range(len(lista)):\n",
    "    print(i,lista[i])"
   ]
  },
  {
   "cell_type": "markdown",
   "id": "e8909bd3",
   "metadata": {},
   "source": [
    "i=0\n",
    "while i<len(lista):\n",
    "    print('Comprar:',lista[i])\n",
    "    i+=1"
   ]
  },
  {
   "cell_type": "markdown",
   "id": "abe79239",
   "metadata": {},
   "source": [
    "## El método ```enumerate```  \n",
    "\n",
    "```enumerate()``` es un método que nos ayuda a llevar el recuento de los elementos de un iterable.  \n",
    "Agrega un contador a un iterable y lo devuelve en forma de objeto enumerado. Este objeto enumerado se puede usar directamente en bucles for o convertirse en una lista de tuplas usando el método ```list()```."
   ]
  },
  {
   "cell_type": "markdown",
   "id": "d8f09ccf",
   "metadata": {},
   "source": [
    "### ```enumerate``` con una lista"
   ]
  },
  {
   "cell_type": "code",
   "execution_count": null,
   "id": "8b078985",
   "metadata": {},
   "outputs": [],
   "source": [
    "lista=['Berlín','París','Roma','Londres']\n",
    "print(type(enumerate(lista)))\n",
    "print(enumerate(lista))\n",
    "print(list(enumerate(lista)))"
   ]
  },
  {
   "cell_type": "markdown",
   "id": "1d73ba34",
   "metadata": {},
   "source": [
    "### ```enumerate``` con un string"
   ]
  },
  {
   "cell_type": "code",
   "execution_count": null,
   "id": "f01c8294",
   "metadata": {},
   "outputs": [],
   "source": [
    "palabra='Madrid'\n",
    "print(type(enumerate(palabra)))\n",
    "print(enumerate(palabra))\n",
    "print(list(enumerate(palabra)))"
   ]
  },
  {
   "cell_type": "markdown",
   "id": "55fd8873",
   "metadata": {},
   "source": [
    "### ```enumerate``` iterado en un ```for```"
   ]
  },
  {
   "cell_type": "code",
   "execution_count": null,
   "id": "a9c78cd6",
   "metadata": {},
   "outputs": [],
   "source": [
    "lista=['Berlín','París','Roma','Londres']\n",
    "for elemento in lista:\n",
    "    print(elemento)"
   ]
  },
  {
   "cell_type": "markdown",
   "id": "170dc43e",
   "metadata": {},
   "source": [
    "#### Imprimiendo por separado índice y valor  \n",
    "Con ```enumerate``` en un ```for``` podemos obtener en cada iteración el índice y el valor de cada elemento de la lista."
   ]
  },
  {
   "cell_type": "code",
   "execution_count": null,
   "id": "908a2b98",
   "metadata": {},
   "outputs": [],
   "source": [
    "for i,v in enumerate(lista):             # i: índice, v: valor\n",
    "    print (i,v)"
   ]
  },
  {
   "cell_type": "markdown",
   "id": "3793417c",
   "metadata": {},
   "source": [
    "#### También podemos cambiar el contador"
   ]
  },
  {
   "cell_type": "code",
   "execution_count": null,
   "id": "3effa699",
   "metadata": {},
   "outputs": [],
   "source": [
    "for contador,valor in enumerate(lista,10):\n",
    "    print (contador, valor)"
   ]
  },
  {
   "cell_type": "markdown",
   "id": "5a06132f",
   "metadata": {},
   "source": [
    "### Podemos meter en una lista las tuplas formadas por contador y valor"
   ]
  },
  {
   "cell_type": "code",
   "execution_count": null,
   "id": "0f734d9e",
   "metadata": {},
   "outputs": [],
   "source": [
    "print(list(enumerate(lista,1)))\n",
    "print(type(list(enumerate(lista,1))[0]))    # El primer elemento de la list es una tupla"
   ]
  }
 ],
 "metadata": {
  "kernelspec": {
   "display_name": "Python 3",
   "language": "python",
   "name": "python3"
  },
  "language_info": {
   "codemirror_mode": {
    "name": "ipython",
    "version": 3
   },
   "file_extension": ".py",
   "mimetype": "text/x-python",
   "name": "python",
   "nbconvert_exporter": "python",
   "pygments_lexer": "ipython3",
   "version": "3.8.10"
  }
 },
 "nbformat": 4,
 "nbformat_minor": 5
}
