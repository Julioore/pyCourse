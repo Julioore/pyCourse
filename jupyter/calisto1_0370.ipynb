{
 "cells": [
  {
   "cell_type": "markdown",
   "id": "970c9a05",
   "metadata": {},
   "source": [
    "# Listas con estructuras [1]"
   ]
  },
  {
   "cell_type": "markdown",
   "id": "06fb2557",
   "metadata": {},
   "source": [
    "Partimos de un lista de elementos."
   ]
  },
  {
   "cell_type": "code",
   "execution_count": null,
   "id": "8b0064b2",
   "metadata": {},
   "outputs": [],
   "source": [
    "lista=['leche','queso','fruta','jamón']"
   ]
  },
  {
   "cell_type": "markdown",
   "id": "3f9dc67b",
   "metadata": {},
   "source": [
    "### Deseamos recorrer la lista con un ```for```"
   ]
  },
  {
   "cell_type": "code",
   "execution_count": null,
   "id": "c0391c0f",
   "metadata": {},
   "outputs": [],
   "source": [
    "for elemento in lista:\n",
    "    print(elemento)"
   ]
  },
  {
   "cell_type": "markdown",
   "id": "58c902e8",
   "metadata": {},
   "source": [
    "### Llamando a cada elemento de la lista por su índice"
   ]
  },
  {
   "cell_type": "code",
   "execution_count": null,
   "id": "0bda6dac",
   "metadata": {},
   "outputs": [],
   "source": [
    "for i in range(len(lista)):\n",
    "    print(i,lista[i])"
   ]
  },
  {
   "cell_type": "markdown",
   "id": "6fc68020",
   "metadata": {},
   "source": [
    "### También se puede usar un ```while```"
   ]
  },
  {
   "cell_type": "code",
   "execution_count": null,
   "id": "51fd6d4f",
   "metadata": {},
   "outputs": [],
   "source": [
    "i=0\n",
    "while i<len(lista):\n",
    "    print('Comprar:',lista[i])\n",
    "    i+=1"
   ]
  },
  {
   "cell_type": "markdown",
   "id": "71627d3f",
   "metadata": {},
   "source": [
    "## Alterar el valor de una lista"
   ]
  },
  {
   "cell_type": "code",
   "execution_count": null,
   "id": "14b4ebc6",
   "metadata": {},
   "outputs": [],
   "source": [
    "numeros = [1,2,3,4,5,6,7,8,9,10]\n",
    "\n",
    "for numero in numeros:\n",
    "    numero *= 10\n",
    "\n",
    "numeros\n",
    "# no hemos conseguido alterar los valores de la lista números\n",
    "# ya que la variable número dentro de for es una variable local"
   ]
  },
  {
   "cell_type": "markdown",
   "id": "ded48b43",
   "metadata": {},
   "source": [
    "Ahora si vamos a conseguir alterar el valor de los elementos de la lista números llamándolos por su índice."
   ]
  },
  {
   "cell_type": "code",
   "execution_count": null,
   "id": "0f72a51f",
   "metadata": {},
   "outputs": [],
   "source": [
    "i=0                                   # índice externo\n",
    "for numero in numeros:\n",
    "    numeros[i] *= 10\n",
    "    i += 1\n",
    "    \n",
    "numeros                               # así conseguimos multiplicar por 10 todos los elementos de la lista números"
   ]
  },
  {
   "cell_type": "markdown",
   "id": "0b656a7a",
   "metadata": {},
   "source": [
    "Python nos permite disponer del método ```enumerate``` que nos ayudará a conseguir esto sin necesidad de índice externo."
   ]
  },
  {
   "cell_type": "markdown",
   "id": "abe79239",
   "metadata": {},
   "source": [
    "## El método ```enumerate```"
   ]
  },
  {
   "cell_type": "code",
   "execution_count": null,
   "id": "405f303f",
   "metadata": {},
   "outputs": [],
   "source": [
    "numeros = [1,2,3,4,5,6,7,8,9,10]\n",
    "\n",
    "for i, numero in enumerate(numeros):  # i es el índice\n",
    "    numeros[i] *= 10\n",
    "    \n",
    "numeros                               # así conseguimos multiplicar por 10 todos los elementos de la lista números"
   ]
  },
  {
   "cell_type": "markdown",
   "id": "5f1a6787",
   "metadata": {},
   "source": [
    "```enumerate()``` es un método que nos ayuda a llevar el recuento de los elementos de un iterable.  \n",
    "Agrega un contador a un iterable y lo devuelve en forma de objeto enumerado. Este objeto enumerado se puede usar directamente en bucles ```for``` o convertirse en una lista de tuplas usando el método ```list()```."
   ]
  },
  {
   "cell_type": "markdown",
   "id": "d8f09ccf",
   "metadata": {},
   "source": [
    "### ```enumerate``` con una lista"
   ]
  },
  {
   "cell_type": "code",
   "execution_count": null,
   "id": "8b078985",
   "metadata": {},
   "outputs": [],
   "source": [
    "lista=['Berlín','París','Roma','Londres']\n",
    "print(type(enumerate(lista)))\n",
    "print(enumerate(lista))\n",
    "print(list(enumerate(lista)))"
   ]
  },
  {
   "cell_type": "markdown",
   "id": "1d73ba34",
   "metadata": {},
   "source": [
    "### ```enumerate``` con un string"
   ]
  },
  {
   "cell_type": "code",
   "execution_count": null,
   "id": "f01c8294",
   "metadata": {},
   "outputs": [],
   "source": [
    "palabra='Madrid'\n",
    "print(type(enumerate(palabra)))\n",
    "print(enumerate(palabra))\n",
    "print(list(enumerate(palabra)))"
   ]
  },
  {
   "cell_type": "markdown",
   "id": "55fd8873",
   "metadata": {},
   "source": [
    "### ```enumerate``` iterado en un ```for```"
   ]
  },
  {
   "cell_type": "code",
   "execution_count": null,
   "id": "a9c78cd6",
   "metadata": {},
   "outputs": [],
   "source": [
    "lista=['Berlín','París','Roma','Londres']\n",
    "for elemento in lista:\n",
    "    print(elemento)"
   ]
  },
  {
   "cell_type": "markdown",
   "id": "170dc43e",
   "metadata": {},
   "source": [
    "#### Imprimiendo por separado índice y valor  \n",
    "Con ```enumerate``` en un ```for``` podemos obtener en cada iteración el índice y el valor de cada elemento de la lista."
   ]
  },
  {
   "cell_type": "code",
   "execution_count": null,
   "id": "908a2b98",
   "metadata": {},
   "outputs": [],
   "source": [
    "for i,v in enumerate(lista):             # i: índice, v: valor\n",
    "    print (i,v)"
   ]
  },
  {
   "cell_type": "markdown",
   "id": "3793417c",
   "metadata": {},
   "source": [
    "#### También podemos cambiar el contador"
   ]
  },
  {
   "cell_type": "code",
   "execution_count": null,
   "id": "3effa699",
   "metadata": {},
   "outputs": [],
   "source": [
    "for contador,valor in enumerate(lista,10):\n",
    "    print (contador, valor)"
   ]
  },
  {
   "cell_type": "markdown",
   "id": "5a06132f",
   "metadata": {},
   "source": [
    "### Podemos meter en una lista las tuplas formadas por contador y valor"
   ]
  },
  {
   "cell_type": "code",
   "execution_count": null,
   "id": "0f734d9e",
   "metadata": {},
   "outputs": [],
   "source": [
    "print(list(enumerate(lista,1)))\n",
    "print(type(list(enumerate(lista,1))[0]))    # El primer elemento de la list es una tupla"
   ]
  },
  {
   "cell_type": "markdown",
   "id": "8ea0cd56",
   "metadata": {},
   "source": [
    "## Las cadenas son inmutables\n",
    "No se pueden cambiar los valores de los caracteres de un string al vuelo.  \n",
    "El siguiente código da error.  \n",
    "Queremos cambiar las vocales por asteriscos en una frase."
   ]
  },
  {
   "cell_type": "code",
   "execution_count": null,
   "id": "ba871722",
   "metadata": {},
   "outputs": [],
   "source": [
    "saludo = 'Buenas tardes'\n",
    "for i,c in enumerate(saludo):               # c recorre todos los caracteres de la frase\n",
    "    if c in ('a','e','i','o','u'):\n",
    "        saludo[i] = '*'\n",
    "\n",
    "saludo                                      # TypeError: 'str' object does not support item assignment\n",
    "                                            # Las cadenas son inmutables"
   ]
  },
  {
   "cell_type": "markdown",
   "id": "7f8eb5ac",
   "metadata": {},
   "source": [
    "Podemos conseguir nuestro objetivo y cambiar las vocales por asteriscos en una frase, creando una nueva frase destino."
   ]
  },
  {
   "cell_type": "code",
   "execution_count": null,
   "id": "ef24189d",
   "metadata": {},
   "outputs": [],
   "source": [
    "saludo = 'Buenas tardes'\n",
    "saludo2 = ''\n",
    "for i,c in enumerate(saludo):               # c recorre todos los caracteres de la frase\n",
    "    if c in ('a','e','i','o','u'):\n",
    "        saludo2 += '*'\n",
    "    else:\n",
    "        saludo2 += saludo[i]\n",
    "\n",
    "saludo2 "
   ]
  },
  {
   "cell_type": "markdown",
   "id": "44564800",
   "metadata": {},
   "source": [
    "Ahora queremos duplicar los caracteres de una frase."
   ]
  },
  {
   "cell_type": "code",
   "execution_count": null,
   "id": "01a23738",
   "metadata": {},
   "outputs": [],
   "source": [
    "saludo = 'Buenas tardes'\n",
    "saludo2 = ''\n",
    "for c in saludo:                            # c recorre todos los caracteres de la frase\n",
    "    saludo2 += c *2\n",
    "\n",
    "saludo2 "
   ]
  },
  {
   "cell_type": "markdown",
   "id": "02c0ddaa",
   "metadata": {},
   "source": [
    "### Ejemplo\n",
    "Pedir al usuario un número entero n entre 1 y 9, ambos incluidos.  \n",
    "Listar los multiplos de n hasta 100."
   ]
  },
  {
   "cell_type": "code",
   "execution_count": null,
   "id": "9d6542ef",
   "metadata": {},
   "outputs": [],
   "source": [
    "while True:\n",
    "    n = int(input('Introduzca un número entero entre 1 y 9: '))\n",
    "    if 0<n<=9:\n",
    "        print(f'Los múltiplos de {n} hasta 100 son:')\n",
    "        print(list(range(n, 101, n)))\n",
    "    else:\n",
    "        break"
   ]
  }
 ],
 "metadata": {
  "kernelspec": {
   "display_name": "Python 3",
   "language": "python",
   "name": "python3"
  },
  "language_info": {
   "codemirror_mode": {
    "name": "ipython",
    "version": 3
   },
   "file_extension": ".py",
   "mimetype": "text/x-python",
   "name": "python",
   "nbconvert_exporter": "python",
   "pygments_lexer": "ipython3",
   "version": "3.8.8"
  }
 },
 "nbformat": 4,
 "nbformat_minor": 5
}
