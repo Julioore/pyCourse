{
 "cells": [
  {
   "cell_type": "markdown",
   "id": "0554b205",
   "metadata": {},
   "source": [
    "# Bucle ```while```    [2]"
   ]
  },
  {
   "cell_type": "code",
   "execution_count": null,
   "id": "3a305327",
   "metadata": {},
   "outputs": [],
   "source": [
    "a = 0\n",
    "while a < 100:\n",
    "    print(\"El valor de a es menor de 100, por ahora vale: \", a)\n",
    "    a += 10"
   ]
  },
  {
   "cell_type": "code",
   "execution_count": null,
   "id": "7340cebd",
   "metadata": {},
   "outputs": [],
   "source": [
    "password = \"\"        #inicializamos la variable\n",
    "while password != \"Tokio2020\":\n",
    "    password = str(input(\"Introduzca la contraseña: \"))\n",
    "print(\"Contraseña correcta. Puede acceder.\")"
   ]
  },
  {
   "cell_type": "code",
   "execution_count": null,
   "id": "4076672c",
   "metadata": {},
   "outputs": [],
   "source": [
    "while True:\n",
    "    password = str(input(\"Introduzca la contraseña: \"))\n",
    "    if password == \"París2024\": break\n",
    "print(\"Contraseña correcta. \\nPuede acceder.\")   #Con \\n hacemos un retorno de carro"
   ]
  },
  {
   "cell_type": "code",
   "execution_count": null,
   "id": "d8c854ac",
   "metadata": {},
   "outputs": [],
   "source": [
    "milista = ['cero', 'uno', 'dos', 'tres']\n",
    "while milista:           #cuando la lista está vacía da False\n",
    "    print(milista.pop(-1))"
   ]
  },
  {
   "cell_type": "markdown",
   "id": "bb8c0d52",
   "metadata": {},
   "source": [
    "## No existe Switch en Python\n",
    "En Python no existe la estructura Select Case o Switch-Case, pero podemos construir su equivalente."
   ]
  },
  {
   "cell_type": "code",
   "execution_count": null,
   "id": "919305f5",
   "metadata": {},
   "outputs": [],
   "source": [
    "aeropuerto = \"MAD\"               #Equivale a Select Case de otros lenguajes, o Switch-Case\n",
    "while True:\n",
    "    if aeropuerto == \"MAD\": print(\"El destino es el aeropuerto de Madrid\"); break \n",
    "    if aeropuerto == \"BNC\": print(\"El destino es el aeropuerto de Barcelona\"); break\n",
    "    if aeropuerto == \"TFN\": print(\"El destino es el aeropuerto de Tenerife Norte\"); break\n",
    "    break"
   ]
  },
  {
   "cell_type": "markdown",
   "id": "719c7232",
   "metadata": {},
   "source": [
    "## Seguir pidiendo datos hasta que se introduzca uno válido\n",
    "Podemos crear un menú donde el seguirá introduciendo valores con un ```input``` hasta que se introduzca uno admitido dentro de las opciones del menú."
   ]
  },
  {
   "cell_type": "code",
   "execution_count": null,
   "id": "145dc9bb",
   "metadata": {},
   "outputs": [],
   "source": [
    "print(\"Bienvenido al menú que le permite elegir aeropuerto de destino.\")\n",
    "while True:\n",
    "    print('''Indique su destino:\n",
    "        \\t1\\tDestino Madrid\n",
    "        \\t2\\tDestino Barcelona\n",
    "        \\t3\\tDestino Tenerife Norte''')\n",
    "    opcion = input(\"Indique la opción elegida.\")\n",
    "    if opcion == '1':\n",
    "        print(\"Emitiendo tarjeta de embarque destino MAD.\")\n",
    "        break\n",
    "    elif opcion == '2':\n",
    "        print(\"Emitiendo tarjeta de embarque destino BNC.\")\n",
    "        break\n",
    "    elif opcion == '3':\n",
    "        print(\"Emitiendo tarjeta de embarque destino TFN.\")\n",
    "        break\n",
    "    else:\n",
    "        print(\"Debe elegir la opción 1,2 o 3.\")\n",
    "        print(\"Vuelva a intentarlo.\\n\")\n",
    "print(\"Buen vuelo.\")"
   ]
  },
  {
   "cell_type": "markdown",
   "id": "706e05a3",
   "metadata": {},
   "source": [
    "En el código anterior se sale del bucle cuando se elige una de las opciones permitidas.  \n",
    "En el siguiente código se sale del bucle cuando se elige una opción concreta de salida, pero con el resto se repite el bucle."
   ]
  },
  {
   "cell_type": "code",
   "execution_count": null,
   "id": "68eda9ea",
   "metadata": {},
   "outputs": [],
   "source": [
    "print(\"CALCULADORA\")\n",
    "x=float(input('Indique el primer número:'))\n",
    "y=float(input('Indique el segundo número:'))\n",
    "while True:\n",
    "    print(f'''\\nOperar con los números {x} y {y}. Elija la operación a realizar:\n",
    "    1 Suma\n",
    "    2 Producto\n",
    "    3 División\n",
    "    4 Salir''')\n",
    "    n=input()\n",
    "    if n=='1': print(f\"La suma de {x} e {y} es {x+y}.\")\n",
    "    elif n=='2': print(f\"El producto de {x} e {y} es {x*y}.\")\n",
    "    elif n=='3': print(f\"Al dividir {x} entre {y} obtenemos {x/y}.\")\n",
    "    elif n=='4': print(\"Saliendo de la calculadora...\"); break\n",
    "    else: print(\"Opción desconocida, vuelva a intentarlo.\")\n",
    "    "
   ]
  },
  {
   "cell_type": "markdown",
   "id": "fef5e0db",
   "metadata": {},
   "source": [
    "### Ejercicio  \n",
    "Cree otra versión del código anterior de calculadora donde exista una opción adicional del menú que permita solicitar al usuario nuevos números x e y."
   ]
  },
  {
   "cell_type": "markdown",
   "id": "3e29a3f8",
   "metadata": {},
   "source": [
    "### Ejercicio \n",
    "Pedir números por teclado hasta que se introduzca uno impar."
   ]
  },
  {
   "cell_type": "markdown",
   "id": "1bcae45c",
   "metadata": {},
   "source": [
    "#### Solución 1"
   ]
  },
  {
   "cell_type": "code",
   "execution_count": null,
   "id": "0bbe274e",
   "metadata": {},
   "outputs": [],
   "source": [
    "while True:\n",
    "    n = int(input('Indique un numero impar'))\n",
    "    if n%2!=0: break"
   ]
  },
  {
   "cell_type": "markdown",
   "id": "ccbc776c",
   "metadata": {},
   "source": [
    "#### Solución 2"
   ]
  },
  {
   "cell_type": "code",
   "execution_count": null,
   "id": "07b2ee18",
   "metadata": {},
   "outputs": [],
   "source": [
    "n = 2\n",
    "while n%2==0:\n",
    "    n=int(input('Indique un numero impar'))"
   ]
  }
 ],
 "metadata": {
  "kernelspec": {
   "display_name": "Python 3",
   "language": "python",
   "name": "python3"
  },
  "language_info": {
   "codemirror_mode": {
    "name": "ipython",
    "version": 3
   },
   "file_extension": ".py",
   "mimetype": "text/x-python",
   "name": "python",
   "nbconvert_exporter": "python",
   "pygments_lexer": "ipython3",
   "version": "3.8.8"
  }
 },
 "nbformat": 4,
 "nbformat_minor": 5
}
