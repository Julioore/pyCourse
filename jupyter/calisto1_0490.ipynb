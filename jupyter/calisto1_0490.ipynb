{
 "cells": [
  {
   "cell_type": "markdown",
   "id": "4fd3e753",
   "metadata": {},
   "source": [
    "# Funciones: número indeterminado de argumentos"
   ]
  },
  {
   "cell_type": "markdown",
   "id": "55c7ce84",
   "metadata": {},
   "source": [
    "Función que suma un dos argumentos."
   ]
  },
  {
   "cell_type": "code",
   "execution_count": null,
   "id": "e98b9901",
   "metadata": {},
   "outputs": [],
   "source": [
    "def suma(numero1, numero2):\n",
    "    return numero1 + numero2"
   ]
  },
  {
   "cell_type": "markdown",
   "id": "18a934c7",
   "metadata": {},
   "source": [
    "Función que suma un número indeterminado de argumentos."
   ]
  },
  {
   "cell_type": "code",
   "execution_count": null,
   "id": "7fec957b",
   "metadata": {},
   "outputs": [],
   "source": [
    "def sumar(*valores):\n",
    "    print('valores:',valores)         # valores: (1, 2, 3, 4)    devuelve una tupla\n",
    "    total = 0\n",
    "    for valor in valores:\n",
    "        total += valor\n",
    "    return total\n",
    "\n",
    "print(sumar(1, 2, 3, 4))              # 10"
   ]
  },
  {
   "cell_type": "markdown",
   "id": "026c7fe3",
   "metadata": {},
   "source": [
    "Calcular el menor de una serie de valores.  \n",
    "No sabemos cuántos valores tendremos que analizar."
   ]
  },
  {
   "cell_type": "code",
   "execution_count": null,
   "id": "4404bae3",
   "metadata": {},
   "outputs": [],
   "source": [
    "def encontrar_menor(*valores):\n",
    "    menor=valores[0]\n",
    "    for valor in valores:\n",
    "        if valor < menor:\n",
    "            menor = valor\n",
    "    return menor\n",
    "\n",
    "print(encontrar_menor(6, 9, 3))"
   ]
  },
  {
   "cell_type": "markdown",
   "id": "7eddc733",
   "metadata": {},
   "source": [
    "Imprimir los pares clave valor de un diccionario."
   ]
  },
  {
   "cell_type": "code",
   "execution_count": null,
   "id": "632facfe",
   "metadata": {},
   "outputs": [],
   "source": [
    "def imprimir_parametros(**valores):\n",
    "    for k, v in valores.items():              # k, v son los pares “key:value”\n",
    "        print(f'{k} → {v}')\n",
    "\n",
    "imprimir_parametros(a=6, b=9, c=3)"
   ]
  },
  {
   "cell_type": "code",
   "execution_count": null,
   "id": "a80c1a5c",
   "metadata": {},
   "outputs": [],
   "source": [
    "d = {'x':1,'y':2,'z':3}                       # creamos un diccionario\n",
    "print(d)\n",
    "imprimir_parametros(**d)"
   ]
  }
 ],
 "metadata": {
  "kernelspec": {
   "display_name": "Python 3",
   "language": "python",
   "name": "python3"
  },
  "language_info": {
   "codemirror_mode": {
    "name": "ipython",
    "version": 3
   },
   "file_extension": ".py",
   "mimetype": "text/x-python",
   "name": "python",
   "nbconvert_exporter": "python",
   "pygments_lexer": "ipython3",
   "version": "3.8.10"
  }
 },
 "nbformat": 4,
 "nbformat_minor": 5
}
