{
 "cells": [
  {
   "cell_type": "markdown",
   "id": "0a51a88a",
   "metadata": {},
   "source": [
    "# Diccionarios con estructuras"
   ]
  },
  {
   "cell_type": "code",
   "execution_count": 1,
   "id": "d5a89834",
   "metadata": {},
   "outputs": [
    {
     "name": "stdout",
     "output_type": "stream",
     "text": [
      "Ana\n",
      "Jose\n",
      "Luis\n",
      "Marta\n"
     ]
    }
   ],
   "source": [
    "edades = {'Ana':20,'Jose':23,'Luis':28,'Marta':17}\n",
    "for key in edades.keys():       #keys() Da una lista con las claves del diccionario\n",
    "    print(key)"
   ]
  },
  {
   "cell_type": "code",
   "execution_count": 2,
   "id": "96773d2f",
   "metadata": {},
   "outputs": [
    {
     "name": "stdout",
     "output_type": "stream",
     "text": [
      "20\n",
      "23\n",
      "28\n",
      "17\n"
     ]
    }
   ],
   "source": [
    "for value in edades.values():   #values() Da una lista con los valores del diccionario\n",
    "    print(value)"
   ]
  },
  {
   "cell_type": "code",
   "execution_count": 3,
   "id": "c6488f2a",
   "metadata": {},
   "outputs": [
    {
     "name": "stdout",
     "output_type": "stream",
     "text": [
      "('Ana', 20)\n",
      "('Jose', 23)\n",
      "('Luis', 28)\n",
      "('Marta', 17)\n"
     ]
    }
   ],
   "source": [
    "for item in edades.items():      #items() Da una lista con tupla para cada par clave-valor\n",
    "    print(item)"
   ]
  },
  {
   "cell_type": "code",
   "execution_count": 4,
   "id": "2135e5eb",
   "metadata": {},
   "outputs": [
    {
     "name": "stdout",
     "output_type": "stream",
     "text": [
      "Ana tiene 20 años.\n",
      "Jose tiene 23 años.\n",
      "Luis tiene 28 años.\n",
      "Marta tiene 17 años.\n"
     ]
    }
   ],
   "source": [
    "for k,v in edades.items():\n",
    "    print(\"{} tiene {} años.\".format(k,v))"
   ]
  },
  {
   "cell_type": "markdown",
   "id": "71e0c6d9",
   "metadata": {},
   "source": [
    "## Lista de diccionarios"
   ]
  },
  {
   "cell_type": "code",
   "execution_count": 5,
   "id": "b69f89fe",
   "metadata": {},
   "outputs": [
    {
     "data": {
      "text/plain": [
       "[{'nombre': 'Mercadona',\n",
       "  'facturacion': 23344,\n",
       "  'sector': 'comercio',\n",
       "  'sede': 'Valencia'},\n",
       " {'nombre': 'Repsol',\n",
       "  'facturacion': 21271,\n",
       "  'sector': 'refino',\n",
       "  'sede': 'Madrid'},\n",
       " {'nombre': 'CEPSA',\n",
       "  'facturacion': 18307,\n",
       "  'sector': 'refino',\n",
       "  'sede': 'Madrid'},\n",
       " {'nombre': 'Inditex',\n",
       "  'facturacion': 18261,\n",
       "  'sector': 'textil',\n",
       "  'sede': 'Coruña'}]"
      ]
     },
     "execution_count": 5,
     "metadata": {},
     "output_type": "execute_result"
    }
   ],
   "source": [
    "m = {\"nombre\":\"Mercadona\", \"facturacion\":23344, \"sector\":\"comercio\", \"sede\":\"Valencia\"}\n",
    "r = {\"nombre\":\"Repsol\", \"facturacion\":21271, \"sector\":\"refino\", \"sede\":\"Madrid\"}\n",
    "c = {\"nombre\":\"CEPSA\", \"facturacion\":18307, \"sector\":\"refino\", \"sede\":\"Madrid\"}\n",
    "i = {\"nombre\":\"Inditex\", \"facturacion\":18261, \"sector\":\"textil\", \"sede\":\"Coruña\"}\n",
    "empresas = [m,r,c,i]\n",
    "empresas"
   ]
  },
  {
   "cell_type": "markdown",
   "id": "fd3f7ec8",
   "metadata": {},
   "source": [
    "La salida anterior tiene formato de fichero JSON. Podemos visualizarlo un poco mejor en páginas como:  \n",
    "[http://jsonviewer.stack.hu](http://jsonviewer.stack.hu)  \n",
    "Podemos validar el formato JSON en la siguiente página:  \n",
    "[https://jsonformatter.curiousconcept.com](https://jsonformatter.curiousconcept.com)"
   ]
  },
  {
   "cell_type": "code",
   "execution_count": 6,
   "id": "2484cbaa",
   "metadata": {},
   "outputs": [
    {
     "name": "stdout",
     "output_type": "stream",
     "text": [
      "Mercadona comercio Valencia\n",
      "Repsol refino Madrid\n",
      "CEPSA refino Madrid\n",
      "Inditex textil Coruña\n"
     ]
    }
   ],
   "source": [
    "for empresa in empresas:                                         # con un for imprimimos los valores\n",
    "    print(empresa['nombre'],empresa['sector'],empresa['sede'])"
   ]
  },
  {
   "cell_type": "markdown",
   "id": "1af513aa",
   "metadata": {},
   "source": [
    "### Mostrando valores con tabulate\n",
    "Existe una librería que nos permite imprimir dando un formato de tabla.  \n",
    "Posiblemente tengamos que instalar la librería con el gestor de paquetes **pip**."
   ]
  },
  {
   "cell_type": "code",
   "execution_count": 7,
   "id": "e3b4f41c",
   "metadata": {},
   "outputs": [],
   "source": [
    "# instalando la librería tabulate con pip\n",
    "#pip install tabulate\n",
    "# instalando la librería tabulate con conda\n",
    "#conda install tabulate"
   ]
  },
  {
   "cell_type": "code",
   "execution_count": 8,
   "id": "1ab6bb07",
   "metadata": {},
   "outputs": [
    {
     "name": "stdout",
     "output_type": "stream",
     "text": [
      "---------  -----  --------  --------\n",
      "Mercadona  23344  comercio  Valencia\n",
      "Repsol     21271  refino    Madrid\n",
      "CEPSA      18307  refino    Madrid\n",
      "Inditex    18261  textil    Coruña\n",
      "---------  -----  --------  --------\n"
     ]
    }
   ],
   "source": [
    "from tabulate import tabulate\n",
    "print(tabulate(empresas))"
   ]
  },
  {
   "cell_type": "markdown",
   "id": "82b75efc",
   "metadata": {},
   "source": [
    "#### Mostrando la cabecera"
   ]
  },
  {
   "cell_type": "code",
   "execution_count": 9,
   "id": "ad373dd6",
   "metadata": {},
   "outputs": [
    {
     "name": "stdout",
     "output_type": "stream",
     "text": [
      "nombre       facturacion  sector    sede\n",
      "---------  -------------  --------  --------\n",
      "Mercadona          23344  comercio  Valencia\n",
      "Repsol             21271  refino    Madrid\n",
      "CEPSA              18307  refino    Madrid\n",
      "Inditex            18261  textil    Coruña\n"
     ]
    }
   ],
   "source": [
    "header = empresas[0].keys()\n",
    "rows =  [x.values() for x in empresas]\n",
    "print(tabulate(rows, header))"
   ]
  },
  {
   "cell_type": "markdown",
   "id": "1110312f",
   "metadata": {},
   "source": [
    "### Usando Pandas\n",
    "Pandas es una potente librería muy utilizada para el manejo de dataset.  \n",
    "En esta ocasión vamos a mostrar los datos en forma de DataFrame."
   ]
  },
  {
   "cell_type": "code",
   "execution_count": 10,
   "id": "a538a7ce",
   "metadata": {},
   "outputs": [
    {
     "data": {
      "text/html": [
       "<div>\n",
       "<style scoped>\n",
       "    .dataframe tbody tr th:only-of-type {\n",
       "        vertical-align: middle;\n",
       "    }\n",
       "\n",
       "    .dataframe tbody tr th {\n",
       "        vertical-align: top;\n",
       "    }\n",
       "\n",
       "    .dataframe thead th {\n",
       "        text-align: right;\n",
       "    }\n",
       "</style>\n",
       "<table border=\"1\" class=\"dataframe\">\n",
       "  <thead>\n",
       "    <tr style=\"text-align: right;\">\n",
       "      <th></th>\n",
       "      <th>nombre</th>\n",
       "      <th>facturacion</th>\n",
       "      <th>sector</th>\n",
       "      <th>sede</th>\n",
       "    </tr>\n",
       "  </thead>\n",
       "  <tbody>\n",
       "    <tr>\n",
       "      <th>0</th>\n",
       "      <td>Mercadona</td>\n",
       "      <td>23344</td>\n",
       "      <td>comercio</td>\n",
       "      <td>Valencia</td>\n",
       "    </tr>\n",
       "    <tr>\n",
       "      <th>1</th>\n",
       "      <td>Repsol</td>\n",
       "      <td>21271</td>\n",
       "      <td>refino</td>\n",
       "      <td>Madrid</td>\n",
       "    </tr>\n",
       "    <tr>\n",
       "      <th>2</th>\n",
       "      <td>CEPSA</td>\n",
       "      <td>18307</td>\n",
       "      <td>refino</td>\n",
       "      <td>Madrid</td>\n",
       "    </tr>\n",
       "    <tr>\n",
       "      <th>3</th>\n",
       "      <td>Inditex</td>\n",
       "      <td>18261</td>\n",
       "      <td>textil</td>\n",
       "      <td>Coruña</td>\n",
       "    </tr>\n",
       "  </tbody>\n",
       "</table>\n",
       "</div>"
      ],
      "text/plain": [
       "      nombre  facturacion    sector      sede\n",
       "0  Mercadona        23344  comercio  Valencia\n",
       "1     Repsol        21271    refino    Madrid\n",
       "2      CEPSA        18307    refino    Madrid\n",
       "3    Inditex        18261    textil    Coruña"
      ]
     },
     "execution_count": 10,
     "metadata": {},
     "output_type": "execute_result"
    }
   ],
   "source": [
    "import pandas as pd\n",
    "pd.DataFrame(empresas)                # empresas es el dataset"
   ]
  },
  {
   "cell_type": "markdown",
   "id": "83fbffcd",
   "metadata": {},
   "source": [
    "### Ejercicio\n",
    "Investigar la importancia de los formatos **JSON** en:\n",
    "- el tratamiento de datos\n",
    "- la compartición de información entre aplicaciones\n",
    "- las bases de datos no relacionales (noSQL), ejemplo MongoDB, que usa BSON, similar a JSON pero admite binarios  \n",
    "¿Se podría convertir una tabla disponible en Excel en un fichero JSON?"
   ]
  }
 ],
 "metadata": {
  "kernelspec": {
   "display_name": "Python 3",
   "language": "python",
   "name": "python3"
  },
  "language_info": {
   "codemirror_mode": {
    "name": "ipython",
    "version": 3
   },
   "file_extension": ".py",
   "mimetype": "text/x-python",
   "name": "python",
   "nbconvert_exporter": "python",
   "pygments_lexer": "ipython3",
   "version": "3.8.8"
  }
 },
 "nbformat": 4,
 "nbformat_minor": 5
}
