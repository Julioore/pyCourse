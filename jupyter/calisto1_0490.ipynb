{
 "cells": [
  {
   "cell_type": "markdown",
   "metadata": {},
   "source": [
    "# Funciones: número indeterminado de argumentos"
   ]
  },
  {
   "cell_type": "markdown",
   "metadata": {},
   "source": [
    "Función que suma dos argumentos."
   ]
  },
  {
   "cell_type": "code",
   "execution_count": null,
   "metadata": {},
   "outputs": [],
   "source": [
    "def suma(numero1, numero2):\n",
    "    return numero1 + numero2"
   ]
  },
  {
   "cell_type": "markdown",
   "metadata": {},
   "source": [
    "## El operador asterisco\n",
    "Función que suma un número indeterminado de argumentos."
   ]
  },
  {
   "cell_type": "code",
   "execution_count": 2,
   "metadata": {},
   "outputs": [
    {
     "name": "stdout",
     "output_type": "stream",
     "text": [
      "tupla valores: (1, 2, 3, 4)\n",
      "10\n"
     ]
    }
   ],
   "source": [
    "def sumar(*valores):\n",
    "    print('tupla valores:',valores)         # valores: (1, 2, 3, 4)    devuelve una tupla\n",
    "    total = 0\n",
    "    for valor in valores:\n",
    "        total += valor\n",
    "    return total\n",
    "\n",
    "print(sumar(1, 2, 3, 4))              # 10"
   ]
  },
  {
   "cell_type": "markdown",
   "metadata": {},
   "source": [
    "### Menor de una serie indeterminada de valores\n",
    "Calcular el menor de una serie de valores.  \n",
    "No sabemos cuántos valores tendremos que analizar.  \n",
    "Con el operador asterisco lo conseguiremos, aunque también podríamos haber pasado una lista y creado una función que calculara el mínimo de esa lista. Pero ya que tenemos el operador asterisco podemos utilizarle sin necesidad de crear listas."
   ]
  },
  {
   "cell_type": "code",
   "execution_count": 3,
   "metadata": {},
   "outputs": [
    {
     "name": "stdout",
     "output_type": "stream",
     "text": [
      "3\n"
     ]
    }
   ],
   "source": [
    "def encontrar_menor(*valores):\n",
    "    menor = valores[0]\n",
    "    for valor in valores:\n",
    "        if valor < menor:\n",
    "            menor = valor\n",
    "    return menor\n",
    "\n",
    "print(encontrar_menor(6, 9, 3))"
   ]
  },
  {
   "cell_type": "markdown",
   "metadata": {},
   "source": [
    "## Dos asteriscos\n",
    "Permite trabajar con diccionarios, pares clave:valor, cuando no sabemos cuantos elementos tendrá el diccionario."
   ]
  },
  {
   "cell_type": "markdown",
   "metadata": {},
   "source": [
    "Imprimir los pares clave valor de un diccionario."
   ]
  },
  {
   "cell_type": "code",
   "execution_count": 6,
   "metadata": {},
   "outputs": [
    {
     "name": "stdout",
     "output_type": "stream",
     "text": [
      "a → 6\n",
      "b → Python\n",
      "c → [1, 2, 3, 4]\n"
     ]
    }
   ],
   "source": [
    "def imprimir_parametros(**valores):           # recoge los argumentos en forma de diccionario\n",
    "    for k, v in valores.items():              # k, v son los pares “key:value”\n",
    "        print(f'{k} → {v}')\n",
    "\n",
    "imprimir_parametros(a=6, b='Python', c=[1,2,3,4])"
   ]
  },
  {
   "cell_type": "code",
   "execution_count": 5,
   "metadata": {},
   "outputs": [
    {
     "name": "stdout",
     "output_type": "stream",
     "text": [
      "{'x': 1, 'y': 2, 'z': 3}\n",
      "x → 1\n",
      "y → 2\n",
      "z → 3\n"
     ]
    }
   ],
   "source": [
    "d = {'x':1,'y':2,'z':3}                       # creamos un diccionario\n",
    "print(d)\n",
    "imprimir_parametros(**d)"
   ]
  },
  {
   "cell_type": "code",
   "execution_count": 18,
   "metadata": {},
   "outputs": [
    {
     "data": {
      "text/plain": [
       "{'ciudad': 'Londres', 'habitantes': 13879757, 'temperaturas': [8, 14, 24, 15]}"
      ]
     },
     "execution_count": 18,
     "metadata": {},
     "output_type": "execute_result"
    }
   ],
   "source": [
    "def reporta_dic(**valores):\n",
    "    return valores                             # retorna un diccionario\n",
    "\n",
    "reporta_dic(ciudad='Londres', habitantes= 13879757, temperaturas=[8,14,24,15])"
   ]
  },
  {
   "cell_type": "markdown",
   "metadata": {},
   "source": [
    "## Uno y dos asteriscos\n",
    "Podemos recibir un número indeterminado de argumentos más un número indeterminado de argumentos con asignación de variable. "
   ]
  },
  {
   "cell_type": "code",
   "execution_count": 31,
   "metadata": {},
   "outputs": [
    {
     "name": "stdout",
     "output_type": "stream",
     "text": [
      "dict_items([('ciudad', 'Roma'), ('poblacion', 12292895), ('region', 'Lacio'), ('nick', 'Ciudad eterna')])\n",
      "0 ciudad Roma\n",
      "1 poblacion 12292895\n",
      "2 region Lacio\n",
      "3 nick Ciudad eterna\n",
      "La temperatura media de Roma es 15.0\n"
     ]
    },
    {
     "data": {
      "text/plain": [
       "60"
      ]
     },
     "execution_count": 31,
     "metadata": {},
     "output_type": "execute_result"
    }
   ],
   "source": [
    "# La función recoge unos cuantos números y unas parejas de variable=dato\n",
    "\n",
    "def funcion(*valores,**parejas):\n",
    "    print(parejas.items())\n",
    "    for i,(k,v) in enumerate(parejas.items()):\n",
    "        print(i,k,v)\n",
    "    total=0\n",
    "    for valor in valores:\n",
    "        total+=valor\n",
    "    print(f\"La temperatura media de Roma es {total/4}\")\n",
    "    return total\n",
    "        \n",
    "funcion(7,13,24,16,ciudad=\"Roma\",poblacion=12292895,region='Lacio',nick='Ciudad eterna')"
   ]
  }
 ],
 "metadata": {
  "kernelspec": {
   "display_name": "Python 3",
   "language": "python",
   "name": "python3"
  },
  "language_info": {
   "codemirror_mode": {
    "name": "ipython",
    "version": 3
   },
   "file_extension": ".py",
   "mimetype": "text/x-python",
   "name": "python",
   "nbconvert_exporter": "python",
   "pygments_lexer": "ipython3",
   "version": "3.8.5"
  }
 },
 "nbformat": 4,
 "nbformat_minor": 5
}
