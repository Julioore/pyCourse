{
 "cells": [
  {
   "cell_type": "markdown",
   "metadata": {},
   "source": [
    "# Herencia [2]\n",
    "Veamos las funciones:\n",
    "- super()\n",
    "- isinstance()"
   ]
  },
  {
   "cell_type": "code",
   "execution_count": 17,
   "metadata": {},
   "outputs": [
    {
     "name": "stdout",
     "output_type": "stream",
     "text": [
      "Me llamo Juan, tengo 24 años y vivo en Ávila.\n"
     ]
    }
   ],
   "source": [
    "class Persona():\n",
    "    def __init__(self,nombre,edad,lugar):\n",
    "        self.nombre=nombre\n",
    "        self.edad=edad\n",
    "        self.lugar=lugar\n",
    "    def descripcion(self):\n",
    "        print(f\"Me llamo {self.nombre}, tengo {self.edad} años y vivo en {self.lugar}.\")\n",
    "        \n",
    "juan=Persona(\"Juan\",24,\"Ávila\")\n",
    "juan.descripcion()"
   ]
  },
  {
   "cell_type": "code",
   "execution_count": 18,
   "metadata": {},
   "outputs": [
    {
     "name": "stdout",
     "output_type": "stream",
     "text": [
      "Me llamo Eva María, tengo 27 años y vivo en Málaga.\n"
     ]
    }
   ],
   "source": [
    "class Empleado(Persona):                         #la clase Empleado hereda de la clase Persona\n",
    "    def __init__(self,empresa,salario,antiguedad):\n",
    "        super().__init__(\"Eva María\",27,\"Málaga\")\n",
    "        self.enpresa=empresa\n",
    "        self.salario=salario\n",
    "        self.antiguedad=antiguedad\n",
    "        \n",
    "ana=Persona(\"Ana\",35,\"Plasencia\")\n",
    "eva=Empleado(\"IBM\",35000,4)  \n",
    "eva.descripcion()"
   ]
  },
  {
   "cell_type": "markdown",
   "metadata": {},
   "source": [
    "Ahora todos los empleados se llamarán Eva María, tendrán 27 años y serán de Málaga.  \n",
    "Para solucionar este inconveniente vamos a trabajar con variables.\n"
   ]
  },
  {
   "cell_type": "code",
   "execution_count": 22,
   "metadata": {},
   "outputs": [
    {
     "name": "stdout",
     "output_type": "stream",
     "text": [
      "Me llamo Francisco, tengo 25 años y vivo en Elche.\n"
     ]
    }
   ],
   "source": [
    "class Persona():\n",
    "    def __init__(self,nombre,edad,lugar):\n",
    "        self.nombre=nombre\n",
    "        self.edad=edad\n",
    "        self.lugar=lugar\n",
    "    def descripcion(self):\n",
    "        print(f\"Me llamo {self.nombre}, tengo {self.edad} años y vivo en {self.lugar}.\")\n",
    "        \n",
    "class Empleado(Persona):\n",
    "    def __init__(self,empresa,salario,antiguedad,nombre_empleado,edad_empleado,lugar_empleado): # las variables\n",
    "        super().__init__(nombre_empleado,edad_empleado,lugar_empleado)                          # usamos variables\n",
    "        self.enpresa=empresa\n",
    "        self.salario=salario\n",
    "        self.antiguedad=antiguedad\n",
    "\n",
    "paco=Empleado(\"AXA\",28500,2,\"Francisco\",25,\"Elche\")\n",
    "paco.descripcion()\n"
   ]
  },
  {
   "cell_type": "code",
   "execution_count": null,
   "metadata": {},
   "outputs": [],
   "source": []
  }
 ],
 "metadata": {
  "kernelspec": {
   "display_name": "Python 3",
   "language": "python",
   "name": "python3"
  },
  "language_info": {
   "codemirror_mode": {
    "name": "ipython",
    "version": 3
   },
   "file_extension": ".py",
   "mimetype": "text/x-python",
   "name": "python",
   "nbconvert_exporter": "python",
   "pygments_lexer": "ipython3",
   "version": "3.8.8"
  }
 },
 "nbformat": 4,
 "nbformat_minor": 4
}
