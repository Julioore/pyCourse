{
 "cells": [
  {
   "cell_type": "markdown",
   "metadata": {},
   "source": [
    "# Introducción a las funciones [3]"
   ]
  },
  {
   "cell_type": "markdown",
   "metadata": {},
   "source": [
    "## Pass\n",
    "Una función no puede estar vacía."
   ]
  },
  {
   "cell_type": "code",
   "execution_count": 1,
   "metadata": {},
   "outputs": [],
   "source": [
    "def mi_function():\n",
    "  pass"
   ]
  },
  {
   "cell_type": "markdown",
   "metadata": {},
   "source": [
    "## Ámbito de las funciones\n",
    "Las variables creadas dentro de una función tienen ámbito local y no se reconocen fuera de la función. Las variables locales mueren al terminar la función."
   ]
  },
  {
   "cell_type": "markdown",
   "metadata": {},
   "source": [
    "### Variable de ámbito local"
   ]
  },
  {
   "cell_type": "code",
   "execution_count": 2,
   "metadata": {},
   "outputs": [
    {
     "data": {
      "text/plain": [
       "2.0"
      ]
     },
     "execution_count": 2,
     "metadata": {},
     "output_type": "execute_result"
    }
   ],
   "source": [
    "def mitad_de_cuatro():        # función de prueba que crea la variable local numero\n",
    "    numero = 4\n",
    "    return numero/2\n",
    "\n",
    "mitad_de_cuatro()"
   ]
  },
  {
   "cell_type": "code",
   "execution_count": 3,
   "metadata": {},
   "outputs": [],
   "source": [
    "#print(numero)                 # nos dará un error:  NameError: name 'numero' is not defined"
   ]
  },
  {
   "cell_type": "markdown",
   "metadata": {},
   "source": [
    "### Variable de ámbito global\n",
    "Si declaramos una variable fuera de la función si será reconocida dentro de la función. Diremos que esta variable tiene ámbito global.  \n",
    "El requisito es que la variable se declare **antes** de invocar la función."
   ]
  },
  {
   "cell_type": "code",
   "execution_count": 4,
   "metadata": {},
   "outputs": [
    {
     "name": "stdout",
     "output_type": "stream",
     "text": [
      "3.0\n"
     ]
    }
   ],
   "source": [
    "n = 9                         # declaramos y asignamos una variable global\n",
    "def raiz():                   # creamos una función sin argumentos\n",
    "    print(n**.5)              # trabajamos con la variable global n sin problemas, se reconoce dentro de la función\n",
    "    \n",
    "raiz()                        # invocamos la función sin argumentos"
   ]
  },
  {
   "cell_type": "markdown",
   "metadata": {},
   "source": [
    "#### Error al declarar la variable global después de invocar la función"
   ]
  },
  {
   "cell_type": "code",
   "execution_count": null,
   "metadata": {},
   "outputs": [],
   "source": [
    "def triple():\n",
    "    print(3*p)\n",
    "\n",
    "p = 2                          # aquí no da error \n",
    "triple()                       # dará ERROR si invocamos la función sin haber declarado y asignado la variable\n",
    "#p = 2                         # para que no de error esta línea debe ir antes de la invocación de la función"
   ]
  },
  {
   "cell_type": "markdown",
   "metadata": {},
   "source": [
    "### Variable globales y locales con el mismo nombre\n",
    "Hemos de tener precaución con las variables globales y locales con el mismo nombre, cada una de ellas actúa dentro de su ámbito.  \n",
    "Lo aconsejable es dar nombres distintos para evitar confusiones como esta:"
   ]
  },
  {
   "cell_type": "code",
   "execution_count": 5,
   "metadata": {},
   "outputs": [
    {
     "name": "stdout",
     "output_type": "stream",
     "text": [
      "Juan\n",
      "Juan\n",
      "Ana\n"
     ]
    }
   ],
   "source": [
    "def invitado():\n",
    "    nombre = 'Juan'\n",
    "    print(nombre)\n",
    "\n",
    "invitado()                # Juan → se ejecuta la función\n",
    "\n",
    "nombre = 'Ana'            # Variable Global distinta de la variable Local\n",
    "\n",
    "invitado()                # Juan → se ejecuta la función\n",
    "\n",
    "print(nombre)             # Ana  →  se imprime la variable Global"
   ]
  },
  {
   "cell_type": "markdown",
   "metadata": {},
   "source": [
    "## Una función es un objeto"
   ]
  },
  {
   "cell_type": "code",
   "execution_count": 6,
   "metadata": {},
   "outputs": [
    {
     "data": {
      "text/plain": [
       "3"
      ]
     },
     "execution_count": 6,
     "metadata": {},
     "output_type": "execute_result"
    }
   ],
   "source": [
    "def suma(a, b):\n",
    "  return a+b\n",
    "\n",
    "s = suma\n",
    "s(1, 2)"
   ]
  },
  {
   "cell_type": "code",
   "execution_count": null,
   "metadata": {},
   "outputs": [],
   "source": []
  }
 ],
 "metadata": {
  "kernelspec": {
   "display_name": "Python 3",
   "language": "python",
   "name": "python3"
  },
  "language_info": {
   "codemirror_mode": {
    "name": "ipython",
    "version": 3
   },
   "file_extension": ".py",
   "mimetype": "text/x-python",
   "name": "python",
   "nbconvert_exporter": "python",
   "pygments_lexer": "ipython3",
   "version": "3.8.8"
  }
 },
 "nbformat": 4,
 "nbformat_minor": 4
}
