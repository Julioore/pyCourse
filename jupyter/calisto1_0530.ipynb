{
 "cells": [
  {
   "cell_type": "markdown",
   "id": "3f3fc5fa",
   "metadata": {},
   "source": [
    "# Funciones. Ejemplos sencillos"
   ]
  },
  {
   "cell_type": "code",
   "execution_count": null,
   "id": "1dd7a54a",
   "metadata": {},
   "outputs": [],
   "source": [
    "def par_impar(numero):\n",
    "    if numero%2==0:\n",
    "        resultado='par'\n",
    "    else:\n",
    "        resultado='impar'\n",
    "    print(\"El número {} es {}.\".format(numero,resultado))\n",
    "par_impar(21)"
   ]
  },
  {
   "cell_type": "code",
   "execution_count": null,
   "id": "2c8f06d3",
   "metadata": {},
   "outputs": [],
   "source": [
    "def reverso(cadena):\n",
    "    return cadena[::-1]\n",
    "texto=input(\"Introduce un texto para invertir: \")\n",
    "print('El reverso es: ',reverso(texto))"
   ]
  },
  {
   "cell_type": "code",
   "execution_count": null,
   "id": "34229ed2",
   "metadata": {},
   "outputs": [],
   "source": [
    "def area_tri(base,altura):\n",
    "    return base*altura/2\n",
    "print(\"El área de un triángulo de base {} y altura {} es {}.\".format(10,4,area_tri(10,4)))"
   ]
  },
  {
   "cell_type": "code",
   "execution_count": null,
   "id": "9112f938",
   "metadata": {},
   "outputs": [],
   "source": [
    "import math \n",
    "def area_circulo(radio):\n",
    "    radio=float(radio)\n",
    "    return math.pi*radio**2\n",
    "while True:\n",
    "    r = input(\"Indique el radio del círculo o pulsa Enter: \")\n",
    "    if r==\"\":\n",
    "        break\n",
    "    print(\"El área de un círculo de radio {} es {}.\".format(r,round(area_circulo(r),1)))"
   ]
  },
  {
   "cell_type": "markdown",
   "id": "e2ef2c04",
   "metadata": {},
   "source": [
    "## Calculadora"
   ]
  },
  {
   "cell_type": "code",
   "execution_count": null,
   "id": "5aae836e",
   "metadata": {},
   "outputs": [],
   "source": [
    "def sumar(num1,num2): return num1+num2\n",
    "def restar(num1,num2):return num1-num2\n",
    "def multiplicar(num1,num2): return num1*num2\n",
    "def dividir(num1,num2): return num1/num2\n",
    "while True:\n",
    "    opcion=input(''' Menú: \\n1. Sumar\\n2. Restar\\n3. Multiplicar\\n4. Dividir\\n0. Finalizar\\n''')\n",
    "    if opcion in ('1','2','3','4'):\n",
    "        num1=float(input(\"Introduzca el primer número: \"))\n",
    "        num2=float(input(\"Introduzca el segundo número: \"))\n",
    "        if opcion=='1': print(num1,'+',num2,'=',sumar(num1,num2))\n",
    "        elif opcion=='2': print(num1,'-',num2,'=',restar(num1,num2))\n",
    "        elif opcion=='3': print(num1,'*',num2,'=',multiplicar(num1,num2))\n",
    "        elif opcion=='4': print(num1,'/',num2,'=',dividir(num1,num2))\n",
    "    else: print(\"Programa finalizado\"); break"
   ]
  }
 ],
 "metadata": {
  "kernelspec": {
   "display_name": "Python 3",
   "language": "python",
   "name": "python3"
  },
  "language_info": {
   "codemirror_mode": {
    "name": "ipython",
    "version": 3
   },
   "file_extension": ".py",
   "mimetype": "text/x-python",
   "name": "python",
   "nbconvert_exporter": "python",
   "pygments_lexer": "ipython3",
   "version": "3.8.10"
  }
 },
 "nbformat": 4,
 "nbformat_minor": 5
}
