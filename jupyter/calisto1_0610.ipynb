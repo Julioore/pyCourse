{
 "cells": [
  {
   "cell_type": "markdown",
   "metadata": {},
   "source": [
    "# Funciones: recursividad"
   ]
  },
  {
   "cell_type": "markdown",
   "metadata": {},
   "source": [
    "![recursividad](img/recursividad.png)"
   ]
  },
  {
   "cell_type": "markdown",
   "metadata": {},
   "source": [
    "## Función recursiva sin return\n",
    "Una función recursiva se llama a si misma, pero en algún momento se debe interrumpir."
   ]
  },
  {
   "cell_type": "markdown",
   "metadata": {},
   "source": [
    "### Método 1"
   ]
  },
  {
   "cell_type": "code",
   "execution_count": null,
   "metadata": {},
   "outputs": [],
   "source": [
    "def cuenta_regresiva(n):                  # cuenta atrás (countdown) usando una función que se llama a sí misma\n",
    "    n -= 1\n",
    "    if n>0:\n",
    "        print(n)\n",
    "        cuenta_regresiva(n)\n",
    "    else:\n",
    "        print(\"Hasta la vista, Baby.\")\n",
    "    #print(\"Fin función\",n)               # si queremos ver cuándo termina cada una de la funciones\n",
    "        \n",
    "cuenta_regresiva(5)"
   ]
  },
  {
   "cell_type": "markdown",
   "metadata": {},
   "source": [
    "### Método 2"
   ]
  },
  {
   "cell_type": "code",
   "execution_count": null,
   "metadata": {},
   "outputs": [],
   "source": [
    "def countdown(n):                  # cuenta atrás (countdown) usando una función que se llama a sí misma\n",
    "    if n==0:\n",
    "        print(\"Despegando...\")\n",
    "    else:\n",
    "        print(n)\n",
    "        countdown(n-1)\n",
    "\n",
    "countdown(5)"
   ]
  },
  {
   "cell_type": "markdown",
   "metadata": {},
   "source": [
    "## Función recursiva con return: acumula  \n",
    "Dado un número entero n>1 sumar todos los números desde 1 hasta n.  \n",
    "Por ejemplo, para n=5 se obtendría la suma de 1+2+3+4+5 que es 15.  \n",
    "Compruebe que la suma de los numeros del 1 al 100 es igual a 5050.  \n",
    "[Midiendo el mundo](https://youtu.be/9JxnGx0RWso)"
   ]
  },
  {
   "cell_type": "markdown",
   "metadata": {},
   "source": [
    "### Calculo del acumulado por iteración "
   ]
  },
  {
   "cell_type": "code",
   "execution_count": null,
   "metadata": {},
   "outputs": [],
   "source": [
    "def sumando(n):\n",
    "    total=0\n",
    "    for i in range(n+1):\n",
    "        total+=i\n",
    "    return total\n",
    "\n",
    "print(sumando(5))"
   ]
  },
  {
   "cell_type": "markdown",
   "metadata": {},
   "source": [
    "### Calculo del acumulado por recursión"
   ]
  },
  {
   "cell_type": "code",
   "execution_count": null,
   "metadata": {},
   "outputs": [],
   "source": [
    "def suma(n):\n",
    "    if n == 0: return 0                        # definimos el resultado para el caso base\n",
    "    else: return n + suma(n-1)                 # definimos el resultado para el resto de casos\n",
    "\n",
    "print(suma(5))"
   ]
  },
  {
   "cell_type": "markdown",
   "metadata": {},
   "source": [
    "## Factorial de un número"
   ]
  },
  {
   "cell_type": "markdown",
   "metadata": {},
   "source": [
    "El factorial de 5 es 5! = 5 * 4 * 3* 2 * 1.  \n",
    "El factorial de 0 por definición es 1. 0! = 1."
   ]
  },
  {
   "cell_type": "markdown",
   "metadata": {},
   "source": [
    "### Función factorial importando la librería math"
   ]
  },
  {
   "cell_type": "code",
   "execution_count": null,
   "metadata": {},
   "outputs": [],
   "source": [
    "from math import factorial\n",
    "factorial(5)                                   # pruebe a calcular el factorial de 1000"
   ]
  },
  {
   "cell_type": "markdown",
   "metadata": {},
   "source": [
    "### Cálculo del factorial por iteración"
   ]
  },
  {
   "cell_type": "code",
   "execution_count": null,
   "metadata": {},
   "outputs": [],
   "source": [
    "def factor(n):\n",
    "    f=1                                        #por definición el factorial de cero es 1  \n",
    "    for i in range(1,n+1):\n",
    "        f*=i\n",
    "    return f\n",
    "n = 5\n",
    "print(\"El producto de 5*4*3*2*1 es\",5*4*3*2*1)\n",
    "print(\"El factorial de\",n,\"es\",factor(n))"
   ]
  },
  {
   "cell_type": "markdown",
   "metadata": {},
   "source": [
    "### Cálculo del factorial por recursión"
   ]
  },
  {
   "cell_type": "code",
   "execution_count": 11,
   "metadata": {},
   "outputs": [
    {
     "name": "stdout",
     "output_type": "stream",
     "text": [
      "El factorial de 5 es 120\n"
     ]
    }
   ],
   "source": [
    "def fac(n):\n",
    "    if n==0: return 1\n",
    "    else: return (n*fac(n-1))                 # equivale a   else:n*=fac(n-1);return n\n",
    "    \n",
    "n = 5\n",
    "print(f\"El factorial de {n} es {fac(n)}\")"
   ]
  },
  {
   "cell_type": "markdown",
   "metadata": {},
   "source": [
    "## Sucesión de Fibonacci  \n",
    "[Sucesión de Fibonacci programada en Python](https://altocodigo.blogspot.com/2018/07/sucesion-de-fibonacci-programada-en.html)"
   ]
  },
  {
   "cell_type": "markdown",
   "metadata": {},
   "source": [
    "### Fibonacci por iteraciones"
   ]
  },
  {
   "cell_type": "code",
   "execution_count": null,
   "metadata": {},
   "outputs": [],
   "source": [
    "fibo=[0,1]\n",
    "for i in range (17):\n",
    "  fibo.append(fibo[-1]+fibo[-2])\n",
    "print(fibo)"
   ]
  },
  {
   "cell_type": "markdown",
   "metadata": {},
   "source": [
    "### Fibonacci por recursión"
   ]
  },
  {
   "cell_type": "code",
   "execution_count": null,
   "metadata": {},
   "outputs": [],
   "source": [
    "def fib(n):\n",
    "    if n <= 0: return 0\n",
    "    if n == 1: return 1\n",
    "    return fib(n-1) + fib(n-2)\n",
    "\n",
    "#print(fib(18))                      # 2584\n",
    "[fib(i) for i in range(19)]"
   ]
  },
  {
   "cell_type": "markdown",
   "metadata": {},
   "source": [
    "Otra versión similar a la anterior con una línea menos."
   ]
  },
  {
   "cell_type": "code",
   "execution_count": null,
   "metadata": {},
   "outputs": [],
   "source": [
    "def fib(n):                          # necesariamente debe ser n >= 2\n",
    "    if n <= 1: return n              # si n=1 retorna 1. si n=0 retorna 0\n",
    "    return fib(n-1) + fib(n-2)\n",
    "\n",
    "[fib(i) for i in range(19)]"
   ]
  },
  {
   "cell_type": "markdown",
   "metadata": {},
   "source": [
    "**Ejercicio**  \n",
    "Encuentre la suma de todos los términos pares en Fibonacci que no superen los cuatro millones."
   ]
  },
  {
   "cell_type": "markdown",
   "metadata": {},
   "source": [
    "## Reverso de un string por recursión"
   ]
  },
  {
   "cell_type": "code",
   "execution_count": null,
   "metadata": {},
   "outputs": [],
   "source": [
    "def reverso(cadena):\n",
    "    if len(cadena)==0: return ''\n",
    "    return cadena[-1] + reverso(cadena[:-1])\n",
    "\n",
    "print(reverso('sogima'))"
   ]
  },
  {
   "cell_type": "markdown",
   "metadata": {},
   "source": [
    "**Ejercicio**  \n",
    "Cree otro caso que se resuelva con una función por iteraciones y por recursividad. ¿Cúal de las dos versiones le resulta preferible?"
   ]
  },
  {
   "cell_type": "markdown",
   "metadata": {},
   "source": [
    "## Ventajas de la recursión  \n",
    "- Al dividir el problema en partes más pequeña es más abordable.\n",
    "- Puede llegar a mostrarse un código más limpio y ordenado."
   ]
  },
  {
   "cell_type": "markdown",
   "metadata": {},
   "source": [
    "## Inconvenientes de la recursión  \n",
    "- La lógica es dificil de seguir.\n",
    "- En Python la llamada recursiva a una función ocupa una gran cantidad de menoria ya que permanece abierta cada una de las llamadas. Python establecen en 3000 en número límite de llamadas recursivas a una función, después de ello arroja un error.  \n",
    "RecursionError: maximum recursion depth exceeded in comparison  \n",
    "Si la recursividad es demasiado profunda, puede quedarse sin espacio de pila, lo que se denomina desbordamiento de pila (**stack overflow**).\n",
    "- Otro inconveniente es que las subfunciones recursivas requieren mucho tiempo por lo que son ineficientes."
   ]
  },
  {
   "cell_type": "code",
   "execution_count": null,
   "metadata": {},
   "outputs": [],
   "source": [
    "import sys\n",
    "sys.getrecursionlimit()"
   ]
  },
  {
   "cell_type": "markdown",
   "metadata": {},
   "source": [
    "Ese límite se podría ampliar."
   ]
  },
  {
   "cell_type": "code",
   "execution_count": null,
   "metadata": {},
   "outputs": [],
   "source": [
    "#import sys\n",
    "#sys.setrecursionlimit(5000)"
   ]
  },
  {
   "cell_type": "markdown",
   "metadata": {},
   "source": [
    "## Calcular el máximo"
   ]
  },
  {
   "cell_type": "markdown",
   "metadata": {},
   "source": [
    "Ya existe una función en Python que calcula el máximo de varios números, pero vamos a crear nuestra propia función para calcular el maximo por iteración y por recursividad."
   ]
  },
  {
   "cell_type": "markdown",
   "metadata": {},
   "source": [
    "### Función max interna de Python"
   ]
  },
  {
   "cell_type": "code",
   "execution_count": null,
   "metadata": {},
   "outputs": [],
   "source": [
    "max(3,9,6)"
   ]
  },
  {
   "cell_type": "markdown",
   "metadata": {},
   "source": [
    "### Función máximo creada por iteración"
   ]
  },
  {
   "cell_type": "code",
   "execution_count": null,
   "metadata": {},
   "outputs": [],
   "source": [
    "def mimax(*numeros):                 #se pone * cuando el número de datos de entrada es indeterminado\n",
    "    maximo = numeros[0]\n",
    "    for numero in numeros:\n",
    "        if numero > maximo:\n",
    "            maximo = numero\n",
    "    return maximo\n",
    "\n",
    "print(mimax(3,9,6))"
   ]
  },
  {
   "cell_type": "code",
   "execution_count": null,
   "metadata": {},
   "outputs": [],
   "source": [
    "def mymax(numeros):                  # usando una lista no es necesario usar *\n",
    "    maximo = numeros[0]\n",
    "    for numero in numeros:\n",
    "        if numero > maximo:\n",
    "            maximo = numero\n",
    "    return maximo\n",
    "lista=[3,9,6]\n",
    "print(mymax(lista))"
   ]
  },
  {
   "cell_type": "markdown",
   "metadata": {},
   "source": [
    "### Función máximo creada por recursión"
   ]
  },
  {
   "cell_type": "markdown",
   "metadata": {},
   "source": [
    "#### Método 1 por recursión"
   ]
  },
  {
   "cell_type": "code",
   "execution_count": null,
   "metadata": {},
   "outputs": [],
   "source": [
    "def maximo(l):\n",
    "    if len(l) == 1: return l[0]\n",
    "    else: return max(l[0], maximo(l[1:]))  #calcula el max entre el primer elemento de la lista y el resto de ella\n",
    "\n",
    "num=[3,9,6]\n",
    "maximo(num)"
   ]
  },
  {
   "cell_type": "markdown",
   "metadata": {},
   "source": [
    "Una variante del códio anterior, ahora usando el final de la lista."
   ]
  },
  {
   "cell_type": "code",
   "execution_count": null,
   "metadata": {},
   "outputs": [],
   "source": [
    "def maxi(l):\n",
    "    if len(l)==1: return l[0]\n",
    "    return max(l[-1], maxi(l[:-1]))  #calcula el max entre el último elemento de la lista y el resto de ella\n",
    "\n",
    "lista=[3,9,6]\n",
    "maxi(lista)"
   ]
  },
  {
   "cell_type": "markdown",
   "metadata": {},
   "source": [
    "#### Método 2 por recursión  \n",
    "Otro método, en este caso sin usar la función matemática max.  \n",
    "Se comparan el último y el primer elemento de la lista y se va dejando el mayor en la primera posición."
   ]
  },
  {
   "cell_type": "code",
   "execution_count": null,
   "metadata": {},
   "outputs": [],
   "source": [
    "def maximo(li):                            # al final la lista li solo tendrá un elemento que será el máximo\n",
    "    if len(li)==1: return li[0]            # caso base: el máximo habrá quedado en la primera posición de la lista\n",
    "    else:\n",
    "        li[-1]>li[0]                       # actua si el último valor de la lista es mayor\n",
    "        li[-1],li[0]=li[0],li[-1]          # permutamos los valores último y primero de la lista\n",
    "        li.pop()                           # eliminamos el último valor de la lista\n",
    "    return maximo(li)\n",
    "\n",
    "li=[3,9,6]\n",
    "maximo(li)"
   ]
  },
  {
   "cell_type": "markdown",
   "metadata": {},
   "source": [
    "#### Método 3 por recursión  \n",
    "Sin usar la función matemática max y sin ir eliminando el último elemento de la lista."
   ]
  },
  {
   "cell_type": "code",
   "execution_count": null,
   "metadata": {},
   "outputs": [],
   "source": [
    "def maximiza(l):\n",
    "    if len(l) == 1:\n",
    "       return l[0]\n",
    "    else:\n",
    "       candidato = maximiza(l[1:])\n",
    "       m = l[0]\n",
    "       if candidato > m:\n",
    "            m = candidato\n",
    "       return m\n",
    "\n",
    "num=[3,9,6]                         # si la lista estuviera vacía daría error y necesitaríamos control de errores\n",
    "maximiza(num)"
   ]
  },
  {
   "cell_type": "markdown",
   "metadata": {},
   "source": [
    "## Máximo Común Divisor  \n",
    "[Máximo común divisor (MCD) en Python](https://altocodigo.blogspot.com/2021/01/maximo-comun-divisor-mcd-en-python.html)"
   ]
  },
  {
   "cell_type": "markdown",
   "metadata": {},
   "source": [
    "### MCD con la librería math.gcd"
   ]
  },
  {
   "cell_type": "code",
   "execution_count": null,
   "metadata": {},
   "outputs": [],
   "source": [
    "from math import gcd\n",
    "gcd(300,33880)"
   ]
  },
  {
   "cell_type": "markdown",
   "metadata": {},
   "source": [
    "El inconveniente de esta librería es que solo calcula el MCD de dos números.  \n",
    "Existe una propiedad del MCD que dice:  \n",
    "gcd(a,b,c)=gcd(gcd(a,b),c)  para 0≠a,b,c∈Z"
   ]
  },
  {
   "cell_type": "markdown",
   "metadata": {},
   "source": [
    "### MCD por recursión"
   ]
  },
  {
   "cell_type": "code",
   "execution_count": null,
   "metadata": {},
   "outputs": [],
   "source": [
    "from math import gcd\n",
    "\n",
    "def mcd(l):\n",
    "    if len(l)==2:\n",
    "        return gcd(l[0],l[1])\n",
    "    else:\n",
    "        return gcd(l[-1], mcd(l[:-1]))\n",
    "\n",
    "lista=[300,33880,70]\n",
    "mcd(lista)"
   ]
  }
 ],
 "metadata": {
  "kernelspec": {
   "display_name": "Python 3",
   "language": "python",
   "name": "python3"
  },
  "language_info": {
   "codemirror_mode": {
    "name": "ipython",
    "version": 3
   },
   "file_extension": ".py",
   "mimetype": "text/x-python",
   "name": "python",
   "nbconvert_exporter": "python",
   "pygments_lexer": "ipython3",
   "version": "3.8.5"
  }
 },
 "nbformat": 4,
 "nbformat_minor": 5
}
