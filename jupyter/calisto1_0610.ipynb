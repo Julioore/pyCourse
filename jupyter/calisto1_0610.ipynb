{
 "cells": [
  {
   "cell_type": "markdown",
   "id": "a59c9a79",
   "metadata": {},
   "source": [
    "# Funciones. Elegir elementos de una lista aleatoriamente"
   ]
  },
  {
   "cell_type": "code",
   "execution_count": 2,
   "id": "6b85051f",
   "metadata": {},
   "outputs": [
    {
     "name": "stdout",
     "output_type": "stream",
     "text": [
      "Lista de partida:  ['a', 'b', 'c', 'd', 'e', 'f', 'g', 'h', 'i', 'j']\n",
      "De los 10 elementos elegimos 7 aleatoriamente: ['h', 'g', 'j', 'i', 'e', 'd', 'f']\n"
     ]
    }
   ],
   "source": [
    "import random\n",
    "lista=['a','b','c','d','e','f','g','h','i','j']\n",
    "n=len(lista)                         #número de elementos totales de lista\n",
    "m=random.randint(2,n)                #número de elementos a extraer\n",
    "print(\"Lista de partida: \",lista)\n",
    "random.shuffle(lista)\n",
    "print('De los {} elementos elegimos {} aleatoriamente: {}'.format(n,m,lista[:m]))"
   ]
  },
  {
   "cell_type": "code",
   "execution_count": 3,
   "id": "89da7278",
   "metadata": {},
   "outputs": [
    {
     "name": "stdout",
     "output_type": "stream",
     "text": [
      "Lista de partida:  ['a', 'b', 'c', 'd', 'e', 'f', 'g', 'h', 'i', 'j']\n",
      "[0, 1, 2, 3, 4, 5, 6, 7, 8, 9]\n",
      "[2, 3, 7, 4, 9, 0, 6, 5, 1, 8]\n",
      "De los 10 elementos elegimos 9 aleatoriamente: ['c', 'd', 'h', 'e', 'j', 'a', 'g', 'f', 'b']\n"
     ]
    }
   ],
   "source": [
    "from random import randint\n",
    "lista=['a','b','c','d','e','f','g','h','i','j']\n",
    "n=len(lista)                         #número de elementos totales de lista\n",
    "listb=list(range(n))                 #creamos una lista con n números correlativos\n",
    "m=randint(2,n)                       #número de elementos a extraer\n",
    "print(\"Lista de partida: \",lista)\n",
    "print(listb)\n",
    "for i in range(n-1,1,-1):\n",
    "    r=randint(0,i)\n",
    "    listb[i],listb[r]=listb[r],listb[i]  #permutamos valores\n",
    "print(listb)\n",
    "extraida=[]\n",
    "for i in range(m):\n",
    "    extraida.append(lista[listb[i]])\n",
    "print('De los {} elementos elegimos {} aleatoriamente: {}'.format(n,m,extraida))"
   ]
  }
 ],
 "metadata": {
  "kernelspec": {
   "display_name": "Python 3",
   "language": "python",
   "name": "python3"
  },
  "language_info": {
   "codemirror_mode": {
    "name": "ipython",
    "version": 3
   },
   "file_extension": ".py",
   "mimetype": "text/x-python",
   "name": "python",
   "nbconvert_exporter": "python",
   "pygments_lexer": "ipython3",
   "version": "3.8.8"
  }
 },
 "nbformat": 4,
 "nbformat_minor": 5
}
