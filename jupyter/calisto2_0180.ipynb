{
 "cells": [
  {
   "cell_type": "markdown",
   "metadata": {},
   "source": [
    "# Ejemplos sin herencia [3]"
   ]
  },
  {
   "cell_type": "markdown",
   "metadata": {},
   "source": [
    "## Asignaturas\n",
    "Disponemos de la clase Carrera, por ejemplo ingeniería, en la que vamos a añadir en un diccionario las materias (álgebra, física, química,...) con un código identificador de esta materia.  \n",
    "Creamos el método agregarMateria para que dado el nombre de la materia y el código podamos añadir los elementos clave (que es el códgio) y valor (que es el nombre de la materia) al diccionario. Si hubiéramos usado listas se haría con append, pero al tratarse de un diccionario se hace con el nombre del diccionario (materias) así:\n",
    "\n",
    "materias[codigo] = materia\n",
    "\n",
    "por ejemplo\n",
    "\n",
    "materias[111] = \"cálculo\"\n",
    "\n",
    "Luego, tenemos la clase Materia con dos atributos en el constructor: materia y profesor.  \n",
    "\n",
    "Nos gustaría poder proteger (ocultar) el acceso a algunos atributos y métodos."
   ]
  },
  {
   "cell_type": "code",
   "execution_count": 1,
   "metadata": {},
   "outputs": [],
   "source": [
    "class Carrera:\n",
    "    def __init__(self, nombre):\n",
    "        self.nombre = nombre\n",
    "        self.materias = {}                       # diccionario clave:valor\n",
    "        \n",
    "    def agregarMateria(self, materia, codigo):\n",
    "        self.materias[codigo] = materia          # como es un diccionario se agrega así.\n",
    "        \n",
    "class Materia:\n",
    "    def __init__(self, nombre, profesor):\n",
    "        self.nombre = nombre\n",
    "        self.profesor = profesor\n",
    "        \n",
    "ing = Carrera(\"Ingeniería\")\n",
    "algebra = Materia(\"Álgebra\", \"Rosa Lopez\")\n",
    "fisica = Materia(\"Física\", \"Roberto Ruiz\")\n",
    "quimica = Materia(\"Química\", \"Sonia Arce\")"
   ]
  },
  {
   "cell_type": "code",
   "execution_count": 2,
   "metadata": {},
   "outputs": [],
   "source": [
    "ing.agregarMateria(algebra,345)"
   ]
  },
  {
   "cell_type": "code",
   "execution_count": 3,
   "metadata": {},
   "outputs": [
    {
     "data": {
      "text/plain": [
       "{345: <__main__.Materia at 0x7fd7902ea460>}"
      ]
     },
     "execution_count": 3,
     "metadata": {},
     "output_type": "execute_result"
    }
   ],
   "source": [
    "ing.materias                                     # vemos que se ha agregado una materia"
   ]
  },
  {
   "cell_type": "code",
   "execution_count": 4,
   "metadata": {},
   "outputs": [
    {
     "data": {
      "text/plain": [
       "{345: <__main__.Materia at 0x7fd7902ea460>,\n",
       " 589: <__main__.Materia at 0x7fd7902ea4f0>}"
      ]
     },
     "execution_count": 4,
     "metadata": {},
     "output_type": "execute_result"
    }
   ],
   "source": [
    "ing.agregarMateria(fisica,589)\n",
    "ing.materias                                     # vemos que se han agregado dos materias"
   ]
  },
  {
   "cell_type": "markdown",
   "metadata": {},
   "source": [
    "## @property\n",
    "Métodos getter y setter: usados para gestionar el ocultamiento. Los métodos Get y Set están traidos de la programación al estilo JAVA. \n",
    "\n",
    "En Python se usan más las **properties** (propiedades) esto supone que a partir de los atributos vamos a crear propiedades que son las que definen a un objeto. Vamos a enmascarar estos atributos dentro de propiedades. Podemos hacerlo con todos los atributos o con algunos concretos.\n",
    "\n",
    "Vamos a crear una **property**. Supongamos que definimos un nuevo atributo llamado *inicio* que recoge el año en el que se inició la materia. Luego lo que haremos es impedir que una materia se pueda iniciar antes del año 2019 que fué el año de creación de la titulación.\n",
    "\n",
    "Al añadir un decorador, cada vez que quereamos saber la fecha de inicio de una materia tendremos que pasar por el método inicio que nos la proporcionará. Para comprobar que esto es así, añadimos un print en el método que indique que está actuando el método inicio.\n",
    "La property se articula creando un método que se llamará igual que el atributo *inicio*."
   ]
  },
  {
   "cell_type": "code",
   "execution_count": 5,
   "metadata": {},
   "outputs": [
    {
     "name": "stdout",
     "output_type": "stream",
     "text": [
      "La titulación comenzó en 2019, por lo que la materia no puede ser de 2004.\n"
     ]
    }
   ],
   "source": [
    "class Carrera:\n",
    "    def __init__(self, nombre):\n",
    "        self.nombre = nombre\n",
    "        self.materias = {}\n",
    "    def agregarMateria(self, materia, codigo):   # nuevo atributo inicio\n",
    "        self.materias[codigo] = materia\n",
    "        \n",
    "class Materia:\n",
    "    def __init__(self, nombre, profesor, fecha):\n",
    "        self.nombre = nombre\n",
    "        self.profesor = profesor\n",
    "        self.inicio = fecha                      # año de inicio de una materia\n",
    "\n",
    "    @property                                    # decorador (decorator)\n",
    "    def inicio(self):                            # este método lo único que hace es devolver el atributo\n",
    "        print(\"El método inicio es el que nos proporciona el año de inicio para esta materia.\")\n",
    "        return self._inicio                      # OJO el atributo lleva un prefijo de barra baja que indica\n",
    "                                                 # que es privado (oculto, protegido) pero esto solo es un convenio\n",
    "    @inicio.setter\n",
    "    def inicio(self, fecha):\n",
    "        if fecha<2019:\n",
    "            self._inicio=2019                    # cambiamos la fecha para que no sea anterior al año de creación\n",
    "            print(f\"La titulación comenzó en 2019, por lo que la materia no puede ser de {fecha}.\")\n",
    "        else:\n",
    "            self._inicio=fecha                   # dejamos la fecha que nos dan\n",
    "        \n",
    "ing = Carrera(\"Ingeniería\")\n",
    "algebra = Materia(\"Álgebra\", \"Rosa Lopez\", 2004)\n",
    "fisica = Materia(\"Física\", \"Roberto Ruiz\", 2019)\n",
    "quimica = Materia(\"Química\", \"Sonia Arce\", 2021)"
   ]
  },
  {
   "cell_type": "code",
   "execution_count": 6,
   "metadata": {},
   "outputs": [
    {
     "name": "stdout",
     "output_type": "stream",
     "text": [
      "El método inicio es el que nos proporciona el año de inicio para esta materia.\n"
     ]
    },
    {
     "data": {
      "text/plain": [
       "2019"
      ]
     },
     "execution_count": 6,
     "metadata": {},
     "output_type": "execute_result"
    }
   ],
   "source": [
    "algebra.inicio                                   # no imprime directamente la fecha de inicio, primero pasa por la\n",
    "                                                 # property e imprime la frase indicada"
   ]
  },
  {
   "cell_type": "markdown",
   "metadata": {},
   "source": [
    "La property enmascara o envuelve al atributo dentro de una propiedad.  \n",
    "El setter es el que ha validado la fecha, comprobando si se trataba de un año anterior o no a 2019, año de creación de la titulación, para evitar que la fecha de inicio de una materia pueda llegar a introducirse por error con un año anterior al inicio de esa carrera.\n"
   ]
  },
  {
   "cell_type": "code",
   "execution_count": 7,
   "metadata": {},
   "outputs": [
    {
     "name": "stdout",
     "output_type": "stream",
     "text": [
      "El método inicio es el que nos proporciona el año de inicio para esta materia.\n"
     ]
    },
    {
     "data": {
      "text/plain": [
       "2021"
      ]
     },
     "execution_count": 7,
     "metadata": {},
     "output_type": "execute_result"
    }
   ],
   "source": [
    "quimica.inicio                                   # imprime el año 2021 que es el proporcionado,\n",
    "                                                 # ya que no es anterior a 2019"
   ]
  },
  {
   "cell_type": "markdown",
   "metadata": {},
   "source": [
    "Esta es una forma de ocultamiento de los datos. Si solicitamos el año de inicio de una materia directamente nos dirá que esa variable no existe, dando un error."
   ]
  },
  {
   "cell_type": "code",
   "execution_count": 8,
   "metadata": {},
   "outputs": [
    {
     "data": {
      "text/plain": [
       "'Álgebra'"
      ]
     },
     "execution_count": 8,
     "metadata": {},
     "output_type": "execute_result"
    }
   ],
   "source": [
    "algebra.nombre"
   ]
  },
  {
   "cell_type": "code",
   "execution_count": 9,
   "metadata": {},
   "outputs": [
    {
     "data": {
      "text/plain": [
       "'Rosa Lopez'"
      ]
     },
     "execution_count": 9,
     "metadata": {},
     "output_type": "execute_result"
    }
   ],
   "source": [
    "algebra.profesor"
   ]
  },
  {
   "cell_type": "code",
   "execution_count": 10,
   "metadata": {},
   "outputs": [],
   "source": [
    "#algebra.fecha                                   # AttributeError: 'Materia' object has no attribute 'fecha'"
   ]
  },
  {
   "cell_type": "markdown",
   "metadata": {},
   "source": [
    "## Ocultamiento\n",
    "Nos gustaría poder proteger el acceso directo al diccionario de materias evitando crear una materia nueva sin necesidad de pasar por el método agregarMateria, que hasta ahora es privado por convenio pero se puede saltar así."
   ]
  },
  {
   "cell_type": "code",
   "execution_count": 11,
   "metadata": {},
   "outputs": [],
   "source": [
    "ing.materias[111] = \"cálculo\"                   # así conseguimos acceder directamente al diccionario sin pasar\n",
    "                                                # por el método agregarMateria"
   ]
  },
  {
   "cell_type": "code",
   "execution_count": 12,
   "metadata": {},
   "outputs": [
    {
     "data": {
      "text/plain": [
       "{111: 'cálculo'}"
      ]
     },
     "execution_count": 12,
     "metadata": {},
     "output_type": "execute_result"
    }
   ],
   "source": [
    "ing.materias                                    # veamos que hemos borrado el contenido anterior del diccionario\n",
    "                                                # ha quedado solo la nueva materia inclida directamente"
   ]
  },
  {
   "cell_type": "code",
   "execution_count": 13,
   "metadata": {},
   "outputs": [],
   "source": [
    "ing.materias[999]=fisica                        # añadiendo ahora el objeto fisica"
   ]
  },
  {
   "cell_type": "code",
   "execution_count": 14,
   "metadata": {},
   "outputs": [
    {
     "data": {
      "text/plain": [
       "2"
      ]
     },
     "execution_count": 14,
     "metadata": {},
     "output_type": "execute_result"
    }
   ],
   "source": [
    "len(ing.materias)"
   ]
  },
  {
   "cell_type": "code",
   "execution_count": 15,
   "metadata": {},
   "outputs": [
    {
     "data": {
      "text/plain": [
       "{111: 'cálculo', 999: <__main__.Materia at 0x7fd7902ea4c0>}"
      ]
     },
     "execution_count": 15,
     "metadata": {},
     "output_type": "execute_result"
    }
   ],
   "source": [
    "ing.materias                                    # podemos ver que es un lio tener objetos creados por dos métodos"
   ]
  },
  {
   "cell_type": "markdown",
   "metadata": {},
   "source": [
    "Lo mejor es ocultar o proteger la posibilidad de que el usuario u otros programadores puedan acceder a los atributos y métodos de forma directa."
   ]
  },
  {
   "cell_type": "markdown",
   "metadata": {},
   "source": [
    "### Prefijo con dos barras bajas ```__atributo```"
   ]
  },
  {
   "cell_type": "code",
   "execution_count": 16,
   "metadata": {},
   "outputs": [],
   "source": [
    "class Carrera:\n",
    "    def __init__(self, nombre):\n",
    "        self.nombre = nombre\n",
    "        self.__materias = {}                      # prefijo __\n",
    "    def agregarMateria(self, materia, codigo):\n",
    "        self.__materias[codigo] = materia         # prefijo __\n",
    "    def getMaterias(self):                        # nuevo método para listar todas las materias\n",
    "        print(self.__materias.items())\n",
    "        \n",
    "class Materia:\n",
    "    def __init__(self, nombre, profesor, fecha):\n",
    "        self.nombre = nombre\n",
    "        self.profesor = profesor\n",
    "        self.inicio = fecha\n",
    "\n",
    "    @property\n",
    "    def inicio(self):\n",
    "        return self._inicio\n",
    "\n",
    "    @inicio.setter\n",
    "    def inicio(self, fecha):\n",
    "        if fecha<2019:\n",
    "            self._inicio=2019\n",
    "        else:\n",
    "            self._inicio=fecha\n",
    "            \n",
    "ing = Carrera(\"Ingeniería\")\n",
    "algebra = Materia(\"Álgebra\", \"Rosa Lopez\", 2004)\n",
    "fisica = Materia(\"Física\", \"Roberto Ruiz\", 2019)\n",
    "quimica = Materia(\"Química\", \"Sonia Arce\", 2021)"
   ]
  },
  {
   "cell_type": "markdown",
   "metadata": {},
   "source": [
    "Cuanto se pone un prefijo de dos barras bajas a un atributo el intérprete de Python renombra el atributo.\n",
    "\n",
    "Veamos que ahora el atributo \\__materias se llama _Carrera__materias"
   ]
  },
  {
   "cell_type": "code",
   "execution_count": 17,
   "metadata": {},
   "outputs": [
    {
     "data": {
      "text/plain": [
       "['_Carrera__materias',\n",
       " '__class__',\n",
       " '__delattr__',\n",
       " '__dict__',\n",
       " '__dir__',\n",
       " '__doc__',\n",
       " '__eq__',\n",
       " '__format__',\n",
       " '__ge__',\n",
       " '__getattribute__',\n",
       " '__gt__',\n",
       " '__hash__',\n",
       " '__init__',\n",
       " '__init_subclass__',\n",
       " '__le__',\n",
       " '__lt__',\n",
       " '__module__',\n",
       " '__ne__',\n",
       " '__new__',\n",
       " '__reduce__',\n",
       " '__reduce_ex__',\n",
       " '__repr__',\n",
       " '__setattr__',\n",
       " '__sizeof__',\n",
       " '__str__',\n",
       " '__subclasshook__',\n",
       " '__weakref__',\n",
       " 'agregarMateria',\n",
       " 'getMaterias',\n",
       " 'nombre']"
      ]
     },
     "execution_count": 17,
     "metadata": {},
     "output_type": "execute_result"
    }
   ],
   "source": [
    "dir(ing)"
   ]
  },
  {
   "cell_type": "code",
   "execution_count": 18,
   "metadata": {},
   "outputs": [],
   "source": [
    "ing.agregarMateria(algebra,345)\n",
    "ing.agregarMateria(fisica,589)"
   ]
  },
  {
   "cell_type": "code",
   "execution_count": 19,
   "metadata": {},
   "outputs": [],
   "source": [
    "#ing.__materias  # AttributeError: 'Carrera' object has no attribute '__materias'"
   ]
  },
  {
   "cell_type": "markdown",
   "metadata": {},
   "source": [
    "Aunque podemos hacer trampa y acceder de todas formas sabiendo que el atributo ahora se llama _Carrera__materias"
   ]
  },
  {
   "cell_type": "code",
   "execution_count": 20,
   "metadata": {},
   "outputs": [
    {
     "data": {
      "text/plain": [
       "{345: <__main__.Materia at 0x7fd7903204f0>,\n",
       " 589: <__main__.Materia at 0x7fd790303640>}"
      ]
     },
     "execution_count": 20,
     "metadata": {},
     "output_type": "execute_result"
    }
   ],
   "source": [
    "ing._Carrera__materias               # vemos que está funcionando"
   ]
  },
  {
   "cell_type": "markdown",
   "metadata": {},
   "source": [
    "Intentemos hacer una copia del atributo _Carrera\\__materias perteneciente al objeto ing."
   ]
  },
  {
   "cell_type": "code",
   "execution_count": 21,
   "metadata": {},
   "outputs": [],
   "source": [
    "duplicadoMaterias = ing._Carrera__materias  # vemos que funciona, no da error"
   ]
  },
  {
   "cell_type": "markdown",
   "metadata": {},
   "source": [
    "El problema de los duplicados de un diccionario, o lista, es que la copia ocupa el mismo lugar en memoria. De esta forma, si se modifica o borra la copia, al original le sudecerá lo mismo. Esto es bastante grave, ya que otro porgramador podría hacer una copia de ese diccionario, si tiene acceso a él y modificarlo, alterando completamente nuestra aplicación.\n",
    "\n",
    "Lo que se debe hacer es ocultar bien, ese método incluso de otros programadores, o de nosotros mismos que en el futuro podamos olvidar los detalles de la aplicación que estamos creando."
   ]
  },
  {
   "cell_type": "code",
   "execution_count": 22,
   "metadata": {},
   "outputs": [
    {
     "data": {
      "text/plain": [
       "{345: <__main__.Materia at 0x7fd7903204f0>,\n",
       " 589: <__main__.Materia at 0x7fd790303640>}"
      ]
     },
     "execution_count": 22,
     "metadata": {},
     "output_type": "execute_result"
    }
   ],
   "source": [
    "duplicadoMaterias                     # mismas direcciones de memoria que el original"
   ]
  },
  {
   "cell_type": "markdown",
   "metadata": {},
   "source": [
    "Si agregamos una nueva materia (quimica) al diccionario de materias, podemos comprobar que también se ha añadido a la copia."
   ]
  },
  {
   "cell_type": "code",
   "execution_count": 23,
   "metadata": {},
   "outputs": [
    {
     "data": {
      "text/plain": [
       "{345: <__main__.Materia at 0x7fd7903204f0>,\n",
       " 589: <__main__.Materia at 0x7fd790303640>,\n",
       " 888: <__main__.Materia at 0x7fd7903035e0>}"
      ]
     },
     "execution_count": 23,
     "metadata": {},
     "output_type": "execute_result"
    }
   ],
   "source": [
    "ing._Carrera__materias[888]=quimica   # añadimos la materia química al diccionario\n",
    "ing._Carrera__materias"
   ]
  },
  {
   "cell_type": "code",
   "execution_count": 24,
   "metadata": {},
   "outputs": [
    {
     "data": {
      "text/plain": [
       "{345: <__main__.Materia at 0x7fd7903204f0>,\n",
       " 589: <__main__.Materia at 0x7fd790303640>,\n",
       " 888: <__main__.Materia at 0x7fd7903035e0>}"
      ]
     },
     "execution_count": 24,
     "metadata": {},
     "output_type": "execute_result"
    }
   ],
   "source": [
    "duplicadoMaterias                     # la copia tiene tb 3 materias con la misma dirección de memoria "
   ]
  },
  {
   "cell_type": "code",
   "execution_count": 25,
   "metadata": {},
   "outputs": [
    {
     "data": {
      "text/plain": [
       "{589: <__main__.Materia at 0x7fd790303640>,\n",
       " 888: <__main__.Materia at 0x7fd7903035e0>}"
      ]
     },
     "execution_count": 25,
     "metadata": {},
     "output_type": "execute_result"
    }
   ],
   "source": [
    "duplicadoMaterias.pop(345)            # eliminamos un elemento del diccionario duplicado\n",
    "duplicadoMaterias"
   ]
  },
  {
   "cell_type": "code",
   "execution_count": 26,
   "metadata": {},
   "outputs": [
    {
     "data": {
      "text/plain": [
       "{589: <__main__.Materia at 0x7fd790303640>,\n",
       " 888: <__main__.Materia at 0x7fd7903035e0>}"
      ]
     },
     "execution_count": 26,
     "metadata": {},
     "output_type": "execute_result"
    }
   ],
   "source": [
    "ing._Carrera__materias                # tb se ha eliminado la materia en el diccionario original"
   ]
  },
  {
   "cell_type": "code",
   "execution_count": 27,
   "metadata": {},
   "outputs": [
    {
     "name": "stdout",
     "output_type": "stream",
     "text": [
      "dict_items([(589, <__main__.Materia object at 0x7fd790303640>), (888, <__main__.Materia object at 0x7fd7903035e0>)])\n"
     ]
    }
   ],
   "source": [
    "ing.getMaterias()                     # invocamos el método que nos lista internamete las materias     "
   ]
  }
 ],
 "metadata": {
  "kernelspec": {
   "display_name": "Python 3",
   "language": "python",
   "name": "python3"
  },
  "language_info": {
   "codemirror_mode": {
    "name": "ipython",
    "version": 3
   },
   "file_extension": ".py",
   "mimetype": "text/x-python",
   "name": "python",
   "nbconvert_exporter": "python",
   "pygments_lexer": "ipython3",
   "version": "3.8.5"
  }
 },
 "nbformat": 4,
 "nbformat_minor": 5
}
