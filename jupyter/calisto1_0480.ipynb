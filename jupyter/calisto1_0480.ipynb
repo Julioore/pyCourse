{
 "cells": [
  {
   "cell_type": "markdown",
   "metadata": {},
   "source": [
    "# Tuplas con estructuras"
   ]
  },
  {
   "cell_type": "code",
   "execution_count": 8,
   "metadata": {},
   "outputs": [
    {
     "name": "stdout",
     "output_type": "stream",
     "text": [
      "Primavera\n",
      "Verano\n",
      "Otoño\n",
      "Invierno\n"
     ]
    }
   ],
   "source": [
    "estaciones = ('Primavera','Verano','Otoño','Invierno')\n",
    "for i in estaciones:\n",
    "    print(i)"
   ]
  },
  {
   "cell_type": "code",
   "execution_count": 9,
   "metadata": {},
   "outputs": [
    {
     "name": "stdout",
     "output_type": "stream",
     "text": [
      "Primavera, Verano, Otoño, Invierno, \n"
     ]
    }
   ],
   "source": [
    "for estacion in estaciones:\n",
    "    print(estacion,end=', ')  #queda la última coma\n",
    "print()"
   ]
  },
  {
   "cell_type": "code",
   "execution_count": 10,
   "metadata": {},
   "outputs": [
    {
     "name": "stdout",
     "output_type": "stream",
     "text": [
      "Primavera,Verano,Otoño,Invierno\n"
     ]
    }
   ],
   "source": [
    "texto=''\n",
    "for estacion in estaciones:\n",
    "    texto+=estacion+','\n",
    "print(texto[:-1])             #así no se muestra la última coma"
   ]
  },
  {
   "cell_type": "markdown",
   "metadata": {},
   "source": [
    "## El operador ```*```"
   ]
  },
  {
   "cell_type": "code",
   "execution_count": 11,
   "metadata": {},
   "outputs": [
    {
     "name": "stdout",
     "output_type": "stream",
     "text": [
      "Primavera, Verano, Otoño, Invierno\n"
     ]
    }
   ],
   "source": [
    "print(*estaciones,sep=', ')"
   ]
  },
  {
   "cell_type": "code",
   "execution_count": 12,
   "metadata": {},
   "outputs": [
    {
     "name": "stdout",
     "output_type": "stream",
     "text": [
      "Verano, Otoño\n"
     ]
    }
   ],
   "source": [
    "print(*(i for i in estaciones if len(i)<7),sep=', ')        #Verano, Otoño"
   ]
  }
 ],
 "metadata": {
  "kernelspec": {
   "display_name": "Python 3",
   "language": "python",
   "name": "python3"
  },
  "language_info": {
   "codemirror_mode": {
    "name": "ipython",
    "version": 3
   },
   "file_extension": ".py",
   "mimetype": "text/x-python",
   "name": "python",
   "nbconvert_exporter": "python",
   "pygments_lexer": "ipython3",
   "version": "3.8.5"
  }
 },
 "nbformat": 4,
 "nbformat_minor": 5
}
