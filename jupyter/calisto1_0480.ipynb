{
 "cells": [
  {
   "cell_type": "markdown",
   "id": "c435ef52",
   "metadata": {},
   "source": [
    "# Funciones con retorno múltiple"
   ]
  },
  {
   "cell_type": "markdown",
   "id": "756d0960",
   "metadata": {},
   "source": [
    "Se devuelve una tupla."
   ]
  },
  {
   "cell_type": "code",
   "execution_count": 4,
   "id": "1f57b049",
   "metadata": {},
   "outputs": [
    {
     "name": "stdout",
     "output_type": "stream",
     "text": [
      "(10, 15)\n"
     ]
    }
   ],
   "source": [
    "def multi(x):\n",
    "    doble=2*x\n",
    "    triple=3*x\n",
    "    return (doble, triple)\n",
    "print(multi(5))           #(10, 15)"
   ]
  },
  {
   "cell_type": "code",
   "execution_count": 5,
   "id": "362de8d4",
   "metadata": {},
   "outputs": [
    {
     "name": "stdout",
     "output_type": "stream",
     "text": [
      "(8, 12)\n"
     ]
    }
   ],
   "source": [
    "(a,b)=multi(4)\n",
    "print((a,b))              #(8,12)"
   ]
  },
  {
   "cell_type": "code",
   "execution_count": 6,
   "id": "e724321a",
   "metadata": {},
   "outputs": [
    {
     "name": "stdout",
     "output_type": "stream",
     "text": [
      "a = 8\n",
      "b = 12\n"
     ]
    }
   ],
   "source": [
    "print(\"a =\",a)\n",
    "print(\"b =\",b)"
   ]
  },
  {
   "cell_type": "code",
   "execution_count": 7,
   "id": "0a85cd62",
   "metadata": {},
   "outputs": [
    {
     "name": "stdout",
     "output_type": "stream",
     "text": [
      "<class 'tuple'>\n"
     ]
    }
   ],
   "source": [
    "print(type((a,b)))        # (a,b) es una tupla"
   ]
  },
  {
   "cell_type": "markdown",
   "id": "463a6a83",
   "metadata": {},
   "source": [
    "## Convertir segundos en horas, minutos, segundos"
   ]
  },
  {
   "cell_type": "code",
   "execution_count": 8,
   "id": "3cf56005",
   "metadata": {},
   "outputs": [
    {
     "name": "stdout",
     "output_type": "stream",
     "text": [
      "(27, 46, 40)\n"
     ]
    }
   ],
   "source": [
    "def tiempo(seg):\n",
    "    h = int(seg / 3600)\n",
    "    m = int((seg % 3600) / 60)\n",
    "    s = (seg % 3600 ) % 60\n",
    "    return (h,m,s)\n",
    "print(tiempo(100000))        #(27, 46, 40)"
   ]
  },
  {
   "cell_type": "markdown",
   "id": "dd1cd1da",
   "metadata": {},
   "source": [
    "**Ejercicio**  \n",
    "Incluya los días."
   ]
  }
 ],
 "metadata": {
  "kernelspec": {
   "display_name": "Python 3",
   "language": "python",
   "name": "python3"
  },
  "language_info": {
   "codemirror_mode": {
    "name": "ipython",
    "version": 3
   },
   "file_extension": ".py",
   "mimetype": "text/x-python",
   "name": "python",
   "nbconvert_exporter": "python",
   "pygments_lexer": "ipython3",
   "version": "3.8.10"
  }
 },
 "nbformat": 4,
 "nbformat_minor": 5
}
