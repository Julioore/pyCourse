{
 "cells": [
  {
   "cell_type": "markdown",
   "id": "bef05828",
   "metadata": {},
   "source": [
    "# Funciones con retorno múltiple"
   ]
  },
  {
   "cell_type": "markdown",
   "id": "cea96d69",
   "metadata": {},
   "source": [
    "Se devuelve una tupla."
   ]
  },
  {
   "cell_type": "code",
   "execution_count": 11,
   "id": "e0dc9f41",
   "metadata": {},
   "outputs": [
    {
     "name": "stdout",
     "output_type": "stream",
     "text": [
      "(10, 15)\n"
     ]
    }
   ],
   "source": [
    "def multi(x):\n",
    "    doble=2*x\n",
    "    triple=3*x\n",
    "    return (doble, triple)\n",
    "print(multi(5))           # (10, 15)    retorna una tupla"
   ]
  },
  {
   "cell_type": "markdown",
   "id": "39b98268",
   "metadata": {},
   "source": [
    "Podemos asignar la tupla retornada a otra o a variables independientes."
   ]
  },
  {
   "cell_type": "code",
   "execution_count": 13,
   "id": "dd247782",
   "metadata": {},
   "outputs": [
    {
     "name": "stdout",
     "output_type": "stream",
     "text": [
      "(8, 12)\n",
      "12\n"
     ]
    }
   ],
   "source": [
    "(a,b) = multi(4)          # podemos asignar la tupla retornada a una con variables independientes\n",
    "#a,b = multi(4)           # sin los paréntesis también funciona\n",
    "print((a,b))              # (8,12)\n",
    "print(b)                  # las variables asignadas son idependientes"
   ]
  },
  {
   "cell_type": "code",
   "execution_count": 5,
   "id": "bb801d34",
   "metadata": {},
   "outputs": [
    {
     "name": "stdout",
     "output_type": "stream",
     "text": [
      "a = 8\n",
      "b = 12\n"
     ]
    }
   ],
   "source": [
    "print(\"a =\",a)\n",
    "print(\"b =\",b)"
   ]
  },
  {
   "cell_type": "code",
   "execution_count": 6,
   "id": "3c5fb83a",
   "metadata": {},
   "outputs": [
    {
     "name": "stdout",
     "output_type": "stream",
     "text": [
      "<class 'tuple'>\n"
     ]
    }
   ],
   "source": [
    "print(type((a,b)))        # (a,b) es una tupla"
   ]
  },
  {
   "cell_type": "markdown",
   "id": "060a0f8f",
   "metadata": {},
   "source": [
    "## Convertir segundos en horas, minutos, segundos"
   ]
  },
  {
   "cell_type": "code",
   "execution_count": 8,
   "id": "b6e8d55d",
   "metadata": {},
   "outputs": [
    {
     "name": "stdout",
     "output_type": "stream",
     "text": [
      "(27, 46, 40)\n"
     ]
    }
   ],
   "source": [
    "def tiempo(seg):\n",
    "    h = int(seg / 3600)\n",
    "    m = int((seg % 3600) / 60)\n",
    "    s = (seg % 3600 ) % 60\n",
    "    return (h,m,s)\n",
    "print(tiempo(100000))        #(27, 46, 40)"
   ]
  },
  {
   "cell_type": "markdown",
   "id": "ff930304",
   "metadata": {},
   "source": [
    "**Ejercicio**  \n",
    "Incluya los días."
   ]
  }
 ],
 "metadata": {
  "kernelspec": {
   "display_name": "Python 3",
   "language": "python",
   "name": "python3"
  },
  "language_info": {
   "codemirror_mode": {
    "name": "ipython",
    "version": 3
   },
   "file_extension": ".py",
   "mimetype": "text/x-python",
   "name": "python",
   "nbconvert_exporter": "python",
   "pygments_lexer": "ipython3",
   "version": "3.8.8"
  }
 },
 "nbformat": 4,
 "nbformat_minor": 5
}
