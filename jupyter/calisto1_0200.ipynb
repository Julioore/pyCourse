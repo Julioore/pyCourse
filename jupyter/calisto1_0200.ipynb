{
 "cells": [
  {
   "cell_type": "markdown",
   "id": "79731434",
   "metadata": {},
   "source": [
    "# Diccionarios [1]"
   ]
  },
  {
   "cell_type": "markdown",
   "id": "ae63663c",
   "metadata": {},
   "source": [
    "Diccionario: estructura iterable de parejas Clave:Valor, No ordenado. Una lista si es ordenada."
   ]
  },
  {
   "cell_type": "code",
   "execution_count": null,
   "id": "9f46ff98",
   "metadata": {},
   "outputs": [],
   "source": [
    "mi_diccionario={'uno':'one','dos':'two','tres':'three','cuatro':'four'}\n",
    "print(mi_diccionario['uno'])         #one"
   ]
  },
  {
   "cell_type": "code",
   "execution_count": null,
   "id": "6d529f4e",
   "metadata": {},
   "outputs": [],
   "source": [
    "palabra='uno'\n",
    "print(\"{} en inglés es {}.\".format(palabra,mi_diccionario[palabra]))"
   ]
  },
  {
   "cell_type": "code",
   "execution_count": null,
   "id": "a53be649",
   "metadata": {},
   "outputs": [],
   "source": [
    "dic_num={'uno':1,'dos':2,'tres':3,'cuatro':4}\n",
    "print(\"Hay {} tazas de café.\".format(dic_num['dos']))"
   ]
  },
  {
   "cell_type": "code",
   "execution_count": null,
   "id": "19025a58",
   "metadata": {},
   "outputs": [],
   "source": [
    "elementos={'Litio':('Li',3),'Sodio':('Na',11),'Potasio':('K',19)}  #nº atómico=nº de protones\n",
    "print(\"El número atómico del Litio es\",elementos['Litio'][1])"
   ]
  },
  {
   "cell_type": "markdown",
   "id": "0240a8cc",
   "metadata": {},
   "source": [
    "**Ejercicio:** completar la siguiente línea de código"
   ]
  },
  {
   "cell_type": "code",
   "execution_count": null,
   "id": "f5be712e",
   "metadata": {},
   "outputs": [],
   "source": [
    "print(\"El símbolo del Sodio es ...\")"
   ]
  },
  {
   "cell_type": "code",
   "execution_count": null,
   "id": "b0d23b4e",
   "metadata": {},
   "outputs": [],
   "source": [
    "d = {'x':1,'y':2,'z':3}\n",
    "print(list(d))             #['x', 'y', 'z']\n",
    "print(d.keys())            #dict_keys(['x', 'y', 'z'])\n",
    "print(d.values())          #dict_values([1, 2, 3])\n",
    "print(d.items())           #dict_items([('x', 1), ('y', 2), ('z', 3)])\n",
    "print(list(d.items()))     #[('x', 1), ('y', 2), ('z', 3)]\n",
    "print(list(iter(d)))       #['x', 'y', 'z']\n",
    "d"
   ]
  }
 ],
 "metadata": {
  "kernelspec": {
   "display_name": "Python 3",
   "language": "python",
   "name": "python3"
  },
  "language_info": {
   "codemirror_mode": {
    "name": "ipython",
    "version": 3
   },
   "file_extension": ".py",
   "mimetype": "text/x-python",
   "name": "python",
   "nbconvert_exporter": "python",
   "pygments_lexer": "ipython3",
   "version": "3.8.8"
  }
 },
 "nbformat": 4,
 "nbformat_minor": 5
}
