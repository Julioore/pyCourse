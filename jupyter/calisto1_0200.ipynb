{
 "cells": [
  {
   "cell_type": "markdown",
   "id": "97466f88",
   "metadata": {},
   "source": [
    "# Tuplas [2]"
   ]
  },
  {
   "cell_type": "markdown",
   "id": "475780b8",
   "metadata": {},
   "source": [
    "## Las tuplas admiten slicing"
   ]
  },
  {
   "cell_type": "code",
   "execution_count": null,
   "id": "5e4dfc22",
   "metadata": {},
   "outputs": [],
   "source": [
    "decadas=(10,20,30,40,50,60)\n",
    "print(decadas[2:5])      #(30, 40, 50)  Operación de corte en tuplas (Slicing)\n",
    "print(decadas[:3])       #(10, 20, 30)\n",
    "print(decadas[:])        #(10, 20, 30, 40, 50, 60)   La tupla completa\n",
    "print(20 in decadas)     #True\n",
    "print(21 not in decadas) #True\n",
    "#decadas[2]=35           #Error no se puede cambiar un elemento de una tupla"
   ]
  },
  {
   "cell_type": "markdown",
   "id": "26416fb9",
   "metadata": {},
   "source": [
    "## Conversión de tuplas en listas y viceversa"
   ]
  },
  {
   "cell_type": "markdown",
   "id": "da5821fe",
   "metadata": {},
   "source": [
    "Las Tuplas son inmutables pero se pueden convertir en listas y viceversa."
   ]
  },
  {
   "cell_type": "code",
   "execution_count": null,
   "id": "48c6ba75",
   "metadata": {
    "scrolled": true
   },
   "outputs": [],
   "source": [
    "d=list(decadas)\n",
    "d.append(75)\n",
    "d[-1]=70\n",
    "decadas=tuple(d)\n",
    "print(decadas)\n",
    "estaciones=('Primavera','Verano','Otoño','Invierno')\n",
    "print(decadas+estaciones)  #se pueden unir dos tuplas"
   ]
  },
  {
   "cell_type": "markdown",
   "id": "70721166",
   "metadata": {},
   "source": [
    "### Ejemplo: tupla a lista a tupla\n",
    "Tomamos una tupla inmutable, la convertimos en lista, cambiamos algunos elementos, y la volvemos a convertir en tupla."
   ]
  },
  {
   "cell_type": "code",
   "execution_count": null,
   "id": "94abb395",
   "metadata": {},
   "outputs": [],
   "source": [
    "dias = ('Lun', 'Mar', 'Mie', 'Jue', 'Vie', 'Sab', 'Dom')    # tupla de partida\n",
    "# Observamos que hemos olvidado la tilde en Mié y Sáb\n",
    "# convertimos la tupla en lista\n",
    "lista_dias = list(dias)\n",
    "lista_dias[2] = 'Mié'\n",
    "lista_dias[5] = 'Sáb'\n",
    "dias = tuple(lista_dias)\n",
    "dias"
   ]
  }
 ],
 "metadata": {
  "kernelspec": {
   "display_name": "Python 3",
   "language": "python",
   "name": "python3"
  },
  "language_info": {
   "codemirror_mode": {
    "name": "ipython",
    "version": 3
   },
   "file_extension": ".py",
   "mimetype": "text/x-python",
   "name": "python",
   "nbconvert_exporter": "python",
   "pygments_lexer": "ipython3",
   "version": "3.8.8"
  }
 },
 "nbformat": 4,
 "nbformat_minor": 5
}
