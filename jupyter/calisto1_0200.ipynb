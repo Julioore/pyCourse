{
 "cells": [
  {
   "cell_type": "markdown",
   "id": "79731434",
   "metadata": {},
   "source": [
    "# Diccionarios [1]"
   ]
  },
  {
   "cell_type": "markdown",
   "id": "ae63663c",
   "metadata": {},
   "source": [
    "Diccionario: estructura iterable de parejas Clave:Valor, No ordenado. Una lista si es ordenada.  \n",
    "Las claves son únicas. No existen dos claves repetidas."
   ]
  },
  {
   "cell_type": "code",
   "execution_count": 44,
   "id": "cd38ba4f",
   "metadata": {},
   "outputs": [
    {
     "data": {
      "text/plain": [
       "{}"
      ]
     },
     "execution_count": 44,
     "metadata": {},
     "output_type": "execute_result"
    }
   ],
   "source": [
    "vacio = {}                      # creación de un diccionario vacío\n",
    "vacio"
   ]
  },
  {
   "cell_type": "code",
   "execution_count": 45,
   "id": "e4af3dc7",
   "metadata": {},
   "outputs": [
    {
     "data": {
      "text/plain": [
       "dict"
      ]
     },
     "execution_count": 45,
     "metadata": {},
     "output_type": "execute_result"
    }
   ],
   "source": [
    "type(vacio)                     # los diccionarios son de tipo dic"
   ]
  },
  {
   "cell_type": "code",
   "execution_count": 46,
   "id": "9f46ff98",
   "metadata": {},
   "outputs": [
    {
     "data": {
      "text/plain": [
       "'one'"
      ]
     },
     "execution_count": 46,
     "metadata": {},
     "output_type": "execute_result"
    }
   ],
   "source": [
    "d = {'uno':'one','dos':'two','tres':'three','cuatro':'four'}\n",
    "d['uno']                        # one"
   ]
  },
  {
   "cell_type": "markdown",
   "id": "9a17abc4",
   "metadata": {},
   "source": [
    "## Los diccionarios son colecciones desordenadas  \n",
    "No se asegura que el orden sea el esperado."
   ]
  },
  {
   "cell_type": "code",
   "execution_count": 47,
   "id": "c5fd244d",
   "metadata": {},
   "outputs": [],
   "source": [
    "d['cero']='zero'"
   ]
  },
  {
   "cell_type": "code",
   "execution_count": 48,
   "id": "895d085d",
   "metadata": {},
   "outputs": [
    {
     "data": {
      "text/plain": [
       "{'uno': 'one', 'dos': 'two', 'tres': 'three', 'cuatro': 'four', 'cero': 'zero'}"
      ]
     },
     "execution_count": 48,
     "metadata": {},
     "output_type": "execute_result"
    }
   ],
   "source": [
    "d"
   ]
  },
  {
   "cell_type": "code",
   "execution_count": 49,
   "id": "6d529f4e",
   "metadata": {},
   "outputs": [
    {
     "name": "stdout",
     "output_type": "stream",
     "text": [
      "uno en inglés es one.\n"
     ]
    }
   ],
   "source": [
    "palabra = 'uno'\n",
    "print(f\"{palabra} en inglés es {d[palabra]}.\")"
   ]
  },
  {
   "cell_type": "code",
   "execution_count": 50,
   "id": "a53be649",
   "metadata": {},
   "outputs": [
    {
     "name": "stdout",
     "output_type": "stream",
     "text": [
      "Hay 2 tazas de café.\n"
     ]
    }
   ],
   "source": [
    "dic_num = {'uno':1,'dos':2,'tres':3,'cuatro':4}\n",
    "print(\"Hay {} tazas de café.\".format(dic_num['dos']))"
   ]
  },
  {
   "cell_type": "markdown",
   "id": "049436f7",
   "metadata": {},
   "source": [
    "## Los valores pueden ser tuplas, listas, ... incluso otros diccionarios"
   ]
  },
  {
   "cell_type": "code",
   "execution_count": 36,
   "id": "19025a58",
   "metadata": {},
   "outputs": [
    {
     "name": "stdout",
     "output_type": "stream",
     "text": [
      "El número atómico del Litio es 3\n"
     ]
    }
   ],
   "source": [
    "elementos = {'Litio':('Li',3),'Sodio':('Na',11),'Potasio':('K',19)}  # nº atómico = nº de protones\n",
    "print(\"El número atómico del Litio es\",elementos['Litio'][1])"
   ]
  },
  {
   "cell_type": "markdown",
   "id": "0240a8cc",
   "metadata": {},
   "source": [
    "### Ejercicio\n",
    "Completar la siguiente línea de código"
   ]
  },
  {
   "cell_type": "code",
   "execution_count": null,
   "id": "f5be712e",
   "metadata": {},
   "outputs": [],
   "source": [
    "print(\"El símbolo del Sodio es ...\")"
   ]
  },
  {
   "cell_type": "markdown",
   "id": "e3bb7738",
   "metadata": {},
   "source": [
    "## Convertir un diccionario en listas"
   ]
  },
  {
   "cell_type": "code",
   "execution_count": 40,
   "id": "b0d23b4e",
   "metadata": {},
   "outputs": [
    {
     "name": "stdout",
     "output_type": "stream",
     "text": [
      "['x', 'y', 'z']\n"
     ]
    }
   ],
   "source": [
    "d = {'x':1,'y':2,'z':3}\n",
    "print(list(d))             #['x', 'y', 'z']"
   ]
  },
  {
   "cell_type": "code",
   "execution_count": 41,
   "id": "1833ee85",
   "metadata": {},
   "outputs": [
    {
     "name": "stdout",
     "output_type": "stream",
     "text": [
      "dict_keys(['x', 'y', 'z'])\n",
      "dict_values([1, 2, 3])\n",
      "dict_items([('x', 1), ('y', 2), ('z', 3)])\n"
     ]
    }
   ],
   "source": [
    "print(d.keys())            #dict_keys(['x', 'y', 'z'])\n",
    "print(d.values())          #dict_values([1, 2, 3])\n",
    "print(d.items())           #dict_items([('x', 1), ('y', 2), ('z', 3)])"
   ]
  },
  {
   "cell_type": "code",
   "execution_count": 42,
   "id": "0852d16f",
   "metadata": {},
   "outputs": [
    {
     "name": "stdout",
     "output_type": "stream",
     "text": [
      "[('x', 1), ('y', 2), ('z', 3)]\n",
      "['x', 'y', 'z']\n"
     ]
    },
    {
     "data": {
      "text/plain": [
       "{'x': 1, 'y': 2, 'z': 3}"
      ]
     },
     "execution_count": 42,
     "metadata": {},
     "output_type": "execute_result"
    }
   ],
   "source": [
    "print(list(d.items()))     #[('x', 1), ('y', 2), ('z', 3)]\n",
    "print(list(iter(d)))       #['x', 'y', 'z']\n",
    "d"
   ]
  }
 ],
 "metadata": {
  "kernelspec": {
   "display_name": "Python 3",
   "language": "python",
   "name": "python3"
  },
  "language_info": {
   "codemirror_mode": {
    "name": "ipython",
    "version": 3
   },
   "file_extension": ".py",
   "mimetype": "text/x-python",
   "name": "python",
   "nbconvert_exporter": "python",
   "pygments_lexer": "ipython3",
   "version": "3.8.8"
  }
 },
 "nbformat": 4,
 "nbformat_minor": 5
}
