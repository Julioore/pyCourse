{
  "cells": [
    {
      "cell_type": "markdown",
      "metadata": {
        "id": "view-in-github",
        "colab_type": "text"
      },
      "source": [
        "<a href=\"https://colab.research.google.com/github/financieras/pyCourse/blob/main/jupyter/calisto1_0200.ipynb\" target=\"_parent\"><img src=\"https://colab.research.google.com/assets/colab-badge.svg\" alt=\"Open In Colab\"/></a>"
      ]
    },
    {
      "cell_type": "markdown",
      "id": "cf60e6fc",
      "metadata": {
        "id": "cf60e6fc"
      },
      "source": [
        "# Listas [4] Operaciones y funciones"
      ]
    },
    {
      "cell_type": "markdown",
      "id": "dd15b7e4",
      "metadata": {
        "id": "dd15b7e4"
      },
      "source": [
        "## Operaciones con listas  \n",
        "Tamaño       →  len(lista)  \n",
        "Concatenar   →  [1,2]+[3,4]  \n",
        "Repetir      →  [\"hola\"]*3  \n",
        "Iterar       →  for i in lista  \n",
        "Es parte de  →  4 in lista          # operador de pertenencia: in  \n",
        "No es parte de →  5 not in lista    # operador de pertenencia: not in"
      ]
    },
    {
      "cell_type": "markdown",
      "id": "755a1a1e",
      "metadata": {
        "id": "755a1a1e"
      },
      "source": [
        "### Concatenar listas"
      ]
    },
    {
      "cell_type": "code",
      "execution_count": null,
      "id": "45201dd0",
      "metadata": {
        "id": "45201dd0",
        "outputId": "73c3583e-5d16-4696-c035-fe780c682b1f"
      },
      "outputs": [
        {
          "name": "stdout",
          "output_type": "stream",
          "text": [
            "[1, 2, 3, 4]\n"
          ]
        }
      ],
      "source": [
        "lista = [1, 2] + [3, 4]         # uniendo dos listas\n",
        "print(lista)                  # [1, 2, 3, 4]"
      ]
    },
    {
      "cell_type": "markdown",
      "id": "8ca260ec",
      "metadata": {
        "id": "8ca260ec"
      },
      "source": [
        "### len()"
      ]
    },
    {
      "cell_type": "code",
      "execution_count": null,
      "id": "c36c5655",
      "metadata": {
        "id": "c36c5655",
        "outputId": "a4690b49-f65c-4798-f016-02096d58e941"
      },
      "outputs": [
        {
          "name": "stdout",
          "output_type": "stream",
          "text": [
            "4\n"
          ]
        }
      ],
      "source": [
        "print(len(lista))             # 4"
      ]
    },
    {
      "cell_type": "markdown",
      "id": "c8302f82",
      "metadata": {
        "id": "c8302f82"
      },
      "source": [
        "### Repetir"
      ]
    },
    {
      "cell_type": "code",
      "execution_count": null,
      "id": "2f67923c",
      "metadata": {
        "id": "2f67923c",
        "outputId": "33d5ee82-3aef-4e1f-cc2a-3f1d76ad7596"
      },
      "outputs": [
        {
          "name": "stdout",
          "output_type": "stream",
          "text": [
            "['hola', 'hola', 'hola']\n"
          ]
        }
      ],
      "source": [
        "saluda = [\"hola\"]*3\n",
        "print(saluda)                 # ['hola', 'hola', 'hola']"
      ]
    },
    {
      "cell_type": "markdown",
      "id": "e594de99",
      "metadata": {
        "id": "e594de99"
      },
      "source": [
        "### Iterar"
      ]
    },
    {
      "cell_type": "code",
      "execution_count": null,
      "id": "a462a75e",
      "metadata": {
        "id": "a462a75e",
        "outputId": "bcc021a1-2ddf-48d2-a11a-22be419422a0"
      },
      "outputs": [
        {
          "name": "stdout",
          "output_type": "stream",
          "text": [
            "1\n",
            "2\n",
            "3\n",
            "4\n"
          ]
        }
      ],
      "source": [
        "for i in lista:\n",
        "    print(i)                  # 1 2 3 4 en columna"
      ]
    },
    {
      "cell_type": "markdown",
      "id": "51a87b78",
      "metadata": {
        "id": "51a87b78"
      },
      "source": [
        "### in"
      ]
    },
    {
      "cell_type": "code",
      "execution_count": null,
      "id": "93fe0e28",
      "metadata": {
        "id": "93fe0e28",
        "outputId": "6b213769-c387-4489-f10c-1d451749ca47"
      },
      "outputs": [
        {
          "name": "stdout",
          "output_type": "stream",
          "text": [
            "False\n"
          ]
        }
      ],
      "source": [
        "print(\"bye\" in saluda)        # False"
      ]
    },
    {
      "cell_type": "code",
      "execution_count": null,
      "id": "16697edc",
      "metadata": {
        "id": "16697edc",
        "outputId": "bce2d383-7361-444e-b0f9-0d7951c452a0"
      },
      "outputs": [
        {
          "name": "stdout",
          "output_type": "stream",
          "text": [
            "True\n"
          ]
        }
      ],
      "source": [
        "print(\"hola\" in saluda)        # True"
      ]
    },
    {
      "cell_type": "markdown",
      "id": "48bd3236",
      "metadata": {
        "id": "48bd3236"
      },
      "source": [
        "### not in"
      ]
    },
    {
      "cell_type": "code",
      "execution_count": null,
      "id": "dc0280e4",
      "metadata": {
        "id": "dc0280e4",
        "outputId": "2cbb5fd2-9f9d-4445-accf-56db56b5e736"
      },
      "outputs": [
        {
          "name": "stdout",
          "output_type": "stream",
          "text": [
            "True\n"
          ]
        }
      ],
      "source": [
        "print(\"hi\" not in saluda)      # True"
      ]
    },
    {
      "cell_type": "markdown",
      "id": "d1db79de",
      "metadata": {
        "id": "d1db79de"
      },
      "source": [
        "## Algunas funciones  \n",
        "append(elemento)  \n",
        "pop()  \n",
        "remove(elemento)\t                 # si elemento no está en la lista da  error  \n",
        "index(elemento)                      # devuelve el índice que ocupa el elemento  \n",
        "insert(indice,elemento)  \n",
        "clear()  "
      ]
    },
    {
      "cell_type": "markdown",
      "id": "3cddf00c",
      "metadata": {
        "id": "3cddf00c"
      },
      "source": [
        "### append()"
      ]
    },
    {
      "cell_type": "code",
      "execution_count": null,
      "id": "6336047a",
      "metadata": {
        "id": "6336047a",
        "outputId": "e3e7e9d8-7ea1-45e6-f72b-d62b531d216a"
      },
      "outputs": [
        {
          "name": "stdout",
          "output_type": "stream",
          "text": [
            "['hola', 'hola', 'hola', 'hi']\n"
          ]
        }
      ],
      "source": [
        "saluda.append(\"hi\")\n",
        "print(saluda)                 # ['hola', 'hola', 'hola', 'hi']"
      ]
    },
    {
      "cell_type": "markdown",
      "id": "91059c17",
      "metadata": {
        "id": "91059c17"
      },
      "source": [
        "### pop()"
      ]
    },
    {
      "cell_type": "code",
      "execution_count": null,
      "id": "8f213dbf",
      "metadata": {
        "id": "8f213dbf",
        "outputId": "9f57f787-9e19-4f1f-a42a-09a19c1bb0cf"
      },
      "outputs": [
        {
          "name": "stdout",
          "output_type": "stream",
          "text": [
            "['hola', 'hola', 'hola']\n",
            "hi\n"
          ]
        }
      ],
      "source": [
        "eliminado = saluda.pop()\n",
        "print(saluda)                 # ['hola', 'hola', 'hola']\n",
        "print(eliminado)              # hi"
      ]
    },
    {
      "cell_type": "markdown",
      "id": "f56e5d28",
      "metadata": {
        "id": "f56e5d28"
      },
      "source": [
        "### clear()"
      ]
    },
    {
      "cell_type": "code",
      "execution_count": null,
      "id": "8f3a3b5c",
      "metadata": {
        "id": "8f3a3b5c",
        "outputId": "1d41ba38-f8f7-4b63-f466-d1579a4698be"
      },
      "outputs": [
        {
          "name": "stdout",
          "output_type": "stream",
          "text": [
            "[]\n"
          ]
        }
      ],
      "source": [
        "saluda.clear()\n",
        "print(saluda)                 # []"
      ]
    },
    {
      "cell_type": "markdown",
      "id": "d81c87c2",
      "metadata": {
        "id": "d81c87c2"
      },
      "source": [
        "### remove()"
      ]
    },
    {
      "cell_type": "code",
      "execution_count": null,
      "id": "73b74562",
      "metadata": {
        "id": "73b74562",
        "outputId": "b60aafcb-f801-4749-d919-90a4c634c905"
      },
      "outputs": [
        {
          "name": "stdout",
          "output_type": "stream",
          "text": [
            "[10, 20, 30, 40]\n",
            "[10, 30, 40]\n"
          ]
        }
      ],
      "source": [
        "l = [10, 20, 30, 40]          # nueva lista l\n",
        "print(l)                      # [10, 20, 30, 40]\n",
        "l.remove(20)\n",
        "print(l)                      # [10, 30, 40]"
      ]
    },
    {
      "cell_type": "markdown",
      "id": "03116007",
      "metadata": {
        "id": "03116007"
      },
      "source": [
        "### index()"
      ]
    },
    {
      "cell_type": "code",
      "execution_count": null,
      "id": "b48bfa3a",
      "metadata": {
        "id": "b48bfa3a",
        "outputId": "3d9dde29-4536-4121-e187-07f9498d5838"
      },
      "outputs": [
        {
          "name": "stdout",
          "output_type": "stream",
          "text": [
            "2\n"
          ]
        }
      ],
      "source": [
        "print(l.index(40))            # 2    el valor 40 ocupa ahora el índice 2"
      ]
    },
    {
      "cell_type": "markdown",
      "id": "7fb92459",
      "metadata": {
        "id": "7fb92459"
      },
      "source": [
        "### insert()"
      ]
    },
    {
      "cell_type": "code",
      "execution_count": null,
      "id": "afd01c86",
      "metadata": {
        "id": "afd01c86",
        "outputId": "c07df0bf-4cba-4d26-d6da-78812e3c5b2e"
      },
      "outputs": [
        {
          "name": "stdout",
          "output_type": "stream",
          "text": [
            "[10, '20', 30, 40]\n"
          ]
        }
      ],
      "source": [
        "l.insert(1, \"20\")             # insertamos un valor tipo string\n",
        "print(l)                      # [10, '20', 30, 40]"
      ]
    },
    {
      "cell_type": "markdown",
      "id": "7035ba7d",
      "metadata": {
        "id": "7035ba7d"
      },
      "source": [
        "### No es lo mismo 30 que [30]"
      ]
    },
    {
      "cell_type": "code",
      "execution_count": null,
      "id": "7ce07de4",
      "metadata": {
        "id": "7ce07de4",
        "outputId": "c0d1b9ee-af12-469b-a85f-0c255bc18b97"
      },
      "outputs": [
        {
          "name": "stdout",
          "output_type": "stream",
          "text": [
            "30\n",
            "[30]\n",
            "False\n"
          ]
        }
      ],
      "source": [
        "print(l[2])                   # 30        valor 30\n",
        "print(l[2:3])                 # [30]      lista con un único valor\n",
        "print(l[2] == l[2:3])         # False     no es lo mismo un valor que una lista con un único valor"
      ]
    },
    {
      "cell_type": "markdown",
      "id": "f8cf534e",
      "metadata": {
        "id": "f8cf534e"
      },
      "source": [
        "### Iterar"
      ]
    },
    {
      "cell_type": "code",
      "execution_count": null,
      "id": "da2d4f2c",
      "metadata": {
        "id": "da2d4f2c",
        "outputId": "cf5db322-8446-46cf-d347-e812e97ae0c0"
      },
      "outputs": [
        {
          "name": "stdout",
          "output_type": "stream",
          "text": [
            "amarillo\n",
            "rojo\n",
            "verde\n",
            "azul\n",
            "naranja\n"
          ]
        }
      ],
      "source": [
        "colores = ['amarillo', 'rojo', 'verde', 'azul', 'naranja']\n",
        "for color in colores:\n",
        "    print(color)"
      ]
    },
    {
      "cell_type": "markdown",
      "id": "ebdbcc7a",
      "metadata": {
        "id": "ebdbcc7a"
      },
      "source": [
        "### append()"
      ]
    },
    {
      "cell_type": "code",
      "execution_count": null,
      "id": "cbd0a26b",
      "metadata": {
        "id": "cbd0a26b",
        "outputId": "21cf506d-b8d0-4019-863f-724f26004fe0"
      },
      "outputs": [
        {
          "data": {
            "text/plain": [
              "['amarillo', 'rojo', 'verde', 'azul', 'naranja', 'magenta']"
            ]
          },
          "execution_count": 16,
          "metadata": {},
          "output_type": "execute_result"
        }
      ],
      "source": [
        "colores.append('magenta')\n",
        "colores"
      ]
    },
    {
      "cell_type": "markdown",
      "id": "c4a0967b",
      "metadata": {
        "id": "c4a0967b"
      },
      "source": [
        "### remove()"
      ]
    },
    {
      "cell_type": "code",
      "execution_count": null,
      "id": "2ec68e73",
      "metadata": {
        "id": "2ec68e73",
        "outputId": "33e55944-7412-43e8-dfad-5691abf1c5cc"
      },
      "outputs": [
        {
          "data": {
            "text/plain": [
              "['amarillo', 'rojo', 'verde', 'azul', 'magenta']"
            ]
          },
          "execution_count": 17,
          "metadata": {},
          "output_type": "execute_result"
        }
      ],
      "source": [
        "colores.remove('naranja')\n",
        "colores"
      ]
    },
    {
      "cell_type": "markdown",
      "id": "1e224026",
      "metadata": {
        "id": "1e224026"
      },
      "source": [
        "### index()"
      ]
    },
    {
      "cell_type": "code",
      "execution_count": null,
      "id": "ab12fd6c",
      "metadata": {
        "id": "ab12fd6c",
        "outputId": "d30b4bc0-ffe2-4edd-ed41-a5548131755c"
      },
      "outputs": [
        {
          "data": {
            "text/plain": [
              "2"
            ]
          },
          "execution_count": 18,
          "metadata": {},
          "output_type": "execute_result"
        }
      ],
      "source": [
        "colores.index('verde')        # 2"
      ]
    },
    {
      "cell_type": "markdown",
      "id": "8d23db47",
      "metadata": {
        "id": "8d23db47"
      },
      "source": [
        "### pop()"
      ]
    },
    {
      "cell_type": "code",
      "execution_count": null,
      "id": "1a99091c",
      "metadata": {
        "id": "1a99091c",
        "outputId": "ea97f24b-4a34-4c69-f0ae-5627b2585ccd"
      },
      "outputs": [
        {
          "data": {
            "text/plain": [
              "['amarillo', 'rojo', 'verde', 'azul']"
            ]
          },
          "execution_count": 19,
          "metadata": {},
          "output_type": "execute_result"
        }
      ],
      "source": [
        "colores.pop()                 # elimina el último elemento de la lista\n",
        "colores"
      ]
    },
    {
      "cell_type": "markdown",
      "id": "295bdb13",
      "metadata": {
        "id": "295bdb13"
      },
      "source": [
        "### pop(elemento)"
      ]
    },
    {
      "cell_type": "code",
      "execution_count": null,
      "id": "151b5eef",
      "metadata": {
        "id": "151b5eef",
        "outputId": "9d30cc46-63c6-49aa-cfbd-cc877ae6ec91"
      },
      "outputs": [
        {
          "data": {
            "text/plain": [
              "['amarillo', 'verde', 'azul']"
            ]
          },
          "execution_count": 20,
          "metadata": {},
          "output_type": "execute_result"
        }
      ],
      "source": [
        "colores.pop(1)                # elimina el elemento que se indique\n",
        "colores"
      ]
    },
    {
      "cell_type": "markdown",
      "id": "cbbc8127",
      "metadata": {
        "id": "cbbc8127"
      },
      "source": [
        "### clear()"
      ]
    },
    {
      "cell_type": "code",
      "execution_count": null,
      "id": "910b2a39",
      "metadata": {
        "scrolled": true,
        "id": "910b2a39",
        "outputId": "3eed56a4-c628-4a74-8264-8f84baa8b7c3"
      },
      "outputs": [
        {
          "data": {
            "text/plain": [
              "[]"
            ]
          },
          "execution_count": 21,
          "metadata": {},
          "output_type": "execute_result"
        }
      ],
      "source": [
        "colores.clear()\n",
        "colores"
      ]
    },
    {
      "cell_type": "markdown",
      "id": "eee2ffca",
      "metadata": {
        "id": "eee2ffca"
      },
      "source": [
        "## ```sort``` y ```sorted```"
      ]
    },
    {
      "cell_type": "code",
      "execution_count": null,
      "id": "7224eb35",
      "metadata": {
        "id": "7224eb35",
        "outputId": "8e26c612-27b8-46c6-a6fc-33e4569e8de8"
      },
      "outputs": [
        {
          "name": "stdout",
          "output_type": "stream",
          "text": [
            "lista inicial : [5, 2, 6, 1, 9, 0]\n",
            "lista con sort: [0, 1, 2, 5, 6, 9]\n"
          ]
        }
      ],
      "source": [
        "l = [5, 2, 6, 1, 9, 0]\n",
        "print(\"lista inicial :\", l)\n",
        "l.sort()                             # l.sort() realmente ordena la lista pero se ha de poner antes del print\n",
        "print(\"lista con sort:\", l)"
      ]
    },
    {
      "cell_type": "code",
      "execution_count": null,
      "id": "32152eb8",
      "metadata": {
        "id": "32152eb8",
        "outputId": "941f99e1-3163-4ed9-d83e-95948343ddca"
      },
      "outputs": [
        {
          "name": "stdout",
          "output_type": "stream",
          "text": [
            "lista inicial: [5, 2, 6, 1, 9, 0]\n",
            "lista sorted : [0, 1, 2, 5, 6, 9]\n",
            "lista final  : [5, 2, 6, 1, 9, 0]\n"
          ]
        }
      ],
      "source": [
        "l = [5, 2, 6, 1, 9, 0]\n",
        "print(\"lista inicial:\", l)\n",
        "print(\"lista sorted :\", sorted(l))   # sorted(l) realmente no orden la lista pero permite imprimirla ordenada \n",
        "print(\"lista final  :\", l)"
      ]
    }
  ],
  "metadata": {
    "kernelspec": {
      "display_name": "Python 3 (ipykernel)",
      "language": "python",
      "name": "python3"
    },
    "language_info": {
      "codemirror_mode": {
        "name": "ipython",
        "version": 3
      },
      "file_extension": ".py",
      "mimetype": "text/x-python",
      "name": "python",
      "nbconvert_exporter": "python",
      "pygments_lexer": "ipython3",
      "version": "3.8.11"
    },
    "colab": {
      "name": "calisto1_0200.ipynb",
      "provenance": [],
      "include_colab_link": true
    }
  },
  "nbformat": 4,
  "nbformat_minor": 5
}