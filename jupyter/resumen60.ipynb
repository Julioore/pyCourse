{
  "nbformat": 4,
  "nbformat_minor": 0,
  "metadata": {
    "colab": {
      "name": "resumen60.ipynb",
      "provenance": [],
      "authorship_tag": "ABX9TyMcaZwfzQDRDoFWBD++XHsX",
      "include_colab_link": true
    },
    "kernelspec": {
      "name": "python3",
      "display_name": "Python 3"
    },
    "language_info": {
      "name": "python"
    }
  },
  "cells": [
    {
      "cell_type": "markdown",
      "metadata": {
        "id": "view-in-github",
        "colab_type": "text"
      },
      "source": [
        "<a href=\"https://colab.research.google.com/github/financieras/pyCourse/blob/main/jupyter/resumen60.ipynb\" target=\"_parent\"><img src=\"https://colab.research.google.com/assets/colab-badge.svg\" alt=\"Open In Colab\"/></a>"
      ]
    },
    {
      "cell_type": "markdown",
      "source": [
        "# Bucle `while`\n",
        "```python\n",
        "while <condición>:         # mientras\n",
        "    <código>\n",
        "```"
      ],
      "metadata": {
        "id": "pMWIBYNmp6uJ"
      }
    },
    {
      "cell_type": "code",
      "source": [
        "x = 1\n",
        "\n",
        "while x < 5:\n",
        "    print(x)\n",
        "    x += 1       # equivale a   n = n+1      es un CONTADOR"
      ],
      "metadata": {
        "id": "bvjEXutRYGQI",
        "outputId": "40d130bd-5d14-46fe-f6cd-b40907253fb2",
        "colab": {
          "base_uri": "https://localhost:8080/"
        }
      },
      "execution_count": 3,
      "outputs": [
        {
          "output_type": "stream",
          "name": "stdout",
          "text": [
            "1\n",
            "2\n",
            "3\n",
            "4\n"
          ]
        }
      ]
    },
    {
      "cell_type": "code",
      "source": [
        "# imprimimos solo los impares entre 10 y 0\n",
        "\n",
        "n = 10\n",
        "\n",
        "while n > 0:\n",
        "    if n%2:      # si n%2==1 equivalea a True\n",
        "        print(n)\n",
        "    n -= 1       # equivale a   n = n-1\n",
        "\n",
        "print(\"Fin del programa.\")"
      ],
      "metadata": {
        "id": "FvNTDuEWbuTj",
        "outputId": "d8a1d65f-a5ba-425e-aa29-0855f9844072",
        "colab": {
          "base_uri": "https://localhost:8080/"
        }
      },
      "execution_count": 6,
      "outputs": [
        {
          "output_type": "stream",
          "name": "stdout",
          "text": [
            "9\n",
            "7\n",
            "5\n",
            "3\n",
            "1\n",
            "Fin del programa.\n"
          ]
        }
      ]
    },
    {
      "cell_type": "markdown",
      "source": [
        "## ¿Seguir jugando?"
      ],
      "metadata": {
        "id": "SMJvM6jycrEl"
      }
    },
    {
      "cell_type": "code",
      "source": [
        "jugar = \"s\"             # inicilizamos la variable\n",
        "\n",
        "while jugar == \"s\":\n",
        "    print(\"Estamos jugando una partida.\")\n",
        "    jugar = input(\"¿Quiere seguir jugando (s/n)?: \")\n",
        "\n",
        "print(\"Fin del juego.\")"
      ],
      "metadata": {
        "id": "uDOrcumuczFI",
        "outputId": "05292f48-8364-4497-82a6-51c4428244c9",
        "colab": {
          "base_uri": "https://localhost:8080/"
        }
      },
      "execution_count": 7,
      "outputs": [
        {
          "output_type": "stream",
          "name": "stdout",
          "text": [
            "Estamos jugando una partida.\n",
            "¿Quiere seguir jugando (s/n)?: s\n",
            "Estamos jugando una partida.\n",
            "¿Quiere seguir jugando (s/n)?: n\n",
            "Fin del juego.\n"
          ]
        }
      ]
    },
    {
      "cell_type": "markdown",
      "source": [
        "# Generación de números aleatorios"
      ],
      "metadata": {
        "id": "jTThBDZ9d1Di"
      }
    },
    {
      "cell_type": "code",
      "source": [
        "import random\n",
        "random.random()"
      ],
      "metadata": {
        "id": "eNd6_xKpd7sw",
        "outputId": "b07a121d-bcf1-4a3b-f52a-1aa4245a1191",
        "colab": {
          "base_uri": "https://localhost:8080/"
        }
      },
      "execution_count": 9,
      "outputs": [
        {
          "output_type": "execute_result",
          "data": {
            "text/plain": [
              "0.4604038070071321"
            ]
          },
          "metadata": {},
          "execution_count": 9
        }
      ]
    },
    {
      "cell_type": "code",
      "source": [
        "random.randint(1,5)   # incluido ambos extremos"
      ],
      "metadata": {
        "id": "mZwSKC9WeCjo",
        "outputId": "63e39174-5df6-48ba-f34f-582c59b53199",
        "colab": {
          "base_uri": "https://localhost:8080/"
        }
      },
      "execution_count": 17,
      "outputs": [
        {
          "output_type": "execute_result",
          "data": {
            "text/plain": [
              "5"
            ]
          },
          "metadata": {},
          "execution_count": 17
        }
      ]
    },
    {
      "cell_type": "markdown",
      "source": [
        "### Lista de números aleatorios sin repetición"
      ],
      "metadata": {
        "id": "GUh7lIxTgDEC"
      }
    },
    {
      "cell_type": "code",
      "source": [
        "random.sample([1,2,3,4,5,6], 3)   # elige 3 elementos de la lista, sin repetición"
      ],
      "metadata": {
        "id": "l9NouIwHeUXo",
        "outputId": "56f1a534-c995-4c2a-d2d7-ade992b93bd8",
        "colab": {
          "base_uri": "https://localhost:8080/"
        }
      },
      "execution_count": 19,
      "outputs": [
        {
          "output_type": "execute_result",
          "data": {
            "text/plain": [
              "[4, 3, 5]"
            ]
          },
          "metadata": {},
          "execution_count": 19
        }
      ]
    },
    {
      "cell_type": "code",
      "source": [
        "random.sample(range(1,7), 3)   # hace lo mismo que la expresión anterior"
      ],
      "metadata": {
        "id": "ikl30AiVfC40",
        "outputId": "86b8730f-8b20-4cb6-c0bf-19fec06ed865",
        "colab": {
          "base_uri": "https://localhost:8080/"
        }
      },
      "execution_count": 20,
      "outputs": [
        {
          "output_type": "execute_result",
          "data": {
            "text/plain": [
              "[5, 2, 4]"
            ]
          },
          "metadata": {},
          "execution_count": 20
        }
      ]
    },
    {
      "cell_type": "markdown",
      "source": [
        "### Lista de números aleatorios con posible repetición"
      ],
      "metadata": {
        "id": "YLtuzWrcf793"
      }
    },
    {
      "cell_type": "code",
      "source": [
        "lista = []\n",
        "\n",
        "for i in range(3):\n",
        "    n = random.randint(1,6)\n",
        "    lista.append(n)\n",
        "\n",
        "lista"
      ],
      "metadata": {
        "id": "M8Y_ZFw5fgRj",
        "outputId": "8d7ba57e-dd83-4161-9d8d-e691469f9058",
        "colab": {
          "base_uri": "https://localhost:8080/"
        }
      },
      "execution_count": 21,
      "outputs": [
        {
          "output_type": "execute_result",
          "data": {
            "text/plain": [
              "[4, 4, 5]"
            ]
          },
          "metadata": {},
          "execution_count": 21
        }
      ]
    }
  ]
}