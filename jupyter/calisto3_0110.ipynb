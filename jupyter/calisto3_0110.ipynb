{
 "cells": [
  {
   "cell_type": "markdown",
   "metadata": {},
   "source": [
    "# Paquetes"
   ]
  },
  {
   "cell_type": "markdown",
   "metadata": {},
   "source": [
    "Contienen código que amplian las funcionalidades de Python.  \n",
    "Los paquetes están contenidos en una carpeta con código .py  \n",
    "Tienen una estructura diseñada para poder usar funciones y clases  \n",
    "\\_\\_init\\_\\_.py"
   ]
  },
  {
   "cell_type": "markdown",
   "metadata": {},
   "source": [
    "## En Anaconda  \n",
    "Si estamos usando Anaconda no necesitamos instalar paquetes porque ya los trae incluidos."
   ]
  },
  {
   "cell_type": "markdown",
   "metadata": {},
   "source": [
    "## Cómo importar un paqute  \n",
    "Simplemente con esto estaríamos importando el paquete numpy con todas sus funciones"
   ]
  },
  {
   "cell_type": "code",
   "execution_count": 1,
   "metadata": {},
   "outputs": [],
   "source": [
    "import numpy"
   ]
  },
  {
   "cell_type": "code",
   "execution_count": 2,
   "metadata": {},
   "outputs": [
    {
     "data": {
      "text/plain": [
       "array([0, 1, 2, 3, 4, 5, 6, 7, 8, 9])"
      ]
     },
     "execution_count": 2,
     "metadata": {},
     "output_type": "execute_result"
    }
   ],
   "source": [
    "# ejemplo, usando la función arange del paquete\n",
    "numpy.arange(10)"
   ]
  },
  {
   "cell_type": "markdown",
   "metadata": {},
   "source": [
    "### Cómo importar un paquete con acrónico"
   ]
  },
  {
   "cell_type": "code",
   "execution_count": 3,
   "metadata": {},
   "outputs": [
    {
     "data": {
      "text/plain": [
       "array([0, 1, 2, 3, 4, 5, 6, 7, 8, 9])"
      ]
     },
     "execution_count": 3,
     "metadata": {},
     "output_type": "execute_result"
    }
   ],
   "source": [
    "import numpy as np               # es el método recomendado\n",
    "np.arange(10)                    # ya que al ver np.arange ya sabemos que se trata de la función arange del paquete numpy"
   ]
  },
  {
   "cell_type": "markdown",
   "metadata": {},
   "source": [
    "### Cómo importar una función concreta del paquete"
   ]
  },
  {
   "cell_type": "code",
   "execution_count": 5,
   "metadata": {},
   "outputs": [
    {
     "data": {
      "text/plain": [
       "array([0, 1, 2, 3, 4, 5, 6, 7, 8, 9])"
      ]
     },
     "execution_count": 5,
     "metadata": {},
     "output_type": "execute_result"
    }
   ],
   "source": [
    "from numpy import arange\n",
    "arange(10)"
   ]
  },
  {
   "cell_type": "markdown",
   "metadata": {},
   "source": [
    "**Ejemplo**  "
   ]
  },
  {
   "cell_type": "code",
   "execution_count": 11,
   "metadata": {},
   "outputs": [
    {
     "name": "stdout",
     "output_type": "stream",
     "text": [
      "x= [1 2 3]\n",
      "e^x = [ 2.71828183  7.3890561  20.08553692]\n",
      "Type de x: <class 'numpy.ndarray'>\n"
     ]
    }
   ],
   "source": [
    "import numpy as np\n",
    "x=np.arange(1,4)\n",
    "print('x=',x)\n",
    "print('e^x =',np.exp(x))\n",
    "print(\"Type de x:\",type(x))"
   ]
  },
  {
   "cell_type": "markdown",
   "metadata": {},
   "source": [
    "# Diferencia entre funciones y métodos"
   ]
  },
  {
   "cell_type": "markdown",
   "metadata": {},
   "source": [
    "- Función: conjunto de instrucciones que proporcionan un return\n",
    "- Método: conjunto de instrucciones que van a trabajar sobre un objeto"
   ]
  },
  {
   "cell_type": "code",
   "execution_count": 12,
   "metadata": {},
   "outputs": [
    {
     "name": "stdout",
     "output_type": "stream",
     "text": [
      "2.0\n",
      "2.0\n"
     ]
    }
   ],
   "source": [
    "# Calculemos la media de x\n",
    "print(np.mean(x))        # usando una función   a la función mean le pasamos el argumento x\n",
    "print(x.mean())          # usando un método     x es un objeto al que se aplica el método mean()"
   ]
  },
  {
   "cell_type": "code",
   "execution_count": 14,
   "metadata": {},
   "outputs": [
    {
     "name": "stdout",
     "output_type": "stream",
     "text": [
      "[10 20 30 40 50 60 70 80 90]\n"
     ]
    }
   ],
   "source": [
    "# Vamos a transformar las dimensiones de un array\n",
    "import numpy as np\n",
    "y=np.arange(10,100,10)\n",
    "print(y)"
   ]
  },
  {
   "cell_type": "code",
   "execution_count": 15,
   "metadata": {},
   "outputs": [
    {
     "data": {
      "text/plain": [
       "array([[10, 20, 30],\n",
       "       [40, 50, 60],\n",
       "       [70, 80, 90]])"
      ]
     },
     "execution_count": 15,
     "metadata": {},
     "output_type": "execute_result"
    }
   ],
   "source": [
    "np.reshape(y, (3,3))     # usando una función   primero escribimos la función y luego le pasamos los parámetros"
   ]
  },
  {
   "cell_type": "code",
   "execution_count": 16,
   "metadata": {},
   "outputs": [
    {
     "data": {
      "text/plain": [
       "array([[10, 20, 30],\n",
       "       [40, 50, 60],\n",
       "       [70, 80, 90]])"
      ]
     },
     "execution_count": 16,
     "metadata": {},
     "output_type": "execute_result"
    }
   ],
   "source": [
    "y.reshape(3,3)           # usando un método     el método reshape se aplica sobre el objeto y, donde solo le pasamos las coordenadas"
   ]
  },
  {
   "cell_type": "markdown",
   "metadata": {},
   "source": [
    "## Encademamiento de métodos (method chaining)  \n",
    "También se puede usar el encadenamiento de métodos.  \n",
    "objeto.método1().método2().método3()"
   ]
  },
  {
   "cell_type": "code",
   "execution_count": 25,
   "metadata": {},
   "outputs": [
    {
     "name": "stdout",
     "output_type": "stream",
     "text": [
      "x= [1 2 3 4]\n",
      "y= [ 2.71828183  7.3890561  20.08553692 54.59815003]\n",
      "[ 2.72  7.39 20.09 54.6 ]\n",
      "[ 2.72  7.39 20.09 54.6 ]\n",
      "[ 2.72  7.39 20.09 54.6 ]\n",
      "matriz= [array([1, 2, 3, 4]), array([ 2.71828183,  7.3890561 , 20.08553692, 54.59815003])]\n"
     ]
    }
   ],
   "source": [
    "import numpy as np\n",
    "x=np.arange(1,5)\n",
    "print('x=',x)\n",
    "y=np.exp(x)\n",
    "print('y=',y)\n",
    "print(np.round(y,2))\n",
    "print(y.round(2))\n",
    "print(y.round(2))\n",
    "matriz=[x,y]\n",
    "print(\"matriz=\",matriz)"
   ]
  },
  {
   "cell_type": "markdown",
   "metadata": {},
   "source": [
    "redondeamos con round([decimals, out]) y permutamos x e y con swapaxes(axis1, axis2)"
   ]
  },
  {
   "cell_type": "markdown",
   "metadata": {},
   "source": [
    "# Los paquetes más usados  \n",
    "## Procesamiento de datos  \n",
    "- Numpy\n",
    "- SciPy\n",
    "- Pandas\n",
    "- PySpark\n",
    "## Visualización  \n",
    "- Matplotlib\n",
    "- Plotly\n",
    "- Bokeh\n",
    "- Seaborn\n",
    "## Modelos ML-AI  \n",
    "- TensorFlow\n",
    "- Keras\n",
    "- PYTORCH\n",
    "- scikit learn\n",
    "## Minería de datos y de textos  \n",
    "- Flask\n",
    "- Scrapy\n",
    "- BeatifulSoup\n"
   ]
  },
  {
   "cell_type": "code",
   "execution_count": null,
   "metadata": {},
   "outputs": [],
   "source": []
  }
 ],
 "metadata": {
  "kernelspec": {
   "display_name": "Python 3",
   "language": "python",
   "name": "python3"
  },
  "language_info": {
   "codemirror_mode": {
    "name": "ipython",
    "version": 3
   },
   "file_extension": ".py",
   "mimetype": "text/x-python",
   "name": "python",
   "nbconvert_exporter": "python",
   "pygments_lexer": "ipython3",
   "version": "3.8.5"
  }
 },
 "nbformat": 4,
 "nbformat_minor": 4
}
