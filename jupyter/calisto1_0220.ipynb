{
 "cells": [
  {
   "cell_type": "markdown",
   "id": "d53062c2",
   "metadata": {},
   "source": [
    "# Diccionarios [3]  \n",
    "## Diccionarios anidados"
   ]
  },
  {
   "cell_type": "code",
   "execution_count": 1,
   "id": "a31711ca",
   "metadata": {},
   "outputs": [
    {
     "data": {
      "text/plain": [
       "{'colega1': {'nombre': 'Pedro', 'año': 2001},\n",
       " 'colega2': {'nombre': 'Silvia', 'año': 2004},\n",
       " 'colega3': {'nombre': 'Isa', 'año': 2003}}"
      ]
     },
     "execution_count": 1,
     "metadata": {},
     "output_type": "execute_result"
    }
   ],
   "source": [
    "amigos = {\n",
    "  \"colega1\" : {\n",
    "    \"nombre\" : \"Pedro\",\n",
    "    \"año\" : 2001\n",
    "  },\n",
    "  \"colega2\" : {\n",
    "    \"nombre\" : \"Silvia\",\n",
    "    \"año\" : 2004\n",
    "  },\n",
    "  \"colega3\" : {\n",
    "    \"nombre\" : \"Isa\",\n",
    "    \"año\" : 2003\n",
    "  }\n",
    "}\n",
    "amigos"
   ]
  },
  {
   "cell_type": "markdown",
   "id": "801be72c",
   "metadata": {},
   "source": [
    "## Diccionario de diccionarios  \n",
    "Podemos crear varios diccionarios y otro que los contenga."
   ]
  },
  {
   "cell_type": "code",
   "execution_count": 4,
   "id": "f282b8b8",
   "metadata": {},
   "outputs": [
    {
     "data": {
      "text/plain": [
       "{'marca1': {'gama': 'i3', 'precio': 120},\n",
       " 'marca2': {'gama': 'Ryzen3', 'precio': 90}}"
      ]
     },
     "execution_count": 4,
     "metadata": {},
     "output_type": "execute_result"
    }
   ],
   "source": [
    "Intel={\"gama\":\"i3\",\"precio\":120}\n",
    "AMD={\"gama\":\"Ryzen3\",\"precio\":90}\n",
    "micros={\"marca1\":Intel,\"marca2\":AMD}\n",
    "micros"
   ]
  },
  {
   "cell_type": "code",
   "execution_count": 3,
   "id": "89296251",
   "metadata": {},
   "outputs": [
    {
     "data": {
      "text/plain": [
       "dict_keys(['marca1', 'marca2'])"
      ]
     },
     "execution_count": 3,
     "metadata": {},
     "output_type": "execute_result"
    }
   ],
   "source": [
    "micros.keys()"
   ]
  },
  {
   "cell_type": "code",
   "execution_count": 6,
   "id": "b3bb1e91",
   "metadata": {},
   "outputs": [
    {
     "data": {
      "text/plain": [
       "dict_values([{'gama': 'i3', 'precio': 120}, {'gama': 'Ryzen3', 'precio': 90}])"
      ]
     },
     "execution_count": 6,
     "metadata": {},
     "output_type": "execute_result"
    }
   ],
   "source": [
    "micros.values()"
   ]
  },
  {
   "cell_type": "markdown",
   "id": "1c1b56ef",
   "metadata": {},
   "source": [
    "## Crear un diccionario usando listas"
   ]
  },
  {
   "cell_type": "code",
   "execution_count": 7,
   "id": "023b5e53",
   "metadata": {},
   "outputs": [
    {
     "name": "stdout",
     "output_type": "stream",
     "text": [
      "{'a': 1, 'b': 2, 'c': 3}\n",
      "{('b', 2), ('a', 1), ('c', 3)}\n"
     ]
    }
   ],
   "source": [
    "k=['a','b','c']\n",
    "v=list(range(1,4))            #[1,2,3]\n",
    "print(dict(zip(k,v)))         #{'a': 1, 'b': 2, 'c': 3}        diccionario\n",
    "print(set(zip(k,v)))          #{('b',2),('c',3),('a',1)}       conjunto"
   ]
  },
  {
   "cell_type": "markdown",
   "id": "7c2b0027",
   "metadata": {},
   "source": [
    "**Ejercicio**  \n",
    "Crear un diccionario partiendo de una lista de paises y otra lista con sus capitales.  \n",
    "Lugo invertir clave y valor."
   ]
  }
 ],
 "metadata": {
  "kernelspec": {
   "display_name": "Python 3",
   "language": "python",
   "name": "python3"
  },
  "language_info": {
   "codemirror_mode": {
    "name": "ipython",
    "version": 3
   },
   "file_extension": ".py",
   "mimetype": "text/x-python",
   "name": "python",
   "nbconvert_exporter": "python",
   "pygments_lexer": "ipython3",
   "version": "3.8.8"
  }
 },
 "nbformat": 4,
 "nbformat_minor": 5
}
