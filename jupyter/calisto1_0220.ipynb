{
 "cells": [
  {
   "cell_type": "markdown",
   "id": "bf18c881",
   "metadata": {},
   "source": [
    "# Diccionarios [2]"
   ]
  },
  {
   "cell_type": "code",
   "execution_count": null,
   "id": "4d0416b0",
   "metadata": {},
   "outputs": [],
   "source": [
    "historia = {\n",
    "  \"Apolo\": 11,\n",
    "  \"astronauta\": \"Neil Armstrong\",\n",
    "  \"año\": 1969\n",
    "}\n",
    "historia"
   ]
  },
  {
   "cell_type": "code",
   "execution_count": null,
   "id": "667b1403",
   "metadata": {},
   "outputs": [],
   "source": [
    "historia[\"Apolo\"] = 'XI'          # Cambiamos el valor de la clave Apolo\n",
    "historia"
   ]
  },
  {
   "cell_type": "code",
   "execution_count": null,
   "id": "80fc73ca",
   "metadata": {},
   "outputs": [],
   "source": [
    "print(\"año\" in historia)          # True"
   ]
  },
  {
   "cell_type": "code",
   "execution_count": null,
   "id": "ea8d6781",
   "metadata": {},
   "outputs": [],
   "source": [
    "print(len(historia))"
   ]
  },
  {
   "cell_type": "code",
   "execution_count": null,
   "id": "98fd9a06",
   "metadata": {},
   "outputs": [],
   "source": [
    "historia[\"módulo\"]=\"Eagle\"\n",
    "historia"
   ]
  },
  {
   "cell_type": "code",
   "execution_count": null,
   "id": "b6841671",
   "metadata": {},
   "outputs": [],
   "source": [
    "historia.pop(\"astronauta\")\n",
    "historia"
   ]
  },
  {
   "cell_type": "markdown",
   "id": "6b476e12",
   "metadata": {},
   "source": [
    "## Añadir y borrar un elemento"
   ]
  },
  {
   "cell_type": "code",
   "execution_count": null,
   "id": "167316ac",
   "metadata": {},
   "outputs": [],
   "source": [
    "color = {'verde': ['green','vert'],\n",
    "        'rojo': ['red','rouge'],\n",
    "        'azul': ['blue','bleu']}\n",
    "color                                       # diccionario de colores con traducción en inglés y en francés"
   ]
  },
  {
   "cell_type": "code",
   "execution_count": null,
   "id": "084f0077",
   "metadata": {},
   "outputs": [],
   "source": [
    "color['violeta'] = ['purple','violette']\n",
    "color"
   ]
  },
  {
   "cell_type": "code",
   "execution_count": null,
   "id": "b53dc70d",
   "metadata": {},
   "outputs": [],
   "source": [
    "del(color['rojo'])\n",
    "color"
   ]
  },
  {
   "cell_type": "markdown",
   "id": "2870f9df",
   "metadata": {},
   "source": [
    "## Operar con valores"
   ]
  },
  {
   "cell_type": "markdown",
   "id": "1907ee62",
   "metadata": {},
   "source": [
    "### Modificando el valor correspondiente a una clave."
   ]
  },
  {
   "cell_type": "code",
   "execution_count": null,
   "id": "2f2a7206",
   "metadata": {},
   "outputs": [],
   "source": [
    "edad = {'Ana':23, 'Luis':27, 'Eva':25, 'Raul':26}\n",
    "edad['Ana'] += 1                                   # es el cumpleaños de Ana\n",
    "edad"
   ]
  },
  {
   "cell_type": "markdown",
   "id": "b51c7526",
   "metadata": {},
   "source": [
    "### Comparando valores de varias claves"
   ]
  },
  {
   "cell_type": "code",
   "execution_count": null,
   "id": "27756e03",
   "metadata": {},
   "outputs": [],
   "source": [
    "edad['Ana'] < edad['Eva'] < edad['Raul']            # comparando los valores de varias claves"
   ]
  },
  {
   "cell_type": "markdown",
   "id": "cb0c38d1",
   "metadata": {},
   "source": [
    "## Listar clave, valor\n",
    "Usando bucles podemos listar el contenido de la clave y/o el valor de un diccionario."
   ]
  },
  {
   "cell_type": "code",
   "execution_count": null,
   "id": "71e062fa",
   "metadata": {},
   "outputs": [],
   "source": [
    "for k in edad:               # obtenemos solo un listado de la clave\n",
    "    print(k)"
   ]
  },
  {
   "cell_type": "code",
   "execution_count": null,
   "id": "5774173e",
   "metadata": {},
   "outputs": [],
   "source": [
    "for k in edad:               # conseguimos listar el valor\n",
    "    print(edad[k])"
   ]
  },
  {
   "cell_type": "code",
   "execution_count": null,
   "id": "58c41835",
   "metadata": {},
   "outputs": [],
   "source": [
    "for k in edad:               # listamos ambos\n",
    "    print(k, edad[k])"
   ]
  },
  {
   "cell_type": "markdown",
   "id": "0ea901a4",
   "metadata": {},
   "source": [
    "### Usando items"
   ]
  },
  {
   "cell_type": "code",
   "execution_count": null,
   "id": "0688d39a",
   "metadata": {},
   "outputs": [],
   "source": [
    "for k,v in edad.items():\n",
    "    print(k,v)"
   ]
  }
 ],
 "metadata": {
  "kernelspec": {
   "display_name": "Python 3",
   "language": "python",
   "name": "python3"
  },
  "language_info": {
   "codemirror_mode": {
    "name": "ipython",
    "version": 3
   },
   "file_extension": ".py",
   "mimetype": "text/x-python",
   "name": "python",
   "nbconvert_exporter": "python",
   "pygments_lexer": "ipython3",
   "version": "3.8.8"
  }
 },
 "nbformat": 4,
 "nbformat_minor": 5
}
