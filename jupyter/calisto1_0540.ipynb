{
 "cells": [
  {
   "cell_type": "markdown",
   "id": "9d5d3f65",
   "metadata": {},
   "source": [
    "# Funciones: recursividad"
   ]
  },
  {
   "cell_type": "markdown",
   "id": "a36c2923",
   "metadata": {},
   "source": [
    "![recursividad](img/recursividad.png)"
   ]
  },
  {
   "cell_type": "markdown",
   "id": "9e24b1bd",
   "metadata": {},
   "source": [
    "# Calcular el máximo"
   ]
  },
  {
   "cell_type": "markdown",
   "id": "055d85ac",
   "metadata": {},
   "source": [
    "Ya existe una función en Python que calcula el máximo de varios números, pero vamos a crear nuestra propia función para calcular el maximo con iteración y con recursividad."
   ]
  },
  {
   "cell_type": "markdown",
   "id": "3902b1e7",
   "metadata": {},
   "source": [
    "### Función interna de Python"
   ]
  },
  {
   "cell_type": "code",
   "execution_count": 36,
   "id": "b7e694c8",
   "metadata": {},
   "outputs": [
    {
     "data": {
      "text/plain": [
       "9"
      ]
     },
     "execution_count": 36,
     "metadata": {},
     "output_type": "execute_result"
    }
   ],
   "source": [
    "max(3,9,6)"
   ]
  },
  {
   "cell_type": "markdown",
   "id": "e73691fc",
   "metadata": {},
   "source": [
    "### Función creada por iteración"
   ]
  },
  {
   "cell_type": "code",
   "execution_count": 44,
   "id": "466e4936",
   "metadata": {},
   "outputs": [
    {
     "name": "stdout",
     "output_type": "stream",
     "text": [
      "9\n"
     ]
    }
   ],
   "source": [
    "def mimax(*numeros):                 #se pone * cuando es número de datos de entrada es indeterminado\n",
    "    maximo = numeros[0]\n",
    "    for numero in numeros:\n",
    "        if numero > maximo:\n",
    "            maximo = numero\n",
    "    return maximo\n",
    "\n",
    "print(mimax(3,9,6))"
   ]
  },
  {
   "cell_type": "markdown",
   "id": "5317c0e4",
   "metadata": {},
   "source": [
    "### Función creada por recursión"
   ]
  },
  {
   "cell_type": "code",
   "execution_count": 45,
   "id": "51148cb7",
   "metadata": {},
   "outputs": [
    {
     "ename": "SyntaxError",
     "evalue": "invalid syntax (<ipython-input-45-60562b5c5303>, line 9)",
     "output_type": "error",
     "traceback": [
      "\u001b[0;36m  File \u001b[0;32m\"<ipython-input-45-60562b5c5303>\"\u001b[0;36m, line \u001b[0;32m9\u001b[0m\n\u001b[0;31m    for numero in numeros[1:]\u001b[0m\n\u001b[0m                             ^\u001b[0m\n\u001b[0;31mSyntaxError\u001b[0m\u001b[0;31m:\u001b[0m invalid syntax\n"
     ]
    }
   ],
   "source": [
    "def mymax(a,b):\n",
    "    if a > b:\n",
    "        return a\n",
    "    else:\n",
    "        return b\n",
    "    \n",
    "def compruebamax(numeros):\n",
    "    candidato = numeros[0]\n",
    "    for numero in numeros[1:]\n",
    "        mymax(numero)\n",
    "    return mymax(num)\n",
    "\n",
    "print(compruebamax(list(3,9,6))"
   ]
  },
  {
   "cell_type": "markdown",
   "id": "f02087ac",
   "metadata": {},
   "source": [
    "## Factorial de un número"
   ]
  },
  {
   "cell_type": "code",
   "execution_count": null,
   "id": "20e0279e",
   "metadata": {},
   "outputs": [],
   "source": []
  },
  {
   "cell_type": "markdown",
   "id": "f794eb21",
   "metadata": {},
   "source": [
    "### Cálculo del factorial por iteración"
   ]
  },
  {
   "cell_type": "code",
   "execution_count": null,
   "id": "5e991ebf",
   "metadata": {},
   "outputs": [],
   "source": [
    "def factor(n):\n",
    "    f=1                 #por definición el factorial de cero es 1  \n",
    "    for i in range(1,n+1):\n",
    "        f*=i\n",
    "    return f\n",
    "n=5\n",
    "print(\"El producto de 5*4*3*2*1 es\",5*4*3*2*1)\n",
    "print(\"El factorial de\",n,\"es\",factor(n))"
   ]
  },
  {
   "cell_type": "markdown",
   "id": "3517379e",
   "metadata": {},
   "source": [
    "### Cálculo del factorial por recursión"
   ]
  },
  {
   "cell_type": "code",
   "execution_count": null,
   "id": "1c32eddd",
   "metadata": {},
   "outputs": [],
   "source": [
    "def factorial(n):\n",
    "    if n==0: return 1\n",
    "    else: return (n*factorial(n-1))\n",
    "num=5\n",
    "print(\"El factorial de {} es {}\".format(num, factorial(num)))"
   ]
  },
  {
   "cell_type": "markdown",
   "id": "2b93f81b",
   "metadata": {},
   "source": [
    "## Sucesión de Fibonacci  \n",
    "[Sucesión de Fibonacci programada en Python](https://altocodigo.blogspot.com/2018/07/sucesion-de-fibonacci-programada-en.html)"
   ]
  },
  {
   "cell_type": "markdown",
   "id": "b1929e9d",
   "metadata": {},
   "source": [
    "### Fibonacci por iteraciones"
   ]
  },
  {
   "cell_type": "code",
   "execution_count": null,
   "id": "7b04ae52",
   "metadata": {},
   "outputs": [],
   "source": [
    "fibo=[0,1]\n",
    "for i in range (17):\n",
    "  fibo.append(fibo[-1]+fibo[-2])\n",
    "print(fibo)"
   ]
  },
  {
   "cell_type": "markdown",
   "id": "25205c7e",
   "metadata": {},
   "source": [
    "### Fibonacci por recursión"
   ]
  },
  {
   "cell_type": "code",
   "execution_count": null,
   "id": "38ccb0bb",
   "metadata": {},
   "outputs": [],
   "source": [
    "def fib(n):\n",
    "    if n <= 0: return 0\n",
    "    if n == 1: return 1\n",
    "    return fib(n-1) + fib(n-2)\n",
    "\n",
    "[fib(i) for i in range(19)]"
   ]
  },
  {
   "cell_type": "markdown",
   "id": "936545d8",
   "metadata": {},
   "source": [
    "**Ejercicio**  \n",
    "Cree otro caso que se resuelva con una función por iteraciones y por recursividad. ¿Cúal de las dos versiones le resulta preferible?"
   ]
  },
  {
   "cell_type": "markdown",
   "id": "cc46ae9a",
   "metadata": {},
   "source": [
    "## Ventajas de la recursión  \n",
    "- Al dividir el problema en partes más pequeña es más abordable.\n",
    "- Puede llegar a mostrarse un código más limpio y ordenado."
   ]
  },
  {
   "cell_type": "markdown",
   "id": "108802a0",
   "metadata": {},
   "source": [
    "## Inconvenientes de la recursión  \n",
    "- La lógica es dificil de seguir.\n",
    "- En Python la llamada recursiva a una función ocupa una gran cantidad de menoria ya que permanece abierta cada una de las llamadas. Python establecen en 3000 en número límite de llamadas recursivas a una función, después de ello arroja un error. *RecursionError: maximum recursion depth exceeded in comparison*  \n",
    "- Otro inconveniente es que las subfunciones recursivas requieren mucho tiempo por lo que son ineficientes."
   ]
  },
  {
   "cell_type": "code",
   "execution_count": null,
   "id": "16b1df4b",
   "metadata": {},
   "outputs": [],
   "source": [
    "import sys\n",
    "sys.getrecursionlimit()"
   ]
  },
  {
   "cell_type": "code",
   "execution_count": null,
   "id": "65ced5c1",
   "metadata": {},
   "outputs": [],
   "source": [
    "print(1+2+3+4+5)\n",
    "\n",
    "def acumulahasta(n):\n",
    "    if n == 1: return 1\n",
    "    else: return n + acumulahasta(n-1)\n",
    "print(acumulahasta(5))"
   ]
  },
  {
   "cell_type": "markdown",
   "id": "f4ed2328",
   "metadata": {},
   "source": [
    "Ese límite se podría ampliar."
   ]
  },
  {
   "cell_type": "code",
   "execution_count": null,
   "id": "8eb9b019",
   "metadata": {},
   "outputs": [],
   "source": [
    "#import sys\n",
    "#sys.setrecursionlimit(5000)"
   ]
  }
 ],
 "metadata": {
  "kernelspec": {
   "display_name": "Python 3",
   "language": "python",
   "name": "python3"
  },
  "language_info": {
   "codemirror_mode": {
    "name": "ipython",
    "version": 3
   },
   "file_extension": ".py",
   "mimetype": "text/x-python",
   "name": "python",
   "nbconvert_exporter": "python",
   "pygments_lexer": "ipython3",
   "version": "3.8.10"
  }
 },
 "nbformat": 4,
 "nbformat_minor": 5
}
