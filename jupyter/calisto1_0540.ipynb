{
 "cells": [
  {
   "cell_type": "markdown",
   "id": "9d5d3f65",
   "metadata": {},
   "source": [
    "# Funciones: recursividad"
   ]
  },
  {
   "cell_type": "markdown",
   "id": "a36c2923",
   "metadata": {},
   "source": [
    "![recursividad](img/recursividad.png)"
   ]
  },
  {
   "cell_type": "markdown",
   "id": "a1029ffb",
   "metadata": {},
   "source": [
    "## Acumula  \n",
    "Dado un número entero n>1 sumar todos los números desde 1 hasta n.  \n",
    "Por ejemplo, para n=5 se obtendría la suma de 1+2+3+4+5 que es 15.  \n",
    "Compruebe que la suma de los numeros del 1 al 100 es igual a 5050.  \n",
    "[Midiendo el mundo](https://youtu.be/9JxnGx0RWso)"
   ]
  },
  {
   "cell_type": "code",
   "execution_count": 36,
   "id": "65ced5c1",
   "metadata": {},
   "outputs": [
    {
     "name": "stdout",
     "output_type": "stream",
     "text": [
      "15\n"
     ]
    }
   ],
   "source": [
    "def suma(n):\n",
    "    if n == 0: return 0                        # definimos el resultado para el caso base\n",
    "    else: return n + suma(n-1)                 # definimos el resultado para el resto de casos\n",
    "print(suma(5))"
   ]
  },
  {
   "cell_type": "markdown",
   "id": "9e24b1bd",
   "metadata": {},
   "source": [
    "## Calcular el máximo"
   ]
  },
  {
   "cell_type": "markdown",
   "id": "055d85ac",
   "metadata": {},
   "source": [
    "Ya existe una función en Python que calcula el máximo de varios números, pero vamos a crear nuestra propia función para calcular el maximo por iteración y por recursividad."
   ]
  },
  {
   "cell_type": "markdown",
   "id": "3902b1e7",
   "metadata": {},
   "source": [
    "### Función max interna de Python"
   ]
  },
  {
   "cell_type": "code",
   "execution_count": 2,
   "id": "b7e694c8",
   "metadata": {},
   "outputs": [
    {
     "data": {
      "text/plain": [
       "9"
      ]
     },
     "execution_count": 2,
     "metadata": {},
     "output_type": "execute_result"
    }
   ],
   "source": [
    "max(3,9,6)"
   ]
  },
  {
   "cell_type": "markdown",
   "id": "e73691fc",
   "metadata": {},
   "source": [
    "### Función máximo creada por iteración"
   ]
  },
  {
   "cell_type": "code",
   "execution_count": 4,
   "id": "466e4936",
   "metadata": {},
   "outputs": [
    {
     "name": "stdout",
     "output_type": "stream",
     "text": [
      "9\n"
     ]
    }
   ],
   "source": [
    "def mimax(*numeros):                 #se pone * cuando es número de datos de entrada es indeterminado\n",
    "    maximo = numeros[0]\n",
    "    for numero in numeros:\n",
    "        if numero > maximo:\n",
    "            maximo = numero\n",
    "    return maximo\n",
    "\n",
    "print(mimax(3,9,6))"
   ]
  },
  {
   "cell_type": "code",
   "execution_count": 8,
   "id": "abb8ad69",
   "metadata": {},
   "outputs": [
    {
     "name": "stdout",
     "output_type": "stream",
     "text": [
      "9\n"
     ]
    }
   ],
   "source": [
    "def mimax(numeros):                  # usando una lista no es necesario usar *\n",
    "    maximo = numeros[0]\n",
    "    for numero in numeros:\n",
    "        if numero > maximo:\n",
    "            maximo = numero\n",
    "    return maximo\n",
    "lista=[3,9,6]\n",
    "print(mimax(lista))"
   ]
  },
  {
   "cell_type": "markdown",
   "id": "5317c0e4",
   "metadata": {},
   "source": [
    "### Función máximo creada por recursión"
   ]
  },
  {
   "cell_type": "markdown",
   "id": "ca47a012",
   "metadata": {},
   "source": [
    "#### Método 1 por recursión"
   ]
  },
  {
   "cell_type": "code",
   "execution_count": 44,
   "id": "a7f5dd13",
   "metadata": {},
   "outputs": [
    {
     "data": {
      "text/plain": [
       "9"
      ]
     },
     "execution_count": 44,
     "metadata": {},
     "output_type": "execute_result"
    }
   ],
   "source": [
    "def maximo(l):\n",
    "    if len(l) == 1: return l[0]\n",
    "    else: return max(l[0], maximo(l[1:]))\n",
    "\n",
    "num=[3,9,6]\n",
    "maximo(num)"
   ]
  },
  {
   "cell_type": "markdown",
   "id": "232a4581",
   "metadata": {},
   "source": [
    "#### Método 2 por recursión  \n",
    "Otro método, en este caso sin usar la función matemática max.  \n",
    "Se comparan el último y el primer elemento de la lista y se va dejando el mayor en la primera posición."
   ]
  },
  {
   "cell_type": "code",
   "execution_count": 45,
   "id": "2a80c666",
   "metadata": {},
   "outputs": [
    {
     "data": {
      "text/plain": [
       "9"
      ]
     },
     "execution_count": 45,
     "metadata": {},
     "output_type": "execute_result"
    }
   ],
   "source": [
    "def maximo(num):\n",
    "    if len(num)==1: return num[0]\n",
    "    if num[-1]>num[0]:\n",
    "        num[-1],num[0]=num[0],num[-1]\n",
    "        num.pop()\n",
    "    return maximo(num)\n",
    "\n",
    "num=[3,9,6]\n",
    "maximo(num)"
   ]
  },
  {
   "cell_type": "markdown",
   "id": "83597569",
   "metadata": {},
   "source": [
    "#### Método 3 por recursión  \n",
    "Sin usar la función matemática max y sin ir eliminando el último elemento de la lista."
   ]
  },
  {
   "cell_type": "code",
   "execution_count": 47,
   "id": "77429b0d",
   "metadata": {},
   "outputs": [
    {
     "ename": "SyntaxError",
     "evalue": "invalid syntax (<ipython-input-47-bdb480353577>, line 18)",
     "output_type": "error",
     "traceback": [
      "\u001b[0;36m  File \u001b[0;32m\"<ipython-input-47-bdb480353577>\"\u001b[0;36m, line \u001b[0;32m18\u001b[0m\n\u001b[0;31m    cambiar el nombre de la función. todas se llaman igual y eso no puede ser.\u001b[0m\n\u001b[0m            ^\u001b[0m\n\u001b[0;31mSyntaxError\u001b[0m\u001b[0;31m:\u001b[0m invalid syntax\n"
     ]
    }
   ],
   "source": [
    "def findMinimum(l):\n",
    "    if len(l) == 0:\n",
    "       raise ValueError('Cannot find the minimum of an empty list.')\n",
    "    elif len(l) == 1:\n",
    "       return l[0]\n",
    "    else:\n",
    "       minNumber = findMinimum(l[1:])\n",
    "       min = l[0]\n",
    "       if minNumber < min:\n",
    "            min = minNumber\n",
    "       return min\n",
    "\n",
    "num=[3,9,6]\n",
    "maximo(num)\n",
    "\n",
    "\n",
    "error\n",
    "cambiar el nombre de la función. todas se llaman igual y eso no puede ser.\n"
   ]
  },
  {
   "cell_type": "markdown",
   "id": "f02087ac",
   "metadata": {},
   "source": [
    "## Factorial de un número"
   ]
  },
  {
   "cell_type": "markdown",
   "id": "72f089ef",
   "metadata": {},
   "source": [
    "El factorial de 5 es 5! = 5 * 4 * 3* 2 * 1.  \n",
    "El factorial de 0 por definición es 1. 0! = 1."
   ]
  },
  {
   "cell_type": "markdown",
   "id": "f794eb21",
   "metadata": {},
   "source": [
    "### Cálculo del factorial por iteración"
   ]
  },
  {
   "cell_type": "code",
   "execution_count": null,
   "id": "5e991ebf",
   "metadata": {},
   "outputs": [],
   "source": [
    "def factor(n):\n",
    "    f=1                 #por definición el factorial de cero es 1  \n",
    "    for i in range(1,n+1):\n",
    "        f*=i\n",
    "    return f\n",
    "n=5\n",
    "print(\"El producto de 5*4*3*2*1 es\",5*4*3*2*1)\n",
    "print(\"El factorial de\",n,\"es\",factor(n))"
   ]
  },
  {
   "cell_type": "markdown",
   "id": "3517379e",
   "metadata": {},
   "source": [
    "### Cálculo del factorial por recursión"
   ]
  },
  {
   "cell_type": "code",
   "execution_count": null,
   "id": "1c32eddd",
   "metadata": {},
   "outputs": [],
   "source": [
    "def factorial(n):\n",
    "    if n==0: return 1\n",
    "    else: return (n*factorial(n-1))\n",
    "num=5\n",
    "print(\"El factorial de {} es {}\".format(num, factorial(num)))"
   ]
  },
  {
   "cell_type": "markdown",
   "id": "2b93f81b",
   "metadata": {},
   "source": [
    "## Sucesión de Fibonacci  \n",
    "[Sucesión de Fibonacci programada en Python](https://altocodigo.blogspot.com/2018/07/sucesion-de-fibonacci-programada-en.html)"
   ]
  },
  {
   "cell_type": "markdown",
   "id": "b1929e9d",
   "metadata": {},
   "source": [
    "### Fibonacci por iteraciones"
   ]
  },
  {
   "cell_type": "code",
   "execution_count": null,
   "id": "7b04ae52",
   "metadata": {},
   "outputs": [],
   "source": [
    "fibo=[0,1]\n",
    "for i in range (17):\n",
    "  fibo.append(fibo[-1]+fibo[-2])\n",
    "print(fibo)"
   ]
  },
  {
   "cell_type": "markdown",
   "id": "25205c7e",
   "metadata": {},
   "source": [
    "### Fibonacci por recursión"
   ]
  },
  {
   "cell_type": "code",
   "execution_count": 3,
   "id": "a6073abf",
   "metadata": {},
   "outputs": [
    {
     "data": {
      "text/plain": [
       "[0, 1, 1, 2, 3, 5, 8, 13, 21, 34, 55, 89, 144, 233, 377, 610, 987, 1597, 2584]"
      ]
     },
     "execution_count": 3,
     "metadata": {},
     "output_type": "execute_result"
    }
   ],
   "source": [
    "def fib(n):\n",
    "    if n <= 0: return 0\n",
    "    if n == 1: return 1\n",
    "    return fib(n-1) + fib(n-2)\n",
    "\n",
    "[fib(i) for i in range(19)]"
   ]
  },
  {
   "cell_type": "markdown",
   "id": "c48c81ed",
   "metadata": {},
   "source": [
    "Una versión similar a la anterior."
   ]
  },
  {
   "cell_type": "code",
   "execution_count": 10,
   "id": "38ccb0bb",
   "metadata": {},
   "outputs": [
    {
     "data": {
      "text/plain": [
       "[0, 1, 1, 2, 3, 5, 8, 13, 21, 34, 55, 89, 144, 233, 377, 610, 987, 1597, 2584]"
      ]
     },
     "execution_count": 10,
     "metadata": {},
     "output_type": "execute_result"
    }
   ],
   "source": [
    "def fib(n):                          # necesariamente debe ser n >= 2\n",
    "    if n <= 1: return n              # si n=1 retorna 1. si n=0 retorna 0\n",
    "    return fib(n-1) + fib(n-2)\n",
    "\n",
    "[fib(i) for i in range(19)]"
   ]
  },
  {
   "cell_type": "markdown",
   "id": "de5ba0db",
   "metadata": {},
   "source": [
    "## Reverso de un string por recursión"
   ]
  },
  {
   "cell_type": "code",
   "execution_count": 19,
   "id": "3ee2fa1f",
   "metadata": {},
   "outputs": [
    {
     "name": "stdout",
     "output_type": "stream",
     "text": [
      "amigos\n"
     ]
    }
   ],
   "source": [
    "def reverso(cadena):\n",
    "        if len(cadena)==0: return ''\n",
    "        return cadena[-1] + reverso(cadena[:-1])\n",
    "\n",
    "print(reverso('sogima'))"
   ]
  },
  {
   "cell_type": "markdown",
   "id": "936545d8",
   "metadata": {},
   "source": [
    "**Ejercicio**  \n",
    "Cree otro caso que se resuelva con una función por iteraciones y por recursividad. ¿Cúal de las dos versiones le resulta preferible?"
   ]
  },
  {
   "cell_type": "markdown",
   "id": "cc46ae9a",
   "metadata": {},
   "source": [
    "## Ventajas de la recursión  \n",
    "- Al dividir el problema en partes más pequeña es más abordable.\n",
    "- Puede llegar a mostrarse un código más limpio y ordenado."
   ]
  },
  {
   "cell_type": "markdown",
   "id": "108802a0",
   "metadata": {},
   "source": [
    "## Inconvenientes de la recursión  \n",
    "- La lógica es dificil de seguir.\n",
    "- En Python la llamada recursiva a una función ocupa una gran cantidad de menoria ya que permanece abierta cada una de las llamadas. Python establecen en 3000 en número límite de llamadas recursivas a una función, después de ello arroja un error.  \n",
    "RecursionError: maximum recursion depth exceeded in comparison  \n",
    "Si la recursividad es demasiado profunda, puede quedarse sin espacio de pila, lo que se denomina desbordamiento de pila (**stack overflow**).\n",
    "- Otro inconveniente es que las subfunciones recursivas requieren mucho tiempo por lo que son ineficientes."
   ]
  },
  {
   "cell_type": "code",
   "execution_count": null,
   "id": "16b1df4b",
   "metadata": {},
   "outputs": [],
   "source": [
    "import sys\n",
    "sys.getrecursionlimit()"
   ]
  },
  {
   "cell_type": "markdown",
   "id": "f4ed2328",
   "metadata": {},
   "source": [
    "Ese límite se podría ampliar."
   ]
  },
  {
   "cell_type": "code",
   "execution_count": null,
   "id": "8eb9b019",
   "metadata": {},
   "outputs": [],
   "source": [
    "#import sys\n",
    "#sys.setrecursionlimit(5000)"
   ]
  }
 ],
 "metadata": {
  "kernelspec": {
   "display_name": "Python 3",
   "language": "python",
   "name": "python3"
  },
  "language_info": {
   "codemirror_mode": {
    "name": "ipython",
    "version": 3
   },
   "file_extension": ".py",
   "mimetype": "text/x-python",
   "name": "python",
   "nbconvert_exporter": "python",
   "pygments_lexer": "ipython3",
   "version": "3.8.10"
  }
 },
 "nbformat": 4,
 "nbformat_minor": 5
}
