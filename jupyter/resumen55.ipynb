{
  "nbformat": 4,
  "nbformat_minor": 0,
  "metadata": {
    "colab": {
      "name": "resumen55.ipynb",
      "provenance": [],
      "authorship_tag": "ABX9TyNoqFAKbFOMvWJ/hJNc4r++",
      "include_colab_link": true
    },
    "kernelspec": {
      "name": "python3",
      "display_name": "Python 3"
    },
    "language_info": {
      "name": "python"
    }
  },
  "cells": [
    {
      "cell_type": "markdown",
      "metadata": {
        "id": "view-in-github",
        "colab_type": "text"
      },
      "source": [
        "<a href=\"https://colab.research.google.com/github/financieras/pyCourse/blob/main/jupyter/resumen55.ipynb\" target=\"_parent\"><img src=\"https://colab.research.google.com/assets/colab-badge.svg\" alt=\"Open In Colab\"/></a>"
      ]
    },
    {
      "cell_type": "markdown",
      "source": [
        "# Generación de números aleatorios"
      ],
      "metadata": {
        "id": "jTThBDZ9d1Di"
      }
    },
    {
      "cell_type": "code",
      "source": [
        "import random\n",
        "random.random()"
      ],
      "metadata": {
        "colab": {
          "base_uri": "https://localhost:8080/"
        },
        "id": "eNd6_xKpd7sw",
        "outputId": "b07a121d-bcf1-4a3b-f52a-1aa4245a1191"
      },
      "execution_count": null,
      "outputs": [
        {
          "output_type": "execute_result",
          "data": {
            "text/plain": [
              "0.4604038070071321"
            ]
          },
          "metadata": {},
          "execution_count": 9
        }
      ]
    },
    {
      "cell_type": "code",
      "source": [
        "random.randint(1,5)   # incluido ambos extremos"
      ],
      "metadata": {
        "colab": {
          "base_uri": "https://localhost:8080/"
        },
        "id": "mZwSKC9WeCjo",
        "outputId": "63e39174-5df6-48ba-f34f-582c59b53199"
      },
      "execution_count": null,
      "outputs": [
        {
          "output_type": "execute_result",
          "data": {
            "text/plain": [
              "5"
            ]
          },
          "metadata": {},
          "execution_count": 17
        }
      ]
    },
    {
      "cell_type": "markdown",
      "source": [
        "### Lista de números aleatorios sin repetición"
      ],
      "metadata": {
        "id": "GUh7lIxTgDEC"
      }
    },
    {
      "cell_type": "code",
      "source": [
        "random.sample([1,2,3,4,5,6], 3)   # elige 3 elementos de la lista, sin repetición"
      ],
      "metadata": {
        "colab": {
          "base_uri": "https://localhost:8080/"
        },
        "id": "l9NouIwHeUXo",
        "outputId": "56f1a534-c995-4c2a-d2d7-ade992b93bd8"
      },
      "execution_count": null,
      "outputs": [
        {
          "output_type": "execute_result",
          "data": {
            "text/plain": [
              "[4, 3, 5]"
            ]
          },
          "metadata": {},
          "execution_count": 19
        }
      ]
    },
    {
      "cell_type": "code",
      "source": [
        "random.sample(range(1,7), 3)   # hace lo mismo que la expresión anterior"
      ],
      "metadata": {
        "colab": {
          "base_uri": "https://localhost:8080/"
        },
        "id": "ikl30AiVfC40",
        "outputId": "86b8730f-8b20-4cb6-c0bf-19fec06ed865"
      },
      "execution_count": null,
      "outputs": [
        {
          "output_type": "execute_result",
          "data": {
            "text/plain": [
              "[5, 2, 4]"
            ]
          },
          "metadata": {},
          "execution_count": 20
        }
      ]
    },
    {
      "cell_type": "markdown",
      "source": [
        "### Lista de números aleatorios con posible repetición"
      ],
      "metadata": {
        "id": "YLtuzWrcf793"
      }
    },
    {
      "cell_type": "code",
      "source": [
        "lista = []\n",
        "\n",
        "for i in range(3):\n",
        "    n = random.randint(1,6)\n",
        "    lista.append(n)\n",
        "\n",
        "lista"
      ],
      "metadata": {
        "colab": {
          "base_uri": "https://localhost:8080/"
        },
        "id": "M8Y_ZFw5fgRj",
        "outputId": "8d7ba57e-dd83-4161-9d8d-e691469f9058"
      },
      "execution_count": null,
      "outputs": [
        {
          "output_type": "execute_result",
          "data": {
            "text/plain": [
              "[4, 4, 5]"
            ]
          },
          "metadata": {},
          "execution_count": 21
        }
      ]
    }
  ]
}