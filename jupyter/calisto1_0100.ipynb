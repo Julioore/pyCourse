{
 "cells": [
  {
   "cell_type": "markdown",
   "id": "69648988",
   "metadata": {},
   "source": [
    "# Funciones internas"
   ]
  },
  {
   "cell_type": "markdown",
   "id": "459fb77d",
   "metadata": {},
   "source": [
    "- print()\n",
    "- exit()\n",
    "- abs()\n",
    "- round()\n",
    "- chr()\n",
    "- float()\n",
    "- int()\n",
    "- str()\n",
    "- input()\n",
    "- len()\n",
    "- max()\n",
    "- min()\n",
    "- sum()\n",
    "- pow()\n",
    "- eval()"
   ]
  },
  {
   "cell_type": "code",
   "execution_count": null,
   "id": "40164781",
   "metadata": {},
   "outputs": [],
   "source": [
    "type(\"Hola\")"
   ]
  },
  {
   "cell_type": "code",
   "execution_count": null,
   "id": "520947d5",
   "metadata": {},
   "outputs": [],
   "source": [
    "type(5)"
   ]
  },
  {
   "cell_type": "code",
   "execution_count": null,
   "id": "2e5e8fd0",
   "metadata": {},
   "outputs": [],
   "source": [
    "type(10/2)"
   ]
  },
  {
   "cell_type": "code",
   "execution_count": null,
   "id": "397825d9",
   "metadata": {},
   "outputs": [],
   "source": [
    "type(5==5)"
   ]
  },
  {
   "cell_type": "code",
   "execution_count": null,
   "id": "7991c881",
   "metadata": {},
   "outputs": [],
   "source": [
    "type(5=='5')"
   ]
  },
  {
   "cell_type": "code",
   "execution_count": null,
   "id": "5b4097f1",
   "metadata": {},
   "outputs": [],
   "source": [
    "num = input(\"Indique un número:\")\n",
    "print(7==num)                      #¿alguna vez dará True?\n",
    "type(7==num)"
   ]
  },
  {
   "cell_type": "code",
   "execution_count": null,
   "id": "fac3e75c",
   "metadata": {},
   "outputs": [],
   "source": [
    "len(\"Hola\")                       #longitud 4"
   ]
  },
  {
   "cell_type": "code",
   "execution_count": null,
   "id": "a654d2e4",
   "metadata": {},
   "outputs": [],
   "source": [
    "x=2\n",
    "eval(\"1+3*x\")                     #7"
   ]
  },
  {
   "cell_type": "code",
   "execution_count": null,
   "id": "2560ed40",
   "metadata": {},
   "outputs": [],
   "source": [
    "sum([1, 2, 3])                    #6   suma los elementos de una lista"
   ]
  },
  {
   "cell_type": "code",
   "execution_count": null,
   "id": "bb9c7bf8",
   "metadata": {},
   "outputs": [],
   "source": [
    "edad=5\n",
    "print('Solo tiene '+edad+' años')              #TypeError"
   ]
  },
  {
   "cell_type": "code",
   "execution_count": null,
   "id": "8d3c83fa",
   "metadata": {},
   "outputs": [],
   "source": [
    "print('Solo tiene ' + str(edad) + ' años')     #Solo tiene 5 años\n",
    "print('Solo tiene {} años'.format(edad))       #Solo tiene 5 años\n",
    "print(f'Solo tiene {edad} años')               #Solo tiene 5 años"
   ]
  },
  {
   "cell_type": "code",
   "execution_count": null,
   "id": "d2691cac",
   "metadata": {},
   "outputs": [],
   "source": [
    "print(int(5.7))                             #5"
   ]
  },
  {
   "cell_type": "code",
   "execution_count": 33,
   "id": "4cdfc077",
   "metadata": {},
   "outputs": [
    {
     "data": {
      "text/plain": [
       "'A'"
      ]
     },
     "execution_count": 33,
     "metadata": {},
     "output_type": "execute_result"
    }
   ],
   "source": [
    "chr(65)                                     #'A' caracter código ASCII"
   ]
  },
  {
   "cell_type": "code",
   "execution_count": 34,
   "id": "c4fa9384",
   "metadata": {},
   "outputs": [
    {
     "data": {
      "text/plain": [
       "8"
      ]
     },
     "execution_count": 34,
     "metadata": {},
     "output_type": "execute_result"
    }
   ],
   "source": [
    "pow(2,3)                                    #función potencias"
   ]
  },
  {
   "cell_type": "markdown",
   "id": "9e287263",
   "metadata": {},
   "source": [
    "## Ejercicio  \n",
    "Solicitar al usuario dos números y calcular el máximo y el mínimo."
   ]
  }
 ],
 "metadata": {
  "kernelspec": {
   "display_name": "Python 3",
   "language": "python",
   "name": "python3"
  },
  "language_info": {
   "codemirror_mode": {
    "name": "ipython",
    "version": 3
   },
   "file_extension": ".py",
   "mimetype": "text/x-python",
   "name": "python",
   "nbconvert_exporter": "python",
   "pygments_lexer": "ipython3",
   "version": "3.8.5"
  }
 },
 "nbformat": 4,
 "nbformat_minor": 5
}
