{
  "cells": [
    {
      "cell_type": "markdown",
      "metadata": {
        "id": "view-in-github",
        "colab_type": "text"
      },
      "source": [
        "<a href=\"https://colab.research.google.com/github/financieras/pyCourse/blob/main/jupyter/calisto1_0100.ipynb\" target=\"_parent\"><img src=\"https://colab.research.google.com/assets/colab-badge.svg\" alt=\"Open In Colab\"/></a>"
      ]
    },
    {
      "cell_type": "markdown",
      "id": "4489f00b",
      "metadata": {
        "id": "4489f00b"
      },
      "source": [
        "# Strings"
      ]
    },
    {
      "cell_type": "markdown",
      "id": "e89aa34d",
      "metadata": {
        "id": "e89aa34d"
      },
      "source": [
        "## Comparar strings"
      ]
    },
    {
      "cell_type": "code",
      "execution_count": null,
      "id": "48b0180b",
      "metadata": {
        "id": "48b0180b"
      },
      "outputs": [],
      "source": [
        "cadena1 = \"Hola\"                                          # con \"\"\n",
        "cadena2 = 'Hola'                                          # con ''\n",
        "cadena1 == cadena2                                        # True"
      ]
    },
    {
      "cell_type": "markdown",
      "id": "ffef0f9c",
      "metadata": {
        "id": "ffef0f9c"
      },
      "source": [
        "## Comillas dentro de comillas"
      ]
    },
    {
      "cell_type": "code",
      "execution_count": null,
      "id": "7199de29",
      "metadata": {
        "id": "7199de29"
      },
      "outputs": [],
      "source": [
        "#cadena3 = 'En los años 90's actuaban grandes bandas'     # error"
      ]
    },
    {
      "cell_type": "code",
      "execution_count": null,
      "id": "d0b07aaa",
      "metadata": {
        "id": "d0b07aaa"
      },
      "outputs": [],
      "source": [
        "cadena3 = \"En los años 90's actuaban grandes bandas\"     # ahora funciona bien usando comillas dobles\n",
        "print(cadena3)"
      ]
    },
    {
      "cell_type": "code",
      "execution_count": null,
      "id": "a1768d79",
      "metadata": {
        "id": "a1768d79"
      },
      "outputs": [],
      "source": [
        "print('En los años 90\\'s actuaban grandes bandas')       # también funciona bien usando un caracter de escape"
      ]
    },
    {
      "cell_type": "markdown",
      "id": "08b7ca74",
      "metadata": {
        "id": "08b7ca74"
      },
      "source": [
        "## Caracteres de escape"
      ]
    },
    {
      "cell_type": "code",
      "execution_count": null,
      "id": "c9f63a92",
      "metadata": {
        "id": "c9f63a92"
      },
      "outputs": [],
      "source": [
        "print('Secuencias de escape: \\\\  \\'  \\\"   ')"
      ]
    },
    {
      "cell_type": "markdown",
      "id": "18dd8b12",
      "metadata": {
        "id": "18dd8b12"
      },
      "source": [
        "## Tabuladores"
      ]
    },
    {
      "cell_type": "code",
      "execution_count": null,
      "id": "ce53d6c3",
      "metadata": {
        "id": "ce53d6c3"
      },
      "outputs": [],
      "source": [
        "print('Mis amigos: \\nAna \\tMadrid \\nLuis \\tSevilla \\nIsabel \\tSantander') "
      ]
    },
    {
      "cell_type": "code",
      "execution_count": null,
      "id": "7fe9ea09",
      "metadata": {
        "id": "7fe9ea09"
      },
      "outputs": [],
      "source": [
        "# En un párrafo usando comillas triples\n",
        "\n",
        "print('''Tareas pendientes:\n",
        "\\tBuscar destino para las próximas vacaciones\n",
        "\\tBuscar una bici eléctrica''')"
      ]
    },
    {
      "cell_type": "markdown",
      "id": "9608df85",
      "metadata": {
        "id": "9608df85"
      },
      "source": [
        "## Imprimir una variable"
      ]
    },
    {
      "cell_type": "code",
      "execution_count": null,
      "id": "598ef39f",
      "metadata": {
        "id": "598ef39f"
      },
      "outputs": [],
      "source": [
        "a = \"Hola\"\n",
        "print(a)"
      ]
    },
    {
      "cell_type": "markdown",
      "id": "d2f245f7",
      "metadata": {
        "id": "d2f245f7"
      },
      "source": [
        "## Comillas triples\n",
        "Las triples comillas permiten imprimir varias líneas."
      ]
    },
    {
      "cell_type": "code",
      "execution_count": null,
      "id": "7d2e4516",
      "metadata": {
        "id": "7d2e4516"
      },
      "outputs": [],
      "source": [
        "b = '''Esta es una frase que \n",
        "ocupa varias línes y que va \n",
        "entre triples comillas que\n",
        "pueden ser simples o dobles.'''\n",
        "print(b)"
      ]
    },
    {
      "cell_type": "markdown",
      "id": "e3357909",
      "metadata": {
        "id": "e3357909"
      },
      "source": [
        "## len()\n",
        "Proporciona la longitud de la cadena."
      ]
    },
    {
      "cell_type": "code",
      "execution_count": null,
      "id": "3e3c9ba9",
      "metadata": {
        "id": "3e3c9ba9"
      },
      "outputs": [],
      "source": [
        "c = \"¡Hola, mundo!\"\n",
        "len(c)"
      ]
    },
    {
      "cell_type": "markdown",
      "id": "6fa1b9d6",
      "metadata": {
        "id": "6fa1b9d6"
      },
      "source": [
        "## in\n",
        "Permite detectar si una palabra está denro de una frase."
      ]
    },
    {
      "cell_type": "code",
      "execution_count": null,
      "id": "93ce0cc7",
      "metadata": {
        "id": "93ce0cc7"
      },
      "outputs": [],
      "source": [
        "frase = \"La libertad, Sancho, es uno de los más preciosos dones que a los hombres dieron los cielos\"\n",
        "\"libertad\" in frase        # True"
      ]
    },
    {
      "cell_type": "markdown",
      "id": "df420b3b",
      "metadata": {
        "id": "df420b3b"
      },
      "source": [
        "## not in"
      ]
    },
    {
      "cell_type": "code",
      "execution_count": null,
      "id": "db0bfdf1",
      "metadata": {
        "id": "db0bfdf1"
      },
      "outputs": [],
      "source": [
        "frase = \"Todos los seres humanos nacen libres e iguales en dignidad y derechos\"\n",
        "\"Sancho\" not in frase      # True"
      ]
    },
    {
      "cell_type": "markdown",
      "id": "04cc683b",
      "metadata": {
        "id": "04cc683b"
      },
      "source": [
        "## Orden alfabético"
      ]
    },
    {
      "cell_type": "code",
      "execution_count": null,
      "id": "4a486dc4",
      "metadata": {
        "id": "4a486dc4"
      },
      "outputs": [],
      "source": [
        "\"b\" > \"a\"                  # True"
      ]
    },
    {
      "cell_type": "code",
      "execution_count": null,
      "id": "745dba35",
      "metadata": {
        "id": "745dba35"
      },
      "outputs": [],
      "source": [
        "\"naciente\" > \"yaciente\"    # False"
      ]
    },
    {
      "cell_type": "markdown",
      "id": "17e073bf",
      "metadata": {
        "id": "17e073bf"
      },
      "source": [
        "## Concatenar"
      ]
    },
    {
      "cell_type": "code",
      "execution_count": null,
      "id": "629e9e70",
      "metadata": {
        "id": "629e9e70"
      },
      "outputs": [],
      "source": [
        "\"buena\" + \"aventura\""
      ]
    },
    {
      "cell_type": "code",
      "execution_count": null,
      "id": "aa3862cb",
      "metadata": {
        "id": "aa3862cb"
      },
      "outputs": [],
      "source": [
        "'en' 'hora' 'buena'    # también podemos separar los strings con un espacio"
      ]
    },
    {
      "cell_type": "markdown",
      "id": "e7830ad5",
      "metadata": {
        "id": "e7830ad5"
      },
      "source": [
        "## replace()"
      ]
    },
    {
      "cell_type": "code",
      "execution_count": null,
      "id": "9b8aaa27",
      "metadata": {
        "id": "9b8aaa27"
      },
      "outputs": [],
      "source": [
        "\"hola\".replace('h','m')"
      ]
    },
    {
      "cell_type": "code",
      "execution_count": null,
      "id": "d2fe0f10",
      "metadata": {
        "id": "d2fe0f10"
      },
      "outputs": [],
      "source": [
        "\"Voy a Roma\".replace(\"Roma\",\"Niza\")"
      ]
    }
  ],
  "metadata": {
    "kernelspec": {
      "display_name": "Python 3 (ipykernel)",
      "language": "python",
      "name": "python3"
    },
    "language_info": {
      "codemirror_mode": {
        "name": "ipython",
        "version": 3
      },
      "file_extension": ".py",
      "mimetype": "text/x-python",
      "name": "python",
      "nbconvert_exporter": "python",
      "pygments_lexer": "ipython3",
      "version": "3.8.11"
    },
    "colab": {
      "name": "calisto1_0100.ipynb",
      "provenance": [],
      "include_colab_link": true
    }
  },
  "nbformat": 4,
  "nbformat_minor": 5
}