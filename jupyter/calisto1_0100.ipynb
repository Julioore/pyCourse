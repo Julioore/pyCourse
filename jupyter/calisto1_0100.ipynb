{
 "cells": [
  {
   "cell_type": "markdown",
   "id": "4489f00b",
   "metadata": {},
   "source": [
    "# Strings"
   ]
  },
  {
   "cell_type": "markdown",
   "id": "e89aa34d",
   "metadata": {},
   "source": [
    "## Comparar strings"
   ]
  },
  {
   "cell_type": "code",
   "execution_count": null,
   "id": "48b0180b",
   "metadata": {},
   "outputs": [],
   "source": [
    "cadena1 = \"Hola\"                                          # con \"\"\n",
    "cadena2 = 'Hola'                                          # con ''\n",
    "cadena1 == cadena2                                        # True"
   ]
  },
  {
   "cell_type": "markdown",
   "id": "ffef0f9c",
   "metadata": {},
   "source": [
    "## Comillas dentro de comillas"
   ]
  },
  {
   "cell_type": "code",
   "execution_count": null,
   "id": "7199de29",
   "metadata": {},
   "outputs": [],
   "source": [
    "#cadena3 = 'En los años 90's actuaban grandes bandas'     # error"
   ]
  },
  {
   "cell_type": "code",
   "execution_count": null,
   "id": "d0b07aaa",
   "metadata": {},
   "outputs": [],
   "source": [
    "cadena3 = \"En los años 90's actuaban grandes bandas\"     # ahora funciona bien usando comillas dobles\n",
    "print(cadena3)"
   ]
  },
  {
   "cell_type": "code",
   "execution_count": null,
   "id": "a1768d79",
   "metadata": {},
   "outputs": [],
   "source": [
    "print('En los años 90\\'s actuaban grandes bandas')       # también funciona bien usando un caracter de escape"
   ]
  },
  {
   "cell_type": "markdown",
   "id": "08b7ca74",
   "metadata": {},
   "source": [
    "## Caracteres de escape"
   ]
  },
  {
   "cell_type": "code",
   "execution_count": null,
   "id": "c9f63a92",
   "metadata": {},
   "outputs": [],
   "source": [
    "print('Secuencias de escape: \\\\  \\'  \\\"   ')"
   ]
  },
  {
   "cell_type": "markdown",
   "id": "18dd8b12",
   "metadata": {},
   "source": [
    "## Tabuladores"
   ]
  },
  {
   "cell_type": "code",
   "execution_count": null,
   "id": "ce53d6c3",
   "metadata": {},
   "outputs": [],
   "source": [
    "print('Mis amigos: \\nAna \\tMadrid \\nLuis \\tSevilla \\nIsabel \\tSantander') "
   ]
  },
  {
   "cell_type": "code",
   "execution_count": null,
   "id": "7fe9ea09",
   "metadata": {},
   "outputs": [],
   "source": [
    "# En un párrafo usando comillas triples\n",
    "\n",
    "print('''Tareas pendientes:\n",
    "\\tBuscar destino para las próximas vacaciones\n",
    "\\tBuscar una bici eléctrica''')"
   ]
  },
  {
   "cell_type": "markdown",
   "id": "9608df85",
   "metadata": {},
   "source": [
    "## Imprimir una variable"
   ]
  },
  {
   "cell_type": "code",
   "execution_count": null,
   "id": "598ef39f",
   "metadata": {},
   "outputs": [],
   "source": [
    "a = \"Hola\"\n",
    "print(a)"
   ]
  },
  {
   "cell_type": "markdown",
   "id": "d2f245f7",
   "metadata": {},
   "source": [
    "## Comillas triples\n",
    "Las triples comillas permiten imprimir varias líneas."
   ]
  },
  {
   "cell_type": "code",
   "execution_count": null,
   "id": "7d2e4516",
   "metadata": {},
   "outputs": [],
   "source": [
    "b = '''Esta es una frase que \n",
    "ocupa varias línes y que va \n",
    "entre triples comillas que\n",
    "pueden ser simples o dobles.'''\n",
    "print(b)"
   ]
  },
  {
   "cell_type": "markdown",
   "id": "e3357909",
   "metadata": {},
   "source": [
    "## len()\n",
    "Proporciona la longitud de la dacena."
   ]
  },
  {
   "cell_type": "code",
   "execution_count": null,
   "id": "3e3c9ba9",
   "metadata": {},
   "outputs": [],
   "source": [
    "c = \"¡Hola, mundo!\"\n",
    "len(c)"
   ]
  },
  {
   "cell_type": "markdown",
   "id": "6fa1b9d6",
   "metadata": {},
   "source": [
    "## in\n",
    "Permite detectar si una palabra está denro de una frase."
   ]
  },
  {
   "cell_type": "code",
   "execution_count": null,
   "id": "93ce0cc7",
   "metadata": {},
   "outputs": [],
   "source": [
    "frase = \"La libertad, Sancho, es uno de los más preciosos dones que a los hombres dieron los cielos\"\n",
    "\"libertad\" in frase"
   ]
  },
  {
   "cell_type": "markdown",
   "id": "df420b3b",
   "metadata": {},
   "source": [
    "## not in"
   ]
  },
  {
   "cell_type": "code",
   "execution_count": null,
   "id": "db0bfdf1",
   "metadata": {},
   "outputs": [],
   "source": [
    "frase = \"Todos los seres humanos nacen libres e iguales en dignidad y derechos\"\n",
    "\"Sancho\" not in frase"
   ]
  },
  {
   "cell_type": "markdown",
   "id": "04cc683b",
   "metadata": {},
   "source": [
    "## Orden alfabético"
   ]
  },
  {
   "cell_type": "code",
   "execution_count": null,
   "id": "4a486dc4",
   "metadata": {},
   "outputs": [],
   "source": [
    "\"b\" > \"a\""
   ]
  },
  {
   "cell_type": "code",
   "execution_count": null,
   "id": "745dba35",
   "metadata": {},
   "outputs": [],
   "source": [
    "\"naciente\" > \"yaciente\""
   ]
  },
  {
   "cell_type": "markdown",
   "id": "17e073bf",
   "metadata": {},
   "source": [
    "## Concatenar"
   ]
  },
  {
   "cell_type": "code",
   "execution_count": null,
   "id": "629e9e70",
   "metadata": {},
   "outputs": [],
   "source": [
    "\"buena\" + \"aventura\""
   ]
  },
  {
   "cell_type": "code",
   "execution_count": null,
   "id": "aa3862cb",
   "metadata": {},
   "outputs": [],
   "source": [
    "'en' 'hora' 'buena'    # también podemos separar los strings con un espacio"
   ]
  },
  {
   "cell_type": "code",
   "execution_count": 27,
   "id": "9b8aaa27",
   "metadata": {},
   "outputs": [
    {
     "data": {
      "text/plain": [
       "'mola'"
      ]
     },
     "execution_count": 27,
     "metadata": {},
     "output_type": "execute_result"
    }
   ],
   "source": [
    "\"hola\".replace('h','m')"
   ]
  },
  {
   "cell_type": "markdown",
   "id": "e7830ad5",
   "metadata": {},
   "source": [
    "## replace()"
   ]
  },
  {
   "cell_type": "code",
   "execution_count": 30,
   "id": "d2fe0f10",
   "metadata": {},
   "outputs": [
    {
     "data": {
      "text/plain": [
       "'Voy a Niza'"
      ]
     },
     "execution_count": 30,
     "metadata": {},
     "output_type": "execute_result"
    }
   ],
   "source": [
    "\"Voy a Roma\".replace(\"Roma\",\"Niza\")"
   ]
  }
 ],
 "metadata": {
  "kernelspec": {
   "display_name": "Python 3",
   "language": "python",
   "name": "python3"
  },
  "language_info": {
   "codemirror_mode": {
    "name": "ipython",
    "version": 3
   },
   "file_extension": ".py",
   "mimetype": "text/x-python",
   "name": "python",
   "nbconvert_exporter": "python",
   "pygments_lexer": "ipython3",
   "version": "3.8.8"
  }
 },
 "nbformat": 4,
 "nbformat_minor": 5
}
