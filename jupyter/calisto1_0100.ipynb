{
 "cells": [
  {
   "cell_type": "markdown",
   "id": "e153cca8",
   "metadata": {},
   "source": [
    "# Funciones internas"
   ]
  },
  {
   "cell_type": "markdown",
   "id": "742082f3",
   "metadata": {},
   "source": [
    "- print()\n",
    "- exit()\n",
    "- abs()\n",
    "- round()\n",
    "- chr()\n",
    "- float()\n",
    "- int()\n",
    "- str()\n",
    "- input()\n",
    "- len()\n",
    "- max()\n",
    "- min()\n",
    "- sum()\n",
    "- pow()\n",
    "- eval()"
   ]
  },
  {
   "cell_type": "code",
   "execution_count": null,
   "id": "c6dc6c83",
   "metadata": {},
   "outputs": [],
   "source": [
    "type(\"Hola\")"
   ]
  },
  {
   "cell_type": "code",
   "execution_count": null,
   "id": "f062d88a",
   "metadata": {},
   "outputs": [],
   "source": [
    "type(5)"
   ]
  },
  {
   "cell_type": "code",
   "execution_count": null,
   "id": "e6284ac6",
   "metadata": {},
   "outputs": [],
   "source": [
    "type(10/2)"
   ]
  },
  {
   "cell_type": "code",
   "execution_count": null,
   "id": "e459422c",
   "metadata": {},
   "outputs": [],
   "source": [
    "type(5==5)"
   ]
  },
  {
   "cell_type": "code",
   "execution_count": null,
   "id": "432a298b",
   "metadata": {},
   "outputs": [],
   "source": [
    "type(5=='5')"
   ]
  },
  {
   "cell_type": "code",
   "execution_count": null,
   "id": "591a3a81",
   "metadata": {},
   "outputs": [],
   "source": [
    "num = input(\"Indique un número:\")\n",
    "print(7==num)                      #¿alguna vez dará True?\n",
    "type(7==num)"
   ]
  },
  {
   "cell_type": "code",
   "execution_count": null,
   "id": "b72de6bb",
   "metadata": {},
   "outputs": [],
   "source": [
    "len(\"Hola\")                       #longitud 4"
   ]
  },
  {
   "cell_type": "code",
   "execution_count": null,
   "id": "f56c6fc6",
   "metadata": {},
   "outputs": [],
   "source": [
    "x=2\n",
    "eval(\"1+3*x\")                     #7"
   ]
  },
  {
   "cell_type": "code",
   "execution_count": null,
   "id": "5aea66a2",
   "metadata": {},
   "outputs": [],
   "source": [
    "sum([1, 2, 3])                    #6   suma los elementos de una lista"
   ]
  },
  {
   "cell_type": "code",
   "execution_count": null,
   "id": "ad07ebd8",
   "metadata": {},
   "outputs": [],
   "source": [
    "edad=5\n",
    "print('Solo tiene '+edad+' años')              #TypeError"
   ]
  },
  {
   "cell_type": "code",
   "execution_count": null,
   "id": "de77d39c",
   "metadata": {},
   "outputs": [],
   "source": [
    "print('Solo tiene ' + str(edad) + ' años')     #Solo tiene 5 años  str() convierte un número en un string\n",
    "print('Solo tiene {} años'.format(edad))       #Solo tiene 5 años\n",
    "print(f'Solo tiene {edad} años')               #Solo tiene 5 años"
   ]
  },
  {
   "cell_type": "code",
   "execution_count": null,
   "id": "ff7cf6e0",
   "metadata": {},
   "outputs": [],
   "source": [
    "print(int(5.7))                             #5"
   ]
  },
  {
   "cell_type": "code",
   "execution_count": null,
   "id": "4cdc5c72",
   "metadata": {},
   "outputs": [],
   "source": [
    "chr(65)                                     #'A' caracter código ASCII"
   ]
  },
  {
   "cell_type": "code",
   "execution_count": null,
   "id": "87b7ee65",
   "metadata": {},
   "outputs": [],
   "source": [
    "pow(2,3)                                    #función potencias"
   ]
  },
  {
   "cell_type": "markdown",
   "id": "9ee2f16f",
   "metadata": {},
   "source": [
    "## Ejercicio  \n",
    "Solicitar al usuario dos números y calcular el máximo y el mínimo."
   ]
  }
 ],
 "metadata": {
  "kernelspec": {
   "display_name": "Python 3",
   "language": "python",
   "name": "python3"
  },
  "language_info": {
   "codemirror_mode": {
    "name": "ipython",
    "version": 3
   },
   "file_extension": ".py",
   "mimetype": "text/x-python",
   "name": "python",
   "nbconvert_exporter": "python",
   "pygments_lexer": "ipython3",
   "version": "3.8.8"
  }
 },
 "nbformat": 4,
 "nbformat_minor": 5
}
