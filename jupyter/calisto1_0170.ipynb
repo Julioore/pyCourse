{
 "cells": [
  {
   "cell_type": "markdown",
   "id": "f0e7f7cf",
   "metadata": {},
   "source": [
    "# Listas [4]"
   ]
  },
  {
   "cell_type": "markdown",
   "id": "f138bc84",
   "metadata": {},
   "source": [
    "## Operaciones con listas  \n",
    "Tamaño       →  len(lista)  \n",
    "Concatenar   →  [1,2]+[3,4]  \n",
    "Repetir      →  [\"hola\"]*3  \n",
    "Iterar       →  for i in lista  \n",
    "Es parte de  →  4 in lista          # operador de pertenencia: in  \n",
    "No es parte de →  5 nor in lista     # operador de pertenencia: in\n",
    "  \n",
    "\n",
    "## Algunas funciones  \n",
    "append(elemento)  \n",
    "pop()  \n",
    "remove(elemento)\t#si elemento no está en la lista da  error  \n",
    "index(elemento)     #devuelve el índice que ocupa el elemento  \n",
    "insert(indice,elemento)  \n",
    "clear()  \n"
   ]
  },
  {
   "cell_type": "code",
   "execution_count": null,
   "id": "e3043f25",
   "metadata": {},
   "outputs": [],
   "source": [
    "lista = [1,2]+[3,4]\n",
    "print(lista)            #[1, 2, 3, 4]\n",
    "print(len(lista))       #4\n",
    "saluda = [\"hola\"]*3\n",
    "print(saluda)           #['hola', 'hola', 'hola']\n",
    "for i in lista:\n",
    "    print(i)            #1 2 3 4 en columna\n",
    "print(\"bye\" in saluda)  #False\n",
    "saluda.append(\"hi\")\n",
    "print(saluda)           #['hola', 'hola', 'hola', 'hi']\n",
    "eliminado=saluda.pop()\n",
    "print(saluda)           #['hola', 'hola', 'hola']\n",
    "print(eliminado)        #hi\n",
    "lista.remove(2)\n",
    "print(lista)            #[1, 3, 4]"
   ]
  },
  {
   "cell_type": "code",
   "execution_count": null,
   "id": "3a343d6d",
   "metadata": {},
   "outputs": [],
   "source": [
    "print(lista.index(1))   #0\n",
    "lista.insert(1,\"2\")\n",
    "print(lista)            #[1, '2', 3, 4]\n",
    "saluda.clear()\n",
    "print(saluda)           #[]\n",
    "print(lista[2])         #3\n",
    "print(lista[2:3])       #[3]\n",
    "print(lista[2]==lista[2:3]) #False"
   ]
  },
  {
   "cell_type": "code",
   "execution_count": null,
   "id": "21de33c8",
   "metadata": {},
   "outputs": [],
   "source": [
    "colores=['amarillo','rojo','verde','azul','naranja']\n",
    "for i in colores:\n",
    "    print(i)"
   ]
  },
  {
   "cell_type": "code",
   "execution_count": null,
   "id": "a41de335",
   "metadata": {},
   "outputs": [],
   "source": [
    "colores.append('magenta')\n",
    "colores"
   ]
  },
  {
   "cell_type": "code",
   "execution_count": null,
   "id": "a70a9bfa",
   "metadata": {},
   "outputs": [],
   "source": [
    "colores.remove('naranja')\n",
    "colores"
   ]
  },
  {
   "cell_type": "code",
   "execution_count": null,
   "id": "99d26eb2",
   "metadata": {},
   "outputs": [],
   "source": [
    "colores.index('verde')"
   ]
  },
  {
   "cell_type": "code",
   "execution_count": null,
   "id": "a1c77afe",
   "metadata": {},
   "outputs": [],
   "source": [
    "colores.pop()                          # elimina el último elemento de la lista\n",
    "colores"
   ]
  },
  {
   "cell_type": "code",
   "execution_count": null,
   "id": "ba3cac93",
   "metadata": {},
   "outputs": [],
   "source": [
    "colores.pop(1)                         # elimina el elemento que se indique\n",
    "colores"
   ]
  },
  {
   "cell_type": "code",
   "execution_count": null,
   "id": "a476775a",
   "metadata": {},
   "outputs": [],
   "source": [
    "colores.clear()\n",
    "colores"
   ]
  }
 ],
 "metadata": {
  "kernelspec": {
   "display_name": "Python 3",
   "language": "python",
   "name": "python3"
  },
  "language_info": {
   "codemirror_mode": {
    "name": "ipython",
    "version": 3
   },
   "file_extension": ".py",
   "mimetype": "text/x-python",
   "name": "python",
   "nbconvert_exporter": "python",
   "pygments_lexer": "ipython3",
   "version": "3.8.5"
  }
 },
 "nbformat": 4,
 "nbformat_minor": 5
}
