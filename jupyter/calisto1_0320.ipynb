{
 "cells": [
  {
   "cell_type": "markdown",
   "id": "5f2a6c16",
   "metadata": {},
   "source": [
    "# Bucle For"
   ]
  },
  {
   "cell_type": "markdown",
   "id": "62fc4cb6",
   "metadata": {},
   "source": [
    "## Iterando los elementos de una lista"
   ]
  },
  {
   "cell_type": "code",
   "execution_count": null,
   "id": "9d937977",
   "metadata": {},
   "outputs": [],
   "source": [
    "frutas = [\"naranja\", \"banana\", \"manzana\"]\n",
    "for x in frutas:\n",
    "  print(x)"
   ]
  },
  {
   "cell_type": "markdown",
   "id": "070bb9cf",
   "metadata": {},
   "source": [
    "## Iterando las letras de una palabra"
   ]
  },
  {
   "cell_type": "code",
   "execution_count": null,
   "id": "7bd05e8b",
   "metadata": {},
   "outputs": [],
   "source": [
    "palabra = \"banana\"\n",
    "for letra in palabra:\n",
    "  print(letra)"
   ]
  },
  {
   "cell_type": "markdown",
   "id": "0586089d",
   "metadata": {},
   "source": [
    "## Usando la función range()"
   ]
  },
  {
   "cell_type": "markdown",
   "id": "a3440b8d",
   "metadata": {},
   "source": [
    "Para efectuar un cierto número de ciclos, podemos usar la función range().  \n",
    "La función range() devuelve una secuencia de números, comenzando en 0 de forma predeterminada, se incrementa en 1 (de forma predeterminada) y termina en un número especificado."
   ]
  },
  {
   "cell_type": "code",
   "execution_count": null,
   "id": "6a07dbc3",
   "metadata": {},
   "outputs": [],
   "source": [
    "for i in range(5):           #La variable i toma los valores de 0 a 4\n",
    "    print(i)"
   ]
  },
  {
   "cell_type": "code",
   "execution_count": null,
   "id": "bfa1c012",
   "metadata": {},
   "outputs": [],
   "source": [
    "for i in range(1,5):         #La variable i toma los valores de 1 a 4\n",
    "    print(i)"
   ]
  },
  {
   "cell_type": "code",
   "execution_count": null,
   "id": "4823ae7d",
   "metadata": {},
   "outputs": [],
   "source": [
    "for i in range(10,20,2):     #La variable i toma los valores: 10, 12, 14, 16, 18.\n",
    "    print(i)"
   ]
  },
  {
   "cell_type": "code",
   "execution_count": null,
   "id": "fca49968",
   "metadata": {},
   "outputs": [],
   "source": [
    "for i in range(50,0,-10):    #La variable i toma los valores: 50, 40, 30, 20, 10.\n",
    "    print(i)"
   ]
  },
  {
   "cell_type": "markdown",
   "id": "b8dcd745",
   "metadata": {},
   "source": [
    "## La instrucción pass"
   ]
  },
  {
   "cell_type": "markdown",
   "id": "fb9f80b7",
   "metadata": {},
   "source": [
    "Los bucles *for* no pueden estar vacíos, pero si está haciendo prueba y aún tiene el bucle *for* sin contenido, ingrese la instrucción *pass* para evitar errores."
   ]
  },
  {
   "cell_type": "code",
   "execution_count": null,
   "id": "f8617d3f",
   "metadata": {},
   "outputs": [],
   "source": [
    "for i in range(10):\n",
    "    pass"
   ]
  },
  {
   "cell_type": "markdown",
   "id": "3877a243",
   "metadata": {},
   "source": [
    "## La instrucción break"
   ]
  },
  {
   "cell_type": "markdown",
   "id": "b19727ae",
   "metadata": {},
   "source": [
    "Interrumpir con ***break***. Con la instrucción *break* podemos detener el ciclo antes de que haya pasado por todos los elementos"
   ]
  },
  {
   "cell_type": "code",
   "execution_count": null,
   "id": "186834fe",
   "metadata": {},
   "outputs": [],
   "source": [
    "for i in range(5,25,2):\n",
    "    if i==17:\n",
    "        break\n",
    "        \n",
    "    print(i)"
   ]
  },
  {
   "cell_type": "markdown",
   "id": "43d82c18",
   "metadata": {},
   "source": [
    "En el ejemplo anterior, si convertimos el *break* en un comentario, el código nos daría error. Se soluciona poniendo *pass* después del comentario."
   ]
  },
  {
   "cell_type": "markdown",
   "id": "44c6dd8e",
   "metadata": {},
   "source": [
    "**Ejercicio**  \n",
    "¿Qué pasaría si en el ejemplo anterior el *print* va antes del *if*?"
   ]
  },
  {
   "cell_type": "markdown",
   "id": "de88908e",
   "metadata": {},
   "source": [
    "## La instrucción continue"
   ]
  },
  {
   "cell_type": "markdown",
   "id": "0520cb80",
   "metadata": {},
   "source": [
    "Con la instrucción ***continue*** podemos detener la iteración actual del ciclo y continuar con la siguiente."
   ]
  },
  {
   "cell_type": "code",
   "execution_count": null,
   "id": "f3872d0a",
   "metadata": {},
   "outputs": [],
   "source": [
    "for i in ['primavera','verano','otoño','invierno']:\n",
    "    if i=='verano':\n",
    "        continue\n",
    "    print(i)"
   ]
  },
  {
   "cell_type": "markdown",
   "id": "219dc525",
   "metadata": {},
   "source": [
    "## Else en un bucle for"
   ]
  },
  {
   "cell_type": "markdown",
   "id": "d2ab1f25",
   "metadata": {},
   "source": [
    "*Else* se ejecutará cuando el bucle haya finalizado."
   ]
  },
  {
   "cell_type": "code",
   "execution_count": null,
   "id": "983087bd",
   "metadata": {},
   "outputs": [],
   "source": [
    "for i in range(6):\n",
    "    print(i)\n",
    "else:\n",
    "    print(\"El bucle ha finalizado.\")"
   ]
  },
  {
   "cell_type": "markdown",
   "id": "d20aea8e",
   "metadata": {},
   "source": [
    "La utilidad de *else* reside en que si se utiliza en un bucle *for* con un *break*, si se interrumpe la ejecución del bucle no se llegará a ejecutar el bloque de códgio del *else*."
   ]
  },
  {
   "cell_type": "code",
   "execution_count": null,
   "id": "d93e7299",
   "metadata": {},
   "outputs": [],
   "source": [
    "for i in range(6):\n",
    "    print(i)\n",
    "    if i==3:\n",
    "        break\n",
    "else:\n",
    "    print(\"El bucle ha finalizado.\")"
   ]
  }
 ],
 "metadata": {
  "kernelspec": {
   "display_name": "Python 3",
   "language": "python",
   "name": "python3"
  },
  "language_info": {
   "codemirror_mode": {
    "name": "ipython",
    "version": 3
   },
   "file_extension": ".py",
   "mimetype": "text/x-python",
   "name": "python",
   "nbconvert_exporter": "python",
   "pygments_lexer": "ipython3",
   "version": "3.8.10"
  }
 },
 "nbformat": 4,
 "nbformat_minor": 5
}
