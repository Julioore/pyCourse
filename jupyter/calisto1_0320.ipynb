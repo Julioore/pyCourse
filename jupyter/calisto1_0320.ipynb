{
 "cells": [
  {
   "cell_type": "markdown",
   "id": "4e371eff",
   "metadata": {},
   "source": [
    "# Operadores de identidad: ```is```, ```is not```"
   ]
  },
  {
   "cell_type": "markdown",
   "id": "f818fd34",
   "metadata": {},
   "source": [
    "Vemos que a y b son números enteros del mismo valor, por lo que son tanto iguales como idénticos."
   ]
  },
  {
   "cell_type": "code",
   "execution_count": null,
   "id": "4356c4f7",
   "metadata": {},
   "outputs": [],
   "source": [
    "a=5                    # con números\n",
    "b=5\n",
    "a is b                 # a y b son idénticos = iguales y además del mismo tipo "
   ]
  },
  {
   "cell_type": "code",
   "execution_count": null,
   "id": "d8ede79b",
   "metadata": {},
   "outputs": [],
   "source": [
    "a = 5.0\n",
    "b = 5\n",
    "a is b                 # a y b ahora ya no son idénticos, ya que son iguales pero no del mismo tipo"
   ]
  },
  {
   "cell_type": "code",
   "execution_count": null,
   "id": "d348b407",
   "metadata": {},
   "outputs": [],
   "source": [
    "a == b"
   ]
  },
  {
   "cell_type": "markdown",
   "id": "627fc265",
   "metadata": {},
   "source": [
    "Vemos que c y d son strings iguales y por lo tanto idénticos."
   ]
  },
  {
   "cell_type": "code",
   "execution_count": null,
   "id": "3dc804d0",
   "metadata": {},
   "outputs": [],
   "source": [
    "c = \"azul\"             # con strings\n",
    "d = \"azul\"\n",
    "c is d"
   ]
  },
  {
   "cell_type": "code",
   "execution_count": null,
   "id": "1aabba23",
   "metadata": {},
   "outputs": [],
   "source": [
    "c == d"
   ]
  },
  {
   "cell_type": "code",
   "execution_count": null,
   "id": "44c93cc7",
   "metadata": {},
   "outputs": [],
   "source": [
    "x = \"Madrid\"\n",
    "y = \"madrid\"\n",
    "x is not y"
   ]
  },
  {
   "cell_type": "code",
   "execution_count": null,
   "id": "98fca1a2",
   "metadata": {},
   "outputs": [],
   "source": [
    "x != y"
   ]
  },
  {
   "cell_type": "markdown",
   "id": "cd864918",
   "metadata": {},
   "source": [
    "Con listas hemos de tener cuidado ya que iguales no significa idénticos ya que dos listas ocupan distinto lugar en la memoria del ordenador."
   ]
  },
  {
   "cell_type": "code",
   "execution_count": null,
   "id": "387c6005",
   "metadata": {},
   "outputs": [],
   "source": [
    "list1 = [1,2,3]        # con listas\n",
    "list2 = [1,2,3]\n",
    "list1 == list2"
   ]
  },
  {
   "cell_type": "markdown",
   "id": "bd849797",
   "metadata": {},
   "source": [
    "Con listas el intérprete las ubica por separado en la memoria, aunque son iguales."
   ]
  },
  {
   "cell_type": "code",
   "execution_count": null,
   "id": "cbb2e51d",
   "metadata": {},
   "outputs": [],
   "source": [
    "list1 is list2         # Las listas 1 y 2 no son idénticas ya que ocupan distinto lugar en la memoria RAM"
   ]
  },
  {
   "cell_type": "code",
   "execution_count": null,
   "id": "8e0e080f",
   "metadata": {},
   "outputs": [],
   "source": [
    "meses1 = ['ene','feb','mar' ]\n",
    "meses2 = meses1              #al hacer meses2=meses1 se hace una copia idéntica que ocupa el mismo lugar de memoria\n",
    "meses2"
   ]
  },
  {
   "cell_type": "code",
   "execution_count": null,
   "id": "d59982f6",
   "metadata": {},
   "outputs": [],
   "source": [
    "meses1.append('abr')\n",
    "meses1"
   ]
  },
  {
   "cell_type": "code",
   "execution_count": null,
   "id": "0575479c",
   "metadata": {},
   "outputs": [],
   "source": [
    "meses2 is meses1            # SORPRESA ahora ambas listas son idénticas"
   ]
  },
  {
   "cell_type": "markdown",
   "id": "422b82d9",
   "metadata": {},
   "source": [
    "Veamos como copiar una lista sin que la copia se idéntica."
   ]
  },
  {
   "cell_type": "code",
   "execution_count": null,
   "id": "42424ad9",
   "metadata": {},
   "outputs": [],
   "source": [
    "dias1 = ['lun','mar','mie']\n",
    "dias2 = dias1[:]             # ahora dias2 es una lista igual que dias1 pero independiente, distinta memoria\n",
    "dias2"
   ]
  },
  {
   "cell_type": "code",
   "execution_count": null,
   "id": "1e74fbfb",
   "metadata": {},
   "outputs": [],
   "source": [
    "dias2 is dias1"
   ]
  },
  {
   "cell_type": "code",
   "execution_count": null,
   "id": "9e53cb54",
   "metadata": {},
   "outputs": [],
   "source": [
    "dias1.append('jue')          # añadimos un elemento más a la lista dias1\n",
    "dias1"
   ]
  },
  {
   "cell_type": "code",
   "execution_count": null,
   "id": "1b79eff2",
   "metadata": {},
   "outputs": [],
   "source": [
    "dias2                        # podemos comprobar que la lista dias2 es independiente, no se añade el jueves"
   ]
  },
  {
   "cell_type": "markdown",
   "id": "4a5c301a",
   "metadata": {},
   "source": [
    "# all, not all, any"
   ]
  },
  {
   "cell_type": "code",
   "execution_count": null,
   "id": "46b7f8af",
   "metadata": {},
   "outputs": [],
   "source": [
    "all([True,True,True])        # si todos son verdad da verdadero"
   ]
  },
  {
   "cell_type": "code",
   "execution_count": null,
   "id": "d1ed4c3a",
   "metadata": {},
   "outputs": [],
   "source": [
    "all({True,True,True})        # también funciona con conjuntos (set)"
   ]
  },
  {
   "cell_type": "code",
   "execution_count": null,
   "id": "4c85d774",
   "metadata": {},
   "outputs": [],
   "source": [
    "all((True,True,True))        # también funciona con tuplas"
   ]
  },
  {
   "cell_type": "code",
   "execution_count": null,
   "id": "30710db7",
   "metadata": {},
   "outputs": [],
   "source": [
    "not all([True,True,True])        # False"
   ]
  },
  {
   "cell_type": "code",
   "execution_count": null,
   "id": "75c58636",
   "metadata": {},
   "outputs": [],
   "source": [
    "not all([True,True,False])        # True"
   ]
  },
  {
   "cell_type": "code",
   "execution_count": null,
   "id": "a0b8b01a",
   "metadata": {},
   "outputs": [],
   "source": [
    "any([False,True,False])        # si alguno es verdadero da verdadero"
   ]
  },
  {
   "cell_type": "code",
   "execution_count": null,
   "id": "e95a78e9",
   "metadata": {},
   "outputs": [],
   "source": [
    "any([False,False,False])        # solo da False si todos lo son"
   ]
  },
  {
   "cell_type": "markdown",
   "id": "9c86d0c4",
   "metadata": {},
   "source": [
    "### Ejemplo\n",
    "Generar una lista de 5 x 2 (filas x columnas) donde sus elementos contienen números aleatorios entre 1 y 9.  "
   ]
  },
  {
   "cell_type": "code",
   "execution_count": 113,
   "id": "6ae9de8a",
   "metadata": {},
   "outputs": [
    {
     "data": {
      "text/plain": [
       "[[9, 10], [10, 10], [9, 9], [7, 8], [1, 10]]"
      ]
     },
     "execution_count": 113,
     "metadata": {},
     "output_type": "execute_result"
    }
   ],
   "source": [
    "from random import randint as rnd\n",
    "\n",
    "l = [[rnd(1,10),rnd(1,10)] for i in range(5)]\n",
    "l"
   ]
  },
  {
   "cell_type": "markdown",
   "id": "79f626d1",
   "metadata": {},
   "source": [
    "Crear una tercera columna que indique si el primero es mayor (flag==1), o bien menor o igual (flag==0) que el segundo."
   ]
  },
  {
   "cell_type": "code",
   "execution_count": 114,
   "id": "451652a4",
   "metadata": {},
   "outputs": [
    {
     "data": {
      "text/plain": [
       "[[9, 10, 0], [10, 10, 0], [9, 9, 0], [7, 8, 0], [1, 10, 0]]"
      ]
     },
     "execution_count": 114,
     "metadata": {},
     "output_type": "execute_result"
    }
   ],
   "source": [
    "for i in range(len(l)):\n",
    "    if l[i][0] > l[i][1]: l[i] = l[i] + [1]\n",
    "    else: l[i] = l[i] + [0]        \n",
    "l"
   ]
  },
  {
   "cell_type": "markdown",
   "id": "09f56b7b",
   "metadata": {},
   "source": [
    "Si todas las banderas (flag) son 1 (True) imprimir \"El Objetivo si se ha conseguido\""
   ]
  },
  {
   "cell_type": "code",
   "execution_count": 115,
   "id": "061268f7",
   "metadata": {},
   "outputs": [
    {
     "data": {
      "text/plain": [
       "False"
      ]
     },
     "execution_count": 115,
     "metadata": {},
     "output_type": "execute_result"
    }
   ],
   "source": [
    "all(flag == 1 for (_, _, flag) in l)    # así detectamos que todas las banderas son 1"
   ]
  },
  {
   "cell_type": "code",
   "execution_count": 116,
   "id": "a96d961e",
   "metadata": {},
   "outputs": [
    {
     "data": {
      "text/plain": [
       "False"
      ]
     },
     "execution_count": 116,
     "metadata": {},
     "output_type": "execute_result"
    }
   ],
   "source": [
    "all([x[2] == 1 for x in l])             # otra forma de detectarlo"
   ]
  }
 ],
 "metadata": {
  "kernelspec": {
   "display_name": "Python 3",
   "language": "python",
   "name": "python3"
  },
  "language_info": {
   "codemirror_mode": {
    "name": "ipython",
    "version": 3
   },
   "file_extension": ".py",
   "mimetype": "text/x-python",
   "name": "python",
   "nbconvert_exporter": "python",
   "pygments_lexer": "ipython3",
   "version": "3.8.8"
  }
 },
 "nbformat": 4,
 "nbformat_minor": 5
}
