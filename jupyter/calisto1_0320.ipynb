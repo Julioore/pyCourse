{
 "cells": [
  {
   "cell_type": "markdown",
   "id": "c5604c40",
   "metadata": {},
   "source": [
    "# Operadores lógicos: ```and```, ```or```, ```not```"
   ]
  },
  {
   "cell_type": "markdown",
   "id": "194ec015",
   "metadata": {},
   "source": [
    "## ```and```"
   ]
  },
  {
   "cell_type": "code",
   "execution_count": null,
   "id": "b979ba22",
   "metadata": {},
   "outputs": [],
   "source": [
    "True and True      # True"
   ]
  },
  {
   "cell_type": "code",
   "execution_count": null,
   "id": "320831f3",
   "metadata": {},
   "outputs": [],
   "source": [
    "True and False     # False   y con el orden cambiado da lo mismo"
   ]
  },
  {
   "cell_type": "code",
   "execution_count": null,
   "id": "2a382687",
   "metadata": {},
   "outputs": [],
   "source": [
    "False and False    # False"
   ]
  },
  {
   "cell_type": "code",
   "execution_count": null,
   "id": "e729fff9",
   "metadata": {},
   "outputs": [],
   "source": [
    "1<2 and 2<3        # uniendo con and dos expresiones lógicas"
   ]
  },
  {
   "cell_type": "code",
   "execution_count": null,
   "id": "b301cb88",
   "metadata": {},
   "outputs": [],
   "source": [
    "1<2<3              # el resultado también es True"
   ]
  },
  {
   "cell_type": "code",
   "execution_count": null,
   "id": "d96de2cb",
   "metadata": {},
   "outputs": [],
   "source": [
    "a=10\n",
    "b=10\n",
    "if a>0 and b>0:\n",
    "    print(\"Ambos son positivos\")"
   ]
  },
  {
   "cell_type": "code",
   "execution_count": null,
   "id": "90bf7a31",
   "metadata": {},
   "outputs": [],
   "source": [
    "a=10\n",
    "b=0\n",
    "if a>5 and b>5:\n",
    "    print(\"Ambos son mayores que 5\")\n",
    "else:\n",
    "    print(\"Al menos uno de los dos no es mayor que 5\")"
   ]
  },
  {
   "cell_type": "code",
   "execution_count": null,
   "id": "b6de2bc5",
   "metadata": {},
   "outputs": [],
   "source": [
    "x = True\n",
    "y = (2==2)\n",
    "z = !False\n",
    "if x and y and z:\n",
    "    print('Todas las condiciones son ciertas.')"
   ]
  },
  {
   "cell_type": "code",
   "execution_count": null,
   "id": "aea62669",
   "metadata": {},
   "outputs": [],
   "source": [
    "edad = 26               # ¿está esta persona en edad laboral?\n",
    "edad>=16 and edad <=70  # supongamos que éste es el rango para la edad laboral"
   ]
  },
  {
   "cell_type": "markdown",
   "id": "b04c8090",
   "metadata": {},
   "source": [
    "## ```or```"
   ]
  },
  {
   "cell_type": "code",
   "execution_count": null,
   "id": "07e33cc6",
   "metadata": {},
   "outputs": [],
   "source": [
    "True or True       # True"
   ]
  },
  {
   "cell_type": "code",
   "execution_count": null,
   "id": "036e5ac1",
   "metadata": {},
   "outputs": [],
   "source": [
    "True or False      # True   y con el orden cambiado da lo mismo"
   ]
  },
  {
   "cell_type": "code",
   "execution_count": null,
   "id": "1ec6e65d",
   "metadata": {},
   "outputs": [],
   "source": [
    "False or False     # False"
   ]
  },
  {
   "cell_type": "code",
   "execution_count": null,
   "id": "5d24a913",
   "metadata": {},
   "outputs": [],
   "source": [
    "a=10\n",
    "b=-3\n",
    "if a>0 or b>0:\n",
    "    print(\"Al menos uno de los dos es positivo\")\n",
    "else:\n",
    "    print(\"Ninguno de los dos valores es positivo\")"
   ]
  },
  {
   "cell_type": "code",
   "execution_count": null,
   "id": "02156989",
   "metadata": {},
   "outputs": [],
   "source": [
    "x = True\n",
    "y = True\n",
    "z = True\n",
    "if x or y or z:\n",
    "    print(\"Al menos uno de los booleanos es verdadero.\")\n",
    "else:\n",
    "    print(\"Todos los valores son falsos.\")"
   ]
  },
  {
   "cell_type": "code",
   "execution_count": 14,
   "id": "15552934",
   "metadata": {},
   "outputs": [
    {
     "data": {
      "text/plain": [
       "True"
      ]
     },
     "execution_count": 14,
     "metadata": {},
     "output_type": "execute_result"
    }
   ],
   "source": [
    "respuesta = \"salir\"    # veamos si podemos finalizar un programa cuando la respuesta es \"salir\"\n",
    "respuesta == \"exit\"  or respuesta == \"fin\" or respuesta == \"salir\""
   ]
  },
  {
   "cell_type": "markdown",
   "id": "ee1095ab",
   "metadata": {},
   "source": [
    "# ```not```"
   ]
  },
  {
   "cell_type": "code",
   "execution_count": null,
   "id": "228b0238",
   "metadata": {},
   "outputs": [],
   "source": [
    "not True     # False       la negación de la verdad da falso y la negación de lo falso da verdadero"
   ]
  },
  {
   "cell_type": "code",
   "execution_count": null,
   "id": "a79bd5bc",
   "metadata": {},
   "outputs": [],
   "source": [
    "mimundo = 'Digital'\n",
    "if not(mimundo =='Analógico'):\n",
    "    print(\"Mi mundo es Digital\")"
   ]
  },
  {
   "cell_type": "code",
   "execution_count": null,
   "id": "abe93796",
   "metadata": {},
   "outputs": [],
   "source": [
    "a = 70\n",
    "if not(a%2==0 and a%5==0):\n",
    "    print(\"El valor no es divisible entre 10\")\n",
    "else:\n",
    "    print(\"El valor es divisible entre 10\")"
   ]
  },
  {
   "cell_type": "markdown",
   "id": "9db96c09",
   "metadata": {},
   "source": [
    "# Operadores encadenados"
   ]
  },
  {
   "cell_type": "code",
   "execution_count": null,
   "id": "2eb907ec",
   "metadata": {},
   "outputs": [],
   "source": [
    "1 < 2 and 2 < 3"
   ]
  },
  {
   "cell_type": "code",
   "execution_count": null,
   "id": "77a6c40a",
   "metadata": {},
   "outputs": [],
   "source": [
    "#el primer paréntesis es equivalente al segundo\n",
    "(1 < 2 < 3) == (3 > 2 > 1)"
   ]
  },
  {
   "cell_type": "code",
   "execution_count": null,
   "id": "1745ea0d",
   "metadata": {},
   "outputs": [],
   "source": [
    "#el primer paréntesis es equivalente al segundo\n",
    "numero = 20\n",
    "(numero >= 0 and numero <= 100) == (0 <= numero <= 100)"
   ]
  }
 ],
 "metadata": {
  "kernelspec": {
   "display_name": "Python 3",
   "language": "python",
   "name": "python3"
  },
  "language_info": {
   "codemirror_mode": {
    "name": "ipython",
    "version": 3
   },
   "file_extension": ".py",
   "mimetype": "text/x-python",
   "name": "python",
   "nbconvert_exporter": "python",
   "pygments_lexer": "ipython3",
   "version": "3.8.8"
  }
 },
 "nbformat": 4,
 "nbformat_minor": 5
}
