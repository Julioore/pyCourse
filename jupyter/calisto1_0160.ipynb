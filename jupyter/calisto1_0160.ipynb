{
 "cells": [
  {
   "cell_type": "markdown",
   "metadata": {},
   "source": [
    "# Listas [2]  Slicing Lists"
   ]
  },
  {
   "cell_type": "markdown",
   "metadata": {},
   "source": [
    "## Índices en una lista (**Index**)"
   ]
  },
  {
   "cell_type": "code",
   "execution_count": null,
   "metadata": {},
   "outputs": [],
   "source": [
    "dias=['lun', 'mar', 'mie', 'jue', 'vie', 'sab', 'dom']\n",
    "print(dias[0])\n",
    "print(dias[1])\n",
    "print(dias[2])\n",
    "print(dias[3])\n",
    "print(dias[4])\n",
    "print(dias[5])\n",
    "print(dias[6])"
   ]
  },
  {
   "cell_type": "markdown",
   "metadata": {},
   "source": [
    "### Índices negativos"
   ]
  },
  {
   "cell_type": "code",
   "execution_count": null,
   "metadata": {},
   "outputs": [],
   "source": [
    "print(dias[-1])\n",
    "print(dias[-2])\n",
    "print(dias[-3])\n",
    "print(dias[-4])\n",
    "print(dias[-5])\n",
    "print(dias[-6])\n",
    "print(dias[-7])"
   ]
  },
  {
   "cell_type": "markdown",
   "metadata": {},
   "source": [
    "## Slice notation  \n",
    "- lista[start:stop]  # items desde start hasta stop-1\n",
    "- lista[start:]      # items desde start hasta el final\n",
    "- lista[:stop]       # items desde el inicio hasta stop-1\n",
    "- lista[:]           # crea una copia del array completo"
   ]
  },
  {
   "cell_type": "code",
   "execution_count": null,
   "metadata": {},
   "outputs": [],
   "source": [
    "print(dias[2:5])\n",
    "print(dias[2:])\n",
    "print(dias[:5])\n",
    "una_copia=dias[:]\n",
    "print(una_copia)"
   ]
  },
  {
   "cell_type": "markdown",
   "metadata": {},
   "source": [
    "### Valores negativos"
   ]
  },
  {
   "cell_type": "code",
   "execution_count": null,
   "metadata": {},
   "outputs": [],
   "source": [
    "print(dias[-1])    # el último elemneto del array\n",
    "print(dias[-2:])   # los dos últimos elementos del array\n",
    "print(dias[:-2])   # todos los elementos desde el inicio hasta el -2 excluido"
   ]
  },
  {
   "cell_type": "markdown",
   "metadata": {},
   "source": [
    "### lista[Star:Stop:Step]"
   ]
  },
  {
   "cell_type": "code",
   "execution_count": null,
   "metadata": {},
   "outputs": [],
   "source": [
    "print(dias[::-1])    # todos los elementos de la matriz invertidos  (reverse)\n",
    "print(dias[1::-1])   # los dos primeros elementos invertidos\n",
    "print(dias[:-3:-1])  # los dos últimos elementos invertidos\n",
    "print(dias[-3::-1])  # todo excepto los dos últimos elementos e invertidos"
   ]
  },
  {
   "cell_type": "markdown",
   "metadata": {},
   "source": [
    "## lista[slice(Star,Stop,Step)]  equivale a  lista[Star:Stop:Step]"
   ]
  },
  {
   "cell_type": "code",
   "execution_count": null,
   "metadata": {},
   "outputs": [],
   "source": [
    "dias[slice(None, None, -1)]"
   ]
  },
  {
   "cell_type": "code",
   "execution_count": null,
   "metadata": {},
   "outputs": [],
   "source": [
    "dias[slice(1,None,2)]"
   ]
  },
  {
   "cell_type": "markdown",
   "metadata": {},
   "source": [
    "## Separar listas"
   ]
  },
  {
   "cell_type": "code",
   "execution_count": null,
   "metadata": {},
   "outputs": [],
   "source": [
    "lista_completa = ['a','b','c','d','e',1,2,3,4]\n",
    "lista_letras = lista_completa[0:5]          #['a', 'b', 'c', 'd', 'e'] El índice 5 no se incluye\n",
    "lista_numeros = lista_completa[5:9]         #[1, 2, 3, 4] El índice 9 no se incluye\n",
    "print(lista_letras)\n",
    "print(lista_numeros)\n",
    "print(lista_completa[:5])                   #['a', 'b', 'c', 'd', 'e']\n",
    "print(lista_completa[5:])                   #[1, 2, 3, 4]\n",
    "print(lista_completa[-4:])                  #[1, 2, 3, 4]\n",
    "print(lista_completa[1::2])                 #['b', 'd', 1, 3]\n",
    "lista_completa[6] != lista_completa[6:7]    #2!=[2] El valor 2 es distinto de la sublista [2]"
   ]
  },
  {
   "cell_type": "code",
   "execution_count": null,
   "metadata": {},
   "outputs": [],
   "source": [
    "mi_rango=range(10)\n",
    "print(mi_rango)               #range(0, 10)\n",
    "print(type(mi_rango))         #<class 'range'>\n",
    "list(mi_rango)                #se puede convertir en una lista"
   ]
  },
  {
   "cell_type": "code",
   "execution_count": null,
   "metadata": {},
   "outputs": [],
   "source": [
    "numeros=list(range(10))\n",
    "print(numeros)                #[0, 1, 2, 3, 4, 5, 6, 7, 8, 9]"
   ]
  },
  {
   "cell_type": "code",
   "execution_count": null,
   "metadata": {},
   "outputs": [],
   "source": [
    "ceros=[0]*10\n",
    "print(ceros)                  #[0, 0, 0, 0, 0, 0, 0, 0, 0, 0]\n",
    "print(len(ceros))             #10"
   ]
  },
  {
   "cell_type": "code",
   "execution_count": null,
   "metadata": {},
   "outputs": [],
   "source": [
    "del ceros[2:]                 # eliminamos desde el elemento de indice 2 incluido hasta el final\n",
    "print(ceros)                  #[0, 0]"
   ]
  },
  {
   "cell_type": "markdown",
   "metadata": {},
   "source": [
    "## Añadir al inicio"
   ]
  },
  {
   "cell_type": "code",
   "execution_count": 1,
   "metadata": {},
   "outputs": [
    {
     "data": {
      "text/plain": [
       "['Ana', 'Bea', 'Carmen']"
      ]
     },
     "execution_count": 1,
     "metadata": {},
     "output_type": "execute_result"
    }
   ],
   "source": [
    "ls = [\"Bea\",\"Carmen\"]\n",
    "ls.insert(0, \"Ana\")\n",
    "ls"
   ]
  }
 ],
 "metadata": {
  "kernelspec": {
   "display_name": "Python 3",
   "language": "python",
   "name": "python3"
  },
  "language_info": {
   "codemirror_mode": {
    "name": "ipython",
    "version": 3
   },
   "file_extension": ".py",
   "mimetype": "text/x-python",
   "name": "python",
   "nbconvert_exporter": "python",
   "pygments_lexer": "ipython3",
   "version": "3.8.5"
  }
 },
 "nbformat": 4,
 "nbformat_minor": 5
}
