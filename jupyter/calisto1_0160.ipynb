{
 "cells": [
  {
   "cell_type": "markdown",
   "id": "91a94e37",
   "metadata": {},
   "source": [
    "# Listas [3]  \n",
    "## Copiar una lista"
   ]
  },
  {
   "cell_type": "code",
   "execution_count": null,
   "id": "20cbfda6",
   "metadata": {},
   "outputs": [],
   "source": [
    "l1=['a','b','c']\n",
    "l2=l1              #igualando dos listas no se hace una copia de valores, se trata de la misma\n",
    "print(\"l1: \",l1)\n",
    "print(\"l2: \",l2)\n",
    "l1.append(\"x\")\n",
    "print(\"l1: \",l1)\n",
    "print(\"l2: \",l2)\n",
    "print('~'*40) ####################\n",
    "l1=['a','b','c']\n",
    "l2=l1[:]           #así se crea un nuevo objeto l2. También vale poner l2=list(l1)\n",
    "print(\"l1: \",l1)\n",
    "print(\"l2: \",l2)\n",
    "l1.append(\"x\")\n",
    "print(\"l1: \",l1)\n",
    "print(\"l2: \",l2)"
   ]
  },
  {
   "cell_type": "markdown",
   "id": "858724dc",
   "metadata": {},
   "source": [
    "## Copiar una matriz  \n",
    "Lista de listas  \n",
    "Matrices  \n",
    "Arrays 2D"
   ]
  },
  {
   "cell_type": "code",
   "execution_count": null,
   "id": "361a712e",
   "metadata": {},
   "outputs": [],
   "source": [
    "x=[[1,2],[3,4]]      #matriz 2x2 o lista bidimensional\n",
    "y=x                  #igualando dos listas no se hace una copia de valores, se trata de la misma\n",
    "print(\"x: \",x)\n",
    "print(\"y: \",y)\n",
    "x[0][0]=88\n",
    "print(\"x: \",x)\n",
    "print(\"y: \",y)\n",
    "print('~'*40) ####################\n",
    "from copy import deepcopy\n",
    "x=[[1,2],[3,4]]\n",
    "y=deepcopy(x)       #para copiar una lista multidimensional usamos deepcopy\n",
    "print(\"x: \",x)\n",
    "print(\"y: \",y)\n",
    "x[0][0]=88\n",
    "print(\"x: \",x)\n",
    "print(\"y: \",y)"
   ]
  }
 ],
 "metadata": {
  "kernelspec": {
   "display_name": "Python 3",
   "language": "python",
   "name": "python3"
  },
  "language_info": {
   "codemirror_mode": {
    "name": "ipython",
    "version": 3
   },
   "file_extension": ".py",
   "mimetype": "text/x-python",
   "name": "python",
   "nbconvert_exporter": "python",
   "pygments_lexer": "ipython3",
   "version": "3.8.8"
  }
 },
 "nbformat": 4,
 "nbformat_minor": 5
}
