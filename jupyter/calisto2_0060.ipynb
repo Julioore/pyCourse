{
 "cells": [
  {
   "cell_type": "markdown",
   "metadata": {},
   "source": [
    "# Herencia [1]\n",
    "En Programación Orientada a Objetos la Herencia es mecanismo que permite crear nuevas clases a partir de las preexistentes."
   ]
  },
  {
   "cell_type": "markdown",
   "metadata": {},
   "source": [
    "La ventaja de la herencia es la reutilización de código.  \n",
    "La herencia nos permite modelar otros sistemas sin tener que empezar de cero, utilizamos una clase *Padre* con las características de base y le agregamos las características particulares a la clase *Hija*.\n",
    "![herencia](img/herencia.png)"
   ]
  },
  {
   "cell_type": "markdown",
   "metadata": {},
   "source": [
    "Cuando una clase hereda de otra, hereda todos sus métodos y atributos.  \n",
    "* clase principal, clase padre o superclase\n",
    "* clase hija o subclase\n",
    "\n",
    "La clase hija hereda los métodos y atributos de la clase padre pero además puede definir sus propios métodos y atributos.\n",
    "\n",
    "**Ejemplo 1**  \n",
    "La clase Figura es la clase padre que tiene tres clases hijas: Rectangulo, Circulo, Hexagono.\n",
    "\n",
    "**Ejemplo 2**  \n",
    "La clase Pet es la clase padre que tiene dos clases hijas: Dog, Cat.\n",
    "\n",
    "**Ejemplo 3**  \n",
    "La clase Vehiculo es la clase padre que tiene varias clases hijas: Moto, Coche, Furgoneta, Camion, Bici."
   ]
  },
  {
   "cell_type": "code",
   "execution_count": null,
   "metadata": {},
   "outputs": [],
   "source": [
    "class Vehiculo():                      # primero va el construcctor con las propiedades\n",
    "    def __init__(self, marca, modelo): # marca y modelo nos permiten dar un estado inicial a los objetos que hereden de Vehiculo\n",
    "        self.marca=marca               # la marca que pasemos como parámetro al constructor será nuestra self. marca del objeto\n",
    "        self.modelo=modelo             # el modelo que pasemos como parámetro al constructor será nuestro self. modelo\n",
    "        self.enmarcha=False            # inicialmente los objetos creados no estaran en marcha\n",
    "        self.acelera=False             # inicialmente los objetos creados no estaran acelerando\n",
    "        self.frena=False               # inicialmente los objetos creados no estaran frenando\n",
    "        \n",
    "    def arrancar(self):                # método. Los métodos nos dan el comportamiento del objeto\n",
    "        self.enmarcha=True\n",
    "        \n",
    "    def acelerar(self):                # método. Estos métodos permite cambiar las propiedades definidas en el construcctor\n",
    "        self.acelera=True\n",
    "        \n",
    "    def frenar(self):                  # método\n",
    "        self.frena=True\n",
    "        \n",
    "    def estado(self):\n",
    "        print(f\"Marca: {self.marca} \\nModelo: {self.modelo} \\\n",
    "              \\nEn marcha: {self.enmarcha} \\nAcelerando: {self.acelera} \\nFrenando: {self.frena}\")\n",
    "        \n",
    "class Moto(Vehiculo):                  # Así indicamos que la clase Moto hereda de Vehiculo\n",
    "    pass                               # No añadimos nada para comprobar que Moto goza de las propiedades y métodos de Vehiculo\n",
    "\n",
    "miMoto=Moto(\"Honda\",\"Rebel\")     # creamos una instancia que hereda tb el contrusctor por lo que se han de pasar marca y modelo\n",
    "miMoto.estado()                  # al heredar de Vehiculo puedo usar los métodos heredaddos"
   ]
  },
  {
   "cell_type": "markdown",
   "metadata": {},
   "source": [
    "## Sobreescritura de métodos\n",
    "Una clase que hereda de otra adquiere sus métodos y propiedades pero a su vez puede tener sus propios métodos y propiedades.  \n",
    "Pensemos en el comportamiento que pueda tener una moto que no tengan todos los vehículos, por ejemplo, hacer el caballito. La variable será hcaballito (hacer el caballito)."
   ]
  },
  {
   "cell_type": "code",
   "execution_count": null,
   "metadata": {},
   "outputs": [],
   "source": [
    "class Vehiculo():\n",
    "    def __init__(self, marca, modelo):\n",
    "        self.marca=marca\n",
    "        self.modelo=modelo\n",
    "        self.enmarcha=False\n",
    "        self.acelera=False\n",
    "        self.frena=False\n",
    "        \n",
    "    def arrancar(self):\n",
    "        self.enmarcha=True\n",
    "        \n",
    "    def acelerar(self):\n",
    "        self.acelera=True\n",
    "        \n",
    "    def frenar(self):\n",
    "        self.frena=True\n",
    "        \n",
    "    def estado(self):\n",
    "        print(f\"Marca: {self.marca} \\nModelo: {self.modelo} \\\n",
    "              \\nEn marcha: {self.enmarcha} \\nAcelerando: {self.acelera} \\nFrenando: {self.frena}\")\n",
    "        \n",
    "class Moto(Vehiculo):\n",
    "    hcaballito=\"\"                                    # creamos la nueva variable: haciendo el caballito\n",
    "    def caballito(self):                             # creamos el método caballito\n",
    "        self.hcaballito=\"Voy haciendo el caballito\"  # el método modifica el valor de la variable hcaballito\n",
    "\n",
    "miMoto=Moto(\"Honda\",\"Rebel\")\n",
    "miMoto.caballito()                                   # invocamos el nuevo método\n",
    "miMoto.estado()                                      # no da error pero no informa de que estamos haciendo el caballito\n",
    "                                                     # será necesario sobreescribir el método estado"
   ]
  },
  {
   "cell_type": "markdown",
   "metadata": {},
   "source": [
    "Ahora un objeto de tipo moto puede usar seis métodos que son los cinco heredados (incluyendo el construcctor) y el suyo propio."
   ]
  },
  {
   "cell_type": "code",
   "execution_count": null,
   "metadata": {},
   "outputs": [],
   "source": [
    "class Vehiculo():\n",
    "    def __init__(self, marca, modelo):\n",
    "        self.marca=marca\n",
    "        self.modelo=modelo\n",
    "        self.enmarcha=False\n",
    "        self.acelera=False\n",
    "        self.frena=False  \n",
    "    def arrancar(self):\n",
    "        self.enmarcha=True   \n",
    "    def acelerar(self):\n",
    "        self.acelera=True   \n",
    "    def frenar(self):\n",
    "        self.frena=True \n",
    "    def estado(self):\n",
    "        print(f\"Marca: {self.marca} \\nModelo: {self.modelo} \\\n",
    "              \\nEn marcha: {self.enmarcha} \\nAcelerando: {self.acelera} \\nFrenando: {self.frena}\")\n",
    "        \n",
    "class Moto(Vehiculo):\n",
    "    hcaballito=\"\"                                    # creamos la nueva variable: haciendo el caballito\n",
    "    def caballito(self):                             # creamos el método caballito\n",
    "        self.hcaballito=\"Voy haciendo el caballito\"  # el método modifica el valor de la variable hcaballito\n",
    "\n",
    "    def estado(self):                                # = nombre y nº de parámetros que el método sobreescrito de la clase padre\n",
    "        print(f\"Marca: {self.marca} \\nModelo: {self.modelo} \\\n",
    "              \\nEn marcha: {self.enmarcha} \\nAcelerando: {self.acelera} \\nFrenando: {self.frena}\\\n",
    "              \\n{self.hcaballito}\")\n",
    "        \n",
    "miMoto=Moto(\"Honda\",\"Rebel\")\n",
    "miMoto.caballito()                                   # invocamos el nuevo método y ahora si vemos que hace el caballito\n",
    "miMoto.estado()                                      # si no hubieramos invocado el método caballito no se imprimiría Voy..."
   ]
  },
  {
   "cell_type": "markdown",
   "metadata": {},
   "source": [
    "Cuando escribimos miMoto.estado() surge una pregunta: ¿Estamos llamando al método estado de la clase Vehiculo o al método estado de la clase Moto?  \n",
    "El método estado de la clase Moto sobreescribe (anula, invalida) el método estado de la clase Vehiculo.  \n",
    "Invocar o no el método caballito es opcional, si no se invoca no se imprime la frase 'Voy haciendo el caballito', simplemente se imprime \"\" que es el valor de la variable hcaballito cuando el método no actúa."
   ]
  },
  {
   "cell_type": "markdown",
   "metadata": {},
   "source": [
    "## Jerarquía\n",
    "Supongamos que creaemos la clase Quad que hereda de la clase Moto y esta a su vez hereda de la clase Vehiculo. Esto es lo que se llama una cadena o jerarquía de herencias.  \n",
    "La clase Quad heredaría el método estado de la clase Moto y no el método estado de la clase Vehiculo ya que Quad hereda directamente de Moto."
   ]
  },
  {
   "cell_type": "markdown",
   "metadata": {},
   "source": [
    "Si creamos la clase Furgoneta lo lógico es que herede de la clase Vehiculo y no de la clase Moto.  \n",
    "La clase Furgoneta tendrá un nuevo comportamiento (método) que será la capacidade de cargar (llevar carga)."
   ]
  },
  {
   "cell_type": "code",
   "execution_count": null,
   "metadata": {},
   "outputs": [],
   "source": [
    "class Vehiculo():\n",
    "    def __init__(self, marca, modelo):\n",
    "        self.marca=marca\n",
    "        self.modelo=modelo\n",
    "        self.enmarcha=False\n",
    "        self.acelera=False\n",
    "        self.frena=False\n",
    "        \n",
    "    def arrancar(self):\n",
    "        self.enmarcha=True\n",
    "        \n",
    "    def acelerar(self):\n",
    "        self.acelera=True\n",
    "        \n",
    "    def frenar(self):\n",
    "        self.frena=True\n",
    "        \n",
    "    def estado(self):\n",
    "        print(f\"Marca: {self.marca} \\nModelo: {self.modelo} \\\n",
    "              \\nEn marcha: {self.enmarcha} \\nAcelerando: {self.acelera} \\nFrenando: {self.frena}\")\n",
    "        \n",
    "class Furgoneta(Vehiculo):                          # creamos la clase Furgoneta que hereda de la clase Vehiculo\n",
    "    def cargada(self,carga):\n",
    "        self.carga=carga\n",
    "        if self.carga:\n",
    "            return \"La Furgoneta está cargada\"      # en este método usamos un return para informar \n",
    "        else:\n",
    "            return \"La Furgoneta no está cargada\"\n",
    "\n",
    "miFurgoneta=Furgoneta(\"Nissan\",\"N100\")\n",
    "\n",
    "miFurgoneta.arrancar()\n",
    "miFurgoneta.estado()\n",
    "print(miFurgoneta.cargada(True))                    # usamos un print ya que el método cargada se creó con un reuturn\n",
    "        "
   ]
  },
  {
   "cell_type": "markdown",
   "metadata": {},
   "source": [
    "## Herencia múltiple\n",
    "Algunos lenguajes con POO, por ejemplo JAVA, no tienen herencia múltiple debido a lo complejo que puede llegar a ser cuando se manejan programas grandes.  \n",
    "Vamos a crear una clase para vehículos eléctricos llamada VElectrico.  \n",
    "Vamos a crear una clase para bicicletas eléctricas llamada BicicletaElectrica que hereda de dos clases: Vehiculo y VElectrico.  \n",
    "De esta forma la clase hija hereda todos los métodos y todas las propiedades de las clases superiores."
   ]
  },
  {
   "cell_type": "code",
   "execution_count": 1,
   "metadata": {},
   "outputs": [
    {
     "name": "stdout",
     "output_type": "stream",
     "text": [
      "Marca: Xiaomi \n",
      "Modelo: Qicycle               \n",
      "En marcha: True \n",
      "Acelerando: False \n",
      "Frenando: False\n"
     ]
    }
   ],
   "source": [
    "class Vehiculo():\n",
    "    def __init__(self, marca, modelo):\n",
    "        self.marca=marca\n",
    "        self.modelo=modelo\n",
    "        self.enmarcha=False\n",
    "        self.acelera=False\n",
    "        self.frena=False\n",
    "    def arrancar(self):\n",
    "        self.enmarcha=True\n",
    "    def acelerar(self):\n",
    "        self.acelera=True\n",
    "    def frenar(self):\n",
    "        self.frena=True\n",
    "    def estado(self):\n",
    "        print(f\"Marca: {self.marca} \\nModelo: {self.modelo} \\\n",
    "              \\nEn marcha: {self.enmarcha} \\nAcelerando: {self.acelera} \\nFrenando: {self.frena}\")\n",
    "class VElectrico():                                 # esta clase no hereda de nadie \n",
    "    def __init__(self):\n",
    "        self.autonomia=300\n",
    "    def cargarEnergia(self):\n",
    "        self.cargando=True\n",
    "        \n",
    "class BicicletaElectrica(Vehiculo,VElectrico):      # hereda de la clase Vehiculo y de la clase VElectrico\n",
    "    pass\n",
    "\n",
    "miBici=BicicletaElectrica(\"Xiaomi\",\"Qicycle\")       # creamos una instancia\n",
    "\n",
    "miBici.arrancar()\n",
    "miBici.estado()"
   ]
  },
  {
   "cell_type": "markdown",
   "metadata": {},
   "source": [
    "Cuando hay herencia múltiple se da preferencia a la primera clase que se indica. Esto supone que cuando hay método con el mismo nombre en amabas clases, se utilizará el método de la que se indicó primero, en el caso anterior la clase Vehiculo.\n",
    "El orden en el que se ponen las clases de las que se hereda (las clases padre) a la hora de instanciar un objeto es importante.  \n",
    "Se usará el método construcctor de la clase que se pone en prime lugar. En nuestro ejemplo, las dos clases únicamente tiene un método con el mismo nombre que es \\_\\_init\\_\\_ (el método constructor).  \n",
    "El el caso anteriro al instanciar la clase miBici se heredó el constructor de la clase Vehículo, por eso tuvimos que pasar dos argumentos (marca y modelo), ya que el constructor de la clase Vehiculo así lo exigía."
   ]
  },
  {
   "cell_type": "code",
   "execution_count": null,
   "metadata": {},
   "outputs": [],
   "source": [
    "class BicicletaElectrica(VElectrico,Vehiculo):      # hereda de la clase VElectrico primero y luego de la clase Vehiculo\n",
    "    pass\n",
    "\n",
    "tuBici=BicicletaElectrica()              # otra instancia pero ahora sin argumentos ya que hereda el construcctor de VElectrico\n",
    "                                         # que no tiene constructor y por eso no se pone ni marca, ni modelo.\n",
    "tuBici.arrancar()                        # vemos que se puede arrancar (no da error)"
   ]
  },
  {
   "cell_type": "markdown",
   "metadata": {},
   "source": [
    "Ahora hemos redefinido la clase BicicletaElectrica heredando primero de la clase VElectrico y luego de la clase Vehiculo. Esto supone que, en esta ocasión hemos heredado el constructor de la clase VElectrico, pero esta clase se definió sin constructor. Por ese motivo, al instanciar un objeto como tuBici no hemos pasado ningún parámetro ya que no existía un constructor que lo requiriera."
   ]
  }
 ],
 "metadata": {
  "kernelspec": {
   "display_name": "Python 3",
   "language": "python",
   "name": "python3"
  },
  "language_info": {
   "codemirror_mode": {
    "name": "ipython",
    "version": 3
   },
   "file_extension": ".py",
   "mimetype": "text/x-python",
   "name": "python",
   "nbconvert_exporter": "python",
   "pygments_lexer": "ipython3",
   "version": "3.8.8"
  }
 },
 "nbformat": 4,
 "nbformat_minor": 4
}
