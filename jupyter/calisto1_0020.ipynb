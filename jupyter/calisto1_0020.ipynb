{
 "cells": [
  {
   "cell_type": "markdown",
   "id": "e98a92a5",
   "metadata": {},
   "source": [
    "# Cadenas (Strings)"
   ]
  },
  {
   "cell_type": "code",
   "execution_count": null,
   "id": "4ee2203b",
   "metadata": {},
   "outputs": [],
   "source": [
    "\"hola\"            # directamente en el intérprete de Python"
   ]
  },
  {
   "cell_type": "code",
   "execution_count": null,
   "id": "e23a6dd7",
   "metadata": {},
   "outputs": [],
   "source": [
    "print(\"Hola\")     # usando print"
   ]
  },
  {
   "cell_type": "code",
   "execution_count": null,
   "id": "e379b647",
   "metadata": {},
   "outputs": [],
   "source": [
    "\"hola\" +  \"mundo\""
   ]
  },
  {
   "cell_type": "code",
   "execution_count": null,
   "id": "31f0bcb0",
   "metadata": {},
   "outputs": [],
   "source": [
    "\"hi\" * 3"
   ]
  },
  {
   "cell_type": "code",
   "execution_count": null,
   "id": "81059451",
   "metadata": {},
   "outputs": [],
   "source": [
    "string1 = \"hola\"\n",
    "string2 =  \"mundo\"\n",
    "string3 = string1 + string2\n",
    "print(string3)      #si olvidamos cerrar el paréntesis se producirá un Error de sintaxis"
   ]
  },
  {
   "cell_type": "code",
   "execution_count": null,
   "id": "1eb00665",
   "metadata": {},
   "outputs": [],
   "source": [
    "print(\"hola\" + \" \" + \"mundo\")"
   ]
  },
  {
   "cell_type": "code",
   "execution_count": null,
   "id": "5f4a6df6",
   "metadata": {},
   "outputs": [],
   "source": [
    "\"Vuelo \" + 505      #error"
   ]
  },
  {
   "cell_type": "code",
   "execution_count": null,
   "id": "86e3504e",
   "metadata": {},
   "outputs": [],
   "source": [
    "\"Vuelo \" + str(505)"
   ]
  },
  {
   "cell_type": "code",
   "execution_count": null,
   "id": "1d3a196b",
   "metadata": {},
   "outputs": [],
   "source": [
    "2+8 == 10            #True"
   ]
  },
  {
   "cell_type": "code",
   "execution_count": null,
   "id": "1b908195",
   "metadata": {},
   "outputs": [],
   "source": [
    "123 == '123'         #False"
   ]
  },
  {
   "cell_type": "code",
   "execution_count": null,
   "id": "bce9b6a9",
   "metadata": {},
   "outputs": [],
   "source": [
    "'Hola' == \"Hola\"     #True"
   ]
  },
  {
   "cell_type": "code",
   "execution_count": null,
   "id": "e25dd0e9",
   "metadata": {},
   "outputs": [],
   "source": [
    "\"A\" + \"B\" == \"AB\"    #True"
   ]
  }
 ],
 "metadata": {
  "kernelspec": {
   "display_name": "Python 3",
   "language": "python",
   "name": "python3"
  },
  "language_info": {
   "codemirror_mode": {
    "name": "ipython",
    "version": 3
   },
   "file_extension": ".py",
   "mimetype": "text/x-python",
   "name": "python",
   "nbconvert_exporter": "python",
   "pygments_lexer": "ipython3",
   "version": "3.8.5"
  }
 },
 "nbformat": 4,
 "nbformat_minor": 5
}
