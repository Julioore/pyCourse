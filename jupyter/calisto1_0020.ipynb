{
 "cells": [
  {
   "cell_type": "markdown",
   "id": "e98a92a5",
   "metadata": {},
   "source": [
    "# Cadenas (Strings)"
   ]
  },
  {
   "cell_type": "code",
   "execution_count": 1,
   "id": "4ee2203b",
   "metadata": {},
   "outputs": [
    {
     "data": {
      "text/plain": [
       "'hola'"
      ]
     },
     "execution_count": 1,
     "metadata": {},
     "output_type": "execute_result"
    }
   ],
   "source": [
    "\"hola\"          # directamente en el intérprete de Python"
   ]
  },
  {
   "cell_type": "code",
   "execution_count": 2,
   "id": "e23a6dd7",
   "metadata": {},
   "outputs": [
    {
     "name": "stdout",
     "output_type": "stream",
     "text": [
      "Hola\n"
     ]
    }
   ],
   "source": [
    "print(\"Hola\")   #usando print"
   ]
  },
  {
   "cell_type": "code",
   "execution_count": 3,
   "id": "e379b647",
   "metadata": {},
   "outputs": [
    {
     "data": {
      "text/plain": [
       "'holamundo'"
      ]
     },
     "execution_count": 3,
     "metadata": {},
     "output_type": "execute_result"
    }
   ],
   "source": [
    "\"hola\" +  \"mundo\""
   ]
  },
  {
   "cell_type": "code",
   "execution_count": 4,
   "id": "31f0bcb0",
   "metadata": {},
   "outputs": [
    {
     "data": {
      "text/plain": [
       "'hihihi'"
      ]
     },
     "execution_count": 4,
     "metadata": {},
     "output_type": "execute_result"
    }
   ],
   "source": [
    "\"hi\" * 3"
   ]
  },
  {
   "cell_type": "code",
   "execution_count": 5,
   "id": "81059451",
   "metadata": {},
   "outputs": [
    {
     "name": "stdout",
     "output_type": "stream",
     "text": [
      "holamundo\n"
     ]
    }
   ],
   "source": [
    "string1 = \"hola\"\n",
    "string2 =  \"mundo\"\n",
    "string3 = string1 + string2\n",
    "print(string3)             #si olvidamos cerrar el paréntesis se producirá un Error de sintaxis"
   ]
  },
  {
   "cell_type": "code",
   "execution_count": 6,
   "id": "1eb00665",
   "metadata": {},
   "outputs": [
    {
     "name": "stdout",
     "output_type": "stream",
     "text": [
      "hola mundo\n"
     ]
    }
   ],
   "source": [
    "print(\"hola\"+\" \"+\"mundo\")"
   ]
  },
  {
   "cell_type": "code",
   "execution_count": 7,
   "id": "5f4a6df6",
   "metadata": {},
   "outputs": [
    {
     "ename": "TypeError",
     "evalue": "can only concatenate str (not \"int\") to str",
     "output_type": "error",
     "traceback": [
      "\u001b[0;31m---------------------------------------------------------------------------\u001b[0m",
      "\u001b[0;31mTypeError\u001b[0m                                 Traceback (most recent call last)",
      "\u001b[0;32m<ipython-input-7-e81e540fb096>\u001b[0m in \u001b[0;36m<module>\u001b[0;34m\u001b[0m\n\u001b[0;32m----> 1\u001b[0;31m \u001b[0;34m\"Vuelo \"\u001b[0m \u001b[0;34m+\u001b[0m \u001b[0;36m505\u001b[0m    \u001b[0;31m#error\u001b[0m\u001b[0;34m\u001b[0m\u001b[0;34m\u001b[0m\u001b[0m\n\u001b[0m",
      "\u001b[0;31mTypeError\u001b[0m: can only concatenate str (not \"int\") to str"
     ]
    }
   ],
   "source": [
    "\"Vuelo \" + 505    #error"
   ]
  },
  {
   "cell_type": "code",
   "execution_count": 8,
   "id": "86e3504e",
   "metadata": {},
   "outputs": [
    {
     "data": {
      "text/plain": [
       "'Vuelo 505'"
      ]
     },
     "execution_count": 8,
     "metadata": {},
     "output_type": "execute_result"
    }
   ],
   "source": [
    "\"Vuelo \"+ str(505)"
   ]
  },
  {
   "cell_type": "code",
   "execution_count": 10,
   "id": "1d3a196b",
   "metadata": {},
   "outputs": [
    {
     "data": {
      "text/plain": [
       "True"
      ]
     },
     "execution_count": 10,
     "metadata": {},
     "output_type": "execute_result"
    }
   ],
   "source": [
    "2+8==10          #True"
   ]
  },
  {
   "cell_type": "code",
   "execution_count": 11,
   "id": "1b908195",
   "metadata": {},
   "outputs": [
    {
     "data": {
      "text/plain": [
       "False"
      ]
     },
     "execution_count": 11,
     "metadata": {},
     "output_type": "execute_result"
    }
   ],
   "source": [
    "123=='123'       #False"
   ]
  },
  {
   "cell_type": "code",
   "execution_count": 12,
   "id": "bce9b6a9",
   "metadata": {},
   "outputs": [
    {
     "data": {
      "text/plain": [
       "True"
      ]
     },
     "execution_count": 12,
     "metadata": {},
     "output_type": "execute_result"
    }
   ],
   "source": [
    "'Hola'==\"Hola\"   #True"
   ]
  },
  {
   "cell_type": "code",
   "execution_count": 13,
   "id": "e25dd0e9",
   "metadata": {},
   "outputs": [
    {
     "data": {
      "text/plain": [
       "True"
      ]
     },
     "execution_count": 13,
     "metadata": {},
     "output_type": "execute_result"
    }
   ],
   "source": [
    "\"A\"+\"B\"==\"AB\"    #True"
   ]
  }
 ],
 "metadata": {
  "kernelspec": {
   "display_name": "Python 3",
   "language": "python",
   "name": "python3"
  },
  "language_info": {
   "codemirror_mode": {
    "name": "ipython",
    "version": 3
   },
   "file_extension": ".py",
   "mimetype": "text/x-python",
   "name": "python",
   "nbconvert_exporter": "python",
   "pygments_lexer": "ipython3",
   "version": "3.8.5"
  }
 },
 "nbformat": 4,
 "nbformat_minor": 5
}
