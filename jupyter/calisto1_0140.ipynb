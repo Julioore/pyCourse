{
 "cells": [
  {
   "cell_type": "markdown",
   "id": "b400c40e",
   "metadata": {},
   "source": [
    "# String como iterable\n",
    "Los índices comienzan por cero."
   ]
  },
  {
   "cell_type": "markdown",
   "id": "7e2bfb40",
   "metadata": {},
   "source": [
    "![Buenos Aires](img/Buenos_Aires.png)"
   ]
  },
  {
   "cell_type": "code",
   "execution_count": null,
   "id": "3671daf4",
   "metadata": {},
   "outputs": [],
   "source": [
    "ciudad = \"Buenos Aires\"\n",
    "print(ciudad[0])                 # B se comienza por el índice 0\n",
    "print(ciudad[1])                 # u\n",
    "print(ciudad[2])                 # e\n",
    "print(ciudad[3])                 # n\n",
    "print(ciudad[4])                 # o\n",
    "print(ciudad[5])                 # s\n",
    "print(ciudad[6])                 # \n",
    "print(ciudad[7])                 # A\n",
    "print(ciudad[8])                 # i\n",
    "print(ciudad[9])                 # r\n",
    "print(ciudad[10])                # e\n",
    "print(ciudad[11])                # s"
   ]
  },
  {
   "cell_type": "markdown",
   "id": "c47ea911",
   "metadata": {},
   "source": [
    "## Índices negativos"
   ]
  },
  {
   "cell_type": "code",
   "execution_count": null,
   "id": "19152c02",
   "metadata": {},
   "outputs": [],
   "source": [
    "len(ciudad)"
   ]
  },
  {
   "cell_type": "code",
   "execution_count": null,
   "id": "745534ab",
   "metadata": {},
   "outputs": [],
   "source": [
    "print(ciudad[-1])                # s\n",
    "print(ciudad[-2])                # e\n",
    "print(ciudad[-3])                # r\n",
    "print(ciudad[-4])                # i\n",
    "print(ciudad[-5])                # A\n",
    "print(ciudad[-6])                #  \n",
    "print(ciudad[-7])                # s\n",
    "print(ciudad[-8])                # o\n",
    "print(ciudad[-9])                # n\n",
    "print(ciudad[-10])               # e\n",
    "print(ciudad[-11])               # u\n",
    "print(ciudad[-12])               # B"
   ]
  },
  {
   "cell_type": "code",
   "execution_count": null,
   "id": "c64f4f2b",
   "metadata": {},
   "outputs": [],
   "source": [
    "print(ciudad[len(ciudad)-1])     # s\n",
    "print(ciudad[-len(ciudad)])      # B"
   ]
  },
  {
   "cell_type": "markdown",
   "id": "1f3baff5",
   "metadata": {},
   "source": [
    "## Slicing (métodos de corte)"
   ]
  },
  {
   "cell_type": "code",
   "execution_count": null,
   "id": "5a4aa67a",
   "metadata": {},
   "outputs": [],
   "source": [
    "print(ciudad[0:4])               # Buen\n",
    "print(ciudad[:4])                # Buen\n",
    "print(ciudad[7:10])              # Air\n",
    "print(ciudad[:])                 # Buenos Aires\n",
    "print(ciudad[2:9:2])             # eo i\n",
    "print(ciudad[-5:])               # Aires"
   ]
  },
  {
   "cell_type": "code",
   "execution_count": null,
   "id": "8b30a834",
   "metadata": {
    "scrolled": true
   },
   "outputs": [],
   "source": [
    "#ciudad[30]                      # IndexError: string index out of range"
   ]
  },
  {
   "cell_type": "code",
   "execution_count": null,
   "id": "662735f2",
   "metadata": {},
   "outputs": [],
   "source": [
    "ciudad[7:30]                     # Con slicing si funciona aunque nos salgamos del índice"
   ]
  },
  {
   "cell_type": "code",
   "execution_count": null,
   "id": "98486507",
   "metadata": {},
   "outputs": [],
   "source": [
    "ciudad[30:]                      # aquí no hay nada. No da error, devuelve cadena vacía"
   ]
  },
  {
   "cell_type": "markdown",
   "id": "b53f8296",
   "metadata": {},
   "source": [
    "## Reverso de un string"
   ]
  },
  {
   "cell_type": "code",
   "execution_count": null,
   "id": "02754411",
   "metadata": {},
   "outputs": [],
   "source": [
    "palabra = 'sogima'\n",
    "print(palabra[::-1])             # reverso de una palabra"
   ]
  },
  {
   "cell_type": "markdown",
   "id": "6ebd9f36",
   "metadata": {},
   "source": [
    "## Cadena completa"
   ]
  },
  {
   "cell_type": "code",
   "execution_count": null,
   "id": "f8986d61",
   "metadata": {},
   "outputs": [],
   "source": [
    "ciudad[:]"
   ]
  },
  {
   "cell_type": "code",
   "execution_count": null,
   "id": "e77c08ec",
   "metadata": {},
   "outputs": [],
   "source": [
    "ciudad[:5] + ciudad[5:]"
   ]
  },
  {
   "cell_type": "markdown",
   "id": "2a42e01c",
   "metadata": {},
   "source": [
    "## Las cadenas son inmutables\n",
    "Si intentamos cambiar un caracter nos dará error."
   ]
  },
  {
   "cell_type": "code",
   "execution_count": null,
   "id": "63de3245",
   "metadata": {},
   "outputs": [],
   "source": [
    "#ciudad[0]='G'                   # TypeError: 'str' object does not support item assignment"
   ]
  },
  {
   "cell_type": "markdown",
   "id": "30d567f1",
   "metadata": {},
   "source": [
    "Esto no es un gran inconveniente ya que podemos conseguirlo con slicing."
   ]
  },
  {
   "cell_type": "code",
   "execution_count": null,
   "id": "b7ee4486",
   "metadata": {},
   "outputs": [],
   "source": [
    "ciudad=\"G\" + ciudad[1:]\n",
    "ciudad"
   ]
  }
 ],
 "metadata": {
  "kernelspec": {
   "display_name": "Python 3",
   "language": "python",
   "name": "python3"
  },
  "language_info": {
   "codemirror_mode": {
    "name": "ipython",
    "version": 3
   },
   "file_extension": ".py",
   "mimetype": "text/x-python",
   "name": "python",
   "nbconvert_exporter": "python",
   "pygments_lexer": "ipython3",
   "version": "3.8.8"
  }
 },
 "nbformat": 4,
 "nbformat_minor": 5
}
