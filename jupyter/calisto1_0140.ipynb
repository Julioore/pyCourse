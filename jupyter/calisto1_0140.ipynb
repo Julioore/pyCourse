{
 "cells": [
  {
   "cell_type": "markdown",
   "id": "f0e7f7cf",
   "metadata": {},
   "source": [
    "# Listas  \n",
    "Arrays   (arreglos)  \n",
    "Una lista es un conjunto iterable de datos ordenados que van entre corchetes []"
   ]
  },
  {
   "cell_type": "code",
   "execution_count": null,
   "id": "c9fe911b",
   "metadata": {},
   "outputs": [],
   "source": [
    "[]             # lista vacía"
   ]
  },
  {
   "cell_type": "code",
   "execution_count": null,
   "id": "221756e6",
   "metadata": {},
   "outputs": [],
   "source": [
    "[10, 15, 12]   # una lista de tres elementos con números enteros"
   ]
  },
  {
   "cell_type": "code",
   "execution_count": null,
   "id": "2e3a672e",
   "metadata": {},
   "outputs": [],
   "source": [
    "['azul', 'rojo', 'verde', 'amarillo']  # una lista con strings"
   ]
  },
  {
   "cell_type": "code",
   "execution_count": null,
   "id": "92957d1b",
   "metadata": {},
   "outputs": [],
   "source": [
    "[4, 'lunes', 3.14, True, None]         # admite cualquier valor"
   ]
  },
  {
   "cell_type": "code",
   "execution_count": null,
   "id": "22e63ffb",
   "metadata": {},
   "outputs": [],
   "source": [
    "comida = ['spagueti','pollo','tarta']  # asignación a una variable\n",
    "print(comida)                          # ['spagueti', 'pollo', 'tarta']"
   ]
  },
  {
   "cell_type": "code",
   "execution_count": 7,
   "id": "9148e6d2",
   "metadata": {},
   "outputs": [
    {
     "data": {
      "text/plain": [
       "'tarta'"
      ]
     },
     "execution_count": 7,
     "metadata": {},
     "output_type": "execute_result"
    }
   ],
   "source": [
    "comida[0]                   #'spagueti'   se comienza por el índice 0 \n",
    "comida[1]                   #'pollo'\n",
    "comida[2]                   #'tarta'"
   ]
  },
  {
   "cell_type": "code",
   "execution_count": 8,
   "id": "a1526d57",
   "metadata": {},
   "outputs": [
    {
     "name": "stdout",
     "output_type": "stream",
     "text": [
      "['espagueti', 'pollo', 'tarta']\n",
      "<class 'list'>\n"
     ]
    }
   ],
   "source": [
    "comida[0]='espagueti'       #reemplazando un elemento\n",
    "print(comida)               # ['espagueti', 'pollo', 'tarta']\n",
    "print(type(comida))         # <class 'list'>"
   ]
  },
  {
   "cell_type": "code",
   "execution_count": 10,
   "id": "c3eef64c",
   "metadata": {},
   "outputs": [
    {
     "name": "stdout",
     "output_type": "stream",
     "text": [
      "[['espagueti', 'pollo', 'tarta'], 23, True, 15.6]\n"
     ]
    }
   ],
   "source": [
    "lista=[comida,23,True,15.60]        # una lista dentro de una lista\n",
    "print(lista)"
   ]
  },
  {
   "cell_type": "code",
   "execution_count": 11,
   "id": "6375cb56",
   "metadata": {},
   "outputs": [
    {
     "name": "stdout",
     "output_type": "stream",
     "text": [
      "[['espagueti', 'pollo', 'tarta'], ['agua', 'vino', 'cerveza']]\n",
      "cerveza\n",
      "True\n"
     ]
    }
   ],
   "source": [
    "bebida=['agua','vino','cerveza']\n",
    "menu=[comida,bebida]            #una lista que incluye dos listas\n",
    "print(menu)\n",
    "print(menu[1][2])                           #cerveza\n",
    "print(comida[len(comida)-1]==comida[-1])    #True"
   ]
  },
  {
   "cell_type": "code",
   "execution_count": 12,
   "id": "ea8dd80c",
   "metadata": {},
   "outputs": [
    {
     "name": "stdout",
     "output_type": "stream",
     "text": [
      "['espagueti', 'pollo', 'tarta', 'agua', 'vino', 'cerveza']\n"
     ]
    }
   ],
   "source": [
    "oferta = comida + bebida\n",
    "print(oferta)"
   ]
  },
  {
   "cell_type": "code",
   "execution_count": 13,
   "id": "bbc12a1b",
   "metadata": {},
   "outputs": [
    {
     "name": "stdout",
     "output_type": "stream",
     "text": [
      "['a', 'b', 'c', 'd', 'e']\n",
      "[1, 2, 3, 4]\n",
      "['a', 'b', 'c', 'd', 'e']\n",
      "[1, 2, 3, 4]\n",
      "[1, 2, 3, 4]\n",
      "['b', 'd', 1, 3]\n"
     ]
    },
    {
     "data": {
      "text/plain": [
       "True"
      ]
     },
     "execution_count": 13,
     "metadata": {},
     "output_type": "execute_result"
    }
   ],
   "source": [
    "lista_completa = ['a','b','c','d','e',1,2,3,4]\n",
    "lista_letras = lista_completa[0:5]          #['a', 'b', 'c', 'd', 'e'] El índice 5 no se incluye\n",
    "lista_numeros = lista_completa[5:9]         #[1, 2, 3, 4] El índice 9 no se incluye\n",
    "print(lista_letras)\n",
    "print(lista_numeros)\n",
    "print(lista_completa[:5])                   #['a', 'b', 'c', 'd', 'e']\n",
    "print(lista_completa[5:])                   #[1, 2, 3, 4]\n",
    "print(lista_completa[-4:])                  #[1, 2, 3, 4]\n",
    "print(lista_completa[1::2])                 #['b', 'd', 1, 3]\n",
    "lista_completa[6] != lista_completa[6:7]    #2!=[2] El valor 2 es distinto de la sublista [2]"
   ]
  },
  {
   "cell_type": "code",
   "execution_count": 14,
   "id": "b36de953",
   "metadata": {},
   "outputs": [
    {
     "name": "stdout",
     "output_type": "stream",
     "text": [
      "range(0, 10)\n",
      "<class 'range'>\n"
     ]
    }
   ],
   "source": [
    "mi_rango=range(10)\n",
    "print(mi_rango)               #range(0, 10)\n",
    "print(type(mi_rango))         #<class 'range'>"
   ]
  },
  {
   "cell_type": "code",
   "execution_count": 15,
   "id": "2f4ab5ec",
   "metadata": {},
   "outputs": [
    {
     "name": "stdout",
     "output_type": "stream",
     "text": [
      "[0, 1, 2, 3, 4, 5, 6, 7, 8, 9]\n"
     ]
    }
   ],
   "source": [
    "numeros=list(range(10))\n",
    "print(numeros)                #[0, 1, 2, 3, 4, 5, 6, 7, 8, 9]"
   ]
  },
  {
   "cell_type": "code",
   "execution_count": 16,
   "id": "fc736bd3",
   "metadata": {},
   "outputs": [
    {
     "name": "stdout",
     "output_type": "stream",
     "text": [
      "[0, 0, 0, 0, 0, 0, 0, 0, 0, 0]\n",
      "10\n"
     ]
    }
   ],
   "source": [
    "ceros=[0]*10\n",
    "print(ceros)                  #[0, 0, 0, 0, 0, 0, 0, 0, 0, 0]\n",
    "print(len(ceros))             #10"
   ]
  },
  {
   "cell_type": "code",
   "execution_count": 17,
   "id": "61c6374c",
   "metadata": {},
   "outputs": [
    {
     "name": "stdout",
     "output_type": "stream",
     "text": [
      "['espagueti', 'pollo', 'tarta', 'agua', 'cerveza']\n",
      "['espagueti', 'pollo', 'tarta', 'agua', 'cerveza', 'limonada']\n",
      "[0, 0]\n",
      "True\n",
      "False\n",
      "['limonada', 'cerveza', 'agua', 'tarta', 'pollo', 'espagueti']\n"
     ]
    }
   ],
   "source": [
    "del oferta[-2]                #eliminamos el vino\n",
    "print(oferta)                 #['espagueti', 'pollo', 'tarta', 'agua', 'cerveza']\n",
    "oferta.append('limonada')     #añadimos al final un elemento\n",
    "print(oferta)                 #['espagueti', 'pollo', 'tarta', 'agua', 'cerveza', 'limonada']\n",
    "del ceros[2:]                 # eliminamos desde el elemento de indice 2 incluido hasta el final\n",
    "print(ceros)                  #[0, 0]\n",
    "print('tarta' in oferta)      #True\n",
    "print('fruta' in oferta)      #False\n",
    "print(oferta[::-1])           #['limonada', 'cerveza', 'agua', 'tarta', 'pollo', 'espagueti']"
   ]
  },
  {
   "cell_type": "code",
   "execution_count": 18,
   "id": "8a852b21",
   "metadata": {},
   "outputs": [
    {
     "name": "stdout",
     "output_type": "stream",
     "text": [
      "2\n",
      "['espagueti', 'pollo', 'tarta', 'agua', 'cerveza', 'café']\n",
      "['espagueti', 'pollo', 'tarta', 'cerveza', 'café']\n",
      "['espagueti', 'pollo', 'tarta', 'cerveza']\n",
      "['espagueti', 'pollo', 'fruta', 'tarta', 'cerveza']\n",
      "['pan', 'espagueti', 'pollo', 'fruta', 'tarta', 'cerveza']\n"
     ]
    }
   ],
   "source": [
    "oferta = ['espagueti', 'pollo', 'tarta', 'agua', 'cerveza']\n",
    "print(oferta.index('tarta'))           #2\n",
    "oferta.append('café')    #['espagueti', 'pollo', 'tarta', 'agua', 'cerveza', 'café']\n",
    "print(oferta)\n",
    "oferta.remove('agua')    #['espagueti', 'pollo', 'tarta', 'cerveza', 'café']\n",
    "print(oferta)\n",
    "oferta.pop()             #['espagueti', 'pollo', 'tarta', 'cerveza']\n",
    "print(oferta)\n",
    "oferta.insert(2,'fruta') #['espagueti', 'pollo', 'fruta', 'tarta', 'cerveza']\n",
    "print(oferta)\n",
    "oferta.insert(0,'pan')   #['pan', 'espagueti', 'pollo', 'fruta', 'tarta', 'cerveza']\n",
    "print(oferta)"
   ]
  },
  {
   "cell_type": "code",
   "execution_count": 19,
   "id": "a06b6ae8",
   "metadata": {},
   "outputs": [
    {
     "name": "stdout",
     "output_type": "stream",
     "text": [
      "l1:  ['a', 'b', 'c']\n",
      "l2:  ['a', 'b', 'c']\n",
      "l1:  ['a', 'b', 'c', 'x']\n",
      "l2:  ['a', 'b', 'c', 'x']\n",
      "~~~~~~~~~~~~~~~~~~~~~~~~~~~~~~~~~~~~~~~~\n",
      "l1:  ['a', 'b', 'c']\n",
      "l2:  ['a', 'b', 'c']\n",
      "l1:  ['a', 'b', 'c', 'x']\n",
      "l2:  ['a', 'b', 'c']\n"
     ]
    }
   ],
   "source": [
    "l1=['a','b','c']\n",
    "l2=l1              #igualando dos listas no se hace una copia de valores, se trata de la misma\n",
    "print(\"l1: \",l1)\n",
    "print(\"l2: \",l2)\n",
    "l1.append(\"x\")\n",
    "print(\"l1: \",l1)\n",
    "print(\"l2: \",l2)\n",
    "print('~'*40) ####################\n",
    "l1=['a','b','c']\n",
    "l2=l1[:]           #así se crea un nuevo objeto l2. También vale poner l2=list(l1)\n",
    "print(\"l1: \",l1)\n",
    "print(\"l2: \",l2)\n",
    "l1.append(\"x\")\n",
    "print(\"l1: \",l1)\n",
    "print(\"l2: \",l2)"
   ]
  },
  {
   "cell_type": "code",
   "execution_count": 20,
   "id": "613cad1c",
   "metadata": {},
   "outputs": [
    {
     "name": "stdout",
     "output_type": "stream",
     "text": [
      "x:  [[1, 2], [3, 4]]\n",
      "y:  [[1, 2], [3, 4]]\n",
      "x:  [[88, 2], [3, 4]]\n",
      "y:  [[88, 2], [3, 4]]\n",
      "~~~~~~~~~~~~~~~~~~~~~~~~~~~~~~~~~~~~~~~~\n",
      "x:  [[1, 2], [3, 4]]\n",
      "y:  [[1, 2], [3, 4]]\n",
      "x:  [[88, 2], [3, 4]]\n",
      "y:  [[1, 2], [3, 4]]\n"
     ]
    }
   ],
   "source": [
    "x=[[1,2],[3,4]]      #matriz 2x2 o lista bidimensional\n",
    "y=x                  #igualando dos listas no se hace una copia de valores, se trata de la misma\n",
    "print(\"x: \",x)\n",
    "print(\"y: \",y)\n",
    "x[0][0]=88\n",
    "print(\"x: \",x)\n",
    "print(\"y: \",y)\n",
    "print('~'*40) ####################\n",
    "from copy import deepcopy\n",
    "x=[[1,2],[3,4]]\n",
    "y=deepcopy(x)       #para copiar una lista multidimensional usamos deepcopy\n",
    "print(\"x: \",x)\n",
    "print(\"y: \",y)\n",
    "x[0][0]=88\n",
    "print(\"x: \",x)\n",
    "print(\"y: \",y)"
   ]
  },
  {
   "cell_type": "markdown",
   "id": "f138bc84",
   "metadata": {},
   "source": [
    "## Operaciones con listas  \n",
    "Tamaño       →  len(lista)  \n",
    "Concatenar   →  [1,2]+[3,4]  \n",
    "Repetir      →  [\"hola\"]*3  \n",
    "Iterar       →  for i in lista  \n",
    "Es parte de  →  4 in lista  \n",
    "\n",
    "## Algunas funciones  \n",
    "append(elemento)  \n",
    "pop()  \n",
    "remove(elemento)\t#si elemento no está en la lista da  error  \n",
    "index(elemento)  \n",
    "insert(indice,elemento)  \n",
    "clear()  \n"
   ]
  },
  {
   "cell_type": "code",
   "execution_count": null,
   "id": "e3043f25",
   "metadata": {},
   "outputs": [],
   "source": []
  }
 ],
 "metadata": {
  "kernelspec": {
   "display_name": "Python 3",
   "language": "python",
   "name": "python3"
  },
  "language_info": {
   "codemirror_mode": {
    "name": "ipython",
    "version": 3
   },
   "file_extension": ".py",
   "mimetype": "text/x-python",
   "name": "python",
   "nbconvert_exporter": "python",
   "pygments_lexer": "ipython3",
   "version": "3.8.5"
  }
 },
 "nbformat": 4,
 "nbformat_minor": 5
}
