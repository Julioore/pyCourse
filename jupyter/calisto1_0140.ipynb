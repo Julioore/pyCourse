{
 "cells": [
  {
   "cell_type": "markdown",
   "id": "6ca5cddd",
   "metadata": {},
   "source": [
    "# Listas [1]  \n",
    "Arrays   (arreglos)  \n",
    "Una lista es un conjunto iterable de datos ordenados que van entre corchetes ```[]```"
   ]
  },
  {
   "cell_type": "code",
   "execution_count": null,
   "id": "b85e372c",
   "metadata": {},
   "outputs": [],
   "source": [
    "[]             # lista vacía"
   ]
  },
  {
   "cell_type": "code",
   "execution_count": null,
   "id": "faa86af1",
   "metadata": {},
   "outputs": [],
   "source": [
    "[10, 15, 12]   # una lista de tres elementos con números enteros"
   ]
  },
  {
   "cell_type": "markdown",
   "id": "85fc36ef",
   "metadata": {},
   "source": [
    "Una lista es una estructura de datos formada por una secuencia ordenada de objetos.  \n",
    "En una lista el orden importa."
   ]
  },
  {
   "cell_type": "code",
   "execution_count": null,
   "id": "8e59ed3a",
   "metadata": {},
   "outputs": [],
   "source": [
    "['azul', 'rojo', 'verde', 'amarillo']  # una lista con strings"
   ]
  },
  {
   "cell_type": "code",
   "execution_count": null,
   "id": "b5c5244c",
   "metadata": {},
   "outputs": [],
   "source": [
    "[4, 'lunes', 3.14, True, None]         # admite cualquier valor"
   ]
  },
  {
   "cell_type": "code",
   "execution_count": null,
   "id": "537d45af",
   "metadata": {},
   "outputs": [],
   "source": [
    "comida = ['spagueti','pollo','tarta']  # asignación a una variable\n",
    "print(comida)                          # ['spagueti', 'pollo', 'tarta']"
   ]
  },
  {
   "cell_type": "markdown",
   "id": "09a36c1a",
   "metadata": {},
   "source": [
    "## Podemos trabajar con índices"
   ]
  },
  {
   "cell_type": "code",
   "execution_count": null,
   "id": "7134afb9",
   "metadata": {},
   "outputs": [],
   "source": [
    "comida[0]                   # 'spagueti'   se comienza por el índice 0 \n",
    "comida[1]                   # 'pollo'\n",
    "comida[2]                   # 'tarta'"
   ]
  },
  {
   "cell_type": "markdown",
   "id": "c9d67ae4",
   "metadata": {},
   "source": [
    "## Las cadenas admiten slicing"
   ]
  },
  {
   "cell_type": "code",
   "execution_count": null,
   "id": "9d26481e",
   "metadata": {},
   "outputs": [],
   "source": [
    "comida[:2]                  # ['spagueti', 'pollo']"
   ]
  },
  {
   "cell_type": "markdown",
   "id": "994676aa",
   "metadata": {},
   "source": [
    "## Las cadenas no son inmutables"
   ]
  },
  {
   "cell_type": "code",
   "execution_count": null,
   "id": "cdbd2f5c",
   "metadata": {},
   "outputs": [],
   "source": [
    "comida[0]='espagueti'       #reemplazando un elemento, escribimos espagueti con e\n",
    "print(comida)               # ['espagueti', 'pollo', 'tarta']"
   ]
  },
  {
   "cell_type": "markdown",
   "id": "53586c4e",
   "metadata": {},
   "source": [
    "## Tipo lista"
   ]
  },
  {
   "cell_type": "code",
   "execution_count": null,
   "id": "3b1d5ec6",
   "metadata": {},
   "outputs": [],
   "source": [
    "print(type(comida))         # <class 'list'>"
   ]
  },
  {
   "cell_type": "markdown",
   "id": "31847a4f",
   "metadata": {},
   "source": [
    "## Listas dentro de listas"
   ]
  },
  {
   "cell_type": "code",
   "execution_count": null,
   "id": "7adf1be8",
   "metadata": {},
   "outputs": [],
   "source": [
    "lista=[comida,23,True,15.60]        # una lista dentro de una lista\n",
    "print(lista)"
   ]
  },
  {
   "cell_type": "markdown",
   "id": "b203fc20",
   "metadata": {},
   "source": [
    "### Matriz:  Array 2D"
   ]
  },
  {
   "cell_type": "code",
   "execution_count": 88,
   "id": "9d59baa2",
   "metadata": {},
   "outputs": [
    {
     "data": {
      "text/plain": [
       "[[10, 20, 30, 40], [12, 22, 32, 42], [14, 24, 34, 44]]"
      ]
     },
     "execution_count": 88,
     "metadata": {},
     "output_type": "execute_result"
    }
   ],
   "source": [
    "matriz=[[10,20,30,40],\n",
    "        [12,22,32,42],\n",
    "        [14,24,34,44]]\n",
    "matriz"
   ]
  },
  {
   "cell_type": "markdown",
   "id": "e22b9c8e",
   "metadata": {},
   "source": [
    "#### Listas anidadas"
   ]
  },
  {
   "cell_type": "code",
   "execution_count": 89,
   "id": "53b7e310",
   "metadata": {},
   "outputs": [
    {
     "data": {
      "text/plain": [
       "[[1, 2, 3], [4, 5, 6], [7, 8, 9]]"
      ]
     },
     "execution_count": 89,
     "metadata": {},
     "output_type": "execute_result"
    }
   ],
   "source": [
    "a=[1,2,3]\n",
    "b=[4,5,6]\n",
    "c=[7,8,9]\n",
    "m=[a,b,c]\n",
    "m"
   ]
  },
  {
   "cell_type": "markdown",
   "id": "82f4f3af",
   "metadata": {},
   "source": [
    "#### Accediendo a una lista dentro de otra lista"
   ]
  },
  {
   "cell_type": "code",
   "execution_count": 90,
   "id": "b1fd0ff6",
   "metadata": {},
   "outputs": [
    {
     "data": {
      "text/plain": [
       "[1, 2, 3]"
      ]
     },
     "execution_count": 90,
     "metadata": {},
     "output_type": "execute_result"
    }
   ],
   "source": [
    "m[0]"
   ]
  },
  {
   "cell_type": "markdown",
   "id": "a55b9641",
   "metadata": {},
   "source": [
    "#### Accediendo a un elemento en una matriz"
   ]
  },
  {
   "cell_type": "code",
   "execution_count": 91,
   "id": "d047b6b5",
   "metadata": {},
   "outputs": [
    {
     "data": {
      "text/plain": [
       "1"
      ]
     },
     "execution_count": 91,
     "metadata": {},
     "output_type": "execute_result"
    }
   ],
   "source": [
    "m[0][0]"
   ]
  },
  {
   "cell_type": "code",
   "execution_count": 93,
   "id": "abb1a3ef",
   "metadata": {},
   "outputs": [
    {
     "data": {
      "text/plain": [
       "True"
      ]
     },
     "execution_count": 93,
     "metadata": {},
     "output_type": "execute_result"
    }
   ],
   "source": [
    "m[2][2]==m[-1][-1]     # ¿9 es igual a 9?"
   ]
  },
  {
   "cell_type": "markdown",
   "id": "24efb07b",
   "metadata": {},
   "source": [
    "### Una listas que incluye dos listas"
   ]
  },
  {
   "cell_type": "code",
   "execution_count": null,
   "id": "869333a7",
   "metadata": {},
   "outputs": [],
   "source": [
    "bebida=['agua','vino','cerveza']\n",
    "menu=[comida,bebida]            #una lista que incluye dos listas\n",
    "print(menu)\n",
    "print(menu[1][2])                           #cerveza\n",
    "print(comida[len(comida)-1]==comida[-1])    #True"
   ]
  },
  {
   "cell_type": "markdown",
   "id": "4300a314",
   "metadata": {},
   "source": [
    "## Sumar dos listas es unir dos listas en una"
   ]
  },
  {
   "cell_type": "code",
   "execution_count": null,
   "id": "ea22aa36",
   "metadata": {},
   "outputs": [],
   "source": [
    "carta = comida + bebida    # la carta del restaurante es la unión de comida y bebida\n",
    "print(oferta)"
   ]
  },
  {
   "cell_type": "markdown",
   "id": "8862d5cf",
   "metadata": {},
   "source": [
    "## Borrar un elemento de la lista"
   ]
  },
  {
   "cell_type": "code",
   "execution_count": null,
   "id": "3e084660",
   "metadata": {},
   "outputs": [],
   "source": [
    "del carta[-2]                #eliminamos el vino\n",
    "print(carta)                 #['espagueti', 'pollo', 'tarta', 'agua', 'cerveza']"
   ]
  },
  {
   "cell_type": "markdown",
   "id": "6bccf23d",
   "metadata": {},
   "source": [
    "## Anexar un elemento a una lista\n",
    "Añadir el elemento en la última posición."
   ]
  },
  {
   "cell_type": "code",
   "execution_count": null,
   "id": "da0510ba",
   "metadata": {},
   "outputs": [],
   "source": [
    "carta.append('limonada')     #añadimos al final un elemento\n",
    "print(carta)                 #['espagueti', 'pollo', 'tarta', 'agua', 'cerveza', 'limonada']"
   ]
  },
  {
   "cell_type": "markdown",
   "id": "1c699d4d",
   "metadata": {},
   "source": [
    "## Comprobar si un elemento está en la lista"
   ]
  },
  {
   "cell_type": "code",
   "execution_count": null,
   "id": "d33f35d5",
   "metadata": {},
   "outputs": [],
   "source": [
    "print('tarta' in carta)      #True    Operador de pertenencia: in\n",
    "print('fruta' in carta)      #False"
   ]
  },
  {
   "cell_type": "markdown",
   "id": "8929425c",
   "metadata": {},
   "source": [
    "## Índice de un elemento en la lista\n",
    "Ver que número de índice ocupa un elemento en la lista"
   ]
  },
  {
   "cell_type": "code",
   "execution_count": null,
   "id": "39140778",
   "metadata": {},
   "outputs": [],
   "source": [
    "oferta = ['espagueti', 'pollo', 'tarta', 'agua', 'cerveza']\n",
    "print(oferta.index('tarta'))           #2"
   ]
  },
  {
   "cell_type": "markdown",
   "id": "8fe702b6",
   "metadata": {},
   "source": [
    "### Añadimos café"
   ]
  },
  {
   "cell_type": "code",
   "execution_count": null,
   "id": "81b60196",
   "metadata": {},
   "outputs": [],
   "source": [
    "oferta.append('café')    #['espagueti', 'pollo', 'tarta', 'agua', 'cerveza', 'café']\n",
    "print(oferta)"
   ]
  },
  {
   "cell_type": "markdown",
   "id": "624ea399",
   "metadata": {},
   "source": [
    "### Removemos el agua"
   ]
  },
  {
   "cell_type": "code",
   "execution_count": null,
   "id": "8e232de5",
   "metadata": {},
   "outputs": [],
   "source": [
    "oferta.remove('agua')    #['espagueti', 'pollo', 'tarta', 'cerveza', 'café']\n",
    "print(oferta)"
   ]
  },
  {
   "cell_type": "markdown",
   "id": "65412123",
   "metadata": {},
   "source": [
    "### Eliminamos el úlimo elemento con pop"
   ]
  },
  {
   "cell_type": "code",
   "execution_count": null,
   "id": "4a024354",
   "metadata": {},
   "outputs": [],
   "source": [
    "oferta.pop()             #['espagueti', 'pollo', 'tarta', 'cerveza']\n",
    "print(oferta)"
   ]
  },
  {
   "cell_type": "markdown",
   "id": "b9ddc8ff",
   "metadata": {},
   "source": [
    "### Insertamos un elemento en una posición concreta"
   ]
  },
  {
   "cell_type": "code",
   "execution_count": null,
   "id": "296aad11",
   "metadata": {},
   "outputs": [],
   "source": [
    "oferta.insert(2,'fruta') #['espagueti', 'pollo', 'fruta', 'tarta', 'cerveza']\n",
    "print(oferta)"
   ]
  },
  {
   "cell_type": "code",
   "execution_count": null,
   "id": "7a553400",
   "metadata": {},
   "outputs": [],
   "source": [
    "oferta.insert(0,'pan')   #['pan', 'espagueti', 'pollo', 'fruta', 'tarta', 'cerveza']\n",
    "print(oferta)"
   ]
  },
  {
   "cell_type": "markdown",
   "id": "195c3316",
   "metadata": {},
   "source": [
    "### Eliminar parte de una lista"
   ]
  },
  {
   "cell_type": "code",
   "execution_count": 84,
   "id": "c4d6ed9d",
   "metadata": {},
   "outputs": [
    {
     "data": {
      "text/plain": [
       "['pollo', 'fruta', 'tarta', 'cerveza']"
      ]
     },
     "execution_count": 84,
     "metadata": {},
     "output_type": "execute_result"
    }
   ],
   "source": [
    "oferta[:2]=[]            # usando slicing e igualando a una lista vacía\n",
    "oferta"
   ]
  },
  {
   "cell_type": "markdown",
   "id": "22166563",
   "metadata": {},
   "source": [
    "### Eliminando completamente el contenido de la lista"
   ]
  },
  {
   "cell_type": "code",
   "execution_count": 85,
   "id": "9247ae63",
   "metadata": {},
   "outputs": [
    {
     "data": {
      "text/plain": [
       "[]"
      ]
     },
     "execution_count": 85,
     "metadata": {},
     "output_type": "execute_result"
    }
   ],
   "source": [
    "oferta=[]                # asignando la lista a una lista vacía\n",
    "oferta"
   ]
  }
 ],
 "metadata": {
  "kernelspec": {
   "display_name": "Python 3",
   "language": "python",
   "name": "python3"
  },
  "language_info": {
   "codemirror_mode": {
    "name": "ipython",
    "version": 3
   },
   "file_extension": ".py",
   "mimetype": "text/x-python",
   "name": "python",
   "nbconvert_exporter": "python",
   "pygments_lexer": "ipython3",
   "version": "3.8.8"
  }
 },
 "nbformat": 4,
 "nbformat_minor": 5
}
