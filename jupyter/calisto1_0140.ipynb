{
 "cells": [
  {
   "cell_type": "markdown",
   "metadata": {},
   "source": [
    "# Listas [1]  \n",
    "Arrays   (arreglos)  \n",
    "Una lista es un conjunto iterable de datos ordenados que van entre corchetes ```[]```"
   ]
  },
  {
   "cell_type": "code",
   "execution_count": null,
   "metadata": {},
   "outputs": [],
   "source": [
    "[]             # lista vacía"
   ]
  },
  {
   "cell_type": "code",
   "execution_count": null,
   "metadata": {},
   "outputs": [],
   "source": [
    "[10, 15, 12]   # una lista de tres elementos con números enteros"
   ]
  },
  {
   "cell_type": "code",
   "execution_count": null,
   "metadata": {},
   "outputs": [],
   "source": [
    "['azul', 'rojo', 'verde', 'amarillo']  # una lista con strings"
   ]
  },
  {
   "cell_type": "code",
   "execution_count": null,
   "metadata": {},
   "outputs": [],
   "source": [
    "[4, 'lunes', 3.14, True, None]         # admite cualquier valor"
   ]
  },
  {
   "cell_type": "code",
   "execution_count": null,
   "metadata": {},
   "outputs": [],
   "source": [
    "comida = ['spagueti','pollo','tarta']  # asignación a una variable\n",
    "print(comida)                          # ['spagueti', 'pollo', 'tarta']"
   ]
  },
  {
   "cell_type": "code",
   "execution_count": null,
   "metadata": {},
   "outputs": [],
   "source": [
    "comida[0]                   #'spagueti'   se comienza por el índice 0 \n",
    "comida[1]                   #'pollo'\n",
    "comida[2]                   #'tarta'"
   ]
  },
  {
   "cell_type": "code",
   "execution_count": null,
   "metadata": {},
   "outputs": [],
   "source": [
    "comida[0]='espagueti'       #reemplazando un elemento\n",
    "print(comida)               # ['espagueti', 'pollo', 'tarta']\n",
    "print(type(comida))         # <class 'list'>"
   ]
  },
  {
   "cell_type": "code",
   "execution_count": null,
   "metadata": {},
   "outputs": [],
   "source": [
    "lista=[comida,23,True,15.60]        # una lista dentro de una lista\n",
    "print(lista)"
   ]
  },
  {
   "cell_type": "code",
   "execution_count": null,
   "metadata": {},
   "outputs": [],
   "source": [
    "bebida=['agua','vino','cerveza']\n",
    "menu=[comida,bebida]            #una lista que incluye dos listas\n",
    "print(menu)\n",
    "print(menu[1][2])                           #cerveza\n",
    "print(comida[len(comida)-1]==comida[-1])    #True"
   ]
  },
  {
   "cell_type": "code",
   "execution_count": null,
   "metadata": {},
   "outputs": [],
   "source": [
    "oferta = comida + bebida\n",
    "print(oferta)"
   ]
  },
  {
   "cell_type": "code",
   "execution_count": null,
   "metadata": {},
   "outputs": [],
   "source": [
    "del oferta[-2]                #eliminamos el vino\n",
    "print(oferta)                 #['espagueti', 'pollo', 'tarta', 'agua', 'cerveza']\n",
    "oferta.append('limonada')     #añadimos al final un elemento\n",
    "print(oferta)                 #['espagueti', 'pollo', 'tarta', 'agua', 'cerveza', 'limonada']\n",
    "\n",
    "print('tarta' in oferta)      #True    Operador de pertenencia: in\n",
    "print('fruta' in oferta)      #False"
   ]
  },
  {
   "cell_type": "code",
   "execution_count": null,
   "metadata": {},
   "outputs": [],
   "source": [
    "oferta = ['espagueti', 'pollo', 'tarta', 'agua', 'cerveza']\n",
    "print(oferta.index('tarta'))           #2\n",
    "oferta.append('café')    #['espagueti', 'pollo', 'tarta', 'agua', 'cerveza', 'café']\n",
    "print(oferta)\n",
    "oferta.remove('agua')    #['espagueti', 'pollo', 'tarta', 'cerveza', 'café']\n",
    "print(oferta)\n",
    "oferta.pop()             #['espagueti', 'pollo', 'tarta', 'cerveza']\n",
    "print(oferta)\n",
    "oferta.insert(2,'fruta') #['espagueti', 'pollo', 'fruta', 'tarta', 'cerveza']\n",
    "print(oferta)\n",
    "oferta.insert(0,'pan')   #['pan', 'espagueti', 'pollo', 'fruta', 'tarta', 'cerveza']\n",
    "print(oferta)"
   ]
  }
 ],
 "metadata": {
  "kernelspec": {
   "display_name": "Python 3",
   "language": "python",
   "name": "python3"
  },
  "language_info": {
   "codemirror_mode": {
    "name": "ipython",
    "version": 3
   },
   "file_extension": ".py",
   "mimetype": "text/x-python",
   "name": "python",
   "nbconvert_exporter": "python",
   "pygments_lexer": "ipython3",
   "version": "3.8.5"
  }
 },
 "nbformat": 4,
 "nbformat_minor": 5
}
