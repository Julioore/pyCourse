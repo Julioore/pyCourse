{
 "cells": [
  {
   "cell_type": "markdown",
   "metadata": {},
   "source": [
    "# Ejemplo constructor, atributos, métodos"
   ]
  },
  {
   "cell_type": "markdown",
   "metadata": {},
   "source": [
    "## Galletas"
   ]
  },
  {
   "cell_type": "code",
   "execution_count": 2,
   "metadata": {},
   "outputs": [
    {
     "name": "stdout",
     "output_type": "stream",
     "text": [
      "Se acaba de crear una galleta cuadrada y dulce.\n",
      "Se acaba de crear una galleta redonda y salada.\n"
     ]
    }
   ],
   "source": [
    "class Galleta:\n",
    "    chocolate = False\n",
    "\n",
    "    def __init__(self, forma, sabor):\n",
    "        self.forma = forma\n",
    "        self.sabor = sabor\n",
    "        print(f\"Se acaba de crear una galleta {self.forma} y {self.sabor}.\")\n",
    "\n",
    "    def chocolatear(self):\n",
    "        self.chocolatear = True\n",
    "\n",
    "    def tiene_chocolate(self):\n",
    "        if self.chocolate:\n",
    "            print(\"Soy una galleta chocolateada\")\n",
    "        else:\n",
    "            print(\"Soy una galleta sin chocolate\")\n",
    "        \n",
    "g1 = Galleta(\"cuadrada\", \"dulce\")\n",
    "g2 = Galleta(\"redonda\", \"salada\")"
   ]
  },
  {
   "cell_type": "code",
   "execution_count": 4,
   "metadata": {},
   "outputs": [],
   "source": [
    "#g3 = Galleta()    # ERROR, ya que no hemos proporcionado los atributos"
   ]
  },
  {
   "cell_type": "markdown",
   "metadata": {},
   "source": [
    "Para evitar el error podenos establecer unos atributos por defecto en el construcctor."
   ]
  },
  {
   "cell_type": "code",
   "execution_count": 5,
   "metadata": {},
   "outputs": [
    {
     "name": "stdout",
     "output_type": "stream",
     "text": [
      "Se acaba de crear una galleta cuadrada y dulce.\n",
      "Se acaba de crear una galleta redonda y salada.\n",
      "Se acaba de crear una galleta None y None.\n"
     ]
    }
   ],
   "source": [
    "class Galleta:\n",
    "    chocolate = False\n",
    "\n",
    "    def __init__(self, forma = None, sabor = None):  # añadimos atributos por defecto\n",
    "        self.forma = forma\n",
    "        self.sabor = sabor\n",
    "        print(f\"Se acaba de crear una galleta {self.forma} y {self.sabor}.\")\n",
    "\n",
    "    def chocolatear(self):\n",
    "        self.chocolatear = True\n",
    "\n",
    "    def tiene_chocolate(self):\n",
    "        if self.chocolate:\n",
    "            print(\"Soy una galleta chocolateada\")\n",
    "        else:\n",
    "            print(\"Soy una galleta sin chocolate\")\n",
    "        \n",
    "g1 = Galleta(\"cuadrada\", \"dulce\")\n",
    "g2 = Galleta(\"redonda\", \"salada\")\n",
    "g3 = Galleta()                    # ahora no da error aunque la frase no es buena"
   ]
  },
  {
   "cell_type": "code",
   "execution_count": 6,
   "metadata": {},
   "outputs": [
    {
     "name": "stdout",
     "output_type": "stream",
     "text": [
      "Se acaba de crear una galleta cuadrada y dulce.\n",
      "Se acaba de crear una galleta redonda y salada.\n"
     ]
    }
   ],
   "source": [
    "class Galleta:\n",
    "    chocolate = False\n",
    "\n",
    "    def __init__(self, forma = None, sabor = None):\n",
    "        self.forma = forma\n",
    "        self.sabor = sabor\n",
    "        if forma is not None and sabor is not None:\n",
    "            print(f\"Se acaba de crear una galleta {self.forma} y {self.sabor}.\")\n",
    "\n",
    "    def chocolatear(self):\n",
    "        self.chocolatear = True\n",
    "\n",
    "    def tiene_chocolate(self):\n",
    "        if self.chocolate:\n",
    "            print(\"Soy una galleta chocolateada\")\n",
    "        else:\n",
    "            print(\"Soy una galleta sin chocolate\")\n",
    "        \n",
    "g1 = Galleta(\"cuadrada\", \"dulce\")\n",
    "g2 = Galleta(\"redonda\", \"salada\")\n",
    "g3 = Galleta()                      # ahora se crea sin error y sin frase"
   ]
  },
  {
   "cell_type": "code",
   "execution_count": null,
   "metadata": {},
   "outputs": [],
   "source": []
  }
 ],
 "metadata": {
  "kernelspec": {
   "display_name": "Python 3",
   "language": "python",
   "name": "python3"
  },
  "language_info": {
   "codemirror_mode": {
    "name": "ipython",
    "version": 3
   },
   "file_extension": ".py",
   "mimetype": "text/x-python",
   "name": "python",
   "nbconvert_exporter": "python",
   "pygments_lexer": "ipython3",
   "version": "3.8.5"
  }
 },
 "nbformat": 4,
 "nbformat_minor": 5
}
