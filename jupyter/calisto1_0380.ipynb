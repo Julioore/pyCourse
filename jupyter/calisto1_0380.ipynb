{
 "cells": [
  {
   "cell_type": "markdown",
   "id": "5b52e1d5",
   "metadata": {},
   "source": [
    "# Listas comprimidas (List comprehensions)  \n",
    "Permite simplificar el código, habitualmente reducen varias líneas a una sola."
   ]
  },
  {
   "cell_type": "markdown",
   "id": "86589dcd",
   "metadata": {},
   "source": [
    "## Listar las letras de una palabra  \n",
    "Veamos primero un bucle ```for``` que ocupa varias líneas como se reduce luego a una sola."
   ]
  },
  {
   "cell_type": "code",
   "execution_count": null,
   "id": "448b2e8a",
   "metadata": {},
   "outputs": [],
   "source": [
    "lista=[]\n",
    "for i in \"Playa\":\n",
    "    lista.append(i)\n",
    "print(lista)"
   ]
  },
  {
   "cell_type": "code",
   "execution_count": null,
   "id": "76fe1841",
   "metadata": {},
   "outputs": [],
   "source": [
    "[letra for letra in \"Playa\"]"
   ]
  },
  {
   "cell_type": "markdown",
   "id": "bc87aea3",
   "metadata": {},
   "source": [
    "## Crear listas"
   ]
  },
  {
   "cell_type": "code",
   "execution_count": null,
   "id": "05e6e86f",
   "metadata": {
    "scrolled": true
   },
   "outputs": [],
   "source": [
    "lista=['Berlín','París','Roma','Londres']\n",
    "print([i for i in lista])  #List Comprehension: permiten crear listas de forma concisa"
   ]
  },
  {
   "cell_type": "code",
   "execution_count": null,
   "id": "3bd98d27",
   "metadata": {},
   "outputs": [],
   "source": [
    "lista=['Berlín','París','Roma','Londres']\n",
    "[print(i) for i in lista]  #Haciéndolo iterable"
   ]
  },
  {
   "cell_type": "markdown",
   "id": "0f0144ac",
   "metadata": {},
   "source": [
    "Si ejecutamos las líneas de código previas desde una terminal llamando a un fichero .py no se verá el Out:  \n",
    "[None, None, None, None]"
   ]
  },
  {
   "cell_type": "markdown",
   "id": "46da18ef",
   "metadata": {},
   "source": [
    "## Condicional en Lista comprimida  \n",
    "Veamos primero lo que ocupa un bucle ```for``` con un ```if``` y como se reduce luego a una sola línea."
   ]
  },
  {
   "cell_type": "code",
   "execution_count": null,
   "id": "7ae7b734",
   "metadata": {},
   "outputs": [],
   "source": [
    "lista=[]\n",
    "for i in range(20):\n",
    "    if not(i%2):\n",
    "        lista.append(i)\n",
    "print(lista)"
   ]
  },
  {
   "cell_type": "code",
   "execution_count": null,
   "id": "abe3e395",
   "metadata": {},
   "outputs": [],
   "source": [
    "[x for x in range(20) if x%2==0]"
   ]
  },
  {
   "cell_type": "markdown",
   "id": "b8d8959b",
   "metadata": {},
   "source": [
    "## Condicional anidado en Lista comprimida  \n",
    "Veamos primero lo que ocupa un bucle ```for``` con dos ```if``` y como se reduce luego a una sola línea."
   ]
  },
  {
   "cell_type": "code",
   "execution_count": null,
   "id": "aec7672c",
   "metadata": {},
   "outputs": [],
   "source": [
    "lista=[]\n",
    "for i in range(100):\n",
    "    if not(i%2):\n",
    "        if not(i%5):\n",
    "            lista.append(i)\n",
    "print(lista)"
   ]
  },
  {
   "cell_type": "code",
   "execution_count": null,
   "id": "9ae8a241",
   "metadata": {},
   "outputs": [],
   "source": [
    "[i for i in range(100) if i%2==0 if i%5==0]"
   ]
  },
  {
   "cell_type": "markdown",
   "id": "f900324f",
   "metadata": {},
   "source": [
    "## Utilizando ```else```"
   ]
  },
  {
   "cell_type": "code",
   "execution_count": null,
   "id": "31c41fb7",
   "metadata": {},
   "outputs": [],
   "source": [
    "print([\"Par\" if i%2==0 else \"Impar\" for i in range(1,11)]) #Condicional con else"
   ]
  },
  {
   "cell_type": "code",
   "execution_count": null,
   "id": "0f183f91",
   "metadata": {},
   "outputs": [],
   "source": [
    "print([(i,\"Par\") if i%2==0 else \"Impar\" for i in range(1,11)]) #Condicional con else"
   ]
  },
  {
   "cell_type": "markdown",
   "id": "19e5cabe",
   "metadata": {},
   "source": [
    "## Transposición de una matriz\n",
    "### Primero: usando bucles anidados"
   ]
  },
  {
   "cell_type": "code",
   "execution_count": null,
   "id": "2c8d10a3",
   "metadata": {},
   "outputs": [],
   "source": [
    "transpuesta = []\n",
    "matriz = [[1, 2, 3, 4], ['a', 'b', 'c', 'd']]\n",
    "\n",
    "for i in range(len(matriz[0])):\n",
    "    transpuesta_fila= []\n",
    "\n",
    "    for row in matriz:\n",
    "        transpuesta_fila.append(row[i])\n",
    "    transpuesta.append(transpuesta_fila)\n",
    "\n",
    "m = transpuesta\n",
    "m"
   ]
  },
  {
   "cell_type": "markdown",
   "id": "832547fb",
   "metadata": {},
   "source": [
    "### Segundo: usando una lista comprimida"
   ]
  },
  {
   "cell_type": "code",
   "execution_count": null,
   "id": "b04c857e",
   "metadata": {},
   "outputs": [],
   "source": [
    "[[row[i] for row in m] for i in range(len(m[0]))]"
   ]
  },
  {
   "cell_type": "markdown",
   "id": "be1dae69",
   "metadata": {},
   "source": [
    "## Devolver funciones"
   ]
  },
  {
   "cell_type": "markdown",
   "id": "b6b6488a",
   "metadata": {},
   "source": [
    "### Capitalizar las palabras de una lista"
   ]
  },
  {
   "cell_type": "code",
   "execution_count": null,
   "id": "918e994b",
   "metadata": {},
   "outputs": [],
   "source": [
    "[palabra.title() for palabra in ['londres','paris','madrid']]"
   ]
  },
  {
   "cell_type": "markdown",
   "id": "c8cb617a",
   "metadata": {},
   "source": [
    "### Calcular los cuadrados del 0 al 10"
   ]
  },
  {
   "cell_type": "code",
   "execution_count": null,
   "id": "8e716b9a",
   "metadata": {},
   "outputs": [],
   "source": [
    "[num**2 for num in range(11)]"
   ]
  },
  {
   "cell_type": "markdown",
   "id": "5bf8c3fc",
   "metadata": {},
   "source": [
    "### Calcular dobles y cuadrados"
   ]
  },
  {
   "cell_type": "code",
   "execution_count": null,
   "id": "cc1c971b",
   "metadata": {},
   "outputs": [],
   "source": [
    "[(num, num*2, num**2) for num in range(11)]"
   ]
  },
  {
   "cell_type": "markdown",
   "id": "0903b778",
   "metadata": {},
   "source": [
    "**Ejercicio**  \n",
    "Crear un diccionario donde la clave sean los números pares del 0 al 10 y el valor sean sus cuadrados."
   ]
  },
  {
   "cell_type": "markdown",
   "id": "95044c22",
   "metadata": {},
   "source": [
    "### Listar archivos  \n",
    "Listar los archivos del directorio img que comienzan por t y finalizan por .png"
   ]
  },
  {
   "cell_type": "code",
   "execution_count": null,
   "id": "cb306ceb",
   "metadata": {},
   "outputs": [],
   "source": [
    "import os\n",
    "ficheros = [f for f in os.listdir('./img') if f.endswith('.png') and f.startswith('t')]\n",
    "print(ficheros)"
   ]
  },
  {
   "cell_type": "markdown",
   "id": "21cb7232",
   "metadata": {},
   "source": [
    "## Doble bucle ```for```"
   ]
  },
  {
   "cell_type": "code",
   "execution_count": null,
   "id": "677db73d",
   "metadata": {},
   "outputs": [],
   "source": [
    "cartas = ['sota', 'caballo', 'rey']\n",
    "palos = ['oros', 'copas', 'espadas', 'bastos']\n",
    "frases = ['{} de {}'.format(carta.title(), palo.title()) for carta in cartas for palo in palos]\n",
    "print(frases)"
   ]
  }
 ],
 "metadata": {
  "kernelspec": {
   "display_name": "Python 3",
   "language": "python",
   "name": "python3"
  },
  "language_info": {
   "codemirror_mode": {
    "name": "ipython",
    "version": 3
   },
   "file_extension": ".py",
   "mimetype": "text/x-python",
   "name": "python",
   "nbconvert_exporter": "python",
   "pygments_lexer": "ipython3",
   "version": "3.8.8"
  }
 },
 "nbformat": 4,
 "nbformat_minor": 5
}
