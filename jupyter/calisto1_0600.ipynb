{
 "cells": [
  {
   "cell_type": "markdown",
   "id": "d53b9a84",
   "metadata": {},
   "source": [
    "# Funciones. Adivina en cuatro"
   ]
  },
  {
   "cell_type": "code",
   "execution_count": 1,
   "id": "02cec98d",
   "metadata": {},
   "outputs": [
    {
     "name": "stdout",
     "output_type": "stream",
     "text": [
      "Introduzca un número entre 1 y 40: 20\n",
      "El número secreto es mayor.\n",
      "Introduzca un número entre 1 y 40: 30\n",
      "El número secreto es menor.\n",
      "Introduzca un número entre 1 y 40: 25\n",
      "El número secreto es menor.\n",
      "Introduzca un número entre 1 y 40: 22\n",
      "El número secreto es mayor.\n",
      "Esta vez no lo adivinó: el número secreto era  23\n"
     ]
    }
   ],
   "source": [
    "import random\n",
    "def juega():\n",
    "    global numero_elegido\n",
    "    for _ in range(4):    # ignora el índice. Si ponemos i tenemos un aviso porque no se usa\n",
    "        numero_elegido=int(input('Introduzca un número entre 1 y 40: '))\n",
    "        if numero_elegido<numero_secreto: print('El número secreto es mayor.')\n",
    "        elif numero_elegido>numero_secreto: print('El número secreto es menor.')\n",
    "        else: break\n",
    "    return numero_elegido\n",
    "def comprueba(numero_elegido,numero_secreto):\n",
    "    if numero_elegido==numero_secreto: print('Felicidades: ha adivinado el número secreto.')\n",
    "    else: print('Esta vez no lo adivinó: el número secreto era ',str(numero_secreto))\n",
    "numero_secreto=random.randint(1,40)\n",
    "numero_elegido=juega()\n",
    "comprueba(numero_elegido, numero_secreto)"
   ]
  }
 ],
 "metadata": {
  "kernelspec": {
   "display_name": "Python 3 (ipykernel)",
   "language": "python",
   "name": "python3"
  },
  "language_info": {
   "codemirror_mode": {
    "name": "ipython",
    "version": 3
   },
   "file_extension": ".py",
   "mimetype": "text/x-python",
   "name": "python",
   "nbconvert_exporter": "python",
   "pygments_lexer": "ipython3",
   "version": "3.8.10"
  }
 },
 "nbformat": 4,
 "nbformat_minor": 5
}
