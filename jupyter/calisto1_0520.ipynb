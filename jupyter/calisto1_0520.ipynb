{
 "cells": [
  {
   "cell_type": "markdown",
   "metadata": {},
   "source": [
    "# Introducción a las funciones [2]"
   ]
  },
  {
   "cell_type": "markdown",
   "metadata": {},
   "source": [
    "## El operador asterisco\n",
    "Cuando tenemos un número indeterminado de argumentos"
   ]
  },
  {
   "cell_type": "code",
   "execution_count": 1,
   "metadata": {},
   "outputs": [
    {
     "name": "stdout",
     "output_type": "stream",
     "text": [
      "El mayor en la fiesta tenía 30 años\n"
     ]
    }
   ],
   "source": [
    "def mimax(*edades):                          #cuando no se sabe el número de argumentos se pone asterisco\n",
    "  print(f\"El mayor en la fiesta tenía {max(edades)} años\")\n",
    "\n",
    "mimax(20, 30, 18, 24, 26)"
   ]
  },
  {
   "cell_type": "markdown",
   "metadata": {},
   "source": [
    "## Valor por defecto de un argumento"
   ]
  },
  {
   "cell_type": "code",
   "execution_count": 2,
   "metadata": {},
   "outputs": [
    {
     "name": "stdout",
     "output_type": "stream",
     "text": [
      "De postre mejor una fruta, por ejemplo manzana\n",
      "De postre mejor una fruta, por ejemplo naranja\n"
     ]
    }
   ],
   "source": [
    "def postre(fruta = \"naranja\"):\n",
    "    return \"De postre mejor una fruta, por ejemplo \" + fruta\n",
    "\n",
    "print(postre('manzana'))\n",
    "print(postre())                #si no se especifica un argumento se toma el valor por defecto"
   ]
  },
  {
   "cell_type": "markdown",
   "metadata": {},
   "source": [
    "## Función con dos return\n",
    "Cuando una función no lleva return el compilador añade al final un ```return True```.  \n",
    "\n",
    "Si en una función hay dos returns solo se ejecuta el primero ya que finaliza la función."
   ]
  },
  {
   "cell_type": "code",
   "execution_count": 3,
   "metadata": {},
   "outputs": [
    {
     "name": "stdout",
     "output_type": "stream",
     "text": [
      "Este verano viajaré hacia el Sur\n"
     ]
    }
   ],
   "source": [
    "import random\n",
    "\n",
    "def destino(numero):\n",
    "    if numero==1:\n",
    "        return 'Norte'\n",
    "    if numero==2:\n",
    "        return 'Sur'\n",
    "\n",
    "aleatorio = random.randint(1,2)\n",
    "punto_cardinal = destino(aleatorio)\n",
    "print(\"Este verano viajaré hacia el\", punto_cardinal)"
   ]
  },
  {
   "cell_type": "markdown",
   "metadata": {},
   "source": [
    "## Nº argumentos = Nº parámetros\n",
    "Cuando esto no sucede se produce un error."
   ]
  },
  {
   "cell_type": "code",
   "execution_count": 5,
   "metadata": {},
   "outputs": [],
   "source": [
    "def suma(a,b):\n",
    "    return a+b\n",
    "\n",
    "#suma(10)                         # error"
   ]
  },
  {
   "cell_type": "markdown",
   "metadata": {},
   "source": [
    "Una posible solución es establecer unos valores por defecto de tipo ```None``` y luego con un ```if``` controlar el error."
   ]
  },
  {
   "cell_type": "code",
   "execution_count": 7,
   "metadata": {},
   "outputs": [
    {
     "data": {
      "text/plain": [
       "'Error: se han de pasar dos argumentos'"
      ]
     },
     "execution_count": 7,
     "metadata": {},
     "output_type": "execute_result"
    }
   ],
   "source": [
    "def suma(a=None,b=None):\n",
    "    if a==None or b==None: return \"Error: se han de pasar dos argumentos\"\n",
    "    else: return a+b              # sin el else también funciona\n",
    "\n",
    "suma()"
   ]
  },
  {
   "cell_type": "code",
   "execution_count": 9,
   "metadata": {},
   "outputs": [
    {
     "data": {
      "text/plain": [
       "'Error: se han de pasar dos argumentos'"
      ]
     },
     "execution_count": 9,
     "metadata": {},
     "output_type": "execute_result"
    }
   ],
   "source": [
    "suma(10)"
   ]
  },
  {
   "cell_type": "code",
   "execution_count": 10,
   "metadata": {},
   "outputs": [
    {
     "data": {
      "text/plain": [
       "15"
      ]
     },
     "execution_count": 10,
     "metadata": {},
     "output_type": "execute_result"
    }
   ],
   "source": [
    "suma(10,5)"
   ]
  }
 ],
 "metadata": {
  "kernelspec": {
   "display_name": "Python 3",
   "language": "python",
   "name": "python3"
  },
  "language_info": {
   "codemirror_mode": {
    "name": "ipython",
    "version": 3
   },
   "file_extension": ".py",
   "mimetype": "text/x-python",
   "name": "python",
   "nbconvert_exporter": "python",
   "pygments_lexer": "ipython3",
   "version": "3.8.5"
  }
 },
 "nbformat": 4,
 "nbformat_minor": 5
}
