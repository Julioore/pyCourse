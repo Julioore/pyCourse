{
 "cells": [
  {
   "cell_type": "markdown",
   "id": "45e07274",
   "metadata": {},
   "source": [
    "# Funciones. Pasar un iterable como argumento"
   ]
  },
  {
   "cell_type": "code",
   "execution_count": null,
   "id": "b51835b3",
   "metadata": {},
   "outputs": [],
   "source": [
    "def listado(metales):                  #La función recibe una lista\n",
    "    for metal in metales:\n",
    "        print(metal)\n",
    "mi_lista=[\"Titanio\",\"Platino\",\"Oro\"]\n",
    "listado(mi_lista)"
   ]
  },
  {
   "cell_type": "code",
   "execution_count": null,
   "id": "39988fc8",
   "metadata": {},
   "outputs": [],
   "source": [
    "def enumera(iterable):                 #La función recibe un rango\n",
    "    for i in iterable:\n",
    "        print(i)\n",
    "enumera(range(5))"
   ]
  },
  {
   "cell_type": "code",
   "execution_count": null,
   "id": "7c41c91b",
   "metadata": {},
   "outputs": [],
   "source": [
    "def muestra(conjunto):                 #La función recibe un conjunto\n",
    "    for elemento in conjunto:\n",
    "        print(elemento)\n",
    "estaciones=set(('primavera','verano','otoño','invierno'))   #Creamos un conjunto con set()\n",
    "muestra(estaciones)                                         #No guarda ningún orden"
   ]
  },
  {
   "cell_type": "code",
   "execution_count": null,
   "id": "a80ae4e7",
   "metadata": {},
   "outputs": [],
   "source": [
    "def recorrer(texto):                    #La función recibe un string\n",
    "    for caracter in texto:\n",
    "        print(caracter, end='')\n",
    "recorrer(\"Hello World\")"
   ]
  },
  {
   "cell_type": "code",
   "execution_count": null,
   "id": "8c6ffea5",
   "metadata": {},
   "outputs": [],
   "source": [
    "def recorrer2(texto):\n",
    "    for i in range(len(texto)):         #recorremos las posiciones del string hasta su longitud\n",
    "        print(texto[i], end='')\n",
    "recorrer2(\"Hola Mundo\")"
   ]
  },
  {
   "cell_type": "code",
   "execution_count": null,
   "id": "5ff8df4c",
   "metadata": {},
   "outputs": [],
   "source": [
    "def recorrer3(texto):\n",
    "    for i in range(len(texto)):\n",
    "        print(texto[i:i+1], end='')     #slicing. Método de corte\n",
    "recorrer3(\"Buenos días\")"
   ]
  }
 ],
 "metadata": {
  "kernelspec": {
   "display_name": "Python 3",
   "language": "python",
   "name": "python3"
  },
  "language_info": {
   "codemirror_mode": {
    "name": "ipython",
    "version": 3
   },
   "file_extension": ".py",
   "mimetype": "text/x-python",
   "name": "python",
   "nbconvert_exporter": "python",
   "pygments_lexer": "ipython3",
   "version": "3.8.8"
  }
 },
 "nbformat": 4,
 "nbformat_minor": 5
}
