{
 "cells": [
  {
   "cell_type": "markdown",
   "metadata": {},
   "source": [
    "# Funciones sencillas"
   ]
  },
  {
   "cell_type": "markdown",
   "metadata": {},
   "source": [
    "## Ejemplo 1. Tabla de multiplicar\n",
    "Pasamos un número como argumento y la función nos muestra la tabla de multiplicar de ese múmero."
   ]
  },
  {
   "cell_type": "code",
   "execution_count": null,
   "metadata": {},
   "outputs": [],
   "source": [
    "def multiplica(n):                          # función sin return\n",
    "    for i in range(11):\n",
    "        print(f\"{n} × {i:2} = {n*i:2}\")\n",
    "    \n",
    "multiplica(5)"
   ]
  },
  {
   "cell_type": "markdown",
   "metadata": {},
   "source": [
    "## Ejemplo 2. Área de un rectángulo\n",
    "Calcular el área de un rectángulo dada la base y la altura."
   ]
  },
  {
   "cell_type": "code",
   "execution_count": null,
   "metadata": {},
   "outputs": [],
   "source": [
    "def area(a,b):\n",
    "    return a*b\n",
    "\n",
    "base = 10\n",
    "altura = 5\n",
    "print(f\"El área de un rectángulo de base {base} y de altura {altura} es {area(base,altura)}.\")\n",
    "area(3,4)     # para calcular rápidamente el resultado de una función pasandole los argumentos"
   ]
  },
  {
   "cell_type": "markdown",
   "metadata": {},
   "source": [
    "## Ejemplo 3. Área de un cilindro\n",
    "Es igual al área del círculo multiplicado por la altura.  \n",
    "El área del círculo es pi por el radio al cuadrado."
   ]
  },
  {
   "cell_type": "code",
   "execution_count": null,
   "metadata": {},
   "outputs": [],
   "source": [
    "import math\n",
    "def area_cilindro(radio,altura):\n",
    "    return (math.pi)*(radio**2)*altura     # sobran estos paréntesis\n",
    "\n",
    "area_cilindro(radio=2,altura=10)"
   ]
  },
  {
   "cell_type": "markdown",
   "metadata": {},
   "source": [
    "## Ejemplo 4. Límites de un intervalo\n",
    "Como datos se proporcionan los siguientes:\n",
    "- un número\n",
    "- el límite inferior (min) y\n",
    "- el límite superior del intervalo (max).  \n",
    "\n",
    "Se pueden dar tres casos:\n",
    "- Si el número es menor que el mínimo dará el mínimo\n",
    "- Si el número está entre el mínimo y el máximo dará el número\n",
    "- Si el número es mayor que el máximo dará el máximo  \n",
    "De esta forma conseguiremos que cualquier número quede en el intervalo entre el mínimo y el máximo  \n",
    "[min, max]\n"
   ]
  },
  {
   "cell_type": "code",
   "execution_count": 36,
   "metadata": {},
   "outputs": [
    {
     "data": {
      "text/plain": [
       "20"
      ]
     },
     "execution_count": 36,
     "metadata": {},
     "output_type": "execute_result"
    }
   ],
   "source": [
    "def intervalo(n,min,max):\n",
    "    if n < min: return min\n",
    "    elif n > max: return max\n",
    "    else: return n                      # si no ponemos el else también funciona bien\n",
    "\n",
    "numero = 24\n",
    "min = 10\n",
    "max = 20\n",
    "intervalo(numero,min,max)"
   ]
  },
  {
   "cell_type": "markdown",
   "metadata": {},
   "source": [
    "## Ejemplo 5. Piedra, papel, tijeras\n",
    "Programar la lógica del juego solo para una tirada de los jugadores A y B.  \n",
    "El jugador A elige la opción a, el jugador B elige la opción b."
   ]
  },
  {
   "cell_type": "code",
   "execution_count": 25,
   "metadata": {},
   "outputs": [
    {
     "data": {
      "text/plain": [
       "'gana B'"
      ]
     },
     "execution_count": 25,
     "metadata": {},
     "output_type": "execute_result"
    }
   ],
   "source": [
    "def juega(a,b):\n",
    "    a=a.lower()\n",
    "    b=b.lower()\n",
    "    opciones=['piedra','papel','tijeras']\n",
    "    if a not in opciones or b not in opciones: return f\"Las opciones permitidas son {opciones}\"\n",
    "    if a==b: return 'Empate'\n",
    "    elif (a=='papel' and b=='piedra') or \\\n",
    "         (a=='piedra' and b=='tijeras') or \\\n",
    "         (a=='tijeras' and b=='papel'): return \"gana A\"\n",
    "    else: return \"gana B\"\n",
    "    \n",
    "a = \"Piedra\"\n",
    "b = \"Papel\"\n",
    "juega(a,b)"
   ]
  },
  {
   "cell_type": "markdown",
   "metadata": {},
   "source": [
    "## Ejemplo 6. Media aritmética\n",
    "Dada una lista de precios calcular la media."
   ]
  },
  {
   "cell_type": "code",
   "execution_count": 29,
   "metadata": {},
   "outputs": [
    {
     "data": {
      "text/plain": [
       "96.88"
      ]
     },
     "execution_count": 29,
     "metadata": {},
     "output_type": "execute_result"
    }
   ],
   "source": [
    "def media(precios):\n",
    "    suma=0\n",
    "    for precio in precios:\n",
    "        suma += precio\n",
    "    return round(suma/len(precios),2)    # redondeo a dos decimales\n",
    "\n",
    "precios=[89,92,96,98,101,95,102,102]\n",
    "media(precios)"
   ]
  },
  {
   "cell_type": "code",
   "execution_count": 32,
   "metadata": {},
   "outputs": [
    {
     "data": {
      "text/plain": [
       "96.875"
      ]
     },
     "execution_count": 32,
     "metadata": {},
     "output_type": "execute_result"
    }
   ],
   "source": [
    "from statistics import mean              # comprobación usando mean\n",
    "mean(precios)"
   ]
  },
  {
   "cell_type": "code",
   "execution_count": 33,
   "metadata": {},
   "outputs": [
    {
     "data": {
      "text/plain": [
       "96.875"
      ]
     },
     "execution_count": 33,
     "metadata": {},
     "output_type": "execute_result"
    }
   ],
   "source": [
    "sum(precios)/len(precios)                # comprobación sumando la lista y dividiendo entre su longitud"
   ]
  },
  {
   "cell_type": "markdown",
   "metadata": {},
   "source": [
    "## Ejemplo 7. Divisores de un número\n",
    "Dado un número sus divisores son todos aquellos números enteros menores que él que cumplan que la división es exacta.  \n",
    "El 1 es divisor de todos los números, por eso no le incluimos en la lista."
   ]
  },
  {
   "cell_type": "code",
   "execution_count": 41,
   "metadata": {},
   "outputs": [
    {
     "data": {
      "text/plain": [
       "[2, 3, 4, 5, 6, 8, 10, 12, 15, 20, 24, 30, 40, 60]"
      ]
     },
     "execution_count": 41,
     "metadata": {},
     "output_type": "execute_result"
    }
   ],
   "source": [
    "def divisores(n):\n",
    "    lista=[]\n",
    "    for i in range(2,n):\n",
    "        if n%i==0:\n",
    "            lista.append(i)\n",
    "    if len(lista)==0: return \"Es primo\"\n",
    "    else: return lista\n",
    "    \n",
    "numero = 120\n",
    "divisores(numero)"
   ]
  },
  {
   "cell_type": "markdown",
   "metadata": {},
   "source": [
    "## Ejemplo 8. Pares e impares\n",
    "Generar una lista con 12 números aleatorios entre 10 y 30, ambos incluidos, sin repetición y separarla en una lista de pares y otra de impares, ordenados."
   ]
  },
  {
   "cell_type": "code",
   "execution_count": 66,
   "metadata": {},
   "outputs": [
    {
     "name": "stdout",
     "output_type": "stream",
     "text": [
      "[18, 27, 16, 30, 25, 11, 12, 10, 17, 20]\n",
      "[10, 12, 16, 18, 20, 30]\n",
      "[11, 17, 25, 27]\n"
     ]
    }
   ],
   "source": [
    "from random import sample\n",
    "l=sample(range(10,31), 12)\n",
    "print(l)\n",
    "\n",
    "def separa(l):\n",
    "    l.sort()\n",
    "    pares=[]\n",
    "    impares=[]\n",
    "    for n in l:\n",
    "        if n%2: impares.append(n)         # la condición no es una igualdad ya que si da 1 se entiende que es True\n",
    "        else: pares.append(n)\n",
    "    return pares,impares\n",
    "    \n",
    "pares,impares = separa(l)                 # recogenmos la tupla de listas que devuelve el return\n",
    "print(pares)\n",
    "print(impares)"
   ]
  }
 ],
 "metadata": {
  "kernelspec": {
   "display_name": "Python 3",
   "language": "python",
   "name": "python3"
  },
  "language_info": {
   "codemirror_mode": {
    "name": "ipython",
    "version": 3
   },
   "file_extension": ".py",
   "mimetype": "text/x-python",
   "name": "python",
   "nbconvert_exporter": "python",
   "pygments_lexer": "ipython3",
   "version": "3.8.5"
  }
 },
 "nbformat": 4,
 "nbformat_minor": 4
}
