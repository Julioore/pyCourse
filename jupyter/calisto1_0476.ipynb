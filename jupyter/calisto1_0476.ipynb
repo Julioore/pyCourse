{
 "cells": [
  {
   "cell_type": "markdown",
   "metadata": {},
   "source": [
    "# Funciones sencillas"
   ]
  },
  {
   "cell_type": "markdown",
   "metadata": {},
   "source": [
    "## Ejemplo1. Tabla de multiplicar\n",
    "Pasamos un número como argumento y la función nos muestra la tabla de multiplicar de ese múmero."
   ]
  },
  {
   "cell_type": "code",
   "execution_count": 8,
   "metadata": {},
   "outputs": [
    {
     "name": "stdout",
     "output_type": "stream",
     "text": [
      "5 ×  0 =  0\n",
      "5 ×  1 =  5\n",
      "5 ×  2 = 10\n",
      "5 ×  3 = 15\n",
      "5 ×  4 = 20\n",
      "5 ×  5 = 25\n",
      "5 ×  6 = 30\n",
      "5 ×  7 = 35\n",
      "5 ×  8 = 40\n",
      "5 ×  9 = 45\n",
      "5 × 10 = 50\n"
     ]
    }
   ],
   "source": [
    "def multiplica(n):\n",
    "    for i in range(11):\n",
    "        print(f\"{n} × {i:2} = {n*i:2}\")\n",
    "    \n",
    "multiplica(5)"
   ]
  },
  {
   "cell_type": "code",
   "execution_count": null,
   "metadata": {},
   "outputs": [],
   "source": []
  }
 ],
 "metadata": {
  "kernelspec": {
   "display_name": "Python 3",
   "language": "python",
   "name": "python3"
  },
  "language_info": {
   "codemirror_mode": {
    "name": "ipython",
    "version": 3
   },
   "file_extension": ".py",
   "mimetype": "text/x-python",
   "name": "python",
   "nbconvert_exporter": "python",
   "pygments_lexer": "ipython3",
   "version": "3.8.5"
  }
 },
 "nbformat": 4,
 "nbformat_minor": 4
}
