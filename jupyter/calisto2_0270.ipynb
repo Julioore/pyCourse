{
 "cells": [
  {
   "cell_type": "markdown",
   "metadata": {},
   "source": [
    "# @classmethod  @staticmethod\n",
    "Hay tres tipos de métodos:\n",
    "* Métodos estáticos\n",
    "* Métodos de clase\n",
    "* Métodos de instnacia\n",
    "\n",
    "## Métodos de clase\n",
    "Se antepone la palabra reservada **@classmethod**  \n",
    "Este método puede ser llamado sin crear una instancia de clase (al método estático le pasa lo mismo).  \n",
    "Estos métodos no tienen acceso a los atributos de instancia ya que ninguna instancia fue creada para poder utilizarlo."
   ]
  },
  {
   "cell_type": "code",
   "execution_count": 3,
   "metadata": {},
   "outputs": [
    {
     "name": "stdout",
     "output_type": "stream",
     "text": [
      "Ingredientes del pastel (['harina', 'leche', 'chocolate'])\n"
     ]
    }
   ],
   "source": [
    "class Pastel:\n",
    "    def __init__(self, ingredientes):\n",
    "        self.ingredientes = ingredientes\n",
    "    def __repr__(self):\n",
    "        return f'Ingredientes del pastel ({self.ingredientes !r})'\n",
    "    @classmethod\n",
    "    def Pastel_chocolate(cls):\n",
    "        return cls(['harina','leche','chocolate'])\n",
    "    @classmethod\n",
    "    def Pastel_vainilla(cls):\n",
    "        return cls(['harina','leche','vainilla'])\n",
    "    \n",
    "print(Pastel.Pastel_chocolate())"
   ]
  },
  {
   "cell_type": "markdown",
   "metadata": {},
   "source": [
    "## Métodos estáticos\n",
    "* Se antepone la palabra reservada **@staticmethod**\n",
    "* Pueden ser llamados sin tener una instancia de la clase\n",
    "* No tienen acceso al exterior, no tienen acceso a ningún otro atributo ni método"
   ]
  },
  {
   "cell_type": "code",
   "execution_count": 9,
   "metadata": {},
   "outputs": [
    {
     "name": "stdout",
     "output_type": "stream",
     "text": [
      "['harina', 'huevos', 'leche', 'azucar']\n",
      "20\n",
      "314.1592653589793\n"
     ]
    }
   ],
   "source": [
    "import math\n",
    "class Pastel:\n",
    "    def __init__(self, ingredientes, tamaño):\n",
    "        self.ingredientes = ingredientes\n",
    "        self.tamaño = tamaño\n",
    "    def __repr__(self):\n",
    "        return (f'Ingredientes ({self.ingredientes}, 'f'Tamaño {self.tamaño})')\n",
    "    def area(self):\n",
    "        return self.tamaño_area(self.tamaño)\n",
    "    @staticmethod\n",
    "    def tamaño_area(A):\n",
    "        return math.pi*A**2\n",
    "    \n",
    "mi_pastel = Pastel(['harina','huevos','leche','azucar'],20)\n",
    "print(mi_pastel.ingredientes)\n",
    "print(mi_pastel.tamaño)\n",
    "print(mi_pastel.tamaño_area(10))"
   ]
  },
  {
   "cell_type": "code",
   "execution_count": null,
   "metadata": {},
   "outputs": [],
   "source": []
  }
 ],
 "metadata": {
  "kernelspec": {
   "display_name": "Python 3",
   "language": "python",
   "name": "python3"
  },
  "language_info": {
   "codemirror_mode": {
    "name": "ipython",
    "version": 3
   },
   "file_extension": ".py",
   "mimetype": "text/x-python",
   "name": "python",
   "nbconvert_exporter": "python",
   "pygments_lexer": "ipython3",
   "version": "3.8.5"
  }
 },
 "nbformat": 4,
 "nbformat_minor": 4
}
