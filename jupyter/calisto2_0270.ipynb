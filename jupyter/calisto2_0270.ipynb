{
 "cells": [
  {
   "cell_type": "markdown",
   "metadata": {},
   "source": [
    "# @classmethod  @staticmethod\n",
    "Hay tres tipos de métodos:\n",
    "* Métodos estáticos\n",
    "* Métodos de clase\n",
    "* Métodos de instnacia\n",
    "\n",
    "## Métodos de clase\n",
    "* Se antepone la palabra reservada **@classmethod**  \n",
    "* Este método puede ser llamado sin crear una instancia de clase (al método estático le pasa lo mismo).  \n",
    "* Estos métodos no tienen acceso a los atributos de instancia ya que ninguna instancia fue creada para poder utilizarlo.\n",
    "* @classmethod recibe la clase como primer argumento, se suele llamar cls por convención\n",
    "* Cuando se llama a este método, se pasa la clase como primer argumento en lugar de la instancia de esa clase (como hacemos normalmente con métodos).\n",
    "* Esto supone que puede utilizar la clase y sus propiedades dentro de ese método sin tener que crear una instancia "
   ]
  },
  {
   "cell_type": "code",
   "execution_count": null,
   "metadata": {},
   "outputs": [],
   "source": [
    "class Pastel:\n",
    "    def __init__(self, ingredientes):\n",
    "        self.ingredientes = ingredientes\n",
    "    def __repr__(self):\n",
    "        return f'Ingredientes del pastel ({self.ingredientes !r})'\n",
    "    @classmethod\n",
    "    def Pastel_chocolate(cls):\n",
    "        return cls(['harina','leche','chocolate'])\n",
    "    @classmethod\n",
    "    def Pastel_vainilla(cls):\n",
    "        return cls(['harina','leche','vainilla'])\n",
    "    \n",
    "print(Pastel.Pastel_chocolate())"
   ]
  },
  {
   "cell_type": "markdown",
   "metadata": {},
   "source": [
    "### Pizza"
   ]
  },
  {
   "cell_type": "code",
   "execution_count": 5,
   "metadata": {},
   "outputs": [
    {
     "name": "stdout",
     "output_type": "stream",
     "text": [
      "3.8.8\n"
     ]
    }
   ],
   "source": [
    "from platform import python_version\n",
    "print(python_version())"
   ]
  },
  {
   "cell_type": "code",
   "execution_count": null,
   "metadata": {},
   "outputs": [],
   "source": [
    "conda install enum      # posiblemente se necesite instalar la librearía enum"
   ]
  },
  {
   "cell_type": "code",
   "execution_count": 1,
   "metadata": {},
   "outputs": [
    {
     "ename": "TypeError",
     "evalue": "__call__() takes from 2 to 3 positional arguments but 4 were given",
     "output_type": "error",
     "traceback": [
      "\u001b[0;31m---------------------------------------------------------------------------\u001b[0m",
      "\u001b[0;31mTypeError\u001b[0m                                 Traceback (most recent call last)",
      "\u001b[0;32m<ipython-input-1-a712b10578bb>\u001b[0m in \u001b[0;36m<module>\u001b[0;34m\u001b[0m\n\u001b[1;32m      1\u001b[0m \u001b[0;32mfrom\u001b[0m \u001b[0menum\u001b[0m \u001b[0;32mimport\u001b[0m \u001b[0mEnum\u001b[0m\u001b[0;34m\u001b[0m\u001b[0;34m\u001b[0m\u001b[0m\n\u001b[0;32m----> 2\u001b[0;31m \u001b[0mColours\u001b[0m \u001b[0;34m=\u001b[0m \u001b[0mEnum\u001b[0m\u001b[0;34m(\u001b[0m\u001b[0;34m'red'\u001b[0m\u001b[0;34m,\u001b[0m \u001b[0;34m'blue'\u001b[0m\u001b[0;34m,\u001b[0m \u001b[0;34m'green'\u001b[0m\u001b[0;34m)\u001b[0m\u001b[0;34m\u001b[0m\u001b[0;34m\u001b[0m\u001b[0m\n\u001b[0m\u001b[1;32m      3\u001b[0m \u001b[0mWeekdays\u001b[0m \u001b[0;34m=\u001b[0m \u001b[0mEnum\u001b[0m\u001b[0;34m(\u001b[0m\u001b[0;34m'mon'\u001b[0m\u001b[0;34m,\u001b[0m \u001b[0;34m'tue'\u001b[0m\u001b[0;34m,\u001b[0m \u001b[0;34m'wed'\u001b[0m\u001b[0;34m,\u001b[0m \u001b[0;34m'thu'\u001b[0m\u001b[0;34m,\u001b[0m \u001b[0;34m'fri'\u001b[0m\u001b[0;34m,\u001b[0m \u001b[0;34m'sat'\u001b[0m\u001b[0;34m,\u001b[0m \u001b[0;34m'sun'\u001b[0m\u001b[0;34m)\u001b[0m\u001b[0;34m\u001b[0m\u001b[0;34m\u001b[0m\u001b[0m\n",
      "\u001b[0;31mTypeError\u001b[0m: __call__() takes from 2 to 3 positional arguments but 4 were given"
     ]
    }
   ],
   "source": [
    "from enum import Enum\n",
    "Colours = Enum('red', 'blue', 'green')\n",
    "Weekdays = Enum('mon', 'tue', 'wed', 'thu', 'fri', 'sat', 'sun')"
   ]
  },
  {
   "cell_type": "code",
   "execution_count": null,
   "metadata": {},
   "outputs": [],
   "source": [
    "from enum import Enum\n",
    "\n",
    "class Tamano(Enum):  # Una enumeracion es simplemente ponerle nombre a numeros\n",
    "    normal = 1\n",
    "    familiar = 2\n",
    "    xl = 3\n",
    "\n",
    "class Pizza:\n",
    "    def __init__(self, precio, tamano, ingredientes):\n",
    "        self.precio = precio\n",
    "        self.tamano = tamano\n",
    "        self.ingredientes = ingredientes\n",
    "        \n",
    "    def __str__(self):\n",
    "        return(f\"Pizza: \\\n",
    "              \\n{self.precio} \\\n",
    "              \\n{self.tamano} \\\n",
    "              \\n{self.ingredientes}\")\n",
    "\n",
    "    @classmethod\n",
    "    def napolitana(cls, tamano):\n",
    "        precio_napolitana = 8990 #* tamano\n",
    "        ingredientes = ['Queso', 'Oregano', 'Tomate']\n",
    "        # Instanciamos 'cls' que es la clase Pizza\n",
    "        return cls(precio_napolitana, tamano, ingredientes)\n",
    "\n",
    "\n",
    "# Puedo crear pizzas 'a mano':\n",
    "hawaiana = Pizza(9990, Tamano.normal, ['Tomate', 'Jamon', 'Pina'])\n",
    "\n",
    "print(hawaiana)                      # vemos sus características con __str__"
   ]
  },
  {
   "cell_type": "code",
   "execution_count": null,
   "metadata": {},
   "outputs": [],
   "source": [
    "# Creamos una pizza con nuestro metodo de clase\n",
    "napolitana = Pizza.napolitana(Tamano.familiar)\n",
    "print(napolitana)                      # vemos sus características con __str__"
   ]
  },
  {
   "cell_type": "markdown",
   "metadata": {},
   "source": [
    "## Métodos estáticos\n",
    "* Se antepone la palabra reservada **@staticmethod**\n",
    "* Pueden ser llamados sin tener una instancia de la clase\n",
    "* No tienen acceso al exterior, no tienen acceso a ningún otro atributo ni método"
   ]
  },
  {
   "cell_type": "code",
   "execution_count": null,
   "metadata": {},
   "outputs": [],
   "source": [
    "import math\n",
    "class Pastel:\n",
    "    def __init__(self, ingredientes, tamaño):\n",
    "        self.ingredientes = ingredientes\n",
    "        self.tamaño = tamaño\n",
    "    def __repr__(self):\n",
    "        return (f'Ingredientes ({self.ingredientes}, 'f'Tamaño {self.tamaño})')\n",
    "    def area(self):\n",
    "        return self.tamaño_area(self.tamaño)\n",
    "    @staticmethod\n",
    "    def tamaño_area(A):\n",
    "        return math.pi*A**2\n",
    "    \n",
    "mi_pastel = Pastel(['harina','huevos','leche','azucar'],20)\n",
    "print(mi_pastel.ingredientes)\n",
    "print(mi_pastel.tamaño)\n",
    "print(mi_pastel.tamaño_area(10))"
   ]
  },
  {
   "cell_type": "code",
   "execution_count": null,
   "metadata": {},
   "outputs": [],
   "source": []
  }
 ],
 "metadata": {
  "kernelspec": {
   "display_name": "Python 3",
   "language": "python",
   "name": "python3"
  },
  "language_info": {
   "codemirror_mode": {
    "name": "ipython",
    "version": 3
   },
   "file_extension": ".py",
   "mimetype": "text/x-python",
   "name": "python",
   "nbconvert_exporter": "python",
   "pygments_lexer": "ipython3",
   "version": "3.8.8"
  }
 },
 "nbformat": 4,
 "nbformat_minor": 4
}
