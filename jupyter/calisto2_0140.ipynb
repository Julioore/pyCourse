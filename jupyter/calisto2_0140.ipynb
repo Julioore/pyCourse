{
 "cells": [
  {
   "cell_type": "markdown",
   "id": "7af3ca53",
   "metadata": {},
   "source": [
    "# Property Decorator"
   ]
  },
  {
   "cell_type": "code",
   "execution_count": null,
   "id": "191734f3",
   "metadata": {},
   "outputs": [],
   "source": [
    "class Empleado:\n",
    "    def __init__(self, nombre, dni):\n",
    "        self.nombre = nombre\n",
    "        self.__dni = dni\n",
    "        \n",
    "    def get_dni(self):                  # Getter estilo JAVA\n",
    "        return self.__dni"
   ]
  },
  {
   "cell_type": "code",
   "execution_count": null,
   "id": "91699c13",
   "metadata": {},
   "outputs": [],
   "source": [
    "e = Empleado(\"Andrés\", \"52123123M\")\n",
    "print(e.nombre)"
   ]
  },
  {
   "cell_type": "code",
   "execution_count": null,
   "id": "5a67931b",
   "metadata": {},
   "outputs": [],
   "source": [
    "#print(e.dni)             # AttributeError: 'Empleado' object has no attribute 'dni'           "
   ]
  },
  {
   "cell_type": "code",
   "execution_count": null,
   "id": "f2ebef87",
   "metadata": {},
   "outputs": [],
   "source": [
    "e.get_dni()               # gracias al Getter podemos obtener el dni desde fuera"
   ]
  },
  {
   "cell_type": "markdown",
   "id": "2c3d99d8",
   "metadata": {},
   "source": [
    "## Creando un Getter con @property\n",
    "Así crearemos una propiedad (property)."
   ]
  },
  {
   "cell_type": "code",
   "execution_count": null,
   "id": "8f427e98",
   "metadata": {},
   "outputs": [],
   "source": [
    "class Empleado:\n",
    "    def __init__(self, nombre, dni):\n",
    "        self.nombre = nombre\n",
    "        self.__dni = dni\n",
    "    \n",
    "    @property                      # el decorador @property hace el mimso trabago que el Getter anterior\n",
    "    def id(self):                  # a la propiedad la hemos llamado id\n",
    "        return self.__dni          # retorna lo mismo que el Getter anterior"
   ]
  },
  {
   "cell_type": "code",
   "execution_count": null,
   "id": "3848b4c0",
   "metadata": {},
   "outputs": [],
   "source": [
    "e = Empleado(\"Andrés\", \"52123123M\")\n",
    "print(e.nombre)\n",
    "print(e.id)                        # ahora podemos pedir la propiedad id del empleado. No lleva paréntesis"
   ]
  },
  {
   "cell_type": "markdown",
   "id": "c9430853",
   "metadata": {},
   "source": [
    "El decorador @property convierte la función id en una propiedad, por eso no es necesario que pongamos parétesis como en los métodos.\n",
    "\n",
    "Al usar el decorador @property no es posible modificar la propiedad desde fuera de la clase."
   ]
  },
  {
   "cell_type": "code",
   "execution_count": null,
   "id": "f880411a",
   "metadata": {},
   "outputs": [],
   "source": [
    "#e.id = \"04789789K\"               # AttributeError: can't set attribute"
   ]
  },
  {
   "cell_type": "markdown",
   "id": "7dd4bbb9",
   "metadata": {},
   "source": [
    "## Creando un Setter con un decorador\n",
    "Así crearemos un Setter con un decorador (property)."
   ]
  },
  {
   "cell_type": "markdown",
   "id": "e0a4317f",
   "metadata": {},
   "source": [
    "Para conseguir modificarlo necesitaremos otra property que es un Setter."
   ]
  },
  {
   "cell_type": "code",
   "execution_count": null,
   "id": "3ddd5872",
   "metadata": {},
   "outputs": [],
   "source": [
    "class Empleado:\n",
    "    def __init__(self, nombre, dni):\n",
    "        self.nombre = nombre\n",
    "        self.__dni = dni\n",
    "    \n",
    "    @property\n",
    "    def id(self):\n",
    "        return self.__dni\n",
    "    \n",
    "    @id.setter                       # creación de Setter con un decorador\n",
    "    def id(self, value):\n",
    "        self.__dni = value"
   ]
  },
  {
   "cell_type": "code",
   "execution_count": null,
   "id": "66b2e910",
   "metadata": {},
   "outputs": [],
   "source": [
    "e = Empleado(\"Andrés\", \"52123123M\")\n",
    "print(e.id)\n",
    "e.id = \"04789789K\"                   # ahora si podemos modificar el dni\n",
    "print(e.id)                          # comprobamos que el dni se ha modificado"
   ]
  }
 ],
 "metadata": {
  "kernelspec": {
   "display_name": "Python 3",
   "language": "python",
   "name": "python3"
  },
  "language_info": {
   "codemirror_mode": {
    "name": "ipython",
    "version": 3
   },
   "file_extension": ".py",
   "mimetype": "text/x-python",
   "name": "python",
   "nbconvert_exporter": "python",
   "pygments_lexer": "ipython3",
   "version": "3.8.8"
  }
 },
 "nbformat": 4,
 "nbformat_minor": 5
}
