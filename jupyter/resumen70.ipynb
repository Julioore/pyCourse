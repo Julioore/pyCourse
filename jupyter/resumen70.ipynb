{
  "nbformat": 4,
  "nbformat_minor": 0,
  "metadata": {
    "colab": {
      "name": "resumen70.ipynb",
      "provenance": [],
      "authorship_tag": "ABX9TyNdWbA0zGez1F3AyJgCCXHd",
      "include_colab_link": true
    },
    "kernelspec": {
      "name": "python3",
      "display_name": "Python 3"
    },
    "language_info": {
      "name": "python"
    }
  },
  "cells": [
    {
      "cell_type": "markdown",
      "metadata": {
        "id": "view-in-github",
        "colab_type": "text"
      },
      "source": [
        "<a href=\"https://colab.research.google.com/github/financieras/pyCourse/blob/main/jupyter/resumen70.ipynb\" target=\"_parent\"><img src=\"https://colab.research.google.com/assets/colab-badge.svg\" alt=\"Open In Colab\"/></a>"
      ]
    },
    {
      "cell_type": "markdown",
      "source": [
        "# Funciones"
      ],
      "metadata": {
        "id": "Xkuhezv0qtuw"
      }
    },
    {
      "cell_type": "markdown",
      "source": [
        "## Funciones internas de Python"
      ],
      "metadata": {
        "id": "MMs1RlIHzopJ"
      }
    },
    {
      "cell_type": "markdown",
      "source": [
        "`len`"
      ],
      "metadata": {
        "id": "ceimhKfTzwll"
      }
    },
    {
      "cell_type": "code",
      "source": [
        "semana = ['lun', 'mar', 'mie', 'jue', 'vie', 'sab', 'dom']\n",
        "print(semana)\n",
        "len(semana)"
      ],
      "metadata": {
        "id": "A5wA9xWlzkbC",
        "outputId": "cf547a67-7db4-45f3-bb86-27c77d4f54c7",
        "colab": {
          "base_uri": "https://localhost:8080/"
        }
      },
      "execution_count": 5,
      "outputs": [
        {
          "output_type": "stream",
          "name": "stdout",
          "text": [
            "['lun', 'mar', 'mie', 'jue', 'vie', 'sab', 'dom']\n"
          ]
        },
        {
          "output_type": "execute_result",
          "data": {
            "text/plain": [
              "7"
            ]
          },
          "metadata": {},
          "execution_count": 5
        }
      ]
    },
    {
      "cell_type": "markdown",
      "source": [
        "`sort`, `max` y `min`"
      ],
      "metadata": {
        "id": "A-LHj2xa0Rsq"
      }
    },
    {
      "cell_type": "code",
      "source": [
        "import random\n",
        "lista = list(range(10,100))          # lista entre 10 y 99\n",
        "seleccion = random.sample(lista,5)   # se eligen aleatoriamente 5 elementos, sin repetición\n",
        "seleccion.sort()                     # se ordena la lista\n",
        "print(seleccion)\n",
        "print(f'Máximo: {max(seleccion)}')\n",
        "print(f'Mínimo: {min(seleccion)}')"
      ],
      "metadata": {
        "id": "IFrnaLkz0XsF",
        "outputId": "3e16ba58-6464-4c31-8480-842d961a90d1",
        "colab": {
          "base_uri": "https://localhost:8080/"
        }
      },
      "execution_count": 26,
      "outputs": [
        {
          "output_type": "stream",
          "name": "stdout",
          "text": [
            "[29, 56, 60, 72, 87]\n",
            "Máximo: 87\n",
            "Mínimo: 29\n"
          ]
        }
      ]
    }
  ]
}