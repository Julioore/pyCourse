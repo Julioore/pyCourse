{
 "cells": [
  {
   "cell_type": "markdown",
   "id": "e9628d6d",
   "metadata": {},
   "source": [
    "# Ejemplos sin herencia"
   ]
  },
  {
   "cell_type": "markdown",
   "id": "be8fd910",
   "metadata": {},
   "source": [
    "## El constructor"
   ]
  },
  {
   "cell_type": "code",
   "execution_count": null,
   "id": "3c4303c4",
   "metadata": {},
   "outputs": [],
   "source": [
    "class Human(object):\n",
    "    def __init__(self, name):\n",
    "        self.name = name\n",
    "    def sayHi(self):\n",
    "        '''Greeting by the person.\n",
    "        Really, that's all it does.'''\n",
    "        print(f'Hi, my name is {self.name}.')\n",
    "human_j = Human(\"John\")\n",
    "human_j.sayHi()"
   ]
  },
  {
   "cell_type": "code",
   "execution_count": null,
   "id": "a14a93ce",
   "metadata": {},
   "outputs": [],
   "source": [
    "human_j.name='Jack'\n",
    "human_j.sayHi()"
   ]
  },
  {
   "cell_type": "markdown",
   "id": "924bed8d",
   "metadata": {},
   "source": [
    "## Protegiendo el acceso"
   ]
  },
  {
   "cell_type": "code",
   "execution_count": 1,
   "id": "49971721",
   "metadata": {},
   "outputs": [
    {
     "name": "stdout",
     "output_type": "stream",
     "text": [
      "Alan\n"
     ]
    }
   ],
   "source": [
    "class Human(object):\n",
    "    def __init__(self, name):\n",
    "        self.__name = name\n",
    "    def walk(self):\n",
    "        print(self.name + \" is walking\")\n",
    "    def get_name(self):\n",
    "        return self.__name\n",
    "    def set_name(self, name):\n",
    "        self.__name = name\n",
    "\n",
    "human_a = Human(\"Alan\")\n",
    "print(human_a.get_name())"
   ]
  },
  {
   "cell_type": "code",
   "execution_count": 2,
   "id": "c21af0a8",
   "metadata": {},
   "outputs": [
    {
     "name": "stdout",
     "output_type": "stream",
     "text": [
      "Alex\n"
     ]
    }
   ],
   "source": [
    "human_a.set_name(\"Alex\")\n",
    "print(human_a.get_name())"
   ]
  },
  {
   "cell_type": "code",
   "execution_count": 3,
   "id": "724fc602",
   "metadata": {},
   "outputs": [
    {
     "name": "stdout",
     "output_type": "stream",
     "text": [
      "Alex\n"
     ]
    }
   ],
   "source": [
    "human_a.name = \"Ann\"                # no da error pero no hace caso\n",
    "print(human_a.get_name())"
   ]
  },
  {
   "cell_type": "markdown",
   "id": "1d75c20b",
   "metadata": {},
   "source": [
    "## El método especial \\__del\\__"
   ]
  },
  {
   "cell_type": "code",
   "execution_count": null,
   "id": "7f002338",
   "metadata": {},
   "outputs": [],
   "source": [
    "class Robot:\n",
    "    '''Represents a robot, with a name.'''\n",
    "    #A class variable, counting the number of robots\n",
    "    population = 0\n",
    "    def __init__(self,name):\n",
    "        '''Initializes the data.'''\n",
    "        self.name = name\n",
    "        print('(Initialize {0})'.format(self.name))\n",
    "        # When this person is created, the robot \n",
    "        # adds to the population \n",
    "        Robot.population += 1\n",
    "    def __del__(self):\n",
    "        '''I am dying.'''\n",
    "        print('{0} is being destroyed!'.format(self.name))\n",
    "        Robot.population -= 1\n",
    "        if Robot.population == 0:\n",
    "            print('{0} was the last one.'.format(self.name))\n",
    "        else:\n",
    "            print('There are still {0:d} robots working.'.format(Robot.population))\n",
    "    def sayHi(self):\n",
    "        '''Greeting by the robot.\n",
    "        Yeah, they can do that.'''\n",
    "        print('Greetings, my master call me {0}.'.format(self.name))\n",
    "    def howMany():\n",
    "        '''Prints the current population.'''\n",
    "        print('We have {0:d} robots.'.format(Robot.population)) \n",
    "    howMany = staticmethod(howMany)\n",
    "    \n",
    "droid1 = Robot('R2-D2')             # Initialize R2-D2\n",
    "droid1.sayHi()                      # Greetings, my master call me R2-D2\n",
    "Robot.howMany()                     # We have 1 robot\n",
    "droid2 = Robot('C-3P0')             # Initialize C-3P0\n",
    "droid2.sayHi()                      # Greetings, my master call me C-3P0\n",
    "Robot.howMany()                     # We have 2 robots\n",
    "print(\"Robots have finished their work. So let's destroy them.\")\n",
    "del droid1\n",
    "del droid2\n",
    "Robot.howMany()"
   ]
  }
 ],
 "metadata": {
  "kernelspec": {
   "display_name": "Python 3",
   "language": "python",
   "name": "python3"
  },
  "language_info": {
   "codemirror_mode": {
    "name": "ipython",
    "version": 3
   },
   "file_extension": ".py",
   "mimetype": "text/x-python",
   "name": "python",
   "nbconvert_exporter": "python",
   "pygments_lexer": "ipython3",
   "version": "3.8.8"
  }
 },
 "nbformat": 4,
 "nbformat_minor": 5
}
