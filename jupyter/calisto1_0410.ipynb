{
 "cells": [
  {
   "cell_type": "markdown",
   "id": "cfc6edea",
   "metadata": {},
   "source": [
    "# Generación de aleatorios [2]"
   ]
  },
  {
   "cell_type": "code",
   "execution_count": 6,
   "id": "cb19a917",
   "metadata": {},
   "outputs": [],
   "source": [
    "import random\n",
    "random.seed()       #Inicializa el generador de números aleatorios.\n"
   ]
  },
  {
   "cell_type": "markdown",
   "id": "5835e058",
   "metadata": {},
   "source": [
    "### Ejercicio\n",
    "Generar y mostrar una matriz de dimensión 3 × 4 (filas × columnas) usando números aleatorios entre 10 y 99.  \n",
    "Sustituir al vuelo los valores pares por 0 y los impares por 1.  \n",
    "Mostrar la matriz resultante."
   ]
  },
  {
   "cell_type": "code",
   "execution_count": null,
   "id": "efee2ede",
   "metadata": {},
   "outputs": [],
   "source": []
  }
 ],
 "metadata": {
  "kernelspec": {
   "display_name": "Python 3",
   "language": "python",
   "name": "python3"
  },
  "language_info": {
   "codemirror_mode": {
    "name": "ipython",
    "version": 3
   },
   "file_extension": ".py",
   "mimetype": "text/x-python",
   "name": "python",
   "nbconvert_exporter": "python",
   "pygments_lexer": "ipython3",
   "version": "3.8.8"
  }
 },
 "nbformat": 4,
 "nbformat_minor": 5
}
