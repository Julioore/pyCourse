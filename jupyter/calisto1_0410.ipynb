{
 "cells": [
  {
   "cell_type": "markdown",
   "id": "c67e258a",
   "metadata": {},
   "source": [
    "# Conjuntos con estructuras\n",
    "Uso de bucles en conjuntos (```set```)"
   ]
  },
  {
   "cell_type": "markdown",
   "id": "52d8c2d4",
   "metadata": {},
   "source": [
    "Disponemos del conjunto frutas y del conjunto cítricos.  \n",
    "Deseamos un listado de todas las frutas, realizado con un *for*, indicando si pertenecen al conjunto cítricos."
   ]
  },
  {
   "cell_type": "code",
   "execution_count": null,
   "id": "b772865f",
   "metadata": {},
   "outputs": [],
   "source": [
    "frutas = {'Uva', 'Naranja', 'Melón', 'Pomelo', 'Manzana', 'Pera', 'Limón' }\n",
    "citricos =set(('Pomelo', 'Naranja', 'Limón'))"
   ]
  },
  {
   "cell_type": "code",
   "execution_count": null,
   "id": "307c0d35",
   "metadata": {},
   "outputs": [],
   "source": [
    "frutas"
   ]
  },
  {
   "cell_type": "code",
   "execution_count": null,
   "id": "2d1f3c1f",
   "metadata": {},
   "outputs": [],
   "source": [
    "citricos"
   ]
  },
  {
   "cell_type": "code",
   "execution_count": null,
   "id": "92cd2215",
   "metadata": {},
   "outputs": [],
   "source": [
    "for fruta in frutas:\n",
    "    if fruta in citricos:\n",
    "        print(f\"{fruta} → es un cítrico\")\n",
    "    else:\n",
    "        print(fruta)"
   ]
  },
  {
   "cell_type": "markdown",
   "id": "7c2c59dc",
   "metadata": {},
   "source": [
    "## set comprehension"
   ]
  },
  {
   "cell_type": "code",
   "execution_count": null,
   "id": "6524408a",
   "metadata": {},
   "outputs": [],
   "source": [
    "{i**2 for i in [1,2,3,4,5]}"
   ]
  },
  {
   "cell_type": "code",
   "execution_count": null,
   "id": "c6997d89",
   "metadata": {},
   "outputs": [],
   "source": [
    "{i for i in range(10) if i%2}               # conjunto de impares"
   ]
  },
  {
   "cell_type": "markdown",
   "id": "36b44aa8",
   "metadata": {},
   "source": [
    "{(m, n) for n in range(2) for m in range(3, 5)}"
   ]
  },
  {
   "cell_type": "code",
   "execution_count": null,
   "id": "cf0ebb98",
   "metadata": {},
   "outputs": [],
   "source": [
    "from random import randint\n",
    "{(i,j) for i in range(2) for j in range(10,14)}"
   ]
  },
  {
   "cell_type": "code",
   "execution_count": null,
   "id": "8794051b",
   "metadata": {},
   "outputs": [],
   "source": [
    "{c for c in 'amigo es algo cierto o solo un rumor ' if c not in 'murcielago'}"
   ]
  },
  {
   "cell_type": "markdown",
   "id": "4b8fd3c8",
   "metadata": {},
   "source": [
    "## if all, if not all"
   ]
  },
  {
   "cell_type": "code",
   "execution_count": null,
   "id": "3e623456",
   "metadata": {},
   "outputs": [],
   "source": [
    "all({i in \"amor\" for i in \"roma\"})   # para detectar anagramas, armonización – romanización"
   ]
  }
 ],
 "metadata": {
  "kernelspec": {
   "display_name": "Python 3",
   "language": "python",
   "name": "python3"
  },
  "language_info": {
   "codemirror_mode": {
    "name": "ipython",
    "version": 3
   },
   "file_extension": ".py",
   "mimetype": "text/x-python",
   "name": "python",
   "nbconvert_exporter": "python",
   "pygments_lexer": "ipython3",
   "version": "3.8.8"
  }
 },
 "nbformat": 4,
 "nbformat_minor": 5
}
