{
 "cells": [
  {
   "cell_type": "markdown",
   "id": "cfc6edea",
   "metadata": {},
   "source": [
    "# Generación de aleatorios [2]"
   ]
  },
  {
   "cell_type": "code",
   "execution_count": 6,
   "id": "cb19a917",
   "metadata": {},
   "outputs": [],
   "source": [
    "import random\n",
    "random.seed()       #Inicializa el generador de números aleatorios.\n"
   ]
  },
  {
   "cell_type": "code",
   "execution_count": null,
   "id": "838bd060",
   "metadata": {},
   "outputs": [],
   "source": []
  }
 ],
 "metadata": {
  "kernelspec": {
   "display_name": "Python 3",
   "language": "python",
   "name": "python3"
  },
  "language_info": {
   "codemirror_mode": {
    "name": "ipython",
    "version": 3
   },
   "file_extension": ".py",
   "mimetype": "text/x-python",
   "name": "python",
   "nbconvert_exporter": "python",
   "pygments_lexer": "ipython3",
   "version": "3.8.10"
  }
 },
 "nbformat": 4,
 "nbformat_minor": 5
}
