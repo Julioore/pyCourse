{
 "cells": [
  {
   "cell_type": "markdown",
   "metadata": {},
   "source": [
    "# Modificando atributos\n",
    "Podemos modificar atributos de un objeo de dos formas:\n",
    "- modificándolos directamente desde la instancia\n",
    "- escribiendo métodos que actualicen los atributos de formas concretas"
   ]
  },
  {
   "cell_type": "markdown",
   "metadata": {},
   "source": [
    "## Modificando atributos directamente desde la instancia"
   ]
  },
  {
   "cell_type": "code",
   "execution_count": null,
   "metadata": {},
   "outputs": [],
   "source": [
    "class Perro:\n",
    "    '''Clase que representa un perro'''\n",
    "    def __init__(self,nombre,raza,edad):      # no se incluyen las variables que se crean con un valor por defecto\n",
    "        self.nombre=nombre\n",
    "        self.raza=raza\n",
    "        self.edad=edad\n",
    "        self.vacunas=0                        # añadimos una variable con las vacunas por defecto\n",
    "    def descripcion(self):\n",
    "        print(f\"Se llama {self.nombre}, tiene {self.edad} años y es de raza {self.raza}.\")\n",
    "    def informe_vacunas(self):                # método que informa del nombre del perro y el número de vacunas que tiene\n",
    "        '''Imprime la cantidad de vacunas que tiene puestas el perro'''\n",
    "        print(f\"{self.nombre} cuenta actualmente con {self.vacunas} vacunas.\")\n",
    "    def actualiza_vacunas(self,num_vacunas):  # método que actualiza el número de vacunas\n",
    "        '''Actualiza el número de vacunas'''\n",
    "        self.vacunas=num_vacunas              # actualiza la variable self.vacunas\n",
    "\n",
    "        \n",
    "miPerro=Perro(\"Thor\",\"Mastín\",7)\n",
    "miPerro.descripcion()\n",
    "\n",
    "# Modificando valores de los atributos directamente\n",
    "miPerro.informe_vacunas()                     # nos informa del número de vacunas antes de vacunarle\n",
    "miPerro.vacunas=4                             # ahora miPerro tendrá asignadas 4 vacunas\n",
    "miPerro.informe_vacunas()                     # nos informa del número de vacunas después de vacunarle"
   ]
  },
  {
   "cell_type": "markdown",
   "metadata": {},
   "source": [
    "## Escribiendo métodos que actualicen los atributos"
   ]
  },
  {
   "cell_type": "code",
   "execution_count": null,
   "metadata": {},
   "outputs": [],
   "source": [
    "# Modificando valores de atributos mediante métodos\n",
    "miPerro.actualiza_vacunas(6)\n",
    "miPerro.informe_vacunas()"
   ]
  },
  {
   "cell_type": "markdown",
   "metadata": {},
   "source": [
    "Podríamos pensar que no ganamos nada usando métodos para modificar los atributos cuando los podemos modificar de forma directa.  \n",
    "Veamos un ejemplo añadiendo un poco de lógica al método actualiza_vacunas para que ahora no sea posible reducir el número de vacunas."
   ]
  },
  {
   "cell_type": "code",
   "execution_count": null,
   "metadata": {},
   "outputs": [],
   "source": [
    "class Perro:\n",
    "    '''Clase que representa un perro'''\n",
    "    def __init__(self,nombre,raza,edad):\n",
    "        self.nombre=nombre\n",
    "        self.raza=raza\n",
    "        self.edad=edad\n",
    "        self.vacunas=0\n",
    "    def descripcion(self):\n",
    "        print(f\"Se llama {self.nombre}, tiene {self.edad} años y es de raza {self.raza}.\")\n",
    "    def informe_vacunas(self):\n",
    "        '''Imprime la cantidad de vacunas que tiene puestas el perro'''\n",
    "        print(f\"{self.nombre} cuenta actualmente con {self.vacunas} vacunas.\")\n",
    "    def actualiza_vacunas(self,num_vacunas):  # añadimos un poco de lógica al método para evitar reducir vacunas\n",
    "        '''Actualiza el número de vacunas'''\n",
    "        if num_vacunas>=self.vacunas:\n",
    "            self.vacunas=num_vacunas          # si deja actualiza la variable self.vacunas\n",
    "        else:                                 # no deja actualizar las vacunas e imprime un mensaje\n",
    "            print(\"No es posible reducir el número de vacunas que ya tiene administradas.\")\n",
    "\n",
    "        \n",
    "miPerro=Perro(\"Thor\",\"Mastín\",7)\n",
    "miPerro.descripcion()\n",
    "miPerro.actualiza_vacunas(5)\n",
    "miPerro.informe_vacunas()\n",
    "miPerro.actualiza_vacunas(4)\n",
    "miPerro.informe_vacunas()"
   ]
  }
 ],
 "metadata": {
  "kernelspec": {
   "display_name": "Python 3",
   "language": "python",
   "name": "python3"
  },
  "language_info": {
   "codemirror_mode": {
    "name": "ipython",
    "version": 3
   },
   "file_extension": ".py",
   "mimetype": "text/x-python",
   "name": "python",
   "nbconvert_exporter": "python",
   "pygments_lexer": "ipython3",
   "version": "3.8.5"
  }
 },
 "nbformat": 4,
 "nbformat_minor": 5
}
