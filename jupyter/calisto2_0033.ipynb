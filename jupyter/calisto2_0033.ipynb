{
 "cells": [
  {
   "cell_type": "markdown",
   "id": "c2495170",
   "metadata": {},
   "source": [
    "# Modificando atributos\n",
    "Podemos modificar atributos de un objeto de dos formas:\n",
    "- modificándolos directamente desde la instancia\n",
    "- escribiendo métodos que actualicen los atributos de formas concretas\n",
    "\n",
    "Primero vamos a crear una clase sobre la que trabajar."
   ]
  },
  {
   "cell_type": "code",
   "execution_count": null,
   "id": "463928f5",
   "metadata": {},
   "outputs": [],
   "source": [
    "class Perro:\n",
    "    '''Clase que representa un perro'''\n",
    "    def __init__(self,nombre,raza,edad):\n",
    "        self.nombre=nombre\n",
    "        self.raza=raza\n",
    "        self.edad=edad\n",
    "    def get_descripcion(self):\n",
    "        print(f\"Se llama {self.nombre}, tiene {self.edad} años y es de raza {self.raza}.\")\n",
    "        \n",
    "miPerro=Perro(\"Thor\",\"Mastín\",7)\n",
    "miPerro.get_descripcion()                     # si el método get usa un return tendríamos que poner un print aquí"
   ]
  },
  {
   "cell_type": "markdown",
   "id": "486ea977",
   "metadata": {},
   "source": [
    "## Modificando atributos directamente desde la instancia"
   ]
  },
  {
   "cell_type": "code",
   "execution_count": 7,
   "id": "eeb0a1d6",
   "metadata": {},
   "outputs": [
    {
     "name": "stdout",
     "output_type": "stream",
     "text": [
      "Se llama Thor, tiene 7 años y es de raza Mastín.\n",
      "Thor cuenta actualmente con 0 vacunas.\n",
      "Thor cuenta actualmente con 4 vacunas.\n"
     ]
    }
   ],
   "source": [
    "class Perro:\n",
    "    '''Clase que representa un perro'''\n",
    "    def __init__(self,nombre,raza,edad):      # no se incluyen las variables que se crean con un valor por defecto\n",
    "        self.nombre=nombre\n",
    "        self.raza=raza\n",
    "        self.edad=edad\n",
    "        self.vacunas=0                        # añadimos una variable con las vacunas por defecto\n",
    "    def get_descripcion(self):\n",
    "        print(f\"Se llama {self.nombre}, tiene {self.edad} años y es de raza {self.raza}.\")\n",
    "    def read_vacunas(self):                   # método que informa del nombre del perro y el número de vacunas que tiene\n",
    "        '''Imprime la cantidad de vacunas que tiene puestas el perro'''\n",
    "        print(f\"{self.nombre} cuenta actualmente con {self.vacunas} vacunas.\")\n",
    "        \n",
    "miPerro=Perro(\"Thor\",\"Mastín\",7)\n",
    "miPerro.get_descripcion()\n",
    "\n",
    "# Modificando valores de los atributos directamente\n",
    "miPerro.read_vacunas()                     # nos informa del número de vacunas antes de vacunarle\n",
    "miPerro.vacunas=4                          # ahora miPerro tendrá asignadas 4 vacunas\n",
    "miPerro.read_vacunas()                     # nos informa del número de vacunas después de vacunarle"
   ]
  },
  {
   "cell_type": "markdown",
   "id": "d2093fab",
   "metadata": {},
   "source": [
    "## Escribiendo métodos que actualicen los atributos"
   ]
  },
  {
   "cell_type": "markdown",
   "id": "e3fe152c",
   "metadata": {},
   "source": [
    "Lo habitual no será que el usuario acceda a las variables directamente y que modifique los atributos como en la línea  \n",
    "miPerro.vacunas=4  \n",
    "Lo aconsejable es crear un método set_vacunas mediante el cual podamos acceder y mofificar el atributo vacunas."
   ]
  },
  {
   "cell_type": "code",
   "execution_count": 8,
   "id": "d0f3cd68",
   "metadata": {},
   "outputs": [
    {
     "name": "stdout",
     "output_type": "stream",
     "text": [
      "Se llama Thor, tiene 7 años y es de raza Mastín.\n",
      "Thor cuenta actualmente con 6 vacunas.\n"
     ]
    }
   ],
   "source": [
    "class Perro:\n",
    "    '''Clase que representa un perro'''\n",
    "    def __init__(self,nombre,raza,edad):      # no se incluyen las variables que se crean con un valor por defecto\n",
    "        self.nombre=nombre\n",
    "        self.raza=raza\n",
    "        self.edad=edad\n",
    "        self.vacunas=0                        # añadimos una variable con las vacunas por defecto\n",
    "    def get_descripcion(self):\n",
    "        print(f\"Se llama {self.nombre}, tiene {self.edad} años y es de raza {self.raza}.\")\n",
    "    def read_vacunas(self):                   # método que informa del nombre del perro y el número de vacunas que tiene\n",
    "        '''Imprime la cantidad de vacunas que tiene puestas el perro'''\n",
    "        print(f\"{self.nombre} cuenta actualmente con {self.vacunas} vacunas.\")\n",
    "    def set_vacunas(self,num_vacunas):        # método que actualiza el número de vacunas\n",
    "        '''Actualiza el número de vacunas'''\n",
    "        self.vacunas=num_vacunas              # actualiza la variable self.vacunas\n",
    "        \n",
    "miPerro=Perro(\"Thor\",\"Mastín\",7)\n",
    "miPerro.get_descripcion()\n",
    "\n",
    "# Modificando valores de atributos mediante métodos\n",
    "miPerro.set_vacunas(6)\n",
    "miPerro.read_vacunas()"
   ]
  },
  {
   "cell_type": "markdown",
   "id": "ef7bf352",
   "metadata": {},
   "source": [
    "### Añadiendo lógica a los métodos que modifican los atributos"
   ]
  },
  {
   "cell_type": "markdown",
   "id": "3af28758",
   "metadata": {},
   "source": [
    "Podríamos pensar que no ganamos nada usando métodos para modificar los atributos cuando los podemos modificar de forma directa.  \n",
    "Veamos un ejemplo añadiendo un poco de lógica al método set_vacunas para que ahora no sea posible reducir el número de vacunas."
   ]
  },
  {
   "cell_type": "code",
   "execution_count": 9,
   "id": "19d1d6be",
   "metadata": {},
   "outputs": [
    {
     "name": "stdout",
     "output_type": "stream",
     "text": [
      "Se llama Thor, tiene 7 años y es de raza Mastín.\n",
      "Thor cuenta actualmente con 5 vacunas.\n",
      "No es posible reducir el número de vacunas que ya tiene administradas.\n",
      "Thor cuenta actualmente con 5 vacunas.\n"
     ]
    }
   ],
   "source": [
    "class Perro:\n",
    "    '''Clase que representa un perro'''\n",
    "    def __init__(self,nombre,raza,edad):\n",
    "        self.nombre=nombre\n",
    "        self.raza=raza\n",
    "        self.edad=edad\n",
    "        self.vacunas=0\n",
    "    def get_descripcion(self):\n",
    "        print(f\"Se llama {self.nombre}, tiene {self.edad} años y es de raza {self.raza}.\")\n",
    "    def read_vacunas(self):\n",
    "        '''Imprime la cantidad de vacunas que tiene puestas el perro'''\n",
    "        print(f\"{self.nombre} cuenta actualmente con {self.vacunas} vacunas.\")\n",
    "    def set_vacunas(self,num_vacunas):        # añadimos un poco de lógica al método para evitar reducir vacunas\n",
    "        '''Actualiza el número de vacunas e impide\n",
    "        que puedan reducirse las vacunas ya puestas'''\n",
    "        if num_vacunas>=self.vacunas:\n",
    "            self.vacunas=num_vacunas          # si deja actualiza la variable self.vacunas\n",
    "        else:                                 # no deja actualizar las vacunas e imprime un mensaje\n",
    "            print(\"No es posible reducir el número de vacunas que ya tiene administradas.\")\n",
    "\n",
    "        \n",
    "miPerro=Perro(\"Thor\",\"Mastín\",7)\n",
    "miPerro.get_descripcion()\n",
    "miPerro.set_vacunas(5)\n",
    "miPerro.read_vacunas()\n",
    "miPerro.set_vacunas(4)\n",
    "miPerro.read_vacunas()"
   ]
  }
 ],
 "metadata": {
  "kernelspec": {
   "display_name": "Python 3",
   "language": "python",
   "name": "python3"
  },
  "language_info": {
   "codemirror_mode": {
    "name": "ipython",
    "version": 3
   },
   "file_extension": ".py",
   "mimetype": "text/x-python",
   "name": "python",
   "nbconvert_exporter": "python",
   "pygments_lexer": "ipython3",
   "version": "3.8.8"
  }
 },
 "nbformat": 4,
 "nbformat_minor": 5
}
