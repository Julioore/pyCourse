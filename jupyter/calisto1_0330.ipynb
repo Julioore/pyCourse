{
 "cells": [
  {
   "cell_type": "markdown",
   "id": "c3baf958",
   "metadata": {},
   "source": [
    "# Tabla de verdad"
   ]
  },
  {
   "cell_type": "markdown",
   "id": "202cb483",
   "metadata": {},
   "source": [
    "![tabla de verdad](img/tablaverdad.png)"
   ]
  },
  {
   "cell_type": "code",
   "execution_count": 1,
   "id": "ef48ccd3",
   "metadata": {},
   "outputs": [
    {
     "data": {
      "text/plain": [
       "True"
      ]
     },
     "execution_count": 1,
     "metadata": {},
     "output_type": "execute_result"
    }
   ],
   "source": [
    "a = True\n",
    "b = True\n",
    "c = True\n",
    "a and b and c     # con and es necesario que todos sean True para que resulte True"
   ]
  },
  {
   "cell_type": "code",
   "execution_count": 2,
   "id": "8308fe8d",
   "metadata": {},
   "outputs": [
    {
     "data": {
      "text/plain": [
       "False"
      ]
     },
     "execution_count": 2,
     "metadata": {},
     "output_type": "execute_result"
    }
   ],
   "source": [
    "a = True\n",
    "b = True\n",
    "c = False\n",
    "a and b and c     # con and basta que uno sea False para que que resulte False"
   ]
  },
  {
   "cell_type": "code",
   "execution_count": 3,
   "id": "844fe2b1",
   "metadata": {},
   "outputs": [
    {
     "data": {
      "text/plain": [
       "True"
      ]
     },
     "execution_count": 3,
     "metadata": {},
     "output_type": "execute_result"
    }
   ],
   "source": [
    "a = True\n",
    "b = False\n",
    "c = False\n",
    "a or b or c     # con or es basta que uno sea True para que resulte True"
   ]
  },
  {
   "cell_type": "code",
   "execution_count": 4,
   "id": "6c296488",
   "metadata": {},
   "outputs": [
    {
     "data": {
      "text/plain": [
       "False"
      ]
     },
     "execution_count": 4,
     "metadata": {},
     "output_type": "execute_result"
    }
   ],
   "source": [
    "a = False\n",
    "b = False\n",
    "c = False\n",
    "a or b or c     # con or es necesario que todos sean False para que resulte True"
   ]
  },
  {
   "cell_type": "code",
   "execution_count": 5,
   "id": "000b44b1",
   "metadata": {},
   "outputs": [
    {
     "data": {
      "text/plain": [
       "False"
      ]
     },
     "execution_count": 5,
     "metadata": {},
     "output_type": "execute_result"
    }
   ],
   "source": [
    "a = True\n",
    "not(a)          # not cambia el booleano, si es True lo convierte en False"
   ]
  },
  {
   "cell_type": "code",
   "execution_count": 6,
   "id": "a10d74f0",
   "metadata": {},
   "outputs": [
    {
     "data": {
      "text/plain": [
       "True"
      ]
     },
     "execution_count": 6,
     "metadata": {},
     "output_type": "execute_result"
    }
   ],
   "source": [
    "a = False\n",
    "not(a)          # not cambia el booleano, si es False lo convierte en True"
   ]
  }
 ],
 "metadata": {
  "kernelspec": {
   "display_name": "Python 3",
   "language": "python",
   "name": "python3"
  },
  "language_info": {
   "codemirror_mode": {
    "name": "ipython",
    "version": 3
   },
   "file_extension": ".py",
   "mimetype": "text/x-python",
   "name": "python",
   "nbconvert_exporter": "python",
   "pygments_lexer": "ipython3",
   "version": "3.8.8"
  }
 },
 "nbformat": 4,
 "nbformat_minor": 5
}
