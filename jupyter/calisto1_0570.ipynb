{
 "cells": [
  {
   "cell_type": "markdown",
   "id": "9b7db711",
   "metadata": {},
   "source": [
    "# Funciones. Variables globales y variables locales [3]"
   ]
  },
  {
   "cell_type": "code",
   "execution_count": 13,
   "id": "57ad8da7",
   "metadata": {},
   "outputs": [
    {
     "name": "stdout",
     "output_type": "stream",
     "text": [
      "manzano\n"
     ]
    }
   ],
   "source": [
    "def lugar():\n",
    "    x = \"París\"\n",
    "    def planta():\n",
    "        nonlocal x                          # convertimos x en una variable que excede su ámbito local\n",
    "        x = \"manzano\"\n",
    "    planta() \n",
    "    return x\n",
    "\n",
    "print(lugar())   # manzano"
   ]
  },
  {
   "cell_type": "code",
   "execution_count": 14,
   "id": "1d1f3db4",
   "metadata": {},
   "outputs": [
    {
     "name": "stdout",
     "output_type": "stream",
     "text": [
      "París\n"
     ]
    }
   ],
   "source": [
    "def lugar():\n",
    "    x = \"París\"\n",
    "    def planta():\n",
    "        #nonlocal x                          # sin poner la expresión: nonlocal x\n",
    "        x = \"manzano\"\n",
    "    planta() \n",
    "    return x\n",
    "\n",
    "print(lugar())   # París                     # prevalece la variable de la función exterior"
   ]
  }
 ],
 "metadata": {
  "kernelspec": {
   "display_name": "Python 3 (ipykernel)",
   "language": "python",
   "name": "python3"
  },
  "language_info": {
   "codemirror_mode": {
    "name": "ipython",
    "version": 3
   },
   "file_extension": ".py",
   "mimetype": "text/x-python",
   "name": "python",
   "nbconvert_exporter": "python",
   "pygments_lexer": "ipython3",
   "version": "3.8.10"
  }
 },
 "nbformat": 4,
 "nbformat_minor": 5
}
