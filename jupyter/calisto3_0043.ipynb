{
 "cells": [
  {
   "cell_type": "markdown",
   "id": "191f7d54",
   "metadata": {},
   "source": [
    "# NumPy [4]"
   ]
  },
  {
   "cell_type": "markdown",
   "id": "9361cb62",
   "metadata": {},
   "source": [
    "## Operar con matrices"
   ]
  },
  {
   "cell_type": "markdown",
   "id": "3c095637",
   "metadata": {},
   "source": [
    "### Acceder a un elemento por su índice"
   ]
  },
  {
   "cell_type": "code",
   "execution_count": 3,
   "id": "13ec58ce",
   "metadata": {},
   "outputs": [
    {
     "name": "stdout",
     "output_type": "stream",
     "text": [
      "El elemento de índices (1,2): 8\n",
      "[[ 0  1  2  3  4  5]\n",
      " [ 6  7  8  9 10 11]\n",
      " [12 13 14 15 16 17]\n",
      " [18 19 20 21 22 23]]\n"
     ]
    }
   ],
   "source": [
    "import numpy as np\n",
    "m = np.arange(24).reshape(4,6)\n",
    "print(\"El elemento de índices (1,2):\",m[1,2])\n",
    "print(m)"
   ]
  },
  {
   "cell_type": "markdown",
   "id": "155e9a21",
   "metadata": {},
   "source": [
    "### sort()\n",
    "Permite ordenar un array."
   ]
  },
  {
   "cell_type": "code",
   "execution_count": 4,
   "id": "a358737e",
   "metadata": {},
   "outputs": [
    {
     "data": {
      "text/plain": [
       "array([ 2,  3,  5,  7, 11, 17, 19])"
      ]
     },
     "execution_count": 4,
     "metadata": {},
     "output_type": "execute_result"
    }
   ],
   "source": [
    "m = np.array([17,2,11,5,7,19,3])\n",
    "np.sort(m)"
   ]
  },
  {
   "cell_type": "markdown",
   "id": "bbd83831",
   "metadata": {},
   "source": [
    "### power()"
   ]
  },
  {
   "cell_type": "code",
   "execution_count": 9,
   "id": "125ac937",
   "metadata": {},
   "outputs": [
    {
     "name": "stdout",
     "output_type": "stream",
     "text": [
      "[ 4  9 16 25]\n",
      "[ 4  9 16 25]\n",
      "[  8  27  64 125]\n"
     ]
    }
   ],
   "source": [
    "m = np.array([2,3,4,5])\n",
    "print(np.array(m**2))          # cuadrados\n",
    "print(np.power(m, 2))          # cuadrados usando power\n",
    "print(np.power(m, 3))          # cubos"
   ]
  },
  {
   "cell_type": "markdown",
   "id": "d084bfba",
   "metadata": {},
   "source": [
    "### Condición lógica"
   ]
  },
  {
   "cell_type": "code",
   "execution_count": 13,
   "id": "6aa30222",
   "metadata": {},
   "outputs": [
    {
     "name": "stdout",
     "output_type": "stream",
     "text": [
      "[False False  True  True]\n"
     ]
    }
   ],
   "source": [
    "m = np.array([2,3,4,5])\n",
    "print(np.array(m > 3))  "
   ]
  },
  {
   "cell_type": "markdown",
   "id": "f4ca76fc",
   "metadata": {},
   "source": [
    "### Máximo y mínimo"
   ]
  },
  {
   "cell_type": "code",
   "execution_count": 15,
   "id": "0586d725",
   "metadata": {},
   "outputs": [
    {
     "name": "stdout",
     "output_type": "stream",
     "text": [
      "5\n",
      "2\n"
     ]
    }
   ],
   "source": [
    "m = np.array([2,3,4,5])\n",
    "print(np.array(m.min()))          # mínimo\n",
    "print(np.array(m.max()))          # máximo\n"
   ]
  },
  {
   "cell_type": "markdown",
   "id": "e702f65c",
   "metadata": {},
   "source": [
    "### Concatenar arrays"
   ]
  },
  {
   "cell_type": "code",
   "execution_count": 20,
   "id": "8adde0a7",
   "metadata": {},
   "outputs": [
    {
     "name": "stdout",
     "output_type": "stream",
     "text": [
      "[ 2  3  4  5 20 30 40 50]\n"
     ]
    }
   ],
   "source": [
    "m1 = np.array([2,3,4,5])\n",
    "m2 = np.array([20,30,40,50])\n",
    "print(np.concatenate((m1,m2)))"
   ]
  },
  {
   "cell_type": "markdown",
   "id": "edae34f1",
   "metadata": {},
   "source": [
    "### Matriz más escalar"
   ]
  },
  {
   "cell_type": "code",
   "execution_count": 23,
   "id": "808de7e5",
   "metadata": {},
   "outputs": [
    {
     "name": "stdout",
     "output_type": "stream",
     "text": [
      "[[11 12]\n",
      " [13 14]]\n"
     ]
    }
   ],
   "source": [
    "print(m1+10)"
   ]
  },
  {
   "cell_type": "markdown",
   "id": "1d94b327",
   "metadata": {},
   "source": [
    "### Suma de matrices"
   ]
  },
  {
   "cell_type": "code",
   "execution_count": 22,
   "id": "0fde0435",
   "metadata": {},
   "outputs": [
    {
     "name": "stdout",
     "output_type": "stream",
     "text": [
      "[[ 6  8]\n",
      " [10 12]]\n"
     ]
    }
   ],
   "source": [
    "m1 = np.array([[1,2],[3,4]])\n",
    "m2 = np.array([[5,6],[7,8]])\n",
    "print(m1+m2)"
   ]
  },
  {
   "cell_type": "code",
   "execution_count": 24,
   "id": "8ff74240",
   "metadata": {},
   "outputs": [
    {
     "name": "stdout",
     "output_type": "stream",
     "text": [
      "[[ 6  8]\n",
      " [10 12]]\n"
     ]
    }
   ],
   "source": [
    "print(np.add(m1,m2))   # con la función add"
   ]
  },
  {
   "cell_type": "markdown",
   "id": "cb73c926",
   "metadata": {},
   "source": [
    "### Resta de matrices"
   ]
  },
  {
   "cell_type": "code",
   "execution_count": 26,
   "id": "506945bc",
   "metadata": {},
   "outputs": [
    {
     "name": "stdout",
     "output_type": "stream",
     "text": [
      "[[-4 -4]\n",
      " [-4 -4]]\n"
     ]
    }
   ],
   "source": [
    "print(np.subtract(m1,m2))   # con la función subtract"
   ]
  },
  {
   "cell_type": "markdown",
   "id": "42bbaf63",
   "metadata": {},
   "source": [
    "### Multiplicar elementos de matrices\n",
    "Esto no es el producto matricial."
   ]
  },
  {
   "cell_type": "code",
   "execution_count": 27,
   "id": "d55ecf16",
   "metadata": {},
   "outputs": [
    {
     "name": "stdout",
     "output_type": "stream",
     "text": [
      "[[ 5 12]\n",
      " [21 32]]\n"
     ]
    }
   ],
   "source": [
    "print(np.multiply(m1,m2))   # con la función multiply"
   ]
  },
  {
   "cell_type": "markdown",
   "id": "eff82393",
   "metadata": {},
   "source": [
    "### Dividir elementos de matrices"
   ]
  },
  {
   "cell_type": "code",
   "execution_count": 28,
   "id": "674023e5",
   "metadata": {},
   "outputs": [
    {
     "name": "stdout",
     "output_type": "stream",
     "text": [
      "[[0.2        0.33333333]\n",
      " [0.42857143 0.5       ]]\n"
     ]
    }
   ],
   "source": [
    "print(np.divide(m1,m2))   # con la función divide"
   ]
  },
  {
   "cell_type": "markdown",
   "id": "fdb012a7",
   "metadata": {},
   "source": [
    "### Producto matricial"
   ]
  },
  {
   "cell_type": "code",
   "execution_count": 29,
   "id": "a2901ac1",
   "metadata": {},
   "outputs": [
    {
     "name": "stdout",
     "output_type": "stream",
     "text": [
      "[[19 22]\n",
      " [43 50]]\n"
     ]
    }
   ],
   "source": [
    "print(m1.dot(m2))          # producto matricial con dot"
   ]
  }
 ],
 "metadata": {
  "kernelspec": {
   "display_name": "Python 3",
   "language": "python",
   "name": "python3"
  },
  "language_info": {
   "codemirror_mode": {
    "name": "ipython",
    "version": 3
   },
   "file_extension": ".py",
   "mimetype": "text/x-python",
   "name": "python",
   "nbconvert_exporter": "python",
   "pygments_lexer": "ipython3",
   "version": "3.8.8"
  }
 },
 "nbformat": 4,
 "nbformat_minor": 5
}
