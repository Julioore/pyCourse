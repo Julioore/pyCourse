{
 "cells": [
  {
   "cell_type": "markdown",
   "id": "ab08c939",
   "metadata": {},
   "source": [
    "# Librería openpyxl\n",
    "[A Python library to read/write Excel 2010 xlsx/xlsm files](https://openpyxl.readthedocs.io/en/stable)"
   ]
  },
  {
   "cell_type": "markdown",
   "id": "6527938a",
   "metadata": {},
   "source": [
    "## Leer el fichero aeropuestos.xlsx\n",
    "![aeropuertos.png](img/aeropuertos.png)"
   ]
  },
  {
   "cell_type": "code",
   "execution_count": null,
   "id": "95e9b51d",
   "metadata": {},
   "outputs": [],
   "source": [
    "from openpyxl import load_workbook\n",
    "\n",
    "FILE_PATH = 'excel/aeropuertos.xlsx'    # Constante\n",
    "SHEET = 'Hoja1'                         # Constante\n",
    "\n",
    "workbook = load_workbook(FILE_PATH, read_only=True)\n",
    "sheet = workbook[SHEET]\n",
    "\n",
    "# recorremos todos las filas de la tabla mostrando los valores de la primera columna\n",
    "# con sheet.iter_rows() desempaquetamos\n",
    "for row in sheet.iter_rows():\n",
    "    print(row[0].value)"
   ]
  },
  {
   "cell_type": "code",
   "execution_count": null,
   "id": "f13cc6a0",
   "metadata": {},
   "outputs": [],
   "source": [
    "from openpyxl import load_workbook\n",
    "\n",
    "FILE_PATH = 'excel/aeropuertos.xlsx'    # Constante\n",
    "SHEET = 'Hoja1'                         # Constante\n",
    "\n",
    "workbook = load_workbook(FILE_PATH, read_only=True)\n",
    "sheet = workbook[SHEET]\n",
    "\n",
    "# recorremos todos los valores de la tabla\n",
    "# sheet.iter_rows() si no lleva argumento se muestra todo, si ponemos min_row=2 empieza en la fila 2\n",
    "for aeropuerto, codigoIATA, pasajeros, mercancia, insular, year in sheet.iter_rows(min_row=2):\n",
    "    print(aeropuerto.value)\n",
    "    print(codigoIATA.value)\n",
    "    print(pasajeros.value)\n",
    "    print(mercancia.value)\n",
    "    print(insular.value)\n",
    "    print(year.value)\n",
    "    print('='*30)"
   ]
  },
  {
   "cell_type": "markdown",
   "id": "bcbaaa4e",
   "metadata": {},
   "source": [
    "## Creando un workbook\n",
    "[Create a workbook](https://openpyxl.readthedocs.io/en/stable/tutorial.html)"
   ]
  }
 ],
 "metadata": {
  "kernelspec": {
   "display_name": "Python 3",
   "language": "python",
   "name": "python3"
  },
  "language_info": {
   "codemirror_mode": {
    "name": "ipython",
    "version": 3
   },
   "file_extension": ".py",
   "mimetype": "text/x-python",
   "name": "python",
   "nbconvert_exporter": "python",
   "pygments_lexer": "ipython3",
   "version": "3.8.8"
  }
 },
 "nbformat": 4,
 "nbformat_minor": 5
}
