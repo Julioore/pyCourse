{
 "cells": [
  {
   "cell_type": "markdown",
   "id": "cdfe7257",
   "metadata": {},
   "source": [
    "# NumPy [8] Álgebra lineal"
   ]
  },
  {
   "cell_type": "code",
   "execution_count": 8,
   "id": "fc0934ae",
   "metadata": {},
   "outputs": [
    {
     "name": "stdout",
     "output_type": "stream",
     "text": [
      "[[ 1  2  3]\n",
      " [-2  0  1]]\n"
     ]
    }
   ],
   "source": [
    "import numpy as np\n",
    "m = np.array([[1,2,3], [-2,0,1]])\n",
    "print(m)"
   ]
  },
  {
   "cell_type": "code",
   "execution_count": 9,
   "id": "6736da85",
   "metadata": {},
   "outputs": [
    {
     "name": "stdout",
     "output_type": "stream",
     "text": [
      "[[1]\n",
      " [2]\n",
      " [3]]\n"
     ]
    }
   ],
   "source": [
    "b = np.array([[1],[2],[3]])\n",
    "print(b)"
   ]
  },
  {
   "cell_type": "markdown",
   "id": "9d74d825",
   "metadata": {},
   "source": [
    "## Transposición matricial"
   ]
  },
  {
   "cell_type": "code",
   "execution_count": 10,
   "id": "63fa5b73",
   "metadata": {},
   "outputs": [
    {
     "name": "stdout",
     "output_type": "stream",
     "text": [
      "[[1 2 3]]\n"
     ]
    }
   ],
   "source": [
    "a = np.transpose(b)           # cambiamos filas por columnas\n",
    "print(a)"
   ]
  },
  {
   "cell_type": "code",
   "execution_count": 11,
   "id": "bb407acc",
   "metadata": {},
   "outputs": [
    {
     "data": {
      "text/plain": [
       "array([[ 1, -2],\n",
       "       [ 2,  0],\n",
       "       [ 3,  1]])"
      ]
     },
     "execution_count": 11,
     "metadata": {},
     "output_type": "execute_result"
    }
   ],
   "source": [
    "np.transpose(m)"
   ]
  },
  {
   "cell_type": "code",
   "execution_count": 13,
   "id": "5f3ea381",
   "metadata": {},
   "outputs": [
    {
     "name": "stdout",
     "output_type": "stream",
     "text": [
      "[[1]\n",
      " [2]\n",
      " [3]]\n"
     ]
    }
   ],
   "source": [
    "print(np.transpose(a))"
   ]
  },
  {
   "cell_type": "markdown",
   "id": "0f1aa5ef",
   "metadata": {},
   "source": [
    "#### Comprobación\n",
    "Es necesario usar dobles corchetes."
   ]
  },
  {
   "cell_type": "code",
   "execution_count": 14,
   "id": "2f039e9a",
   "metadata": {},
   "outputs": [
    {
     "name": "stdout",
     "output_type": "stream",
     "text": [
      "[[1]\n",
      " [2]\n",
      " [3]]\n"
     ]
    }
   ],
   "source": [
    "print(np.transpose([[1, 2, 3]]))"
   ]
  },
  {
   "cell_type": "markdown",
   "id": "156384c9",
   "metadata": {},
   "source": [
    "## Resolución de sistemas lineales\n",
    "$$Ax=b$$\n",
    "Nuestro objetivo es calcular $x$.\n",
    "\n",
    "$$A=\n",
    "\\begin{pmatrix}\n",
    "1 & -3 &  2\\\\\n",
    "5 &  6 & -1\\\\\n",
    "4 & -1 &  3\n",
    "\\end{pmatrix}$$ \n",
    "\n",
    "$$b=\n",
    "\\begin{pmatrix}\n",
    "-3 \\\\\n",
    "13 \\\\\n",
    "8 \n",
    "\\end{pmatrix}$$\n",
    "\n",
    "Solución:\n",
    "$$x=A^{-1}b$$"
   ]
  },
  {
   "cell_type": "code",
   "execution_count": 15,
   "id": "ff090b85",
   "metadata": {},
   "outputs": [
    {
     "data": {
      "text/plain": [
       "array([[ 1, -3,  2],\n",
       "       [ 5,  6, -1],\n",
       "       [ 4, -1,  3]])"
      ]
     },
     "execution_count": 15,
     "metadata": {},
     "output_type": "execute_result"
    }
   ],
   "source": [
    "A = np.array([[1,-3,2],[5,6,-1],[4,-1,3]])\n",
    "print(A)"
   ]
  },
  {
   "cell_type": "code",
   "execution_count": 16,
   "id": "75c77ada",
   "metadata": {},
   "outputs": [
    {
     "name": "stdout",
     "output_type": "stream",
     "text": [
      "[[-3]\n",
      " [13]\n",
      " [ 8]]\n"
     ]
    }
   ],
   "source": [
    "b = np.array([[-3],[13],[8]])\n",
    "print(b)"
   ]
  },
  {
   "cell_type": "code",
   "execution_count": 17,
   "id": "0ab4fa44",
   "metadata": {},
   "outputs": [],
   "source": [
    "x = np.linalg.solve(A,b)"
   ]
  },
  {
   "cell_type": "code",
   "execution_count": 19,
   "id": "283a3535",
   "metadata": {},
   "outputs": [
    {
     "name": "stdout",
     "output_type": "stream",
     "text": [
      "[[-2.]\n",
      " [ 5.]\n",
      " [ 7.]]\n"
     ]
    }
   ],
   "source": [
    "print(x)"
   ]
  },
  {
   "cell_type": "markdown",
   "id": "b46c78de",
   "metadata": {},
   "source": [
    "#### Comprobación\n",
    "La función allclose nos permite comprobar que los valores aúnque no sean exactamente iguales, si son muy cercanos."
   ]
  },
  {
   "cell_type": "code",
   "execution_count": 20,
   "id": "1028a3a8",
   "metadata": {},
   "outputs": [
    {
     "data": {
      "text/plain": [
       "True"
      ]
     },
     "execution_count": 20,
     "metadata": {},
     "output_type": "execute_result"
    }
   ],
   "source": [
    "np.allclose(np.dot(A,x),b)"
   ]
  },
  {
   "cell_type": "code",
   "execution_count": 22,
   "id": "07264f90",
   "metadata": {},
   "outputs": [
    {
     "data": {
      "text/plain": [
       "array([[-3.],\n",
       "       [13.],\n",
       "       [ 8.]])"
      ]
     },
     "execution_count": 22,
     "metadata": {},
     "output_type": "execute_result"
    }
   ],
   "source": [
    "np.dot(A,x)"
   ]
  },
  {
   "cell_type": "code",
   "execution_count": 23,
   "id": "81524cfc",
   "metadata": {},
   "outputs": [
    {
     "data": {
      "text/plain": [
       "array([[-3],\n",
       "       [13],\n",
       "       [ 8]])"
      ]
     },
     "execution_count": 23,
     "metadata": {},
     "output_type": "execute_result"
    }
   ],
   "source": [
    "b"
   ]
  },
  {
   "cell_type": "code",
   "execution_count": 25,
   "id": "38ba4c93",
   "metadata": {},
   "outputs": [
    {
     "data": {
      "text/plain": [
       "array([[-3.55271368e-15],\n",
       "       [ 0.00000000e+00],\n",
       "       [ 3.55271368e-15]])"
      ]
     },
     "execution_count": 25,
     "metadata": {},
     "output_type": "execute_result"
    }
   ],
   "source": [
    "np.dot(A,x)-b"
   ]
  },
  {
   "cell_type": "markdown",
   "id": "f7b0fc8c",
   "metadata": {},
   "source": [
    "### Otra forma de cambiar las dimensiones de un vector\n",
    "En la práctica equivale a transponer el vector."
   ]
  },
  {
   "cell_type": "code",
   "execution_count": 37,
   "id": "2dd1de85",
   "metadata": {
    "scrolled": true
   },
   "outputs": [
    {
     "name": "stdout",
     "output_type": "stream",
     "text": [
      "[1 2 3]\n"
     ]
    }
   ],
   "source": [
    "c = np.array([1,2,3])\n",
    "print(c)"
   ]
  },
  {
   "cell_type": "code",
   "execution_count": 38,
   "id": "485e7306",
   "metadata": {},
   "outputs": [
    {
     "data": {
      "text/plain": [
       "array([[1],\n",
       "       [2],\n",
       "       [3]])"
      ]
     },
     "execution_count": 38,
     "metadata": {},
     "output_type": "execute_result"
    }
   ],
   "source": [
    "c.shape=(3,1)\n",
    "c"
   ]
  },
  {
   "cell_type": "code",
   "execution_count": 39,
   "id": "37006158",
   "metadata": {},
   "outputs": [
    {
     "data": {
      "text/plain": [
       "array([[1, 2, 3]])"
      ]
     },
     "execution_count": 39,
     "metadata": {},
     "output_type": "execute_result"
    }
   ],
   "source": [
    "c.shape=(1,3)\n",
    "c"
   ]
  }
 ],
 "metadata": {
  "kernelspec": {
   "display_name": "Python 3",
   "language": "python",
   "name": "python3"
  },
  "language_info": {
   "codemirror_mode": {
    "name": "ipython",
    "version": 3
   },
   "file_extension": ".py",
   "mimetype": "text/x-python",
   "name": "python",
   "nbconvert_exporter": "python",
   "pygments_lexer": "ipython3",
   "version": "3.8.8"
  }
 },
 "nbformat": 4,
 "nbformat_minor": 5
}
