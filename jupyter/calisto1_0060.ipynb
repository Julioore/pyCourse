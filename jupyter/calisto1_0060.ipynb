{
 "cells": [
  {
   "cell_type": "markdown",
   "id": "6560885d",
   "metadata": {},
   "source": [
    "# Variables  \n",
    "* Declaración → → en Python no declaramos el tipo de las variables\n",
    "* Inicialización →→ cuando se asigna un primer valor\n",
    "* Asignación →  → cuando se modifica el valor de la variable\n"
   ]
  },
  {
   "cell_type": "code",
   "execution_count": null,
   "id": "9e8cf04e",
   "metadata": {},
   "outputs": [],
   "source": [
    "x=3\n",
    "x=10\n",
    "print(x) #imprime 10 que es el último valor, una nueva asignación reemplaza el valor de la vble.\n",
    "x=x+1    #ahora la variable x vale 11.  Equivale a poner   x+=1   (contador)\n",
    "x"
   ]
  },
  {
   "cell_type": "code",
   "execution_count": null,
   "id": "8157ad7d",
   "metadata": {},
   "outputs": [],
   "source": [
    "a, b, c = 10, 20, 30   #asignación a múltiples variables\n",
    "p = q = r = 1          #las tres variables se asignan al mismo valor\n",
    "print('a=',a,'b=',b,'c=',c)\n",
    "print('a='+str(a)+', b='+str(b)+', c='+str(c))\n",
    "print(f'p={p},q={q},r={r}')"
   ]
  },
  {
   "cell_type": "markdown",
   "id": "25a6156f",
   "metadata": {},
   "source": [
    "# Permutar valores  \n",
    "## Utilizando una variable auxiliar"
   ]
  },
  {
   "cell_type": "code",
   "execution_count": null,
   "id": "bcb071e5",
   "metadata": {},
   "outputs": [],
   "source": [
    "a = 10\n",
    "b = 20\n",
    "aux = a               #creamos una variable auxiliar\n",
    "a = b\n",
    "b = aux\n",
    "print(f'a={a},b={b}')"
   ]
  },
  {
   "cell_type": "markdown",
   "id": "113b1dee",
   "metadata": {},
   "source": [
    "## Python permite permutar en una sola línea"
   ]
  },
  {
   "cell_type": "code",
   "execution_count": null,
   "id": "ba95b435",
   "metadata": {},
   "outputs": [],
   "source": [
    "a = 10; b = 20\n",
    "a, b = b, a                #otra forma maravillosa de permutar valores\n",
    "print(f'a={a}, b={b}')"
   ]
  },
  {
   "cell_type": "markdown",
   "id": "600dc401",
   "metadata": {},
   "source": [
    "# Constantes  \n",
    "En Python no hay que declarar las constantes.  \n",
    "Una constante es una variable que no cambiará durante la ejecución del programa.  \n",
    "Por convenio se nombran en mayúsculas, por ejemplo:"
   ]
  },
  {
   "cell_type": "code",
   "execution_count": null,
   "id": "52f642f5",
   "metadata": {},
   "outputs": [],
   "source": [
    "IVA = 0.21\n",
    "IVA"
   ]
  },
  {
   "cell_type": "markdown",
   "id": "5bbe8678",
   "metadata": {},
   "source": [
    "Otra opción es incorporar todas las constantes a un fichero y luego importar el fichero.  \n",
    "Creamos el archivo *constantes.py* en la subcarpeta *mypy* (o el nombre que quieras)"
   ]
  },
  {
   "cell_type": "code",
   "execution_count": 7,
   "id": "188cd167",
   "metadata": {},
   "outputs": [],
   "source": [
    "# este el contenido del archivo constantes.py\n",
    "LUZ = 299708  #velocidad de la luz en km/s\n",
    "G = 9,832     #gravedad de la tierra m/s2"
   ]
  },
  {
   "cell_type": "markdown",
   "id": "a222b7f1",
   "metadata": {},
   "source": [
    "Luego importamos la constante LUZ con alguno de los siguientes métodos."
   ]
  },
  {
   "cell_type": "code",
   "execution_count": 5,
   "id": "a55a1dce",
   "metadata": {},
   "outputs": [
    {
     "name": "stdout",
     "output_type": "stream",
     "text": [
      "1.356987467801994 segundos\n"
     ]
    }
   ],
   "source": [
    "# Método 1\n",
    "# importamos todo el módulo\n",
    "from mypy import *\n",
    "max_tiempo_hasta_luna = 406700 / constantes.LUZ\n",
    "print(max_tiempo_hasta_luna, 'segundos')"
   ]
  },
  {
   "cell_type": "code",
   "execution_count": 2,
   "id": "3f9df4d5",
   "metadata": {},
   "outputs": [
    {
     "name": "stdout",
     "output_type": "stream",
     "text": [
      "1.356987467801994 segundos\n"
     ]
    }
   ],
   "source": [
    "# Método 2\n",
    "# Otra forma de importar solo la constante LUZ\n",
    "from mypy.constantes import LUZ\n",
    "max_tiempo_hasta_luna = 406700 / LUZ\n",
    "print(max_tiempo_hasta_luna, 'segundos')"
   ]
  },
  {
   "cell_type": "code",
   "execution_count": 6,
   "id": "7562442b",
   "metadata": {},
   "outputs": [
    {
     "name": "stdout",
     "output_type": "stream",
     "text": [
      "1.356987467801994 segundos\n"
     ]
    }
   ],
   "source": [
    "# Método 3\n",
    "# importamos todas las constantes\n",
    "import mypy.constantes\n",
    "max_tiempo_hasta_luna = 406700 / constantes.LUZ\n",
    "print(max_tiempo_hasta_luna, 'segundos')"
   ]
  }
 ],
 "metadata": {
  "kernelspec": {
   "display_name": "Python 3",
   "language": "python",
   "name": "python3"
  },
  "language_info": {
   "codemirror_mode": {
    "name": "ipython",
    "version": 3
   },
   "file_extension": ".py",
   "mimetype": "text/x-python",
   "name": "python",
   "nbconvert_exporter": "python",
   "pygments_lexer": "ipython3",
   "version": "3.8.8"
  }
 },
 "nbformat": 4,
 "nbformat_minor": 5
}
