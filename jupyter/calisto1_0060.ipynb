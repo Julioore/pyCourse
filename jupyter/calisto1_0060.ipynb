{
 "cells": [
  {
   "cell_type": "markdown",
   "id": "92dd3999",
   "metadata": {},
   "source": [
    "# Variables  \n",
    "* Declaración → → en Python no declaramos el tipo de las variables\n",
    "* Inicialización →→ cuando se asigna un primer valor\n",
    "* Asignación →  → cuando se modifica el valor de la variable\n"
   ]
  },
  {
   "cell_type": "code",
   "execution_count": null,
   "id": "8651774a",
   "metadata": {},
   "outputs": [],
   "source": [
    "x=3\n",
    "x=10\n",
    "print(x) #imprime 10 que es el último valor, una nueva asignación reemplaza el valor de la vble.\n",
    "x=x+1    #ahora la variable x vale 11.  Equivale a poner   x+=1   (contador)\n",
    "x"
   ]
  },
  {
   "cell_type": "code",
   "execution_count": null,
   "id": "018170d5",
   "metadata": {},
   "outputs": [],
   "source": [
    "a, b, c = 10, 20, 30   #asignación a múltiples variables\n",
    "p=q=r=1                #las tres variables se asignan al mismo valor\n",
    "print('a=',a,'b=',b,'c=',c)\n",
    "print('a='+str(a)+', b='+str(b)+', c='+str(c))\n",
    "print(f'p={p},q={q},r={r}')"
   ]
  },
  {
   "cell_type": "markdown",
   "id": "4d9606dc",
   "metadata": {},
   "source": [
    "# Permutar valores  \n",
    "## Utilizando una variable auxiliar"
   ]
  },
  {
   "cell_type": "code",
   "execution_count": null,
   "id": "f38694e8",
   "metadata": {},
   "outputs": [],
   "source": [
    "a = 10\n",
    "b = 20\n",
    "aux = a               #creamos una variable auxiliar\n",
    "a = b\n",
    "b = aux\n",
    "print(f'a={a},b={b}')"
   ]
  },
  {
   "cell_type": "markdown",
   "id": "e8d06b4a",
   "metadata": {},
   "source": [
    "## Python permite permutar en una sola línea"
   ]
  },
  {
   "cell_type": "code",
   "execution_count": null,
   "id": "9f279da7",
   "metadata": {},
   "outputs": [],
   "source": [
    "a = 10; b = 20\n",
    "a,b=b,a                #otra forma maravillosa de permutar valores\n",
    "print(f'a={a},b={b}')"
   ]
  },
  {
   "cell_type": "markdown",
   "id": "9f6f3004",
   "metadata": {},
   "source": [
    "# Constantes  \n",
    "En Python no hay que declarar las constantes.  \n",
    "Una constante es una variable que no cambiará durante la ejecución del programa.  \n",
    "Por convenio se nombran en mayúsculas, por ejemplo:"
   ]
  },
  {
   "cell_type": "code",
   "execution_count": 22,
   "id": "f91092a5",
   "metadata": {},
   "outputs": [
    {
     "data": {
      "text/plain": [
       "0.21"
      ]
     },
     "execution_count": 22,
     "metadata": {},
     "output_type": "execute_result"
    }
   ],
   "source": [
    "IVA = 0.21\n",
    "IVA"
   ]
  },
  {
   "cell_type": "markdown",
   "id": "4c8d071b",
   "metadata": {},
   "source": [
    "Otra opción es incorporar todas las constantes a un fichero y luego importar el fichero."
   ]
  },
  {
   "cell_type": "code",
   "execution_count": 23,
   "id": "3c11fe5d",
   "metadata": {},
   "outputs": [],
   "source": [
    "#archivo:  constantes.py\n",
    "LUZ = 299708  #velocidad de la luz en km/s\n",
    "G = 9,832     #gravedad de la tierra m/s2"
   ]
  },
  {
   "cell_type": "code",
   "execution_count": 3,
   "id": "9c7b56f8",
   "metadata": {
    "scrolled": true
   },
   "outputs": [
    {
     "name": "stdout",
     "output_type": "stream",
     "text": [
      "1.356987467801994 segundos\n"
     ]
    }
   ],
   "source": [
    "# luego importamos todas las constantes\n",
    "import constantes\n",
    "max_tiempo_hasta_luna = 406700 / constantes.LUZ\n",
    "print(max_tiempo_hasta_luna, 'segundos')"
   ]
  },
  {
   "cell_type": "code",
   "execution_count": null,
   "id": "f46a5fed",
   "metadata": {},
   "outputs": [],
   "source": []
  }
 ],
 "metadata": {
  "kernelspec": {
   "display_name": "Python 3",
   "language": "python",
   "name": "python3"
  },
  "language_info": {
   "codemirror_mode": {
    "name": "ipython",
    "version": 3
   },
   "file_extension": ".py",
   "mimetype": "text/x-python",
   "name": "python",
   "nbconvert_exporter": "python",
   "pygments_lexer": "ipython3",
   "version": "3.8.5"
  }
 },
 "nbformat": 4,
 "nbformat_minor": 5
}
