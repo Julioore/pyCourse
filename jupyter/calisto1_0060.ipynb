{
 "cells": [
  {
   "cell_type": "markdown",
   "id": "a25c8599",
   "metadata": {},
   "source": [
    "# Maquetando texto\n",
    "## Alineación"
   ]
  },
  {
   "cell_type": "code",
   "execution_count": 1,
   "id": "96601276",
   "metadata": {},
   "outputs": [
    {
     "name": "stdout",
     "output_type": "stream",
     "text": [
      "                        Python\n"
     ]
    }
   ],
   "source": [
    "print(\"{:>30}\".format(\"Python\")) # alineación a la derecha de 30 caracteres"
   ]
  },
  {
   "cell_type": "code",
   "execution_count": 2,
   "id": "2b732c96",
   "metadata": {},
   "outputs": [
    {
     "name": "stdout",
     "output_type": "stream",
     "text": [
      "Python                        \n"
     ]
    }
   ],
   "source": [
    "print(\"{:30}\".format(\"Python\")) # alineación a la izquierda de 30 caracteres"
   ]
  },
  {
   "cell_type": "code",
   "execution_count": 3,
   "id": "7f92cd80",
   "metadata": {},
   "outputs": [
    {
     "name": "stdout",
     "output_type": "stream",
     "text": [
      "            Python            \n"
     ]
    }
   ],
   "source": [
    "print(\"{:^30}\".format(\"Python\")) # alineación al centro de 30 caracteres, doce espacios a cada lado"
   ]
  },
  {
   "cell_type": "code",
   "execution_count": 4,
   "id": "8b9c59d6",
   "metadata": {},
   "outputs": [
    {
     "name": "stdout",
     "output_type": "stream",
     "text": [
      "Pyt\n"
     ]
    }
   ],
   "source": [
    "print(\"{:.3}\".format(\"Python\")) # truncamiento a 3 caracteres"
   ]
  },
  {
   "cell_type": "code",
   "execution_count": 5,
   "id": "e674b06d",
   "metadata": {},
   "outputs": [
    {
     "name": "stdout",
     "output_type": "stream",
     "text": [
      "Me gusta JavaScript y también Py\n"
     ]
    }
   ],
   "source": [
    "print(\"Me gusta {a} y también {b:.2}\".format(a=\"JavaScript\",b=\"Python\")) # dos palabras"
   ]
  },
  {
   "cell_type": "code",
   "execution_count": 6,
   "id": "48a6a21b",
   "metadata": {},
   "outputs": [
    {
     "name": "stdout",
     "output_type": "stream",
     "text": [
      "Me gusta         Java         y también Python\n"
     ]
    }
   ],
   "source": [
    "print(\"Me gusta {a:^20.4} y también {b}\".format(a=\"JavaScript\",b=\"Python\")) # podemos mezclar: centrado y truncado"
   ]
  },
  {
   "cell_type": "markdown",
   "id": "4953012d",
   "metadata": {},
   "source": [
    "## Formateo de números enteros"
   ]
  },
  {
   "cell_type": "code",
   "execution_count": 7,
   "id": "9ec2bb7d",
   "metadata": {},
   "outputs": [
    {
     "name": "stdout",
     "output_type": "stream",
     "text": [
      "10\n",
      "100\n",
      "1000\n"
     ]
    }
   ],
   "source": [
    "print(\"{}\".format(10))       # nos gustaría alinearlos\n",
    "print(\"{}\".format(100))\n",
    "print(\"{}\".format(1000))"
   ]
  },
  {
   "cell_type": "code",
   "execution_count": 8,
   "id": "0b295c8a",
   "metadata": {},
   "outputs": [
    {
     "name": "stdout",
     "output_type": "stream",
     "text": [
      "  10\n",
      " 100\n",
      "1000\n"
     ]
    }
   ],
   "source": [
    "print(\"{:4d}\".format(10))     # alineado a 4 digigos\n",
    "print(\"{:4d}\".format(100))\n",
    "print(\"{:4d}\".format(1000))"
   ]
  },
  {
   "cell_type": "markdown",
   "id": "a413dc88",
   "metadata": {},
   "source": [
    "## Formateo de números flotantes\n",
    "### Rellenados con espacios"
   ]
  },
  {
   "cell_type": "code",
   "execution_count": 9,
   "id": "7a6a1a79",
   "metadata": {},
   "outputs": [
    {
     "data": {
      "text/plain": [
       "2.718281828459045"
      ]
     },
     "execution_count": 9,
     "metadata": {},
     "output_type": "execute_result"
    }
   ],
   "source": [
    "import math\n",
    "e = math.exp(1)\n",
    "e"
   ]
  },
  {
   "cell_type": "code",
   "execution_count": 10,
   "id": "b752aafa",
   "metadata": {},
   "outputs": [
    {
     "name": "stdout",
     "output_type": "stream",
     "text": [
      "Número e = 2.7183\n"
     ]
    }
   ],
   "source": [
    "print(\"Número e = {:.4f}\".format(e)) # formato redondeado a 4 decimales"
   ]
  },
  {
   "cell_type": "markdown",
   "id": "df2acb0a",
   "metadata": {},
   "source": [
    "#### ```f``` significa format\n",
    "Permite imprimir con formato."
   ]
  },
  {
   "cell_type": "code",
   "execution_count": 11,
   "id": "064208c8",
   "metadata": {},
   "outputs": [
    {
     "name": "stdout",
     "output_type": "stream",
     "text": [
      "Número e = 2.72\n"
     ]
    }
   ],
   "source": [
    "print(f\"Número e = {e:.2f}\")         # con el otro sistema de formato"
   ]
  },
  {
   "cell_type": "code",
   "execution_count": 12,
   "id": "92ecf1e6",
   "metadata": {},
   "outputs": [
    {
     "name": "stdout",
     "output_type": "stream",
     "text": [
      "Número e = 2.718\n",
      "Número G = 667.42\n"
     ]
    }
   ],
   "source": [
    "G = 667.42\n",
    "print(f\"Número e = {e:.3f}\")\n",
    "print(f\"Número G = {G:.2f}\")         # nos guataría alinear los dos valores float al punto decimal"
   ]
  },
  {
   "cell_type": "markdown",
   "id": "a40bdf56",
   "metadata": {},
   "source": [
    "Alineando al punto decimal.  \n",
    "Vemos que en total son 7 caracteres (3 enteros, el punto, 3 decimales)."
   ]
  },
  {
   "cell_type": "code",
   "execution_count": 13,
   "id": "98c9149b",
   "metadata": {},
   "outputs": [
    {
     "name": "stdout",
     "output_type": "stream",
     "text": [
      "Número e =   2.718\n",
      "Número G = 667.420\n"
     ]
    }
   ],
   "source": [
    "print(f\"Número e = {e:7.3f}\")\n",
    "print(f\"Número G = {G:7.3f}\")"
   ]
  },
  {
   "cell_type": "markdown",
   "id": "845a0ef2",
   "metadata": {},
   "source": [
    "### Rellenar con ceros"
   ]
  },
  {
   "cell_type": "code",
   "execution_count": 14,
   "id": "767532fb",
   "metadata": {},
   "outputs": [
    {
     "name": "stdout",
     "output_type": "stream",
     "text": [
      "Número e = 002.718\n",
      "Número G = 667.420\n"
     ]
    }
   ],
   "source": [
    "print(f\"Número e = {e:07.3f}\")\n",
    "print(f\"Número G = {G:07.3f}\")"
   ]
  }
 ],
 "metadata": {
  "kernelspec": {
   "display_name": "Python 3",
   "language": "python",
   "name": "python3"
  },
  "language_info": {
   "codemirror_mode": {
    "name": "ipython",
    "version": 3
   },
   "file_extension": ".py",
   "mimetype": "text/x-python",
   "name": "python",
   "nbconvert_exporter": "python",
   "pygments_lexer": "ipython3",
   "version": "3.8.8"
  }
 },
 "nbformat": 4,
 "nbformat_minor": 5
}
