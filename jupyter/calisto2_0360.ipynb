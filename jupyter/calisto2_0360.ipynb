{
  "cells": [
    {
      "cell_type": "markdown",
      "metadata": {
        "id": "view-in-github",
        "colab_type": "text"
      },
      "source": [
        "<a href=\"https://colab.research.google.com/github/financieras/pyCourse/blob/main/jupyter/calisto2_0360.ipynb\" target=\"_parent\"><img src=\"https://colab.research.google.com/assets/colab-badge.svg\" alt=\"Open In Colab\"/></a>"
      ]
    },
    {
      "cell_type": "markdown",
      "metadata": {
        "id": "z21CbSjsgQs8"
      },
      "source": [
        "# @classmethod  @staticmethod\n",
        "Hay tres tipos de métodos:\n",
        "* Métodos estáticos\n",
        "* Métodos de clase\n",
        "* Métodos de instancia\n",
        "\n",
        "## Métodos de clase\n",
        "* Se antepone la palabra reservada **@classmethod**.  \n",
        "* Este método puede ser llamado sin crear una instancia de clase (al método estático le pasa lo mismo).  \n",
        "* Estos métodos no tienen acceso a los atributos de instancia ya que ninguna instancia fue creada para poder utilizarlo.\n",
        "* @classmethod recibe la clase como primer argumento, se suele llamar cls por convención\n",
        "* Cuando se llama a este método, se pasa la clase como primer argumento en lugar de la instancia de esa clase (como hacemos normalmente con métodos).\n",
        "* Esto supone que puede utilizar la clase y sus propiedades dentro de ese método sin tener que crear una instancia "
      ]
    },
    {
      "cell_type": "code",
      "execution_count": 1,
      "metadata": {
        "id": "bFt4K5PIgQtE",
        "outputId": "8cd56906-edd3-4b42-ff35-981a07382977",
        "colab": {
          "base_uri": "https://localhost:8080/"
        }
      },
      "outputs": [
        {
          "output_type": "stream",
          "name": "stdout",
          "text": [
            "Ingredientes del pastel (['harina', 'leche', 'chocolate'])\n"
          ]
        }
      ],
      "source": [
        "class Pastel:\n",
        "    def __init__(self, ingredientes):\n",
        "        self.ingredientes = ingredientes\n",
        "    def __repr__(self):\n",
        "        return f'Ingredientes del pastel ({self.ingredientes !r})'\n",
        "    @classmethod\n",
        "    def Pastel_chocolate(cls):\n",
        "        return cls(['harina', 'leche', 'chocolate'])\n",
        "    @classmethod\n",
        "    def Pastel_vainilla(cls):\n",
        "        return cls(['harina', 'leche', 'vainilla'])\n",
        "    \n",
        "print(Pastel.Pastel_chocolate())"
      ]
    },
    {
      "cell_type": "markdown",
      "metadata": {
        "id": "C72c0teUgQtI"
      },
      "source": [
        "### Pizza"
      ]
    },
    {
      "cell_type": "code",
      "execution_count": 2,
      "metadata": {
        "id": "q_6o1lEQgQtJ",
        "outputId": "cc6b956d-58b6-4292-97db-eaff54d21a36",
        "colab": {
          "base_uri": "https://localhost:8080/"
        }
      },
      "outputs": [
        {
          "output_type": "stream",
          "name": "stdout",
          "text": [
            "3.7.13\n"
          ]
        }
      ],
      "source": [
        "from platform import python_version\n",
        "print(python_version())"
      ]
    },
    {
      "cell_type": "code",
      "execution_count": 9,
      "metadata": {
        "id": "dHUBolLmgQtL",
        "outputId": "673e7339-e5ed-40e7-ff1f-14735d034d27",
        "colab": {
          "base_uri": "https://localhost:8080/"
        }
      },
      "outputs": [
        {
          "output_type": "stream",
          "name": "stdout",
          "text": [
            "Reading package lists... Done\n",
            "Building dependency tree       \n",
            "Reading state information... Done\n",
            "enum is already the newest version (1.1-1).\n",
            "0 upgraded, 0 newly installed, 0 to remove and 41 not upgraded.\n"
          ]
        }
      ],
      "source": [
        "# posiblemente se necesite instalar la librearía enum\n",
        "#!pip install enum\n",
        "!sudo apt install enum"
      ]
    },
    {
      "cell_type": "code",
      "source": [
        "from enum import Enum"
      ],
      "metadata": {
        "id": "IL83A2IvjD3o"
      },
      "execution_count": 10,
      "outputs": []
    },
    {
      "cell_type": "code",
      "execution_count": 11,
      "metadata": {
        "id": "j5acJI3ZgQtL",
        "outputId": "1b5212ae-8b56-4e8a-8f79-891e0aa8a355",
        "colab": {
          "base_uri": "https://localhost:8080/",
          "height": 185
        }
      },
      "outputs": [
        {
          "output_type": "error",
          "ename": "TypeError",
          "evalue": "ignored",
          "traceback": [
            "\u001b[0;31m---------------------------------------------------------------------------\u001b[0m",
            "\u001b[0;31mTypeError\u001b[0m                                 Traceback (most recent call last)",
            "\u001b[0;32m<ipython-input-11-e32a246be24d>\u001b[0m in \u001b[0;36m<module>\u001b[0;34m()\u001b[0m\n\u001b[0;32m----> 1\u001b[0;31m \u001b[0mColours\u001b[0m \u001b[0;34m=\u001b[0m \u001b[0mEnum\u001b[0m\u001b[0;34m(\u001b[0m\u001b[0;34m'red'\u001b[0m\u001b[0;34m,\u001b[0m \u001b[0;34m'blue'\u001b[0m\u001b[0;34m,\u001b[0m \u001b[0;34m'green'\u001b[0m\u001b[0;34m)\u001b[0m\u001b[0;34m\u001b[0m\u001b[0;34m\u001b[0m\u001b[0m\n\u001b[0m\u001b[1;32m      2\u001b[0m \u001b[0;31m#Weekdays = Enum('mon', 'tue', 'wed', 'thu', 'fri', 'sat', 'sun')\u001b[0m\u001b[0;34m\u001b[0m\u001b[0;34m\u001b[0m\u001b[0;34m\u001b[0m\u001b[0m\n",
            "\u001b[0;31mTypeError\u001b[0m: __call__() takes from 2 to 3 positional arguments but 4 were given"
          ]
        }
      ],
      "source": [
        "Colours = Enum('red', 'blue', 'green')\n",
        "#Weekdays = Enum('mon', 'tue', 'wed', 'thu', 'fri', 'sat', 'sun')"
      ]
    },
    {
      "cell_type": "code",
      "execution_count": null,
      "metadata": {
        "id": "36QAd50pgQtM"
      },
      "outputs": [],
      "source": [
        "from enum import Enum\n",
        "\n",
        "class Tamano(Enum):  # Una enumeración es simplemente ponerle nombre a números\n",
        "    normal = 1\n",
        "    familiar = 2\n",
        "    xl = 3\n",
        "\n",
        "class Pizza:\n",
        "    def __init__(self, precio, tamano, ingredientes):\n",
        "        self.precio = precio\n",
        "        self.tamano = tamano\n",
        "        self.ingredientes = ingredientes\n",
        "        \n",
        "    def __str__(self):\n",
        "        return(f\"Pizza: \\\n",
        "              \\n{self.precio} \\\n",
        "              \\n{self.tamano} \\\n",
        "              \\n{self.ingredientes}\")\n",
        "\n",
        "    @classmethod\n",
        "    def napolitana(cls, tamano):\n",
        "        precio_napolitana = 8990 #* tamano\n",
        "        ingredientes = ['Queso', 'Orégano', 'Tomate']\n",
        "        # Instanciamos 'cls' que es la clase Pizza\n",
        "        return cls(precio_napolitana, tamano, ingredientes)\n",
        "\n",
        "\n",
        "# Puedo crear pizzas 'a mano':\n",
        "hawaiana = Pizza(9990, Tamano.normal, ['Tomate', 'Jamón', 'Piña'])\n",
        "\n",
        "print(hawaiana)                      # vemos sus características con __str__"
      ]
    },
    {
      "cell_type": "code",
      "execution_count": null,
      "metadata": {
        "id": "58BIPk_BgQtO"
      },
      "outputs": [],
      "source": [
        "# Creamos una pizza con nuestro método de clase\n",
        "napolitana = Pizza.napolitana(Tamano.familiar)\n",
        "print(napolitana)                      # vemos sus características con __str__"
      ]
    },
    {
      "cell_type": "markdown",
      "metadata": {
        "id": "kFLlcRahgQtO"
      },
      "source": [
        "### Bound method\n",
        "Método enlazado."
      ]
    },
    {
      "cell_type": "code",
      "execution_count": null,
      "metadata": {
        "id": "baS3iBuLgQtQ",
        "outputId": "4d2d5349-08f6-45a7-827a-679de3870df9"
      },
      "outputs": [
        {
          "name": "stdout",
          "output_type": "stream",
          "text": [
            "Pasajeros de micoche antes de llamar al Setter =  4\n",
            "Pasajeros de micoche después de llamar al Setter =  5\n",
            "<bound method Car.set_pasajeros of <class '__main__.Car'>>\n"
          ]
        },
        {
          "data": {
            "text/plain": [
              "5"
            ]
          },
          "execution_count": 7,
          "metadata": {},
          "output_type": "execute_result"
        }
      ],
      "source": [
        "class Car:\n",
        "    pasajeros = 4\n",
        "   \n",
        "    @classmethod                                # un método de clase para cambiar el número de pasajeros\n",
        "    def set_pasajeros(cls, pasajeros):\n",
        "        cls.pasajeros = pasajeros\n",
        "\n",
        "micoche = Car()                                 # creamos una instancia de Car\n",
        "  \n",
        "print(\"Pasajeros de micoche antes de llamar al Setter = \", micoche.pasajeros)\n",
        "micoche.set_pasajeros(5) \n",
        "print(\"Pasajeros de micoche después de llamar al Setter = \", micoche.pasajeros)\n",
        "\n",
        "print(micoche.set_pasajeros)                    # bound method\n",
        "Car.pasajeros"
      ]
    },
    {
      "cell_type": "markdown",
      "metadata": {
        "id": "125MbW_GgQtS"
      },
      "source": [
        "## Métodos estáticos\n",
        "* Se antepone la palabra reservada **@staticmethod**\n",
        "* Pueden ser llamados sin tener una instancia de la clase\n",
        "* No tienen acceso al exterior, no tienen acceso a ningún otro atributo ni método"
      ]
    },
    {
      "cell_type": "code",
      "execution_count": null,
      "metadata": {
        "id": "CGFbDQLrgQtT"
      },
      "outputs": [],
      "source": [
        "import math\n",
        "class Pastel:\n",
        "    def __init__(self, ingredientes, tamaño):\n",
        "        self.ingredientes = ingredientes\n",
        "        self.tamaño = tamaño\n",
        "    def __repr__(self):\n",
        "        return (f'Ingredientes ({self.ingredientes}, 'f'Tamaño {self.tamaño})')\n",
        "    def area(self):\n",
        "        return self.tamaño_area(self.tamaño)\n",
        "    @staticmethod\n",
        "    def tamaño_area(A):\n",
        "        return math.pi*A**2\n",
        "    \n",
        "mi_pastel = Pastel(['harina', 'huevos', 'leche', 'azucar'], 20)\n",
        "print(mi_pastel.ingredientes)\n",
        "print(mi_pastel.tamaño)\n",
        "print(mi_pastel.tamaño_area(10))"
      ]
    }
  ],
  "metadata": {
    "kernelspec": {
      "display_name": "Python 3",
      "language": "python",
      "name": "python3"
    },
    "language_info": {
      "codemirror_mode": {
        "name": "ipython",
        "version": 3
      },
      "file_extension": ".py",
      "mimetype": "text/x-python",
      "name": "python",
      "nbconvert_exporter": "python",
      "pygments_lexer": "ipython3",
      "version": "3.8.8"
    },
    "colab": {
      "name": "calisto2_0360.ipynb",
      "provenance": [],
      "include_colab_link": true
    }
  },
  "nbformat": 4,
  "nbformat_minor": 0
}