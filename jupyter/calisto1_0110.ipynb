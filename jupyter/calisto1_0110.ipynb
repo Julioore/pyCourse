{
 "cells": [
  {
   "cell_type": "markdown",
   "id": "bc1d536c",
   "metadata": {},
   "source": [
    "# String como iterable"
   ]
  },
  {
   "cell_type": "code",
   "execution_count": null,
   "id": "eaf3c600",
   "metadata": {},
   "outputs": [],
   "source": [
    "ciudad = \"Buenos Aires\"\n",
    "print(ciudad[0])   # B se comienza por el índice 0\n",
    "print(ciudad[1])   # u\n",
    "print(ciudad[2])   # e\n",
    "print(ciudad[3])   # n\n",
    "print(ciudad[4])   # o\n",
    "print(ciudad[5])   # s\n",
    "print(ciudad[6])   # \n",
    "print(ciudad[7])   # A\n",
    "print(ciudad[8])   # i\n",
    "print(ciudad[9])   # r\n",
    "print(ciudad[10])  # e\n",
    "print(ciudad[11])  # s"
   ]
  },
  {
   "cell_type": "markdown",
   "id": "56642a74",
   "metadata": {},
   "source": [
    "## Índices negativos"
   ]
  },
  {
   "cell_type": "code",
   "execution_count": null,
   "id": "8dd97d5d",
   "metadata": {},
   "outputs": [],
   "source": [
    "print(ciudad[-1])                # s\n",
    "print(ciudad[len(ciudad)-1])     # s\n",
    "print(ciudad[-len(ciudad)])      # B"
   ]
  },
  {
   "cell_type": "markdown",
   "id": "3fce2800",
   "metadata": {},
   "source": [
    "## Slicing (métodos de corte)"
   ]
  },
  {
   "cell_type": "code",
   "execution_count": null,
   "id": "7808baf8",
   "metadata": {},
   "outputs": [],
   "source": [
    "print(ciudad[0:4])     #Buen\n",
    "print(ciudad[:4])      #Buen\n",
    "print(ciudad[7:10])    #Air\n",
    "print(ciudad[:])       #Buenos Aires\n",
    "print(ciudad[2:9:2])   #eo i"
   ]
  },
  {
   "cell_type": "markdown",
   "id": "6a4e7051",
   "metadata": {},
   "source": [
    "## Reverso de un string"
   ]
  },
  {
   "cell_type": "code",
   "execution_count": null,
   "id": "ac67b6a3",
   "metadata": {},
   "outputs": [],
   "source": [
    "palabra='sogima'\n",
    "print(palabra[::-1])   #reverso de una palabra"
   ]
  }
 ],
 "metadata": {
  "kernelspec": {
   "display_name": "Python 3",
   "language": "python",
   "name": "python3"
  },
  "language_info": {
   "codemirror_mode": {
    "name": "ipython",
    "version": 3
   },
   "file_extension": ".py",
   "mimetype": "text/x-python",
   "name": "python",
   "nbconvert_exporter": "python",
   "pygments_lexer": "ipython3",
   "version": "3.8.10"
  }
 },
 "nbformat": 4,
 "nbformat_minor": 5
}
