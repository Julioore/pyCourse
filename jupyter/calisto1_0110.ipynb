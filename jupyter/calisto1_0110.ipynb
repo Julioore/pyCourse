{
 "cells": [
  {
   "cell_type": "markdown",
   "id": "7c0d850e",
   "metadata": {},
   "source": [
    "# Funciones internas\n",
    "Funciones integradas en Python.  \n",
    "[Funciones Built-in](https://docs.python.org/es/3.9/library/functions.html)"
   ]
  },
  {
   "cell_type": "markdown",
   "id": "3a6fac56",
   "metadata": {},
   "source": [
    "- print()\n",
    "- exit()\n",
    "- abs()\n",
    "- round()\n",
    "- chr()\n",
    "- float()\n",
    "- int()\n",
    "- str()\n",
    "- input()\n",
    "- len()\n",
    "- max()\n",
    "- min()\n",
    "- sum()\n",
    "- pow()\n",
    "- eval()"
   ]
  },
  {
   "cell_type": "markdown",
   "id": "0cc98642",
   "metadata": {},
   "source": [
    "## type"
   ]
  },
  {
   "cell_type": "code",
   "execution_count": null,
   "id": "8349d7c6",
   "metadata": {},
   "outputs": [],
   "source": [
    "type(\"Hola\")"
   ]
  },
  {
   "cell_type": "code",
   "execution_count": null,
   "id": "8245f5b9",
   "metadata": {},
   "outputs": [],
   "source": [
    "type(5)"
   ]
  },
  {
   "cell_type": "code",
   "execution_count": null,
   "id": "5d7f67c6",
   "metadata": {},
   "outputs": [],
   "source": [
    "type(10/2)"
   ]
  },
  {
   "cell_type": "code",
   "execution_count": null,
   "id": "821f6506",
   "metadata": {},
   "outputs": [],
   "source": [
    "type(5==5)"
   ]
  },
  {
   "cell_type": "code",
   "execution_count": null,
   "id": "4484a4ef",
   "metadata": {},
   "outputs": [],
   "source": [
    "type(5=='5')"
   ]
  },
  {
   "cell_type": "code",
   "execution_count": null,
   "id": "9a92e47b",
   "metadata": {},
   "outputs": [],
   "source": [
    "num = input(\"Indique un número:\")\n",
    "print(7==num)                      # ¿alguna vez dará True?\n",
    "type(7==num)"
   ]
  },
  {
   "cell_type": "markdown",
   "id": "62f9a62b",
   "metadata": {},
   "source": [
    "## len"
   ]
  },
  {
   "cell_type": "code",
   "execution_count": null,
   "id": "d50a8769",
   "metadata": {},
   "outputs": [],
   "source": [
    "len(\"Hola\")                       # longitud 4"
   ]
  },
  {
   "cell_type": "code",
   "execution_count": null,
   "id": "2c640cb4",
   "metadata": {},
   "outputs": [],
   "source": [
    "len([])"
   ]
  },
  {
   "cell_type": "markdown",
   "id": "1865ff75",
   "metadata": {},
   "source": [
    "## eval"
   ]
  },
  {
   "cell_type": "code",
   "execution_count": null,
   "id": "cf2a0493",
   "metadata": {},
   "outputs": [],
   "source": [
    "x = 2\n",
    "eval(\"1+3*x\")                     # 7"
   ]
  },
  {
   "cell_type": "markdown",
   "id": "00935809",
   "metadata": {},
   "source": [
    "## sum"
   ]
  },
  {
   "cell_type": "code",
   "execution_count": null,
   "id": "1c5c3f42",
   "metadata": {},
   "outputs": [],
   "source": [
    "sum([1, 2, 3])                    # 6   suma los elementos de una lista"
   ]
  },
  {
   "cell_type": "markdown",
   "id": "16a91082",
   "metadata": {},
   "source": [
    "## pow"
   ]
  },
  {
   "cell_type": "code",
   "execution_count": null,
   "id": "36b726da",
   "metadata": {},
   "outputs": [],
   "source": [
    "pow(2,3)                          # función potencias"
   ]
  },
  {
   "cell_type": "markdown",
   "id": "6fac6b36",
   "metadata": {},
   "source": [
    "## abs"
   ]
  },
  {
   "cell_type": "code",
   "execution_count": null,
   "id": "e3e65f23",
   "metadata": {},
   "outputs": [],
   "source": [
    "abs(-3)"
   ]
  },
  {
   "cell_type": "markdown",
   "id": "fc8621d8",
   "metadata": {},
   "source": [
    "## round"
   ]
  },
  {
   "cell_type": "code",
   "execution_count": null,
   "id": "6eb6f90f",
   "metadata": {},
   "outputs": [],
   "source": [
    "round(6.9)"
   ]
  },
  {
   "cell_type": "code",
   "execution_count": null,
   "id": "fa63ebc8",
   "metadata": {},
   "outputs": [],
   "source": [
    "round(3.14159,3)"
   ]
  },
  {
   "cell_type": "markdown",
   "id": "c0fe273e",
   "metadata": {},
   "source": [
    "## str"
   ]
  },
  {
   "cell_type": "code",
   "execution_count": null,
   "id": "dd1e34db",
   "metadata": {},
   "outputs": [],
   "source": [
    "edad = 5\n",
    "#print('Solo tiene ' + edad + ' años')         # TypeError: can only concatenate str (not \"int\") to str"
   ]
  },
  {
   "cell_type": "code",
   "execution_count": null,
   "id": "4b6fb85c",
   "metadata": {},
   "outputs": [],
   "source": [
    "print('Solo tiene ' + str(edad) + ' años')     # Solo tiene 5 años  str() convierte un número en un string\n",
    "print('Solo tiene {} años'.format(edad))       # Solo tiene 5 años\n",
    "print(f'Solo tiene {edad} años')               # Solo tiene 5 años"
   ]
  },
  {
   "cell_type": "markdown",
   "id": "db4a2295",
   "metadata": {},
   "source": [
    "## int"
   ]
  },
  {
   "cell_type": "code",
   "execution_count": null,
   "id": "73507a0c",
   "metadata": {},
   "outputs": [],
   "source": [
    "print(int(5.7))                                # 5"
   ]
  },
  {
   "cell_type": "markdown",
   "id": "fd0071bd",
   "metadata": {},
   "source": [
    "## float"
   ]
  },
  {
   "cell_type": "code",
   "execution_count": null,
   "id": "d6612dfa",
   "metadata": {},
   "outputs": [],
   "source": [
    "float(\"3.14\")"
   ]
  },
  {
   "cell_type": "markdown",
   "id": "608879ef",
   "metadata": {},
   "source": [
    "## chr"
   ]
  },
  {
   "cell_type": "code",
   "execution_count": null,
   "id": "12ea3b7b",
   "metadata": {},
   "outputs": [],
   "source": [
    "chr(65)                                       # 'A' caracter código ASCII"
   ]
  },
  {
   "cell_type": "markdown",
   "id": "43b04620",
   "metadata": {},
   "source": [
    "## bin\n",
    "Para pasar un número a binario."
   ]
  },
  {
   "cell_type": "code",
   "execution_count": null,
   "id": "7d799289",
   "metadata": {},
   "outputs": [],
   "source": [
    "bin(3)"
   ]
  },
  {
   "cell_type": "code",
   "execution_count": null,
   "id": "551121a3",
   "metadata": {},
   "outputs": [],
   "source": [
    "int('0b11',2)                              # proceso inverso, convierte un binario en decimal, se indica base 2"
   ]
  },
  {
   "cell_type": "markdown",
   "id": "ddc1bf6c",
   "metadata": {},
   "source": [
    "There are only 10 kinds of people in the world: those who understand binary, and those who don't."
   ]
  },
  {
   "cell_type": "markdown",
   "id": "5204a6ed",
   "metadata": {},
   "source": [
    "## hex\n",
    "Para pasar a un número en hexadecimal (base 16)  \n",
    "* 0123456789abcdef"
   ]
  },
  {
   "cell_type": "code",
   "execution_count": null,
   "id": "41e78af8",
   "metadata": {},
   "outputs": [],
   "source": [
    "hex(10)"
   ]
  },
  {
   "cell_type": "code",
   "execution_count": null,
   "id": "0faf6874",
   "metadata": {},
   "outputs": [],
   "source": [
    "int('0xa',16)                              # proceso inverso, convierte un hexadecimal en decimal, se indica base 16"
   ]
  },
  {
   "cell_type": "markdown",
   "id": "dbbdf7f3",
   "metadata": {},
   "source": [
    "## hash\n",
    "Devuelve el hash de un valor."
   ]
  },
  {
   "cell_type": "code",
   "execution_count": null,
   "id": "3776ec86",
   "metadata": {},
   "outputs": [],
   "source": [
    "hash(\"hola\")"
   ]
  },
  {
   "cell_type": "code",
   "execution_count": null,
   "id": "1e609ca0",
   "metadata": {},
   "outputs": [],
   "source": [
    "hash(2) == hash(2.0)                       # el hash de un número entero coincide con el hash de ese número pero flotante"
   ]
  },
  {
   "cell_type": "markdown",
   "id": "1d15f5b6",
   "metadata": {},
   "source": [
    "## help\n",
    "Tecleando topics obtenemos palabras sobre las que podemos buscar ayuda.  \n",
    "Para salir de la ayuda persione q"
   ]
  },
  {
   "cell_type": "code",
   "execution_count": null,
   "id": "53ce96da",
   "metadata": {},
   "outputs": [],
   "source": [
    "help()"
   ]
  },
  {
   "cell_type": "markdown",
   "id": "99859d50",
   "metadata": {},
   "source": [
    "## Ejercicio  \n",
    "Solicitar al usuario dos números y calcular el máximo y el mínimo."
   ]
  },
  {
   "cell_type": "code",
   "execution_count": null,
   "id": "21218577",
   "metadata": {},
   "outputs": [],
   "source": [
    "num1 = float(input(\"Indique un número: \"))\n",
    "num2 = float(input(\"Indique otro número: \"))\n",
    "print(f'El máximo entre {num1} y {num2} es {max(num1,num2)}')\n",
    "print(f'El mínimo entre {num1} y {num2} es {min(num1,num2)}')"
   ]
  }
 ],
 "metadata": {
  "kernelspec": {
   "display_name": "Python 3",
   "language": "python",
   "name": "python3"
  },
  "language_info": {
   "codemirror_mode": {
    "name": "ipython",
    "version": 3
   },
   "file_extension": ".py",
   "mimetype": "text/x-python",
   "name": "python",
   "nbconvert_exporter": "python",
   "pygments_lexer": "ipython3",
   "version": "3.8.8"
  }
 },
 "nbformat": 4,
 "nbformat_minor": 5
}
