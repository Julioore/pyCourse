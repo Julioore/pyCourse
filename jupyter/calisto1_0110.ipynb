{
 "cells": [
  {
   "cell_type": "markdown",
   "metadata": {},
   "source": [
    "# String como iterable"
   ]
  },
  {
   "cell_type": "code",
   "execution_count": null,
   "metadata": {},
   "outputs": [],
   "source": [
    "ciudad = \"Buenos Aires\"\n",
    "print(ciudad[0])   # B se comienza por el índice 0\n",
    "print(ciudad[1])   # u\n",
    "print(ciudad[2])   # e\n",
    "print(ciudad[3])   # n\n",
    "print(ciudad[4])   # o\n",
    "print(ciudad[5])   # s\n",
    "print(ciudad[6])   # \n",
    "print(ciudad[7])   # A\n",
    "print(ciudad[8])   # i\n",
    "print(ciudad[9])   # r\n",
    "print(ciudad[10])  # e\n",
    "print(ciudad[11])  # s"
   ]
  },
  {
   "cell_type": "markdown",
   "metadata": {},
   "source": [
    "## Índices negativos"
   ]
  },
  {
   "cell_type": "code",
   "execution_count": null,
   "metadata": {},
   "outputs": [],
   "source": [
    "print(ciudad[-1])                # s\n",
    "print(ciudad[len(ciudad)-1])     # s\n",
    "print(ciudad[-len(ciudad)])      # B"
   ]
  },
  {
   "cell_type": "markdown",
   "metadata": {},
   "source": [
    "## Slicing (métodos de corte)"
   ]
  },
  {
   "cell_type": "code",
   "execution_count": null,
   "metadata": {},
   "outputs": [],
   "source": [
    "print(ciudad[0:4])     #Buen\n",
    "print(ciudad[:4])      #Buen\n",
    "print(ciudad[7:10])    #Air\n",
    "print(ciudad[:])       #Buenos Aires\n",
    "print(ciudad[2:9:2])   #eo i"
   ]
  },
  {
   "cell_type": "markdown",
   "metadata": {},
   "source": [
    "## Reverso de un string"
   ]
  },
  {
   "cell_type": "code",
   "execution_count": null,
   "metadata": {},
   "outputs": [],
   "source": [
    "palabra='sogima'\n",
    "print(palabra[::-1])   #reverso de una palabra"
   ]
  }
 ],
 "metadata": {
  "kernelspec": {
   "display_name": "Python 3",
   "language": "python",
   "name": "python3"
  },
  "language_info": {
   "codemirror_mode": {
    "name": "ipython",
    "version": 3
   },
   "file_extension": ".py",
   "mimetype": "text/x-python",
   "name": "python",
   "nbconvert_exporter": "python",
   "pygments_lexer": "ipython3",
   "version": "3.8.5"
  }
 },
 "nbformat": 4,
 "nbformat_minor": 5
}
