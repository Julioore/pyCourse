{
 "cells": [
  {
   "cell_type": "markdown",
   "id": "0a51a88a",
   "metadata": {},
   "source": [
    "# Diccionarios con estructuras"
   ]
  },
  {
   "cell_type": "code",
   "execution_count": 2,
   "id": "d5a89834",
   "metadata": {},
   "outputs": [
    {
     "name": "stdout",
     "output_type": "stream",
     "text": [
      "Ana\n",
      "Jose\n",
      "Luis\n",
      "Marta\n"
     ]
    }
   ],
   "source": [
    "edades = {'Ana':20,'Jose':23,'Luis':28,'Marta':17}\n",
    "for key in edades.keys():       #keys() Da una lista con las claves del diccionario\n",
    "    print(key)"
   ]
  },
  {
   "cell_type": "code",
   "execution_count": 4,
   "id": "96773d2f",
   "metadata": {},
   "outputs": [
    {
     "name": "stdout",
     "output_type": "stream",
     "text": [
      "20\n",
      "23\n",
      "28\n",
      "17\n"
     ]
    }
   ],
   "source": [
    "for value in edades.values():   #values() Da una lista con los valores del diccionario\n",
    "    print(value)"
   ]
  },
  {
   "cell_type": "code",
   "execution_count": 5,
   "id": "c6488f2a",
   "metadata": {},
   "outputs": [
    {
     "name": "stdout",
     "output_type": "stream",
     "text": [
      "('Ana', 20)\n",
      "('Jose', 23)\n",
      "('Luis', 28)\n",
      "('Marta', 17)\n"
     ]
    }
   ],
   "source": [
    "for item in edades.items():      #items() Da una lista con tupla para cada par clave-valor\n",
    "    print(item)"
   ]
  },
  {
   "cell_type": "code",
   "execution_count": 6,
   "id": "2135e5eb",
   "metadata": {},
   "outputs": [
    {
     "name": "stdout",
     "output_type": "stream",
     "text": [
      "Ana tiene 20 años.\n",
      "Jose tiene 23 años.\n",
      "Luis tiene 28 años.\n",
      "Marta tiene 17 años.\n"
     ]
    }
   ],
   "source": [
    "for k,v in edades.items():\n",
    "    print(\"{} tiene {} años.\".format(k,v))"
   ]
  }
 ],
 "metadata": {
  "kernelspec": {
   "display_name": "Python 3",
   "language": "python",
   "name": "python3"
  },
  "language_info": {
   "codemirror_mode": {
    "name": "ipython",
    "version": 3
   },
   "file_extension": ".py",
   "mimetype": "text/x-python",
   "name": "python",
   "nbconvert_exporter": "python",
   "pygments_lexer": "ipython3",
   "version": "3.8.10"
  }
 },
 "nbformat": 4,
 "nbformat_minor": 5
}
