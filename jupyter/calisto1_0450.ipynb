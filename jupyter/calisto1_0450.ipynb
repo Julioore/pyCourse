{
 "cells": [
  {
   "cell_type": "markdown",
   "metadata": {},
   "source": [
    "# Generación de aleatorios [2]"
   ]
  },
  {
   "cell_type": "code",
   "execution_count": null,
   "metadata": {},
   "outputs": [],
   "source": [
    "import random\n",
    "random.seed()       #Inicializa el generador de números aleatorios."
   ]
  },
  {
   "cell_type": "markdown",
   "metadata": {},
   "source": [
    "### Ejercicio\n",
    "Inicializar el generador de números aleatorios.\n",
    "\n",
    "Crear dos funciones:\n",
    "* Función 1. Genera una matriz de dimensión n × m donde, por defecto, las filas son n=3 y las columnas son m=4. Los elementos de la matriz contendrán números aleatorios entre 1 y 9. La función retorna la matriz generada.\n",
    "* Función 2. Tomar la matriz anterior y sustituir los valores pares por 1 y los impares por 0. La función retorna la matriz de ceros y unos. \n",
    "\n",
    "Al ejecutar el procedimiento principal:\n",
    "* Mostrar la matriz generada por la función 1.\n",
    "* Mostrar la matriz generada por la función 2.\n",
    "\n",
    "Usar el condicional  \n",
    "if \\_\\_name\\_\\_ == \"\\_\\_main\\_\\_\":  \n",
    "que permite convertir el archivo .py en un módulo que se pueda importar desde otros archivos y poder usar las funciones creadas."
   ]
  },
  {
   "cell_type": "code",
   "execution_count": null,
   "metadata": {},
   "outputs": [],
   "source": [
    "import random\n",
    "random.seed()       #Inicializa el generador de números aleatorios.\n",
    "\n",
    "def matriz_aleatoria(filas=3, columnas=4):\n",
    "    '''Retorna una matriz de números aleatorios entre 1 y 9. \n",
    "    Como argumentos recibe el número de filas y columnas de la matriz.\n",
    "    Por defecto, son 3 filas y 4 columnas.'''\n",
    "    n = filas\n",
    "    m = columnas\n",
    "    #matriz = [['0'] * m] * n              # matriz de ceros pero que da problemas pq las n filas son la misma\n",
    "    matriz = [[0] * m for _ in range(n)]   # matriz de ceros pero que no da problemas\n",
    "    for i in range(n):\n",
    "        for j in range(m):\n",
    "            matriz[i][j] = random.randrange(1,10)\n",
    "    return matriz\n",
    "\n",
    "def convierte_a_01(mat):\n",
    "    '''Recibe por parámetro una matriz de números enteros.\n",
    "    Retorna una matriz de ceros y unos, ya que \n",
    "    los pares los convierte en 1 y los impares en 0.'''\n",
    "    for i in range(len(mat)):              # recorre las filas\n",
    "        for j in range(len(mat[0])):       # recorre las columnas\n",
    "            if mat[i][j] % 2:              # no se iguala a nada pq si es cero es False\n",
    "                mat[i][j] = 0              # es impar\n",
    "            else:\n",
    "                mat[i][j] = 1              # es par\n",
    "    return mat\n",
    "    \n",
    "if __name__ == \"__main__\":                 # procedimiento principal\n",
    "    m = matriz_aleatoria()\n",
    "    print(m)\n",
    "    print(convierte_a_01(m))  "
   ]
  },
  {
   "cell_type": "markdown",
   "metadata": {},
   "source": [
    "## Ejercicio\n",
    "Usando programación orientada a objetos.  \n",
    "Generar y mostrar una matriz inicial de ceros y unos distribuidos aleatoriamente.\n",
    "* Los atributos son las filas (por defecto 5), columnas (por defecto 5) y probabilidad (por defecto, 0.1).\n",
    "* La probabilidad, en tanto por uno, es la probabilidad de que un elemento de la matriz inicial sea cero.\n",
    "* La matriz de salida se obtiene conviertiendo en ceros toda la fila y columna donde encuentre un cero en la matriz inicial.\n",
    "\n",
    "**Ejemplo**  \n",
    "Matriz inicial: [[1, 1, 1, 1, 1, 1], [1, 1, 0, 1, 1, 1], [1, 1, 1, 1, 1, 1], [1, 1, 0, 1, 1, 1], [1, 0, 1, 1, 1, 1], [1, 1, 1, 1, 1, 1]]  \n",
    "Matriz final: &nbsp;&nbsp;[[1, 0, 0, 1, 1, 1], [0, 0, 0, 0, 0, 0], [1, 0, 0, 1, 1, 1], [0, 0, 0, 0, 0, 0], [0, 0, 0, 0, 0, 0], [1, 0, 0, 1, 1, 1]]"
   ]
  },
  {
   "cell_type": "code",
   "execution_count": null,
   "metadata": {},
   "outputs": [],
   "source": [
    "class Solution(object):\n",
    "    def setZeroes(self, matrix):\n",
    "        n = len(matrix)\n",
    "        m = len(matrix[0])\n",
    "        flag = False\n",
    "        if matrix[0][0] == 0:\n",
    "            flag = True\n",
    "        row = False\n",
    "        column = False\n",
    "        for i in range(1,n):\n",
    "            if matrix[i][0] == 0:\n",
    "                column = True\n",
    "                break\n",
    "        for i in range(1,m):\n",
    "            if matrix[0][i] == 0:\n",
    "                row = True\n",
    "                break\n",
    "        for i in range(1,n):\n",
    "            for j in range(1,m):\n",
    "                if matrix[i][j] == 0:\n",
    "                    matrix[0][j] = 0\n",
    "                    matrix[i][0]=0\n",
    "        for i in range(1,n):\n",
    "            for j in range(1,m):\n",
    "                if not matrix[i][0] or not matrix[0][j]:\n",
    "                    matrix[i][j] = 0\n",
    "        if flag:\n",
    "            for i in range(n):\n",
    "                matrix[i][0] = 0\n",
    "            for i in range(m):\n",
    "                matrix[0][i]=0\n",
    "        else:\n",
    "            if column:\n",
    "                for i in range(n):\n",
    "                    matrix[i][0]=0\n",
    "            if row:\n",
    "                for i in range(m):\n",
    "                    matrix[0][i]=0\n",
    "        return matrix\n",
    "ob1 = Solution()\n",
    "m = [[1,1,1,1,1,1],[1,1,0,1,1,1],[1,1,1,1,1,1],[1,1,0,1,1,1],[1,0,1,1,1,1],[1,1,1,1,1,1]]\n",
    "print(\"input \",m)\n",
    "print(\"output\",ob1.setZeroes(m))"
   ]
  },
  {
   "cell_type": "code",
   "execution_count": null,
   "metadata": {},
   "outputs": [],
   "source": [
    "class Solution2:\n",
    "    def setZeroes(self, matrix):\n",
    "        # Empty matrix\n",
    "        if len(matrix) == 0 or len(matrix[0]) == 0: return\n",
    "\n",
    "        row = [0] * len(matrix)\n",
    "        column = [0] * len(matrix[0])\n",
    "\n",
    "        # Record the rows and columns with element(s) being zero.\n",
    "        for rowIndex in range(len(matrix)):\n",
    "            for colIndex in range(len(matrix[0])):\n",
    "                if matrix[rowIndex][colIndex] == 0:\n",
    "                    row[rowIndex] = True\n",
    "                    column[colIndex] = True\n",
    "\n",
    "        # Set the qualified entire row(s) and column(s) to zero.\n",
    "        for rowIndex in range(len(matrix)):\n",
    "            for colIndex in range(len(matrix[0])):\n",
    "                if row[rowIndex] == True or column[colIndex] == True:\n",
    "                    matrix[rowIndex][colIndex] = 0\n",
    "\n",
    "        return matrix\n",
    "\n",
    "ob2 = Solution2()\n",
    "m = [[1,1,1,1,1,1],[1,1,0,1,1,1],[1,1,1,1,1,1],[1,1,0,1,1,1],[1,0,1,1,1,1],[1,1,1,1,1,1]]\n",
    "print(\"input \",m)\n",
    "print(\"output\",ob2.setZeroes(m))"
   ]
  },
  {
   "cell_type": "code",
   "execution_count": null,
   "metadata": {},
   "outputs": [],
   "source": [
    "import random\n",
    "random.seed\n",
    "\n",
    "print(random.choices([0,1],[0.1,0.9],k=35))"
   ]
  },
  {
   "cell_type": "code",
   "execution_count": null,
   "metadata": {},
   "outputs": [],
   "source": [
    "import random\n",
    "random.seed\n",
    "\n",
    "class Zeros:\n",
    "    '''Creamos una matriz inicial de ceros y unos, donde la mayoría son unos.\n",
    "    Los argumentos son filas (por defecto 5), columnas (por defecto 5) y probabilidad (por defecto, 0.1).\n",
    "    La probabilidad, en tanto por uno, es la probabilidad de ser cero en la matriz.\n",
    "    La matriz de salida convierte en ceros toda la fila y columna donde encuentre un cero en la matriz inicial.'''\n",
    "    def __init__(self, filas=5, columnas=5, probabilidad=0.1):\n",
    "        self.__filas = filas\n",
    "        self.__columnas = columnas\n",
    "        self.__probabilidad = probabilidad\n",
    "    def matriz_inicial(self):\n",
    "        self.mi = [random.choices([0,1],[self.__probabilidad,1-self.__probabilidad],k=columnas) for _ in range(filas)]\n",
    "        return self.mi\n",
    "    def __str__(self):\n",
    "        for i in range(self.__filas + 1):\n",
    "            print()\n",
    "            for j in range(self.__columnas + 1):\n",
    "                texto = ''\n",
    "                texto += str(self.mi[i][j])+' '\n",
    "                print(texto)\n",
    "\n",
    "\n",
    "uno = Zeros(6,6,0.2)\n",
    "uno.matriz_inicial\n",
    "#print(uno.matriz_inicial)"
   ]
  },
  {
   "cell_type": "code",
   "execution_count": null,
   "metadata": {},
   "outputs": [],
   "source": [
    "def matriz_inicial():\n",
    "    mi = [random.choices([0,1],[0.1,1-0.1],k=5) for _ in range(5)]\n",
    "    print(mi)\n",
    "\n",
    "matriz_inicial()"
   ]
  },
  {
   "cell_type": "code",
   "execution_count": null,
   "metadata": {},
   "outputs": [],
   "source": [
    "class Car:\n",
    "    pasajeros = 4\n",
    "   \n",
    "    @classmethod                             # un método de clase para cambiar el número de pasajeros\n",
    "    def set_pasajeros(self, pasajeros):\n",
    "        self.pasajeros = pasajeros\n",
    "\n",
    "micoche = Car()                                 # creamos una instancia de Car\n",
    "  \n",
    "print(\"Pasajeros de micoche antes de llamar al Setter = \", micoche.pasajeros)\n",
    "micoche.set_pasajeros(5) \n",
    "print(\"Pasajeros de micoche después de llamar al Setter = \", micoche.pasajeros)\n",
    "\n",
    "print(micoche.set_pasajeros)                    # bound method\n",
    "Car.pasajeros"
   ]
  },
  {
   "cell_type": "code",
   "execution_count": 1,
   "metadata": {},
   "outputs": [],
   "source": [
    "import pandas as pd"
   ]
  },
  {
   "cell_type": "code",
   "execution_count": 2,
   "metadata": {},
   "outputs": [
    {
     "name": "stdout",
     "output_type": "stream",
     "text": [
      "Requirement already satisfied: quandl in c:\\users\\apa\\anaconda3\\lib\\site-packages (3.6.1)\n",
      "Requirement already satisfied: inflection>=0.3.1 in c:\\users\\apa\\anaconda3\\lib\\site-packages (from quandl) (0.5.1)\n",
      "Requirement already satisfied: more-itertools in c:\\users\\apa\\anaconda3\\lib\\site-packages (from quandl) (8.6.0)\n",
      "Requirement already satisfied: numpy>=1.8 in c:\\users\\apa\\anaconda3\\lib\\site-packages (from quandl) (1.19.2)\n",
      "Requirement already satisfied: six in c:\\users\\apa\\anaconda3\\lib\\site-packages (from quandl) (1.15.0)\n",
      "Requirement already satisfied: python-dateutil in c:\\users\\apa\\anaconda3\\lib\\site-packages (from quandl) (2.8.1)\n",
      "Requirement already satisfied: requests>=2.7.0 in c:\\users\\apa\\anaconda3\\lib\\site-packages (from quandl) (2.24.0)\n",
      "Requirement already satisfied: pandas>=0.14 in c:\\users\\apa\\anaconda3\\lib\\site-packages (from quandl) (1.1.3)\n",
      "Requirement already satisfied: idna<3,>=2.5 in c:\\users\\apa\\anaconda3\\lib\\site-packages (from requests>=2.7.0->quandl) (2.10)\n",
      "Requirement already satisfied: urllib3!=1.25.0,!=1.25.1,<1.26,>=1.21.1 in c:\\users\\apa\\anaconda3\\lib\\site-packages (from requests>=2.7.0->quandl) (1.25.11)\n",
      "Requirement already satisfied: certifi>=2017.4.17 in c:\\users\\apa\\anaconda3\\lib\\site-packages (from requests>=2.7.0->quandl) (2020.6.20)\n",
      "Requirement already satisfied: chardet<4,>=3.0.2 in c:\\users\\apa\\anaconda3\\lib\\site-packages (from requests>=2.7.0->quandl) (3.0.4)\n",
      "Requirement already satisfied: pytz>=2017.2 in c:\\users\\apa\\anaconda3\\lib\\site-packages (from pandas>=0.14->quandl) (2020.1)\n",
      "Note: you may need to restart the kernel to use updated packages.\n"
     ]
    }
   ],
   "source": [
    "pip install quandl"
   ]
  },
  {
   "cell_type": "code",
   "execution_count": 3,
   "metadata": {},
   "outputs": [],
   "source": [
    "import quandl"
   ]
  },
  {
   "cell_type": "code",
   "execution_count": 4,
   "metadata": {},
   "outputs": [],
   "source": [
    "QUANDL_KEY = '{key}'"
   ]
  },
  {
   "cell_type": "code",
   "execution_count": 6,
   "metadata": {},
   "outputs": [],
   "source": [
    "quandl.ApiConfig.apy_key = QUANDL_KEY"
   ]
  },
  {
   "cell_type": "code",
   "execution_count": 8,
   "metadata": {},
   "outputs": [],
   "source": [
    "df_quandl = quandl.get(dataset='WIKI/AAPL',\n",
    "                      start_date='2000-01-01',\n",
    "                      end_date='2010-12-31')"
   ]
  },
  {
   "cell_type": "code",
   "execution_count": 9,
   "metadata": {},
   "outputs": [],
   "source": [
    "import quandl\n",
    "quandl.ApiConfig.api_key = 'tEsTkEy123456789'"
   ]
  },
  {
   "cell_type": "code",
   "execution_count": null,
   "metadata": {},
   "outputs": [],
   "source": []
  },
  {
   "cell_type": "code",
   "execution_count": 12,
   "metadata": {},
   "outputs": [
    {
     "ename": "ModuleNotFoundError",
     "evalue": "No module named 'yfinance'",
     "output_type": "error",
     "traceback": [
      "\u001b[1;31m---------------------------------------------------------------------------\u001b[0m",
      "\u001b[1;31mModuleNotFoundError\u001b[0m                       Traceback (most recent call last)",
      "\u001b[1;32m<ipython-input-12-fd2cd7149378>\u001b[0m in \u001b[0;36m<module>\u001b[1;34m\u001b[0m\n\u001b[0;32m      1\u001b[0m \u001b[1;32mimport\u001b[0m \u001b[0mpandas\u001b[0m \u001b[1;32mas\u001b[0m \u001b[0mpd\u001b[0m\u001b[1;33m\u001b[0m\u001b[1;33m\u001b[0m\u001b[0m\n\u001b[0;32m      2\u001b[0m \u001b[1;32mimport\u001b[0m \u001b[0mnumpy\u001b[0m \u001b[1;32mas\u001b[0m \u001b[0mnp\u001b[0m\u001b[1;33m\u001b[0m\u001b[1;33m\u001b[0m\u001b[0m\n\u001b[1;32m----> 3\u001b[1;33m \u001b[1;32mimport\u001b[0m \u001b[0myfinance\u001b[0m \u001b[1;32mas\u001b[0m \u001b[0myf\u001b[0m\u001b[1;33m\u001b[0m\u001b[1;33m\u001b[0m\u001b[0m\n\u001b[0m\u001b[0;32m      4\u001b[0m df = yf.download('AAPL',\n\u001b[0;32m      5\u001b[0m                 \u001b[0mstart\u001b[0m\u001b[1;33m=\u001b[0m\u001b[1;34m'2000-01-01'\u001b[0m\u001b[1;33m,\u001b[0m\u001b[1;33m\u001b[0m\u001b[1;33m\u001b[0m\u001b[0m\n",
      "\u001b[1;31mModuleNotFoundError\u001b[0m: No module named 'yfinance'"
     ]
    }
   ],
   "source": [
    "import pandas as pd\n",
    "import numpy as np\n",
    "import yfinance as yf\n",
    "df = yf.download('AAPL',\n",
    "                start='2000-01-01',\n",
    "                end='2010-12-31',\n",
    "                progress=False)\n",
    "df=df.loc[:,['Adj Close']]\n",
    "df.rename(colums={'Adj Close':'adj_close'}, inplace=True)"
   ]
  },
  {
   "cell_type": "code",
   "execution_count": 15,
   "metadata": {},
   "outputs": [
    {
     "name": "stdout",
     "output_type": "stream",
     "text": [
      "Collecting yfinance\n",
      "  Downloading yfinance-0.1.63.tar.gz (26 kB)\n",
      "Requirement already satisfied: pandas>=0.24 in c:\\users\\apa\\anaconda3\\lib\\site-packages (from yfinance) (1.1.3)\n",
      "Requirement already satisfied: numpy>=1.15 in c:\\users\\apa\\anaconda3\\lib\\site-packages (from yfinance) (1.19.2)\n",
      "Requirement already satisfied: requests>=2.20 in c:\\users\\apa\\anaconda3\\lib\\site-packages (from yfinance) (2.24.0)\n",
      "Collecting multitasking>=0.0.7\n",
      "  Downloading multitasking-0.0.9.tar.gz (8.1 kB)\n",
      "Note: you may need to restart the kernel to use updated packages.\n",
      "Requirement already satisfied: lxml>=4.5.1 in c:\\users\\apa\\anaconda3\\lib\\site-packages (from yfinance) (4.6.1)\n",
      "Requirement already satisfied: pytz>=2017.2 in c:\\users\\apa\\anaconda3\\lib\\site-packages (from pandas>=0.24->yfinance) (2020.1)\n",
      "Requirement already satisfied: python-dateutil>=2.7.3 in c:\\users\\apa\\anaconda3\\lib\\site-packages (from pandas>=0.24->yfinance) (2.8.1)\n",
      "Requirement already satisfied: certifi>=2017.4.17 in c:\\users\\apa\\anaconda3\\lib\\site-packages (from requests>=2.20->yfinance) (2020.6.20)\n",
      "Requirement already satisfied: idna<3,>=2.5 in c:\\users\\apa\\anaconda3\\lib\\site-packages (from requests>=2.20->yfinance) (2.10)\n",
      "Requirement already satisfied: urllib3!=1.25.0,!=1.25.1,<1.26,>=1.21.1 in c:\\users\\apa\\anaconda3\\lib\\site-packages (from requests>=2.20->yfinance) (1.25.11)\n",
      "Requirement already satisfied: chardet<4,>=3.0.2 in c:\\users\\apa\\anaconda3\\lib\\site-packages (from requests>=2.20->yfinance) (3.0.4)\n",
      "Requirement already satisfied: six>=1.5 in c:\\users\\apa\\anaconda3\\lib\\site-packages (from python-dateutil>=2.7.3->pandas>=0.24->yfinance) (1.15.0)\n",
      "Building wheels for collected packages: yfinance, multitasking\n",
      "  Building wheel for yfinance (setup.py): started\n",
      "  Building wheel for yfinance (setup.py): finished with status 'done'\n",
      "  Created wheel for yfinance: filename=yfinance-0.1.63-py2.py3-none-any.whl size=23914 sha256=347211792c63bcd881bed74d6afefa3f351f664b78c60609a0c42814ef824871\n",
      "  Stored in directory: c:\\users\\apa\\appdata\\local\\pip\\cache\\wheels\\ec\\cc\\c1\\32da8ee853d742d5d7cbd11ee04421222eb354672020b57297\n",
      "  Building wheel for multitasking (setup.py): started\n",
      "  Building wheel for multitasking (setup.py): finished with status 'done'\n",
      "  Created wheel for multitasking: filename=multitasking-0.0.9-py3-none-any.whl size=8372 sha256=863576ea6e62909f3fe8fae32047cdb1dc068225df2e1278afc34321dc80e3ec\n",
      "  Stored in directory: c:\\users\\apa\\appdata\\local\\pip\\cache\\wheels\\57\\6d\\a3\\a39b839cc75274d2acfb1c58bfead2f726c6577fe8c4723f13\n",
      "Successfully built yfinance multitasking\n",
      "Installing collected packages: multitasking, yfinance\n",
      "Successfully installed multitasking-0.0.9 yfinance-0.1.63\n"
     ]
    }
   ],
   "source": [
    "pip install yfinance"
   ]
  },
  {
   "cell_type": "code",
   "execution_count": 16,
   "metadata": {},
   "outputs": [],
   "source": [
    "import pandas as pd\n",
    "import numpy as np\n",
    "import yfinance as yf"
   ]
  },
  {
   "cell_type": "code",
   "execution_count": 19,
   "metadata": {},
   "outputs": [],
   "source": [
    "df = yf.download('AAPL',start='2000-01-01',end='2010-12-31',progress=False)\n",
    "df = df.loc[:, ['Adj Close']]\n",
    "df.rename(columns={'Adj Close':'adj_close'}, inplace=True)"
   ]
  },
  {
   "cell_type": "code",
   "execution_count": 21,
   "metadata": {},
   "outputs": [],
   "source": [
    "df['simple_rtn'] = df.adj_close.pct_change()\n",
    "df['log_rtn'] = np.log(df.adj_close/df.adj_close.shift(1))"
   ]
  },
  {
   "cell_type": "code",
   "execution_count": null,
   "metadata": {},
   "outputs": [],
   "source": []
  }
 ],
 "metadata": {
  "kernelspec": {
   "display_name": "Python 3",
   "language": "python",
   "name": "python3"
  },
  "language_info": {
   "codemirror_mode": {
    "name": "ipython",
    "version": 3
   },
   "file_extension": ".py",
   "mimetype": "text/x-python",
   "name": "python",
   "nbconvert_exporter": "python",
   "pygments_lexer": "ipython3",
   "version": "3.8.5"
  }
 },
 "nbformat": 4,
 "nbformat_minor": 5
}
