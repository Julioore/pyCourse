{
 "cells": [
  {
   "cell_type": "markdown",
   "id": "66b52574",
   "metadata": {},
   "source": [
    "# Matrices"
   ]
  },
  {
   "cell_type": "markdown",
   "id": "379bca6f",
   "metadata": {},
   "source": [
    "Una matriz 4×5.  \n",
    "Cuatro filas, cinco columnas.  \n",
    "$$A_{(4×5)} = \n",
    "\\begin{pmatrix}\n",
    "a_{11} & a_{12} & a_{13} & a_{14} & a_{15} \\\\\n",
    "a_{21} & a_{22} & a_{23} & a_{24} & a_{25} \\\\\n",
    "a_{31} & a_{32} & a_{33} & a_{34} & a_{35} \\\\\n",
    "a_{41} & a_{42} & a_{43} & a_{44} & a_{45} \\\\\n",
    "\\end{pmatrix}\n",
    "$$"
   ]
  },
  {
   "cell_type": "code",
   "execution_count": null,
   "id": "f9a809c5",
   "metadata": {},
   "outputs": [],
   "source": [
    "def imprimir(matriz):\n",
    "    for f in range(len(matriz)):\n",
    "        linea=\"\"\n",
    "        for c in range(len(matriz[f])):\n",
    "            linea+=str(matriz[f][c])+\" \"\n",
    "        print(linea)\n",
    "\n",
    "if __name__==\"__main__\":\n",
    "    matriz=[\n",
    "        [1,3,4],\n",
    "        [4,5,6],\n",
    "        [7,8,9]\n",
    "    ]\n",
    "    imprimir(matriz)"
   ]
  },
  {
   "cell_type": "markdown",
   "id": "51670529",
   "metadata": {},
   "source": [
    "**Ejercicio**  \n",
    "En álgebra la [traza](https://es.wikipedia.org/wiki/Traza_(%C3%A1lgebra_lineal)) es la suma de la diagonal principal de una matriz.  \n",
    "Generar una matriz de números aleatorios y calcular su traza."
   ]
  },
  {
   "cell_type": "markdown",
   "id": "61ce5433",
   "metadata": {},
   "source": [
    "## Transponer una matriz"
   ]
  },
  {
   "cell_type": "markdown",
   "id": "0f88cc88",
   "metadata": {},
   "source": [
    "Consideremos la siguiente matriz 3×4.  \n",
    "$$A_{(3×4)} = \n",
    "\\begin{pmatrix}\n",
    "a_{11} & a_{12} & a_{13} & a_{14} \\\\\n",
    "a_{21} & a_{22} & a_{23} & a_{24} \\\\\n",
    "a_{31} & a_{32} & a_{33} & a_{34} \n",
    "\\end{pmatrix} = \n",
    "\\begin{pmatrix}\n",
    "1 & 2 & 3 & 4 \\\\\n",
    "5 & 6 & 7 & 8 \\\\\n",
    "9 & 10 & 11 & 12 \n",
    "\\end{pmatrix}\n",
    "$$"
   ]
  },
  {
   "cell_type": "code",
   "execution_count": null,
   "id": "a966f93c",
   "metadata": {},
   "outputs": [],
   "source": [
    "matrix = [\n",
    "       [1, 2, 3, 4],\n",
    "       [5, 6, 7, 8],\n",
    "       [9, 10, 11, 12],\n",
    "    ]\n",
    "list(zip(*matrix))"
   ]
  },
  {
   "cell_type": "markdown",
   "id": "429008a3",
   "metadata": {},
   "source": [
    "Su transpuesta es $A^{t}$ de dimensión 4×3.  \n",
    "$$A^{t} = \n",
    "\\begin{pmatrix}\n",
    "1 & 5 & 9 \\\\\n",
    "2 & 6 & 10 \\\\\n",
    "3 & 7 & 11 \\\\\n",
    "4 & 8 & 12\n",
    "\\end{pmatrix}  \n",
    "$$"
   ]
  }
 ],
 "metadata": {
  "kernelspec": {
   "display_name": "Python 3",
   "language": "python",
   "name": "python3"
  },
  "language_info": {
   "codemirror_mode": {
    "name": "ipython",
    "version": 3
   },
   "file_extension": ".py",
   "mimetype": "text/x-python",
   "name": "python",
   "nbconvert_exporter": "python",
   "pygments_lexer": "ipython3",
   "version": "3.8.8"
  }
 },
 "nbformat": 4,
 "nbformat_minor": 5
}
