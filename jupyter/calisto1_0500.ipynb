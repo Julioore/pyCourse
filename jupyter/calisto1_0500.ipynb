{
 "cells": [
  {
   "cell_type": "markdown",
   "id": "66b52574",
   "metadata": {},
   "source": [
    "# Matrices"
   ]
  },
  {
   "cell_type": "code",
   "execution_count": 1,
   "id": "f9a809c5",
   "metadata": {},
   "outputs": [
    {
     "name": "stdout",
     "output_type": "stream",
     "text": [
      "1 3 4 \n",
      "4 5 6 \n",
      "7 8 9 \n"
     ]
    }
   ],
   "source": [
    "def imprimir(matriz):\n",
    "    for f in range(len(matriz)):\n",
    "        linea=\"\"\n",
    "        for c in range(len(matriz[f])):\n",
    "            linea+=str(matriz[f][c])+\" \"\n",
    "        print(linea)\n",
    "\n",
    "if __name__==\"__main__\":\n",
    "    matriz=[\n",
    "        [1,3,4],\n",
    "        [4,5,6],\n",
    "        [7,8,9]\n",
    "    ]\n",
    "    imprimir(matriz)"
   ]
  },
  {
   "cell_type": "markdown",
   "id": "51670529",
   "metadata": {},
   "source": [
    "**Ejercicio**  \n",
    "En álgebra la [traza](https://es.wikipedia.org/wiki/Traza_(%C3%A1lgebra_lineal)) es la suma de la diagonal principal de una matriz.  \n",
    "Generar una matriz de números aleatorios y calcular su traza."
   ]
  },
  {
   "cell_type": "markdown",
   "id": "61ce5433",
   "metadata": {},
   "source": [
    "## Transponer una matriz"
   ]
  },
  {
   "cell_type": "markdown",
   "id": "0f88cc88",
   "metadata": {},
   "source": [
    "Consideremos una matriz 3x4."
   ]
  },
  {
   "cell_type": "code",
   "execution_count": 1,
   "id": "a966f93c",
   "metadata": {},
   "outputs": [
    {
     "data": {
      "text/plain": [
       "[(1, 5, 9), (2, 6, 10), (3, 7, 11), (4, 8, 12)]"
      ]
     },
     "execution_count": 1,
     "metadata": {},
     "output_type": "execute_result"
    }
   ],
   "source": [
    "matrix = [\n",
    "       [1, 2, 3, 4],\n",
    "       [5, 6, 7, 8],\n",
    "       [9, 10, 11, 12],\n",
    "    ]\n",
    "list(zip(*matrix))"
   ]
  },
  {
   "cell_type": "code",
   "execution_count": null,
   "id": "5864b778",
   "metadata": {},
   "outputs": [],
   "source": []
  }
 ],
 "metadata": {
  "kernelspec": {
   "display_name": "Python 3",
   "language": "python",
   "name": "python3"
  },
  "language_info": {
   "codemirror_mode": {
    "name": "ipython",
    "version": 3
   },
   "file_extension": ".py",
   "mimetype": "text/x-python",
   "name": "python",
   "nbconvert_exporter": "python",
   "pygments_lexer": "ipython3",
   "version": "3.8.10"
  }
 },
 "nbformat": 4,
 "nbformat_minor": 5
}
