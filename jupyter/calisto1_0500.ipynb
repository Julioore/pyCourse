{
 "cells": [
  {
   "cell_type": "markdown",
   "id": "66b52574",
   "metadata": {},
   "source": [
    "# Matrices"
   ]
  },
  {
   "cell_type": "code",
   "execution_count": 1,
   "id": "f9a809c5",
   "metadata": {},
   "outputs": [
    {
     "name": "stdout",
     "output_type": "stream",
     "text": [
      "1 3 4 \n",
      "4 5 6 \n",
      "7 8 9 \n"
     ]
    }
   ],
   "source": [
    "def imprimir(matriz):\n",
    "    for f in range(len(matriz)):\n",
    "        linea=\"\"\n",
    "        for c in range(len(matriz[f])):\n",
    "            linea+=str(matriz[f][c])+\" \"\n",
    "        print(linea)\n",
    "\n",
    "if __name__==\"__main__\":\n",
    "    matriz=[\n",
    "        [1,3,4],\n",
    "        [4,5,6],\n",
    "        [7,8,9]\n",
    "    ]\n",
    "    imprimir(matriz)"
   ]
  },
  {
   "cell_type": "markdown",
   "id": "51670529",
   "metadata": {},
   "source": [
    "**Ejercicio**  \n",
    "En álgebra la [traza](https://es.wikipedia.org/wiki/Traza_(%C3%A1lgebra_lineal)) es la suma de la diagonal principal de una matriz.  \n",
    "Generar una matriz de números aleatorios y calcular su traza."
   ]
  }
 ],
 "metadata": {
  "kernelspec": {
   "display_name": "Python 3",
   "language": "python",
   "name": "python3"
  },
  "language_info": {
   "codemirror_mode": {
    "name": "ipython",
    "version": 3
   },
   "file_extension": ".py",
   "mimetype": "text/x-python",
   "name": "python",
   "nbconvert_exporter": "python",
   "pygments_lexer": "ipython3",
   "version": "3.8.10"
  }
 },
 "nbformat": 4,
 "nbformat_minor": 5
}
