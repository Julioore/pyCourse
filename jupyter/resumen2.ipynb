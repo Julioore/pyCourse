{
  "nbformat": 4,
  "nbformat_minor": 0,
  "metadata": {
    "colab": {
      "name": "resumen2.ipynb",
      "provenance": [],
      "authorship_tag": "ABX9TyNF7yWp1J0GXLn9VDtA02YC",
      "include_colab_link": true
    },
    "kernelspec": {
      "name": "python3",
      "display_name": "Python 3"
    },
    "language_info": {
      "name": "python"
    }
  },
  "cells": [
    {
      "cell_type": "markdown",
      "metadata": {
        "id": "view-in-github",
        "colab_type": "text"
      },
      "source": [
        "<a href=\"https://colab.research.google.com/github/financieras/pyCourse/blob/main/jupyter/resumen2.ipynb\" target=\"_parent\"><img src=\"https://colab.research.google.com/assets/colab-badge.svg\" alt=\"Open In Colab\"/></a>"
      ]
    },
    {
      "cell_type": "markdown",
      "source": [
        "# Condicionales IF"
      ],
      "metadata": {
        "id": "egDheR29Djzu"
      }
    },
    {
      "cell_type": "code",
      "execution_count": 2,
      "metadata": {
        "colab": {
          "base_uri": "https://localhost:8080/"
        },
        "id": "JSh5sv1LDfls",
        "outputId": "9e1d60f1-2634-48d8-9c0b-d3581151416d"
      },
      "outputs": [
        {
          "output_type": "stream",
          "name": "stdout",
          "text": [
            "Tres es menor que 5\n"
          ]
        }
      ],
      "source": [
        "x = 5\n",
        "if 3 < x:\n",
        "    print(f'Tres es menor que {x}')"
      ]
    }
  ]
}