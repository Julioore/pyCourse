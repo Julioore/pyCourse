{
  "cells": [
    {
      "cell_type": "markdown",
      "metadata": {
        "id": "view-in-github",
        "colab_type": "text"
      },
      "source": [
        "<a href=\"https://colab.research.google.com/github/financieras/pyCourse/blob/main/jupyter/calisto2_0320.ipynb\" target=\"_parent\"><img src=\"https://colab.research.google.com/assets/colab-badge.svg\" alt=\"Open In Colab\"/></a>"
      ]
    },
    {
      "cell_type": "markdown",
      "id": "d14d6542",
      "metadata": {
        "id": "d14d6542"
      },
      "source": [
        "# Herencia [9] sobreescritura de métodos\n",
        "La clase Comercial hereda de la clase Empleado todos sus atributos ya que no tiene constructor propio.  \n",
        "La clase Comercial sobrescribe el método calcularSueldo que también existe en la clase padre."
      ]
    },
    {
      "cell_type": "code",
      "execution_count": null,
      "id": "181aabdf",
      "metadata": {
        "id": "181aabdf"
      },
      "outputs": [],
      "source": [
        "class Empleado(object): # Existe siempre una clase superior object de la que heredan todos\n",
        "    def __init__(self, nombre, sueldoBruto):\n",
        "        self.nombre = nombre\n",
        "        self.bruto = sueldoBruto\n",
        "    def calcularSueldo(self, descuentos):\n",
        "        return self.bruto - descuentos\n",
        "class Comercial(Empleado):\n",
        "    def calcularSueldo(self, descuentos, bonificaciones):\n",
        "        return self.bruto - descuentos + bonificaciones\n",
        "\n",
        "mario = Empleado(\"Mario\", 40000)\n",
        "isa = Comercial(\"María Isabel\", 50000)"
      ]
    },
    {
      "cell_type": "code",
      "execution_count": null,
      "id": "ab69a935",
      "metadata": {
        "id": "ab69a935",
        "outputId": "a5bc0ff7-618c-4cae-9e53-f82c95183465"
      },
      "outputs": [
        {
          "data": {
            "text/plain": [
              "39500"
            ]
          },
          "execution_count": 7,
          "metadata": {},
          "output_type": "execute_result"
        }
      ],
      "source": [
        "mario.calcularSueldo(500)       # un argumento"
      ]
    },
    {
      "cell_type": "code",
      "execution_count": null,
      "id": "4574be82",
      "metadata": {
        "id": "4574be82",
        "outputId": "e0f0aa1f-8c05-4051-f848-abd8e024d820"
      },
      "outputs": [
        {
          "data": {
            "text/plain": [
              "52500"
            ]
          },
          "execution_count": 8,
          "metadata": {},
          "output_type": "execute_result"
        }
      ],
      "source": [
        "isa.calcularSueldo(500,3000)    # dos argumentos"
      ]
    },
    {
      "cell_type": "markdown",
      "id": "e3dba2a9",
      "metadata": {
        "id": "e3dba2a9"
      },
      "source": [
        "## Parámetros por defecto\n",
        "Podemos poner un valor por defecto en un parámetro de forma que si no se pasa ese parámetro como argumento se toma el valor por defecto."
      ]
    },
    {
      "cell_type": "code",
      "execution_count": null,
      "id": "afcaafd7",
      "metadata": {
        "id": "afcaafd7"
      },
      "outputs": [],
      "source": [
        "class Empleado():\n",
        "    def __init__(self, nombre, sueldoBruto):\n",
        "        self.nombre = nombre\n",
        "        self.bruto = sueldoBruto\n",
        "    def calcularSueldo(self, descuentos):\n",
        "        return self.bruto - descuentos\n",
        "class Comercial(Empleado):\n",
        "    def calcularSueldo(self, descuentos, bonificaciones=0): # parámetro por defecto\n",
        "        return self.bruto - descuentos + bonificaciones\n",
        "\n",
        "mario = Empleado(\"Mario Pablo\", 40000)\n",
        "isa = Comercial(\"María Isabel\", 50000)"
      ]
    },
    {
      "cell_type": "code",
      "execution_count": null,
      "id": "1899ca1c",
      "metadata": {
        "id": "1899ca1c",
        "outputId": "b3ced84d-a122-4d00-fa02-5d3ccf7fa578"
      },
      "outputs": [
        {
          "data": {
            "text/plain": [
              "39500"
            ]
          },
          "execution_count": 13,
          "metadata": {},
          "output_type": "execute_result"
        }
      ],
      "source": [
        "mario.calcularSueldo(500)       # un argumento"
      ]
    },
    {
      "cell_type": "code",
      "execution_count": null,
      "id": "eee93a63",
      "metadata": {
        "id": "eee93a63",
        "outputId": "48336b49-0564-4f89-d0b6-c550cc8899b5"
      },
      "outputs": [
        {
          "data": {
            "text/plain": [
              "49500"
            ]
          },
          "execution_count": 14,
          "metadata": {},
          "output_type": "execute_result"
        }
      ],
      "source": [
        "isa.calcularSueldo(500)         # un argumento, pero usa su propio método"
      ]
    }
  ],
  "metadata": {
    "kernelspec": {
      "display_name": "Python 3",
      "language": "python",
      "name": "python3"
    },
    "language_info": {
      "codemirror_mode": {
        "name": "ipython",
        "version": 3
      },
      "file_extension": ".py",
      "mimetype": "text/x-python",
      "name": "python",
      "nbconvert_exporter": "python",
      "pygments_lexer": "ipython3",
      "version": "3.8.8"
    },
    "colab": {
      "name": "calisto2_0320.ipynb",
      "provenance": [],
      "include_colab_link": true
    }
  },
  "nbformat": 4,
  "nbformat_minor": 5
}
