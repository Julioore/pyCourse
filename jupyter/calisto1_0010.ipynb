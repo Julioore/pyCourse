{
 "cells": [
  {
   "cell_type": "markdown",
   "id": "d2eb5126",
   "metadata": {},
   "source": [
    "# Presentación"
   ]
  },
  {
   "cell_type": "markdown",
   "id": "29ebdc60",
   "metadata": {},
   "source": [
    "## Bienvenida"
   ]
  },
  {
   "cell_type": "markdown",
   "id": "21a42d40",
   "metadata": {},
   "source": [
    "Bienvenidos a este curso de **Python 3** que está dividido en tres partes:\n",
    "* Fundamentos\n",
    "    - Operadores, variables\n",
    "    - Strings, listas, tuplas, diccionarios\n",
    "    - Condiconales\n",
    "    - Bucles\n",
    "    - Funciones\n",
    "    - Excepciones\n",
    "* Programación Orientada a Objetos\n",
    "    - Clases, objetos\n",
    "    - Atributos, métodos\n",
    "    - El constructor\n",
    "    - Privacidad, decoradores\n",
    "    - Herencia\n",
    "    - Herencia múltiple\n",
    "    - Polimorfismo\n",
    "* Aplicaciones\n",
    "    - NumPy\n",
    "    - Pandas\n",
    "    - Matplotlib\n",
    "    - Excel, csv\n",
    "    - Paquetes"
   ]
  },
  {
   "cell_type": "markdown",
   "id": "59cce8ae",
   "metadata": {},
   "source": [
    "## Instalaciones"
   ]
  },
  {
   "cell_type": "markdown",
   "id": "9206abcc",
   "metadata": {},
   "source": [
    "Disponemos del archivo ***instalaciones.txt*** donde se recogen los procedimientos de instalación y las recomendaciones para:\n",
    "* Python 3\n",
    "* Anaconca\n",
    "* Jupyter Notebook\n",
    "* Visual Studio Code\n",
    "* git (Git Bash)\n",
    "* GitHub\n",
    "* sugerencias para trabajar con:\n",
    " - Windows (WLS2, Windows Terminal)\n",
    " - Linux (Ubuntu,...)\n",
    " - Mac\n",
    "* Markdown"
   ]
  },
  {
   "cell_type": "markdown",
   "id": "cf86d7a0",
   "metadata": {},
   "source": [
    "## Ver la versión de Python que tenemos en jupyter"
   ]
  },
  {
   "cell_type": "code",
   "execution_count": null,
   "id": "2e90b5f1",
   "metadata": {},
   "outputs": [],
   "source": [
    "from platform import python_version\n",
    "print(python_version())"
   ]
  },
  {
   "cell_type": "markdown",
   "id": "c538bf37",
   "metadata": {},
   "source": [
    "## Recursos\n",
    "Algunas páginas del curso en fomato Google Slides:\n",
    "\n",
    "* [Google Slides](https://docs.google.com/presentation/d/1LDBYzfU9JSLFigOpwPz4iwSErm1aRzXshSdtUhtJKo0/edit?usp=sharing)\n",
    "* [altocodigo.blogspot.com](https://altocodigo.blogspot.com)\n",
    "* [archivos_jupyter.txt](https://github.com/financieras/pyCourse/blob/main/jupyter/archivos_jupyter.txt)"
   ]
  }
 ],
 "metadata": {
  "kernelspec": {
   "display_name": "Python 3 (ipykernel)",
   "language": "python",
   "name": "python3"
  },
  "language_info": {
   "codemirror_mode": {
    "name": "ipython",
    "version": 3
   },
   "file_extension": ".py",
   "mimetype": "text/x-python",
   "name": "python",
   "nbconvert_exporter": "python",
   "pygments_lexer": "ipython3",
   "version": "3.8.11"
  }
 },
 "nbformat": 4,
 "nbformat_minor": 5
}
