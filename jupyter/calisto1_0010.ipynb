{
 "cells": [
  {
   "cell_type": "markdown",
   "id": "6dc20c1b",
   "metadata": {},
   "source": [
    "# Operaciones aritméticas"
   ]
  },
  {
   "cell_type": "code",
   "execution_count": null,
   "id": "a7af31fa",
   "metadata": {},
   "outputs": [],
   "source": [
    "2+3"
   ]
  },
  {
   "cell_type": "code",
   "execution_count": null,
   "id": "e377c6aa",
   "metadata": {},
   "outputs": [],
   "source": [
    "5--3"
   ]
  },
  {
   "cell_type": "code",
   "execution_count": null,
   "id": "bbe57fac",
   "metadata": {},
   "outputs": [],
   "source": [
    "5*4"
   ]
  },
  {
   "cell_type": "markdown",
   "id": "d23934d3",
   "metadata": {},
   "source": [
    "Podemos incluir comentarios del programador."
   ]
  },
  {
   "cell_type": "code",
   "execution_count": null,
   "id": "43b2c910",
   "metadata": {},
   "outputs": [],
   "source": [
    "# al dividir siempre se obtiene un número con coma flotante (float)\n",
    "12/3"
   ]
  },
  {
   "cell_type": "code",
   "execution_count": null,
   "id": "0b35085a",
   "metadata": {},
   "outputs": [],
   "source": [
    "17//5   # división entera"
   ]
  },
  {
   "cell_type": "code",
   "execution_count": null,
   "id": "7bcdbfd0",
   "metadata": {},
   "outputs": [],
   "source": [
    "17%5    # resto, resíduo, módulo"
   ]
  },
  {
   "cell_type": "markdown",
   "id": "51e332c6",
   "metadata": {},
   "source": [
    "## Prelación de operaciones\n",
    "Los paréntesis tienen prioridad."
   ]
  },
  {
   "cell_type": "code",
   "execution_count": null,
   "id": "96d70520",
   "metadata": {},
   "outputs": [],
   "source": [
    "1+((10+5*3)*2)/10"
   ]
  },
  {
   "cell_type": "code",
   "execution_count": null,
   "metadata": {},
   "outputs": [],
   "source": []
  }
 ],
 "metadata": {
  "kernelspec": {
   "name": "python3",
   "display_name": "Python 3.8.5 64-bit"
  },
  "language_info": {
   "codemirror_mode": {
    "name": "ipython",
    "version": 3
   },
   "file_extension": ".py",
   "mimetype": "text/x-python",
   "name": "python",
   "nbconvert_exporter": "python",
   "pygments_lexer": "ipython3",
   "version": "3.8.5"
  },
  "interpreter": {
   "hash": "916dbcbb3f70747c44a77c7bcd40155683ae19c65e1c03b4aa3499c5328201f1"
  }
 },
 "nbformat": 4,
 "nbformat_minor": 5
}