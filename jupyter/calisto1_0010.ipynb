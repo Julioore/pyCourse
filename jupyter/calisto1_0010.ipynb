{
 "cells": [
  {
   "cell_type": "markdown",
   "id": "a4562138",
   "metadata": {},
   "source": [
    "# Hola Mundo"
   ]
  },
  {
   "cell_type": "code",
   "execution_count": null,
   "id": "aeaea2f8",
   "metadata": {},
   "outputs": [],
   "source": [
    "\"Hola Mundo\""
   ]
  },
  {
   "cell_type": "code",
   "execution_count": null,
   "id": "b4e61f07",
   "metadata": {},
   "outputs": [],
   "source": [
    "print('Hola mundo')"
   ]
  },
  {
   "cell_type": "markdown",
   "id": "6dc20c1b",
   "metadata": {},
   "source": [
    "# Operaciones aritméticas"
   ]
  },
  {
   "cell_type": "markdown",
   "id": "57a5d6fa",
   "metadata": {},
   "source": [
    "\\+   &nbsp;&nbsp;&nbsp;&nbsp;&nbsp; Suma, también concatena  \n",
    "\\-   &nbsp;&nbsp;&nbsp;&nbsp;&nbsp;&nbsp; Resta  \n",
    "\\*   &nbsp;&nbsp;&nbsp;&nbsp;&nbsp;&nbsp; Producto  \n",
    "**   &nbsp;&nbsp;&nbsp;&nbsp;&nbsp; Potencias, elevar, también con una librería matemática  \n",
    "/    &nbsp;&nbsp;&nbsp;&nbsp;&nbsp;&nbsp; Dividir. Siempre da como resultado un número de coma flotante  \n",
    "//   &nbsp;&nbsp;&nbsp;&nbsp;&nbsp; División entera  \n",
    "%    &nbsp;&nbsp;&nbsp;&nbsp; Resto, Residuo, Módulo"
   ]
  },
  {
   "cell_type": "code",
   "execution_count": 21,
   "id": "a7af31fa",
   "metadata": {},
   "outputs": [
    {
     "data": {
      "text/plain": [
       "5"
      ]
     },
     "execution_count": 21,
     "metadata": {},
     "output_type": "execute_result"
    }
   ],
   "source": [
    "2+3"
   ]
  },
  {
   "cell_type": "code",
   "execution_count": null,
   "id": "e377c6aa",
   "metadata": {},
   "outputs": [],
   "source": [
    "5--3"
   ]
  },
  {
   "cell_type": "code",
   "execution_count": null,
   "id": "bbe57fac",
   "metadata": {},
   "outputs": [],
   "source": [
    "5*4"
   ]
  },
  {
   "cell_type": "code",
   "execution_count": null,
   "id": "30673d7d",
   "metadata": {},
   "outputs": [],
   "source": [
    "101/17"
   ]
  },
  {
   "cell_type": "markdown",
   "id": "d23934d3",
   "metadata": {},
   "source": [
    "Podemos incluir comentarios del programador."
   ]
  },
  {
   "cell_type": "code",
   "execution_count": null,
   "id": "43b2c910",
   "metadata": {},
   "outputs": [],
   "source": [
    "# al dividir siempre se obtiene un número con coma flotante (float)\n",
    "12/3"
   ]
  },
  {
   "cell_type": "code",
   "execution_count": null,
   "id": "0b35085a",
   "metadata": {},
   "outputs": [],
   "source": [
    "17//5   # división entera"
   ]
  },
  {
   "cell_type": "code",
   "execution_count": null,
   "id": "7bcdbfd0",
   "metadata": {},
   "outputs": [],
   "source": [
    "17%5    # resto, resíduo, módulo"
   ]
  },
  {
   "cell_type": "code",
   "execution_count": null,
   "id": "6cfc127d",
   "metadata": {},
   "outputs": [],
   "source": [
    "2**3    # potencias"
   ]
  },
  {
   "cell_type": "code",
   "execution_count": null,
   "id": "ad3c9d10",
   "metadata": {},
   "outputs": [],
   "source": [
    "9**.5   # raiz cuadrada"
   ]
  },
  {
   "cell_type": "markdown",
   "id": "51e332c6",
   "metadata": {},
   "source": [
    "## Prelación de operaciones\n",
    "Los paréntesis tienen prioridad."
   ]
  },
  {
   "cell_type": "code",
   "execution_count": null,
   "id": "96d70520",
   "metadata": {},
   "outputs": [],
   "source": [
    "1+((10+5*3)*2)/10"
   ]
  }
 ],
 "metadata": {
  "interpreter": {
   "hash": "916dbcbb3f70747c44a77c7bcd40155683ae19c65e1c03b4aa3499c5328201f1"
  },
  "kernelspec": {
   "display_name": "Python 3",
   "language": "python",
   "name": "python3"
  },
  "language_info": {
   "codemirror_mode": {
    "name": "ipython",
    "version": 3
   },
   "file_extension": ".py",
   "mimetype": "text/x-python",
   "name": "python",
   "nbconvert_exporter": "python",
   "pygments_lexer": "ipython3",
   "version": "3.8.5"
  }
 },
 "nbformat": 4,
 "nbformat_minor": 5
}
