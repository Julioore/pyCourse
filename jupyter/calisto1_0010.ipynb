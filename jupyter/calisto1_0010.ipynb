{
 "cells": [
  {
   "cell_type": "markdown",
   "id": "8808b9ed",
   "metadata": {},
   "source": [
    "# Hola Mundo"
   ]
  },
  {
   "cell_type": "code",
   "execution_count": null,
   "id": "f7cab031",
   "metadata": {},
   "outputs": [],
   "source": [
    "\"Hola Mundo\""
   ]
  },
  {
   "cell_type": "code",
   "execution_count": null,
   "id": "92c02a71",
   "metadata": {},
   "outputs": [],
   "source": [
    "print('Hola mundo')"
   ]
  },
  {
   "cell_type": "markdown",
   "id": "2b69823c",
   "metadata": {},
   "source": [
    "## Comentarios del programador"
   ]
  },
  {
   "cell_type": "code",
   "execution_count": null,
   "id": "8b8da79b",
   "metadata": {},
   "outputs": [],
   "source": [
    "# esto es un comentario del programador"
   ]
  },
  {
   "cell_type": "markdown",
   "id": "2119675e",
   "metadata": {},
   "source": [
    "## Operaciones básicas"
   ]
  },
  {
   "cell_type": "code",
   "execution_count": null,
   "id": "c99b9d46",
   "metadata": {},
   "outputs": [],
   "source": [
    "# suma\n",
    "5 + 7"
   ]
  },
  {
   "cell_type": "code",
   "execution_count": null,
   "id": "3370862b",
   "metadata": {},
   "outputs": [],
   "source": [
    "5 - 7  # resta"
   ]
  },
  {
   "cell_type": "markdown",
   "id": "88313b50",
   "metadata": {},
   "source": [
    "## Variables\n",
    "Podemos trabajar con variables:\n",
    "- declararlas\n",
    "- asignar un valor\n",
    "- operera con ellas"
   ]
  },
  {
   "cell_type": "code",
   "execution_count": null,
   "id": "c16fd02d",
   "metadata": {},
   "outputs": [],
   "source": [
    "x = 4"
   ]
  },
  {
   "cell_type": "code",
   "execution_count": null,
   "id": "29d5f50a",
   "metadata": {},
   "outputs": [],
   "source": [
    "x"
   ]
  },
  {
   "cell_type": "code",
   "execution_count": null,
   "id": "d47b585b",
   "metadata": {},
   "outputs": [],
   "source": [
    "y = 5\n",
    "y"
   ]
  },
  {
   "cell_type": "code",
   "execution_count": null,
   "id": "e3fa14cc",
   "metadata": {},
   "outputs": [],
   "source": [
    "z = x + y\n",
    "print(z)"
   ]
  },
  {
   "cell_type": "markdown",
   "id": "b93ee792",
   "metadata": {},
   "source": [
    "## Ver la versión de Python que tenemos en jupyter"
   ]
  },
  {
   "cell_type": "code",
   "execution_count": null,
   "id": "93e80565",
   "metadata": {},
   "outputs": [],
   "source": [
    "from platform import python_version\n",
    "print(python_version())"
   ]
  }
 ],
 "metadata": {
  "kernelspec": {
   "display_name": "Python 3",
   "language": "python",
   "name": "python3"
  },
  "language_info": {
   "codemirror_mode": {
    "name": "ipython",
    "version": 3
   },
   "file_extension": ".py",
   "mimetype": "text/x-python",
   "name": "python",
   "nbconvert_exporter": "python",
   "pygments_lexer": "ipython3",
   "version": "3.8.8"
  }
 },
 "nbformat": 4,
 "nbformat_minor": 5
}
