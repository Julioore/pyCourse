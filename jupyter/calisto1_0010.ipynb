{
 "cells": [
  {
   "cell_type": "markdown",
   "id": "d907828b",
   "metadata": {},
   "source": [
    "# Hola Mundo"
   ]
  },
  {
   "cell_type": "code",
   "execution_count": null,
   "id": "6cae1d0a",
   "metadata": {},
   "outputs": [],
   "source": [
    "\"Hola Mundo\""
   ]
  },
  {
   "cell_type": "code",
   "execution_count": null,
   "id": "851083a8",
   "metadata": {},
   "outputs": [],
   "source": [
    "print('Hola mundo')"
   ]
  },
  {
   "cell_type": "markdown",
   "id": "486fe8db",
   "metadata": {},
   "source": [
    "## Comentarios del programador"
   ]
  },
  {
   "cell_type": "code",
   "execution_count": null,
   "id": "0e46cfc5",
   "metadata": {},
   "outputs": [],
   "source": [
    "# esto es un comentario del programador"
   ]
  },
  {
   "cell_type": "markdown",
   "id": "be18c3cb",
   "metadata": {},
   "source": [
    "## Operaciones básicas"
   ]
  },
  {
   "cell_type": "code",
   "execution_count": null,
   "id": "1257275a",
   "metadata": {},
   "outputs": [],
   "source": [
    "# suma\n",
    "5 + 7"
   ]
  },
  {
   "cell_type": "code",
   "execution_count": null,
   "id": "18898045",
   "metadata": {},
   "outputs": [],
   "source": [
    "5 - 7  # resta"
   ]
  },
  {
   "cell_type": "markdown",
   "id": "2211d0fc",
   "metadata": {},
   "source": [
    "## Variables\n",
    "Podemos trabajar con variables:\n",
    "- declararlas\n",
    "- asignar un valor\n",
    "- operera con ellas"
   ]
  },
  {
   "cell_type": "code",
   "execution_count": null,
   "id": "f52bd322",
   "metadata": {},
   "outputs": [],
   "source": [
    "x = 4"
   ]
  },
  {
   "cell_type": "code",
   "execution_count": null,
   "id": "9183264a",
   "metadata": {},
   "outputs": [],
   "source": [
    "x"
   ]
  },
  {
   "cell_type": "code",
   "execution_count": null,
   "id": "76a3305f",
   "metadata": {},
   "outputs": [],
   "source": [
    "y = 5\n",
    "y"
   ]
  },
  {
   "cell_type": "code",
   "execution_count": null,
   "id": "1483962e",
   "metadata": {},
   "outputs": [],
   "source": [
    "z = x + y\n",
    "print(z)"
   ]
  },
  {
   "cell_type": "markdown",
   "id": "f72fb113",
   "metadata": {},
   "source": [
    "## Ver la versión de Python que tenemos en jupyter"
   ]
  },
  {
   "cell_type": "code",
   "execution_count": null,
   "id": "eb79d76d",
   "metadata": {},
   "outputs": [],
   "source": [
    "from platform import python_version\n",
    "print(python_version())"
   ]
  }
 ],
 "metadata": {
  "kernelspec": {
   "display_name": "Python 3",
   "language": "python",
   "name": "python3"
  },
  "language_info": {
   "codemirror_mode": {
    "name": "ipython",
    "version": 3
   },
   "file_extension": ".py",
   "mimetype": "text/x-python",
   "name": "python",
   "nbconvert_exporter": "python",
   "pygments_lexer": "ipython3",
   "version": "3.8.8"
  }
 },
 "nbformat": 4,
 "nbformat_minor": 5
}
