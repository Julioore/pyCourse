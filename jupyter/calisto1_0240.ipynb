{
 "cells": [
  {
   "cell_type": "markdown",
   "id": "ed22de8c",
   "metadata": {},
   "source": [
    "# Conjuntos [2]"
   ]
  },
  {
   "cell_type": "code",
   "execution_count": 1,
   "id": "390efa88",
   "metadata": {},
   "outputs": [
    {
     "name": "stdout",
     "output_type": "stream",
     "text": [
      "{'oros', 'picas', 'rombos', 'copas', 'corazones', 'espadas', 'bastos', 'tréboles'}\n"
     ]
    }
   ],
   "source": [
    "conjunto1={\"oros\", \"copas\", \"bastos\", \"espadas\"}\n",
    "conjunto2={\"picas\", \"corazones\",\"tréboles\", \"rombos\"}\n",
    "conjunto=conjunto1.union(conjunto2)  #une conjuntos sin repetidos\n",
    "print(conjunto)"
   ]
  },
  {
   "cell_type": "code",
   "execution_count": 5,
   "id": "bae0248c",
   "metadata": {},
   "outputs": [
    {
     "name": "stdout",
     "output_type": "stream",
     "text": [
      "{'b', 'x', 'z', 'a', 'y', 'c'}\n"
     ]
    }
   ],
   "source": [
    "set1={'a','b','c'}\n",
    "set2=set(('x','y','z'))    #podemos crear un conjunto con set(). El conjunto va entre paréntesis\n",
    "set1.update(set2)          #une conjuntos sin repetidos\n",
    "print(set1)"
   ]
  }
 ],
 "metadata": {
  "kernelspec": {
   "display_name": "Python 3",
   "language": "python",
   "name": "python3"
  },
  "language_info": {
   "codemirror_mode": {
    "name": "ipython",
    "version": 3
   },
   "file_extension": ".py",
   "mimetype": "text/x-python",
   "name": "python",
   "nbconvert_exporter": "python",
   "pygments_lexer": "ipython3",
   "version": "3.8.5"
  }
 },
 "nbformat": 4,
 "nbformat_minor": 5
}
