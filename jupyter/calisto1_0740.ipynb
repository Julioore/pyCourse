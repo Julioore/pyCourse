{
 "cells": [
  {
   "cell_type": "markdown",
   "metadata": {},
   "source": [
    "# Excepciones"
   ]
  },
  {
   "cell_type": "markdown",
   "metadata": {},
   "source": [
    "## Identificando el tipo de error\n",
    "Existen diferentes tipos de errores que podemos identificar para luego tratar de forma individualizada."
   ]
  },
  {
   "cell_type": "code",
   "execution_count": null,
   "metadata": {},
   "outputs": [],
   "source": [
    "# si introducimos un texto nos da un TypeError\n",
    "2/'aaa'"
   ]
  },
  {
   "cell_type": "markdown",
   "metadata": {},
   "source": [
    "## Tratamiento de las Excepciones (```Exception```)"
   ]
  },
  {
   "cell_type": "markdown",
   "metadata": {},
   "source": [
    "El siguiente código informa del error pero no es muy explicativo, no sabemos que tipo de error se ha producido."
   ]
  },
  {
   "cell_type": "code",
   "execution_count": null,
   "metadata": {},
   "outputs": [],
   "source": [
    "try:\n",
    "    a = 2\n",
    "    b = input(\"Introduzca un número: \")               # falta el float\n",
    "    a/b\n",
    "except:\n",
    "    print(\"Error\")"
   ]
  },
  {
   "cell_type": "markdown",
   "metadata": {},
   "source": [
    "Veamos el tipo de error que se produce, sin que de error y se detenga la ejecución del código."
   ]
  },
  {
   "cell_type": "code",
   "execution_count": null,
   "metadata": {},
   "outputs": [],
   "source": [
    "try:\n",
    "    a = 2\n",
    "    b = input(\"Introduzca un número: \")               # falta el float\n",
    "    a/b\n",
    "except Exception as e:\n",
    "    print(type(e).__name__)"
   ]
  },
  {
   "cell_type": "markdown",
   "metadata": {},
   "source": [
    "## Encadenando varias excepciones\n",
    "Ahora añadimos el float, con ello evitamos ese error, pero aún, el usuario, puede introducir una cadena.  \n",
    "Si se introduce una cadena se obtendrá un error del tipo: ValueError."
   ]
  },
  {
   "cell_type": "code",
   "execution_count": null,
   "metadata": {},
   "outputs": [],
   "source": [
    "try:\n",
    "    a = 2\n",
    "    b = float(input(\"Introduzca un número: \"))\n",
    "    a/b\n",
    "except TypeError:\n",
    "    print(\"No se puede dividir el número entre un string.\")\n",
    "except Exception as e:\n",
    "    print(type(e).__name__)"
   ]
  },
  {
   "cell_type": "markdown",
   "metadata": {},
   "source": [
    "Añadimos el error ValueError a las excepciones."
   ]
  },
  {
   "cell_type": "code",
   "execution_count": null,
   "metadata": {},
   "outputs": [],
   "source": [
    "try:\n",
    "    a = 2\n",
    "    b = float(input(\"Introduzca un número: \"))\n",
    "    a/b\n",
    "except TypeError:\n",
    "    print(\"No se puede dividir el número entre un string.\")\n",
    "except ValueError:\n",
    "    print(\"Se debe introducir un número y no un texto.\")\n",
    "except Exception as e:\n",
    "    print(type(e).__name__)"
   ]
  },
  {
   "cell_type": "markdown",
   "metadata": {},
   "source": [
    "Ahora añadiremos la excepción ZeroDivisionError para evitar se se intente dividir entre cero."
   ]
  },
  {
   "cell_type": "code",
   "execution_count": null,
   "metadata": {},
   "outputs": [],
   "source": [
    "try:\n",
    "    a = 2\n",
    "    b = float(input(\"Introduzca un número: \"))\n",
    "    a/b\n",
    "except TypeError:\n",
    "    print(\"No se puede dividir el número entre un string.\")\n",
    "except ValueError:\n",
    "    print(\"Se debe introducir un número y no un texto.\")\n",
    "except ZeroDivisionError:\n",
    "    print(\"No se puede dividir entre cero.\")\n",
    "except Exception as e:                                     # esta excepción se coloca al final\n",
    "    print(type(e).__name__)"
   ]
  }
 ],
 "metadata": {
  "kernelspec": {
   "display_name": "Python 3",
   "language": "python",
   "name": "python3"
  },
  "language_info": {
   "codemirror_mode": {
    "name": "ipython",
    "version": 3
   },
   "file_extension": ".py",
   "mimetype": "text/x-python",
   "name": "python",
   "nbconvert_exporter": "python",
   "pygments_lexer": "ipython3",
   "version": "3.8.5"
  }
 },
 "nbformat": 4,
 "nbformat_minor": 4
}
