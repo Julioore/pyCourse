{
  "nbformat": 4,
  "nbformat_minor": 0,
  "metadata": {
    "colab": {
      "name": "resumen4.ipynb",
      "provenance": [],
      "authorship_tag": "ABX9TyM1BkSjq+U4mSHV9EusWreW",
      "include_colab_link": true
    },
    "kernelspec": {
      "name": "python3",
      "display_name": "Python 3"
    },
    "language_info": {
      "name": "python"
    }
  },
  "cells": [
    {
      "cell_type": "markdown",
      "metadata": {
        "id": "view-in-github",
        "colab_type": "text"
      },
      "source": [
        "<a href=\"https://colab.research.google.com/github/financieras/pyCourse/blob/main/jupyter/resumen4.ipynb\" target=\"_parent\"><img src=\"https://colab.research.google.com/assets/colab-badge.svg\" alt=\"Open In Colab\"/></a>"
      ]
    },
    {
      "cell_type": "markdown",
      "source": [
        "# Bucle `For`\n",
        "* Un bucle o **loop** es un proceso que se repite un cierto número de veces.\n",
        "* Es un proceso repetitivo, reiterativo\n",
        "* El bucle For se repite un número de veces conocido, un número de veces concreto.\n",
        "\n",
        "```python\n",
        "for <variable> in <lista>:\n",
        "    <código>\n",
        "```\n"
      ],
      "metadata": {
        "id": "5G7bh-W8_Dwr"
      }
    },
    {
      "cell_type": "code",
      "source": [
        "ciudades =[\"Roma\", \"Londres\", \"París\", \"Madrid\", \"Berlín\"]\n",
        "\n",
        "for ciudad in ciudades:\n",
        "    print(ciudad)"
      ],
      "metadata": {
        "id": "QkVdMGiI_9na",
        "outputId": "88b2b632-f305-4968-d8e7-d1fc7fae2569",
        "colab": {
          "base_uri": "https://localhost:8080/"
        }
      },
      "execution_count": null,
      "outputs": [
        {
          "output_type": "stream",
          "name": "stdout",
          "text": [
            "Roma\n",
            "Londres\n",
            "París\n",
            "Madrid\n",
            "Berlín\n"
          ]
        }
      ]
    },
    {
      "cell_type": "code",
      "source": [
        "for ciudad in ciudades:\n",
        "    if ciudad == \"Madrid\" or ciudad == \"Roma\":\n",
        "        print(ciudad)"
      ],
      "metadata": {
        "id": "i9hj2xZhASJu",
        "outputId": "c06edee2-6bb2-40fa-8564-d0f9972548f1",
        "colab": {
          "base_uri": "https://localhost:8080/"
        }
      },
      "execution_count": null,
      "outputs": [
        {
          "output_type": "stream",
          "name": "stdout",
          "text": [
            "Roma\n",
            "Madrid\n"
          ]
        }
      ]
    },
    {
      "cell_type": "markdown",
      "source": [
        "## `For` con `range`"
      ],
      "metadata": {
        "id": "a2UfeIXtA8ff"
      }
    },
    {
      "cell_type": "code",
      "source": [
        "# range crea un iterable de números enteros\n",
        "range(1,10)"
      ],
      "metadata": {
        "id": "X7wK2vf3BHVz",
        "outputId": "b57cf79d-54bc-4cdd-d542-1e5e1db1f5a4",
        "colab": {
          "base_uri": "https://localhost:8080/"
        }
      },
      "execution_count": null,
      "outputs": [
        {
          "output_type": "execute_result",
          "data": {
            "text/plain": [
              "range(1, 10)"
            ]
          },
          "metadata": {},
          "execution_count": 6
        }
      ]
    },
    {
      "cell_type": "code",
      "source": [
        "# convertimos el rango en una lista\n",
        "list(range(1,10))   # el 10 no se incluye"
      ],
      "metadata": {
        "id": "clesPHuhBU6s",
        "outputId": "728ac863-9726-435a-edeb-dc567a737d8d",
        "colab": {
          "base_uri": "https://localhost:8080/"
        }
      },
      "execution_count": null,
      "outputs": [
        {
          "output_type": "execute_result",
          "data": {
            "text/plain": [
              "[1, 2, 3, 4, 5, 6, 7, 8, 9]"
            ]
          },
          "metadata": {},
          "execution_count": 7
        }
      ]
    },
    {
      "cell_type": "code",
      "source": [
        "list(range(5))   # lista desde el 0 hasta el 4"
      ],
      "metadata": {
        "id": "m0SFZNm9BiPz",
        "outputId": "8bd0efe5-e0f2-4d7a-d250-2127f08d5936",
        "colab": {
          "base_uri": "https://localhost:8080/"
        }
      },
      "execution_count": null,
      "outputs": [
        {
          "output_type": "execute_result",
          "data": {
            "text/plain": [
              "[0, 1, 2, 3, 4]"
            ]
          },
          "metadata": {},
          "execution_count": 8
        }
      ]
    },
    {
      "cell_type": "code",
      "source": [
        "for i in range(5):   # la variable i es una variable instrumental, hace referencia al index\n",
        "    print(i)"
      ],
      "metadata": {
        "id": "nb-uko5ABtN3",
        "outputId": "9a5446a3-97a5-4aa0-fe3b-bf2827cd9907",
        "colab": {
          "base_uri": "https://localhost:8080/"
        }
      },
      "execution_count": null,
      "outputs": [
        {
          "output_type": "stream",
          "name": "stdout",
          "text": [
            "0\n",
            "1\n",
            "2\n",
            "3\n",
            "4\n"
          ]
        }
      ]
    },
    {
      "cell_type": "code",
      "source": [
        "ciudades =[\"Roma\", \"Londres\", \"París\", \"Madrid\", \"Berlín\"]\n",
        "\n",
        "for i in range(len(ciudades)):\n",
        "    print(ciudades[i])"
      ],
      "metadata": {
        "id": "V7Ux4A_ECBeT",
        "outputId": "ad83648b-b12a-4a0b-b227-41fa7f155e8d",
        "colab": {
          "base_uri": "https://localhost:8080/"
        }
      },
      "execution_count": null,
      "outputs": [
        {
          "output_type": "stream",
          "name": "stdout",
          "text": [
            "Roma\n",
            "Londres\n",
            "París\n",
            "Madrid\n",
            "Berlín\n"
          ]
        }
      ]
    },
    {
      "cell_type": "markdown",
      "source": [
        "## `For` ... `enumerate`"
      ],
      "metadata": {
        "id": "4J_SHPNfCRtj"
      }
    }
  ]
}