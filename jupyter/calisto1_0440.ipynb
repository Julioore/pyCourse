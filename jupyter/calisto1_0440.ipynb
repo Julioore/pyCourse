{
 "cells": [
  {
   "cell_type": "markdown",
   "metadata": {},
   "source": [
    "# Estructuras de datos: pilas y colas"
   ]
  },
  {
   "cell_type": "markdown",
   "metadata": {},
   "source": [
    "# Pilas\n",
    "Método LIFO (Last in First out)  \n",
    "* PUSH: agrega un elemento a la colección\n",
    "* POP: elimina el elemento agregado más recientemente  \n",
    "\n",
    "Ejemplo:\n",
    "- Una pila de libros puestos en vertical sobre una mesa  \n",
    "\n",
    "LIFO | PILA \n",
    ":-: | :-: \n",
    "![pila](img/stack.png) | ![libros](img/pila.jpg)"
   ]
  },
  {
   "cell_type": "code",
   "execution_count": null,
   "metadata": {},
   "outputs": [],
   "source": [
    "# Se trabaja con listas.\n",
    "libros=[\"Quijote\", \"Celestina\", \"Principito\"]\n",
    "# si fuera una pila de libros puestos en vertical, abajo estaría el Quijote y arriba el Principito"
   ]
  },
  {
   "cell_type": "markdown",
   "metadata": {},
   "source": [
    "## Añadiendo elementos\n",
    "Se añaden por la **derecha** con *append*."
   ]
  },
  {
   "cell_type": "code",
   "execution_count": null,
   "metadata": {},
   "outputs": [],
   "source": [
    "libros.append(\"La Odisea\")\n",
    "libros"
   ]
  },
  {
   "cell_type": "markdown",
   "metadata": {},
   "source": [
    "## Eliminando elementos\n",
    "Se eliminan por la **derecha** con *pop*.\n",
    "El último en llegar es el primero en salir."
   ]
  },
  {
   "cell_type": "code",
   "execution_count": null,
   "metadata": {},
   "outputs": [],
   "source": [
    "libros.pop()                              # devuelve el último elemento de la lista y lo elimina"
   ]
  },
  {
   "cell_type": "code",
   "execution_count": null,
   "metadata": {},
   "outputs": [],
   "source": [
    "libros                                    # observamos que 'La Odisea' ha sido eliminada de la lista"
   ]
  },
  {
   "cell_type": "code",
   "execution_count": null,
   "metadata": {},
   "outputs": [],
   "source": [
    "eliminado = libros.pop()                  # podemos guardar en una variable el elemento eliminado\n",
    "print(libros)\n",
    "eliminado"
   ]
  },
  {
   "cell_type": "markdown",
   "metadata": {},
   "source": [
    "# Colas\n",
    "Método FIFO (First in First out)  \n",
    "Ejemplo:\n",
    "- La cola de un establecimiento  \n",
    "\n",
    "FIFO | QUEUE \n",
    ":-: | :-: \n",
    "![McAuto](img/cola.jpg) | ![queue)](img/queue.png)"
   ]
  },
  {
   "cell_type": "markdown",
   "metadata": {},
   "source": [
    "## Crear una cola\n",
    "Usamos *deque* de la librería *collections*."
   ]
  },
  {
   "cell_type": "code",
   "execution_count": null,
   "metadata": {},
   "outputs": [],
   "source": [
    "from collections import deque\n",
    "cola = deque()                    # creando una cola vacía\n",
    "cola"
   ]
  },
  {
   "cell_type": "markdown",
   "metadata": {},
   "source": [
    "## Añadir elementos a la cola\n",
    "Para añadir elementos a una cola podemos pasar una **lista** al objeto deque."
   ]
  },
  {
   "cell_type": "code",
   "execution_count": null,
   "metadata": {},
   "outputs": [],
   "source": [
    "cola = deque(['Ana','Jose','Eva'])  # Primero llegó Ana a la cola"
   ]
  },
  {
   "cell_type": "code",
   "execution_count": null,
   "metadata": {},
   "outputs": [],
   "source": [
    "cola.append('Luis')\n",
    "cola.append('Bea')                  # Bea es la última en llegar\n",
    "cola"
   ]
  },
  {
   "cell_type": "markdown",
   "metadata": {},
   "source": [
    "## Sacar elementos de la cola\n",
    "El primer usuario al que atenderemos es al primero que llegó.  \n",
    "Los elementos se sacan por la **izquierda** con *popleft*.  \n",
    "\n",
    "El método *popleft* no funciona en las listas solo en las queue."
   ]
  },
  {
   "cell_type": "code",
   "execution_count": null,
   "metadata": {},
   "outputs": [],
   "source": [
    "cola.popleft()                    # Atendemos a Ana"
   ]
  },
  {
   "cell_type": "code",
   "execution_count": null,
   "metadata": {},
   "outputs": [],
   "source": [
    "cola"
   ]
  },
  {
   "cell_type": "code",
   "execution_count": null,
   "metadata": {},
   "outputs": [],
   "source": [
    "atendido = cola.popleft()         # Podemos guardar en una variable los elementos eliminados\n",
    "atendido"
   ]
  },
  {
   "cell_type": "code",
   "execution_count": null,
   "metadata": {},
   "outputs": [],
   "source": [
    "cola"
   ]
  },
  {
   "cell_type": "markdown",
   "metadata": {},
   "source": [
    "### Ejercicio\n",
    "Nos proporcionan una lista con las fases para la creación de un proyecto tecnológico. "
   ]
  },
  {
   "cell_type": "code",
   "execution_count": null,
   "metadata": {},
   "outputs": [],
   "source": [
    "fases = ['Identificación','Exploración','Diseño','Planificación','Construcción','Evaluación','Divulgación']"
   ]
  },
  {
   "cell_type": "markdown",
   "metadata": {},
   "source": [
    "Nos piden que asociemos cada fase con su número y las incorporemos a una lista para formar una matriz 7 x 2."
   ]
  },
  {
   "cell_type": "code",
   "execution_count": null,
   "metadata": {},
   "outputs": [],
   "source": [
    "l=[[i+1,fases[i]]for i in range(len(fases))]\n",
    "l"
   ]
  },
  {
   "cell_type": "markdown",
   "metadata": {},
   "source": [
    "Desordenamos las fases."
   ]
  },
  {
   "cell_type": "code",
   "execution_count": null,
   "metadata": {},
   "outputs": [],
   "source": [
    "from random import shuffle\n",
    "shuffle(l)\n",
    "l"
   ]
  },
  {
   "cell_type": "markdown",
   "metadata": {},
   "source": [
    "Se pide:  \n",
    "    usando colas, mostrar el listado de las fases ordenadas y sin número."
   ]
  },
  {
   "cell_type": "code",
   "execution_count": null,
   "metadata": {},
   "outputs": [],
   "source": [
    "# primero ordenamos las fases\n",
    "l.sort()\n",
    "l"
   ]
  },
  {
   "cell_type": "code",
   "execution_count": null,
   "metadata": {},
   "outputs": [],
   "source": [
    "from collections import deque\n",
    "cola = deque()                    # creando una cola vacía\n",
    "for fase in fases:\n",
    "    cola.append(fase)\n",
    "cola"
   ]
  },
  {
   "cell_type": "code",
   "execution_count": null,
   "metadata": {},
   "outputs": [],
   "source": [
    "for fase in cola:\n",
    "    print(fase)"
   ]
  },
  {
   "cell_type": "markdown",
   "metadata": {},
   "source": [
    "Ver que fase sería la que toca realizar."
   ]
  },
  {
   "cell_type": "code",
   "execution_count": null,
   "metadata": {},
   "outputs": [],
   "source": [
    "cola.popleft()"
   ]
  }
 ],
 "metadata": {
  "kernelspec": {
   "display_name": "Python 3",
   "language": "python",
   "name": "python3"
  },
  "language_info": {
   "codemirror_mode": {
    "name": "ipython",
    "version": 3
   },
   "file_extension": ".py",
   "mimetype": "text/x-python",
   "name": "python",
   "nbconvert_exporter": "python",
   "pygments_lexer": "ipython3",
   "version": "3.8.5"
  }
 },
 "nbformat": 4,
 "nbformat_minor": 5
}
