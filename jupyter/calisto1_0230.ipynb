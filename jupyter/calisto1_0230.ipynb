{
 "cells": [
  {
   "cell_type": "markdown",
   "id": "d53062c2",
   "metadata": {},
   "source": [
    "# Diccionarios [3]  \n",
    "## Diccionarios anidados"
   ]
  },
  {
   "cell_type": "code",
   "execution_count": null,
   "id": "a31711ca",
   "metadata": {},
   "outputs": [],
   "source": [
    "amigos = {\n",
    "  \"colega1\" : {\n",
    "    \"nombre\" : \"Pedro\",\n",
    "    \"año\" : 2001\n",
    "  },\n",
    "  \"colega2\" : {\n",
    "    \"nombre\" : \"Silvia\",\n",
    "    \"año\" : 2004\n",
    "  },\n",
    "  \"colega3\" : {\n",
    "    \"nombre\" : \"Isa\",\n",
    "    \"año\" : 2003\n",
    "  }\n",
    "}\n",
    "amigos"
   ]
  },
  {
   "cell_type": "markdown",
   "id": "801be72c",
   "metadata": {},
   "source": [
    "## Diccionario de diccionarios  \n",
    "Podemos crear varios diccionarios y otro que los contenga."
   ]
  },
  {
   "cell_type": "code",
   "execution_count": null,
   "id": "f282b8b8",
   "metadata": {},
   "outputs": [],
   "source": [
    "Intel = {\"gama\":\"i3\",\"precio\":120}\n",
    "AMD = {\"gama\":\"Ryzen3\",\"precio\":90}\n",
    "micros = {\"marca1\":Intel,\"marca2\":AMD}\n",
    "micros"
   ]
  },
  {
   "cell_type": "code",
   "execution_count": null,
   "id": "89296251",
   "metadata": {},
   "outputs": [],
   "source": [
    "micros.keys()"
   ]
  },
  {
   "cell_type": "code",
   "execution_count": null,
   "id": "b3bb1e91",
   "metadata": {},
   "outputs": [],
   "source": [
    "micros.values()"
   ]
  },
  {
   "cell_type": "markdown",
   "id": "1c1b56ef",
   "metadata": {},
   "source": [
    "## Crear un diccionario usando listas"
   ]
  },
  {
   "cell_type": "code",
   "execution_count": null,
   "id": "023b5e53",
   "metadata": {},
   "outputs": [],
   "source": [
    "k = ['a','b','c']\n",
    "v = list(range(1,4))          # [1,2,3]\n",
    "print(dict(zip(k,v)))         # {'a': 1, 'b': 2, 'c': 3}        diccionario\n",
    "print(set(zip(k,v)))          # {('b',2),('c',3),('a',1)}       conjunto"
   ]
  },
  {
   "cell_type": "markdown",
   "id": "7c2b0027",
   "metadata": {},
   "source": [
    "## Ejercicio  \n",
    "Crear un diccionario partiendo de una lista de paises y otra lista con sus capitales.  \n",
    "Lugo invertir clave y valor."
   ]
  },
  {
   "cell_type": "markdown",
   "id": "84655f3f",
   "metadata": {},
   "source": [
    "### Solución"
   ]
  },
  {
   "cell_type": "code",
   "execution_count": null,
   "id": "30df9aa1",
   "metadata": {},
   "outputs": [],
   "source": [
    "geo = {'Francia':'París',\n",
    "       'Italia':'Roma',\n",
    "       'Portugal':'Lisboa',\n",
    "       'España':'Madrid',\n",
    "       'Alemania':'Berlín'}\n",
    "paises = list(geo)\n",
    "paises"
   ]
  },
  {
   "cell_type": "code",
   "execution_count": null,
   "id": "7695a244",
   "metadata": {},
   "outputs": [],
   "source": [
    "capitales = list(geo.values())   # con list podemos convertir el objeto en una lista\n",
    "capitales"
   ]
  },
  {
   "cell_type": "code",
   "execution_count": null,
   "id": "5173edb7",
   "metadata": {},
   "outputs": [],
   "source": [
    "type(capitales)                  # comprobamos que se trata de una lista"
   ]
  },
  {
   "cell_type": "markdown",
   "id": "e8b4b60d",
   "metadata": {},
   "source": [
    "Tenemos dos listas, paises y capitales, con las que podemos montar el diccionario de una forma o de otra. Esto es, siendo la clave los paises o siendo la clave las capitales."
   ]
  },
  {
   "cell_type": "markdown",
   "id": "373d53c3",
   "metadata": {},
   "source": [
    "#### Diccionario siendo la clave los paises"
   ]
  },
  {
   "cell_type": "code",
   "execution_count": null,
   "id": "ab124ba1",
   "metadata": {},
   "outputs": [],
   "source": [
    "geo = {}              # no es necesario, pero inicializamos el diccionario geo\n",
    "k = paises\n",
    "v = capitales\n",
    "geo = dict(zip(k,v))\n",
    "geo"
   ]
  },
  {
   "cell_type": "markdown",
   "id": "2cbdcd31",
   "metadata": {},
   "source": [
    "#### Diccionario siendo la clave las capitales"
   ]
  },
  {
   "cell_type": "code",
   "execution_count": null,
   "id": "d868e1a4",
   "metadata": {},
   "outputs": [],
   "source": [
    "geo = {}              # no es necesario, pero inicializamos el diccionario geo\n",
    "k = capitales\n",
    "v = paises\n",
    "geo = dict(zip(k,v))\n",
    "geo"
   ]
  }
 ],
 "metadata": {
  "kernelspec": {
   "display_name": "Python 3",
   "language": "python",
   "name": "python3"
  },
  "language_info": {
   "codemirror_mode": {
    "name": "ipython",
    "version": 3
   },
   "file_extension": ".py",
   "mimetype": "text/x-python",
   "name": "python",
   "nbconvert_exporter": "python",
   "pygments_lexer": "ipython3",
   "version": "3.8.8"
  }
 },
 "nbformat": 4,
 "nbformat_minor": 5
}
