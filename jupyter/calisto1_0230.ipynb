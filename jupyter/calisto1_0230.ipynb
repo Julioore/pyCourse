{
 "cells": [
  {
   "cell_type": "markdown",
   "id": "adbc3cfe",
   "metadata": {},
   "source": [
    "# Conjuntos [1]  \n",
    "Un SET es un conjunto no ordenado de elementos."
   ]
  },
  {
   "cell_type": "code",
   "execution_count": null,
   "id": "9c6b4455",
   "metadata": {},
   "outputs": [],
   "source": [
    "palos = {\"oros\", \"copas\", \"bastos\", \"espadas\"}   #un SET es un conjunto no ordenado de elementos\n",
    "print(palos)\n"
   ]
  },
  {
   "cell_type": "code",
   "execution_count": null,
   "id": "598a0409",
   "metadata": {},
   "outputs": [],
   "source": [
    "print(\"copas\" in palos)   #True"
   ]
  },
  {
   "cell_type": "code",
   "execution_count": null,
   "id": "77a23e68",
   "metadata": {},
   "outputs": [],
   "source": [
    "palos.add(\"picas\")        #para añadir un elemento\n",
    "palos"
   ]
  },
  {
   "cell_type": "code",
   "execution_count": null,
   "id": "a6868afe",
   "metadata": {},
   "outputs": [],
   "source": [
    "palos.update([\"corazones\",\"tréboles\", \"rombos\"])  #para añadir varios elementos\n",
    "palos"
   ]
  },
  {
   "cell_type": "code",
   "execution_count": null,
   "id": "0b3a4b83",
   "metadata": {},
   "outputs": [],
   "source": [
    "print(len(palos))         #longitud del conjunto"
   ]
  },
  {
   "cell_type": "code",
   "execution_count": null,
   "id": "114bb5fc",
   "metadata": {},
   "outputs": [],
   "source": [
    "palos.remove(\"picas\")     #elimina un elemento, si no existe da error\n",
    "palos"
   ]
  },
  {
   "cell_type": "code",
   "execution_count": null,
   "id": "a61c7785",
   "metadata": {},
   "outputs": [],
   "source": [
    "palos.discard(\"rombos\")   #elimina un elemento, si no existe no da error\n",
    "palos"
   ]
  },
  {
   "cell_type": "code",
   "execution_count": null,
   "id": "2e2b9473",
   "metadata": {},
   "outputs": [],
   "source": [
    "carta=palos.pop()         #elimina un elemento, no se sabe cual y va cambiando\n",
    "print(palos)\n",
    "print(carta)              #la variable asignada recoge el elemento eliminado"
   ]
  },
  {
   "cell_type": "code",
   "execution_count": null,
   "id": "262e2e02",
   "metadata": {},
   "outputs": [],
   "source": [
    "del(palos)                #elimina el conjunto\n",
    "#print(palos)             #da error ya que hemos eliminado el conjunto"
   ]
  }
 ],
 "metadata": {
  "kernelspec": {
   "display_name": "Python 3",
   "language": "python",
   "name": "python3"
  },
  "language_info": {
   "codemirror_mode": {
    "name": "ipython",
    "version": 3
   },
   "file_extension": ".py",
   "mimetype": "text/x-python",
   "name": "python",
   "nbconvert_exporter": "python",
   "pygments_lexer": "ipython3",
   "version": "3.8.5"
  }
 },
 "nbformat": 4,
 "nbformat_minor": 5
}
