{
 "cells": [
  {
   "cell_type": "markdown",
   "id": "adbc3cfe",
   "metadata": {},
   "source": [
    "# Conjuntos [1]  \n",
    "Un SET es un conjunto no ordenado de elementos."
   ]
  },
  {
   "cell_type": "code",
   "execution_count": 1,
   "id": "205a5f99",
   "metadata": {},
   "outputs": [
    {
     "data": {
      "text/plain": [
       "set()"
      ]
     },
     "execution_count": 1,
     "metadata": {},
     "output_type": "execute_result"
    }
   ],
   "source": [
    "conjunto = set()                                 # creación de un conjunto vacío\n",
    "conjunto"
   ]
  },
  {
   "cell_type": "code",
   "execution_count": 2,
   "id": "9c6b4455",
   "metadata": {},
   "outputs": [
    {
     "name": "stdout",
     "output_type": "stream",
     "text": [
      "{'oros', 'copas', 'espadas', 'bastos'}\n"
     ]
    },
    {
     "data": {
      "text/plain": [
       "set"
      ]
     },
     "execution_count": 2,
     "metadata": {},
     "output_type": "execute_result"
    }
   ],
   "source": [
    "palos = {\"oros\", \"copas\", \"bastos\", \"espadas\"}   # un SET es un conjunto no ordenado de elementos\n",
    "print(palos)\n",
    "type(palos)"
   ]
  },
  {
   "cell_type": "code",
   "execution_count": 3,
   "id": "598a0409",
   "metadata": {},
   "outputs": [
    {
     "name": "stdout",
     "output_type": "stream",
     "text": [
      "True\n"
     ]
    }
   ],
   "source": [
    "print(\"copas\" in palos)   # True"
   ]
  },
  {
   "cell_type": "code",
   "execution_count": 4,
   "id": "77a23e68",
   "metadata": {},
   "outputs": [
    {
     "data": {
      "text/plain": [
       "{'bastos', 'copas', 'espadas', 'oros', 'picas'}"
      ]
     },
     "execution_count": 4,
     "metadata": {},
     "output_type": "execute_result"
    }
   ],
   "source": [
    "palos.add(\"picas\")        # para añadir un elemento\n",
    "palos"
   ]
  },
  {
   "cell_type": "code",
   "execution_count": 5,
   "id": "a6868afe",
   "metadata": {},
   "outputs": [
    {
     "data": {
      "text/plain": [
       "{'bastos',\n",
       " 'copas',\n",
       " 'corazones',\n",
       " 'espadas',\n",
       " 'oros',\n",
       " 'picas',\n",
       " 'rombos',\n",
       " 'tréboles'}"
      ]
     },
     "execution_count": 5,
     "metadata": {},
     "output_type": "execute_result"
    }
   ],
   "source": [
    "palos.update([\"corazones\",\"tréboles\", \"rombos\"])  # para añadir varios elementos\n",
    "palos"
   ]
  },
  {
   "cell_type": "code",
   "execution_count": 6,
   "id": "0b3a4b83",
   "metadata": {},
   "outputs": [
    {
     "name": "stdout",
     "output_type": "stream",
     "text": [
      "8\n"
     ]
    }
   ],
   "source": [
    "print(len(palos))         # longitud del conjunto"
   ]
  },
  {
   "cell_type": "code",
   "execution_count": 7,
   "id": "114bb5fc",
   "metadata": {},
   "outputs": [
    {
     "data": {
      "text/plain": [
       "{'bastos', 'copas', 'corazones', 'espadas', 'oros', 'rombos', 'tréboles'}"
      ]
     },
     "execution_count": 7,
     "metadata": {},
     "output_type": "execute_result"
    }
   ],
   "source": [
    "palos.remove(\"picas\")     # elimina un elemento, si no existe da error\n",
    "palos"
   ]
  },
  {
   "cell_type": "code",
   "execution_count": null,
   "id": "a61c7785",
   "metadata": {},
   "outputs": [],
   "source": [
    "palos.discard(\"rombos\")   # elimina un elemento, si no existe no da error\n",
    "palos"
   ]
  },
  {
   "cell_type": "code",
   "execution_count": null,
   "id": "2e2b9473",
   "metadata": {},
   "outputs": [],
   "source": [
    "carta=palos.pop()         # elimina un elemento, no se sabe cual y va cambiando\n",
    "print(palos)\n",
    "print(carta)              # la variable asignada recoge el elemento eliminado"
   ]
  },
  {
   "cell_type": "code",
   "execution_count": null,
   "id": "262e2e02",
   "metadata": {},
   "outputs": [],
   "source": [
    "del(palos)                # elimina el conjunto\n",
    "#print(palos)             # da error ya que hemos eliminado el conjunto"
   ]
  }
 ],
 "metadata": {
  "kernelspec": {
   "display_name": "Python 3",
   "language": "python",
   "name": "python3"
  },
  "language_info": {
   "codemirror_mode": {
    "name": "ipython",
    "version": 3
   },
   "file_extension": ".py",
   "mimetype": "text/x-python",
   "name": "python",
   "nbconvert_exporter": "python",
   "pygments_lexer": "ipython3",
   "version": "3.8.8"
  }
 },
 "nbformat": 4,
 "nbformat_minor": 5
}
