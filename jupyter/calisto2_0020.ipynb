{
 "cells": [
  {
   "cell_type": "markdown",
   "metadata": {},
   "source": [
    "# Contrucción de una clase\n",
    "Vamos a crear la clase Coche que tiene cuatro propiedades (las variables) y dos métodos (las funciones).\n",
    "![car](img/class_car.png)"
   ]
  },
  {
   "cell_type": "code",
   "execution_count": null,
   "metadata": {},
   "outputs": [],
   "source": [
    "class Coche():                     # en las clases ponemos la primera letra en mayúscula\n",
    "    largoChasis=250                # primero creamos las propiedades que son variables con ciertos valores\n",
    "    anchoChasis=120\n",
    "    ruedas=4\n",
    "    enmarcha=False                 # por defecto los coches que podamos crear surgiran como parados\n",
    "                                   # métodos (son los que definen el comportamiento de los objetos que creemos)\n",
    "    def arrancar(self):            # self hace referencia al propio objeto perteneciente a la clase\n",
    "        print(\"Arrancando...\")     # un método es una función que pertenece a la clase que se está creando\n",
    "        self.enmarcha=True         # es necesario poner self para que la variable enmarcha no sea otra interna con ese nombre\n",
    "        \n",
    "    def estado(self):              # método que informa si el coche está en marcha o parado\n",
    "        if self.enmarcha:\n",
    "            return \"El coche está en marcha\"\n",
    "        else:\n",
    "            return \"El coche está parado\""
   ]
  },
  {
   "cell_type": "markdown",
   "metadata": {},
   "source": [
    "## Instanciar una clase\n",
    "Consiste en crear un objeto concreto perteneciente a una clase.  \n",
    "Sinómimos:\n",
    "- crear un objeto\n",
    "- crear una instacia\n",
    "- instanciación de clase\n",
    "- crear un ejemplar de clase\n",
    "- ejemplarizar la clase"
   ]
  },
  {
   "cell_type": "code",
   "execution_count": null,
   "metadata": {},
   "outputs": [],
   "source": [
    "miCoche=Coche()                    # así creamos un objeto que pertenece a la clase Coche"
   ]
  },
  {
   "cell_type": "markdown",
   "metadata": {},
   "source": [
    "## Cambiar propiedades de un objeto\n",
    "Con la nomenclatura del punto."
   ]
  },
  {
   "cell_type": "code",
   "execution_count": null,
   "metadata": {},
   "outputs": [],
   "source": [
    "# consultemos el largo\n",
    "miCoche.largoChasis"
   ]
  },
  {
   "cell_type": "code",
   "execution_count": null,
   "metadata": {},
   "outputs": [],
   "source": [
    "print(f\"Mi auto tiene {miCoche.ruedas} ruedas.\")"
   ]
  },
  {
   "cell_type": "code",
   "execution_count": null,
   "metadata": {},
   "outputs": [],
   "source": [
    "miCoche.estado()"
   ]
  },
  {
   "cell_type": "code",
   "execution_count": null,
   "metadata": {},
   "outputs": [],
   "source": [
    "miCoche.arrancar() # objeto.método()  Esta nomenclatura del punto pasa el objeto miCoche como argumento de arrancar que es self\n",
    "miCoche.enmarcha   # objeto.propiedad"
   ]
  },
  {
   "cell_type": "code",
   "execution_count": null,
   "metadata": {},
   "outputs": [],
   "source": [
    "miCoche.estado()"
   ]
  }
 ],
 "metadata": {
  "kernelspec": {
   "display_name": "Python 3",
   "language": "python",
   "name": "python3"
  },
  "language_info": {
   "codemirror_mode": {
    "name": "ipython",
    "version": 3
   },
   "file_extension": ".py",
   "mimetype": "text/x-python",
   "name": "python",
   "nbconvert_exporter": "python",
   "pygments_lexer": "ipython3",
   "version": "3.8.8"
  }
 },
 "nbformat": 4,
 "nbformat_minor": 4
}
