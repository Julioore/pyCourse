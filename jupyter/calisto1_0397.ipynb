{
 "cells": [
  {
   "cell_type": "markdown",
   "id": "64562ecd",
   "metadata": {},
   "source": [
    "# Ejecución de Scripts\n",
    "En Jupyter la ejecución de scripts de Python no es lo más adecuado.  \n",
    "Lo mejor es utiizar un editor de código para crear los scripts, recomendamos [Visual Studio Code](https://code.visualstudio.com) con el que podemos tener una terminal integrada en la que poder ejecutar los scripts.  \n",
    "Veamos que se puede conseguir acceder a la terminal, pero es preferible trabajar con VSCode."
   ]
  },
  {
   "cell_type": "code",
   "execution_count": null,
   "id": "0c9f87b4",
   "metadata": {},
   "outputs": [],
   "source": [
    "%run -i ../ejemplos/ejemplo1_0010.py  #la opción -i indica ejecución interactiva"
   ]
  },
  {
   "cell_type": "code",
   "execution_count": 12,
   "id": "9703a337",
   "metadata": {},
   "outputs": [
    {
     "name": "stdout",
     "output_type": "stream",
     "text": [
      "\u001b[0m\u001b[01;35mBuenos_Aires.png\u001b[0m  \u001b[01;35mif.png\u001b[0m                     \u001b[01;35mqueue.png\u001b[0m         \u001b[01;35mtablanotas.png\u001b[0m\r\n",
      "\u001b[01;35mcola.jpg\u001b[0m          \u001b[01;35moperadores_asignacion.png\u001b[0m  \u001b[01;35mrecursividad.png\u001b[0m  \u001b[01;35mtablaverdad.png\u001b[0m\r\n",
      "\u001b[01;35mhoras.jpg\u001b[0m         \u001b[01;35mpila.jpg\u001b[0m                   \u001b[01;35mstack.png\u001b[0m         \u001b[01;35mwhile.png\u001b[0m\r\n"
     ]
    }
   ],
   "source": [
    "%ls ./img #listando ficheros en la terminal de Linux"
   ]
  },
  {
   "cell_type": "markdown",
   "id": "67d25ae0",
   "metadata": {},
   "source": [
    "Desde la terminal podemos ejecutar los scripts, cuya extensión es .py  \n",
    "Para ello tecleamos:  \n",
    "\n",
    "```python fichero.py```  \n",
    "cambiar la palabra fichero por el que queramos ejecutar.  \n",
    "\n",
    "En Windows es posible que tengamos que teclear:  \n",
    "```python3 fichero.py```\n"
   ]
  },
  {
   "cell_type": "markdown",
   "id": "def4d5e6",
   "metadata": {},
   "source": [
    "## Visual Studio Code\n",
    "Este editor creado por Microsoft es gratuito y de código abierto (open souce). Es multiplataforma y va ganando cuota de mercado por ser  muy configurable con gran cantidad de plugins."
   ]
  },
  {
   "cell_type": "markdown",
   "id": "84e65077",
   "metadata": {},
   "source": [
    "## Entradas de datos\n",
    "Ejecución de scripts de Python con parámetros."
   ]
  },
  {
   "cell_type": "markdown",
   "id": "e7a57d5c",
   "metadata": {},
   "source": [
    "Voy a pasar dos argumentos a un script de Python que no los necesita. No dará error, pero esa información no se aprovechará.  \n",
    "Los parámetros numéricos se pasan sin comillas, y los strings se pasan entre comillados."
   ]
  },
  {
   "cell_type": "code",
   "execution_count": 13,
   "id": "0e320070",
   "metadata": {},
   "outputs": [
    {
     "name": "stdout",
     "output_type": "stream",
     "text": [
      "10\n",
      "10\n",
      "18\n",
      "La raiz cuadrada de 16 es 4.0\n",
      "La raiz cuadrada de 16 es 4.0\n"
     ]
    }
   ],
   "source": [
    "%run -i ../ejemplos/ejemplo1_0010.py \"Alex Ruiz\" 7"
   ]
  },
  {
   "cell_type": "markdown",
   "id": "4e768b88",
   "metadata": {},
   "source": [
    "Vamos a pasar ahora los parámetros a otro archivo que si los utilizará.\n",
    "\n",
    "Archivo **ejemplo1_0020.py**\n",
    "\n",
    "import sys      # importamos la librería que nos permite interaccionar con el sistema  \n",
    "print(sys.argv) # propiedad del sistema"
   ]
  },
  {
   "cell_type": "code",
   "execution_count": 14,
   "id": "90cbeda6",
   "metadata": {},
   "outputs": [
    {
     "name": "stdout",
     "output_type": "stream",
     "text": [
      "['../ejemplos/ejemplo1_0020.py', 'Alex Ruiz', '7']\n"
     ]
    }
   ],
   "source": [
    "%run -i ../ejemplos/ejemplo1_0020.py \"Alex Ruiz\" 7"
   ]
  },
  {
   "cell_type": "markdown",
   "id": "5b33644a",
   "metadata": {},
   "source": [
    "Vemos que devuelve una matriz con tres elementos.\n",
    "- índice 0: nombre del archivo\n",
    "- indice 1: primer argumento pasado que es un string\n",
    "- índice 2: segundo argumento pasado que es un numero también como string  \n",
    "Todos los números pasados se recogen como string.\n",
    "\n",
    "Gracias a ```sys.argv``` podemos obtener todos los argumentos que pasemos al script."
   ]
  },
  {
   "cell_type": "code",
   "execution_count": 16,
   "id": "b7b6b558",
   "metadata": {},
   "outputs": [
    {
     "name": "stdout",
     "output_type": "stream",
     "text": [
      "Hola Alex me alegro de que te guste el número 7.\n",
      "Seguro que te agrada ver una lista con tu número favorito \n",
      "[7, 7, 7, 7, 7, 7, 7]\n"
     ]
    }
   ],
   "source": [
    "%run -i ../ejemplos/ejemplo1_0030.py \"Alex\" 7"
   ]
  },
  {
   "cell_type": "markdown",
   "id": "0ec99a19",
   "metadata": {},
   "source": [
    "Si el programa espera dos argumentos y no se pasan exactamente dos, nos dará error, por lo que puede ser necesario adelantarnos y comprobar la longitud de los argumentos que nos han pasado.  \n",
    "Creamos la siguente versión que es el fichero ejemplo1_0040.py\n",
    "\n",
    "Primero vamos a ejecutarlo con un argumento menos y luego ya lo ejecutaremos correctamente."
   ]
  },
  {
   "cell_type": "code",
   "execution_count": 17,
   "id": "ce4f0afe",
   "metadata": {},
   "outputs": [
    {
     "name": "stdout",
     "output_type": "stream",
     "text": [
      "ERROR: se necesitan dos argumentos, 1º su nombre y 2º su número favorito.\n",
      "Ejemplo: pyhton ejemplo1_0040.py \"Ana Vega\" 4\n"
     ]
    }
   ],
   "source": [
    "%run -i ../ejemplos/ejemplo1_0040.py \"Ana Vega\""
   ]
  },
  {
   "cell_type": "code",
   "execution_count": 18,
   "id": "d340e43f",
   "metadata": {},
   "outputs": [
    {
     "name": "stdout",
     "output_type": "stream",
     "text": [
      "Hola Ana Vega me alegro de que te guste el número 4.\n",
      "Seguro que te agrada ver una lista con tu número favorito \n",
      "[4, 4, 4, 4]\n"
     ]
    }
   ],
   "source": [
    "%run -i ../ejemplos/ejemplo1_0040.py \"Ana Vega\" 4"
   ]
  }
 ],
 "metadata": {
  "kernelspec": {
   "display_name": "Python 3",
   "language": "python",
   "name": "python3"
  },
  "language_info": {
   "codemirror_mode": {
    "name": "ipython",
    "version": 3
   },
   "file_extension": ".py",
   "mimetype": "text/x-python",
   "name": "python",
   "nbconvert_exporter": "python",
   "pygments_lexer": "ipython3",
   "version": "3.8.8"
  }
 },
 "nbformat": 4,
 "nbformat_minor": 5
}
