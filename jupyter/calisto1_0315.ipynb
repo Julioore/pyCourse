{
  "nbformat": 4,
  "nbformat_minor": 0,
  "metadata": {
    "colab": {
      "name": "calisto1_0315.ipynb",
      "provenance": [],
      "authorship_tag": "ABX9TyPTDUYBNUgbSWSCEyJNGIcX",
      "include_colab_link": true
    },
    "kernelspec": {
      "name": "python3",
      "display_name": "Python 3"
    },
    "language_info": {
      "name": "python"
    }
  },
  "cells": [
    {
      "cell_type": "markdown",
      "metadata": {
        "id": "view-in-github",
        "colab_type": "text"
      },
      "source": [
        "<a href=\"https://colab.research.google.com/github/financieras/pyCourse/blob/main/jupyter/calisto1_0315.ipynb\" target=\"_parent\"><img src=\"https://colab.research.google.com/assets/colab-badge.svg\" alt=\"Open In Colab\"/></a>"
      ]
    },
    {
      "cell_type": "markdown",
      "source": [
        "# Operadores ternarios\n",
        "Son otra forma de codificar los condicionales ```if```...```else```"
      ],
      "metadata": {
        "id": "UDvp1-iBuciD"
      }
    },
    {
      "cell_type": "markdown",
      "source": [
        "## Sintaxis\n",
        "resultado_si_True ```if``` condición ```else``` resultado_si_False\n",
        "\n",
        "Se puede analizar una condición en una sola línea de código."
      ],
      "metadata": {
        "id": "imwHRa2Gvzve"
      }
    },
    {
      "cell_type": "code",
      "execution_count": 1,
      "metadata": {
        "colab": {
          "base_uri": "https://localhost:8080/"
        },
        "id": "T6b-dAtXtsi-",
        "outputId": "9ded05cd-3585-473e-bd19-4f76c926ebcf"
      },
      "outputs": [
        {
          "output_type": "stream",
          "name": "stdout",
          "text": [
            "es impar\n"
          ]
        }
      ],
      "source": [
        "# Un condicional típico sin aplicar el operador ternario\n",
        "\n",
        "x = 5\n",
        "\n",
        "if x%2==0:\n",
        "    print(\"es par\")\n",
        "else:\n",
        "    print(\"es impar\")"
      ]
    },
    {
      "cell_type": "code",
      "source": [
        "# Usando un operador ternario\n",
        "\n",
        "x = 5\n",
        "\n",
        "print('es par') if x%2==0 else print('es impar')"
      ],
      "metadata": {
        "colab": {
          "base_uri": "https://localhost:8080/"
        },
        "id": "y8SIQGBSvELN",
        "outputId": "8c5dcddb-6dfa-448c-80fe-10cc14ea7d02"
      },
      "execution_count": 18,
      "outputs": [
        {
          "output_type": "stream",
          "name": "stdout",
          "text": [
            "es impar\n"
          ]
        }
      ]
    },
    {
      "cell_type": "markdown",
      "source": [
        "### Todo en un solo ```print```"
      ],
      "metadata": {
        "id": "AnBxmDcNUmen"
      }
    },
    {
      "cell_type": "code",
      "source": [
        "print('es par' if x%2==0 else 'es impar')"
      ],
      "metadata": {
        "id": "UNB3fwjoUcZ3",
        "outputId": "57b2f2fd-d788-401a-df23-ed76fd298ccd",
        "colab": {
          "base_uri": "https://localhost:8080/"
        }
      },
      "execution_count": 19,
      "outputs": [
        {
          "output_type": "stream",
          "name": "stdout",
          "text": [
            "es impar\n"
          ]
        }
      ]
    },
    {
      "cell_type": "markdown",
      "source": [
        "#### Abreviando un poco más"
      ],
      "metadata": {
        "id": "3OdwsdpuXVl1"
      }
    },
    {
      "cell_type": "code",
      "source": [
        "print('es impar' if x%2 else 'es par')"
      ],
      "metadata": {
        "id": "pB9zZWmWXO6l"
      },
      "execution_count": null,
      "outputs": []
    },
    {
      "cell_type": "markdown",
      "source": [
        "### Ejemplo sin print"
      ],
      "metadata": {
        "id": "45vDPQXZxBU5"
      }
    },
    {
      "cell_type": "code",
      "source": [
        "encendido = True\n",
        "estado = \"el led luce\" if encendido else \"el led está apagado\"\n",
        "estado"
      ],
      "metadata": {
        "colab": {
          "base_uri": "https://localhost:8080/",
          "height": 35
        },
        "id": "iUD1j653xEtA",
        "outputId": "e0efcfaa-c40f-4494-9931-24d91c1f1203"
      },
      "execution_count": null,
      "outputs": [
        {
          "output_type": "execute_result",
          "data": {
            "text/plain": [
              "'el led luce'"
            ],
            "application/vnd.google.colaboratory.intrinsic+json": {
              "type": "string"
            }
          },
          "metadata": {},
          "execution_count": 17
        }
      ]
    },
    {
      "cell_type": "markdown",
      "source": [
        "## Asignación a una variable"
      ],
      "metadata": {
        "id": "9ZBbah6G1J1V"
      }
    },
    {
      "cell_type": "code",
      "source": [
        "edad = 20\n",
        "\n",
        "mayor = 'Si' if edad >= 18 else 'No'\n",
        "\n",
        "print(f\"{mayor} es mayor de edad\")"
      ],
      "metadata": {
        "colab": {
          "base_uri": "https://localhost:8080/"
        },
        "id": "bDtoPmxX1OEj",
        "outputId": "804d37e3-ea3d-4596-d7c6-25fdcf770db2"
      },
      "execution_count": null,
      "outputs": [
        {
          "output_type": "stream",
          "name": "stdout",
          "text": [
            "Si es mayor de edad\n"
          ]
        }
      ]
    },
    {
      "cell_type": "markdown",
      "source": [
        "## Con una función\n",
        "La asignación de valor puede usarse en una función o un método."
      ],
      "metadata": {
        "id": "Fk92ElTR1-1T"
      }
    },
    {
      "cell_type": "code",
      "source": [
        "# este es el código sin aplicar el operador ternario\n",
        "\n",
        "def mayor(edad):\n",
        "    if edad >= 18:\n",
        "        return 'Si'\n",
        "    return 'No'\n",
        "\n",
        "edad = 16\n",
        "\n",
        "print(f\"{mayor(edad)} es mayor de edad\")"
      ],
      "metadata": {
        "colab": {
          "base_uri": "https://localhost:8080/"
        },
        "id": "Ha-08Hsj2OCk",
        "outputId": "ea4956df-dd5a-4e32-faae-cfdee8b46d5d"
      },
      "execution_count": null,
      "outputs": [
        {
          "output_type": "stream",
          "name": "stdout",
          "text": [
            "No es mayor de edad\n"
          ]
        }
      ]
    },
    {
      "cell_type": "code",
      "source": [
        "# este es el código con el operador ternario\n",
        "\n",
        "def mayor(edad):\n",
        "    return 'Si' if edad >= 18 else 'No'\n",
        "\n",
        "edad = 16\n",
        "\n",
        "print(f\"{mayor(edad)} es mayor de edad\")"
      ],
      "metadata": {
        "colab": {
          "base_uri": "https://localhost:8080/"
        },
        "id": "oljlUHiC29W6",
        "outputId": "da425da6-a60a-4d09-d416-e3ae253cd432"
      },
      "execution_count": null,
      "outputs": [
        {
          "output_type": "stream",
          "name": "stdout",
          "text": [
            "No es mayor de edad\n"
          ]
        }
      ]
    },
    {
      "cell_type": "markdown",
      "source": [
        "La función ahora tiene un único ```return``` que devuelve el resultado de anlizar el operador ternario."
      ],
      "metadata": {
        "id": "IxN07YiA4JQX"
      }
    },
    {
      "cell_type": "markdown",
      "source": [
        "## Tupla de dos elementos\n",
        "* El primer elemento es de índice 0\n",
        "* El segundo elemento es de índice 1\n",
        "* Un True es un 1 y un False es un 0"
      ],
      "metadata": {
        "id": "FjeLRdnSL8GS"
      }
    },
    {
      "cell_type": "code",
      "source": [
        "a = 9\n",
        "b = 4\n",
        "\n",
        "mayor = (b,a)[a>b]\n",
        "\n",
        "print(f\"El mayor es {mayor}\")"
      ],
      "metadata": {
        "id": "qTk_suUvMejN",
        "outputId": "cbc12e05-82db-4824-cc8a-94de06226500",
        "colab": {
          "base_uri": "https://localhost:8080/"
        }
      },
      "execution_count": 3,
      "outputs": [
        {
          "output_type": "stream",
          "name": "stdout",
          "text": [
            "El mayor es 14\n"
          ]
        }
      ]
    },
    {
      "cell_type": "markdown",
      "source": [
        "También funciona con un lista de dos elementos, el primero para la opción False y el segundo para la opción True."
      ],
      "metadata": {
        "id": "9LYjeT2HM7za"
      }
    },
    {
      "cell_type": "markdown",
      "source": [
        "### Aplicando el operador ternario y el operador morsa\n",
        "Podemos conseguirlo en un sola línea.  \n",
        "No es que sea el código mas pitónico del mundo pero funciona desde la versión Python 3.8 en adelante."
      ],
      "metadata": {
        "id": "y0kPfzjeVPH8"
      }
    },
    {
      "cell_type": "code",
      "source": [
        "print(f\"El mayor es {((b:=4),(a:=9))[a>b]}\")"
      ],
      "metadata": {
        "id": "Vr8RKJzBVtU0"
      },
      "execution_count": null,
      "outputs": []
    },
    {
      "cell_type": "markdown",
      "source": [
        "## The Walrus Operator (El operador morsa)\n",
        "* Permite asignar un valor a una variable en la misma línea en la que estamos ya usando esa variable.\n",
        "* Disponible desde la versión Python 3.8"
      ],
      "metadata": {
        "id": "_v1sLdizONXm"
      }
    },
    {
      "cell_type": "code",
      "source": [
        "# veamos la versión de Python que estamos utilizando en Google Colab\n",
        "from platform import python_version\n",
        "print(python_version())"
      ],
      "metadata": {
        "id": "VUfTm642NlPj",
        "outputId": "3568cded-50ae-418f-f24e-6456c87b9cc0",
        "colab": {
          "base_uri": "https://localhost:8080/"
        }
      },
      "execution_count": 7,
      "outputs": [
        {
          "output_type": "stream",
          "name": "stdout",
          "text": [
            "3.7.13\n"
          ]
        }
      ]
    },
    {
      "cell_type": "markdown",
      "source": [
        "### Ejemplo 1\n",
        "#### Sin el operador morsa"
      ],
      "metadata": {
        "id": "RvdQhKX2Q7dB"
      }
    },
    {
      "cell_type": "code",
      "source": [
        "a = 8\n",
        "if a>5:\n",
        "    print(\"Es mayor\")"
      ],
      "metadata": {
        "id": "LVml467lOk6b",
        "outputId": "e556ba02-88aa-4f2d-d532-d3e8a373d1d7",
        "colab": {
          "base_uri": "https://localhost:8080/"
        }
      },
      "execution_count": 8,
      "outputs": [
        {
          "output_type": "stream",
          "name": "stdout",
          "text": [
            "Es mayor\n"
          ]
        }
      ]
    },
    {
      "cell_type": "markdown",
      "source": [
        "#### Con el operador morsa funcionando"
      ],
      "metadata": {
        "id": "Ac_DXO4xRDGo"
      }
    },
    {
      "cell_type": "code",
      "source": [
        "if a:=8>5:\n",
        "  print(\"Es mayor\")"
      ],
      "metadata": {
        "id": "rNM2mTbcRT9W"
      },
      "execution_count": null,
      "outputs": []
    },
    {
      "cell_type": "markdown",
      "source": [
        "### Ejemplo 2\n",
        "#### Sin el operador morsa"
      ],
      "metadata": {
        "id": "R1jT5tk9Rlx_"
      }
    },
    {
      "cell_type": "code",
      "source": [
        "from random import randint\n",
        "n = randint(0, 10)\n",
        "\n",
        "if n >= 5:\n",
        "    print(f\"Con un {n} está Aprobado\")\n",
        "else:\n",
        "    print(f\"Con un {n} está Suspenso\")"
      ],
      "metadata": {
        "id": "qtln2XkvRrcx",
        "outputId": "45d365dc-1e96-41b2-edce-943c377701ff",
        "colab": {
          "base_uri": "https://localhost:8080/"
        }
      },
      "execution_count": 41,
      "outputs": [
        {
          "output_type": "stream",
          "name": "stdout",
          "text": [
            "Con un 6 está Aprobado\n"
          ]
        }
      ]
    },
    {
      "cell_type": "markdown",
      "source": [
        "#### Con el operador morsa funcionando"
      ],
      "metadata": {
        "id": "Fpm32zZMTIFm"
      }
    },
    {
      "cell_type": "code",
      "source": [
        "print(f\"Con un {n} está Aprobado\" if (n := randint(0, 10)) >= 5 else (f\"Con un {n} está Suspenso\"))"
      ],
      "metadata": {
        "id": "Iw6XF1tOTM2c"
      },
      "execution_count": null,
      "outputs": []
    }
  ]
}