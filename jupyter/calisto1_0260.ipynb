{
 "cells": [
  {
   "cell_type": "markdown",
   "id": "6aba1b14",
   "metadata": {},
   "source": [
    "# Estructura condicional: ```if```"
   ]
  },
  {
   "cell_type": "markdown",
   "id": "17914d6e",
   "metadata": {},
   "source": [
    "<img src=\"img/if.png\" alt=\"ordinograma\" width=\"400\"/>"
   ]
  },
  {
   "cell_type": "code",
   "execution_count": 1,
   "id": "a7095f77",
   "metadata": {},
   "outputs": [
    {
     "name": "stdout",
     "output_type": "stream",
     "text": [
      "Los dos valores son iguales\n"
     ]
    }
   ],
   "source": [
    "a=5\n",
    "b=5\n",
    "if a==b:\n",
    "    print(\"Los dos valores son iguales\")"
   ]
  },
  {
   "cell_type": "code",
   "execution_count": 2,
   "id": "b7795ae6",
   "metadata": {},
   "outputs": [
    {
     "name": "stdout",
     "output_type": "stream",
     "text": [
      "El valor de c es 25\n"
     ]
    }
   ],
   "source": [
    "a=5\n",
    "b=5\n",
    "c=0\n",
    "if a == b:\n",
    "    c = a*b\n",
    "print(\"El valor de c es\", c)     #c es 25"
   ]
  },
  {
   "cell_type": "code",
   "execution_count": 3,
   "id": "9493e674",
   "metadata": {},
   "outputs": [
    {
     "name": "stdout",
     "output_type": "stream",
     "text": [
      "El valor de c es 0\n"
     ]
    }
   ],
   "source": [
    "a=5\n",
    "b=5\n",
    "c=0\n",
    "if a != b:                       #La condición se evalúa como False\n",
    "    c = a*b                      #Si la condición es falsa no se ejecuta el código del cuerpo\n",
    "print(\"El valor de c es\", c)     #c es 0\n"
   ]
  }
 ],
 "metadata": {
  "kernelspec": {
   "display_name": "Python 3",
   "language": "python",
   "name": "python3"
  },
  "language_info": {
   "codemirror_mode": {
    "name": "ipython",
    "version": 3
   },
   "file_extension": ".py",
   "mimetype": "text/x-python",
   "name": "python",
   "nbconvert_exporter": "python",
   "pygments_lexer": "ipython3",
   "version": "3.8.10"
  }
 },
 "nbformat": 4,
 "nbformat_minor": 5
}
