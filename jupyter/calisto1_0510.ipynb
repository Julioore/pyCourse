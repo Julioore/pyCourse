{
 "cells": [
  {
   "cell_type": "markdown",
   "id": "95f98efc",
   "metadata": {},
   "source": [
    "# Importación de librerías"
   ]
  },
  {
   "cell_type": "code",
   "execution_count": null,
   "id": "810670d7",
   "metadata": {},
   "outputs": [],
   "source": [
    "import os\n",
    "#os.system('cls')              #funciona en el cmd de Windows\n",
    "os.system('clear')             #para Linux/OS X\n"
   ]
  },
  {
   "cell_type": "code",
   "execution_count": null,
   "id": "7439036e",
   "metadata": {},
   "outputs": [],
   "source": [
    "import random\n",
    "print(random.randint(1,6))"
   ]
  },
  {
   "cell_type": "code",
   "execution_count": null,
   "id": "3a0eb204",
   "metadata": {},
   "outputs": [],
   "source": [
    "from random import randint\n",
    "print(randint(1,6))"
   ]
  },
  {
   "cell_type": "code",
   "execution_count": null,
   "id": "353f1626",
   "metadata": {},
   "outputs": [],
   "source": [
    "import random\n",
    "for i in range(5):              #genera 5 números aleatorios con posible repetición\n",
    "    print(random.randint(1,10)) #los números aleatorios van entre 1 y 10 ambos incluidos"
   ]
  },
  {
   "cell_type": "code",
   "execution_count": null,
   "id": "23470d93",
   "metadata": {},
   "outputs": [],
   "source": [
    "from random import shuffle\n",
    "x = [i for i in range(10)]\n",
    "shuffle(x)                      #desordena aleatoriamente una lista\n",
    "print(x)"
   ]
  },
  {
   "cell_type": "code",
   "execution_count": null,
   "id": "7f2298a0",
   "metadata": {},
   "outputs": [],
   "source": [
    "from math import exp, sqrt      #sin esta línea dará error porque no conoce exp ni sqrt\n",
    "print(\"La exponencial de {} es {}\".format(1,exp(1)))\n",
    "print(\"La raiz cuadrada de {} es {}\".format(2,sqrt(2)))"
   ]
  },
  {
   "cell_type": "code",
   "execution_count": null,
   "id": "88548c69",
   "metadata": {},
   "outputs": [],
   "source": [
    "def dado(n=6):                             #valor por defecto para el tamaño del dado\n",
    "    return randint(1,n)\n",
    "\n",
    "print(\"Tirando el dado sale:\", dado(100))  #si no ponemos argumento se toma el valor por defecto"
   ]
  }
 ],
 "metadata": {
  "kernelspec": {
   "display_name": "Python 3",
   "language": "python",
   "name": "python3"
  },
  "language_info": {
   "codemirror_mode": {
    "name": "ipython",
    "version": 3
   },
   "file_extension": ".py",
   "mimetype": "text/x-python",
   "name": "python",
   "nbconvert_exporter": "python",
   "pygments_lexer": "ipython3",
   "version": "3.8.8"
  }
 },
 "nbformat": 4,
 "nbformat_minor": 5
}
