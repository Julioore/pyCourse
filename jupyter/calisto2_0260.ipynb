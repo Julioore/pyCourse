{
 "cells": [
  {
   "cell_type": "markdown",
   "metadata": {},
   "source": [
    "# Métodos especiales ```__str__``` , ```__repr__```\n"
   ]
  },
  {
   "cell_type": "code",
   "execution_count": 4,
   "metadata": {},
   "outputs": [],
   "source": [
    "class TarjetaCredito:\n",
    "    def __init__(self, nombre, apellidos, numero):\n",
    "        self.nombre = nombre\n",
    "        self.apellidos = apellidos\n",
    "        self.numero = numero\n",
    "\n",
    "visa1 = TarjetaCredito(\"Jorge\", \"Ruiz\", \"1256 5425 2000 4565\")\n",
    "visa2 = TarjetaCredito(\"Susana\", \"Paz\", \"0469 1258 3000 4757\")"
   ]
  },
  {
   "cell_type": "markdown",
   "metadata": {},
   "source": [
    "Si queremos imprimir la instancia creada (visa1) no veremos sus atributos sino un objeto con su dirección de memoria."
   ]
  },
  {
   "cell_type": "code",
   "execution_count": 5,
   "metadata": {},
   "outputs": [
    {
     "data": {
      "text/plain": [
       "<__main__.TarjetaCredito at 0x227ee956970>"
      ]
     },
     "execution_count": 5,
     "metadata": {},
     "output_type": "execute_result"
    }
   ],
   "source": [
    "visa1                                       # vemos el objeto con su dirección de memoria, pero no sus atributos"
   ]
  },
  {
   "cell_type": "code",
   "execution_count": 6,
   "metadata": {},
   "outputs": [
    {
     "name": "stdout",
     "output_type": "stream",
     "text": [
      "<__main__.TarjetaCredito object at 0x00000227EE956A00>\n"
     ]
    }
   ],
   "source": [
    "print(visa2)                                # vemos el objeto con su dirección de memoria, pero no sus atributos"
   ]
  },
  {
   "cell_type": "markdown",
   "metadata": {},
   "source": [
    "## ```__str__```"
   ]
  },
  {
   "cell_type": "code",
   "execution_count": 7,
   "metadata": {},
   "outputs": [],
   "source": [
    "class TarjetaCredito:\n",
    "    def __init__(self, nombre, apellidos, numero):\n",
    "        self.nombre = nombre\n",
    "        self.apellidos = apellidos\n",
    "        self.numero = numero\n",
    "    def __str__(self):\n",
    "        return f\"Soy {self.nombre} {self.apellidos} y mi número de VISA es {self.numero}.\"\n",
    "\n",
    "visa1 = TarjetaCredito(\"Jorge\", \"Ruiz\", \"1256 5425 2000 4565\")\n",
    "visa2 = TarjetaCredito(\"Susana\", \"Paz\", \"0469 1258 3000 4757\")"
   ]
  },
  {
   "cell_type": "code",
   "execution_count": 10,
   "metadata": {},
   "outputs": [
    {
     "name": "stdout",
     "output_type": "stream",
     "text": [
      "Soy Jorge Ruiz y mi número de VISA es 1256 5425 2000 4565.\n",
      "Soy Susana Paz y mi número de VISA es 0469 1258 3000 4757.\n"
     ]
    }
   ],
   "source": [
    "print(visa1)                                # ahora si vemos un contendio más amigable del objeto viendo sus atributos\n",
    "print(visa2)                                # necesitamos poner un print pq __str__ va con return"
   ]
  },
  {
   "cell_type": "markdown",
   "metadata": {},
   "source": [
    "## ```__repr__```\n",
    "Para una representación formal del objeto."
   ]
  },
  {
   "cell_type": "code",
   "execution_count": 14,
   "metadata": {},
   "outputs": [
    {
     "name": "stdout",
     "output_type": "stream",
     "text": [
      "Jorge                 \n",
      "Ruiz                 \n",
      "1256 5425 2000 4565\n",
      "= = = = = = = = = = = = \n",
      "Susana                 \n",
      "Paz                 \n",
      "0469 1258 3000 4757\n"
     ]
    }
   ],
   "source": [
    "class TarjetaCredito:\n",
    "    def __init__(self, nombre, apellidos, numero):\n",
    "        self.nombre = nombre\n",
    "        self.apellidos = apellidos\n",
    "        self.numero = numero\n",
    "    def __repr__(self):                      # ahora no usamos str sino repr    \n",
    "        return f\"{self.nombre} \\\n",
    "                \\n{self.apellidos} \\\n",
    "                \\n{self.numero}\"\n",
    "\n",
    "visa1 = TarjetaCredito(\"Jorge\", \"Ruiz\", \"1256 5425 2000 4565\")\n",
    "visa2 = TarjetaCredito(\"Susana\", \"Paz\", \"0469 1258 3000 4757\")\n",
    "print(visa1)\n",
    "print(\"= \"*12)\n",
    "print(visa2)"
   ]
  },
  {
   "cell_type": "code",
   "execution_count": 24,
   "metadata": {},
   "outputs": [
    {
     "name": "stdout",
     "output_type": "stream",
     "text": [
      "Soy Jorge Ruiz y mi número de VISA es 1256 5425 2000 4565.\n",
      "= = = = = = = = = = = = = = = = = = = = = = = = = = = = = = \n",
      "Soy Susana Paz y mi número de VISA es 0469 1258 3000 4757.\n"
     ]
    }
   ],
   "source": [
    "class TarjetaCredito:\n",
    "    def __init__(self, nombre, apellidos, numero):\n",
    "        self.nombre = nombre\n",
    "        self.apellidos = apellidos\n",
    "        self.numero = numero\n",
    "    def __str__(self):                       # tenemos tanto str como repr\n",
    "        return f\"Soy {self.nombre} {self.apellidos} y mi número de VISA es {self.numero}.\"\n",
    "    def __repr__(self):                      # tenemos tanto str como repr\n",
    "        return f\"{self.nombre} \\\n",
    "                \\n{self.apellidos} \\\n",
    "                \\n{self.numero}\"\n",
    "\n",
    "visa1 = TarjetaCredito(\"Jorge\", \"Ruiz\", \"1256 5425 2000 4565\")\n",
    "visa2 = TarjetaCredito(\"Susana\", \"Paz\", \"0469 1258 3000 4757\")\n",
    "print(visa1)                                 # cuando están los dos (str y repr) domina str\n",
    "print(\"= \"*30)\n",
    "print(visa2)                                 # obtenemos una frase informal informando sobre el objeto"
   ]
  },
  {
   "cell_type": "code",
   "execution_count": 39,
   "metadata": {},
   "outputs": [],
   "source": [
    "class TarjetaCredito:\n",
    "    def __init__(self, nombre, apellidos, numero):\n",
    "        self.nombre = nombre\n",
    "        self.apellidos = apellidos\n",
    "        self.numero = numero\n",
    "    def __str__(self):\n",
    "        return f\"Soy {self.nombre} {self.apellidos} y mi número de VISA es {self.numero}.\"\n",
    "    def __repr__(self):\n",
    "        return f\"{self.nombre} \\\n",
    "                \\n{self.apellidos} \\\n",
    "                \\n{self.numero}\"\n",
    "\n",
    "visa1 = TarjetaCredito(\"Jorge\", \"Ruiz\", \"1256 5425 2000 4565\")\n",
    "visa2 = TarjetaCredito(\"Susana\", \"Paz\", \"0469 1258 3000 4757\")"
   ]
  },
  {
   "cell_type": "code",
   "execution_count": 40,
   "metadata": {},
   "outputs": [
    {
     "name": "stdout",
     "output_type": "stream",
     "text": [
      "Soy Jorge Ruiz y mi número de VISA es 1256 5425 2000 4565.\n"
     ]
    }
   ],
   "source": [
    "print(visa1)                                  # impresión informal con str"
   ]
  },
  {
   "cell_type": "code",
   "execution_count": 42,
   "metadata": {},
   "outputs": [
    {
     "name": "stdout",
     "output_type": "stream",
     "text": [
      "{Susana                 \n",
      "Paz                 \n",
      "0469 1258 3000 4757}\n"
     ]
    }
   ],
   "source": [
    "print({visa2})                                # representación formal con repr, pero salen los corchetes"
   ]
  },
  {
   "cell_type": "code",
   "execution_count": 43,
   "metadata": {},
   "outputs": [
    {
     "name": "stdout",
     "output_type": "stream",
     "text": [
      "Susana                 \n",
      "Paz                 \n",
      "0469 1258 3000 4757\n"
     ]
    }
   ],
   "source": [
    "print(f\"{visa2 !r}\")                          # así obtenemos la representación formal limpia, es necesario poner !r"
   ]
  }
 ],
 "metadata": {
  "kernelspec": {
   "display_name": "Python 3",
   "language": "python",
   "name": "python3"
  },
  "language_info": {
   "codemirror_mode": {
    "name": "ipython",
    "version": 3
   },
   "file_extension": ".py",
   "mimetype": "text/x-python",
   "name": "python",
   "nbconvert_exporter": "python",
   "pygments_lexer": "ipython3",
   "version": "3.8.8"
  }
 },
 "nbformat": 4,
 "nbformat_minor": 4
}
