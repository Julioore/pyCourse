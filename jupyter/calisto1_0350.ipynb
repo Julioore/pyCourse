{
 "cells": [
  {
   "cell_type": "markdown",
   "id": "e54bb825",
   "metadata": {},
   "source": [
    "# Bucle ```while```    [1]"
   ]
  },
  {
   "cell_type": "code",
   "execution_count": null,
   "id": "bad8a5f2",
   "metadata": {},
   "outputs": [],
   "source": [
    "a = 1\n",
    "b = 10\n",
    "while a <= b:          #mientras se cumpla la condición\n",
    "    print(a)           #imprime los números del 1 al 10\n",
    "    a=a+1              #equivale a la expresión:    a+=1   (contador)\n"
   ]
  },
  {
   "cell_type": "markdown",
   "id": "65d1e933",
   "metadata": {},
   "source": [
    "La siguiente estructura es un bucle sin fin.  \n",
    "Finalmente detendremos su ejecución de forma manual o dará un error y se interrumpirá su ejecución."
   ]
  },
  {
   "cell_type": "code",
   "execution_count": null,
   "id": "c90c5f66",
   "metadata": {},
   "outputs": [],
   "source": [
    "a = 1\n",
    "while True:             #siempre se cumple\n",
    "    print(a)            #imprime continuamente valores de a hasta que pulsemos CONTROL+C\n",
    "    a += 1"
   ]
  },
  {
   "cell_type": "markdown",
   "id": "e514d6c9",
   "metadata": {},
   "source": [
    "Para salir del bucle añadimos un ```if``` con un ```break```."
   ]
  },
  {
   "cell_type": "code",
   "execution_count": null,
   "id": "00513049",
   "metadata": {},
   "outputs": [],
   "source": [
    "a = 1\n",
    "while True:\n",
    "    print(a)\n",
    "    if a==10: break\n",
    "    a += 1"
   ]
  },
  {
   "cell_type": "markdown",
   "id": "c72ffb78",
   "metadata": {},
   "source": [
    "La gran diferencia entre un bucle ```for``` y un bucle ```while``` es la siguiente:  \n",
    "\n",
    "En un bucle ```for``` se conoce a priori el número de iteraciones que se han de realizar y  \n",
    "en un bucle ```while``` el número de ciclos se producirá de forma contínua hasta que se deje de cumplir la condición.  \n",
    "Por lo tanto en un bucle ```while``` algo tiene que cambiar que haga que la condición deje de cumplirse.  \n",
    "\n",
    "![bucle while](img/while.png)"
   ]
  },
  {
   "cell_type": "code",
   "execution_count": null,
   "id": "1c240130",
   "metadata": {},
   "outputs": [],
   "source": [
    "a=0\n",
    "while a >= 0:\n",
    "    a += 1\n",
    "    print(\"El valor de a es: \", a)\n",
    "    if a == 10:\n",
    "        print(\"El valor de a alcanzó el límite\")\n",
    "        break\n",
    "    print(\"\\tAún no hemos llegado al final\")\n",
    "print(\"Fin del programa\")\n"
   ]
  },
  {
   "cell_type": "markdown",
   "id": "3491afb5",
   "metadata": {},
   "source": [
    "**Ejercicios**  \n",
    "Cree un ejemplo donde se vea el uso de ```continue```."
   ]
  }
 ],
 "metadata": {
  "kernelspec": {
   "display_name": "Python 3",
   "language": "python",
   "name": "python3"
  },
  "language_info": {
   "codemirror_mode": {
    "name": "ipython",
    "version": 3
   },
   "file_extension": ".py",
   "mimetype": "text/x-python",
   "name": "python",
   "nbconvert_exporter": "python",
   "pygments_lexer": "ipython3",
   "version": "3.8.10"
  }
 },
 "nbformat": 4,
 "nbformat_minor": 5
}
