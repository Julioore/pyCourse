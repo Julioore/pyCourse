{
 "cells": [
  {
   "cell_type": "markdown",
   "id": "e54bb825",
   "metadata": {},
   "source": [
    "# Bucle ```while```    [1]"
   ]
  },
  {
   "cell_type": "code",
   "execution_count": null,
   "id": "bad8a5f2",
   "metadata": {},
   "outputs": [],
   "source": [
    "a = 1\n",
    "b = 5\n",
    "while a <= b:          #mientras se cumpla la condición\n",
    "    print(a)           #imprime los números del 1 al 10\n",
    "    a += 1             #equivale a la expresión:    a=a+1   (contador)"
   ]
  },
  {
   "cell_type": "markdown",
   "id": "738abf36",
   "metadata": {},
   "source": [
    "### Diferencia con un bucle ```for```  \n",
    "La gran diferencia entre un bucle ```for``` y un bucle ```while``` es la siguiente:  \n",
    "\n",
    "En un bucle ```for``` se conoce a priori el número de iteraciones que se han de realizar y  \n",
    "en un bucle ```while``` el número de ciclos se producirá de forma contínua hasta que se deje de cumplir la condición.  \n",
    "Por lo tanto en un bucle ```while``` algo tiene que cambiar que haga que la condición deje de cumplirse.  "
   ]
  },
  {
   "cell_type": "markdown",
   "id": "65d1e933",
   "metadata": {},
   "source": [
    "## Bucle sin fin\n",
    "La siguiente estructura es un bucle sin fin.  \n",
    "Finalmente detendremos su ejecución de forma manual o dará un error y se interrumpirá su ejecución."
   ]
  },
  {
   "cell_type": "code",
   "execution_count": null,
   "id": "c90c5f66",
   "metadata": {},
   "outputs": [],
   "source": [
    "a = 1\n",
    "while True:             #siempre se cumple\n",
    "    print(a)            #imprime continuamente valores de a hasta que pulsemos CONTROL+C\n",
    "    a += 1"
   ]
  },
  {
   "cell_type": "markdown",
   "id": "df72f148",
   "metadata": {},
   "source": [
    "### Salir de un bucle con un ```if``` ... ```break```\n",
    "Para salir del bucle añadimos un ```if``` con un ```break```."
   ]
  },
  {
   "cell_type": "code",
   "execution_count": null,
   "id": "00513049",
   "metadata": {},
   "outputs": [],
   "source": [
    "a = 1\n",
    "while True:\n",
    "    print(a)\n",
    "    if a==5: break\n",
    "    a += 1"
   ]
  },
  {
   "cell_type": "markdown",
   "id": "c72ffb78",
   "metadata": {},
   "source": [
    "![bucle while](img/while.png)"
   ]
  },
  {
   "cell_type": "code",
   "execution_count": null,
   "id": "1c240130",
   "metadata": {},
   "outputs": [],
   "source": [
    "a=0\n",
    "while a >= 0:\n",
    "    a += 1\n",
    "    print(\"El valor de a es: \", a)\n",
    "    if a == 5:\n",
    "        print(\"El valor de a alcanzó el límite\")\n",
    "        break\n",
    "    print(\"\\tAún no hemos llegado al final\")\n",
    "print(\"Fin del programa\")\n"
   ]
  },
  {
   "cell_type": "markdown",
   "id": "3491afb5",
   "metadata": {},
   "source": [
    "### Saltar una iteración con un ```if``` ... ```continue```\n",
    "Para saltarnos una iteración del bucle añadimos un ```if``` con un ```continue```.\n",
    "Al llegar al ```continue``` no se siguen ejecutando el resto de líneas de código internas al ```while``` que corresponden a esa iteración. Se salta a la siguiente iteración."
   ]
  },
  {
   "cell_type": "code",
   "execution_count": null,
   "id": "b0a2bc3e",
   "metadata": {},
   "outputs": [],
   "source": [
    "i = 0\n",
    "while i < 5:\n",
    "  i += 1\n",
    "  if i == 3:\n",
    "    continue  # cuando llega aquí no sigue ejecutando lineas y continúa con la siguiente iteración\n",
    "  print(i)\n",
    "\n",
    "# Observe que falta el 3"
   ]
  },
  {
   "cell_type": "markdown",
   "id": "cf0de083",
   "metadata": {},
   "source": [
    "## Uso de ```else```\n",
    "Si se sale del bucle mediante una interrupción ```break```, la cláusula else no se ejecutará."
   ]
  },
  {
   "cell_type": "code",
   "execution_count": null,
   "id": "399d244f",
   "metadata": {},
   "outputs": [],
   "source": [
    "i = 1\n",
    "while i <= 5:\n",
    "  print(i)\n",
    "  i += 1\n",
    "else:\n",
    "  print(\"Hemos llegado a 5\")  #solo se ejecuta una vez que el bucle se ha completado   \n",
    "print(\"Fin del programa\")"
   ]
  },
  {
   "cell_type": "code",
   "execution_count": null,
   "id": "c08e5e00",
   "metadata": {},
   "outputs": [],
   "source": [
    "i = 1\n",
    "while i <= 5:\n",
    "  print(i)\n",
    "  if i == 3:\n",
    "    #print(\"El bucle se rompe en i=\",i)\n",
    "    break\n",
    "  i += 1\n",
    "else:\n",
    "  print(\"Hemos llegado a 6\")  # no llega a ejecutarse debido al break\n",
    "print(\"Fin del programa\")"
   ]
  },
  {
   "cell_type": "markdown",
   "id": "63e562af",
   "metadata": {},
   "source": [
    "### Ejercicio\n",
    "Crear un caso donde se use un bucle ```while``` en el que podamos usar las sentencias ```break```, ```continue```, ```else```."
   ]
  },
  {
   "cell_type": "markdown",
   "id": "c5b5f090",
   "metadata": {},
   "source": [
    "## Ejemplo:  ver si un elemento está en una lista\n",
    "Solicitar al usuario que introduzca un número entre 20 y 99, ambos incluidos. Si el número no está en ese rango se seguirá pidiendo otro número.  \n",
    "Con el número introducido comprobaremos si se encuentra en la lista primos.  \n",
    "primos = [23, 29, 31, 37, 41, 43, 47, 53, 59, 61, 67, 71, 73, 79, 83, 89, 97]"
   ]
  },
  {
   "cell_type": "code",
   "execution_count": null,
   "id": "6ca43b31",
   "metadata": {},
   "outputs": [],
   "source": [
    "primos = [23, 29, 31, 37, 41, 43, 47, 53, 59, 61, 67, 71, 73, 79, 83, 89, 97]\n",
    "while True:                                             #estamos preguntando continuamente mientras n no sea válido\n",
    "    n = int(input('Indique un número entre 20 y 99 '))\n",
    "    if 20<=n<=99: break                                 #se sale cuando n está en el rango válido\n",
    "\n",
    "if n in primos:                                         #comprobamos si el número n está en la lista primos\n",
    "    print(n,'si está en la lista de primos')\n",
    "else:\n",
    "    print(n, 'no está en la lista de primos')"
   ]
  }
 ],
 "metadata": {
  "kernelspec": {
   "display_name": "Python 3",
   "language": "python",
   "name": "python3"
  },
  "language_info": {
   "codemirror_mode": {
    "name": "ipython",
    "version": 3
   },
   "file_extension": ".py",
   "mimetype": "text/x-python",
   "name": "python",
   "nbconvert_exporter": "python",
   "pygments_lexer": "ipython3",
   "version": "3.8.8"
  }
 },
 "nbformat": 4,
 "nbformat_minor": 5
}
