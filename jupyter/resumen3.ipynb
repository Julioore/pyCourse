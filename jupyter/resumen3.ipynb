{
  "nbformat": 4,
  "nbformat_minor": 0,
  "metadata": {
    "colab": {
      "name": "resumen3.ipynb",
      "provenance": [],
      "authorship_tag": "ABX9TyP2KWQgtkqVhRkcrzlxRAP1",
      "include_colab_link": true
    },
    "kernelspec": {
      "name": "python3",
      "display_name": "Python 3"
    },
    "language_info": {
      "name": "python"
    }
  },
  "cells": [
    {
      "cell_type": "markdown",
      "metadata": {
        "id": "view-in-github",
        "colab_type": "text"
      },
      "source": [
        "<a href=\"https://colab.research.google.com/github/financieras/pyCourse/blob/main/jupyter/resumen3.ipynb\" target=\"_parent\"><img src=\"https://colab.research.google.com/assets/colab-badge.svg\" alt=\"Open In Colab\"/></a>"
      ]
    },
    {
      "cell_type": "markdown",
      "source": [
        "# Condicionales `If`\n",
        "\n",
        "```python\n",
        "if <condición 1>:\n",
        "    <código>\n",
        "elif <condición 2>:\n",
        "    <código>\n",
        "elif <condición 3>:\n",
        "    <código>\n",
        "else:\n",
        "    <código>\n",
        "```\n",
        "\n"
      ],
      "metadata": {
        "id": "egDheR29Djzu"
      }
    },
    {
      "cell_type": "code",
      "execution_count": null,
      "metadata": {
        "id": "JSh5sv1LDfls"
      },
      "outputs": [],
      "source": [
        "edad = 20\n",
        "if edad >= 18:\n",
        "    print('Eres mayor de edad')\n",
        "elif edad >= 13:\n",
        "    print('Eres un adolescente')\n",
        "else:\n",
        "    print('Eres un niño')"
      ]
    },
    {
      "cell_type": "code",
      "source": [
        "ciudades =[\"Roma\", \"Londres\", \"París\", \"Madrid\", \"Berlín\"]\n",
        "city = \"Austin\"\n",
        "\n",
        "if city in ciudades:\n",
        "    print(f\"{city} si se encuentra en la lista de ciudades.\")\n",
        "else:\n",
        "    print(f'{city} no se encuentra en la lista de ciudades.')"
      ],
      "metadata": {
        "id": "N7mpm8Ev-Nig"
      },
      "execution_count": null,
      "outputs": []
    },
    {
      "cell_type": "markdown",
      "source": [
        "# Bucle `For`\n",
        "* Un bucle o **loop** es un proceso que se repite un cierto número de veces.\n",
        "* Es un proceso repetitivo, reiterativo\n",
        "* El bucle For se repite un número de veces conocido, un número de veces concreto.\n",
        "\n",
        "```python\n",
        "for <variable> in <lista>:\n",
        "    <código>\n",
        "```\n"
      ],
      "metadata": {
        "id": "5G7bh-W8_Dwr"
      }
    },
    {
      "cell_type": "code",
      "source": [
        "ciudades =[\"Roma\", \"Londres\", \"París\", \"Madrid\", \"Berlín\"]\n",
        "\n",
        "for ciudad in ciudades:\n",
        "    print(ciudad)"
      ],
      "metadata": {
        "id": "QkVdMGiI_9na"
      },
      "execution_count": null,
      "outputs": []
    },
    {
      "cell_type": "code",
      "source": [
        "for ciudad in ciudades:\n",
        "    if ciudad == \"Madrid\" or ciudad == \"Roma\":\n",
        "        print(ciudad)"
      ],
      "metadata": {
        "id": "i9hj2xZhASJu"
      },
      "execution_count": null,
      "outputs": []
    },
    {
      "cell_type": "markdown",
      "source": [
        "## `For` con `range`"
      ],
      "metadata": {
        "id": "a2UfeIXtA8ff"
      }
    },
    {
      "cell_type": "code",
      "source": [
        "# range crea un iterable de números enteros\n",
        "range(1,10)"
      ],
      "metadata": {
        "id": "X7wK2vf3BHVz"
      },
      "execution_count": null,
      "outputs": []
    },
    {
      "cell_type": "code",
      "source": [
        "# convertimos el rango en una lista\n",
        "list(range(1,10))   # el 10 no se incluye"
      ],
      "metadata": {
        "id": "clesPHuhBU6s"
      },
      "execution_count": null,
      "outputs": []
    },
    {
      "cell_type": "code",
      "source": [
        "list(range(5))   # lista desde el 0 hasta el 4"
      ],
      "metadata": {
        "id": "m0SFZNm9BiPz"
      },
      "execution_count": null,
      "outputs": []
    },
    {
      "cell_type": "code",
      "source": [
        "for i in range(5):   # la variable i es una variable instrumental, hace referencia al index\n",
        "    print(i)"
      ],
      "metadata": {
        "id": "nb-uko5ABtN3"
      },
      "execution_count": null,
      "outputs": []
    },
    {
      "cell_type": "code",
      "source": [
        "ciudades =[\"Roma\", \"Londres\", \"París\", \"Madrid\", \"Berlín\"]\n",
        "\n",
        "for i in range(len(ciudades)):\n",
        "    print(ciudades[i])"
      ],
      "metadata": {
        "id": "V7Ux4A_ECBeT"
      },
      "execution_count": null,
      "outputs": []
    },
    {
      "cell_type": "markdown",
      "source": [
        "## `For` ... `enumerate`"
      ],
      "metadata": {
        "id": "4J_SHPNfCRtj"
      }
    }
  ]
}