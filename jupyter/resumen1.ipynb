{
  "nbformat": 4,
  "nbformat_minor": 0,
  "metadata": {
    "colab": {
      "name": "resumen1.ipynb",
      "provenance": [],
      "include_colab_link": true
    },
    "kernelspec": {
      "name": "python3",
      "display_name": "Python 3"
    },
    "language_info": {
      "name": "python"
    }
  },
  "cells": [
    {
      "cell_type": "markdown",
      "metadata": {
        "id": "view-in-github",
        "colab_type": "text"
      },
      "source": [
        "<a href=\"https://colab.research.google.com/github/financieras/pyCourse/blob/main/jupyter/resumen1.ipynb\" target=\"_parent\"><img src=\"https://colab.research.google.com/assets/colab-badge.svg\" alt=\"Open In Colab\"/></a>"
      ]
    },
    {
      "cell_type": "markdown",
      "source": [
        "# Hola mundo"
      ],
      "metadata": {
        "id": "54oFeaZ6Tne7"
      }
    },
    {
      "cell_type": "code",
      "source": [
        "print(\"Hello world!\")"
      ],
      "metadata": {
        "colab": {
          "base_uri": "https://localhost:8080/"
        },
        "id": "qXbltVZwTsEV",
        "outputId": "946962de-a377-49cc-cd9b-502164299725"
      },
      "execution_count": null,
      "outputs": [
        {
          "output_type": "stream",
          "name": "stdout",
          "text": [
            "Hello world!\n"
          ]
        }
      ]
    },
    {
      "cell_type": "code",
      "source": [
        "\"Hola mundo\""
      ],
      "metadata": {
        "colab": {
          "base_uri": "https://localhost:8080/",
          "height": 36
        },
        "id": "MsUmggWdT4cs",
        "outputId": "cd87964c-7990-4fd3-b16d-61cfede65905"
      },
      "execution_count": null,
      "outputs": [
        {
          "output_type": "execute_result",
          "data": {
            "text/plain": [
              "'Hola mundo'"
            ],
            "application/vnd.google.colaboratory.intrinsic+json": {
              "type": "string"
            }
          },
          "metadata": {},
          "execution_count": 2
        }
      ]
    },
    {
      "cell_type": "code",
      "source": [
        "# esto es un comentario\n",
        "print('New York')   # también podemos usar comillas simples"
      ],
      "metadata": {
        "colab": {
          "base_uri": "https://localhost:8080/"
        },
        "id": "w7IRj3ueU02m",
        "outputId": "c4772bec-32ea-4738-ea3a-96968ecc75fb"
      },
      "execution_count": null,
      "outputs": [
        {
          "output_type": "stream",
          "name": "stdout",
          "text": [
            "New York\n"
          ]
        }
      ]
    },
    {
      "cell_type": "markdown",
      "source": [
        "# Tipos de datos"
      ],
      "metadata": {
        "id": "CFNWq8bnUvfH"
      }
    },
    {
      "cell_type": "code",
      "source": [
        "print(25)    # este es un número entero de tipo int (integer)"
      ],
      "metadata": {
        "colab": {
          "base_uri": "https://localhost:8080/"
        },
        "id": "Dl-_ffXUUJux",
        "outputId": "e9e8b4a7-351a-4ae8-ef95-fae8f81df808"
      },
      "execution_count": null,
      "outputs": [
        {
          "output_type": "stream",
          "name": "stdout",
          "text": [
            "25\n"
          ]
        }
      ]
    },
    {
      "cell_type": "code",
      "source": [
        "type(25)     # función que nos dice el tipo de dato"
      ],
      "metadata": {
        "colab": {
          "base_uri": "https://localhost:8080/"
        },
        "id": "Y_Tdi8TvbSv9",
        "outputId": "00089c99-b54d-4039-ee69-b9d843a3e943"
      },
      "execution_count": null,
      "outputs": [
        {
          "output_type": "execute_result",
          "data": {
            "text/plain": [
              "int"
            ]
          },
          "metadata": {},
          "execution_count": 5
        }
      ]
    },
    {
      "cell_type": "code",
      "source": [
        "print(3.8)   # este es un número decimal de tipo float\n",
        "type (3.8)   # en español se llaman \"números de coma flotante\""
      ],
      "metadata": {
        "colab": {
          "base_uri": "https://localhost:8080/"
        },
        "id": "EVCSy5-_bYr5",
        "outputId": "05582a54-6733-473d-fc15-c72679237db9"
      },
      "execution_count": null,
      "outputs": [
        {
          "output_type": "stream",
          "name": "stdout",
          "text": [
            "3.8\n"
          ]
        },
        {
          "output_type": "execute_result",
          "data": {
            "text/plain": [
              "float"
            ]
          },
          "metadata": {},
          "execution_count": 6
        }
      ]
    },
    {
      "cell_type": "code",
      "source": [
        "print(\"Madrid\")        # esto es un string, una cadena alfanumérica\n",
        "print(\"Madrid 2036\")   # esto es otro string\n",
        "type('Madrid 2036')"
      ],
      "metadata": {
        "colab": {
          "base_uri": "https://localhost:8080/"
        },
        "id": "40qlTyQQV-47",
        "outputId": "019c0003-f00c-4784-8ea0-aacc71893866"
      },
      "execution_count": null,
      "outputs": [
        {
          "output_type": "stream",
          "name": "stdout",
          "text": [
            "Madrid\n",
            "Madrid 2036\n"
          ]
        },
        {
          "output_type": "execute_result",
          "data": {
            "text/plain": [
              "str"
            ]
          },
          "metadata": {},
          "execution_count": 7
        }
      ]
    },
    {
      "cell_type": "code",
      "source": [
        "5 >= 2   # Operador lógico >, analiza la condición y da True o False"
      ],
      "metadata": {
        "colab": {
          "base_uri": "https://localhost:8080/"
        },
        "id": "NCBCXrPOZMSa",
        "outputId": "2ea16009-89f4-47a4-b203-5155c532fb95"
      },
      "execution_count": null,
      "outputs": [
        {
          "output_type": "execute_result",
          "data": {
            "text/plain": [
              "True"
            ]
          },
          "metadata": {},
          "execution_count": 8
        }
      ]
    },
    {
      "cell_type": "code",
      "source": [
        "type(True)   # Boolean"
      ],
      "metadata": {
        "colab": {
          "base_uri": "https://localhost:8080/"
        },
        "id": "SmKMhC0IZCO2",
        "outputId": "e7efaed0-06c7-492a-c9ea-72901cbacb26"
      },
      "execution_count": null,
      "outputs": [
        {
          "output_type": "execute_result",
          "data": {
            "text/plain": [
              "bool"
            ]
          },
          "metadata": {},
          "execution_count": 9
        }
      ]
    },
    {
      "cell_type": "code",
      "source": [
        "2 == 3    # Operador lógico de igualdad"
      ],
      "metadata": {
        "colab": {
          "base_uri": "https://localhost:8080/"
        },
        "id": "bRXemNM2ZaMA",
        "outputId": "1dfb09c3-e346-4290-cebe-9ef2efeef6cc"
      },
      "execution_count": null,
      "outputs": [
        {
          "output_type": "execute_result",
          "data": {
            "text/plain": [
              "False"
            ]
          },
          "metadata": {},
          "execution_count": 10
        }
      ]
    },
    {
      "cell_type": "code",
      "source": [
        "type(2==3)   # primero se evalúa la condición lógica que da False"
      ],
      "metadata": {
        "colab": {
          "base_uri": "https://localhost:8080/"
        },
        "id": "vy-8X1yoZGn8",
        "outputId": "29472856-f931-4ddd-956d-534891816f44"
      },
      "execution_count": null,
      "outputs": [
        {
          "output_type": "execute_result",
          "data": {
            "text/plain": [
              "bool"
            ]
          },
          "metadata": {},
          "execution_count": 11
        }
      ]
    },
    {
      "cell_type": "markdown",
      "source": [
        "## Diferencia entre integer y string"
      ],
      "metadata": {
        "id": "XqnOWlU0YYpx"
      }
    },
    {
      "cell_type": "code",
      "source": [
        "print(5 == '5')"
      ],
      "metadata": {
        "id": "uJqKsK6RYeFf",
        "outputId": "f985c399-d231-40c6-9349-b1113b46602a",
        "colab": {
          "base_uri": "https://localhost:8080/"
        }
      },
      "execution_count": null,
      "outputs": [
        {
          "output_type": "stream",
          "name": "stdout",
          "text": [
            "False\n"
          ]
        }
      ]
    },
    {
      "cell_type": "markdown",
      "source": [
        "# Operaciones algebráicas"
      ],
      "metadata": {
        "id": "EVZFkx-HXAUt"
      }
    },
    {
      "cell_type": "code",
      "source": [
        "2 + 3   # suma"
      ],
      "metadata": {
        "colab": {
          "base_uri": "https://localhost:8080/"
        },
        "id": "ZvuVj_ZiXFar",
        "outputId": "39b4ddae-db7a-4406-c756-374f717134a3"
      },
      "execution_count": null,
      "outputs": [
        {
          "output_type": "execute_result",
          "data": {
            "text/plain": [
              "5"
            ]
          },
          "metadata": {},
          "execution_count": 12
        }
      ]
    },
    {
      "cell_type": "code",
      "source": [
        "4 - 6   # resta"
      ],
      "metadata": {
        "colab": {
          "base_uri": "https://localhost:8080/"
        },
        "id": "8TNTAvrfXI-L",
        "outputId": "45c9e470-0baa-4be0-e282-6fe685ed0f9d"
      },
      "execution_count": null,
      "outputs": [
        {
          "output_type": "execute_result",
          "data": {
            "text/plain": [
              "-2"
            ]
          },
          "metadata": {},
          "execution_count": 13
        }
      ]
    },
    {
      "cell_type": "code",
      "source": [
        "9 * 3    # no se muestra ya que no lleva print\n",
        "12 / 4   # solo se muestra el último. Al dividir siempre da un float"
      ],
      "metadata": {
        "colab": {
          "base_uri": "https://localhost:8080/"
        },
        "id": "tldi8tFeXcXS",
        "outputId": "386d7e02-5e35-4782-8219-7ab0f92ecaef"
      },
      "execution_count": null,
      "outputs": [
        {
          "output_type": "execute_result",
          "data": {
            "text/plain": [
              "3.0"
            ]
          },
          "metadata": {},
          "execution_count": 14
        }
      ]
    },
    {
      "cell_type": "code",
      "source": [
        "print(9 * 3)     # producto\n",
        "print(11 / 3)    # división\n",
        "print(11 // 3)   # división entera (no es redondeo)\n",
        "print(11 % 3)    # resto (módulo)\n",
        "print(2 ** 3)    # potencias\n"
      ],
      "metadata": {
        "colab": {
          "base_uri": "https://localhost:8080/"
        },
        "id": "xjD52fBqX3Oe",
        "outputId": "54c88c0d-d2be-4f99-ba76-6a62f6b61003"
      },
      "execution_count": null,
      "outputs": [
        {
          "output_type": "stream",
          "name": "stdout",
          "text": [
            "27\n",
            "3.6666666666666665\n",
            "3\n",
            "2\n",
            "8\n"
          ]
        }
      ]
    },
    {
      "cell_type": "markdown",
      "source": [
        "# El operador punto\n",
        "Se aplican métodos a objetos.\n",
        "\n",
        "\n",
        "objeto.método()"
      ],
      "metadata": {
        "id": "JGfAekCZdO-M"
      }
    },
    {
      "cell_type": "code",
      "source": [
        "\"Hola mundo\".upper()   # todo a mayúsculas"
      ],
      "metadata": {
        "colab": {
          "base_uri": "https://localhost:8080/",
          "height": 36
        },
        "id": "dgE2UpR5daRQ",
        "outputId": "5ee2ded6-8e3b-4025-e8de-a7d172959bae"
      },
      "execution_count": null,
      "outputs": [
        {
          "output_type": "execute_result",
          "data": {
            "text/plain": [
              "'HOLA MUNDO'"
            ],
            "application/vnd.google.colaboratory.intrinsic+json": {
              "type": "string"
            }
          },
          "metadata": {},
          "execution_count": 16
        }
      ]
    },
    {
      "cell_type": "code",
      "source": [
        "\"Vacaciones en Roma\".lower()   # todo a minusculas"
      ],
      "metadata": {
        "colab": {
          "base_uri": "https://localhost:8080/",
          "height": 36
        },
        "id": "DnWpMxHQdqSR",
        "outputId": "fd42a33b-9230-4a40-b09f-31e449266d15"
      },
      "execution_count": null,
      "outputs": [
        {
          "output_type": "execute_result",
          "data": {
            "text/plain": [
              "'vacaciones en roma'"
            ],
            "application/vnd.google.colaboratory.intrinsic+json": {
              "type": "string"
            }
          },
          "metadata": {},
          "execution_count": 17
        }
      ]
    },
    {
      "cell_type": "code",
      "source": [
        "usuario = 'ana ruiz'   # creamos una variable\n",
        "usuario.title()        # las primeras letras a mayúsculas y las demás a minúculas"
      ],
      "metadata": {
        "colab": {
          "base_uri": "https://localhost:8080/",
          "height": 36
        },
        "id": "NL7HGC16d-90",
        "outputId": "015a8cc6-2ac1-4290-8f16-e5dd6b1ca1ef"
      },
      "execution_count": null,
      "outputs": [
        {
          "output_type": "execute_result",
          "data": {
            "text/plain": [
              "'Ana Ruiz'"
            ],
            "application/vnd.google.colaboratory.intrinsic+json": {
              "type": "string"
            }
          },
          "metadata": {},
          "execution_count": 18
        }
      ]
    },
    {
      "cell_type": "code",
      "source": [
        "profesion = 'abogado laboralista'\n",
        "profesion.count('a')    # contar caracteres"
      ],
      "metadata": {
        "colab": {
          "base_uri": "https://localhost:8080/"
        },
        "id": "wQ1WKv3UgvEh",
        "outputId": "ef3f11d3-a307-4349-a614-bb645f6f721e"
      },
      "execution_count": null,
      "outputs": [
        {
          "output_type": "execute_result",
          "data": {
            "text/plain": [
              "5"
            ]
          },
          "metadata": {},
          "execution_count": 19
        }
      ]
    },
    {
      "cell_type": "code",
      "source": [
        "cargo = 'ecargado'\n",
        "cargo.replace('o', 'a')   # reemplazar caracteres"
      ],
      "metadata": {
        "colab": {
          "base_uri": "https://localhost:8080/",
          "height": 36
        },
        "id": "2cLTg-_rhmmL",
        "outputId": "1eedd855-cef6-414d-bb55-3aa4c815b8d4"
      },
      "execution_count": null,
      "outputs": [
        {
          "output_type": "execute_result",
          "data": {
            "text/plain": [
              "'ecargada'"
            ],
            "application/vnd.google.colaboratory.intrinsic+json": {
              "type": "string"
            }
          },
          "metadata": {},
          "execution_count": 20
        }
      ]
    },
    {
      "cell_type": "markdown",
      "source": [
        "# Variables"
      ],
      "metadata": {
        "id": "wcdJYliPTWOy"
      }
    },
    {
      "cell_type": "code",
      "execution_count": null,
      "metadata": {
        "colab": {
          "base_uri": "https://localhost:8080/"
        },
        "id": "HOHtK_MjS_1e",
        "outputId": "8a2aa9c2-b0d8-47ee-9660-d697a953b83a"
      },
      "outputs": [
        {
          "output_type": "stream",
          "name": "stdout",
          "text": [
            "5\n",
            "17\n"
          ]
        },
        {
          "output_type": "execute_result",
          "data": {
            "text/plain": [
              "24"
            ]
          },
          "metadata": {},
          "execution_count": 21
        }
      ],
      "source": [
        "x = 5\n",
        "print(x)\n",
        "print(2*x+7)\n",
        "2*(x+7)        # los paréntesis tienen prioridad"
      ]
    },
    {
      "cell_type": "code",
      "source": [
        "nombre = \"Ana\"\n",
        "apellido = \"Ruiz\"\n",
        "nombre + apellido   # concatenando dos strings\n"
      ],
      "metadata": {
        "colab": {
          "base_uri": "https://localhost:8080/",
          "height": 36
        },
        "id": "N-g_xSTAj8aK",
        "outputId": "efbb518e-e608-44b3-fef1-aaa55416dadc"
      },
      "execution_count": null,
      "outputs": [
        {
          "output_type": "execute_result",
          "data": {
            "text/plain": [
              "'AnaRuiz'"
            ],
            "application/vnd.google.colaboratory.intrinsic+json": {
              "type": "string"
            }
          },
          "metadata": {},
          "execution_count": 22
        }
      ]
    },
    {
      "cell_type": "code",
      "source": [
        "nombre + \" \" + apellido   # añadimos un espacio en medio"
      ],
      "metadata": {
        "colab": {
          "base_uri": "https://localhost:8080/",
          "height": 36
        },
        "id": "SLLuhIEwkVth",
        "outputId": "4fe787f8-a576-4c9d-dfc2-a532480223d7"
      },
      "execution_count": null,
      "outputs": [
        {
          "output_type": "execute_result",
          "data": {
            "text/plain": [
              "'Ana Ruiz'"
            ],
            "application/vnd.google.colaboratory.intrinsic+json": {
              "type": "string"
            }
          },
          "metadata": {},
          "execution_count": 23
        }
      ]
    },
    {
      "cell_type": "code",
      "source": [
        "# el sistema f para dar formato\n",
        "edad = 25\n",
        "f\"Me llamo {nombre} {apellido} y mañana cumpliré {edad+1} años.\""
      ],
      "metadata": {
        "colab": {
          "base_uri": "https://localhost:8080/",
          "height": 36
        },
        "id": "VuHjYl7TkcyK",
        "outputId": "061a6925-7ed8-4f1c-c074-27fc7443c0b1"
      },
      "execution_count": null,
      "outputs": [
        {
          "output_type": "execute_result",
          "data": {
            "text/plain": [
              "'Me llamo Ana Ruiz y mañana cumpliré 26 años.'"
            ],
            "application/vnd.google.colaboratory.intrinsic+json": {
              "type": "string"
            }
          },
          "metadata": {},
          "execution_count": 24
        }
      ]
    },
    {
      "cell_type": "markdown",
      "metadata": {
        "id": "u-fQYalFOZAI"
      },
      "source": [
        "## Contadores\n",
        "Un contador es una variable que se va incrementando, habitualmente de uno en uno."
      ]
    },
    {
      "cell_type": "code",
      "metadata": {
        "colab": {
          "base_uri": "https://localhost:8080/"
        },
        "id": "-tO8OuDDOaJ6",
        "outputId": "b0b97137-3f85-48c3-d38f-5a6cc1f1eb38"
      },
      "source": [
        "vidas = 3                  # comenzamos un juego con 3 vidas\n",
        "print(vidas)\n",
        "\n",
        "vidas = vidas + 1          # si en el juego ganamos una vida podemos incrementar su valor en uno\n",
        "print(vidas)\n",
        "\n",
        "vidas += 1                 # esta es una forma abreviada de escribir lo mismo que antes. Incrementa las vidas en una más.\n",
        "print(vidas)\n",
        "\n",
        "vidas -= 1                 # perdemos una vida. Es una forma abreviada de escribir   vidas = vidas - 1\n",
        "print(vidas)"
      ],
      "execution_count": null,
      "outputs": [
        {
          "output_type": "stream",
          "name": "stdout",
          "text": [
            "3\n",
            "4\n",
            "5\n",
            "4\n"
          ]
        }
      ]
    },
    {
      "cell_type": "markdown",
      "metadata": {
        "id": "EbzmAFhQPftj"
      },
      "source": [
        "# Concatenar"
      ]
    },
    {
      "cell_type": "code",
      "metadata": {
        "colab": {
          "base_uri": "https://localhost:8080/"
        },
        "id": "eI5GkcAKPinX",
        "outputId": "76f9ceff-705f-4974-e031-43788b1109b0"
      },
      "source": [
        "a = \"Buenos \"\n",
        "b = \"Aires\"\n",
        "print(a + b + \" es la capital de Argentina.\")"
      ],
      "execution_count": null,
      "outputs": [
        {
          "output_type": "stream",
          "name": "stdout",
          "text": [
            "Buenos Aires es la capital de Argentina.\n"
          ]
        }
      ]
    },
    {
      "cell_type": "code",
      "metadata": {
        "colab": {
          "base_uri": "https://localhost:8080/"
        },
        "id": "ZNi__D4vQBD3",
        "outputId": "fbb0d086-fa93-4152-d460-ec009e9bc5fb"
      },
      "source": [
        "print(\"1\" + \"2\")"
      ],
      "execution_count": null,
      "outputs": [
        {
          "output_type": "stream",
          "name": "stdout",
          "text": [
            "12\n"
          ]
        }
      ]
    },
    {
      "cell_type": "code",
      "metadata": {
        "id": "5HoGNWvGRQX1"
      },
      "source": [
        "#print( \"Tengo\" + 15)        # ERROR"
      ],
      "execution_count": null,
      "outputs": []
    },
    {
      "cell_type": "markdown",
      "metadata": {
        "id": "-ZCIZpBpQTa1"
      },
      "source": [
        "# Imprimir"
      ]
    },
    {
      "cell_type": "code",
      "metadata": {
        "colab": {
          "base_uri": "https://localhost:8080/"
        },
        "id": "QMB-OKgxQWpP",
        "outputId": "a5952f35-ec6d-4dbb-d75a-95b5cf5beea5"
      },
      "source": [
        "nombre = \"Ana\"\n",
        "edad = 14\n",
        "print(\"Hola, me llamo \" + nombre + \" y tengo \" + str(edad) +\" años.\")\n",
        "print(\"Hola, me llamo\", nombre, \"y tengo\", edad, \"años.\") \n",
        "print(f\"Hola, me llamo {nombre} y tengo {edad} años.\")"
      ],
      "execution_count": null,
      "outputs": [
        {
          "output_type": "stream",
          "name": "stdout",
          "text": [
            "Hola, me llamo Ana y tengo 14 años.\n",
            "Hola, me llamo Ana y tengo 14 años.\n",
            "Hola, me llamo Ana y tengo 14 años.\n"
          ]
        }
      ]
    },
    {
      "cell_type": "markdown",
      "metadata": {
        "id": "YCSSHvODS4pL"
      },
      "source": [
        "# Introduciendo datos con ```input()```\n",
        "Con la función input conseguimos capturar lo que el usuario escriba por teclado.  \n",
        "Input siempre captura un **string**. Si introducimos un número 5 lo que captura es '5'."
      ]
    },
    {
      "cell_type": "code",
      "metadata": {
        "colab": {
          "base_uri": "https://localhost:8080/"
        },
        "id": "Zs8ZO7V1S5pD",
        "outputId": "9b559407-7b7d-4538-f333-6dcea892f3e6"
      },
      "source": [
        "nombre = input(\"¿Cómo te llamas? \")          # recogemos el nombre en una variable, esto hace que se recuerde y se pueda usar luego\n",
        "nota = float(input(\"Nota del examen: \"))     # float convierte el str a un número con decimales. Si fuera int convierte a un entero.\n",
        "print(f\"Buenos días {nombre}, en el examen tienes una nota de {nota}.\")"
      ],
      "execution_count": null,
      "outputs": [
        {
          "output_type": "stream",
          "name": "stdout",
          "text": [
            "¿Cómo te llamas? Jose\n",
            "Nota del examen: 7.5\n",
            "Buenos días Jose, en el examen tienes una nota de 7.5.\n"
          ]
        }
      ]
    }
  ]
}