{
  "nbformat": 4,
  "nbformat_minor": 0,
  "metadata": {
    "colab": {
      "name": "resumen1.ipynb",
      "provenance": [],
      "include_colab_link": true
    },
    "kernelspec": {
      "name": "python3",
      "display_name": "Python 3"
    },
    "language_info": {
      "name": "python"
    }
  },
  "cells": [
    {
      "cell_type": "markdown",
      "metadata": {
        "id": "view-in-github",
        "colab_type": "text"
      },
      "source": [
        "<a href=\"https://colab.research.google.com/github/financieras/pyCourse/blob/main/jupyter/resumen1.ipynb\" target=\"_parent\"><img src=\"https://colab.research.google.com/assets/colab-badge.svg\" alt=\"Open In Colab\"/></a>"
      ]
    },
    {
      "cell_type": "markdown",
      "source": [
        "# Hola mundo"
      ],
      "metadata": {
        "id": "54oFeaZ6Tne7"
      }
    },
    {
      "cell_type": "code",
      "source": [
        "print(\"Hello world!\")"
      ],
      "metadata": {
        "colab": {
          "base_uri": "https://localhost:8080/"
        },
        "id": "qXbltVZwTsEV",
        "outputId": "946962de-a377-49cc-cd9b-502164299725"
      },
      "execution_count": null,
      "outputs": [
        {
          "output_type": "stream",
          "name": "stdout",
          "text": [
            "Hello world!\n"
          ]
        }
      ]
    },
    {
      "cell_type": "code",
      "source": [
        "\"Hola mundo\""
      ],
      "metadata": {
        "colab": {
          "base_uri": "https://localhost:8080/",
          "height": 36
        },
        "id": "MsUmggWdT4cs",
        "outputId": "cd87964c-7990-4fd3-b16d-61cfede65905"
      },
      "execution_count": null,
      "outputs": [
        {
          "output_type": "execute_result",
          "data": {
            "text/plain": [
              "'Hola mundo'"
            ],
            "application/vnd.google.colaboratory.intrinsic+json": {
              "type": "string"
            }
          },
          "metadata": {},
          "execution_count": 2
        }
      ]
    },
    {
      "cell_type": "code",
      "source": [
        "# esto es un comentario\n",
        "print('New York')   # también podemos usar comillas simples"
      ],
      "metadata": {
        "colab": {
          "base_uri": "https://localhost:8080/"
        },
        "id": "w7IRj3ueU02m",
        "outputId": "c4772bec-32ea-4738-ea3a-96968ecc75fb"
      },
      "execution_count": null,
      "outputs": [
        {
          "output_type": "stream",
          "name": "stdout",
          "text": [
            "New York\n"
          ]
        }
      ]
    },
    {
      "cell_type": "markdown",
      "source": [
        "# Tipos de datos"
      ],
      "metadata": {
        "id": "CFNWq8bnUvfH"
      }
    },
    {
      "cell_type": "code",
      "source": [
        "print(25)    # este es un número entero de tipo int (integer)"
      ],
      "metadata": {
        "colab": {
          "base_uri": "https://localhost:8080/"
        },
        "id": "Dl-_ffXUUJux",
        "outputId": "e9e8b4a7-351a-4ae8-ef95-fae8f81df808"
      },
      "execution_count": null,
      "outputs": [
        {
          "output_type": "stream",
          "name": "stdout",
          "text": [
            "25\n"
          ]
        }
      ]
    },
    {
      "cell_type": "code",
      "source": [
        "type(25)     # función que nos dice el tipo de dato"
      ],
      "metadata": {
        "colab": {
          "base_uri": "https://localhost:8080/"
        },
        "id": "Y_Tdi8TvbSv9",
        "outputId": "00089c99-b54d-4039-ee69-b9d843a3e943"
      },
      "execution_count": null,
      "outputs": [
        {
          "output_type": "execute_result",
          "data": {
            "text/plain": [
              "int"
            ]
          },
          "metadata": {},
          "execution_count": 5
        }
      ]
    },
    {
      "cell_type": "code",
      "source": [
        "print(3.8)   # este es un número decimal de tipo float\n",
        "type (3.8)"
      ],
      "metadata": {
        "colab": {
          "base_uri": "https://localhost:8080/"
        },
        "id": "EVCSy5-_bYr5",
        "outputId": "05582a54-6733-473d-fc15-c72679237db9"
      },
      "execution_count": null,
      "outputs": [
        {
          "output_type": "stream",
          "name": "stdout",
          "text": [
            "3.8\n"
          ]
        },
        {
          "output_type": "execute_result",
          "data": {
            "text/plain": [
              "float"
            ]
          },
          "metadata": {},
          "execution_count": 6
        }
      ]
    },
    {
      "cell_type": "code",
      "source": [
        "print(\"Madrid\")        # esto es un string, una cadena alfanumérica\n",
        "print(\"Madrid 2036\")   # esto es otro string\n",
        "type('Madrid 2036')"
      ],
      "metadata": {
        "colab": {
          "base_uri": "https://localhost:8080/"
        },
        "id": "40qlTyQQV-47",
        "outputId": "019c0003-f00c-4784-8ea0-aacc71893866"
      },
      "execution_count": null,
      "outputs": [
        {
          "output_type": "stream",
          "name": "stdout",
          "text": [
            "Madrid\n",
            "Madrid 2036\n"
          ]
        },
        {
          "output_type": "execute_result",
          "data": {
            "text/plain": [
              "str"
            ]
          },
          "metadata": {},
          "execution_count": 7
        }
      ]
    },
    {
      "cell_type": "code",
      "source": [
        "5 > 2   # Operador lógico >, analiza la condición y da True o False"
      ],
      "metadata": {
        "colab": {
          "base_uri": "https://localhost:8080/"
        },
        "id": "NCBCXrPOZMSa",
        "outputId": "2ea16009-89f4-47a4-b203-5155c532fb95"
      },
      "execution_count": null,
      "outputs": [
        {
          "output_type": "execute_result",
          "data": {
            "text/plain": [
              "True"
            ]
          },
          "metadata": {},
          "execution_count": 8
        }
      ]
    },
    {
      "cell_type": "code",
      "source": [
        "type(True)"
      ],
      "metadata": {
        "colab": {
          "base_uri": "https://localhost:8080/"
        },
        "id": "SmKMhC0IZCO2",
        "outputId": "e7efaed0-06c7-492a-c9ea-72901cbacb26"
      },
      "execution_count": null,
      "outputs": [
        {
          "output_type": "execute_result",
          "data": {
            "text/plain": [
              "bool"
            ]
          },
          "metadata": {},
          "execution_count": 9
        }
      ]
    },
    {
      "cell_type": "code",
      "source": [
        "2 == 3    # Operador lógico de igualdad"
      ],
      "metadata": {
        "colab": {
          "base_uri": "https://localhost:8080/"
        },
        "id": "bRXemNM2ZaMA",
        "outputId": "1dfb09c3-e346-4290-cebe-9ef2efeef6cc"
      },
      "execution_count": null,
      "outputs": [
        {
          "output_type": "execute_result",
          "data": {
            "text/plain": [
              "False"
            ]
          },
          "metadata": {},
          "execution_count": 10
        }
      ]
    },
    {
      "cell_type": "code",
      "source": [
        "type(2==3)   # primero se evalúa la condición lógica que da False"
      ],
      "metadata": {
        "colab": {
          "base_uri": "https://localhost:8080/"
        },
        "id": "vy-8X1yoZGn8",
        "outputId": "29472856-f931-4ddd-956d-534891816f44"
      },
      "execution_count": null,
      "outputs": [
        {
          "output_type": "execute_result",
          "data": {
            "text/plain": [
              "bool"
            ]
          },
          "metadata": {},
          "execution_count": 11
        }
      ]
    },
    {
      "cell_type": "markdown",
      "source": [
        "# Operaciones algebráicas"
      ],
      "metadata": {
        "id": "EVZFkx-HXAUt"
      }
    },
    {
      "cell_type": "code",
      "source": [
        "2 + 3   # suma"
      ],
      "metadata": {
        "colab": {
          "base_uri": "https://localhost:8080/"
        },
        "id": "ZvuVj_ZiXFar",
        "outputId": "39b4ddae-db7a-4406-c756-374f717134a3"
      },
      "execution_count": null,
      "outputs": [
        {
          "output_type": "execute_result",
          "data": {
            "text/plain": [
              "5"
            ]
          },
          "metadata": {},
          "execution_count": 12
        }
      ]
    },
    {
      "cell_type": "code",
      "source": [
        "4 - 6   # resta"
      ],
      "metadata": {
        "colab": {
          "base_uri": "https://localhost:8080/"
        },
        "id": "8TNTAvrfXI-L",
        "outputId": "45c9e470-0baa-4be0-e282-6fe685ed0f9d"
      },
      "execution_count": null,
      "outputs": [
        {
          "output_type": "execute_result",
          "data": {
            "text/plain": [
              "-2"
            ]
          },
          "metadata": {},
          "execution_count": 13
        }
      ]
    },
    {
      "cell_type": "code",
      "source": [
        "9 * 3    # no se muestra ya que no lleva print\n",
        "12 / 4   # solo se muestra el último"
      ],
      "metadata": {
        "colab": {
          "base_uri": "https://localhost:8080/"
        },
        "id": "tldi8tFeXcXS",
        "outputId": "386d7e02-5e35-4782-8219-7ab0f92ecaef"
      },
      "execution_count": null,
      "outputs": [
        {
          "output_type": "execute_result",
          "data": {
            "text/plain": [
              "3.0"
            ]
          },
          "metadata": {},
          "execution_count": 14
        }
      ]
    },
    {
      "cell_type": "code",
      "source": [
        "print(9 * 3)     # producto\n",
        "print(11 / 3)    # división\n",
        "print(11 // 3)   # división entera (no es redondeo)\n",
        "print(11 % 3)    # resto (módulo)\n",
        "print(2 ** 3)    # potencias\n"
      ],
      "metadata": {
        "colab": {
          "base_uri": "https://localhost:8080/"
        },
        "id": "xjD52fBqX3Oe",
        "outputId": "54c88c0d-d2be-4f99-ba76-6a62f6b61003"
      },
      "execution_count": null,
      "outputs": [
        {
          "output_type": "stream",
          "name": "stdout",
          "text": [
            "27\n",
            "3.6666666666666665\n",
            "3\n",
            "2\n",
            "8\n"
          ]
        }
      ]
    },
    {
      "cell_type": "markdown",
      "source": [
        "# El operador punto\n",
        "Se aplican métodos a objetos.\n",
        "\n",
        "\n",
        "objeto.método()"
      ],
      "metadata": {
        "id": "JGfAekCZdO-M"
      }
    },
    {
      "cell_type": "code",
      "source": [
        "\"Hola mundo\".upper()   # todo a mayúsculas"
      ],
      "metadata": {
        "colab": {
          "base_uri": "https://localhost:8080/",
          "height": 36
        },
        "id": "dgE2UpR5daRQ",
        "outputId": "5ee2ded6-8e3b-4025-e8de-a7d172959bae"
      },
      "execution_count": null,
      "outputs": [
        {
          "output_type": "execute_result",
          "data": {
            "text/plain": [
              "'HOLA MUNDO'"
            ],
            "application/vnd.google.colaboratory.intrinsic+json": {
              "type": "string"
            }
          },
          "metadata": {},
          "execution_count": 16
        }
      ]
    },
    {
      "cell_type": "code",
      "source": [
        "\"Vacaciones en Roma\".lower()   # todo a minusculas"
      ],
      "metadata": {
        "colab": {
          "base_uri": "https://localhost:8080/",
          "height": 36
        },
        "id": "DnWpMxHQdqSR",
        "outputId": "fd42a33b-9230-4a40-b09f-31e449266d15"
      },
      "execution_count": null,
      "outputs": [
        {
          "output_type": "execute_result",
          "data": {
            "text/plain": [
              "'vacaciones en roma'"
            ],
            "application/vnd.google.colaboratory.intrinsic+json": {
              "type": "string"
            }
          },
          "metadata": {},
          "execution_count": 17
        }
      ]
    },
    {
      "cell_type": "code",
      "source": [
        "usuario = 'ana ruiz'   # creamos una variable\n",
        "usuario.title()        # las primeras letras a mayúsculas y las demás a minúculas"
      ],
      "metadata": {
        "colab": {
          "base_uri": "https://localhost:8080/",
          "height": 36
        },
        "id": "NL7HGC16d-90",
        "outputId": "015a8cc6-2ac1-4290-8f16-e5dd6b1ca1ef"
      },
      "execution_count": null,
      "outputs": [
        {
          "output_type": "execute_result",
          "data": {
            "text/plain": [
              "'Ana Ruiz'"
            ],
            "application/vnd.google.colaboratory.intrinsic+json": {
              "type": "string"
            }
          },
          "metadata": {},
          "execution_count": 18
        }
      ]
    },
    {
      "cell_type": "code",
      "source": [
        "profesion = 'abogado laboralista'\n",
        "profesion.count('a')    # contar caracteres"
      ],
      "metadata": {
        "colab": {
          "base_uri": "https://localhost:8080/"
        },
        "id": "wQ1WKv3UgvEh",
        "outputId": "ef3f11d3-a307-4349-a614-bb645f6f721e"
      },
      "execution_count": null,
      "outputs": [
        {
          "output_type": "execute_result",
          "data": {
            "text/plain": [
              "5"
            ]
          },
          "metadata": {},
          "execution_count": 19
        }
      ]
    },
    {
      "cell_type": "code",
      "source": [
        "cargo = 'ecargado'\n",
        "cargo.replace('o', 'a')   # reemplazar caracteres"
      ],
      "metadata": {
        "colab": {
          "base_uri": "https://localhost:8080/",
          "height": 36
        },
        "id": "2cLTg-_rhmmL",
        "outputId": "1eedd855-cef6-414d-bb55-3aa4c815b8d4"
      },
      "execution_count": null,
      "outputs": [
        {
          "output_type": "execute_result",
          "data": {
            "text/plain": [
              "'ecargada'"
            ],
            "application/vnd.google.colaboratory.intrinsic+json": {
              "type": "string"
            }
          },
          "metadata": {},
          "execution_count": 20
        }
      ]
    },
    {
      "cell_type": "markdown",
      "source": [
        "# Variables"
      ],
      "metadata": {
        "id": "wcdJYliPTWOy"
      }
    },
    {
      "cell_type": "code",
      "execution_count": null,
      "metadata": {
        "colab": {
          "base_uri": "https://localhost:8080/"
        },
        "id": "HOHtK_MjS_1e",
        "outputId": "8a2aa9c2-b0d8-47ee-9660-d697a953b83a"
      },
      "outputs": [
        {
          "output_type": "stream",
          "name": "stdout",
          "text": [
            "5\n",
            "17\n"
          ]
        },
        {
          "output_type": "execute_result",
          "data": {
            "text/plain": [
              "24"
            ]
          },
          "metadata": {},
          "execution_count": 21
        }
      ],
      "source": [
        "x = 5\n",
        "print(x)\n",
        "print(2*x+7)\n",
        "2*(x+7)        # los paréntesis tienen prioridad"
      ]
    },
    {
      "cell_type": "code",
      "source": [
        "nombre = \"Ana\"\n",
        "apellido = \"Ruiz\"\n",
        "nombre + apellido   # concatenando dos strings\n"
      ],
      "metadata": {
        "colab": {
          "base_uri": "https://localhost:8080/",
          "height": 36
        },
        "id": "N-g_xSTAj8aK",
        "outputId": "efbb518e-e608-44b3-fef1-aaa55416dadc"
      },
      "execution_count": null,
      "outputs": [
        {
          "output_type": "execute_result",
          "data": {
            "text/plain": [
              "'AnaRuiz'"
            ],
            "application/vnd.google.colaboratory.intrinsic+json": {
              "type": "string"
            }
          },
          "metadata": {},
          "execution_count": 22
        }
      ]
    },
    {
      "cell_type": "code",
      "source": [
        "nombre + \" \" + apellido   # añadimos un espacio en medio"
      ],
      "metadata": {
        "colab": {
          "base_uri": "https://localhost:8080/",
          "height": 36
        },
        "id": "SLLuhIEwkVth",
        "outputId": "4fe787f8-a576-4c9d-dfc2-a532480223d7"
      },
      "execution_count": null,
      "outputs": [
        {
          "output_type": "execute_result",
          "data": {
            "text/plain": [
              "'Ana Ruiz'"
            ],
            "application/vnd.google.colaboratory.intrinsic+json": {
              "type": "string"
            }
          },
          "metadata": {},
          "execution_count": 23
        }
      ]
    },
    {
      "cell_type": "code",
      "source": [
        "# el sistema f para dar formato\n",
        "edad = 25\n",
        "f\"Me llamo {nombre} {apellido} y mañana cumpliré {edad+1} años.\""
      ],
      "metadata": {
        "colab": {
          "base_uri": "https://localhost:8080/",
          "height": 36
        },
        "id": "VuHjYl7TkcyK",
        "outputId": "061a6925-7ed8-4f1c-c074-27fc7443c0b1"
      },
      "execution_count": null,
      "outputs": [
        {
          "output_type": "execute_result",
          "data": {
            "text/plain": [
              "'Me llamo Ana Ruiz y mañana cumpliré 26 años.'"
            ],
            "application/vnd.google.colaboratory.intrinsic+json": {
              "type": "string"
            }
          },
          "metadata": {},
          "execution_count": 24
        }
      ]
    },
    {
      "cell_type": "markdown",
      "source": [
        "# Listas\n",
        "Las listas son arrays y son:\n",
        "* ordenadas\n",
        "* mutables → puede cambiar su valor\n",
        "\n",
        "El primer elemento de una lista tiene INDEX = 0"
      ],
      "metadata": {
        "id": "gWBLv0EGMG_L"
      }
    },
    {
      "cell_type": "code",
      "source": [
        "ciudades =[\"Roma\", \"Londres\", \"París\", \"Madrid\", \"Berlín\"]\n",
        "ciudades"
      ],
      "metadata": {
        "colab": {
          "base_uri": "https://localhost:8080/"
        },
        "id": "RcYLZzt8MfVP",
        "outputId": "f2ae3a82-962a-41c0-badf-149fab3c2a60"
      },
      "execution_count": null,
      "outputs": [
        {
          "output_type": "execute_result",
          "data": {
            "text/plain": [
              "['Roma', 'Londres', 'París', 'Madrid', 'Berlín']"
            ]
          },
          "metadata": {},
          "execution_count": 25
        }
      ]
    },
    {
      "cell_type": "code",
      "source": [
        "ciudades[0]"
      ],
      "metadata": {
        "colab": {
          "base_uri": "https://localhost:8080/",
          "height": 36
        },
        "id": "rmTiq2q4MzoR",
        "outputId": "177d01e0-c210-486f-b083-46539ac750ae"
      },
      "execution_count": null,
      "outputs": [
        {
          "output_type": "execute_result",
          "data": {
            "text/plain": [
              "'Roma'"
            ],
            "application/vnd.google.colaboratory.intrinsic+json": {
              "type": "string"
            }
          },
          "metadata": {},
          "execution_count": 26
        }
      ]
    },
    {
      "cell_type": "code",
      "source": [
        "ciudades[1]"
      ],
      "metadata": {
        "colab": {
          "base_uri": "https://localhost:8080/",
          "height": 36
        },
        "id": "8mzZeKalM42z",
        "outputId": "6823cef2-e662-4bc2-bac6-f80cab041397"
      },
      "execution_count": null,
      "outputs": [
        {
          "output_type": "execute_result",
          "data": {
            "text/plain": [
              "'Londres'"
            ],
            "application/vnd.google.colaboratory.intrinsic+json": {
              "type": "string"
            }
          },
          "metadata": {},
          "execution_count": 27
        }
      ]
    },
    {
      "cell_type": "code",
      "source": [
        "ciudades[4]"
      ],
      "metadata": {
        "colab": {
          "base_uri": "https://localhost:8080/",
          "height": 36
        },
        "id": "8UlCFDw3M7Pw",
        "outputId": "65e39f44-39b3-4291-cb23-57f6a19ca002"
      },
      "execution_count": null,
      "outputs": [
        {
          "output_type": "execute_result",
          "data": {
            "text/plain": [
              "'Berlín'"
            ],
            "application/vnd.google.colaboratory.intrinsic+json": {
              "type": "string"
            }
          },
          "metadata": {},
          "execution_count": 28
        }
      ]
    },
    {
      "cell_type": "code",
      "source": [
        "ciudades[-1]"
      ],
      "metadata": {
        "colab": {
          "base_uri": "https://localhost:8080/",
          "height": 36
        },
        "id": "jCz34uufM_IK",
        "outputId": "ef6cd7f0-f559-4a32-9ce6-d131f58199b1"
      },
      "execution_count": null,
      "outputs": [
        {
          "output_type": "execute_result",
          "data": {
            "text/plain": [
              "'Berlín'"
            ],
            "application/vnd.google.colaboratory.intrinsic+json": {
              "type": "string"
            }
          },
          "metadata": {},
          "execution_count": 29
        }
      ]
    },
    {
      "cell_type": "markdown",
      "source": [
        "## Slicing\n",
        "* Rebanadas\n",
        "* lista[inicio:final]"
      ],
      "metadata": {
        "id": "4fc3-uSgNmNi"
      }
    },
    {
      "cell_type": "code",
      "source": [
        "ciudades[0:3]   # el index = 3 no se incluye en el resultado "
      ],
      "metadata": {
        "colab": {
          "base_uri": "https://localhost:8080/"
        },
        "id": "1UMAW4czNzUu",
        "outputId": "069ac99b-ece2-40d0-aee9-4adac9e3f50e"
      },
      "execution_count": null,
      "outputs": [
        {
          "output_type": "execute_result",
          "data": {
            "text/plain": [
              "['Roma', 'Londres', 'París']"
            ]
          },
          "metadata": {},
          "execution_count": 30
        }
      ]
    },
    {
      "cell_type": "code",
      "source": [
        "ciudades[:3]   # si no se indica el inicio se supone que es cero"
      ],
      "metadata": {
        "colab": {
          "base_uri": "https://localhost:8080/"
        },
        "id": "iiq0d-uvONOe",
        "outputId": "79ffa1ee-cfc7-4f6b-9359-a15d9b69f478"
      },
      "execution_count": null,
      "outputs": [
        {
          "output_type": "execute_result",
          "data": {
            "text/plain": [
              "['Roma', 'Londres', 'París']"
            ]
          },
          "metadata": {},
          "execution_count": 31
        }
      ]
    },
    {
      "cell_type": "code",
      "source": [
        "ciudades[2:]   # si no se indica el final se supone que es hasta el final de la lista"
      ],
      "metadata": {
        "colab": {
          "base_uri": "https://localhost:8080/"
        },
        "id": "1O49HlriOWln",
        "outputId": "3853a9f2-8b6e-4446-f075-e5f38d7a5734"
      },
      "execution_count": null,
      "outputs": [
        {
          "output_type": "execute_result",
          "data": {
            "text/plain": [
              "['París', 'Madrid', 'Berlín']"
            ]
          },
          "metadata": {},
          "execution_count": 32
        }
      ]
    },
    {
      "cell_type": "code",
      "source": [
        "ciudades[:]   # toda las lista"
      ],
      "metadata": {
        "colab": {
          "base_uri": "https://localhost:8080/"
        },
        "id": "u6X_Gfb5Ofdf",
        "outputId": "82bf0130-5913-449f-e7a1-059b8af9242a"
      },
      "execution_count": null,
      "outputs": [
        {
          "output_type": "execute_result",
          "data": {
            "text/plain": [
              "['Roma', 'Londres', 'París', 'Madrid', 'Berlín']"
            ]
          },
          "metadata": {},
          "execution_count": 33
        }
      ]
    },
    {
      "cell_type": "markdown",
      "source": [
        "## Operaciones y métodos con listas"
      ],
      "metadata": {
        "id": "8G0A1qr3PAtd"
      }
    },
    {
      "cell_type": "code",
      "source": [
        "ciudades.append(\"Amsterdam\")   # añade un elemento al final\n",
        "ciudades"
      ],
      "metadata": {
        "colab": {
          "base_uri": "https://localhost:8080/"
        },
        "id": "d_XZ27fZPEPA",
        "outputId": "0fc6034b-1679-4065-ad1b-7380e7ccba34"
      },
      "execution_count": null,
      "outputs": [
        {
          "output_type": "execute_result",
          "data": {
            "text/plain": [
              "['Roma', 'Londres', 'París', 'Madrid', 'Berlín', 'Amsterdam']"
            ]
          },
          "metadata": {},
          "execution_count": 34
        }
      ]
    },
    {
      "cell_type": "code",
      "source": [
        "ciudades.insert(1, \"Lisboa\")   # añadimos el nuevo elemento en la posición indicada\n",
        "ciudades"
      ],
      "metadata": {
        "colab": {
          "base_uri": "https://localhost:8080/"
        },
        "id": "WKG4OhH8PkcY",
        "outputId": "1789b753-82fb-48b1-cafc-c41d422c0974"
      },
      "execution_count": null,
      "outputs": [
        {
          "output_type": "execute_result",
          "data": {
            "text/plain": [
              "['Roma', 'Lisboa', 'Londres', 'París', 'Madrid', 'Berlín', 'Amsterdam']"
            ]
          },
          "metadata": {},
          "execution_count": 35
        }
      ]
    },
    {
      "cell_type": "code",
      "source": [
        "urbes = [\"NY\", \"Tokyo\", ]\n",
        "ciudades + urbes   # concatenar listas"
      ],
      "metadata": {
        "colab": {
          "base_uri": "https://localhost:8080/"
        },
        "id": "6eWioBpoQUpE",
        "outputId": "4a73dc00-a503-4949-aeef-5f4fc084be59"
      },
      "execution_count": null,
      "outputs": [
        {
          "output_type": "execute_result",
          "data": {
            "text/plain": [
              "['Roma',\n",
              " 'Lisboa',\n",
              " 'Londres',\n",
              " 'París',\n",
              " 'Madrid',\n",
              " 'Berlín',\n",
              " 'Amsterdam',\n",
              " 'NY',\n",
              " 'Tokyo']"
            ]
          },
          "metadata": {},
          "execution_count": 36
        }
      ]
    },
    {
      "cell_type": "code",
      "source": [
        "anida = [ciudades, urbes]   # las listas anidadas son listas de listas\n",
        "anida"
      ],
      "metadata": {
        "colab": {
          "base_uri": "https://localhost:8080/"
        },
        "id": "fRleKp66RBib",
        "outputId": "328bee96-0a91-4f3a-ab1e-285efcbbe8e8"
      },
      "execution_count": null,
      "outputs": [
        {
          "output_type": "execute_result",
          "data": {
            "text/plain": [
              "[['Roma', 'Lisboa', 'Londres', 'París', 'Madrid', 'Berlín', 'Amsterdam'],\n",
              " ['NY', 'Tokyo']]"
            ]
          },
          "metadata": {},
          "execution_count": 37
        }
      ]
    },
    {
      "cell_type": "markdown",
      "source": [
        "### Eliminar elementos"
      ],
      "metadata": {
        "id": "L2eb1FBeR3gY"
      }
    },
    {
      "cell_type": "code",
      "source": [
        "ciudades = ['Roma', 'Lisboa', 'Londres', 'París', 'Madrid', 'Berlín', 'Amsterdam']\n",
        "print(ciudades)\n",
        "ciudades.pop()   # pop elimina el último elemento de la lista\n",
        "ciudades"
      ],
      "metadata": {
        "colab": {
          "base_uri": "https://localhost:8080/"
        },
        "id": "UH47r7WBRZp1",
        "outputId": "b91a88ec-8204-448b-a64d-07d0f0d5bc25"
      },
      "execution_count": null,
      "outputs": [
        {
          "output_type": "stream",
          "name": "stdout",
          "text": [
            "['Roma', 'Lisboa', 'Londres', 'París', 'Madrid', 'Berlín', 'Amsterdam']\n"
          ]
        },
        {
          "output_type": "execute_result",
          "data": {
            "text/plain": [
              "['Roma', 'Lisboa', 'Londres', 'París', 'Madrid', 'Berlín']"
            ]
          },
          "metadata": {},
          "execution_count": 38
        }
      ]
    },
    {
      "cell_type": "code",
      "source": [
        "ciudades.pop(0)   # elimina el elemento indicado por su index"
      ],
      "metadata": {
        "colab": {
          "base_uri": "https://localhost:8080/",
          "height": 36
        },
        "id": "Y20osipLSwad",
        "outputId": "501d44c7-3802-4422-b61b-713319902397"
      },
      "execution_count": null,
      "outputs": [
        {
          "output_type": "execute_result",
          "data": {
            "text/plain": [
              "'Roma'"
            ],
            "application/vnd.google.colaboratory.intrinsic+json": {
              "type": "string"
            }
          },
          "metadata": {},
          "execution_count": 39
        }
      ]
    },
    {
      "cell_type": "code",
      "source": [
        "ciudades"
      ],
      "metadata": {
        "colab": {
          "base_uri": "https://localhost:8080/"
        },
        "id": "z-MSzZfKS_-D",
        "outputId": "24f33e9e-884d-4f1a-ec1b-524858405e7a"
      },
      "execution_count": null,
      "outputs": [
        {
          "output_type": "execute_result",
          "data": {
            "text/plain": [
              "['Lisboa', 'Londres', 'París', 'Madrid', 'Berlín']"
            ]
          },
          "metadata": {},
          "execution_count": 40
        }
      ]
    },
    {
      "cell_type": "code",
      "source": [
        "ciudades.remove(\"Lisboa\")   # elimina el elemento indicado\n",
        "ciudades"
      ],
      "metadata": {
        "colab": {
          "base_uri": "https://localhost:8080/"
        },
        "id": "pUyLF-xMR_8F",
        "outputId": "10cff1cb-a3ae-4445-f3ac-cf66fd1e5839"
      },
      "execution_count": null,
      "outputs": [
        {
          "output_type": "execute_result",
          "data": {
            "text/plain": [
              "['Londres', 'París', 'Madrid', 'Berlín']"
            ]
          },
          "metadata": {},
          "execution_count": 41
        }
      ]
    },
    {
      "cell_type": "markdown",
      "source": [
        "# Ordenar una lista"
      ],
      "metadata": {
        "id": "Aw_e_PNNTq55"
      }
    },
    {
      "cell_type": "code",
      "source": [
        "ciudades.sort()   # ordena alfabéticamente\n",
        "ciudades"
      ],
      "metadata": {
        "colab": {
          "base_uri": "https://localhost:8080/"
        },
        "id": "nkrSPlXBTeNh",
        "outputId": "7ca033ef-6601-46f5-cfaa-beb5ac5ffa7c"
      },
      "execution_count": null,
      "outputs": [
        {
          "output_type": "execute_result",
          "data": {
            "text/plain": [
              "['Berlín', 'Londres', 'Madrid', 'París']"
            ]
          },
          "metadata": {},
          "execution_count": 42
        }
      ]
    },
    {
      "cell_type": "code",
      "source": [
        "numeros = [10, 4, 7, 2, 1, 6, 9]\n",
        "numeros"
      ],
      "metadata": {
        "colab": {
          "base_uri": "https://localhost:8080/"
        },
        "id": "naYs036ATzY8",
        "outputId": "aaa57ee5-0735-45e2-f85d-be2930d76be8"
      },
      "execution_count": null,
      "outputs": [
        {
          "output_type": "execute_result",
          "data": {
            "text/plain": [
              "[10, 4, 7, 2, 1, 6, 9]"
            ]
          },
          "metadata": {},
          "execution_count": 43
        }
      ]
    },
    {
      "cell_type": "code",
      "source": [
        "numeros.sort()\n",
        "numeros"
      ],
      "metadata": {
        "colab": {
          "base_uri": "https://localhost:8080/"
        },
        "id": "UanK8oO5T-gY",
        "outputId": "42789322-b619-4a23-e7d7-891911a93d3b"
      },
      "execution_count": null,
      "outputs": [
        {
          "output_type": "execute_result",
          "data": {
            "text/plain": [
              "[1, 2, 4, 6, 7, 9, 10]"
            ]
          },
          "metadata": {},
          "execution_count": 44
        }
      ]
    },
    {
      "cell_type": "code",
      "source": [
        "numeros.sort(reverse = True)\n",
        "numeros"
      ],
      "metadata": {
        "colab": {
          "base_uri": "https://localhost:8080/"
        },
        "id": "79MshMtTUEBS",
        "outputId": "cbaf6c2a-1088-4f61-92a6-4335516f0e98"
      },
      "execution_count": null,
      "outputs": [
        {
          "output_type": "execute_result",
          "data": {
            "text/plain": [
              "[10, 9, 7, 6, 4, 2, 1]"
            ]
          },
          "metadata": {},
          "execution_count": 45
        }
      ]
    },
    {
      "cell_type": "markdown",
      "source": [
        "### Cambiar valores de una lista"
      ],
      "metadata": {
        "id": "gmDUbvl7UVQs"
      }
    },
    {
      "cell_type": "code",
      "source": [
        "print(numeros)\n",
        "numeros[0] = 100\n",
        "numeros"
      ],
      "metadata": {
        "colab": {
          "base_uri": "https://localhost:8080/"
        },
        "id": "j_wxbKFKUaZr",
        "outputId": "6de84dbf-151d-405b-b0ba-2914c0df4f88"
      },
      "execution_count": null,
      "outputs": [
        {
          "output_type": "stream",
          "name": "stdout",
          "text": [
            "[10, 9, 7, 6, 4, 2, 1]\n"
          ]
        },
        {
          "output_type": "execute_result",
          "data": {
            "text/plain": [
              "[100, 9, 7, 6, 4, 2, 1]"
            ]
          },
          "metadata": {},
          "execution_count": 46
        }
      ]
    },
    {
      "cell_type": "markdown",
      "source": [
        "### Copiar una lista"
      ],
      "metadata": {
        "id": "dgMVq-XHUn9d"
      }
    },
    {
      "cell_type": "code",
      "source": [
        "candidatos = ciudades.copy()   # usando copy\n",
        "candidatos"
      ],
      "metadata": {
        "colab": {
          "base_uri": "https://localhost:8080/"
        },
        "id": "l1MIb1sKUrpa",
        "outputId": "46eeeefe-c22f-4255-efd7-acc63aaafe38"
      },
      "execution_count": null,
      "outputs": [
        {
          "output_type": "execute_result",
          "data": {
            "text/plain": [
              "['Berlín', 'Londres', 'Madrid', 'París']"
            ]
          },
          "metadata": {},
          "execution_count": 47
        }
      ]
    },
    {
      "cell_type": "code",
      "source": [
        "sedes = ciudades[:]   # usando slicing\n",
        "sedes"
      ],
      "metadata": {
        "colab": {
          "base_uri": "https://localhost:8080/"
        },
        "id": "Mhk5j5fMU--1",
        "outputId": "ac4097ed-a364-4cfc-c697-0e82950fae1c"
      },
      "execution_count": null,
      "outputs": [
        {
          "output_type": "execute_result",
          "data": {
            "text/plain": [
              "['Berlín', 'Londres', 'Madrid', 'París']"
            ]
          },
          "metadata": {},
          "execution_count": 48
        }
      ]
    },
    {
      "cell_type": "markdown",
      "source": [
        "#### Copia incorrecta de una lista\n",
        "* Este método no se debe usar ya que en realidad no se está haciendo una copia de una lista sino que estamos asignando dos nombres a una misma lista ya que ambos ocupan la misma dirección de memoria.\n",
        "* El gran inconveniente de este método es que si luego cambiamos un elemento en una lista también se cambiará en la otra ya que en realidad se trata de la misma lista.\n"
      ],
      "metadata": {
        "id": "GrOUcEvaVZQS"
      }
    },
    {
      "cell_type": "code",
      "source": [
        "Julia = [\"Rojo\", \"Verde\", \"Azul\"]   # colores favoritos de Julia\n",
        "print(\"Colores favoritos de Julia:\", Julia)\n",
        "Pablo = Julia   # método incorrecto de hacer una copia de listas\n",
        "print(\"Colores favoritos de Pablo:\", Pablo)"
      ],
      "metadata": {
        "colab": {
          "base_uri": "https://localhost:8080/"
        },
        "id": "WyXlTjohV4bV",
        "outputId": "05993cd3-ef6e-4e14-e69d-57944ebc6de7"
      },
      "execution_count": null,
      "outputs": [
        {
          "output_type": "stream",
          "name": "stdout",
          "text": [
            "Colores favoritos de Julia: ['Rojo', 'Verde', 'Azul']\n",
            "Colores favoritos de Pablo: ['Rojo', 'Verde', 'Azul']\n"
          ]
        }
      ]
    },
    {
      "cell_type": "code",
      "source": [
        "Julia[0] = \"Rosa\"   # Julia cambia de opinión, ahora no le gusta el Rojo sino el Rosa\n",
        "print(\"Colores favoritos de Julia:\", Julia)\n",
        "print(\"Colores favoritos de Pablo:\", Pablo)   # También ha cambiado el color favorito para Pablo"
      ],
      "metadata": {
        "colab": {
          "base_uri": "https://localhost:8080/"
        },
        "id": "3Klii3SkWfLC",
        "outputId": "5b28c530-839e-4b1e-bd9a-a9817db8ee01"
      },
      "execution_count": null,
      "outputs": [
        {
          "output_type": "stream",
          "name": "stdout",
          "text": [
            "Colores favoritos de Julia: ['Rosa', 'Verde', 'Azul']\n",
            "Colores favoritos de Pablo: ['Rosa', 'Verde', 'Azul']\n"
          ]
        }
      ]
    },
    {
      "cell_type": "code",
      "source": [
        "# vemos que ambas listas no son independientes, al hacer la copia se trata de la misma lista\n",
        "print(id(Julia))   # vemos que el id de ambas listas apunta a la misma dirección de memoria\n",
        "print(id(Pablo))   # en realidad se trata de la misma lista"
      ],
      "metadata": {
        "colab": {
          "base_uri": "https://localhost:8080/"
        },
        "id": "qkLTpb_IYR_K",
        "outputId": "55fa80e7-5fa3-468a-afa3-e06451bfe671"
      },
      "execution_count": null,
      "outputs": [
        {
          "output_type": "stream",
          "name": "stdout",
          "text": [
            "139889769108816\n",
            "139889769108816\n"
          ]
        }
      ]
    },
    {
      "cell_type": "markdown",
      "source": [
        "# Diccionarios\n",
        "* Agrupan parejas de  Clave : Valor\n",
        "* `diccionario = {'key1':'value1', 'key2':'value2', 'key3':'value3'}`\n",
        "* Las claves denben ser únicas\n",
        "* Puede no conservarse el orden, se dice que no hay orden"
      ],
      "metadata": {
        "id": "iRSRO0puZtm4"
      }
    },
    {
      "cell_type": "code",
      "source": [
        "capital = {\"Italia\":\"Roma\", \"Francia\":\"París\", \"España\":\"Madrid\"}\n",
        "capital"
      ],
      "metadata": {
        "colab": {
          "base_uri": "https://localhost:8080/"
        },
        "id": "snSmzMSaZyRl",
        "outputId": "b04e7c65-7efe-488d-d3c9-71430f05eac3"
      },
      "execution_count": null,
      "outputs": [
        {
          "output_type": "execute_result",
          "data": {
            "text/plain": [
              "{'España': 'Madrid', 'Francia': 'París', 'Italia': 'Roma'}"
            ]
          },
          "metadata": {},
          "execution_count": 52
        }
      ]
    },
    {
      "cell_type": "code",
      "source": [
        "capital['Italia']   # accedemos a un valor poniendo su clave"
      ],
      "metadata": {
        "colab": {
          "base_uri": "https://localhost:8080/",
          "height": 36
        },
        "id": "nowB7zOddPUB",
        "outputId": "b3b4ceff-4585-4f18-b71e-0d0b634da7f8"
      },
      "execution_count": null,
      "outputs": [
        {
          "output_type": "execute_result",
          "data": {
            "text/plain": [
              "'Roma'"
            ],
            "application/vnd.google.colaboratory.intrinsic+json": {
              "type": "string"
            }
          },
          "metadata": {},
          "execution_count": 53
        }
      ]
    },
    {
      "cell_type": "code",
      "source": [
        "capital['Grecia'] = 'Atenas'   # añadimos un nuevo item\n",
        "capital"
      ],
      "metadata": {
        "colab": {
          "base_uri": "https://localhost:8080/"
        },
        "id": "DFImw_R4fSOS",
        "outputId": "3926da0f-208f-47da-b5f5-9ebb3c8c0fd0"
      },
      "execution_count": null,
      "outputs": [
        {
          "output_type": "execute_result",
          "data": {
            "text/plain": [
              "{'España': 'Madrid', 'Francia': 'París', 'Grecia': 'Atenas', 'Italia': 'Roma'}"
            ]
          },
          "metadata": {},
          "execution_count": 54
        }
      ]
    },
    {
      "cell_type": "code",
      "source": [
        "num = {\"one\":1, \"two\":2, \"three\":3}   # en este caso la clave es un string y el valor es un integer\n",
        "num"
      ],
      "metadata": {
        "colab": {
          "base_uri": "https://localhost:8080/"
        },
        "id": "forhRcBYbTqv",
        "outputId": "e0c23457-3328-4485-d8fd-10f76c57b53f"
      },
      "execution_count": null,
      "outputs": [
        {
          "output_type": "execute_result",
          "data": {
            "text/plain": [
              "{'one': 1, 'three': 3, 'two': 2}"
            ]
          },
          "metadata": {},
          "execution_count": 55
        }
      ]
    },
    {
      "cell_type": "code",
      "source": [
        "num.keys()   # este método devuelve todas las claves"
      ],
      "metadata": {
        "colab": {
          "base_uri": "https://localhost:8080/"
        },
        "id": "Z5eQ8YTieEu5",
        "outputId": "8af7200e-1d5b-4b88-f631-56077395aaeb"
      },
      "execution_count": null,
      "outputs": [
        {
          "output_type": "execute_result",
          "data": {
            "text/plain": [
              "dict_keys(['one', 'two', 'three'])"
            ]
          },
          "metadata": {},
          "execution_count": 56
        }
      ]
    },
    {
      "cell_type": "code",
      "source": [
        "num.values()   # este método devuelve todos los valores"
      ],
      "metadata": {
        "colab": {
          "base_uri": "https://localhost:8080/"
        },
        "id": "dyByZwkVeRVA",
        "outputId": "b1914a81-81f1-4dce-ae62-5a200897434f"
      },
      "execution_count": null,
      "outputs": [
        {
          "output_type": "execute_result",
          "data": {
            "text/plain": [
              "dict_values([1, 2, 3])"
            ]
          },
          "metadata": {},
          "execution_count": 57
        }
      ]
    },
    {
      "cell_type": "code",
      "source": [
        "num.items()   # devuelve todos items que son los pares clave:valor"
      ],
      "metadata": {
        "colab": {
          "base_uri": "https://localhost:8080/"
        },
        "id": "6vD0NaAAeca0",
        "outputId": "97a6b457-a6f3-427e-8733-e70d989955ea"
      },
      "execution_count": null,
      "outputs": [
        {
          "output_type": "execute_result",
          "data": {
            "text/plain": [
              "dict_items([('one', 1), ('two', 2), ('three', 3)])"
            ]
          },
          "metadata": {},
          "execution_count": 58
        }
      ]
    },
    {
      "cell_type": "code",
      "source": [
        "num2words = {1: 'One', 2: 'Two', 3: 'Three', 4: 'Four', 5: 'Five', \\\n",
        "             6: 'Six', 7: 'Seven', 8: 'Eight', 9: 'Nine', 10: 'Ten'}\n",
        "num2words   # aquí la clave el el string y el valor es el integer"
      ],
      "metadata": {
        "colab": {
          "base_uri": "https://localhost:8080/"
        },
        "id": "spjof4W0cPlT",
        "outputId": "466aceae-8140-4ade-a41c-ef8d0df3cd70"
      },
      "execution_count": null,
      "outputs": [
        {
          "output_type": "execute_result",
          "data": {
            "text/plain": [
              "{1: 'One',\n",
              " 2: 'Two',\n",
              " 3: 'Three',\n",
              " 4: 'Four',\n",
              " 5: 'Five',\n",
              " 6: 'Six',\n",
              " 7: 'Seven',\n",
              " 8: 'Eight',\n",
              " 9: 'Nine',\n",
              " 10: 'Ten'}"
            ]
          },
          "metadata": {},
          "execution_count": 59
        }
      ]
    },
    {
      "cell_type": "markdown",
      "source": [
        "## Actualizar un diccionario"
      ],
      "metadata": {
        "id": "hfif6lKUl0GG"
      }
    },
    {
      "cell_type": "code",
      "source": [
        "paco = {'nombre':'Francisco', 'edad':25, 'asegurado':True}\n",
        "paco"
      ],
      "metadata": {
        "colab": {
          "base_uri": "https://localhost:8080/"
        },
        "id": "HRM4L9G_gR_C",
        "outputId": "20cf3a59-e3af-48a7-828b-47ef7979a208"
      },
      "execution_count": null,
      "outputs": [
        {
          "output_type": "execute_result",
          "data": {
            "text/plain": [
              "{'asegurado': True, 'edad': 25, 'nombre': 'Francisco'}"
            ]
          },
          "metadata": {},
          "execution_count": 60
        }
      ]
    },
    {
      "cell_type": "code",
      "source": [
        "paco.update({'edad':26, 'idiomas':['inglés','español']})\n",
        "paco   # actualiza la edad y añade los idiomas en forma de lista"
      ],
      "metadata": {
        "colab": {
          "base_uri": "https://localhost:8080/"
        },
        "id": "vNV9kNYUg8VN",
        "outputId": "23cac6c9-6d58-49d4-e3bb-570a1564301c"
      },
      "execution_count": null,
      "outputs": [
        {
          "output_type": "execute_result",
          "data": {
            "text/plain": [
              "{'asegurado': True,\n",
              " 'edad': 26,\n",
              " 'idiomas': ['inglés', 'español'],\n",
              " 'nombre': 'Francisco'}"
            ]
          },
          "metadata": {},
          "execution_count": 61
        }
      ]
    },
    {
      "cell_type": "markdown",
      "source": [
        "## Copia de un diccionario"
      ],
      "metadata": {
        "id": "liyyX1jPh1As"
      }
    },
    {
      "cell_type": "code",
      "source": [
        "#pepe = paco   # forma incorrecta de copiar un diccionario ya que no serían independientes\n",
        "pepe = paco.copy()   # forma correcta de copiar un diccionario para que amboas sean independientes\n",
        "pepe.update({'nombre':'José'})\n",
        "pepe"
      ],
      "metadata": {
        "colab": {
          "base_uri": "https://localhost:8080/"
        },
        "id": "5guvVJdsh7o3",
        "outputId": "69045336-994b-4894-bf5c-b2f6329c4163"
      },
      "execution_count": null,
      "outputs": [
        {
          "output_type": "execute_result",
          "data": {
            "text/plain": [
              "{'asegurado': True,\n",
              " 'edad': 26,\n",
              " 'idiomas': ['inglés', 'español'],\n",
              " 'nombre': 'José'}"
            ]
          },
          "metadata": {},
          "execution_count": 62
        }
      ]
    },
    {
      "cell_type": "code",
      "source": [
        "paco  # paco conserva su nombre, no se ha actualizado, son diccionarios independientes"
      ],
      "metadata": {
        "colab": {
          "base_uri": "https://localhost:8080/"
        },
        "id": "uVjVeyImifSb",
        "outputId": "7749449f-21c4-4142-cd75-d023055bc659"
      },
      "execution_count": null,
      "outputs": [
        {
          "output_type": "execute_result",
          "data": {
            "text/plain": [
              "{'asegurado': True,\n",
              " 'edad': 26,\n",
              " 'idiomas': ['inglés', 'español'],\n",
              " 'nombre': 'Francisco'}"
            ]
          },
          "metadata": {},
          "execution_count": 63
        }
      ]
    },
    {
      "cell_type": "markdown",
      "source": [
        "## Eliminar los items de un diccionario"
      ],
      "metadata": {
        "id": "6jr5Zh9GlgdD"
      }
    },
    {
      "cell_type": "code",
      "source": [
        "paco.pop('asegurado')   # eliminamos una item de un diccionario, esto es una pareja clave:valores\n",
        "paco"
      ],
      "metadata": {
        "colab": {
          "base_uri": "https://localhost:8080/"
        },
        "id": "7gJlIjHFjtf1",
        "outputId": "5a1b3c02-d18a-4502-c146-454d53005965"
      },
      "execution_count": null,
      "outputs": [
        {
          "output_type": "execute_result",
          "data": {
            "text/plain": [
              "{'edad': 26, 'idiomas': ['inglés', 'español'], 'nombre': 'Francisco'}"
            ]
          },
          "metadata": {},
          "execution_count": 64
        }
      ]
    },
    {
      "cell_type": "code",
      "source": [
        "del paco['idiomas']   # con esta función eliminamos un item, es otra forma de hacerlo\n",
        "paco"
      ],
      "metadata": {
        "colab": {
          "base_uri": "https://localhost:8080/"
        },
        "id": "F0280R8KkOgH",
        "outputId": "df75b92b-cda3-4552-a6d6-89dd7f3d5903"
      },
      "execution_count": null,
      "outputs": [
        {
          "output_type": "execute_result",
          "data": {
            "text/plain": [
              "{'edad': 26, 'nombre': 'Francisco'}"
            ]
          },
          "metadata": {},
          "execution_count": 65
        }
      ]
    },
    {
      "cell_type": "code",
      "source": [
        "paco.clear()   # elimina todos los items de un diccionario, el diccionario queda vacío\n",
        "paco"
      ],
      "metadata": {
        "colab": {
          "base_uri": "https://localhost:8080/"
        },
        "id": "Q0CTxR_sk03T",
        "outputId": "6f712e9b-8c98-4c01-8b1f-9208b1de49d4"
      },
      "execution_count": null,
      "outputs": [
        {
          "output_type": "execute_result",
          "data": {
            "text/plain": [
              "{}"
            ]
          },
          "metadata": {},
          "execution_count": 66
        }
      ]
    }
  ]
}