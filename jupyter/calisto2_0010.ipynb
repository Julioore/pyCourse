{
 "cells": [
  {
   "cell_type": "markdown",
   "metadata": {},
   "source": [
    "# POO: Programación Orientada a Objetos"
   ]
  },
  {
   "cell_type": "markdown",
   "metadata": {},
   "source": [
    "Paradigmas:\n",
    "- Programación orientada a procedimientos → lengujes antiguos: Fortran, Cobol, Basic, ...\n",
    "- Programación orientada a objetos → lenguajes modernos: JAVA, C++, JavaScript, Python, ...\n",
    "\n",
    "qbasic | Python \n",
    ":-: | :-: \n",
    "![qbasic](img/qbasic.png) | ![python](img/poo.png) |\n",
    "\n",
    "|Desventajas de la programación procedimental                      | Espagueti |\n",
    "|:-                                                               |:-:        |\n",
    "|Se dispara el número de líneas de código <td rowspan=\"6\">[<img align=\"right\" src=\"img/espagueti.png\" width=\"250\"/>](img/espagueti.png)</td>\n",
    "|El código es dificil de descifrar                                 |           |\n",
    "|Poco reutilizable                                                 |           |\n",
    "|Si existe un error en una línea es probable que el programa caiga |           |\n",
    "|Aparición de código espagueti (GOTO, GOSUB) 20 GOTO 10            |           |\n",
    "|Dificil de depurar                                                |           |"
   ]
  },
  {
   "cell_type": "markdown",
   "metadata": {},
   "source": [
    "## Programación Orientada a Objetos\n",
    "* Consiste en trasladar el comportamiento de los objetos de la vida real al código de programación.\n",
    "* En la vida real todo son objetos: mesas, sillas, ordenadores, coches, calles, personas, ... \n",
    "* Los objetos tienen un estado (cómo se encuentra), un comportamiento (lo que pueden hacer) y unas propiedades.\n",
    "* El objeto coche\n",
    " - Su estado: parado, circulando, aparcado, ...\n",
    " - Sus propiedades: color, peso, tamaño, ... (en programación se llaman atributos)\n",
    " - Su comportamiento: puede arrancar, girar, acelerar, frenar, ...\n",
    "* Ventajas de la POO\n",
    " - Podemos dividir en 'partes', 'módulos' o clases: modularización\n",
    " - Código muy reutilizable: herencia\n",
    " - Si una línea tiene error el programa continua: tratamiento de excepciones\n",
    " - Encapsulamiento"
   ]
  },
  {
   "cell_type": "markdown",
   "metadata": {},
   "source": [
    "## Términos utilizados en la POO"
   ]
  },
  {
   "cell_type": "markdown",
   "metadata": {},
   "source": [
    "### Clase\n",
    "Modelo donde se definen las características comunes de un grupo de objetos.  \n",
    "La clase coche es una abstracción de todos los coches existentes."
   ]
  },
  {
   "cell_type": "markdown",
   "metadata": {},
   "source": [
    "### Objeto = Ejemplar = Instancia\n",
    "Ejemplar de clase = Instancia de clase = Objeto perteneciente a una clase (son sinónimos)  \n",
    "Una instancia es un ejemplar perteneciente a una clase\n",
    "Una instancia es un objeto concreto que pertenece a una clase.\n",
    "La clase coche define las características comunes a todos los coches y luego una instancia concreta de esa clase sería un coche concreto.\n"
   ]
  },
  {
   "cell_type": "markdown",
   "metadata": {},
   "source": [
    "### Modularización\n",
    "Si creamos una aplicación compleja lo habitual es que esté compuesta de varias clases.  \n",
    "Ejemplo, antiguos equipos HiFi compuestos de varios módulos: ampli, radio, CD, pletina casette, plato vinilos,...  \n",
    "Ventajas:\n",
    "- Cada módulo funciona de modo independiente lo que permite la reutilización\n",
    "- Si un módulo no funciona correctamente el resto puede seguir funcionando\n",
    "\n",
    "Las clases trabajan en forma de módulos."
   ]
  },
  {
   "cell_type": "markdown",
   "metadata": {},
   "source": [
    "### Encapsulación\n",
    "Cada clase es independiente de las otras.  \n",
    "En el equipo HiFi cada módulo realiza su tarea y nada sabe de la del resto.  \n",
    "Las diferentes clases se conectan con otras mediante los denominados métodos de acceso. De esta forma se conectan una clases con otras lo que permite que el conjunto funcione como un solo programa.  \n",
    "Los métodos de acceso tienen acceso solo a algunas de las características de las otras clases, esto permite que su comportamiento sea modular y cada clase quede encapsulada. "
   ]
  },
  {
   "cell_type": "markdown",
   "metadata": {},
   "source": [
    "## Nomenclatura del punto\n",
    "Permite acceder a las propiedades y comportamientos de los objetos.  \n",
    "Sintasis:\n",
    "* objeto.propiedad=valor\n",
    " - miCoche.color=\"rojo\"\n",
    " - miCoche.largo=380\n",
    " - miCoche.ancho=175\n",
    "* objeto.método=valor\n",
    " - miCoche.arrancar()\n",
    " - miCoche.acelerar()\n",
    " - miCoche.frenar()\n",
    " - miCoche.aparcar()\n"
   ]
  }
 ],
 "metadata": {
  "kernelspec": {
   "display_name": "Python 3",
   "language": "python",
   "name": "python3"
  },
  "language_info": {
   "codemirror_mode": {
    "name": "ipython",
    "version": 3
   },
   "file_extension": ".py",
   "mimetype": "text/x-python",
   "name": "python",
   "nbconvert_exporter": "python",
   "pygments_lexer": "ipython3",
   "version": "3.8.8"
  }
 },
 "nbformat": 4,
 "nbformat_minor": 4
}
