{
 "cells": [
  {
   "cell_type": "markdown",
   "metadata": {},
   "source": [
    "# POO: Programación Orientada a Objetos"
   ]
  },
  {
   "cell_type": "markdown",
   "metadata": {},
   "source": [
    "## Paradigmas\n",
    "- Programación orientada a procedimientos → lengujes antiguos: Fortran, Cobol, Basic, ...\n",
    "- Programación orientada a objetos → lenguajes modernos: JAVA, C++, C#, JavaScript, Python, ...\n",
    "\n",
    "qbasic | Python \n",
    ":-: | :-: \n",
    "![qbasic](img/qbasic.png) | ![python](img/poo.png) |\n",
    "\n",
    "|Desventajas de la programación procedimental                      | Espagueti |\n",
    "|:-                                                               |:-:        |\n",
    "|Se dispara el número de líneas de código <td rowspan=\"6\">[<img align=\"right\" src=\"img/espagueti.png\" width=\"250\"/>](img/espagueti.png)</td>\n",
    "|El código es dificil de descifrar                                 |           |\n",
    "|Poco reutilizable                                                 |           |\n",
    "|Si existe un error en una línea es probable que el programa caiga |           |\n",
    "|Aparición de código espagueti (GOTO, GOSUB) 20 GOTO 10            |           |\n",
    "|Dificil de depurar                                                |           |"
   ]
  },
  {
   "cell_type": "markdown",
   "metadata": {},
   "source": [
    "### Las Funciones\n",
    "Las funciones son un primer intento de agrupación y reutilización de código, son efectivas pero no gurdan los datos después de su ejecución salvo los que retornan, o bien si estamos usando variables globales.\n",
    "\n",
    "Imaginemos una plataforma de streaming (Net...) donde cada cliente está viendo una película o serie, que puede tener pausada o no en cierto punto, etc. Sin la POO tendríamos que grabar cada uno de estos datos en una variable. Imaginemos ahora miles o millones de usuarios. La POO ofrece un nuevo paradigma de programación que maneja objetos reutilizables que simplifican la gestión de aplicaciones complejas.\n",
    "\n",
    "El objetivo es usar menos código y más organizado. Se crean clases que agrupan conjuntos de variables (atributos) y funciones (métodos) que pueden ser reutilizadas una y otra vez al crear objetos pertenecientes a esa clase."
   ]
  },
  {
   "cell_type": "markdown",
   "metadata": {},
   "source": [
    "## Programación Orientada a Objetos\n",
    "* Consiste en trasladar el comportamiento de los objetos de la vida real al código de programación.\n",
    "* En la vida real todo son objetos: mesas, sillas, ordenadores, coches, calles, personas, ... \n",
    "* Los objetos tienen un estado (cómo se encuentra), un comportamiento (lo que pueden hacer) y unas propiedades.\n",
    "* El objeto coche\n",
    " - Su estado: parado, circulando, aparcado, ...\n",
    " - Sus propiedades: color, peso, tamaño, ... (en POO se llaman **atributos**)\n",
    " - Su comportamiento (funcionalidad): puede arrancar, girar, acelerar, frenar, ... (en POO se llaman **métodos**)\n",
    "* Ventajas de la POO\n",
    " - Podemos dividir el problema en 'partes', 'módulos' o clases: modularización\n",
    " - Código muy reutilizable: herencia\n",
    " - Si una línea tiene error, el programa continua: tratamiento de excepciones\n",
    " - Encapsulamiento"
   ]
  },
  {
   "cell_type": "markdown",
   "metadata": {},
   "source": [
    "## Términos utilizados en la POO"
   ]
  },
  {
   "cell_type": "markdown",
   "metadata": {},
   "source": [
    "### Clase\n",
    "Modelo donde se definen las características comunes de un grupo de objetos.  \n",
    "* La clase Coche es una abstracción de todos los coches existentes\n",
    "* La clase Perro es una abstracción de todos los perros existentes\n",
    "\n",
    "Podemos imaginar la clase como un **molde** o unos planos con los que luego poder fabricar los objetos.  \n",
    "Por ejemplo, con un molde de Galletas luego podremos fabricar objetos concretos que serán cada una de las galletas que lleguemos a frabricar.  \n",
    "\n",
    "<img align=\"center\" src=\"img/galleta_oso.jpg\" alt=\"molde\" style=\"width: 250px;\"/>"
   ]
  },
  {
   "cell_type": "code",
   "execution_count": null,
   "metadata": {},
   "outputs": [],
   "source": [
    "class Perro:            # creación de una clase. Por convenio la primera letra mayúscula y singular\n",
    "    pass                # creamos una clase vacía"
   ]
  },
  {
   "cell_type": "markdown",
   "metadata": {},
   "source": [
    "### Objeto = Ejemplar = Instancia\n",
    "Son sinónimos:\n",
    "* Ejemplar de clase\n",
    "* Instancia de clase\n",
    "* Objeto perteneciente a una clase\n",
    "\n",
    "Una instancia es un ejemplar perteneciente a una clase.  \n",
    "Una instancia es un objeto concreto que pertenece a una clase.  \n",
    "* La clase Coche define las características comunes a todos los coches y luego una instancia concreta de esa clase sería un coche concreto\n",
    "* La clase Perro define las características comunes a todos los perros y luego una instancia concreta (bobby) sería un perro concreto"
   ]
  },
  {
   "cell_type": "code",
   "execution_count": null,
   "metadata": {},
   "outputs": [],
   "source": [
    "bobby = Perro()          # instanciación de una clase. boby es un objeto o instancia de clase. Por convenio todo en minúsculas\n",
    "teddy = Perro()          # otra instancia de la clase Perro, compartirían atributos y métodos\n",
    "type(bobby)              # si preguntamos por el tipo de un objeto nos dice que boby es de tipo Perro, que es su clase"
   ]
  },
  {
   "cell_type": "code",
   "execution_count": null,
   "metadata": {},
   "outputs": [],
   "source": [
    "type(teddy)"
   ]
  },
  {
   "cell_type": "markdown",
   "metadata": {},
   "source": [
    "### Atributos\n",
    "Los atributos permiten identificar el caracter de los objetos. Son las variables de la clase."
   ]
  },
  {
   "cell_type": "code",
   "execution_count": 5,
   "metadata": {},
   "outputs": [
    {
     "data": {
      "text/plain": [
       "'Canis'"
      ]
     },
     "execution_count": 5,
     "metadata": {},
     "output_type": "execute_result"
    }
   ],
   "source": [
    "class Perro:\n",
    "    genero = \"Canis\"\n",
    "    orden = \"Carnivora\"\n",
    "    cuadrupedo = True\n",
    "    \n",
    "\n",
    "bobby = Perro()\n",
    "bobby.generoº"
   ]
  },
  {
   "cell_type": "code",
   "execution_count": 6,
   "metadata": {},
   "outputs": [
    {
     "data": {
      "text/plain": [
       "True"
      ]
     },
     "execution_count": 6,
     "metadata": {},
     "output_type": "execute_result"
    }
   ],
   "source": [
    "bobby.cuadrupedo"
   ]
  },
  {
   "cell_type": "code",
   "execution_count": 7,
   "metadata": {},
   "outputs": [
    {
     "name": "stdout",
     "output_type": "stream",
     "text": [
      "Si, es cuadrúpedo.\n"
     ]
    }
   ],
   "source": [
    "if bobby.cuadrupedo:\n",
    "    print(\"Si, es cuadrúpedo.\")"
   ]
  },
  {
   "cell_type": "markdown",
   "metadata": {},
   "source": [
    "Podemos crear **varios objetos** de una misma clase. Cada uno de estos objetos puede tener **diferententes valores para estos atributos**, lo que les confiere sus propias **características**.  \n",
    "\n",
    "Por ejemplo, podemos tener dos instancias de la clase Perro (bobby y teddy) que tengan atributos como nombre, edad, raza, pelo,... que sean diferentes y que identifican el caracter propio de cada uno de ellos.  \n",
    "\n",
    "Tener diferentes valores de los atributos es lo que define el **estado de un objeto**.\n",
    "\n",
    "Existen dos tipos de atributos:\n",
    "- Los **atributos de clase**: se definen en la clase y son comunes a todos los objetos de esa clase.  \n",
    "Por ejemplo, para la clase Perro son comunes genero = \"Canis\", orden = \"Carnivora\",cuadrupedo = True.\n",
    "- Los **atributos de instancia**: son propios de cada objeto y pueden tener diferentes valores. Podemos crear atributos durante la instanciación.  \n",
    "Por ejemplo, nombre, edad, raza, pelo,..."
   ]
  },
  {
   "cell_type": "markdown",
   "metadata": {},
   "source": [
    "### Métodos\n",
    "Los métodos describen el comportamiento de los objetos de una clase, describen las acciones que puede realizar el objeto, su funcionalidad.\n",
    "\n",
    "Son las **funciones** de la clase.\n",
    "\n",
    "Los métodos, al ser funciones, pueden recibir parámetros y también pueden retornar un valor."
   ]
  },
  {
   "cell_type": "code",
   "execution_count": 8,
   "metadata": {},
   "outputs": [
    {
     "name": "stdout",
     "output_type": "stream",
     "text": [
      "Guau!!!\n"
     ]
    }
   ],
   "source": [
    "class Perro:\n",
    "    def ladra(self):                    # el argumento self hace referencia al propio objeto, puede tener otro nombre\n",
    "        print(\"Guau!!!\")\n",
    "        \n",
    "laika = Perro()                         # instanciamos el objeto\n",
    "laika.ladra()                           # invocamos el método"
   ]
  },
  {
   "cell_type": "markdown",
   "metadata": {},
   "source": [
    "Ahora vamos a ver un método que requiere que le pasemos dos argumentos y los recoge como parámetros del método."
   ]
  },
  {
   "cell_type": "code",
   "execution_count": 9,
   "metadata": {},
   "outputs": [
    {
     "name": "stdout",
     "output_type": "stream",
     "text": [
      "Mi perro Beethoven de raza San Bernardo te saluda levantando la patita.\n"
     ]
    }
   ],
   "source": [
    "class Perro():\n",
    "    def saluda(self, nombre, raza):\n",
    "        self.nombre = nombre\n",
    "        self.raza = raza\n",
    "        print(f\"Mi perro {self.nombre} de raza {self.raza} te saluda levantando la patita.\")\n",
    "\n",
    "beto = Perro()\n",
    "beto.saluda(\"Beethoven\",\"San Bernardo\")"
   ]
  },
  {
   "cell_type": "markdown",
   "metadata": {},
   "source": [
    "### Modularización\n",
    "Si creamos una aplicación compleja lo habitual es que esté compuesta de varias clases.  \n",
    "Ejemplo, antiguos equipos HiFi compuestos de varios módulos: ampli, radio, CD, pletina casette, plato vinilos,...  \n",
    "Ventajas:\n",
    "- Cada módulo funciona de modo independiente lo que permite la reutilización\n",
    "- Si un módulo no funciona correctamente el resto puede seguir funcionando\n",
    "\n",
    "Las clases trabajan en forma de módulos."
   ]
  },
  {
   "cell_type": "markdown",
   "metadata": {},
   "source": [
    "### Encapsulación\n",
    "Cada clase es independiente de las otras.  \n",
    "En el equipo HiFi cada módulo realiza su tarea y nada sabe de la del resto.  \n",
    "Las diferentes clases se conectan con otras mediante los denominados métodos de acceso. De esta forma se conectan unas clases con otras lo que permite que el conjunto funcione como un solo programa.  \n",
    "Los métodos de acceso tienen acceso solo a algunas de las características de las otras clases, esto permite que su comportamiento sea modular y cada clase quede encapsulada. \n",
    "\n",
    "**Ejemplo**  \n",
    "Diferentes módulos de un teléfono móvil:\n",
    "- teléfono, para efectuár y recibir llamadas\n",
    "- cámara, para realizar fotos y vídeos\n",
    "- almacenamiento, memoria para almacenar datos, documentos, fotos,...\n",
    "- batería, proporciona energía eléctrica\n",
    "- pantalla, permite mostrar información, dispone de teclado,...\n",
    "- micrófono\n",
    "- altavoces\n",
    "- modem para enviar y recibir datos, etc  \n",
    "\n",
    "Cada módulo se especializa y así la cámara de fotos nada sabe de relizar llamadas de teléfono, o el modem nada sabe de relizar fotos."
   ]
  },
  {
   "cell_type": "markdown",
   "metadata": {},
   "source": [
    "## Nomenclatura del punto\n",
    "Permite acceder a las propiedades y comportamientos de los objetos.  \n",
    "Sintaxis:\n",
    "* objeto.propiedad=valor\n",
    " - miCoche.color=\"rojo\"\n",
    " - miCoche.largo=380\n",
    " - miCoche.ancho=175\n",
    "* objeto.método(parámetros de clase)\n",
    " - miCoche.arrancar()\n",
    " - miCoche.acelerar()\n",
    " - miCoche.frenar()\n",
    " - miCoche.aparcar()\n"
   ]
  }
 ],
 "metadata": {
  "kernelspec": {
   "display_name": "Python 3 (ipykernel)",
   "language": "python",
   "name": "python3"
  },
  "language_info": {
   "codemirror_mode": {
    "name": "ipython",
    "version": 3
   },
   "file_extension": ".py",
   "mimetype": "text/x-python",
   "name": "python",
   "nbconvert_exporter": "python",
   "pygments_lexer": "ipython3",
   "version": "3.8.11"
  }
 },
 "nbformat": 4,
 "nbformat_minor": 4
}
