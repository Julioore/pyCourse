{
 "cells": [
  {
   "cell_type": "markdown",
   "id": "8f40d507",
   "metadata": {},
   "source": [
    "# Introducción a la funciones"
   ]
  },
  {
   "cell_type": "markdown",
   "id": "900065f4",
   "metadata": {},
   "source": [
    "Las funciones permiten evitar repetición de código."
   ]
  },
  {
   "cell_type": "code",
   "execution_count": 1,
   "id": "2c67cee0",
   "metadata": {},
   "outputs": [
    {
     "name": "stdout",
     "output_type": "stream",
     "text": [
      "Me llamo Alberto.\n"
     ]
    }
   ],
   "source": [
    "def mi_nombre():                             # Declaración de la función  \n",
    "    print(\"Me llamo Alberto.\")               # Cuerpo\n",
    "mi_nombre()                                  # Ejecución de la función"
   ]
  },
  {
   "cell_type": "code",
   "execution_count": null,
   "id": "f8cc58ab",
   "metadata": {},
   "outputs": [],
   "source": []
  }
 ],
 "metadata": {
  "kernelspec": {
   "display_name": "Python 3",
   "language": "python",
   "name": "python3"
  },
  "language_info": {
   "codemirror_mode": {
    "name": "ipython",
    "version": 3
   },
   "file_extension": ".py",
   "mimetype": "text/x-python",
   "name": "python",
   "nbconvert_exporter": "python",
   "pygments_lexer": "ipython3",
   "version": "3.8.10"
  }
 },
 "nbformat": 4,
 "nbformat_minor": 5
}
