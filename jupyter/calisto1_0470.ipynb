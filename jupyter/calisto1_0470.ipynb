{
 "cells": [
  {
   "cell_type": "markdown",
   "id": "f43260a9",
   "metadata": {},
   "source": [
    "# Introducción a las funciones [1]"
   ]
  },
  {
   "cell_type": "markdown",
   "id": "0dc511b9",
   "metadata": {},
   "source": [
    "Las funciones permiten evitar repetición de código."
   ]
  },
  {
   "cell_type": "markdown",
   "id": "ae6a6428",
   "metadata": {},
   "source": [
    "## Función sin return"
   ]
  },
  {
   "cell_type": "code",
   "execution_count": null,
   "id": "85087148",
   "metadata": {},
   "outputs": [],
   "source": [
    "def saluda():                                # Declaración de la función  \n",
    "    print(\"Hola\")                            # Cuerpo\n",
    "\n",
    "saluda()                                     # Ejecución de la función"
   ]
  },
  {
   "cell_type": "markdown",
   "id": "2d2bd7ee",
   "metadata": {},
   "source": [
    "## Función con return"
   ]
  },
  {
   "cell_type": "code",
   "execution_count": null,
   "id": "72375aba",
   "metadata": {},
   "outputs": [],
   "source": [
    "def saluda_isa():\n",
    "    return \"Isabel\"                          # el return es optativo\n",
    "\n",
    "print(\"Buenos días\",saluda_isa())            # imprimimos el resultado devuelto por la función"
   ]
  },
  {
   "cell_type": "markdown",
   "id": "b8eca07b",
   "metadata": {},
   "source": [
    "### Después de ejecutar un return se sale de la función\n",
    "Veamos la misma función que antes pero ahora añadimos una línea de codigo después del return y dentro de la función.  \n",
    "Después de ejecutarse un return se sale de la función y se devuelve el control al flujo principal *main*."
   ]
  },
  {
   "cell_type": "code",
   "execution_count": null,
   "id": "144cf47d",
   "metadata": {},
   "outputs": [],
   "source": [
    "def saluda_isa():\n",
    "    return \"Isabel\"\n",
    "    print(\"Buenas tardes\")                   # esto no se ejecutará nunca\n",
    "    \n",
    "print(\"Buenos días\",saluda_isa())"
   ]
  },
  {
   "cell_type": "markdown",
   "id": "d95b6c70",
   "metadata": {},
   "source": [
    "## Asignación a una variable\n",
    "Podemos asignar lo retornado por la función a una variable"
   ]
  },
  {
   "cell_type": "code",
   "execution_count": 2,
   "id": "b0ae35af",
   "metadata": {},
   "outputs": [
    {
     "name": "stdout",
     "output_type": "stream",
     "text": [
      "verano\n"
     ]
    }
   ],
   "source": [
    "def estacion():\n",
    "    return 'verano'\n",
    "\n",
    "e = estacion()\n",
    "print(e)"
   ]
  },
  {
   "cell_type": "markdown",
   "id": "21b466ee",
   "metadata": {},
   "source": [
    "### Retornando una lista\n",
    "Podemos retornanr una lista, asignarla a una variable y trabajar con índices o hacer slicing."
   ]
  },
  {
   "cell_type": "code",
   "execution_count": 3,
   "id": "931335a5",
   "metadata": {},
   "outputs": [
    {
     "data": {
      "text/plain": [
       "5"
      ]
     },
     "execution_count": 3,
     "metadata": {},
     "output_type": "execute_result"
    }
   ],
   "source": [
    "def serie():\n",
    "    return [1,2,3,4,5]\n",
    "\n",
    "serie()[-1]                 # usando índices"
   ]
  },
  {
   "cell_type": "code",
   "execution_count": 5,
   "id": "be8edd3b",
   "metadata": {},
   "outputs": [
    {
     "data": {
      "text/plain": [
       "[3, 4, 5]"
      ]
     },
     "execution_count": 5,
     "metadata": {},
     "output_type": "execute_result"
    }
   ],
   "source": [
    "serie()[2:5]                # haciendo slicing"
   ]
  },
  {
   "cell_type": "code",
   "execution_count": null,
   "id": "37c2f898",
   "metadata": {},
   "outputs": [],
   "source": [
    "s=serie()                   # es preferible asignar la función a una variable para luego trabajar con ella\n",
    "s[-1]\n",
    "s[2:5]                      # así se optiza ya que si usamos la función se ejecuta ésta cada vez"
   ]
  },
  {
   "cell_type": "markdown",
   "id": "8edb48aa",
   "metadata": {},
   "source": [
    "## Función con un parámetro\n",
    "Función que dobla el valor pasado como parámetro"
   ]
  },
  {
   "cell_type": "code",
   "execution_count": null,
   "id": "f75d81b6",
   "metadata": {},
   "outputs": [],
   "source": [
    "def doble(x):                                # Definición de la función. x es el parámetro\n",
    "    return 2*x\n",
    "\n",
    "doble(5)                                     # Invocación. Pasamos un argumento. 5 es el argumento"
   ]
  },
  {
   "cell_type": "markdown",
   "id": "0df27708",
   "metadata": {},
   "source": [
    "Función a la que pasamos el nombre de una persona.  \n",
    "La función pone el nombre en mayúsculas y nos dice cómo se llama esa persona."
   ]
  },
  {
   "cell_type": "code",
   "execution_count": null,
   "id": "a22b61ac",
   "metadata": {},
   "outputs": [],
   "source": [
    "def di_nombre(persona):                      # Función con un parámetro\n",
    "    persona=persona.upper()\n",
    "    return \"Se llama \" + persona             # el return es optativo\n",
    "\n",
    "print(di_nombre(\"Luis\"))                     # pasamos un parámetro a la función\n",
    "print(\"¿Quién es? \" + di_nombre(\"Ana\"))      # Llamamos nuevamente a la función\n",
    "print(\"¿Quién es?\", di_nombre(\"María\"))      # Otra llamada a la función"
   ]
  },
  {
   "cell_type": "markdown",
   "id": "79009a2e",
   "metadata": {},
   "source": [
    "## Función con dos parámetros\n",
    "- Al definir la función hablamos de **parámetros**. \n",
    "- Al invocar la función hablamos de **argumentos**."
   ]
  },
  {
   "cell_type": "code",
   "execution_count": null,
   "id": "b942ccc5",
   "metadata": {},
   "outputs": [],
   "source": [
    "def elevar(x,y):                             #el orden de los parámetros importa\n",
    "    return x**y\n",
    "\n",
    "print(elevar(2,3))                           #si la función espera dos argumentos se han de enviar dos"
   ]
  },
  {
   "cell_type": "markdown",
   "id": "17482270",
   "metadata": {},
   "source": [
    "Los argumentos se asocian univocamente a los parámetros por el orden.  \n",
    "El orden importa."
   ]
  },
  {
   "cell_type": "code",
   "execution_count": 7,
   "id": "045b3572",
   "metadata": {},
   "outputs": [
    {
     "data": {
      "text/plain": [
       "2"
      ]
     },
     "execution_count": 7,
     "metadata": {},
     "output_type": "execute_result"
    }
   ],
   "source": [
    "def resta(a,b):\n",
    "    return a-b\n",
    "\n",
    "resta(5,3)                                   # 2\n",
    "#resta(3,5)                                  # -2"
   ]
  },
  {
   "cell_type": "markdown",
   "id": "bec3c148",
   "metadata": {},
   "source": [
    "### Asignación de argumentos con variable"
   ]
  },
  {
   "cell_type": "code",
   "execution_count": 10,
   "id": "847e34ad",
   "metadata": {},
   "outputs": [
    {
     "data": {
      "text/plain": [
       "-2"
      ]
     },
     "execution_count": 10,
     "metadata": {},
     "output_type": "execute_result"
    }
   ],
   "source": [
    "def resta(a,b):\n",
    "    return a-b\n",
    "\n",
    "resta(b=5,a=3)                               # -2"
   ]
  }
 ],
 "metadata": {
  "kernelspec": {
   "display_name": "Python 3",
   "language": "python",
   "name": "python3"
  },
  "language_info": {
   "codemirror_mode": {
    "name": "ipython",
    "version": 3
   },
   "file_extension": ".py",
   "mimetype": "text/x-python",
   "name": "python",
   "nbconvert_exporter": "python",
   "pygments_lexer": "ipython3",
   "version": "3.8.8"
  }
 },
 "nbformat": 4,
 "nbformat_minor": 5
}
