{
 "cells": [
  {
   "cell_type": "markdown",
   "metadata": {},
   "source": [
    "# Introducción a las funciones [1]"
   ]
  },
  {
   "cell_type": "markdown",
   "metadata": {},
   "source": [
    "Las funciones permiten evitar repetición de código."
   ]
  },
  {
   "cell_type": "markdown",
   "metadata": {},
   "source": [
    "## Función sencilla\n",
    "Sin return."
   ]
  },
  {
   "cell_type": "code",
   "execution_count": null,
   "metadata": {},
   "outputs": [],
   "source": [
    "def saluda():                                # Declaración de la función  \n",
    "    print(\"Hola\")                            # Cuerpo\n",
    "\n",
    "saluda()                                     # Ejecución de la función"
   ]
  },
  {
   "cell_type": "markdown",
   "metadata": {},
   "source": [
    "## Función con return"
   ]
  },
  {
   "cell_type": "code",
   "execution_count": null,
   "metadata": {},
   "outputs": [],
   "source": [
    "def saluda_isa():\n",
    "    return \"Isabel\"                          # el return es optativo\n",
    "\n",
    "print(\"Buenos días\",saluda_isa())            # imprimimos el resultado devuelto por la función"
   ]
  },
  {
   "cell_type": "markdown",
   "metadata": {},
   "source": [
    "### Después de ejecutar un return se sale de la función\n",
    "Veamos la misma función que antes pero ahora añadimos una línea de codigo después del return y dentro de la función.  \n",
    "Después de ejecutarse un return se sale de la función y se devuelve el control al flujo principal *main*."
   ]
  },
  {
   "cell_type": "code",
   "execution_count": null,
   "metadata": {},
   "outputs": [],
   "source": [
    "def saluda_isa():\n",
    "    return \"Isabel\"\n",
    "    print(\"Buenas tardes\")                   # esto no se ejecutará nunca\n",
    "print(\"Buenos días\",saluda_isa())"
   ]
  },
  {
   "cell_type": "markdown",
   "metadata": {},
   "source": [
    "## Función con un parámetro"
   ]
  },
  {
   "cell_type": "code",
   "execution_count": null,
   "metadata": {},
   "outputs": [],
   "source": [
    "def di_nombre(persona):                      # Función con un parámetro\n",
    "    persona=persona.upper()\n",
    "    return \"Se llama \" + persona             # el return es optativo\n",
    "\n",
    "print(di_nombre(\"Luis\"))                     # pasamos un parámetro a la función\n",
    "print(\"¿Quién es? \" + di_nombre(\"Ana\"))      # Llamamos nuevamente a la función\n",
    "print(\"¿Quién es?\", di_nombre(\"María\"))      # Otra llamada a la función"
   ]
  },
  {
   "cell_type": "code",
   "execution_count": null,
   "metadata": {},
   "outputs": [],
   "source": [
    "def doble(x):                                # Función que dobla el valor pasado como parámetro\n",
    "    return 2*x\n",
    "\n",
    "print(doble(5))                              # Pasamos un argumento"
   ]
  },
  {
   "cell_type": "markdown",
   "metadata": {},
   "source": [
    "## Función con dos parámetros"
   ]
  },
  {
   "cell_type": "code",
   "execution_count": null,
   "metadata": {},
   "outputs": [],
   "source": [
    "def elevar(x,y):                             #el orden de los parámetros importa\n",
    "    return x**y\n",
    "\n",
    "print(elevar(2,3))                           #si la función espera dos argumentos se han de enviar dos"
   ]
  },
  {
   "cell_type": "markdown",
   "metadata": {},
   "source": [
    "## El operador asterisco\n",
    "Cuando tenemos un número indeterminado de argumentos"
   ]
  },
  {
   "cell_type": "code",
   "execution_count": null,
   "metadata": {},
   "outputs": [],
   "source": [
    "def mimax(*edades):                          #cuando no se sabe el número de argumentos se pone asterisco\n",
    "  print(f\"El mayor en la fiesta tenía {max(edades)} años\")\n",
    "\n",
    "mimax(20, 30, 18, 24, 26)"
   ]
  },
  {
   "cell_type": "markdown",
   "metadata": {},
   "source": [
    "## Valor por defecto de un argumento"
   ]
  },
  {
   "cell_type": "code",
   "execution_count": null,
   "metadata": {},
   "outputs": [],
   "source": [
    "def postre(fruta = \"naranja\"):\n",
    "    return \"De postre mejor una fruta, por ejemplo \" + fruta\n",
    "\n",
    "print(postre('manzana'))\n",
    "print(postre())                #si no se especifica un argumento se toma el valor por defecto"
   ]
  },
  {
   "cell_type": "markdown",
   "metadata": {},
   "source": [
    "## Función con dos return\n",
    "Cuando una función no lleva return el compilador añade al final un ```return True```.  \n",
    "\n",
    "Si en una función hay dos returns solo se ejecuta el primero ya que finaliza la función."
   ]
  },
  {
   "cell_type": "code",
   "execution_count": null,
   "metadata": {},
   "outputs": [],
   "source": [
    "import random\n",
    "\n",
    "def destino(numero):\n",
    "    if numero==1:\n",
    "        return 'Norte'\n",
    "    if numero==2:\n",
    "        return 'Sur'\n",
    "\n",
    "aleatorio = random.randint(1,2)\n",
    "punto_cardinal = destino(aleatorio)\n",
    "print(\"Este verano viajaré hacia el\", punto_cardinal)"
   ]
  }
 ],
 "metadata": {
  "kernelspec": {
   "display_name": "Python 3",
   "language": "python",
   "name": "python3"
  },
  "language_info": {
   "codemirror_mode": {
    "name": "ipython",
    "version": 3
   },
   "file_extension": ".py",
   "mimetype": "text/x-python",
   "name": "python",
   "nbconvert_exporter": "python",
   "pygments_lexer": "ipython3",
   "version": "3.8.5"
  }
 },
 "nbformat": 4,
 "nbformat_minor": 5
}
