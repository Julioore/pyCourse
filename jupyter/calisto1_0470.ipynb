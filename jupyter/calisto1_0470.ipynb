{
 "cells": [
  {
   "cell_type": "markdown",
   "id": "8f40d507",
   "metadata": {},
   "source": [
    "# Introducción a las funciones"
   ]
  },
  {
   "cell_type": "markdown",
   "id": "900065f4",
   "metadata": {},
   "source": [
    "Las funciones permiten evitar repetición de código."
   ]
  },
  {
   "cell_type": "code",
   "execution_count": null,
   "id": "2c67cee0",
   "metadata": {},
   "outputs": [],
   "source": [
    "def mi_nombre():                             # Declaración de la función  \n",
    "    print(\"Me llamo Alberto.\")               # Cuerpo\n",
    "mi_nombre()                                  # Ejecución de la función"
   ]
  },
  {
   "cell_type": "code",
   "execution_count": null,
   "id": "f8cc58ab",
   "metadata": {},
   "outputs": [],
   "source": [
    "def su_nombre():\n",
    "    return \"Isabel\"                          # el return es optativo\n",
    "print(su_nombre())                           #imprimimos el resultado devuelto por la función"
   ]
  },
  {
   "cell_type": "code",
   "execution_count": null,
   "id": "d562d038",
   "metadata": {},
   "outputs": [],
   "source": [
    "def di_nombre(persona):                      # Función con un parámetro\n",
    "    persona=persona.upper()\n",
    "    return \"Se llama \" + persona             # el return es optativo\n",
    "print(di_nombre(\"Luis\"))                     # pasamos un parámetro a la función\n",
    "print(\"¿Quién es? \" + di_nombre(\"Ana\"))      # Llamamos nuevamente a la función\n",
    "print(\"¿Quién es?\", di_nombre(\"María\"))      # Otra llamada a la función"
   ]
  },
  {
   "cell_type": "code",
   "execution_count": null,
   "id": "bef2ac28",
   "metadata": {},
   "outputs": [],
   "source": [
    "def doble(x):\n",
    "    return 2*x\n",
    "print(doble(5))"
   ]
  },
  {
   "cell_type": "code",
   "execution_count": null,
   "id": "6afb7f61",
   "metadata": {},
   "outputs": [],
   "source": [
    "def elevar(x,y):              #el orden de los parámetros importa\n",
    "    return x**y\n",
    "print(elevar(2,3))            #si la función espera dos argumentos se han de enviar dos"
   ]
  },
  {
   "cell_type": "code",
   "execution_count": null,
   "id": "ed47f830",
   "metadata": {},
   "outputs": [],
   "source": [
    "def mimax(*edades):           #cuando no se sabe el número de argumentos se pone asterisco\n",
    "  print(\"El mayor en la fiesta tenía {} años \".format(max(edades)))\n",
    "mimax(20, 30, 18, 24, 26)"
   ]
  },
  {
   "cell_type": "code",
   "execution_count": null,
   "id": "d99d52b7",
   "metadata": {},
   "outputs": [],
   "source": [
    "def postre(fruta = \"naranja\"):\n",
    "    return \"De postre una fruta, por ejemplo \"+ fruta\n",
    "print(postre('manzana'))\n",
    "print(postre())                #si no se especifica un argumento se toma el valor por defecto"
   ]
  },
  {
   "cell_type": "markdown",
   "id": "0cd038e0",
   "metadata": {},
   "source": [
    "Cuando una función no lleva return el compilador añade al final un return True.  \n",
    "Si en una función hay dos returns solo se ejecuta el primero ya que finaliza la función."
   ]
  },
  {
   "cell_type": "code",
   "execution_count": null,
   "id": "0e0c8385",
   "metadata": {},
   "outputs": [],
   "source": [
    "import random\n",
    "\n",
    "def destino(numero):\n",
    "    if numero==1:\n",
    "        return 'Norte'\n",
    "    if numero==2:\n",
    "        return 'Sur'\n",
    "\n",
    "aleatorio = random.randint(1,2)\n",
    "punto_cardinal = destino(aleatorio)\n",
    "print(\"Este verano viajaré hacia el\", punto_cardinal)"
   ]
  },
  {
   "cell_type": "markdown",
   "id": "eaa721df",
   "metadata": {},
   "source": [
    "Una función no puede estar vacía."
   ]
  },
  {
   "cell_type": "code",
   "execution_count": null,
   "id": "d4581be1",
   "metadata": {},
   "outputs": [],
   "source": [
    "def mi_function():\n",
    "  pass"
   ]
  }
 ],
 "metadata": {
  "kernelspec": {
   "display_name": "Python 3",
   "language": "python",
   "name": "python3"
  },
  "language_info": {
   "codemirror_mode": {
    "name": "ipython",
    "version": 3
   },
   "file_extension": ".py",
   "mimetype": "text/x-python",
   "name": "python",
   "nbconvert_exporter": "python",
   "pygments_lexer": "ipython3",
   "version": "3.8.8"
  }
 },
 "nbformat": 4,
 "nbformat_minor": 5
}
