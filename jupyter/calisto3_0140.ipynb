{
 "cells": [
  {
   "cell_type": "markdown",
   "metadata": {},
   "source": [
    "# Pandas  \n",
    "PanDas = Panel Data Sets\n",
    "Para trabajar con datos multidimensionales habituales en estadística, econometría, ...  \n",
    "Permite manipular tablas de datos (**DataFrame**)  \n",
    "Las tablas pueden tener diferentes tipos de datos a diferencia de las matrices de NumPy"
   ]
  },
  {
   "cell_type": "code",
   "execution_count": null,
   "metadata": {},
   "outputs": [],
   "source": [
    "import pandas as pd"
   ]
  },
  {
   "cell_type": "markdown",
   "metadata": {},
   "source": [
    "## Crear un DataFrame"
   ]
  },
  {
   "cell_type": "code",
   "execution_count": null,
   "metadata": {},
   "outputs": [],
   "source": [
    "fbk=['Facebook', 2740, True, 2006]\n",
    "twt=['Twitter',339,False,2006]\n",
    "ig=['Instagram',1221, True, 2010]\n",
    "yt=['YouTube',2291,False,2005]\n",
    "lkn=['LinkkedIn',727,False,2003]\n",
    "wsp=['WhatsApp',2000,True,2009]\n",
    "tik=['TikTok',689,False,2016]\n",
    "tel=['Telegram',500, False,2013]"
   ]
  },
  {
   "cell_type": "code",
   "execution_count": null,
   "metadata": {},
   "outputs": [],
   "source": [
    "rrss = [fbk,twt,ig,yt,lkn,wsp,tik,tel]    # redes sociales 2021\n",
    "rrss"
   ]
  },
  {
   "cell_type": "code",
   "execution_count": null,
   "metadata": {},
   "outputs": [],
   "source": [
    "df_rrss=pd.DataFrame(rrss, columns=['Nombre','Usuarios','es_FBK', 'Año'])\n",
    "df_rrss"
   ]
  },
  {
   "cell_type": "markdown",
   "metadata": {},
   "source": [
    "## Crear un DataFrame vacío"
   ]
  },
  {
   "cell_type": "code",
   "execution_count": null,
   "metadata": {},
   "outputs": [],
   "source": [
    "df_vacio=pd.DataFrame(columns=['Nombre','Usuarios','es_FBK', 'Año'])\n",
    "df_vacio"
   ]
  },
  {
   "cell_type": "code",
   "execution_count": null,
   "metadata": {},
   "outputs": [],
   "source": [
    "df_vacio=df_vacio.append({'Nombre':'Facebook',\n",
    "                          'Usuarios':2740,\n",
    "                          'es_FBK':True,\n",
    "                          'Año':2006},ignore_index=True)\n",
    "df_vacio"
   ]
  },
  {
   "cell_type": "markdown",
   "metadata": {},
   "source": [
    "En lugar de meter los datos de forma manual lo habitual es pasarle un archivo csv o Excel."
   ]
  },
  {
   "cell_type": "markdown",
   "metadata": {},
   "source": [
    "## Seleccionar elementos"
   ]
  },
  {
   "cell_type": "markdown",
   "metadata": {},
   "source": [
    "### Seleccionar un elemento"
   ]
  },
  {
   "cell_type": "code",
   "execution_count": null,
   "metadata": {},
   "outputs": [],
   "source": [
    "# seleccionar un elemento por etiquetas\n",
    "df_rrss.loc[1,'Nombre']                    # loc de localizador"
   ]
  },
  {
   "cell_type": "code",
   "execution_count": null,
   "metadata": {},
   "outputs": [],
   "source": [
    "# seleccionar un elemento por número\n",
    "df_rrss.iloc[1,0]                           # iloc de localizador por integer"
   ]
  },
  {
   "cell_type": "markdown",
   "metadata": {},
   "source": [
    "### Seleccionar filas o columnas"
   ]
  },
  {
   "cell_type": "code",
   "execution_count": null,
   "metadata": {},
   "outputs": [],
   "source": [
    "# seleccionar por columna\n",
    "df_rrss['Nombre']"
   ]
  },
  {
   "cell_type": "code",
   "execution_count": null,
   "metadata": {},
   "outputs": [],
   "source": [
    "# seleccionar una fila\n",
    "df_rrss.iloc[2]"
   ]
  },
  {
   "cell_type": "markdown",
   "metadata": {},
   "source": [
    "### Seleccionar según un filtro"
   ]
  },
  {
   "cell_type": "code",
   "execution_count": null,
   "metadata": {},
   "outputs": [],
   "source": [
    "# seleccionar por condición booleana\n",
    "df_rrss['Usuarios']>2000         # Obtenemos un vector de True False"
   ]
  },
  {
   "cell_type": "code",
   "execution_count": null,
   "metadata": {},
   "outputs": [],
   "source": [
    "df_rrss[df_rrss['Usuarios']>2000]  # Convertimos el vector de True False en valores"
   ]
  },
  {
   "cell_type": "markdown",
   "metadata": {},
   "source": [
    "## Ordenar columnas"
   ]
  },
  {
   "cell_type": "markdown",
   "metadata": {},
   "source": [
    "### De forma ascendente (de menor a mayor)"
   ]
  },
  {
   "cell_type": "code",
   "execution_count": null,
   "metadata": {},
   "outputs": [],
   "source": [
    "# ordenando por el nombre\n",
    "df_rrss.sort_values('Nombre',ascending=True)  # el df_rrss no altera su orden"
   ]
  },
  {
   "cell_type": "markdown",
   "metadata": {},
   "source": [
    "### De forma descendente (de mayor a menor)"
   ]
  },
  {
   "cell_type": "code",
   "execution_count": null,
   "metadata": {},
   "outputs": [],
   "source": [
    "# por la cantidad de usuarios\n",
    "df_rrss.sort_values('Usuarios',ascending=False)"
   ]
  },
  {
   "cell_type": "markdown",
   "metadata": {},
   "source": [
    "### Ordenar por dos columnas"
   ]
  },
  {
   "cell_type": "code",
   "execution_count": null,
   "metadata": {},
   "outputs": [],
   "source": [
    "# ordenamos primero por el año y luego por el número de usuarios\n",
    "df_rrss.sort_values(['Año','Usuarios'],ascending=[True,False])"
   ]
  }
 ],
 "metadata": {
  "kernelspec": {
   "display_name": "Python 3",
   "language": "python",
   "name": "python3"
  },
  "language_info": {
   "codemirror_mode": {
    "name": "ipython",
    "version": 3
   },
   "file_extension": ".py",
   "mimetype": "text/x-python",
   "name": "python",
   "nbconvert_exporter": "python",
   "pygments_lexer": "ipython3",
   "version": "3.8.8"
  }
 },
 "nbformat": 4,
 "nbformat_minor": 4
}
