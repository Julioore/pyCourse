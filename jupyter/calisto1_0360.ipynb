{
 "cells": [
  {
   "cell_type": "markdown",
   "id": "0554b205",
   "metadata": {},
   "source": [
    "# Bucle ```while```    [2]"
   ]
  },
  {
   "cell_type": "code",
   "execution_count": 1,
   "id": "3a305327",
   "metadata": {},
   "outputs": [
    {
     "name": "stdout",
     "output_type": "stream",
     "text": [
      "El valor de a es menor de 100, por ahora:  0\n",
      "El valor de a es menor de 100, por ahora:  10\n",
      "El valor de a es menor de 100, por ahora:  20\n",
      "El valor de a es menor de 100, por ahora:  30\n",
      "El valor de a es menor de 100, por ahora:  40\n",
      "El valor de a es menor de 100, por ahora:  50\n",
      "El valor de a es menor de 100, por ahora:  60\n",
      "El valor de a es menor de 100, por ahora:  70\n",
      "El valor de a es menor de 100, por ahora:  80\n",
      "El valor de a es menor de 100, por ahora:  90\n"
     ]
    }
   ],
   "source": [
    "a = 0\n",
    "while a < 100:\n",
    "    print(\"El valor de a es menor de 100, por ahora: \", a)\n",
    "    a += 10"
   ]
  },
  {
   "cell_type": "code",
   "execution_count": 2,
   "id": "7340cebd",
   "metadata": {},
   "outputs": [
    {
     "name": "stdout",
     "output_type": "stream",
     "text": [
      "Introduzca la contraseña: fwfwe\n",
      "Introduzca la contraseña: Tokio2021\n",
      "Contraseña correcta. Puede acceder.\n"
     ]
    }
   ],
   "source": [
    "password = \"\"        #inicializamos la variable\n",
    "while password != \"Tokio2021\":\n",
    "    password = str(input(\"Introduzca la contraseña: \"))\n",
    "print(\"Contraseña correcta. Puede acceder.\")"
   ]
  },
  {
   "cell_type": "code",
   "execution_count": 3,
   "id": "4076672c",
   "metadata": {},
   "outputs": [
    {
     "name": "stdout",
     "output_type": "stream",
     "text": [
      "Introduzca la contraseña: lsakj\n",
      "Introduzca la contraseña: París2024\n",
      "Contraseña correcta. /nPuede acceder.\n"
     ]
    }
   ],
   "source": [
    "while True:\n",
    "    password = str(input(\"Introduzca la contraseña: \"))\n",
    "    if password == \"París2024\": break\n",
    "print(\"Contraseña correcta. /nPuede acceder.\")   #Con /n hacemos un retorno de carro"
   ]
  },
  {
   "cell_type": "code",
   "execution_count": 4,
   "id": "d8c854ac",
   "metadata": {},
   "outputs": [
    {
     "name": "stdout",
     "output_type": "stream",
     "text": [
      "tres\n",
      "dos\n",
      "uno\n",
      "cero\n"
     ]
    }
   ],
   "source": [
    "milista = ['cero', 'uno', 'dos', 'tres']\n",
    "while milista:           #cuando la lista está vacía da False\n",
    "    print(milista.pop(-1))"
   ]
  },
  {
   "cell_type": "markdown",
   "id": "bb8c0d52",
   "metadata": {},
   "source": [
    "En Python no existe la estructura Select Case o Switch-Case, pero podemos construir su equivalente."
   ]
  },
  {
   "cell_type": "code",
   "execution_count": 5,
   "id": "919305f5",
   "metadata": {},
   "outputs": [
    {
     "name": "stdout",
     "output_type": "stream",
     "text": [
      "El destino es el aeropuerto de Madrid\n"
     ]
    }
   ],
   "source": [
    "aeropuerto = \"MAD\"               #Equivale a Select Case de otros lenguajes, o Switch-Case\n",
    "while True:\n",
    "    if aeropuerto == \"MAD\": print(\"El destino es el aeropuerto de Madrid\"); break \n",
    "    if aeropuerto == \"BNC\": print(\"El destino es el aeropuerto de Barcelona\"); break\n",
    "    if aeropuerto == \"TFN\": print(\"El destino es el aeropuerto de Tenerife Norte\"); break\n",
    "    break"
   ]
  }
 ],
 "metadata": {
  "kernelspec": {
   "display_name": "Python 3",
   "language": "python",
   "name": "python3"
  },
  "language_info": {
   "codemirror_mode": {
    "name": "ipython",
    "version": 3
   },
   "file_extension": ".py",
   "mimetype": "text/x-python",
   "name": "python",
   "nbconvert_exporter": "python",
   "pygments_lexer": "ipython3",
   "version": "3.8.10"
  }
 },
 "nbformat": 4,
 "nbformat_minor": 5
}
