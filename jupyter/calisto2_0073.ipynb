{
 "cells": [
  {
   "cell_type": "markdown",
   "id": "bb9a30b5",
   "metadata": {},
   "source": [
    "# Herencia [4] Ejemplos\n",
    "## Empleado hereda de Persona"
   ]
  },
  {
   "cell_type": "code",
   "execution_count": 7,
   "id": "a6ef2972",
   "metadata": {},
   "outputs": [
    {
     "name": "stdout",
     "output_type": "stream",
     "text": [
      "Soy Ana y tengo 27 años.\n",
      "Mi categoría es de administrativo y tengo un salario de 28500 €.\n"
     ]
    }
   ],
   "source": [
    "class Persona:\n",
    "    def __init__(self, nombre, edad):\n",
    "        self.nombre=nombre\n",
    "        self.edad=edad\n",
    "    def identificar(self):\n",
    "        print(f\"Soy {self.nombre} y tengo {self.edad} años.\")\n",
    "class Empleado(Persona):\n",
    "    def __init__(self, nombre, edad, categoria, salario):\n",
    "        Persona.__init__(self, nombre, edad)                    # equivale a:    super().__init__(nombre, edad)\n",
    "        self.categoria=categoria\n",
    "        self.salario=salario\n",
    "    def datos_nomina(self):\n",
    "        msg=f\"Mi categoría es de {self.categoria} y tengo un salario de {self.salario} €.\"\n",
    "        return msg\n",
    "\n",
    "p1 = Persona(\"Pedro\",25)\n",
    "p2 = Empleado(\"Ana\",27,\"administrativo\",28500)\n",
    "p2.identificar()\n",
    "print(p2.datos_nomina())"
   ]
  },
  {
   "cell_type": "markdown",
   "id": "2e163783",
   "metadata": {},
   "source": [
    "## Herencia múltiple\n",
    "Tenemos dos superclases Persona, Actuario y una subclase que hereda de ambas llamda Empleado.  \n",
    "Sabemos que Persona y Actuario son superclases porque no heredan de nadie."
   ]
  },
  {
   "cell_type": "code",
   "execution_count": 2,
   "id": "0fe7dff7",
   "metadata": {},
   "outputs": [
    {
     "name": "stdout",
     "output_type": "stream",
     "text": [
      "Nombre: Eva\n",
      "Edad: 26\n",
      "Universidad: UCM\n",
      "Promoción: 2016\n",
      "Categoría: senior\n",
      "Salario: 44600\n"
     ]
    }
   ],
   "source": [
    "class Persona:                                 # superclase\n",
    "    def __init__(self, nombre, edad):\n",
    "        self.nombre=nombre\n",
    "        self.edad=edad\n",
    "class Actuario:                                # superclase\n",
    "    def __init__(self,universidad,promocion):  # ejemplo: universidad=UCM promocion=2020\n",
    "        self.uni=universidad                   # el atributo de instancia es self.uni\n",
    "        self.promocion=promocion\n",
    "class Empleado(Persona, Actuario):             # el orden importa, si hay 2  atributos con igual nombre se toma el de la 1ª clase\n",
    "    def __init__(self,nombre,edad,uni,promocion,categoria,salario):\n",
    "        Persona.__init__(self, nombre, edad)\n",
    "        Actuario.__init__(self,uni,promocion)\n",
    "        self.categoria=categoria\n",
    "        self.salario=salario\n",
    "\n",
    "e1 = Empleado(\"Eva\",26,\"UCM\",2016,\"senior\",44600)\n",
    "print(\"Nombre:\",e1.nombre)\n",
    "print(\"Edad:\",e1.edad)\n",
    "print(\"Universidad:\",e1.uni)\n",
    "print(\"Promoción:\",e1.promocion)\n",
    "print(\"Categoría:\",e1.categoria)\n",
    "print(\"Salario:\",e1.salario)"
   ]
  }
 ],
 "metadata": {
  "kernelspec": {
   "display_name": "Python 3",
   "language": "python",
   "name": "python3"
  },
  "language_info": {
   "codemirror_mode": {
    "name": "ipython",
    "version": 3
   },
   "file_extension": ".py",
   "mimetype": "text/x-python",
   "name": "python",
   "nbconvert_exporter": "python",
   "pygments_lexer": "ipython3",
   "version": "3.8.8"
  }
 },
 "nbformat": 4,
 "nbformat_minor": 5
}
