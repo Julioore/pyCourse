{
 "cells": [
  {
   "cell_type": "markdown",
   "metadata": {},
   "source": [
    "# Paquetes más usados"
   ]
  },
  {
   "cell_type": "markdown",
   "metadata": {},
   "source": [
    "Contienen código que amplian las funcionalidades de Python.  \n",
    "Los paquetes están contenidos en una carpeta con código .py  \n",
    "Tienen una estructura diseñada para poder usar funciones y clases  \n",
    "\\_\\_init\\_\\_.py"
   ]
  },
  {
   "cell_type": "markdown",
   "metadata": {},
   "source": [
    "## En Anaconda  \n",
    "Si estamos usando Anaconda no necesitamos instalar paquetes porque ya los trae incluidos. En caso contrario, es posible que tengas que instalarlo con el instalador de paquetes de Python **pip**."
   ]
  },
  {
   "cell_type": "markdown",
   "metadata": {},
   "source": [
    "## Cómo importar un paqute  \n",
    "NumPy: Acrónimo de  Numerical Python\n",
    "\n",
    "Simplemente tecleando lo siguiente estaríamos importando el paquete numpy con todas sus funciones."
   ]
  },
  {
   "cell_type": "code",
   "execution_count": null,
   "metadata": {},
   "outputs": [],
   "source": [
    "import numpy"
   ]
  },
  {
   "cell_type": "code",
   "execution_count": null,
   "metadata": {},
   "outputs": [],
   "source": [
    "# ejemplo, usando la función arange del paquete\n",
    "numpy.arange(10)"
   ]
  },
  {
   "cell_type": "markdown",
   "metadata": {},
   "source": [
    "### Cómo importar un paquete con alias"
   ]
  },
  {
   "cell_type": "code",
   "execution_count": null,
   "metadata": {},
   "outputs": [],
   "source": [
    "import numpy as np         # es el método recomendado\n",
    "np.arange(10)              # ya que al ver np.arange ya sabemos que se trata de la función arange del paquete numpy"
   ]
  },
  {
   "cell_type": "markdown",
   "metadata": {},
   "source": [
    "### Cómo importar una función concreta del paquete"
   ]
  },
  {
   "cell_type": "code",
   "execution_count": null,
   "metadata": {},
   "outputs": [],
   "source": [
    "from numpy import arange\n",
    "arange(10)"
   ]
  },
  {
   "cell_type": "markdown",
   "metadata": {},
   "source": [
    "**Ejemplo**  "
   ]
  },
  {
   "cell_type": "code",
   "execution_count": 1,
   "metadata": {},
   "outputs": [
    {
     "name": "stdout",
     "output_type": "stream",
     "text": [
      "x= [1 2 3]\n",
      "e^x = [ 2.71828183  7.3890561  20.08553692]\n",
      "Type de x: <class 'numpy.ndarray'>\n"
     ]
    }
   ],
   "source": [
    "import numpy as np\n",
    "x = np.arange(1,4)\n",
    "print('x=',x)\n",
    "print('e^x =',np.exp(x))\n",
    "print(\"Type de x:\",type(x))"
   ]
  },
  {
   "cell_type": "markdown",
   "metadata": {},
   "source": [
    "# Diferencia entre funciones y métodos"
   ]
  },
  {
   "cell_type": "markdown",
   "metadata": {},
   "source": [
    "- Función: conjunto de instrucciones que proporcionan un return\n",
    "- Método: conjunto de instrucciones que van a trabajar sobre un objeto"
   ]
  },
  {
   "cell_type": "code",
   "execution_count": null,
   "metadata": {},
   "outputs": [],
   "source": [
    "# Calculemos la media de x\n",
    "print(np.mean(x))        # usando una función   a la función mean le pasamos el argumento x\n",
    "print(x.mean())          # usando un método     x es un objeto al que se aplica el método mean()"
   ]
  },
  {
   "cell_type": "code",
   "execution_count": null,
   "metadata": {},
   "outputs": [],
   "source": [
    "# Vamos a transformar las dimensiones de un array\n",
    "import numpy as np\n",
    "y = np.arange(10,100,10)\n",
    "print(y)"
   ]
  },
  {
   "cell_type": "code",
   "execution_count": null,
   "metadata": {},
   "outputs": [],
   "source": [
    "np.reshape(y, (3,3))     # usando una función, primero escribimos la función y luego le pasamos los parámetros"
   ]
  },
  {
   "cell_type": "code",
   "execution_count": null,
   "metadata": {},
   "outputs": [],
   "source": [
    "y.reshape(3,3)     # usando un método, el método reshape se aplica sobre el objeto, solo le pasamos las coordenadas"
   ]
  },
  {
   "cell_type": "markdown",
   "metadata": {},
   "source": [
    "## Encademamiento de métodos (method chaining)  \n",
    "También se puede usar el encadenamiento de métodos.  \n",
    "objeto.método1().método2().método3()"
   ]
  },
  {
   "cell_type": "code",
   "execution_count": null,
   "metadata": {},
   "outputs": [],
   "source": [
    "import numpy as np\n",
    "x = np.arange(1,5)\n",
    "print('x=',x)\n",
    "y = np.exp(x)\n",
    "print('y=',y)\n",
    "print(np.round(y,2))\n",
    "print(y.round(2))\n",
    "matriz = [x,y]\n",
    "print(\"matriz=\", matriz)"
   ]
  },
  {
   "cell_type": "code",
   "execution_count": null,
   "metadata": {},
   "outputs": [],
   "source": [
    "from numpy.random import randint\n",
    "values1 = randint(0, 10, 20)\n",
    "values2 = randint(0, 10, 20)\n",
    "print(values1)\n",
    "print(values2)"
   ]
  },
  {
   "cell_type": "markdown",
   "metadata": {},
   "source": [
    "## Redondear con ```round```"
   ]
  },
  {
   "cell_type": "code",
   "execution_count": null,
   "metadata": {},
   "outputs": [],
   "source": [
    "import numpy as np\n",
    "valores = np.random.standard_normal(6)  # array de 6 números aleatorios Normal standard\n",
    "print(valores)"
   ]
  },
  {
   "cell_type": "code",
   "execution_count": null,
   "metadata": {},
   "outputs": [],
   "source": [
    "redondeado1 = np.round(valores)                                            # usando round como función\n",
    "redondeado2 = np.round(valores,2)\n",
    "print (\"Array redondeado a 0 decimales : \", redondeado1)\n",
    "print (\"Array redondeado a 2 decimales : \", redondeado2)"
   ]
  },
  {
   "cell_type": "code",
   "execution_count": null,
   "metadata": {},
   "outputs": [],
   "source": [
    "print (\"Array redondeado a 3 decimales : \", valores.round(3))              # usando round como método"
   ]
  },
  {
   "cell_type": "code",
   "execution_count": null,
   "metadata": {},
   "outputs": [],
   "source": [
    "# usando el argumento optativo out en numpy.round(a, decimals=0, out=None)\n",
    "x = np.arange(6, dtype=np.float64)  # inicializamos x como un ndarray de 6 posiciones para datos float\n",
    "valores.round(4,x)                  # x es es argumento optativo: out"
   ]
  },
  {
   "cell_type": "markdown",
   "metadata": {},
   "source": [
    "## Permutamos x e y con swapaxes(axis1, axis2)"
   ]
  },
  {
   "cell_type": "code",
   "execution_count": 7,
   "metadata": {},
   "outputs": [
    {
     "name": "stdout",
     "output_type": "stream",
     "text": [
      "La matriz original: \n",
      "[[0 1]\n",
      " [2 3]\n",
      " [4 5]\n",
      " [6 7]\n",
      " [8 9]]\n",
      "\n",
      "La matriz con los ejes permutados usando swapaxes como función:\n",
      "[[0 2 4 6 8]\n",
      " [1 3 5 7 9]]\n",
      "\n",
      "Partimos nuevamente de la matriz original:\n",
      "[[0 1]\n",
      " [2 3]\n",
      " [4 5]\n",
      " [6 7]\n",
      " [8 9]]\n",
      "\n",
      "La matriz con los ejes permutados usando swapaxes como método:\n",
      "[[0 2 4 6 8]\n",
      " [1 3 5 7 9]]\n"
     ]
    }
   ],
   "source": [
    "from numpy import swapaxes,arange,reshape \n",
    "a = arange(10).reshape(5,2)  # creamos un ndarray de 5 fila y 2 columnas\n",
    "\n",
    "print(f'La matriz original: \\n{a}') \n",
    "print()\n",
    "\n",
    "# permutamos los valores entre el eje 0 y el eje 1 \n",
    "print('La matriz con los ejes permutados usando swapaxes como función:') \n",
    "print(swapaxes(a, 1, 0))     # primero ponemos el eje 1 y luego el eje 0, swapaxes actúa como función\n",
    "print()\n",
    "\n",
    "print('Partimos nuevamente de la matriz original:')\n",
    "print(a)\n",
    "print()\n",
    "\n",
    "print('La matriz con los ejes permutados usando swapaxes como método:')\n",
    "print(a.swapaxes(1, 0))                                                 # swapaxes actúa como método"
   ]
  },
  {
   "cell_type": "markdown",
   "metadata": {},
   "source": [
    "# Los paquetes más usados  \n",
    "## Procesamiento de datos  \n",
    "- **Numpy**\n",
    "- SciPy\n",
    "- **Pandas**\n",
    "- PySpark\n",
    "## Visualización  \n",
    "- **Matplotlib**\n",
    "- Plotly\n",
    "- Bokeh\n",
    "- Seaborn\n",
    "## Modelos ML-AI  \n",
    "- TensorFlow\n",
    "- Keras\n",
    "- PYTORCH\n",
    "- scikit learn\n",
    "## Minería de datos y de textos  \n",
    "- Flask (servidor Web)\n",
    "- Scrapy\n",
    "- BeatifulSoup\n"
   ]
  }
 ],
 "metadata": {
  "kernelspec": {
   "display_name": "Python 3 (ipykernel)",
   "language": "python",
   "name": "python3"
  },
  "language_info": {
   "codemirror_mode": {
    "name": "ipython",
    "version": 3
   },
   "file_extension": ".py",
   "mimetype": "text/x-python",
   "name": "python",
   "nbconvert_exporter": "python",
   "pygments_lexer": "ipython3",
   "version": "3.8.11"
  }
 },
 "nbformat": 4,
 "nbformat_minor": 4
}
