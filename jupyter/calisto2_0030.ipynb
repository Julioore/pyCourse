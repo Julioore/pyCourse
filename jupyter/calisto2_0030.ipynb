{
 "cells": [
  {
   "cell_type": "markdown",
   "metadata": {},
   "source": [
    "# El Constructor"
   ]
  },
  {
   "cell_type": "markdown",
   "metadata": {},
   "source": [
    "## Repasemos\n",
    "Recordemos que ya hemos creado la clase Coche con cuatro propiedades y dos métodos."
   ]
  },
  {
   "cell_type": "code",
   "execution_count": null,
   "metadata": {},
   "outputs": [],
   "source": [
    "class Coche():\n",
    "    largoChasis=380\n",
    "    anchoChasis=175\n",
    "    ruedas=4\n",
    "    enmarcha=False\n",
    "\n",
    "    def arrancar(self):\n",
    "        print(\"Arrancando...\")\n",
    "        self.enmarcha=True\n",
    "        \n",
    "    def estado(self):\n",
    "        if self.enmarcha:\n",
    "            return \"El coche está en marcha\"\n",
    "        else:\n",
    "            return \"El coche está parado\"\n",
    "        \n",
    "miCoche=Coche()                                 # instanciación del primer objeto, así creamos el objeto miCoche\n",
    "\n",
    "miCoche.arrancar()                              # accedemos al método arrancar\n",
    "miCoche.estado()                                # accedemos al método estado\n",
    "\n",
    "print(\"ruedas: \", miCoche.ruedas)               # accedemos a la propiedad ruedas\n",
    "print(\"ancho: \",miCoche.anchoChasis)            # accedemos a la propiedad anchoChasis\n",
    "print(\"largo: \",miCoche.largoChasis)            # accedemos a la propiedad largoChasis\n",
    "print(\"¿en marcha?: \",miCoche.enmarcha)         # accedemos a la propiedad enmarcha"
   ]
  },
  {
   "cell_type": "markdown",
   "metadata": {},
   "source": [
    "## Creamos un segundo objeto\n",
    "Crearemos un segundo objeto de la clase Coche que necesariamente ha de tener distinto nombre."
   ]
  },
  {
   "cell_type": "code",
   "execution_count": null,
   "metadata": {},
   "outputs": [],
   "source": [
    "tuCoche=Coche()                                 # instanciación del segundo objeto, así creamos el objeto tuCoche\n",
    "tuCoche.estado()                                # accedemos al método estado que indicará 'parado' ya que aún no hemos arrancado\n",
    "\n",
    "print(\"ruedas: \", tuCoche.ruedas)               # accedemos a la propiedad ruedas\n",
    "print(\"ancho: \",tuCoche.anchoChasis)            # accedemos a la propiedad anchoChasis\n",
    "print(\"largo: \",tuCoche.largoChasis)            # accedemos a la propiedad largoChasis\n",
    "print(\"¿en marcha?: \",tuCoche.enmarcha)         # accedemos a la propiedad enmarcha"
   ]
  },
  {
   "cell_type": "markdown",
   "metadata": {},
   "source": [
    "Los dos objetos miCoche y tuCoche comparte algunas propiedades (largo, ancho, ruedas) pero en otras difieren (enmarcha).  \n",
    "El primer coche está en marcha, porque se arrancó, y el segundo no."
   ]
  },
  {
   "cell_type": "markdown",
   "metadata": {},
   "source": [
    "## Añadiendo parámetros a un método\n",
    "Sería buena idea que el método 'arrancar' se encargara también de informar sobre el estado del coche, diciendo si está arrancado o no. Por ello, el método 'arrancar' absorberá al método 'estado', que dejará de existir.  \n",
    "\n",
    "Vamos a añadir lo que hace el método 'estado' al método 'arrancar', para ello añadiremos el parámetro 'arrancamos'.  "
   ]
  },
  {
   "cell_type": "code",
   "execution_count": null,
   "metadata": {},
   "outputs": [],
   "source": [
    "class Coche():\n",
    "    largoChasis=380\n",
    "    anchoChasis=175\n",
    "    ruedas=4\n",
    "    enmarcha=False\n",
    "\n",
    "    def arrancar(self, arrancamos):\n",
    "        self.enmarcha = arrancamos   # La variable enmarcha será True o False según lo que nos pasen por el parámetro arrancamos\n",
    "        if self.enmarcha:\n",
    "            return \"El coche está en marcha\"\n",
    "        else:\n",
    "            return \"El coche está parado\"\n",
    "        \n",
    "    def estado(self):\n",
    "        print(f\"El coche tiene {self.ruedas} ruedas, un ancho de {self.anchoChasis} y un largo de {self.largoChasis}.\")\n",
    "        \n",
    "miCoche=Coche()\n",
    "miCoche.estado()\n",
    "print(miCoche.arrancar(True))         # ahora el método arrancar necesita obligatoriamente un argumento "
   ]
  },
  {
   "cell_type": "code",
   "execution_count": null,
   "metadata": {},
   "outputs": [],
   "source": [
    "tuCoche=Coche()\n",
    "print(tuCoche.arrancar(False))        # para el objeto 'tuCoche' le pasamos como argumento False"
   ]
  },
  {
   "cell_type": "markdown",
   "metadata": {},
   "source": [
    "En la línea anterior hemos llamado al método arrancar.  \n",
    "tuCoche.arrancar(False)\n",
    "\n",
    "El método arrancar vemos que tiene dos parámetros:\n",
    "- self: el objeto tuCoche se pasa al parámetro self\n",
    "- arrancamos: se le pasa False"
   ]
  },
  {
   "cell_type": "markdown",
   "metadata": {},
   "source": [
    "#### Métodos con print y sin print"
   ]
  },
  {
   "cell_type": "markdown",
   "metadata": {},
   "source": [
    "Hemos puesto un print en:\n",
    "- print(miCoche.arrancar(True))\n",
    "\n",
    "Pero no hemos puesto un print en:\n",
    "- miCoche.estado()\n",
    "\n",
    "Ambos son métodos aplicados sobre el mismo objeto. El motivo es que el método estado ya lleva un print en su definición y por el contrario el método arrancar no lleva ningún print en su definición y si se ejecuta sin poner un print no llegaríamos a ver lo que se retorna (al ejecutar en un archivo .py). "
   ]
  },
  {
   "cell_type": "markdown",
   "metadata": {},
   "source": [
    "## El estado inicial\n",
    "Es habitual que las características comunes de los objetos que se se creen y que pertenezcan a una clase formen parte del denominado 'estado inicial' de esa clase.  \n",
    "Esto supone que en el momento en el que se instancia un objeto concreto perteneciente a una clase ya se le aplica ese estado inicial con todas sus propiedades que consideremos interesantes que sean comunes.\n",
    "\n",
    "El estado inicial se define con un **constructor**."
   ]
  },
  {
   "cell_type": "markdown",
   "metadata": {},
   "source": [
    "## El método constructor\n",
    "Es un método inicial que proporciona el estado inicial de los objetos creados.  \n",
    "Es una forma de especificar claramente cual será el estado inicial de los objetos que pertenezcan a esa clase.  \n",
    "Por convenio se el constructor va arriba al crear la clase.  \n",
    "\n",
    "Para creae un método constructor meteremos todas las propiedades comunes dentro de una estructura en forma de función con esta sintaxis:  \n",
    "\n",
    "* def \\_\\_init\\_\\_(self):"
   ]
  },
  {
   "cell_type": "code",
   "execution_count": null,
   "metadata": {},
   "outputs": [],
   "source": [
    "class Coche():\n",
    "    def __init__(self):              # aquí se crea el constructor\n",
    "        self.largoChasis=380         # las propiedades llevan un self. que las antecede\n",
    "        self.anchoChasis=175\n",
    "        self.ruedas=4\n",
    "        self.enmarcha=False\n",
    "\n",
    "    def arrancar(self, arrancamos):\n",
    "        self.enmarcha = arrancamos   # La variable enmarcha será True o False según lo que nos pasen por el parámetro arrancamos\n",
    "        if self.enmarcha:\n",
    "            return \"El coche está en marcha\"\n",
    "        else:\n",
    "            return \"El coche está parado\"\n",
    "        \n",
    "    def estado(self):\n",
    "        print(f\"El coche tiene {self.ruedas} ruedas, un ancho de {self.anchoChasis} y un largo de {self.largoChasis}.\")\n",
    "        \n",
    "miCoche=Coche()\n",
    "print(miCoche.arrancar(True))\n",
    "miCoche.estado()"
   ]
  },
  {
   "cell_type": "markdown",
   "metadata": {},
   "source": [
    "Vemos que el código anterior funciona igual que sin la creación del constructor en este ejemplo sencillo, pero ahora tenemos la ventaja de tener todas las propiedades, con las que se inicia un objeto por defecto, agrupadas al inicio."
   ]
  },
  {
   "cell_type": "markdown",
   "metadata": {},
   "source": [
    "## Alterando propiedades\n",
    "Vamos a cambiar alguna de las propiedades de un objeto después de haber sido creado.  \n",
    "Cuando el objeto se instancia (se crea) toma las propiedades que le da el constructor, pero luego podemos cambiarlas."
   ]
  },
  {
   "cell_type": "code",
   "execution_count": null,
   "metadata": {},
   "outputs": [],
   "source": [
    "miCoche.ruedas += 1\n",
    "miCoche.estado()"
   ]
  },
  {
   "cell_type": "markdown",
   "metadata": {},
   "source": [
    "## Encapsulación"
   ]
  },
  {
   "cell_type": "markdown",
   "metadata": {},
   "source": [
    "Si alguna de las propiedades iniciales del objeto declaradas en el constructor no deseamos que se puedan llegar a alterar será necesario recurrir al concepto de encapsulación.\n",
    "\n",
    "La encapsulación impide que las propiedades de un objeto se puedan modificar desde fuera de la clase.  \n",
    "La encapsulación es optativa: en ocasiones nos interesará encapsular una propiedad del objeto definida en el constructor y en otras ocasiones no interesará encapsular otra propiedad.\n",
    "\n",
    "Se encapsula precediendo el nombre de la variable con dos guiones bajos __\n",
    "\n",
    "* self.\\__ruedas=4\n",
    "\n",
    "Así conseguimos que la propiedad ruedas no sea accesible (modificable) desde fuera de la clase, pero si será accesible desde dentro de la propia clase.  \n",
    "Esto supone que si hemos encapsulado la variable ruedas, cada vez que usemos esta variable desde dentro de la clase, la usaremos con los dos guiones bajos precediendo al nombre de la variable:  \n",
    "- self.__ruedas\n"
   ]
  },
  {
   "cell_type": "code",
   "execution_count": null,
   "metadata": {},
   "outputs": [],
   "source": [
    "class Coche():\n",
    "    def __init__(self):              # aquí se crea el constructor\n",
    "        self.largoChasis=380         # las propiedades llevan un self. que las antecede\n",
    "        self.anchoChasis=175\n",
    "        self.__ruedas=4\n",
    "        self.enmarcha=False\n",
    "\n",
    "    def arrancar(self, arrancamos):\n",
    "        self.enmarcha = arrancamos   # La variable enmarcha será True o False según lo que nos pasen por el parámetro arrancamos\n",
    "        if self.enmarcha:\n",
    "            return \"El coche está en marcha\"\n",
    "        else:\n",
    "            return \"El coche está parado\"\n",
    "        \n",
    "    def estado(self):\n",
    "        print(f\"El coche tiene {self.__ruedas} ruedas, un ancho de {self.anchoChasis} y un largo de {self.largoChasis}.\")\n",
    "        \n",
    "miCoche=Coche()\n",
    "print(miCoche.arrancar(True))\n",
    "miCoche.ruedas = 6                  # aunque se pongan los dos guiones bajos sigue sin funcionar la asignación\n",
    "miCoche.estado()"
   ]
  },
  {
   "cell_type": "markdown",
   "metadata": {},
   "source": [
    "Pese a que hemos dicho que el coche tiene 6 ruedas, no lo ha considerado y vemos que se imprime que tiene 4 ruedas. Esto se debe a que la propiedad ruedas está encapsulada y no es accesible desde fuera de la clase."
   ]
  },
  {
   "cell_type": "markdown",
   "metadata": {},
   "source": [
    "## Modificamos una propiedad encapsulada desde un método\n",
    "Podemos encapsular la propiedad 'enmarcha' y luego podemos modificar su valor desde fuera de la clase. ¿Cómo es posible esto?\n",
    "\n",
    "Esto es posible, ya que el valor de la propiedad 'enmarcha' si está siendo modificada desde dentro de la clase debido a que se modifica en el método 'arrancar'."
   ]
  },
  {
   "cell_type": "code",
   "execution_count": null,
   "metadata": {},
   "outputs": [],
   "source": [
    "class Coche():\n",
    "    def __init__(self):              # aquí se crea el constructor\n",
    "        self.__largoChasis=380       # las propiedades llevan un self. que las antecede\n",
    "        self.__anchoChasis=175\n",
    "        self.__ruedas=4\n",
    "        self.__enmarcha=False\n",
    "\n",
    "    def arrancar(self, arrancamos):\n",
    "        self.__enmarcha = arrancamos # La variable enmarcha será True o False según lo que nos pasen por el parámetro arrancamos\n",
    "        if self.__enmarcha:\n",
    "            return \"El coche está en marcha\"\n",
    "        else:\n",
    "            return \"El coche está parado\"\n",
    "        \n",
    "    def estado(self):\n",
    "        print(f\"El coche tiene {self.__ruedas} ruedas, un ancho de {self.__anchoChasis} y un largo de {self.__largoChasis}.\")\n",
    "        \n",
    "miCoche=Coche()\n",
    "print(miCoche.arrancar(True))       # aquí modificamos la propiedad 'enmarcha' que está encapsulada gracias al método 'arrancar'\n",
    "miCoche.estado()"
   ]
  },
  {
   "cell_type": "markdown",
   "metadata": {},
   "source": [
    "La propiedad 'enmarcha', pese a estar encapsulada, si hemos conseguido modificarla, pero esto ha sido posible a través del método 'arrancar' que actúa internamente dentro de la clase. Pero desde fuera de la clase, directamente ya no es posible acceder a la propiedad 'enmarcha'."
   ]
  }
 ],
 "metadata": {
  "kernelspec": {
   "display_name": "Python 3",
   "language": "python",
   "name": "python3"
  },
  "language_info": {
   "codemirror_mode": {
    "name": "ipython",
    "version": 3
   },
   "file_extension": ".py",
   "mimetype": "text/x-python",
   "name": "python",
   "nbconvert_exporter": "python",
   "pygments_lexer": "ipython3",
   "version": "3.8.5"
  }
 },
 "nbformat": 4,
 "nbformat_minor": 4
}
