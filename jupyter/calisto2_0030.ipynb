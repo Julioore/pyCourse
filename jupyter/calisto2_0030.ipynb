{
 "cells": [
  {
   "cell_type": "markdown",
   "metadata": {},
   "source": [
    "# El Constructor"
   ]
  },
  {
   "cell_type": "markdown",
   "metadata": {},
   "source": [
    "## Repasemos\n",
    "Recordemos que ya hemos creado la clase Coche con cuatro propiedades y dos métodos."
   ]
  },
  {
   "cell_type": "code",
   "execution_count": null,
   "metadata": {},
   "outputs": [],
   "source": [
    "class Coche():\n",
    "    largoChasis=380\n",
    "    anchoChasis=175\n",
    "    ruedas=4\n",
    "    enmarcha=False\n",
    "\n",
    "    def arrancar(self):\n",
    "        print(\"Arrancando...\")\n",
    "        self.enmarcha=True\n",
    "        \n",
    "    def estado(self):\n",
    "        if self.enmarcha:\n",
    "            return \"El coche está en marcha\"\n",
    "        else:\n",
    "            return \"El coche está parado\"\n",
    "        \n",
    "miCoche=Coche()                                 # instanciación del primer objeto, así creamos el objeto miCoche\n",
    "\n",
    "miCoche.arrancar()                              # accedemos al método arrancar\n",
    "miCoche.estado()                                # accedemos al método estado\n",
    "\n",
    "print(\"ruedas: \", miCoche.ruedas)               # accedemos a la propiedad ruedas\n",
    "print(\"ancho: \",miCoche.anchoChasis)            # accedemos a la propiedad anchoChasis\n",
    "print(\"largo: \",miCoche.largoChasis)            # accedemos a la propiedad largoChasis\n",
    "print(\"¿en marcha?: \",miCoche.enmarcha)         # accedemos a la propiedad enmarcha"
   ]
  },
  {
   "cell_type": "markdown",
   "metadata": {},
   "source": [
    "## Creamos un segundo objeto\n",
    "Crearemos un segundo objeto de la clase Coche que necesariamente ha de tener distinto nombre."
   ]
  },
  {
   "cell_type": "code",
   "execution_count": null,
   "metadata": {},
   "outputs": [],
   "source": [
    "tuCoche=Coche()                                 # instanciación del segundo objeto, así creamos el objeto tuCoche\n",
    "tuCoche.estado()                                # accedemos al método estado que indicará 'parado'\n",
    "                                                # ya que aún no hemos arrancado\n",
    "print(\"ruedas: \", tuCoche.ruedas)               # accedemos a la propiedad ruedas\n",
    "print(\"ancho: \",tuCoche.anchoChasis)            # accedemos a la propiedad anchoChasis\n",
    "print(\"largo: \",tuCoche.largoChasis)            # accedemos a la propiedad largoChasis\n",
    "print(\"¿en marcha?: \",tuCoche.enmarcha)         # accedemos a la propiedad enmarcha"
   ]
  },
  {
   "cell_type": "markdown",
   "metadata": {},
   "source": [
    "Los dos objetos miCoche y tuCoche comparte algunas propiedades (largo, ancho, ruedas) pero en otras difieren (enmarcha).  \n",
    "El primer coche está en marcha, porque se arrancó, y el segundo no."
   ]
  },
  {
   "cell_type": "markdown",
   "metadata": {},
   "source": [
    "## Añadiendo parámetros a un método\n",
    "Sería buena idea que el método 'arrancar' se encargara también de informar sobre el estado del coche, diciendo si está arrancado o no. Por ello, el método 'arrancar' absorberá al método 'estado', que dejará de existir.  \n",
    "\n",
    "Vamos a añadir lo que hace el método 'estado' al método 'arrancar', para ello añadiremos el parámetro 'arrancamos'.  "
   ]
  },
  {
   "cell_type": "code",
   "execution_count": null,
   "metadata": {},
   "outputs": [],
   "source": [
    "class Coche():\n",
    "    largoChasis=380\n",
    "    anchoChasis=175\n",
    "    ruedas=4\n",
    "    enmarcha=False\n",
    "\n",
    "    def arrancar(self, arrancamos):\n",
    "        self.enmarcha = arrancamos   # La variable enmarcha será True o False según lo que nos pasen por el parámetro arrancamos\n",
    "        if self.enmarcha:\n",
    "            return \"El coche está en marcha\"\n",
    "        else:\n",
    "            return \"El coche está parado\"\n",
    "        \n",
    "    def estado(self):\n",
    "        print(f\"El coche tiene {self.ruedas} ruedas, un ancho de {self.anchoChasis} y un largo de {self.largoChasis}.\")\n",
    "        \n",
    "miCoche=Coche()\n",
    "miCoche.estado()\n",
    "print(miCoche.arrancar(True))         # ahora el método arrancar necesita obligatoriamente un argumento "
   ]
  },
  {
   "cell_type": "code",
   "execution_count": null,
   "metadata": {},
   "outputs": [],
   "source": [
    "tuCoche=Coche()\n",
    "print(tuCoche.arrancar(False))        # para el objeto 'tuCoche' le pasamos como argumento False"
   ]
  },
  {
   "cell_type": "markdown",
   "metadata": {},
   "source": [
    "En la línea anterior hemos llamado al método arrancar.  \n",
    "tuCoche.arrancar(False)\n",
    "\n",
    "El método arrancar vemos que tiene dos parámetros:\n",
    "- self: el objeto tuCoche se pasa al parámetro self\n",
    "- arrancamos: se le pasa False"
   ]
  },
  {
   "cell_type": "markdown",
   "metadata": {},
   "source": [
    "#### Métodos con print y sin print"
   ]
  },
  {
   "cell_type": "markdown",
   "metadata": {},
   "source": [
    "Hemos puesto un print en:\n",
    "- print(miCoche.arrancar(True))\n",
    "\n",
    "Pero no hemos puesto un print en:\n",
    "- miCoche.estado()\n",
    "\n",
    "Ambos son métodos aplicados sobre el mismo objeto. El motivo es que el método estado ya lleva un print en su definición y por el contrario el método arrancar no lleva ningún print en su definición y si se ejecuta sin poner un print no llegaríamos a ver lo que se retorna (al ejecutar en un archivo .py). "
   ]
  },
  {
   "cell_type": "markdown",
   "metadata": {},
   "source": [
    "## El estado inicial\n",
    "Es habitual que las características comunes de los objetos que se se creen y que pertenezcan a una clase formen parte del denominado 'estado inicial' de esa clase.  \n",
    "Esto supone que en el momento en el que se instancia un objeto concreto perteneciente a una clase ya se le aplica ese estado inicial con todas sus propiedades que consideremos interesantes que sean comunes.\n",
    "\n",
    "El estado inicial se define con un **constructor**."
   ]
  },
  {
   "cell_type": "markdown",
   "metadata": {},
   "source": [
    "## El método constructor\n",
    "Es un método inicial que proporciona el estado inicial de los objetos creados.  \n",
    "Es una forma de especificar claramente cual será el estado inicial de los objetos que pertenezcan a esa clase.  \n",
    "Por convenio el constructor va arriba al crear la clase.  \n",
    "\n",
    "Para creae un método constructor meteremos todas las propiedades comunes dentro de una estructura en forma de función con esta sintaxis:  \n",
    "\n",
    "* def \\_\\_init\\_\\_(self):\n",
    "\n",
    "Pyhton llama automáticamente al método constructor cuando se crea una instancia.  \n",
    "El método constructor contiene los atributos que deseamos tenga un objeto cuando se inicializa, lo que permite construir objetos con propiedades predefinidas.\n",
    "\n",
    "El parámetro ```self``` es obligatorio, hace referencia al propio objeto. Por costumbre se llama self en Python pero el nombre puede ser otro. En JAVA y en JS se llama this."
   ]
  },
  {
   "cell_type": "code",
   "execution_count": null,
   "metadata": {},
   "outputs": [],
   "source": [
    "class Coche():\n",
    "    def __init__(self):              # aquí se crea el constructor\n",
    "        self.largoChasis=380         # las propiedades llevan un self. que las antecede\n",
    "        self.anchoChasis=175\n",
    "        self.ruedas=4\n",
    "        self.enmarcha=False\n",
    "\n",
    "    def arrancar(self, arrancamos):\n",
    "        self.enmarcha = arrancamos   # La variable enmarcha será True o False según lo que nos pasen por el parámetro arrancamos\n",
    "        if self.enmarcha:\n",
    "            return \"El coche está en marcha\"\n",
    "        else:\n",
    "            return \"El coche está parado\"\n",
    "        \n",
    "    def estado(self):\n",
    "        print(f\"El coche tiene {self.ruedas} ruedas, un ancho de {self.anchoChasis} y un largo de {self.largoChasis}.\")\n",
    "        \n",
    "miCoche=Coche()\n",
    "print(miCoche.arrancar(True))\n",
    "miCoche.estado()"
   ]
  },
  {
   "cell_type": "markdown",
   "metadata": {},
   "source": [
    "Vemos que el código anterior funciona igual que sin la creación del constructor en este ejemplo sencillo, pero ahora tenemos la ventaja de tener todas las propiedades, con las que se inicia un objeto por defecto, agrupadas al inicio."
   ]
  },
  {
   "cell_type": "markdown",
   "metadata": {},
   "source": [
    "## Alterando propiedades\n",
    "Modificando atributos.\n",
    "\n",
    "Vamos a cambiar alguna de las propiedades de un objeto después de haber sido creado.  \n",
    "Cuando el objeto se instancia (se crea) toma las propiedades que le da el constructor, pero luego podemos cambiarlas."
   ]
  },
  {
   "cell_type": "code",
   "execution_count": null,
   "metadata": {},
   "outputs": [],
   "source": [
    "miCoche.ruedas += 1\n",
    "miCoche.estado()"
   ]
  },
  {
   "cell_type": "markdown",
   "metadata": {},
   "source": [
    "## Docstring\n",
    "[Docstring Conventions](https://www.python.org/dev/peps/pep-0257/)\n",
    "\n",
    "Por convenio se aconseja documentar las clases añadiendo una cadena de texto después de la línea inicial class donde se informa del contenido y utilidad de esa clase.\n",
    "\n",
    "Una cadena Docstring es una cadena literal que aparece como la primera declaración en una definición de módulo, función, clase o método."
   ]
  },
  {
   "cell_type": "markdown",
   "metadata": {},
   "source": [
    "### Ejemplos con docstring"
   ]
  },
  {
   "cell_type": "markdown",
   "metadata": {},
   "source": [
    "#### Ejemplo 1"
   ]
  },
  {
   "cell_type": "code",
   "execution_count": null,
   "metadata": {},
   "outputs": [],
   "source": [
    "class Radio:\n",
    "    \"\"\"Modelado de una radio de FM\"\"\"\n",
    "    def __init__(self,encendida,emisora,volumen):\n",
    "        self.encendida = encendida\n",
    "        self.emisora = emisora\n",
    "        self.volumen = volumen\n",
    "    def estado(self):\n",
    "        if self.encendida:\n",
    "            print(f\"La radio sintoniza {self.emisora} a un volumen de {self.volumen}.\")\n",
    "        else:\n",
    "            print(\"La radio está apagada.\")\n",
    "            \n",
    "autoRadio=Radio(encendida=True,emisora=\"Radio FM\",volumen=5)  # instanciamos un objeto de tipo Radio\n",
    "autoRadio.estado()                                            # accedemos al método usando la notación de punto"
   ]
  },
  {
   "cell_type": "markdown",
   "metadata": {},
   "source": [
    "#### Ejemplo 2\n",
    "En este ejemplo añadiremos *Docstring* a la clase y en cada método."
   ]
  },
  {
   "cell_type": "code",
   "execution_count": 16,
   "metadata": {},
   "outputs": [
    {
     "name": "stdout",
     "output_type": "stream",
     "text": [
      "La bici es de tipo montaña\n",
      "La velocidad actual de la bici es: 5\n"
     ]
    }
   ],
   "source": [
    "class Bicicleta:               # por costumbre, comienzan en maýusculas y singular, o CamelCase\n",
    "    '''Modelado de una bicicleta mecánica'''\n",
    "    def __init__(self, tipo, tam):\n",
    "        '''Inicializa los atributos tipo y tamaño'''\n",
    "        self.tipo=tipo\n",
    "        self.tam=tam\n",
    "    def velocidad(self, vel):\n",
    "        '''Simula la velocidad de una bicicleta'''\n",
    "        if vel != 0:\n",
    "            print(\"La velocidad actual de la bici es:\", vel)\n",
    "        else:\n",
    "            print(\"La bici está parada.\")\n",
    "            \n",
    "miBici=Bicicleta(\"montaña\",\"cadete\")\n",
    "#miBici.velocidad(2)\n",
    "print(\"La bici es de tipo\",miBici.tipo)  # accedemos a uno de los atributos usando la notación de punto\n",
    "\n",
    "Bicicleta(\"montaña\",\"grande\").tam        # creamos otra bici sin asignar a una variable pero funciona llamar al atributo\n",
    "                                         # lo aconsejable es asignar la instancia creada a una variable\n",
    "\n",
    "miBici.velocidad(5)                      # accedemos a un método usando la notación punto\n"
   ]
  },
  {
   "cell_type": "code",
   "execution_count": 17,
   "metadata": {},
   "outputs": [
    {
     "name": "stdout",
     "output_type": "stream",
     "text": [
      "La bici está parada.\n"
     ]
    }
   ],
   "source": [
    "otraBici=Bicicleta(\"carreras\",\"mediana\") # creamos otra instancia de la clase Bicicleta\n",
    "otraBici.velocidad(0)                    # accedemos al método velocidad"
   ]
  },
  {
   "cell_type": "markdown",
   "metadata": {},
   "source": [
    "#### Ejemplo 3"
   ]
  },
  {
   "cell_type": "code",
   "execution_count": 25,
   "metadata": {},
   "outputs": [
    {
     "data": {
      "text/plain": [
       "'Se llama Thor, tiene 7 años y es de raza Mastín.'"
      ]
     },
     "execution_count": 25,
     "metadata": {},
     "output_type": "execute_result"
    }
   ],
   "source": [
    "class Perro:\n",
    "    '''Clase que representa un perro'''\n",
    "    def __init__(self,nombre,raza,edad):\n",
    "        self.nombre=nombre\n",
    "        self.raza=raza\n",
    "        self.edad=edad\n",
    "    def descripcion(self):\n",
    "        #print(f\"Se llama {self.nombre}, tiene {self.edad} años y es de raza {self.raza}.\")\n",
    "        return f\"Se llama {self.nombre}, tiene {self.edad} años y es de raza {self.raza}.\"\n",
    "        \n",
    "miPerro=Perro(\"Thor\",\"Mastín\",7)\n",
    "miPerro.descripcion()                 # si el método usa un return tendríamos que poner un print en esta línea"
   ]
  },
  {
   "cell_type": "code",
   "execution_count": null,
   "metadata": {},
   "outputs": [],
   "source": []
  }
 ],
 "metadata": {
  "kernelspec": {
   "display_name": "Python 3",
   "language": "python",
   "name": "python3"
  },
  "language_info": {
   "codemirror_mode": {
    "name": "ipython",
    "version": 3
   },
   "file_extension": ".py",
   "mimetype": "text/x-python",
   "name": "python",
   "nbconvert_exporter": "python",
   "pygments_lexer": "ipython3",
   "version": "3.8.8"
  }
 },
 "nbformat": 4,
 "nbformat_minor": 4
}
