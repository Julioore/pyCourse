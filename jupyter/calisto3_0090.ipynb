{
 "cells": [
  {
   "cell_type": "markdown",
   "id": "e8fea40d",
   "metadata": {},
   "source": [
    "# NumPy [7] Funciones estadísticas"
   ]
  },
  {
   "cell_type": "code",
   "execution_count": 1,
   "id": "59b97501",
   "metadata": {},
   "outputs": [
    {
     "name": "stdout",
     "output_type": "stream",
     "text": [
      "[[1 2 3]\n",
      " [4 5 6]\n",
      " [7 8 9]]\n"
     ]
    }
   ],
   "source": [
    "import numpy as np\n",
    "m = np.array([[1,2,3],[4,5,6],[7,8,9]])\n",
    "print(m)"
   ]
  },
  {
   "cell_type": "markdown",
   "id": "af00e7ac",
   "metadata": {},
   "source": [
    "## Máximo y mínimo por ejes"
   ]
  },
  {
   "cell_type": "code",
   "execution_count": 2,
   "id": "31d06cba",
   "metadata": {},
   "outputs": [
    {
     "name": "stdout",
     "output_type": "stream",
     "text": [
      "9\n"
     ]
    }
   ],
   "source": [
    "print(np.amax(m))            # función amax, la primera a hace referencia a axis"
   ]
  },
  {
   "cell_type": "code",
   "execution_count": 3,
   "id": "b884475c",
   "metadata": {},
   "outputs": [
    {
     "name": "stdout",
     "output_type": "stream",
     "text": [
      "1\n"
     ]
    }
   ],
   "source": [
    "print(np.amin(m))            # para el mínimo de la matriz completa"
   ]
  },
  {
   "cell_type": "code",
   "execution_count": 4,
   "id": "e4f57379",
   "metadata": {},
   "outputs": [
    {
     "name": "stdout",
     "output_type": "stream",
     "text": [
      "[3 6 9]\n"
     ]
    }
   ],
   "source": [
    "print(np.amax(m,1))            # maximo por filas"
   ]
  },
  {
   "cell_type": "code",
   "execution_count": 5,
   "id": "b9af1442",
   "metadata": {},
   "outputs": [
    {
     "name": "stdout",
     "output_type": "stream",
     "text": [
      "[7 8 9]\n"
     ]
    }
   ],
   "source": [
    "print(np.amax(m,0))            # maximo por columnas"
   ]
  },
  {
   "cell_type": "markdown",
   "id": "d68cc0e3",
   "metadata": {},
   "source": [
    "## Rango de valores\n",
    "Máximo- Mínimo según cierto eje.\n",
    "\n",
    "La función es ptp acrónimo de  ‘peak to peak’ (cima a cima, o pico a pico, o extremo a extremo)"
   ]
  },
  {
   "cell_type": "code",
   "execution_count": 6,
   "id": "9afe6947",
   "metadata": {},
   "outputs": [
    {
     "data": {
      "text/plain": [
       "8"
      ]
     },
     "execution_count": 6,
     "metadata": {},
     "output_type": "execute_result"
    }
   ],
   "source": [
    "np.ptp(m)"
   ]
  },
  {
   "cell_type": "code",
   "execution_count": 7,
   "id": "a3ef75ef",
   "metadata": {},
   "outputs": [
    {
     "data": {
      "text/plain": [
       "array([2, 2, 2])"
      ]
     },
     "execution_count": 7,
     "metadata": {},
     "output_type": "execute_result"
    }
   ],
   "source": [
    "np.ptp(m, axis=1)             # para las filas"
   ]
  },
  {
   "cell_type": "code",
   "execution_count": 8,
   "id": "7caa454f",
   "metadata": {},
   "outputs": [
    {
     "data": {
      "text/plain": [
       "array([6, 6, 6])"
      ]
     },
     "execution_count": 8,
     "metadata": {},
     "output_type": "execute_result"
    }
   ],
   "source": [
    "np.ptp(m, axis=0)             # para las columnas"
   ]
  },
  {
   "cell_type": "markdown",
   "id": "99669649",
   "metadata": {},
   "source": [
    "## Percentiles\n",
    "Para un array de datos ordenados.  \n",
    "* percentil = p*(N+1)/100   si n es impar\n",
    "* percentil = p\\*N/100   si N es par\n",
    "\n",
    "donde  \n",
    "* p → percentil a calcular (0-100)\n",
    "* N → número total de datos\n"
   ]
  },
  {
   "cell_type": "code",
   "execution_count": 9,
   "id": "11e78d00",
   "metadata": {},
   "outputs": [
    {
     "data": {
      "text/plain": [
       "array([[1, 2, 3],\n",
       "       [4, 5, 6],\n",
       "       [7, 8, 9]])"
      ]
     },
     "execution_count": 9,
     "metadata": {},
     "output_type": "execute_result"
    }
   ],
   "source": [
    "m                        # matriz con un número impar de datos"
   ]
  },
  {
   "cell_type": "code",
   "execution_count": 10,
   "id": "57ea8189",
   "metadata": {},
   "outputs": [
    {
     "data": {
      "text/plain": [
       "5.0"
      ]
     },
     "execution_count": 10,
     "metadata": {},
     "output_type": "execute_result"
    }
   ],
   "source": [
    "np.percentile(m, 50)     # percentil 50 = mediana"
   ]
  },
  {
   "cell_type": "code",
   "execution_count": 11,
   "id": "21125fb0",
   "metadata": {},
   "outputs": [
    {
     "data": {
      "text/plain": [
       "array([2., 5., 8.])"
      ]
     },
     "execution_count": 11,
     "metadata": {},
     "output_type": "execute_result"
    }
   ],
   "source": [
    "np.percentile(m, 50, axis=1)   # para las filas"
   ]
  },
  {
   "cell_type": "code",
   "execution_count": 12,
   "id": "eb6b8b24",
   "metadata": {},
   "outputs": [
    {
     "data": {
      "text/plain": [
       "array([4., 5., 6.])"
      ]
     },
     "execution_count": 12,
     "metadata": {},
     "output_type": "execute_result"
    }
   ],
   "source": [
    "np.percentile(m, 50, axis=0)   # para las columnas"
   ]
  },
  {
   "cell_type": "markdown",
   "id": "13415ca5",
   "metadata": {},
   "source": [
    "## Mediana\n",
    "La mediana es aquel valor de la variable estadística que deja el 50% de observaciones inferiores a él.  \n",
    "La mediana divide en dos partes iguales a la distribución estadística.\n",
    "\n",
    "* Si N es impar, la mediana es el valor de la variable central.\n",
    "* Si N es par, se ha de hacer la media entre los dos valores centrales."
   ]
  },
  {
   "cell_type": "code",
   "execution_count": 13,
   "id": "c325865a",
   "metadata": {},
   "outputs": [
    {
     "data": {
      "text/plain": [
       "array([[1, 2, 3],\n",
       "       [4, 5, 6],\n",
       "       [7, 8, 9]])"
      ]
     },
     "execution_count": 13,
     "metadata": {},
     "output_type": "execute_result"
    }
   ],
   "source": [
    "m"
   ]
  },
  {
   "cell_type": "code",
   "execution_count": 14,
   "id": "74ab41ea",
   "metadata": {},
   "outputs": [
    {
     "data": {
      "text/plain": [
       "5.0"
      ]
     },
     "execution_count": 14,
     "metadata": {},
     "output_type": "execute_result"
    }
   ],
   "source": [
    "np.median(m)             # Coincide con el percentil 50"
   ]
  },
  {
   "cell_type": "code",
   "execution_count": 15,
   "id": "a872b2c7",
   "metadata": {},
   "outputs": [
    {
     "data": {
      "text/plain": [
       "array([2., 5., 8.])"
      ]
     },
     "execution_count": 15,
     "metadata": {},
     "output_type": "execute_result"
    }
   ],
   "source": [
    "np.median(m, axis=1)     # para las filas"
   ]
  },
  {
   "cell_type": "code",
   "execution_count": 16,
   "id": "64c82f44",
   "metadata": {},
   "outputs": [
    {
     "data": {
      "text/plain": [
       "array([4., 5., 6.])"
      ]
     },
     "execution_count": 16,
     "metadata": {},
     "output_type": "execute_result"
    }
   ],
   "source": [
    "np.median(m, axis=0)     # para las columnas"
   ]
  },
  {
   "cell_type": "markdown",
   "id": "276fa34a",
   "metadata": {},
   "source": [
    "## Media aritmética"
   ]
  },
  {
   "cell_type": "code",
   "execution_count": 17,
   "id": "9b1def2a",
   "metadata": {},
   "outputs": [
    {
     "data": {
      "text/plain": [
       "5.0"
      ]
     },
     "execution_count": 17,
     "metadata": {},
     "output_type": "execute_result"
    }
   ],
   "source": [
    "np.mean(m)               # aplicado a toda la matriz"
   ]
  },
  {
   "cell_type": "code",
   "execution_count": 18,
   "id": "e4d6213d",
   "metadata": {},
   "outputs": [
    {
     "data": {
      "text/plain": [
       "array([2., 5., 8.])"
      ]
     },
     "execution_count": 18,
     "metadata": {},
     "output_type": "execute_result"
    }
   ],
   "source": [
    "np.mean(m, axis=1)       # para las filas"
   ]
  },
  {
   "cell_type": "code",
   "execution_count": 19,
   "id": "4c4e6474",
   "metadata": {},
   "outputs": [
    {
     "data": {
      "text/plain": [
       "array([4., 5., 6.])"
      ]
     },
     "execution_count": 19,
     "metadata": {},
     "output_type": "execute_result"
    }
   ],
   "source": [
    "np.mean(m, axis=0)       # para las columnas"
   ]
  },
  {
   "cell_type": "markdown",
   "id": "8170d9b8",
   "metadata": {},
   "source": [
    "## Media ponderada\n",
    "Cuando no se proporciona un vector de pesos se considera que todos los valores del vector de datos tienen el mismo peso."
   ]
  },
  {
   "cell_type": "code",
   "execution_count": 20,
   "id": "5440425d",
   "metadata": {},
   "outputs": [
    {
     "name": "stdout",
     "output_type": "stream",
     "text": [
      "[10  8  6  4]\n"
     ]
    }
   ],
   "source": [
    "datos = np.arange(10, 2, -2)         # vector de datos, equivale a np.array([10,8,6,4])\n",
    "print(datos)"
   ]
  },
  {
   "cell_type": "code",
   "execution_count": 21,
   "id": "e8fd4cab",
   "metadata": {},
   "outputs": [
    {
     "data": {
      "text/plain": [
       "7.0"
      ]
     },
     "execution_count": 21,
     "metadata": {},
     "output_type": "execute_result"
    }
   ],
   "source": [
    "np.average(datos)                # media ponderada de los datos de un array todos con igual peso"
   ]
  },
  {
   "cell_type": "code",
   "execution_count": 22,
   "id": "26f9f3e1",
   "metadata": {},
   "outputs": [
    {
     "data": {
      "text/plain": [
       "array([20, 16, 12,  8])"
      ]
     },
     "execution_count": 22,
     "metadata": {},
     "output_type": "execute_result"
    }
   ],
   "source": [
    "peso = np.arange(20, 6, -4)\n",
    "peso"
   ]
  },
  {
   "cell_type": "code",
   "execution_count": 23,
   "id": "ae991560",
   "metadata": {},
   "outputs": [
    {
     "data": {
      "text/plain": [
       "56"
      ]
     },
     "execution_count": 23,
     "metadata": {},
     "output_type": "execute_result"
    }
   ],
   "source": [
    "sum(peso)"
   ]
  },
  {
   "cell_type": "code",
   "execution_count": 24,
   "id": "7b2a4390",
   "metadata": {},
   "outputs": [
    {
     "data": {
      "text/plain": [
       "7.714285714285714"
      ]
     },
     "execution_count": 24,
     "metadata": {},
     "output_type": "execute_result"
    }
   ],
   "source": [
    "np.average(datos, weights=peso)"
   ]
  },
  {
   "cell_type": "markdown",
   "id": "29f822db",
   "metadata": {},
   "source": [
    "## Desviación estandar"
   ]
  },
  {
   "cell_type": "code",
   "execution_count": 26,
   "id": "c50501c2",
   "metadata": {},
   "outputs": [
    {
     "name": "stdout",
     "output_type": "stream",
     "text": [
      "[1 2 3 4 5 6]\n"
     ]
    }
   ],
   "source": [
    "m = np.array([1,2,3,4,5,6])\n",
    "print(m)"
   ]
  },
  {
   "cell_type": "code",
   "execution_count": 27,
   "id": "75c75fb8",
   "metadata": {},
   "outputs": [
    {
     "data": {
      "text/plain": [
       "1.707825127659933"
      ]
     },
     "execution_count": 27,
     "metadata": {},
     "output_type": "execute_result"
    }
   ],
   "source": [
    "np.std(m)               # desviación estandar poblacional"
   ]
  },
  {
   "cell_type": "markdown",
   "id": "ff1bbc17",
   "metadata": {},
   "source": [
    "#### Comprobación\n",
    "$$\\sigma = \\sqrt{\\frac{1}{N} \\sum_{i=1}^N (x_i - \\mu)^2}$$\n",
    "\n",
    "donde $$\\mu = \\frac{1}{N} \\sum_{i=1}^N x_i.$$\n",
    "\n",
    "para la población total."
   ]
  },
  {
   "cell_type": "code",
   "execution_count": 41,
   "id": "8e652a60",
   "metadata": {},
   "outputs": [
    {
     "data": {
      "text/plain": [
       "1.707825127659933"
      ]
     },
     "execution_count": 41,
     "metadata": {},
     "output_type": "execute_result"
    }
   ],
   "source": [
    "import math\n",
    "math.sqrt(np.mean((m-np.mean(m))**2))"
   ]
  }
 ],
 "metadata": {
  "kernelspec": {
   "display_name": "Python 3 (ipykernel)",
   "language": "python",
   "name": "python3"
  },
  "language_info": {
   "codemirror_mode": {
    "name": "ipython",
    "version": 3
   },
   "file_extension": ".py",
   "mimetype": "text/x-python",
   "name": "python",
   "nbconvert_exporter": "python",
   "pygments_lexer": "ipython3",
   "version": "3.8.11"
  }
 },
 "nbformat": 4,
 "nbformat_minor": 5
}
