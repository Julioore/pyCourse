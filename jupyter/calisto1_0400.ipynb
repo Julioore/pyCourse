{
 "cells": [
  {
   "cell_type": "markdown",
   "id": "ff29d00a",
   "metadata": {},
   "source": [
    "# Generación de aleatorios [1]"
   ]
  },
  {
   "cell_type": "code",
   "execution_count": 2,
   "id": "23a2ab91",
   "metadata": {},
   "outputs": [
    {
     "name": "stdout",
     "output_type": "stream",
     "text": [
      "14\n"
     ]
    }
   ],
   "source": [
    "from random import randrange\n",
    "un_aleatorio = randrange(-20,50)\n",
    "print(un_aleatorio)"
   ]
  },
  {
   "cell_type": "markdown",
   "id": "a073557a",
   "metadata": {},
   "source": [
    "random.randrange(stop)"
   ]
  },
  {
   "cell_type": "code",
   "execution_count": 39,
   "id": "c4e9c20e",
   "metadata": {},
   "outputs": [
    {
     "data": {
      "text/plain": [
       "1"
      ]
     },
     "execution_count": 39,
     "metadata": {},
     "output_type": "execute_result"
    }
   ],
   "source": [
    "randrange(2)                    # solo genera ceros y unos"
   ]
  },
  {
   "cell_type": "markdown",
   "id": "538988ce",
   "metadata": {},
   "source": [
    "random.randrange(start, stop[, step])"
   ]
  },
  {
   "cell_type": "code",
   "execution_count": 23,
   "id": "b4d2991f",
   "metadata": {},
   "outputs": [
    {
     "data": {
      "text/plain": [
       "43"
      ]
     },
     "execution_count": 23,
     "metadata": {},
     "output_type": "execute_result"
    }
   ],
   "source": [
    "randrange(11,50,2)              # solo genera un impar"
   ]
  },
  {
   "cell_type": "code",
   "execution_count": 17,
   "id": "369d9851",
   "metadata": {},
   "outputs": [
    {
     "name": "stdout",
     "output_type": "stream",
     "text": [
      "[30, -4, 30, 0, 6]\n"
     ]
    }
   ],
   "source": [
    "lista_aleatoria1 = []\n",
    "for i in range(5):\n",
    "    lista_aleatoria1.append(randrange(-20,50))\n",
    "print(lista_aleatoria1)"
   ]
  },
  {
   "cell_type": "code",
   "execution_count": 16,
   "id": "d8c81ffb",
   "metadata": {},
   "outputs": [
    {
     "name": "stdout",
     "output_type": "stream",
     "text": [
      "[-18, -16, -6, 24, 34]\n"
     ]
    }
   ],
   "source": [
    "from random import sample\n",
    "lista_aleatoria2 = []\n",
    "lista_aleatoria2 = sample(range(-20,50),5)\n",
    "print(sorted(lista_aleatoria2))                      # ordenado con sorted(lista)"
   ]
  },
  {
   "cell_type": "code",
   "execution_count": 14,
   "id": "15397669",
   "metadata": {},
   "outputs": [
    {
     "name": "stdout",
     "output_type": "stream",
     "text": [
      "[-18, -12, -5, 23, 26, 30, 34, 35, 36, 36]\n"
     ]
    }
   ],
   "source": [
    "lista_aleatoria = lista_aleatoria1 + lista_aleatoria2\n",
    "lista_aleatoria.sort()                               # ordenado con lista.sort()\n",
    "print(lista_aleatoria) "
   ]
  },
  {
   "cell_type": "markdown",
   "id": "b1353ac7",
   "metadata": {},
   "source": [
    "random.randint(a, b)     genera un aleatorio entero entre a y b ambos incluidos."
   ]
  },
  {
   "cell_type": "code",
   "execution_count": 42,
   "id": "0dff752d",
   "metadata": {},
   "outputs": [],
   "source": [
    "from random import randint"
   ]
  },
  {
   "cell_type": "code",
   "execution_count": 47,
   "id": "87def44f",
   "metadata": {},
   "outputs": [
    {
     "data": {
      "text/plain": [
       "2"
      ]
     },
     "execution_count": 47,
     "metadata": {},
     "output_type": "execute_result"
    }
   ],
   "source": [
    "randint(1, 3)"
   ]
  }
 ],
 "metadata": {
  "kernelspec": {
   "display_name": "Python 3",
   "language": "python",
   "name": "python3"
  },
  "language_info": {
   "codemirror_mode": {
    "name": "ipython",
    "version": 3
   },
   "file_extension": ".py",
   "mimetype": "text/x-python",
   "name": "python",
   "nbconvert_exporter": "python",
   "pygments_lexer": "ipython3",
   "version": "3.8.8"
  }
 },
 "nbformat": 4,
 "nbformat_minor": 5
}
