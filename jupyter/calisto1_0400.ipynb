{
 "cells": [
  {
   "cell_type": "markdown",
   "metadata": {},
   "source": [
    "# Listas con estructuras [2]  \n",
    "Generar números impares entre 100 y 120, por varios métodos."
   ]
  },
  {
   "cell_type": "code",
   "execution_count": null,
   "metadata": {},
   "outputs": [],
   "source": [
    "lista=[]                                            #Método 1\n",
    "for i in range(101,120,2):\n",
    "    lista.append(i)\n",
    "print(lista)"
   ]
  },
  {
   "cell_type": "code",
   "execution_count": null,
   "metadata": {},
   "outputs": [],
   "source": [
    "lista=[]\n",
    "i=101                                               #Método 2\n",
    "while i<120:\n",
    "    lista.append(i)\n",
    "    i=i+2\n",
    "print(lista)"
   ]
  },
  {
   "cell_type": "code",
   "execution_count": null,
   "metadata": {},
   "outputs": [],
   "source": [
    "lista=[]                                            #Método 3\n",
    "for i in range(100,120):\n",
    "    if i%2!=0:\n",
    "        lista.append(i)\n",
    "print(lista)"
   ]
  },
  {
   "cell_type": "code",
   "execution_count": null,
   "metadata": {},
   "outputs": [],
   "source": [
    "[i for i in range(101,120,2)]                       #Método 4 el método más breve, ¿o no?"
   ]
  },
  {
   "cell_type": "code",
   "execution_count": null,
   "metadata": {},
   "outputs": [],
   "source": [
    "list(range(101,120,2))                              #Método 5 sin usar for ni while"
   ]
  },
  {
   "cell_type": "code",
   "execution_count": null,
   "metadata": {},
   "outputs": [],
   "source": [
    "[print(i) for i in range(101,120) if i%2!=0]        #Método 6 sin el print obtenemos la lista"
   ]
  },
  {
   "cell_type": "code",
   "execution_count": null,
   "metadata": {},
   "outputs": [],
   "source": [
    "[i for i in range(100,120) if i%2]                  #Método 7 la condición del if es 1 (True) si es impar"
   ]
  },
  {
   "cell_type": "code",
   "execution_count": null,
   "metadata": {},
   "outputs": [],
   "source": [
    "numeros=[None]*10                                   #Método 8 inicializamos una lista vacía de 10 elementos\n",
    "for i in range(len(numeros)):\n",
    "    numeros[i]=(i+50)*2+1\n",
    "print(numeros)"
   ]
  }
 ],
 "metadata": {
  "kernelspec": {
   "display_name": "Python 3",
   "language": "python",
   "name": "python3"
  },
  "language_info": {
   "codemirror_mode": {
    "name": "ipython",
    "version": 3
   },
   "file_extension": ".py",
   "mimetype": "text/x-python",
   "name": "python",
   "nbconvert_exporter": "python",
   "pygments_lexer": "ipython3",
   "version": "3.8.5"
  }
 },
 "nbformat": 4,
 "nbformat_minor": 5
}
