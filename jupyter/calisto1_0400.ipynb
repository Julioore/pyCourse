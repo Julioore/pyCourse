{
 "cells": [
  {
   "cell_type": "markdown",
   "id": "ff29d00a",
   "metadata": {},
   "source": [
    "# Generación de aleatorios [1]"
   ]
  },
  {
   "cell_type": "code",
   "execution_count": null,
   "id": "23a2ab91",
   "metadata": {},
   "outputs": [],
   "source": [
    "from random import randrange\n",
    "un_aleatorio = randrange(-20,50)\n",
    "print(un_aleatorio)"
   ]
  },
  {
   "cell_type": "markdown",
   "id": "a073557a",
   "metadata": {},
   "source": [
    "random.randrange(stop)"
   ]
  },
  {
   "cell_type": "code",
   "execution_count": null,
   "id": "c4e9c20e",
   "metadata": {},
   "outputs": [],
   "source": [
    "randrange(2)                    # solo genera ceros y unos"
   ]
  },
  {
   "cell_type": "markdown",
   "id": "538988ce",
   "metadata": {},
   "source": [
    "random.randrange(start, stop[, step])"
   ]
  },
  {
   "cell_type": "code",
   "execution_count": null,
   "id": "b4d2991f",
   "metadata": {},
   "outputs": [],
   "source": [
    "randrange(11,50,2)              # solo genera un impar"
   ]
  },
  {
   "cell_type": "code",
   "execution_count": null,
   "id": "369d9851",
   "metadata": {},
   "outputs": [],
   "source": [
    "lista_aleatoria1 = []\n",
    "for i in range(5):\n",
    "    lista_aleatoria1.append(randrange(-20,50))\n",
    "print(lista_aleatoria1)"
   ]
  },
  {
   "cell_type": "code",
   "execution_count": null,
   "id": "d8c81ffb",
   "metadata": {},
   "outputs": [],
   "source": [
    "from random import sample\n",
    "lista_aleatoria2 = []\n",
    "lista_aleatoria2 = sample(range(-20,50),5)\n",
    "print(sorted(lista_aleatoria2))                      # ordenado con sorted(lista)"
   ]
  },
  {
   "cell_type": "code",
   "execution_count": null,
   "id": "15397669",
   "metadata": {},
   "outputs": [],
   "source": [
    "lista_aleatoria = lista_aleatoria1 + lista_aleatoria2\n",
    "lista_aleatoria.sort()                               # ordenado con lista.sort()\n",
    "print(lista_aleatoria) "
   ]
  },
  {
   "cell_type": "markdown",
   "id": "b1353ac7",
   "metadata": {},
   "source": [
    "random.randint(a, b)     genera un aleatorio entero entre a y b ambos incluidos."
   ]
  },
  {
   "cell_type": "code",
   "execution_count": null,
   "id": "0dff752d",
   "metadata": {},
   "outputs": [],
   "source": [
    "from random import randint"
   ]
  },
  {
   "cell_type": "code",
   "execution_count": null,
   "id": "87def44f",
   "metadata": {},
   "outputs": [],
   "source": [
    "randint(1, 3)"
   ]
  }
 ],
 "metadata": {
  "kernelspec": {
   "display_name": "Python 3",
   "language": "python",
   "name": "python3"
  },
  "language_info": {
   "codemirror_mode": {
    "name": "ipython",
    "version": 3
   },
   "file_extension": ".py",
   "mimetype": "text/x-python",
   "name": "python",
   "nbconvert_exporter": "python",
   "pygments_lexer": "ipython3",
   "version": "3.8.8"
  }
 },
 "nbformat": 4,
 "nbformat_minor": 5
}
