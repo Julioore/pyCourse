{
 "cells": [
  {
   "cell_type": "markdown",
   "id": "ae68466d",
   "metadata": {},
   "source": [
    "# Atributos de clase y de instancia\n",
    "Podemos crear **varios objetos** de una misma clase. Cada uno de estos objetos puede tener **diferententes valores para estos atributos**, lo que les confiere sus propias **características**.  \n",
    "\n",
    "Por ejemplo, podemos tener dos instancias de la clase Perro (bobby y teddy) que tengan atributos como nombre, edad, raza, pelo,... que sean diferentes y que identifican el caracter propio de cada uno de ellos.  \n",
    "\n",
    "Tener diferentes valores de los atributos es lo que define el **estado de un objeto**.\n",
    "\n",
    "Existen dos tipos de atributos:\n",
    "- Los **atributos de clase**: se definen en la clase y son comunes a todos los objetos de esa clase.  \n",
    "Por ejemplo, para la clase Perro son comunes genero=\"Canis\", orden=\"Carnivora\",cuadrupedo=True.\n",
    "- Los **atributos de instancia**: son propios de cada objeto y pueden tener diferentes valores. Podemos crear atributos durante la instanciación.  \n",
    "Por ejemplo, nombre, edad, raza, pelo,..."
   ]
  },
  {
   "cell_type": "markdown",
   "id": "5be2f88e",
   "metadata": {},
   "source": [
    "En general:\n",
    "* los atributos de clase son para atributos (y métodos) compartidos por todas las instancias de la clase\n",
    "* los atributos de instancia son para datos únicos de cada instancia"
   ]
  },
  {
   "cell_type": "code",
   "execution_count": null,
   "id": "b69677fe",
   "metadata": {},
   "outputs": [],
   "source": [
    "class Perro:\n",
    "    genero = \"Canis\"                      # atributos de clase compartidos por todas las instancias\n",
    "    orden = \"Carnivora\"\n",
    "    cuadrupedo = True\n",
    "\n",
    "    def __init__(self, nombre, raza):\n",
    "        self.nombre = nombre              # atributos de instancia únicos para cada instancia\n",
    "        self.raza = raza\n",
    "        \n",
    "l = Perro('Laika','Siberiana')\n",
    "k = Perro('Kasper','Pastor alemán')"
   ]
  },
  {
   "cell_type": "code",
   "execution_count": null,
   "id": "caf0ca31",
   "metadata": {},
   "outputs": [],
   "source": [
    "l.genero                    # compartido por todos los perros"
   ]
  },
  {
   "cell_type": "code",
   "execution_count": null,
   "id": "7114af6a",
   "metadata": {},
   "outputs": [],
   "source": [
    "k.genero                    # compartido por todos los perros"
   ]
  },
  {
   "cell_type": "code",
   "execution_count": null,
   "id": "eb74cba8",
   "metadata": {},
   "outputs": [],
   "source": [
    "l.nombre                    # único para l"
   ]
  },
  {
   "cell_type": "code",
   "execution_count": null,
   "id": "db796c1b",
   "metadata": {},
   "outputs": [],
   "source": [
    "k.nombre                    # único para k"
   ]
  },
  {
   "cell_type": "markdown",
   "id": "f06f8660",
   "metadata": {},
   "source": [
    "## Crear una variable como atributo de clase o de instancia\n",
    "Al definir una variable nueva podemos tener dudas sobre si debe ser un atributo de clase o un atributo de instancia. Un caso indeseable se da con los atributos compartidos recogidos en objetos mutable, tales como pueden ser listas y diccionarios.  \n",
    "**Ejemplo**  \n",
    "Supongamos que para recoger los trucos que saben hacer los perror creamos una variable *trucos* en forma de lista. Nuestro error será crearla como atributo de clase, común para todas las instancias, cuando debiera haber sido creado como atributo de instancia."
   ]
  },
  {
   "cell_type": "code",
   "execution_count": null,
   "id": "e656b07d",
   "metadata": {},
   "outputs": [],
   "source": [
    "class Perro:\n",
    "    trucos = []              # uso erróneo de una variable de clase\n",
    "\n",
    "    def __init__(self, nombre):\n",
    "        self.nombre = nombre\n",
    "\n",
    "    def incluir_truco(self, truco):\n",
    "        self.trucos.append(truco)\n",
    "\n",
    "l = Perro('Laika')\n",
    "k = Perro('Kasper')"
   ]
  },
  {
   "cell_type": "code",
   "execution_count": null,
   "id": "6dfe749b",
   "metadata": {},
   "outputs": [],
   "source": [
    "l.incluir_truco('darse la vuelta')\n",
    "k.incluir_truco('hacerse el muerto')\n",
    "l.trucos                    # inesperadamente compartido por todos las instancias de la misma clase"
   ]
  },
  {
   "cell_type": "markdown",
   "id": "3c76d1cb",
   "metadata": {},
   "source": [
    "### Forma correcta de usar la variable como atributo de instancia"
   ]
  },
  {
   "cell_type": "code",
   "execution_count": null,
   "id": "2d7c398a",
   "metadata": {},
   "outputs": [],
   "source": [
    "class Perro:\n",
    "    def __init__(self, nombre):\n",
    "        self.nombre = nombre\n",
    "        self.trucos = []     # creamos una lista vacía para cada perro\n",
    "\n",
    "    def incluir_truco(self, truco):\n",
    "        self.trucos.append(truco)\n",
    "        \n",
    "l = Perro('Laika')\n",
    "k = Perro('Kasper')"
   ]
  },
  {
   "cell_type": "code",
   "execution_count": null,
   "id": "719c91ef",
   "metadata": {},
   "outputs": [],
   "source": [
    "l.incluir_truco('darse la vuelta')\n",
    "k.incluir_truco('hacerse el muerto')\n",
    "l.trucos                     # ahora los trucos que sabe hacer cada perro están separados"
   ]
  },
  {
   "cell_type": "code",
   "execution_count": null,
   "id": "5344e194",
   "metadata": {},
   "outputs": [],
   "source": [
    "k.trucos"
   ]
  },
  {
   "cell_type": "markdown",
   "id": "e38d9b83",
   "metadata": {},
   "source": [
    "## Modificación de atributos de clase\n",
    "Se pueden modificar los atributos de clase desde fuera de la propia clase.\n",
    "Si existe el mismo nombre de atributo en la clase y en la instancia se prioriza el de la instancia."
   ]
  },
  {
   "cell_type": "code",
   "execution_count": null,
   "id": "dd02a6b3",
   "metadata": {},
   "outputs": [],
   "source": [
    "class Bomberos:\n",
    "    helicoptero = False       # atributos de clase ¿compartidos por todas las instancias?\n",
    "    region = 'Norte'          # ¿Todas las estaciones de bombero que se instancian serán del Norte y sin helicóptero?\n",
    "\n",
    "b1 = Bomberos()               # Instanciamos la primera estación de bomberos y resulta ser del Norte y sin helicóptero\n",
    "print(b1.helicoptero, b1.region)"
   ]
  },
  {
   "cell_type": "code",
   "execution_count": null,
   "id": "e8b3e14b",
   "metadata": {},
   "outputs": [],
   "source": [
    "b2 = Bomberos()                  # Instanciamos la segunda estación de bomberos\n",
    "b2.helicoptero = True            # Podemos acceder a modificar el atributo de clase desde fuera de la clase\n",
    "print(b2.helicoptero, b2.region) # Ahora vemos que esta estación de bomberos si tiene helicóptero"
   ]
  },
  {
   "cell_type": "markdown",
   "id": "9c6427c3",
   "metadata": {},
   "source": [
    "Python, por defecto, no impide, salvo por convenio, que un usuario pueda modificar un atributo de clase desde fuera de su propia clase.  \n",
    "En otros lenguajes, por ejemplo en JAVA, cualquier atributo que se declara hade ser público (Public) o privado (Private), de forma que los privados no son accesibles desde fuera de su propia clase."
   ]
  },
  {
   "cell_type": "markdown",
   "id": "036f241f",
   "metadata": {},
   "source": [
    "## Invocar a un método desde otro método\n",
    "Al igual que una función puede desde el interior de su código llamar a otra función, un método (que es una función) puede llamar a otro método ambos dentro de una clase."
   ]
  },
  {
   "cell_type": "code",
   "execution_count": 5,
   "id": "392bc795",
   "metadata": {},
   "outputs": [
    {
     "data": {
      "text/plain": [
       "['Guppy']"
      ]
     },
     "execution_count": 5,
     "metadata": {},
     "output_type": "execute_result"
    }
   ],
   "source": [
    "class Acuario:\n",
    "    def __init__(self):\n",
    "        self.poblacion = []          # atributo población en forma de lista, inicialmente vacia\n",
    "\n",
    "    def incluir(self, pez):\n",
    "        self.poblacion.append(pez)\n",
    "\n",
    "    def incluir_pareja(self, pez):\n",
    "        self.incluir(pez)            # invocamos desde un método otro método dentro de la misma clase\n",
    "        self.incluir(pez)            # volvemos a invocar el método incluir para hacer la pareja\n",
    "\n",
    "a = Acuario()                        # instanciamos un objeto de tipo Acuario\n",
    "a.incluir('Guppy')                   # Añadimos nuestro primer pez\n",
    "a.poblacion                          # consultamos nuestra variable poblacion"
   ]
  },
  {
   "cell_type": "code",
   "execution_count": 6,
   "id": "dcc2bb47",
   "metadata": {},
   "outputs": [
    {
     "data": {
      "text/plain": [
       "['Guppy', 'Neón', 'Neón']"
      ]
     },
     "execution_count": 6,
     "metadata": {},
     "output_type": "execute_result"
    }
   ],
   "source": [
    "a.incluir_pareja('Neón')             # incluimos una pareja de peces\n",
    "a.poblacion                          # al consultar la población vemos que se ha añadido la pareja"
   ]
  },
  {
   "cell_type": "markdown",
   "id": "8015665a",
   "metadata": {},
   "source": [
    "## Aplicar a un objeto ```type``` y ```dir```"
   ]
  },
  {
   "cell_type": "code",
   "execution_count": 7,
   "id": "13eb5e00",
   "metadata": {},
   "outputs": [
    {
     "data": {
      "text/plain": [
       "__main__.Acuario"
      ]
     },
     "execution_count": 7,
     "metadata": {},
     "output_type": "execute_result"
    }
   ],
   "source": [
    "type(a)                               # la instancia 'a' es un objeto de tipo Acuario"
   ]
  },
  {
   "cell_type": "code",
   "execution_count": 8,
   "id": "81a9d1c5",
   "metadata": {},
   "outputs": [
    {
     "data": {
      "text/plain": [
       "method"
      ]
     },
     "execution_count": 8,
     "metadata": {},
     "output_type": "execute_result"
    }
   ],
   "source": [
    "type(a.incluir)                       # el método 'incluir' es de método"
   ]
  },
  {
   "cell_type": "code",
   "execution_count": 12,
   "id": "e6ba11cd",
   "metadata": {},
   "outputs": [
    {
     "data": {
      "text/plain": [
       "list"
      ]
     },
     "execution_count": 12,
     "metadata": {},
     "output_type": "execute_result"
    }
   ],
   "source": [
    "type(a.poblacion)                     # el atributo 'poblacion' es una variable de tipo lista"
   ]
  },
  {
   "cell_type": "code",
   "execution_count": 13,
   "id": "34b74238",
   "metadata": {},
   "outputs": [
    {
     "data": {
      "text/plain": [
       "['__class__',\n",
       " '__delattr__',\n",
       " '__dict__',\n",
       " '__dir__',\n",
       " '__doc__',\n",
       " '__eq__',\n",
       " '__format__',\n",
       " '__ge__',\n",
       " '__getattribute__',\n",
       " '__gt__',\n",
       " '__hash__',\n",
       " '__init__',\n",
       " '__init_subclass__',\n",
       " '__le__',\n",
       " '__lt__',\n",
       " '__module__',\n",
       " '__ne__',\n",
       " '__new__',\n",
       " '__reduce__',\n",
       " '__reduce_ex__',\n",
       " '__repr__',\n",
       " '__setattr__',\n",
       " '__sizeof__',\n",
       " '__str__',\n",
       " '__subclasshook__',\n",
       " '__weakref__',\n",
       " 'incluir',\n",
       " 'incluir_pareja',\n",
       " 'poblacion']"
      ]
     },
     "execution_count": 13,
     "metadata": {},
     "output_type": "execute_result"
    }
   ],
   "source": [
    "dir(a)             # al hacer un dir de un objeto obtenemos todos sus atributos y métodos incluidos los especiales"
   ]
  }
 ],
 "metadata": {
  "kernelspec": {
   "display_name": "Python 3",
   "language": "python",
   "name": "python3"
  },
  "language_info": {
   "codemirror_mode": {
    "name": "ipython",
    "version": 3
   },
   "file_extension": ".py",
   "mimetype": "text/x-python",
   "name": "python",
   "nbconvert_exporter": "python",
   "pygments_lexer": "ipython3",
   "version": "3.8.8"
  }
 },
 "nbformat": 4,
 "nbformat_minor": 5
}
