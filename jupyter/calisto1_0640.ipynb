{
  "cells": [
    {
      "cell_type": "markdown",
      "metadata": {
        "id": "view-in-github",
        "colab_type": "text"
      },
      "source": [
        "<a href=\"https://colab.research.google.com/github/financieras/pyCourse/blob/main/jupyter/calisto1_0640.ipynb\" target=\"_parent\"><img src=\"https://colab.research.google.com/assets/colab-badge.svg\" alt=\"Open In Colab\"/></a>"
      ]
    },
    {
      "cell_type": "markdown",
      "metadata": {
        "id": "zInxj-ZGnbOP"
      },
      "source": [
        "# Funciones. Variables globales y variables locales [1]"
      ],
      "id": "zInxj-ZGnbOP"
    },
    {
      "cell_type": "markdown",
      "metadata": {
        "id": "47r95jjLnbOU"
      },
      "source": [
        "Las variables que se crean fuera de una función son globales y se pueden usar dentro y fuera."
      ],
      "id": "47r95jjLnbOU"
    },
    {
      "cell_type": "code",
      "execution_count": null,
      "metadata": {
        "id": "HALMx64bnbOX",
        "outputId": "4252a00e-ca58-4d2e-dc51-aaa205b2c4ce"
      },
      "outputs": [
        {
          "name": "stdout",
          "output_type": "stream",
          "text": [
            "Este año elegiré playa\n"
          ]
        }
      ],
      "source": [
        "destino = \"playa\"\n",
        "\n",
        "def vacaciones():\n",
        "    print(\"Este año elegiré \" + destino)\n",
        "\n",
        "vacaciones()"
      ],
      "id": "HALMx64bnbOX"
    },
    {
      "cell_type": "markdown",
      "metadata": {
        "id": "IcTyiZ2lnbOb"
      },
      "source": [
        "Las variables creadas dentro de una función son locales y restringen su ámbito a la función."
      ],
      "id": "IcTyiZ2lnbOb"
    },
    {
      "cell_type": "code",
      "execution_count": null,
      "metadata": {
        "id": "NeJQUVjgnbOd",
        "outputId": "24577732-ec9a-4a7f-86a6-efbeb58cf369"
      },
      "outputs": [
        {
          "name": "stdout",
          "output_type": "stream",
          "text": [
            "Habitualmente comienzo a trabajar a las 8:00\n"
          ]
        }
      ],
      "source": [
        "def trabajo():\n",
        "    inicio = \"8:00\"\n",
        "    print(\"Habitualmente comienzo a trabajar a las\", inicio)\n",
        "\n",
        "trabajo()\n",
        "#print(inicio)   # Esto provocará un error ya que la variable inicio no se conoce fuera"
      ],
      "id": "NeJQUVjgnbOd"
    },
    {
      "cell_type": "markdown",
      "metadata": {
        "id": "dxcqT8pfnbOg"
      },
      "source": [
        "Creamos una variable con el mismo nombre fuera y dentro. La interna solo actúa dentro."
      ],
      "id": "dxcqT8pfnbOg"
    },
    {
      "cell_type": "code",
      "execution_count": null,
      "metadata": {
        "id": "erOROUuOnbOi",
        "outputId": "3e587d99-3184-4403-f627-6c3652f2f2a0"
      },
      "outputs": [
        {
          "name": "stdout",
          "output_type": "stream",
          "text": [
            "Voy a organizar una fiesta para 20 invitados\n",
            "¿Cuántos invitados has dicho? 5\n"
          ]
        }
      ],
      "source": [
        "num_invitados = 5\n",
        "\n",
        "def fiesta():\n",
        "    num_invitados = 20\n",
        "    print(\"Voy a organizar una fiesta para {} invitados\".format(num_invitados))\n",
        "\n",
        "fiesta()\n",
        "print(\"¿Cuántos invitados has dicho?\", num_invitados)"
      ],
      "id": "erOROUuOnbOi"
    },
    {
      "cell_type": "markdown",
      "metadata": {
        "id": "YdfMJT4TnbOk"
      },
      "source": [
        "Si dentro de la función se puede definir una variable global poniendo la palabra **global**."
      ],
      "id": "YdfMJT4TnbOk"
    },
    {
      "cell_type": "code",
      "execution_count": null,
      "metadata": {
        "id": "HqtkX_tdnbOl",
        "outputId": "8a5d9849-7927-427a-fe2c-307f4e3b8031"
      },
      "outputs": [
        {
          "name": "stdout",
          "output_type": "stream",
          "text": [
            "El radio de la tierra es de 6371 Km\n",
            "El diámetro de la tierra es de 12742 Km.\n"
          ]
        }
      ],
      "source": [
        "def radio_terrestre():\n",
        "    global radio                      # convertimos la variable en global\n",
        "    radio = 6371\n",
        "    print(\"El radio de la tierra es de {} Km\".format(radio))\n",
        "\n",
        "radio_terrestre()\n",
        "print(\"El diámetro de la tierra es de {} Km.\".format(radio*2))"
      ],
      "id": "HqtkX_tdnbOl"
    }
  ],
  "metadata": {
    "kernelspec": {
      "display_name": "Python 3",
      "language": "python",
      "name": "python3"
    },
    "language_info": {
      "codemirror_mode": {
        "name": "ipython",
        "version": 3
      },
      "file_extension": ".py",
      "mimetype": "text/x-python",
      "name": "python",
      "nbconvert_exporter": "python",
      "pygments_lexer": "ipython3",
      "version": "3.8.5"
    },
    "colab": {
      "name": "calisto1_0640.ipynb",
      "provenance": [],
      "include_colab_link": true
    }
  },
  "nbformat": 4,
  "nbformat_minor": 5
}