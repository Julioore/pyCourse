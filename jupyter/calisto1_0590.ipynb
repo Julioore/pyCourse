{
 "cells": [
  {
   "cell_type": "markdown",
   "id": "a51df5d5",
   "metadata": {},
   "source": [
    "# Funciones. Adivina el número"
   ]
  },
  {
   "cell_type": "code",
   "execution_count": 1,
   "id": "74c97912",
   "metadata": {},
   "outputs": [
    {
     "name": "stdout",
     "output_type": "stream",
     "text": [
      "Di un número entre 1 y 100: 50\n",
      "El nº secreto es mayor\n",
      "Di un número entre 1 y 100: 75\n",
      "El nº secreto es menor\n",
      "Di un número entre 1 y 100: 60\n",
      "El nº secreto es mayor\n",
      "Di un número entre 1 y 100: 70\n",
      "El nº secreto es menor\n",
      "Di un número entre 1 y 100: 65\n",
      "El nº secreto es mayor\n",
      "Di un número entre 1 y 100: 67\n",
      "El nº secreto es mayor\n",
      "Di un número entre 1 y 100: 69\n",
      "El nº secreto es menor\n",
      "Di un número entre 1 y 100: 68\n",
      "Has ganado, el nº secreto es 68.\n"
     ]
    }
   ],
   "source": [
    "import random\n",
    "numero_secreto=random.randint(1,100)\n",
    "while True:\n",
    "    numero_elegido=int(input(\"Di un número entre 1 y 100: \"))\n",
    "    if numero_secreto<numero_elegido: print(\"El nº secreto es menor\")\n",
    "    elif numero_secreto>numero_elegido: print(\"El nº secreto es mayor\")\n",
    "    else: print(\"Has ganado, el nº secreto es {}.\".format(numero_secreto)); break"
   ]
  },
  {
   "cell_type": "markdown",
   "id": "eea5156b",
   "metadata": {},
   "source": [
    "**Ejercicio**  \n",
    "Mejora el código añadiendo información sobre el número de tiradas necesarias para ganar  \n",
    "Crea otra versión del código usando un par de funciones, ¿usas alguna variable global?"
   ]
  }
 ],
 "metadata": {
  "kernelspec": {
   "display_name": "Python 3",
   "language": "python",
   "name": "python3"
  },
  "language_info": {
   "codemirror_mode": {
    "name": "ipython",
    "version": 3
   },
   "file_extension": ".py",
   "mimetype": "text/x-python",
   "name": "python",
   "nbconvert_exporter": "python",
   "pygments_lexer": "ipython3",
   "version": "3.8.8"
  }
 },
 "nbformat": 4,
 "nbformat_minor": 5
}
