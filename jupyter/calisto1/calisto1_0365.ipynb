{
  "nbformat": 4,
  "nbformat_minor": 0,
  "metadata": {
    "colab": {
      "name": "calisto1_0365.ipynb",
      "provenance": [],
      "authorship_tag": "ABX9TyOKVgUIcOcq+EoegUQbe56G",
      "include_colab_link": true
    },
    "kernelspec": {
      "name": "python3",
      "display_name": "Python 3"
    },
    "language_info": {
      "name": "python"
    }
  },
  "cells": [
    {
      "cell_type": "markdown",
      "metadata": {
        "id": "view-in-github",
        "colab_type": "text"
      },
      "source": [
        "<a href=\"https://colab.research.google.com/github/financieras/pyCourse/blob/main/jupyter/calisto1/calisto1_0365.ipynb\" target=\"_parent\"><img src=\"https://colab.research.google.com/assets/colab-badge.svg\" alt=\"Open In Colab\"/></a>"
      ]
    },
    {
      "cell_type": "markdown",
      "source": [
        "# Casos con Bucle `For`"
      ],
      "metadata": {
        "id": "-vvX3Li25J60"
      }
    },
    {
      "cell_type": "markdown",
      "source": [
        "Lista los números del 1 al 100, los dos incluidos, separados por salto de linea.\n",
        "* En caso de que el numero sea divisor de 4 escribir en su lugar \"Buzz\".\n",
        "* En caso de que el numero sea divisor de 7 escribir en su lugar \"Fizz\".\n",
        "* Si el numero es divisor de tanto 7 como 4, escribir en su lugar \"FizzBuzz\"."
      ],
      "metadata": {
        "id": "TDqNP_7w1IMK"
      }
    },
    {
      "cell_type": "markdown",
      "source": [
        "### Método 1"
      ],
      "metadata": {
        "id": "JgyLnYww4uT_"
      }
    },
    {
      "cell_type": "code",
      "source": [
        "for i in range(1,101):\n",
        "    if i%4==0 and i%7==0:\n",
        "        print(\"FizzBuzz\")\n",
        "    elif i%4==0:\n",
        "        print(\"Buzz\")\n",
        "    elif i%7==0:\n",
        "        print(\"Fizz\")\n",
        "    else:\n",
        "        print(i)"
      ],
      "metadata": {
        "id": "bjsvQIRT2kN7"
      },
      "execution_count": null,
      "outputs": []
    },
    {
      "cell_type": "markdown",
      "source": [
        "### Método 2"
      ],
      "metadata": {
        "id": "INtaCtW44zCr"
      }
    },
    {
      "cell_type": "code",
      "source": [
        "for i in range(1,101):\n",
        "    if not i%28:            # múltiplos de 4*7=28\n",
        "        print(\"FizzBuzz\")\n",
        "    elif not i%4:\n",
        "        print(\"Buzz\")\n",
        "    elif not i%7:\n",
        "        print(\"Fizz\")\n",
        "    else:\n",
        "        print(i)"
      ],
      "metadata": {
        "id": "hpMF4sAJ1Oc4"
      },
      "execution_count": null,
      "outputs": []
    }
  ]
}