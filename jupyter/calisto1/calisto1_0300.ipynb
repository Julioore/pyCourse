{
  "cells": [
    {
      "cell_type": "markdown",
      "metadata": {
        "id": "view-in-github",
        "colab_type": "text"
      },
      "source": [
        "<a href=\"https://colab.research.google.com/github/financieras/pyCourse/blob/main/jupyter/calisto1_0300.ipynb\" target=\"_parent\"><img src=\"https://colab.research.google.com/assets/colab-badge.svg\" alt=\"Open In Colab\"/></a>"
      ]
    },
    {
      "cell_type": "markdown",
      "id": "1c2576af",
      "metadata": {
        "id": "1c2576af"
      },
      "source": [
        "# Estructura condicional: ```if``` ... ```else```"
      ]
    },
    {
      "cell_type": "code",
      "execution_count": null,
      "id": "e914c035",
      "metadata": {
        "id": "e914c035"
      },
      "outputs": [],
      "source": [
        "n = 10\n",
        "if n % 2 == 0:\n",
        "    print(\"n es un número par\")\n",
        "else:\n",
        "    print(\"n es un número impar\")"
      ]
    },
    {
      "cell_type": "code",
      "execution_count": null,
      "id": "910b7f32",
      "metadata": {
        "id": "910b7f32"
      },
      "outputs": [],
      "source": [
        "velocidad = 110\n",
        "limite = 120\n",
        "if velocidad <= limite:\n",
        "    print(\"Su velocidad está dentro de los límites legales\")\n",
        "else:\n",
        "    print(\"Su velocidad excede los límites legales\")"
      ]
    },
    {
      "cell_type": "code",
      "execution_count": null,
      "id": "6ec332f0",
      "metadata": {
        "id": "6ec332f0"
      },
      "outputs": [],
      "source": [
        "clave = input(\"Introduzca la palabra clave: \")\n",
        "if clave == '1234':\n",
        "    print(\"¡Contraseña correcta!\")\n",
        "    print(\"Acceso permitido.\")\n",
        "else:\n",
        "    print(\"¡Contraseña incorrecta!\")\n",
        "    print(\"Acceso denegado.\")"
      ]
    }
  ],
  "metadata": {
    "kernelspec": {
      "display_name": "Python 3",
      "language": "python",
      "name": "python3"
    },
    "language_info": {
      "codemirror_mode": {
        "name": "ipython",
        "version": 3
      },
      "file_extension": ".py",
      "mimetype": "text/x-python",
      "name": "python",
      "nbconvert_exporter": "python",
      "pygments_lexer": "ipython3",
      "version": "3.8.8"
    },
    "colab": {
      "name": "calisto1_0300.ipynb",
      "provenance": [],
      "include_colab_link": true
    }
  },
  "nbformat": 4,
  "nbformat_minor": 5
}