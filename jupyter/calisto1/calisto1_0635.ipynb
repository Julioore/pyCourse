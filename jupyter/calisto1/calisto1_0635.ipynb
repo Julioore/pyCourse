{
  "nbformat": 4,
  "nbformat_minor": 0,
  "metadata": {
    "colab": {
      "name": "calisto1_0635.ipynb",
      "provenance": [],
      "authorship_tag": "ABX9TyORACqx53CDUrCjNF/R1Nmh",
      "include_colab_link": true
    },
    "kernelspec": {
      "name": "python3",
      "display_name": "Python 3"
    },
    "language_info": {
      "name": "python"
    }
  },
  "cells": [
    {
      "cell_type": "markdown",
      "metadata": {
        "id": "view-in-github",
        "colab_type": "text"
      },
      "source": [
        "<a href=\"https://colab.research.google.com/github/financieras/pyCourse/blob/main/jupyter/calisto1/calisto1_0635.ipynb\" target=\"_parent\"><img src=\"https://colab.research.google.com/assets/colab-badge.svg\" alt=\"Open In Colab\"/></a>"
      ]
    },
    {
      "cell_type": "markdown",
      "source": [
        "# Las Torres de Hanoi\n",
        "![matriz.png](https://drive.google.com/uc?id=14t18C42BsryjNJuMXJhTXOvas_Gd95H-)\n",
        "\n",
        "\n",
        "Mover los discos de la torre de origen (A), hasta la torre de destino (C), pudiendo apoyarnos en la torre auxiliar (B).\n",
        "\n",
        "Reglas:\n",
        "* Solo se puede mover un disco cada vez\n",
        "* Un disco grande no pueden estar encima de otro más pequeño\n",
        "\n",
        "\n",
        "Si llamamos $n$ al número de discos, entonces el número de movimientos mínimos necesarios serán:  $2^n-1$\n",
        "\n",
        "- n = 1 movimientos = 1\n",
        "- n = 2 movimientos = 3\n",
        "- n = 3 movimientos = 7\n",
        "- ... ... ...\n",
        "- n = 9 movimientos = 511"
      ],
      "metadata": {
        "id": "Jid1z48FpgXd"
      }
    },
    {
      "cell_type": "code",
      "execution_count": 21,
      "metadata": {
        "colab": {
          "base_uri": "https://localhost:8080/"
        },
        "id": "Uiv5L2gPpfxi",
        "outputId": "e50af290-b20a-4113-b39c-9f4beef60e56"
      },
      "outputs": [
        {
          "output_type": "stream",
          "name": "stdout",
          "text": [
            "Mover el disco 1 desde el origen A, hasta el destino B\n",
            "Mover el disco 2 desde el origen A, hasta el destino C\n",
            "Mover el disco 1 desde el origen B, hasta el destino C\n",
            "Mover el disco 3 desde el origen A, hasta el destino B\n",
            "Mover el disco 1 desde el origen C, hasta el destino A\n",
            "Mover el disco 2 desde el origen C, hasta el destino B\n",
            "Mover el disco 1 desde el origen A, hasta el destino B\n",
            "Mover el disco 4 desde el origen A, hasta el destino C\n",
            "Mover el disco 1 desde el origen B, hasta el destino C\n",
            "Mover el disco 2 desde el origen B, hasta el destino A\n",
            "Mover el disco 1 desde el origen C, hasta el destino A\n",
            "Mover el disco 3 desde el origen B, hasta el destino C\n",
            "Mover el disco 1 desde el origen A, hasta el destino B\n",
            "Mover el disco 2 desde el origen A, hasta el destino C\n",
            "Mover el disco 1 desde el origen B, hasta el destino C\n"
          ]
        }
      ],
      "source": [
        "# Recursididad para resolver el problema de las Torres de Hanoi\n",
        "\n",
        "def hanoi(n , origen, destino, auxiliar):\n",
        "    if n==1:\n",
        "        print (f\"Mover el disco 1 desde el origen {origen}, hasta el destino {destino}\")\n",
        "    else:\n",
        "        hanoi(n-1, origen, auxiliar, destino)\n",
        "        print (f\"Mover el disco {n} desde el origen {origen}, hasta el destino {destino}\")\n",
        "        hanoi(n-1, auxiliar, destino, origen)\n",
        "\n",
        "n = 4   # número de discos\n",
        "\n",
        "hanoi(n,'A','C','B')   # origen:A, destino:C, auxiliar:B\n",
        "# A, C, B son los nombres de los palos o estacas o torres donde vamos a jugar"
      ]
    }
  ]
}