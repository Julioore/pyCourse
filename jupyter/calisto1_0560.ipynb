{
 "cells": [
  {
   "cell_type": "markdown",
   "id": "5ab2e76a",
   "metadata": {},
   "source": [
    "# Funciones. Variables globales y variables locales [2]"
   ]
  },
  {
   "cell_type": "markdown",
   "id": "48cc368d",
   "metadata": {},
   "source": []
  },
  {
   "cell_type": "code",
   "execution_count": null,
   "id": "e6aacffe",
   "metadata": {},
   "outputs": [],
   "source": [
    "n=10\n",
    "def incrementa_uno(n):\n",
    "    n+=1; return n\n",
    "incrementa_uno(n)\n",
    "print(n)                   #10\n"
   ]
  },
  {
   "cell_type": "code",
   "execution_count": null,
   "id": "aa125c98",
   "metadata": {},
   "outputs": [],
   "source": [
    "n=10\n",
    "def incrementa_uno(n):\n",
    "    n+=1; return n\n",
    "print(incrementa_uno(n))   #11\n",
    "print(n)                   #10\n"
   ]
  },
  {
   "cell_type": "code",
   "execution_count": null,
   "id": "11973103",
   "metadata": {},
   "outputs": [],
   "source": [
    "n=10\n",
    "def incrementa_uno(n):\n",
    "    n+=1; return n\n",
    "n=incrementa_uno(n)\n",
    "print(n)                   #11"
   ]
  }
 ],
 "metadata": {
  "kernelspec": {
   "display_name": "Python 3 (ipykernel)",
   "language": "python",
   "name": "python3"
  },
  "language_info": {
   "codemirror_mode": {
    "name": "ipython",
    "version": 3
   },
   "file_extension": ".py",
   "mimetype": "text/x-python",
   "name": "python",
   "nbconvert_exporter": "python",
   "pygments_lexer": "ipython3",
   "version": "3.8.10"
  }
 },
 "nbformat": 4,
 "nbformat_minor": 5
}
