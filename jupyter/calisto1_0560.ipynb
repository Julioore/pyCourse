{
 "cells": [
  {
   "cell_type": "markdown",
   "id": "a1fd2f2e",
   "metadata": {},
   "source": [
    "# Funciones. Variables globales y variables locales [2]"
   ]
  },
  {
   "cell_type": "markdown",
   "id": "76121285",
   "metadata": {},
   "source": []
  },
  {
   "cell_type": "code",
   "execution_count": null,
   "id": "3533e571",
   "metadata": {},
   "outputs": [],
   "source": [
    "n=10\n",
    "def incrementa_uno(n):\n",
    "    n+=1; return n\n",
    "incrementa_uno(n)\n",
    "print(n)                   #10\n"
   ]
  },
  {
   "cell_type": "code",
   "execution_count": null,
   "id": "e2c6d32d",
   "metadata": {},
   "outputs": [],
   "source": [
    "n=10\n",
    "def incrementa_uno(n):\n",
    "    n+=1; return n\n",
    "print(incrementa_uno(n))   #11\n",
    "print(n)                   #10\n"
   ]
  },
  {
   "cell_type": "code",
   "execution_count": null,
   "id": "16d4c147",
   "metadata": {},
   "outputs": [],
   "source": [
    "n=10\n",
    "def incrementa_uno(n):\n",
    "    n+=1; return n\n",
    "n=incrementa_uno(n)\n",
    "print(n)                   #11"
   ]
  }
 ],
 "metadata": {
  "kernelspec": {
   "display_name": "Python 3",
   "language": "python",
   "name": "python3"
  },
  "language_info": {
   "codemirror_mode": {
    "name": "ipython",
    "version": 3
   },
   "file_extension": ".py",
   "mimetype": "text/x-python",
   "name": "python",
   "nbconvert_exporter": "python",
   "pygments_lexer": "ipython3",
   "version": "3.8.8"
  }
 },
 "nbformat": 4,
 "nbformat_minor": 5
}
