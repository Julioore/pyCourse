{
  "nbformat": 4,
  "nbformat_minor": 0,
  "metadata": {
    "colab": {
      "name": "calisto1_0770.ipynb",
      "provenance": [],
      "authorship_tag": "ABX9TyMCtWHH6hFYGu/tsHlHYY7t",
      "include_colab_link": true
    },
    "kernelspec": {
      "name": "python3",
      "display_name": "Python 3"
    },
    "language_info": {
      "name": "python"
    }
  },
  "cells": [
    {
      "cell_type": "markdown",
      "metadata": {
        "id": "view-in-github",
        "colab_type": "text"
      },
      "source": [
        "<a href=\"https://colab.research.google.com/github/financieras/pyCourse/blob/main/jupyter/calisto1_0770.ipynb\" target=\"_parent\"><img src=\"https://colab.research.google.com/assets/colab-badge.svg\" alt=\"Open In Colab\"/></a>"
      ]
    },
    {
      "cell_type": "markdown",
      "source": [
        "# Funciones Lambda\n",
        "* También conocidas como **funciones anónimas** porque se definen sin un nombre\n",
        "* No se usa ```def``` se usa ```lambda```\n",
        "* Sintaxis ```lambda parámetros: expresión```\n",
        "* Parámetros: se admiten múltiples parámetros\n",
        "* Expresión:\n",
        " - se admite una única expresión\n",
        " - la expresión es evaluada y devuelta\n",
        "* Se suelen usar en combinación con otras funciones, como argumento de otra función"
      ],
      "metadata": {
        "id": "r03bg4PEpq-v"
      }
    },
    {
      "cell_type": "markdown",
      "source": [
        "## Función para elevar al cuadrado\n",
        "### Función con ```def```"
      ],
      "metadata": {
        "id": "2xX4vFbBtJYb"
      }
    },
    {
      "cell_type": "code",
      "source": [
        "def cuadrado(x):\n",
        "    return x**2\n",
        "\n",
        "print(cuadrado(5))"
      ],
      "metadata": {
        "colab": {
          "base_uri": "https://localhost:8080/"
        },
        "id": "m_81GeqYs86D",
        "outputId": "ae062e69-8beb-44c5-a015-8b32795e34d1"
      },
      "execution_count": 7,
      "outputs": [
        {
          "output_type": "stream",
          "name": "stdout",
          "text": [
            "25\n"
          ]
        }
      ]
    },
    {
      "cell_type": "markdown",
      "source": [
        "### Función Lambda"
      ],
      "metadata": {
        "id": "W_EAKz6qtWvJ"
      }
    },
    {
      "cell_type": "code",
      "source": [
        "cuadrado = lambda x: x**2\n",
        "print(cuadrado(5))"
      ],
      "metadata": {
        "colab": {
          "base_uri": "https://localhost:8080/"
        },
        "id": "AYOSTtGJrJGo",
        "outputId": "4e48c454-1afc-4a09-b43f-4aef472a278e"
      },
      "execution_count": 6,
      "outputs": [
        {
          "output_type": "stream",
          "name": "stdout",
          "text": [
            "25\n"
          ]
        }
      ]
    },
    {
      "cell_type": "markdown",
      "source": [
        "## Funciones Lambda usadas junto a otras funciones\n",
        "### Uso de Lamdba co ```map()```\n",
        "* La función ```map()``` aplica una función a cada uno de los elementos de una lista.\n",
        "* Sintaxis:  map(funcion, lista)\n",
        "* Ejemplo: dada una lista de números obtener otra lista con sus cuadrados"
      ],
      "metadata": {
        "id": "j619PIEutkat"
      }
    },
    {
      "cell_type": "markdown",
      "source": [
        "#### Método largo"
      ],
      "metadata": {
        "id": "xP02g5SUvIBW"
      }
    },
    {
      "cell_type": "code",
      "source": [
        "l = list(range(1,10))               # lista con los números del 1 al 9\n",
        "c = []                              # lista con los cuadrados\n",
        "\n",
        "for i in l:\n",
        "    c.append(i**2)\n",
        "     \n",
        "print(c)"
      ],
      "metadata": {
        "colab": {
          "base_uri": "https://localhost:8080/"
        },
        "id": "kYh29ULvulC3",
        "outputId": "c77e15ed-6282-449b-de7b-d908a4089d87"
      },
      "execution_count": 8,
      "outputs": [
        {
          "output_type": "stream",
          "name": "stdout",
          "text": [
            "[1, 4, 9, 16, 25, 36, 49, 64, 81]\n"
          ]
        }
      ]
    },
    {
      "cell_type": "markdown",
      "source": [
        "#### Método con función Lambda"
      ],
      "metadata": {
        "id": "IatYgmE8vMmc"
      }
    },
    {
      "cell_type": "code",
      "source": [
        "l = list(range(1,10))               # lista con los números del 1 al 9\n",
        "\n",
        "c = list(map(lambda x : x**2, l))   # lista con los cuadrados\n",
        "\n",
        "print(c)"
      ],
      "metadata": {
        "colab": {
          "base_uri": "https://localhost:8080/"
        },
        "id": "UhKG1RtsvQQ0",
        "outputId": "42b2ef72-5ca9-483a-86ad-90eb94e50d67"
      },
      "execution_count": 9,
      "outputs": [
        {
          "output_type": "stream",
          "name": "stdout",
          "text": [
            "[1, 4, 9, 16, 25, 36, 49, 64, 81]\n"
          ]
        }
      ]
    },
    {
      "cell_type": "markdown",
      "source": [
        "### Uso de Lambda con ```filter```\n",
        "* La función filter() filtra una lista de elementos para los que una función devuelve True\n",
        "* Sintaxis:  filter(funcion, lista)\n",
        "* Ejemplo: dada una lista de números filtrarla para obtener una lista con los pares"
      ],
      "metadata": {
        "id": "c_9EfoTitzk2"
      }
    },
    {
      "cell_type": "markdown",
      "source": [
        "#### Método largo"
      ],
      "metadata": {
        "id": "0fwg8o36xESY"
      }
    },
    {
      "cell_type": "code",
      "source": [
        "valores = [1, 2, 3, 4, 5, 6, 7, 8, 9]\n",
        "pares = []\n",
        "\n",
        "for valor in valores:\n",
        "    if valor%2 == 0:\n",
        "        pares.append(valor)\n",
        "\n",
        "print(pares)"
      ],
      "metadata": {
        "colab": {
          "base_uri": "https://localhost:8080/"
        },
        "id": "lcYH_z6CxFhu",
        "outputId": "b897b836-1e9a-4c35-cc02-5d0c8fcb193d"
      },
      "execution_count": 10,
      "outputs": [
        {
          "output_type": "stream",
          "name": "stdout",
          "text": [
            "[2, 4, 6, 8]\n"
          ]
        }
      ]
    },
    {
      "cell_type": "markdown",
      "source": [
        "#### Método con función Lambda"
      ],
      "metadata": {
        "id": "7XxwOCouxT-a"
      }
    },
    {
      "cell_type": "code",
      "source": [
        "valores = [1, 2, 3, 4, 5, 6, 7, 8, 9]\n",
        "\n",
        "pares = list(filter(lambda x : x%2==0, valores))\n",
        "\n",
        "print(pares)"
      ],
      "metadata": {
        "colab": {
          "base_uri": "https://localhost:8080/"
        },
        "id": "Hd2R5aADxZ6X",
        "outputId": "b60fe3b0-7e04-4c3d-df7f-ce826174467c"
      },
      "execution_count": 11,
      "outputs": [
        {
          "output_type": "stream",
          "name": "stdout",
          "text": [
            "[2, 4, 6, 8]\n"
          ]
        }
      ]
    },
    {
      "cell_type": "markdown",
      "source": [
        "### Uso de Lambda con ```reduce```\n",
        "* Permite un cálculo acumulado de una lista de valores\n",
        "* Ejemplo: sumar los números del 1 al 100"
      ],
      "metadata": {
        "id": "T1FbfZQzt8Y1"
      }
    },
    {
      "cell_type": "markdown",
      "source": [
        "#### Método largo"
      ],
      "metadata": {
        "id": "yfT_-IFYym0l"
      }
    },
    {
      "cell_type": "code",
      "source": [
        "numeros = list(range(1,101))\n",
        "suma = 0\n",
        "\n",
        "for i in numeros:\n",
        "    suma += i\n",
        "\n",
        "print(suma)"
      ],
      "metadata": {
        "colab": {
          "base_uri": "https://localhost:8080/"
        },
        "id": "guopjobuyn-2",
        "outputId": "79bd765a-b9fa-425d-c566-9c6d5118fa70"
      },
      "execution_count": 12,
      "outputs": [
        {
          "output_type": "stream",
          "name": "stdout",
          "text": [
            "5050\n"
          ]
        }
      ]
    },
    {
      "cell_type": "markdown",
      "source": [
        "#### Método con función Lambda\n",
        "![Cómo funciona la función reduce](img/reduce.png)\n",
        "\n",
        "* Se va realizado la suma acumulativa\n",
        "* (((((1 + 2) + 3) + 4) + 5) + 6) + 7 = 28"
      ],
      "metadata": {
        "id": "HoRZ0ejny9qz"
      }
    },
    {
      "cell_type": "code",
      "source": [
        "from functools import reduce          # la función reduce pertenece a la librería functools\n",
        "numeros = list(range(1,101))\n",
        "\n",
        "suma = reduce(lambda x, y:x+y, numeros)\n",
        "\n",
        "print(suma)"
      ],
      "metadata": {
        "colab": {
          "base_uri": "https://localhost:8080/"
        },
        "id": "rEUrwu2ozBMZ",
        "outputId": "cea12950-cf05-453d-c7b3-7904206ffba1"
      },
      "execution_count": 13,
      "outputs": [
        {
          "output_type": "stream",
          "name": "stdout",
          "text": [
            "5050\n"
          ]
        }
      ]
    }
  ]
}