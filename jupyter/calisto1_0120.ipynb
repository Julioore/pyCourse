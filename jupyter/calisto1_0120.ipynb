{
 "cells": [
  {
   "cell_type": "markdown",
   "id": "402e4363",
   "metadata": {},
   "source": [
    "# String: métodos"
   ]
  },
  {
   "cell_type": "code",
   "execution_count": null,
   "id": "74c2a552",
   "metadata": {},
   "outputs": [],
   "source": [
    "frase = 'Seguir sin detenerse, ese es el secreto del éxito'\n",
    "palabra = 'secreto'\n",
    "print(palabra in frase)                       #True\n",
    "print('Secreto' not in frase)                 #True (case sensitive)"
   ]
  },
  {
   "cell_type": "code",
   "execution_count": null,
   "id": "c8750472",
   "metadata": {},
   "outputs": [],
   "source": [
    "ciudad='londres'\n",
    "print(palabra.upper(),ciudad.capitalize(),'New York'.lower())"
   ]
  },
  {
   "cell_type": "code",
   "execution_count": null,
   "id": "0b5ab7b4",
   "metadata": {},
   "outputs": [],
   "source": [
    "print(\"los angeles\".title())                  #Los Angeles"
   ]
  },
  {
   "cell_type": "code",
   "execution_count": null,
   "id": "6b5363c0",
   "metadata": {},
   "outputs": [],
   "source": [
    "print(ciudad.islower())                       #True\n",
    "print(ciudad.isupper())                       #False"
   ]
  },
  {
   "cell_type": "code",
   "execution_count": null,
   "id": "fda9f89b",
   "metadata": {},
   "outputs": [],
   "source": [
    "print(\"100\".isdigit())                        #True\n",
    "print(\"Hola Mundo\".istitle())                 #True"
   ]
  },
  {
   "cell_type": "code",
   "execution_count": null,
   "id": "7dc92e4b",
   "metadata": {},
   "outputs": [],
   "source": [
    "print(\"Hola mundo futuro\".split()[0])         #Hola"
   ]
  },
  {
   "cell_type": "code",
   "execution_count": null,
   "id": "01d2fc6d",
   "metadata": {},
   "outputs": [],
   "source": [
    "elementos = '3840x2160'                       #pixeles 4k UHD 16:9\n",
    "print(elementos.split('x'))                   #separando por el carácter x"
   ]
  },
  {
   "cell_type": "code",
   "execution_count": null,
   "id": "8616cd1f",
   "metadata": {},
   "outputs": [],
   "source": [
    "print(\"   Buenos días     \".strip())          #Buenos días"
   ]
  },
  {
   "cell_type": "code",
   "execution_count": null,
   "id": "7e880e63",
   "metadata": {},
   "outputs": [],
   "source": [
    "print(\"Hola mundo\".replace('o','0'))          #H0la mund0"
   ]
  },
  {
   "cell_type": "code",
   "execution_count": null,
   "id": "86ceba12",
   "metadata": {},
   "outputs": [],
   "source": [
    "print(\"si eres madre, serás madre para siempre\".count(\"madre\"))  # 2"
   ]
  },
  {
   "cell_type": "code",
   "execution_count": null,
   "id": "a0d96919",
   "metadata": {},
   "outputs": [],
   "source": [
    "print(\"de Madrid al cielo\".find(\"Madrid\"))    #3"
   ]
  }
 ],
 "metadata": {
  "kernelspec": {
   "display_name": "Python 3",
   "language": "python",
   "name": "python3"
  },
  "language_info": {
   "codemirror_mode": {
    "name": "ipython",
    "version": 3
   },
   "file_extension": ".py",
   "mimetype": "text/x-python",
   "name": "python",
   "nbconvert_exporter": "python",
   "pygments_lexer": "ipython3",
   "version": "3.8.5"
  }
 },
 "nbformat": 4,
 "nbformat_minor": 5
}
