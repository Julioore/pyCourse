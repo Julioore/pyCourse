{
 "cells": [
  {
   "cell_type": "markdown",
   "id": "b7786f7a",
   "metadata": {},
   "source": [
    "# Booleanos: True, False\n"
   ]
  },
  {
   "cell_type": "code",
   "execution_count": null,
   "id": "df8694c5",
   "metadata": {},
   "outputs": [],
   "source": [
    "5 == 5                 # True       Operador de comparación: 'Igual a'"
   ]
  },
  {
   "cell_type": "code",
   "execution_count": null,
   "id": "2528485c",
   "metadata": {},
   "outputs": [],
   "source": [
    "5 >= 7                 # False      Mayor o igual que"
   ]
  },
  {
   "cell_type": "code",
   "execution_count": null,
   "id": "57fc1da5",
   "metadata": {},
   "outputs": [],
   "source": [
    "9 == '9'               # False"
   ]
  },
  {
   "cell_type": "code",
   "execution_count": null,
   "id": "db50c39e",
   "metadata": {},
   "outputs": [],
   "source": [
    "'Madrid' > 'Bogotá'    # True"
   ]
  },
  {
   "cell_type": "code",
   "execution_count": null,
   "id": "232a68ba",
   "metadata": {},
   "outputs": [],
   "source": [
    "4 != 4                 # False    Operador de comparación: Distinto o 'no es igual a'"
   ]
  },
  {
   "cell_type": "markdown",
   "id": "64cab790",
   "metadata": {},
   "source": [
    "## Comparación de Booleanos"
   ]
  },
  {
   "cell_type": "code",
   "execution_count": null,
   "id": "f68c8a65",
   "metadata": {},
   "outputs": [],
   "source": [
    "True == True           # True"
   ]
  },
  {
   "cell_type": "code",
   "execution_count": null,
   "id": "05a3defa",
   "metadata": {},
   "outputs": [],
   "source": [
    "True == False          # False"
   ]
  },
  {
   "cell_type": "code",
   "execution_count": null,
   "id": "399a072f",
   "metadata": {},
   "outputs": [],
   "source": [
    "True != False          # True"
   ]
  },
  {
   "cell_type": "markdown",
   "id": "f53d11a1",
   "metadata": {},
   "source": [
    "### Veradadero es 1 y Falso es 0"
   ]
  },
  {
   "cell_type": "code",
   "execution_count": null,
   "id": "c971002f",
   "metadata": {},
   "outputs": [],
   "source": [
    "True == 1              # True"
   ]
  },
  {
   "cell_type": "code",
   "execution_count": null,
   "id": "1b8e0cdc",
   "metadata": {},
   "outputs": [],
   "source": [
    "False == 0             # True"
   ]
  },
  {
   "cell_type": "code",
   "execution_count": null,
   "id": "afb4fe60",
   "metadata": {},
   "outputs": [],
   "source": [
    "True *3                # 3"
   ]
  },
  {
   "cell_type": "code",
   "execution_count": null,
   "id": "bd7872b7",
   "metadata": {},
   "outputs": [],
   "source": [
    "2*(-True)+False+True   # -1"
   ]
  },
  {
   "cell_type": "code",
   "execution_count": null,
   "id": "e44b9664",
   "metadata": {},
   "outputs": [],
   "source": [
    "True > False           # True"
   ]
  },
  {
   "cell_type": "code",
   "execution_count": null,
   "id": "62e8618c",
   "metadata": {},
   "outputs": [],
   "source": [
    "False > True           # False"
   ]
  },
  {
   "cell_type": "code",
   "execution_count": null,
   "id": "ef4904f4",
   "metadata": {},
   "outputs": [],
   "source": [
    "True * False           # 0"
   ]
  },
  {
   "cell_type": "markdown",
   "id": "3a67c098",
   "metadata": {},
   "source": [
    "## Comparando varios simultáneamente"
   ]
  },
  {
   "cell_type": "code",
   "execution_count": null,
   "id": "95560b07",
   "metadata": {},
   "outputs": [],
   "source": [
    "1 < 2 < 3              # True"
   ]
  },
  {
   "cell_type": "markdown",
   "id": "2312cf05",
   "metadata": {},
   "source": [
    "## Operando con variables"
   ]
  },
  {
   "cell_type": "code",
   "execution_count": null,
   "id": "a3520208",
   "metadata": {},
   "outputs": [],
   "source": [
    "a = 5\n",
    "b = 10\n",
    "b == 2*a               # True     No confundir == (comparación) con = (asignación)"
   ]
  },
  {
   "cell_type": "markdown",
   "id": "dcb0f085",
   "metadata": {},
   "source": [
    "### Trabajando con strings"
   ]
  },
  {
   "cell_type": "code",
   "execution_count": null,
   "id": "6e7c3801",
   "metadata": {},
   "outputs": [],
   "source": [
    "x = \"Python\"\n",
    "x[-1] == 'n'           # True"
   ]
  },
  {
   "cell_type": "markdown",
   "id": "380c7963",
   "metadata": {},
   "source": [
    "## type()"
   ]
  },
  {
   "cell_type": "code",
   "execution_count": null,
   "id": "e7f6ece4",
   "metadata": {},
   "outputs": [],
   "source": [
    "type(False)"
   ]
  },
  {
   "cell_type": "markdown",
   "id": "18bd64db",
   "metadata": {},
   "source": [
    "## not"
   ]
  },
  {
   "cell_type": "code",
   "execution_count": null,
   "id": "82da5b0c",
   "metadata": {},
   "outputs": [],
   "source": [
    "not True               # False"
   ]
  },
  {
   "cell_type": "code",
   "execution_count": null,
   "id": "c88d5fe1",
   "metadata": {},
   "outputs": [],
   "source": [
    "not False              # True"
   ]
  },
  {
   "cell_type": "markdown",
   "id": "b16df3de",
   "metadata": {},
   "source": [
    "## Distinto ```!=```"
   ]
  },
  {
   "cell_type": "code",
   "execution_count": null,
   "id": "6e1042bc",
   "metadata": {},
   "outputs": [],
   "source": [
    "4 != 4                 # False"
   ]
  },
  {
   "cell_type": "code",
   "execution_count": null,
   "id": "f43b201e",
   "metadata": {},
   "outputs": [],
   "source": [
    "4 != 5                 # True"
   ]
  },
  {
   "cell_type": "markdown",
   "id": "bbdaaf93",
   "metadata": {},
   "source": [
    "## Operador ```is``` y operador ```is not```\n",
    "Permiten comparar **objetos idénticos**."
   ]
  },
  {
   "cell_type": "code",
   "execution_count": null,
   "id": "ef86a604",
   "metadata": {},
   "outputs": [],
   "source": [
    "x = 5\n",
    "y = 5\n",
    "x is y                 # True"
   ]
  },
  {
   "cell_type": "markdown",
   "id": "cf79c500",
   "metadata": {},
   "source": [
    "Dos listas son idénticas cuando se trata del mismo objeto, cuando ocupan el mismo lugar en memoria."
   ]
  },
  {
   "cell_type": "code",
   "execution_count": null,
   "id": "e820b6c0",
   "metadata": {},
   "outputs": [],
   "source": [
    "p = [1,2,3]\n",
    "q = [1,2,3]\n",
    "p is q                 # False  ¡Sorpresa!"
   ]
  },
  {
   "cell_type": "code",
   "execution_count": null,
   "id": "d6c03c21",
   "metadata": {},
   "outputs": [],
   "source": [
    "p is not q             # True"
   ]
  },
  {
   "cell_type": "code",
   "execution_count": null,
   "id": "a207ec59",
   "metadata": {},
   "outputs": [],
   "source": [
    "p == q                 # True"
   ]
  },
  {
   "cell_type": "markdown",
   "id": "5a745ab4",
   "metadata": {},
   "source": [
    "### Comprobación con el método ```id()```\n",
    "El método id() devuelve un identificador del **objeto**.  \n",
    "Veamos que ambos identificadores difieren."
   ]
  },
  {
   "cell_type": "code",
   "execution_count": null,
   "id": "59833715",
   "metadata": {},
   "outputs": [],
   "source": [
    "id(p)                  # identificador del objeto"
   ]
  },
  {
   "cell_type": "code",
   "execution_count": null,
   "id": "f61f6ed2",
   "metadata": {},
   "outputs": [],
   "source": [
    "id(q)                  # un identificador distinto"
   ]
  }
 ],
 "metadata": {
  "kernelspec": {
   "display_name": "Python 3",
   "language": "python",
   "name": "python3"
  },
  "language_info": {
   "codemirror_mode": {
    "name": "ipython",
    "version": 3
   },
   "file_extension": ".py",
   "mimetype": "text/x-python",
   "name": "python",
   "nbconvert_exporter": "python",
   "pygments_lexer": "ipython3",
   "version": "3.8.8"
  }
 },
 "nbformat": 4,
 "nbformat_minor": 5
}
