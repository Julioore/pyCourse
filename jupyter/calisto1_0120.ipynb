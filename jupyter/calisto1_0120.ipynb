{
  "cells": [
    {
      "cell_type": "markdown",
      "metadata": {
        "id": "view-in-github",
        "colab_type": "text"
      },
      "source": [
        "<a href=\"https://colab.research.google.com/github/financieras/pyCourse/blob/main/jupyter/calisto1_0120.ipynb\" target=\"_parent\"><img src=\"https://colab.research.google.com/assets/colab-badge.svg\" alt=\"Open In Colab\"/></a>"
      ]
    },
    {
      "cell_type": "markdown",
      "id": "b7786f7a",
      "metadata": {
        "id": "b7786f7a"
      },
      "source": [
        "# Booleanos: True, False\n"
      ]
    },
    {
      "cell_type": "code",
      "execution_count": null,
      "id": "df8694c5",
      "metadata": {
        "id": "df8694c5",
        "outputId": "d190f103-7dc1-438e-9c5a-8015d9652aa1"
      },
      "outputs": [
        {
          "data": {
            "text/plain": [
              "True"
            ]
          },
          "execution_count": 1,
          "metadata": {},
          "output_type": "execute_result"
        }
      ],
      "source": [
        "5 == 5                 # True       Operador de comparación: 'Igual a'"
      ]
    },
    {
      "cell_type": "code",
      "execution_count": null,
      "id": "2528485c",
      "metadata": {
        "id": "2528485c",
        "outputId": "924de65d-407b-420d-fc00-c7c2f504134d"
      },
      "outputs": [
        {
          "data": {
            "text/plain": [
              "False"
            ]
          },
          "execution_count": 2,
          "metadata": {},
          "output_type": "execute_result"
        }
      ],
      "source": [
        "5 >= 7                 # False      Mayor o igual que"
      ]
    },
    {
      "cell_type": "code",
      "execution_count": null,
      "id": "57fc1da5",
      "metadata": {
        "id": "57fc1da5",
        "outputId": "993cbeb7-549c-4180-9d68-0deacf59f500"
      },
      "outputs": [
        {
          "data": {
            "text/plain": [
              "False"
            ]
          },
          "execution_count": 3,
          "metadata": {},
          "output_type": "execute_result"
        }
      ],
      "source": [
        "9 == '9'               # False"
      ]
    },
    {
      "cell_type": "code",
      "execution_count": null,
      "id": "db50c39e",
      "metadata": {
        "id": "db50c39e",
        "outputId": "65e07f13-3ab7-49f3-aefc-c1b00771fc8a"
      },
      "outputs": [
        {
          "data": {
            "text/plain": [
              "True"
            ]
          },
          "execution_count": 4,
          "metadata": {},
          "output_type": "execute_result"
        }
      ],
      "source": [
        "'Madrid' > 'Bogotá'    # True"
      ]
    },
    {
      "cell_type": "code",
      "execution_count": null,
      "id": "232a68ba",
      "metadata": {
        "id": "232a68ba",
        "outputId": "8fab2d4e-164a-4589-e793-4beb50ea1a13"
      },
      "outputs": [
        {
          "data": {
            "text/plain": [
              "False"
            ]
          },
          "execution_count": 5,
          "metadata": {},
          "output_type": "execute_result"
        }
      ],
      "source": [
        "4 != 4                 # False    Operador de comparación: Distinto o 'no es igual a'"
      ]
    },
    {
      "cell_type": "markdown",
      "id": "64cab790",
      "metadata": {
        "id": "64cab790"
      },
      "source": [
        "## Comparación de Booleanos"
      ]
    },
    {
      "cell_type": "code",
      "execution_count": null,
      "id": "f68c8a65",
      "metadata": {
        "id": "f68c8a65",
        "outputId": "974d1a97-6ea7-4260-b676-b8564ac0f09d"
      },
      "outputs": [
        {
          "data": {
            "text/plain": [
              "True"
            ]
          },
          "execution_count": 6,
          "metadata": {},
          "output_type": "execute_result"
        }
      ],
      "source": [
        "True == True           # True"
      ]
    },
    {
      "cell_type": "code",
      "execution_count": null,
      "id": "05a3defa",
      "metadata": {
        "id": "05a3defa",
        "outputId": "73163e35-93b4-4a6e-8a6c-5793f8b3547c"
      },
      "outputs": [
        {
          "data": {
            "text/plain": [
              "False"
            ]
          },
          "execution_count": 7,
          "metadata": {},
          "output_type": "execute_result"
        }
      ],
      "source": [
        "True == False          # False"
      ]
    },
    {
      "cell_type": "code",
      "execution_count": null,
      "id": "399a072f",
      "metadata": {
        "id": "399a072f",
        "outputId": "c32fd345-9baf-483f-966a-eb4c9faaf450"
      },
      "outputs": [
        {
          "data": {
            "text/plain": [
              "True"
            ]
          },
          "execution_count": 8,
          "metadata": {},
          "output_type": "execute_result"
        }
      ],
      "source": [
        "True != False          # True"
      ]
    },
    {
      "cell_type": "markdown",
      "id": "f53d11a1",
      "metadata": {
        "id": "f53d11a1"
      },
      "source": [
        "### Veradadero es 1 y Falso es 0"
      ]
    },
    {
      "cell_type": "code",
      "execution_count": null,
      "id": "c971002f",
      "metadata": {
        "id": "c971002f",
        "outputId": "da866296-25b4-4b2d-fe85-5e124064c5ae"
      },
      "outputs": [
        {
          "data": {
            "text/plain": [
              "True"
            ]
          },
          "execution_count": 9,
          "metadata": {},
          "output_type": "execute_result"
        }
      ],
      "source": [
        "True == 1              # True"
      ]
    },
    {
      "cell_type": "code",
      "execution_count": null,
      "id": "1b8e0cdc",
      "metadata": {
        "id": "1b8e0cdc",
        "outputId": "4c85572e-8fe3-47bb-ac9f-1688d8224d47"
      },
      "outputs": [
        {
          "data": {
            "text/plain": [
              "True"
            ]
          },
          "execution_count": 10,
          "metadata": {},
          "output_type": "execute_result"
        }
      ],
      "source": [
        "False == 0             # True"
      ]
    },
    {
      "cell_type": "code",
      "execution_count": null,
      "id": "afb4fe60",
      "metadata": {
        "id": "afb4fe60",
        "outputId": "5e399b3b-f6d2-451f-ded5-1419b84f9572"
      },
      "outputs": [
        {
          "data": {
            "text/plain": [
              "3"
            ]
          },
          "execution_count": 11,
          "metadata": {},
          "output_type": "execute_result"
        }
      ],
      "source": [
        "True *3                # 3"
      ]
    },
    {
      "cell_type": "code",
      "execution_count": null,
      "id": "bd7872b7",
      "metadata": {
        "id": "bd7872b7",
        "outputId": "492c5c0e-315d-4039-9534-262ea9fdcf29"
      },
      "outputs": [
        {
          "data": {
            "text/plain": [
              "-1"
            ]
          },
          "execution_count": 12,
          "metadata": {},
          "output_type": "execute_result"
        }
      ],
      "source": [
        "2*(-True)+False+True   # -1"
      ]
    },
    {
      "cell_type": "code",
      "execution_count": null,
      "id": "e44b9664",
      "metadata": {
        "id": "e44b9664",
        "outputId": "36203f07-a5b5-4d3c-b058-9b238a13937c"
      },
      "outputs": [
        {
          "data": {
            "text/plain": [
              "True"
            ]
          },
          "execution_count": 13,
          "metadata": {},
          "output_type": "execute_result"
        }
      ],
      "source": [
        "True > False           # True"
      ]
    },
    {
      "cell_type": "code",
      "execution_count": null,
      "id": "62e8618c",
      "metadata": {
        "id": "62e8618c",
        "outputId": "d0069387-75e2-424b-8959-b04c27e06010"
      },
      "outputs": [
        {
          "data": {
            "text/plain": [
              "False"
            ]
          },
          "execution_count": 14,
          "metadata": {},
          "output_type": "execute_result"
        }
      ],
      "source": [
        "False > True           # False"
      ]
    },
    {
      "cell_type": "code",
      "execution_count": null,
      "id": "ef4904f4",
      "metadata": {
        "id": "ef4904f4",
        "outputId": "20aff96f-666f-4b28-a33d-4f23fac58083"
      },
      "outputs": [
        {
          "data": {
            "text/plain": [
              "0"
            ]
          },
          "execution_count": 15,
          "metadata": {},
          "output_type": "execute_result"
        }
      ],
      "source": [
        "True * False           # 0"
      ]
    },
    {
      "cell_type": "markdown",
      "id": "3a67c098",
      "metadata": {
        "id": "3a67c098"
      },
      "source": [
        "## Comparando varios simultáneamente"
      ]
    },
    {
      "cell_type": "code",
      "execution_count": null,
      "id": "95560b07",
      "metadata": {
        "id": "95560b07",
        "outputId": "fa7f2700-0b0b-4949-8892-0e8999ecd750"
      },
      "outputs": [
        {
          "data": {
            "text/plain": [
              "True"
            ]
          },
          "execution_count": 16,
          "metadata": {},
          "output_type": "execute_result"
        }
      ],
      "source": [
        "1 < 2 < 3              # True"
      ]
    },
    {
      "cell_type": "markdown",
      "id": "2312cf05",
      "metadata": {
        "id": "2312cf05"
      },
      "source": [
        "## Operando con variables"
      ]
    },
    {
      "cell_type": "code",
      "execution_count": null,
      "id": "a3520208",
      "metadata": {
        "id": "a3520208",
        "outputId": "d8b3b567-9dc9-4994-d663-5e164ff9ab72"
      },
      "outputs": [
        {
          "data": {
            "text/plain": [
              "True"
            ]
          },
          "execution_count": 17,
          "metadata": {},
          "output_type": "execute_result"
        }
      ],
      "source": [
        "a = 5\n",
        "b = 10\n",
        "b == 2*a               # True   No confundir == (comparación) con = (asignación)"
      ]
    },
    {
      "cell_type": "markdown",
      "id": "dcb0f085",
      "metadata": {
        "id": "dcb0f085"
      },
      "source": [
        "### Trabajando con strings"
      ]
    },
    {
      "cell_type": "code",
      "execution_count": null,
      "id": "6e7c3801",
      "metadata": {
        "id": "6e7c3801",
        "outputId": "73303256-8251-475f-d735-50bc61cdf653"
      },
      "outputs": [
        {
          "data": {
            "text/plain": [
              "True"
            ]
          },
          "execution_count": 18,
          "metadata": {},
          "output_type": "execute_result"
        }
      ],
      "source": [
        "x = \"Python\"\n",
        "x[-1] == 'n'           # True"
      ]
    },
    {
      "cell_type": "markdown",
      "id": "380c7963",
      "metadata": {
        "id": "380c7963"
      },
      "source": [
        "## type()"
      ]
    },
    {
      "cell_type": "code",
      "execution_count": null,
      "id": "e7f6ece4",
      "metadata": {
        "id": "e7f6ece4",
        "outputId": "f923fee9-9b1d-4ed5-a552-eeef1984edb7"
      },
      "outputs": [
        {
          "data": {
            "text/plain": [
              "bool"
            ]
          },
          "execution_count": 19,
          "metadata": {},
          "output_type": "execute_result"
        }
      ],
      "source": [
        "type(False)"
      ]
    },
    {
      "cell_type": "code",
      "execution_count": null,
      "id": "49d448d5",
      "metadata": {
        "id": "49d448d5",
        "outputId": "1f3507da-a6b6-4bff-fafc-54c0a772e323"
      },
      "outputs": [
        {
          "data": {
            "text/plain": [
              "int"
            ]
          },
          "execution_count": 20,
          "metadata": {},
          "output_type": "execute_result"
        }
      ],
      "source": [
        "type(5)"
      ]
    },
    {
      "cell_type": "code",
      "execution_count": null,
      "id": "78106204",
      "metadata": {
        "id": "78106204",
        "outputId": "1a37abc7-0022-44b0-e7e1-992943fd195e"
      },
      "outputs": [
        {
          "data": {
            "text/plain": [
              "str"
            ]
          },
          "execution_count": 21,
          "metadata": {},
          "output_type": "execute_result"
        }
      ],
      "source": [
        "type(\"Hola\")"
      ]
    },
    {
      "cell_type": "markdown",
      "id": "18bd64db",
      "metadata": {
        "id": "18bd64db"
      },
      "source": [
        "## not"
      ]
    },
    {
      "cell_type": "code",
      "execution_count": null,
      "id": "82da5b0c",
      "metadata": {
        "id": "82da5b0c",
        "outputId": "934a752d-e656-40b1-ede3-55af4f1699c9"
      },
      "outputs": [
        {
          "data": {
            "text/plain": [
              "False"
            ]
          },
          "execution_count": 22,
          "metadata": {},
          "output_type": "execute_result"
        }
      ],
      "source": [
        "not True               # False"
      ]
    },
    {
      "cell_type": "code",
      "execution_count": null,
      "id": "c88d5fe1",
      "metadata": {
        "id": "c88d5fe1",
        "outputId": "b07ef59a-e52c-4a8e-ae4f-f4dd142f2a85"
      },
      "outputs": [
        {
          "data": {
            "text/plain": [
              "True"
            ]
          },
          "execution_count": 23,
          "metadata": {},
          "output_type": "execute_result"
        }
      ],
      "source": [
        "not False              # True"
      ]
    },
    {
      "cell_type": "markdown",
      "id": "b16df3de",
      "metadata": {
        "id": "b16df3de"
      },
      "source": [
        "## Distinto ```!=```"
      ]
    },
    {
      "cell_type": "code",
      "execution_count": null,
      "id": "6e1042bc",
      "metadata": {
        "id": "6e1042bc",
        "outputId": "bc2d676d-f278-4412-84b0-531da54bd126"
      },
      "outputs": [
        {
          "data": {
            "text/plain": [
              "False"
            ]
          },
          "execution_count": 24,
          "metadata": {},
          "output_type": "execute_result"
        }
      ],
      "source": [
        "4 != 4                 # False"
      ]
    },
    {
      "cell_type": "code",
      "execution_count": null,
      "id": "f43b201e",
      "metadata": {
        "id": "f43b201e",
        "outputId": "89e57e94-7515-428e-994e-bc8a4a6dd4c5"
      },
      "outputs": [
        {
          "data": {
            "text/plain": [
              "True"
            ]
          },
          "execution_count": 25,
          "metadata": {},
          "output_type": "execute_result"
        }
      ],
      "source": [
        "4 != 5                 # True"
      ]
    },
    {
      "cell_type": "markdown",
      "id": "bbdaaf93",
      "metadata": {
        "id": "bbdaaf93"
      },
      "source": [
        "## Operador ```is``` y operador ```is not```\n",
        "Permiten comparar **objetos idénticos**."
      ]
    },
    {
      "cell_type": "code",
      "execution_count": null,
      "id": "ef86a604",
      "metadata": {
        "id": "ef86a604",
        "outputId": "ed578850-b997-46ad-a1b8-a9beb23c30b9"
      },
      "outputs": [
        {
          "data": {
            "text/plain": [
              "True"
            ]
          },
          "execution_count": 26,
          "metadata": {},
          "output_type": "execute_result"
        }
      ],
      "source": [
        "x = 5\n",
        "y = 5\n",
        "x is y                 # True"
      ]
    },
    {
      "cell_type": "markdown",
      "id": "cf79c500",
      "metadata": {
        "id": "cf79c500"
      },
      "source": [
        "Dos listas son idénticas cuando se trata del mismo objeto, cuando ocupan el mismo lugar en memoria."
      ]
    },
    {
      "cell_type": "code",
      "execution_count": null,
      "id": "e820b6c0",
      "metadata": {
        "id": "e820b6c0",
        "outputId": "c4afc358-3e4e-404d-c2f5-b13a8c91c24e"
      },
      "outputs": [
        {
          "data": {
            "text/plain": [
              "False"
            ]
          },
          "execution_count": 27,
          "metadata": {},
          "output_type": "execute_result"
        }
      ],
      "source": [
        "p = [1,2,3]\n",
        "q = [1,2,3]\n",
        "p is q                 # False  ¡Sorpresa!"
      ]
    },
    {
      "cell_type": "code",
      "execution_count": null,
      "id": "d6c03c21",
      "metadata": {
        "id": "d6c03c21",
        "outputId": "55e753c2-ef10-4c6d-cd3d-1d991b4e4e21"
      },
      "outputs": [
        {
          "data": {
            "text/plain": [
              "True"
            ]
          },
          "execution_count": 28,
          "metadata": {},
          "output_type": "execute_result"
        }
      ],
      "source": [
        "p is not q             # True"
      ]
    },
    {
      "cell_type": "code",
      "execution_count": null,
      "id": "a207ec59",
      "metadata": {
        "id": "a207ec59",
        "outputId": "ae3a1f16-4b1a-4ed9-e0c0-93e7724d2cc4"
      },
      "outputs": [
        {
          "data": {
            "text/plain": [
              "True"
            ]
          },
          "execution_count": 29,
          "metadata": {},
          "output_type": "execute_result"
        }
      ],
      "source": [
        "p == q                 # True"
      ]
    },
    {
      "cell_type": "markdown",
      "id": "5a745ab4",
      "metadata": {
        "id": "5a745ab4"
      },
      "source": [
        "### Comprobación con el método ```id()```\n",
        "El método id() devuelve un identificador del **objeto**.  \n",
        "Veamos que ambos identificadores difieren."
      ]
    },
    {
      "cell_type": "code",
      "execution_count": null,
      "id": "59833715",
      "metadata": {
        "id": "59833715",
        "outputId": "a8c629dd-aaae-4ec9-84bf-e9d979ef1e2f"
      },
      "outputs": [
        {
          "data": {
            "text/plain": [
              "140071030666688"
            ]
          },
          "execution_count": 30,
          "metadata": {},
          "output_type": "execute_result"
        }
      ],
      "source": [
        "id(p)                  # identificador del objeto"
      ]
    },
    {
      "cell_type": "code",
      "execution_count": null,
      "id": "f61f6ed2",
      "metadata": {
        "id": "f61f6ed2",
        "outputId": "9ef96896-3c54-4cbd-ad6c-2e00da4e267a"
      },
      "outputs": [
        {
          "data": {
            "text/plain": [
              "140071030835264"
            ]
          },
          "execution_count": 31,
          "metadata": {},
          "output_type": "execute_result"
        }
      ],
      "source": [
        "id(q)                  # un identificador distinto"
      ]
    },
    {
      "cell_type": "markdown",
      "id": "233a517f",
      "metadata": {
        "id": "233a517f"
      },
      "source": [
        "### Idéntica lista"
      ]
    },
    {
      "cell_type": "code",
      "execution_count": null,
      "id": "8b34e1bf",
      "metadata": {
        "id": "8b34e1bf",
        "outputId": "80d15d11-d4c2-4d02-aedb-a3f703c6261d"
      },
      "outputs": [
        {
          "data": {
            "text/plain": [
              "[1, 2, 3]"
            ]
          },
          "execution_count": 32,
          "metadata": {},
          "output_type": "execute_result"
        }
      ],
      "source": [
        "p=[1,2,3]\n",
        "q = p                  # q es una lista idéntica a p\n",
        "q"
      ]
    },
    {
      "cell_type": "code",
      "execution_count": null,
      "id": "48f91131",
      "metadata": {
        "id": "48f91131",
        "outputId": "3d5a7cef-d30b-4728-e5ea-8d06311284fd"
      },
      "outputs": [
        {
          "data": {
            "text/plain": [
              "True"
            ]
          },
          "execution_count": 33,
          "metadata": {},
          "output_type": "execute_result"
        }
      ],
      "source": [
        "q is p                 # ambas listas ocupan el mismo lugar de memoria"
      ]
    },
    {
      "cell_type": "code",
      "execution_count": null,
      "id": "bcd834b9",
      "metadata": {
        "id": "bcd834b9",
        "outputId": "ae19a29c-53a8-45a5-88ca-0e6fe77405b5"
      },
      "outputs": [
        {
          "data": {
            "text/plain": [
              "140071030839168"
            ]
          },
          "execution_count": 34,
          "metadata": {},
          "output_type": "execute_result"
        }
      ],
      "source": [
        "id(p)                  # el identificador de la lista p"
      ]
    },
    {
      "cell_type": "code",
      "execution_count": null,
      "id": "68b2bfae",
      "metadata": {
        "id": "68b2bfae",
        "outputId": "29699e1d-fcac-4213-a36d-fabb12f25d7b"
      },
      "outputs": [
        {
          "data": {
            "text/plain": [
              "140071030839168"
            ]
          },
          "execution_count": 35,
          "metadata": {},
          "output_type": "execute_result"
        }
      ],
      "source": [
        "id(q)                  # es el mismo que el identificado de la lista q"
      ]
    },
    {
      "cell_type": "code",
      "execution_count": null,
      "id": "28a03dc9",
      "metadata": {
        "id": "28a03dc9"
      },
      "outputs": [],
      "source": [
        ""
      ]
    }
  ],
  "metadata": {
    "kernelspec": {
      "display_name": "Python 3",
      "language": "python",
      "name": "python3"
    },
    "language_info": {
      "codemirror_mode": {
        "name": "ipython",
        "version": 3
      },
      "file_extension": ".py",
      "mimetype": "text/x-python",
      "name": "python",
      "nbconvert_exporter": "python",
      "pygments_lexer": "ipython3",
      "version": "3.8.8"
    },
    "colab": {
      "name": "calisto1_0120.ipynb",
      "provenance": [],
      "include_colab_link": true
    }
  },
  "nbformat": 4,
  "nbformat_minor": 5
}