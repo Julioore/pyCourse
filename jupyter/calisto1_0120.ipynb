{
 "cells": [
  {
   "cell_type": "markdown",
   "id": "b7786f7a",
   "metadata": {},
   "source": [
    "# Booleanos: True, False\n"
   ]
  },
  {
   "cell_type": "code",
   "execution_count": 1,
   "id": "df8694c5",
   "metadata": {},
   "outputs": [
    {
     "data": {
      "text/plain": [
       "True"
      ]
     },
     "execution_count": 1,
     "metadata": {},
     "output_type": "execute_result"
    }
   ],
   "source": [
    "5 == 5                 # True       Operador de comparación: 'Igual a'"
   ]
  },
  {
   "cell_type": "code",
   "execution_count": 2,
   "id": "2528485c",
   "metadata": {},
   "outputs": [
    {
     "data": {
      "text/plain": [
       "False"
      ]
     },
     "execution_count": 2,
     "metadata": {},
     "output_type": "execute_result"
    }
   ],
   "source": [
    "5 >= 7                 # False      Mayor o igual que"
   ]
  },
  {
   "cell_type": "code",
   "execution_count": 3,
   "id": "57fc1da5",
   "metadata": {},
   "outputs": [
    {
     "data": {
      "text/plain": [
       "False"
      ]
     },
     "execution_count": 3,
     "metadata": {},
     "output_type": "execute_result"
    }
   ],
   "source": [
    "9 == '9'               # False"
   ]
  },
  {
   "cell_type": "code",
   "execution_count": 4,
   "id": "db50c39e",
   "metadata": {},
   "outputs": [
    {
     "data": {
      "text/plain": [
       "True"
      ]
     },
     "execution_count": 4,
     "metadata": {},
     "output_type": "execute_result"
    }
   ],
   "source": [
    "'Madrid' > 'Bogotá'    # True"
   ]
  },
  {
   "cell_type": "code",
   "execution_count": 5,
   "id": "232a68ba",
   "metadata": {},
   "outputs": [
    {
     "data": {
      "text/plain": [
       "False"
      ]
     },
     "execution_count": 5,
     "metadata": {},
     "output_type": "execute_result"
    }
   ],
   "source": [
    "4 != 4                 # False    Operador de comparación: Distinto o 'no es igual a'"
   ]
  },
  {
   "cell_type": "markdown",
   "id": "64cab790",
   "metadata": {},
   "source": [
    "## Comparación de Booleanos"
   ]
  },
  {
   "cell_type": "code",
   "execution_count": 6,
   "id": "f68c8a65",
   "metadata": {},
   "outputs": [
    {
     "data": {
      "text/plain": [
       "True"
      ]
     },
     "execution_count": 6,
     "metadata": {},
     "output_type": "execute_result"
    }
   ],
   "source": [
    "True == True           # True"
   ]
  },
  {
   "cell_type": "code",
   "execution_count": 7,
   "id": "05a3defa",
   "metadata": {},
   "outputs": [
    {
     "data": {
      "text/plain": [
       "False"
      ]
     },
     "execution_count": 7,
     "metadata": {},
     "output_type": "execute_result"
    }
   ],
   "source": [
    "True == False          # False"
   ]
  },
  {
   "cell_type": "code",
   "execution_count": 8,
   "id": "399a072f",
   "metadata": {},
   "outputs": [
    {
     "data": {
      "text/plain": [
       "True"
      ]
     },
     "execution_count": 8,
     "metadata": {},
     "output_type": "execute_result"
    }
   ],
   "source": [
    "True != False          # True"
   ]
  },
  {
   "cell_type": "markdown",
   "id": "f53d11a1",
   "metadata": {},
   "source": [
    "### Veradadero es 1 y Falso es 0"
   ]
  },
  {
   "cell_type": "code",
   "execution_count": 9,
   "id": "c971002f",
   "metadata": {},
   "outputs": [
    {
     "data": {
      "text/plain": [
       "True"
      ]
     },
     "execution_count": 9,
     "metadata": {},
     "output_type": "execute_result"
    }
   ],
   "source": [
    "True == 1              # True"
   ]
  },
  {
   "cell_type": "code",
   "execution_count": 10,
   "id": "1b8e0cdc",
   "metadata": {},
   "outputs": [
    {
     "data": {
      "text/plain": [
       "True"
      ]
     },
     "execution_count": 10,
     "metadata": {},
     "output_type": "execute_result"
    }
   ],
   "source": [
    "False == 0             # True"
   ]
  },
  {
   "cell_type": "code",
   "execution_count": 11,
   "id": "afb4fe60",
   "metadata": {},
   "outputs": [
    {
     "data": {
      "text/plain": [
       "3"
      ]
     },
     "execution_count": 11,
     "metadata": {},
     "output_type": "execute_result"
    }
   ],
   "source": [
    "True *3                # 3"
   ]
  },
  {
   "cell_type": "code",
   "execution_count": 12,
   "id": "bd7872b7",
   "metadata": {},
   "outputs": [
    {
     "data": {
      "text/plain": [
       "-1"
      ]
     },
     "execution_count": 12,
     "metadata": {},
     "output_type": "execute_result"
    }
   ],
   "source": [
    "2*(-True)+False+True   # -1"
   ]
  },
  {
   "cell_type": "code",
   "execution_count": 13,
   "id": "e44b9664",
   "metadata": {},
   "outputs": [
    {
     "data": {
      "text/plain": [
       "True"
      ]
     },
     "execution_count": 13,
     "metadata": {},
     "output_type": "execute_result"
    }
   ],
   "source": [
    "True > False           # True"
   ]
  },
  {
   "cell_type": "code",
   "execution_count": 14,
   "id": "62e8618c",
   "metadata": {},
   "outputs": [
    {
     "data": {
      "text/plain": [
       "False"
      ]
     },
     "execution_count": 14,
     "metadata": {},
     "output_type": "execute_result"
    }
   ],
   "source": [
    "False > True           # False"
   ]
  },
  {
   "cell_type": "code",
   "execution_count": 15,
   "id": "ef4904f4",
   "metadata": {},
   "outputs": [
    {
     "data": {
      "text/plain": [
       "0"
      ]
     },
     "execution_count": 15,
     "metadata": {},
     "output_type": "execute_result"
    }
   ],
   "source": [
    "True * False           # 0"
   ]
  },
  {
   "cell_type": "markdown",
   "id": "3a67c098",
   "metadata": {},
   "source": [
    "## Comparando varios simultáneamente"
   ]
  },
  {
   "cell_type": "code",
   "execution_count": 16,
   "id": "95560b07",
   "metadata": {},
   "outputs": [
    {
     "data": {
      "text/plain": [
       "True"
      ]
     },
     "execution_count": 16,
     "metadata": {},
     "output_type": "execute_result"
    }
   ],
   "source": [
    "1 < 2 < 3              # True"
   ]
  },
  {
   "cell_type": "markdown",
   "id": "2312cf05",
   "metadata": {},
   "source": [
    "## Operando con variables"
   ]
  },
  {
   "cell_type": "code",
   "execution_count": 17,
   "id": "a3520208",
   "metadata": {},
   "outputs": [
    {
     "data": {
      "text/plain": [
       "True"
      ]
     },
     "execution_count": 17,
     "metadata": {},
     "output_type": "execute_result"
    }
   ],
   "source": [
    "a = 5\n",
    "b = 10\n",
    "b == 2*a               # True     No confundir == (comparación) con = (asignación)"
   ]
  },
  {
   "cell_type": "markdown",
   "id": "dcb0f085",
   "metadata": {},
   "source": [
    "### Trabajando con strings"
   ]
  },
  {
   "cell_type": "code",
   "execution_count": 18,
   "id": "6e7c3801",
   "metadata": {},
   "outputs": [
    {
     "data": {
      "text/plain": [
       "True"
      ]
     },
     "execution_count": 18,
     "metadata": {},
     "output_type": "execute_result"
    }
   ],
   "source": [
    "x = \"Python\"\n",
    "x[-1] == 'n'           # True"
   ]
  },
  {
   "cell_type": "markdown",
   "id": "380c7963",
   "metadata": {},
   "source": [
    "## type()"
   ]
  },
  {
   "cell_type": "code",
   "execution_count": 19,
   "id": "e7f6ece4",
   "metadata": {},
   "outputs": [
    {
     "data": {
      "text/plain": [
       "bool"
      ]
     },
     "execution_count": 19,
     "metadata": {},
     "output_type": "execute_result"
    }
   ],
   "source": [
    "type(False)"
   ]
  },
  {
   "cell_type": "code",
   "execution_count": 20,
   "id": "49d448d5",
   "metadata": {},
   "outputs": [
    {
     "data": {
      "text/plain": [
       "int"
      ]
     },
     "execution_count": 20,
     "metadata": {},
     "output_type": "execute_result"
    }
   ],
   "source": [
    "type(5)"
   ]
  },
  {
   "cell_type": "code",
   "execution_count": 21,
   "id": "78106204",
   "metadata": {},
   "outputs": [
    {
     "data": {
      "text/plain": [
       "str"
      ]
     },
     "execution_count": 21,
     "metadata": {},
     "output_type": "execute_result"
    }
   ],
   "source": [
    "type(\"Hola\")"
   ]
  },
  {
   "cell_type": "markdown",
   "id": "18bd64db",
   "metadata": {},
   "source": [
    "## not"
   ]
  },
  {
   "cell_type": "code",
   "execution_count": 22,
   "id": "82da5b0c",
   "metadata": {},
   "outputs": [
    {
     "data": {
      "text/plain": [
       "False"
      ]
     },
     "execution_count": 22,
     "metadata": {},
     "output_type": "execute_result"
    }
   ],
   "source": [
    "not True               # False"
   ]
  },
  {
   "cell_type": "code",
   "execution_count": 23,
   "id": "c88d5fe1",
   "metadata": {},
   "outputs": [
    {
     "data": {
      "text/plain": [
       "True"
      ]
     },
     "execution_count": 23,
     "metadata": {},
     "output_type": "execute_result"
    }
   ],
   "source": [
    "not False              # True"
   ]
  },
  {
   "cell_type": "markdown",
   "id": "b16df3de",
   "metadata": {},
   "source": [
    "## Distinto ```!=```"
   ]
  },
  {
   "cell_type": "code",
   "execution_count": 24,
   "id": "6e1042bc",
   "metadata": {},
   "outputs": [
    {
     "data": {
      "text/plain": [
       "False"
      ]
     },
     "execution_count": 24,
     "metadata": {},
     "output_type": "execute_result"
    }
   ],
   "source": [
    "4 != 4                 # False"
   ]
  },
  {
   "cell_type": "code",
   "execution_count": 25,
   "id": "f43b201e",
   "metadata": {},
   "outputs": [
    {
     "data": {
      "text/plain": [
       "True"
      ]
     },
     "execution_count": 25,
     "metadata": {},
     "output_type": "execute_result"
    }
   ],
   "source": [
    "4 != 5                 # True"
   ]
  },
  {
   "cell_type": "markdown",
   "id": "bbdaaf93",
   "metadata": {},
   "source": [
    "## Operador ```is``` y operador ```is not```\n",
    "Permiten comparar **objetos idénticos**."
   ]
  },
  {
   "cell_type": "code",
   "execution_count": 26,
   "id": "ef86a604",
   "metadata": {},
   "outputs": [
    {
     "data": {
      "text/plain": [
       "True"
      ]
     },
     "execution_count": 26,
     "metadata": {},
     "output_type": "execute_result"
    }
   ],
   "source": [
    "x = 5\n",
    "y = 5\n",
    "x is y                 # True"
   ]
  },
  {
   "cell_type": "markdown",
   "id": "cf79c500",
   "metadata": {},
   "source": [
    "Dos listas son idénticas cuando se trata del mismo objeto, cuando ocupan el mismo lugar en memoria."
   ]
  },
  {
   "cell_type": "code",
   "execution_count": 27,
   "id": "e820b6c0",
   "metadata": {},
   "outputs": [
    {
     "data": {
      "text/plain": [
       "False"
      ]
     },
     "execution_count": 27,
     "metadata": {},
     "output_type": "execute_result"
    }
   ],
   "source": [
    "p = [1,2,3]\n",
    "q = [1,2,3]\n",
    "p is q                 # False  ¡Sorpresa!"
   ]
  },
  {
   "cell_type": "code",
   "execution_count": 28,
   "id": "d6c03c21",
   "metadata": {},
   "outputs": [
    {
     "data": {
      "text/plain": [
       "True"
      ]
     },
     "execution_count": 28,
     "metadata": {},
     "output_type": "execute_result"
    }
   ],
   "source": [
    "p is not q             # True"
   ]
  },
  {
   "cell_type": "code",
   "execution_count": 29,
   "id": "a207ec59",
   "metadata": {},
   "outputs": [
    {
     "data": {
      "text/plain": [
       "True"
      ]
     },
     "execution_count": 29,
     "metadata": {},
     "output_type": "execute_result"
    }
   ],
   "source": [
    "p == q                 # True"
   ]
  },
  {
   "cell_type": "markdown",
   "id": "5a745ab4",
   "metadata": {},
   "source": [
    "### Comprobación con el método ```id()```\n",
    "El método id() devuelve un identificador del **objeto**.  \n",
    "Veamos que ambos identificadores difieren."
   ]
  },
  {
   "cell_type": "code",
   "execution_count": 30,
   "id": "59833715",
   "metadata": {},
   "outputs": [
    {
     "data": {
      "text/plain": [
       "140071030666688"
      ]
     },
     "execution_count": 30,
     "metadata": {},
     "output_type": "execute_result"
    }
   ],
   "source": [
    "id(p)                  # identificador del objeto"
   ]
  },
  {
   "cell_type": "code",
   "execution_count": 31,
   "id": "f61f6ed2",
   "metadata": {},
   "outputs": [
    {
     "data": {
      "text/plain": [
       "140071030835264"
      ]
     },
     "execution_count": 31,
     "metadata": {},
     "output_type": "execute_result"
    }
   ],
   "source": [
    "id(q)                  # un identificador distinto"
   ]
  },
  {
   "cell_type": "markdown",
   "id": "233a517f",
   "metadata": {},
   "source": [
    "### Idéntica lista"
   ]
  },
  {
   "cell_type": "code",
   "execution_count": 32,
   "id": "8b34e1bf",
   "metadata": {},
   "outputs": [
    {
     "data": {
      "text/plain": [
       "[1, 2, 3]"
      ]
     },
     "execution_count": 32,
     "metadata": {},
     "output_type": "execute_result"
    }
   ],
   "source": [
    "p=[1,2,3]\n",
    "q = p                  # q es una lista idéntica a p\n",
    "q"
   ]
  },
  {
   "cell_type": "code",
   "execution_count": 33,
   "id": "48f91131",
   "metadata": {},
   "outputs": [
    {
     "data": {
      "text/plain": [
       "True"
      ]
     },
     "execution_count": 33,
     "metadata": {},
     "output_type": "execute_result"
    }
   ],
   "source": [
    "q is p                 # ambas listas ocupan el mismo lugar de memoria"
   ]
  },
  {
   "cell_type": "code",
   "execution_count": 34,
   "id": "bcd834b9",
   "metadata": {},
   "outputs": [
    {
     "data": {
      "text/plain": [
       "140071030839168"
      ]
     },
     "execution_count": 34,
     "metadata": {},
     "output_type": "execute_result"
    }
   ],
   "source": [
    "id(p)                  # el identificador de la lista p"
   ]
  },
  {
   "cell_type": "code",
   "execution_count": 35,
   "id": "68b2bfae",
   "metadata": {},
   "outputs": [
    {
     "data": {
      "text/plain": [
       "140071030839168"
      ]
     },
     "execution_count": 35,
     "metadata": {},
     "output_type": "execute_result"
    }
   ],
   "source": [
    "id(q)                  # es el mismo que el identificado de la lista q"
   ]
  },
  {
   "cell_type": "code",
   "execution_count": null,
   "id": "28a03dc9",
   "metadata": {},
   "outputs": [],
   "source": []
  }
 ],
 "metadata": {
  "kernelspec": {
   "display_name": "Python 3",
   "language": "python",
   "name": "python3"
  },
  "language_info": {
   "codemirror_mode": {
    "name": "ipython",
    "version": 3
   },
   "file_extension": ".py",
   "mimetype": "text/x-python",
   "name": "python",
   "nbconvert_exporter": "python",
   "pygments_lexer": "ipython3",
   "version": "3.8.8"
  }
 },
 "nbformat": 4,
 "nbformat_minor": 5
}
