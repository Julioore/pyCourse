{
 "cells": [
  {
   "cell_type": "markdown",
   "id": "52613fec",
   "metadata": {},
   "source": [
    "# Funciones: Parámetros"
   ]
  },
  {
   "cell_type": "markdown",
   "id": "2a5c1bda",
   "metadata": {},
   "source": [
    "## Parámetros por defecto"
   ]
  },
  {
   "cell_type": "code",
   "execution_count": 2,
   "id": "7b12992d",
   "metadata": {},
   "outputs": [
    {
     "name": "stdout",
     "output_type": "stream",
     "text": [
      "Hola Jose\n"
     ]
    }
   ],
   "source": [
    "def saludar(nombre, mensaje='Hola'): \n",
    "    print(mensaje, nombre) \n",
    "\n",
    "saludar('Jose')                       # Hola Jose"
   ]
  },
  {
   "cell_type": "markdown",
   "id": "0ec4a673",
   "metadata": {},
   "source": [
    "## Pasar parámetros como palabras clave"
   ]
  },
  {
   "cell_type": "code",
   "execution_count": 5,
   "id": "ae917b0e",
   "metadata": {},
   "outputs": [
    {
     "name": "stdout",
     "output_type": "stream",
     "text": [
      "Buenos días Laura\n"
     ]
    }
   ],
   "source": [
    "def saludar(nombre, mensaje): \n",
    "    print(mensaje, nombre) \n",
    "\n",
    "saludar(mensaje =\"Buendos días, nombre='Laura') "
   ]
  }
 ],
 "metadata": {
  "kernelspec": {
   "display_name": "Python 3",
   "language": "python",
   "name": "python3"
  },
  "language_info": {
   "codemirror_mode": {
    "name": "ipython",
    "version": 3
   },
   "file_extension": ".py",
   "mimetype": "text/x-python",
   "name": "python",
   "nbconvert_exporter": "python",
   "pygments_lexer": "ipython3",
   "version": "3.8.10"
  }
 },
 "nbformat": 4,
 "nbformat_minor": 5
}
