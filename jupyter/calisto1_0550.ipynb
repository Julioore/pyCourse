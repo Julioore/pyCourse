{
 "cells": [
  {
   "cell_type": "markdown",
   "id": "fdb04949",
   "metadata": {},
   "source": [
    "# Funciones. Variables globales y variables locales [1]"
   ]
  },
  {
   "cell_type": "markdown",
   "id": "205cfc5e",
   "metadata": {},
   "source": [
    "Las variables que se crean fuera de una función son globales y se pueden usar dentro y fuera."
   ]
  },
  {
   "cell_type": "code",
   "execution_count": 1,
   "id": "2cdb7331",
   "metadata": {},
   "outputs": [
    {
     "name": "stdout",
     "output_type": "stream",
     "text": [
      "Este año elegiré playa\n"
     ]
    }
   ],
   "source": [
    "destino=\"playa\"\n",
    "def vacaciones():\n",
    "    print(\"Este año elegiré \" + destino)\n",
    "vacaciones()"
   ]
  },
  {
   "cell_type": "markdown",
   "id": "84ba46ef",
   "metadata": {},
   "source": [
    "Las variables creadas dentro de una función son locales y restringen su ámbito a la función."
   ]
  },
  {
   "cell_type": "code",
   "execution_count": 4,
   "id": "1cfcdb76",
   "metadata": {},
   "outputs": [
    {
     "name": "stdout",
     "output_type": "stream",
     "text": [
      "Habitualmente comienzo a trabajar a las 8:00\n"
     ]
    }
   ],
   "source": [
    "def trabajo():\n",
    "    inicio=\"8:00\"\n",
    "    print(\"Habitualmente comienzo a trabajar a las\",inicio)\n",
    "trabajo()\n",
    "#print(inicio)        #Esto provocará un error ya que la variable inicio no se conoce fuera"
   ]
  },
  {
   "cell_type": "markdown",
   "id": "0e3ba4f2",
   "metadata": {},
   "source": [
    "Creamos una variable con el mismo nombre fuera y dentro. La interna solo actúa dentro."
   ]
  },
  {
   "cell_type": "code",
   "execution_count": 6,
   "id": "cfb91709",
   "metadata": {},
   "outputs": [
    {
     "name": "stdout",
     "output_type": "stream",
     "text": [
      "Voy a organizar una fiesta para 20 invitados\n",
      "¿Cuántos invitados has dicho? 5\n"
     ]
    }
   ],
   "source": [
    "num_invitados=5\n",
    "\n",
    "def fiesta():\n",
    "    num_invitados=20\n",
    "    print(\"Voy a organizar una fiesta para {} invitados\".format(num_invitados))\n",
    "\n",
    "fiesta()\n",
    "print(\"¿Cuántos invitados has dicho?\", num_invitados)"
   ]
  },
  {
   "cell_type": "markdown",
   "id": "d6b0340d",
   "metadata": {},
   "source": [
    "Si dentro de la función se puede definir una variable global poniendo la palabra **global**."
   ]
  },
  {
   "cell_type": "code",
   "execution_count": 7,
   "id": "04eded88",
   "metadata": {},
   "outputs": [
    {
     "name": "stdout",
     "output_type": "stream",
     "text": [
      "El radio de la tierra es de 6371 Km\n",
      "El diámetro de la tierra es de 12742 Km.\n"
     ]
    }
   ],
   "source": [
    "def radio_terrestre():\n",
    "    global radio                      #convertimos la variable en global\n",
    "    radio=6371\n",
    "    print(\"El radio de la tierra es de {} Km\".format(radio))\n",
    "\n",
    "radio_terrestre()\n",
    "print(\"El diámetro de la tierra es de {} Km.\".format(radio*2))"
   ]
  }
 ],
 "metadata": {
  "kernelspec": {
   "display_name": "Python 3",
   "language": "python",
   "name": "python3"
  },
  "language_info": {
   "codemirror_mode": {
    "name": "ipython",
    "version": 3
   },
   "file_extension": ".py",
   "mimetype": "text/x-python",
   "name": "python",
   "nbconvert_exporter": "python",
   "pygments_lexer": "ipython3",
   "version": "3.8.8"
  }
 },
 "nbformat": 4,
 "nbformat_minor": 5
}
