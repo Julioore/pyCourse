{
 "cells": [
  {
   "cell_type": "markdown",
   "id": "a3242bc2",
   "metadata": {},
   "source": [
    "# Bot de Telegram para cotizaciones en tiempo real"
   ]
  },
  {
   "cell_type": "markdown",
   "id": "f7c11379",
   "metadata": {},
   "source": [
    "* [Bot de Telegram para consultar cotizaciones de Bitcoin, Ethereum, Tesla y otros valores](https://altocodigo.blogspot.com/2021/09/bot-de-telegram-para-consultar.html)\n",
    "* [How to make a Telegram bot using Python](https://youtu.be/h1QGky22b-k)\n",
    "* [repositorio](https://github.com/financieras/TelegramCryptoBot.git)"
   ]
  }
 ],
 "metadata": {
  "kernelspec": {
   "display_name": "Python 3 (ipykernel)",
   "language": "python",
   "name": "python3"
  },
  "language_info": {
   "codemirror_mode": {
    "name": "ipython",
    "version": 3
   },
   "file_extension": ".py",
   "mimetype": "text/x-python",
   "name": "python",
   "nbconvert_exporter": "python",
   "pygments_lexer": "ipython3",
   "version": "3.8.11"
  }
 },
 "nbformat": 4,
 "nbformat_minor": 5
}
