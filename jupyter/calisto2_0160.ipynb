{
 "cells": [
  {
   "cell_type": "markdown",
   "metadata": {},
   "source": [
    "# Ejemplos sin herencia [1]"
   ]
  },
  {
   "cell_type": "markdown",
   "metadata": {},
   "source": [
    "## La clase Gato"
   ]
  },
  {
   "cell_type": "code",
   "execution_count": null,
   "metadata": {},
   "outputs": [],
   "source": [
    "class Gato:\n",
    "    especie = \"Mamífero\"           # atrubuto de clase, se usa para atributos constantes para todos los objetos\n",
    "\n",
    "    def __init__(self,nombre,edad):\n",
    "        self.nombre=nombre         # los atributos que están dentro del constructor son atributos de instancia  \n",
    "        self.edad=edad             # eso supone que cada objeto instanciado tiene sus propios atributos\n",
    "        self.alimentos=[]          # un gato puede tener una edad, otro otra, o diferentes alimentos favoritos\n",
    "    def verEtapa(self):\n",
    "        if self.edad > 1:\n",
    "            print(self.nombre,\"es adulto\")\n",
    "        else:\n",
    "            print(self.nombre,\"es cachorro\")\n",
    "    def esAlimento(self,alimento):\n",
    "        return alimento in self.alimentos"
   ]
  },
  {
   "cell_type": "markdown",
   "metadata": {},
   "source": [
    "### Instanciando objetos y comprobando métodos"
   ]
  },
  {
   "cell_type": "code",
   "execution_count": null,
   "metadata": {},
   "outputs": [],
   "source": [
    "g = Gato('Gufi',0.5)\n",
    "g.verEtapa()"
   ]
  },
  {
   "cell_type": "code",
   "execution_count": null,
   "metadata": {},
   "outputs": [],
   "source": [
    "m = Gato('Mafi',3)\n",
    "m.verEtapa()"
   ]
  },
  {
   "cell_type": "markdown",
   "metadata": {},
   "source": [
    "### Lista de cada objeto\n",
    "La lista de alimentos favoritos es propia de cada objeto gato."
   ]
  },
  {
   "cell_type": "code",
   "execution_count": null,
   "metadata": {},
   "outputs": [],
   "source": [
    "g.alimentos.append(\"Sardinas\")    # como es una lista puedo usar append"
   ]
  },
  {
   "cell_type": "code",
   "execution_count": null,
   "metadata": {},
   "outputs": [],
   "source": [
    "g.alimentos"
   ]
  },
  {
   "cell_type": "code",
   "execution_count": null,
   "metadata": {},
   "outputs": [],
   "source": [
    "g.esAlimento(\"Sardinas\")"
   ]
  },
  {
   "cell_type": "code",
   "execution_count": null,
   "metadata": {},
   "outputs": [],
   "source": [
    "m.alimentos.append(\"Natillas\")    # al otro gato le gustan las natillas\n",
    "g.alimentos.append(\"Leche\")       # al cachorro le gusta la leche"
   ]
  },
  {
   "cell_type": "code",
   "execution_count": null,
   "metadata": {},
   "outputs": [],
   "source": [
    "print(g.alimentos)\n",
    "print(m.alimentos)"
   ]
  },
  {
   "cell_type": "code",
   "execution_count": null,
   "metadata": {},
   "outputs": [],
   "source": [
    "g.esAlimento(\"Horchata\")"
   ]
  },
  {
   "cell_type": "code",
   "execution_count": null,
   "metadata": {},
   "outputs": [],
   "source": [
    "g.edad += 1                      # podemos acceder y modificar los atributos de instancia\n",
    "g.verEtapa()"
   ]
  },
  {
   "cell_type": "markdown",
   "metadata": {},
   "source": [
    "### Los atributos de clase se denominan \"estáticos\"\n",
    "No es necesario un objeto para obtenerlos. Podemos poner Gato.especie y funciona."
   ]
  },
  {
   "cell_type": "code",
   "execution_count": null,
   "metadata": {},
   "outputs": [],
   "source": [
    "m.especie"
   ]
  },
  {
   "cell_type": "code",
   "execution_count": null,
   "metadata": {},
   "outputs": [],
   "source": [
    "g.especie"
   ]
  },
  {
   "cell_type": "code",
   "execution_count": null,
   "metadata": {},
   "outputs": [],
   "source": [
    "Gato.especie                     # con los atributos de clase podemos poner la clase y el atributo y funciona"
   ]
  },
  {
   "cell_type": "markdown",
   "metadata": {},
   "source": [
    "### Atributos creados de forma dinámica\n",
    "Podemos crear atributos fuera de la clase, de forma dinámica, pero no se guardarán en la clase y cuando se reinicie el kernel no se recordarán."
   ]
  },
  {
   "cell_type": "code",
   "execution_count": null,
   "metadata": {},
   "outputs": [],
   "source": [
    "g.raza=\"Siamés\"                  # en Python los atributos se pueden crear de forma dinámica  \n",
    "g.raza                           # podemos consultar el atributo, pero no se guarda "
   ]
  },
  {
   "cell_type": "code",
   "execution_count": null,
   "metadata": {},
   "outputs": [],
   "source": [
    "Gato.pelaje=\"suave\"              # también funciona con los atributos de clase, nos inventamos una nuevo\n",
    "Gato.pelaje                      # podemos consultar el atributo inventado, pero no se guardará"
   ]
  }
 ],
 "metadata": {
  "kernelspec": {
   "display_name": "Python 3",
   "language": "python",
   "name": "python3"
  },
  "language_info": {
   "codemirror_mode": {
    "name": "ipython",
    "version": 3
   },
   "file_extension": ".py",
   "mimetype": "text/x-python",
   "name": "python",
   "nbconvert_exporter": "python",
   "pygments_lexer": "ipython3",
   "version": "3.8.5"
  }
 },
 "nbformat": 4,
 "nbformat_minor": 5
}
