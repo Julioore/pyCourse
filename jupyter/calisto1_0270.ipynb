{
 "cells": [
  {
   "cell_type": "markdown",
   "id": "1c2576af",
   "metadata": {},
   "source": [
    "# Estructura condicional: ```if``` ... ```else```"
   ]
  },
  {
   "cell_type": "code",
   "execution_count": 1,
   "id": "910b7f32",
   "metadata": {},
   "outputs": [
    {
     "name": "stdout",
     "output_type": "stream",
     "text": [
      "Su velocidad está dentro de los límites legales\n"
     ]
    }
   ],
   "source": [
    "velocidad=110\n",
    "limite=120\n",
    "if velocidad <= limite:\n",
    "    print(\"Su velocidad está dentro de los límites legales\")\n",
    "else:\n",
    "    print(\"Su velocidad excede los límites legales\")"
   ]
  },
  {
   "cell_type": "code",
   "execution_count": 6,
   "id": "6ec332f0",
   "metadata": {},
   "outputs": [
    {
     "name": "stdout",
     "output_type": "stream",
     "text": [
      "Introduzca la palabra clave: 12345\n",
      "¡Contraseña incorrecta!\n",
      "Acceso denegado.\n"
     ]
    }
   ],
   "source": [
    "clave =input(\"Introduzca la palabra clave: \")\n",
    "if clave == '1234':\n",
    "    print(\"¡Contraseña correcta!\")\n",
    "    print(\"Acceso permitido.\")\n",
    "else:\n",
    "    print(\"¡Contraseña incorrecta!\")\n",
    "    print(\"Acceso denegado.\")"
   ]
  }
 ],
 "metadata": {
  "kernelspec": {
   "display_name": "Python 3",
   "language": "python",
   "name": "python3"
  },
  "language_info": {
   "codemirror_mode": {
    "name": "ipython",
    "version": 3
   },
   "file_extension": ".py",
   "mimetype": "text/x-python",
   "name": "python",
   "nbconvert_exporter": "python",
   "pygments_lexer": "ipython3",
   "version": "3.8.10"
  }
 },
 "nbformat": 4,
 "nbformat_minor": 5
}
