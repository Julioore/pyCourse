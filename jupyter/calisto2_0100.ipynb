{
 "cells": [
  {
   "cell_type": "markdown",
   "metadata": {},
   "source": [
    "# El decorador @property\n",
    "Puesto que Python no dispone de encapsulamiento real, podemos simular el encapsulamiento de otros lenguajes utilizando Getter, Setter, Deleter mediante el uso del decorador @Property.\n",
    "\n",
    "La función integrada property nos permitirá interceptar la escritura, lectura, borrado de los atributos y ademas nos permiten incorporar una documentación sobre los mismos.\n",
    "\n",
    "* Es un decorador. Se escribe con una @ como prefijo.\n",
    "* Si no se pasan los parámetros requeridos su valor por defecto es None.\n",
    "* Getter: Se encargará de interceptar la lectura del atributo. (get = obtener)\n",
    "* Setter: Se encarga de interceptar cuando se escriba. (set = definir o escribir)\n",
    "* Deleter: Se encarga de interceptar cuando es borrado. (delete = borrar)\n",
    "* doc:  Recibirá una cadena para documentar el atributo. (doc = documentación)"
   ]
  },
  {
   "cell_type": "code",
   "execution_count": 1,
   "metadata": {},
   "outputs": [],
   "source": [
    "class Perro():                             # declaramos la clase padre\n",
    "    def __init__(self, nombre, peso):      # parámetros \n",
    "        self.__nombre = nombre             # declaramos los atributos (privados ocultos)\n",
    "        self.__peso = peso\n",
    "    @property\n",
    "    def nombre(self):                      # método para obtener el nombre\n",
    "        return self.__nombre               # retornamos el atributo privado oculto\n",
    "#Hasta aquí definimos los métodos para obtener los atributos ocultos o privados getter.\n",
    "#Ahora vamos a utilizar setter y deleter para modificarlos\n",
    "    @nombre.setter #Propiedad SETTER\n",
    "    def nombre(self, nuevo):\n",
    "        print (\"Modificando nombre..\")\n",
    "        self.__nombre = nuevo\n",
    "        print (\"El nombre se ha modificado por\")\n",
    "        print (self.__nombre) #Aquí vuelvo a pedir que retorne el atributo para confirmar\n",
    "    @nombre.deleter #Propiedad DELETER\n",
    "    def nombre(self): \n",
    "        print(\"Borrando nombre..\")\n",
    "        del self.__nombre\n",
    "        \n",
    "        #Hasta aquí property#\n",
    "    def peso(self):    #Definimos el método para obtener el peso\n",
    "        return self.__peso #Aquí simplemente estamos retornando el atributo privado"
   ]
  },
  {
   "cell_type": "code",
   "execution_count": 2,
   "metadata": {},
   "outputs": [
    {
     "name": "stdout",
     "output_type": "stream",
     "text": [
      "Tom\n"
     ]
    }
   ],
   "source": [
    "#Instanciamos\n",
    "Tomas = Perros('Tom', 27)\n",
    "print (Tomas.nombre) #Imprimimos el nombre de Tomas. Se hace a través de getter\n",
    "#Que en este caso como esta luego de property lo toma como el primer método.."
   ]
  },
  {
   "cell_type": "code",
   "execution_count": 3,
   "metadata": {},
   "outputs": [
    {
     "name": "stdout",
     "output_type": "stream",
     "text": [
      "Modificando nombre..\n",
      "El nombre se ha modificado por\n",
      "Tomasito\n"
     ]
    }
   ],
   "source": [
    "Tomas.nombre = 'Tomasito' #Cambiamos el atributo nombre que se hace a través de setter"
   ]
  },
  {
   "cell_type": "code",
   "execution_count": 4,
   "metadata": {},
   "outputs": [
    {
     "name": "stdout",
     "output_type": "stream",
     "text": [
      "Borrando nombre..\n"
     ]
    }
   ],
   "source": [
    "del Tomas.nombre #Borramos el nombre utilizando deleter"
   ]
  }
 ],
 "metadata": {
  "kernelspec": {
   "display_name": "Python 3",
   "language": "python",
   "name": "python3"
  },
  "language_info": {
   "codemirror_mode": {
    "name": "ipython",
    "version": 3
   },
   "file_extension": ".py",
   "mimetype": "text/x-python",
   "name": "python",
   "nbconvert_exporter": "python",
   "pygments_lexer": "ipython3",
   "version": "3.8.5"
  }
 },
 "nbformat": 4,
 "nbformat_minor": 4
}
