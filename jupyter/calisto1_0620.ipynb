{
 "cells": [
  {
   "cell_type": "markdown",
   "id": "368967d6",
   "metadata": {},
   "source": [
    "# Funciones. Ejercicios propuestos"
   ]
  },
  {
   "cell_type": "markdown",
   "id": "5d64902f",
   "metadata": {},
   "source": [
    "## Ejercicio loteria_dos_digitos  \n",
    "Genera un número de la lotería de dos dígitos en el que no se repitan los dígitos"
   ]
  },
  {
   "cell_type": "code",
   "execution_count": 3,
   "id": "8c8af24f",
   "metadata": {},
   "outputs": [
    {
     "name": "stdout",
     "output_type": "stream",
     "text": [
      "20\n"
     ]
    }
   ],
   "source": [
    "from random import randint\n",
    "def loteria():\n",
    "    a=randint(1,9)        #empieza en 1 para evitar valores inferiores a 10\n",
    "    while True:\n",
    "        b=randint(0,9)\n",
    "        if b!=a: break\n",
    "    return a*10+b\n",
    "print(loteria())"
   ]
  },
  {
   "cell_type": "markdown",
   "id": "254e84c3",
   "metadata": {},
   "source": [
    "## Ejercicio elimina_vocales  \n",
    "Dada una frase se eliminan las vocales salvo la letra o que se cambia por un cero"
   ]
  },
  {
   "cell_type": "code",
   "execution_count": 4,
   "id": "8db2bf14",
   "metadata": {},
   "outputs": [
    {
     "name": "stdout",
     "output_type": "stream",
     "text": [
      "Vjrm0s  0vd0, lcnt 0  Blb0.\n"
     ]
    }
   ],
   "source": [
    "def procesa(texto):\n",
    "    vocales=('a','e','i','o','u')\n",
    "    texto=texto.replace('o','0')\n",
    "    texto=texto.replace('O','0')\n",
    "    for vocal in vocales:\n",
    "        texto=texto.replace(vocal,'')\n",
    "        texto=texto.replace(vocal.upper(),'')\n",
    "    return texto\n",
    "texto=\"Viajaremos a Oviedo, Alicante o a Bilbao.\"\n",
    "print(procesa(texto))                                #Vjrm0s  0vd0, lcnt 0  Blb0."
   ]
  },
  {
   "cell_type": "markdown",
   "id": "f2db5dd0",
   "metadata": {},
   "source": [
    "## Ejercicio el_mayor_de_tres  \n",
    "Pedir al usuario tres números enteros y decir cuál es el mayor o si son todos iguales"
   ]
  },
  {
   "cell_type": "code",
   "execution_count": 5,
   "id": "714dce29",
   "metadata": {},
   "outputs": [
    {
     "name": "stdout",
     "output_type": "stream",
     "text": [
      "Diga el número 1: 5\n",
      "Diga el número 2: 66\n",
      "Diga el número 3: 100\n",
      "100\n"
     ]
    }
   ],
   "source": [
    "def comprueba(numeros):\n",
    "    if numeros[0]==numeros[1]==numeros[2]: return \"Los tres son iguales.\"\n",
    "    else: return max(numeros)\n",
    "def recaba_datos():\n",
    "    global numeros\n",
    "    numeros=[0]*3     #inicializamos una lista de tres elementos\n",
    "    for i in range(3):\n",
    "        numeros[i]=int(input(\"Diga el número {}: \".format(i+1)))\n",
    "    return numeros\n",
    "recaba_datos()\n",
    "print(comprueba(numeros))\n",
    "#Versión alternativa\n",
    "#Pedir al usuario una serie de números y decir cuál es el mayor o si son todos iguales"
   ]
  },
  {
   "cell_type": "markdown",
   "id": "819b8be0",
   "metadata": {},
   "source": [
    "## Ejercicio el_mayor_de_n  \n",
    "Generar aleatoriamente n números y decir cuál es el mayor o si son todos iguales. n va de 2 a 9"
   ]
  },
  {
   "cell_type": "code",
   "execution_count": 6,
   "id": "6d70f38b",
   "metadata": {},
   "outputs": [
    {
     "name": "stdout",
     "output_type": "stream",
     "text": [
      "[6, 3, 9, 4, 6] El mayor es:  9\n",
      "[2, 3, 5, 2, 5, 6, 3, 7] El mayor es:  7\n",
      "[5, 6, 1, 1, 5, 6] El mayor es:  6\n",
      "[3, 3] Son todos iguales.\n"
     ]
    }
   ],
   "source": [
    "import random\n",
    "def genera(n):\n",
    "    numeros=[]\n",
    "    for i in range(n): numeros.append(random.randint(0,9))\n",
    "    return numeros\n",
    "def lanza_proceso():\n",
    "    distintos=True\n",
    "    while distintos:\n",
    "        n=random.randint(2,9)\n",
    "        numeros=genera(n)\n",
    "        if max(numeros)==min(numeros): print(numeros,\"Son todos iguales.\"); distintos=False\n",
    "        else: print(numeros,\"El mayor es: \",max(numeros))\n",
    "lanza_proceso()"
   ]
  }
 ],
 "metadata": {
  "kernelspec": {
   "display_name": "Python 3",
   "language": "python",
   "name": "python3"
  },
  "language_info": {
   "codemirror_mode": {
    "name": "ipython",
    "version": 3
   },
   "file_extension": ".py",
   "mimetype": "text/x-python",
   "name": "python",
   "nbconvert_exporter": "python",
   "pygments_lexer": "ipython3",
   "version": "3.8.10"
  }
 },
 "nbformat": 4,
 "nbformat_minor": 5
}
