{
 "cells": [
  {
   "cell_type": "markdown",
   "id": "d14d6542",
   "metadata": {},
   "source": [
    "# Herencia [9] Sobreescritura de métodos\n",
    "La clase Comercial hereda de la clase Empleado todos sus atributos ya que no tiene constructor propio.  \n",
    "La clase Comercial sobreescribe el método calcularSueldo que también existe en la clase padre."
   ]
  },
  {
   "cell_type": "code",
   "execution_count": 6,
   "id": "181aabdf",
   "metadata": {},
   "outputs": [],
   "source": [
    "class Empleado(object): # Existe siempre una clase superior object de la que heredan todos\n",
    "    def __init__(self,nombre,sueldoBruto):\n",
    "        self.nombre=nombre\n",
    "        self.bruto=sueldoBruto\n",
    "    def calcularSueldo(self,descuentos):\n",
    "        return self.bruto-descuentos\n",
    "class Comercial(Empleado):\n",
    "    def calcularSueldo(self,descuentos,bonificaciones):\n",
    "        return self.bruto-descuentos+bonificaciones\n",
    "\n",
    "mario = Empleado(\"Mario\",40000)\n",
    "isa = Comercial(\"María Isabel\", 50000)"
   ]
  },
  {
   "cell_type": "code",
   "execution_count": 7,
   "id": "ab69a935",
   "metadata": {},
   "outputs": [
    {
     "data": {
      "text/plain": [
       "39500"
      ]
     },
     "execution_count": 7,
     "metadata": {},
     "output_type": "execute_result"
    }
   ],
   "source": [
    "mario.calcularSueldo(500)       # un argumento"
   ]
  },
  {
   "cell_type": "code",
   "execution_count": 8,
   "id": "4574be82",
   "metadata": {},
   "outputs": [
    {
     "data": {
      "text/plain": [
       "52500"
      ]
     },
     "execution_count": 8,
     "metadata": {},
     "output_type": "execute_result"
    }
   ],
   "source": [
    "isa.calcularSueldo(500,3000)    # dos argumentos"
   ]
  },
  {
   "cell_type": "markdown",
   "id": "e3dba2a9",
   "metadata": {},
   "source": [
    "## Parámetros por defecto\n",
    "Podemos poner un valor por defecto en un parámetro de forma que si no se pasa ese parámetro como argumento se toma el valor por defecto."
   ]
  },
  {
   "cell_type": "code",
   "execution_count": 12,
   "id": "afcaafd7",
   "metadata": {},
   "outputs": [],
   "source": [
    "class Empleado():\n",
    "    def __init__(self,nombre,sueldoBruto):\n",
    "        self.nombre=nombre\n",
    "        self.bruto=sueldoBruto\n",
    "    def calcularSueldo(self,descuentos):\n",
    "        return self.bruto-descuentos\n",
    "class Comercial(Empleado):\n",
    "    def calcularSueldo(self,descuentos,bonificaciones=0): # parámetro por defecto\n",
    "        return self.bruto-descuentos+bonificaciones\n",
    "\n",
    "mario = Empleado(\"Mario Pablo\", 40000)\n",
    "isa = Comercial(\"María Isabel\", 50000)"
   ]
  },
  {
   "cell_type": "code",
   "execution_count": 13,
   "id": "1899ca1c",
   "metadata": {},
   "outputs": [
    {
     "data": {
      "text/plain": [
       "39500"
      ]
     },
     "execution_count": 13,
     "metadata": {},
     "output_type": "execute_result"
    }
   ],
   "source": [
    "mario.calcularSueldo(500)       # un argumento"
   ]
  },
  {
   "cell_type": "code",
   "execution_count": 14,
   "id": "eee93a63",
   "metadata": {},
   "outputs": [
    {
     "data": {
      "text/plain": [
       "49500"
      ]
     },
     "execution_count": 14,
     "metadata": {},
     "output_type": "execute_result"
    }
   ],
   "source": [
    "isa.calcularSueldo(500)         # un argumento pero usa su propio método"
   ]
  }
 ],
 "metadata": {
  "kernelspec": {
   "display_name": "Python 3",
   "language": "python",
   "name": "python3"
  },
  "language_info": {
   "codemirror_mode": {
    "name": "ipython",
    "version": 3
   },
   "file_extension": ".py",
   "mimetype": "text/x-python",
   "name": "python",
   "nbconvert_exporter": "python",
   "pygments_lexer": "ipython3",
   "version": "3.8.8"
  }
 },
 "nbformat": 4,
 "nbformat_minor": 5
}
