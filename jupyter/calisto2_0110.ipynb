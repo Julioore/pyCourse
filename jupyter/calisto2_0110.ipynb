{
 "cells": [
  {
   "cell_type": "markdown",
   "id": "774e8bc7",
   "metadata": {},
   "source": [
    "# Getter y Setter en Python\n",
    "En Python, en principio, el acceso a todos los atributos y métodos es público. En otros leguajes como JAVA se ha de indicar si el atributo o método es publico (Public) o privado (Privae).  \n",
    "Si deseamos utilizar atributos o métodos privados en Python lo que hacemos es usar el prefijo de doble barra baja:  \n",
    "* \\__atributo\n",
    "* \\__métoddo\n",
    "\n",
    "Pero esta forma de trabajar, un programador experimentado se la puede saltar."
   ]
  },
  {
   "cell_type": "markdown",
   "id": "2251fd68",
   "metadata": {},
   "source": [
    "## Al estilo JAVA"
   ]
  },
  {
   "cell_type": "code",
   "execution_count": null,
   "id": "d7a5b00f",
   "metadata": {},
   "outputs": [],
   "source": [
    "class Piloto:\n",
    "    def __init__(self):\n",
    "          self.edad = 0\n",
    "\n",
    "    def get_edad(self):                                        # método getter\n",
    "        print(\"Se ha llamado al método getter\")\n",
    "        return self.edad\n",
    "\n",
    "    def set_edad(self, e):                                     # método setter\n",
    "        if e<18:                                               # e es una variable auxiliar que representa la edad\n",
    "            print(\"Los menores de edad no pueden pilotar.\")\n",
    "        print(\"Se ha llamado al método setter\")\n",
    "        self.edad = e\n",
    "\n",
    "leo = Piloto()"
   ]
  },
  {
   "cell_type": "code",
   "execution_count": null,
   "id": "e97ca85c",
   "metadata": {},
   "outputs": [],
   "source": [
    "leo.edad         # acceso directo a la edad, similar a get_edad()\n",
    "                 # pero a get_edad() podemos añadirle algo de lógica"
   ]
  },
  {
   "cell_type": "code",
   "execution_count": null,
   "id": "122b74e5",
   "metadata": {},
   "outputs": [],
   "source": [
    "leo.set_edad(29)  # similar a leo.edad=29 pero al set le podemos añadir lógica\n",
    "leo.edad"
   ]
  },
  {
   "cell_type": "code",
   "execution_count": null,
   "id": "bee72ceb",
   "metadata": {},
   "outputs": [],
   "source": [
    "leo.get_edad()"
   ]
  },
  {
   "cell_type": "markdown",
   "id": "bf662d99",
   "metadata": {},
   "source": [
    "Probar con una edad de 9 años y veremos la frase 'Los menores de edad no pueden pilotar'"
   ]
  },
  {
   "cell_type": "markdown",
   "id": "40cc926a",
   "metadata": {},
   "source": [
    "## Con decoradores\n",
    "Usando decoradores conseguimos ocultar completamente los atributos y métodos para que no sean accesibles desde fuera de la clase.\n",
    "\n",
    "El método getter se consigue con el decorador @property. Debajo de él la función se tiene que llamar necesariamente edad.\n",
    "\n",
    "El método setter se consigue con el decorador de nombre obligatorio @edad.setter y la función debe llamarse necesariamente edad."
   ]
  },
  {
   "cell_type": "code",
   "execution_count": null,
   "id": "895385ae",
   "metadata": {},
   "outputs": [],
   "source": [
    "class Piloto:\n",
    "     def __init__(self):\n",
    "          self._edad = 0\n",
    "\n",
    "     @property                          # usando un decorador como método getter\n",
    "     def edad(self):\n",
    "         print(\"Se ha llamado al método getter\")\n",
    "         return self._edad\n",
    "\n",
    "     @edad.setter                       # método setter\n",
    "     def edad(self, e):                 # e es una variable auxiliar que representa la edad\n",
    "         if e<18:\n",
    "            raise ValueError(\"Los menores de edad no pueden pilotar\") # forzamos este error\n",
    "         print(\"Se ha llamado al método setter\")\n",
    "         self._edad = e\n",
    "\n",
    "leo = Piloto()\n",
    "\n",
    "leo.edad = 29       # si ponemos una edad de un menor salta un error que nosotros hemos forzado con raise\n",
    "\n",
    "print(leo.edad)"
   ]
  }
 ],
 "metadata": {
  "kernelspec": {
   "display_name": "Python 3",
   "language": "python",
   "name": "python3"
  },
  "language_info": {
   "codemirror_mode": {
    "name": "ipython",
    "version": 3
   },
   "file_extension": ".py",
   "mimetype": "text/x-python",
   "name": "python",
   "nbconvert_exporter": "python",
   "pygments_lexer": "ipython3",
   "version": "3.8.8"
  }
 },
 "nbformat": 4,
 "nbformat_minor": 5
}
