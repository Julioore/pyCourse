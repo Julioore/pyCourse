{
 "cells": [
  {
   "cell_type": "markdown",
   "id": "a0beef6c",
   "metadata": {},
   "source": [
    "# Nombres de variables"
   ]
  },
  {
   "cell_type": "markdown",
   "id": "8402dd06",
   "metadata": {},
   "source": [
    "Una variable es un espacio en memoria capaz de contener un dato.\n",
    "\n",
    "Dos estilos:\n",
    "- camelCase\n",
    "- snake_case"
   ]
  },
  {
   "cell_type": "code",
   "execution_count": null,
   "id": "67a1569f",
   "metadata": {},
   "outputs": [],
   "source": [
    "mi_nombre = \"Felipe\"  #se recomienda empezar con minúscula\n",
    "_ciudad = \"Buenos Aires\"\n",
    "edad4 = 23"
   ]
  },
  {
   "cell_type": "code",
   "execution_count": null,
   "id": "ce25385c",
   "metadata": {},
   "outputs": [],
   "source": [
    "mi-nombre = \"Ana\"     #error, no acepta guión ni otros símbolos"
   ]
  },
  {
   "cell_type": "code",
   "execution_count": null,
   "id": "6254a4bb",
   "metadata": {},
   "outputs": [],
   "source": [
    "mi nombre = \"Ana\"     #error, no puede contener espacios"
   ]
  },
  {
   "cell_type": "code",
   "execution_count": null,
   "id": "d3474d09",
   "metadata": {},
   "outputs": [],
   "source": [
    "4edad = 15            #error, no puede empezar por número"
   ]
  },
  {
   "cell_type": "code",
   "execution_count": null,
   "id": "4f09cb1e",
   "metadata": {},
   "outputs": [],
   "source": [
    "$edad = 30            #error, no puede empezar por símbolo"
   ]
  },
  {
   "cell_type": "code",
   "execution_count": null,
   "id": "cdee8f74",
   "metadata": {},
   "outputs": [],
   "source": [
    "nombreApellidos = \"Juan Ruiz\"    #lower camel style\n",
    "NombreApellidos = \"Pablo Díez\"   #upper camel style\n",
    "nombre_de_padre = \"Juan\"         #sanke case\n",
    "nombreApellidos"
   ]
  },
  {
   "cell_type": "code",
   "execution_count": null,
   "id": "e91e1d2b",
   "metadata": {},
   "outputs": [],
   "source": [
    "nombreApellidos == NombreApellidos   #False, case sensitive"
   ]
  },
  {
   "cell_type": "markdown",
   "id": "07e0cf39",
   "metadata": {},
   "source": [
    "# Palabras reservadas  \n",
    "Existen ciertos nombres reservamos que no se pueden usar como nombres de variables."
   ]
  },
  {
   "cell_type": "markdown",
   "id": "41995dc7",
   "metadata": {},
   "source": [
    "- and\n",
    "- as\n",
    "- assert\n",
    "- break\n",
    "- class\n",
    "- continue\n",
    "- def\n",
    "- del\n",
    "- elif\n",
    "- else\n",
    "- except\n",
    "- exec\n",
    "- finally\n",
    "- for\n",
    "- from\n",
    "- global\n",
    "- if\n",
    "- import\n",
    "- in\n",
    "- is\n",
    "- lambda\n",
    "- not\n",
    "- or\n",
    "- pass\n",
    "- print\n",
    "- raise\n",
    "- return\n",
    "- try\n",
    "- while\n",
    "- with\n",
    "- yield"
   ]
  },
  {
   "cell_type": "code",
   "execution_count": null,
   "id": "4d144978",
   "metadata": {},
   "outputs": [],
   "source": [
    "# Ejemplo que da error\n",
    "import = 15"
   ]
  },
  {
   "cell_type": "code",
   "execution_count": null,
   "id": "e3aa4e0f",
   "metadata": {},
   "outputs": [],
   "source": [
    "# import es una palabra reservada del lenguaje \n",
    "# (Python Keywords)\n",
    "# Mejor myimport\n",
    "myimport = 15\n",
    "myimport"
   ]
  }
 ],
 "metadata": {
  "kernelspec": {
   "display_name": "Python 3",
   "language": "python",
   "name": "python3"
  },
  "language_info": {
   "codemirror_mode": {
    "name": "ipython",
    "version": 3
   },
   "file_extension": ".py",
   "mimetype": "text/x-python",
   "name": "python",
   "nbconvert_exporter": "python",
   "pygments_lexer": "ipython3",
   "version": "3.8.5"
  }
 },
 "nbformat": 4,
 "nbformat_minor": 5
}
