{
 "cells": [
  {
   "cell_type": "markdown",
   "id": "a0beef6c",
   "metadata": {},
   "source": [
    "# Variables"
   ]
  },
  {
   "cell_type": "markdown",
   "id": "8402dd06",
   "metadata": {},
   "source": [
    "Una variable es un espacio en memoria capaz de contener un dato.\n",
    "Dos estilos:\n",
    "- camelCase\n",
    "- snake_case"
   ]
  },
  {
   "cell_type": "code",
   "execution_count": 1,
   "id": "67a1569f",
   "metadata": {},
   "outputs": [],
   "source": [
    "mi_nombre = \"Felipe\"  #se recomienda empezar con minúscula\n",
    "_ciudad = \"Buenos Aires\"\n",
    "edad4 = 23"
   ]
  },
  {
   "cell_type": "code",
   "execution_count": 2,
   "id": "ce25385c",
   "metadata": {},
   "outputs": [
    {
     "ename": "SyntaxError",
     "evalue": "cannot assign to operator (<ipython-input-2-aec3920732ed>, line 1)",
     "output_type": "error",
     "traceback": [
      "\u001b[0;36m  File \u001b[0;32m\"<ipython-input-2-aec3920732ed>\"\u001b[0;36m, line \u001b[0;32m1\u001b[0m\n\u001b[0;31m    mi-nombre = \"Ana\"     #error\u001b[0m\n\u001b[0m    ^\u001b[0m\n\u001b[0;31mSyntaxError\u001b[0m\u001b[0;31m:\u001b[0m cannot assign to operator\n"
     ]
    }
   ],
   "source": [
    "mi-nombre = \"Ana\"     #error"
   ]
  },
  {
   "cell_type": "code",
   "execution_count": 3,
   "id": "6254a4bb",
   "metadata": {},
   "outputs": [
    {
     "ename": "SyntaxError",
     "evalue": "invalid syntax (<ipython-input-3-d132d243be81>, line 1)",
     "output_type": "error",
     "traceback": [
      "\u001b[0;36m  File \u001b[0;32m\"<ipython-input-3-d132d243be81>\"\u001b[0;36m, line \u001b[0;32m1\u001b[0m\n\u001b[0;31m    mi nombre = \"Ana\"     #error\u001b[0m\n\u001b[0m       ^\u001b[0m\n\u001b[0;31mSyntaxError\u001b[0m\u001b[0;31m:\u001b[0m invalid syntax\n"
     ]
    }
   ],
   "source": [
    "mi nombre = \"Ana\"     #error"
   ]
  },
  {
   "cell_type": "code",
   "execution_count": 4,
   "id": "d3474d09",
   "metadata": {},
   "outputs": [
    {
     "ename": "SyntaxError",
     "evalue": "invalid syntax (<ipython-input-4-909cc9a62096>, line 1)",
     "output_type": "error",
     "traceback": [
      "\u001b[0;36m  File \u001b[0;32m\"<ipython-input-4-909cc9a62096>\"\u001b[0;36m, line \u001b[0;32m1\u001b[0m\n\u001b[0;31m    4edad = 15            #error, no puede empezar por número\u001b[0m\n\u001b[0m     ^\u001b[0m\n\u001b[0;31mSyntaxError\u001b[0m\u001b[0;31m:\u001b[0m invalid syntax\n"
     ]
    }
   ],
   "source": [
    "4edad = 15            #error, no puede empezar por número"
   ]
  },
  {
   "cell_type": "code",
   "execution_count": 5,
   "id": "4f09cb1e",
   "metadata": {},
   "outputs": [
    {
     "ename": "SyntaxError",
     "evalue": "invalid syntax (<ipython-input-5-a30705950c38>, line 1)",
     "output_type": "error",
     "traceback": [
      "\u001b[0;36m  File \u001b[0;32m\"<ipython-input-5-a30705950c38>\"\u001b[0;36m, line \u001b[0;32m1\u001b[0m\n\u001b[0;31m    $edad = 30            #error, no puede empezar por símbolo\u001b[0m\n\u001b[0m    ^\u001b[0m\n\u001b[0;31mSyntaxError\u001b[0m\u001b[0;31m:\u001b[0m invalid syntax\n"
     ]
    }
   ],
   "source": [
    "$edad = 30            #error, no puede empezar por símbolo"
   ]
  },
  {
   "cell_type": "code",
   "execution_count": 6,
   "id": "cdee8f74",
   "metadata": {},
   "outputs": [
    {
     "data": {
      "text/plain": [
       "'Juan Ruiz'"
      ]
     },
     "execution_count": 6,
     "metadata": {},
     "output_type": "execute_result"
    }
   ],
   "source": [
    "nombreApellidos = \"Juan Ruiz\"    #lower camel style\n",
    "NombreApellidos = \"Pablo Díez\"   #upper camel style\n",
    "nombre_de_padre = \"Juan\"         #sanke case\n",
    "nombreApellidos"
   ]
  },
  {
   "cell_type": "code",
   "execution_count": 7,
   "id": "e91e1d2b",
   "metadata": {},
   "outputs": [
    {
     "data": {
      "text/plain": [
       "False"
      ]
     },
     "execution_count": 7,
     "metadata": {},
     "output_type": "execute_result"
    }
   ],
   "source": [
    "nombreApellidos == NombreApellidos   #False, case sensitive"
   ]
  }
 ],
 "metadata": {
  "kernelspec": {
   "display_name": "Python 3",
   "language": "python",
   "name": "python3"
  },
  "language_info": {
   "codemirror_mode": {
    "name": "ipython",
    "version": 3
   },
   "file_extension": ".py",
   "mimetype": "text/x-python",
   "name": "python",
   "nbconvert_exporter": "python",
   "pygments_lexer": "ipython3",
   "version": "3.8.5"
  }
 },
 "nbformat": 4,
 "nbformat_minor": 5
}
