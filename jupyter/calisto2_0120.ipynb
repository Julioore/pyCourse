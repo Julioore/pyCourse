{
 "cells": [
  {
   "cell_type": "markdown",
   "metadata": {},
   "source": [
    "# El decorador @property\n",
    "El decorador @property, viene por defecto con Python, y puede ser usado para modificar un método para que sea un atributo o propiedad.\n",
    "\n",
    "El decorador @property puede ser usado sobre un método, que hará que actúe como si fuera un atributo."
   ]
  },
  {
   "cell_type": "code",
   "execution_count": null,
   "metadata": {},
   "outputs": [],
   "source": [
    "class Clase:\n",
    "    def __init__(self, mi_atributo):\n",
    "        self.__mi_atributo = mi_atributo\n",
    "\n",
    "    @property\n",
    "    def mi_atributo(self):\n",
    "        return self.__mi_atributo"
   ]
  },
  {
   "cell_type": "markdown",
   "metadata": {},
   "source": [
    "Del mismo modo que un atributo normal, usando el decorador sobre un método, podemos acceder a el con:  ```objeto.nombre```."
   ]
  },
  {
   "cell_type": "code",
   "execution_count": null,
   "metadata": {},
   "outputs": [],
   "source": [
    "mi_clase = Clase(\"valor_atributo\")\n",
    "mi_clase.mi_atributo                 # 'valor_atributo'"
   ]
  },
  {
   "cell_type": "markdown",
   "metadata": {},
   "source": [
    "Aunque mi_atributo pueda parecer un método, en realidad no lo es, por lo que no puede ser llamado con ()."
   ]
  },
  {
   "cell_type": "code",
   "execution_count": null,
   "metadata": {},
   "outputs": [],
   "source": [
    "#mi_clase.mi_atributo() # Error! Es un atributo, no un método"
   ]
  },
  {
   "cell_type": "markdown",
   "metadata": {},
   "source": [
    "## ¿Para que sirve el decorador @property?\n",
    "Podríamos pensar que haríamos lo mismo si necesidad de usar el decorador con el siguiente código."
   ]
  },
  {
   "cell_type": "code",
   "execution_count": null,
   "metadata": {},
   "outputs": [],
   "source": [
    "class Clase:\n",
    "    def __init__(self, mi_atributo):\n",
    "        self.mi_atributo = mi_atributo\n",
    "\n",
    "mi_clase = Clase(\"valor_atributo\")\n",
    "mi_clase.mi_atributo                 # 'valor_atributo'"
   ]
  },
  {
   "cell_type": "markdown",
   "metadata": {},
   "source": [
    "El motivo por el que usamos el decorador @property está relacionado con el concepto de **Encapsulación** en la POO. En algunos casos es importante ocultar el estado de los objetos para que no sean accesibles desde el exterior, para que no puedan se consultados, ni modificados, ni borrados. Pensemos en una password, en el número de vidas de un personaje en un juego, entre otras muchas variables, o métodos que nos gustaría proteger.\n",
    "\n",
    "La protección en JAVA de los atributos se hace distinguiendo entre los privados y los públicos. Sus métodos clásicos son los Getter, Setter y Deleter. \n",
    "\n",
    "En Python poniendo el prefijo de doble barra baja indicamos que nos gustaría ocultar el atributo: \\_\\_mi_atributo\n",
    "\n",
    "Con el decorador @property, podría ser un acceso controlado, ya que el acceso se realiza a través del método creado al que siempre podríamos añadir código extra y no un simple retorno."
   ]
  },
  {
   "cell_type": "markdown",
   "metadata": {},
   "source": [
    "## Simular el encapsulamiento\n",
    "Puesto que Python no dispone de encapsulamiento real, podemos simular el encapsulamiento de otros lenguajes utilizando Getter, Setter, Deleter mediante el uso del decorador @Property.\n",
    "\n",
    "La función integrada property nos permitirá interceptar la escritura, lectura, borrado de los atributos y ademas nos permiten incorporar una documentación sobre los mismos.\n",
    "\n",
    "* Es un decorador. Se escribe con una @ como prefijo.\n",
    "* Si no se pasan los parámetros requeridos su valor por defecto es None.\n",
    "* Getter: Se encargará de interceptar la lectura del atributo. (get = obtener)\n",
    "* Setter: Se encarga de interceptar cuando se escriba. (set = definir o escribir)\n",
    "* Deleter: Se encarga de interceptar cuando es borrado. (delete = borrar)\n",
    "* doc:  Recibirá una cadena para documentar el atributo. (doc = documentación)"
   ]
  },
  {
   "cell_type": "code",
   "execution_count": null,
   "metadata": {},
   "outputs": [],
   "source": [
    "class Perro():                             # declaramos la clase padre\n",
    "    def __init__(self, nombre, peso):      # parámetros \n",
    "        self.__nombre = nombre             # declaramos los atributos (privados ocultos)\n",
    "        self.__peso = peso\n",
    "\n",
    "#Definimos los métodos para obtener los atributos ocultos o privados getter\n",
    "    @property\n",
    "    def nombre(self):                      # método para obtener el nombre\n",
    "        return self.__nombre               # retornamos el atributo privado oculto\n",
    "\n",
    "#Ahora vamos a utilizar setter y deleter para modificarlos\n",
    "    @nombre.setter #Propiedad SETTER\n",
    "    def nombre(self, nuevo):\n",
    "        print (\"Modificando nombre...\")\n",
    "        self.__nombre = nuevo\n",
    "        print (\"El nombre se ha modificado por\")\n",
    "        print (self.__nombre) #Aquí vuelvo a pedir que retorne el atributo para confirmar\n",
    "        \n",
    "    @nombre.deleter #Propiedad DELETER\n",
    "    def nombre(self): \n",
    "        print(\"Borrando nombre...\")\n",
    "        del self.__nombre\n",
    "        \n",
    "#Hasta aquí property#\n",
    "        \n",
    "    def peso(self):                        # Definimos el método para obtener el peso\n",
    "        return self.__peso                 # Aquí simplemente estamos retornando el atributo privado"
   ]
  },
  {
   "cell_type": "code",
   "execution_count": null,
   "metadata": {},
   "outputs": [],
   "source": [
    "Tomas = Perro('Tom', 27)                   # Instanciamos\n",
    "print (Tomas.nombre)                       # Imprimimos el nombre de Tomas. Se hace a través de getter"
   ]
  },
  {
   "cell_type": "code",
   "execution_count": null,
   "metadata": {},
   "outputs": [],
   "source": [
    "Tomas.nombre = 'Tomasito'                  # Cambiamos el atributo nombre que se hace a través de setter"
   ]
  },
  {
   "cell_type": "code",
   "execution_count": null,
   "metadata": {},
   "outputs": [],
   "source": [
    "del Tomas.nombre                           # Borramos el nombre utilizando deleter"
   ]
  }
 ],
 "metadata": {
  "kernelspec": {
   "display_name": "Python 3",
   "language": "python",
   "name": "python3"
  },
  "language_info": {
   "codemirror_mode": {
    "name": "ipython",
    "version": 3
   },
   "file_extension": ".py",
   "mimetype": "text/x-python",
   "name": "python",
   "nbconvert_exporter": "python",
   "pygments_lexer": "ipython3",
   "version": "3.8.8"
  }
 },
 "nbformat": 4,
 "nbformat_minor": 4
}
