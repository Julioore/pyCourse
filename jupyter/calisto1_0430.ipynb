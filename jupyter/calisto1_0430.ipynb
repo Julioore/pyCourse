{
 "cells": [
  {
   "cell_type": "markdown",
   "id": "8eb1c379",
   "metadata": {},
   "source": [
    "# String: método joint"
   ]
  },
  {
   "cell_type": "markdown",
   "id": "c991fd2c",
   "metadata": {},
   "source": [
    "string.join(iterable) → devuelve un string"
   ]
  },
  {
   "cell_type": "code",
   "execution_count": null,
   "id": "9adbb45d",
   "metadata": {},
   "outputs": [],
   "source": [
    "hastacuatro = ['1','2','3','4']        # lista\n",
    "print('-'.join(hastacuatro))"
   ]
  },
  {
   "cell_type": "code",
   "execution_count": null,
   "id": "bf308068",
   "metadata": {},
   "outputs": [],
   "source": [
    "metales = (\"Plata\",\"Oro\",\"Platino\")    # tupla\n",
    "print(' # '.join(metales))"
   ]
  },
  {
   "cell_type": "code",
   "execution_count": null,
   "id": "354c5caa",
   "metadata": {},
   "outputs": [],
   "source": [
    "cadena = 'murcielago'                  #string\n",
    "print(', '.join(cadena))"
   ]
  },
  {
   "cell_type": "code",
   "execution_count": null,
   "id": "11f01ce4",
   "metadata": {},
   "outputs": [],
   "source": [
    "dic = {'Al':13,'Fe':'26','Pb':82}      #diccionario\n",
    "print(' & '.join(dic))"
   ]
  },
  {
   "cell_type": "code",
   "execution_count": null,
   "id": "2e782796",
   "metadata": {},
   "outputs": [],
   "source": [
    "frase = \"La suerte está echada\"\n",
    "lista = frase.split()\n",
    "print(lista)"
   ]
  },
  {
   "cell_type": "code",
   "execution_count": null,
   "id": "f0041228",
   "metadata": {},
   "outputs": [],
   "source": [
    "cita = ' '.join(lista)\n",
    "print(cita)"
   ]
  },
  {
   "cell_type": "code",
   "execution_count": null,
   "id": "209fc0ef",
   "metadata": {},
   "outputs": [],
   "source": [
    "guiones = 'H-o-l-a'\n",
    "lista = guiones.split('-')\n",
    "print(lista)"
   ]
  },
  {
   "cell_type": "code",
   "execution_count": null,
   "id": "a849e5e1",
   "metadata": {},
   "outputs": [],
   "source": [
    "palabra = ''.join(lista)\n",
    "print(palabra)"
   ]
  }
 ],
 "metadata": {
  "kernelspec": {
   "display_name": "Python 3",
   "language": "python",
   "name": "python3"
  },
  "language_info": {
   "codemirror_mode": {
    "name": "ipython",
    "version": 3
   },
   "file_extension": ".py",
   "mimetype": "text/x-python",
   "name": "python",
   "nbconvert_exporter": "python",
   "pygments_lexer": "ipython3",
   "version": "3.8.10"
  }
 },
 "nbformat": 4,
 "nbformat_minor": 5
}
