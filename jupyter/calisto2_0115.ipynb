{
 "cells": [
  {
   "cell_type": "markdown",
   "id": "9c475427",
   "metadata": {},
   "source": [
    "# Ejercicio con @property"
   ]
  },
  {
   "cell_type": "code",
   "execution_count": null,
   "id": "ba624d27",
   "metadata": {},
   "outputs": [],
   "source": [
    "class Producto:\n",
    "    def __init__(self, codigo, nombre, precio):\n",
    "        self.__codigo = codigo\n",
    "        self.__nombre = nombre\n",
    "        self.__precio = precio\n",
    "\n",
    "    @property                 # estas tres líneas son un Getter\n",
    "    def codigo(self):\n",
    "        return self.__codigo\n",
    "    @codigo.setter            # estas tres líneas son un Setter\n",
    "    def codigo(self, valor):\n",
    "        self.__codigo = valor\n",
    "        \n",
    "    @property\n",
    "    def nombre(self):\n",
    "        return self.__nombre\n",
    "    @codigo.setter\n",
    "    def nombre(self, valor):\n",
    "        self.__nombre = valor\n",
    "        \n",
    "    @property\n",
    "    def precio(self):\n",
    "        return self.__precio\n",
    "    @codigo.setter\n",
    "    def precio(self, valor):\n",
    "        self.__precio = valor\n",
    "        \n",
    "    def __str__(self):\n",
    "        return "
   ]
  }
 ],
 "metadata": {
  "kernelspec": {
   "display_name": "Python 3",
   "language": "python",
   "name": "python3"
  },
  "language_info": {
   "codemirror_mode": {
    "name": "ipython",
    "version": 3
   },
   "file_extension": ".py",
   "mimetype": "text/x-python",
   "name": "python",
   "nbconvert_exporter": "python",
   "pygments_lexer": "ipython3",
   "version": "3.8.8"
  }
 },
 "nbformat": 4,
 "nbformat_minor": 5
}
