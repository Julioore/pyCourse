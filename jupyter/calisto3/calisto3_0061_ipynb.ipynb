{
  "nbformat": 4,
  "nbformat_minor": 0,
  "metadata": {
    "colab": {
      "provenance": [],
      "authorship_tag": "ABX9TyO3zrBBPPmTeGXkny11x7yc",
      "include_colab_link": true
    },
    "kernelspec": {
      "name": "python3",
      "display_name": "Python 3"
    },
    "language_info": {
      "name": "python"
    }
  },
  "cells": [
    {
      "cell_type": "markdown",
      "metadata": {
        "id": "view-in-github",
        "colab_type": "text"
      },
      "source": [
        "<a href=\"https://colab.research.google.com/github/financieras/pyCourse/blob/main/jupyter/calisto3/calisto3_0061_ipynb.ipynb\" target=\"_parent\"><img src=\"https://colab.research.google.com/assets/colab-badge.svg\" alt=\"Open In Colab\"/></a>"
      ]
    },
    {
      "cell_type": "markdown",
      "source": [
        "# Sumar los elementos de una matriz"
      ],
      "metadata": {
        "id": "I9UDP1VX4Xig"
      }
    },
    {
      "cell_type": "markdown",
      "source": [
        "## Método 1\n",
        "Con doble bucle: dos ```for``` anidados."
      ],
      "metadata": {
        "id": "w5wtLDF84iSC"
      }
    },
    {
      "cell_type": "code",
      "source": [
        "m = [\n",
        "   [0,1,0,0,1,0],\n",
        "   [1,0,1,0,0,0],\n",
        "   [0,1,0,1,0,0],\n",
        "   [0,0,1,0,1,1],\n",
        "   [1,0,0,1,0,0],\n",
        "   [0,0,0,1,0,0],\n",
        "]\n",
        "\n",
        "total = 0\n",
        "for fila in m:\n",
        "    for elemento in fila:\n",
        "        total += elemento\n",
        "\n",
        "total"
      ],
      "metadata": {
        "colab": {
          "base_uri": "https://localhost:8080/"
        },
        "id": "meEaEewj3LId",
        "outputId": "8a0029f3-1edb-422f-e6c9-6f41e513c07d"
      },
      "execution_count": 6,
      "outputs": [
        {
          "output_type": "execute_result",
          "data": {
            "text/plain": [
              "12"
            ]
          },
          "metadata": {},
          "execution_count": 6
        }
      ]
    },
    {
      "cell_type": "markdown",
      "source": [
        "## Método 2\n",
        "List comprehension o más bien trabajando con tuplas."
      ],
      "metadata": {
        "id": "6O_Ke-rW4ut0"
      }
    },
    {
      "cell_type": "code",
      "source": [
        "matrix = [\n",
        "   [0,1,0,0,1,0],\n",
        "   [1,0,1,0,0,0],\n",
        "   [0,1,0,1,0,0],\n",
        "   [0,0,1,0,1,1],\n",
        "   [1,0,0,1,0,0],\n",
        "   [0,0,0,1,0,0],\n",
        "]\n",
        "sum(sum(matrix[fila]) for fila in range(len(matrix)))"
      ],
      "metadata": {
        "colab": {
          "base_uri": "https://localhost:8080/"
        },
        "id": "b7W3q9AwzG36",
        "outputId": "8641d425-6cfc-4d2e-bceb-328dbdf48652"
      },
      "execution_count": 16,
      "outputs": [
        {
          "output_type": "execute_result",
          "data": {
            "text/plain": [
              "12"
            ]
          },
          "metadata": {},
          "execution_count": 16
        }
      ]
    },
    {
      "cell_type": "markdown",
      "source": [
        "## Método 3\n",
        "Con la librería ```numpy```"
      ],
      "metadata": {
        "id": "QpmsxlRp5QfT"
      }
    },
    {
      "cell_type": "code",
      "execution_count": 4,
      "metadata": {
        "colab": {
          "base_uri": "https://localhost:8080/"
        },
        "id": "J1Pt21Pgxidl",
        "outputId": "cf774e5f-0e1e-4254-eda3-dc6692c837ad"
      },
      "outputs": [
        {
          "output_type": "execute_result",
          "data": {
            "text/plain": [
              "12"
            ]
          },
          "metadata": {},
          "execution_count": 4
        }
      ],
      "source": [
        "import numpy as np\n",
        "matriz = np.array([\n",
        "   [0,1,0,0,1,0],\n",
        "   [1,0,1,0,0,0],\n",
        "   [0,1,0,1,0,0],\n",
        "   [0,0,1,0,1,1],\n",
        "   [1,0,0,1,0,0],\n",
        "   [0,0,0,1,0,0],\n",
        "])\n",
        "np.sum(matriz)"
      ]
    }
  ]
}