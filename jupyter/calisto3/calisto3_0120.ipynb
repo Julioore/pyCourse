{
  "cells": [
    {
      "cell_type": "markdown",
      "metadata": {
        "id": "view-in-github",
        "colab_type": "text"
      },
      "source": [
        "<a href=\"https://colab.research.google.com/github/financieras/pyCourse/blob/main/jupyter/calisto3_0120.ipynb\" target=\"_parent\"><img src=\"https://colab.research.google.com/assets/colab-badge.svg\" alt=\"Open In Colab\"/></a>"
      ]
    },
    {
      "cell_type": "markdown",
      "metadata": {
        "id": "OYNhu_5xVYGP"
      },
      "source": [
        "# Matplotlib  \n",
        "Librería para gráficos en Python  \n",
        "Podemos ver la galería de gráficos que ofrece [https://matplotlib.org/stable/gallery/index.html](https://matplotlib.org/stable/gallery/index.html)"
      ]
    },
    {
      "cell_type": "markdown",
      "metadata": {
        "id": "9_FVynlqVYGb"
      },
      "source": [
        "## Gráficas de puntos o líneas  \n",
        "- Gráficas básicas  \n",
        "- Visualizar gran número de datos  \n",
        "- Analizar tendencias entre variables (correlaciones y para series temporales)"
      ]
    },
    {
      "cell_type": "markdown",
      "metadata": {
        "id": "pEoD-MY5VYGd"
      },
      "source": [
        "### Cargamos los datos del DataFrame"
      ]
    },
    {
      "cell_type": "code",
      "execution_count": 12,
      "metadata": {
        "id": "XhKsil2CVYGg"
      },
      "outputs": [],
      "source": [
        "# Importamos el paquete pandas para trabajar con el DataFrame\n",
        "import pandas as pd\n",
        "import numpy as np\n",
        "import matplotlib.pyplot as plt"
      ]
    },
    {
      "cell_type": "code",
      "execution_count": 2,
      "metadata": {
        "id": "c91JpreyVYGj",
        "outputId": "c0c9874b-447a-4ed3-e7cc-6e8a05524c0f",
        "colab": {
          "base_uri": "https://localhost:8080/"
        }
      },
      "outputs": [
        {
          "output_type": "execute_result",
          "data": {
            "text/plain": [
              "[['Facebook', 2740, True, 2006],\n",
              " ['Twitter', 339, False, 2006],\n",
              " ['Instagram', 1221, True, 2010],\n",
              " ['YouTube', 2291, False, 2005],\n",
              " ['LinkedIn', 727, False, 2003],\n",
              " ['WhatsApp', 2000, True, 2009],\n",
              " ['TikTok', 689, False, 2016],\n",
              " ['Telegram', 500, False, 2013]]"
            ]
          },
          "metadata": {},
          "execution_count": 2
        }
      ],
      "source": [
        "# creamos la matriz\n",
        "fbk = ['Facebook', 2740, True, 2006]\n",
        "twt = ['Twitter', 339, False, 2006]\n",
        "ig = ['Instagram', 1221, True, 2010]\n",
        "yt = ['YouTube', 2291, False, 2005]\n",
        "lkn = ['LinkedIn', 727, False, 2003]\n",
        "wsp = ['WhatsApp', 2000, True, 2009]\n",
        "tik = ['TikTok', 689, False, 2016]\n",
        "tel = ['Telegram', 500, False, 2013]\n",
        "\n",
        "rrss = [fbk,twt,ig,yt,lkn,wsp,tik,tel]    # redes sociales 2021\n",
        "rrss"
      ]
    },
    {
      "cell_type": "code",
      "execution_count": 3,
      "metadata": {
        "id": "63cqOoP4VYGp",
        "outputId": "9d31c999-07c9-4ba6-9ba5-236c6d14288b",
        "colab": {
          "base_uri": "https://localhost:8080/",
          "height": 300
        }
      },
      "outputs": [
        {
          "output_type": "execute_result",
          "data": {
            "text/plain": [
              "      Nombre  Usuarios  es_FBK   Año\n",
              "0   Facebook      2740    True  2006\n",
              "1    Twitter       339   False  2006\n",
              "2  Instagram      1221    True  2010\n",
              "3    YouTube      2291   False  2005\n",
              "4   LinkedIn       727   False  2003\n",
              "5   WhatsApp      2000    True  2009\n",
              "6     TikTok       689   False  2016\n",
              "7   Telegram       500   False  2013"
            ],
            "text/html": [
              "\n",
              "  <div id=\"df-2680277e-e5fa-4e57-9521-4151fc373e89\">\n",
              "    <div class=\"colab-df-container\">\n",
              "      <div>\n",
              "<style scoped>\n",
              "    .dataframe tbody tr th:only-of-type {\n",
              "        vertical-align: middle;\n",
              "    }\n",
              "\n",
              "    .dataframe tbody tr th {\n",
              "        vertical-align: top;\n",
              "    }\n",
              "\n",
              "    .dataframe thead th {\n",
              "        text-align: right;\n",
              "    }\n",
              "</style>\n",
              "<table border=\"1\" class=\"dataframe\">\n",
              "  <thead>\n",
              "    <tr style=\"text-align: right;\">\n",
              "      <th></th>\n",
              "      <th>Nombre</th>\n",
              "      <th>Usuarios</th>\n",
              "      <th>es_FBK</th>\n",
              "      <th>Año</th>\n",
              "    </tr>\n",
              "  </thead>\n",
              "  <tbody>\n",
              "    <tr>\n",
              "      <th>0</th>\n",
              "      <td>Facebook</td>\n",
              "      <td>2740</td>\n",
              "      <td>True</td>\n",
              "      <td>2006</td>\n",
              "    </tr>\n",
              "    <tr>\n",
              "      <th>1</th>\n",
              "      <td>Twitter</td>\n",
              "      <td>339</td>\n",
              "      <td>False</td>\n",
              "      <td>2006</td>\n",
              "    </tr>\n",
              "    <tr>\n",
              "      <th>2</th>\n",
              "      <td>Instagram</td>\n",
              "      <td>1221</td>\n",
              "      <td>True</td>\n",
              "      <td>2010</td>\n",
              "    </tr>\n",
              "    <tr>\n",
              "      <th>3</th>\n",
              "      <td>YouTube</td>\n",
              "      <td>2291</td>\n",
              "      <td>False</td>\n",
              "      <td>2005</td>\n",
              "    </tr>\n",
              "    <tr>\n",
              "      <th>4</th>\n",
              "      <td>LinkedIn</td>\n",
              "      <td>727</td>\n",
              "      <td>False</td>\n",
              "      <td>2003</td>\n",
              "    </tr>\n",
              "    <tr>\n",
              "      <th>5</th>\n",
              "      <td>WhatsApp</td>\n",
              "      <td>2000</td>\n",
              "      <td>True</td>\n",
              "      <td>2009</td>\n",
              "    </tr>\n",
              "    <tr>\n",
              "      <th>6</th>\n",
              "      <td>TikTok</td>\n",
              "      <td>689</td>\n",
              "      <td>False</td>\n",
              "      <td>2016</td>\n",
              "    </tr>\n",
              "    <tr>\n",
              "      <th>7</th>\n",
              "      <td>Telegram</td>\n",
              "      <td>500</td>\n",
              "      <td>False</td>\n",
              "      <td>2013</td>\n",
              "    </tr>\n",
              "  </tbody>\n",
              "</table>\n",
              "</div>\n",
              "      <button class=\"colab-df-convert\" onclick=\"convertToInteractive('df-2680277e-e5fa-4e57-9521-4151fc373e89')\"\n",
              "              title=\"Convert this dataframe to an interactive table.\"\n",
              "              style=\"display:none;\">\n",
              "        \n",
              "  <svg xmlns=\"http://www.w3.org/2000/svg\" height=\"24px\"viewBox=\"0 0 24 24\"\n",
              "       width=\"24px\">\n",
              "    <path d=\"M0 0h24v24H0V0z\" fill=\"none\"/>\n",
              "    <path d=\"M18.56 5.44l.94 2.06.94-2.06 2.06-.94-2.06-.94-.94-2.06-.94 2.06-2.06.94zm-11 1L8.5 8.5l.94-2.06 2.06-.94-2.06-.94L8.5 2.5l-.94 2.06-2.06.94zm10 10l.94 2.06.94-2.06 2.06-.94-2.06-.94-.94-2.06-.94 2.06-2.06.94z\"/><path d=\"M17.41 7.96l-1.37-1.37c-.4-.4-.92-.59-1.43-.59-.52 0-1.04.2-1.43.59L10.3 9.45l-7.72 7.72c-.78.78-.78 2.05 0 2.83L4 21.41c.39.39.9.59 1.41.59.51 0 1.02-.2 1.41-.59l7.78-7.78 2.81-2.81c.8-.78.8-2.07 0-2.86zM5.41 20L4 18.59l7.72-7.72 1.47 1.35L5.41 20z\"/>\n",
              "  </svg>\n",
              "      </button>\n",
              "      \n",
              "  <style>\n",
              "    .colab-df-container {\n",
              "      display:flex;\n",
              "      flex-wrap:wrap;\n",
              "      gap: 12px;\n",
              "    }\n",
              "\n",
              "    .colab-df-convert {\n",
              "      background-color: #E8F0FE;\n",
              "      border: none;\n",
              "      border-radius: 50%;\n",
              "      cursor: pointer;\n",
              "      display: none;\n",
              "      fill: #1967D2;\n",
              "      height: 32px;\n",
              "      padding: 0 0 0 0;\n",
              "      width: 32px;\n",
              "    }\n",
              "\n",
              "    .colab-df-convert:hover {\n",
              "      background-color: #E2EBFA;\n",
              "      box-shadow: 0px 1px 2px rgba(60, 64, 67, 0.3), 0px 1px 3px 1px rgba(60, 64, 67, 0.15);\n",
              "      fill: #174EA6;\n",
              "    }\n",
              "\n",
              "    [theme=dark] .colab-df-convert {\n",
              "      background-color: #3B4455;\n",
              "      fill: #D2E3FC;\n",
              "    }\n",
              "\n",
              "    [theme=dark] .colab-df-convert:hover {\n",
              "      background-color: #434B5C;\n",
              "      box-shadow: 0px 1px 3px 1px rgba(0, 0, 0, 0.15);\n",
              "      filter: drop-shadow(0px 1px 2px rgba(0, 0, 0, 0.3));\n",
              "      fill: #FFFFFF;\n",
              "    }\n",
              "  </style>\n",
              "\n",
              "      <script>\n",
              "        const buttonEl =\n",
              "          document.querySelector('#df-2680277e-e5fa-4e57-9521-4151fc373e89 button.colab-df-convert');\n",
              "        buttonEl.style.display =\n",
              "          google.colab.kernel.accessAllowed ? 'block' : 'none';\n",
              "\n",
              "        async function convertToInteractive(key) {\n",
              "          const element = document.querySelector('#df-2680277e-e5fa-4e57-9521-4151fc373e89');\n",
              "          const dataTable =\n",
              "            await google.colab.kernel.invokeFunction('convertToInteractive',\n",
              "                                                     [key], {});\n",
              "          if (!dataTable) return;\n",
              "\n",
              "          const docLinkHtml = 'Like what you see? Visit the ' +\n",
              "            '<a target=\"_blank\" href=https://colab.research.google.com/notebooks/data_table.ipynb>data table notebook</a>'\n",
              "            + ' to learn more about interactive tables.';\n",
              "          element.innerHTML = '';\n",
              "          dataTable['output_type'] = 'display_data';\n",
              "          await google.colab.output.renderOutput(dataTable, element);\n",
              "          const docLink = document.createElement('div');\n",
              "          docLink.innerHTML = docLinkHtml;\n",
              "          element.appendChild(docLink);\n",
              "        }\n",
              "      </script>\n",
              "    </div>\n",
              "  </div>\n",
              "  "
            ]
          },
          "metadata": {},
          "execution_count": 3
        }
      ],
      "source": [
        "# convertimos la matriz en un DataFrame\n",
        "df_rrss = pd.DataFrame(rrss, \n",
        "                     columns = ['Nombre', 'Usuarios', 'es_FBK', 'Año'])\n",
        "df_rrss"
      ]
    },
    {
      "cell_type": "markdown",
      "metadata": {
        "id": "heCqDfE8VYGs"
      },
      "source": [
        "### Hacer una gráfica utilizando listas"
      ]
    },
    {
      "cell_type": "code",
      "execution_count": 4,
      "metadata": {
        "id": "AcyyNGs_VYGt"
      },
      "outputs": [],
      "source": [
        "# Importamos el paquete\n",
        "import matplotlib.pyplot as plt"
      ]
    },
    {
      "cell_type": "code",
      "execution_count": 5,
      "metadata": {
        "id": "sbkt890vVYGv",
        "outputId": "ac305a54-b359-46b9-94e6-98171daab9de",
        "colab": {
          "base_uri": "https://localhost:8080/",
          "height": 265
        }
      },
      "outputs": [
        {
          "output_type": "display_data",
          "data": {
            "text/plain": [
              "<Figure size 432x288 with 1 Axes>"
            ],
            "image/png": "[encoded data removed]"
          },
          "metadata": {
            "needs_background": "light"
          }
        }
      ],
      "source": [
        "# ejemplo \n",
        "x = [1, 2, 3, 4, 5]\n",
        "y = [1, 8, 27, 64, 125]   # cubos\n",
        "plt.plot(x, y)\n",
        "plt.show()"
      ]
    },
    {
      "cell_type": "markdown",
      "metadata": {
        "id": "JNsVK4USVYGy"
      },
      "source": [
        "### Gráfico de líneas con el DataFrame"
      ]
    },
    {
      "cell_type": "code",
      "execution_count": 6,
      "metadata": {
        "id": "GqbpUCuwVYG6",
        "outputId": "727d88c4-0932-485f-e216-648f259380cd",
        "colab": {
          "base_uri": "https://localhost:8080/",
          "height": 265
        }
      },
      "outputs": [
        {
          "output_type": "display_data",
          "data": {
            "text/plain": [
              "<Figure size 432x288 with 1 Axes>"
            ],
            "image/png": "[encoded data removed]"
          },
          "metadata": {
            "needs_background": "light"
          }
        }
      ],
      "source": [
        "plt.plot(df_rrss['Nombre'], df_rrss['Usuarios'])\n",
        "plt.show()"
      ]
    },
    {
      "cell_type": "markdown",
      "metadata": {
        "id": "OJGdkLIeVYG-"
      },
      "source": [
        "## Gráfico de puntos"
      ]
    },
    {
      "cell_type": "code",
      "execution_count": 7,
      "metadata": {
        "id": "ho8sNnBEVYG_",
        "outputId": "699e9060-780a-4787-a781-7e4b1ee1a93e",
        "colab": {
          "base_uri": "https://localhost:8080/",
          "height": 265
        }
      },
      "outputs": [
        {
          "output_type": "display_data",
          "data": {
            "text/plain": [
              "<Figure size 432x288 with 1 Axes>"
            ],
            "image/png": "[encoded data removed]"
          },
          "metadata": {
            "needs_background": "light"
          }
        }
      ],
      "source": [
        "plt.scatter(df_rrss['Nombre'], df_rrss['Usuarios'])\n",
        "plt.show()"
      ]
    },
    {
      "cell_type": "markdown",
      "metadata": {
        "id": "KXInRvUGVYHB"
      },
      "source": [
        "#### Con Pandas  \n",
        "Utilizando un método de Pandas sobre el DataFrame obtenemos un gráfico similar al anterior."
      ]
    },
    {
      "cell_type": "code",
      "execution_count": 8,
      "metadata": {
        "id": "YzCYchVmVYHD",
        "outputId": "6987662e-8ad3-4416-ee69-978d8681a00c",
        "colab": {
          "base_uri": "https://localhost:8080/",
          "height": 279
        }
      },
      "outputs": [
        {
          "output_type": "display_data",
          "data": {
            "text/plain": [
              "<Figure size 432x288 with 1 Axes>"
            ],
            "image/png": "[encoded data removed]"
          },
          "metadata": {
            "needs_background": "light"
          }
        }
      ],
      "source": [
        "df_rrss.plot(kind = 'scatter', x = 'Nombre', y = 'Usuarios')\n",
        "plt.show()"
      ]
    },
    {
      "cell_type": "markdown",
      "metadata": {
        "id": "5hqReo0XVYHE"
      },
      "source": [
        "## Gráficos de barras  "
      ]
    },
    {
      "cell_type": "code",
      "execution_count": 9,
      "metadata": {
        "id": "w2BrvB1gVYHL",
        "outputId": "93ed699c-95a3-415b-aa07-4378b34de0bb",
        "colab": {
          "base_uri": "https://localhost:8080/",
          "height": 265
        }
      },
      "outputs": [
        {
          "output_type": "display_data",
          "data": {
            "text/plain": [
              "<Figure size 432x288 with 1 Axes>"
            ],
            "image/png": "[encoded data removed]"
          },
          "metadata": {
            "needs_background": "light"
          }
        }
      ],
      "source": [
        "plt.bar(df_rrss['Nombre'], df_rrss['Usuarios'])\n",
        "plt.show()"
      ]
    },
    {
      "cell_type": "markdown",
      "metadata": {
        "id": "nOidSFJtVYHP"
      },
      "source": [
        "### Gráfico de barras ordenado"
      ]
    },
    {
      "cell_type": "code",
      "execution_count": 10,
      "metadata": {
        "id": "mBAKx3-cVYHQ",
        "outputId": "1da50936-6ac9-485c-becc-e073159b1c4e",
        "colab": {
          "base_uri": "https://localhost:8080/",
          "height": 265
        }
      },
      "outputs": [
        {
          "output_type": "display_data",
          "data": {
            "text/plain": [
              "<Figure size 432x288 with 1 Axes>"
            ],
            "image/png": "[encoded data removed]"
          },
          "metadata": {
            "needs_background": "light"
          }
        }
      ],
      "source": [
        "df_rrss_sort = df_rrss.sort_values('Usuarios', ascending = False)\n",
        "plt.bar(df_rrss_sort['Nombre'], df_rrss_sort['Usuarios'])\n",
        "plt.show()"
      ]
    },
    {
      "cell_type": "markdown",
      "metadata": {
        "id": "tbTuY9cJVYHR"
      },
      "source": [
        "#### Colores en las barras"
      ]
    },
    {
      "cell_type": "code",
      "execution_count": 13,
      "metadata": {
        "id": "ztBtQLexVYHS",
        "outputId": "9ec6ed95-59bd-4c2b-f8ba-3baffd97901d",
        "colab": {
          "base_uri": "https://localhost:8080/",
          "height": 265
        }
      },
      "outputs": [
        {
          "output_type": "display_data",
          "data": {
            "text/plain": [
              "<Figure size 432x288 with 1 Axes>"
            ],
            "image/png": "[encoded data removed]"
          },
          "metadata": {
            "needs_background": "light"
          }
        }
      ],
      "source": [
        "# gráfico de barras ordenado, con color y leyenda de barras\n",
        "\n",
        "# cambiamos el color del fondo\n",
        "ax = plt.axes()\n",
        "ax.set_facecolor(\"orange\")    \n",
        "\n",
        "# construimos el gráfico de barras\n",
        "plt.bar(df_rrss_sort['Nombre'],\n",
        "        df_rrss_sort['Usuarios'],\n",
        "        color = ['b', 'g', 'r', 'c', 'm', 'y', 'w', 'k'])\n",
        "\n",
        "# Creamos los nombres del eje x\n",
        "bars = ('fbk', 'twt', 'ig', 'yt', 'lkn', 'wsp', 'tik', 'tel')\n",
        "x_pos = np.arange(len(bars))\n",
        "plt.xticks(x_pos, bars)\n",
        "\n",
        "plt.show()\n",
        "\n",
        "# b: blue\n",
        "# g: green\n",
        "# r: red\n",
        "# c: cyan\n",
        "# m: magenta\n",
        "# y: yellow\n",
        "# k: black\n",
        "# w: white"
      ]
    },
    {
      "cell_type": "markdown",
      "metadata": {
        "id": "Im6AXmJvVYHU"
      },
      "source": [
        "## Gráficos de sectores (tarta - pie)"
      ]
    },
    {
      "cell_type": "code",
      "execution_count": null,
      "metadata": {
        "id": "EUQjiRI2VYHa"
      },
      "outputs": [],
      "source": [
        "# utilizando matplotlib\n",
        "plt.pie(df_rrss['Usuarios'],\n",
        "       labels = df_rrss['Nombre'])\n",
        "plt.show()"
      ]
    },
    {
      "cell_type": "code",
      "execution_count": null,
      "metadata": {
        "id": "zfgN6xnnVYHj"
      },
      "outputs": [],
      "source": [
        "# lista personalizada de colores\n",
        "lista_color_rrss = ['#3b5998', '#FF0000', '#25d366', '#8a3ab9', '#0e76a8', '#ee1d52', '#4995be', '#00acee']"
      ]
    },
    {
      "cell_type": "code",
      "execution_count": null,
      "metadata": {
        "id": "00eJLQD2VYHu"
      },
      "outputs": [],
      "source": [
        "plt.pie(df_rrss_sort['Usuarios'],\n",
        "       labels = df_rrss_sort['Nombre'],\n",
        "       colors = lista_color_rrss)\n",
        "plt.show()"
      ]
    },
    {
      "cell_type": "code",
      "execution_count": null,
      "metadata": {
        "id": "mjS3pcPBVYHx"
      },
      "outputs": [],
      "source": [
        "df_rrss_sort"
      ]
    },
    {
      "cell_type": "markdown",
      "metadata": {
        "id": "78LNUNnmVYHy"
      },
      "source": [
        "## Gráficos aleatorios"
      ]
    },
    {
      "cell_type": "code",
      "execution_count": null,
      "metadata": {
        "id": "_n22gef0VYHy"
      },
      "outputs": [],
      "source": [
        "import numpy as np\n",
        "import matplotlib.pyplot as plt\n",
        "\n",
        "n = 100\n",
        "x = np.random.rand(n)\n",
        "y = np.random.rand(n)\n",
        "colors = np.random.rand(n)\n",
        "area = np.pi*(15 * np.random.rand(n))**2  # 0 to 15 point radii\n",
        "\n",
        "plt.scatter(x, y, s=area, c=colors, alpha=0.5)\n",
        "plt.show()"
      ]
    },
    {
      "cell_type": "code",
      "execution_count": null,
      "metadata": {
        "id": "sHLed7V3VYID"
      },
      "outputs": [],
      "source": [
        "%echo \"hola\""
      ]
    }
  ],
  "metadata": {
    "kernelspec": {
      "display_name": "Python 3 (ipykernel)",
      "language": "python",
      "name": "python3"
    },
    "language_info": {
      "codemirror_mode": {
        "name": "ipython",
        "version": 3
      },
      "file_extension": ".py",
      "mimetype": "text/x-python",
      "name": "python",
      "nbconvert_exporter": "python",
      "pygments_lexer": "ipython3",
      "version": "3.8.11"
    },
    "colab": {
      "name": "calisto3_0120.ipynb",
      "provenance": [],
      "include_colab_link": true
    }
  },
  "nbformat": 4,
  "nbformat_minor": 0
}